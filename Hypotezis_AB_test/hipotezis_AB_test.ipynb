{
 "cells": [
  {
   "cell_type": "markdown",
   "metadata": {},
   "source": [
    "# Приоритизация гипотез. Анализ A/B - теста"
   ]
  },
  {
   "cell_type": "markdown",
   "metadata": {},
   "source": [
    "# Описание проекта:"
   ]
  },
  {
   "cell_type": "markdown",
   "metadata": {},
   "source": [
    "Я — аналитик крупного интернет-магазина. Вместе с отделом маркетинга мы подготовили список гипотез для увеличения выручки.\n",
    "Приоритизируем гипотезы, запустим A/B-тест и проанализируем результаты."
   ]
  },
  {
   "cell_type": "markdown",
   "metadata": {},
   "source": [
    "# Описание данных:\n",
    "\n",
    "**Данные для первой части**\n",
    "\n",
    "`/datasets/hypothesis.csv.`\n",
    "- Hypothesis — краткое описание гипотезы;\n",
    "- Reach — охват пользователей по 10-балльной шкале;\n",
    "- Impact — влияние на пользователей по 10-балльной шкале;\n",
    "- Confidence — уверенность в гипотезе по 10-балльной шкале;\n",
    "- Efforts — затраты ресурсов на проверку гипотезы по 10-балльной шкале. Чем больше значение Efforts, тем дороже проверка гипотезы.\n",
    "\n",
    "**Данные для второй части:**\n",
    "\n",
    "`/datasets/orders.csv.`\n",
    "- transactionId — идентификатор заказа;\n",
    "- visitorId — идентификатор пользователя, совершившего заказ;\n",
    "- date — дата, когда был совершён заказ;\n",
    "- revenue — выручка заказа;\n",
    "- group — группа A/B-теста, в которую попал заказ.\n",
    "\n",
    "`/datasets/visitors.csv.`\n",
    "- date — дата;\n",
    "- group — группа A/B-теста;\n",
    "- visitors — количество пользователей в указанную дату в указанной группе A/B-теста"
   ]
  },
  {
   "cell_type": "markdown",
   "metadata": {},
   "source": [
    "# Приоритизация гипотез."
   ]
  },
  {
   "cell_type": "markdown",
   "metadata": {},
   "source": [
    "В файле `/datasets/hypothesis.csv` 9 гипотез по увеличению выручки интернет-магазина с указанными параметрами Reach, Impact, Confidence, Effort.\n",
    "\n",
    "Задача:\n",
    "1. Примените фреймворк ICE для приоритизации гипотез. Отсортируйте их по убыванию приоритета.\n",
    "2. Примените фреймворк RICE для приоритизации гипотез. Отсортируйте их по убыванию приоритета.\n",
    "3. Укажите, как изменилась приоритизация гипотез при применении RICE вместо ICE. Объясните, почему так произошло."
   ]
  },
  {
   "cell_type": "markdown",
   "metadata": {},
   "source": [
    "# Анализ A/B-теста"
   ]
  },
  {
   "cell_type": "markdown",
   "metadata": {},
   "source": [
    "Вы провели A/B-тест и получили результаты, которые описаны в файлах `/datasets/orders.csv` и `/datasets/visitors.csv`.\n",
    "\n",
    "Задача\n",
    "\n",
    "Проанализируйте A/B-тест:\n",
    "1. Постройте график кумулятивной выручки по группам. Сделайте выводы и предположения.\n",
    "2. Постройте график кумулятивного среднего чека по группам. Сделайте выводы и предположения.\n",
    "3. Постройте график относительного изменения кумулятивного среднего чека группы B к группе A. Сделайте выводы и предположения.\n",
    "4. Постройте график кумулятивного среднего количества заказов по группам. Сделайте выводы и предположения.\n",
    "5. Постройте график относительного изменения кумулятивного среднего количества заказов группы B к группе A. Сделайте выводы и предположения.\n",
    "6. Постройте точечный график количества заказов по пользователям. Сделайте выводы и предположения.\n",
    "7. Посчитайте 95-й и 99-й перцентили количества заказов на пользователя. Выберите границу для определения аномальных пользователей.\n",
    "8. Постройте точечный график стоимостей заказов. Сделайте выводы и предположения.\n",
    "9. Посчитайте 95-й и 99-й перцентили стоимости заказов. Выберите границу для определения аномальных заказов.\n",
    "10. Посчитайте статистическую значимость различий в среднем количестве заказов между группами по «сырым» данным. Сделайте выводы и предположения.\n",
    "11. Посчитайте статистическую значимость различий в среднем чеке заказа между группами по «сырым» данным. Сделайте выводы и предположения.\n",
    "12. Посчитайте статистическую значимость различий в среднем количестве заказов между группами по «очищенным» данным. Сделайте выводы и предположения.\n",
    "13. Посчитайте статистическую значимость различий в среднем чеке заказа между группами по «очищенным» данным. Сделайте выводы и предположения.\n",
    "14. Примите решение по результатам теста и объясните его. Варианты решений: 1. Остановить тест, зафиксировать победу одной из групп. 2. Остановить тест, зафиксировать отсутствие различий между группами. 3. Продолжить тест."
   ]
  },
  {
   "cell_type": "markdown",
   "metadata": {},
   "source": [
    "**Цель исследования** - Исследовать гипотезы \n",
    "\n",
    "Вместе с отделом маркетинга увеличить выручку \n",
    "\n",
    "Нам предстоит провести:\n",
    "\n",
    "1. Часть 1. Приоритезацию гипотиз\n",
    "2. Часть 2. Анализ A/B-теста"
   ]
  },
  {
   "cell_type": "markdown",
   "metadata": {},
   "source": [
    "**Ход исселдования** \n",
    "\n",
    "Данные о приоритизации гипотиз мы получучаем из файла: \n",
    "1. приоритизация гипотез: `/datasets/hypothesis.csv`\n",
    "\n",
    "2. проведение анализа A/B теста: `/datasets/orders.csv` и `/datasets/visitors.csv`\n",
    "\n",
    "О качестве данных  ничего не известно. Поэтому перед проверкой гипотиз проведём обзор данных.\n",
    "Проверим данные и оценим их влияние на исследование. Исправим критические ошибки в данных, если они есть.\n",
    "\n",
    "Исследование пройдёт в 3 этапа:\n",
    "\n",
    "1. Проверка данных\n",
    "2. Приоритизация результатов гипотез\n",
    "3. Анализ A/B теста "
   ]
  },
  {
   "cell_type": "markdown",
   "metadata": {},
   "source": [
    "### Загрузим данные и подготовим их к анализу "
   ]
  },
  {
   "cell_type": "markdown",
   "metadata": {},
   "source": [
    "Загрузим данные для исследования \n",
    "\n",
    "**Пути к файлам**\n",
    "-  `/datasets/hypothesis.csv` - гипотезы\n",
    "-  `/datasets/orders.csv` - заказы\n",
    "-  `/datasets/visitors.csv` - пользователи\n"
   ]
  },
  {
   "cell_type": "markdown",
   "metadata": {},
   "source": [
    "#### Загружаем необходимые библиотеки "
   ]
  },
  {
   "cell_type": "code",
   "execution_count": 106,
   "metadata": {},
   "outputs": [],
   "source": [
    "# Импортируем необходимые модули для работы с проектом\n",
    "import pandas as pd\n",
    "import scipy.stats as stats\n",
    "import datetime as dt\n",
    "import numpy as np\n",
    "import matplotlib.pyplot as plt"
   ]
  },
  {
   "cell_type": "markdown",
   "metadata": {},
   "source": [
    "#### Загрузим данные в переменные"
   ]
  },
  {
   "cell_type": "code",
   "execution_count": 107,
   "metadata": {},
   "outputs": [],
   "source": [
    "# Загрузим датасеты в переменные: data, orders, visitors \n",
    "try:data = pd.read_csv('https://code.s3.yandex.net/datasets/hypothesis.csv') \n",
    "except:data = pd.read_csv('https://code.s3.yandex.net/datasets/hypothesis.csv')\n",
    "try:orders = pd.read_csv('https://code.s3.yandex.net/datasets/orders.csv')\n",
    "except:orders = pd.read_csv('https://code.s3.yandex.net/datasets/orders.csv')\n",
    "try:visitors = pd.read_csv('https://code.s3.yandex.net/datasets/visitors.csv')\n",
    "except:visitors = pd.read_csv('https://code.s3.yandex.net/datasets/visitors.csv')"
   ]
  },
  {
   "cell_type": "markdown",
   "metadata": {},
   "source": [
    "##### Выведем информацию  на экран: посмотрим на данные в целом"
   ]
  },
  {
   "cell_type": "code",
   "execution_count": 108,
   "metadata": {},
   "outputs": [
    {
     "name": "stdout",
     "output_type": "stream",
     "text": [
      "<class 'pandas.core.frame.DataFrame'>\n",
      "RangeIndex: 9 entries, 0 to 8\n",
      "Data columns (total 5 columns):\n",
      " #   Column      Non-Null Count  Dtype \n",
      "---  ------      --------------  ----- \n",
      " 0   Hypothesis  9 non-null      object\n",
      " 1   Reach       9 non-null      int64 \n",
      " 2   Impact      9 non-null      int64 \n",
      " 3   Confidence  9 non-null      int64 \n",
      " 4   Efforts     9 non-null      int64 \n",
      "dtypes: int64(4), object(1)\n",
      "memory usage: 488.0+ bytes\n"
     ]
    }
   ],
   "source": [
    "# выводим информацию о гипотезах\n",
    "data.info()"
   ]
  },
  {
   "cell_type": "code",
   "execution_count": 109,
   "metadata": {},
   "outputs": [
    {
     "data": {
      "text/html": [
       "<div>\n",
       "<style scoped>\n",
       "    .dataframe tbody tr th:only-of-type {\n",
       "        vertical-align: middle;\n",
       "    }\n",
       "\n",
       "    .dataframe tbody tr th {\n",
       "        vertical-align: top;\n",
       "    }\n",
       "\n",
       "    .dataframe thead th {\n",
       "        text-align: right;\n",
       "    }\n",
       "</style>\n",
       "<table border=\"1\" class=\"dataframe\">\n",
       "  <thead>\n",
       "    <tr style=\"text-align: right;\">\n",
       "      <th></th>\n",
       "      <th>Hypothesis</th>\n",
       "      <th>Reach</th>\n",
       "      <th>Impact</th>\n",
       "      <th>Confidence</th>\n",
       "      <th>Efforts</th>\n",
       "    </tr>\n",
       "  </thead>\n",
       "  <tbody>\n",
       "    <tr>\n",
       "      <th>0</th>\n",
       "      <td>Добавить два новых канала привлечения трафика, что позволит привлекать на 30% больше пользователей</td>\n",
       "      <td>3</td>\n",
       "      <td>10</td>\n",
       "      <td>8</td>\n",
       "      <td>6</td>\n",
       "    </tr>\n",
       "    <tr>\n",
       "      <th>1</th>\n",
       "      <td>Запустить собственную службу доставки, что сократит срок доставки заказов</td>\n",
       "      <td>2</td>\n",
       "      <td>5</td>\n",
       "      <td>4</td>\n",
       "      <td>10</td>\n",
       "    </tr>\n",
       "    <tr>\n",
       "      <th>2</th>\n",
       "      <td>Добавить блоки рекомендаций товаров на сайт интернет магазина, чтобы повысить конверсию и средний чек заказа</td>\n",
       "      <td>8</td>\n",
       "      <td>3</td>\n",
       "      <td>7</td>\n",
       "      <td>3</td>\n",
       "    </tr>\n",
       "    <tr>\n",
       "      <th>3</th>\n",
       "      <td>Изменить структура категорий, что увеличит конверсию, т.к. пользователи быстрее найдут нужный товар</td>\n",
       "      <td>8</td>\n",
       "      <td>3</td>\n",
       "      <td>3</td>\n",
       "      <td>8</td>\n",
       "    </tr>\n",
       "    <tr>\n",
       "      <th>4</th>\n",
       "      <td>Изменить цвет фона главной страницы, чтобы увеличить вовлеченность пользователей</td>\n",
       "      <td>3</td>\n",
       "      <td>1</td>\n",
       "      <td>1</td>\n",
       "      <td>1</td>\n",
       "    </tr>\n",
       "    <tr>\n",
       "      <th>5</th>\n",
       "      <td>Добавить страницу отзывов клиентов о магазине, что позволит увеличить количество заказов</td>\n",
       "      <td>3</td>\n",
       "      <td>2</td>\n",
       "      <td>2</td>\n",
       "      <td>3</td>\n",
       "    </tr>\n",
       "    <tr>\n",
       "      <th>6</th>\n",
       "      <td>Показать на главной странице баннеры с актуальными акциями и распродажами, чтобы увеличить конверсию</td>\n",
       "      <td>5</td>\n",
       "      <td>3</td>\n",
       "      <td>8</td>\n",
       "      <td>3</td>\n",
       "    </tr>\n",
       "    <tr>\n",
       "      <th>7</th>\n",
       "      <td>Добавить форму подписки на все основные страницы, чтобы собрать базу клиентов для email-рассылок</td>\n",
       "      <td>10</td>\n",
       "      <td>7</td>\n",
       "      <td>8</td>\n",
       "      <td>5</td>\n",
       "    </tr>\n",
       "    <tr>\n",
       "      <th>8</th>\n",
       "      <td>Запустить акцию, дающую скидку на товар в день рождения</td>\n",
       "      <td>1</td>\n",
       "      <td>9</td>\n",
       "      <td>9</td>\n",
       "      <td>5</td>\n",
       "    </tr>\n",
       "  </tbody>\n",
       "</table>\n",
       "</div>"
      ],
      "text/plain": [
       "                                                                                                     Hypothesis  \\\n",
       "0            Добавить два новых канала привлечения трафика, что позволит привлекать на 30% больше пользователей   \n",
       "1                                     Запустить собственную службу доставки, что сократит срок доставки заказов   \n",
       "2  Добавить блоки рекомендаций товаров на сайт интернет магазина, чтобы повысить конверсию и средний чек заказа   \n",
       "3           Изменить структура категорий, что увеличит конверсию, т.к. пользователи быстрее найдут нужный товар   \n",
       "4                              Изменить цвет фона главной страницы, чтобы увеличить вовлеченность пользователей   \n",
       "5                      Добавить страницу отзывов клиентов о магазине, что позволит увеличить количество заказов   \n",
       "6          Показать на главной странице баннеры с актуальными акциями и распродажами, чтобы увеличить конверсию   \n",
       "7              Добавить форму подписки на все основные страницы, чтобы собрать базу клиентов для email-рассылок   \n",
       "8                                                       Запустить акцию, дающую скидку на товар в день рождения   \n",
       "\n",
       "   Reach  Impact  Confidence  Efforts  \n",
       "0      3      10           8        6  \n",
       "1      2       5           4       10  \n",
       "2      8       3           7        3  \n",
       "3      8       3           3        8  \n",
       "4      3       1           1        1  \n",
       "5      3       2           2        3  \n",
       "6      5       3           8        3  \n",
       "7     10       7           8        5  \n",
       "8      1       9           9        5  "
      ]
     },
     "metadata": {},
     "output_type": "display_data"
    }
   ],
   "source": [
    "# Посмотрим на таблицу о гипотезах \n",
    "display(data)"
   ]
  },
  {
   "cell_type": "code",
   "execution_count": 110,
   "metadata": {},
   "outputs": [
    {
     "name": "stdout",
     "output_type": "stream",
     "text": [
      "<class 'pandas.core.frame.DataFrame'>\n",
      "RangeIndex: 1197 entries, 0 to 1196\n",
      "Data columns (total 5 columns):\n",
      " #   Column         Non-Null Count  Dtype \n",
      "---  ------         --------------  ----- \n",
      " 0   transactionId  1197 non-null   int64 \n",
      " 1   visitorId      1197 non-null   int64 \n",
      " 2   date           1197 non-null   object\n",
      " 3   revenue        1197 non-null   int64 \n",
      " 4   group          1197 non-null   object\n",
      "dtypes: int64(3), object(2)\n",
      "memory usage: 46.9+ KB\n"
     ]
    }
   ],
   "source": [
    "# выводим информацию о заказах\n",
    "orders.info()"
   ]
  },
  {
   "cell_type": "code",
   "execution_count": 111,
   "metadata": {},
   "outputs": [
    {
     "data": {
      "text/html": [
       "<div>\n",
       "<style scoped>\n",
       "    .dataframe tbody tr th:only-of-type {\n",
       "        vertical-align: middle;\n",
       "    }\n",
       "\n",
       "    .dataframe tbody tr th {\n",
       "        vertical-align: top;\n",
       "    }\n",
       "\n",
       "    .dataframe thead th {\n",
       "        text-align: right;\n",
       "    }\n",
       "</style>\n",
       "<table border=\"1\" class=\"dataframe\">\n",
       "  <thead>\n",
       "    <tr style=\"text-align: right;\">\n",
       "      <th></th>\n",
       "      <th>transactionId</th>\n",
       "      <th>visitorId</th>\n",
       "      <th>date</th>\n",
       "      <th>revenue</th>\n",
       "      <th>group</th>\n",
       "    </tr>\n",
       "  </thead>\n",
       "  <tbody>\n",
       "    <tr>\n",
       "      <th>0</th>\n",
       "      <td>3667963787</td>\n",
       "      <td>3312258926</td>\n",
       "      <td>2019-08-15</td>\n",
       "      <td>1650</td>\n",
       "      <td>B</td>\n",
       "    </tr>\n",
       "    <tr>\n",
       "      <th>1</th>\n",
       "      <td>2804400009</td>\n",
       "      <td>3642806036</td>\n",
       "      <td>2019-08-15</td>\n",
       "      <td>730</td>\n",
       "      <td>B</td>\n",
       "    </tr>\n",
       "    <tr>\n",
       "      <th>2</th>\n",
       "      <td>2961555356</td>\n",
       "      <td>4069496402</td>\n",
       "      <td>2019-08-15</td>\n",
       "      <td>400</td>\n",
       "      <td>A</td>\n",
       "    </tr>\n",
       "    <tr>\n",
       "      <th>3</th>\n",
       "      <td>3797467345</td>\n",
       "      <td>1196621759</td>\n",
       "      <td>2019-08-15</td>\n",
       "      <td>9759</td>\n",
       "      <td>B</td>\n",
       "    </tr>\n",
       "    <tr>\n",
       "      <th>4</th>\n",
       "      <td>2282983706</td>\n",
       "      <td>2322279887</td>\n",
       "      <td>2019-08-15</td>\n",
       "      <td>2308</td>\n",
       "      <td>B</td>\n",
       "    </tr>\n",
       "    <tr>\n",
       "      <th>...</th>\n",
       "      <td>...</td>\n",
       "      <td>...</td>\n",
       "      <td>...</td>\n",
       "      <td>...</td>\n",
       "      <td>...</td>\n",
       "    </tr>\n",
       "    <tr>\n",
       "      <th>1192</th>\n",
       "      <td>2662137336</td>\n",
       "      <td>3733762160</td>\n",
       "      <td>2019-08-14</td>\n",
       "      <td>6490</td>\n",
       "      <td>B</td>\n",
       "    </tr>\n",
       "    <tr>\n",
       "      <th>1193</th>\n",
       "      <td>2203539145</td>\n",
       "      <td>370388673</td>\n",
       "      <td>2019-08-14</td>\n",
       "      <td>3190</td>\n",
       "      <td>A</td>\n",
       "    </tr>\n",
       "    <tr>\n",
       "      <th>1194</th>\n",
       "      <td>1807773912</td>\n",
       "      <td>573423106</td>\n",
       "      <td>2019-08-14</td>\n",
       "      <td>10550</td>\n",
       "      <td>A</td>\n",
       "    </tr>\n",
       "    <tr>\n",
       "      <th>1195</th>\n",
       "      <td>1947021204</td>\n",
       "      <td>1614305549</td>\n",
       "      <td>2019-08-14</td>\n",
       "      <td>100</td>\n",
       "      <td>A</td>\n",
       "    </tr>\n",
       "    <tr>\n",
       "      <th>1196</th>\n",
       "      <td>3936777065</td>\n",
       "      <td>2108080724</td>\n",
       "      <td>2019-08-15</td>\n",
       "      <td>202740</td>\n",
       "      <td>B</td>\n",
       "    </tr>\n",
       "  </tbody>\n",
       "</table>\n",
       "<p>1197 rows × 5 columns</p>\n",
       "</div>"
      ],
      "text/plain": [
       "      transactionId   visitorId        date  revenue group\n",
       "0        3667963787  3312258926  2019-08-15     1650     B\n",
       "1        2804400009  3642806036  2019-08-15      730     B\n",
       "2        2961555356  4069496402  2019-08-15      400     A\n",
       "3        3797467345  1196621759  2019-08-15     9759     B\n",
       "4        2282983706  2322279887  2019-08-15     2308     B\n",
       "...             ...         ...         ...      ...   ...\n",
       "1192     2662137336  3733762160  2019-08-14     6490     B\n",
       "1193     2203539145   370388673  2019-08-14     3190     A\n",
       "1194     1807773912   573423106  2019-08-14    10550     A\n",
       "1195     1947021204  1614305549  2019-08-14      100     A\n",
       "1196     3936777065  2108080724  2019-08-15   202740     B\n",
       "\n",
       "[1197 rows x 5 columns]"
      ]
     },
     "metadata": {},
     "output_type": "display_data"
    }
   ],
   "source": [
    "# посмотрим на таблицу о заказах\n",
    "display(orders)"
   ]
  },
  {
   "cell_type": "code",
   "execution_count": 112,
   "metadata": {},
   "outputs": [
    {
     "name": "stdout",
     "output_type": "stream",
     "text": [
      "<class 'pandas.core.frame.DataFrame'>\n",
      "RangeIndex: 62 entries, 0 to 61\n",
      "Data columns (total 3 columns):\n",
      " #   Column    Non-Null Count  Dtype \n",
      "---  ------    --------------  ----- \n",
      " 0   date      62 non-null     object\n",
      " 1   group     62 non-null     object\n",
      " 2   visitors  62 non-null     int64 \n",
      "dtypes: int64(1), object(2)\n",
      "memory usage: 1.6+ KB\n"
     ]
    }
   ],
   "source": [
    "# посмотрим на таблицу о пользователях\n",
    "visitors.info()"
   ]
  },
  {
   "cell_type": "code",
   "execution_count": 113,
   "metadata": {},
   "outputs": [
    {
     "data": {
      "text/html": [
       "<div>\n",
       "<style scoped>\n",
       "    .dataframe tbody tr th:only-of-type {\n",
       "        vertical-align: middle;\n",
       "    }\n",
       "\n",
       "    .dataframe tbody tr th {\n",
       "        vertical-align: top;\n",
       "    }\n",
       "\n",
       "    .dataframe thead th {\n",
       "        text-align: right;\n",
       "    }\n",
       "</style>\n",
       "<table border=\"1\" class=\"dataframe\">\n",
       "  <thead>\n",
       "    <tr style=\"text-align: right;\">\n",
       "      <th></th>\n",
       "      <th>date</th>\n",
       "      <th>group</th>\n",
       "      <th>visitors</th>\n",
       "    </tr>\n",
       "  </thead>\n",
       "  <tbody>\n",
       "    <tr>\n",
       "      <th>0</th>\n",
       "      <td>2019-08-01</td>\n",
       "      <td>A</td>\n",
       "      <td>719</td>\n",
       "    </tr>\n",
       "    <tr>\n",
       "      <th>1</th>\n",
       "      <td>2019-08-02</td>\n",
       "      <td>A</td>\n",
       "      <td>619</td>\n",
       "    </tr>\n",
       "    <tr>\n",
       "      <th>2</th>\n",
       "      <td>2019-08-03</td>\n",
       "      <td>A</td>\n",
       "      <td>507</td>\n",
       "    </tr>\n",
       "    <tr>\n",
       "      <th>3</th>\n",
       "      <td>2019-08-04</td>\n",
       "      <td>A</td>\n",
       "      <td>717</td>\n",
       "    </tr>\n",
       "    <tr>\n",
       "      <th>4</th>\n",
       "      <td>2019-08-05</td>\n",
       "      <td>A</td>\n",
       "      <td>756</td>\n",
       "    </tr>\n",
       "    <tr>\n",
       "      <th>...</th>\n",
       "      <td>...</td>\n",
       "      <td>...</td>\n",
       "      <td>...</td>\n",
       "    </tr>\n",
       "    <tr>\n",
       "      <th>57</th>\n",
       "      <td>2019-08-27</td>\n",
       "      <td>B</td>\n",
       "      <td>720</td>\n",
       "    </tr>\n",
       "    <tr>\n",
       "      <th>58</th>\n",
       "      <td>2019-08-28</td>\n",
       "      <td>B</td>\n",
       "      <td>654</td>\n",
       "    </tr>\n",
       "    <tr>\n",
       "      <th>59</th>\n",
       "      <td>2019-08-29</td>\n",
       "      <td>B</td>\n",
       "      <td>531</td>\n",
       "    </tr>\n",
       "    <tr>\n",
       "      <th>60</th>\n",
       "      <td>2019-08-30</td>\n",
       "      <td>B</td>\n",
       "      <td>490</td>\n",
       "    </tr>\n",
       "    <tr>\n",
       "      <th>61</th>\n",
       "      <td>2019-08-31</td>\n",
       "      <td>B</td>\n",
       "      <td>718</td>\n",
       "    </tr>\n",
       "  </tbody>\n",
       "</table>\n",
       "<p>62 rows × 3 columns</p>\n",
       "</div>"
      ],
      "text/plain": [
       "          date group  visitors\n",
       "0   2019-08-01     A       719\n",
       "1   2019-08-02     A       619\n",
       "2   2019-08-03     A       507\n",
       "3   2019-08-04     A       717\n",
       "4   2019-08-05     A       756\n",
       "..         ...   ...       ...\n",
       "57  2019-08-27     B       720\n",
       "58  2019-08-28     B       654\n",
       "59  2019-08-29     B       531\n",
       "60  2019-08-30     B       490\n",
       "61  2019-08-31     B       718\n",
       "\n",
       "[62 rows x 3 columns]"
      ]
     },
     "metadata": {},
     "output_type": "display_data"
    }
   ],
   "source": [
    "# выведем таблицу о пользователях \n",
    "display(visitors)"
   ]
  },
  {
   "cell_type": "markdown",
   "metadata": {},
   "source": [
    "**Вывод**:  Необходимо изменить тип файлов с object на to_datetime, там где это необходимо"
   ]
  },
  {
   "cell_type": "markdown",
   "metadata": {},
   "source": [
    "#### Изучим данные и выполним предоработку данных. Проверим на наличие дубликатов и пропусков.  Приведём к нормальному типу."
   ]
  },
  {
   "cell_type": "markdown",
   "metadata": {},
   "source": [
    "##### Проверим данные на наличие дубликатов "
   ]
  },
  {
   "cell_type": "code",
   "execution_count": 114,
   "metadata": {},
   "outputs": [
    {
     "data": {
      "text/plain": [
       "0"
      ]
     },
     "execution_count": 114,
     "metadata": {},
     "output_type": "execute_result"
    }
   ],
   "source": [
    "# проверим дубликаты в гипотезах \n",
    "data.duplicated().sum()"
   ]
  },
  {
   "cell_type": "code",
   "execution_count": 115,
   "metadata": {},
   "outputs": [
    {
     "data": {
      "text/plain": [
       "0"
      ]
     },
     "execution_count": 115,
     "metadata": {},
     "output_type": "execute_result"
    }
   ],
   "source": [
    "# проверим дубликаты в заказах \n",
    "orders.duplicated().sum()"
   ]
  },
  {
   "cell_type": "code",
   "execution_count": 116,
   "metadata": {},
   "outputs": [
    {
     "data": {
      "text/plain": [
       "0"
      ]
     },
     "execution_count": 116,
     "metadata": {},
     "output_type": "execute_result"
    }
   ],
   "source": [
    "# проверим дубликаты в пользователях \n",
    "visitors.duplicated().sum()"
   ]
  },
  {
   "cell_type": "markdown",
   "metadata": {},
   "source": [
    "##### Проверим данные на наличие пропусков "
   ]
  },
  {
   "cell_type": "code",
   "execution_count": 117,
   "metadata": {},
   "outputs": [
    {
     "data": {
      "text/plain": [
       "Hypothesis    0\n",
       "Reach         0\n",
       "Impact        0\n",
       "Confidence    0\n",
       "Efforts       0\n",
       "dtype: int64"
      ]
     },
     "execution_count": 117,
     "metadata": {},
     "output_type": "execute_result"
    }
   ],
   "source": [
    "# проверим пропуски в гипотезах\n",
    "data.isna().sum()"
   ]
  },
  {
   "cell_type": "code",
   "execution_count": 118,
   "metadata": {},
   "outputs": [
    {
     "data": {
      "text/plain": [
       "transactionId    0\n",
       "visitorId        0\n",
       "date             0\n",
       "revenue          0\n",
       "group            0\n",
       "dtype: int64"
      ]
     },
     "execution_count": 118,
     "metadata": {},
     "output_type": "execute_result"
    }
   ],
   "source": [
    "# проверим пропуски в заказах\n",
    "orders.isna().sum()"
   ]
  },
  {
   "cell_type": "code",
   "execution_count": 119,
   "metadata": {},
   "outputs": [
    {
     "data": {
      "text/plain": [
       "date        0\n",
       "group       0\n",
       "visitors    0\n",
       "dtype: int64"
      ]
     },
     "execution_count": 119,
     "metadata": {},
     "output_type": "execute_result"
    }
   ],
   "source": [
    "# проверим пропуски в пользователях\n",
    "visitors.isna().sum()"
   ]
  },
  {
   "cell_type": "markdown",
   "metadata": {},
   "source": [
    "Вывод : Проверку прошли, дубликатов и пропусков нет"
   ]
  },
  {
   "cell_type": "markdown",
   "metadata": {},
   "source": [
    "##### Убедимся что типы данных  соответсвуют сохранённых  в них значениях"
   ]
  },
  {
   "cell_type": "markdown",
   "metadata": {},
   "source": [
    "###### Разберём датафрейм orders "
   ]
  },
  {
   "cell_type": "code",
   "execution_count": 120,
   "metadata": {},
   "outputs": [
    {
     "name": "stdout",
     "output_type": "stream",
     "text": [
      "<class 'pandas.core.frame.DataFrame'>\n",
      "RangeIndex: 1197 entries, 0 to 1196\n",
      "Data columns (total 5 columns):\n",
      " #   Column         Non-Null Count  Dtype         \n",
      "---  ------         --------------  -----         \n",
      " 0   transactionId  1197 non-null   int64         \n",
      " 1   visitorId      1197 non-null   int64         \n",
      " 2   date           1197 non-null   datetime64[ns]\n",
      " 3   revenue        1197 non-null   int64         \n",
      " 4   group          1197 non-null   object        \n",
      "dtypes: datetime64[ns](1), int64(3), object(1)\n",
      "memory usage: 46.9+ KB\n"
     ]
    }
   ],
   "source": [
    "# изменим в датафрейме orders тип даты c object на to_datetime\n",
    "orders = pd.read_csv('https://code.s3.yandex.net/datasets/orders.csv')\n",
    "orders['date'] = orders['date'].map(\n",
    "    lambda x: dt.datetime.strptime(x, '%Y-%m-%d')\n",
    ")\n",
    "orders.info()"
   ]
  },
  {
   "cell_type": "markdown",
   "metadata": {},
   "source": [
    "###### разберём датафрейм visitors\n"
   ]
  },
  {
   "cell_type": "code",
   "execution_count": 121,
   "metadata": {},
   "outputs": [
    {
     "name": "stdout",
     "output_type": "stream",
     "text": [
      "<class 'pandas.core.frame.DataFrame'>\n",
      "RangeIndex: 62 entries, 0 to 61\n",
      "Data columns (total 3 columns):\n",
      " #   Column    Non-Null Count  Dtype         \n",
      "---  ------    --------------  -----         \n",
      " 0   date      62 non-null     datetime64[ns]\n",
      " 1   group     62 non-null     object        \n",
      " 2   visitors  62 non-null     int64         \n",
      "dtypes: datetime64[ns](1), int64(1), object(1)\n",
      "memory usage: 1.6+ KB\n"
     ]
    }
   ],
   "source": [
    "# изменим в датафрейме visitors тип даты c object на to_datetime\n",
    "visitors = pd.read_csv('https://code.s3.yandex.net/datasets/visitors.csv')\n",
    "visitors['date'] = visitors['date'].map(\n",
    "    lambda x: dt.datetime.strptime(x, '%Y-%m-%d')\n",
    ")\n",
    "\n",
    "visitors.info()"
   ]
  },
  {
   "cell_type": "markdown",
   "metadata": {},
   "source": [
    "**Вывод** : Данные проверили, дубликатов и пропусков нет. \n",
    "\n",
    "Преобразовали тип данных:\n",
    "\n",
    "/ orders - date, из object в datetime\n",
    "\n",
    "/ visitors - date, из object в datetime"
   ]
  },
  {
   "cell_type": "markdown",
   "metadata": {},
   "source": [
    "**Выясним**:"
   ]
  },
  {
   "cell_type": "markdown",
   "metadata": {},
   "source": [
    "**Проверим не попадают ли пользователи в обе группы**:"
   ]
  },
  {
   "cell_type": "code",
   "execution_count": 122,
   "metadata": {},
   "outputs": [],
   "source": [
    "# найдём пользывателей в каждой группе\n",
    "g_A = orders[orders['group']=='A']['visitorId']\n",
    "g_B = orders[orders['group']=='B']['visitorId']"
   ]
  },
  {
   "cell_type": "code",
   "execution_count": 123,
   "metadata": {},
   "outputs": [
    {
     "name": "stdout",
     "output_type": "stream",
     "text": [
      "Пересекающие пользователи в обеих группах:\n",
      "[   8300375  199603092  232979603  237748145  276558944  351125977\n",
      "  393266494  457167155  471551937  477780734  818047933  963407295\n",
      " 1230306981 1294878855 1316129916 1333886533 1404934699 1602967004\n",
      " 1614305549 1648269707 1668030113 1738359350 1801183820 1959144690\n",
      " 2038680547 2044997962 2378935119 2458001652 2579882178 2587333274\n",
      " 2600415354 2654030115 2686716486 2712142231 2716752286 2780786433\n",
      " 2927087541 2949041841 2954449915 3062433592 3202540741 3234906277\n",
      " 3656415546 3717692402 3766097110 3803269165 3891541246 3941795274\n",
      " 3951559397 3957174400 3963646447 3972127743 3984495233 4069496402\n",
      " 4120364173 4186807279 4256040402 4266935830]\n",
      "Количество пересекающихся пользователей:\n",
      "58\n"
     ]
    }
   ],
   "source": [
    "# найдём пользователей в обеих группах\n",
    "# найдём пересечение двух  одномерных массивов с помощью метода numpy.intersect1d()\n",
    "g_A_B = np.intersect1d(g_A, g_B)\n",
    "print('Пересекающие пользователи в обеих группах:')\n",
    "print(g_A_B)\n",
    "print('Количество пересекающихся пользователей:')\n",
    "print(g_A_B.shape[0])"
   ]
  },
  {
   "cell_type": "code",
   "execution_count": 124,
   "metadata": {},
   "outputs": [],
   "source": [
    "# Удалим данных пользователей из таблицы:\n",
    "orders = orders[~orders['visitorId'].isin(g_A_B)]"
   ]
  },
  {
   "cell_type": "markdown",
   "metadata": {},
   "source": [
    "**За какой период нам доступны данные, дата начала и дата окончания теста**:\n",
    "- Проверим датафрейм orders "
   ]
  },
  {
   "cell_type": "code",
   "execution_count": 125,
   "metadata": {},
   "outputs": [
    {
     "name": "stdout",
     "output_type": "stream",
     "text": [
      "start_test: 2019-08-01 00:00:00\n",
      "end_test: 2019-08-31 00:00:00\n"
     ]
    }
   ],
   "source": [
    "# start_test - дата начала теста\n",
    "print('start_test:', orders['date'].min())\n",
    "# end_test - дата окончания теста\n",
    "print('end_test:',  orders['date'].max())"
   ]
  },
  {
   "cell_type": "markdown",
   "metadata": {},
   "source": [
    "**Вывод**: Данные нам доступны за месяц. с 2019-08-01 по 2019-08-31 "
   ]
  },
  {
   "cell_type": "markdown",
   "metadata": {},
   "source": [
    "**Сколько у нас уникальных групп и количество пользователей в каждой**:"
   ]
  },
  {
   "cell_type": "code",
   "execution_count": 126,
   "metadata": {},
   "outputs": [
    {
     "name": "stdout",
     "output_type": "stream",
     "text": [
      "пользователей в группе A: 445\n",
      "пользователей в группе B: 528\n"
     ]
    }
   ],
   "source": [
    "# Количество пользователей в группе A\n",
    "print('пользователей в группе A:', orders[orders['group']=='A']['visitorId'].unique().shape[0])\n",
    "# Количество пользователей в группе B\n",
    "print('пользователей в группе B:', orders[orders['group']=='B']['visitorId'].unique().shape[0])"
   ]
  },
  {
   "cell_type": "markdown",
   "metadata": {},
   "source": [
    "В группе B у нас больше пользователей чем в группе A. Вероятнее тест уже будет в пользу группы B. В части 2 проверим."
   ]
  },
  {
   "cell_type": "markdown",
   "metadata": {},
   "source": [
    "### Приоритизация гипотез"
   ]
  },
  {
   "cell_type": "markdown",
   "metadata": {},
   "source": [
    "В файле `/datasets/hypothesis.csv` 9 гипотез по увеличению выручки интернет-магазина с указанными параметрами Reach, Impact, Confidence, Effort."
   ]
  },
  {
   "cell_type": "markdown",
   "metadata": {},
   "source": [
    "#### Применим фреймворк ICE для приоритизации гипотез. Отсортируем их по убыванию приоритета."
   ]
  },
  {
   "cell_type": "code",
   "execution_count": 127,
   "metadata": {},
   "outputs": [
    {
     "data": {
      "text/html": [
       "<div>\n",
       "<style scoped>\n",
       "    .dataframe tbody tr th:only-of-type {\n",
       "        vertical-align: middle;\n",
       "    }\n",
       "\n",
       "    .dataframe tbody tr th {\n",
       "        vertical-align: top;\n",
       "    }\n",
       "\n",
       "    .dataframe thead th {\n",
       "        text-align: right;\n",
       "    }\n",
       "</style>\n",
       "<table border=\"1\" class=\"dataframe\">\n",
       "  <thead>\n",
       "    <tr style=\"text-align: right;\">\n",
       "      <th></th>\n",
       "      <th>Hypothesis</th>\n",
       "      <th>ICE</th>\n",
       "    </tr>\n",
       "  </thead>\n",
       "  <tbody>\n",
       "    <tr>\n",
       "      <th>8</th>\n",
       "      <td>Запустить акцию, дающую скидку на товар в день рождения</td>\n",
       "      <td>16.20</td>\n",
       "    </tr>\n",
       "    <tr>\n",
       "      <th>0</th>\n",
       "      <td>Добавить два новых канала привлечения трафика, что позволит привлекать на 30% больше пользователей</td>\n",
       "      <td>13.33</td>\n",
       "    </tr>\n",
       "    <tr>\n",
       "      <th>7</th>\n",
       "      <td>Добавить форму подписки на все основные страницы, чтобы собрать базу клиентов для email-рассылок</td>\n",
       "      <td>11.20</td>\n",
       "    </tr>\n",
       "    <tr>\n",
       "      <th>6</th>\n",
       "      <td>Показать на главной странице баннеры с актуальными акциями и распродажами, чтобы увеличить конверсию</td>\n",
       "      <td>8.00</td>\n",
       "    </tr>\n",
       "    <tr>\n",
       "      <th>2</th>\n",
       "      <td>Добавить блоки рекомендаций товаров на сайт интернет магазина, чтобы повысить конверсию и средний чек заказа</td>\n",
       "      <td>7.00</td>\n",
       "    </tr>\n",
       "    <tr>\n",
       "      <th>1</th>\n",
       "      <td>Запустить собственную службу доставки, что сократит срок доставки заказов</td>\n",
       "      <td>2.00</td>\n",
       "    </tr>\n",
       "    <tr>\n",
       "      <th>5</th>\n",
       "      <td>Добавить страницу отзывов клиентов о магазине, что позволит увеличить количество заказов</td>\n",
       "      <td>1.33</td>\n",
       "    </tr>\n",
       "    <tr>\n",
       "      <th>3</th>\n",
       "      <td>Изменить структура категорий, что увеличит конверсию, т.к. пользователи быстрее найдут нужный товар</td>\n",
       "      <td>1.12</td>\n",
       "    </tr>\n",
       "    <tr>\n",
       "      <th>4</th>\n",
       "      <td>Изменить цвет фона главной страницы, чтобы увеличить вовлеченность пользователей</td>\n",
       "      <td>1.00</td>\n",
       "    </tr>\n",
       "  </tbody>\n",
       "</table>\n",
       "</div>"
      ],
      "text/plain": [
       "                                                                                                     Hypothesis  \\\n",
       "8                                                       Запустить акцию, дающую скидку на товар в день рождения   \n",
       "0            Добавить два новых канала привлечения трафика, что позволит привлекать на 30% больше пользователей   \n",
       "7              Добавить форму подписки на все основные страницы, чтобы собрать базу клиентов для email-рассылок   \n",
       "6          Показать на главной странице баннеры с актуальными акциями и распродажами, чтобы увеличить конверсию   \n",
       "2  Добавить блоки рекомендаций товаров на сайт интернет магазина, чтобы повысить конверсию и средний чек заказа   \n",
       "1                                     Запустить собственную службу доставки, что сократит срок доставки заказов   \n",
       "5                      Добавить страницу отзывов клиентов о магазине, что позволит увеличить количество заказов   \n",
       "3           Изменить структура категорий, что увеличит конверсию, т.к. пользователи быстрее найдут нужный товар   \n",
       "4                              Изменить цвет фона главной страницы, чтобы увеличить вовлеченность пользователей   \n",
       "\n",
       "     ICE  \n",
       "8  16.20  \n",
       "0  13.33  \n",
       "7  11.20  \n",
       "6   8.00  \n",
       "2   7.00  \n",
       "1   2.00  \n",
       "5   1.33  \n",
       "3   1.12  \n",
       "4   1.00  "
      ]
     },
     "metadata": {},
     "output_type": "display_data"
    }
   ],
   "source": [
    "# посчитаем ICE для гипотез\n",
    "data['ICE'] = (data['Impact'] * data['Confidence'])/ data['Efforts']\n",
    "# выведем на экран и отсортируем их по убыванию приоритетат\n",
    "display(data[['Hypothesis','ICE']].sort_values(by='ICE', ascending=False).round(2))\n",
    "pd.options.display.max_colwidth = 210"
   ]
  },
  {
   "cell_type": "markdown",
   "metadata": {},
   "source": [
    "Вывод: Применив фрейморк ICE получили. Что самые перспективные гипотезы:\n",
    "- Первое место гипотеза номер 8, \n",
    "- Второе место гипотеза 0,\n",
    "- Третье место гипотеза 7."
   ]
  },
  {
   "cell_type": "markdown",
   "metadata": {},
   "source": [
    "#### Применим фреймворк RICE для приоритезации гипотез. Отсортируем их по убыванию приоритета."
   ]
  },
  {
   "cell_type": "code",
   "execution_count": 128,
   "metadata": {},
   "outputs": [
    {
     "data": {
      "text/html": [
       "<div>\n",
       "<style scoped>\n",
       "    .dataframe tbody tr th:only-of-type {\n",
       "        vertical-align: middle;\n",
       "    }\n",
       "\n",
       "    .dataframe tbody tr th {\n",
       "        vertical-align: top;\n",
       "    }\n",
       "\n",
       "    .dataframe thead th {\n",
       "        text-align: right;\n",
       "    }\n",
       "</style>\n",
       "<table border=\"1\" class=\"dataframe\">\n",
       "  <thead>\n",
       "    <tr style=\"text-align: right;\">\n",
       "      <th></th>\n",
       "      <th>Hypothesis</th>\n",
       "      <th>RICE</th>\n",
       "    </tr>\n",
       "  </thead>\n",
       "  <tbody>\n",
       "    <tr>\n",
       "      <th>7</th>\n",
       "      <td>Добавить форму подписки на все основные страницы, чтобы собрать базу клиентов для email-рассылок</td>\n",
       "      <td>112.0</td>\n",
       "    </tr>\n",
       "    <tr>\n",
       "      <th>2</th>\n",
       "      <td>Добавить блоки рекомендаций товаров на сайт интернет магазина, чтобы повысить конверсию и средний чек заказа</td>\n",
       "      <td>56.0</td>\n",
       "    </tr>\n",
       "    <tr>\n",
       "      <th>0</th>\n",
       "      <td>Добавить два новых канала привлечения трафика, что позволит привлекать на 30% больше пользователей</td>\n",
       "      <td>40.0</td>\n",
       "    </tr>\n",
       "    <tr>\n",
       "      <th>6</th>\n",
       "      <td>Показать на главной странице баннеры с актуальными акциями и распродажами, чтобы увеличить конверсию</td>\n",
       "      <td>40.0</td>\n",
       "    </tr>\n",
       "    <tr>\n",
       "      <th>8</th>\n",
       "      <td>Запустить акцию, дающую скидку на товар в день рождения</td>\n",
       "      <td>16.2</td>\n",
       "    </tr>\n",
       "    <tr>\n",
       "      <th>3</th>\n",
       "      <td>Изменить структура категорий, что увеличит конверсию, т.к. пользователи быстрее найдут нужный товар</td>\n",
       "      <td>9.0</td>\n",
       "    </tr>\n",
       "    <tr>\n",
       "      <th>1</th>\n",
       "      <td>Запустить собственную службу доставки, что сократит срок доставки заказов</td>\n",
       "      <td>4.0</td>\n",
       "    </tr>\n",
       "    <tr>\n",
       "      <th>5</th>\n",
       "      <td>Добавить страницу отзывов клиентов о магазине, что позволит увеличить количество заказов</td>\n",
       "      <td>4.0</td>\n",
       "    </tr>\n",
       "    <tr>\n",
       "      <th>4</th>\n",
       "      <td>Изменить цвет фона главной страницы, чтобы увеличить вовлеченность пользователей</td>\n",
       "      <td>3.0</td>\n",
       "    </tr>\n",
       "  </tbody>\n",
       "</table>\n",
       "</div>"
      ],
      "text/plain": [
       "                                                                                                     Hypothesis  \\\n",
       "7              Добавить форму подписки на все основные страницы, чтобы собрать базу клиентов для email-рассылок   \n",
       "2  Добавить блоки рекомендаций товаров на сайт интернет магазина, чтобы повысить конверсию и средний чек заказа   \n",
       "0            Добавить два новых канала привлечения трафика, что позволит привлекать на 30% больше пользователей   \n",
       "6          Показать на главной странице баннеры с актуальными акциями и распродажами, чтобы увеличить конверсию   \n",
       "8                                                       Запустить акцию, дающую скидку на товар в день рождения   \n",
       "3           Изменить структура категорий, что увеличит конверсию, т.к. пользователи быстрее найдут нужный товар   \n",
       "1                                     Запустить собственную службу доставки, что сократит срок доставки заказов   \n",
       "5                      Добавить страницу отзывов клиентов о магазине, что позволит увеличить количество заказов   \n",
       "4                              Изменить цвет фона главной страницы, чтобы увеличить вовлеченность пользователей   \n",
       "\n",
       "    RICE  \n",
       "7  112.0  \n",
       "2   56.0  \n",
       "0   40.0  \n",
       "6   40.0  \n",
       "8   16.2  \n",
       "3    9.0  \n",
       "1    4.0  \n",
       "5    4.0  \n",
       "4    3.0  "
      ]
     },
     "metadata": {},
     "output_type": "display_data"
    }
   ],
   "source": [
    "# посчитаем RICE для гипотез\n",
    "data['RICE'] = (data['Reach'] * data['Impact'] * data['Confidence'])/ data['Efforts']\n",
    "# выведем на экран и отсортируем их по убыванию\n",
    "display(data[['Hypothesis','RICE']].sort_values(by='RICE',ascending=False).round(2))\n",
    "pd.options.display.max_colwidth = 210"
   ]
  },
  {
   "cell_type": "markdown",
   "metadata": {},
   "source": [
    "Вывод: Применив фреймфорк RICE получили. \n",
    "- на первом месте теперь гипотеза под номером 7, \n",
    "- на втором месте гипотеза под номером 2,\n",
    "- третье и чётвёртое место разделили гипотезы по номерами 0 и 6"
   ]
  },
  {
   "cell_type": "markdown",
   "metadata": {},
   "source": [
    "#### Укажим, как изменилась приоритизация гипотез при применении RICE вместо ICE. Почему так произошло."
   ]
  },
  {
   "cell_type": "code",
   "execution_count": 129,
   "metadata": {},
   "outputs": [
    {
     "data": {
      "text/html": [
       "<div>\n",
       "<style scoped>\n",
       "    .dataframe tbody tr th:only-of-type {\n",
       "        vertical-align: middle;\n",
       "    }\n",
       "\n",
       "    .dataframe tbody tr th {\n",
       "        vertical-align: top;\n",
       "    }\n",
       "\n",
       "    .dataframe thead th {\n",
       "        text-align: right;\n",
       "    }\n",
       "</style>\n",
       "<table border=\"1\" class=\"dataframe\">\n",
       "  <thead>\n",
       "    <tr style=\"text-align: right;\">\n",
       "      <th></th>\n",
       "      <th>Hypothesis</th>\n",
       "      <th>Reach</th>\n",
       "      <th>Impact</th>\n",
       "      <th>Confidence</th>\n",
       "      <th>Efforts</th>\n",
       "      <th>ICE</th>\n",
       "      <th>RICE</th>\n",
       "    </tr>\n",
       "  </thead>\n",
       "  <tbody>\n",
       "    <tr>\n",
       "      <th>0</th>\n",
       "      <td>Добавить два новых канала привлечения трафика, что позволит привлекать на 30% больше пользователей</td>\n",
       "      <td>3</td>\n",
       "      <td>10</td>\n",
       "      <td>8</td>\n",
       "      <td>6</td>\n",
       "      <td>13.33</td>\n",
       "      <td>40.0</td>\n",
       "    </tr>\n",
       "    <tr>\n",
       "      <th>1</th>\n",
       "      <td>Запустить собственную службу доставки, что сократит срок доставки заказов</td>\n",
       "      <td>2</td>\n",
       "      <td>5</td>\n",
       "      <td>4</td>\n",
       "      <td>10</td>\n",
       "      <td>2.00</td>\n",
       "      <td>4.0</td>\n",
       "    </tr>\n",
       "    <tr>\n",
       "      <th>2</th>\n",
       "      <td>Добавить блоки рекомендаций товаров на сайт интернет магазина, чтобы повысить конверсию и средний чек заказа</td>\n",
       "      <td>8</td>\n",
       "      <td>3</td>\n",
       "      <td>7</td>\n",
       "      <td>3</td>\n",
       "      <td>7.00</td>\n",
       "      <td>56.0</td>\n",
       "    </tr>\n",
       "    <tr>\n",
       "      <th>3</th>\n",
       "      <td>Изменить структура категорий, что увеличит конверсию, т.к. пользователи быстрее найдут нужный товар</td>\n",
       "      <td>8</td>\n",
       "      <td>3</td>\n",
       "      <td>3</td>\n",
       "      <td>8</td>\n",
       "      <td>1.12</td>\n",
       "      <td>9.0</td>\n",
       "    </tr>\n",
       "    <tr>\n",
       "      <th>4</th>\n",
       "      <td>Изменить цвет фона главной страницы, чтобы увеличить вовлеченность пользователей</td>\n",
       "      <td>3</td>\n",
       "      <td>1</td>\n",
       "      <td>1</td>\n",
       "      <td>1</td>\n",
       "      <td>1.00</td>\n",
       "      <td>3.0</td>\n",
       "    </tr>\n",
       "    <tr>\n",
       "      <th>5</th>\n",
       "      <td>Добавить страницу отзывов клиентов о магазине, что позволит увеличить количество заказов</td>\n",
       "      <td>3</td>\n",
       "      <td>2</td>\n",
       "      <td>2</td>\n",
       "      <td>3</td>\n",
       "      <td>1.33</td>\n",
       "      <td>4.0</td>\n",
       "    </tr>\n",
       "    <tr>\n",
       "      <th>6</th>\n",
       "      <td>Показать на главной странице баннеры с актуальными акциями и распродажами, чтобы увеличить конверсию</td>\n",
       "      <td>5</td>\n",
       "      <td>3</td>\n",
       "      <td>8</td>\n",
       "      <td>3</td>\n",
       "      <td>8.00</td>\n",
       "      <td>40.0</td>\n",
       "    </tr>\n",
       "    <tr>\n",
       "      <th>7</th>\n",
       "      <td>Добавить форму подписки на все основные страницы, чтобы собрать базу клиентов для email-рассылок</td>\n",
       "      <td>10</td>\n",
       "      <td>7</td>\n",
       "      <td>8</td>\n",
       "      <td>5</td>\n",
       "      <td>11.20</td>\n",
       "      <td>112.0</td>\n",
       "    </tr>\n",
       "    <tr>\n",
       "      <th>8</th>\n",
       "      <td>Запустить акцию, дающую скидку на товар в день рождения</td>\n",
       "      <td>1</td>\n",
       "      <td>9</td>\n",
       "      <td>9</td>\n",
       "      <td>5</td>\n",
       "      <td>16.20</td>\n",
       "      <td>16.2</td>\n",
       "    </tr>\n",
       "  </tbody>\n",
       "</table>\n",
       "</div>"
      ],
      "text/plain": [
       "                                                                                                     Hypothesis  \\\n",
       "0            Добавить два новых канала привлечения трафика, что позволит привлекать на 30% больше пользователей   \n",
       "1                                     Запустить собственную службу доставки, что сократит срок доставки заказов   \n",
       "2  Добавить блоки рекомендаций товаров на сайт интернет магазина, чтобы повысить конверсию и средний чек заказа   \n",
       "3           Изменить структура категорий, что увеличит конверсию, т.к. пользователи быстрее найдут нужный товар   \n",
       "4                              Изменить цвет фона главной страницы, чтобы увеличить вовлеченность пользователей   \n",
       "5                      Добавить страницу отзывов клиентов о магазине, что позволит увеличить количество заказов   \n",
       "6          Показать на главной странице баннеры с актуальными акциями и распродажами, чтобы увеличить конверсию   \n",
       "7              Добавить форму подписки на все основные страницы, чтобы собрать базу клиентов для email-рассылок   \n",
       "8                                                       Запустить акцию, дающую скидку на товар в день рождения   \n",
       "\n",
       "   Reach  Impact  Confidence  Efforts    ICE   RICE  \n",
       "0      3      10           8        6  13.33   40.0  \n",
       "1      2       5           4       10   2.00    4.0  \n",
       "2      8       3           7        3   7.00   56.0  \n",
       "3      8       3           3        8   1.12    9.0  \n",
       "4      3       1           1        1   1.00    3.0  \n",
       "5      3       2           2        3   1.33    4.0  \n",
       "6      5       3           8        3   8.00   40.0  \n",
       "7     10       7           8        5  11.20  112.0  \n",
       "8      1       9           9        5  16.20   16.2  "
      ]
     },
     "metadata": {},
     "output_type": "display_data"
    }
   ],
   "source": [
    "# Выведем получившийся датафрейм с гипотезами\n",
    "display(data.round(2))\n",
    "pd.options.display.max_colwidth = 210"
   ]
  },
  {
   "cell_type": "markdown",
   "metadata": {},
   "source": [
    "**Вывод**: При применении RICE мы заметили следующие изменения в приоритезации гипотез: \n",
    "\n",
    "- Первое место стала занимать гипотеза номер 7\n",
    "\n",
    "Так произошло из-за параметра Reach(количества пользователей). Данный показатель самый большой у данной гипотезы из всех гипотез, он равен 10.\n",
    "\n",
    "- Второе место занимает гипотеза под номером 2\n",
    "\n",
    "Так же параметр Reach выше, он равен 8\n",
    "\n",
    "- На третьем месте расположились гипотезы под номерами 0 и 6\n",
    "\n",
    "Но если рассматривать параметр Reach он выше у гипотезы под номером 6 \n",
    "И параметр Effort(сколько стоит протестировать гипотезу) параметр выше у гипотезы под номером 0, больше затрат.\n",
    "Параметр Confidence(говорит нам о том, на сколько мы уверены, что  изменения повлияют на пользователей), и здесь у обоих гипотез параметр равен 8."
   ]
  },
  {
   "cell_type": "markdown",
   "metadata": {},
   "source": [
    "### Приоритизация гипотез"
   ]
  },
  {
   "cell_type": "markdown",
   "metadata": {},
   "source": [
    "Мы провели A/B-тест и получили результаты, которые описаны в файлах `/datasets/orders.csv` и `/datasets/visitors.csv`."
   ]
  },
  {
   "cell_type": "markdown",
   "metadata": {},
   "source": [
    "****Проанализируем A/B-тест:****"
   ]
  },
  {
   "cell_type": "markdown",
   "metadata": {},
   "source": [
    "#### Построим график кумулятивной выручки по группам. Сделаем выводы и предположения."
   ]
  },
  {
   "cell_type": "code",
   "execution_count": 130,
   "metadata": {},
   "outputs": [
    {
     "name": "stdout",
     "output_type": "stream",
     "text": [
      "   transactionId   visitorId       date  revenue group\n",
      "0     3667963787  3312258926 2019-08-15     1650     B\n",
      "1     2804400009  3642806036 2019-08-15      730     B\n",
      "3     3797467345  1196621759 2019-08-15     9759     B\n",
      "4     2282983706  2322279887 2019-08-15     2308     B\n",
      "5      182168103   935554773 2019-08-15     2210     B\n",
      "        date group  visitors\n",
      "0 2019-08-01     A       719\n",
      "1 2019-08-02     A       619\n",
      "2 2019-08-03     A       507\n",
      "3 2019-08-04     A       717\n",
      "4 2019-08-05     A       756\n",
      "        date group  orders  buyers  revenue  visitors\n",
      "0 2019-08-01     A      23      19   142779       719\n",
      "1 2019-08-01     B      17      17    59758       713\n",
      "2 2019-08-02     A      42      36   234381      1338\n",
      "3 2019-08-02     B      40      39   221801      1294\n",
      "4 2019-08-03     A      66      60   346854      1845\n"
     ]
    }
   ],
   "source": [
    "# создаем массив уникальных пар значений дат и групп теста\n",
    "datesGroups = orders[['date', 'group']].drop_duplicates()\n",
    "\n",
    "# получаем агрегированные кумулятивные по дням данные о заказах\n",
    "ordersAggregated = datesGroups.apply(lambda x: orders[np.logical_and(orders['date'] <= x['date'], orders['group'] == x['group'])]\\\n",
    ".agg({'date' : 'max', \n",
    "      'group' : 'max',\n",
    "      'transactionId' : 'nunique',\n",
    "      'visitorId' : 'nunique', \n",
    "      'revenue' : 'sum'}), axis=1).sort_values(by=['date','group'])\n",
    "\n",
    "# получаем агрегированные кумулятивные по дням данные о посетителях интернет-магазина \n",
    "visitorsAggregated = datesGroups.apply(lambda x: visitors[np.logical_and(visitors['date'] <= x['date'], visitors['group'] == x['group'])]\n",
    ".agg({'date' : 'max',\n",
    "      'group' : 'max', \n",
    "      'visitors' : 'sum'}), axis=1).sort_values(by=['date','group'])\n",
    "\n",
    "# объединяем кумулятивные данные в одной таблице и присваиваем ее столбцам понятные названия\n",
    "cumulativeData = ordersAggregated.merge(visitorsAggregated, left_on=['date', 'group'], right_on=['date', 'group'])\n",
    "cumulativeData.columns = ['date', 'group', 'orders', 'buyers', 'revenue', 'visitors']\n",
    "\n",
    "# выведем первые пять  строк \n",
    "print(orders.head(5))\n",
    "print(visitors.head(5))\n",
    "print(cumulativeData.head(5))"
   ]
  },
  {
   "cell_type": "markdown",
   "metadata": {},
   "source": [
    "Вывод: Выбрали все нужные куммулятивные значения, теперь построим график. "
   ]
  },
  {
   "cell_type": "code",
   "execution_count": 131,
   "metadata": {},
   "outputs": [
    {
     "data": {
      "image/png": "[encoded data removed]",
      "text/plain": [
       "<Figure size 640x480 with 1 Axes>"
      ]
     },
     "metadata": {},
     "output_type": "display_data"
    }
   ],
   "source": [
    "# датафрейм с кумулятивным количеством заказов и кумулятивной выручкой по дням в группе А\n",
    "cumulativeRevenueA = cumulativeData[cumulativeData['group']=='A'][['date','revenue', 'orders']]\n",
    "\n",
    "# датафрейм с кумулятивным количеством заказов и кумулятивной выручкой по дням в группе B\n",
    "cumulativeRevenueB = cumulativeData[cumulativeData['group']=='B'][['date','revenue', 'orders']]\n",
    "\n",
    "# Строим график выручки группы А\n",
    "\n",
    "plt.plot(cumulativeRevenueA['date'], cumulativeRevenueA['revenue'], label='A')\n",
    "\n",
    "# Строим график выручки группы B\n",
    "plt.plot(cumulativeRevenueB['date'], cumulativeRevenueB['revenue'], label='B')\n",
    "\n",
    "plt.plot(figsize=(8, 6), grid=True)\n",
    "plt.title('График куммулятивной выручки по группам')\n",
    "plt.xlabel('Дата')\n",
    "plt.xticks(rotation=45)\n",
    "plt.legend()\n",
    "plt.show()"
   ]
  },
  {
   "cell_type": "markdown",
   "metadata": {},
   "source": [
    "**Вывод**: Из графика видим, сегменты А И B до середины теста шли примерно на ровне, но от середины теста сегмент B вырвался вперёд и продолжал быть первым на протяжении всего теста. Вероятно это влияют аномальные заказы на такой результат."
   ]
  },
  {
   "cell_type": "markdown",
   "metadata": {},
   "source": [
    "#### Построим график кумулятивного среднего чека по группам. Сделаем выводы и предположения."
   ]
  },
  {
   "cell_type": "code",
   "execution_count": 132,
   "metadata": {},
   "outputs": [
    {
     "data": {
      "image/png": "[encoded data removed]",
      "text/plain": [
       "<Figure size 640x480 with 1 Axes>"
      ]
     },
     "metadata": {},
     "output_type": "display_data"
    }
   ],
   "source": [
    "# Построим графики для каждой группы кумулятивного среднего  чека по  дням \n",
    "plt.plot(figsize=(8, 6), grid=True)\n",
    "plt.plot(cumulativeRevenueA['date'], cumulativeRevenueA['revenue']/cumulativeRevenueA['orders'], label='A')\n",
    "plt.plot(cumulativeRevenueB['date'], cumulativeRevenueB['revenue']/cumulativeRevenueB['orders'], label='B')\n",
    "\n",
    "plt.title('График куммулятивного среднего чека')\n",
    "plt.xlabel('Дата')\n",
    "plt.xticks(rotation=45)\n",
    "plt.legend()\n",
    "plt.show()"
   ]
  },
  {
   "cell_type": "markdown",
   "metadata": {},
   "source": [
    "**Вывод**: Куммулятивное значение среднего чека на графике в сегменте А и B колеблются. Мы видим, что сперва начинает лидировать сегмент А, потом сегмент А приходит в упадок, в середине графика чуть выходит вперёд и к концу графика падает. Сегмент B в конце графика выходит в лидеры.Вероятнее всего так влияют выбросы, которые искажают результат, поэтому принимать решение пока рано."
   ]
  },
  {
   "cell_type": "markdown",
   "metadata": {},
   "source": [
    "#### Пострим график относительного изменения кумулятивного среднего чека группы B к группе A. Сделаем выводы и предположения."
   ]
  },
  {
   "cell_type": "code",
   "execution_count": 133,
   "metadata": {},
   "outputs": [
    {
     "data": {
      "image/png": "[encoded data removed]",
      "text/plain": [
       "<Figure size 640x480 with 1 Axes>"
      ]
     },
     "metadata": {},
     "output_type": "display_data"
    }
   ],
   "source": [
    "# собираем данные в одном датафрейме\n",
    "mergedCumulativeRevenue = cumulativeRevenueA.merge(cumulativeRevenueB, left_on='date', right_on='date', how='left', suffixes=['A', 'B'])\n",
    "\n",
    "# cтроим отношение средних чеков\n",
    "plt.plot(mergedCumulativeRevenue['date'], (mergedCumulativeRevenue['revenueB']/mergedCumulativeRevenue['ordersB'])/(mergedCumulativeRevenue['revenueA']/mergedCumulativeRevenue['ordersA'])-1)\n",
    "\n",
    "# добавляем ось X\n",
    "plt.axhline(y=0, color='black', linestyle='--')\n",
    "plt.title('График относительного изменения кумулятивного среднего чека')\n",
    "plt.xlabel('Дата')\n",
    "plt.plot(figsize=(8, 6), grid=True)\n",
    "plt.xticks(rotation=45)\n",
    "plt.show()"
   ]
  },
  {
   "cell_type": "markdown",
   "metadata": {},
   "source": [
    "**Вывод**: Результаты теста менялись по датам несколько раз, вероятно всего были совершены аномальные заказы. "
   ]
  },
  {
   "cell_type": "markdown",
   "metadata": {},
   "source": [
    "#### Построим график кумулятивного среднего количества заказов по группам. Сделем выводы и предположения."
   ]
  },
  {
   "cell_type": "code",
   "execution_count": 134,
   "metadata": {},
   "outputs": [
    {
     "data": {
      "image/png": "[encoded data removed]",
      "text/plain": [
       "<Figure size 640x480 with 1 Axes>"
      ]
     },
     "metadata": {},
     "output_type": "display_data"
    }
   ],
   "source": [
    "# считаем кумулятивную конверсию\n",
    "cumulativeData['conversion'] = cumulativeData['orders']/cumulativeData['visitors']\n",
    "\n",
    "# отделяем данные по группе A\n",
    "cumulativeDataA = cumulativeData[cumulativeData['group']=='A']\n",
    "\n",
    "# отделяем данные по группе B\n",
    "cumulativeDataB = cumulativeData[cumulativeData['group']=='B']\n",
    "\n",
    "# строим графики\n",
    "plt.plot(cumulativeDataA['date'], cumulativeDataA['conversion'], label='A')\n",
    "plt.plot(cumulativeDataB['date'], cumulativeDataB['conversion'], label='B')\n",
    "plt.legend()\n",
    "\n",
    "# задаем масштаб осей\n",
    "plt.axis([dt.datetime(2019, 8, 1), dt.datetime(2019, 8, 16), 0, 0.06])\n",
    "\n",
    "plt.title('Куммулятивное среднее количество заказов')\n",
    "plt.xlabel('Дата')\n",
    "plt.plot(figsize=(8, 6), grid=True)\n",
    "plt.xticks(rotation=45)\n",
    "plt.show()"
   ]
  },
  {
   "cell_type": "markdown",
   "metadata": {},
   "source": [
    "**Вывод**: В начале теста сегмент А имел большую конверсию, далее, примерно ближе к середине пошёл на спад, сегмент B опередил сегмент А и установился по уровню выше над ним, стал больше сегмента А. Чтобы было видно, что абсолютное значение колебания в начале и в конце теста не слишком большое: от 2% до 4%. мы изменили масштаб графика. Потому, если убрать масштаб осей, будет казаться, что колебания продолжаются, и конверсия не установилась около своего среднего значения."
   ]
  },
  {
   "cell_type": "markdown",
   "metadata": {},
   "source": [
    "#### Построим график относительного изменения кумулятивного среднего количества заказов группы B к группе A. Сделаем выводы и предположения."
   ]
  },
  {
   "cell_type": "code",
   "execution_count": 135,
   "metadata": {},
   "outputs": [
    {
     "data": {
      "image/png": "[encoded data removed]",
      "text/plain": [
       "<Figure size 640x480 with 1 Axes>"
      ]
     },
     "metadata": {},
     "output_type": "display_data"
    }
   ],
   "source": [
    "# Объединим таблицы  cumulativeDataA и cumulativeDataB методом merge() так, чтобы она содержала столбцы: ['date', 'conversionA', 'conversionB'].\n",
    "# Сохраним в переменной mergedCumulativeConversions.\n",
    "\n",
    "mergedCumulativeConversions = cumulativeDataA[['date','conversion']].merge(cumulativeDataB[['date','conversion']], \n",
    "                                             left_on='date', right_on='date', how='left', suffixes=['A', 'B'])\n",
    "\n",
    "# построим график относителньо различия кумулятивной конверсии группы B к группе A\n",
    "plt.plot(mergedCumulativeConversions['date'], \n",
    "         mergedCumulativeConversions['conversionB']/mergedCumulativeConversions['conversionA']-1, \n",
    "         label=\"Относительный прирост конверсии группы B относительно группы A\")\n",
    "plt.legend()\n",
    " \n",
    "\n",
    "# добавим пунктирную линию  оси X чёрного цвета со значением оси Y=0\n",
    "# добавим одну линию оси X серого цвета со значением оси Y=0.2\n",
    "plt.axhline(y=0, color='black', linestyle='--')\n",
    "plt.axhline(y=0.2, color='grey', linestyle='--')\n",
    "\n",
    "# зададим масштаб\n",
    "plt.axis([dt.datetime(2019, 8, 1), dt.datetime(2019, 8, 16), -0.5, 0.5])\n",
    "\n",
    "plt.title('Относительное изменение куммулятивного среднего количества заказов')\n",
    "plt.xlabel('Дата')\n",
    "plt.plot(figsize=(8, 6), grid=True)\n",
    "plt.xticks(rotation=45)\n",
    "plt.show()"
   ]
  },
  {
   "cell_type": "markdown",
   "metadata": {},
   "source": [
    "**Вывод**: Мы построили график относительного различия конверсии между группами. Видим колебания в относительном приросте. Но практически с самого начала теста группа B лидирует и чуть больше к середине достигает прирост примерно в 20 % после падает до 18 % и снова идёт на повышение, устанавливается."
   ]
  },
  {
   "cell_type": "markdown",
   "metadata": {},
   "source": [
    "#### Построим точечный график количества заказов по пользователям. Сделаем выводы и предположения."
   ]
  },
  {
   "cell_type": "code",
   "execution_count": 136,
   "metadata": {},
   "outputs": [
    {
     "name": "stdout",
     "output_type": "stream",
     "text": [
      "         userId  orders\n",
      "908  3967698036       3\n",
      "55    249864742       3\n",
      "478  2108163459       3\n",
      "687  2988190573       3\n",
      "890  3908431265       3\n",
      "138   611059232       3\n",
      "632  2742574263       3\n",
      "157   678354126       2\n",
      "323  1404560065       2\n",
      "452  1985475298       2\n"
     ]
    }
   ],
   "source": [
    "# Метод .groupby('...', as_index=False) сгруппирует заказы по пользователям\n",
    "# Метод .agg({'...' : 'nunique',}) подсчитает число уникальных заказов по сгруппированным данным\n",
    "ordersByUsers = (\n",
    "    orders.groupby('visitorId', as_index=False)\n",
    "    .agg({'transactionId': 'nunique'})\n",
    ")\n",
    "ordersByUsers.columns = ['userId', 'orders']\n",
    "# Метод .sort_values(by='...',ascending=False) отсортирует датафрейм по значению в столбце\n",
    "print(ordersByUsers.sort_values(by='orders', ascending=False).head(10))"
   ]
  },
  {
   "cell_type": "markdown",
   "metadata": {},
   "source": [
    "Число заказов по пользователям получили. Теперь перейдём к визуальному анализу."
   ]
  },
  {
   "cell_type": "code",
   "execution_count": 137,
   "metadata": {},
   "outputs": [
    {
     "data": {
      "image/png": "[encoded data removed]",
      "text/plain": [
       "<Figure size 640x480 with 1 Axes>"
      ]
     },
     "metadata": {},
     "output_type": "display_data"
    }
   ],
   "source": [
    "# Построим гистрограмму распределения количества заказов на одного пользователя.\n",
    "plt.hist(ordersByUsers['orders'])\n",
    "plt.title('Распределение количества заказов на одного пользователя')\n",
    "plt.xlabel('Количество заказов')\n",
    "plt.plot(figsize=(8, 6), grid=True)\n",
    "plt.show()"
   ]
  },
  {
   "cell_type": "markdown",
   "metadata": {},
   "source": [
    "Большинство пользователей совершило 1 заказ,так же есть пользователи, которые совершили 2,3,4,5,6 заказов.Но точного числа не можем сказать, построим график другого формата для определения пользователей, которые сделали заказ 2,3,4 и более раза. "
   ]
  },
  {
   "cell_type": "code",
   "execution_count": 138,
   "metadata": {},
   "outputs": [
    {
     "data": {
      "image/png": "[encoded data removed]",
      "text/plain": [
       "<Figure size 640x480 with 1 Axes>"
      ]
     },
     "metadata": {},
     "output_type": "display_data"
    }
   ],
   "source": [
    "# серия из чисел от 0 до количества наблюдений в ordersByUsers\n",
    "x_values = pd.Series(range(0, len(ordersByUsers)))\n",
    "\n",
    "# Построим точечную диаграмму числа заказов на одного пользователя\n",
    "plt.scatter(x_values, ordersByUsers['orders'])\n",
    "plt.title('Число заказов на одного пользователя')\n",
    "plt.ylabel('Количество заказов')\n",
    "plt.plot(figsize=(8, 6), grid=True)\n",
    "plt.show()"
   ]
  },
  {
   "cell_type": "markdown",
   "metadata": {},
   "source": [
    "**Вывод**: Пользователей заказавших более двух достаточно большое количество, данные пользователи могут быть аномальными, пока их точная доля не ясна."
   ]
  },
  {
   "cell_type": "markdown",
   "metadata": {},
   "source": [
    "#### Посчитаем 95-й и 99-й перцентили количества заказов на пользователя. Выберем границу для определения аномальных пользователей."
   ]
  },
  {
   "cell_type": "code",
   "execution_count": 139,
   "metadata": {},
   "outputs": [
    {
     "name": "stdout",
     "output_type": "stream",
     "text": [
      "[1. 1. 2.]\n"
     ]
    }
   ],
   "source": [
    "# Методом np.percentile('column', [percentile1, percentile2, percentile3]) находим перцентили.\n",
    "# Выводим на экран\n",
    "print(np.percentile(ordersByUsers['orders'], [90, 95, 99])) "
   ]
  },
  {
   "cell_type": "markdown",
   "metadata": {},
   "source": [
    "**Вывод**: Не более 5% пользователей совершили больше двух заказов. И не более 10 % пользователя более 1 заказа, 1 % пользователей более 3 заказов."
   ]
  },
  {
   "cell_type": "markdown",
   "metadata": {},
   "source": [
    "#### Построим точечный график стоимостей заказов. Сделаем выводы и предположения."
   ]
  },
  {
   "cell_type": "code",
   "execution_count": 140,
   "metadata": {},
   "outputs": [
    {
     "data": {
      "image/png": "[encoded data removed]",
      "text/plain": [
       "<Figure size 640x480 with 1 Axes>"
      ]
     },
     "metadata": {},
     "output_type": "display_data"
    }
   ],
   "source": [
    "# Изучим гистограмму распределения стоимостей заказов\n",
    "plt.hist(orders['revenue'])\n",
    "plt.title('Гистограмма распределения заказов')\n",
    "plt.xlabel('Сумма заказа')\n",
    "plt.plot(figsize=(8, 6), grid=True)\n",
    "plt.show()"
   ]
  },
  {
   "cell_type": "markdown",
   "metadata": {},
   "source": [
    "Сумма большинства заказов меньше 170 000 рублей. Но мы не можем рассмотреть другие заказы, дорогие и распределение более дешёвых. Для более детального определения нам понадобится точечный график. "
   ]
  },
  {
   "cell_type": "code",
   "execution_count": 141,
   "metadata": {},
   "outputs": [
    {
     "name": "stdout",
     "output_type": "stream",
     "text": [
      "      transactionId   visitorId       date  revenue group\n",
      "0        3667963787  3312258926 2019-08-15     1650     B\n",
      "1        2804400009  3642806036 2019-08-15      730     B\n",
      "3        3797467345  1196621759 2019-08-15     9759     B\n",
      "4        2282983706  2322279887 2019-08-15     2308     B\n",
      "5         182168103   935554773 2019-08-15     2210     B\n",
      "...             ...         ...        ...      ...   ...\n",
      "1191     3592955527   608641596 2019-08-14    16490     B\n",
      "1192     2662137336  3733762160 2019-08-14     6490     B\n",
      "1193     2203539145   370388673 2019-08-14     3190     A\n",
      "1194     1807773912   573423106 2019-08-14    10550     A\n",
      "1196     3936777065  2108080724 2019-08-15   202740     B\n",
      "\n",
      "[1016 rows x 5 columns]\n"
     ]
    },
    {
     "data": {
      "image/png": "[encoded data removed]",
      "text/plain": [
       "<Figure size 640x480 with 1 Axes>"
      ]
     },
     "metadata": {},
     "output_type": "display_data"
    }
   ],
   "source": [
    "# в переменной x_values — сгенерированные номера наблюдений.\n",
    "# Значения для вертикальной оси возьмём из столбца 'revenue' датафрейма orders.\n",
    "x_values = pd.Series(range(0, len(orders['revenue'])))\n",
    "# Постройте диаграмму методом scatter()\n",
    "plt.scatter(x_values, orders['revenue'])\n",
    "plt.title('Точечный график стоимости заказов')\n",
    "plt.ylabel('Сумма заказа')\n",
    "print(orders)"
   ]
  },
  {
   "cell_type": "markdown",
   "metadata": {},
   "source": [
    "**Вывод**: Есть выбросы в районе 200 000 рублей и выбросы с заказом в 1 200 000 рублей, вероятно это аномальный заказ."
   ]
  },
  {
   "cell_type": "markdown",
   "metadata": {},
   "source": [
    "#### Посчитаем 95-й и 99-й перцентили стоимости заказов. Выберем границу для определения аномальных заказов."
   ]
  },
  {
   "cell_type": "code",
   "execution_count": 142,
   "metadata": {},
   "outputs": [
    {
     "name": "stdout",
     "output_type": "stream",
     "text": [
      "[17990. 26785. 53904.]\n"
     ]
    }
   ],
   "source": [
    "# Посчитаем 90-й, 95-й и 99-й выборочные перцентили выручки с заказов \n",
    "print(np.percentile(orders['revenue'], [90, 95, 99]))"
   ]
  },
  {
   "cell_type": "markdown",
   "metadata": {},
   "source": [
    "**Вывод**: Не более, чем у 5% заказов чек не дороже 26 758 рублей. И не больше, чем у 1% заказов — дороже 53 904 рублей. Суммы достаточно большие."
   ]
  },
  {
   "cell_type": "markdown",
   "metadata": {},
   "source": [
    "Выберем 4 или 5 заказов на одного пользователя за верхнюю границу числа заказов, и отсеим аномальных пользователей по ней."
   ]
  },
  {
   "cell_type": "markdown",
   "metadata": {},
   "source": [
    "#### Посчитаем статистическую значимость различий в среднем количестве заказов между группами по «сырым» данным. Сделаем выводы и предположения."
   ]
  },
  {
   "cell_type": "markdown",
   "metadata": {},
   "source": [
    "Посчитаем статистическую значимость различий в среднем числе заказов на пользователя и среднем чеке между группами по «сырым» данным — без удаления аномальных пользователей."
   ]
  },
  {
   "cell_type": "markdown",
   "metadata": {},
   "source": [
    "Начнём с подготовки данных. Напишем код для объедидения данных, таблицу назовём data1:"
   ]
  },
  {
   "cell_type": "code",
   "execution_count": 143,
   "metadata": {},
   "outputs": [
    {
     "name": "stdout",
     "output_type": "stream",
     "text": [
      "        date  ordersPerDateA  revenuePerDateA  ordersPerDateB  \\\n",
      "0 2019-08-01              23           142779              17   \n",
      "1 2019-08-02              19            91602              23   \n",
      "2 2019-08-03              24           112473              14   \n",
      "3 2019-08-04              11            41176              14   \n",
      "4 2019-08-05              22            86383              21   \n",
      "\n",
      "   revenuePerDateB  ordersCummulativeA  revenueCummulativeA  \\\n",
      "0            59758                  23               142779   \n",
      "1           162043                  42               234381   \n",
      "2            67049                  66               346854   \n",
      "3            96890                  77               388030   \n",
      "4            89908                  99               474413   \n",
      "\n",
      "   ordersCummulativeB  revenueCummulativeB  visitorsPerDateA  \\\n",
      "0                  17                59758               719   \n",
      "1                  40               221801               619   \n",
      "2                  54               288850               507   \n",
      "3                  68               385740               717   \n",
      "4                  89               475648               756   \n",
      "\n",
      "   visitorsPerDateB  visitorsCummulativeA  visitorsCummulativeB  \n",
      "0               713                   719                   713  \n",
      "1               581                  1338                  1294  \n",
      "2               509                  1845                  1803  \n",
      "3               770                  2562                  2573  \n",
      "4               707                  3318                  3280  \n"
     ]
    }
   ],
   "source": [
    "# сгруппируем пользователей группы А \n",
    "visitorsADaily = visitors[visitors['group'] == 'A'][['date', 'visitors']]\n",
    "visitorsADaily.columns = ['date', 'visitorsPerDateA']\n",
    "\n",
    "# найдём количество пользователей до выбранной даты, включительно в группе А\n",
    "visitorsACummulative = visitorsADaily.apply(\n",
    "    lambda x: visitorsADaily[visitorsADaily['date'] <= x['date']].agg(\n",
    "        {'date': 'max', 'visitorsPerDateA': 'sum'}\n",
    "    ),\n",
    "    axis=1,\n",
    ")\n",
    "visitorsACummulative.columns = ['date', 'visitorsCummulativeA']\n",
    "\n",
    "# сгруппируем пользователей группы B \n",
    "visitorsBDaily = visitors[visitors['group'] == 'B'][['date', 'visitors']]\n",
    "visitorsBDaily.columns = ['date', 'visitorsPerDateB']\n",
    "\n",
    "# найдём количество пользователей до выбранной даты, включительно в группе B\n",
    "visitorsBCummulative = visitorsBDaily.apply(\n",
    "    lambda x: visitorsBDaily[visitorsBDaily['date'] <= x['date']].agg(\n",
    "        {'date': 'max', 'visitorsPerDateB': 'sum'}\n",
    "    ),\n",
    "    axis=1,\n",
    ")\n",
    "visitorsBCummulative.columns = ['date', 'visitorsCummulativeB']\n",
    "\n",
    "# сгруппируем заказы группы A\n",
    "ordersADaily = (\n",
    "    orders[orders['group'] == 'A'][['date', 'transactionId', 'visitorId', 'revenue']]\n",
    "    .groupby('date', as_index=False)\n",
    "    .agg({'transactionId': pd.Series.nunique, 'revenue': 'sum'})\n",
    ")\n",
    "ordersADaily.columns = ['date', 'ordersPerDateA', 'revenuePerDateA']\n",
    "\n",
    "# найдём суммарное число заказов до выбранной даты, включительно в группе А\n",
    "ordersACummulative = ordersADaily.apply(\n",
    "    lambda x: ordersADaily[ordersADaily['date'] <= x['date']].agg(\n",
    "        {'date': 'max', 'ordersPerDateA': 'sum', 'revenuePerDateA': 'sum'}\n",
    "    ),\n",
    "    axis=1,\n",
    ").sort_values(by=['date'])\n",
    "ordersACummulative.columns = [\n",
    "    'date',\n",
    "    'ordersCummulativeA',\n",
    "    'revenueCummulativeA',\n",
    "]\n",
    "\n",
    "# сгруппируем заказы группы B\n",
    "ordersBDaily = (\n",
    "    orders[orders['group'] == 'B'][['date', 'transactionId', 'visitorId', 'revenue']]\n",
    "    .groupby('date', as_index=False)\n",
    "    .agg({'transactionId': pd.Series.nunique, 'revenue': 'sum'})\n",
    ")\n",
    "ordersBDaily.columns = ['date', 'ordersPerDateB', 'revenuePerDateB']\n",
    "\n",
    "# найдём суммарное число заказов до выбранной даты, включительно в группе B \n",
    "ordersBCummulative = ordersBDaily.apply(\n",
    "    lambda x: ordersBDaily[ordersBDaily['date'] <= x['date']].agg(\n",
    "        {'date': 'max', 'ordersPerDateB': 'sum', 'revenuePerDateB': 'sum'}\n",
    "    ),\n",
    "    axis=1,\n",
    ").sort_values(by=['date'])\n",
    "ordersBCummulative.columns = [\n",
    "    'date',\n",
    "    'ordersCummulativeB',\n",
    "    'revenueCummulativeB',\n",
    "]\n",
    "\n",
    "# получим датафрейм data1\n",
    "data1 = (\n",
    "    ordersADaily.merge(\n",
    "        ordersBDaily, left_on='date', right_on='date', how='left'\n",
    "    )\n",
    "    .merge(ordersACummulative, left_on='date', right_on='date', how='left')\n",
    "    .merge(ordersBCummulative, left_on='date', right_on='date', how='left')\n",
    "    .merge(visitorsADaily, left_on='date', right_on='date', how='left')\n",
    "    .merge(visitorsBDaily, left_on='date', right_on='date', how='left')\n",
    "    .merge(visitorsACummulative, left_on='date', right_on='date', how='left')\n",
    "    .merge(visitorsBCummulative, left_on='date', right_on='date', how='left')\n",
    ")\n",
    "\n",
    "print(data1.head(5))"
   ]
  },
  {
   "cell_type": "markdown",
   "metadata": {},
   "source": [
    "**Обозначим название столбцов**:\n",
    "- date — дата;\n",
    "- ordersPerDateA — количество заказов в выбранную дату в группе A;\n",
    "- revenuePerDateA — суммарная выручка в выбранную дату в группе A;\n",
    "- ordersPerDateB — количество заказов в выбранную дату в группе B;\n",
    "- revenuePerDateB — суммарная выручка в выбранную дату в группе B;\n",
    "- ordersCummulativeA — суммарное число заказов до выбранной даты включительно в группе A;\n",
    "- revenueCummulativeA — суммарная выручка до выбранной даты включительно в группе A;\n",
    "- ordersCummulativeB — суммарное количество заказов до выбранной даты включительно в группе B;\n",
    "- revenueCummulativeB — суммарная выручка до выбранной даты включительно в группе B;\n",
    "- visitorsPerDateA — количество пользователей в выбранную дату в группе A;\n",
    "- visitorsPerDateB — количество пользователей в выбранную дату в группе B;\n",
    "- visitorsCummulativeA — количество пользователей до выбранной даты включительно в группе A;\n",
    "- visitorsCummulativeB — количество пользователей до выбранной даты включительно в группе B.\n"
   ]
  },
  {
   "cell_type": "markdown",
   "metadata": {},
   "source": [
    "Посчитаем статистическую значимость различия в среднем количестве заказов между группами."
   ]
  },
  {
   "cell_type": "markdown",
   "metadata": {},
   "source": [
    "**Сформулируем нулевую и альтернативную гипотезы**:\n",
    "\n",
    "- H0: Различий в среднем количестве заказов между группами по «сырым» данным нет. \n",
    "\n",
    "- H1: Различий в среднем количестве заказов между группами по «сырым» данным есть. "
   ]
  },
  {
   "cell_type": "code",
   "execution_count": 144,
   "metadata": {},
   "outputs": [
    {
     "name": "stdout",
     "output_type": "stream",
     "text": [
      "p-value: 0.01102\n",
      "Относительное различие: 0.160\n"
     ]
    }
   ],
   "source": [
    "# Создадим фреймы ordersByUsersA и ordersByUsersB со столбцами ['userId', 'orders'] \n",
    "ordersByUsersA = (\n",
    "    orders[orders['group'] == 'A']\n",
    "    .groupby('visitorId', as_index=False)\n",
    "    .agg({'transactionId': pd.Series.nunique})\n",
    ")\n",
    "ordersByUsersA.columns = ['userId', 'orders']\n",
    "\n",
    "ordersByUsersB = (\n",
    "    orders[orders['group'] == 'B']\n",
    "    .groupby('visitorId', as_index=False)\n",
    "    .agg({'transactionId': pd.Series.nunique})\n",
    ")\n",
    "ordersByUsersB.columns = ['userId', 'orders']\n",
    "\n",
    "# Объявим переменные sampleA и sampleB, в которых пользователям из разных групп будет соответствовать количество заказов\n",
    "# тем, кто ничего не заказал, будут соответствовать нули. Это нужно, чтобы подготовить выборки к проверке критерием Манна-Уитни.\n",
    "# Список с количеством заказов для каждого из пользователей: ordersByUsersA['orders'] и ordersByUsersB['orders'] \n",
    "# Их количество равно разнице между суммой посетителей и количеством записей о заказах:\n",
    "# Группы A: data1['visitorsPerDateA'].sum() - len(ordersByUsersA['orders'])\n",
    "# Группы B: data1['visitorsPerDateB'].sum() - len(ordersByUsersB['orders'])            \n",
    "# Создадим объекты pd.Series нужной длины:\n",
    "\n",
    "sampleA = pd.concat(\n",
    "    [\n",
    "        ordersByUsersA['orders'],\n",
    "        pd.Series(\n",
    "            0,\n",
    "            index=np.arange(\n",
    "                data1['visitorsPerDateA'].sum() - len(ordersByUsersA['orders'])\n",
    "            ),\n",
    "            name='orders',\n",
    "        ),\n",
    "    ],\n",
    "    axis=0,\n",
    ")\n",
    "\n",
    "sampleB = pd.concat(\n",
    "    [\n",
    "        ordersByUsersB['orders'],\n",
    "        pd.Series(\n",
    "            0,\n",
    "            index=np.arange(\n",
    "                data1['visitorsPerDateB'].sum() - len(ordersByUsersB['orders'])\n",
    "            ),\n",
    "            name='orders',\n",
    "        ),\n",
    "    ],\n",
    "    axis=0,\n",
    ")\n",
    "\n",
    "# применим критерий и отформатируем p-value, округлив его до пяти знаков после запятой.\n",
    "# найдём относительные различия в среднем количестве заказов между группами:\n",
    "# значения огруглим до трёх знаков после запятой\n",
    "print('p-value:', \"{0:.5f}\".format(stats.mannwhitneyu(sampleA, sampleB)[1]))\n",
    "print('Относительное различие:', \"{0:.3f}\".format(sampleB.mean() / sampleA.mean() - 1))"
   ]
  },
  {
   "cell_type": "markdown",
   "metadata": {},
   "source": [
    "**Вывод**: Применив метод  Манна-Уитни мы узнали что по сырым данным есть различия в среднем числе заказов групп А и групп B,  потому что первое число - p-value = 0.01102, меньше 0.05, поэтому нулевую гипотезу, что статистически значимых различий в среднем числе заказов между группами нет, мы отвергаем . Относительный прирост среднего группы B к конверсии группы A равен 16 %."
   ]
  },
  {
   "cell_type": "markdown",
   "metadata": {},
   "source": [
    "#### Посчитаем статистическую значимость различий в среднем чеке заказа между группами по «сырым» данным. Сделаем выводы и предположения."
   ]
  },
  {
   "cell_type": "markdown",
   "metadata": {},
   "source": [
    "**Сформулируем нулевую и альтернативную гипотезы**:\n",
    "\n",
    "- H0: Различий в среднем чеке заказа между группами по «сырым» данным нет. \n",
    "\n",
    "- H1: Различий в среднем чеке заказа между группами по «сырым» данным есть."
   ]
  },
  {
   "cell_type": "code",
   "execution_count": 145,
   "metadata": {},
   "outputs": [
    {
     "name": "stdout",
     "output_type": "stream",
     "text": [
      "p-value: 0.82949\n",
      "различия в среднем чеке: 0.287\n"
     ]
    }
   ],
   "source": [
    "# Теперь проверим статистическую значимость различий в среднем чеке между сегментами.\n",
    "# Нулевая гипотеза: различий в среднем чеке между группами нет.\n",
    "# Альтернативная гипотеза: различия в среднем чеке между группами есть.\n",
    "print('p-value:','{0:.5f}'.format(stats.mannwhitneyu(orders[orders['group']=='A']['revenue'], orders[orders['group']=='B']['revenue'])[1]))\n",
    "# средний чек группы B\n",
    "print('различия в среднем чеке:','{0:.3f}'.format(orders[orders['group']=='B']['revenue'].mean()/orders[orders['group']=='A']['revenue'].mean()-1))"
   ]
  },
  {
   "cell_type": "markdown",
   "metadata": {},
   "source": [
    "**Вывод**: P-value значительно больше 0.05. Значит, причин отвергать нулевую гипотезу и считать, что в среднем чеке есть различия, нет. Относительное различие среднего чека между сегментами группы B к группе A 28,7%"
   ]
  },
  {
   "cell_type": "markdown",
   "metadata": {},
   "source": [
    "#### Посчитаем статистическую значимость различий в среднем количестве заказов между группами по «очищенным» данным. Сделаем выводы и предположения."
   ]
  },
  {
   "cell_type": "markdown",
   "metadata": {},
   "source": [
    "**Очистим данные, уберём аномальных пользователей**"
   ]
  },
  {
   "cell_type": "markdown",
   "metadata": {},
   "source": [
    "В предыдущих заданиях мы нашли 95-й и 99-й перцентили средних чеков равны 26 758 и 53 904 рублям. А 95-й и 99-й перцентили количества заказов на одного пользователя равны 2 и 4 заказа на пользователя."
   ]
  },
  {
   "cell_type": "markdown",
   "metadata": {},
   "source": [
    "Уберём аномальным пользователей, примим за аномальных пользователей тех кто совершил заказов 4 и более. И пользователей совершивших заказов на сумму свыше 40000 рублей "
   ]
  },
  {
   "cell_type": "code",
   "execution_count": 146,
   "metadata": {},
   "outputs": [
    {
     "name": "stdout",
     "output_type": "stream",
     "text": [
      "1099    148427295\n",
      "684     358944393\n",
      "648     382846391\n",
      "1137    759473111\n",
      "339     834731816\n",
      "dtype: int64\n",
      "23\n"
     ]
    }
   ],
   "source": [
    "# Приступаем к подготовке очищенных от аномалий данных.\n",
    "# удалим пользователей , определим аномальные заказы \n",
    "\n",
    "usersWithManyOrders = pd.concat(\n",
    "    [\n",
    "        ordersByUsersA[ordersByUsersA['orders'] >4]['userId'],\n",
    "        ordersByUsersB[ordersByUsersB['orders'] >4]['userId'],\n",
    "    ],\n",
    "    axis=0,\n",
    ")\n",
    "usersWithExpensiveOrders = orders[orders['revenue'] > 40000]['visitorId']\n",
    "abnormalUsers = (\n",
    "    pd.concat([usersWithManyOrders, usersWithExpensiveOrders], axis=0)\n",
    "    .drop_duplicates()\n",
    "    .sort_values()\n",
    ")\n",
    "\n",
    "print(abnormalUsers.head(5))\n",
    "# выводим аномальных пользователей, считаем их спомощью атрибута shape[0]\n",
    "print(abnormalUsers.shape[0])"
   ]
  },
  {
   "cell_type": "markdown",
   "metadata": {},
   "source": [
    "Таких пользователей у нас получилось 23, в дальнейшее исследование их включать не будем"
   ]
  },
  {
   "cell_type": "markdown",
   "metadata": {},
   "source": [
    "Создадим переменные sampleAFiltered и sampleBFiltered, в которых сохраним очищенные данные о заказах — не включая аномальных пользователей."
   ]
  },
  {
   "cell_type": "markdown",
   "metadata": {},
   "source": [
    "**Сформулируем нулевую и альтернативную гипотезы**:\n",
    "\n",
    "- H0: Различий в среднем количестве заказов между группами по «очищенным» данным нет. \n",
    "\n",
    "- H1: Различий в среднем количестве заказов между группами по «очищенным» данным есть."
   ]
  },
  {
   "cell_type": "code",
   "execution_count": 147,
   "metadata": {},
   "outputs": [
    {
     "name": "stdout",
     "output_type": "stream",
     "text": [
      "p-value: 0.006\n",
      "относительный прирост среднего: 0.178\n"
     ]
    }
   ],
   "source": [
    "# Создадим переменные sampleAFiltered и sampleBFiltered, в которых сохраним очищенные данные о заказах\n",
    "sampleAFiltered = pd.concat(   \n",
    "     [    \n",
    "    ordersByUsersA[\n",
    "            np.logical_not(ordersByUsersA['userId'].isin(abnormalUsers))\n",
    "        ]['orders'],\n",
    "        pd.Series(\n",
    "            0,\n",
    "            index=np.arange(\n",
    "                data1['visitorsPerDateA'].sum() - len(ordersByUsersA['orders'])\n",
    "            ),\n",
    "            name='orders',\n",
    "        ),\n",
    "    ],\n",
    "    axis=0,\n",
    ")\n",
    "\n",
    "sampleBFiltered = pd.concat(\n",
    "    [\n",
    "        ordersByUsersB[\n",
    "            np.logical_not(ordersByUsersB['userId'].isin(abnormalUsers))\n",
    "        ]['orders'],\n",
    "        pd.Series(\n",
    "            0,\n",
    "            index=np.arange(\n",
    "                data1['visitorsPerDateB'].sum() - len(ordersByUsersB['orders'])\n",
    "            ),\n",
    "            name='orders',\n",
    "        ),\n",
    "    ],\n",
    "    axis=0,\n",
    ") \n",
    "# Выведем p-value для сравнения среднего между очищенными группами.\n",
    "# Округлим p-value до пяти знаков после запятой.\n",
    "# Выведем относительный прирост среднего очищенной группы B, округлив до трёх знаков после запятой.\n",
    "print('p-value:','{0:.3f}'.format(stats.mannwhitneyu(sampleAFiltered, sampleBFiltered)[1]))\n",
    "print('относительный прирост среднего:', '{0:.3f}'.format(sampleBFiltered.mean()/sampleAFiltered.mean()-1))\n"
   ]
  },
  {
   "cell_type": "markdown",
   "metadata": {},
   "source": [
    "**Вывод**: Если смотреть по «очищенным» данным, p-value равно 0.006, оно меньше 0.05. Значит нулевую гипотезу мы отвергаем. Следовательно различия  в среднем количестве заказов между группами по «очищенным» данным есть.  Относительное различие среднего чека между сегментами группы B к группе A 17.8%. Это говорит нам о том, что аномальные пользователи влияют на результат."
   ]
  },
  {
   "cell_type": "markdown",
   "metadata": {},
   "source": [
    "#### Посчитаем статистическую значимость различий в среднем чеке заказа между группами по «очищенным» данным. Сделаем выводы и предположения."
   ]
  },
  {
   "cell_type": "markdown",
   "metadata": {},
   "source": [
    "**Сформулируем нулевую и альтернативную гипотезы**:\n",
    "\n",
    "- H0: Различий в среднем чеке заказа между группами по «очищенным» данным нет. \n",
    "\n",
    "- H1: Различий в среднем чеке заказа между группами по «очищенным» данным есть."
   ]
  },
  {
   "cell_type": "code",
   "execution_count": 148,
   "metadata": {},
   "outputs": [
    {
     "name": "stdout",
     "output_type": "stream",
     "text": [
      "p-value: 0.831\n",
      "статистическая значимость различий: 0.051\n"
     ]
    }
   ],
   "source": [
    "# Посчитаем статистическую значимость различия средних чеков после удаления аномальных пользователей\n",
    "\n",
    "print('p-value:',\n",
    "    '{0:.3f}'.format(\n",
    "        stats.mannwhitneyu(\n",
    "            orders[\n",
    "                np.logical_and(\n",
    "                    orders['group'] == 'A',\n",
    "                    np.logical_not(orders['visitorId'].isin(abnormalUsers)),\n",
    "                )\n",
    "            ]['revenue'],\n",
    "            orders[\n",
    "                np.logical_and(\n",
    "                    orders['group'] == 'B',\n",
    "                    np.logical_not(orders['visitorId'].isin(abnormalUsers)),\n",
    "                )\n",
    "            ]['revenue'],\n",
    "        )[1]\n",
    "    )\n",
    ")\n",
    "\n",
    "print('статистическая значимость различий:',\n",
    "    \"{0:.3f}\".format(\n",
    "        orders[\n",
    "            np.logical_and(\n",
    "                orders['group'] == 'B',\n",
    "                np.logical_not(orders['visitorId'].isin(abnormalUsers)),\n",
    "            )\n",
    "        ]['revenue'].mean()\n",
    "        / orders[\n",
    "            np.logical_and(\n",
    "                orders['group'] == 'A',\n",
    "                np.logical_not(orders['visitorId'].isin(abnormalUsers)),\n",
    "            )\n",
    "        ]['revenue'].mean()\n",
    "        - 1\n",
    "    )\n",
    ")\n"
   ]
  },
  {
   "cell_type": "markdown",
   "metadata": {},
   "source": [
    "**Вывод**: p-value равен 0.831 значительно больше чем 0,05. Значит, причин отвергать нулевую гипотезу и считать, что в среднем чеке есть различия, нет. Относительное различие среднего чека между сегментами группы B к группе A 5,1%."
   ]
  },
  {
   "cell_type": "markdown",
   "metadata": {},
   "source": [
    "#### Примим решение по результатам теста и объясним его. Варианты решений: 1. Остановить тест, зафиксировать победу одной из групп. 2. Остановить тест, зафиксировать отсутствие различий между группами. 3. Продолжить тест."
   ]
  },
  {
   "cell_type": "markdown",
   "metadata": {},
   "source": [
    "**Примим решение по результатам теста**: \n",
    "-  Различия в среднем количестве заказов между группами A и B по «сырым» данным есть. Прирост группы B 16%\n",
    "\n",
    "-  Различий в среднем чеке заказа между группами по «сырым» данным нет.\n",
    "   Относительное различие среднего чека между сегментами группы B к группе A 28,7%\n",
    "\n",
    "-  Различий в среднем количестве заказов между группами по «очищенным» данным есть.\n",
    "   Относительное различие среднего чека между сегментами группы B к группе A 17.8%.\n",
    "   \n",
    "-  Различий в среднем чеке заказа между группами по «очищенным» данным нет.\n",
    "   Относительное различие среднего чека между сегментами группы B к группе A 5,1%.  \n",
    "\n",
    "-  График различия конверсии между группами сообщает, что результаты группы B лучше группы A: имеют тенденцию к росту, либо      зафиксировались около среднего значения.\n",
    "-  График различия среднего чека колеблется: он и позволил нам выявить аномалии. Сделать из этого графика определённые выводы нельзя."
   ]
  },
  {
   "cell_type": "markdown",
   "metadata": {},
   "source": [
    "# Вывод : \n",
    "Мы остановливаем тест, так как продолжать дальше его нет смысла. Группа B лучше группы A по данным, а график конверсии говорит о фиксации результата."
   ]
  }
 ],
 "metadata": {
  "ExecuteTimeLog": [
   {
    "duration": 84,
    "start_time": "2022-10-27T08:51:25.894Z"
   },
   {
    "duration": 361,
    "start_time": "2022-10-27T10:40:29.711Z"
   },
   {
    "duration": 167,
    "start_time": "2022-10-27T10:44:00.439Z"
   },
   {
    "duration": 2,
    "start_time": "2022-10-27T10:44:06.502Z"
   },
   {
    "duration": 113,
    "start_time": "2022-10-27T10:44:09.207Z"
   },
   {
    "duration": 94,
    "start_time": "2022-10-27T10:45:00.140Z"
   },
   {
    "duration": 98,
    "start_time": "2022-10-27T10:45:47.176Z"
   },
   {
    "duration": 97,
    "start_time": "2022-10-27T10:45:54.155Z"
   },
   {
    "duration": 34,
    "start_time": "2022-10-27T10:46:55.681Z"
   },
   {
    "duration": 67,
    "start_time": "2022-10-27T10:47:08.302Z"
   },
   {
    "duration": 30,
    "start_time": "2022-10-27T10:47:13.405Z"
   },
   {
    "duration": 29,
    "start_time": "2022-10-27T10:47:46.617Z"
   },
   {
    "duration": 41,
    "start_time": "2022-10-27T10:49:15.480Z"
   },
   {
    "duration": 67,
    "start_time": "2022-10-27T10:51:14.803Z"
   },
   {
    "duration": 92,
    "start_time": "2022-10-27T10:51:21.318Z"
   },
   {
    "duration": 91,
    "start_time": "2022-10-27T10:51:32.967Z"
   },
   {
    "duration": 94,
    "start_time": "2022-10-27T10:51:36.513Z"
   },
   {
    "duration": 84,
    "start_time": "2022-10-27T10:51:40.361Z"
   },
   {
    "duration": 129,
    "start_time": "2022-10-27T10:52:12.265Z"
   },
   {
    "duration": 164,
    "start_time": "2022-10-27T10:54:12.371Z"
   },
   {
    "duration": 92,
    "start_time": "2022-10-27T10:55:04.999Z"
   },
   {
    "duration": 13,
    "start_time": "2022-10-27T10:57:27.715Z"
   },
   {
    "duration": 12,
    "start_time": "2022-10-27T10:57:45.852Z"
   },
   {
    "duration": 9,
    "start_time": "2022-10-27T10:58:25.503Z"
   },
   {
    "duration": 59,
    "start_time": "2022-10-27T10:59:11.104Z"
   },
   {
    "duration": 6,
    "start_time": "2022-10-27T10:59:21.121Z"
   },
   {
    "duration": 10,
    "start_time": "2022-10-27T10:59:28.945Z"
   },
   {
    "duration": 11,
    "start_time": "2022-10-27T11:00:46.699Z"
   },
   {
    "duration": 11,
    "start_time": "2022-10-27T11:08:00.104Z"
   },
   {
    "duration": 9,
    "start_time": "2022-10-27T11:08:42.466Z"
   },
   {
    "duration": 4,
    "start_time": "2022-10-27T11:24:11.430Z"
   },
   {
    "duration": 6,
    "start_time": "2022-10-27T11:24:40.947Z"
   },
   {
    "duration": 4,
    "start_time": "2022-10-27T11:25:13.472Z"
   },
   {
    "duration": 8,
    "start_time": "2022-10-27T11:26:37.100Z"
   },
   {
    "duration": 6,
    "start_time": "2022-10-27T11:27:02.925Z"
   },
   {
    "duration": 12,
    "start_time": "2022-10-27T11:27:30.173Z"
   },
   {
    "duration": 5,
    "start_time": "2022-10-27T11:29:15.311Z"
   },
   {
    "duration": 94,
    "start_time": "2022-10-27T11:29:15.707Z"
   },
   {
    "duration": 14,
    "start_time": "2022-10-27T11:29:16.785Z"
   },
   {
    "duration": 7,
    "start_time": "2022-10-27T11:29:17.107Z"
   },
   {
    "duration": 10,
    "start_time": "2022-10-27T11:29:17.632Z"
   },
   {
    "duration": 13,
    "start_time": "2022-10-27T11:29:18.037Z"
   },
   {
    "duration": 10,
    "start_time": "2022-10-27T11:29:18.414Z"
   },
   {
    "duration": 9,
    "start_time": "2022-10-27T11:29:18.841Z"
   },
   {
    "duration": 6,
    "start_time": "2022-10-27T11:29:20.207Z"
   },
   {
    "duration": 6,
    "start_time": "2022-10-27T11:29:20.401Z"
   },
   {
    "duration": 6,
    "start_time": "2022-10-27T11:29:20.605Z"
   },
   {
    "duration": 6,
    "start_time": "2022-10-27T11:29:20.948Z"
   },
   {
    "duration": 6,
    "start_time": "2022-10-27T11:29:21.669Z"
   },
   {
    "duration": 6,
    "start_time": "2022-10-27T11:29:22.061Z"
   },
   {
    "duration": 5,
    "start_time": "2022-10-27T11:35:24.564Z"
   },
   {
    "duration": 12,
    "start_time": "2022-10-27T11:35:55.121Z"
   },
   {
    "duration": 6,
    "start_time": "2022-10-27T11:36:12.758Z"
   },
   {
    "duration": 15,
    "start_time": "2022-10-27T11:36:14.195Z"
   },
   {
    "duration": 2,
    "start_time": "2022-10-27T11:36:47.206Z"
   },
   {
    "duration": 101,
    "start_time": "2022-10-27T11:36:47.563Z"
   },
   {
    "duration": 9,
    "start_time": "2022-10-27T11:36:48.830Z"
   },
   {
    "duration": 9,
    "start_time": "2022-10-27T11:36:49.318Z"
   },
   {
    "duration": 9,
    "start_time": "2022-10-27T11:36:50.548Z"
   },
   {
    "duration": 13,
    "start_time": "2022-10-27T11:36:50.944Z"
   },
   {
    "duration": 9,
    "start_time": "2022-10-27T11:36:51.331Z"
   },
   {
    "duration": 10,
    "start_time": "2022-10-27T11:36:53.304Z"
   },
   {
    "duration": 5,
    "start_time": "2022-10-27T11:36:55.922Z"
   },
   {
    "duration": 5,
    "start_time": "2022-10-27T11:36:56.267Z"
   },
   {
    "duration": 4,
    "start_time": "2022-10-27T11:36:56.635Z"
   },
   {
    "duration": 6,
    "start_time": "2022-10-27T11:36:57.681Z"
   },
   {
    "duration": 9,
    "start_time": "2022-10-27T11:36:57.968Z"
   },
   {
    "duration": 7,
    "start_time": "2022-10-27T11:36:58.306Z"
   },
   {
    "duration": 12,
    "start_time": "2022-10-27T11:37:00.002Z"
   },
   {
    "duration": 8,
    "start_time": "2022-10-27T11:37:12.843Z"
   },
   {
    "duration": 10,
    "start_time": "2022-10-27T11:37:13.048Z"
   },
   {
    "duration": 11,
    "start_time": "2022-10-27T11:37:14.442Z"
   },
   {
    "duration": 10,
    "start_time": "2022-10-27T11:37:18.645Z"
   },
   {
    "duration": 9,
    "start_time": "2022-10-27T11:37:18.908Z"
   },
   {
    "duration": 5,
    "start_time": "2022-10-27T11:37:23.803Z"
   },
   {
    "duration": 7,
    "start_time": "2022-10-27T11:37:24.199Z"
   },
   {
    "duration": 4,
    "start_time": "2022-10-27T11:37:24.468Z"
   },
   {
    "duration": 5,
    "start_time": "2022-10-27T11:37:25.738Z"
   },
   {
    "duration": 5,
    "start_time": "2022-10-27T11:37:26.246Z"
   },
   {
    "duration": 7,
    "start_time": "2022-10-27T11:37:27.008Z"
   },
   {
    "duration": 12,
    "start_time": "2022-10-27T11:37:29.062Z"
   },
   {
    "duration": 19,
    "start_time": "2022-10-27T11:38:28.711Z"
   },
   {
    "duration": 2,
    "start_time": "2022-10-27T11:39:54.436Z"
   },
   {
    "duration": 16,
    "start_time": "2022-10-27T11:40:31.415Z"
   },
   {
    "duration": 2,
    "start_time": "2022-10-27T11:40:42.260Z"
   },
   {
    "duration": 95,
    "start_time": "2022-10-27T11:40:42.794Z"
   },
   {
    "duration": 15,
    "start_time": "2022-10-27T11:40:44.667Z"
   },
   {
    "duration": 17,
    "start_time": "2022-10-27T11:40:45.395Z"
   },
   {
    "duration": 15,
    "start_time": "2022-10-27T11:40:45.885Z"
   },
   {
    "duration": 11,
    "start_time": "2022-10-27T11:40:46.506Z"
   },
   {
    "duration": 10,
    "start_time": "2022-10-27T11:40:47.048Z"
   },
   {
    "duration": 12,
    "start_time": "2022-10-27T11:40:48.029Z"
   },
   {
    "duration": 7,
    "start_time": "2022-10-27T11:41:00.785Z"
   },
   {
    "duration": 6,
    "start_time": "2022-10-27T11:41:01.134Z"
   },
   {
    "duration": 10,
    "start_time": "2022-10-27T11:41:01.476Z"
   },
   {
    "duration": 8,
    "start_time": "2022-10-27T11:41:02.304Z"
   },
   {
    "duration": 8,
    "start_time": "2022-10-27T11:41:02.838Z"
   },
   {
    "duration": 5,
    "start_time": "2022-10-27T11:41:03.518Z"
   },
   {
    "duration": 20,
    "start_time": "2022-10-27T11:41:05.410Z"
   },
   {
    "duration": 33,
    "start_time": "2022-10-27T11:41:08.982Z"
   },
   {
    "duration": 19,
    "start_time": "2022-10-27T11:41:10.163Z"
   },
   {
    "duration": 16,
    "start_time": "2022-10-27T11:44:44.140Z"
   },
   {
    "duration": 2,
    "start_time": "2022-10-27T11:44:55.138Z"
   },
   {
    "duration": 98,
    "start_time": "2022-10-27T11:44:55.810Z"
   },
   {
    "duration": 13,
    "start_time": "2022-10-27T11:44:57.307Z"
   },
   {
    "duration": 9,
    "start_time": "2022-10-27T11:44:57.703Z"
   },
   {
    "duration": 11,
    "start_time": "2022-10-27T11:44:58.038Z"
   },
   {
    "duration": 12,
    "start_time": "2022-10-27T11:44:58.440Z"
   },
   {
    "duration": 11,
    "start_time": "2022-10-27T11:44:58.860Z"
   },
   {
    "duration": 10,
    "start_time": "2022-10-27T11:44:59.118Z"
   },
   {
    "duration": 6,
    "start_time": "2022-10-27T11:45:00.805Z"
   },
   {
    "duration": 6,
    "start_time": "2022-10-27T11:45:01.043Z"
   },
   {
    "duration": 6,
    "start_time": "2022-10-27T11:45:01.272Z"
   },
   {
    "duration": 11,
    "start_time": "2022-10-27T11:45:01.878Z"
   },
   {
    "duration": 5,
    "start_time": "2022-10-27T11:45:02.408Z"
   },
   {
    "duration": 6,
    "start_time": "2022-10-27T11:45:02.831Z"
   },
   {
    "duration": 21,
    "start_time": "2022-10-27T11:45:05.000Z"
   },
   {
    "duration": 17,
    "start_time": "2022-10-27T11:45:06.101Z"
   },
   {
    "duration": 1357,
    "start_time": "2022-10-27T11:53:09.018Z"
   },
   {
    "duration": 1579,
    "start_time": "2022-10-27T11:54:13.354Z"
   },
   {
    "duration": 53,
    "start_time": "2022-10-27T11:54:23.077Z"
   },
   {
    "duration": 53,
    "start_time": "2022-10-27T11:54:31.579Z"
   },
   {
    "duration": 34,
    "start_time": "2022-10-27T11:58:26.412Z"
   },
   {
    "duration": 11,
    "start_time": "2022-10-27T11:59:02.577Z"
   },
   {
    "duration": 7,
    "start_time": "2022-10-27T12:00:05.347Z"
   },
   {
    "duration": 11,
    "start_time": "2022-10-27T12:00:28.400Z"
   },
   {
    "duration": 9,
    "start_time": "2022-10-27T12:00:47.402Z"
   },
   {
    "duration": 7,
    "start_time": "2022-10-27T12:04:49.550Z"
   },
   {
    "duration": 9,
    "start_time": "2022-10-27T12:08:21.110Z"
   },
   {
    "duration": 12,
    "start_time": "2022-10-27T12:10:10.494Z"
   },
   {
    "duration": 7,
    "start_time": "2022-10-27T12:11:01.621Z"
   },
   {
    "duration": 12,
    "start_time": "2022-10-27T12:11:57.396Z"
   },
   {
    "duration": 17,
    "start_time": "2022-10-27T12:12:45.975Z"
   },
   {
    "duration": 7,
    "start_time": "2022-10-27T12:12:53.603Z"
   },
   {
    "duration": 13,
    "start_time": "2022-10-27T12:12:54.777Z"
   },
   {
    "duration": 9,
    "start_time": "2022-10-27T12:14:17.066Z"
   },
   {
    "duration": 10,
    "start_time": "2022-10-27T12:20:11.993Z"
   },
   {
    "duration": 11,
    "start_time": "2022-10-27T12:21:14.390Z"
   },
   {
    "duration": 2,
    "start_time": "2022-10-27T12:51:56.092Z"
   },
   {
    "duration": 76,
    "start_time": "2022-10-27T12:51:56.927Z"
   },
   {
    "duration": 10,
    "start_time": "2022-10-27T12:51:57.827Z"
   },
   {
    "duration": 7,
    "start_time": "2022-10-27T12:51:58.115Z"
   },
   {
    "duration": 9,
    "start_time": "2022-10-27T12:51:58.344Z"
   },
   {
    "duration": 15,
    "start_time": "2022-10-27T12:51:58.545Z"
   },
   {
    "duration": 9,
    "start_time": "2022-10-27T12:51:58.988Z"
   },
   {
    "duration": 9,
    "start_time": "2022-10-27T12:51:59.228Z"
   },
   {
    "duration": 5,
    "start_time": "2022-10-27T12:52:00.485Z"
   },
   {
    "duration": 5,
    "start_time": "2022-10-27T12:52:01.912Z"
   },
   {
    "duration": 4,
    "start_time": "2022-10-27T12:52:02.199Z"
   },
   {
    "duration": 5,
    "start_time": "2022-10-27T12:52:02.588Z"
   },
   {
    "duration": 5,
    "start_time": "2022-10-27T12:52:02.772Z"
   },
   {
    "duration": 5,
    "start_time": "2022-10-27T12:52:02.953Z"
   },
   {
    "duration": 18,
    "start_time": "2022-10-27T12:52:03.709Z"
   },
   {
    "duration": 16,
    "start_time": "2022-10-27T12:52:04.054Z"
   },
   {
    "duration": 11,
    "start_time": "2022-10-27T12:52:14.240Z"
   },
   {
    "duration": 10,
    "start_time": "2022-10-27T12:52:21.605Z"
   },
   {
    "duration": 9,
    "start_time": "2022-10-27T12:52:22.323Z"
   },
   {
    "duration": 9,
    "start_time": "2022-10-27T13:08:16.918Z"
   },
   {
    "duration": 9,
    "start_time": "2022-10-27T13:10:05.727Z"
   },
   {
    "duration": 8,
    "start_time": "2022-10-27T13:12:37.355Z"
   },
   {
    "duration": 10,
    "start_time": "2022-10-27T14:00:41.515Z"
   },
   {
    "duration": 3,
    "start_time": "2022-10-27T14:07:04.467Z"
   },
   {
    "duration": 78,
    "start_time": "2022-10-27T14:07:05.812Z"
   },
   {
    "duration": 11,
    "start_time": "2022-10-27T14:07:07.107Z"
   },
   {
    "duration": 8,
    "start_time": "2022-10-27T14:07:07.574Z"
   },
   {
    "duration": 9,
    "start_time": "2022-10-27T14:07:08.248Z"
   },
   {
    "duration": 16,
    "start_time": "2022-10-27T14:07:08.828Z"
   },
   {
    "duration": 14,
    "start_time": "2022-10-27T14:07:09.454Z"
   },
   {
    "duration": 14,
    "start_time": "2022-10-27T14:07:10.188Z"
   },
   {
    "duration": 6,
    "start_time": "2022-10-27T14:07:14.368Z"
   },
   {
    "duration": 6,
    "start_time": "2022-10-27T14:07:14.672Z"
   },
   {
    "duration": 6,
    "start_time": "2022-10-27T14:07:15.044Z"
   },
   {
    "duration": 19,
    "start_time": "2022-10-27T14:07:15.712Z"
   },
   {
    "duration": 7,
    "start_time": "2022-10-27T14:07:16.019Z"
   },
   {
    "duration": 8,
    "start_time": "2022-10-27T14:07:16.252Z"
   },
   {
    "duration": 23,
    "start_time": "2022-10-27T14:07:17.823Z"
   },
   {
    "duration": 24,
    "start_time": "2022-10-27T14:07:23.351Z"
   },
   {
    "duration": 10,
    "start_time": "2022-10-27T14:07:30.156Z"
   },
   {
    "duration": 10,
    "start_time": "2022-10-27T14:07:32.076Z"
   },
   {
    "duration": 9,
    "start_time": "2022-10-27T14:07:34.567Z"
   },
   {
    "duration": 2,
    "start_time": "2022-10-27T14:15:19.662Z"
   },
   {
    "duration": 76,
    "start_time": "2022-10-27T14:15:20.010Z"
   },
   {
    "duration": 11,
    "start_time": "2022-10-27T14:15:20.373Z"
   },
   {
    "duration": 8,
    "start_time": "2022-10-27T14:15:20.555Z"
   },
   {
    "duration": 10,
    "start_time": "2022-10-27T14:15:20.729Z"
   },
   {
    "duration": 11,
    "start_time": "2022-10-27T14:15:20.903Z"
   },
   {
    "duration": 10,
    "start_time": "2022-10-27T14:15:21.110Z"
   },
   {
    "duration": 9,
    "start_time": "2022-10-27T14:15:21.279Z"
   },
   {
    "duration": 5,
    "start_time": "2022-10-27T14:15:22.307Z"
   },
   {
    "duration": 6,
    "start_time": "2022-10-27T14:15:22.527Z"
   },
   {
    "duration": 6,
    "start_time": "2022-10-27T14:15:22.720Z"
   },
   {
    "duration": 6,
    "start_time": "2022-10-27T14:15:23.095Z"
   },
   {
    "duration": 6,
    "start_time": "2022-10-27T14:15:23.286Z"
   },
   {
    "duration": 6,
    "start_time": "2022-10-27T14:15:23.467Z"
   },
   {
    "duration": 28,
    "start_time": "2022-10-27T14:15:24.217Z"
   },
   {
    "duration": 17,
    "start_time": "2022-10-27T14:15:24.850Z"
   },
   {
    "duration": 10,
    "start_time": "2022-10-27T14:15:26.636Z"
   },
   {
    "duration": 11,
    "start_time": "2022-10-27T14:15:28.276Z"
   },
   {
    "duration": 8,
    "start_time": "2022-10-27T14:15:29.685Z"
   },
   {
    "duration": 8,
    "start_time": "2022-10-27T14:20:08.322Z"
   },
   {
    "duration": 3,
    "start_time": "2022-10-27T14:21:42.107Z"
   },
   {
    "duration": 391,
    "start_time": "2022-10-27T14:21:59.893Z"
   },
   {
    "duration": 19,
    "start_time": "2022-10-27T14:22:17.670Z"
   },
   {
    "duration": 124,
    "start_time": "2022-10-27T14:26:42.272Z"
   },
   {
    "duration": 373,
    "start_time": "2022-10-27T14:36:38.746Z"
   },
   {
    "duration": 24,
    "start_time": "2022-10-27T14:37:49.063Z"
   },
   {
    "duration": 22,
    "start_time": "2022-10-27T14:38:27.530Z"
   },
   {
    "duration": 260,
    "start_time": "2022-10-27T14:40:08.495Z"
   },
   {
    "duration": 381,
    "start_time": "2022-10-27T14:41:38.810Z"
   },
   {
    "duration": 3,
    "start_time": "2022-10-27T14:43:42.546Z"
   },
   {
    "duration": 77,
    "start_time": "2022-10-27T14:43:42.942Z"
   },
   {
    "duration": 11,
    "start_time": "2022-10-27T14:43:43.335Z"
   },
   {
    "duration": 8,
    "start_time": "2022-10-27T14:43:43.538Z"
   },
   {
    "duration": 14,
    "start_time": "2022-10-27T14:43:43.730Z"
   },
   {
    "duration": 16,
    "start_time": "2022-10-27T14:43:43.953Z"
   },
   {
    "duration": 14,
    "start_time": "2022-10-27T14:43:44.155Z"
   },
   {
    "duration": 12,
    "start_time": "2022-10-27T14:43:44.381Z"
   },
   {
    "duration": 7,
    "start_time": "2022-10-27T14:43:45.721Z"
   },
   {
    "duration": 7,
    "start_time": "2022-10-27T14:43:45.951Z"
   },
   {
    "duration": 5,
    "start_time": "2022-10-27T14:43:46.197Z"
   },
   {
    "duration": 7,
    "start_time": "2022-10-27T14:43:46.611Z"
   },
   {
    "duration": 7,
    "start_time": "2022-10-27T14:43:46.953Z"
   },
   {
    "duration": 7,
    "start_time": "2022-10-27T14:43:47.353Z"
   },
   {
    "duration": 10,
    "start_time": "2022-10-27T14:43:50.441Z"
   },
   {
    "duration": 11,
    "start_time": "2022-10-27T14:43:51.309Z"
   },
   {
    "duration": 8,
    "start_time": "2022-10-27T14:43:52.268Z"
   },
   {
    "duration": 391,
    "start_time": "2022-10-27T14:43:54.970Z"
   },
   {
    "duration": 361,
    "start_time": "2022-10-27T14:44:20.969Z"
   },
   {
    "duration": 250,
    "start_time": "2022-10-27T14:45:03.145Z"
   },
   {
    "duration": 294,
    "start_time": "2022-10-27T14:50:27.669Z"
   },
   {
    "duration": 20,
    "start_time": "2022-10-27T15:13:14.952Z"
   },
   {
    "duration": 9,
    "start_time": "2022-10-27T15:13:17.524Z"
   },
   {
    "duration": 9,
    "start_time": "2022-10-27T15:13:18.565Z"
   },
   {
    "duration": 9,
    "start_time": "2022-10-27T15:13:19.843Z"
   },
   {
    "duration": 452,
    "start_time": "2022-10-27T15:13:23.303Z"
   },
   {
    "duration": 9,
    "start_time": "2022-10-27T15:14:11.146Z"
   },
   {
    "duration": 12,
    "start_time": "2022-10-27T15:14:12.731Z"
   },
   {
    "duration": 9,
    "start_time": "2022-10-27T15:14:14.706Z"
   },
   {
    "duration": 435,
    "start_time": "2022-10-27T15:14:18.264Z"
   },
   {
    "duration": 20,
    "start_time": "2022-10-27T15:14:21.752Z"
   },
   {
    "duration": 2,
    "start_time": "2022-10-27T15:14:50.152Z"
   },
   {
    "duration": 79,
    "start_time": "2022-10-27T15:14:50.602Z"
   },
   {
    "duration": 10,
    "start_time": "2022-10-27T15:14:51.191Z"
   },
   {
    "duration": 7,
    "start_time": "2022-10-27T15:14:51.936Z"
   },
   {
    "duration": 9,
    "start_time": "2022-10-27T15:14:52.366Z"
   },
   {
    "duration": 14,
    "start_time": "2022-10-27T15:14:52.755Z"
   },
   {
    "duration": 9,
    "start_time": "2022-10-27T15:14:53.087Z"
   },
   {
    "duration": 9,
    "start_time": "2022-10-27T15:14:53.378Z"
   },
   {
    "duration": 4,
    "start_time": "2022-10-27T15:14:54.660Z"
   },
   {
    "duration": 5,
    "start_time": "2022-10-27T15:14:54.856Z"
   },
   {
    "duration": 5,
    "start_time": "2022-10-27T15:14:55.061Z"
   },
   {
    "duration": 5,
    "start_time": "2022-10-27T15:14:55.469Z"
   },
   {
    "duration": 5,
    "start_time": "2022-10-27T15:14:55.855Z"
   },
   {
    "duration": 6,
    "start_time": "2022-10-27T15:14:56.078Z"
   },
   {
    "duration": 9,
    "start_time": "2022-10-27T15:14:59.883Z"
   },
   {
    "duration": 10,
    "start_time": "2022-10-27T15:15:01.673Z"
   },
   {
    "duration": 11,
    "start_time": "2022-10-27T15:15:03.239Z"
   },
   {
    "duration": 250,
    "start_time": "2022-10-27T15:15:06.385Z"
   },
   {
    "duration": 64,
    "start_time": "2022-10-28T10:33:48.349Z"
   },
   {
    "duration": 828,
    "start_time": "2022-10-28T10:34:01.138Z"
   },
   {
    "duration": 221,
    "start_time": "2022-10-28T10:34:01.969Z"
   },
   {
    "duration": 11,
    "start_time": "2022-10-28T10:34:02.798Z"
   },
   {
    "duration": 11,
    "start_time": "2022-10-28T10:34:03.426Z"
   },
   {
    "duration": 11,
    "start_time": "2022-10-28T10:34:04.070Z"
   },
   {
    "duration": 12,
    "start_time": "2022-10-28T10:34:05.145Z"
   },
   {
    "duration": 10,
    "start_time": "2022-10-28T10:34:05.736Z"
   },
   {
    "duration": 11,
    "start_time": "2022-10-28T10:34:06.748Z"
   },
   {
    "duration": 6,
    "start_time": "2022-10-28T10:34:09.771Z"
   },
   {
    "duration": 6,
    "start_time": "2022-10-28T10:34:09.997Z"
   },
   {
    "duration": 5,
    "start_time": "2022-10-28T10:34:10.224Z"
   },
   {
    "duration": 6,
    "start_time": "2022-10-28T10:34:10.885Z"
   },
   {
    "duration": 6,
    "start_time": "2022-10-28T10:34:11.160Z"
   },
   {
    "duration": 6,
    "start_time": "2022-10-28T10:34:11.430Z"
   },
   {
    "duration": 5,
    "start_time": "2022-10-28T10:34:12.921Z"
   },
   {
    "duration": 13,
    "start_time": "2022-10-28T10:34:18.404Z"
   },
   {
    "duration": 12,
    "start_time": "2022-10-28T10:34:19.484Z"
   },
   {
    "duration": 11,
    "start_time": "2022-10-28T10:34:20.403Z"
   },
   {
    "duration": 490,
    "start_time": "2022-10-28T10:34:26.335Z"
   },
   {
    "duration": 52,
    "start_time": "2022-10-28T10:35:38.462Z"
   },
   {
    "duration": 418,
    "start_time": "2022-10-28T10:36:04.323Z"
   },
   {
    "duration": 337,
    "start_time": "2022-10-28T10:37:24.564Z"
   },
   {
    "duration": 254,
    "start_time": "2022-10-28T10:37:35.394Z"
   },
   {
    "duration": 258,
    "start_time": "2022-10-28T10:37:43.953Z"
   },
   {
    "duration": 22,
    "start_time": "2022-10-28T10:38:45.686Z"
   },
   {
    "duration": 18,
    "start_time": "2022-10-28T10:38:46.900Z"
   },
   {
    "duration": 11,
    "start_time": "2022-10-28T10:38:54.407Z"
   },
   {
    "duration": 11,
    "start_time": "2022-10-28T10:38:56.089Z"
   },
   {
    "duration": 10,
    "start_time": "2022-10-28T10:38:57.920Z"
   },
   {
    "duration": 281,
    "start_time": "2022-10-28T10:39:00.169Z"
   },
   {
    "duration": 24,
    "start_time": "2022-10-28T10:39:01.917Z"
   },
   {
    "duration": 4,
    "start_time": "2022-10-28T10:39:28.250Z"
   },
   {
    "duration": 82,
    "start_time": "2022-10-28T10:39:29.080Z"
   },
   {
    "duration": 11,
    "start_time": "2022-10-28T10:39:29.560Z"
   },
   {
    "duration": 8,
    "start_time": "2022-10-28T10:39:30.034Z"
   },
   {
    "duration": 11,
    "start_time": "2022-10-28T10:39:30.324Z"
   },
   {
    "duration": 13,
    "start_time": "2022-10-28T10:39:30.670Z"
   },
   {
    "duration": 12,
    "start_time": "2022-10-28T10:39:30.988Z"
   },
   {
    "duration": 10,
    "start_time": "2022-10-28T10:39:31.324Z"
   },
   {
    "duration": 5,
    "start_time": "2022-10-28T10:39:32.815Z"
   },
   {
    "duration": 6,
    "start_time": "2022-10-28T10:39:33.026Z"
   },
   {
    "duration": 5,
    "start_time": "2022-10-28T10:39:33.242Z"
   },
   {
    "duration": 5,
    "start_time": "2022-10-28T10:39:33.919Z"
   },
   {
    "duration": 6,
    "start_time": "2022-10-28T10:39:34.154Z"
   },
   {
    "duration": 6,
    "start_time": "2022-10-28T10:39:34.371Z"
   },
   {
    "duration": 26,
    "start_time": "2022-10-28T10:39:36.038Z"
   },
   {
    "duration": 20,
    "start_time": "2022-10-28T10:39:37.056Z"
   },
   {
    "duration": 11,
    "start_time": "2022-10-28T10:39:40.549Z"
   },
   {
    "duration": 12,
    "start_time": "2022-10-28T10:39:41.914Z"
   },
   {
    "duration": 11,
    "start_time": "2022-10-28T10:39:43.216Z"
   },
   {
    "duration": 258,
    "start_time": "2022-10-28T10:39:45.572Z"
   },
   {
    "duration": 625,
    "start_time": "2022-10-28T10:41:51.960Z"
   },
   {
    "duration": 82,
    "start_time": "2022-10-28T10:41:53.462Z"
   },
   {
    "duration": 12,
    "start_time": "2022-10-28T10:41:54.286Z"
   },
   {
    "duration": 12,
    "start_time": "2022-10-28T10:41:55.154Z"
   },
   {
    "duration": 10,
    "start_time": "2022-10-28T10:41:55.606Z"
   },
   {
    "duration": 12,
    "start_time": "2022-10-28T10:41:55.946Z"
   },
   {
    "duration": 12,
    "start_time": "2022-10-28T10:41:56.246Z"
   },
   {
    "duration": 10,
    "start_time": "2022-10-28T10:41:56.504Z"
   },
   {
    "duration": 5,
    "start_time": "2022-10-28T10:41:57.580Z"
   },
   {
    "duration": 7,
    "start_time": "2022-10-28T10:41:57.763Z"
   },
   {
    "duration": 5,
    "start_time": "2022-10-28T10:41:57.955Z"
   },
   {
    "duration": 7,
    "start_time": "2022-10-28T10:41:58.586Z"
   },
   {
    "duration": 7,
    "start_time": "2022-10-28T10:41:59.094Z"
   },
   {
    "duration": 7,
    "start_time": "2022-10-28T10:41:59.401Z"
   },
   {
    "duration": 24,
    "start_time": "2022-10-28T10:42:01.026Z"
   },
   {
    "duration": 20,
    "start_time": "2022-10-28T10:42:02.250Z"
   },
   {
    "duration": 13,
    "start_time": "2022-10-28T10:42:04.679Z"
   },
   {
    "duration": 13,
    "start_time": "2022-10-28T10:42:06.865Z"
   },
   {
    "duration": 13,
    "start_time": "2022-10-28T10:42:08.238Z"
   },
   {
    "duration": 275,
    "start_time": "2022-10-28T10:42:11.827Z"
   },
   {
    "duration": 329,
    "start_time": "2022-10-28T10:45:57.995Z"
   },
   {
    "duration": 289,
    "start_time": "2022-10-28T10:55:13.726Z"
   },
   {
    "duration": 208,
    "start_time": "2022-10-28T10:55:14.416Z"
   },
   {
    "duration": 170,
    "start_time": "2022-10-28T10:56:07.141Z"
   },
   {
    "duration": 309,
    "start_time": "2022-10-28T11:04:44.056Z"
   },
   {
    "duration": 195,
    "start_time": "2022-10-28T11:04:47.856Z"
   },
   {
    "duration": 317,
    "start_time": "2022-10-28T11:07:18.670Z"
   },
   {
    "duration": 160,
    "start_time": "2022-10-28T11:19:57.845Z"
   },
   {
    "duration": 177,
    "start_time": "2022-10-28T11:20:47.029Z"
   },
   {
    "duration": 164,
    "start_time": "2022-10-28T11:22:02.712Z"
   },
   {
    "duration": 277,
    "start_time": "2022-10-28T11:26:23.638Z"
   },
   {
    "duration": 164,
    "start_time": "2022-10-28T11:28:29.444Z"
   },
   {
    "duration": 176,
    "start_time": "2022-10-28T11:30:29.011Z"
   },
   {
    "duration": 175,
    "start_time": "2022-10-28T11:31:09.803Z"
   },
   {
    "duration": 182,
    "start_time": "2022-10-28T11:31:16.041Z"
   },
   {
    "duration": 180,
    "start_time": "2022-10-28T11:31:22.044Z"
   },
   {
    "duration": 248,
    "start_time": "2022-10-28T11:31:26.579Z"
   },
   {
    "duration": 97,
    "start_time": "2022-10-28T11:34:06.132Z"
   },
   {
    "duration": 183,
    "start_time": "2022-10-28T11:34:11.446Z"
   },
   {
    "duration": 181,
    "start_time": "2022-10-28T11:34:20.110Z"
   },
   {
    "duration": 189,
    "start_time": "2022-10-28T11:34:52.061Z"
   },
   {
    "duration": 166,
    "start_time": "2022-10-28T11:34:57.766Z"
   },
   {
    "duration": 180,
    "start_time": "2022-10-28T11:35:38.442Z"
   },
   {
    "duration": 178,
    "start_time": "2022-10-28T11:35:58.520Z"
   },
   {
    "duration": 350,
    "start_time": "2022-10-28T11:48:39.323Z"
   },
   {
    "duration": 298,
    "start_time": "2022-10-28T11:49:09.680Z"
   },
   {
    "duration": 371,
    "start_time": "2022-10-28T11:50:12.919Z"
   },
   {
    "duration": 337,
    "start_time": "2022-10-28T11:50:47.286Z"
   },
   {
    "duration": 421,
    "start_time": "2022-10-28T11:51:02.642Z"
   },
   {
    "duration": 382,
    "start_time": "2022-10-28T11:52:28.097Z"
   },
   {
    "duration": 315,
    "start_time": "2022-10-28T11:52:53.094Z"
   },
   {
    "duration": 296,
    "start_time": "2022-10-28T11:53:12.051Z"
   },
   {
    "duration": 76,
    "start_time": "2022-10-28T11:54:00.920Z"
   },
   {
    "duration": 77,
    "start_time": "2022-10-28T11:54:18.606Z"
   },
   {
    "duration": 72,
    "start_time": "2022-10-28T11:54:26.100Z"
   },
   {
    "duration": 73,
    "start_time": "2022-10-28T11:54:29.796Z"
   },
   {
    "duration": 281,
    "start_time": "2022-10-28T11:54:43.169Z"
   },
   {
    "duration": 333,
    "start_time": "2022-10-28T11:55:13.442Z"
   },
   {
    "duration": 81,
    "start_time": "2022-10-28T11:58:21.335Z"
   },
   {
    "duration": 334,
    "start_time": "2022-10-28T11:58:42.097Z"
   },
   {
    "duration": 315,
    "start_time": "2022-10-28T12:00:55.057Z"
   },
   {
    "duration": 327,
    "start_time": "2022-10-28T12:01:19.915Z"
   },
   {
    "duration": 69,
    "start_time": "2022-10-28T12:02:22.887Z"
   },
   {
    "duration": 48,
    "start_time": "2022-10-28T12:02:45.988Z"
   },
   {
    "duration": 69,
    "start_time": "2022-10-28T12:03:05.873Z"
   },
   {
    "duration": 68,
    "start_time": "2022-10-28T12:03:17.252Z"
   },
   {
    "duration": 67,
    "start_time": "2022-10-28T12:03:52.078Z"
   },
   {
    "duration": 325,
    "start_time": "2022-10-28T12:04:24.900Z"
   },
   {
    "duration": 439,
    "start_time": "2022-10-28T12:05:02.910Z"
   },
   {
    "duration": 42,
    "start_time": "2022-10-28T12:08:17.173Z"
   },
   {
    "duration": 2,
    "start_time": "2022-10-28T12:08:37.049Z"
   },
   {
    "duration": 87,
    "start_time": "2022-10-28T12:08:37.860Z"
   },
   {
    "duration": 10,
    "start_time": "2022-10-28T12:08:38.774Z"
   },
   {
    "duration": 7,
    "start_time": "2022-10-28T12:08:39.584Z"
   },
   {
    "duration": 11,
    "start_time": "2022-10-28T12:08:40.078Z"
   },
   {
    "duration": 12,
    "start_time": "2022-10-28T12:08:40.568Z"
   },
   {
    "duration": 11,
    "start_time": "2022-10-28T12:08:40.978Z"
   },
   {
    "duration": 10,
    "start_time": "2022-10-28T12:08:41.448Z"
   },
   {
    "duration": 5,
    "start_time": "2022-10-28T12:08:43.312Z"
   },
   {
    "duration": 6,
    "start_time": "2022-10-28T12:08:43.824Z"
   },
   {
    "duration": 5,
    "start_time": "2022-10-28T12:08:44.359Z"
   },
   {
    "duration": 6,
    "start_time": "2022-10-28T12:08:45.630Z"
   },
   {
    "duration": 6,
    "start_time": "2022-10-28T12:08:45.953Z"
   },
   {
    "duration": 5,
    "start_time": "2022-10-28T12:08:46.186Z"
   },
   {
    "duration": 102,
    "start_time": "2022-10-28T12:08:47.561Z"
   },
   {
    "duration": 40,
    "start_time": "2022-10-28T12:08:50.805Z"
   },
   {
    "duration": 329,
    "start_time": "2022-10-28T12:09:30.034Z"
   },
   {
    "duration": 36,
    "start_time": "2022-10-28T12:09:51.423Z"
   },
   {
    "duration": 42,
    "start_time": "2022-10-28T12:10:01.784Z"
   },
   {
    "duration": 331,
    "start_time": "2022-10-28T12:10:19.582Z"
   },
   {
    "duration": 324,
    "start_time": "2022-10-28T12:11:20.204Z"
   },
   {
    "duration": 4,
    "start_time": "2022-10-28T12:11:33.647Z"
   },
   {
    "duration": 97,
    "start_time": "2022-10-28T12:11:34.445Z"
   },
   {
    "duration": 11,
    "start_time": "2022-10-28T12:11:35.568Z"
   },
   {
    "duration": 8,
    "start_time": "2022-10-28T12:11:37.755Z"
   },
   {
    "duration": 13,
    "start_time": "2022-10-28T12:11:38.805Z"
   },
   {
    "duration": 14,
    "start_time": "2022-10-28T12:11:39.582Z"
   },
   {
    "duration": 11,
    "start_time": "2022-10-28T12:11:43.281Z"
   },
   {
    "duration": 11,
    "start_time": "2022-10-28T12:11:44.053Z"
   },
   {
    "duration": 6,
    "start_time": "2022-10-28T12:11:46.922Z"
   },
   {
    "duration": 6,
    "start_time": "2022-10-28T12:11:48.032Z"
   },
   {
    "duration": 7,
    "start_time": "2022-10-28T12:11:48.380Z"
   },
   {
    "duration": 8,
    "start_time": "2022-10-28T12:11:49.090Z"
   },
   {
    "duration": 6,
    "start_time": "2022-10-28T12:11:49.639Z"
   },
   {
    "duration": 6,
    "start_time": "2022-10-28T12:11:49.992Z"
   },
   {
    "duration": 134,
    "start_time": "2022-10-28T12:11:52.349Z"
   },
   {
    "duration": 327,
    "start_time": "2022-10-28T12:11:54.801Z"
   },
   {
    "duration": 38,
    "start_time": "2022-10-28T12:12:22.727Z"
   },
   {
    "duration": 12,
    "start_time": "2022-10-28T12:12:26.111Z"
   },
   {
    "duration": 12,
    "start_time": "2022-10-28T12:12:27.632Z"
   },
   {
    "duration": 11,
    "start_time": "2022-10-28T12:12:28.980Z"
   },
   {
    "duration": 297,
    "start_time": "2022-10-28T12:12:31.427Z"
   },
   {
    "duration": 184,
    "start_time": "2022-10-28T12:12:35.276Z"
   },
   {
    "duration": 260,
    "start_time": "2022-10-28T12:12:37.482Z"
   },
   {
    "duration": 295,
    "start_time": "2022-10-28T12:12:39.335Z"
   },
   {
    "duration": 174,
    "start_time": "2022-10-28T12:12:40.844Z"
   },
   {
    "duration": 327,
    "start_time": "2022-10-28T12:12:42.236Z"
   },
   {
    "duration": 316,
    "start_time": "2022-10-28T12:14:26.158Z"
   },
   {
    "duration": 5,
    "start_time": "2022-10-28T12:16:05.066Z"
   },
   {
    "duration": 303,
    "start_time": "2022-10-28T12:16:09.568Z"
   },
   {
    "duration": 297,
    "start_time": "2022-10-28T12:16:19.351Z"
   },
   {
    "duration": 179,
    "start_time": "2022-10-28T12:19:45.728Z"
   },
   {
    "duration": 307,
    "start_time": "2022-10-28T12:19:49.865Z"
   },
   {
    "duration": 320,
    "start_time": "2022-10-28T12:21:51.200Z"
   },
   {
    "duration": 312,
    "start_time": "2022-10-28T12:23:22.652Z"
   },
   {
    "duration": 3,
    "start_time": "2022-10-28T12:23:56.337Z"
   },
   {
    "duration": 81,
    "start_time": "2022-10-28T12:23:57.111Z"
   },
   {
    "duration": 11,
    "start_time": "2022-10-28T12:23:57.850Z"
   },
   {
    "duration": 9,
    "start_time": "2022-10-28T12:23:58.310Z"
   },
   {
    "duration": 11,
    "start_time": "2022-10-28T12:23:59.902Z"
   },
   {
    "duration": 15,
    "start_time": "2022-10-28T12:24:00.145Z"
   },
   {
    "duration": 10,
    "start_time": "2022-10-28T12:24:00.363Z"
   },
   {
    "duration": 10,
    "start_time": "2022-10-28T12:24:00.640Z"
   },
   {
    "duration": 6,
    "start_time": "2022-10-28T12:24:01.975Z"
   },
   {
    "duration": 7,
    "start_time": "2022-10-28T12:24:02.159Z"
   },
   {
    "duration": 5,
    "start_time": "2022-10-28T12:24:02.472Z"
   },
   {
    "duration": 6,
    "start_time": "2022-10-28T12:24:03.109Z"
   },
   {
    "duration": 7,
    "start_time": "2022-10-28T12:24:03.353Z"
   },
   {
    "duration": 6,
    "start_time": "2022-10-28T12:24:03.567Z"
   },
   {
    "duration": 66,
    "start_time": "2022-10-28T12:24:04.729Z"
   },
   {
    "duration": 38,
    "start_time": "2022-10-28T12:24:09.846Z"
   },
   {
    "duration": 11,
    "start_time": "2022-10-28T12:24:14.554Z"
   },
   {
    "duration": 11,
    "start_time": "2022-10-28T12:24:15.880Z"
   },
   {
    "duration": 10,
    "start_time": "2022-10-28T12:24:16.889Z"
   },
   {
    "duration": 392,
    "start_time": "2022-10-28T12:24:18.911Z"
   },
   {
    "duration": 195,
    "start_time": "2022-10-28T12:24:21.583Z"
   },
   {
    "duration": 188,
    "start_time": "2022-10-28T12:24:24.457Z"
   },
   {
    "duration": 307,
    "start_time": "2022-10-28T12:24:27.509Z"
   },
   {
    "duration": 186,
    "start_time": "2022-10-28T12:24:36.832Z"
   },
   {
    "duration": 347,
    "start_time": "2022-10-28T12:24:40.793Z"
   },
   {
    "duration": 353,
    "start_time": "2022-10-28T12:25:22.619Z"
   },
   {
    "duration": 367,
    "start_time": "2022-10-28T12:25:54.818Z"
   },
   {
    "duration": 340,
    "start_time": "2022-10-28T12:26:08.939Z"
   },
   {
    "duration": 350,
    "start_time": "2022-10-28T12:32:26.541Z"
   },
   {
    "duration": 13,
    "start_time": "2022-10-28T12:47:32.806Z"
   },
   {
    "duration": 13,
    "start_time": "2022-10-28T12:50:37.821Z"
   },
   {
    "duration": 12,
    "start_time": "2022-10-28T12:50:59.646Z"
   },
   {
    "duration": 12,
    "start_time": "2022-10-28T12:51:54.212Z"
   },
   {
    "duration": 9,
    "start_time": "2022-10-28T12:53:34.046Z"
   },
   {
    "duration": 13,
    "start_time": "2022-10-28T12:55:09.539Z"
   },
   {
    "duration": 12,
    "start_time": "2022-10-28T12:55:49.297Z"
   },
   {
    "duration": 14,
    "start_time": "2022-10-28T12:56:15.204Z"
   },
   {
    "duration": 12,
    "start_time": "2022-10-28T12:57:58.023Z"
   },
   {
    "duration": 8,
    "start_time": "2022-10-28T12:58:06.569Z"
   },
   {
    "duration": 3,
    "start_time": "2022-10-28T13:14:30.158Z"
   },
   {
    "duration": 94,
    "start_time": "2022-10-28T13:14:31.437Z"
   },
   {
    "duration": 10,
    "start_time": "2022-10-28T13:14:32.808Z"
   },
   {
    "duration": 8,
    "start_time": "2022-10-28T13:14:33.432Z"
   },
   {
    "duration": 11,
    "start_time": "2022-10-28T13:14:33.954Z"
   },
   {
    "duration": 11,
    "start_time": "2022-10-28T13:14:34.510Z"
   },
   {
    "duration": 10,
    "start_time": "2022-10-28T13:14:35.186Z"
   },
   {
    "duration": 12,
    "start_time": "2022-10-28T13:14:35.836Z"
   },
   {
    "duration": 6,
    "start_time": "2022-10-28T13:14:38.020Z"
   },
   {
    "duration": 7,
    "start_time": "2022-10-28T13:14:38.560Z"
   },
   {
    "duration": 5,
    "start_time": "2022-10-28T13:14:39.036Z"
   },
   {
    "duration": 6,
    "start_time": "2022-10-28T13:14:39.964Z"
   },
   {
    "duration": 8,
    "start_time": "2022-10-28T13:14:40.842Z"
   },
   {
    "duration": 7,
    "start_time": "2022-10-28T13:14:41.395Z"
   },
   {
    "duration": 67,
    "start_time": "2022-10-28T13:14:44.076Z"
   },
   {
    "duration": 44,
    "start_time": "2022-10-28T13:14:46.852Z"
   },
   {
    "duration": 10,
    "start_time": "2022-10-28T13:14:55.734Z"
   },
   {
    "duration": 11,
    "start_time": "2022-10-28T13:14:57.857Z"
   },
   {
    "duration": 10,
    "start_time": "2022-10-28T13:14:59.714Z"
   },
   {
    "duration": 291,
    "start_time": "2022-10-28T13:15:21.278Z"
   },
   {
    "duration": 188,
    "start_time": "2022-10-28T13:15:22.936Z"
   },
   {
    "duration": 178,
    "start_time": "2022-10-28T13:15:25.461Z"
   },
   {
    "duration": 364,
    "start_time": "2022-10-28T13:15:32.835Z"
   },
   {
    "duration": 170,
    "start_time": "2022-10-28T13:15:34.803Z"
   },
   {
    "duration": 330,
    "start_time": "2022-10-28T13:15:36.913Z"
   },
   {
    "duration": 10,
    "start_time": "2022-10-28T13:15:47.874Z"
   },
   {
    "duration": 12,
    "start_time": "2022-10-28T13:17:54.589Z"
   },
   {
    "duration": 9,
    "start_time": "2022-10-28T13:18:43.756Z"
   },
   {
    "duration": 106,
    "start_time": "2022-10-28T13:19:11.133Z"
   },
   {
    "duration": 110,
    "start_time": "2022-10-28T13:20:45.136Z"
   },
   {
    "duration": 109,
    "start_time": "2022-10-28T13:28:29.254Z"
   },
   {
    "duration": 117,
    "start_time": "2022-10-28T13:33:08.565Z"
   },
   {
    "duration": 5,
    "start_time": "2022-10-28T13:38:44.364Z"
   },
   {
    "duration": 5,
    "start_time": "2022-10-28T13:39:35.282Z"
   },
   {
    "duration": 1296,
    "start_time": "2022-10-28T13:51:04.639Z"
   },
   {
    "duration": 165,
    "start_time": "2022-10-28T13:51:24.023Z"
   },
   {
    "duration": 136,
    "start_time": "2022-10-28T13:51:53.361Z"
   },
   {
    "duration": 136,
    "start_time": "2022-10-28T13:53:11.276Z"
   },
   {
    "duration": 115,
    "start_time": "2022-10-28T13:57:59.396Z"
   },
   {
    "duration": 1078,
    "start_time": "2022-10-28T13:58:36.284Z"
   },
   {
    "duration": 105,
    "start_time": "2022-10-28T13:58:57.362Z"
   },
   {
    "duration": 114,
    "start_time": "2022-10-28T13:59:22.357Z"
   },
   {
    "duration": 194,
    "start_time": "2022-10-28T13:59:27.436Z"
   },
   {
    "duration": 3,
    "start_time": "2022-10-28T14:00:30.405Z"
   },
   {
    "duration": 81,
    "start_time": "2022-10-28T14:00:35.358Z"
   },
   {
    "duration": 10,
    "start_time": "2022-10-28T14:00:36.707Z"
   },
   {
    "duration": 8,
    "start_time": "2022-10-28T14:00:37.225Z"
   },
   {
    "duration": 15,
    "start_time": "2022-10-28T14:00:38.210Z"
   },
   {
    "duration": 13,
    "start_time": "2022-10-28T14:00:38.660Z"
   },
   {
    "duration": 12,
    "start_time": "2022-10-28T14:00:39.052Z"
   },
   {
    "duration": 11,
    "start_time": "2022-10-28T14:00:39.483Z"
   },
   {
    "duration": 5,
    "start_time": "2022-10-28T14:00:41.320Z"
   },
   {
    "duration": 6,
    "start_time": "2022-10-28T14:00:41.543Z"
   },
   {
    "duration": 5,
    "start_time": "2022-10-28T14:00:41.752Z"
   },
   {
    "duration": 6,
    "start_time": "2022-10-28T14:00:42.747Z"
   },
   {
    "duration": 7,
    "start_time": "2022-10-28T14:00:43.002Z"
   },
   {
    "duration": 6,
    "start_time": "2022-10-28T14:00:43.317Z"
   },
   {
    "duration": 141,
    "start_time": "2022-10-28T14:00:49.339Z"
   },
   {
    "duration": 39,
    "start_time": "2022-10-28T14:00:51.994Z"
   },
   {
    "duration": 11,
    "start_time": "2022-10-28T14:00:55.697Z"
   },
   {
    "duration": 12,
    "start_time": "2022-10-28T14:00:56.944Z"
   },
   {
    "duration": 10,
    "start_time": "2022-10-28T14:00:57.993Z"
   },
   {
    "duration": 292,
    "start_time": "2022-10-28T14:01:00.351Z"
   },
   {
    "duration": 205,
    "start_time": "2022-10-28T14:01:02.255Z"
   },
   {
    "duration": 174,
    "start_time": "2022-10-28T14:01:03.789Z"
   },
   {
    "duration": 259,
    "start_time": "2022-10-28T14:01:05.155Z"
   },
   {
    "duration": 169,
    "start_time": "2022-10-28T14:01:06.906Z"
   },
   {
    "duration": 324,
    "start_time": "2022-10-28T14:01:08.737Z"
   },
   {
    "duration": 10,
    "start_time": "2022-10-28T14:01:10.807Z"
   },
   {
    "duration": 111,
    "start_time": "2022-10-28T14:01:12.496Z"
   },
   {
    "duration": 116,
    "start_time": "2022-10-28T14:01:13.710Z"
   },
   {
    "duration": 4,
    "start_time": "2022-10-28T14:01:15.526Z"
   },
   {
    "duration": 137,
    "start_time": "2022-10-28T14:01:17.458Z"
   },
   {
    "duration": 108,
    "start_time": "2022-10-28T14:01:19.085Z"
   },
   {
    "duration": 1176,
    "start_time": "2022-10-28T14:01:57.156Z"
   },
   {
    "duration": 8,
    "start_time": "2022-10-28T14:02:09.753Z"
   },
   {
    "duration": 110,
    "start_time": "2022-10-28T14:02:14.471Z"
   },
   {
    "duration": 141,
    "start_time": "2022-10-28T14:02:43.278Z"
   },
   {
    "duration": 104,
    "start_time": "2022-10-28T14:02:59.246Z"
   },
   {
    "duration": 112,
    "start_time": "2022-10-28T14:03:21.049Z"
   },
   {
    "duration": 5,
    "start_time": "2022-10-28T14:03:40.262Z"
   },
   {
    "duration": 221,
    "start_time": "2022-10-28T14:03:45.167Z"
   },
   {
    "duration": 1125,
    "start_time": "2022-10-28T14:03:55.119Z"
   },
   {
    "duration": 128,
    "start_time": "2022-10-28T14:04:00.963Z"
   },
   {
    "duration": 4,
    "start_time": "2022-10-28T14:04:07.672Z"
   },
   {
    "duration": 134,
    "start_time": "2022-10-28T14:04:09.206Z"
   },
   {
    "duration": 109,
    "start_time": "2022-10-28T14:04:12.581Z"
   },
   {
    "duration": 1197,
    "start_time": "2022-10-28T14:04:58.971Z"
   },
   {
    "duration": 108,
    "start_time": "2022-10-28T14:05:10.925Z"
   },
   {
    "duration": 8,
    "start_time": "2022-10-28T14:05:20.120Z"
   },
   {
    "duration": 113,
    "start_time": "2022-10-28T14:05:25.137Z"
   },
   {
    "duration": 127,
    "start_time": "2022-10-28T14:06:56.003Z"
   },
   {
    "duration": 131,
    "start_time": "2022-10-28T14:08:11.909Z"
   },
   {
    "duration": 315,
    "start_time": "2022-10-28T14:20:22.488Z"
   },
   {
    "duration": 139,
    "start_time": "2022-10-28T14:23:06.154Z"
   },
   {
    "duration": 271,
    "start_time": "2022-10-28T14:29:38.780Z"
   },
   {
    "duration": 295,
    "start_time": "2022-10-28T14:30:41.586Z"
   },
   {
    "duration": 308,
    "start_time": "2022-10-28T14:31:11.700Z"
   },
   {
    "duration": 301,
    "start_time": "2022-10-28T14:31:23.493Z"
   },
   {
    "duration": 263,
    "start_time": "2022-10-28T14:33:25.885Z"
   },
   {
    "duration": 283,
    "start_time": "2022-10-28T14:34:45.655Z"
   },
   {
    "duration": 9,
    "start_time": "2022-10-28T14:34:47.878Z"
   },
   {
    "duration": 224,
    "start_time": "2022-10-28T14:34:56.710Z"
   },
   {
    "duration": 106,
    "start_time": "2022-10-28T14:34:57.854Z"
   },
   {
    "duration": 5,
    "start_time": "2022-10-28T14:35:00.539Z"
   },
   {
    "duration": 133,
    "start_time": "2022-10-28T14:35:02.061Z"
   },
   {
    "duration": 128,
    "start_time": "2022-10-28T15:29:00.049Z"
   },
   {
    "duration": 129,
    "start_time": "2022-10-28T15:34:07.844Z"
   },
   {
    "duration": 685,
    "start_time": "2022-10-28T15:36:42.382Z"
   },
   {
    "duration": 82,
    "start_time": "2022-10-28T15:36:43.068Z"
   },
   {
    "duration": 11,
    "start_time": "2022-10-28T15:36:43.152Z"
   },
   {
    "duration": 20,
    "start_time": "2022-10-28T15:36:43.166Z"
   },
   {
    "duration": 11,
    "start_time": "2022-10-28T15:36:43.188Z"
   },
   {
    "duration": 25,
    "start_time": "2022-10-28T15:36:43.201Z"
   },
   {
    "duration": 11,
    "start_time": "2022-10-28T15:36:43.228Z"
   },
   {
    "duration": 12,
    "start_time": "2022-10-28T15:36:43.241Z"
   },
   {
    "duration": 6,
    "start_time": "2022-10-28T15:36:43.255Z"
   },
   {
    "duration": 8,
    "start_time": "2022-10-28T15:36:43.264Z"
   },
   {
    "duration": 5,
    "start_time": "2022-10-28T15:36:43.273Z"
   },
   {
    "duration": 7,
    "start_time": "2022-10-28T15:36:43.280Z"
   },
   {
    "duration": 7,
    "start_time": "2022-10-28T15:36:43.288Z"
   },
   {
    "duration": 35,
    "start_time": "2022-10-28T15:36:43.297Z"
   },
   {
    "duration": 22,
    "start_time": "2022-10-28T15:36:43.334Z"
   },
   {
    "duration": 12,
    "start_time": "2022-10-28T15:36:43.358Z"
   },
   {
    "duration": 11,
    "start_time": "2022-10-28T15:36:43.372Z"
   },
   {
    "duration": 12,
    "start_time": "2022-10-28T15:36:43.384Z"
   },
   {
    "duration": 9,
    "start_time": "2022-10-28T15:36:43.430Z"
   },
   {
    "duration": 300,
    "start_time": "2022-10-28T15:36:43.441Z"
   },
   {
    "duration": 271,
    "start_time": "2022-10-28T15:36:43.743Z"
   },
   {
    "duration": 201,
    "start_time": "2022-10-28T15:36:44.016Z"
   },
   {
    "duration": 301,
    "start_time": "2022-10-28T15:36:44.219Z"
   },
   {
    "duration": 249,
    "start_time": "2022-10-28T15:36:44.522Z"
   },
   {
    "duration": 276,
    "start_time": "2022-10-28T15:36:44.772Z"
   },
   {
    "duration": 11,
    "start_time": "2022-10-28T15:36:45.050Z"
   },
   {
    "duration": 135,
    "start_time": "2022-10-28T15:36:45.063Z"
   },
   {
    "duration": 132,
    "start_time": "2022-10-28T15:36:45.201Z"
   },
   {
    "duration": 4,
    "start_time": "2022-10-28T15:36:45.335Z"
   },
   {
    "duration": 145,
    "start_time": "2022-10-28T15:36:45.341Z"
   },
   {
    "duration": 149,
    "start_time": "2022-10-28T15:36:45.487Z"
   },
   {
    "duration": 4,
    "start_time": "2022-10-28T15:51:02.618Z"
   },
   {
    "duration": 5,
    "start_time": "2022-10-28T15:55:07.595Z"
   },
   {
    "duration": 312,
    "start_time": "2022-10-28T15:57:00.034Z"
   },
   {
    "duration": 316,
    "start_time": "2022-10-28T15:57:32.021Z"
   },
   {
    "duration": 201,
    "start_time": "2022-10-28T15:58:48.831Z"
   },
   {
    "duration": 264,
    "start_time": "2022-10-28T15:58:50.686Z"
   },
   {
    "duration": 176,
    "start_time": "2022-10-28T15:58:53.330Z"
   },
   {
    "duration": 350,
    "start_time": "2022-10-28T15:58:55.398Z"
   },
   {
    "duration": 11,
    "start_time": "2022-10-28T15:59:00.653Z"
   },
   {
    "duration": 121,
    "start_time": "2022-10-28T15:59:01.734Z"
   },
   {
    "duration": 116,
    "start_time": "2022-10-28T15:59:02.949Z"
   },
   {
    "duration": 5,
    "start_time": "2022-10-28T15:59:06.371Z"
   },
   {
    "duration": 130,
    "start_time": "2022-10-28T15:59:07.544Z"
   },
   {
    "duration": 139,
    "start_time": "2022-10-28T15:59:08.336Z"
   },
   {
    "duration": 4,
    "start_time": "2022-10-28T15:59:09.974Z"
   },
   {
    "duration": 4,
    "start_time": "2022-10-28T15:59:24.155Z"
   },
   {
    "duration": 177,
    "start_time": "2022-10-28T16:04:07.542Z"
   },
   {
    "duration": 120,
    "start_time": "2022-10-28T16:06:14.293Z"
   },
   {
    "duration": 117,
    "start_time": "2022-10-28T16:06:48.190Z"
   },
   {
    "duration": 174,
    "start_time": "2022-10-28T16:07:15.230Z"
   },
   {
    "duration": 242,
    "start_time": "2022-10-28T16:07:37.161Z"
   },
   {
    "duration": 251,
    "start_time": "2022-10-28T16:13:10.053Z"
   },
   {
    "duration": 263,
    "start_time": "2022-10-28T16:14:18.127Z"
   },
   {
    "duration": 368,
    "start_time": "2022-10-28T16:16:18.615Z"
   },
   {
    "duration": 513,
    "start_time": "2022-10-28T16:17:27.121Z"
   },
   {
    "duration": 83,
    "start_time": "2022-10-28T16:17:28.250Z"
   },
   {
    "duration": 11,
    "start_time": "2022-10-28T16:17:28.946Z"
   },
   {
    "duration": 8,
    "start_time": "2022-10-28T16:17:29.251Z"
   },
   {
    "duration": 11,
    "start_time": "2022-10-28T16:17:29.511Z"
   },
   {
    "duration": 14,
    "start_time": "2022-10-28T16:17:29.769Z"
   },
   {
    "duration": 11,
    "start_time": "2022-10-28T16:17:30.048Z"
   },
   {
    "duration": 11,
    "start_time": "2022-10-28T16:17:30.327Z"
   },
   {
    "duration": 6,
    "start_time": "2022-10-28T16:17:31.510Z"
   },
   {
    "duration": 8,
    "start_time": "2022-10-28T16:17:31.776Z"
   },
   {
    "duration": 6,
    "start_time": "2022-10-28T16:17:32.006Z"
   },
   {
    "duration": 6,
    "start_time": "2022-10-28T16:17:32.422Z"
   },
   {
    "duration": 6,
    "start_time": "2022-10-28T16:17:32.630Z"
   },
   {
    "duration": 6,
    "start_time": "2022-10-28T16:17:32.819Z"
   },
   {
    "duration": 70,
    "start_time": "2022-10-28T16:17:33.601Z"
   },
   {
    "duration": 25,
    "start_time": "2022-10-28T16:17:33.982Z"
   },
   {
    "duration": 11,
    "start_time": "2022-10-28T16:17:36.601Z"
   },
   {
    "duration": 11,
    "start_time": "2022-10-28T16:17:37.551Z"
   },
   {
    "duration": 11,
    "start_time": "2022-10-28T16:17:38.153Z"
   },
   {
    "duration": 287,
    "start_time": "2022-10-28T16:17:39.356Z"
   },
   {
    "duration": 187,
    "start_time": "2022-10-28T16:17:40.987Z"
   },
   {
    "duration": 177,
    "start_time": "2022-10-28T16:17:42.768Z"
   },
   {
    "duration": 260,
    "start_time": "2022-10-28T16:17:44.056Z"
   },
   {
    "duration": 169,
    "start_time": "2022-10-28T16:17:45.646Z"
   },
   {
    "duration": 254,
    "start_time": "2022-10-28T16:17:47.361Z"
   },
   {
    "duration": 10,
    "start_time": "2022-10-28T16:17:49.160Z"
   },
   {
    "duration": 119,
    "start_time": "2022-10-28T16:17:50.306Z"
   },
   {
    "duration": 127,
    "start_time": "2022-10-28T16:17:51.495Z"
   },
   {
    "duration": 4,
    "start_time": "2022-10-28T16:17:53.049Z"
   },
   {
    "duration": 129,
    "start_time": "2022-10-28T16:17:54.546Z"
   },
   {
    "duration": 134,
    "start_time": "2022-10-28T16:17:55.746Z"
   },
   {
    "duration": 6,
    "start_time": "2022-10-28T16:17:58.846Z"
   },
   {
    "duration": 1463,
    "start_time": "2022-10-28T16:18:01.644Z"
   },
   {
    "duration": 1578,
    "start_time": "2022-10-28T16:18:28.766Z"
   },
   {
    "duration": 1462,
    "start_time": "2022-10-28T16:18:52.482Z"
   },
   {
    "duration": 1401,
    "start_time": "2022-10-28T16:19:40.548Z"
   },
   {
    "duration": 16,
    "start_time": "2022-10-28T16:22:42.588Z"
   },
   {
    "duration": 17,
    "start_time": "2022-10-28T16:22:55.773Z"
   },
   {
    "duration": 78,
    "start_time": "2022-10-28T16:23:16.891Z"
   },
   {
    "duration": 82,
    "start_time": "2022-10-28T16:23:52.469Z"
   },
   {
    "duration": 1367,
    "start_time": "2022-10-28T16:24:05.592Z"
   },
   {
    "duration": 1248,
    "start_time": "2022-10-28T16:24:42.875Z"
   },
   {
    "duration": 9,
    "start_time": "2022-10-28T16:27:10.402Z"
   },
   {
    "duration": 116,
    "start_time": "2022-10-28T16:29:15.224Z"
   },
   {
    "duration": 105,
    "start_time": "2022-10-28T16:30:47.389Z"
   },
   {
    "duration": 215,
    "start_time": "2022-10-28T16:31:10.371Z"
   },
   {
    "duration": 224,
    "start_time": "2022-10-28T16:31:27.374Z"
   },
   {
    "duration": 234,
    "start_time": "2022-10-28T16:31:31.348Z"
   },
   {
    "duration": 224,
    "start_time": "2022-10-28T16:31:56.847Z"
   },
   {
    "duration": 14,
    "start_time": "2022-10-28T16:33:42.085Z"
   },
   {
    "duration": 158,
    "start_time": "2022-10-28T16:34:43.219Z"
   },
   {
    "duration": 7,
    "start_time": "2022-10-28T16:35:12.384Z"
   },
   {
    "duration": 9,
    "start_time": "2022-10-28T16:36:08.246Z"
   },
   {
    "duration": 7,
    "start_time": "2022-10-28T16:36:35.764Z"
   },
   {
    "duration": 15,
    "start_time": "2022-10-28T16:37:16.297Z"
   },
   {
    "duration": 179,
    "start_time": "2022-10-28T16:38:42.128Z"
   },
   {
    "duration": 7,
    "start_time": "2022-10-28T16:40:25.763Z"
   },
   {
    "duration": 166,
    "start_time": "2022-10-28T16:40:27.147Z"
   },
   {
    "duration": 173,
    "start_time": "2022-10-28T16:41:17.513Z"
   },
   {
    "duration": 250,
    "start_time": "2022-10-28T16:41:36.787Z"
   },
   {
    "duration": 133,
    "start_time": "2022-10-28T16:41:37.707Z"
   },
   {
    "duration": 180,
    "start_time": "2022-10-28T16:41:40.635Z"
   },
   {
    "duration": 217,
    "start_time": "2022-10-28T16:42:02.610Z"
   },
   {
    "duration": 147,
    "start_time": "2022-10-28T16:42:03.095Z"
   },
   {
    "duration": 165,
    "start_time": "2022-10-28T16:42:03.922Z"
   },
   {
    "duration": 299,
    "start_time": "2022-10-28T16:42:59.784Z"
   },
   {
    "duration": 222,
    "start_time": "2022-10-28T16:45:07.329Z"
   },
   {
    "duration": 161,
    "start_time": "2022-10-28T16:45:36.902Z"
   },
   {
    "duration": 152,
    "start_time": "2022-10-28T16:55:46.780Z"
   },
   {
    "duration": 219,
    "start_time": "2022-10-28T17:16:17.418Z"
   },
   {
    "duration": 226,
    "start_time": "2022-10-28T17:16:26.689Z"
   },
   {
    "duration": 229,
    "start_time": "2022-10-28T17:16:44.669Z"
   },
   {
    "duration": 149,
    "start_time": "2022-10-28T17:16:45.469Z"
   },
   {
    "duration": 65,
    "start_time": "2022-10-28T17:22:09.461Z"
   },
   {
    "duration": 157,
    "start_time": "2022-10-28T17:27:36.868Z"
   },
   {
    "duration": 149,
    "start_time": "2022-10-28T17:27:42.667Z"
   },
   {
    "duration": 197,
    "start_time": "2022-10-28T17:27:47.818Z"
   },
   {
    "duration": 148,
    "start_time": "2022-10-28T17:28:00.044Z"
   },
   {
    "duration": 150,
    "start_time": "2022-10-28T17:28:06.747Z"
   },
   {
    "duration": 57,
    "start_time": "2022-10-29T10:21:42.136Z"
   },
   {
    "duration": 1189,
    "start_time": "2022-10-29T10:22:35.607Z"
   },
   {
    "duration": 214,
    "start_time": "2022-10-29T10:22:36.798Z"
   },
   {
    "duration": 12,
    "start_time": "2022-10-29T10:22:37.126Z"
   },
   {
    "duration": 15,
    "start_time": "2022-10-29T10:22:37.346Z"
   },
   {
    "duration": 13,
    "start_time": "2022-10-29T10:22:37.551Z"
   },
   {
    "duration": 16,
    "start_time": "2022-10-29T10:22:37.728Z"
   },
   {
    "duration": 13,
    "start_time": "2022-10-29T10:22:37.916Z"
   },
   {
    "duration": 11,
    "start_time": "2022-10-29T10:22:38.089Z"
   },
   {
    "duration": 6,
    "start_time": "2022-10-29T10:22:39.016Z"
   },
   {
    "duration": 7,
    "start_time": "2022-10-29T10:22:39.361Z"
   },
   {
    "duration": 5,
    "start_time": "2022-10-29T10:22:39.568Z"
   },
   {
    "duration": 6,
    "start_time": "2022-10-29T10:22:40.002Z"
   },
   {
    "duration": 6,
    "start_time": "2022-10-29T10:22:40.220Z"
   },
   {
    "duration": 7,
    "start_time": "2022-10-29T10:22:40.428Z"
   },
   {
    "duration": 64,
    "start_time": "2022-10-29T10:22:41.289Z"
   },
   {
    "duration": 23,
    "start_time": "2022-10-29T10:22:41.686Z"
   },
   {
    "duration": 15,
    "start_time": "2022-10-29T10:22:42.879Z"
   },
   {
    "duration": 15,
    "start_time": "2022-10-29T10:22:43.518Z"
   },
   {
    "duration": 13,
    "start_time": "2022-10-29T10:22:44.167Z"
   },
   {
    "duration": 277,
    "start_time": "2022-10-29T10:22:45.396Z"
   },
   {
    "duration": 245,
    "start_time": "2022-10-29T10:22:46.407Z"
   },
   {
    "duration": 171,
    "start_time": "2022-10-29T10:22:47.493Z"
   },
   {
    "duration": 305,
    "start_time": "2022-10-29T10:22:48.705Z"
   },
   {
    "duration": 176,
    "start_time": "2022-10-29T10:22:51.077Z"
   },
   {
    "duration": 269,
    "start_time": "2022-10-29T10:22:52.398Z"
   },
   {
    "duration": 9,
    "start_time": "2022-10-29T10:22:54.222Z"
   },
   {
    "duration": 121,
    "start_time": "2022-10-29T10:22:55.080Z"
   },
   {
    "duration": 108,
    "start_time": "2022-10-29T10:22:56.083Z"
   },
   {
    "duration": 5,
    "start_time": "2022-10-29T10:22:57.230Z"
   },
   {
    "duration": 136,
    "start_time": "2022-10-29T10:22:57.860Z"
   },
   {
    "duration": 128,
    "start_time": "2022-10-29T10:22:58.860Z"
   },
   {
    "duration": 5,
    "start_time": "2022-10-29T10:23:00.222Z"
   },
   {
    "duration": 291,
    "start_time": "2022-10-29T10:23:01.632Z"
   },
   {
    "duration": 853,
    "start_time": "2022-10-29T10:23:03.704Z"
   },
   {
    "duration": 13,
    "start_time": "2022-10-29T10:23:07.898Z"
   },
   {
    "duration": 3,
    "start_time": "2022-10-29T10:24:23.722Z"
   },
   {
    "duration": 81,
    "start_time": "2022-10-29T10:24:25.302Z"
   },
   {
    "duration": 10,
    "start_time": "2022-10-29T10:24:27.215Z"
   },
   {
    "duration": 7,
    "start_time": "2022-10-29T10:24:28.023Z"
   },
   {
    "duration": 11,
    "start_time": "2022-10-29T10:24:28.926Z"
   },
   {
    "duration": 13,
    "start_time": "2022-10-29T10:24:29.714Z"
   },
   {
    "duration": 11,
    "start_time": "2022-10-29T10:24:30.362Z"
   },
   {
    "duration": 10,
    "start_time": "2022-10-29T10:24:30.974Z"
   },
   {
    "duration": 5,
    "start_time": "2022-10-29T10:24:33.191Z"
   },
   {
    "duration": 7,
    "start_time": "2022-10-29T10:24:33.636Z"
   },
   {
    "duration": 5,
    "start_time": "2022-10-29T10:24:34.157Z"
   },
   {
    "duration": 8,
    "start_time": "2022-10-29T10:24:35.117Z"
   },
   {
    "duration": 6,
    "start_time": "2022-10-29T10:24:35.634Z"
   },
   {
    "duration": 8,
    "start_time": "2022-10-29T10:24:36.217Z"
   },
   {
    "duration": 68,
    "start_time": "2022-10-29T10:24:38.537Z"
   },
   {
    "duration": 34,
    "start_time": "2022-10-29T10:24:40.093Z"
   },
   {
    "duration": 11,
    "start_time": "2022-10-29T10:24:43.057Z"
   },
   {
    "duration": 13,
    "start_time": "2022-10-29T10:24:44.773Z"
   },
   {
    "duration": 11,
    "start_time": "2022-10-29T10:24:46.670Z"
   },
   {
    "duration": 302,
    "start_time": "2022-10-29T10:24:50.409Z"
   },
   {
    "duration": 180,
    "start_time": "2022-10-29T10:24:52.728Z"
   },
   {
    "duration": 165,
    "start_time": "2022-10-29T10:24:55.328Z"
   },
   {
    "duration": 307,
    "start_time": "2022-10-29T10:24:57.157Z"
   },
   {
    "duration": 160,
    "start_time": "2022-10-29T10:24:59.110Z"
   },
   {
    "duration": 280,
    "start_time": "2022-10-29T10:25:01.279Z"
   },
   {
    "duration": 10,
    "start_time": "2022-10-29T10:25:03.235Z"
   },
   {
    "duration": 115,
    "start_time": "2022-10-29T10:25:04.512Z"
   },
   {
    "duration": 117,
    "start_time": "2022-10-29T10:25:05.668Z"
   },
   {
    "duration": 6,
    "start_time": "2022-10-29T10:25:07.477Z"
   },
   {
    "duration": 131,
    "start_time": "2022-10-29T10:25:09.069Z"
   },
   {
    "duration": 138,
    "start_time": "2022-10-29T10:25:10.177Z"
   },
   {
    "duration": 4,
    "start_time": "2022-10-29T10:25:12.593Z"
   },
   {
    "duration": 212,
    "start_time": "2022-10-29T10:25:17.549Z"
   },
   {
    "duration": 861,
    "start_time": "2022-10-29T10:25:22.938Z"
   },
   {
    "duration": 771,
    "start_time": "2022-10-29T10:26:03.468Z"
   },
   {
    "duration": 0,
    "start_time": "2022-10-29T10:26:04.241Z"
   },
   {
    "duration": 11,
    "start_time": "2022-10-29T10:26:10.652Z"
   },
   {
    "duration": 695,
    "start_time": "2022-10-29T10:26:33.017Z"
   },
   {
    "duration": 883,
    "start_time": "2022-10-29T10:26:33.997Z"
   },
   {
    "duration": 217,
    "start_time": "2022-10-29T10:26:56.445Z"
   },
   {
    "duration": 173,
    "start_time": "2022-10-29T10:27:27.244Z"
   },
   {
    "duration": 12,
    "start_time": "2022-10-29T10:27:29.212Z"
   },
   {
    "duration": 179,
    "start_time": "2022-10-29T10:27:44.628Z"
   },
   {
    "duration": 219,
    "start_time": "2022-10-29T10:28:05.652Z"
   },
   {
    "duration": 173,
    "start_time": "2022-10-29T10:28:08.612Z"
   },
   {
    "duration": 14,
    "start_time": "2022-10-29T10:28:10.265Z"
   },
   {
    "duration": 146,
    "start_time": "2022-10-29T10:30:27.205Z"
   },
   {
    "duration": 11,
    "start_time": "2022-10-29T10:30:28.768Z"
   },
   {
    "duration": 4,
    "start_time": "2022-10-29T10:56:57.902Z"
   },
   {
    "duration": 139,
    "start_time": "2022-10-29T11:03:32.870Z"
   },
   {
    "duration": 133,
    "start_time": "2022-10-29T11:03:33.730Z"
   },
   {
    "duration": 46,
    "start_time": "2022-10-29T11:52:16.189Z"
   },
   {
    "duration": 48,
    "start_time": "2022-10-29T11:52:26.886Z"
   },
   {
    "duration": 215,
    "start_time": "2022-10-29T11:52:36.717Z"
   },
   {
    "duration": 173,
    "start_time": "2022-10-29T11:52:38.320Z"
   },
   {
    "duration": 10,
    "start_time": "2022-10-29T11:52:39.582Z"
   },
   {
    "duration": 45,
    "start_time": "2022-10-29T11:52:41.183Z"
   },
   {
    "duration": 740,
    "start_time": "2022-10-29T11:52:51.778Z"
   },
   {
    "duration": 707,
    "start_time": "2022-10-29T11:53:24.321Z"
   },
   {
    "duration": 696,
    "start_time": "2022-10-29T11:54:05.314Z"
   },
   {
    "duration": 818,
    "start_time": "2022-10-29T11:54:30.267Z"
   },
   {
    "duration": 689,
    "start_time": "2022-10-29T11:54:59.527Z"
   },
   {
    "duration": 767,
    "start_time": "2022-10-29T11:55:12.205Z"
   },
   {
    "duration": 8,
    "start_time": "2022-10-29T11:55:20.923Z"
   },
   {
    "duration": 8,
    "start_time": "2022-10-29T11:55:26.734Z"
   },
   {
    "duration": 8,
    "start_time": "2022-10-29T11:56:54.295Z"
   },
   {
    "duration": 8,
    "start_time": "2022-10-29T12:11:52.117Z"
   },
   {
    "duration": 9,
    "start_time": "2022-10-29T12:19:02.101Z"
   },
   {
    "duration": 30,
    "start_time": "2022-10-29T12:33:32.429Z"
   },
   {
    "duration": 27,
    "start_time": "2022-10-29T12:34:23.868Z"
   },
   {
    "duration": 46,
    "start_time": "2022-10-29T12:35:44.420Z"
   },
   {
    "duration": 5,
    "start_time": "2022-10-29T12:35:52.782Z"
   },
   {
    "duration": 27,
    "start_time": "2022-10-29T12:36:33.963Z"
   },
   {
    "duration": 9,
    "start_time": "2022-10-29T12:37:07.029Z"
   },
   {
    "duration": 25,
    "start_time": "2022-10-29T12:37:08.113Z"
   },
   {
    "duration": 28,
    "start_time": "2022-10-29T12:38:59.553Z"
   },
   {
    "duration": 768,
    "start_time": "2022-10-29T13:19:13.302Z"
   },
   {
    "duration": 14,
    "start_time": "2022-10-29T13:20:18.377Z"
   },
   {
    "duration": 187,
    "start_time": "2022-10-29T13:29:10.419Z"
   },
   {
    "duration": 293,
    "start_time": "2022-10-29T13:29:28.758Z"
   },
   {
    "duration": 194,
    "start_time": "2022-10-29T13:31:02.645Z"
   },
   {
    "duration": 45,
    "start_time": "2022-10-29T13:32:16.747Z"
   },
   {
    "duration": 147,
    "start_time": "2022-10-29T13:32:35.113Z"
   },
   {
    "duration": 41,
    "start_time": "2022-10-29T13:32:46.464Z"
   },
   {
    "duration": 194,
    "start_time": "2022-10-29T13:32:49.596Z"
   },
   {
    "duration": 153,
    "start_time": "2022-10-29T13:34:54.593Z"
   },
   {
    "duration": 188,
    "start_time": "2022-10-29T13:34:58.242Z"
   },
   {
    "duration": 184,
    "start_time": "2022-10-29T13:40:04.061Z"
   },
   {
    "duration": 291,
    "start_time": "2022-10-29T13:47:01.172Z"
   },
   {
    "duration": 175,
    "start_time": "2022-10-29T13:47:39.857Z"
   },
   {
    "duration": 301,
    "start_time": "2022-10-29T13:48:02.224Z"
   },
   {
    "duration": 260,
    "start_time": "2022-10-29T13:48:09.098Z"
   },
   {
    "duration": 300,
    "start_time": "2022-10-29T13:49:04.855Z"
   },
   {
    "duration": 303,
    "start_time": "2022-10-29T13:49:14.652Z"
   },
   {
    "duration": 123,
    "start_time": "2022-10-29T13:50:00.078Z"
   },
   {
    "duration": 205,
    "start_time": "2022-10-29T13:50:17.420Z"
   },
   {
    "duration": 123,
    "start_time": "2022-10-29T13:50:47.371Z"
   },
   {
    "duration": 120,
    "start_time": "2022-10-29T13:52:31.405Z"
   },
   {
    "duration": 130,
    "start_time": "2022-10-29T13:53:25.934Z"
   },
   {
    "duration": 129,
    "start_time": "2022-10-29T13:54:20.390Z"
   },
   {
    "duration": 134,
    "start_time": "2022-10-29T13:54:26.017Z"
   },
   {
    "duration": 160,
    "start_time": "2022-10-29T13:57:01.934Z"
   },
   {
    "duration": 137,
    "start_time": "2022-10-29T13:57:23.251Z"
   },
   {
    "duration": 3,
    "start_time": "2022-10-29T13:57:46.963Z"
   },
   {
    "duration": 121,
    "start_time": "2022-10-29T13:57:47.499Z"
   },
   {
    "duration": 11,
    "start_time": "2022-10-29T13:57:47.862Z"
   },
   {
    "duration": 8,
    "start_time": "2022-10-29T13:57:48.416Z"
   },
   {
    "duration": 11,
    "start_time": "2022-10-29T13:57:48.749Z"
   },
   {
    "duration": 14,
    "start_time": "2022-10-29T13:57:49.054Z"
   },
   {
    "duration": 10,
    "start_time": "2022-10-29T13:57:49.351Z"
   },
   {
    "duration": 11,
    "start_time": "2022-10-29T13:57:49.704Z"
   },
   {
    "duration": 6,
    "start_time": "2022-10-29T13:57:50.884Z"
   },
   {
    "duration": 7,
    "start_time": "2022-10-29T13:57:51.053Z"
   },
   {
    "duration": 5,
    "start_time": "2022-10-29T13:57:51.553Z"
   },
   {
    "duration": 6,
    "start_time": "2022-10-29T13:57:52.088Z"
   },
   {
    "duration": 6,
    "start_time": "2022-10-29T13:57:52.399Z"
   },
   {
    "duration": 6,
    "start_time": "2022-10-29T13:57:53.211Z"
   },
   {
    "duration": 73,
    "start_time": "2022-10-29T13:57:58.428Z"
   },
   {
    "duration": 43,
    "start_time": "2022-10-29T13:58:00.203Z"
   },
   {
    "duration": 10,
    "start_time": "2022-10-29T13:58:02.490Z"
   },
   {
    "duration": 13,
    "start_time": "2022-10-29T13:58:04.368Z"
   },
   {
    "duration": 10,
    "start_time": "2022-10-29T13:58:05.699Z"
   },
   {
    "duration": 278,
    "start_time": "2022-10-29T13:58:08.347Z"
   },
   {
    "duration": 178,
    "start_time": "2022-10-29T13:58:10.834Z"
   },
   {
    "duration": 189,
    "start_time": "2022-10-29T13:58:40.403Z"
   },
   {
    "duration": 190,
    "start_time": "2022-10-29T13:58:45.370Z"
   },
   {
    "duration": 157,
    "start_time": "2022-10-29T14:00:31.388Z"
   },
   {
    "duration": 180,
    "start_time": "2022-10-29T14:00:55.349Z"
   },
   {
    "duration": 150,
    "start_time": "2022-10-29T14:01:00.136Z"
   },
   {
    "duration": 179,
    "start_time": "2022-10-29T14:01:07.201Z"
   },
   {
    "duration": 197,
    "start_time": "2022-10-29T14:01:42.885Z"
   },
   {
    "duration": 160,
    "start_time": "2022-10-29T14:02:59.709Z"
   },
   {
    "duration": 303,
    "start_time": "2022-10-29T14:03:18.395Z"
   },
   {
    "duration": 56,
    "start_time": "2022-10-29T14:03:42.062Z"
   },
   {
    "duration": 17,
    "start_time": "2022-10-29T14:04:15.533Z"
   },
   {
    "duration": 3,
    "start_time": "2022-10-29T14:04:29.662Z"
   },
   {
    "duration": 94,
    "start_time": "2022-10-29T14:04:30.306Z"
   },
   {
    "duration": 9,
    "start_time": "2022-10-29T14:04:30.800Z"
   },
   {
    "duration": 8,
    "start_time": "2022-10-29T14:04:31.005Z"
   },
   {
    "duration": 10,
    "start_time": "2022-10-29T14:04:31.402Z"
   },
   {
    "duration": 13,
    "start_time": "2022-10-29T14:04:31.653Z"
   },
   {
    "duration": 10,
    "start_time": "2022-10-29T14:04:31.999Z"
   },
   {
    "duration": 10,
    "start_time": "2022-10-29T14:04:32.331Z"
   },
   {
    "duration": 5,
    "start_time": "2022-10-29T14:04:33.509Z"
   },
   {
    "duration": 6,
    "start_time": "2022-10-29T14:04:33.862Z"
   },
   {
    "duration": 4,
    "start_time": "2022-10-29T14:04:34.076Z"
   },
   {
    "duration": 6,
    "start_time": "2022-10-29T14:04:34.456Z"
   },
   {
    "duration": 6,
    "start_time": "2022-10-29T14:04:34.774Z"
   },
   {
    "duration": 5,
    "start_time": "2022-10-29T14:04:34.964Z"
   },
   {
    "duration": 65,
    "start_time": "2022-10-29T14:04:35.912Z"
   },
   {
    "duration": 24,
    "start_time": "2022-10-29T14:04:36.471Z"
   },
   {
    "duration": 10,
    "start_time": "2022-10-29T14:04:38.084Z"
   },
   {
    "duration": 12,
    "start_time": "2022-10-29T14:04:39.030Z"
   },
   {
    "duration": 10,
    "start_time": "2022-10-29T14:04:39.692Z"
   },
   {
    "duration": 291,
    "start_time": "2022-10-29T14:04:40.988Z"
   },
   {
    "duration": 181,
    "start_time": "2022-10-29T14:04:41.604Z"
   },
   {
    "duration": 120,
    "start_time": "2022-10-29T14:06:20.648Z"
   },
   {
    "duration": 123,
    "start_time": "2022-10-29T14:06:32.642Z"
   },
   {
    "duration": 132,
    "start_time": "2022-10-29T14:06:45.193Z"
   },
   {
    "duration": 115,
    "start_time": "2022-10-29T14:06:59.895Z"
   },
   {
    "duration": 4,
    "start_time": "2022-10-29T14:07:05.100Z"
   },
   {
    "duration": 131,
    "start_time": "2022-10-29T14:07:05.721Z"
   },
   {
    "duration": 144,
    "start_time": "2022-10-29T14:07:07.232Z"
   },
   {
    "duration": 5,
    "start_time": "2022-10-29T14:07:08.543Z"
   },
   {
    "duration": 220,
    "start_time": "2022-10-29T14:07:09.552Z"
   },
   {
    "duration": 156,
    "start_time": "2022-10-29T14:07:10.824Z"
   },
   {
    "duration": 11,
    "start_time": "2022-10-29T14:07:12.535Z"
   },
   {
    "duration": 10,
    "start_time": "2022-10-29T14:07:28.051Z"
   },
   {
    "duration": 27,
    "start_time": "2022-10-29T14:07:29.320Z"
   },
   {
    "duration": 14,
    "start_time": "2022-10-29T14:07:30.983Z"
   },
   {
    "duration": 321,
    "start_time": "2022-10-29T14:11:52.923Z"
   },
   {
    "duration": 253,
    "start_time": "2022-10-29T14:12:02.114Z"
   },
   {
    "duration": 369,
    "start_time": "2022-10-29T14:12:10.600Z"
   },
   {
    "duration": 415,
    "start_time": "2022-10-29T14:12:16.583Z"
   },
   {
    "duration": 391,
    "start_time": "2022-10-29T14:12:23.439Z"
   },
   {
    "duration": 262,
    "start_time": "2022-10-29T14:12:38.196Z"
   },
   {
    "duration": 301,
    "start_time": "2022-10-29T14:12:42.159Z"
   },
   {
    "duration": 320,
    "start_time": "2022-10-29T14:14:04.156Z"
   },
   {
    "duration": 344,
    "start_time": "2022-10-29T14:14:32.661Z"
   },
   {
    "duration": 278,
    "start_time": "2022-10-29T14:14:40.900Z"
   },
   {
    "duration": 410,
    "start_time": "2022-10-29T14:16:01.697Z"
   },
   {
    "duration": 281,
    "start_time": "2022-10-29T14:16:05.885Z"
   },
   {
    "duration": 314,
    "start_time": "2022-10-29T14:16:09.793Z"
   },
   {
    "duration": 315,
    "start_time": "2022-10-29T14:17:24.062Z"
   },
   {
    "duration": 321,
    "start_time": "2022-10-29T14:17:30.540Z"
   },
   {
    "duration": 300,
    "start_time": "2022-10-29T14:17:36.065Z"
   },
   {
    "duration": 285,
    "start_time": "2022-10-29T14:18:03.992Z"
   },
   {
    "duration": 315,
    "start_time": "2022-10-29T14:18:10.082Z"
   },
   {
    "duration": 275,
    "start_time": "2022-10-29T14:18:17.012Z"
   },
   {
    "duration": 3,
    "start_time": "2022-10-29T14:18:34.592Z"
   },
   {
    "duration": 76,
    "start_time": "2022-10-29T14:18:36.110Z"
   },
   {
    "duration": 13,
    "start_time": "2022-10-29T14:18:37.013Z"
   },
   {
    "duration": 8,
    "start_time": "2022-10-29T14:18:38.375Z"
   },
   {
    "duration": 10,
    "start_time": "2022-10-29T14:18:39.123Z"
   },
   {
    "duration": 12,
    "start_time": "2022-10-29T14:18:39.764Z"
   },
   {
    "duration": 11,
    "start_time": "2022-10-29T14:18:40.101Z"
   },
   {
    "duration": 9,
    "start_time": "2022-10-29T14:18:40.651Z"
   },
   {
    "duration": 5,
    "start_time": "2022-10-29T14:18:42.296Z"
   },
   {
    "duration": 7,
    "start_time": "2022-10-29T14:18:42.490Z"
   },
   {
    "duration": 5,
    "start_time": "2022-10-29T14:18:42.678Z"
   },
   {
    "duration": 6,
    "start_time": "2022-10-29T14:18:43.783Z"
   },
   {
    "duration": 7,
    "start_time": "2022-10-29T14:18:46.023Z"
   },
   {
    "duration": 6,
    "start_time": "2022-10-29T14:18:46.350Z"
   },
   {
    "duration": 85,
    "start_time": "2022-10-29T14:18:55.773Z"
   },
   {
    "duration": 35,
    "start_time": "2022-10-29T14:18:58.401Z"
   },
   {
    "duration": 10,
    "start_time": "2022-10-29T14:19:20.804Z"
   },
   {
    "duration": 17,
    "start_time": "2022-10-29T14:19:21.847Z"
   },
   {
    "duration": 9,
    "start_time": "2022-10-29T14:19:22.872Z"
   },
   {
    "duration": 278,
    "start_time": "2022-10-29T14:19:24.616Z"
   },
   {
    "duration": 176,
    "start_time": "2022-10-29T14:19:25.635Z"
   },
   {
    "duration": 200,
    "start_time": "2022-10-29T14:19:50.377Z"
   },
   {
    "duration": 180,
    "start_time": "2022-10-29T14:20:27.862Z"
   },
   {
    "duration": 237,
    "start_time": "2022-10-29T14:20:52.424Z"
   },
   {
    "duration": 169,
    "start_time": "2022-10-29T14:22:00.599Z"
   },
   {
    "duration": 173,
    "start_time": "2022-10-29T14:22:15.495Z"
   },
   {
    "duration": 205,
    "start_time": "2022-10-29T14:22:27.672Z"
   },
   {
    "duration": 290,
    "start_time": "2022-10-29T14:22:33.501Z"
   },
   {
    "duration": 9,
    "start_time": "2022-10-29T14:22:39.430Z"
   },
   {
    "duration": 125,
    "start_time": "2022-10-29T14:22:40.404Z"
   },
   {
    "duration": 125,
    "start_time": "2022-10-29T14:22:41.525Z"
   },
   {
    "duration": 5,
    "start_time": "2022-10-29T14:22:42.568Z"
   },
   {
    "duration": 150,
    "start_time": "2022-10-29T14:22:43.459Z"
   },
   {
    "duration": 148,
    "start_time": "2022-10-29T14:22:44.286Z"
   },
   {
    "duration": 5,
    "start_time": "2022-10-29T14:22:47.045Z"
   },
   {
    "duration": 236,
    "start_time": "2022-10-29T14:22:48.409Z"
   },
   {
    "duration": 170,
    "start_time": "2022-10-29T14:22:50.070Z"
   },
   {
    "duration": 10,
    "start_time": "2022-10-29T14:22:51.449Z"
   },
   {
    "duration": 11,
    "start_time": "2022-10-29T14:22:53.666Z"
   },
   {
    "duration": 27,
    "start_time": "2022-10-29T14:22:54.613Z"
   },
   {
    "duration": 14,
    "start_time": "2022-10-29T14:22:57.978Z"
   },
   {
    "duration": 292,
    "start_time": "2022-10-29T14:25:17.125Z"
   },
   {
    "duration": 312,
    "start_time": "2022-10-29T14:25:32.154Z"
   },
   {
    "duration": 51,
    "start_time": "2022-10-29T14:25:51.213Z"
   },
   {
    "duration": 48,
    "start_time": "2022-10-29T14:25:59.798Z"
   },
   {
    "duration": 346,
    "start_time": "2022-10-29T14:26:03.467Z"
   },
   {
    "duration": 449,
    "start_time": "2022-10-29T14:26:13.921Z"
   },
   {
    "duration": 51,
    "start_time": "2022-10-29T14:27:03.912Z"
   },
   {
    "duration": 284,
    "start_time": "2022-10-29T14:27:26.396Z"
   },
   {
    "duration": 3,
    "start_time": "2022-10-29T14:27:41.655Z"
   },
   {
    "duration": 76,
    "start_time": "2022-10-29T14:27:42.480Z"
   },
   {
    "duration": 11,
    "start_time": "2022-10-29T14:27:43.305Z"
   },
   {
    "duration": 9,
    "start_time": "2022-10-29T14:27:43.720Z"
   },
   {
    "duration": 10,
    "start_time": "2022-10-29T14:27:44.149Z"
   },
   {
    "duration": 16,
    "start_time": "2022-10-29T14:27:44.586Z"
   },
   {
    "duration": 10,
    "start_time": "2022-10-29T14:27:44.998Z"
   },
   {
    "duration": 12,
    "start_time": "2022-10-29T14:27:45.378Z"
   },
   {
    "duration": 7,
    "start_time": "2022-10-29T14:27:46.874Z"
   },
   {
    "duration": 5,
    "start_time": "2022-10-29T14:27:47.162Z"
   },
   {
    "duration": 5,
    "start_time": "2022-10-29T14:27:47.385Z"
   },
   {
    "duration": 6,
    "start_time": "2022-10-29T14:27:47.775Z"
   },
   {
    "duration": 5,
    "start_time": "2022-10-29T14:27:48.135Z"
   },
   {
    "duration": 6,
    "start_time": "2022-10-29T14:27:48.514Z"
   },
   {
    "duration": 63,
    "start_time": "2022-10-29T14:27:58.133Z"
   },
   {
    "duration": 37,
    "start_time": "2022-10-29T14:28:00.513Z"
   },
   {
    "duration": 11,
    "start_time": "2022-10-29T14:28:04.043Z"
   },
   {
    "duration": 13,
    "start_time": "2022-10-29T14:28:05.247Z"
   },
   {
    "duration": 10,
    "start_time": "2022-10-29T14:28:06.678Z"
   },
   {
    "duration": 274,
    "start_time": "2022-10-29T14:28:09.162Z"
   },
   {
    "duration": 180,
    "start_time": "2022-10-29T14:28:10.921Z"
   },
   {
    "duration": 186,
    "start_time": "2022-10-29T14:28:26.127Z"
   },
   {
    "duration": 43,
    "start_time": "2022-10-29T14:29:02.445Z"
   },
   {
    "duration": 202,
    "start_time": "2022-10-29T14:29:09.274Z"
   },
   {
    "duration": 207,
    "start_time": "2022-10-29T14:29:16.272Z"
   },
   {
    "duration": 193,
    "start_time": "2022-10-29T14:29:28.444Z"
   },
   {
    "duration": 165,
    "start_time": "2022-10-29T14:29:44.397Z"
   },
   {
    "duration": 194,
    "start_time": "2022-10-29T14:29:48.592Z"
   },
   {
    "duration": 181,
    "start_time": "2022-10-29T14:29:59.380Z"
   },
   {
    "duration": 195,
    "start_time": "2022-10-29T14:30:11.424Z"
   },
   {
    "duration": 294,
    "start_time": "2022-10-29T14:30:13.344Z"
   },
   {
    "duration": 181,
    "start_time": "2022-10-29T14:30:31.887Z"
   },
   {
    "duration": 297,
    "start_time": "2022-10-29T14:30:34.835Z"
   },
   {
    "duration": 9,
    "start_time": "2022-10-29T14:30:40.016Z"
   },
   {
    "duration": 119,
    "start_time": "2022-10-29T14:30:41.015Z"
   },
   {
    "duration": 116,
    "start_time": "2022-10-29T14:30:41.963Z"
   },
   {
    "duration": 4,
    "start_time": "2022-10-29T14:30:43.443Z"
   },
   {
    "duration": 142,
    "start_time": "2022-10-29T14:30:44.878Z"
   },
   {
    "duration": 144,
    "start_time": "2022-10-29T14:30:46.018Z"
   },
   {
    "duration": 4,
    "start_time": "2022-10-29T14:31:07.450Z"
   },
   {
    "duration": 208,
    "start_time": "2022-10-29T14:31:08.610Z"
   },
   {
    "duration": 148,
    "start_time": "2022-10-29T14:31:10.232Z"
   },
   {
    "duration": 10,
    "start_time": "2022-10-29T14:31:11.437Z"
   },
   {
    "duration": 10,
    "start_time": "2022-10-29T14:31:12.957Z"
   },
   {
    "duration": 27,
    "start_time": "2022-10-29T14:31:13.673Z"
   },
   {
    "duration": 14,
    "start_time": "2022-10-29T14:31:14.875Z"
   },
   {
    "duration": 169,
    "start_time": "2022-10-29T14:32:52.924Z"
   },
   {
    "duration": 169,
    "start_time": "2022-10-29T14:35:06.589Z"
   },
   {
    "duration": 126,
    "start_time": "2022-10-29T14:35:12.657Z"
   },
   {
    "duration": 181,
    "start_time": "2022-10-29T14:38:39.209Z"
   },
   {
    "duration": 190,
    "start_time": "2022-10-29T14:39:18.881Z"
   },
   {
    "duration": 170,
    "start_time": "2022-10-29T14:39:20.347Z"
   },
   {
    "duration": 45,
    "start_time": "2022-10-29T14:39:51.921Z"
   },
   {
    "duration": 338,
    "start_time": "2022-10-29T14:40:01.221Z"
   },
   {
    "duration": 153,
    "start_time": "2022-10-29T14:40:13.907Z"
   },
   {
    "duration": 51,
    "start_time": "2022-10-29T14:40:22.379Z"
   },
   {
    "duration": 196,
    "start_time": "2022-10-29T14:40:28.815Z"
   },
   {
    "duration": 206,
    "start_time": "2022-10-29T14:41:25.266Z"
   },
   {
    "duration": 243,
    "start_time": "2022-10-29T14:41:27.124Z"
   },
   {
    "duration": 188,
    "start_time": "2022-10-29T14:41:29.320Z"
   },
   {
    "duration": 282,
    "start_time": "2022-10-29T14:41:30.999Z"
   },
   {
    "duration": 10,
    "start_time": "2022-10-29T14:41:32.848Z"
   },
   {
    "duration": 120,
    "start_time": "2022-10-29T14:41:34.083Z"
   },
   {
    "duration": 146,
    "start_time": "2022-10-29T14:41:35.212Z"
   },
   {
    "duration": 5,
    "start_time": "2022-10-29T14:41:36.980Z"
   },
   {
    "duration": 141,
    "start_time": "2022-10-29T14:41:37.973Z"
   },
   {
    "duration": 137,
    "start_time": "2022-10-29T14:41:38.811Z"
   },
   {
    "duration": 4,
    "start_time": "2022-10-29T14:41:39.913Z"
   },
   {
    "duration": 223,
    "start_time": "2022-10-29T14:41:41.844Z"
   },
   {
    "duration": 151,
    "start_time": "2022-10-29T14:41:43.293Z"
   },
   {
    "duration": 11,
    "start_time": "2022-10-29T14:41:46.279Z"
   },
   {
    "duration": 10,
    "start_time": "2022-10-29T14:41:49.462Z"
   },
   {
    "duration": 31,
    "start_time": "2022-10-29T14:41:50.671Z"
   },
   {
    "duration": 15,
    "start_time": "2022-10-29T14:41:52.023Z"
   },
   {
    "duration": 298,
    "start_time": "2022-10-29T14:43:02.343Z"
   },
   {
    "duration": 9,
    "start_time": "2022-10-29T14:43:13.056Z"
   },
   {
    "duration": 117,
    "start_time": "2022-10-29T14:43:13.452Z"
   },
   {
    "duration": 123,
    "start_time": "2022-10-29T14:43:13.905Z"
   },
   {
    "duration": 4,
    "start_time": "2022-10-29T14:43:14.663Z"
   },
   {
    "duration": 131,
    "start_time": "2022-10-29T14:43:15.522Z"
   },
   {
    "duration": 138,
    "start_time": "2022-10-29T14:43:16.261Z"
   },
   {
    "duration": 5,
    "start_time": "2022-10-29T14:43:17.623Z"
   },
   {
    "duration": 219,
    "start_time": "2022-10-29T14:43:19.737Z"
   },
   {
    "duration": 173,
    "start_time": "2022-10-29T14:43:21.865Z"
   },
   {
    "duration": 11,
    "start_time": "2022-10-29T14:43:24.968Z"
   },
   {
    "duration": 10,
    "start_time": "2022-10-29T14:43:27.598Z"
   },
   {
    "duration": 28,
    "start_time": "2022-10-29T14:43:28.776Z"
   },
   {
    "duration": 15,
    "start_time": "2022-10-29T14:43:30.631Z"
   },
   {
    "duration": 9,
    "start_time": "2022-10-29T15:23:48.405Z"
   },
   {
    "duration": 9,
    "start_time": "2022-10-29T15:25:34.286Z"
   },
   {
    "duration": 26,
    "start_time": "2022-10-29T15:26:21.514Z"
   },
   {
    "duration": 11,
    "start_time": "2022-10-29T15:30:21.327Z"
   },
   {
    "duration": 9,
    "start_time": "2022-10-29T15:30:33.029Z"
   },
   {
    "duration": 26,
    "start_time": "2022-10-29T15:30:34.650Z"
   },
   {
    "duration": 18,
    "start_time": "2022-10-29T15:30:36.106Z"
   },
   {
    "duration": 149,
    "start_time": "2022-10-29T15:32:58.741Z"
   },
   {
    "duration": 118,
    "start_time": "2022-10-29T15:33:26.012Z"
   },
   {
    "duration": 3,
    "start_time": "2022-10-29T15:40:01.851Z"
   },
   {
    "duration": 77,
    "start_time": "2022-10-29T15:40:05.341Z"
   },
   {
    "duration": 11,
    "start_time": "2022-10-29T15:40:07.349Z"
   },
   {
    "duration": 8,
    "start_time": "2022-10-29T15:40:08.032Z"
   },
   {
    "duration": 15,
    "start_time": "2022-10-29T15:40:08.717Z"
   },
   {
    "duration": 15,
    "start_time": "2022-10-29T15:40:09.915Z"
   },
   {
    "duration": 14,
    "start_time": "2022-10-29T15:40:10.453Z"
   },
   {
    "duration": 9,
    "start_time": "2022-10-29T15:40:11.945Z"
   },
   {
    "duration": 6,
    "start_time": "2022-10-29T15:40:14.744Z"
   },
   {
    "duration": 6,
    "start_time": "2022-10-29T15:40:16.832Z"
   },
   {
    "duration": 5,
    "start_time": "2022-10-29T15:40:17.360Z"
   },
   {
    "duration": 5,
    "start_time": "2022-10-29T15:40:18.345Z"
   },
   {
    "duration": 6,
    "start_time": "2022-10-29T15:40:18.643Z"
   },
   {
    "duration": 6,
    "start_time": "2022-10-29T15:40:18.995Z"
   },
   {
    "duration": 69,
    "start_time": "2022-10-29T15:40:22.545Z"
   },
   {
    "duration": 34,
    "start_time": "2022-10-29T15:40:23.795Z"
   },
   {
    "duration": 10,
    "start_time": "2022-10-29T15:40:27.661Z"
   },
   {
    "duration": 11,
    "start_time": "2022-10-29T15:40:33.974Z"
   },
   {
    "duration": 12,
    "start_time": "2022-10-29T15:40:35.308Z"
   },
   {
    "duration": 270,
    "start_time": "2022-10-29T15:40:41.176Z"
   },
   {
    "duration": 183,
    "start_time": "2022-10-29T15:40:53.634Z"
   },
   {
    "duration": 193,
    "start_time": "2022-10-29T15:41:12.110Z"
   },
   {
    "duration": 310,
    "start_time": "2022-10-29T15:41:29.694Z"
   },
   {
    "duration": 181,
    "start_time": "2022-10-29T15:41:43.188Z"
   },
   {
    "duration": 176,
    "start_time": "2022-10-29T15:43:03.389Z"
   },
   {
    "duration": 337,
    "start_time": "2022-10-29T15:43:27.948Z"
   },
   {
    "duration": 10,
    "start_time": "2022-10-29T15:44:51.121Z"
   },
   {
    "duration": 121,
    "start_time": "2022-10-29T15:44:57.741Z"
   },
   {
    "duration": 123,
    "start_time": "2022-10-29T15:44:59.231Z"
   },
   {
    "duration": 5,
    "start_time": "2022-10-29T15:45:04.886Z"
   },
   {
    "duration": 132,
    "start_time": "2022-10-29T15:45:19.748Z"
   },
   {
    "duration": 146,
    "start_time": "2022-10-29T15:45:42.836Z"
   },
   {
    "duration": 143,
    "start_time": "2022-10-29T15:46:07.305Z"
   },
   {
    "duration": 5,
    "start_time": "2022-10-29T15:46:19.349Z"
   },
   {
    "duration": 463,
    "start_time": "2022-10-29T15:47:30.352Z"
   },
   {
    "duration": 145,
    "start_time": "2022-10-29T15:47:40.897Z"
   },
   {
    "duration": 10,
    "start_time": "2022-10-29T15:48:08.236Z"
   },
   {
    "duration": 11,
    "start_time": "2022-10-29T15:52:06.006Z"
   },
   {
    "duration": 10,
    "start_time": "2022-10-29T15:55:47.209Z"
   },
   {
    "duration": 27,
    "start_time": "2022-10-29T15:55:53.690Z"
   },
   {
    "duration": 14,
    "start_time": "2022-10-29T15:57:55.715Z"
   },
   {
    "duration": 3,
    "start_time": "2022-10-29T16:01:32.573Z"
   },
   {
    "duration": 78,
    "start_time": "2022-10-29T16:01:33.653Z"
   },
   {
    "duration": 12,
    "start_time": "2022-10-29T16:01:35.244Z"
   },
   {
    "duration": 8,
    "start_time": "2022-10-29T16:01:36.463Z"
   },
   {
    "duration": 9,
    "start_time": "2022-10-29T16:01:37.419Z"
   },
   {
    "duration": 12,
    "start_time": "2022-10-29T16:01:38.167Z"
   },
   {
    "duration": 10,
    "start_time": "2022-10-29T16:01:39.144Z"
   },
   {
    "duration": 10,
    "start_time": "2022-10-29T16:01:39.992Z"
   },
   {
    "duration": 5,
    "start_time": "2022-10-29T16:01:43.445Z"
   },
   {
    "duration": 6,
    "start_time": "2022-10-29T16:01:43.903Z"
   },
   {
    "duration": 5,
    "start_time": "2022-10-29T16:01:44.272Z"
   },
   {
    "duration": 6,
    "start_time": "2022-10-29T16:01:45.059Z"
   },
   {
    "duration": 6,
    "start_time": "2022-10-29T16:01:45.627Z"
   },
   {
    "duration": 6,
    "start_time": "2022-10-29T16:01:45.994Z"
   },
   {
    "duration": 63,
    "start_time": "2022-10-29T16:01:47.602Z"
   },
   {
    "duration": 23,
    "start_time": "2022-10-29T16:01:48.593Z"
   },
   {
    "duration": 10,
    "start_time": "2022-10-29T16:01:51.411Z"
   },
   {
    "duration": 12,
    "start_time": "2022-10-29T16:01:53.863Z"
   },
   {
    "duration": 12,
    "start_time": "2022-10-29T16:01:55.168Z"
   },
   {
    "duration": 278,
    "start_time": "2022-10-29T16:01:58.018Z"
   },
   {
    "duration": 188,
    "start_time": "2022-10-29T16:01:59.125Z"
   },
   {
    "duration": 181,
    "start_time": "2022-10-29T16:02:01.593Z"
   },
   {
    "duration": 287,
    "start_time": "2022-10-29T16:02:04.471Z"
   },
   {
    "duration": 177,
    "start_time": "2022-10-29T16:02:20.482Z"
   },
   {
    "duration": 303,
    "start_time": "2022-10-29T16:02:22.160Z"
   },
   {
    "duration": 10,
    "start_time": "2022-10-29T16:02:24.334Z"
   },
   {
    "duration": 136,
    "start_time": "2022-10-29T16:02:25.315Z"
   },
   {
    "duration": 121,
    "start_time": "2022-10-29T16:02:26.321Z"
   },
   {
    "duration": 4,
    "start_time": "2022-10-29T16:02:27.823Z"
   },
   {
    "duration": 146,
    "start_time": "2022-10-29T16:02:29.191Z"
   },
   {
    "duration": 161,
    "start_time": "2022-10-29T16:02:30.279Z"
   },
   {
    "duration": 5,
    "start_time": "2022-10-29T16:02:32.313Z"
   },
   {
    "duration": 232,
    "start_time": "2022-10-29T16:02:37.259Z"
   },
   {
    "duration": 150,
    "start_time": "2022-10-29T16:02:39.692Z"
   },
   {
    "duration": 12,
    "start_time": "2022-10-29T16:02:58.021Z"
   },
   {
    "duration": 10,
    "start_time": "2022-10-29T16:03:00.648Z"
   },
   {
    "duration": 27,
    "start_time": "2022-10-29T16:03:02.563Z"
   },
   {
    "duration": 14,
    "start_time": "2022-10-29T16:03:04.701Z"
   },
   {
    "duration": 1056,
    "start_time": "2022-10-29T16:04:21.655Z"
   },
   {
    "duration": 124,
    "start_time": "2022-10-29T16:04:22.713Z"
   },
   {
    "duration": 11,
    "start_time": "2022-10-29T16:04:22.840Z"
   },
   {
    "duration": 15,
    "start_time": "2022-10-29T16:04:22.853Z"
   },
   {
    "duration": 10,
    "start_time": "2022-10-29T16:04:22.869Z"
   },
   {
    "duration": 15,
    "start_time": "2022-10-29T16:04:22.881Z"
   },
   {
    "duration": 15,
    "start_time": "2022-10-29T16:04:22.897Z"
   },
   {
    "duration": 13,
    "start_time": "2022-10-29T16:04:22.914Z"
   },
   {
    "duration": 8,
    "start_time": "2022-10-29T16:04:22.929Z"
   },
   {
    "duration": 5,
    "start_time": "2022-10-29T16:04:22.940Z"
   },
   {
    "duration": 7,
    "start_time": "2022-10-29T16:04:22.946Z"
   },
   {
    "duration": 7,
    "start_time": "2022-10-29T16:04:22.954Z"
   },
   {
    "duration": 5,
    "start_time": "2022-10-29T16:04:22.977Z"
   },
   {
    "duration": 7,
    "start_time": "2022-10-29T16:04:22.983Z"
   },
   {
    "duration": 24,
    "start_time": "2022-10-29T16:04:22.991Z"
   },
   {
    "duration": 13,
    "start_time": "2022-10-29T16:04:23.016Z"
   },
   {
    "duration": 10,
    "start_time": "2022-10-29T16:04:23.030Z"
   },
   {
    "duration": 41,
    "start_time": "2022-10-29T16:04:23.042Z"
   },
   {
    "duration": 11,
    "start_time": "2022-10-29T16:04:23.084Z"
   },
   {
    "duration": 292,
    "start_time": "2022-10-29T16:04:23.096Z"
   },
   {
    "duration": 260,
    "start_time": "2022-10-29T16:04:23.390Z"
   },
   {
    "duration": 174,
    "start_time": "2022-10-29T16:04:23.651Z"
   },
   {
    "duration": 274,
    "start_time": "2022-10-29T16:04:23.827Z"
   },
   {
    "duration": 186,
    "start_time": "2022-10-29T16:04:24.103Z"
   },
   {
    "duration": 291,
    "start_time": "2022-10-29T16:04:24.290Z"
   },
   {
    "duration": 9,
    "start_time": "2022-10-29T16:04:24.583Z"
   },
   {
    "duration": 135,
    "start_time": "2022-10-29T16:04:24.594Z"
   },
   {
    "duration": 122,
    "start_time": "2022-10-29T16:04:24.732Z"
   },
   {
    "duration": 4,
    "start_time": "2022-10-29T16:04:24.856Z"
   },
   {
    "duration": 146,
    "start_time": "2022-10-29T16:04:24.861Z"
   },
   {
    "duration": 146,
    "start_time": "2022-10-29T16:04:25.008Z"
   },
   {
    "duration": 5,
    "start_time": "2022-10-29T16:04:25.156Z"
   },
   {
    "duration": 337,
    "start_time": "2022-10-29T16:04:25.164Z"
   },
   {
    "duration": 161,
    "start_time": "2022-10-29T16:04:25.503Z"
   },
   {
    "duration": 15,
    "start_time": "2022-10-29T16:04:25.665Z"
   },
   {
    "duration": 27,
    "start_time": "2022-10-29T16:04:25.682Z"
   },
   {
    "duration": 45,
    "start_time": "2022-10-29T16:04:25.710Z"
   },
   {
    "duration": 28,
    "start_time": "2022-10-29T16:04:25.756Z"
   },
   {
    "duration": 3,
    "start_time": "2022-10-29T16:04:48.794Z"
   },
   {
    "duration": 74,
    "start_time": "2022-10-29T16:04:50.052Z"
   },
   {
    "duration": 10,
    "start_time": "2022-10-29T16:04:51.599Z"
   },
   {
    "duration": 10,
    "start_time": "2022-10-29T16:04:55.150Z"
   },
   {
    "duration": 10,
    "start_time": "2022-10-29T16:04:56.287Z"
   },
   {
    "duration": 12,
    "start_time": "2022-10-29T16:04:57.126Z"
   },
   {
    "duration": 11,
    "start_time": "2022-10-29T16:04:57.770Z"
   },
   {
    "duration": 10,
    "start_time": "2022-10-29T16:04:58.330Z"
   },
   {
    "duration": 5,
    "start_time": "2022-10-29T16:05:00.568Z"
   },
   {
    "duration": 6,
    "start_time": "2022-10-29T16:05:01.140Z"
   },
   {
    "duration": 6,
    "start_time": "2022-10-29T16:05:01.885Z"
   },
   {
    "duration": 6,
    "start_time": "2022-10-29T16:05:03.166Z"
   },
   {
    "duration": 7,
    "start_time": "2022-10-29T16:05:03.721Z"
   },
   {
    "duration": 7,
    "start_time": "2022-10-29T16:05:04.450Z"
   },
   {
    "duration": 61,
    "start_time": "2022-10-29T16:05:06.454Z"
   },
   {
    "duration": 39,
    "start_time": "2022-10-29T16:05:07.859Z"
   },
   {
    "duration": 12,
    "start_time": "2022-10-29T16:05:10.432Z"
   },
   {
    "duration": 12,
    "start_time": "2022-10-29T16:05:12.437Z"
   },
   {
    "duration": 12,
    "start_time": "2022-10-29T16:05:13.971Z"
   },
   {
    "duration": 311,
    "start_time": "2022-10-29T16:05:35.360Z"
   },
   {
    "duration": 179,
    "start_time": "2022-10-29T16:05:37.218Z"
   },
   {
    "duration": 173,
    "start_time": "2022-10-29T16:05:39.303Z"
   },
   {
    "duration": 278,
    "start_time": "2022-10-29T16:05:41.511Z"
   },
   {
    "duration": 177,
    "start_time": "2022-10-29T16:05:44.051Z"
   },
   {
    "duration": 309,
    "start_time": "2022-10-29T16:05:45.990Z"
   },
   {
    "duration": 10,
    "start_time": "2022-10-29T16:05:48.036Z"
   },
   {
    "duration": 122,
    "start_time": "2022-10-29T16:05:49.365Z"
   },
   {
    "duration": 124,
    "start_time": "2022-10-29T16:05:50.633Z"
   },
   {
    "duration": 5,
    "start_time": "2022-10-29T16:05:52.371Z"
   },
   {
    "duration": 160,
    "start_time": "2022-10-29T16:05:53.762Z"
   },
   {
    "duration": 147,
    "start_time": "2022-10-29T16:05:55.039Z"
   },
   {
    "duration": 5,
    "start_time": "2022-10-29T16:05:56.690Z"
   },
   {
    "duration": 215,
    "start_time": "2022-10-29T16:05:59.288Z"
   },
   {
    "duration": 149,
    "start_time": "2022-10-29T16:06:01.349Z"
   },
   {
    "duration": 9,
    "start_time": "2022-10-29T16:06:03.165Z"
   },
   {
    "duration": 10,
    "start_time": "2022-10-29T16:06:05.760Z"
   },
   {
    "duration": 30,
    "start_time": "2022-10-29T16:06:07.531Z"
   },
   {
    "duration": 13,
    "start_time": "2022-10-29T16:06:09.502Z"
   },
   {
    "duration": 1150,
    "start_time": "2022-10-29T19:00:27.241Z"
   },
   {
    "duration": 258,
    "start_time": "2022-10-29T19:00:28.393Z"
   },
   {
    "duration": 13,
    "start_time": "2022-10-29T19:00:28.653Z"
   },
   {
    "duration": 14,
    "start_time": "2022-10-29T19:00:28.668Z"
   },
   {
    "duration": 10,
    "start_time": "2022-10-29T19:00:28.684Z"
   },
   {
    "duration": 13,
    "start_time": "2022-10-29T19:00:28.696Z"
   },
   {
    "duration": 14,
    "start_time": "2022-10-29T19:00:28.711Z"
   },
   {
    "duration": 11,
    "start_time": "2022-10-29T19:00:28.726Z"
   },
   {
    "duration": 12,
    "start_time": "2022-10-29T19:00:28.739Z"
   },
   {
    "duration": 6,
    "start_time": "2022-10-29T19:00:28.753Z"
   },
   {
    "duration": 31,
    "start_time": "2022-10-29T19:00:28.761Z"
   },
   {
    "duration": 8,
    "start_time": "2022-10-29T19:00:28.794Z"
   },
   {
    "duration": 7,
    "start_time": "2022-10-29T19:00:28.804Z"
   },
   {
    "duration": 14,
    "start_time": "2022-10-29T19:00:28.814Z"
   },
   {
    "duration": 22,
    "start_time": "2022-10-29T19:00:28.829Z"
   },
   {
    "duration": 12,
    "start_time": "2022-10-29T19:00:28.853Z"
   },
   {
    "duration": 14,
    "start_time": "2022-10-29T19:00:28.890Z"
   },
   {
    "duration": 12,
    "start_time": "2022-10-29T19:00:28.905Z"
   },
   {
    "duration": 11,
    "start_time": "2022-10-29T19:00:28.919Z"
   },
   {
    "duration": 312,
    "start_time": "2022-10-29T19:00:28.932Z"
   },
   {
    "duration": 291,
    "start_time": "2022-10-29T19:00:29.246Z"
   },
   {
    "duration": 206,
    "start_time": "2022-10-29T19:00:29.539Z"
   },
   {
    "duration": 359,
    "start_time": "2022-10-29T19:00:29.746Z"
   },
   {
    "duration": 190,
    "start_time": "2022-10-29T19:00:30.107Z"
   },
   {
    "duration": 307,
    "start_time": "2022-10-29T19:00:30.299Z"
   },
   {
    "duration": 10,
    "start_time": "2022-10-29T19:00:30.608Z"
   },
   {
    "duration": 138,
    "start_time": "2022-10-29T19:00:30.620Z"
   },
   {
    "duration": 136,
    "start_time": "2022-10-29T19:00:30.760Z"
   },
   {
    "duration": 5,
    "start_time": "2022-10-29T19:00:30.898Z"
   },
   {
    "duration": 155,
    "start_time": "2022-10-29T19:00:30.905Z"
   },
   {
    "duration": 162,
    "start_time": "2022-10-29T19:00:31.062Z"
   },
   {
    "duration": 4,
    "start_time": "2022-10-29T19:00:31.226Z"
   },
   {
    "duration": 299,
    "start_time": "2022-10-29T19:00:31.232Z"
   },
   {
    "duration": 162,
    "start_time": "2022-10-29T19:00:31.533Z"
   },
   {
    "duration": 11,
    "start_time": "2022-10-29T19:00:31.697Z"
   },
   {
    "duration": 15,
    "start_time": "2022-10-29T19:00:31.710Z"
   },
   {
    "duration": 28,
    "start_time": "2022-10-29T19:00:31.727Z"
   },
   {
    "duration": 34,
    "start_time": "2022-10-29T19:00:31.757Z"
   },
   {
    "duration": 53,
    "start_time": "2022-10-29T20:31:47.864Z"
   },
   {
    "duration": 1252,
    "start_time": "2022-10-29T20:32:01.770Z"
   },
   {
    "duration": 250,
    "start_time": "2022-10-29T20:32:03.025Z"
   },
   {
    "duration": 15,
    "start_time": "2022-10-29T20:32:03.277Z"
   },
   {
    "duration": 15,
    "start_time": "2022-10-29T20:32:03.295Z"
   },
   {
    "duration": 13,
    "start_time": "2022-10-29T20:32:03.312Z"
   },
   {
    "duration": 16,
    "start_time": "2022-10-29T20:32:03.798Z"
   },
   {
    "duration": 15,
    "start_time": "2022-10-29T20:32:04.300Z"
   },
   {
    "duration": 11,
    "start_time": "2022-10-29T20:32:04.730Z"
   },
   {
    "duration": 6,
    "start_time": "2022-10-29T20:32:06.009Z"
   },
   {
    "duration": 7,
    "start_time": "2022-10-29T20:32:06.239Z"
   },
   {
    "duration": 5,
    "start_time": "2022-10-29T20:32:06.462Z"
   },
   {
    "duration": 8,
    "start_time": "2022-10-29T20:32:07.096Z"
   },
   {
    "duration": 6,
    "start_time": "2022-10-29T20:32:07.380Z"
   },
   {
    "duration": 9,
    "start_time": "2022-10-29T20:32:07.630Z"
   },
   {
    "duration": 63,
    "start_time": "2022-10-29T20:32:08.932Z"
   },
   {
    "duration": 34,
    "start_time": "2022-10-29T20:32:09.974Z"
   },
   {
    "duration": 15,
    "start_time": "2022-10-29T20:32:13.051Z"
   },
   {
    "duration": 13,
    "start_time": "2022-10-29T20:32:15.675Z"
   },
   {
    "duration": 9,
    "start_time": "2022-10-29T20:32:16.509Z"
   },
   {
    "duration": 303,
    "start_time": "2022-10-29T20:32:20.935Z"
   },
   {
    "duration": 294,
    "start_time": "2022-10-29T20:32:22.726Z"
   },
   {
    "duration": 211,
    "start_time": "2022-10-29T20:32:45.142Z"
   },
   {
    "duration": 197,
    "start_time": "2022-10-29T20:33:06.810Z"
   },
   {
    "duration": 3,
    "start_time": "2022-10-29T20:33:46.075Z"
   },
   {
    "duration": 80,
    "start_time": "2022-10-29T20:33:46.849Z"
   },
   {
    "duration": 10,
    "start_time": "2022-10-29T20:33:47.739Z"
   },
   {
    "duration": 9,
    "start_time": "2022-10-29T20:33:48.299Z"
   },
   {
    "duration": 10,
    "start_time": "2022-10-29T20:33:48.900Z"
   },
   {
    "duration": 12,
    "start_time": "2022-10-29T20:33:49.438Z"
   },
   {
    "duration": 11,
    "start_time": "2022-10-29T20:33:50.339Z"
   },
   {
    "duration": 10,
    "start_time": "2022-10-29T20:33:51.299Z"
   },
   {
    "duration": 6,
    "start_time": "2022-10-29T20:33:53.109Z"
   },
   {
    "duration": 7,
    "start_time": "2022-10-29T20:33:53.356Z"
   },
   {
    "duration": 6,
    "start_time": "2022-10-29T20:33:53.600Z"
   },
   {
    "duration": 5,
    "start_time": "2022-10-29T20:33:54.246Z"
   },
   {
    "duration": 5,
    "start_time": "2022-10-29T20:33:54.494Z"
   },
   {
    "duration": 6,
    "start_time": "2022-10-29T20:33:54.755Z"
   },
   {
    "duration": 62,
    "start_time": "2022-10-29T20:33:55.965Z"
   },
   {
    "duration": 24,
    "start_time": "2022-10-29T20:33:56.941Z"
   },
   {
    "duration": 10,
    "start_time": "2022-10-29T20:34:16.460Z"
   },
   {
    "duration": 16,
    "start_time": "2022-10-29T20:34:22.006Z"
   },
   {
    "duration": 10,
    "start_time": "2022-10-29T20:34:23.188Z"
   },
   {
    "duration": 292,
    "start_time": "2022-10-29T20:34:27.129Z"
   },
   {
    "duration": 220,
    "start_time": "2022-10-29T20:34:30.499Z"
   },
   {
    "duration": 341,
    "start_time": "2022-10-29T20:37:17.185Z"
   },
   {
    "duration": 181,
    "start_time": "2022-10-29T20:37:32.773Z"
   },
   {
    "duration": 302,
    "start_time": "2022-10-29T20:37:44.949Z"
   },
   {
    "duration": 11,
    "start_time": "2022-10-29T20:37:49.701Z"
   },
   {
    "duration": 110,
    "start_time": "2022-10-29T20:38:05.998Z"
   },
   {
    "duration": 118,
    "start_time": "2022-10-29T20:38:21.657Z"
   },
   {
    "duration": 5,
    "start_time": "2022-10-29T20:38:33.407Z"
   },
   {
    "duration": 190,
    "start_time": "2022-10-29T20:38:41.703Z"
   },
   {
    "duration": 151,
    "start_time": "2022-10-29T20:38:45.321Z"
   },
   {
    "duration": 4,
    "start_time": "2022-10-29T20:39:01.762Z"
   },
   {
    "duration": 204,
    "start_time": "2022-10-29T20:39:13.607Z"
   },
   {
    "duration": 11,
    "start_time": "2022-10-29T20:49:06.026Z"
   },
   {
    "duration": 10,
    "start_time": "2022-10-29T20:49:20.025Z"
   },
   {
    "duration": 20,
    "start_time": "2022-10-29T20:49:27.972Z"
   },
   {
    "duration": 9,
    "start_time": "2022-10-29T20:49:38.158Z"
   },
   {
    "duration": 3,
    "start_time": "2022-10-29T20:50:16.425Z"
   },
   {
    "duration": 75,
    "start_time": "2022-10-29T20:50:17.015Z"
   },
   {
    "duration": 10,
    "start_time": "2022-10-29T20:50:17.461Z"
   },
   {
    "duration": 8,
    "start_time": "2022-10-29T20:50:17.953Z"
   },
   {
    "duration": 11,
    "start_time": "2022-10-29T20:50:18.564Z"
   },
   {
    "duration": 12,
    "start_time": "2022-10-29T20:50:20.024Z"
   },
   {
    "duration": 10,
    "start_time": "2022-10-29T20:50:20.526Z"
   },
   {
    "duration": 9,
    "start_time": "2022-10-29T20:50:20.999Z"
   },
   {
    "duration": 4,
    "start_time": "2022-10-29T20:50:23.018Z"
   },
   {
    "duration": 5,
    "start_time": "2022-10-29T20:50:23.222Z"
   },
   {
    "duration": 5,
    "start_time": "2022-10-29T20:50:23.762Z"
   },
   {
    "duration": 6,
    "start_time": "2022-10-29T20:50:24.219Z"
   },
   {
    "duration": 7,
    "start_time": "2022-10-29T20:50:24.567Z"
   },
   {
    "duration": 5,
    "start_time": "2022-10-29T20:50:24.784Z"
   },
   {
    "duration": 62,
    "start_time": "2022-10-29T20:50:25.836Z"
   },
   {
    "duration": 23,
    "start_time": "2022-10-29T20:50:26.497Z"
   },
   {
    "duration": 11,
    "start_time": "2022-10-29T20:50:43.214Z"
   },
   {
    "duration": 68,
    "start_time": "2022-10-29T20:51:31.603Z"
   },
   {
    "duration": 4,
    "start_time": "2022-10-29T20:51:35.671Z"
   },
   {
    "duration": 13,
    "start_time": "2022-10-29T20:51:43.822Z"
   },
   {
    "duration": 12,
    "start_time": "2022-10-29T20:51:50.516Z"
   },
   {
    "duration": 16,
    "start_time": "2022-10-29T20:51:55.211Z"
   },
   {
    "duration": 13,
    "start_time": "2022-10-29T20:52:39.009Z"
   },
   {
    "duration": 12,
    "start_time": "2022-10-29T20:53:27.608Z"
   },
   {
    "duration": 9,
    "start_time": "2022-10-29T20:53:29.661Z"
   },
   {
    "duration": 12,
    "start_time": "2022-10-29T20:53:48.712Z"
   },
   {
    "duration": 10,
    "start_time": "2022-10-29T20:53:52.681Z"
   },
   {
    "duration": 9,
    "start_time": "2022-10-29T20:53:56.083Z"
   },
   {
    "duration": 3,
    "start_time": "2022-10-29T20:54:53.407Z"
   },
   {
    "duration": 73,
    "start_time": "2022-10-29T20:54:54.032Z"
   },
   {
    "duration": 10,
    "start_time": "2022-10-29T20:54:54.911Z"
   },
   {
    "duration": 9,
    "start_time": "2022-10-29T20:54:55.201Z"
   },
   {
    "duration": 10,
    "start_time": "2022-10-29T20:54:56.063Z"
   },
   {
    "duration": 12,
    "start_time": "2022-10-29T20:54:57.196Z"
   },
   {
    "duration": 11,
    "start_time": "2022-10-29T20:54:57.693Z"
   },
   {
    "duration": 8,
    "start_time": "2022-10-29T20:54:58.075Z"
   },
   {
    "duration": 6,
    "start_time": "2022-10-29T20:54:59.133Z"
   },
   {
    "duration": 5,
    "start_time": "2022-10-29T20:54:59.334Z"
   },
   {
    "duration": 5,
    "start_time": "2022-10-29T20:54:59.538Z"
   },
   {
    "duration": 5,
    "start_time": "2022-10-29T20:54:59.928Z"
   },
   {
    "duration": 7,
    "start_time": "2022-10-29T20:55:00.289Z"
   },
   {
    "duration": 6,
    "start_time": "2022-10-29T20:55:00.486Z"
   },
   {
    "duration": 67,
    "start_time": "2022-10-29T20:55:01.546Z"
   },
   {
    "duration": 22,
    "start_time": "2022-10-29T20:55:02.503Z"
   },
   {
    "duration": 12,
    "start_time": "2022-10-29T20:55:05.989Z"
   },
   {
    "duration": 13,
    "start_time": "2022-10-29T20:55:12.770Z"
   },
   {
    "duration": 9,
    "start_time": "2022-10-29T20:55:16.632Z"
   },
   {
    "duration": 12,
    "start_time": "2022-10-29T20:55:45.752Z"
   },
   {
    "duration": 10,
    "start_time": "2022-10-29T20:55:55.473Z"
   },
   {
    "duration": 13,
    "start_time": "2022-10-29T20:56:02.354Z"
   },
   {
    "duration": 12,
    "start_time": "2022-10-29T20:56:03.970Z"
   },
   {
    "duration": 11,
    "start_time": "2022-10-29T20:56:17.331Z"
   },
   {
    "duration": 14,
    "start_time": "2022-10-29T20:56:29.988Z"
   },
   {
    "duration": 12,
    "start_time": "2022-10-29T20:56:38.621Z"
   },
   {
    "duration": 11,
    "start_time": "2022-10-29T20:56:41.561Z"
   },
   {
    "duration": 11,
    "start_time": "2022-10-29T20:57:20.169Z"
   },
   {
    "duration": 13,
    "start_time": "2022-10-29T20:57:28.840Z"
   },
   {
    "duration": 9,
    "start_time": "2022-10-29T20:57:58.232Z"
   },
   {
    "duration": 1002,
    "start_time": "2022-10-29T20:58:27.988Z"
   },
   {
    "duration": 126,
    "start_time": "2022-10-29T20:58:28.992Z"
   },
   {
    "duration": 10,
    "start_time": "2022-10-29T20:58:29.120Z"
   },
   {
    "duration": 13,
    "start_time": "2022-10-29T20:58:29.132Z"
   },
   {
    "duration": 11,
    "start_time": "2022-10-29T20:58:29.146Z"
   },
   {
    "duration": 11,
    "start_time": "2022-10-29T20:58:29.158Z"
   },
   {
    "duration": 13,
    "start_time": "2022-10-29T20:58:29.171Z"
   },
   {
    "duration": 9,
    "start_time": "2022-10-29T20:58:29.186Z"
   },
   {
    "duration": 10,
    "start_time": "2022-10-29T20:58:29.196Z"
   },
   {
    "duration": 9,
    "start_time": "2022-10-29T20:58:29.208Z"
   },
   {
    "duration": 5,
    "start_time": "2022-10-29T20:58:29.219Z"
   },
   {
    "duration": 9,
    "start_time": "2022-10-29T20:58:29.225Z"
   },
   {
    "duration": 6,
    "start_time": "2022-10-29T20:58:29.236Z"
   },
   {
    "duration": 6,
    "start_time": "2022-10-29T20:58:29.243Z"
   },
   {
    "duration": 37,
    "start_time": "2022-10-29T20:58:29.250Z"
   },
   {
    "duration": 12,
    "start_time": "2022-10-29T20:58:29.289Z"
   },
   {
    "duration": 12,
    "start_time": "2022-10-29T20:58:29.303Z"
   },
   {
    "duration": 11,
    "start_time": "2022-10-29T20:58:29.316Z"
   },
   {
    "duration": 13,
    "start_time": "2022-10-29T20:58:29.328Z"
   },
   {
    "duration": 321,
    "start_time": "2022-10-29T20:58:29.343Z"
   },
   {
    "duration": 279,
    "start_time": "2022-10-29T20:58:29.666Z"
   },
   {
    "duration": 195,
    "start_time": "2022-10-29T20:58:29.947Z"
   },
   {
    "duration": 340,
    "start_time": "2022-10-29T20:58:30.144Z"
   },
   {
    "duration": 211,
    "start_time": "2022-10-29T20:58:30.487Z"
   },
   {
    "duration": 290,
    "start_time": "2022-10-29T20:58:30.701Z"
   },
   {
    "duration": 9,
    "start_time": "2022-10-29T20:58:30.993Z"
   },
   {
    "duration": 146,
    "start_time": "2022-10-29T20:58:31.004Z"
   },
   {
    "duration": 134,
    "start_time": "2022-10-29T20:58:31.153Z"
   },
   {
    "duration": 5,
    "start_time": "2022-10-29T20:58:31.289Z"
   },
   {
    "duration": 154,
    "start_time": "2022-10-29T20:58:31.296Z"
   },
   {
    "duration": 149,
    "start_time": "2022-10-29T20:58:31.452Z"
   },
   {
    "duration": 4,
    "start_time": "2022-10-29T20:58:31.603Z"
   },
   {
    "duration": 319,
    "start_time": "2022-10-29T20:58:31.608Z"
   },
   {
    "duration": 161,
    "start_time": "2022-10-29T20:58:31.929Z"
   },
   {
    "duration": 10,
    "start_time": "2022-10-29T20:58:32.092Z"
   },
   {
    "duration": 44,
    "start_time": "2022-10-29T20:58:32.104Z"
   },
   {
    "duration": 40,
    "start_time": "2022-10-29T20:58:32.150Z"
   },
   {
    "duration": 33,
    "start_time": "2022-10-29T20:58:32.192Z"
   },
   {
    "duration": 179,
    "start_time": "2022-10-29T20:59:28.373Z"
   },
   {
    "duration": 257,
    "start_time": "2022-10-29T20:59:32.735Z"
   },
   {
    "duration": 162,
    "start_time": "2022-10-29T20:59:40.491Z"
   },
   {
    "duration": 167,
    "start_time": "2022-10-29T20:59:46.528Z"
   },
   {
    "duration": 154,
    "start_time": "2022-10-29T21:00:14.269Z"
   },
   {
    "duration": 148,
    "start_time": "2022-10-29T21:02:39.077Z"
   },
   {
    "duration": 146,
    "start_time": "2022-10-29T21:02:51.441Z"
   },
   {
    "duration": 145,
    "start_time": "2022-10-29T21:30:43.560Z"
   },
   {
    "duration": 153,
    "start_time": "2022-10-29T21:30:53.943Z"
   },
   {
    "duration": 3,
    "start_time": "2022-10-29T21:31:23.163Z"
   },
   {
    "duration": 74,
    "start_time": "2022-10-29T21:31:23.749Z"
   },
   {
    "duration": 10,
    "start_time": "2022-10-29T21:31:24.156Z"
   },
   {
    "duration": 7,
    "start_time": "2022-10-29T21:31:24.654Z"
   },
   {
    "duration": 10,
    "start_time": "2022-10-29T21:31:25.105Z"
   },
   {
    "duration": 11,
    "start_time": "2022-10-29T21:31:26.297Z"
   },
   {
    "duration": 10,
    "start_time": "2022-10-29T21:31:26.687Z"
   },
   {
    "duration": 11,
    "start_time": "2022-10-29T21:31:26.993Z"
   },
   {
    "duration": 5,
    "start_time": "2022-10-29T21:31:28.126Z"
   },
   {
    "duration": 5,
    "start_time": "2022-10-29T21:31:28.312Z"
   },
   {
    "duration": 5,
    "start_time": "2022-10-29T21:31:28.527Z"
   },
   {
    "duration": 5,
    "start_time": "2022-10-29T21:31:29.058Z"
   },
   {
    "duration": 6,
    "start_time": "2022-10-29T21:31:29.441Z"
   },
   {
    "duration": 6,
    "start_time": "2022-10-29T21:31:29.805Z"
   },
   {
    "duration": 104,
    "start_time": "2022-10-29T21:31:31.350Z"
   },
   {
    "duration": 34,
    "start_time": "2022-10-29T21:31:32.749Z"
   },
   {
    "duration": 11,
    "start_time": "2022-10-29T21:31:36.801Z"
   },
   {
    "duration": 13,
    "start_time": "2022-10-29T21:31:40.354Z"
   },
   {
    "duration": 10,
    "start_time": "2022-10-29T21:31:41.875Z"
   },
   {
    "duration": 12,
    "start_time": "2022-10-29T21:32:01.605Z"
   },
   {
    "duration": 279,
    "start_time": "2022-10-29T21:32:10.477Z"
   },
   {
    "duration": 172,
    "start_time": "2022-10-29T21:32:12.231Z"
   },
   {
    "duration": 207,
    "start_time": "2022-10-29T21:32:15.106Z"
   },
   {
    "duration": 315,
    "start_time": "2022-10-29T21:32:17.468Z"
   },
   {
    "duration": 164,
    "start_time": "2022-10-29T21:32:19.739Z"
   },
   {
    "duration": 284,
    "start_time": "2022-10-29T21:32:22.680Z"
   },
   {
    "duration": 13,
    "start_time": "2022-10-29T21:32:24.332Z"
   },
   {
    "duration": 126,
    "start_time": "2022-10-29T21:32:25.096Z"
   },
   {
    "duration": 109,
    "start_time": "2022-10-29T21:32:25.804Z"
   },
   {
    "duration": 4,
    "start_time": "2022-10-29T21:32:26.819Z"
   },
   {
    "duration": 138,
    "start_time": "2022-10-29T21:32:27.518Z"
   },
   {
    "duration": 147,
    "start_time": "2022-10-29T21:32:28.321Z"
   },
   {
    "duration": 5,
    "start_time": "2022-10-29T21:32:30.124Z"
   },
   {
    "duration": 215,
    "start_time": "2022-10-29T21:32:41.447Z"
   },
   {
    "duration": 144,
    "start_time": "2022-10-29T21:32:57.848Z"
   },
   {
    "duration": 45,
    "start_time": "2022-10-29T21:37:53.379Z"
   },
   {
    "duration": 46,
    "start_time": "2022-10-29T21:38:08.012Z"
   },
   {
    "duration": 153,
    "start_time": "2022-10-29T21:38:38.815Z"
   },
   {
    "duration": 142,
    "start_time": "2022-10-29T21:38:59.531Z"
   },
   {
    "duration": 173,
    "start_time": "2022-10-29T21:39:24.954Z"
   },
   {
    "duration": 146,
    "start_time": "2022-10-29T21:39:34.880Z"
   },
   {
    "duration": 48,
    "start_time": "2022-10-29T21:39:44.644Z"
   },
   {
    "duration": 150,
    "start_time": "2022-10-29T21:39:50.635Z"
   },
   {
    "duration": 157,
    "start_time": "2022-10-29T21:40:43.389Z"
   },
   {
    "duration": 53,
    "start_time": "2022-10-29T21:40:50.327Z"
   },
   {
    "duration": 65,
    "start_time": "2022-10-29T21:40:56.245Z"
   },
   {
    "duration": 51,
    "start_time": "2022-10-29T21:41:00.111Z"
   },
   {
    "duration": 161,
    "start_time": "2022-10-29T21:41:06.170Z"
   },
   {
    "duration": 163,
    "start_time": "2022-10-29T21:41:14.823Z"
   },
   {
    "duration": 11,
    "start_time": "2022-10-29T21:46:51.997Z"
   },
   {
    "duration": 10,
    "start_time": "2022-10-29T21:47:17.543Z"
   },
   {
    "duration": 11,
    "start_time": "2022-10-29T21:48:21.517Z"
   },
   {
    "duration": 9,
    "start_time": "2022-10-29T21:48:34.872Z"
   },
   {
    "duration": 27,
    "start_time": "2022-10-29T21:49:00.135Z"
   },
   {
    "duration": 25,
    "start_time": "2022-10-29T21:49:17.334Z"
   },
   {
    "duration": 24,
    "start_time": "2022-10-29T21:49:27.420Z"
   },
   {
    "duration": 24,
    "start_time": "2022-10-29T21:53:22.867Z"
   },
   {
    "duration": 26,
    "start_time": "2022-10-29T21:55:52.204Z"
   },
   {
    "duration": 3,
    "start_time": "2022-10-29T21:57:08.162Z"
   },
   {
    "duration": 73,
    "start_time": "2022-10-29T21:57:09.190Z"
   },
   {
    "duration": 11,
    "start_time": "2022-10-29T21:57:10.134Z"
   },
   {
    "duration": 7,
    "start_time": "2022-10-29T21:57:10.822Z"
   },
   {
    "duration": 12,
    "start_time": "2022-10-29T21:57:11.589Z"
   },
   {
    "duration": 11,
    "start_time": "2022-10-29T21:57:13.825Z"
   },
   {
    "duration": 10,
    "start_time": "2022-10-29T21:57:14.795Z"
   },
   {
    "duration": 9,
    "start_time": "2022-10-29T21:57:15.117Z"
   },
   {
    "duration": 5,
    "start_time": "2022-10-29T21:57:16.677Z"
   },
   {
    "duration": 6,
    "start_time": "2022-10-29T21:57:16.950Z"
   },
   {
    "duration": 5,
    "start_time": "2022-10-29T21:57:17.358Z"
   },
   {
    "duration": 6,
    "start_time": "2022-10-29T21:57:18.467Z"
   },
   {
    "duration": 5,
    "start_time": "2022-10-29T21:57:18.892Z"
   },
   {
    "duration": 7,
    "start_time": "2022-10-29T21:57:19.197Z"
   },
   {
    "duration": 61,
    "start_time": "2022-10-29T21:57:21.020Z"
   },
   {
    "duration": 34,
    "start_time": "2022-10-29T21:57:22.813Z"
   },
   {
    "duration": 12,
    "start_time": "2022-10-29T21:57:45.015Z"
   },
   {
    "duration": 12,
    "start_time": "2022-10-29T21:57:49.626Z"
   },
   {
    "duration": 11,
    "start_time": "2022-10-29T21:57:53.388Z"
   },
   {
    "duration": 251,
    "start_time": "2022-10-29T21:57:57.083Z"
   },
   {
    "duration": 245,
    "start_time": "2022-10-29T21:57:59.362Z"
   },
   {
    "duration": 171,
    "start_time": "2022-10-29T21:58:08.255Z"
   },
   {
    "duration": 198,
    "start_time": "2022-10-29T21:58:11.534Z"
   },
   {
    "duration": 265,
    "start_time": "2022-10-29T21:58:51.521Z"
   },
   {
    "duration": 163,
    "start_time": "2022-10-29T21:58:55.503Z"
   },
   {
    "duration": 264,
    "start_time": "2022-10-29T21:58:57.700Z"
   },
   {
    "duration": 13,
    "start_time": "2022-10-29T21:58:59.557Z"
   },
   {
    "duration": 117,
    "start_time": "2022-10-29T21:59:00.645Z"
   },
   {
    "duration": 125,
    "start_time": "2022-10-29T21:59:02.187Z"
   },
   {
    "duration": 5,
    "start_time": "2022-10-29T21:59:05.302Z"
   },
   {
    "duration": 122,
    "start_time": "2022-10-29T21:59:08.203Z"
   },
   {
    "duration": 123,
    "start_time": "2022-10-29T21:59:09.434Z"
   },
   {
    "duration": 4,
    "start_time": "2022-10-29T21:59:18.277Z"
   },
   {
    "duration": 207,
    "start_time": "2022-10-29T21:59:36.406Z"
   },
   {
    "duration": 147,
    "start_time": "2022-10-29T22:00:19.378Z"
   },
   {
    "duration": 160,
    "start_time": "2022-10-29T22:00:23.768Z"
   },
   {
    "duration": 11,
    "start_time": "2022-10-29T22:02:05.123Z"
   },
   {
    "duration": 9,
    "start_time": "2022-10-29T22:02:12.094Z"
   },
   {
    "duration": 26,
    "start_time": "2022-10-29T22:02:42.726Z"
   },
   {
    "duration": 10,
    "start_time": "2022-10-29T22:12:14.494Z"
   },
   {
    "duration": 9,
    "start_time": "2022-10-29T22:12:52.718Z"
   },
   {
    "duration": 25,
    "start_time": "2022-10-29T22:12:56.838Z"
   },
   {
    "duration": 149,
    "start_time": "2022-10-29T22:13:28.488Z"
   },
   {
    "duration": 10,
    "start_time": "2022-10-29T22:14:41.057Z"
   },
   {
    "duration": 151,
    "start_time": "2022-10-29T22:14:57.583Z"
   },
   {
    "duration": 169,
    "start_time": "2022-10-29T22:15:25.507Z"
   },
   {
    "duration": 10,
    "start_time": "2022-10-29T22:15:38.677Z"
   },
   {
    "duration": 12,
    "start_time": "2022-10-29T22:15:52.294Z"
   },
   {
    "duration": 10,
    "start_time": "2022-10-29T22:15:57.437Z"
   },
   {
    "duration": 25,
    "start_time": "2022-10-29T22:16:01.576Z"
   },
   {
    "duration": 12,
    "start_time": "2022-10-29T22:16:30.466Z"
   },
   {
    "duration": 11,
    "start_time": "2022-10-29T22:16:33.290Z"
   },
   {
    "duration": 10,
    "start_time": "2022-10-29T22:26:40.382Z"
   },
   {
    "duration": 27,
    "start_time": "2022-10-29T22:26:51.748Z"
   },
   {
    "duration": 8,
    "start_time": "2022-10-29T22:28:13.720Z"
   },
   {
    "duration": 9,
    "start_time": "2022-10-29T22:28:29.933Z"
   },
   {
    "duration": 9,
    "start_time": "2022-10-29T22:28:42.887Z"
   },
   {
    "duration": 25,
    "start_time": "2022-10-29T22:28:56.258Z"
   },
   {
    "duration": 9,
    "start_time": "2022-10-29T22:33:40.526Z"
   },
   {
    "duration": 27,
    "start_time": "2022-10-29T22:33:47.923Z"
   },
   {
    "duration": 8,
    "start_time": "2022-10-29T22:34:08.447Z"
   },
   {
    "duration": 8,
    "start_time": "2022-10-29T22:34:14.978Z"
   },
   {
    "duration": 9,
    "start_time": "2022-10-29T22:34:58.930Z"
   },
   {
    "duration": 25,
    "start_time": "2022-10-29T22:35:00.897Z"
   },
   {
    "duration": 14,
    "start_time": "2022-10-29T22:35:09.512Z"
   },
   {
    "duration": 9,
    "start_time": "2022-10-29T22:35:35.974Z"
   },
   {
    "duration": 25,
    "start_time": "2022-10-29T22:35:42.881Z"
   },
   {
    "duration": 12,
    "start_time": "2022-10-29T22:35:44.913Z"
   },
   {
    "duration": 3,
    "start_time": "2022-10-29T22:57:05.802Z"
   },
   {
    "duration": 72,
    "start_time": "2022-10-29T22:57:06.692Z"
   },
   {
    "duration": 10,
    "start_time": "2022-10-29T22:57:07.595Z"
   },
   {
    "duration": 7,
    "start_time": "2022-10-29T22:57:08.210Z"
   },
   {
    "duration": 10,
    "start_time": "2022-10-29T22:57:09.092Z"
   },
   {
    "duration": 11,
    "start_time": "2022-10-29T22:57:09.722Z"
   },
   {
    "duration": 9,
    "start_time": "2022-10-29T22:57:10.149Z"
   },
   {
    "duration": 10,
    "start_time": "2022-10-29T22:57:15.788Z"
   },
   {
    "duration": 5,
    "start_time": "2022-10-29T22:57:17.565Z"
   },
   {
    "duration": 6,
    "start_time": "2022-10-29T22:57:17.776Z"
   },
   {
    "duration": 5,
    "start_time": "2022-10-29T22:57:17.971Z"
   },
   {
    "duration": 6,
    "start_time": "2022-10-29T22:57:18.349Z"
   },
   {
    "duration": 6,
    "start_time": "2022-10-29T22:57:18.559Z"
   },
   {
    "duration": 6,
    "start_time": "2022-10-29T22:57:19.025Z"
   },
   {
    "duration": 63,
    "start_time": "2022-10-29T22:57:19.940Z"
   },
   {
    "duration": 26,
    "start_time": "2022-10-29T22:57:20.511Z"
   },
   {
    "duration": 11,
    "start_time": "2022-10-29T22:58:29.900Z"
   },
   {
    "duration": 12,
    "start_time": "2022-10-29T22:58:32.868Z"
   },
   {
    "duration": 12,
    "start_time": "2022-10-29T22:58:34.485Z"
   },
   {
    "duration": 264,
    "start_time": "2022-10-29T22:58:37.977Z"
   },
   {
    "duration": 238,
    "start_time": "2022-10-29T22:58:39.647Z"
   },
   {
    "duration": 171,
    "start_time": "2022-10-29T22:58:44.407Z"
   },
   {
    "duration": 264,
    "start_time": "2022-10-29T22:58:46.901Z"
   },
   {
    "duration": 164,
    "start_time": "2022-10-29T22:58:49.079Z"
   },
   {
    "duration": 286,
    "start_time": "2022-10-29T22:58:51.029Z"
   },
   {
    "duration": 11,
    "start_time": "2022-10-29T22:58:53.534Z"
   },
   {
    "duration": 117,
    "start_time": "2022-10-29T22:58:57.031Z"
   },
   {
    "duration": 108,
    "start_time": "2022-10-29T22:58:58.718Z"
   },
   {
    "duration": 4,
    "start_time": "2022-10-29T22:58:59.918Z"
   },
   {
    "duration": 127,
    "start_time": "2022-10-29T22:59:00.613Z"
   },
   {
    "duration": 133,
    "start_time": "2022-10-29T22:59:01.623Z"
   },
   {
    "duration": 4,
    "start_time": "2022-10-29T22:59:04.388Z"
   },
   {
    "duration": 228,
    "start_time": "2022-10-29T22:59:16.801Z"
   },
   {
    "duration": 141,
    "start_time": "2022-10-29T22:59:20.616Z"
   },
   {
    "duration": 11,
    "start_time": "2022-10-29T22:59:26.124Z"
   },
   {
    "duration": 11,
    "start_time": "2022-10-29T22:59:30.635Z"
   },
   {
    "duration": 27,
    "start_time": "2022-10-29T23:00:29.780Z"
   },
   {
    "duration": 18,
    "start_time": "2022-10-29T23:00:34.042Z"
   },
   {
    "duration": 1097,
    "start_time": "2022-10-30T06:20:48.141Z"
   },
   {
    "duration": 260,
    "start_time": "2022-10-30T06:20:49.240Z"
   },
   {
    "duration": 11,
    "start_time": "2022-10-30T06:20:49.502Z"
   },
   {
    "duration": 12,
    "start_time": "2022-10-30T06:20:49.515Z"
   },
   {
    "duration": 9,
    "start_time": "2022-10-30T06:20:49.576Z"
   },
   {
    "duration": 12,
    "start_time": "2022-10-30T06:20:49.834Z"
   },
   {
    "duration": 10,
    "start_time": "2022-10-30T06:20:50.122Z"
   },
   {
    "duration": 9,
    "start_time": "2022-10-30T06:20:50.401Z"
   },
   {
    "duration": 5,
    "start_time": "2022-10-30T06:20:51.416Z"
   },
   {
    "duration": 5,
    "start_time": "2022-10-30T06:20:51.644Z"
   },
   {
    "duration": 5,
    "start_time": "2022-10-30T06:20:51.864Z"
   },
   {
    "duration": 5,
    "start_time": "2022-10-30T06:20:52.328Z"
   },
   {
    "duration": 5,
    "start_time": "2022-10-30T06:20:52.556Z"
   },
   {
    "duration": 5,
    "start_time": "2022-10-30T06:20:52.787Z"
   },
   {
    "duration": 60,
    "start_time": "2022-10-30T06:20:53.894Z"
   },
   {
    "duration": 21,
    "start_time": "2022-10-30T06:20:54.402Z"
   },
   {
    "duration": 13,
    "start_time": "2022-10-30T06:20:59.713Z"
   },
   {
    "duration": 11,
    "start_time": "2022-10-30T06:21:12.272Z"
   },
   {
    "duration": 12,
    "start_time": "2022-10-30T06:21:12.871Z"
   },
   {
    "duration": 264,
    "start_time": "2022-10-30T06:21:14.296Z"
   },
   {
    "duration": 241,
    "start_time": "2022-10-30T06:21:14.716Z"
   },
   {
    "duration": 165,
    "start_time": "2022-10-30T06:21:16.982Z"
   },
   {
    "duration": 292,
    "start_time": "2022-10-30T06:21:18.130Z"
   },
   {
    "duration": 149,
    "start_time": "2022-10-30T06:21:19.039Z"
   },
   {
    "duration": 301,
    "start_time": "2022-10-30T06:21:20.294Z"
   },
   {
    "duration": 8,
    "start_time": "2022-10-30T06:21:22.121Z"
   },
   {
    "duration": 101,
    "start_time": "2022-10-30T06:21:23.077Z"
   },
   {
    "duration": 105,
    "start_time": "2022-10-30T06:21:24.506Z"
   },
   {
    "duration": 3,
    "start_time": "2022-10-30T06:21:26.014Z"
   },
   {
    "duration": 148,
    "start_time": "2022-10-30T06:21:27.243Z"
   },
   {
    "duration": 126,
    "start_time": "2022-10-30T06:21:28.230Z"
   },
   {
    "duration": 4,
    "start_time": "2022-10-30T06:21:31.584Z"
   },
   {
    "duration": 263,
    "start_time": "2022-10-30T06:21:49.376Z"
   },
   {
    "duration": 182,
    "start_time": "2022-10-30T06:21:57.908Z"
   },
   {
    "duration": 10,
    "start_time": "2022-10-30T06:22:10.574Z"
   },
   {
    "duration": 10,
    "start_time": "2022-10-30T06:22:14.075Z"
   },
   {
    "duration": 11,
    "start_time": "2022-10-30T06:22:28.530Z"
   },
   {
    "duration": 8,
    "start_time": "2022-10-30T06:24:48.608Z"
   },
   {
    "duration": 23,
    "start_time": "2022-10-30T06:26:42.351Z"
   },
   {
    "duration": 23,
    "start_time": "2022-10-30T06:26:53.481Z"
   },
   {
    "duration": 8,
    "start_time": "2022-10-30T06:29:33.623Z"
   },
   {
    "duration": 27,
    "start_time": "2022-10-30T06:29:58.250Z"
   },
   {
    "duration": 13,
    "start_time": "2022-10-30T06:30:14.836Z"
   },
   {
    "duration": 24,
    "start_time": "2022-10-30T06:47:56.097Z"
   },
   {
    "duration": 13,
    "start_time": "2022-10-30T06:48:57.857Z"
   },
   {
    "duration": 74,
    "start_time": "2022-10-30T06:55:09.312Z"
   },
   {
    "duration": 13,
    "start_time": "2022-10-30T06:56:25.100Z"
   },
   {
    "duration": 26,
    "start_time": "2022-10-30T06:58:42.197Z"
   },
   {
    "duration": 16,
    "start_time": "2022-10-30T06:59:40.338Z"
   },
   {
    "duration": 23,
    "start_time": "2022-10-30T07:01:25.917Z"
   },
   {
    "duration": 10,
    "start_time": "2022-10-30T07:08:59.824Z"
   },
   {
    "duration": 8,
    "start_time": "2022-10-30T07:09:57.619Z"
   },
   {
    "duration": 22,
    "start_time": "2022-10-30T07:10:03.141Z"
   },
   {
    "duration": 14,
    "start_time": "2022-10-30T07:11:03.913Z"
   },
   {
    "duration": 9,
    "start_time": "2022-10-30T07:46:14.672Z"
   },
   {
    "duration": 8,
    "start_time": "2022-10-30T07:50:30.528Z"
   },
   {
    "duration": 24,
    "start_time": "2022-10-30T07:50:37.127Z"
   },
   {
    "duration": 14,
    "start_time": "2022-10-30T07:50:44.670Z"
   },
   {
    "duration": 9,
    "start_time": "2022-10-30T07:55:48.244Z"
   },
   {
    "duration": 8,
    "start_time": "2022-10-30T07:55:52.446Z"
   },
   {
    "duration": 25,
    "start_time": "2022-10-30T07:55:58.428Z"
   },
   {
    "duration": 17,
    "start_time": "2022-10-30T07:56:22.317Z"
   },
   {
    "duration": 8,
    "start_time": "2022-10-30T07:57:40.178Z"
   },
   {
    "duration": 27,
    "start_time": "2022-10-30T07:57:51.645Z"
   },
   {
    "duration": 13,
    "start_time": "2022-10-30T07:58:39.156Z"
   },
   {
    "duration": 158,
    "start_time": "2022-10-30T08:00:42.691Z"
   },
   {
    "duration": 71,
    "start_time": "2022-10-30T08:05:39.156Z"
   },
   {
    "duration": 3,
    "start_time": "2022-10-30T08:06:29.677Z"
   },
   {
    "duration": 73,
    "start_time": "2022-10-30T08:06:30.653Z"
   },
   {
    "duration": 10,
    "start_time": "2022-10-30T08:06:32.320Z"
   },
   {
    "duration": 8,
    "start_time": "2022-10-30T08:06:32.906Z"
   },
   {
    "duration": 9,
    "start_time": "2022-10-30T08:06:33.547Z"
   },
   {
    "duration": 11,
    "start_time": "2022-10-30T08:06:34.094Z"
   },
   {
    "duration": 9,
    "start_time": "2022-10-30T08:06:34.576Z"
   },
   {
    "duration": 9,
    "start_time": "2022-10-30T08:06:35.043Z"
   },
   {
    "duration": 5,
    "start_time": "2022-10-30T08:06:36.948Z"
   },
   {
    "duration": 6,
    "start_time": "2022-10-30T08:06:37.534Z"
   },
   {
    "duration": 5,
    "start_time": "2022-10-30T08:06:38.090Z"
   },
   {
    "duration": 5,
    "start_time": "2022-10-30T08:06:39.330Z"
   },
   {
    "duration": 6,
    "start_time": "2022-10-30T08:06:39.905Z"
   },
   {
    "duration": 6,
    "start_time": "2022-10-30T08:06:40.304Z"
   },
   {
    "duration": 60,
    "start_time": "2022-10-30T08:06:45.387Z"
   },
   {
    "duration": 21,
    "start_time": "2022-10-30T08:06:46.198Z"
   },
   {
    "duration": 12,
    "start_time": "2022-10-30T08:07:11.371Z"
   },
   {
    "duration": 12,
    "start_time": "2022-10-30T08:07:14.166Z"
   },
   {
    "duration": 10,
    "start_time": "2022-10-30T08:07:15.660Z"
   },
   {
    "duration": 249,
    "start_time": "2022-10-30T08:07:18.592Z"
   },
   {
    "duration": 166,
    "start_time": "2022-10-30T08:07:20.214Z"
   },
   {
    "duration": 168,
    "start_time": "2022-10-30T08:07:23.205Z"
   },
   {
    "duration": 277,
    "start_time": "2022-10-30T08:07:24.910Z"
   },
   {
    "duration": 158,
    "start_time": "2022-10-30T08:07:26.966Z"
   },
   {
    "duration": 279,
    "start_time": "2022-10-30T08:07:28.677Z"
   },
   {
    "duration": 10,
    "start_time": "2022-10-30T08:07:29.886Z"
   },
   {
    "duration": 107,
    "start_time": "2022-10-30T08:07:30.585Z"
   },
   {
    "duration": 103,
    "start_time": "2022-10-30T08:07:31.362Z"
   },
   {
    "duration": 3,
    "start_time": "2022-10-30T08:07:32.603Z"
   },
   {
    "duration": 116,
    "start_time": "2022-10-30T08:07:33.585Z"
   },
   {
    "duration": 119,
    "start_time": "2022-10-30T08:07:34.388Z"
   },
   {
    "duration": 4,
    "start_time": "2022-10-30T08:07:36.092Z"
   },
   {
    "duration": 198,
    "start_time": "2022-10-30T08:07:43.868Z"
   },
   {
    "duration": 183,
    "start_time": "2022-10-30T08:07:57.364Z"
   },
   {
    "duration": 3,
    "start_time": "2022-10-30T08:12:45.924Z"
   },
   {
    "duration": 72,
    "start_time": "2022-10-30T08:12:46.636Z"
   },
   {
    "duration": 10,
    "start_time": "2022-10-30T08:12:47.040Z"
   },
   {
    "duration": 7,
    "start_time": "2022-10-30T08:12:47.263Z"
   },
   {
    "duration": 10,
    "start_time": "2022-10-30T08:12:47.689Z"
   },
   {
    "duration": 14,
    "start_time": "2022-10-30T08:12:47.990Z"
   },
   {
    "duration": 9,
    "start_time": "2022-10-30T08:12:48.365Z"
   },
   {
    "duration": 9,
    "start_time": "2022-10-30T08:12:48.760Z"
   },
   {
    "duration": 5,
    "start_time": "2022-10-30T08:12:50.016Z"
   },
   {
    "duration": 6,
    "start_time": "2022-10-30T08:12:50.203Z"
   },
   {
    "duration": 4,
    "start_time": "2022-10-30T08:12:50.402Z"
   },
   {
    "duration": 6,
    "start_time": "2022-10-30T08:12:50.944Z"
   },
   {
    "duration": 5,
    "start_time": "2022-10-30T08:12:51.223Z"
   },
   {
    "duration": 6,
    "start_time": "2022-10-30T08:12:51.420Z"
   },
   {
    "duration": 59,
    "start_time": "2022-10-30T08:12:52.627Z"
   },
   {
    "duration": 32,
    "start_time": "2022-10-30T08:12:54.126Z"
   },
   {
    "duration": 11,
    "start_time": "2022-10-30T08:13:44.901Z"
   },
   {
    "duration": 13,
    "start_time": "2022-10-30T08:13:47.134Z"
   },
   {
    "duration": 11,
    "start_time": "2022-10-30T08:13:51.599Z"
   },
   {
    "duration": 249,
    "start_time": "2022-10-30T08:14:00.339Z"
   },
   {
    "duration": 255,
    "start_time": "2022-10-30T08:14:04.222Z"
   },
   {
    "duration": 158,
    "start_time": "2022-10-30T08:14:07.540Z"
   },
   {
    "duration": 217,
    "start_time": "2022-10-30T08:14:08.760Z"
   },
   {
    "duration": 159,
    "start_time": "2022-10-30T08:14:10.070Z"
   },
   {
    "duration": 288,
    "start_time": "2022-10-30T08:14:12.785Z"
   },
   {
    "duration": 8,
    "start_time": "2022-10-30T08:14:14.931Z"
   },
   {
    "duration": 106,
    "start_time": "2022-10-30T08:14:15.816Z"
   },
   {
    "duration": 101,
    "start_time": "2022-10-30T08:14:16.839Z"
   },
   {
    "duration": 4,
    "start_time": "2022-10-30T08:14:18.318Z"
   },
   {
    "duration": 117,
    "start_time": "2022-10-30T08:14:19.468Z"
   },
   {
    "duration": 122,
    "start_time": "2022-10-30T08:14:20.595Z"
   },
   {
    "duration": 5,
    "start_time": "2022-10-30T08:14:22.553Z"
   },
   {
    "duration": 12,
    "start_time": "2022-10-30T08:15:23.531Z"
   },
   {
    "duration": 9,
    "start_time": "2022-10-30T08:15:36.911Z"
   },
   {
    "duration": 29,
    "start_time": "2022-10-30T08:15:38.669Z"
   },
   {
    "duration": 14,
    "start_time": "2022-10-30T08:15:40.730Z"
   },
   {
    "duration": 3,
    "start_time": "2022-10-30T08:16:17.879Z"
   },
   {
    "duration": 72,
    "start_time": "2022-10-30T08:16:19.360Z"
   },
   {
    "duration": 9,
    "start_time": "2022-10-30T08:16:20.135Z"
   },
   {
    "duration": 7,
    "start_time": "2022-10-30T08:16:20.699Z"
   },
   {
    "duration": 9,
    "start_time": "2022-10-30T08:16:21.254Z"
   },
   {
    "duration": 11,
    "start_time": "2022-10-30T08:16:21.770Z"
   },
   {
    "duration": 10,
    "start_time": "2022-10-30T08:16:22.185Z"
   },
   {
    "duration": 10,
    "start_time": "2022-10-30T08:16:22.666Z"
   },
   {
    "duration": 5,
    "start_time": "2022-10-30T08:16:24.837Z"
   },
   {
    "duration": 6,
    "start_time": "2022-10-30T08:16:25.663Z"
   },
   {
    "duration": 5,
    "start_time": "2022-10-30T08:16:25.917Z"
   },
   {
    "duration": 6,
    "start_time": "2022-10-30T08:16:26.352Z"
   },
   {
    "duration": 5,
    "start_time": "2022-10-30T08:16:26.559Z"
   },
   {
    "duration": 5,
    "start_time": "2022-10-30T08:16:26.760Z"
   },
   {
    "duration": 59,
    "start_time": "2022-10-30T08:16:27.541Z"
   },
   {
    "duration": 23,
    "start_time": "2022-10-30T08:16:27.937Z"
   },
   {
    "duration": 143,
    "start_time": "2022-10-30T08:19:14.653Z"
   },
   {
    "duration": 145,
    "start_time": "2022-10-30T08:19:29.130Z"
   },
   {
    "duration": 13,
    "start_time": "2022-10-30T08:20:07.380Z"
   },
   {
    "duration": 12,
    "start_time": "2022-10-30T08:20:09.125Z"
   },
   {
    "duration": 11,
    "start_time": "2022-10-30T08:20:10.034Z"
   },
   {
    "duration": 267,
    "start_time": "2022-10-30T08:20:12.595Z"
   },
   {
    "duration": 166,
    "start_time": "2022-10-30T08:20:15.122Z"
   },
   {
    "duration": 169,
    "start_time": "2022-10-30T08:20:18.183Z"
   },
   {
    "duration": 335,
    "start_time": "2022-10-30T08:20:20.143Z"
   },
   {
    "duration": 150,
    "start_time": "2022-10-30T08:20:22.371Z"
   },
   {
    "duration": 246,
    "start_time": "2022-10-30T08:20:23.862Z"
   },
   {
    "duration": 8,
    "start_time": "2022-10-30T08:20:25.541Z"
   },
   {
    "duration": 102,
    "start_time": "2022-10-30T08:20:27.036Z"
   },
   {
    "duration": 103,
    "start_time": "2022-10-30T08:20:28.637Z"
   },
   {
    "duration": 4,
    "start_time": "2022-10-30T08:20:29.851Z"
   },
   {
    "duration": 121,
    "start_time": "2022-10-30T08:20:30.643Z"
   },
   {
    "duration": 13,
    "start_time": "2022-10-30T08:27:03.021Z"
   },
   {
    "duration": 12,
    "start_time": "2022-10-30T08:27:04.300Z"
   },
   {
    "duration": 11,
    "start_time": "2022-10-30T08:27:06.048Z"
   },
   {
    "duration": 251,
    "start_time": "2022-10-30T08:27:08.925Z"
   },
   {
    "duration": 3,
    "start_time": "2022-10-30T08:37:49.740Z"
   },
   {
    "duration": 71,
    "start_time": "2022-10-30T08:37:50.346Z"
   },
   {
    "duration": 11,
    "start_time": "2022-10-30T08:37:51.084Z"
   },
   {
    "duration": 7,
    "start_time": "2022-10-30T08:37:51.644Z"
   },
   {
    "duration": 10,
    "start_time": "2022-10-30T08:37:54.998Z"
   },
   {
    "duration": 11,
    "start_time": "2022-10-30T08:37:55.351Z"
   },
   {
    "duration": 9,
    "start_time": "2022-10-30T08:37:55.727Z"
   },
   {
    "duration": 10,
    "start_time": "2022-10-30T08:37:56.355Z"
   },
   {
    "duration": 5,
    "start_time": "2022-10-30T08:38:01.787Z"
   },
   {
    "duration": 6,
    "start_time": "2022-10-30T08:38:01.996Z"
   },
   {
    "duration": 5,
    "start_time": "2022-10-30T08:38:02.325Z"
   },
   {
    "duration": 5,
    "start_time": "2022-10-30T08:38:03.314Z"
   },
   {
    "duration": 5,
    "start_time": "2022-10-30T08:38:03.768Z"
   },
   {
    "duration": 6,
    "start_time": "2022-10-30T08:38:04.127Z"
   },
   {
    "duration": 8,
    "start_time": "2022-10-30T08:45:10.663Z"
   },
   {
    "duration": 1240,
    "start_time": "2022-10-30T08:47:00.207Z"
   },
   {
    "duration": 9,
    "start_time": "2022-10-30T08:47:44.326Z"
   },
   {
    "duration": 3,
    "start_time": "2022-10-30T08:47:52.543Z"
   },
   {
    "duration": 1095,
    "start_time": "2022-10-30T08:48:12.307Z"
   },
   {
    "duration": 7,
    "start_time": "2022-10-30T08:48:23.136Z"
   },
   {
    "duration": 44,
    "start_time": "2022-10-30T08:53:55.309Z"
   },
   {
    "duration": 43,
    "start_time": "2022-10-30T08:54:08.707Z"
   },
   {
    "duration": 47,
    "start_time": "2022-10-30T08:54:26.467Z"
   },
   {
    "duration": 50,
    "start_time": "2022-10-30T08:54:33.231Z"
   },
   {
    "duration": 53,
    "start_time": "2022-10-30T08:54:57.377Z"
   },
   {
    "duration": 54,
    "start_time": "2022-10-30T08:55:44.390Z"
   },
   {
    "duration": 50,
    "start_time": "2022-10-30T08:56:08.485Z"
   },
   {
    "duration": 64,
    "start_time": "2022-10-30T08:56:25.005Z"
   },
   {
    "duration": 73,
    "start_time": "2022-10-30T08:57:27.842Z"
   },
   {
    "duration": 50,
    "start_time": "2022-10-30T08:57:31.830Z"
   },
   {
    "duration": 52,
    "start_time": "2022-10-30T08:57:55.960Z"
   },
   {
    "duration": 54,
    "start_time": "2022-10-30T08:58:01.619Z"
   },
   {
    "duration": 3,
    "start_time": "2022-10-30T08:58:38.856Z"
   },
   {
    "duration": 15,
    "start_time": "2022-10-30T09:03:41.604Z"
   },
   {
    "duration": 11,
    "start_time": "2022-10-30T09:04:06.990Z"
   },
   {
    "duration": 12,
    "start_time": "2022-10-30T09:04:23.239Z"
   },
   {
    "duration": 8,
    "start_time": "2022-10-30T09:04:33.771Z"
   },
   {
    "duration": 9,
    "start_time": "2022-10-30T09:07:50.443Z"
   },
   {
    "duration": 10,
    "start_time": "2022-10-30T09:08:00.741Z"
   },
   {
    "duration": 1089,
    "start_time": "2022-10-30T09:10:53.363Z"
   },
   {
    "duration": 7,
    "start_time": "2022-10-30T09:12:28.663Z"
   },
   {
    "duration": 6,
    "start_time": "2022-10-30T09:15:08.097Z"
   },
   {
    "duration": 9,
    "start_time": "2022-10-30T09:15:47.803Z"
   },
   {
    "duration": 6,
    "start_time": "2022-10-30T09:18:31.182Z"
   },
   {
    "duration": 7,
    "start_time": "2022-10-30T09:18:36.198Z"
   },
   {
    "duration": 9,
    "start_time": "2022-10-30T09:33:54.083Z"
   },
   {
    "duration": 9,
    "start_time": "2022-10-30T09:34:09.299Z"
   },
   {
    "duration": 9,
    "start_time": "2022-10-30T09:35:04.451Z"
   },
   {
    "duration": 7,
    "start_time": "2022-10-30T09:35:10.774Z"
   },
   {
    "duration": 8,
    "start_time": "2022-10-30T09:35:44.391Z"
   },
   {
    "duration": 5,
    "start_time": "2022-10-30T09:35:58.245Z"
   },
   {
    "duration": 4,
    "start_time": "2022-10-30T09:35:58.712Z"
   },
   {
    "duration": 4,
    "start_time": "2022-10-30T09:36:26.919Z"
   },
   {
    "duration": 4,
    "start_time": "2022-10-30T09:38:18.099Z"
   },
   {
    "duration": 5,
    "start_time": "2022-10-30T09:42:03.709Z"
   },
   {
    "duration": 3,
    "start_time": "2022-10-30T09:44:24.194Z"
   },
   {
    "duration": 4,
    "start_time": "2022-10-30T09:44:34.028Z"
   },
   {
    "duration": 10,
    "start_time": "2022-10-30T09:44:35.180Z"
   },
   {
    "duration": 8,
    "start_time": "2022-10-30T09:44:42.103Z"
   },
   {
    "duration": 6,
    "start_time": "2022-10-30T09:44:50.515Z"
   },
   {
    "duration": 3,
    "start_time": "2022-10-30T09:45:10.433Z"
   },
   {
    "duration": 72,
    "start_time": "2022-10-30T09:45:11.069Z"
   },
   {
    "duration": 10,
    "start_time": "2022-10-30T09:45:11.601Z"
   },
   {
    "duration": 7,
    "start_time": "2022-10-30T09:45:11.980Z"
   },
   {
    "duration": 11,
    "start_time": "2022-10-30T09:45:12.376Z"
   },
   {
    "duration": 11,
    "start_time": "2022-10-30T09:45:12.972Z"
   },
   {
    "duration": 9,
    "start_time": "2022-10-30T09:45:14.052Z"
   },
   {
    "duration": 9,
    "start_time": "2022-10-30T09:45:14.437Z"
   },
   {
    "duration": 5,
    "start_time": "2022-10-30T09:45:15.752Z"
   },
   {
    "duration": 5,
    "start_time": "2022-10-30T09:45:15.937Z"
   },
   {
    "duration": 5,
    "start_time": "2022-10-30T09:45:16.143Z"
   },
   {
    "duration": 6,
    "start_time": "2022-10-30T09:45:16.580Z"
   },
   {
    "duration": 5,
    "start_time": "2022-10-30T09:45:16.847Z"
   },
   {
    "duration": 5,
    "start_time": "2022-10-30T09:45:17.080Z"
   },
   {
    "duration": 65,
    "start_time": "2022-10-30T09:45:17.873Z"
   },
   {
    "duration": 26,
    "start_time": "2022-10-30T09:45:18.301Z"
   },
   {
    "duration": 48,
    "start_time": "2022-10-30T09:45:26.718Z"
   },
   {
    "duration": 5,
    "start_time": "2022-10-30T09:45:31.374Z"
   },
   {
    "duration": 6,
    "start_time": "2022-10-30T09:45:31.898Z"
   },
   {
    "duration": 5,
    "start_time": "2022-10-30T09:45:32.592Z"
   },
   {
    "duration": 10,
    "start_time": "2022-10-30T09:45:35.355Z"
   },
   {
    "duration": 11,
    "start_time": "2022-10-30T09:45:49.546Z"
   },
   {
    "duration": 13,
    "start_time": "2022-10-30T09:45:55.309Z"
   },
   {
    "duration": 12,
    "start_time": "2022-10-30T09:45:57.076Z"
   },
   {
    "duration": 11,
    "start_time": "2022-10-30T09:45:58.194Z"
   },
   {
    "duration": 248,
    "start_time": "2022-10-30T09:46:02.468Z"
   },
   {
    "duration": 163,
    "start_time": "2022-10-30T09:46:19.044Z"
   },
   {
    "duration": 4,
    "start_time": "2022-10-30T09:46:59.766Z"
   },
   {
    "duration": 73,
    "start_time": "2022-10-30T09:47:00.883Z"
   },
   {
    "duration": 9,
    "start_time": "2022-10-30T09:47:01.627Z"
   },
   {
    "duration": 7,
    "start_time": "2022-10-30T09:47:02.038Z"
   },
   {
    "duration": 9,
    "start_time": "2022-10-30T09:47:02.607Z"
   },
   {
    "duration": 12,
    "start_time": "2022-10-30T09:47:03.071Z"
   },
   {
    "duration": 9,
    "start_time": "2022-10-30T09:47:03.572Z"
   },
   {
    "duration": 9,
    "start_time": "2022-10-30T09:47:03.985Z"
   },
   {
    "duration": 965,
    "start_time": "2022-10-30T09:47:13.924Z"
   },
   {
    "duration": 121,
    "start_time": "2022-10-30T09:47:14.891Z"
   },
   {
    "duration": 11,
    "start_time": "2022-10-30T09:47:15.013Z"
   },
   {
    "duration": 34,
    "start_time": "2022-10-30T09:47:15.026Z"
   },
   {
    "duration": 20,
    "start_time": "2022-10-30T09:47:15.061Z"
   },
   {
    "duration": 28,
    "start_time": "2022-10-30T09:47:15.082Z"
   },
   {
    "duration": 19,
    "start_time": "2022-10-30T09:47:15.111Z"
   },
   {
    "duration": 25,
    "start_time": "2022-10-30T09:47:15.131Z"
   },
   {
    "duration": 16,
    "start_time": "2022-10-30T09:47:15.157Z"
   },
   {
    "duration": 25,
    "start_time": "2022-10-30T09:47:15.175Z"
   },
   {
    "duration": 19,
    "start_time": "2022-10-30T09:47:15.201Z"
   },
   {
    "duration": 22,
    "start_time": "2022-10-30T09:47:15.222Z"
   },
   {
    "duration": 21,
    "start_time": "2022-10-30T09:47:15.246Z"
   },
   {
    "duration": 21,
    "start_time": "2022-10-30T09:47:15.268Z"
   },
   {
    "duration": 40,
    "start_time": "2022-10-30T09:47:15.291Z"
   },
   {
    "duration": 19,
    "start_time": "2022-10-30T09:47:15.332Z"
   },
   {
    "duration": 8,
    "start_time": "2022-10-30T09:47:15.353Z"
   },
   {
    "duration": 24,
    "start_time": "2022-10-30T09:47:15.362Z"
   },
   {
    "duration": 29,
    "start_time": "2022-10-30T09:47:15.388Z"
   },
   {
    "duration": 12,
    "start_time": "2022-10-30T09:47:15.419Z"
   },
   {
    "duration": 20,
    "start_time": "2022-10-30T09:47:15.433Z"
   },
   {
    "duration": 11,
    "start_time": "2022-10-30T09:47:15.454Z"
   },
   {
    "duration": 18,
    "start_time": "2022-10-30T09:47:15.466Z"
   },
   {
    "duration": 38,
    "start_time": "2022-10-30T09:47:15.485Z"
   },
   {
    "duration": 25,
    "start_time": "2022-10-30T09:47:15.524Z"
   },
   {
    "duration": 341,
    "start_time": "2022-10-30T09:47:15.550Z"
   },
   {
    "duration": 0,
    "start_time": "2022-10-30T09:47:15.893Z"
   },
   {
    "duration": 0,
    "start_time": "2022-10-30T09:47:15.894Z"
   },
   {
    "duration": 0,
    "start_time": "2022-10-30T09:47:15.905Z"
   },
   {
    "duration": 0,
    "start_time": "2022-10-30T09:47:15.906Z"
   },
   {
    "duration": 0,
    "start_time": "2022-10-30T09:47:15.907Z"
   },
   {
    "duration": 0,
    "start_time": "2022-10-30T09:47:15.908Z"
   },
   {
    "duration": 0,
    "start_time": "2022-10-30T09:47:15.909Z"
   },
   {
    "duration": 0,
    "start_time": "2022-10-30T09:47:15.910Z"
   },
   {
    "duration": 0,
    "start_time": "2022-10-30T09:47:15.911Z"
   },
   {
    "duration": 0,
    "start_time": "2022-10-30T09:47:15.912Z"
   },
   {
    "duration": 0,
    "start_time": "2022-10-30T09:47:15.913Z"
   },
   {
    "duration": 0,
    "start_time": "2022-10-30T09:47:15.914Z"
   },
   {
    "duration": 0,
    "start_time": "2022-10-30T09:47:15.915Z"
   },
   {
    "duration": 0,
    "start_time": "2022-10-30T09:47:15.916Z"
   },
   {
    "duration": 0,
    "start_time": "2022-10-30T09:47:15.917Z"
   },
   {
    "duration": 0,
    "start_time": "2022-10-30T09:47:15.918Z"
   },
   {
    "duration": 0,
    "start_time": "2022-10-30T09:47:15.919Z"
   },
   {
    "duration": 0,
    "start_time": "2022-10-30T09:47:15.919Z"
   },
   {
    "duration": 2,
    "start_time": "2022-10-30T09:47:33.527Z"
   },
   {
    "duration": 72,
    "start_time": "2022-10-30T09:47:34.332Z"
   },
   {
    "duration": 9,
    "start_time": "2022-10-30T09:47:35.245Z"
   },
   {
    "duration": 7,
    "start_time": "2022-10-30T09:47:35.873Z"
   },
   {
    "duration": 9,
    "start_time": "2022-10-30T09:47:36.349Z"
   },
   {
    "duration": 11,
    "start_time": "2022-10-30T09:47:36.826Z"
   },
   {
    "duration": 12,
    "start_time": "2022-10-30T09:47:37.290Z"
   },
   {
    "duration": 9,
    "start_time": "2022-10-30T09:47:37.792Z"
   },
   {
    "duration": 5,
    "start_time": "2022-10-30T09:47:39.683Z"
   },
   {
    "duration": 6,
    "start_time": "2022-10-30T09:47:39.849Z"
   },
   {
    "duration": 5,
    "start_time": "2022-10-30T09:47:40.048Z"
   },
   {
    "duration": 5,
    "start_time": "2022-10-30T09:47:40.433Z"
   },
   {
    "duration": 6,
    "start_time": "2022-10-30T09:47:41.016Z"
   },
   {
    "duration": 5,
    "start_time": "2022-10-30T09:47:41.297Z"
   },
   {
    "duration": 59,
    "start_time": "2022-10-30T09:47:44.611Z"
   },
   {
    "duration": 33,
    "start_time": "2022-10-30T09:47:46.093Z"
   },
   {
    "duration": 49,
    "start_time": "2022-10-30T09:47:48.077Z"
   },
   {
    "duration": 5,
    "start_time": "2022-10-30T09:47:51.309Z"
   },
   {
    "duration": 4,
    "start_time": "2022-10-30T09:47:51.936Z"
   },
   {
    "duration": 4,
    "start_time": "2022-10-30T09:47:52.613Z"
   },
   {
    "duration": 9,
    "start_time": "2022-10-30T09:47:53.169Z"
   },
   {
    "duration": 8,
    "start_time": "2022-10-30T09:48:03.057Z"
   },
   {
    "duration": 12,
    "start_time": "2022-10-30T09:48:05.149Z"
   },
   {
    "duration": 11,
    "start_time": "2022-10-30T09:48:06.692Z"
   },
   {
    "duration": 12,
    "start_time": "2022-10-30T09:48:07.943Z"
   },
   {
    "duration": 248,
    "start_time": "2022-10-30T09:48:10.763Z"
   },
   {
    "duration": 8,
    "start_time": "2022-10-30T09:48:37.493Z"
   },
   {
    "duration": 12,
    "start_time": "2022-10-30T09:48:38.964Z"
   },
   {
    "duration": 12,
    "start_time": "2022-10-30T09:48:40.324Z"
   },
   {
    "duration": 11,
    "start_time": "2022-10-30T09:48:41.245Z"
   },
   {
    "duration": 247,
    "start_time": "2022-10-30T09:48:43.223Z"
   },
   {
    "duration": 3,
    "start_time": "2022-10-30T09:49:11.735Z"
   },
   {
    "duration": 72,
    "start_time": "2022-10-30T09:49:12.472Z"
   },
   {
    "duration": 10,
    "start_time": "2022-10-30T09:49:13.231Z"
   },
   {
    "duration": 7,
    "start_time": "2022-10-30T09:49:13.778Z"
   },
   {
    "duration": 9,
    "start_time": "2022-10-30T09:49:14.299Z"
   },
   {
    "duration": 11,
    "start_time": "2022-10-30T09:49:14.786Z"
   },
   {
    "duration": 9,
    "start_time": "2022-10-30T09:49:15.243Z"
   },
   {
    "duration": 8,
    "start_time": "2022-10-30T09:49:15.664Z"
   },
   {
    "duration": 5,
    "start_time": "2022-10-30T09:49:17.110Z"
   },
   {
    "duration": 8,
    "start_time": "2022-10-30T09:49:17.334Z"
   },
   {
    "duration": 7,
    "start_time": "2022-10-30T09:49:17.758Z"
   },
   {
    "duration": 6,
    "start_time": "2022-10-30T09:49:18.554Z"
   },
   {
    "duration": 5,
    "start_time": "2022-10-30T09:49:18.910Z"
   },
   {
    "duration": 5,
    "start_time": "2022-10-30T09:49:19.264Z"
   },
   {
    "duration": 59,
    "start_time": "2022-10-30T09:49:21.038Z"
   },
   {
    "duration": 33,
    "start_time": "2022-10-30T09:49:23.175Z"
   },
   {
    "duration": 48,
    "start_time": "2022-10-30T09:49:25.479Z"
   },
   {
    "duration": 5,
    "start_time": "2022-10-30T09:49:26.583Z"
   },
   {
    "duration": 4,
    "start_time": "2022-10-30T09:49:27.113Z"
   },
   {
    "duration": 4,
    "start_time": "2022-10-30T09:49:27.685Z"
   },
   {
    "duration": 12,
    "start_time": "2022-10-30T09:49:34.332Z"
   },
   {
    "duration": 13,
    "start_time": "2022-10-30T09:49:36.070Z"
   },
   {
    "duration": 11,
    "start_time": "2022-10-30T09:49:37.178Z"
   },
   {
    "duration": 251,
    "start_time": "2022-10-30T09:49:40.070Z"
   },
   {
    "duration": 9,
    "start_time": "2022-10-30T09:49:48.020Z"
   },
   {
    "duration": 967,
    "start_time": "2022-10-30T09:50:43.724Z"
   },
   {
    "duration": 121,
    "start_time": "2022-10-30T09:50:44.693Z"
   },
   {
    "duration": 10,
    "start_time": "2022-10-30T09:50:44.816Z"
   },
   {
    "duration": 13,
    "start_time": "2022-10-30T09:50:44.827Z"
   },
   {
    "duration": 9,
    "start_time": "2022-10-30T09:50:44.841Z"
   },
   {
    "duration": 13,
    "start_time": "2022-10-30T09:50:44.852Z"
   },
   {
    "duration": 15,
    "start_time": "2022-10-30T09:50:44.866Z"
   },
   {
    "duration": 24,
    "start_time": "2022-10-30T09:50:44.882Z"
   },
   {
    "duration": 7,
    "start_time": "2022-10-30T09:50:44.907Z"
   },
   {
    "duration": 8,
    "start_time": "2022-10-30T09:50:44.917Z"
   },
   {
    "duration": 6,
    "start_time": "2022-10-30T09:50:44.927Z"
   },
   {
    "duration": 6,
    "start_time": "2022-10-30T09:50:44.934Z"
   },
   {
    "duration": 6,
    "start_time": "2022-10-30T09:50:44.941Z"
   },
   {
    "duration": 6,
    "start_time": "2022-10-30T09:50:44.948Z"
   },
   {
    "duration": 50,
    "start_time": "2022-10-30T09:50:44.956Z"
   },
   {
    "duration": 12,
    "start_time": "2022-10-30T09:50:45.008Z"
   },
   {
    "duration": 8,
    "start_time": "2022-10-30T09:50:45.022Z"
   },
   {
    "duration": 8,
    "start_time": "2022-10-30T09:50:45.032Z"
   },
   {
    "duration": 25,
    "start_time": "2022-10-30T09:50:45.042Z"
   },
   {
    "duration": 7,
    "start_time": "2022-10-30T09:50:45.069Z"
   },
   {
    "duration": 17,
    "start_time": "2022-10-30T09:50:45.077Z"
   },
   {
    "duration": 13,
    "start_time": "2022-10-30T09:50:45.095Z"
   },
   {
    "duration": 13,
    "start_time": "2022-10-30T09:50:45.110Z"
   },
   {
    "duration": 335,
    "start_time": "2022-10-30T09:50:45.124Z"
   },
   {
    "duration": 0,
    "start_time": "2022-10-30T09:50:45.461Z"
   },
   {
    "duration": 0,
    "start_time": "2022-10-30T09:50:45.462Z"
   },
   {
    "duration": 0,
    "start_time": "2022-10-30T09:50:45.463Z"
   },
   {
    "duration": 0,
    "start_time": "2022-10-30T09:50:45.463Z"
   },
   {
    "duration": 0,
    "start_time": "2022-10-30T09:50:45.464Z"
   },
   {
    "duration": 0,
    "start_time": "2022-10-30T09:50:45.465Z"
   },
   {
    "duration": 0,
    "start_time": "2022-10-30T09:50:45.466Z"
   },
   {
    "duration": 0,
    "start_time": "2022-10-30T09:50:45.467Z"
   },
   {
    "duration": 0,
    "start_time": "2022-10-30T09:50:45.468Z"
   },
   {
    "duration": 0,
    "start_time": "2022-10-30T09:50:45.469Z"
   },
   {
    "duration": 0,
    "start_time": "2022-10-30T09:50:45.469Z"
   },
   {
    "duration": 0,
    "start_time": "2022-10-30T09:50:45.470Z"
   },
   {
    "duration": 0,
    "start_time": "2022-10-30T09:50:45.472Z"
   },
   {
    "duration": 0,
    "start_time": "2022-10-30T09:50:45.473Z"
   },
   {
    "duration": 0,
    "start_time": "2022-10-30T09:50:45.473Z"
   },
   {
    "duration": 0,
    "start_time": "2022-10-30T09:50:45.474Z"
   },
   {
    "duration": 0,
    "start_time": "2022-10-30T09:50:45.504Z"
   },
   {
    "duration": 0,
    "start_time": "2022-10-30T09:50:45.505Z"
   },
   {
    "duration": 3,
    "start_time": "2022-10-30T09:50:56.669Z"
   },
   {
    "duration": 74,
    "start_time": "2022-10-30T09:50:57.371Z"
   },
   {
    "duration": 10,
    "start_time": "2022-10-30T09:50:58.339Z"
   },
   {
    "duration": 7,
    "start_time": "2022-10-30T09:50:58.913Z"
   },
   {
    "duration": 10,
    "start_time": "2022-10-30T09:50:59.489Z"
   },
   {
    "duration": 10,
    "start_time": "2022-10-30T09:50:59.938Z"
   },
   {
    "duration": 10,
    "start_time": "2022-10-30T09:51:00.391Z"
   },
   {
    "duration": 8,
    "start_time": "2022-10-30T09:51:00.788Z"
   },
   {
    "duration": 5,
    "start_time": "2022-10-30T09:51:02.256Z"
   },
   {
    "duration": 4,
    "start_time": "2022-10-30T09:51:02.471Z"
   },
   {
    "duration": 7,
    "start_time": "2022-10-30T09:51:02.662Z"
   },
   {
    "duration": 5,
    "start_time": "2022-10-30T09:51:03.081Z"
   },
   {
    "duration": 7,
    "start_time": "2022-10-30T09:51:03.250Z"
   },
   {
    "duration": 5,
    "start_time": "2022-10-30T09:51:03.583Z"
   },
   {
    "duration": 60,
    "start_time": "2022-10-30T09:51:04.563Z"
   },
   {
    "duration": 32,
    "start_time": "2022-10-30T09:51:05.670Z"
   },
   {
    "duration": 49,
    "start_time": "2022-10-30T09:51:08.014Z"
   },
   {
    "duration": 6,
    "start_time": "2022-10-30T09:51:08.852Z"
   },
   {
    "duration": 5,
    "start_time": "2022-10-30T09:51:09.364Z"
   },
   {
    "duration": 4,
    "start_time": "2022-10-30T09:51:10.220Z"
   },
   {
    "duration": 11,
    "start_time": "2022-10-30T09:51:13.175Z"
   },
   {
    "duration": 12,
    "start_time": "2022-10-30T09:51:14.656Z"
   },
   {
    "duration": 12,
    "start_time": "2022-10-30T09:51:15.678Z"
   },
   {
    "duration": 245,
    "start_time": "2022-10-30T09:51:18.440Z"
   },
   {
    "duration": 6,
    "start_time": "2022-10-30T09:52:07.840Z"
   },
   {
    "duration": 8,
    "start_time": "2022-10-30T09:52:21.701Z"
   },
   {
    "duration": 7,
    "start_time": "2022-10-30T09:52:26.196Z"
   },
   {
    "duration": 14,
    "start_time": "2022-10-30T09:52:27.990Z"
   },
   {
    "duration": 12,
    "start_time": "2022-10-30T09:52:29.500Z"
   },
   {
    "duration": 13,
    "start_time": "2022-10-30T09:52:30.642Z"
   },
   {
    "duration": 246,
    "start_time": "2022-10-30T09:52:32.675Z"
   },
   {
    "duration": 10,
    "start_time": "2022-10-30T09:54:04.203Z"
   },
   {
    "duration": 10,
    "start_time": "2022-10-30T09:54:07.727Z"
   },
   {
    "duration": 7,
    "start_time": "2022-10-30T09:54:43.514Z"
   },
   {
    "duration": 983,
    "start_time": "2022-10-30T09:54:52.796Z"
   },
   {
    "duration": 120,
    "start_time": "2022-10-30T09:54:53.780Z"
   },
   {
    "duration": 11,
    "start_time": "2022-10-30T09:54:53.901Z"
   },
   {
    "duration": 11,
    "start_time": "2022-10-30T09:54:53.914Z"
   },
   {
    "duration": 9,
    "start_time": "2022-10-30T09:54:53.926Z"
   },
   {
    "duration": 12,
    "start_time": "2022-10-30T09:54:53.937Z"
   },
   {
    "duration": 9,
    "start_time": "2022-10-30T09:54:53.950Z"
   },
   {
    "duration": 8,
    "start_time": "2022-10-30T09:54:53.961Z"
   },
   {
    "duration": 37,
    "start_time": "2022-10-30T09:54:53.971Z"
   },
   {
    "duration": 5,
    "start_time": "2022-10-30T09:54:54.012Z"
   },
   {
    "duration": 6,
    "start_time": "2022-10-30T09:54:54.019Z"
   },
   {
    "duration": 8,
    "start_time": "2022-10-30T09:54:54.026Z"
   },
   {
    "duration": 7,
    "start_time": "2022-10-30T09:54:54.035Z"
   },
   {
    "duration": 6,
    "start_time": "2022-10-30T09:54:54.044Z"
   },
   {
    "duration": 25,
    "start_time": "2022-10-30T09:54:54.051Z"
   },
   {
    "duration": 36,
    "start_time": "2022-10-30T09:54:54.078Z"
   },
   {
    "duration": 7,
    "start_time": "2022-10-30T09:54:54.116Z"
   },
   {
    "duration": 11,
    "start_time": "2022-10-30T09:54:54.124Z"
   },
   {
    "duration": 11,
    "start_time": "2022-10-30T09:54:54.136Z"
   },
   {
    "duration": 11,
    "start_time": "2022-10-30T09:54:54.149Z"
   },
   {
    "duration": 368,
    "start_time": "2022-10-30T09:54:54.162Z"
   },
   {
    "duration": 0,
    "start_time": "2022-10-30T09:54:54.531Z"
   },
   {
    "duration": 0,
    "start_time": "2022-10-30T09:54:54.532Z"
   },
   {
    "duration": 0,
    "start_time": "2022-10-30T09:54:54.533Z"
   },
   {
    "duration": 0,
    "start_time": "2022-10-30T09:54:54.534Z"
   },
   {
    "duration": 0,
    "start_time": "2022-10-30T09:54:54.535Z"
   },
   {
    "duration": 0,
    "start_time": "2022-10-30T09:54:54.536Z"
   },
   {
    "duration": 0,
    "start_time": "2022-10-30T09:54:54.537Z"
   },
   {
    "duration": 1,
    "start_time": "2022-10-30T09:54:54.537Z"
   },
   {
    "duration": 0,
    "start_time": "2022-10-30T09:54:54.538Z"
   },
   {
    "duration": 0,
    "start_time": "2022-10-30T09:54:54.539Z"
   },
   {
    "duration": 0,
    "start_time": "2022-10-30T09:54:54.540Z"
   },
   {
    "duration": 0,
    "start_time": "2022-10-30T09:54:54.541Z"
   },
   {
    "duration": 0,
    "start_time": "2022-10-30T09:54:54.542Z"
   },
   {
    "duration": 0,
    "start_time": "2022-10-30T09:54:54.543Z"
   },
   {
    "duration": 0,
    "start_time": "2022-10-30T09:54:54.544Z"
   },
   {
    "duration": 0,
    "start_time": "2022-10-30T09:54:54.544Z"
   },
   {
    "duration": 0,
    "start_time": "2022-10-30T09:54:54.545Z"
   },
   {
    "duration": 0,
    "start_time": "2022-10-30T09:54:54.546Z"
   },
   {
    "duration": 0,
    "start_time": "2022-10-30T09:54:54.548Z"
   },
   {
    "duration": 2,
    "start_time": "2022-10-30T09:55:07.030Z"
   },
   {
    "duration": 71,
    "start_time": "2022-10-30T09:55:07.944Z"
   },
   {
    "duration": 9,
    "start_time": "2022-10-30T09:55:08.701Z"
   },
   {
    "duration": 7,
    "start_time": "2022-10-30T09:55:09.175Z"
   },
   {
    "duration": 9,
    "start_time": "2022-10-30T09:55:09.763Z"
   },
   {
    "duration": 11,
    "start_time": "2022-10-30T09:55:10.317Z"
   },
   {
    "duration": 11,
    "start_time": "2022-10-30T09:55:10.808Z"
   },
   {
    "duration": 9,
    "start_time": "2022-10-30T09:55:11.293Z"
   },
   {
    "duration": 6,
    "start_time": "2022-10-30T09:55:12.718Z"
   },
   {
    "duration": 5,
    "start_time": "2022-10-30T09:55:12.920Z"
   },
   {
    "duration": 4,
    "start_time": "2022-10-30T09:55:13.122Z"
   },
   {
    "duration": 5,
    "start_time": "2022-10-30T09:55:13.522Z"
   },
   {
    "duration": 6,
    "start_time": "2022-10-30T09:55:13.733Z"
   },
   {
    "duration": 5,
    "start_time": "2022-10-30T09:55:13.935Z"
   },
   {
    "duration": 59,
    "start_time": "2022-10-30T09:55:14.925Z"
   },
   {
    "duration": 33,
    "start_time": "2022-10-30T09:55:16.120Z"
   },
   {
    "duration": 48,
    "start_time": "2022-10-30T09:55:17.933Z"
   },
   {
    "duration": 11,
    "start_time": "2022-10-30T09:55:21.863Z"
   },
   {
    "duration": 12,
    "start_time": "2022-10-30T09:55:23.963Z"
   },
   {
    "duration": 11,
    "start_time": "2022-10-30T09:55:25.003Z"
   },
   {
    "duration": 250,
    "start_time": "2022-10-30T09:55:27.663Z"
   },
   {
    "duration": 3,
    "start_time": "2022-10-30T09:58:16.019Z"
   },
   {
    "duration": 73,
    "start_time": "2022-10-30T09:58:17.136Z"
   },
   {
    "duration": 11,
    "start_time": "2022-10-30T09:58:18.015Z"
   },
   {
    "duration": 10,
    "start_time": "2022-10-30T09:58:18.559Z"
   },
   {
    "duration": 10,
    "start_time": "2022-10-30T09:58:21.017Z"
   },
   {
    "duration": 11,
    "start_time": "2022-10-30T09:58:24.685Z"
   },
   {
    "duration": 9,
    "start_time": "2022-10-30T09:58:26.037Z"
   },
   {
    "duration": 10,
    "start_time": "2022-10-30T09:58:27.132Z"
   },
   {
    "duration": 5,
    "start_time": "2022-10-30T09:58:35.219Z"
   },
   {
    "duration": 6,
    "start_time": "2022-10-30T09:58:35.442Z"
   },
   {
    "duration": 5,
    "start_time": "2022-10-30T09:58:35.788Z"
   },
   {
    "duration": 5,
    "start_time": "2022-10-30T09:58:36.596Z"
   },
   {
    "duration": 5,
    "start_time": "2022-10-30T09:58:36.827Z"
   },
   {
    "duration": 6,
    "start_time": "2022-10-30T09:58:37.034Z"
   },
   {
    "duration": 61,
    "start_time": "2022-10-30T09:58:42.045Z"
   },
   {
    "duration": 33,
    "start_time": "2022-10-30T09:58:50.219Z"
   },
   {
    "duration": 57,
    "start_time": "2022-10-30T09:58:53.487Z"
   },
   {
    "duration": 16,
    "start_time": "2022-10-30T09:59:01.502Z"
   },
   {
    "duration": 14,
    "start_time": "2022-10-30T09:59:03.021Z"
   },
   {
    "duration": 14,
    "start_time": "2022-10-30T09:59:04.227Z"
   },
   {
    "duration": 284,
    "start_time": "2022-10-30T09:59:07.459Z"
   },
   {
    "duration": 244,
    "start_time": "2022-10-30T09:59:34.701Z"
   },
   {
    "duration": 13,
    "start_time": "2022-10-30T09:59:36.199Z"
   },
   {
    "duration": 253,
    "start_time": "2022-10-30T10:00:14.629Z"
   },
   {
    "duration": 3,
    "start_time": "2022-10-30T10:02:30.256Z"
   },
   {
    "duration": 75,
    "start_time": "2022-10-30T10:02:31.213Z"
   },
   {
    "duration": 14,
    "start_time": "2022-10-30T10:02:32.047Z"
   },
   {
    "duration": 8,
    "start_time": "2022-10-30T10:02:32.868Z"
   },
   {
    "duration": 9,
    "start_time": "2022-10-30T10:02:33.511Z"
   },
   {
    "duration": 11,
    "start_time": "2022-10-30T10:02:34.180Z"
   },
   {
    "duration": 9,
    "start_time": "2022-10-30T10:02:34.820Z"
   },
   {
    "duration": 9,
    "start_time": "2022-10-30T10:02:35.659Z"
   },
   {
    "duration": 6,
    "start_time": "2022-10-30T10:02:38.304Z"
   },
   {
    "duration": 5,
    "start_time": "2022-10-30T10:02:38.553Z"
   },
   {
    "duration": 5,
    "start_time": "2022-10-30T10:02:38.792Z"
   },
   {
    "duration": 6,
    "start_time": "2022-10-30T10:02:39.213Z"
   },
   {
    "duration": 5,
    "start_time": "2022-10-30T10:02:39.575Z"
   },
   {
    "duration": 5,
    "start_time": "2022-10-30T10:02:39.979Z"
   },
   {
    "duration": 60,
    "start_time": "2022-10-30T10:02:41.173Z"
   },
   {
    "duration": 33,
    "start_time": "2022-10-30T10:02:42.270Z"
   },
   {
    "duration": 11,
    "start_time": "2022-10-30T10:02:49.412Z"
   },
   {
    "duration": 12,
    "start_time": "2022-10-30T10:02:51.173Z"
   },
   {
    "duration": 12,
    "start_time": "2022-10-30T10:02:52.356Z"
   },
   {
    "duration": 251,
    "start_time": "2022-10-30T10:02:55.135Z"
   },
   {
    "duration": 250,
    "start_time": "2022-10-30T10:03:03.336Z"
   },
   {
    "duration": 8,
    "start_time": "2022-10-30T10:03:54.692Z"
   },
   {
    "duration": 12,
    "start_time": "2022-10-30T10:03:58.464Z"
   },
   {
    "duration": 12,
    "start_time": "2022-10-30T10:03:59.833Z"
   },
   {
    "duration": 12,
    "start_time": "2022-10-30T10:04:01.472Z"
   },
   {
    "duration": 246,
    "start_time": "2022-10-30T10:04:04.585Z"
   },
   {
    "duration": 199,
    "start_time": "2022-10-30T10:04:07.364Z"
   },
   {
    "duration": 162,
    "start_time": "2022-10-30T10:04:10.548Z"
   },
   {
    "duration": 260,
    "start_time": "2022-10-30T10:04:13.401Z"
   },
   {
    "duration": 150,
    "start_time": "2022-10-30T10:04:15.455Z"
   },
   {
    "duration": 249,
    "start_time": "2022-10-30T10:04:23.933Z"
   },
   {
    "duration": 9,
    "start_time": "2022-10-30T10:04:28.561Z"
   },
   {
    "duration": 133,
    "start_time": "2022-10-30T10:04:29.665Z"
   },
   {
    "duration": 118,
    "start_time": "2022-10-30T10:04:38.861Z"
   },
   {
    "duration": 5,
    "start_time": "2022-10-30T10:05:00.288Z"
   },
   {
    "duration": 189,
    "start_time": "2022-10-30T10:05:03.217Z"
   },
   {
    "duration": 123,
    "start_time": "2022-10-30T10:05:04.997Z"
   },
   {
    "duration": 4,
    "start_time": "2022-10-30T10:05:09.406Z"
   },
   {
    "duration": 206,
    "start_time": "2022-10-30T10:05:44.082Z"
   },
   {
    "duration": 139,
    "start_time": "2022-10-30T10:05:48.198Z"
   },
   {
    "duration": 10,
    "start_time": "2022-10-30T10:06:41.248Z"
   },
   {
    "duration": 200,
    "start_time": "2022-10-30T10:07:56.375Z"
   },
   {
    "duration": 162,
    "start_time": "2022-10-30T10:07:58.177Z"
   },
   {
    "duration": 10,
    "start_time": "2022-10-30T10:08:02.477Z"
   },
   {
    "duration": 9,
    "start_time": "2022-10-30T10:08:42.148Z"
   },
   {
    "duration": 24,
    "start_time": "2022-10-30T10:09:08.648Z"
   },
   {
    "duration": 13,
    "start_time": "2022-10-30T10:09:58.398Z"
   },
   {
    "duration": 3,
    "start_time": "2022-10-30T10:10:55.237Z"
   },
   {
    "duration": 71,
    "start_time": "2022-10-30T10:10:55.652Z"
   },
   {
    "duration": 9,
    "start_time": "2022-10-30T10:10:56.330Z"
   },
   {
    "duration": 7,
    "start_time": "2022-10-30T10:10:56.512Z"
   },
   {
    "duration": 9,
    "start_time": "2022-10-30T10:10:56.871Z"
   },
   {
    "duration": 16,
    "start_time": "2022-10-30T10:10:57.261Z"
   },
   {
    "duration": 8,
    "start_time": "2022-10-30T10:10:57.543Z"
   },
   {
    "duration": 10,
    "start_time": "2022-10-30T10:10:57.810Z"
   },
   {
    "duration": 5,
    "start_time": "2022-10-30T10:10:58.982Z"
   },
   {
    "duration": 5,
    "start_time": "2022-10-30T10:10:59.185Z"
   },
   {
    "duration": 5,
    "start_time": "2022-10-30T10:10:59.392Z"
   },
   {
    "duration": 7,
    "start_time": "2022-10-30T10:10:59.930Z"
   },
   {
    "duration": 6,
    "start_time": "2022-10-30T10:11:00.280Z"
   },
   {
    "duration": 6,
    "start_time": "2022-10-30T10:11:00.538Z"
   },
   {
    "duration": 60,
    "start_time": "2022-10-30T10:11:01.534Z"
   },
   {
    "duration": 23,
    "start_time": "2022-10-30T10:11:02.255Z"
   },
   {
    "duration": 9,
    "start_time": "2022-10-30T10:11:53.809Z"
   },
   {
    "duration": 8,
    "start_time": "2022-10-30T10:12:15.249Z"
   },
   {
    "duration": 2,
    "start_time": "2022-10-30T10:12:43.784Z"
   },
   {
    "duration": 73,
    "start_time": "2022-10-30T10:12:44.354Z"
   },
   {
    "duration": 8,
    "start_time": "2022-10-30T10:12:44.779Z"
   },
   {
    "duration": 7,
    "start_time": "2022-10-30T10:12:45.255Z"
   },
   {
    "duration": 10,
    "start_time": "2022-10-30T10:12:45.649Z"
   },
   {
    "duration": 12,
    "start_time": "2022-10-30T10:12:46.089Z"
   },
   {
    "duration": 11,
    "start_time": "2022-10-30T10:12:46.459Z"
   },
   {
    "duration": 11,
    "start_time": "2022-10-30T10:12:46.868Z"
   },
   {
    "duration": 5,
    "start_time": "2022-10-30T10:12:48.471Z"
   },
   {
    "duration": 5,
    "start_time": "2022-10-30T10:12:48.686Z"
   },
   {
    "duration": 5,
    "start_time": "2022-10-30T10:12:48.889Z"
   },
   {
    "duration": 7,
    "start_time": "2022-10-30T10:12:49.312Z"
   },
   {
    "duration": 6,
    "start_time": "2022-10-30T10:12:49.630Z"
   },
   {
    "duration": 7,
    "start_time": "2022-10-30T10:12:49.832Z"
   },
   {
    "duration": 60,
    "start_time": "2022-10-30T10:12:50.671Z"
   },
   {
    "duration": 22,
    "start_time": "2022-10-30T10:12:51.165Z"
   },
   {
    "duration": 5,
    "start_time": "2022-10-30T10:13:23.806Z"
   },
   {
    "duration": 4,
    "start_time": "2022-10-30T10:13:24.292Z"
   },
   {
    "duration": 4,
    "start_time": "2022-10-30T10:13:26.921Z"
   },
   {
    "duration": 10,
    "start_time": "2022-10-30T10:13:37.140Z"
   },
   {
    "duration": 12,
    "start_time": "2022-10-30T10:13:38.110Z"
   },
   {
    "duration": 11,
    "start_time": "2022-10-30T10:13:38.827Z"
   },
   {
    "duration": 258,
    "start_time": "2022-10-30T10:13:40.430Z"
   },
   {
    "duration": 155,
    "start_time": "2022-10-30T10:13:43.013Z"
   },
   {
    "duration": 165,
    "start_time": "2022-10-30T10:13:46.314Z"
   },
   {
    "duration": 286,
    "start_time": "2022-10-30T10:13:47.486Z"
   },
   {
    "duration": 163,
    "start_time": "2022-10-30T10:13:49.262Z"
   },
   {
    "duration": 285,
    "start_time": "2022-10-30T10:13:51.387Z"
   },
   {
    "duration": 8,
    "start_time": "2022-10-30T10:13:53.808Z"
   },
   {
    "duration": 117,
    "start_time": "2022-10-30T10:13:55.683Z"
   },
   {
    "duration": 122,
    "start_time": "2022-10-30T10:13:56.885Z"
   },
   {
    "duration": 4,
    "start_time": "2022-10-30T10:13:58.198Z"
   },
   {
    "duration": 111,
    "start_time": "2022-10-30T10:13:59.675Z"
   },
   {
    "duration": 197,
    "start_time": "2022-10-30T10:14:01.075Z"
   },
   {
    "duration": 4,
    "start_time": "2022-10-30T10:14:03.343Z"
   },
   {
    "duration": 3,
    "start_time": "2022-10-30T10:14:23.964Z"
   },
   {
    "duration": 71,
    "start_time": "2022-10-30T10:14:24.829Z"
   },
   {
    "duration": 9,
    "start_time": "2022-10-30T10:14:25.219Z"
   },
   {
    "duration": 7,
    "start_time": "2022-10-30T10:14:25.800Z"
   },
   {
    "duration": 10,
    "start_time": "2022-10-30T10:14:26.354Z"
   },
   {
    "duration": 11,
    "start_time": "2022-10-30T10:14:26.869Z"
   },
   {
    "duration": 11,
    "start_time": "2022-10-30T10:14:27.352Z"
   },
   {
    "duration": 9,
    "start_time": "2022-10-30T10:14:27.847Z"
   },
   {
    "duration": 5,
    "start_time": "2022-10-30T10:14:29.509Z"
   },
   {
    "duration": 6,
    "start_time": "2022-10-30T10:14:29.695Z"
   },
   {
    "duration": 5,
    "start_time": "2022-10-30T10:14:29.909Z"
   },
   {
    "duration": 6,
    "start_time": "2022-10-30T10:14:30.586Z"
   },
   {
    "duration": 7,
    "start_time": "2022-10-30T10:14:30.798Z"
   },
   {
    "duration": 5,
    "start_time": "2022-10-30T10:14:30.970Z"
   },
   {
    "duration": 59,
    "start_time": "2022-10-30T10:14:32.382Z"
   },
   {
    "duration": 32,
    "start_time": "2022-10-30T10:14:40.677Z"
   },
   {
    "duration": 6,
    "start_time": "2022-10-30T10:14:59.540Z"
   },
   {
    "duration": 5,
    "start_time": "2022-10-30T10:14:59.803Z"
   },
   {
    "duration": 4,
    "start_time": "2022-10-30T10:15:00.577Z"
   },
   {
    "duration": 4,
    "start_time": "2022-10-30T10:18:38.401Z"
   },
   {
    "duration": 5,
    "start_time": "2022-10-30T10:19:13.008Z"
   },
   {
    "duration": 11,
    "start_time": "2022-10-30T10:19:27.733Z"
   },
   {
    "duration": 92,
    "start_time": "2022-10-30T10:20:51.401Z"
   },
   {
    "duration": 4,
    "start_time": "2022-10-30T10:21:19.425Z"
   },
   {
    "duration": 69,
    "start_time": "2022-10-30T10:21:48.491Z"
   },
   {
    "duration": 4,
    "start_time": "2022-10-30T10:21:52.462Z"
   },
   {
    "duration": 4,
    "start_time": "2022-10-30T10:22:50.259Z"
   },
   {
    "duration": 3,
    "start_time": "2022-10-30T10:24:13.348Z"
   },
   {
    "duration": 100,
    "start_time": "2022-10-30T10:26:45.531Z"
   },
   {
    "duration": 3,
    "start_time": "2022-10-30T10:29:23.594Z"
   },
   {
    "duration": 72,
    "start_time": "2022-10-30T10:29:24.427Z"
   },
   {
    "duration": 10,
    "start_time": "2022-10-30T10:29:25.504Z"
   },
   {
    "duration": 8,
    "start_time": "2022-10-30T10:29:26.296Z"
   },
   {
    "duration": 10,
    "start_time": "2022-10-30T10:29:27.153Z"
   },
   {
    "duration": 12,
    "start_time": "2022-10-30T10:29:27.707Z"
   },
   {
    "duration": 10,
    "start_time": "2022-10-30T10:29:28.195Z"
   },
   {
    "duration": 9,
    "start_time": "2022-10-30T10:29:28.689Z"
   },
   {
    "duration": 5,
    "start_time": "2022-10-30T10:29:30.982Z"
   },
   {
    "duration": 5,
    "start_time": "2022-10-30T10:29:31.421Z"
   },
   {
    "duration": 5,
    "start_time": "2022-10-30T10:29:31.788Z"
   },
   {
    "duration": 6,
    "start_time": "2022-10-30T10:29:32.704Z"
   },
   {
    "duration": 6,
    "start_time": "2022-10-30T10:29:33.306Z"
   },
   {
    "duration": 6,
    "start_time": "2022-10-30T10:29:33.711Z"
   },
   {
    "duration": 60,
    "start_time": "2022-10-30T10:29:35.768Z"
   },
   {
    "duration": 33,
    "start_time": "2022-10-30T10:29:37.039Z"
   },
   {
    "duration": 5,
    "start_time": "2022-10-30T10:29:40.212Z"
   },
   {
    "duration": 5,
    "start_time": "2022-10-30T10:29:41.053Z"
   },
   {
    "duration": 4,
    "start_time": "2022-10-30T10:29:41.783Z"
   },
   {
    "duration": 4,
    "start_time": "2022-10-30T10:29:42.700Z"
   },
   {
    "duration": 12,
    "start_time": "2022-10-30T10:29:54.163Z"
   },
   {
    "duration": 12,
    "start_time": "2022-10-30T10:29:58.468Z"
   },
   {
    "duration": 11,
    "start_time": "2022-10-30T10:30:00.118Z"
   },
   {
    "duration": 274,
    "start_time": "2022-10-30T10:30:04.012Z"
   },
   {
    "duration": 170,
    "start_time": "2022-10-30T10:30:07.531Z"
   },
   {
    "duration": 189,
    "start_time": "2022-10-30T10:30:10.747Z"
   },
   {
    "duration": 256,
    "start_time": "2022-10-30T10:30:13.215Z"
   },
   {
    "duration": 169,
    "start_time": "2022-10-30T10:30:16.130Z"
   },
   {
    "duration": 271,
    "start_time": "2022-10-30T10:30:24.314Z"
   },
   {
    "duration": 10,
    "start_time": "2022-10-30T10:30:43.693Z"
   },
   {
    "duration": 119,
    "start_time": "2022-10-30T10:30:51.746Z"
   },
   {
    "duration": 126,
    "start_time": "2022-10-30T10:30:58.230Z"
   },
   {
    "duration": 5,
    "start_time": "2022-10-30T10:31:00.885Z"
   },
   {
    "duration": 116,
    "start_time": "2022-10-30T10:31:02.751Z"
   },
   {
    "duration": 127,
    "start_time": "2022-10-30T10:31:03.898Z"
   },
   {
    "duration": 3,
    "start_time": "2022-10-30T10:31:06.143Z"
   },
   {
    "duration": 288,
    "start_time": "2022-10-30T10:31:12.636Z"
   },
   {
    "duration": 133,
    "start_time": "2022-10-30T10:31:18.332Z"
   },
   {
    "duration": 10,
    "start_time": "2022-10-30T10:31:33.051Z"
   },
   {
    "duration": 11,
    "start_time": "2022-10-30T10:32:08.330Z"
   },
   {
    "duration": 25,
    "start_time": "2022-10-30T10:32:19.932Z"
   },
   {
    "duration": 13,
    "start_time": "2022-10-30T10:32:34.816Z"
   },
   {
    "duration": 4,
    "start_time": "2022-10-30T10:42:31.507Z"
   },
   {
    "duration": 4,
    "start_time": "2022-10-30T10:42:45.092Z"
   },
   {
    "duration": 5,
    "start_time": "2022-10-30T10:43:16.327Z"
   },
   {
    "duration": 4,
    "start_time": "2022-10-30T10:43:23.091Z"
   },
   {
    "duration": 4,
    "start_time": "2022-10-30T10:43:32.545Z"
   },
   {
    "duration": 68,
    "start_time": "2022-10-30T10:46:38.944Z"
   },
   {
    "duration": 3,
    "start_time": "2022-10-30T10:46:43.645Z"
   },
   {
    "duration": 13,
    "start_time": "2022-10-30T10:46:50.196Z"
   },
   {
    "duration": 14,
    "start_time": "2022-10-30T10:47:03.161Z"
   },
   {
    "duration": 11,
    "start_time": "2022-10-30T10:47:27.446Z"
   },
   {
    "duration": 12,
    "start_time": "2022-10-30T10:47:40.867Z"
   },
   {
    "duration": 13,
    "start_time": "2022-10-30T10:47:41.993Z"
   },
   {
    "duration": 13,
    "start_time": "2022-10-30T10:47:42.546Z"
   },
   {
    "duration": 254,
    "start_time": "2022-10-30T10:47:43.963Z"
   },
   {
    "duration": 170,
    "start_time": "2022-10-30T10:47:45.305Z"
   },
   {
    "duration": 3,
    "start_time": "2022-10-30T10:48:09.633Z"
   },
   {
    "duration": 79,
    "start_time": "2022-10-30T10:48:10.627Z"
   },
   {
    "duration": 11,
    "start_time": "2022-10-30T10:48:11.112Z"
   },
   {
    "duration": 9,
    "start_time": "2022-10-30T10:48:11.607Z"
   },
   {
    "duration": 10,
    "start_time": "2022-10-30T10:48:12.200Z"
   },
   {
    "duration": 11,
    "start_time": "2022-10-30T10:48:12.640Z"
   },
   {
    "duration": 10,
    "start_time": "2022-10-30T10:48:13.175Z"
   },
   {
    "duration": 9,
    "start_time": "2022-10-30T10:48:13.601Z"
   },
   {
    "duration": 5,
    "start_time": "2022-10-30T10:48:15.732Z"
   },
   {
    "duration": 5,
    "start_time": "2022-10-30T10:48:15.897Z"
   },
   {
    "duration": 5,
    "start_time": "2022-10-30T10:48:16.126Z"
   },
   {
    "duration": 6,
    "start_time": "2022-10-30T10:48:17.528Z"
   },
   {
    "duration": 7,
    "start_time": "2022-10-30T10:48:17.536Z"
   },
   {
    "duration": 6,
    "start_time": "2022-10-30T10:48:17.544Z"
   },
   {
    "duration": 61,
    "start_time": "2022-10-30T10:48:18.354Z"
   },
   {
    "duration": 22,
    "start_time": "2022-10-30T10:48:19.158Z"
   },
   {
    "duration": 8,
    "start_time": "2022-10-30T10:49:00.259Z"
   },
   {
    "duration": 4,
    "start_time": "2022-10-30T10:49:51.252Z"
   },
   {
    "duration": 4,
    "start_time": "2022-10-30T10:49:58.221Z"
   },
   {
    "duration": 5,
    "start_time": "2022-10-30T10:50:28.712Z"
   },
   {
    "duration": 5,
    "start_time": "2022-10-30T10:50:42.522Z"
   },
   {
    "duration": 4,
    "start_time": "2022-10-30T10:50:49.075Z"
   },
   {
    "duration": 5,
    "start_time": "2022-10-30T10:50:50.638Z"
   },
   {
    "duration": 6,
    "start_time": "2022-10-30T10:51:10.848Z"
   },
   {
    "duration": 5,
    "start_time": "2022-10-30T10:51:30.893Z"
   },
   {
    "duration": 9,
    "start_time": "2022-10-30T10:51:45.246Z"
   },
   {
    "duration": 6,
    "start_time": "2022-10-30T10:52:10.375Z"
   },
   {
    "duration": 7,
    "start_time": "2022-10-30T10:54:09.974Z"
   },
   {
    "duration": 10,
    "start_time": "2022-10-30T10:54:44.225Z"
   },
   {
    "duration": 7,
    "start_time": "2022-10-30T10:54:50.797Z"
   },
   {
    "duration": 6,
    "start_time": "2022-10-30T10:55:03.807Z"
   },
   {
    "duration": 1110,
    "start_time": "2022-10-30T10:55:25.744Z"
   },
   {
    "duration": 1108,
    "start_time": "2022-10-30T10:55:48.311Z"
   },
   {
    "duration": 7,
    "start_time": "2022-10-30T10:58:53.799Z"
   },
   {
    "duration": 70,
    "start_time": "2022-10-30T10:59:11.153Z"
   },
   {
    "duration": 7,
    "start_time": "2022-10-30T10:59:17.968Z"
   },
   {
    "duration": 7,
    "start_time": "2022-10-30T10:59:27.582Z"
   },
   {
    "duration": 6,
    "start_time": "2022-10-30T10:59:59.540Z"
   },
   {
    "duration": 12,
    "start_time": "2022-10-30T11:00:05.521Z"
   },
   {
    "duration": 12,
    "start_time": "2022-10-30T11:00:06.380Z"
   },
   {
    "duration": 13,
    "start_time": "2022-10-30T11:00:06.940Z"
   },
   {
    "duration": 275,
    "start_time": "2022-10-30T11:00:08.216Z"
   },
   {
    "duration": 169,
    "start_time": "2022-10-30T11:00:08.604Z"
   },
   {
    "duration": 168,
    "start_time": "2022-10-30T11:00:10.594Z"
   },
   {
    "duration": 7,
    "start_time": "2022-10-30T11:00:58.623Z"
   },
   {
    "duration": 11,
    "start_time": "2022-10-30T11:01:05.792Z"
   },
   {
    "duration": 12,
    "start_time": "2022-10-30T11:01:07.157Z"
   },
   {
    "duration": 12,
    "start_time": "2022-10-30T11:01:08.040Z"
   },
   {
    "duration": 253,
    "start_time": "2022-10-30T11:01:10.481Z"
   },
   {
    "duration": 191,
    "start_time": "2022-10-30T11:01:11.533Z"
   },
   {
    "duration": 177,
    "start_time": "2022-10-30T11:01:14.251Z"
   },
   {
    "duration": 3,
    "start_time": "2022-10-30T11:01:36.326Z"
   },
   {
    "duration": 74,
    "start_time": "2022-10-30T11:01:37.003Z"
   },
   {
    "duration": 12,
    "start_time": "2022-10-30T11:01:37.409Z"
   },
   {
    "duration": 8,
    "start_time": "2022-10-30T11:01:37.834Z"
   },
   {
    "duration": 10,
    "start_time": "2022-10-30T11:01:38.165Z"
   },
   {
    "duration": 12,
    "start_time": "2022-10-30T11:01:38.586Z"
   },
   {
    "duration": 10,
    "start_time": "2022-10-30T11:01:39.022Z"
   },
   {
    "duration": 9,
    "start_time": "2022-10-30T11:01:39.448Z"
   },
   {
    "duration": 5,
    "start_time": "2022-10-30T11:01:40.681Z"
   },
   {
    "duration": 7,
    "start_time": "2022-10-30T11:01:40.876Z"
   },
   {
    "duration": 5,
    "start_time": "2022-10-30T11:01:41.079Z"
   },
   {
    "duration": 6,
    "start_time": "2022-10-30T11:01:41.473Z"
   },
   {
    "duration": 6,
    "start_time": "2022-10-30T11:01:41.717Z"
   },
   {
    "duration": 5,
    "start_time": "2022-10-30T11:01:41.933Z"
   },
   {
    "duration": 61,
    "start_time": "2022-10-30T11:01:42.881Z"
   },
   {
    "duration": 23,
    "start_time": "2022-10-30T11:01:43.430Z"
   },
   {
    "duration": 3,
    "start_time": "2022-10-30T11:06:41.473Z"
   },
   {
    "duration": 75,
    "start_time": "2022-10-30T11:06:41.881Z"
   },
   {
    "duration": 13,
    "start_time": "2022-10-30T11:06:42.347Z"
   },
   {
    "duration": 8,
    "start_time": "2022-10-30T11:06:42.572Z"
   },
   {
    "duration": 9,
    "start_time": "2022-10-30T11:06:42.827Z"
   },
   {
    "duration": 12,
    "start_time": "2022-10-30T11:06:43.088Z"
   },
   {
    "duration": 10,
    "start_time": "2022-10-30T11:06:43.451Z"
   },
   {
    "duration": 9,
    "start_time": "2022-10-30T11:06:43.694Z"
   },
   {
    "duration": 4,
    "start_time": "2022-10-30T11:06:44.841Z"
   },
   {
    "duration": 6,
    "start_time": "2022-10-30T11:06:45.175Z"
   },
   {
    "duration": 5,
    "start_time": "2022-10-30T11:06:45.385Z"
   },
   {
    "duration": 6,
    "start_time": "2022-10-30T11:06:45.834Z"
   },
   {
    "duration": 6,
    "start_time": "2022-10-30T11:06:46.168Z"
   },
   {
    "duration": 5,
    "start_time": "2022-10-30T11:06:46.381Z"
   },
   {
    "duration": 66,
    "start_time": "2022-10-30T11:06:47.376Z"
   },
   {
    "duration": 23,
    "start_time": "2022-10-30T11:06:47.772Z"
   },
   {
    "duration": 6,
    "start_time": "2022-10-30T11:06:50.587Z"
   },
   {
    "duration": 6,
    "start_time": "2022-10-30T11:06:51.300Z"
   },
   {
    "duration": 4,
    "start_time": "2022-10-30T11:06:51.765Z"
   },
   {
    "duration": 5,
    "start_time": "2022-10-30T11:06:53.124Z"
   },
   {
    "duration": 4,
    "start_time": "2022-10-30T11:06:54.343Z"
   },
   {
    "duration": 7,
    "start_time": "2022-10-30T11:06:56.534Z"
   },
   {
    "duration": 5,
    "start_time": "2022-10-30T11:07:55.749Z"
   },
   {
    "duration": 5,
    "start_time": "2022-10-30T11:07:56.100Z"
   },
   {
    "duration": 4,
    "start_time": "2022-10-30T11:07:59.103Z"
   },
   {
    "duration": 5,
    "start_time": "2022-10-30T11:08:00.249Z"
   },
   {
    "duration": 4,
    "start_time": "2022-10-30T11:08:40.080Z"
   },
   {
    "duration": 7,
    "start_time": "2022-10-30T11:08:41.200Z"
   },
   {
    "duration": 6,
    "start_time": "2022-10-30T11:10:27.307Z"
   },
   {
    "duration": 7,
    "start_time": "2022-10-30T11:10:31.000Z"
   },
   {
    "duration": 12,
    "start_time": "2022-10-30T11:10:36.280Z"
   },
   {
    "duration": 17,
    "start_time": "2022-10-30T11:11:06.640Z"
   },
   {
    "duration": 13,
    "start_time": "2022-10-30T11:11:10.825Z"
   },
   {
    "duration": 11,
    "start_time": "2022-10-30T11:11:12.310Z"
   },
   {
    "duration": 255,
    "start_time": "2022-10-30T11:11:15.334Z"
   },
   {
    "duration": 169,
    "start_time": "2022-10-30T11:11:16.671Z"
   },
   {
    "duration": 176,
    "start_time": "2022-10-30T11:11:20.419Z"
   },
   {
    "duration": 279,
    "start_time": "2022-10-30T11:11:22.177Z"
   },
   {
    "duration": 159,
    "start_time": "2022-10-30T11:11:23.933Z"
   },
   {
    "duration": 278,
    "start_time": "2022-10-30T11:11:26.304Z"
   },
   {
    "duration": 9,
    "start_time": "2022-10-30T11:11:43.212Z"
   },
   {
    "duration": 209,
    "start_time": "2022-10-30T11:11:44.223Z"
   },
   {
    "duration": 128,
    "start_time": "2022-10-30T11:11:45.109Z"
   },
   {
    "duration": 4,
    "start_time": "2022-10-30T11:11:47.042Z"
   },
   {
    "duration": 118,
    "start_time": "2022-10-30T11:11:48.387Z"
   },
   {
    "duration": 119,
    "start_time": "2022-10-30T11:11:49.313Z"
   },
   {
    "duration": 4,
    "start_time": "2022-10-30T11:12:00.424Z"
   },
   {
    "duration": 211,
    "start_time": "2022-10-30T11:12:05.210Z"
   },
   {
    "duration": 148,
    "start_time": "2022-10-30T11:12:08.739Z"
   },
   {
    "duration": 10,
    "start_time": "2022-10-30T11:12:13.750Z"
   },
   {
    "duration": 9,
    "start_time": "2022-10-30T11:12:17.301Z"
   },
   {
    "duration": 25,
    "start_time": "2022-10-30T11:12:19.749Z"
   },
   {
    "duration": 12,
    "start_time": "2022-10-30T11:12:24.154Z"
   },
   {
    "duration": 12,
    "start_time": "2022-10-30T11:13:58.367Z"
   },
   {
    "duration": 11,
    "start_time": "2022-10-30T11:13:59.515Z"
   },
   {
    "duration": 252,
    "start_time": "2022-10-30T11:14:03.057Z"
   },
   {
    "duration": 184,
    "start_time": "2022-10-30T11:14:06.009Z"
   },
   {
    "duration": 185,
    "start_time": "2022-10-30T11:15:03.364Z"
   },
   {
    "duration": 287,
    "start_time": "2022-10-30T11:15:05.089Z"
   },
   {
    "duration": 165,
    "start_time": "2022-10-30T11:15:06.544Z"
   },
   {
    "duration": 239,
    "start_time": "2022-10-30T11:15:08.848Z"
   },
   {
    "duration": 9,
    "start_time": "2022-10-30T11:15:10.519Z"
   },
   {
    "duration": 147,
    "start_time": "2022-10-30T11:15:11.441Z"
   },
   {
    "duration": 206,
    "start_time": "2022-10-30T11:15:12.209Z"
   },
   {
    "duration": 4,
    "start_time": "2022-10-30T11:15:13.364Z"
   },
   {
    "duration": 123,
    "start_time": "2022-10-30T11:15:14.242Z"
   },
   {
    "duration": 119,
    "start_time": "2022-10-30T11:15:15.219Z"
   },
   {
    "duration": 4,
    "start_time": "2022-10-30T11:15:17.091Z"
   },
   {
    "duration": 3,
    "start_time": "2022-10-30T11:19:46.938Z"
   },
   {
    "duration": 72,
    "start_time": "2022-10-30T11:19:47.801Z"
   },
   {
    "duration": 11,
    "start_time": "2022-10-30T11:19:48.951Z"
   },
   {
    "duration": 7,
    "start_time": "2022-10-30T11:19:49.479Z"
   },
   {
    "duration": 10,
    "start_time": "2022-10-30T11:19:49.950Z"
   },
   {
    "duration": 12,
    "start_time": "2022-10-30T11:19:50.401Z"
   },
   {
    "duration": 10,
    "start_time": "2022-10-30T11:19:50.671Z"
   },
   {
    "duration": 10,
    "start_time": "2022-10-30T11:19:50.964Z"
   },
   {
    "duration": 6,
    "start_time": "2022-10-30T11:19:51.982Z"
   },
   {
    "duration": 6,
    "start_time": "2022-10-30T11:19:52.267Z"
   },
   {
    "duration": 5,
    "start_time": "2022-10-30T11:19:52.525Z"
   },
   {
    "duration": 5,
    "start_time": "2022-10-30T11:19:52.990Z"
   },
   {
    "duration": 6,
    "start_time": "2022-10-30T11:19:53.220Z"
   },
   {
    "duration": 6,
    "start_time": "2022-10-30T11:19:53.678Z"
   },
   {
    "duration": 60,
    "start_time": "2022-10-30T11:19:55.150Z"
   },
   {
    "duration": 24,
    "start_time": "2022-10-30T11:19:56.102Z"
   },
   {
    "duration": 5,
    "start_time": "2022-10-30T11:20:01.460Z"
   },
   {
    "duration": 4,
    "start_time": "2022-10-30T11:21:48.772Z"
   },
   {
    "duration": 4,
    "start_time": "2022-10-30T11:21:49.555Z"
   },
   {
    "duration": 5,
    "start_time": "2022-10-30T11:21:50.318Z"
   },
   {
    "duration": 5,
    "start_time": "2022-10-30T11:21:51.587Z"
   },
   {
    "duration": 6,
    "start_time": "2022-10-30T11:21:53.639Z"
   },
   {
    "duration": 11,
    "start_time": "2022-10-30T11:21:55.566Z"
   },
   {
    "duration": 13,
    "start_time": "2022-10-30T11:21:57.749Z"
   },
   {
    "duration": 11,
    "start_time": "2022-10-30T11:21:58.718Z"
   },
   {
    "duration": 250,
    "start_time": "2022-10-30T11:22:01.593Z"
   },
   {
    "duration": 169,
    "start_time": "2022-10-30T11:22:10.759Z"
   },
   {
    "duration": 169,
    "start_time": "2022-10-30T11:22:14.901Z"
   },
   {
    "duration": 245,
    "start_time": "2022-10-30T11:22:27.567Z"
   },
   {
    "duration": 159,
    "start_time": "2022-10-30T11:22:30.577Z"
   },
   {
    "duration": 232,
    "start_time": "2022-10-30T11:22:32.349Z"
   },
   {
    "duration": 8,
    "start_time": "2022-10-30T11:22:33.668Z"
   },
   {
    "duration": 117,
    "start_time": "2022-10-30T11:22:34.049Z"
   },
   {
    "duration": 124,
    "start_time": "2022-10-30T11:22:34.452Z"
   },
   {
    "duration": 4,
    "start_time": "2022-10-30T11:22:35.049Z"
   },
   {
    "duration": 117,
    "start_time": "2022-10-30T11:22:35.662Z"
   },
   {
    "duration": 210,
    "start_time": "2022-10-30T11:22:36.051Z"
   },
   {
    "duration": 5,
    "start_time": "2022-10-30T11:22:37.100Z"
   },
   {
    "duration": 211,
    "start_time": "2022-10-30T11:23:03.048Z"
   },
   {
    "duration": 151,
    "start_time": "2022-10-30T11:23:11.954Z"
   },
   {
    "duration": 14,
    "start_time": "2022-10-30T11:23:17.350Z"
   },
   {
    "duration": 9,
    "start_time": "2022-10-30T11:23:22.678Z"
   },
   {
    "duration": 24,
    "start_time": "2022-10-30T11:25:50.301Z"
   },
   {
    "duration": 13,
    "start_time": "2022-10-30T11:25:53.616Z"
   },
   {
    "duration": 199,
    "start_time": "2022-10-30T11:35:59.601Z"
   },
   {
    "duration": 276,
    "start_time": "2022-10-30T11:36:01.191Z"
   },
   {
    "duration": 172,
    "start_time": "2022-10-30T11:36:02.937Z"
   },
   {
    "duration": 295,
    "start_time": "2022-10-30T11:36:04.694Z"
   },
   {
    "duration": 10,
    "start_time": "2022-10-30T11:36:06.429Z"
   },
   {
    "duration": 156,
    "start_time": "2022-10-30T11:36:07.471Z"
   },
   {
    "duration": 124,
    "start_time": "2022-10-30T11:36:08.343Z"
   },
   {
    "duration": 3,
    "start_time": "2022-10-30T11:36:11.949Z"
   },
   {
    "duration": 136,
    "start_time": "2022-10-30T11:36:12.673Z"
   },
   {
    "duration": 124,
    "start_time": "2022-10-30T11:36:13.355Z"
   },
   {
    "duration": 5,
    "start_time": "2022-10-30T11:36:14.949Z"
   },
   {
    "duration": 208,
    "start_time": "2022-10-30T11:37:18.814Z"
   },
   {
    "duration": 138,
    "start_time": "2022-10-30T11:37:24.386Z"
   },
   {
    "duration": 10,
    "start_time": "2022-10-30T11:52:01.840Z"
   },
   {
    "duration": 2,
    "start_time": "2022-10-30T12:00:48.168Z"
   },
   {
    "duration": 71,
    "start_time": "2022-10-30T12:00:49.400Z"
   },
   {
    "duration": 9,
    "start_time": "2022-10-30T12:00:50.402Z"
   },
   {
    "duration": 7,
    "start_time": "2022-10-30T12:00:54.290Z"
   },
   {
    "duration": 9,
    "start_time": "2022-10-30T12:00:55.510Z"
   },
   {
    "duration": 11,
    "start_time": "2022-10-30T12:00:56.339Z"
   },
   {
    "duration": 9,
    "start_time": "2022-10-30T12:00:56.856Z"
   },
   {
    "duration": 10,
    "start_time": "2022-10-30T12:00:57.424Z"
   },
   {
    "duration": 4,
    "start_time": "2022-10-30T12:00:59.540Z"
   },
   {
    "duration": 6,
    "start_time": "2022-10-30T12:01:00.035Z"
   },
   {
    "duration": 5,
    "start_time": "2022-10-30T12:01:00.559Z"
   },
   {
    "duration": 5,
    "start_time": "2022-10-30T12:01:01.524Z"
   },
   {
    "duration": 6,
    "start_time": "2022-10-30T12:01:02.068Z"
   },
   {
    "duration": 5,
    "start_time": "2022-10-30T12:01:02.579Z"
   },
   {
    "duration": 59,
    "start_time": "2022-10-30T12:01:04.661Z"
   },
   {
    "duration": 35,
    "start_time": "2022-10-30T12:01:06.155Z"
   },
   {
    "duration": 7,
    "start_time": "2022-10-30T12:01:12.839Z"
   },
   {
    "duration": 5,
    "start_time": "2022-10-30T12:01:13.819Z"
   },
   {
    "duration": 4,
    "start_time": "2022-10-30T12:01:14.400Z"
   },
   {
    "duration": 4,
    "start_time": "2022-10-30T12:01:15.715Z"
   },
   {
    "duration": 4,
    "start_time": "2022-10-30T12:01:16.970Z"
   },
   {
    "duration": 6,
    "start_time": "2022-10-30T12:01:18.500Z"
   },
   {
    "duration": 12,
    "start_time": "2022-10-30T12:01:24.549Z"
   },
   {
    "duration": 15,
    "start_time": "2022-10-30T12:01:27.382Z"
   },
   {
    "duration": 12,
    "start_time": "2022-10-30T12:01:29.099Z"
   },
   {
    "duration": 254,
    "start_time": "2022-10-30T12:01:33.835Z"
   },
   {
    "duration": 183,
    "start_time": "2022-10-30T12:01:35.656Z"
   },
   {
    "duration": 235,
    "start_time": "2022-10-30T12:01:39.372Z"
   },
   {
    "duration": 254,
    "start_time": "2022-10-30T12:01:41.646Z"
   },
   {
    "duration": 157,
    "start_time": "2022-10-30T12:01:44.141Z"
   },
   {
    "duration": 245,
    "start_time": "2022-10-30T12:01:46.150Z"
   },
   {
    "duration": 9,
    "start_time": "2022-10-30T12:01:48.371Z"
   },
   {
    "duration": 128,
    "start_time": "2022-10-30T12:01:49.524Z"
   },
   {
    "duration": 115,
    "start_time": "2022-10-30T12:01:50.841Z"
   },
   {
    "duration": 4,
    "start_time": "2022-10-30T12:01:55.947Z"
   },
   {
    "duration": 117,
    "start_time": "2022-10-30T12:01:57.541Z"
   },
   {
    "duration": 119,
    "start_time": "2022-10-30T12:01:58.607Z"
   },
   {
    "duration": 4,
    "start_time": "2022-10-30T12:02:01.160Z"
   },
   {
    "duration": 224,
    "start_time": "2022-10-30T12:08:11.569Z"
   },
   {
    "duration": 3,
    "start_time": "2022-10-30T12:08:22.896Z"
   },
   {
    "duration": 75,
    "start_time": "2022-10-30T12:08:23.788Z"
   },
   {
    "duration": 13,
    "start_time": "2022-10-30T12:08:24.812Z"
   },
   {
    "duration": 13,
    "start_time": "2022-10-30T12:08:25.308Z"
   },
   {
    "duration": 10,
    "start_time": "2022-10-30T12:08:25.763Z"
   },
   {
    "duration": 12,
    "start_time": "2022-10-30T12:08:26.287Z"
   },
   {
    "duration": 10,
    "start_time": "2022-10-30T12:08:26.732Z"
   },
   {
    "duration": 9,
    "start_time": "2022-10-30T12:08:27.170Z"
   },
   {
    "duration": 5,
    "start_time": "2022-10-30T12:08:28.916Z"
   },
   {
    "duration": 5,
    "start_time": "2022-10-30T12:08:29.348Z"
   },
   {
    "duration": 5,
    "start_time": "2022-10-30T12:08:29.763Z"
   },
   {
    "duration": 5,
    "start_time": "2022-10-30T12:08:30.593Z"
   },
   {
    "duration": 6,
    "start_time": "2022-10-30T12:08:30.936Z"
   },
   {
    "duration": 5,
    "start_time": "2022-10-30T12:08:31.277Z"
   },
   {
    "duration": 61,
    "start_time": "2022-10-30T12:08:32.632Z"
   },
   {
    "duration": 24,
    "start_time": "2022-10-30T12:08:33.396Z"
   },
   {
    "duration": 5,
    "start_time": "2022-10-30T12:08:38.482Z"
   },
   {
    "duration": 5,
    "start_time": "2022-10-30T12:08:48.163Z"
   },
   {
    "duration": 3,
    "start_time": "2022-10-30T12:08:49.093Z"
   },
   {
    "duration": 5,
    "start_time": "2022-10-30T12:08:50.055Z"
   },
   {
    "duration": 5,
    "start_time": "2022-10-30T12:08:51.003Z"
   },
   {
    "duration": 6,
    "start_time": "2022-10-30T12:08:52.371Z"
   },
   {
    "duration": 4,
    "start_time": "2022-10-30T12:10:10.166Z"
   },
   {
    "duration": 9,
    "start_time": "2022-10-30T12:10:27.473Z"
   },
   {
    "duration": 3,
    "start_time": "2022-10-30T12:10:43.369Z"
   },
   {
    "duration": 72,
    "start_time": "2022-10-30T12:10:44.611Z"
   },
   {
    "duration": 10,
    "start_time": "2022-10-30T12:10:45.902Z"
   },
   {
    "duration": 8,
    "start_time": "2022-10-30T12:10:46.643Z"
   },
   {
    "duration": 13,
    "start_time": "2022-10-30T12:10:47.312Z"
   },
   {
    "duration": 12,
    "start_time": "2022-10-30T12:10:48.166Z"
   },
   {
    "duration": 10,
    "start_time": "2022-10-30T12:10:48.724Z"
   },
   {
    "duration": 10,
    "start_time": "2022-10-30T12:10:49.242Z"
   },
   {
    "duration": 5,
    "start_time": "2022-10-30T12:10:51.403Z"
   },
   {
    "duration": 5,
    "start_time": "2022-10-30T12:10:51.856Z"
   },
   {
    "duration": 5,
    "start_time": "2022-10-30T12:10:52.244Z"
   },
   {
    "duration": 5,
    "start_time": "2022-10-30T12:10:53.485Z"
   },
   {
    "duration": 6,
    "start_time": "2022-10-30T12:10:54.038Z"
   },
   {
    "duration": 5,
    "start_time": "2022-10-30T12:10:54.526Z"
   },
   {
    "duration": 59,
    "start_time": "2022-10-30T12:10:56.607Z"
   },
   {
    "duration": 33,
    "start_time": "2022-10-30T12:10:58.265Z"
   },
   {
    "duration": 5,
    "start_time": "2022-10-30T12:11:04.030Z"
   },
   {
    "duration": 5,
    "start_time": "2022-10-30T12:11:04.597Z"
   },
   {
    "duration": 4,
    "start_time": "2022-10-30T12:11:05.189Z"
   },
   {
    "duration": 5,
    "start_time": "2022-10-30T12:11:06.152Z"
   },
   {
    "duration": 7,
    "start_time": "2022-10-30T12:11:07.934Z"
   },
   {
    "duration": 12,
    "start_time": "2022-10-30T12:11:10.407Z"
   },
   {
    "duration": 11,
    "start_time": "2022-10-30T12:11:13.368Z"
   },
   {
    "duration": 11,
    "start_time": "2022-10-30T12:11:15.021Z"
   },
   {
    "duration": 258,
    "start_time": "2022-10-30T12:11:18.101Z"
   },
   {
    "duration": 163,
    "start_time": "2022-10-30T12:11:19.793Z"
   },
   {
    "duration": 161,
    "start_time": "2022-10-30T12:11:23.055Z"
   },
   {
    "duration": 301,
    "start_time": "2022-10-30T12:11:25.275Z"
   },
   {
    "duration": 199,
    "start_time": "2022-10-30T12:11:27.477Z"
   },
   {
    "duration": 287,
    "start_time": "2022-10-30T12:11:29.710Z"
   },
   {
    "duration": 8,
    "start_time": "2022-10-30T12:11:31.513Z"
   },
   {
    "duration": 116,
    "start_time": "2022-10-30T12:11:32.445Z"
   },
   {
    "duration": 120,
    "start_time": "2022-10-30T12:11:33.426Z"
   },
   {
    "duration": 4,
    "start_time": "2022-10-30T12:11:34.720Z"
   },
   {
    "duration": 115,
    "start_time": "2022-10-30T12:11:36.010Z"
   },
   {
    "duration": 118,
    "start_time": "2022-10-30T12:11:37.030Z"
   },
   {
    "duration": 4,
    "start_time": "2022-10-30T12:11:39.181Z"
   },
   {
    "duration": 213,
    "start_time": "2022-10-30T12:11:44.294Z"
   },
   {
    "duration": 140,
    "start_time": "2022-10-30T12:11:48.300Z"
   },
   {
    "duration": 11,
    "start_time": "2022-10-30T12:11:53.996Z"
   },
   {
    "duration": 10,
    "start_time": "2022-10-30T12:11:59.780Z"
   },
   {
    "duration": 27,
    "start_time": "2022-10-30T12:12:02.228Z"
   },
   {
    "duration": 14,
    "start_time": "2022-10-30T12:12:05.279Z"
   },
   {
    "duration": 1007,
    "start_time": "2022-10-30T16:16:43.640Z"
   },
   {
    "duration": 124,
    "start_time": "2022-10-30T16:16:44.649Z"
   },
   {
    "duration": 13,
    "start_time": "2022-10-30T16:16:44.774Z"
   },
   {
    "duration": 14,
    "start_time": "2022-10-30T16:16:44.789Z"
   },
   {
    "duration": 10,
    "start_time": "2022-10-30T16:16:44.805Z"
   },
   {
    "duration": 13,
    "start_time": "2022-10-30T16:16:44.817Z"
   },
   {
    "duration": 12,
    "start_time": "2022-10-30T16:16:44.832Z"
   },
   {
    "duration": 14,
    "start_time": "2022-10-30T16:16:44.846Z"
   },
   {
    "duration": 7,
    "start_time": "2022-10-30T16:16:44.861Z"
   },
   {
    "duration": 9,
    "start_time": "2022-10-30T16:16:44.870Z"
   },
   {
    "duration": 6,
    "start_time": "2022-10-30T16:16:44.881Z"
   },
   {
    "duration": 7,
    "start_time": "2022-10-30T16:16:44.889Z"
   },
   {
    "duration": 8,
    "start_time": "2022-10-30T16:16:44.897Z"
   },
   {
    "duration": 33,
    "start_time": "2022-10-30T16:16:44.906Z"
   },
   {
    "duration": 24,
    "start_time": "2022-10-30T16:16:44.941Z"
   },
   {
    "duration": 12,
    "start_time": "2022-10-30T16:16:44.967Z"
   },
   {
    "duration": 5,
    "start_time": "2022-10-30T16:16:44.981Z"
   },
   {
    "duration": 6,
    "start_time": "2022-10-30T16:16:44.987Z"
   },
   {
    "duration": 7,
    "start_time": "2022-10-30T16:16:44.994Z"
   },
   {
    "duration": 17,
    "start_time": "2022-10-30T16:16:45.003Z"
   },
   {
    "duration": 6,
    "start_time": "2022-10-30T16:16:45.034Z"
   },
   {
    "duration": 14,
    "start_time": "2022-10-30T16:16:45.042Z"
   },
   {
    "duration": 12,
    "start_time": "2022-10-30T16:16:45.057Z"
   },
   {
    "duration": 13,
    "start_time": "2022-10-30T16:16:45.071Z"
   },
   {
    "duration": 321,
    "start_time": "2022-10-30T16:16:45.086Z"
   },
   {
    "duration": 277,
    "start_time": "2022-10-30T16:16:45.409Z"
   },
   {
    "duration": 222,
    "start_time": "2022-10-30T16:16:45.688Z"
   },
   {
    "duration": 307,
    "start_time": "2022-10-30T16:16:45.913Z"
   },
   {
    "duration": 257,
    "start_time": "2022-10-30T16:16:46.222Z"
   },
   {
    "duration": 354,
    "start_time": "2022-10-30T16:16:46.482Z"
   },
   {
    "duration": 10,
    "start_time": "2022-10-30T16:16:46.838Z"
   },
   {
    "duration": 169,
    "start_time": "2022-10-30T16:16:46.849Z"
   },
   {
    "duration": 146,
    "start_time": "2022-10-30T16:16:47.020Z"
   },
   {
    "duration": 4,
    "start_time": "2022-10-30T16:16:47.168Z"
   },
   {
    "duration": 145,
    "start_time": "2022-10-30T16:16:47.173Z"
   },
   {
    "duration": 146,
    "start_time": "2022-10-30T16:16:47.320Z"
   },
   {
    "duration": 4,
    "start_time": "2022-10-30T16:16:47.468Z"
   },
   {
    "duration": 303,
    "start_time": "2022-10-30T16:16:47.473Z"
   },
   {
    "duration": 167,
    "start_time": "2022-10-30T16:16:47.777Z"
   },
   {
    "duration": 10,
    "start_time": "2022-10-30T16:16:47.946Z"
   },
   {
    "duration": 14,
    "start_time": "2022-10-30T16:16:47.957Z"
   },
   {
    "duration": 32,
    "start_time": "2022-10-30T16:16:47.972Z"
   },
   {
    "duration": 34,
    "start_time": "2022-10-30T16:16:48.006Z"
   },
   {
    "duration": 1034,
    "start_time": "2022-10-31T15:41:43.582Z"
   },
   {
    "duration": 3,
    "start_time": "2022-10-31T15:41:47.275Z"
   },
   {
    "duration": 84,
    "start_time": "2022-10-31T15:57:52.355Z"
   },
   {
    "duration": 3,
    "start_time": "2022-10-31T15:58:01.951Z"
   },
   {
    "duration": 258,
    "start_time": "2022-10-31T15:58:02.477Z"
   },
   {
    "duration": 10,
    "start_time": "2022-10-31T15:58:03.054Z"
   },
   {
    "duration": 11,
    "start_time": "2022-10-31T15:58:03.471Z"
   },
   {
    "duration": 11,
    "start_time": "2022-10-31T15:58:04.023Z"
   },
   {
    "duration": 12,
    "start_time": "2022-10-31T15:58:04.525Z"
   },
   {
    "duration": 11,
    "start_time": "2022-10-31T15:58:05.097Z"
   },
   {
    "duration": 9,
    "start_time": "2022-10-31T15:58:05.622Z"
   },
   {
    "duration": 6,
    "start_time": "2022-10-31T15:58:07.427Z"
   },
   {
    "duration": 6,
    "start_time": "2022-10-31T15:58:07.651Z"
   },
   {
    "duration": 6,
    "start_time": "2022-10-31T15:58:07.863Z"
   },
   {
    "duration": 6,
    "start_time": "2022-10-31T15:58:08.232Z"
   },
   {
    "duration": 6,
    "start_time": "2022-10-31T15:58:08.432Z"
   },
   {
    "duration": 5,
    "start_time": "2022-10-31T15:58:08.774Z"
   },
   {
    "duration": 58,
    "start_time": "2022-10-31T15:58:09.741Z"
   },
   {
    "duration": 22,
    "start_time": "2022-10-31T15:58:10.593Z"
   },
   {
    "duration": 955,
    "start_time": "2022-11-01T14:32:17.284Z"
   },
   {
    "duration": 261,
    "start_time": "2022-11-01T14:32:18.241Z"
   },
   {
    "duration": 9,
    "start_time": "2022-11-01T14:32:18.642Z"
   },
   {
    "duration": 11,
    "start_time": "2022-11-01T14:32:19.334Z"
   },
   {
    "duration": 9,
    "start_time": "2022-11-01T14:32:19.609Z"
   },
   {
    "duration": 12,
    "start_time": "2022-11-01T14:32:19.833Z"
   },
   {
    "duration": 10,
    "start_time": "2022-11-01T14:32:20.104Z"
   },
   {
    "duration": 13,
    "start_time": "2022-11-01T14:32:20.313Z"
   },
   {
    "duration": 5,
    "start_time": "2022-11-01T14:32:21.464Z"
   },
   {
    "duration": 5,
    "start_time": "2022-11-01T14:32:21.675Z"
   },
   {
    "duration": 5,
    "start_time": "2022-11-01T14:32:21.876Z"
   },
   {
    "duration": 6,
    "start_time": "2022-11-01T14:32:22.314Z"
   },
   {
    "duration": 6,
    "start_time": "2022-11-01T14:32:22.608Z"
   },
   {
    "duration": 7,
    "start_time": "2022-11-01T14:32:23.285Z"
   },
   {
    "duration": 63,
    "start_time": "2022-11-01T14:32:23.834Z"
   },
   {
    "duration": 26,
    "start_time": "2022-11-01T14:32:24.418Z"
   },
   {
    "duration": 5,
    "start_time": "2022-11-01T14:32:26.896Z"
   },
   {
    "duration": 4,
    "start_time": "2022-11-01T14:32:29.591Z"
   },
   {
    "duration": 4,
    "start_time": "2022-11-01T14:32:30.174Z"
   },
   {
    "duration": 4,
    "start_time": "2022-11-01T14:32:32.251Z"
   },
   {
    "duration": 6,
    "start_time": "2022-11-01T14:32:33.016Z"
   },
   {
    "duration": 23,
    "start_time": "2022-11-01T14:32:34.621Z"
   },
   {
    "duration": 13,
    "start_time": "2022-11-01T14:32:39.633Z"
   },
   {
    "duration": 11,
    "start_time": "2022-11-01T14:32:44.337Z"
   },
   {
    "duration": 266,
    "start_time": "2022-11-01T14:32:46.633Z"
   },
   {
    "duration": 1020,
    "start_time": "2022-12-23T12:50:48.083Z"
   },
   {
    "duration": 270,
    "start_time": "2022-12-23T12:50:49.118Z"
   },
   {
    "duration": 11,
    "start_time": "2022-12-23T12:50:49.915Z"
   },
   {
    "duration": 11,
    "start_time": "2022-12-23T12:50:51.108Z"
   },
   {
    "duration": 11,
    "start_time": "2022-12-23T12:50:55.659Z"
   },
   {
    "duration": 17,
    "start_time": "2022-12-23T12:50:58.338Z"
   },
   {
    "duration": 9,
    "start_time": "2022-12-23T12:50:59.072Z"
   },
   {
    "duration": 13,
    "start_time": "2022-12-23T12:51:02.133Z"
   },
   {
    "duration": 7,
    "start_time": "2022-12-23T12:51:04.222Z"
   },
   {
    "duration": 5,
    "start_time": "2022-12-23T12:51:04.422Z"
   },
   {
    "duration": 5,
    "start_time": "2022-12-23T12:51:04.761Z"
   },
   {
    "duration": 7,
    "start_time": "2022-12-23T12:51:05.761Z"
   },
   {
    "duration": 6,
    "start_time": "2022-12-23T12:51:06.314Z"
   },
   {
    "duration": 6,
    "start_time": "2022-12-23T12:51:07.057Z"
   },
   {
    "duration": 61,
    "start_time": "2022-12-23T12:51:08.117Z"
   },
   {
    "duration": 37,
    "start_time": "2022-12-23T12:51:09.681Z"
   },
   {
    "duration": 6,
    "start_time": "2022-12-23T12:51:12.197Z"
   },
   {
    "duration": 5,
    "start_time": "2022-12-23T12:51:13.942Z"
   },
   {
    "duration": 5,
    "start_time": "2022-12-23T12:51:16.743Z"
   },
   {
    "duration": 5,
    "start_time": "2022-12-23T12:51:24.405Z"
   },
   {
    "duration": 8,
    "start_time": "2022-12-23T12:51:25.979Z"
   },
   {
    "duration": 12,
    "start_time": "2022-12-23T12:51:34.818Z"
   },
   {
    "duration": 13,
    "start_time": "2022-12-23T12:51:46.399Z"
   },
   {
    "duration": 18,
    "start_time": "2022-12-23T12:51:48.256Z"
   },
   {
    "duration": 1190,
    "start_time": "2023-01-06T12:16:44.720Z"
   },
   {
    "duration": 234,
    "start_time": "2023-01-06T12:16:45.912Z"
   },
   {
    "duration": 12,
    "start_time": "2023-01-06T12:16:47.029Z"
   },
   {
    "duration": 11,
    "start_time": "2023-01-06T12:16:47.213Z"
   },
   {
    "duration": 11,
    "start_time": "2023-01-06T12:16:47.658Z"
   },
   {
    "duration": 11,
    "start_time": "2023-01-06T12:16:47.884Z"
   },
   {
    "duration": 9,
    "start_time": "2023-01-06T12:16:48.092Z"
   },
   {
    "duration": 11,
    "start_time": "2023-01-06T12:16:48.436Z"
   },
   {
    "duration": 4,
    "start_time": "2023-01-06T12:16:49.271Z"
   },
   {
    "duration": 6,
    "start_time": "2023-01-06T12:16:49.478Z"
   },
   {
    "duration": 6,
    "start_time": "2023-01-06T12:16:49.664Z"
   },
   {
    "duration": 5,
    "start_time": "2023-01-06T12:16:50.081Z"
   },
   {
    "duration": 5,
    "start_time": "2023-01-06T12:16:50.296Z"
   },
   {
    "duration": 6,
    "start_time": "2023-01-06T12:16:50.530Z"
   },
   {
    "duration": 60,
    "start_time": "2023-01-06T12:16:52.508Z"
   },
   {
    "duration": 22,
    "start_time": "2023-01-06T12:16:53.045Z"
   },
   {
    "duration": 6,
    "start_time": "2023-01-06T12:16:54.719Z"
   },
   {
    "duration": 6,
    "start_time": "2023-01-06T12:17:03.692Z"
   },
   {
    "duration": 3,
    "start_time": "2023-01-06T17:56:30.414Z"
   }
  ],
  "kernelspec": {
   "display_name": "Python 3 (ipykernel)",
   "language": "python",
   "name": "python3"
  },
  "language_info": {
   "codemirror_mode": {
    "name": "ipython",
    "version": 3
   },
   "file_extension": ".py",
   "mimetype": "text/x-python",
   "name": "python",
   "nbconvert_exporter": "python",
   "pygments_lexer": "ipython3",
   "version": "3.9.13"
  },
  "toc": {
   "base_numbering": 1,
   "nav_menu": {},
   "number_sections": true,
   "sideBar": true,
   "skip_h1_title": true,
   "title_cell": "Table of Contents",
   "title_sidebar": "Contents",
   "toc_cell": false,
   "toc_position": {},
   "toc_section_display": true,
   "toc_window_display": true
  }
 },
 "nbformat": 4,
 "nbformat_minor": 2
}
