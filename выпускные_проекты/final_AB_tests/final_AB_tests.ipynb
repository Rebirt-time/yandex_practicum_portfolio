{
 "cells": [
  {
   "cell_type": "markdown",
   "metadata": {},
   "source": [
    "# A/B-тестирование"
   ]
  },
  {
   "cell_type": "markdown",
   "metadata": {},
   "source": [
    "# Описание проекта:\n",
    "\n",
    "Наша задача — провести оценку результатов A/B-теста. В нашем распоряжении есть датасет с действиями пользователей, техническое задание и несколько вспомогательных датасетов.\n",
    "\n",
    "- Оценить корректность проведения теста\n",
    "- Проанализировать результаты теста\n",
    "\n",
    "Чтобы оценить корректность проведения теста, проверим:\n",
    "\n",
    "- пересечение тестовой аудитории с конкурирующим тестом,\n",
    "- совпадение теста и маркетинговых событий, другие проблемы временных границ теста."
   ]
  },
  {
   "cell_type": "markdown",
   "metadata": {},
   "source": [
    "# Техническое задание:\n",
    "\n",
    "- Название теста: `recommender_system_test`;\n",
    "- группы: А — контрольная, B — новая платёжная воронка;\n",
    "- дата запуска: 2020-12-07;\n",
    "- дата остановки набора новых пользователей: 2020-12-21;\n",
    "- дата остановки: 2021-01-04;\n",
    "- аудитория: 15% новых пользователей из региона EU;\n",
    "- назначение теста: тестирование изменений, связанных с внедрением улучшенной рекомендательной системы;\n",
    "- ожидаемое количество участников теста: 6000.\n",
    "- ожидаемый эффект: за 14 дней с момента регистрации пользователи покажут улучшение каждой метрики не менее, чем на 10%:\n",
    "    - конверсии в просмотр карточек товаров — событие `product_page`,\n",
    "    - просмотры корзины — `product_cart`,\n",
    "    - покупки — `purchase`."
   ]
  },
  {
   "cell_type": "markdown",
   "metadata": {},
   "source": [
    "# Описание данных:\n",
    "\n",
    "**Для анализа данных нам предоставлены 4 дадасета:**\n",
    "\n",
    "1. `\"/datasets/ab_project_marketing_events.csv\"` - календарь маркетинговых событий на 2020 год.\n",
    "2. `\"/datasets/final_ab_new_users.csv\"` -  пользователи, зарегистрировавшиеся с 7 по 21 декабря 2020 года\n",
    "3. `\"/datasets/final_ab_new_events.csv\"` - действия новых пользователей в период с 7 декабря 2020 по 4 января 2021 года.\n",
    "4. `\"/datasets/final_ab_participants.csv\"` - таблица участников тестов"
   ]
  },
  {
   "cell_type": "markdown",
   "metadata": {},
   "source": [
    "# Рассмотрим структуры данных каждого файла:\n",
    "\n",
    "1. `\"ab_project_marketing_events.csv\"` — календарь маркетинговых событий на 2020 год.\n",
    "\n",
    "Структура файла:\n",
    "\n",
    "- `name` — название маркетингового события;\n",
    "- `regions` — регионы, в которых будет проводиться рекламная кампания;\n",
    "- `start_dt` — дата начала кампании;\n",
    "- `finish_dt` — дата завершения кампании.\n",
    "\n",
    "2. `\"final_ab_new_users.csv\"` — пользователи, зарегистрировавшиеся с 7 по 21 декабря 2020 года.\n",
    "\n",
    "Структура файла:\n",
    "\n",
    "- `user_id` — идентификатор пользователя;\n",
    "- `first_date` — дата регистрации;\n",
    "- `region` — регион пользователя;\n",
    "- `device` — устройство, с которого происходила регистрация.\n",
    "\n",
    "3. `\"final_ab_events.csv\"` — действия новых пользователей в период с 7 декабря 2020 по 4 января 2021 года.\n",
    "\n",
    "Структура файла:\n",
    "\n",
    "- `user_id` — идентификатор пользователя;\n",
    "- `event_dt` — дата и время покупки;\n",
    "- `event_name` — тип события;\n",
    "- `details` — дополнительные данные о событии. Например, для покупок, `purchase,` в этом поле хранится стоимость покупки в долларах.\n",
    "\n",
    "4. `\"final_ab_participants.csv\"` — таблица участников тестов.\n",
    "\n",
    "Структура файла:\n",
    "\n",
    "- `user_id` — идентификатор пользователя;\n",
    "- `ab_test` — название теста;\n",
    "- `group` — группа пользователя."
   ]
  },
  {
   "cell_type": "markdown",
   "metadata": {},
   "source": [
    "# План исследования:\n",
    "\n",
    "1. **Исследуем данные:**\n",
    "\n",
    "- Требуется ли преобразование типов?\n",
    "- Опишим природу пропущенных значений и дубликатов, если их обнаружим.**\n",
    "\n",
    "2. **Оценим корректность проведения теста. Обратим внимание на:**\n",
    "\n",
    "- Соответствие данных требованиям технического задания. Проверим корректность всех пунктов технического задания.\n",
    "- Время проведения теста. Убедимся, что оно не совпадает с маркетинговыми и другими активностями.\n",
    "- Аудиторию теста. Удостоверимся, что нет пересечений с конкурирующим тестом и нет пользователей, участвующих в двух группах теста одновременно. Проверим равномерность распределения по тестовым группам и правильность их формирования.\n",
    "\n",
    "3. **Прооведём исследовательский анализ данных:**\n",
    "   \n",
    "- Количество событий на пользователя одинаково распределены в выборках?\n",
    "- Как число событий в выборках распределено по дням?\n",
    "- Как меняется конверсия в воронке в выборках на разных этапах?\n",
    "- Какие особенности данных нужно учесть, прежде чем приступать к A/B-тестированию?\n",
    "\n",
    "4. **Оценим результаты A/B-тестирования:**\n",
    "\n",
    "- Что можно сказать про результаты A/В-тестирования?\n",
    "- Проверим статистическую разницу долей z-критерием.\n",
    "\n",
    "5. **Опишим выводы по этапу исследовательского анализа данных и по проведённой оценке результатов A/B-тестирования. Сделаем общее заключение о корректности проведения теста:**"
   ]
  },
  {
   "cell_type": "markdown",
   "metadata": {},
   "source": [
    "## Загрузим данные и подготовим их к анализу:"
   ]
  },
  {
   "cell_type": "markdown",
   "metadata": {},
   "source": [
    "### Импортируем библиотеки для работы:"
   ]
  },
  {
   "cell_type": "code",
   "execution_count": 66,
   "metadata": {},
   "outputs": [],
   "source": [
    "# импортируем библиотеки\n",
    "import pandas as pd\n",
    "import math as mth\n",
    "import numpy as np\n",
    "import seaborn as sns\n",
    "import datetime as dt\n",
    "import matplotlib.pyplot as plt\n",
    "import seaborn as sns\n",
    "from plotly import graph_objects as go\n",
    "import plotly.express as px\n",
    "import scipy.stats as stats\n",
    "from scipy import stats as st\n",
    "from pandas.plotting import register_matplotlib_converters\n",
    "register_matplotlib_converters()\n",
    "# При использованиии некоторых атрибутов могут показываться предупреждения, чтобы такого не было, уберём их\n",
    "import warnings\n",
    "warnings.filterwarnings('ignore')"
   ]
  },
  {
   "cell_type": "code",
   "execution_count": 67,
   "metadata": {},
   "outputs": [],
   "source": [
    "# Загрузим данные из тестов в переменные\n",
    "# Календарь маркетинговых событий на 2020 год\n",
    "try:ab_project_marketing_events = pd.read_csv('https://code.s3.yandex.net/datasets/ab_project_marketing_events.csv')\n",
    "except:ab_project_marketing_events = pd.read_csv('https://code.s3.yandex.net/datasets/ab_project_marketing_events.csv')\n",
    "# Пользователи, зарегистрировавшиеся с 7 по 21 декабря 2020 года.  \n",
    "try:final_ab_new_users = pd.read_csv('https://code.s3.yandex.net/datasets/final_ab_new_users.csv')\n",
    "except:final_ab_new_users = pd.read_csv('https://code.s3.yandex.net/datasets/final_ab_new_users.csv')\n",
    "# Действия новых пользователей в период с 7 декабря 2020 по 4 января 2021 года. \n",
    "try:final_ab_events = pd.read_csv('https://code.s3.yandex.net/datasets/final_ab_events.csv')\n",
    "except:final_ab_events = pd.read_csv('https://code.s3.yandex.net/datasets/final_ab_events.csv')\n",
    "# Таблица участников тестов.  \n",
    "try:final_ab_participants = pd.read_csv('https://code.s3.yandex.net/datasets/final_ab_participants.csv')\n",
    "except:final_ab_participants = pd.read_csv('https://code.s3.yandex.net/datasets/final_ab_participants.csv')"
   ]
  },
  {
   "cell_type": "markdown",
   "metadata": {},
   "source": [
    "### Выводим информацию данных датасетов на экран:"
   ]
  },
  {
   "cell_type": "code",
   "execution_count": 68,
   "metadata": {},
   "outputs": [
    {
     "data": {
      "text/html": [
       "<div>\n",
       "<style scoped>\n",
       "    .dataframe tbody tr th:only-of-type {\n",
       "        vertical-align: middle;\n",
       "    }\n",
       "\n",
       "    .dataframe tbody tr th {\n",
       "        vertical-align: top;\n",
       "    }\n",
       "\n",
       "    .dataframe thead th {\n",
       "        text-align: right;\n",
       "    }\n",
       "</style>\n",
       "<table border=\"1\" class=\"dataframe\">\n",
       "  <thead>\n",
       "    <tr style=\"text-align: right;\">\n",
       "      <th></th>\n",
       "      <th>name</th>\n",
       "      <th>regions</th>\n",
       "      <th>start_dt</th>\n",
       "      <th>finish_dt</th>\n",
       "    </tr>\n",
       "  </thead>\n",
       "  <tbody>\n",
       "    <tr>\n",
       "      <th>0</th>\n",
       "      <td>Christmas&amp;New Year Promo</td>\n",
       "      <td>EU, N.America</td>\n",
       "      <td>2020-12-25</td>\n",
       "      <td>2021-01-03</td>\n",
       "    </tr>\n",
       "    <tr>\n",
       "      <th>1</th>\n",
       "      <td>St. Valentine's Day Giveaway</td>\n",
       "      <td>EU, CIS, APAC, N.America</td>\n",
       "      <td>2020-02-14</td>\n",
       "      <td>2020-02-16</td>\n",
       "    </tr>\n",
       "    <tr>\n",
       "      <th>2</th>\n",
       "      <td>St. Patric's Day Promo</td>\n",
       "      <td>EU, N.America</td>\n",
       "      <td>2020-03-17</td>\n",
       "      <td>2020-03-19</td>\n",
       "    </tr>\n",
       "    <tr>\n",
       "      <th>3</th>\n",
       "      <td>Easter Promo</td>\n",
       "      <td>EU, CIS, APAC, N.America</td>\n",
       "      <td>2020-04-12</td>\n",
       "      <td>2020-04-19</td>\n",
       "    </tr>\n",
       "    <tr>\n",
       "      <th>4</th>\n",
       "      <td>4th of July Promo</td>\n",
       "      <td>N.America</td>\n",
       "      <td>2020-07-04</td>\n",
       "      <td>2020-07-11</td>\n",
       "    </tr>\n",
       "    <tr>\n",
       "      <th>5</th>\n",
       "      <td>Black Friday Ads Campaign</td>\n",
       "      <td>EU, CIS, APAC, N.America</td>\n",
       "      <td>2020-11-26</td>\n",
       "      <td>2020-12-01</td>\n",
       "    </tr>\n",
       "    <tr>\n",
       "      <th>6</th>\n",
       "      <td>Chinese New Year Promo</td>\n",
       "      <td>APAC</td>\n",
       "      <td>2020-01-25</td>\n",
       "      <td>2020-02-07</td>\n",
       "    </tr>\n",
       "    <tr>\n",
       "      <th>7</th>\n",
       "      <td>Labor day (May 1st) Ads Campaign</td>\n",
       "      <td>EU, CIS, APAC</td>\n",
       "      <td>2020-05-01</td>\n",
       "      <td>2020-05-03</td>\n",
       "    </tr>\n",
       "    <tr>\n",
       "      <th>8</th>\n",
       "      <td>International Women's Day Promo</td>\n",
       "      <td>EU, CIS, APAC</td>\n",
       "      <td>2020-03-08</td>\n",
       "      <td>2020-03-10</td>\n",
       "    </tr>\n",
       "    <tr>\n",
       "      <th>9</th>\n",
       "      <td>Victory Day CIS (May 9th) Event</td>\n",
       "      <td>CIS</td>\n",
       "      <td>2020-05-09</td>\n",
       "      <td>2020-05-11</td>\n",
       "    </tr>\n",
       "    <tr>\n",
       "      <th>10</th>\n",
       "      <td>CIS New Year Gift Lottery</td>\n",
       "      <td>CIS</td>\n",
       "      <td>2020-12-30</td>\n",
       "      <td>2021-01-07</td>\n",
       "    </tr>\n",
       "    <tr>\n",
       "      <th>11</th>\n",
       "      <td>Dragon Boat Festival Giveaway</td>\n",
       "      <td>APAC</td>\n",
       "      <td>2020-06-25</td>\n",
       "      <td>2020-07-01</td>\n",
       "    </tr>\n",
       "    <tr>\n",
       "      <th>12</th>\n",
       "      <td>Single's Day Gift Promo</td>\n",
       "      <td>APAC</td>\n",
       "      <td>2020-11-11</td>\n",
       "      <td>2020-11-12</td>\n",
       "    </tr>\n",
       "    <tr>\n",
       "      <th>13</th>\n",
       "      <td>Chinese Moon Festival</td>\n",
       "      <td>APAC</td>\n",
       "      <td>2020-10-01</td>\n",
       "      <td>2020-10-07</td>\n",
       "    </tr>\n",
       "  </tbody>\n",
       "</table>\n",
       "</div>"
      ],
      "text/plain": [
       "                                name                   regions    start_dt  \\\n",
       "0           Christmas&New Year Promo             EU, N.America  2020-12-25   \n",
       "1       St. Valentine's Day Giveaway  EU, CIS, APAC, N.America  2020-02-14   \n",
       "2             St. Patric's Day Promo             EU, N.America  2020-03-17   \n",
       "3                       Easter Promo  EU, CIS, APAC, N.America  2020-04-12   \n",
       "4                  4th of July Promo                 N.America  2020-07-04   \n",
       "5          Black Friday Ads Campaign  EU, CIS, APAC, N.America  2020-11-26   \n",
       "6             Chinese New Year Promo                      APAC  2020-01-25   \n",
       "7   Labor day (May 1st) Ads Campaign             EU, CIS, APAC  2020-05-01   \n",
       "8    International Women's Day Promo             EU, CIS, APAC  2020-03-08   \n",
       "9    Victory Day CIS (May 9th) Event                       CIS  2020-05-09   \n",
       "10         CIS New Year Gift Lottery                       CIS  2020-12-30   \n",
       "11     Dragon Boat Festival Giveaway                      APAC  2020-06-25   \n",
       "12           Single's Day Gift Promo                      APAC  2020-11-11   \n",
       "13             Chinese Moon Festival                      APAC  2020-10-01   \n",
       "\n",
       "     finish_dt  \n",
       "0   2021-01-03  \n",
       "1   2020-02-16  \n",
       "2   2020-03-19  \n",
       "3   2020-04-19  \n",
       "4   2020-07-11  \n",
       "5   2020-12-01  \n",
       "6   2020-02-07  \n",
       "7   2020-05-03  \n",
       "8   2020-03-10  \n",
       "9   2020-05-11  \n",
       "10  2021-01-07  \n",
       "11  2020-07-01  \n",
       "12  2020-11-12  \n",
       "13  2020-10-07  "
      ]
     },
     "metadata": {},
     "output_type": "display_data"
    }
   ],
   "source": [
    "# Покажем календарь маркетинговых событий 2020 года\n",
    "display(ab_project_marketing_events)"
   ]
  },
  {
   "cell_type": "code",
   "execution_count": 69,
   "metadata": {},
   "outputs": [
    {
     "name": "stdout",
     "output_type": "stream",
     "text": [
      "<class 'pandas.core.frame.DataFrame'>\n",
      "RangeIndex: 14 entries, 0 to 13\n",
      "Data columns (total 4 columns):\n",
      " #   Column     Non-Null Count  Dtype \n",
      "---  ------     --------------  ----- \n",
      " 0   name       14 non-null     object\n",
      " 1   regions    14 non-null     object\n",
      " 2   start_dt   14 non-null     object\n",
      " 3   finish_dt  14 non-null     object\n",
      "dtypes: object(4)\n",
      "memory usage: 576.0+ bytes\n"
     ]
    }
   ],
   "source": [
    "# посмотрим на инофрмацию\n",
    "ab_project_marketing_events.info()"
   ]
  },
  {
   "cell_type": "markdown",
   "metadata": {},
   "source": [
    "Видим, что даты указаны, как тип `object`, в дальнейшем предоработаем, переведём в `to_datetime` если будет необходимо."
   ]
  },
  {
   "cell_type": "code",
   "execution_count": 70,
   "metadata": {},
   "outputs": [
    {
     "data": {
      "text/html": [
       "<div>\n",
       "<style scoped>\n",
       "    .dataframe tbody tr th:only-of-type {\n",
       "        vertical-align: middle;\n",
       "    }\n",
       "\n",
       "    .dataframe tbody tr th {\n",
       "        vertical-align: top;\n",
       "    }\n",
       "\n",
       "    .dataframe thead th {\n",
       "        text-align: right;\n",
       "    }\n",
       "</style>\n",
       "<table border=\"1\" class=\"dataframe\">\n",
       "  <thead>\n",
       "    <tr style=\"text-align: right;\">\n",
       "      <th></th>\n",
       "      <th>user_id</th>\n",
       "      <th>first_date</th>\n",
       "      <th>region</th>\n",
       "      <th>device</th>\n",
       "    </tr>\n",
       "  </thead>\n",
       "  <tbody>\n",
       "    <tr>\n",
       "      <th>0</th>\n",
       "      <td>D72A72121175D8BE</td>\n",
       "      <td>2020-12-07</td>\n",
       "      <td>EU</td>\n",
       "      <td>PC</td>\n",
       "    </tr>\n",
       "    <tr>\n",
       "      <th>1</th>\n",
       "      <td>F1C668619DFE6E65</td>\n",
       "      <td>2020-12-07</td>\n",
       "      <td>N.America</td>\n",
       "      <td>Android</td>\n",
       "    </tr>\n",
       "    <tr>\n",
       "      <th>2</th>\n",
       "      <td>2E1BF1D4C37EA01F</td>\n",
       "      <td>2020-12-07</td>\n",
       "      <td>EU</td>\n",
       "      <td>PC</td>\n",
       "    </tr>\n",
       "    <tr>\n",
       "      <th>3</th>\n",
       "      <td>50734A22C0C63768</td>\n",
       "      <td>2020-12-07</td>\n",
       "      <td>EU</td>\n",
       "      <td>iPhone</td>\n",
       "    </tr>\n",
       "    <tr>\n",
       "      <th>4</th>\n",
       "      <td>E1BDDCE0DAFA2679</td>\n",
       "      <td>2020-12-07</td>\n",
       "      <td>N.America</td>\n",
       "      <td>iPhone</td>\n",
       "    </tr>\n",
       "    <tr>\n",
       "      <th>...</th>\n",
       "      <td>...</td>\n",
       "      <td>...</td>\n",
       "      <td>...</td>\n",
       "      <td>...</td>\n",
       "    </tr>\n",
       "    <tr>\n",
       "      <th>61728</th>\n",
       "      <td>1DB53B933257165D</td>\n",
       "      <td>2020-12-20</td>\n",
       "      <td>EU</td>\n",
       "      <td>Android</td>\n",
       "    </tr>\n",
       "    <tr>\n",
       "      <th>61729</th>\n",
       "      <td>538643EB4527ED03</td>\n",
       "      <td>2020-12-20</td>\n",
       "      <td>EU</td>\n",
       "      <td>Mac</td>\n",
       "    </tr>\n",
       "    <tr>\n",
       "      <th>61730</th>\n",
       "      <td>7ADEE837D5D8CBBD</td>\n",
       "      <td>2020-12-20</td>\n",
       "      <td>EU</td>\n",
       "      <td>PC</td>\n",
       "    </tr>\n",
       "    <tr>\n",
       "      <th>61731</th>\n",
       "      <td>1C7D23927835213F</td>\n",
       "      <td>2020-12-20</td>\n",
       "      <td>EU</td>\n",
       "      <td>iPhone</td>\n",
       "    </tr>\n",
       "    <tr>\n",
       "      <th>61732</th>\n",
       "      <td>8F04273BB2860229</td>\n",
       "      <td>2020-12-20</td>\n",
       "      <td>EU</td>\n",
       "      <td>Android</td>\n",
       "    </tr>\n",
       "  </tbody>\n",
       "</table>\n",
       "<p>61733 rows × 4 columns</p>\n",
       "</div>"
      ],
      "text/plain": [
       "                user_id  first_date     region   device\n",
       "0      D72A72121175D8BE  2020-12-07         EU       PC\n",
       "1      F1C668619DFE6E65  2020-12-07  N.America  Android\n",
       "2      2E1BF1D4C37EA01F  2020-12-07         EU       PC\n",
       "3      50734A22C0C63768  2020-12-07         EU   iPhone\n",
       "4      E1BDDCE0DAFA2679  2020-12-07  N.America   iPhone\n",
       "...                 ...         ...        ...      ...\n",
       "61728  1DB53B933257165D  2020-12-20         EU  Android\n",
       "61729  538643EB4527ED03  2020-12-20         EU      Mac\n",
       "61730  7ADEE837D5D8CBBD  2020-12-20         EU       PC\n",
       "61731  1C7D23927835213F  2020-12-20         EU   iPhone\n",
       "61732  8F04273BB2860229  2020-12-20         EU  Android\n",
       "\n",
       "[61733 rows x 4 columns]"
      ]
     },
     "metadata": {},
     "output_type": "display_data"
    }
   ],
   "source": [
    "# посмотрим на пользователей,зарегистрировавшихся с 7 по 21 декабря 2020 года. \n",
    "display(final_ab_new_users)"
   ]
  },
  {
   "cell_type": "code",
   "execution_count": 71,
   "metadata": {},
   "outputs": [
    {
     "name": "stdout",
     "output_type": "stream",
     "text": [
      "<class 'pandas.core.frame.DataFrame'>\n",
      "RangeIndex: 61733 entries, 0 to 61732\n",
      "Data columns (total 4 columns):\n",
      " #   Column      Non-Null Count  Dtype \n",
      "---  ------      --------------  ----- \n",
      " 0   user_id     61733 non-null  object\n",
      " 1   first_date  61733 non-null  object\n",
      " 2   region      61733 non-null  object\n",
      " 3   device      61733 non-null  object\n",
      "dtypes: object(4)\n",
      "memory usage: 1.9+ MB\n"
     ]
    }
   ],
   "source": [
    "# посмотрим на информацию\n",
    "final_ab_new_users.info()"
   ]
  },
  {
   "cell_type": "markdown",
   "metadata": {},
   "source": [
    "Так же указана дата регистрации, как тип `object`, в дальнейшем предоработаем, переведём в `to_datetime` если будет необходимо."
   ]
  },
  {
   "cell_type": "code",
   "execution_count": 72,
   "metadata": {},
   "outputs": [
    {
     "data": {
      "text/html": [
       "<div>\n",
       "<style scoped>\n",
       "    .dataframe tbody tr th:only-of-type {\n",
       "        vertical-align: middle;\n",
       "    }\n",
       "\n",
       "    .dataframe tbody tr th {\n",
       "        vertical-align: top;\n",
       "    }\n",
       "\n",
       "    .dataframe thead th {\n",
       "        text-align: right;\n",
       "    }\n",
       "</style>\n",
       "<table border=\"1\" class=\"dataframe\">\n",
       "  <thead>\n",
       "    <tr style=\"text-align: right;\">\n",
       "      <th></th>\n",
       "      <th>user_id</th>\n",
       "      <th>event_dt</th>\n",
       "      <th>event_name</th>\n",
       "      <th>details</th>\n",
       "    </tr>\n",
       "  </thead>\n",
       "  <tbody>\n",
       "    <tr>\n",
       "      <th>0</th>\n",
       "      <td>E1BDDCE0DAFA2679</td>\n",
       "      <td>2020-12-07 20:22:03</td>\n",
       "      <td>purchase</td>\n",
       "      <td>99.99</td>\n",
       "    </tr>\n",
       "    <tr>\n",
       "      <th>1</th>\n",
       "      <td>7B6452F081F49504</td>\n",
       "      <td>2020-12-07 09:22:53</td>\n",
       "      <td>purchase</td>\n",
       "      <td>9.99</td>\n",
       "    </tr>\n",
       "    <tr>\n",
       "      <th>2</th>\n",
       "      <td>9CD9F34546DF254C</td>\n",
       "      <td>2020-12-07 12:59:29</td>\n",
       "      <td>purchase</td>\n",
       "      <td>4.99</td>\n",
       "    </tr>\n",
       "    <tr>\n",
       "      <th>3</th>\n",
       "      <td>96F27A054B191457</td>\n",
       "      <td>2020-12-07 04:02:40</td>\n",
       "      <td>purchase</td>\n",
       "      <td>4.99</td>\n",
       "    </tr>\n",
       "    <tr>\n",
       "      <th>4</th>\n",
       "      <td>1FD7660FDF94CA1F</td>\n",
       "      <td>2020-12-07 10:15:09</td>\n",
       "      <td>purchase</td>\n",
       "      <td>4.99</td>\n",
       "    </tr>\n",
       "    <tr>\n",
       "      <th>...</th>\n",
       "      <td>...</td>\n",
       "      <td>...</td>\n",
       "      <td>...</td>\n",
       "      <td>...</td>\n",
       "    </tr>\n",
       "    <tr>\n",
       "      <th>440312</th>\n",
       "      <td>245E85F65C358E08</td>\n",
       "      <td>2020-12-30 19:35:55</td>\n",
       "      <td>login</td>\n",
       "      <td>NaN</td>\n",
       "    </tr>\n",
       "    <tr>\n",
       "      <th>440313</th>\n",
       "      <td>9385A108F5A0A7A7</td>\n",
       "      <td>2020-12-30 10:54:15</td>\n",
       "      <td>login</td>\n",
       "      <td>NaN</td>\n",
       "    </tr>\n",
       "    <tr>\n",
       "      <th>440314</th>\n",
       "      <td>DB650B7559AC6EAC</td>\n",
       "      <td>2020-12-30 10:59:09</td>\n",
       "      <td>login</td>\n",
       "      <td>NaN</td>\n",
       "    </tr>\n",
       "    <tr>\n",
       "      <th>440315</th>\n",
       "      <td>F80C9BDDEA02E53C</td>\n",
       "      <td>2020-12-30 09:53:39</td>\n",
       "      <td>login</td>\n",
       "      <td>NaN</td>\n",
       "    </tr>\n",
       "    <tr>\n",
       "      <th>440316</th>\n",
       "      <td>7AEC61159B672CC5</td>\n",
       "      <td>2020-12-30 11:36:13</td>\n",
       "      <td>login</td>\n",
       "      <td>NaN</td>\n",
       "    </tr>\n",
       "  </tbody>\n",
       "</table>\n",
       "<p>440317 rows × 4 columns</p>\n",
       "</div>"
      ],
      "text/plain": [
       "                 user_id             event_dt event_name  details\n",
       "0       E1BDDCE0DAFA2679  2020-12-07 20:22:03   purchase    99.99\n",
       "1       7B6452F081F49504  2020-12-07 09:22:53   purchase     9.99\n",
       "2       9CD9F34546DF254C  2020-12-07 12:59:29   purchase     4.99\n",
       "3       96F27A054B191457  2020-12-07 04:02:40   purchase     4.99\n",
       "4       1FD7660FDF94CA1F  2020-12-07 10:15:09   purchase     4.99\n",
       "...                  ...                  ...        ...      ...\n",
       "440312  245E85F65C358E08  2020-12-30 19:35:55      login      NaN\n",
       "440313  9385A108F5A0A7A7  2020-12-30 10:54:15      login      NaN\n",
       "440314  DB650B7559AC6EAC  2020-12-30 10:59:09      login      NaN\n",
       "440315  F80C9BDDEA02E53C  2020-12-30 09:53:39      login      NaN\n",
       "440316  7AEC61159B672CC5  2020-12-30 11:36:13      login      NaN\n",
       "\n",
       "[440317 rows x 4 columns]"
      ]
     },
     "metadata": {},
     "output_type": "display_data"
    }
   ],
   "source": [
    "# действия новых пользователей в период с 7 декабря 2020 по 4 января 2021 года.  \n",
    "display(final_ab_events)"
   ]
  },
  {
   "cell_type": "markdown",
   "metadata": {},
   "source": [
    "Видим, что есть пропуски, в дальнейшем предоработаем их,посмотрим более детально."
   ]
  },
  {
   "cell_type": "code",
   "execution_count": 73,
   "metadata": {},
   "outputs": [
    {
     "name": "stdout",
     "output_type": "stream",
     "text": [
      "<class 'pandas.core.frame.DataFrame'>\n",
      "RangeIndex: 440317 entries, 0 to 440316\n",
      "Data columns (total 4 columns):\n",
      " #   Column      Non-Null Count   Dtype  \n",
      "---  ------      --------------   -----  \n",
      " 0   user_id     440317 non-null  object \n",
      " 1   event_dt    440317 non-null  object \n",
      " 2   event_name  440317 non-null  object \n",
      " 3   details     62740 non-null   float64\n",
      "dtypes: float64(1), object(3)\n",
      "memory usage: 13.4+ MB\n"
     ]
    }
   ],
   "source": [
    "# посмотрим на информацию\n",
    "final_ab_events.info()"
   ]
  },
  {
   "cell_type": "markdown",
   "metadata": {},
   "source": [
    "Дату и время покупки указана, как `object` необходимо поменять на `to_datetime`"
   ]
  },
  {
   "cell_type": "code",
   "execution_count": 74,
   "metadata": {},
   "outputs": [
    {
     "data": {
      "text/html": [
       "<div>\n",
       "<style scoped>\n",
       "    .dataframe tbody tr th:only-of-type {\n",
       "        vertical-align: middle;\n",
       "    }\n",
       "\n",
       "    .dataframe tbody tr th {\n",
       "        vertical-align: top;\n",
       "    }\n",
       "\n",
       "    .dataframe thead th {\n",
       "        text-align: right;\n",
       "    }\n",
       "</style>\n",
       "<table border=\"1\" class=\"dataframe\">\n",
       "  <thead>\n",
       "    <tr style=\"text-align: right;\">\n",
       "      <th></th>\n",
       "      <th>user_id</th>\n",
       "      <th>group</th>\n",
       "      <th>ab_test</th>\n",
       "    </tr>\n",
       "  </thead>\n",
       "  <tbody>\n",
       "    <tr>\n",
       "      <th>0</th>\n",
       "      <td>D1ABA3E2887B6A73</td>\n",
       "      <td>A</td>\n",
       "      <td>recommender_system_test</td>\n",
       "    </tr>\n",
       "    <tr>\n",
       "      <th>1</th>\n",
       "      <td>A7A3664BD6242119</td>\n",
       "      <td>A</td>\n",
       "      <td>recommender_system_test</td>\n",
       "    </tr>\n",
       "    <tr>\n",
       "      <th>2</th>\n",
       "      <td>DABC14FDDFADD29E</td>\n",
       "      <td>A</td>\n",
       "      <td>recommender_system_test</td>\n",
       "    </tr>\n",
       "    <tr>\n",
       "      <th>3</th>\n",
       "      <td>04988C5DF189632E</td>\n",
       "      <td>A</td>\n",
       "      <td>recommender_system_test</td>\n",
       "    </tr>\n",
       "    <tr>\n",
       "      <th>4</th>\n",
       "      <td>482F14783456D21B</td>\n",
       "      <td>B</td>\n",
       "      <td>recommender_system_test</td>\n",
       "    </tr>\n",
       "    <tr>\n",
       "      <th>...</th>\n",
       "      <td>...</td>\n",
       "      <td>...</td>\n",
       "      <td>...</td>\n",
       "    </tr>\n",
       "    <tr>\n",
       "      <th>18263</th>\n",
       "      <td>1D302F8688B91781</td>\n",
       "      <td>B</td>\n",
       "      <td>interface_eu_test</td>\n",
       "    </tr>\n",
       "    <tr>\n",
       "      <th>18264</th>\n",
       "      <td>3DE51B726983B657</td>\n",
       "      <td>A</td>\n",
       "      <td>interface_eu_test</td>\n",
       "    </tr>\n",
       "    <tr>\n",
       "      <th>18265</th>\n",
       "      <td>F501F79D332BE86C</td>\n",
       "      <td>A</td>\n",
       "      <td>interface_eu_test</td>\n",
       "    </tr>\n",
       "    <tr>\n",
       "      <th>18266</th>\n",
       "      <td>63FBE257B05F2245</td>\n",
       "      <td>A</td>\n",
       "      <td>interface_eu_test</td>\n",
       "    </tr>\n",
       "    <tr>\n",
       "      <th>18267</th>\n",
       "      <td>79F9ABFB029CF724</td>\n",
       "      <td>B</td>\n",
       "      <td>interface_eu_test</td>\n",
       "    </tr>\n",
       "  </tbody>\n",
       "</table>\n",
       "<p>18268 rows × 3 columns</p>\n",
       "</div>"
      ],
      "text/plain": [
       "                user_id group                  ab_test\n",
       "0      D1ABA3E2887B6A73     A  recommender_system_test\n",
       "1      A7A3664BD6242119     A  recommender_system_test\n",
       "2      DABC14FDDFADD29E     A  recommender_system_test\n",
       "3      04988C5DF189632E     A  recommender_system_test\n",
       "4      482F14783456D21B     B  recommender_system_test\n",
       "...                 ...   ...                      ...\n",
       "18263  1D302F8688B91781     B        interface_eu_test\n",
       "18264  3DE51B726983B657     A        interface_eu_test\n",
       "18265  F501F79D332BE86C     A        interface_eu_test\n",
       "18266  63FBE257B05F2245     A        interface_eu_test\n",
       "18267  79F9ABFB029CF724     B        interface_eu_test\n",
       "\n",
       "[18268 rows x 3 columns]"
      ]
     },
     "metadata": {},
     "output_type": "display_data"
    }
   ],
   "source": [
    "# таблица участников теста\n",
    "display(final_ab_participants)"
   ]
  },
  {
   "cell_type": "code",
   "execution_count": 75,
   "metadata": {},
   "outputs": [
    {
     "name": "stdout",
     "output_type": "stream",
     "text": [
      "<class 'pandas.core.frame.DataFrame'>\n",
      "RangeIndex: 18268 entries, 0 to 18267\n",
      "Data columns (total 3 columns):\n",
      " #   Column   Non-Null Count  Dtype \n",
      "---  ------   --------------  ----- \n",
      " 0   user_id  18268 non-null  object\n",
      " 1   group    18268 non-null  object\n",
      " 2   ab_test  18268 non-null  object\n",
      "dtypes: object(3)\n",
      "memory usage: 428.3+ KB\n"
     ]
    }
   ],
   "source": [
    "# посмотрим на информацию\n",
    "final_ab_participants.info()"
   ]
  },
  {
   "cell_type": "markdown",
   "metadata": {},
   "source": [
    "**Вывод:** \n",
    "Данные открываются корректно. Есть пропуски, посмотрим на них детально на следующем этапе и предоработаем. Так же необходимо изменить тип данных `object` на `to_datetime` где это необходимо."
   ]
  },
  {
   "cell_type": "markdown",
   "metadata": {},
   "source": [
    "### Выполним предоработку данных:"
   ]
  },
  {
   "cell_type": "markdown",
   "metadata": {},
   "source": [
    "#### Предоработаем и проверим данные на дубликаты:"
   ]
  },
  {
   "cell_type": "code",
   "execution_count": 76,
   "metadata": {},
   "outputs": [
    {
     "name": "stdout",
     "output_type": "stream",
     "text": [
      "Наличие дубликатов: 0\n"
     ]
    }
   ],
   "source": [
    "# Календарь маркетинговых событий на 2020 год\n",
    "print('Наличие дубликатов:' ,ab_project_marketing_events.duplicated().sum())"
   ]
  },
  {
   "cell_type": "code",
   "execution_count": 77,
   "metadata": {},
   "outputs": [
    {
     "name": "stdout",
     "output_type": "stream",
     "text": [
      "Наличие дубликатов: 0\n"
     ]
    }
   ],
   "source": [
    "# Пользователи, зарегистрировавшиеся с 7 по 21 декабря 2020 года\n",
    "print('Наличие дубликатов:', final_ab_new_users.duplicated().sum())"
   ]
  },
  {
   "cell_type": "code",
   "execution_count": 78,
   "metadata": {},
   "outputs": [
    {
     "name": "stdout",
     "output_type": "stream",
     "text": [
      "Наличие дубликатов: 0\n"
     ]
    }
   ],
   "source": [
    "# Действия новых пользователей в период с 7 декабря 2020 по 4 января 2021 года.\n",
    "print('Наличие дубликатов:', final_ab_events.duplicated().sum())"
   ]
  },
  {
   "cell_type": "code",
   "execution_count": 79,
   "metadata": {},
   "outputs": [
    {
     "name": "stdout",
     "output_type": "stream",
     "text": [
      "Наличие дубликатов: 0\n"
     ]
    }
   ],
   "source": [
    "# Таблица участников тестов\n",
    "print('Наличие дубликатов:', final_ab_participants.duplicated().sum())"
   ]
  },
  {
   "cell_type": "markdown",
   "metadata": {},
   "source": [
    "Проверили на наличие дубликатов, дубликатов нет."
   ]
  },
  {
   "cell_type": "markdown",
   "metadata": {},
   "source": [
    "#### Предоработаем и проверим данные на пропуски:"
   ]
  },
  {
   "cell_type": "code",
   "execution_count": 80,
   "metadata": {},
   "outputs": [
    {
     "name": "stdout",
     "output_type": "stream",
     "text": [
      "Наличие пропусков: name         0\n",
      "regions      0\n",
      "start_dt     0\n",
      "finish_dt    0\n",
      "dtype: int64\n"
     ]
    }
   ],
   "source": [
    "# Календарь маркетинговых событий на 2020 год\n",
    "print('Наличие пропусков:' ,ab_project_marketing_events.isna().sum())"
   ]
  },
  {
   "cell_type": "code",
   "execution_count": 81,
   "metadata": {},
   "outputs": [
    {
     "name": "stdout",
     "output_type": "stream",
     "text": [
      "Наличие пропусков: user_id       0\n",
      "first_date    0\n",
      "region        0\n",
      "device        0\n",
      "dtype: int64\n"
     ]
    }
   ],
   "source": [
    "# Пользователи, зарегистрировавшиеся с 7 по 21 декабря 2020 года\n",
    "print('Наличие пропусков:', final_ab_new_users.isna().sum())"
   ]
  },
  {
   "cell_type": "code",
   "execution_count": 82,
   "metadata": {},
   "outputs": [
    {
     "name": "stdout",
     "output_type": "stream",
     "text": [
      "Наличие пропусков: user_id            0\n",
      "event_dt           0\n",
      "event_name         0\n",
      "details       377577\n",
      "dtype: int64\n"
     ]
    }
   ],
   "source": [
    "# Действия новых пользователей в период с 7 декабря 2020 по 4 января 2021 года.\n",
    "print('Наличие пропусков:', final_ab_events.isna().sum())"
   ]
  },
  {
   "cell_type": "markdown",
   "metadata": {},
   "source": [
    "Обнаружили пропуски в колонке `details` их количество составляет 377577.\n",
    "\n",
    "Посмотрим, что  с ними можно сделать."
   ]
  },
  {
   "cell_type": "code",
   "execution_count": 83,
   "metadata": {},
   "outputs": [
    {
     "data": {
      "text/html": [
       "<div>\n",
       "<style scoped>\n",
       "    .dataframe tbody tr th:only-of-type {\n",
       "        vertical-align: middle;\n",
       "    }\n",
       "\n",
       "    .dataframe tbody tr th {\n",
       "        vertical-align: top;\n",
       "    }\n",
       "\n",
       "    .dataframe thead th {\n",
       "        text-align: right;\n",
       "    }\n",
       "</style>\n",
       "<table border=\"1\" class=\"dataframe\">\n",
       "  <thead>\n",
       "    <tr style=\"text-align: right;\">\n",
       "      <th></th>\n",
       "      <th>user_id</th>\n",
       "      <th>event_dt</th>\n",
       "      <th>event_name</th>\n",
       "      <th>details</th>\n",
       "    </tr>\n",
       "  </thead>\n",
       "  <tbody>\n",
       "    <tr>\n",
       "      <th>440312</th>\n",
       "      <td>245E85F65C358E08</td>\n",
       "      <td>2020-12-30 19:35:55</td>\n",
       "      <td>login</td>\n",
       "      <td>NaN</td>\n",
       "    </tr>\n",
       "    <tr>\n",
       "      <th>440313</th>\n",
       "      <td>9385A108F5A0A7A7</td>\n",
       "      <td>2020-12-30 10:54:15</td>\n",
       "      <td>login</td>\n",
       "      <td>NaN</td>\n",
       "    </tr>\n",
       "    <tr>\n",
       "      <th>440314</th>\n",
       "      <td>DB650B7559AC6EAC</td>\n",
       "      <td>2020-12-30 10:59:09</td>\n",
       "      <td>login</td>\n",
       "      <td>NaN</td>\n",
       "    </tr>\n",
       "    <tr>\n",
       "      <th>440315</th>\n",
       "      <td>F80C9BDDEA02E53C</td>\n",
       "      <td>2020-12-30 09:53:39</td>\n",
       "      <td>login</td>\n",
       "      <td>NaN</td>\n",
       "    </tr>\n",
       "    <tr>\n",
       "      <th>440316</th>\n",
       "      <td>7AEC61159B672CC5</td>\n",
       "      <td>2020-12-30 11:36:13</td>\n",
       "      <td>login</td>\n",
       "      <td>NaN</td>\n",
       "    </tr>\n",
       "  </tbody>\n",
       "</table>\n",
       "</div>"
      ],
      "text/plain": [
       "                 user_id             event_dt event_name  details\n",
       "440312  245E85F65C358E08  2020-12-30 19:35:55      login      NaN\n",
       "440313  9385A108F5A0A7A7  2020-12-30 10:54:15      login      NaN\n",
       "440314  DB650B7559AC6EAC  2020-12-30 10:59:09      login      NaN\n",
       "440315  F80C9BDDEA02E53C  2020-12-30 09:53:39      login      NaN\n",
       "440316  7AEC61159B672CC5  2020-12-30 11:36:13      login      NaN"
      ]
     },
     "metadata": {},
     "output_type": "display_data"
    }
   ],
   "source": [
    "# выведем последние 10 строк, покажем пропуски\n",
    "display(final_ab_events.tail())"
   ]
  },
  {
   "cell_type": "code",
   "execution_count": 84,
   "metadata": {},
   "outputs": [
    {
     "data": {
      "text/plain": [
       "4.99      46362\n",
       "9.99       9530\n",
       "99.99      5631\n",
       "499.99     1217\n",
       "Name: details, dtype: int64"
      ]
     },
     "execution_count": 84,
     "metadata": {},
     "output_type": "execute_result"
    }
   ],
   "source": [
    "# посмотрим на уникальные значения этой колонки \n",
    "# дополнительные данные о событии.# Например, для покупок, purchase, в этом поле хранится стоимость покупки в долларах. \n",
    "final_ab_events['details'].value_counts()"
   ]
  },
  {
   "cell_type": "code",
   "execution_count": 85,
   "metadata": {},
   "outputs": [
    {
     "data": {
      "text/plain": [
       "login           189552\n",
       "product_page    125563\n",
       "purchase         62740\n",
       "product_cart     62462\n",
       "Name: event_name, dtype: int64"
      ]
     },
     "execution_count": 85,
     "metadata": {},
     "output_type": "execute_result"
    }
   ],
   "source": [
    "# Посмотрим на события, которые есть  в данных\n",
    "final_ab_events['event_name'].value_counts()"
   ]
  },
  {
   "cell_type": "code",
   "execution_count": 86,
   "metadata": {},
   "outputs": [
    {
     "name": "stdout",
     "output_type": "stream",
     "text": [
      "Пропуски при событии purchase с details: 0 \n",
      "Пропуски при исключениии purchase: 1\n"
     ]
    }
   ],
   "source": [
    "# Посмотрим как события purchase пересекаются с details, и узнаем есть  ли пропуски\n",
    "print('Пропуски при событии purchase с details: %d ' % round(final_ab_events[final_ab_events['event_name'] == 'purchase']['details'].isna().mean()))\n",
    "# Посмотрим остальные пересечение событий с details, кроме purchase и узнаем есть  ли пропуски \n",
    "print('Пропуски при исключениии purchase: %d' % round(final_ab_events[~(final_ab_events['event_name'] == 'purchase')]['details'].isna().mean()))"
   ]
  },
  {
   "cell_type": "code",
   "execution_count": 87,
   "metadata": {},
   "outputs": [
    {
     "name": "stdout",
     "output_type": "stream",
     "text": [
      "Наличие пропусков: user_id            0\n",
      "event_dt           0\n",
      "event_name         0\n",
      "details       377577\n",
      "dtype: int64\n"
     ]
    }
   ],
   "source": [
    "# Проверим, убрались ли пропуски\n",
    "print('Наличие пропусков:', final_ab_events.isna().sum())"
   ]
  },
  {
   "cell_type": "markdown",
   "metadata": {},
   "source": [
    "Пропуски обработали, теперь  пропусков нет."
   ]
  },
  {
   "cell_type": "code",
   "execution_count": 88,
   "metadata": {},
   "outputs": [
    {
     "name": "stdout",
     "output_type": "stream",
     "text": [
      "Наличие пропусков: user_id    0\n",
      "group      0\n",
      "ab_test    0\n",
      "dtype: int64\n"
     ]
    }
   ],
   "source": [
    "# Таблица участников тестов\n",
    "print('Наличие пропусков:', final_ab_participants.isna().sum())"
   ]
  },
  {
   "cell_type": "markdown",
   "metadata": {},
   "source": [
    "**Вывод:** Обработали пропуски во всех датасетах. В `final_ab_events['details']`, заменили пропущенные значения, логически обосновали и подтвердили, что пересечения c событиями `purchase` нет, поставили заглушки `-1`,так как отрицательной цены не наблюдается в колонке."
   ]
  },
  {
   "cell_type": "markdown",
   "metadata": {},
   "source": [
    "#### Изменим тип данных, где это необходимо."
   ]
  },
  {
   "cell_type": "code",
   "execution_count": 89,
   "metadata": {},
   "outputs": [
    {
     "data": {
      "text/html": [
       "<div>\n",
       "<style scoped>\n",
       "    .dataframe tbody tr th:only-of-type {\n",
       "        vertical-align: middle;\n",
       "    }\n",
       "\n",
       "    .dataframe tbody tr th {\n",
       "        vertical-align: top;\n",
       "    }\n",
       "\n",
       "    .dataframe thead th {\n",
       "        text-align: right;\n",
       "    }\n",
       "</style>\n",
       "<table border=\"1\" class=\"dataframe\">\n",
       "  <thead>\n",
       "    <tr style=\"text-align: right;\">\n",
       "      <th></th>\n",
       "      <th>name</th>\n",
       "      <th>regions</th>\n",
       "      <th>start_dt</th>\n",
       "      <th>finish_dt</th>\n",
       "    </tr>\n",
       "  </thead>\n",
       "  <tbody>\n",
       "    <tr>\n",
       "      <th>0</th>\n",
       "      <td>Christmas&amp;New Year Promo</td>\n",
       "      <td>EU, N.America</td>\n",
       "      <td>2020-12-25</td>\n",
       "      <td>2021-01-03</td>\n",
       "    </tr>\n",
       "  </tbody>\n",
       "</table>\n",
       "</div>"
      ],
      "text/plain": [
       "                       name        regions    start_dt   finish_dt\n",
       "0  Christmas&New Year Promo  EU, N.America  2020-12-25  2021-01-03"
      ]
     },
     "metadata": {},
     "output_type": "display_data"
    },
    {
     "name": "stdout",
     "output_type": "stream",
     "text": [
      "<class 'pandas.core.frame.DataFrame'>\n",
      "RangeIndex: 14 entries, 0 to 13\n",
      "Data columns (total 4 columns):\n",
      " #   Column     Non-Null Count  Dtype         \n",
      "---  ------     --------------  -----         \n",
      " 0   name       14 non-null     object        \n",
      " 1   regions    14 non-null     object        \n",
      " 2   start_dt   14 non-null     datetime64[ns]\n",
      " 3   finish_dt  14 non-null     datetime64[ns]\n",
      "dtypes: datetime64[ns](2), object(2)\n",
      "memory usage: 576.0+ bytes\n"
     ]
    }
   ],
   "source": [
    "# Покажем календарь маркетинговых событий 2020 года\n",
    "display(ab_project_marketing_events.head(1))\n",
    "# Изменим тип данных дату начала компании\n",
    "ab_project_marketing_events['start_dt'] = pd.to_datetime(ab_project_marketing_events['start_dt'])\n",
    "# Изменим тип данных дату завершения компании\n",
    "ab_project_marketing_events['finish_dt'] = pd.to_datetime(ab_project_marketing_events['finish_dt'])\n",
    "# Проверим, что получилось\n",
    "ab_project_marketing_events.info()"
   ]
  },
  {
   "cell_type": "code",
   "execution_count": 90,
   "metadata": {},
   "outputs": [
    {
     "data": {
      "text/html": [
       "<div>\n",
       "<style scoped>\n",
       "    .dataframe tbody tr th:only-of-type {\n",
       "        vertical-align: middle;\n",
       "    }\n",
       "\n",
       "    .dataframe tbody tr th {\n",
       "        vertical-align: top;\n",
       "    }\n",
       "\n",
       "    .dataframe thead th {\n",
       "        text-align: right;\n",
       "    }\n",
       "</style>\n",
       "<table border=\"1\" class=\"dataframe\">\n",
       "  <thead>\n",
       "    <tr style=\"text-align: right;\">\n",
       "      <th></th>\n",
       "      <th>user_id</th>\n",
       "      <th>first_date</th>\n",
       "      <th>region</th>\n",
       "      <th>device</th>\n",
       "    </tr>\n",
       "  </thead>\n",
       "  <tbody>\n",
       "    <tr>\n",
       "      <th>0</th>\n",
       "      <td>D72A72121175D8BE</td>\n",
       "      <td>2020-12-07</td>\n",
       "      <td>EU</td>\n",
       "      <td>PC</td>\n",
       "    </tr>\n",
       "  </tbody>\n",
       "</table>\n",
       "</div>"
      ],
      "text/plain": [
       "            user_id  first_date region device\n",
       "0  D72A72121175D8BE  2020-12-07     EU     PC"
      ]
     },
     "metadata": {},
     "output_type": "display_data"
    },
    {
     "name": "stdout",
     "output_type": "stream",
     "text": [
      "<class 'pandas.core.frame.DataFrame'>\n",
      "RangeIndex: 61733 entries, 0 to 61732\n",
      "Data columns (total 4 columns):\n",
      " #   Column      Non-Null Count  Dtype         \n",
      "---  ------      --------------  -----         \n",
      " 0   user_id     61733 non-null  object        \n",
      " 1   first_date  61733 non-null  datetime64[ns]\n",
      " 2   region      61733 non-null  object        \n",
      " 3   device      61733 non-null  object        \n",
      "dtypes: datetime64[ns](1), object(3)\n",
      "memory usage: 1.9+ MB\n"
     ]
    }
   ],
   "source": [
    "# посмотрим на пользователей,зарегистрировавшихся с 7 по 21 декабря 2020 года. \n",
    "display(final_ab_new_users.head(1))\n",
    "# дату регистрации изменим тип данных\n",
    "final_ab_new_users['first_date'] = pd.to_datetime(final_ab_new_users['first_date'])\n",
    "# посмотрим, что  получилось\n",
    "final_ab_new_users.info()"
   ]
  },
  {
   "cell_type": "code",
   "execution_count": 91,
   "metadata": {},
   "outputs": [
    {
     "data": {
      "text/html": [
       "<div>\n",
       "<style scoped>\n",
       "    .dataframe tbody tr th:only-of-type {\n",
       "        vertical-align: middle;\n",
       "    }\n",
       "\n",
       "    .dataframe tbody tr th {\n",
       "        vertical-align: top;\n",
       "    }\n",
       "\n",
       "    .dataframe thead th {\n",
       "        text-align: right;\n",
       "    }\n",
       "</style>\n",
       "<table border=\"1\" class=\"dataframe\">\n",
       "  <thead>\n",
       "    <tr style=\"text-align: right;\">\n",
       "      <th></th>\n",
       "      <th>user_id</th>\n",
       "      <th>event_dt</th>\n",
       "      <th>event_name</th>\n",
       "      <th>details</th>\n",
       "    </tr>\n",
       "  </thead>\n",
       "  <tbody>\n",
       "    <tr>\n",
       "      <th>0</th>\n",
       "      <td>E1BDDCE0DAFA2679</td>\n",
       "      <td>2020-12-07 20:22:03</td>\n",
       "      <td>purchase</td>\n",
       "      <td>99.99</td>\n",
       "    </tr>\n",
       "  </tbody>\n",
       "</table>\n",
       "</div>"
      ],
      "text/plain": [
       "            user_id             event_dt event_name  details\n",
       "0  E1BDDCE0DAFA2679  2020-12-07 20:22:03   purchase    99.99"
      ]
     },
     "metadata": {},
     "output_type": "display_data"
    },
    {
     "name": "stdout",
     "output_type": "stream",
     "text": [
      "<class 'pandas.core.frame.DataFrame'>\n",
      "RangeIndex: 440317 entries, 0 to 440316\n",
      "Data columns (total 4 columns):\n",
      " #   Column      Non-Null Count   Dtype         \n",
      "---  ------      --------------   -----         \n",
      " 0   user_id     440317 non-null  object        \n",
      " 1   event_dt    440317 non-null  datetime64[ns]\n",
      " 2   event_name  440317 non-null  object        \n",
      " 3   details     62740 non-null   float64       \n",
      "dtypes: datetime64[ns](1), float64(1), object(2)\n",
      "memory usage: 13.4+ MB\n"
     ]
    }
   ],
   "source": [
    "# действия новых пользователей в период с 7 декабря 2020 по 4 января 2021 года.  \n",
    "display(final_ab_events.head(1))\n",
    "# изменим тип данных, дату и время покупки \n",
    "final_ab_events['event_dt'] = pd.to_datetime(final_ab_events['event_dt'])\n",
    "# проверим результат\n",
    "final_ab_events.info()"
   ]
  },
  {
   "cell_type": "markdown",
   "metadata": {},
   "source": [
    "**Вывод:** \n",
    "1. Произвели проверку дубликатов, дубликатов не было обнаружено\n",
    "2. Произвели проверку пропусков, обнаружили пропуски в колонке `final_ab_events['details']`, провеирили пересечение с purchase, выяснили, что его нет, поставили заглушки `-1`,так как отрицательной цены не наблюдается в колонке.Остальных пропусков не было обнаружено.\n",
    "3. Произвели замену типа данных с `object` на `to_datetime` в сетах :\n",
    "- ab_project_marketing_events колонки `['start_dt']` \n",
    "- ab_project_marketing_events колонки `['finish_dt']`\n",
    "\n",
    "- final_ab_new_users колонки `['first_date']`\n",
    "- final_ab_events колонки `['event_dt']`"
   ]
  },
  {
   "cell_type": "markdown",
   "metadata": {},
   "source": [
    "## Оценим корректность проведения теста. Обратим внимание на:"
   ]
  },
  {
   "cell_type": "markdown",
   "metadata": {},
   "source": [
    "### Соответствие данных требованиям технического задания. Проверим корректность всех пунктов технического задания."
   ]
  },
  {
   "cell_type": "markdown",
   "metadata": {},
   "source": [
    "#### Название теста: recommender_system_test;"
   ]
  },
  {
   "cell_type": "markdown",
   "metadata": {},
   "source": [
    "Посмотрим не пересекаются ли пользователи из двух групп в тестах"
   ]
  },
  {
   "cell_type": "code",
   "execution_count": 92,
   "metadata": {},
   "outputs": [
    {
     "data": {
      "text/plain": [
       "18268"
      ]
     },
     "execution_count": 92,
     "metadata": {},
     "output_type": "execute_result"
    }
   ],
   "source": [
    "# Посмотрим на общее количество пользщователей \n",
    "final_ab_participants['user_id'].count()"
   ]
  },
  {
   "cell_type": "code",
   "execution_count": 93,
   "metadata": {},
   "outputs": [],
   "source": [
    "# найдём пользывателей в каждой группе \n",
    "# rs_test - recommender_system_test (rs_test)\n",
    "# ieu_test - interface_eu_test (ieu_test) \n",
    "rs_test = final_ab_participants[final_ab_participants['ab_test'] == 'recommender_system_test']\n",
    "ieu_test = final_ab_participants[final_ab_participants['ab_test'] == 'interface_eu_test']"
   ]
  },
  {
   "cell_type": "code",
   "execution_count": 94,
   "metadata": {},
   "outputs": [
    {
     "name": "stdout",
     "output_type": "stream",
     "text": [
      "Общее количество пользователей: 5099\n",
      "Количество пересекающихся пользователей: 1602\n"
     ]
    }
   ],
   "source": [
    "# Определим общее количество пользователей в двух группах пользователей    \n",
    "all_user = set(rs_test['user_id']).difference(ieu_test['user_id'])\n",
    "print('Общее количество пользователей:',len(all_user))\n",
    "# Определим количество пользователей, которые пересекаются в группах\n",
    "intersection_user = np.intersect1d(rs_test['user_id'], ieu_test['user_id'] )\n",
    "print('Количество пересекающихся пользователей:',intersection_user.shape[0])"
   ]
  },
  {
   "cell_type": "code",
   "execution_count": 95,
   "metadata": {},
   "outputs": [],
   "source": [
    "# Удалим данных пользователей из таблицы:\n",
    "final_ab_participants = final_ab_participants[~final_ab_participants['user_id'].isin(intersection_user)]"
   ]
  },
  {
   "cell_type": "code",
   "execution_count": 96,
   "metadata": {},
   "outputs": [
    {
     "data": {
      "text/html": [
       "<div>\n",
       "<style scoped>\n",
       "    .dataframe tbody tr th:only-of-type {\n",
       "        vertical-align: middle;\n",
       "    }\n",
       "\n",
       "    .dataframe tbody tr th {\n",
       "        vertical-align: top;\n",
       "    }\n",
       "\n",
       "    .dataframe thead th {\n",
       "        text-align: right;\n",
       "    }\n",
       "</style>\n",
       "<table border=\"1\" class=\"dataframe\">\n",
       "  <thead>\n",
       "    <tr style=\"text-align: right;\">\n",
       "      <th></th>\n",
       "      <th>user_id</th>\n",
       "      <th>group</th>\n",
       "      <th>ab_test</th>\n",
       "    </tr>\n",
       "  </thead>\n",
       "  <tbody>\n",
       "    <tr>\n",
       "      <th>0</th>\n",
       "      <td>D1ABA3E2887B6A73</td>\n",
       "      <td>A</td>\n",
       "      <td>recommender_system_test</td>\n",
       "    </tr>\n",
       "    <tr>\n",
       "      <th>1</th>\n",
       "      <td>A7A3664BD6242119</td>\n",
       "      <td>A</td>\n",
       "      <td>recommender_system_test</td>\n",
       "    </tr>\n",
       "    <tr>\n",
       "      <th>4</th>\n",
       "      <td>482F14783456D21B</td>\n",
       "      <td>B</td>\n",
       "      <td>recommender_system_test</td>\n",
       "    </tr>\n",
       "    <tr>\n",
       "      <th>5</th>\n",
       "      <td>4FF2998A348C484F</td>\n",
       "      <td>A</td>\n",
       "      <td>recommender_system_test</td>\n",
       "    </tr>\n",
       "    <tr>\n",
       "      <th>6</th>\n",
       "      <td>7473E0943673C09E</td>\n",
       "      <td>A</td>\n",
       "      <td>recommender_system_test</td>\n",
       "    </tr>\n",
       "  </tbody>\n",
       "</table>\n",
       "</div>"
      ],
      "text/plain": [
       "            user_id group                  ab_test\n",
       "0  D1ABA3E2887B6A73     A  recommender_system_test\n",
       "1  A7A3664BD6242119     A  recommender_system_test\n",
       "4  482F14783456D21B     B  recommender_system_test\n",
       "5  4FF2998A348C484F     A  recommender_system_test\n",
       "6  7473E0943673C09E     A  recommender_system_test"
      ]
     },
     "metadata": {},
     "output_type": "display_data"
    }
   ],
   "source": [
    "# готовый тест с пользователями для работы\n",
    "rs_test = final_ab_participants[final_ab_participants['ab_test'] == 'recommender_system_test']\n",
    "# выведем на экран\n",
    "display(rs_test.head(5))"
   ]
  },
  {
   "cell_type": "markdown",
   "metadata": {},
   "source": [
    "После удаления пересекающихся пользователей, мы получили чистые данные таблицы rs_test - recommender_system_test "
   ]
  },
  {
   "cell_type": "code",
   "execution_count": 97,
   "metadata": {},
   "outputs": [
    {
     "name": "stdout",
     "output_type": "stream",
     "text": [
      "Колиичество пользователей после очистки: 5099\n"
     ]
    }
   ],
   "source": [
    "# посмотрим на количество пользователей  в группе после очистки от пересечения \n",
    "print('Колиичество пользователей после очистки:',rs_test['user_id'].nunique())"
   ]
  },
  {
   "cell_type": "markdown",
   "metadata": {},
   "source": [
    "Количество участников теста составило 5099 человек. По техническому заданию у нас должно быть 6000 человек, есть несоответсвие.Которое нужно будет обсудить с отделом. Учитывая такую  разницу, результаты теста могут могут повлиять на результат."
   ]
  },
  {
   "cell_type": "markdown",
   "metadata": {},
   "source": [
    "Проверим в разбивке на группы по количеству пользователей "
   ]
  },
  {
   "cell_type": "code",
   "execution_count": 98,
   "metadata": {},
   "outputs": [
    {
     "name": "stdout",
     "output_type": "stream",
     "text": [
      "Пользователи группы A: 2903\n",
      "Пользователи группы B: 2196\n"
     ]
    }
   ],
   "source": [
    "print('Пользователи группы A:', rs_test['user_id'][rs_test['group'] == 'A'].count())\n",
    "print('Пользователи группы B:', rs_test['user_id'][rs_test['group'] == 'B'].count())"
   ]
  },
  {
   "cell_type": "markdown",
   "metadata": {},
   "source": [
    "Пользователей группы 'A' больше пользователей группы 'B', распределение неравномерное, может повлиять на результаты теста."
   ]
  },
  {
   "cell_type": "markdown",
   "metadata": {},
   "source": [
    "#### Найдём пользователей, пренадлежащих к EU региону "
   ]
  },
  {
   "cell_type": "code",
   "execution_count": 99,
   "metadata": {},
   "outputs": [
    {
     "data": {
      "text/html": [
       "<div>\n",
       "<style scoped>\n",
       "    .dataframe tbody tr th:only-of-type {\n",
       "        vertical-align: middle;\n",
       "    }\n",
       "\n",
       "    .dataframe tbody tr th {\n",
       "        vertical-align: top;\n",
       "    }\n",
       "\n",
       "    .dataframe thead th {\n",
       "        text-align: right;\n",
       "    }\n",
       "</style>\n",
       "<table border=\"1\" class=\"dataframe\">\n",
       "  <thead>\n",
       "    <tr style=\"text-align: right;\">\n",
       "      <th></th>\n",
       "      <th>user_id</th>\n",
       "      <th>group</th>\n",
       "      <th>ab_test</th>\n",
       "      <th>first_date</th>\n",
       "      <th>region</th>\n",
       "      <th>device</th>\n",
       "    </tr>\n",
       "  </thead>\n",
       "  <tbody>\n",
       "    <tr>\n",
       "      <th>0</th>\n",
       "      <td>D1ABA3E2887B6A73</td>\n",
       "      <td>A</td>\n",
       "      <td>recommender_system_test</td>\n",
       "      <td>2020-12-07</td>\n",
       "      <td>EU</td>\n",
       "      <td>PC</td>\n",
       "    </tr>\n",
       "    <tr>\n",
       "      <th>1</th>\n",
       "      <td>A7A3664BD6242119</td>\n",
       "      <td>A</td>\n",
       "      <td>recommender_system_test</td>\n",
       "      <td>2020-12-20</td>\n",
       "      <td>EU</td>\n",
       "      <td>iPhone</td>\n",
       "    </tr>\n",
       "    <tr>\n",
       "      <th>2</th>\n",
       "      <td>482F14783456D21B</td>\n",
       "      <td>B</td>\n",
       "      <td>recommender_system_test</td>\n",
       "      <td>2020-12-14</td>\n",
       "      <td>EU</td>\n",
       "      <td>PC</td>\n",
       "    </tr>\n",
       "    <tr>\n",
       "      <th>3</th>\n",
       "      <td>4FF2998A348C484F</td>\n",
       "      <td>A</td>\n",
       "      <td>recommender_system_test</td>\n",
       "      <td>2020-12-20</td>\n",
       "      <td>EU</td>\n",
       "      <td>Mac</td>\n",
       "    </tr>\n",
       "    <tr>\n",
       "      <th>4</th>\n",
       "      <td>7473E0943673C09E</td>\n",
       "      <td>A</td>\n",
       "      <td>recommender_system_test</td>\n",
       "      <td>2020-12-16</td>\n",
       "      <td>EU</td>\n",
       "      <td>iPhone</td>\n",
       "    </tr>\n",
       "  </tbody>\n",
       "</table>\n",
       "</div>"
      ],
      "text/plain": [
       "            user_id group                  ab_test first_date region  device\n",
       "0  D1ABA3E2887B6A73     A  recommender_system_test 2020-12-07     EU      PC\n",
       "1  A7A3664BD6242119     A  recommender_system_test 2020-12-20     EU  iPhone\n",
       "2  482F14783456D21B     B  recommender_system_test 2020-12-14     EU      PC\n",
       "3  4FF2998A348C484F     A  recommender_system_test 2020-12-20     EU     Mac\n",
       "4  7473E0943673C09E     A  recommender_system_test 2020-12-16     EU  iPhone"
      ]
     },
     "execution_count": 99,
     "metadata": {},
     "output_type": "execute_result"
    }
   ],
   "source": [
    "# Возьмём участников нашего теста rs_test, объединим их с участниками final_ab_new_users\n",
    "# таким образом узнаем какие вообще регионы учавствуют в тесте\n",
    "rs_test_region = rs_test.merge(final_ab_new_users, how = 'left', on = 'user_id')\n",
    "# выведем на экран\n",
    "rs_test_region.head(5)"
   ]
  },
  {
   "cell_type": "code",
   "execution_count": 100,
   "metadata": {},
   "outputs": [
    {
     "data": {
      "text/html": [
       "<div>\n",
       "<style scoped>\n",
       "    .dataframe tbody tr th:only-of-type {\n",
       "        vertical-align: middle;\n",
       "    }\n",
       "\n",
       "    .dataframe tbody tr th {\n",
       "        vertical-align: top;\n",
       "    }\n",
       "\n",
       "    .dataframe thead th {\n",
       "        text-align: right;\n",
       "    }\n",
       "</style>\n",
       "<table border=\"1\" class=\"dataframe\">\n",
       "  <thead>\n",
       "    <tr style=\"text-align: right;\">\n",
       "      <th></th>\n",
       "      <th>region</th>\n",
       "      <th>count</th>\n",
       "    </tr>\n",
       "  </thead>\n",
       "  <tbody>\n",
       "    <tr>\n",
       "      <th>0</th>\n",
       "      <td>EU</td>\n",
       "      <td>4749</td>\n",
       "    </tr>\n",
       "    <tr>\n",
       "      <th>1</th>\n",
       "      <td>N.America</td>\n",
       "      <td>223</td>\n",
       "    </tr>\n",
       "    <tr>\n",
       "      <th>2</th>\n",
       "      <td>APAC</td>\n",
       "      <td>72</td>\n",
       "    </tr>\n",
       "    <tr>\n",
       "      <th>3</th>\n",
       "      <td>CIS</td>\n",
       "      <td>55</td>\n",
       "    </tr>\n",
       "  </tbody>\n",
       "</table>\n",
       "</div>"
      ],
      "text/plain": [
       "      region  count\n",
       "0         EU   4749\n",
       "1  N.America    223\n",
       "2       APAC     72\n",
       "3        CIS     55"
      ]
     },
     "metadata": {},
     "output_type": "display_data"
    }
   ],
   "source": [
    "# отразим пользователей на графике из разных регионов\n",
    "region_user = rs_test_region.groupby('region')['user_id'].agg({'count'}).sort_values(by='count', ascending=False).reset_index()\n",
    "# выведем на экран\n",
    "display(region_user)"
   ]
  },
  {
   "cell_type": "code",
   "execution_count": 101,
   "metadata": {},
   "outputs": [
    {
     "data": {
      "application/vnd.plotly.v1+json": {
       "config": {
        "plotlyServerURL": "https://plot.ly"
       },
       "data": [
        {
         "alignmentgroup": "True",
         "hovertemplate": "Регион=%{x}<br>Количество пользователей=%{text}<extra></extra>",
         "legendgroup": "EU",
         "marker": {
          "color": "#636efa",
          "pattern": {
           "shape": ""
          }
         },
         "name": "EU",
         "offsetgroup": "EU",
         "orientation": "v",
         "showlegend": true,
         "text": [
          4749
         ],
         "textposition": "auto",
         "type": "bar",
         "x": [
          "EU"
         ],
         "xaxis": "x",
         "y": [
          4749
         ],
         "yaxis": "y"
        },
        {
         "alignmentgroup": "True",
         "hovertemplate": "Регион=%{x}<br>Количество пользователей=%{text}<extra></extra>",
         "legendgroup": "N.America",
         "marker": {
          "color": "#EF553B",
          "pattern": {
           "shape": ""
          }
         },
         "name": "N.America",
         "offsetgroup": "N.America",
         "orientation": "v",
         "showlegend": true,
         "text": [
          223
         ],
         "textposition": "auto",
         "type": "bar",
         "x": [
          "N.America"
         ],
         "xaxis": "x",
         "y": [
          223
         ],
         "yaxis": "y"
        },
        {
         "alignmentgroup": "True",
         "hovertemplate": "Регион=%{x}<br>Количество пользователей=%{text}<extra></extra>",
         "legendgroup": "APAC",
         "marker": {
          "color": "#00cc96",
          "pattern": {
           "shape": ""
          }
         },
         "name": "APAC",
         "offsetgroup": "APAC",
         "orientation": "v",
         "showlegend": true,
         "text": [
          72
         ],
         "textposition": "auto",
         "type": "bar",
         "x": [
          "APAC"
         ],
         "xaxis": "x",
         "y": [
          72
         ],
         "yaxis": "y"
        },
        {
         "alignmentgroup": "True",
         "hovertemplate": "Регион=%{x}<br>Количество пользователей=%{text}<extra></extra>",
         "legendgroup": "CIS",
         "marker": {
          "color": "#ab63fa",
          "pattern": {
           "shape": ""
          }
         },
         "name": "CIS",
         "offsetgroup": "CIS",
         "orientation": "v",
         "showlegend": true,
         "text": [
          55
         ],
         "textposition": "auto",
         "type": "bar",
         "x": [
          "CIS"
         ],
         "xaxis": "x",
         "y": [
          55
         ],
         "yaxis": "y"
        }
       ],
       "layout": {
        "barmode": "relative",
        "legend": {
         "title": {
          "text": "Регион"
         },
         "tracegroupgap": 0
        },
        "template": {
         "data": {
          "bar": [
           {
            "error_x": {
             "color": "#2a3f5f"
            },
            "error_y": {
             "color": "#2a3f5f"
            },
            "marker": {
             "line": {
              "color": "#E5ECF6",
              "width": 0.5
             },
             "pattern": {
              "fillmode": "overlay",
              "size": 10,
              "solidity": 0.2
             }
            },
            "type": "bar"
           }
          ],
          "barpolar": [
           {
            "marker": {
             "line": {
              "color": "#E5ECF6",
              "width": 0.5
             },
             "pattern": {
              "fillmode": "overlay",
              "size": 10,
              "solidity": 0.2
             }
            },
            "type": "barpolar"
           }
          ],
          "carpet": [
           {
            "aaxis": {
             "endlinecolor": "#2a3f5f",
             "gridcolor": "white",
             "linecolor": "white",
             "minorgridcolor": "white",
             "startlinecolor": "#2a3f5f"
            },
            "baxis": {
             "endlinecolor": "#2a3f5f",
             "gridcolor": "white",
             "linecolor": "white",
             "minorgridcolor": "white",
             "startlinecolor": "#2a3f5f"
            },
            "type": "carpet"
           }
          ],
          "choropleth": [
           {
            "colorbar": {
             "outlinewidth": 0,
             "ticks": ""
            },
            "type": "choropleth"
           }
          ],
          "contour": [
           {
            "colorbar": {
             "outlinewidth": 0,
             "ticks": ""
            },
            "colorscale": [
             [
              0,
              "#0d0887"
             ],
             [
              0.1111111111111111,
              "#46039f"
             ],
             [
              0.2222222222222222,
              "#7201a8"
             ],
             [
              0.3333333333333333,
              "#9c179e"
             ],
             [
              0.4444444444444444,
              "#bd3786"
             ],
             [
              0.5555555555555556,
              "#d8576b"
             ],
             [
              0.6666666666666666,
              "#ed7953"
             ],
             [
              0.7777777777777778,
              "#fb9f3a"
             ],
             [
              0.8888888888888888,
              "#fdca26"
             ],
             [
              1,
              "#f0f921"
             ]
            ],
            "type": "contour"
           }
          ],
          "contourcarpet": [
           {
            "colorbar": {
             "outlinewidth": 0,
             "ticks": ""
            },
            "type": "contourcarpet"
           }
          ],
          "heatmap": [
           {
            "colorbar": {
             "outlinewidth": 0,
             "ticks": ""
            },
            "colorscale": [
             [
              0,
              "#0d0887"
             ],
             [
              0.1111111111111111,
              "#46039f"
             ],
             [
              0.2222222222222222,
              "#7201a8"
             ],
             [
              0.3333333333333333,
              "#9c179e"
             ],
             [
              0.4444444444444444,
              "#bd3786"
             ],
             [
              0.5555555555555556,
              "#d8576b"
             ],
             [
              0.6666666666666666,
              "#ed7953"
             ],
             [
              0.7777777777777778,
              "#fb9f3a"
             ],
             [
              0.8888888888888888,
              "#fdca26"
             ],
             [
              1,
              "#f0f921"
             ]
            ],
            "type": "heatmap"
           }
          ],
          "heatmapgl": [
           {
            "colorbar": {
             "outlinewidth": 0,
             "ticks": ""
            },
            "colorscale": [
             [
              0,
              "#0d0887"
             ],
             [
              0.1111111111111111,
              "#46039f"
             ],
             [
              0.2222222222222222,
              "#7201a8"
             ],
             [
              0.3333333333333333,
              "#9c179e"
             ],
             [
              0.4444444444444444,
              "#bd3786"
             ],
             [
              0.5555555555555556,
              "#d8576b"
             ],
             [
              0.6666666666666666,
              "#ed7953"
             ],
             [
              0.7777777777777778,
              "#fb9f3a"
             ],
             [
              0.8888888888888888,
              "#fdca26"
             ],
             [
              1,
              "#f0f921"
             ]
            ],
            "type": "heatmapgl"
           }
          ],
          "histogram": [
           {
            "marker": {
             "pattern": {
              "fillmode": "overlay",
              "size": 10,
              "solidity": 0.2
             }
            },
            "type": "histogram"
           }
          ],
          "histogram2d": [
           {
            "colorbar": {
             "outlinewidth": 0,
             "ticks": ""
            },
            "colorscale": [
             [
              0,
              "#0d0887"
             ],
             [
              0.1111111111111111,
              "#46039f"
             ],
             [
              0.2222222222222222,
              "#7201a8"
             ],
             [
              0.3333333333333333,
              "#9c179e"
             ],
             [
              0.4444444444444444,
              "#bd3786"
             ],
             [
              0.5555555555555556,
              "#d8576b"
             ],
             [
              0.6666666666666666,
              "#ed7953"
             ],
             [
              0.7777777777777778,
              "#fb9f3a"
             ],
             [
              0.8888888888888888,
              "#fdca26"
             ],
             [
              1,
              "#f0f921"
             ]
            ],
            "type": "histogram2d"
           }
          ],
          "histogram2dcontour": [
           {
            "colorbar": {
             "outlinewidth": 0,
             "ticks": ""
            },
            "colorscale": [
             [
              0,
              "#0d0887"
             ],
             [
              0.1111111111111111,
              "#46039f"
             ],
             [
              0.2222222222222222,
              "#7201a8"
             ],
             [
              0.3333333333333333,
              "#9c179e"
             ],
             [
              0.4444444444444444,
              "#bd3786"
             ],
             [
              0.5555555555555556,
              "#d8576b"
             ],
             [
              0.6666666666666666,
              "#ed7953"
             ],
             [
              0.7777777777777778,
              "#fb9f3a"
             ],
             [
              0.8888888888888888,
              "#fdca26"
             ],
             [
              1,
              "#f0f921"
             ]
            ],
            "type": "histogram2dcontour"
           }
          ],
          "mesh3d": [
           {
            "colorbar": {
             "outlinewidth": 0,
             "ticks": ""
            },
            "type": "mesh3d"
           }
          ],
          "parcoords": [
           {
            "line": {
             "colorbar": {
              "outlinewidth": 0,
              "ticks": ""
             }
            },
            "type": "parcoords"
           }
          ],
          "pie": [
           {
            "automargin": true,
            "type": "pie"
           }
          ],
          "scatter": [
           {
            "marker": {
             "colorbar": {
              "outlinewidth": 0,
              "ticks": ""
             }
            },
            "type": "scatter"
           }
          ],
          "scatter3d": [
           {
            "line": {
             "colorbar": {
              "outlinewidth": 0,
              "ticks": ""
             }
            },
            "marker": {
             "colorbar": {
              "outlinewidth": 0,
              "ticks": ""
             }
            },
            "type": "scatter3d"
           }
          ],
          "scattercarpet": [
           {
            "marker": {
             "colorbar": {
              "outlinewidth": 0,
              "ticks": ""
             }
            },
            "type": "scattercarpet"
           }
          ],
          "scattergeo": [
           {
            "marker": {
             "colorbar": {
              "outlinewidth": 0,
              "ticks": ""
             }
            },
            "type": "scattergeo"
           }
          ],
          "scattergl": [
           {
            "marker": {
             "colorbar": {
              "outlinewidth": 0,
              "ticks": ""
             }
            },
            "type": "scattergl"
           }
          ],
          "scattermapbox": [
           {
            "marker": {
             "colorbar": {
              "outlinewidth": 0,
              "ticks": ""
             }
            },
            "type": "scattermapbox"
           }
          ],
          "scatterpolar": [
           {
            "marker": {
             "colorbar": {
              "outlinewidth": 0,
              "ticks": ""
             }
            },
            "type": "scatterpolar"
           }
          ],
          "scatterpolargl": [
           {
            "marker": {
             "colorbar": {
              "outlinewidth": 0,
              "ticks": ""
             }
            },
            "type": "scatterpolargl"
           }
          ],
          "scatterternary": [
           {
            "marker": {
             "colorbar": {
              "outlinewidth": 0,
              "ticks": ""
             }
            },
            "type": "scatterternary"
           }
          ],
          "surface": [
           {
            "colorbar": {
             "outlinewidth": 0,
             "ticks": ""
            },
            "colorscale": [
             [
              0,
              "#0d0887"
             ],
             [
              0.1111111111111111,
              "#46039f"
             ],
             [
              0.2222222222222222,
              "#7201a8"
             ],
             [
              0.3333333333333333,
              "#9c179e"
             ],
             [
              0.4444444444444444,
              "#bd3786"
             ],
             [
              0.5555555555555556,
              "#d8576b"
             ],
             [
              0.6666666666666666,
              "#ed7953"
             ],
             [
              0.7777777777777778,
              "#fb9f3a"
             ],
             [
              0.8888888888888888,
              "#fdca26"
             ],
             [
              1,
              "#f0f921"
             ]
            ],
            "type": "surface"
           }
          ],
          "table": [
           {
            "cells": {
             "fill": {
              "color": "#EBF0F8"
             },
             "line": {
              "color": "white"
             }
            },
            "header": {
             "fill": {
              "color": "#C8D4E3"
             },
             "line": {
              "color": "white"
             }
            },
            "type": "table"
           }
          ]
         },
         "layout": {
          "annotationdefaults": {
           "arrowcolor": "#2a3f5f",
           "arrowhead": 0,
           "arrowwidth": 1
          },
          "autotypenumbers": "strict",
          "coloraxis": {
           "colorbar": {
            "outlinewidth": 0,
            "ticks": ""
           }
          },
          "colorscale": {
           "diverging": [
            [
             0,
             "#8e0152"
            ],
            [
             0.1,
             "#c51b7d"
            ],
            [
             0.2,
             "#de77ae"
            ],
            [
             0.3,
             "#f1b6da"
            ],
            [
             0.4,
             "#fde0ef"
            ],
            [
             0.5,
             "#f7f7f7"
            ],
            [
             0.6,
             "#e6f5d0"
            ],
            [
             0.7,
             "#b8e186"
            ],
            [
             0.8,
             "#7fbc41"
            ],
            [
             0.9,
             "#4d9221"
            ],
            [
             1,
             "#276419"
            ]
           ],
           "sequential": [
            [
             0,
             "#0d0887"
            ],
            [
             0.1111111111111111,
             "#46039f"
            ],
            [
             0.2222222222222222,
             "#7201a8"
            ],
            [
             0.3333333333333333,
             "#9c179e"
            ],
            [
             0.4444444444444444,
             "#bd3786"
            ],
            [
             0.5555555555555556,
             "#d8576b"
            ],
            [
             0.6666666666666666,
             "#ed7953"
            ],
            [
             0.7777777777777778,
             "#fb9f3a"
            ],
            [
             0.8888888888888888,
             "#fdca26"
            ],
            [
             1,
             "#f0f921"
            ]
           ],
           "sequentialminus": [
            [
             0,
             "#0d0887"
            ],
            [
             0.1111111111111111,
             "#46039f"
            ],
            [
             0.2222222222222222,
             "#7201a8"
            ],
            [
             0.3333333333333333,
             "#9c179e"
            ],
            [
             0.4444444444444444,
             "#bd3786"
            ],
            [
             0.5555555555555556,
             "#d8576b"
            ],
            [
             0.6666666666666666,
             "#ed7953"
            ],
            [
             0.7777777777777778,
             "#fb9f3a"
            ],
            [
             0.8888888888888888,
             "#fdca26"
            ],
            [
             1,
             "#f0f921"
            ]
           ]
          },
          "colorway": [
           "#636efa",
           "#EF553B",
           "#00cc96",
           "#ab63fa",
           "#FFA15A",
           "#19d3f3",
           "#FF6692",
           "#B6E880",
           "#FF97FF",
           "#FECB52"
          ],
          "font": {
           "color": "#2a3f5f"
          },
          "geo": {
           "bgcolor": "white",
           "lakecolor": "white",
           "landcolor": "#E5ECF6",
           "showlakes": true,
           "showland": true,
           "subunitcolor": "white"
          },
          "hoverlabel": {
           "align": "left"
          },
          "hovermode": "closest",
          "mapbox": {
           "style": "light"
          },
          "paper_bgcolor": "white",
          "plot_bgcolor": "#E5ECF6",
          "polar": {
           "angularaxis": {
            "gridcolor": "white",
            "linecolor": "white",
            "ticks": ""
           },
           "bgcolor": "#E5ECF6",
           "radialaxis": {
            "gridcolor": "white",
            "linecolor": "white",
            "ticks": ""
           }
          },
          "scene": {
           "xaxis": {
            "backgroundcolor": "#E5ECF6",
            "gridcolor": "white",
            "gridwidth": 2,
            "linecolor": "white",
            "showbackground": true,
            "ticks": "",
            "zerolinecolor": "white"
           },
           "yaxis": {
            "backgroundcolor": "#E5ECF6",
            "gridcolor": "white",
            "gridwidth": 2,
            "linecolor": "white",
            "showbackground": true,
            "ticks": "",
            "zerolinecolor": "white"
           },
           "zaxis": {
            "backgroundcolor": "#E5ECF6",
            "gridcolor": "white",
            "gridwidth": 2,
            "linecolor": "white",
            "showbackground": true,
            "ticks": "",
            "zerolinecolor": "white"
           }
          },
          "shapedefaults": {
           "line": {
            "color": "#2a3f5f"
           }
          },
          "ternary": {
           "aaxis": {
            "gridcolor": "white",
            "linecolor": "white",
            "ticks": ""
           },
           "baxis": {
            "gridcolor": "white",
            "linecolor": "white",
            "ticks": ""
           },
           "bgcolor": "#E5ECF6",
           "caxis": {
            "gridcolor": "white",
            "linecolor": "white",
            "ticks": ""
           }
          },
          "title": {
           "x": 0.05
          },
          "xaxis": {
           "automargin": true,
           "gridcolor": "white",
           "linecolor": "white",
           "ticks": "",
           "title": {
            "standoff": 15
           },
           "zerolinecolor": "white",
           "zerolinewidth": 2
          },
          "yaxis": {
           "automargin": true,
           "gridcolor": "white",
           "linecolor": "white",
           "ticks": "",
           "title": {
            "standoff": 15
           },
           "zerolinecolor": "white",
           "zerolinewidth": 2
          }
         }
        },
        "title": {
         "text": "Количество пользователей по регионам"
        },
        "xaxis": {
         "anchor": "y",
         "categoryarray": [
          "EU",
          "N.America",
          "APAC",
          "CIS"
         ],
         "categoryorder": "array",
         "domain": [
          0,
          1
         ],
         "title": {
          "text": "Регион"
         }
        },
        "yaxis": {
         "anchor": "x",
         "domain": [
          0,
          1
         ],
         "title": {
          "text": "Количество пользователей"
         }
        }
       }
      },
      "text/html": [
       "<div>                            <div id=\"5081d2b4-f6ea-4deb-a172-8a6640c12e4b\" class=\"plotly-graph-div\" style=\"height:525px; width:100%;\"></div>            <script type=\"text/javascript\">                require([\"plotly\"], function(Plotly) {                    window.PLOTLYENV=window.PLOTLYENV || {};                                    if (document.getElementById(\"5081d2b4-f6ea-4deb-a172-8a6640c12e4b\")) {                    Plotly.newPlot(                        \"5081d2b4-f6ea-4deb-a172-8a6640c12e4b\",                        [{\"alignmentgroup\":\"True\",\"hovertemplate\":\"\\u0420\\u0435\\u0433\\u0438\\u043e\\u043d=%{x}<br>\\u041a\\u043e\\u043b\\u0438\\u0447\\u0435\\u0441\\u0442\\u0432\\u043e \\u043f\\u043e\\u043b\\u044c\\u0437\\u043e\\u0432\\u0430\\u0442\\u0435\\u043b\\u0435\\u0439=%{text}<extra></extra>\",\"legendgroup\":\"EU\",\"marker\":{\"color\":\"#636efa\",\"pattern\":{\"shape\":\"\"}},\"name\":\"EU\",\"offsetgroup\":\"EU\",\"orientation\":\"v\",\"showlegend\":true,\"text\":[4749.0],\"textposition\":\"auto\",\"x\":[\"EU\"],\"xaxis\":\"x\",\"y\":[4749],\"yaxis\":\"y\",\"type\":\"bar\"},{\"alignmentgroup\":\"True\",\"hovertemplate\":\"\\u0420\\u0435\\u0433\\u0438\\u043e\\u043d=%{x}<br>\\u041a\\u043e\\u043b\\u0438\\u0447\\u0435\\u0441\\u0442\\u0432\\u043e \\u043f\\u043e\\u043b\\u044c\\u0437\\u043e\\u0432\\u0430\\u0442\\u0435\\u043b\\u0435\\u0439=%{text}<extra></extra>\",\"legendgroup\":\"N.America\",\"marker\":{\"color\":\"#EF553B\",\"pattern\":{\"shape\":\"\"}},\"name\":\"N.America\",\"offsetgroup\":\"N.America\",\"orientation\":\"v\",\"showlegend\":true,\"text\":[223.0],\"textposition\":\"auto\",\"x\":[\"N.America\"],\"xaxis\":\"x\",\"y\":[223],\"yaxis\":\"y\",\"type\":\"bar\"},{\"alignmentgroup\":\"True\",\"hovertemplate\":\"\\u0420\\u0435\\u0433\\u0438\\u043e\\u043d=%{x}<br>\\u041a\\u043e\\u043b\\u0438\\u0447\\u0435\\u0441\\u0442\\u0432\\u043e \\u043f\\u043e\\u043b\\u044c\\u0437\\u043e\\u0432\\u0430\\u0442\\u0435\\u043b\\u0435\\u0439=%{text}<extra></extra>\",\"legendgroup\":\"APAC\",\"marker\":{\"color\":\"#00cc96\",\"pattern\":{\"shape\":\"\"}},\"name\":\"APAC\",\"offsetgroup\":\"APAC\",\"orientation\":\"v\",\"showlegend\":true,\"text\":[72.0],\"textposition\":\"auto\",\"x\":[\"APAC\"],\"xaxis\":\"x\",\"y\":[72],\"yaxis\":\"y\",\"type\":\"bar\"},{\"alignmentgroup\":\"True\",\"hovertemplate\":\"\\u0420\\u0435\\u0433\\u0438\\u043e\\u043d=%{x}<br>\\u041a\\u043e\\u043b\\u0438\\u0447\\u0435\\u0441\\u0442\\u0432\\u043e \\u043f\\u043e\\u043b\\u044c\\u0437\\u043e\\u0432\\u0430\\u0442\\u0435\\u043b\\u0435\\u0439=%{text}<extra></extra>\",\"legendgroup\":\"CIS\",\"marker\":{\"color\":\"#ab63fa\",\"pattern\":{\"shape\":\"\"}},\"name\":\"CIS\",\"offsetgroup\":\"CIS\",\"orientation\":\"v\",\"showlegend\":true,\"text\":[55.0],\"textposition\":\"auto\",\"x\":[\"CIS\"],\"xaxis\":\"x\",\"y\":[55],\"yaxis\":\"y\",\"type\":\"bar\"}],                        {\"template\":{\"data\":{\"bar\":[{\"error_x\":{\"color\":\"#2a3f5f\"},\"error_y\":{\"color\":\"#2a3f5f\"},\"marker\":{\"line\":{\"color\":\"#E5ECF6\",\"width\":0.5},\"pattern\":{\"fillmode\":\"overlay\",\"size\":10,\"solidity\":0.2}},\"type\":\"bar\"}],\"barpolar\":[{\"marker\":{\"line\":{\"color\":\"#E5ECF6\",\"width\":0.5},\"pattern\":{\"fillmode\":\"overlay\",\"size\":10,\"solidity\":0.2}},\"type\":\"barpolar\"}],\"carpet\":[{\"aaxis\":{\"endlinecolor\":\"#2a3f5f\",\"gridcolor\":\"white\",\"linecolor\":\"white\",\"minorgridcolor\":\"white\",\"startlinecolor\":\"#2a3f5f\"},\"baxis\":{\"endlinecolor\":\"#2a3f5f\",\"gridcolor\":\"white\",\"linecolor\":\"white\",\"minorgridcolor\":\"white\",\"startlinecolor\":\"#2a3f5f\"},\"type\":\"carpet\"}],\"choropleth\":[{\"colorbar\":{\"outlinewidth\":0,\"ticks\":\"\"},\"type\":\"choropleth\"}],\"contour\":[{\"colorbar\":{\"outlinewidth\":0,\"ticks\":\"\"},\"colorscale\":[[0.0,\"#0d0887\"],[0.1111111111111111,\"#46039f\"],[0.2222222222222222,\"#7201a8\"],[0.3333333333333333,\"#9c179e\"],[0.4444444444444444,\"#bd3786\"],[0.5555555555555556,\"#d8576b\"],[0.6666666666666666,\"#ed7953\"],[0.7777777777777778,\"#fb9f3a\"],[0.8888888888888888,\"#fdca26\"],[1.0,\"#f0f921\"]],\"type\":\"contour\"}],\"contourcarpet\":[{\"colorbar\":{\"outlinewidth\":0,\"ticks\":\"\"},\"type\":\"contourcarpet\"}],\"heatmap\":[{\"colorbar\":{\"outlinewidth\":0,\"ticks\":\"\"},\"colorscale\":[[0.0,\"#0d0887\"],[0.1111111111111111,\"#46039f\"],[0.2222222222222222,\"#7201a8\"],[0.3333333333333333,\"#9c179e\"],[0.4444444444444444,\"#bd3786\"],[0.5555555555555556,\"#d8576b\"],[0.6666666666666666,\"#ed7953\"],[0.7777777777777778,\"#fb9f3a\"],[0.8888888888888888,\"#fdca26\"],[1.0,\"#f0f921\"]],\"type\":\"heatmap\"}],\"heatmapgl\":[{\"colorbar\":{\"outlinewidth\":0,\"ticks\":\"\"},\"colorscale\":[[0.0,\"#0d0887\"],[0.1111111111111111,\"#46039f\"],[0.2222222222222222,\"#7201a8\"],[0.3333333333333333,\"#9c179e\"],[0.4444444444444444,\"#bd3786\"],[0.5555555555555556,\"#d8576b\"],[0.6666666666666666,\"#ed7953\"],[0.7777777777777778,\"#fb9f3a\"],[0.8888888888888888,\"#fdca26\"],[1.0,\"#f0f921\"]],\"type\":\"heatmapgl\"}],\"histogram\":[{\"marker\":{\"pattern\":{\"fillmode\":\"overlay\",\"size\":10,\"solidity\":0.2}},\"type\":\"histogram\"}],\"histogram2d\":[{\"colorbar\":{\"outlinewidth\":0,\"ticks\":\"\"},\"colorscale\":[[0.0,\"#0d0887\"],[0.1111111111111111,\"#46039f\"],[0.2222222222222222,\"#7201a8\"],[0.3333333333333333,\"#9c179e\"],[0.4444444444444444,\"#bd3786\"],[0.5555555555555556,\"#d8576b\"],[0.6666666666666666,\"#ed7953\"],[0.7777777777777778,\"#fb9f3a\"],[0.8888888888888888,\"#fdca26\"],[1.0,\"#f0f921\"]],\"type\":\"histogram2d\"}],\"histogram2dcontour\":[{\"colorbar\":{\"outlinewidth\":0,\"ticks\":\"\"},\"colorscale\":[[0.0,\"#0d0887\"],[0.1111111111111111,\"#46039f\"],[0.2222222222222222,\"#7201a8\"],[0.3333333333333333,\"#9c179e\"],[0.4444444444444444,\"#bd3786\"],[0.5555555555555556,\"#d8576b\"],[0.6666666666666666,\"#ed7953\"],[0.7777777777777778,\"#fb9f3a\"],[0.8888888888888888,\"#fdca26\"],[1.0,\"#f0f921\"]],\"type\":\"histogram2dcontour\"}],\"mesh3d\":[{\"colorbar\":{\"outlinewidth\":0,\"ticks\":\"\"},\"type\":\"mesh3d\"}],\"parcoords\":[{\"line\":{\"colorbar\":{\"outlinewidth\":0,\"ticks\":\"\"}},\"type\":\"parcoords\"}],\"pie\":[{\"automargin\":true,\"type\":\"pie\"}],\"scatter\":[{\"marker\":{\"colorbar\":{\"outlinewidth\":0,\"ticks\":\"\"}},\"type\":\"scatter\"}],\"scatter3d\":[{\"line\":{\"colorbar\":{\"outlinewidth\":0,\"ticks\":\"\"}},\"marker\":{\"colorbar\":{\"outlinewidth\":0,\"ticks\":\"\"}},\"type\":\"scatter3d\"}],\"scattercarpet\":[{\"marker\":{\"colorbar\":{\"outlinewidth\":0,\"ticks\":\"\"}},\"type\":\"scattercarpet\"}],\"scattergeo\":[{\"marker\":{\"colorbar\":{\"outlinewidth\":0,\"ticks\":\"\"}},\"type\":\"scattergeo\"}],\"scattergl\":[{\"marker\":{\"colorbar\":{\"outlinewidth\":0,\"ticks\":\"\"}},\"type\":\"scattergl\"}],\"scattermapbox\":[{\"marker\":{\"colorbar\":{\"outlinewidth\":0,\"ticks\":\"\"}},\"type\":\"scattermapbox\"}],\"scatterpolar\":[{\"marker\":{\"colorbar\":{\"outlinewidth\":0,\"ticks\":\"\"}},\"type\":\"scatterpolar\"}],\"scatterpolargl\":[{\"marker\":{\"colorbar\":{\"outlinewidth\":0,\"ticks\":\"\"}},\"type\":\"scatterpolargl\"}],\"scatterternary\":[{\"marker\":{\"colorbar\":{\"outlinewidth\":0,\"ticks\":\"\"}},\"type\":\"scatterternary\"}],\"surface\":[{\"colorbar\":{\"outlinewidth\":0,\"ticks\":\"\"},\"colorscale\":[[0.0,\"#0d0887\"],[0.1111111111111111,\"#46039f\"],[0.2222222222222222,\"#7201a8\"],[0.3333333333333333,\"#9c179e\"],[0.4444444444444444,\"#bd3786\"],[0.5555555555555556,\"#d8576b\"],[0.6666666666666666,\"#ed7953\"],[0.7777777777777778,\"#fb9f3a\"],[0.8888888888888888,\"#fdca26\"],[1.0,\"#f0f921\"]],\"type\":\"surface\"}],\"table\":[{\"cells\":{\"fill\":{\"color\":\"#EBF0F8\"},\"line\":{\"color\":\"white\"}},\"header\":{\"fill\":{\"color\":\"#C8D4E3\"},\"line\":{\"color\":\"white\"}},\"type\":\"table\"}]},\"layout\":{\"annotationdefaults\":{\"arrowcolor\":\"#2a3f5f\",\"arrowhead\":0,\"arrowwidth\":1},\"autotypenumbers\":\"strict\",\"coloraxis\":{\"colorbar\":{\"outlinewidth\":0,\"ticks\":\"\"}},\"colorscale\":{\"diverging\":[[0,\"#8e0152\"],[0.1,\"#c51b7d\"],[0.2,\"#de77ae\"],[0.3,\"#f1b6da\"],[0.4,\"#fde0ef\"],[0.5,\"#f7f7f7\"],[0.6,\"#e6f5d0\"],[0.7,\"#b8e186\"],[0.8,\"#7fbc41\"],[0.9,\"#4d9221\"],[1,\"#276419\"]],\"sequential\":[[0.0,\"#0d0887\"],[0.1111111111111111,\"#46039f\"],[0.2222222222222222,\"#7201a8\"],[0.3333333333333333,\"#9c179e\"],[0.4444444444444444,\"#bd3786\"],[0.5555555555555556,\"#d8576b\"],[0.6666666666666666,\"#ed7953\"],[0.7777777777777778,\"#fb9f3a\"],[0.8888888888888888,\"#fdca26\"],[1.0,\"#f0f921\"]],\"sequentialminus\":[[0.0,\"#0d0887\"],[0.1111111111111111,\"#46039f\"],[0.2222222222222222,\"#7201a8\"],[0.3333333333333333,\"#9c179e\"],[0.4444444444444444,\"#bd3786\"],[0.5555555555555556,\"#d8576b\"],[0.6666666666666666,\"#ed7953\"],[0.7777777777777778,\"#fb9f3a\"],[0.8888888888888888,\"#fdca26\"],[1.0,\"#f0f921\"]]},\"colorway\":[\"#636efa\",\"#EF553B\",\"#00cc96\",\"#ab63fa\",\"#FFA15A\",\"#19d3f3\",\"#FF6692\",\"#B6E880\",\"#FF97FF\",\"#FECB52\"],\"font\":{\"color\":\"#2a3f5f\"},\"geo\":{\"bgcolor\":\"white\",\"lakecolor\":\"white\",\"landcolor\":\"#E5ECF6\",\"showlakes\":true,\"showland\":true,\"subunitcolor\":\"white\"},\"hoverlabel\":{\"align\":\"left\"},\"hovermode\":\"closest\",\"mapbox\":{\"style\":\"light\"},\"paper_bgcolor\":\"white\",\"plot_bgcolor\":\"#E5ECF6\",\"polar\":{\"angularaxis\":{\"gridcolor\":\"white\",\"linecolor\":\"white\",\"ticks\":\"\"},\"bgcolor\":\"#E5ECF6\",\"radialaxis\":{\"gridcolor\":\"white\",\"linecolor\":\"white\",\"ticks\":\"\"}},\"scene\":{\"xaxis\":{\"backgroundcolor\":\"#E5ECF6\",\"gridcolor\":\"white\",\"gridwidth\":2,\"linecolor\":\"white\",\"showbackground\":true,\"ticks\":\"\",\"zerolinecolor\":\"white\"},\"yaxis\":{\"backgroundcolor\":\"#E5ECF6\",\"gridcolor\":\"white\",\"gridwidth\":2,\"linecolor\":\"white\",\"showbackground\":true,\"ticks\":\"\",\"zerolinecolor\":\"white\"},\"zaxis\":{\"backgroundcolor\":\"#E5ECF6\",\"gridcolor\":\"white\",\"gridwidth\":2,\"linecolor\":\"white\",\"showbackground\":true,\"ticks\":\"\",\"zerolinecolor\":\"white\"}},\"shapedefaults\":{\"line\":{\"color\":\"#2a3f5f\"}},\"ternary\":{\"aaxis\":{\"gridcolor\":\"white\",\"linecolor\":\"white\",\"ticks\":\"\"},\"baxis\":{\"gridcolor\":\"white\",\"linecolor\":\"white\",\"ticks\":\"\"},\"bgcolor\":\"#E5ECF6\",\"caxis\":{\"gridcolor\":\"white\",\"linecolor\":\"white\",\"ticks\":\"\"}},\"title\":{\"x\":0.05},\"xaxis\":{\"automargin\":true,\"gridcolor\":\"white\",\"linecolor\":\"white\",\"ticks\":\"\",\"title\":{\"standoff\":15},\"zerolinecolor\":\"white\",\"zerolinewidth\":2},\"yaxis\":{\"automargin\":true,\"gridcolor\":\"white\",\"linecolor\":\"white\",\"ticks\":\"\",\"title\":{\"standoff\":15},\"zerolinecolor\":\"white\",\"zerolinewidth\":2}}},\"xaxis\":{\"anchor\":\"y\",\"domain\":[0.0,1.0],\"title\":{\"text\":\"\\u0420\\u0435\\u0433\\u0438\\u043e\\u043d\"},\"categoryorder\":\"array\",\"categoryarray\":[\"EU\",\"N.America\",\"APAC\",\"CIS\"]},\"yaxis\":{\"anchor\":\"x\",\"domain\":[0.0,1.0],\"title\":{\"text\":\"\\u041a\\u043e\\u043b\\u0438\\u0447\\u0435\\u0441\\u0442\\u0432\\u043e \\u043f\\u043e\\u043b\\u044c\\u0437\\u043e\\u0432\\u0430\\u0442\\u0435\\u043b\\u0435\\u0439\"}},\"legend\":{\"title\":{\"text\":\"\\u0420\\u0435\\u0433\\u0438\\u043e\\u043d\"},\"tracegroupgap\":0},\"title\":{\"text\":\"\\u041a\\u043e\\u043b\\u0438\\u0447\\u0435\\u0441\\u0442\\u0432\\u043e \\u043f\\u043e\\u043b\\u044c\\u0437\\u043e\\u0432\\u0430\\u0442\\u0435\\u043b\\u0435\\u0439 \\u043f\\u043e \\u0440\\u0435\\u0433\\u0438\\u043e\\u043d\\u0430\\u043c\"},\"barmode\":\"relative\"},                        {\"responsive\": true}                    ).then(function(){\n",
       "                            \n",
       "var gd = document.getElementById('5081d2b4-f6ea-4deb-a172-8a6640c12e4b');\n",
       "var x = new MutationObserver(function (mutations, observer) {{\n",
       "        var display = window.getComputedStyle(gd).display;\n",
       "        if (!display || display === 'none') {{\n",
       "            console.log([gd, 'removed!']);\n",
       "            Plotly.purge(gd);\n",
       "            observer.disconnect();\n",
       "        }}\n",
       "}});\n",
       "\n",
       "// Listen for the removal of the full notebook cells\n",
       "var notebookContainer = gd.closest('#notebook-container');\n",
       "if (notebookContainer) {{\n",
       "    x.observe(notebookContainer, {childList: true});\n",
       "}}\n",
       "\n",
       "// Listen for the clearing of the current output cell\n",
       "var outputEl = gd.closest('.output');\n",
       "if (outputEl) {{\n",
       "    x.observe(outputEl, {childList: true});\n",
       "}}\n",
       "\n",
       "                        })                };                });            </script>        </div>"
      ]
     },
     "metadata": {},
     "output_type": "display_data"
    }
   ],
   "source": [
    "# Отразим на графике\n",
    "fig = px.bar(region_user, \n",
    "       # по оси x выберем регион\n",
    "       x ='region', \n",
    "       # по оси y количество пользователей\n",
    "       y = 'count',\n",
    "       # обозначим регион      \n",
    "       text = 'count',\n",
    "       # выберем цвет     \n",
    "       color = 'region',\n",
    "       # сделаем подписи на графике      \n",
    "       title = 'Количество пользователей по регионам',\n",
    "      labels = {'count' : 'Количество пользователей',\n",
    "               'region' : 'Регион'})\n",
    "\n",
    "fig.show()"
   ]
  },
  {
   "cell_type": "markdown",
   "metadata": {},
   "source": [
    "Количество пользователей по регионам:\n",
    "- EU\t4749\n",
    "- N.America\t223\n",
    "- APAC\t72\n",
    "- CIS\t55\n",
    "\n",
    "Большее место занимают пользователи из EU (Европейского союза), учитывая что пользователи присутсвуют из разных  регионов, это тоже может повлиять на результат."
   ]
  },
  {
   "cell_type": "markdown",
   "metadata": {},
   "source": [
    "#### Найдём процент пользователей из региона EU для тестируемых пользователей, относительно общих пользователей из EU"
   ]
  },
  {
   "cell_type": "code",
   "execution_count": 102,
   "metadata": {},
   "outputs": [
    {
     "name": "stdout",
     "output_type": "stream",
     "text": [
      "Общее количество новых пользователей из региона Европа составило: 42340\n"
     ]
    }
   ],
   "source": [
    "# рассчитаем сколько  всего пользователей зарегистрировались с 7 по 21 декабря\n",
    "# сделаем срез по данной дате сделаем дату с 7 по 12\n",
    "new_eu_user = final_ab_new_users.query('first_date <= \"2020-12-21\"')\n",
    "# теперь отфильтруем пользователей из Европы по нашему срезу \n",
    "new_eu_act = new_eu_user[new_eu_user['region'] == 'EU']['user_id'].nunique()\n",
    "print('Общее количество новых пользователей из региона Европа составило:', new_eu_act)"
   ]
  },
  {
   "cell_type": "code",
   "execution_count": 103,
   "metadata": {},
   "outputs": [
    {
     "name": "stdout",
     "output_type": "stream",
     "text": [
      "Процент тестируемых пользователей из региона Европа: 12.04%\n"
     ]
    }
   ],
   "source": [
    "# Расчитаем новых пользователей региона EU попавших в тест\n",
    "# объединим таблицы с новыми пользователями и тестируемыми пользователя  \n",
    "new_eu_user_test = final_ab_new_users.merge(rs_test[rs_test['ab_test'] == 'recommender_system_test'],\n",
    "                                    how=\"inner\",\n",
    "                                    on='user_id')\n",
    "# рассчитаем процент тестируемых пользователей для региона Европа \n",
    "print('Процент тестируемых пользователей из региона Европа: {:.2%}'. format(new_eu_user_test['user_id'].nunique()/\n",
    "                                                                    (new_eu_act)))"
   ]
  },
  {
   "cell_type": "markdown",
   "metadata": {},
   "source": [
    "Процент пользователей EU по техническому заданию  должен быть 15 % , у нас получается 12.04 %, так же имеем несоответствие, что может повлиять на результаты теста"
   ]
  },
  {
   "cell_type": "markdown",
   "metadata": {},
   "source": [
    "#### Отредактируем события, что больше 14 дней как написано в техническом задании, с момента регитрации пользователя"
   ]
  },
  {
   "cell_type": "code",
   "execution_count": 104,
   "metadata": {},
   "outputs": [
    {
     "data": {
      "text/html": [
       "<div>\n",
       "<style scoped>\n",
       "    .dataframe tbody tr th:only-of-type {\n",
       "        vertical-align: middle;\n",
       "    }\n",
       "\n",
       "    .dataframe tbody tr th {\n",
       "        vertical-align: top;\n",
       "    }\n",
       "\n",
       "    .dataframe thead th {\n",
       "        text-align: right;\n",
       "    }\n",
       "</style>\n",
       "<table border=\"1\" class=\"dataframe\">\n",
       "  <thead>\n",
       "    <tr style=\"text-align: right;\">\n",
       "      <th></th>\n",
       "      <th>user_id</th>\n",
       "      <th>group</th>\n",
       "      <th>ab_test</th>\n",
       "      <th>first_date</th>\n",
       "      <th>region</th>\n",
       "      <th>device</th>\n",
       "      <th>event_dt</th>\n",
       "      <th>event_name</th>\n",
       "      <th>details</th>\n",
       "    </tr>\n",
       "  </thead>\n",
       "  <tbody>\n",
       "    <tr>\n",
       "      <th>0</th>\n",
       "      <td>D1ABA3E2887B6A73</td>\n",
       "      <td>A</td>\n",
       "      <td>recommender_system_test</td>\n",
       "      <td>2020-12-07</td>\n",
       "      <td>EU</td>\n",
       "      <td>PC</td>\n",
       "      <td>2020-12-07 14:43:27</td>\n",
       "      <td>purchase</td>\n",
       "      <td>99.99</td>\n",
       "    </tr>\n",
       "    <tr>\n",
       "      <th>1</th>\n",
       "      <td>D1ABA3E2887B6A73</td>\n",
       "      <td>A</td>\n",
       "      <td>recommender_system_test</td>\n",
       "      <td>2020-12-07</td>\n",
       "      <td>EU</td>\n",
       "      <td>PC</td>\n",
       "      <td>2020-12-25 00:04:56</td>\n",
       "      <td>purchase</td>\n",
       "      <td>4.99</td>\n",
       "    </tr>\n",
       "    <tr>\n",
       "      <th>2</th>\n",
       "      <td>D1ABA3E2887B6A73</td>\n",
       "      <td>A</td>\n",
       "      <td>recommender_system_test</td>\n",
       "      <td>2020-12-07</td>\n",
       "      <td>EU</td>\n",
       "      <td>PC</td>\n",
       "      <td>2020-12-07 14:43:29</td>\n",
       "      <td>product_cart</td>\n",
       "      <td>NaN</td>\n",
       "    </tr>\n",
       "  </tbody>\n",
       "</table>\n",
       "</div>"
      ],
      "text/plain": [
       "            user_id group                  ab_test first_date region device  \\\n",
       "0  D1ABA3E2887B6A73     A  recommender_system_test 2020-12-07     EU     PC   \n",
       "1  D1ABA3E2887B6A73     A  recommender_system_test 2020-12-07     EU     PC   \n",
       "2  D1ABA3E2887B6A73     A  recommender_system_test 2020-12-07     EU     PC   \n",
       "\n",
       "             event_dt    event_name  details  \n",
       "0 2020-12-07 14:43:27      purchase    99.99  \n",
       "1 2020-12-25 00:04:56      purchase     4.99  \n",
       "2 2020-12-07 14:43:29  product_cart      NaN  "
      ]
     },
     "metadata": {},
     "output_type": "display_data"
    }
   ],
   "source": [
    "# Соединим наши отфильтрованную таблицу с таблицей  действия новых пользователей в период с 7 декабря 2020 по 4 января 2021 года.\n",
    "final_rs_test = rs_test_region.merge(final_ab_events, how ='left', on = 'user_id')\n",
    "# Проверим\n",
    "display(final_rs_test.head(3))"
   ]
  },
  {
   "cell_type": "code",
   "execution_count": 105,
   "metadata": {},
   "outputs": [
    {
     "data": {
      "text/html": [
       "<div>\n",
       "<style scoped>\n",
       "    .dataframe tbody tr th:only-of-type {\n",
       "        vertical-align: middle;\n",
       "    }\n",
       "\n",
       "    .dataframe tbody tr th {\n",
       "        vertical-align: top;\n",
       "    }\n",
       "\n",
       "    .dataframe thead th {\n",
       "        text-align: right;\n",
       "    }\n",
       "</style>\n",
       "<table border=\"1\" class=\"dataframe\">\n",
       "  <thead>\n",
       "    <tr style=\"text-align: right;\">\n",
       "      <th></th>\n",
       "      <th>user_id</th>\n",
       "      <th>group</th>\n",
       "      <th>ab_test</th>\n",
       "      <th>first_date</th>\n",
       "      <th>region</th>\n",
       "      <th>device</th>\n",
       "      <th>event_dt</th>\n",
       "      <th>event_name</th>\n",
       "      <th>details</th>\n",
       "      <th>lifetime</th>\n",
       "    </tr>\n",
       "  </thead>\n",
       "  <tbody>\n",
       "    <tr>\n",
       "      <th>0</th>\n",
       "      <td>D1ABA3E2887B6A73</td>\n",
       "      <td>A</td>\n",
       "      <td>recommender_system_test</td>\n",
       "      <td>2020-12-07</td>\n",
       "      <td>EU</td>\n",
       "      <td>PC</td>\n",
       "      <td>2020-12-07 14:43:27</td>\n",
       "      <td>purchase</td>\n",
       "      <td>99.99</td>\n",
       "      <td>0 days 14:43:27</td>\n",
       "    </tr>\n",
       "    <tr>\n",
       "      <th>2</th>\n",
       "      <td>D1ABA3E2887B6A73</td>\n",
       "      <td>A</td>\n",
       "      <td>recommender_system_test</td>\n",
       "      <td>2020-12-07</td>\n",
       "      <td>EU</td>\n",
       "      <td>PC</td>\n",
       "      <td>2020-12-07 14:43:29</td>\n",
       "      <td>product_cart</td>\n",
       "      <td>NaN</td>\n",
       "      <td>0 days 14:43:29</td>\n",
       "    </tr>\n",
       "    <tr>\n",
       "      <th>4</th>\n",
       "      <td>D1ABA3E2887B6A73</td>\n",
       "      <td>A</td>\n",
       "      <td>recommender_system_test</td>\n",
       "      <td>2020-12-07</td>\n",
       "      <td>EU</td>\n",
       "      <td>PC</td>\n",
       "      <td>2020-12-07 14:43:27</td>\n",
       "      <td>product_page</td>\n",
       "      <td>NaN</td>\n",
       "      <td>0 days 14:43:27</td>\n",
       "    </tr>\n",
       "    <tr>\n",
       "      <th>6</th>\n",
       "      <td>D1ABA3E2887B6A73</td>\n",
       "      <td>A</td>\n",
       "      <td>recommender_system_test</td>\n",
       "      <td>2020-12-07</td>\n",
       "      <td>EU</td>\n",
       "      <td>PC</td>\n",
       "      <td>2020-12-07 14:43:27</td>\n",
       "      <td>login</td>\n",
       "      <td>NaN</td>\n",
       "      <td>0 days 14:43:27</td>\n",
       "    </tr>\n",
       "    <tr>\n",
       "      <th>8</th>\n",
       "      <td>A7A3664BD6242119</td>\n",
       "      <td>A</td>\n",
       "      <td>recommender_system_test</td>\n",
       "      <td>2020-12-20</td>\n",
       "      <td>EU</td>\n",
       "      <td>iPhone</td>\n",
       "      <td>2020-12-20 15:46:06</td>\n",
       "      <td>product_page</td>\n",
       "      <td>NaN</td>\n",
       "      <td>0 days 15:46:06</td>\n",
       "    </tr>\n",
       "  </tbody>\n",
       "</table>\n",
       "</div>"
      ],
      "text/plain": [
       "            user_id group                  ab_test first_date region  device  \\\n",
       "0  D1ABA3E2887B6A73     A  recommender_system_test 2020-12-07     EU      PC   \n",
       "2  D1ABA3E2887B6A73     A  recommender_system_test 2020-12-07     EU      PC   \n",
       "4  D1ABA3E2887B6A73     A  recommender_system_test 2020-12-07     EU      PC   \n",
       "6  D1ABA3E2887B6A73     A  recommender_system_test 2020-12-07     EU      PC   \n",
       "8  A7A3664BD6242119     A  recommender_system_test 2020-12-20     EU  iPhone   \n",
       "\n",
       "             event_dt    event_name  details        lifetime  \n",
       "0 2020-12-07 14:43:27      purchase    99.99 0 days 14:43:27  \n",
       "2 2020-12-07 14:43:29  product_cart      NaN 0 days 14:43:29  \n",
       "4 2020-12-07 14:43:27  product_page      NaN 0 days 14:43:27  \n",
       "6 2020-12-07 14:43:27         login      NaN 0 days 14:43:27  \n",
       "8 2020-12-20 15:46:06  product_page      NaN 0 days 15:46:06  "
      ]
     },
     "metadata": {},
     "output_type": "display_data"
    }
   ],
   "source": [
    "# Уберём события, которые не соответсвтуют условию\n",
    "# создадим столбец с жизнью пользователей и отредактируем \n",
    "final_rs_test['lifetime'] = final_rs_test['event_dt'] - final_rs_test['first_date']\n",
    "final_rs_test = final_rs_test[final_rs_test['lifetime'] <= '14 days']\n",
    "# выведем на экан, посмотрим,что получилось\n",
    "display(final_rs_test.head(5))"
   ]
  },
  {
   "cell_type": "code",
   "execution_count": 106,
   "metadata": {},
   "outputs": [
    {
     "data": {
      "text/plain": [
       "2788"
      ]
     },
     "execution_count": 106,
     "metadata": {},
     "output_type": "execute_result"
    }
   ],
   "source": [
    "# Найдём окончательное число участников теста\n",
    "final_rs_test['user_id'].nunique()"
   ]
  },
  {
   "cell_type": "markdown",
   "metadata": {},
   "source": [
    "Из 5000 пользователей у нас осталось 2788 человек. Это  может значительно повлиять на  результаты теста."
   ]
  },
  {
   "cell_type": "markdown",
   "metadata": {},
   "source": [
    "Посмотрим на распределение пользователей по группам после финальной фильтрации."
   ]
  },
  {
   "cell_type": "code",
   "execution_count": 107,
   "metadata": {},
   "outputs": [
    {
     "name": "stdout",
     "output_type": "stream",
     "text": [
      "Пользователи группы A: 2082\n",
      "Пользователи группы B: 706\n"
     ]
    }
   ],
   "source": [
    "print('Пользователи группы A:', final_rs_test['user_id'][final_rs_test['group'] == 'A'].nunique())\n",
    "print('Пользователи группы B:', final_rs_test['user_id'][final_rs_test['group'] == 'B'].nunique())"
   ]
  },
  {
   "cell_type": "markdown",
   "metadata": {},
   "source": [
    "Разбиение пользователей неравномерное, пользователей группы А больше пользователей группы Б:\n",
    "\n",
    "Пользователи группы А: 2082\n",
    "\n",
    "Пользователи группы Б: 706\n",
    "\n",
    "Что можем значительно повлиять на результат, проверим."
   ]
  },
  {
   "cell_type": "markdown",
   "metadata": {},
   "source": [
    "#### Посмотрим на интервал, в котором происходили события для тестируемых пользователей."
   ]
  },
  {
   "cell_type": "code",
   "execution_count": 108,
   "metadata": {},
   "outputs": [
    {
     "name": "stdout",
     "output_type": "stream",
     "text": [
      "Начало события: 2020-12-07 00:16:00\n",
      "Конец события: 2020-12-29 23:38:29\n"
     ]
    }
   ],
   "source": [
    "# Выведем на экран\n",
    "print('Начало события:',final_rs_test['event_dt'].min())\n",
    "# Выведем на экран\n",
    "print('Конец события:', final_rs_test['event_dt'].max())                                                                               "
   ]
  },
  {
   "cell_type": "code",
   "execution_count": 109,
   "metadata": {},
   "outputs": [
    {
     "data": {
      "text/html": [
       "<div>\n",
       "<style scoped>\n",
       "    .dataframe tbody tr th:only-of-type {\n",
       "        vertical-align: middle;\n",
       "    }\n",
       "\n",
       "    .dataframe tbody tr th {\n",
       "        vertical-align: top;\n",
       "    }\n",
       "\n",
       "    .dataframe thead th {\n",
       "        text-align: right;\n",
       "    }\n",
       "</style>\n",
       "<table border=\"1\" class=\"dataframe\">\n",
       "  <thead>\n",
       "    <tr style=\"text-align: right;\">\n",
       "      <th></th>\n",
       "      <th>name</th>\n",
       "      <th>regions</th>\n",
       "      <th>start_dt</th>\n",
       "      <th>finish_dt</th>\n",
       "    </tr>\n",
       "  </thead>\n",
       "  <tbody>\n",
       "    <tr>\n",
       "      <th>0</th>\n",
       "      <td>Christmas&amp;New Year Promo</td>\n",
       "      <td>EU, N.America</td>\n",
       "      <td>2020-12-25</td>\n",
       "      <td>2021-01-03</td>\n",
       "    </tr>\n",
       "    <tr>\n",
       "      <th>10</th>\n",
       "      <td>CIS New Year Gift Lottery</td>\n",
       "      <td>CIS</td>\n",
       "      <td>2020-12-30</td>\n",
       "      <td>2021-01-07</td>\n",
       "    </tr>\n",
       "  </tbody>\n",
       "</table>\n",
       "</div>"
      ],
      "text/plain": [
       "                         name        regions   start_dt  finish_dt\n",
       "0    Christmas&New Year Promo  EU, N.America 2020-12-25 2021-01-03\n",
       "10  CIS New Year Gift Lottery            CIS 2020-12-30 2021-01-07"
      ]
     },
     "metadata": {},
     "output_type": "display_data"
    }
   ],
   "source": [
    "# проверим пересечение ивентов, чем был связан рост пользователей в группе А относительно группы Б \n",
    "events_crosses = ab_project_marketing_events[(ab_project_marketing_events['start_dt'] > '2020-12-07') &\n",
    "                            (ab_project_marketing_events['start_dt'] < '2021-01-04')]\n",
    "display(events_crosses)"
   ]
  },
  {
   "cell_type": "markdown",
   "metadata": {},
   "source": [
    "Здесь есть  несоответствие с техническим заданием, начало теста с 2020-12-07 и завершение теста 2020-01-04. Также этот интервал пересекается с датой проведения маркетингового события Christmas&New Year Promo,что мы видим из таблицы, что так же скажется на результатах теста."
   ]
  },
  {
   "cell_type": "markdown",
   "metadata": {},
   "source": [
    "#### Посмотрим на дату набора пользователей, которая должна соотвествовать интервалу с 2020-12-07 по 2020-12-21."
   ]
  },
  {
   "cell_type": "code",
   "execution_count": 110,
   "metadata": {},
   "outputs": [
    {
     "name": "stdout",
     "output_type": "stream",
     "text": [
      "Начало регистрации: 2020-12-07 00:00:00\n",
      "Конец регистрации: 2020-12-21 00:00:00\n"
     ]
    }
   ],
   "source": [
    "print('Начало регистрации:', rs_test_region['first_date'].min())\n",
    "print('Конец регистрации:', rs_test_region['first_date'].max())"
   ]
  },
  {
   "cell_type": "markdown",
   "metadata": {},
   "source": [
    "Регистрация пользователей произошла с 2020-12-07 по 2020-12-21.\n",
    "\n",
    "даты регистрации соответствуют техническому заданию."
   ]
  },
  {
   "cell_type": "markdown",
   "metadata": {},
   "source": [
    "**Вывод:** Мы рассмотрели соответствие техничекому заданию или нет:\n",
    "\n",
    "Рассматриваем `recommender_system_test`:\n",
    "\n",
    "- Посмотрим на дату набора пользователей и дату остановки набора (с 2020-12-07 по 2020-12-21) (Соответствует)\n",
    "- Посмотрим на интервал, в котором происходили события для тестируемых пользователей (с 2020-12-07 по 2020-12-29), по техническому заданию дата остановки: 2021-01-04:\n",
    "- тестируемые пользователи совершали действия в интервале с 2020-12-07 00:16:00 по 2020-12-29 23:38:29;\n",
    "- данное пересечение происходит с Christmas&New Year Promo.\n",
    "\n",
    "Аудитория: 15% новых пользователей из региона EU:\n",
    "Среди тестируемых есть и другие регионы:\n",
    "\n",
    "- EU - 4749 \n",
    "- N.America 223\n",
    "- APAC 72\n",
    "- CIS 55\n",
    "- Процент тестируемых пользователей EU относительно общих пользователей EU составил: 12.04%.(по условию ,должно быть 15%). Есть  несоответствие,но нужно учитывать, что мы смотрим уже отфильтрованных  пользователей,по этому такой результат вполне может быть.\n",
    "\n",
    "\n",
    "- Ожидаемое количество участников теста: 6000:\n",
    "- Изначально, количество пользователей recommender_system_test сосатвило 6701 человек. Но мы проверили пересекающихся пользователей,которые  есть в обоих группах ,количество 1602 , и отфильтровали данных пользователей на этом этапе, в связи с этим после очистки количество пользователей стало 5099, распределили их по группам:\n",
    "\n",
    "\n",
    "- группе А - 2903 пользователя \n",
    "- группе В - 2196 пользователей\n",
    "\n",
    "Выборка между группами неравномерная , в группе А пользователей больше. \n",
    "\n",
    "Дальше отфильтровали по условию и количество пользователей сократилось почти  2 раза, это  свидетельствует о том, что  результаты теста могут быть искажены.Количество пользователей составило 2788 человек.\n",
    "\n",
    "По поводу несоответсвия пользователей мы уточним у людей, которые предоставляли нам данные, а сами перейдём к следующему этапу проверки."
   ]
  },
  {
   "cell_type": "markdown",
   "metadata": {},
   "source": [
    "## Проведём исследовательский анализ данных:"
   ]
  },
  {
   "cell_type": "markdown",
   "metadata": {},
   "source": [
    "### Количество событий на пользователя одинаково распределены в выборках?"
   ]
  },
  {
   "cell_type": "code",
   "execution_count": 111,
   "metadata": {},
   "outputs": [
    {
     "data": {
      "text/html": [
       "<div>\n",
       "<style scoped>\n",
       "    .dataframe tbody tr th:only-of-type {\n",
       "        vertical-align: middle;\n",
       "    }\n",
       "\n",
       "    .dataframe tbody tr th {\n",
       "        vertical-align: top;\n",
       "    }\n",
       "\n",
       "    .dataframe thead th {\n",
       "        text-align: right;\n",
       "    }\n",
       "</style>\n",
       "<table border=\"1\" class=\"dataframe\">\n",
       "  <thead>\n",
       "    <tr style=\"text-align: right;\">\n",
       "      <th></th>\n",
       "      <th>user_id</th>\n",
       "      <th>count</th>\n",
       "      <th>group</th>\n",
       "    </tr>\n",
       "  </thead>\n",
       "  <tbody>\n",
       "    <tr>\n",
       "      <th>0</th>\n",
       "      <td>0010A1C096941592</td>\n",
       "      <td>12</td>\n",
       "      <td>A</td>\n",
       "    </tr>\n",
       "    <tr>\n",
       "      <th>1</th>\n",
       "      <td>0010A1C096941592</td>\n",
       "      <td>12</td>\n",
       "      <td>A</td>\n",
       "    </tr>\n",
       "    <tr>\n",
       "      <th>2</th>\n",
       "      <td>0010A1C096941592</td>\n",
       "      <td>12</td>\n",
       "      <td>A</td>\n",
       "    </tr>\n",
       "    <tr>\n",
       "      <th>3</th>\n",
       "      <td>0010A1C096941592</td>\n",
       "      <td>12</td>\n",
       "      <td>A</td>\n",
       "    </tr>\n",
       "    <tr>\n",
       "      <th>4</th>\n",
       "      <td>0010A1C096941592</td>\n",
       "      <td>12</td>\n",
       "      <td>A</td>\n",
       "    </tr>\n",
       "    <tr>\n",
       "      <th>...</th>\n",
       "      <td>...</td>\n",
       "      <td>...</td>\n",
       "      <td>...</td>\n",
       "    </tr>\n",
       "    <tr>\n",
       "      <th>18149</th>\n",
       "      <td>FFAE9489C76F352B</td>\n",
       "      <td>6</td>\n",
       "      <td>A</td>\n",
       "    </tr>\n",
       "    <tr>\n",
       "      <th>18150</th>\n",
       "      <td>FFAE9489C76F352B</td>\n",
       "      <td>6</td>\n",
       "      <td>A</td>\n",
       "    </tr>\n",
       "    <tr>\n",
       "      <th>18151</th>\n",
       "      <td>FFAE9489C76F352B</td>\n",
       "      <td>6</td>\n",
       "      <td>A</td>\n",
       "    </tr>\n",
       "    <tr>\n",
       "      <th>18152</th>\n",
       "      <td>FFAE9489C76F352B</td>\n",
       "      <td>6</td>\n",
       "      <td>A</td>\n",
       "    </tr>\n",
       "    <tr>\n",
       "      <th>18153</th>\n",
       "      <td>FFAE9489C76F352B</td>\n",
       "      <td>6</td>\n",
       "      <td>A</td>\n",
       "    </tr>\n",
       "  </tbody>\n",
       "</table>\n",
       "<p>18154 rows × 3 columns</p>\n",
       "</div>"
      ],
      "text/plain": [
       "                user_id  count group\n",
       "0      0010A1C096941592     12     A\n",
       "1      0010A1C096941592     12     A\n",
       "2      0010A1C096941592     12     A\n",
       "3      0010A1C096941592     12     A\n",
       "4      0010A1C096941592     12     A\n",
       "...                 ...    ...   ...\n",
       "18149  FFAE9489C76F352B      6     A\n",
       "18150  FFAE9489C76F352B      6     A\n",
       "18151  FFAE9489C76F352B      6     A\n",
       "18152  FFAE9489C76F352B      6     A\n",
       "18153  FFAE9489C76F352B      6     A\n",
       "\n",
       "[18154 rows x 3 columns]"
      ]
     },
     "metadata": {},
     "output_type": "display_data"
    }
   ],
   "source": [
    "# сгруппируем пользователей по количеству событий, посмотрим событие для каждого пользователя \n",
    "final_count_event = final_rs_test.groupby('user_id').agg(count = ('event_name', 'count')).reset_index()\n",
    "# объединим с нашей финальной таблицей тестируемых, выберем только  нужные столбцы\n",
    "final_count_event = final_count_event.merge(final_rs_test, how = 'left', on = 'user_id')[['user_id', 'count', 'group']]\n",
    "# выводим на экран\n",
    "display(final_count_event)"
   ]
  },
  {
   "cell_type": "code",
   "execution_count": 112,
   "metadata": {},
   "outputs": [
    {
     "data": {
      "image/png": "[encoded data removed]",
      "text/plain": [
       "<Figure size 800x500 with 1 Axes>"
      ]
     },
     "metadata": {},
     "output_type": "display_data"
    }
   ],
   "source": [
    "# Визуализируем на графике \n",
    "plt.figure(figsize=(8,5))\n",
    "# сделаем подпись названия  \n",
    "plt.title('Количество событий на пользователя по группам')\n",
    "# выведем группу А, покажем kde = False \n",
    "sns.distplot(final_count_event[final_count_event['group'] == 'A']['count'], label='A',kde =False)\n",
    "# выведем группу B, покажем kde = False \n",
    "sns.distplot(final_count_event[final_count_event['group'] == 'B']['count'], label='B',kde = False)\n",
    "# подпишем ось Y\n",
    "# уберём легенду\n",
    "plt.legend()\n",
    "\n",
    "plt.ylabel('Количество пользователей')\n",
    "# подпишем ось X \n",
    "plt.xlabel('Число событий')\n",
    "# выведем на экран\n",
    "plt.show()"
   ]
  },
  {
   "cell_type": "code",
   "execution_count": 113,
   "metadata": {},
   "outputs": [
    {
     "name": "stdout",
     "output_type": "stream",
     "text": [
      "Среднее количество событий в группе А : 9.01\n",
      "Среднее количество событий в группе B : 7.36\n"
     ]
    }
   ],
   "source": [
    "# покажем среднее количество в группе А  \n",
    "print('Среднее количество событий в группе А :', round(final_count_event[final_count_event['group'] == 'A']['count'].mean(), 2))\n",
    "# покажем среднее количество событий в группе Б\n",
    "print('Среднее количество событий в группе B :', round(final_count_event[final_count_event['group'] == 'B']['count'].mean(), 2))"
   ]
  },
  {
   "cell_type": "markdown",
   "metadata": {},
   "source": [
    "Число событий на 1 пользователя выше в группе А. "
   ]
  },
  {
   "cell_type": "markdown",
   "metadata": {},
   "source": [
    "#### Рассмотрим распределение событий в логе по количеству:"
   ]
  },
  {
   "cell_type": "code",
   "execution_count": 114,
   "metadata": {},
   "outputs": [
    {
     "data": {
      "text/html": [
       "<div>\n",
       "<style scoped>\n",
       "    .dataframe tbody tr th:only-of-type {\n",
       "        vertical-align: middle;\n",
       "    }\n",
       "\n",
       "    .dataframe tbody tr th {\n",
       "        vertical-align: top;\n",
       "    }\n",
       "\n",
       "    .dataframe thead th {\n",
       "        text-align: right;\n",
       "    }\n",
       "</style>\n",
       "<table border=\"1\" class=\"dataframe\">\n",
       "  <thead>\n",
       "    <tr style=\"text-align: right;\">\n",
       "      <th></th>\n",
       "      <th>event_name</th>\n",
       "      <th>count</th>\n",
       "    </tr>\n",
       "  </thead>\n",
       "  <tbody>\n",
       "    <tr>\n",
       "      <th>0</th>\n",
       "      <td>login</td>\n",
       "      <td>8194</td>\n",
       "    </tr>\n",
       "    <tr>\n",
       "      <th>1</th>\n",
       "      <td>product_page</td>\n",
       "      <td>5108</td>\n",
       "    </tr>\n",
       "    <tr>\n",
       "      <th>2</th>\n",
       "      <td>product_cart</td>\n",
       "      <td>2446</td>\n",
       "    </tr>\n",
       "    <tr>\n",
       "      <th>3</th>\n",
       "      <td>purchase</td>\n",
       "      <td>2406</td>\n",
       "    </tr>\n",
       "  </tbody>\n",
       "</table>\n",
       "</div>"
      ],
      "text/plain": [
       "     event_name  count\n",
       "0         login   8194\n",
       "1  product_page   5108\n",
       "2  product_cart   2446\n",
       "3      purchase   2406"
      ]
     },
     "metadata": {},
     "output_type": "display_data"
    }
   ],
   "source": [
    "# сгруппируем события по количеству,отсортируем в порядке убывания  \n",
    "count_event = final_rs_test.groupby('event_name').agg(count=('user_id', 'count')).sort_values(by = 'count', ascending = False).reset_index()\n",
    "# выведем на экран\n",
    "display(count_event)"
   ]
  },
  {
   "cell_type": "code",
   "execution_count": 115,
   "metadata": {},
   "outputs": [
    {
     "data": {
      "application/vnd.plotly.v1+json": {
       "config": {
        "plotlyServerURL": "https://plot.ly"
       },
       "data": [
        {
         "alignmentgroup": "True",
         "hovertemplate": "Названия события=%{x}<br>Число событий=%{marker.color}<extra></extra>",
         "legendgroup": "",
         "marker": {
          "color": [
           8194,
           5108,
           2446,
           2406
          ],
          "coloraxis": "coloraxis",
          "pattern": {
           "shape": ""
          }
         },
         "name": "",
         "offsetgroup": "",
         "orientation": "v",
         "showlegend": false,
         "text": [
          8194,
          5108,
          2446,
          2406
         ],
         "textposition": "auto",
         "type": "bar",
         "x": [
          "login",
          "product_page",
          "product_cart",
          "purchase"
         ],
         "xaxis": "x",
         "y": [
          8194,
          5108,
          2446,
          2406
         ],
         "yaxis": "y"
        }
       ],
       "layout": {
        "barmode": "relative",
        "coloraxis": {
         "colorbar": {
          "title": {
           "text": "Число событий"
          }
         },
         "colorscale": [
          [
           0,
           "#0d0887"
          ],
          [
           0.1111111111111111,
           "#46039f"
          ],
          [
           0.2222222222222222,
           "#7201a8"
          ],
          [
           0.3333333333333333,
           "#9c179e"
          ],
          [
           0.4444444444444444,
           "#bd3786"
          ],
          [
           0.5555555555555556,
           "#d8576b"
          ],
          [
           0.6666666666666666,
           "#ed7953"
          ],
          [
           0.7777777777777778,
           "#fb9f3a"
          ],
          [
           0.8888888888888888,
           "#fdca26"
          ],
          [
           1,
           "#f0f921"
          ]
         ]
        },
        "legend": {
         "tracegroupgap": 0
        },
        "template": {
         "data": {
          "bar": [
           {
            "error_x": {
             "color": "#2a3f5f"
            },
            "error_y": {
             "color": "#2a3f5f"
            },
            "marker": {
             "line": {
              "color": "#E5ECF6",
              "width": 0.5
             },
             "pattern": {
              "fillmode": "overlay",
              "size": 10,
              "solidity": 0.2
             }
            },
            "type": "bar"
           }
          ],
          "barpolar": [
           {
            "marker": {
             "line": {
              "color": "#E5ECF6",
              "width": 0.5
             },
             "pattern": {
              "fillmode": "overlay",
              "size": 10,
              "solidity": 0.2
             }
            },
            "type": "barpolar"
           }
          ],
          "carpet": [
           {
            "aaxis": {
             "endlinecolor": "#2a3f5f",
             "gridcolor": "white",
             "linecolor": "white",
             "minorgridcolor": "white",
             "startlinecolor": "#2a3f5f"
            },
            "baxis": {
             "endlinecolor": "#2a3f5f",
             "gridcolor": "white",
             "linecolor": "white",
             "minorgridcolor": "white",
             "startlinecolor": "#2a3f5f"
            },
            "type": "carpet"
           }
          ],
          "choropleth": [
           {
            "colorbar": {
             "outlinewidth": 0,
             "ticks": ""
            },
            "type": "choropleth"
           }
          ],
          "contour": [
           {
            "colorbar": {
             "outlinewidth": 0,
             "ticks": ""
            },
            "colorscale": [
             [
              0,
              "#0d0887"
             ],
             [
              0.1111111111111111,
              "#46039f"
             ],
             [
              0.2222222222222222,
              "#7201a8"
             ],
             [
              0.3333333333333333,
              "#9c179e"
             ],
             [
              0.4444444444444444,
              "#bd3786"
             ],
             [
              0.5555555555555556,
              "#d8576b"
             ],
             [
              0.6666666666666666,
              "#ed7953"
             ],
             [
              0.7777777777777778,
              "#fb9f3a"
             ],
             [
              0.8888888888888888,
              "#fdca26"
             ],
             [
              1,
              "#f0f921"
             ]
            ],
            "type": "contour"
           }
          ],
          "contourcarpet": [
           {
            "colorbar": {
             "outlinewidth": 0,
             "ticks": ""
            },
            "type": "contourcarpet"
           }
          ],
          "heatmap": [
           {
            "colorbar": {
             "outlinewidth": 0,
             "ticks": ""
            },
            "colorscale": [
             [
              0,
              "#0d0887"
             ],
             [
              0.1111111111111111,
              "#46039f"
             ],
             [
              0.2222222222222222,
              "#7201a8"
             ],
             [
              0.3333333333333333,
              "#9c179e"
             ],
             [
              0.4444444444444444,
              "#bd3786"
             ],
             [
              0.5555555555555556,
              "#d8576b"
             ],
             [
              0.6666666666666666,
              "#ed7953"
             ],
             [
              0.7777777777777778,
              "#fb9f3a"
             ],
             [
              0.8888888888888888,
              "#fdca26"
             ],
             [
              1,
              "#f0f921"
             ]
            ],
            "type": "heatmap"
           }
          ],
          "heatmapgl": [
           {
            "colorbar": {
             "outlinewidth": 0,
             "ticks": ""
            },
            "colorscale": [
             [
              0,
              "#0d0887"
             ],
             [
              0.1111111111111111,
              "#46039f"
             ],
             [
              0.2222222222222222,
              "#7201a8"
             ],
             [
              0.3333333333333333,
              "#9c179e"
             ],
             [
              0.4444444444444444,
              "#bd3786"
             ],
             [
              0.5555555555555556,
              "#d8576b"
             ],
             [
              0.6666666666666666,
              "#ed7953"
             ],
             [
              0.7777777777777778,
              "#fb9f3a"
             ],
             [
              0.8888888888888888,
              "#fdca26"
             ],
             [
              1,
              "#f0f921"
             ]
            ],
            "type": "heatmapgl"
           }
          ],
          "histogram": [
           {
            "marker": {
             "pattern": {
              "fillmode": "overlay",
              "size": 10,
              "solidity": 0.2
             }
            },
            "type": "histogram"
           }
          ],
          "histogram2d": [
           {
            "colorbar": {
             "outlinewidth": 0,
             "ticks": ""
            },
            "colorscale": [
             [
              0,
              "#0d0887"
             ],
             [
              0.1111111111111111,
              "#46039f"
             ],
             [
              0.2222222222222222,
              "#7201a8"
             ],
             [
              0.3333333333333333,
              "#9c179e"
             ],
             [
              0.4444444444444444,
              "#bd3786"
             ],
             [
              0.5555555555555556,
              "#d8576b"
             ],
             [
              0.6666666666666666,
              "#ed7953"
             ],
             [
              0.7777777777777778,
              "#fb9f3a"
             ],
             [
              0.8888888888888888,
              "#fdca26"
             ],
             [
              1,
              "#f0f921"
             ]
            ],
            "type": "histogram2d"
           }
          ],
          "histogram2dcontour": [
           {
            "colorbar": {
             "outlinewidth": 0,
             "ticks": ""
            },
            "colorscale": [
             [
              0,
              "#0d0887"
             ],
             [
              0.1111111111111111,
              "#46039f"
             ],
             [
              0.2222222222222222,
              "#7201a8"
             ],
             [
              0.3333333333333333,
              "#9c179e"
             ],
             [
              0.4444444444444444,
              "#bd3786"
             ],
             [
              0.5555555555555556,
              "#d8576b"
             ],
             [
              0.6666666666666666,
              "#ed7953"
             ],
             [
              0.7777777777777778,
              "#fb9f3a"
             ],
             [
              0.8888888888888888,
              "#fdca26"
             ],
             [
              1,
              "#f0f921"
             ]
            ],
            "type": "histogram2dcontour"
           }
          ],
          "mesh3d": [
           {
            "colorbar": {
             "outlinewidth": 0,
             "ticks": ""
            },
            "type": "mesh3d"
           }
          ],
          "parcoords": [
           {
            "line": {
             "colorbar": {
              "outlinewidth": 0,
              "ticks": ""
             }
            },
            "type": "parcoords"
           }
          ],
          "pie": [
           {
            "automargin": true,
            "type": "pie"
           }
          ],
          "scatter": [
           {
            "marker": {
             "colorbar": {
              "outlinewidth": 0,
              "ticks": ""
             }
            },
            "type": "scatter"
           }
          ],
          "scatter3d": [
           {
            "line": {
             "colorbar": {
              "outlinewidth": 0,
              "ticks": ""
             }
            },
            "marker": {
             "colorbar": {
              "outlinewidth": 0,
              "ticks": ""
             }
            },
            "type": "scatter3d"
           }
          ],
          "scattercarpet": [
           {
            "marker": {
             "colorbar": {
              "outlinewidth": 0,
              "ticks": ""
             }
            },
            "type": "scattercarpet"
           }
          ],
          "scattergeo": [
           {
            "marker": {
             "colorbar": {
              "outlinewidth": 0,
              "ticks": ""
             }
            },
            "type": "scattergeo"
           }
          ],
          "scattergl": [
           {
            "marker": {
             "colorbar": {
              "outlinewidth": 0,
              "ticks": ""
             }
            },
            "type": "scattergl"
           }
          ],
          "scattermapbox": [
           {
            "marker": {
             "colorbar": {
              "outlinewidth": 0,
              "ticks": ""
             }
            },
            "type": "scattermapbox"
           }
          ],
          "scatterpolar": [
           {
            "marker": {
             "colorbar": {
              "outlinewidth": 0,
              "ticks": ""
             }
            },
            "type": "scatterpolar"
           }
          ],
          "scatterpolargl": [
           {
            "marker": {
             "colorbar": {
              "outlinewidth": 0,
              "ticks": ""
             }
            },
            "type": "scatterpolargl"
           }
          ],
          "scatterternary": [
           {
            "marker": {
             "colorbar": {
              "outlinewidth": 0,
              "ticks": ""
             }
            },
            "type": "scatterternary"
           }
          ],
          "surface": [
           {
            "colorbar": {
             "outlinewidth": 0,
             "ticks": ""
            },
            "colorscale": [
             [
              0,
              "#0d0887"
             ],
             [
              0.1111111111111111,
              "#46039f"
             ],
             [
              0.2222222222222222,
              "#7201a8"
             ],
             [
              0.3333333333333333,
              "#9c179e"
             ],
             [
              0.4444444444444444,
              "#bd3786"
             ],
             [
              0.5555555555555556,
              "#d8576b"
             ],
             [
              0.6666666666666666,
              "#ed7953"
             ],
             [
              0.7777777777777778,
              "#fb9f3a"
             ],
             [
              0.8888888888888888,
              "#fdca26"
             ],
             [
              1,
              "#f0f921"
             ]
            ],
            "type": "surface"
           }
          ],
          "table": [
           {
            "cells": {
             "fill": {
              "color": "#EBF0F8"
             },
             "line": {
              "color": "white"
             }
            },
            "header": {
             "fill": {
              "color": "#C8D4E3"
             },
             "line": {
              "color": "white"
             }
            },
            "type": "table"
           }
          ]
         },
         "layout": {
          "annotationdefaults": {
           "arrowcolor": "#2a3f5f",
           "arrowhead": 0,
           "arrowwidth": 1
          },
          "autotypenumbers": "strict",
          "coloraxis": {
           "colorbar": {
            "outlinewidth": 0,
            "ticks": ""
           }
          },
          "colorscale": {
           "diverging": [
            [
             0,
             "#8e0152"
            ],
            [
             0.1,
             "#c51b7d"
            ],
            [
             0.2,
             "#de77ae"
            ],
            [
             0.3,
             "#f1b6da"
            ],
            [
             0.4,
             "#fde0ef"
            ],
            [
             0.5,
             "#f7f7f7"
            ],
            [
             0.6,
             "#e6f5d0"
            ],
            [
             0.7,
             "#b8e186"
            ],
            [
             0.8,
             "#7fbc41"
            ],
            [
             0.9,
             "#4d9221"
            ],
            [
             1,
             "#276419"
            ]
           ],
           "sequential": [
            [
             0,
             "#0d0887"
            ],
            [
             0.1111111111111111,
             "#46039f"
            ],
            [
             0.2222222222222222,
             "#7201a8"
            ],
            [
             0.3333333333333333,
             "#9c179e"
            ],
            [
             0.4444444444444444,
             "#bd3786"
            ],
            [
             0.5555555555555556,
             "#d8576b"
            ],
            [
             0.6666666666666666,
             "#ed7953"
            ],
            [
             0.7777777777777778,
             "#fb9f3a"
            ],
            [
             0.8888888888888888,
             "#fdca26"
            ],
            [
             1,
             "#f0f921"
            ]
           ],
           "sequentialminus": [
            [
             0,
             "#0d0887"
            ],
            [
             0.1111111111111111,
             "#46039f"
            ],
            [
             0.2222222222222222,
             "#7201a8"
            ],
            [
             0.3333333333333333,
             "#9c179e"
            ],
            [
             0.4444444444444444,
             "#bd3786"
            ],
            [
             0.5555555555555556,
             "#d8576b"
            ],
            [
             0.6666666666666666,
             "#ed7953"
            ],
            [
             0.7777777777777778,
             "#fb9f3a"
            ],
            [
             0.8888888888888888,
             "#fdca26"
            ],
            [
             1,
             "#f0f921"
            ]
           ]
          },
          "colorway": [
           "#636efa",
           "#EF553B",
           "#00cc96",
           "#ab63fa",
           "#FFA15A",
           "#19d3f3",
           "#FF6692",
           "#B6E880",
           "#FF97FF",
           "#FECB52"
          ],
          "font": {
           "color": "#2a3f5f"
          },
          "geo": {
           "bgcolor": "white",
           "lakecolor": "white",
           "landcolor": "#E5ECF6",
           "showlakes": true,
           "showland": true,
           "subunitcolor": "white"
          },
          "hoverlabel": {
           "align": "left"
          },
          "hovermode": "closest",
          "mapbox": {
           "style": "light"
          },
          "paper_bgcolor": "white",
          "plot_bgcolor": "#E5ECF6",
          "polar": {
           "angularaxis": {
            "gridcolor": "white",
            "linecolor": "white",
            "ticks": ""
           },
           "bgcolor": "#E5ECF6",
           "radialaxis": {
            "gridcolor": "white",
            "linecolor": "white",
            "ticks": ""
           }
          },
          "scene": {
           "xaxis": {
            "backgroundcolor": "#E5ECF6",
            "gridcolor": "white",
            "gridwidth": 2,
            "linecolor": "white",
            "showbackground": true,
            "ticks": "",
            "zerolinecolor": "white"
           },
           "yaxis": {
            "backgroundcolor": "#E5ECF6",
            "gridcolor": "white",
            "gridwidth": 2,
            "linecolor": "white",
            "showbackground": true,
            "ticks": "",
            "zerolinecolor": "white"
           },
           "zaxis": {
            "backgroundcolor": "#E5ECF6",
            "gridcolor": "white",
            "gridwidth": 2,
            "linecolor": "white",
            "showbackground": true,
            "ticks": "",
            "zerolinecolor": "white"
           }
          },
          "shapedefaults": {
           "line": {
            "color": "#2a3f5f"
           }
          },
          "ternary": {
           "aaxis": {
            "gridcolor": "white",
            "linecolor": "white",
            "ticks": ""
           },
           "baxis": {
            "gridcolor": "white",
            "linecolor": "white",
            "ticks": ""
           },
           "bgcolor": "#E5ECF6",
           "caxis": {
            "gridcolor": "white",
            "linecolor": "white",
            "ticks": ""
           }
          },
          "title": {
           "x": 0.05
          },
          "xaxis": {
           "automargin": true,
           "gridcolor": "white",
           "linecolor": "white",
           "ticks": "",
           "title": {
            "standoff": 15
           },
           "zerolinecolor": "white",
           "zerolinewidth": 2
          },
          "yaxis": {
           "automargin": true,
           "gridcolor": "white",
           "linecolor": "white",
           "ticks": "",
           "title": {
            "standoff": 15
           },
           "zerolinecolor": "white",
           "zerolinewidth": 2
          }
         }
        },
        "title": {
         "text": "События по частоте"
        },
        "xaxis": {
         "anchor": "y",
         "domain": [
          0,
          1
         ],
         "title": {
          "text": "Названия события"
         }
        },
        "yaxis": {
         "anchor": "x",
         "domain": [
          0,
          1
         ],
         "title": {
          "text": "Число событий"
         }
        }
       }
      },
      "text/html": [
       "<div>                            <div id=\"d290838e-6e45-454d-a98e-747ba353d32b\" class=\"plotly-graph-div\" style=\"height:525px; width:100%;\"></div>            <script type=\"text/javascript\">                require([\"plotly\"], function(Plotly) {                    window.PLOTLYENV=window.PLOTLYENV || {};                                    if (document.getElementById(\"d290838e-6e45-454d-a98e-747ba353d32b\")) {                    Plotly.newPlot(                        \"d290838e-6e45-454d-a98e-747ba353d32b\",                        [{\"alignmentgroup\":\"True\",\"hovertemplate\":\"\\u041d\\u0430\\u0437\\u0432\\u0430\\u043d\\u0438\\u044f \\u0441\\u043e\\u0431\\u044b\\u0442\\u0438\\u044f=%{x}<br>\\u0427\\u0438\\u0441\\u043b\\u043e \\u0441\\u043e\\u0431\\u044b\\u0442\\u0438\\u0439=%{marker.color}<extra></extra>\",\"legendgroup\":\"\",\"marker\":{\"color\":[8194,5108,2446,2406],\"coloraxis\":\"coloraxis\",\"pattern\":{\"shape\":\"\"}},\"name\":\"\",\"offsetgroup\":\"\",\"orientation\":\"v\",\"showlegend\":false,\"text\":[8194.0,5108.0,2446.0,2406.0],\"textposition\":\"auto\",\"x\":[\"login\",\"product_page\",\"product_cart\",\"purchase\"],\"xaxis\":\"x\",\"y\":[8194,5108,2446,2406],\"yaxis\":\"y\",\"type\":\"bar\"}],                        {\"template\":{\"data\":{\"bar\":[{\"error_x\":{\"color\":\"#2a3f5f\"},\"error_y\":{\"color\":\"#2a3f5f\"},\"marker\":{\"line\":{\"color\":\"#E5ECF6\",\"width\":0.5},\"pattern\":{\"fillmode\":\"overlay\",\"size\":10,\"solidity\":0.2}},\"type\":\"bar\"}],\"barpolar\":[{\"marker\":{\"line\":{\"color\":\"#E5ECF6\",\"width\":0.5},\"pattern\":{\"fillmode\":\"overlay\",\"size\":10,\"solidity\":0.2}},\"type\":\"barpolar\"}],\"carpet\":[{\"aaxis\":{\"endlinecolor\":\"#2a3f5f\",\"gridcolor\":\"white\",\"linecolor\":\"white\",\"minorgridcolor\":\"white\",\"startlinecolor\":\"#2a3f5f\"},\"baxis\":{\"endlinecolor\":\"#2a3f5f\",\"gridcolor\":\"white\",\"linecolor\":\"white\",\"minorgridcolor\":\"white\",\"startlinecolor\":\"#2a3f5f\"},\"type\":\"carpet\"}],\"choropleth\":[{\"colorbar\":{\"outlinewidth\":0,\"ticks\":\"\"},\"type\":\"choropleth\"}],\"contour\":[{\"colorbar\":{\"outlinewidth\":0,\"ticks\":\"\"},\"colorscale\":[[0.0,\"#0d0887\"],[0.1111111111111111,\"#46039f\"],[0.2222222222222222,\"#7201a8\"],[0.3333333333333333,\"#9c179e\"],[0.4444444444444444,\"#bd3786\"],[0.5555555555555556,\"#d8576b\"],[0.6666666666666666,\"#ed7953\"],[0.7777777777777778,\"#fb9f3a\"],[0.8888888888888888,\"#fdca26\"],[1.0,\"#f0f921\"]],\"type\":\"contour\"}],\"contourcarpet\":[{\"colorbar\":{\"outlinewidth\":0,\"ticks\":\"\"},\"type\":\"contourcarpet\"}],\"heatmap\":[{\"colorbar\":{\"outlinewidth\":0,\"ticks\":\"\"},\"colorscale\":[[0.0,\"#0d0887\"],[0.1111111111111111,\"#46039f\"],[0.2222222222222222,\"#7201a8\"],[0.3333333333333333,\"#9c179e\"],[0.4444444444444444,\"#bd3786\"],[0.5555555555555556,\"#d8576b\"],[0.6666666666666666,\"#ed7953\"],[0.7777777777777778,\"#fb9f3a\"],[0.8888888888888888,\"#fdca26\"],[1.0,\"#f0f921\"]],\"type\":\"heatmap\"}],\"heatmapgl\":[{\"colorbar\":{\"outlinewidth\":0,\"ticks\":\"\"},\"colorscale\":[[0.0,\"#0d0887\"],[0.1111111111111111,\"#46039f\"],[0.2222222222222222,\"#7201a8\"],[0.3333333333333333,\"#9c179e\"],[0.4444444444444444,\"#bd3786\"],[0.5555555555555556,\"#d8576b\"],[0.6666666666666666,\"#ed7953\"],[0.7777777777777778,\"#fb9f3a\"],[0.8888888888888888,\"#fdca26\"],[1.0,\"#f0f921\"]],\"type\":\"heatmapgl\"}],\"histogram\":[{\"marker\":{\"pattern\":{\"fillmode\":\"overlay\",\"size\":10,\"solidity\":0.2}},\"type\":\"histogram\"}],\"histogram2d\":[{\"colorbar\":{\"outlinewidth\":0,\"ticks\":\"\"},\"colorscale\":[[0.0,\"#0d0887\"],[0.1111111111111111,\"#46039f\"],[0.2222222222222222,\"#7201a8\"],[0.3333333333333333,\"#9c179e\"],[0.4444444444444444,\"#bd3786\"],[0.5555555555555556,\"#d8576b\"],[0.6666666666666666,\"#ed7953\"],[0.7777777777777778,\"#fb9f3a\"],[0.8888888888888888,\"#fdca26\"],[1.0,\"#f0f921\"]],\"type\":\"histogram2d\"}],\"histogram2dcontour\":[{\"colorbar\":{\"outlinewidth\":0,\"ticks\":\"\"},\"colorscale\":[[0.0,\"#0d0887\"],[0.1111111111111111,\"#46039f\"],[0.2222222222222222,\"#7201a8\"],[0.3333333333333333,\"#9c179e\"],[0.4444444444444444,\"#bd3786\"],[0.5555555555555556,\"#d8576b\"],[0.6666666666666666,\"#ed7953\"],[0.7777777777777778,\"#fb9f3a\"],[0.8888888888888888,\"#fdca26\"],[1.0,\"#f0f921\"]],\"type\":\"histogram2dcontour\"}],\"mesh3d\":[{\"colorbar\":{\"outlinewidth\":0,\"ticks\":\"\"},\"type\":\"mesh3d\"}],\"parcoords\":[{\"line\":{\"colorbar\":{\"outlinewidth\":0,\"ticks\":\"\"}},\"type\":\"parcoords\"}],\"pie\":[{\"automargin\":true,\"type\":\"pie\"}],\"scatter\":[{\"marker\":{\"colorbar\":{\"outlinewidth\":0,\"ticks\":\"\"}},\"type\":\"scatter\"}],\"scatter3d\":[{\"line\":{\"colorbar\":{\"outlinewidth\":0,\"ticks\":\"\"}},\"marker\":{\"colorbar\":{\"outlinewidth\":0,\"ticks\":\"\"}},\"type\":\"scatter3d\"}],\"scattercarpet\":[{\"marker\":{\"colorbar\":{\"outlinewidth\":0,\"ticks\":\"\"}},\"type\":\"scattercarpet\"}],\"scattergeo\":[{\"marker\":{\"colorbar\":{\"outlinewidth\":0,\"ticks\":\"\"}},\"type\":\"scattergeo\"}],\"scattergl\":[{\"marker\":{\"colorbar\":{\"outlinewidth\":0,\"ticks\":\"\"}},\"type\":\"scattergl\"}],\"scattermapbox\":[{\"marker\":{\"colorbar\":{\"outlinewidth\":0,\"ticks\":\"\"}},\"type\":\"scattermapbox\"}],\"scatterpolar\":[{\"marker\":{\"colorbar\":{\"outlinewidth\":0,\"ticks\":\"\"}},\"type\":\"scatterpolar\"}],\"scatterpolargl\":[{\"marker\":{\"colorbar\":{\"outlinewidth\":0,\"ticks\":\"\"}},\"type\":\"scatterpolargl\"}],\"scatterternary\":[{\"marker\":{\"colorbar\":{\"outlinewidth\":0,\"ticks\":\"\"}},\"type\":\"scatterternary\"}],\"surface\":[{\"colorbar\":{\"outlinewidth\":0,\"ticks\":\"\"},\"colorscale\":[[0.0,\"#0d0887\"],[0.1111111111111111,\"#46039f\"],[0.2222222222222222,\"#7201a8\"],[0.3333333333333333,\"#9c179e\"],[0.4444444444444444,\"#bd3786\"],[0.5555555555555556,\"#d8576b\"],[0.6666666666666666,\"#ed7953\"],[0.7777777777777778,\"#fb9f3a\"],[0.8888888888888888,\"#fdca26\"],[1.0,\"#f0f921\"]],\"type\":\"surface\"}],\"table\":[{\"cells\":{\"fill\":{\"color\":\"#EBF0F8\"},\"line\":{\"color\":\"white\"}},\"header\":{\"fill\":{\"color\":\"#C8D4E3\"},\"line\":{\"color\":\"white\"}},\"type\":\"table\"}]},\"layout\":{\"annotationdefaults\":{\"arrowcolor\":\"#2a3f5f\",\"arrowhead\":0,\"arrowwidth\":1},\"autotypenumbers\":\"strict\",\"coloraxis\":{\"colorbar\":{\"outlinewidth\":0,\"ticks\":\"\"}},\"colorscale\":{\"diverging\":[[0,\"#8e0152\"],[0.1,\"#c51b7d\"],[0.2,\"#de77ae\"],[0.3,\"#f1b6da\"],[0.4,\"#fde0ef\"],[0.5,\"#f7f7f7\"],[0.6,\"#e6f5d0\"],[0.7,\"#b8e186\"],[0.8,\"#7fbc41\"],[0.9,\"#4d9221\"],[1,\"#276419\"]],\"sequential\":[[0.0,\"#0d0887\"],[0.1111111111111111,\"#46039f\"],[0.2222222222222222,\"#7201a8\"],[0.3333333333333333,\"#9c179e\"],[0.4444444444444444,\"#bd3786\"],[0.5555555555555556,\"#d8576b\"],[0.6666666666666666,\"#ed7953\"],[0.7777777777777778,\"#fb9f3a\"],[0.8888888888888888,\"#fdca26\"],[1.0,\"#f0f921\"]],\"sequentialminus\":[[0.0,\"#0d0887\"],[0.1111111111111111,\"#46039f\"],[0.2222222222222222,\"#7201a8\"],[0.3333333333333333,\"#9c179e\"],[0.4444444444444444,\"#bd3786\"],[0.5555555555555556,\"#d8576b\"],[0.6666666666666666,\"#ed7953\"],[0.7777777777777778,\"#fb9f3a\"],[0.8888888888888888,\"#fdca26\"],[1.0,\"#f0f921\"]]},\"colorway\":[\"#636efa\",\"#EF553B\",\"#00cc96\",\"#ab63fa\",\"#FFA15A\",\"#19d3f3\",\"#FF6692\",\"#B6E880\",\"#FF97FF\",\"#FECB52\"],\"font\":{\"color\":\"#2a3f5f\"},\"geo\":{\"bgcolor\":\"white\",\"lakecolor\":\"white\",\"landcolor\":\"#E5ECF6\",\"showlakes\":true,\"showland\":true,\"subunitcolor\":\"white\"},\"hoverlabel\":{\"align\":\"left\"},\"hovermode\":\"closest\",\"mapbox\":{\"style\":\"light\"},\"paper_bgcolor\":\"white\",\"plot_bgcolor\":\"#E5ECF6\",\"polar\":{\"angularaxis\":{\"gridcolor\":\"white\",\"linecolor\":\"white\",\"ticks\":\"\"},\"bgcolor\":\"#E5ECF6\",\"radialaxis\":{\"gridcolor\":\"white\",\"linecolor\":\"white\",\"ticks\":\"\"}},\"scene\":{\"xaxis\":{\"backgroundcolor\":\"#E5ECF6\",\"gridcolor\":\"white\",\"gridwidth\":2,\"linecolor\":\"white\",\"showbackground\":true,\"ticks\":\"\",\"zerolinecolor\":\"white\"},\"yaxis\":{\"backgroundcolor\":\"#E5ECF6\",\"gridcolor\":\"white\",\"gridwidth\":2,\"linecolor\":\"white\",\"showbackground\":true,\"ticks\":\"\",\"zerolinecolor\":\"white\"},\"zaxis\":{\"backgroundcolor\":\"#E5ECF6\",\"gridcolor\":\"white\",\"gridwidth\":2,\"linecolor\":\"white\",\"showbackground\":true,\"ticks\":\"\",\"zerolinecolor\":\"white\"}},\"shapedefaults\":{\"line\":{\"color\":\"#2a3f5f\"}},\"ternary\":{\"aaxis\":{\"gridcolor\":\"white\",\"linecolor\":\"white\",\"ticks\":\"\"},\"baxis\":{\"gridcolor\":\"white\",\"linecolor\":\"white\",\"ticks\":\"\"},\"bgcolor\":\"#E5ECF6\",\"caxis\":{\"gridcolor\":\"white\",\"linecolor\":\"white\",\"ticks\":\"\"}},\"title\":{\"x\":0.05},\"xaxis\":{\"automargin\":true,\"gridcolor\":\"white\",\"linecolor\":\"white\",\"ticks\":\"\",\"title\":{\"standoff\":15},\"zerolinecolor\":\"white\",\"zerolinewidth\":2},\"yaxis\":{\"automargin\":true,\"gridcolor\":\"white\",\"linecolor\":\"white\",\"ticks\":\"\",\"title\":{\"standoff\":15},\"zerolinecolor\":\"white\",\"zerolinewidth\":2}}},\"xaxis\":{\"anchor\":\"y\",\"domain\":[0.0,1.0],\"title\":{\"text\":\"\\u041d\\u0430\\u0437\\u0432\\u0430\\u043d\\u0438\\u044f \\u0441\\u043e\\u0431\\u044b\\u0442\\u0438\\u044f\"}},\"yaxis\":{\"anchor\":\"x\",\"domain\":[0.0,1.0],\"title\":{\"text\":\"\\u0427\\u0438\\u0441\\u043b\\u043e \\u0441\\u043e\\u0431\\u044b\\u0442\\u0438\\u0439\"}},\"coloraxis\":{\"colorbar\":{\"title\":{\"text\":\"\\u0427\\u0438\\u0441\\u043b\\u043e \\u0441\\u043e\\u0431\\u044b\\u0442\\u0438\\u0439\"}},\"colorscale\":[[0.0,\"#0d0887\"],[0.1111111111111111,\"#46039f\"],[0.2222222222222222,\"#7201a8\"],[0.3333333333333333,\"#9c179e\"],[0.4444444444444444,\"#bd3786\"],[0.5555555555555556,\"#d8576b\"],[0.6666666666666666,\"#ed7953\"],[0.7777777777777778,\"#fb9f3a\"],[0.8888888888888888,\"#fdca26\"],[1.0,\"#f0f921\"]]},\"legend\":{\"tracegroupgap\":0},\"title\":{\"text\":\"\\u0421\\u043e\\u0431\\u044b\\u0442\\u0438\\u044f \\u043f\\u043e \\u0447\\u0430\\u0441\\u0442\\u043e\\u0442\\u0435\"},\"barmode\":\"relative\"},                        {\"responsive\": true}                    ).then(function(){\n",
       "                            \n",
       "var gd = document.getElementById('d290838e-6e45-454d-a98e-747ba353d32b');\n",
       "var x = new MutationObserver(function (mutations, observer) {{\n",
       "        var display = window.getComputedStyle(gd).display;\n",
       "        if (!display || display === 'none') {{\n",
       "            console.log([gd, 'removed!']);\n",
       "            Plotly.purge(gd);\n",
       "            observer.disconnect();\n",
       "        }}\n",
       "}});\n",
       "\n",
       "// Listen for the removal of the full notebook cells\n",
       "var notebookContainer = gd.closest('#notebook-container');\n",
       "if (notebookContainer) {{\n",
       "    x.observe(notebookContainer, {childList: true});\n",
       "}}\n",
       "\n",
       "// Listen for the clearing of the current output cell\n",
       "var outputEl = gd.closest('.output');\n",
       "if (outputEl) {{\n",
       "    x.observe(outputEl, {childList: true});\n",
       "}}\n",
       "\n",
       "                        })                };                });            </script>        </div>"
      ]
     },
     "metadata": {},
     "output_type": "display_data"
    }
   ],
   "source": [
    "# нарисуем график\n",
    "fig = px.bar(count_event,\n",
    "       # обозначим ось X      \n",
    "       x ='event_name',\n",
    "       # обозначим ось Y      \n",
    "       y = 'count',\n",
    "       # покажем число  событий     \n",
    "       text = 'count',\n",
    "       # обозначим цвет количества      \n",
    "       color = 'count',\n",
    "       # сделаем подписи      \n",
    "       title = 'События по частоте',  \n",
    "      labels = {'count' : 'Число событий',\n",
    "               'event_name' : 'Названия события'})\n",
    "fig.show()"
   ]
  },
  {
   "cell_type": "markdown",
   "metadata": {},
   "source": [
    "- Самое частое событие является login (8194) \n",
    "- далее пользователь переходит на страницу продукта product_page (5108)\n",
    "- далее   он попадает в продуктовую корзину product_cart (2446)\n",
    "- далее переходит к покупке purchase (2406)\n",
    "\n",
    "Мы видим что конверсия, в продуктовой корзине почти такая же как и конверсия покупки, вероятно можно совершить покупку напрямую не переходя в корзину с товаром."
   ]
  },
  {
   "cell_type": "markdown",
   "metadata": {},
   "source": [
    "#### Посчитаем какое количество пользователей совершали каждое из этих событий."
   ]
  },
  {
   "cell_type": "code",
   "execution_count": 116,
   "metadata": {},
   "outputs": [
    {
     "data": {
      "text/html": [
       "<div>\n",
       "<style scoped>\n",
       "    .dataframe tbody tr th:only-of-type {\n",
       "        vertical-align: middle;\n",
       "    }\n",
       "\n",
       "    .dataframe tbody tr th {\n",
       "        vertical-align: top;\n",
       "    }\n",
       "\n",
       "    .dataframe thead th {\n",
       "        text-align: right;\n",
       "    }\n",
       "</style>\n",
       "<table border=\"1\" class=\"dataframe\">\n",
       "  <thead>\n",
       "    <tr style=\"text-align: right;\">\n",
       "      <th></th>\n",
       "      <th>event_name</th>\n",
       "      <th>count</th>\n",
       "    </tr>\n",
       "  </thead>\n",
       "  <tbody>\n",
       "    <tr>\n",
       "      <th>0</th>\n",
       "      <td>login</td>\n",
       "      <td>2787</td>\n",
       "    </tr>\n",
       "    <tr>\n",
       "      <th>1</th>\n",
       "      <td>product_page</td>\n",
       "      <td>1757</td>\n",
       "    </tr>\n",
       "    <tr>\n",
       "      <th>2</th>\n",
       "      <td>purchase</td>\n",
       "      <td>850</td>\n",
       "    </tr>\n",
       "    <tr>\n",
       "      <th>3</th>\n",
       "      <td>product_cart</td>\n",
       "      <td>826</td>\n",
       "    </tr>\n",
       "  </tbody>\n",
       "</table>\n",
       "</div>"
      ],
      "text/plain": [
       "     event_name  count\n",
       "0         login   2787\n",
       "1  product_page   1757\n",
       "2      purchase    850\n",
       "3  product_cart    826"
      ]
     },
     "metadata": {},
     "output_type": "display_data"
    }
   ],
   "source": [
    "# сгруппируем события по количеству пользователей, рассматриваем уникальных пользователей\n",
    "uid_event = final_rs_test.groupby('event_name').agg(count = ('user_id','nunique')).sort_values(by = 'count',ascending = False).reset_index()\n",
    "# выводим на экран                                                                                                                                                               \n",
    "display(uid_event)"
   ]
  },
  {
   "cell_type": "markdown",
   "metadata": {},
   "source": [
    "Видим, что пользователей больше совершало события покупка, а должны были сперва переходить в корзину"
   ]
  },
  {
   "cell_type": "code",
   "execution_count": 117,
   "metadata": {},
   "outputs": [
    {
     "data": {
      "text/html": [
       "<div>\n",
       "<style scoped>\n",
       "    .dataframe tbody tr th:only-of-type {\n",
       "        vertical-align: middle;\n",
       "    }\n",
       "\n",
       "    .dataframe tbody tr th {\n",
       "        vertical-align: top;\n",
       "    }\n",
       "\n",
       "    .dataframe thead th {\n",
       "        text-align: right;\n",
       "    }\n",
       "</style>\n",
       "<table border=\"1\" class=\"dataframe\">\n",
       "  <thead>\n",
       "    <tr style=\"text-align: right;\">\n",
       "      <th></th>\n",
       "      <th>event_name</th>\n",
       "      <th>count</th>\n",
       "      <th>percent</th>\n",
       "    </tr>\n",
       "  </thead>\n",
       "  <tbody>\n",
       "    <tr>\n",
       "      <th>0</th>\n",
       "      <td>login</td>\n",
       "      <td>2787</td>\n",
       "      <td>54.66</td>\n",
       "    </tr>\n",
       "    <tr>\n",
       "      <th>1</th>\n",
       "      <td>product_page</td>\n",
       "      <td>1757</td>\n",
       "      <td>34.46</td>\n",
       "    </tr>\n",
       "    <tr>\n",
       "      <th>2</th>\n",
       "      <td>purchase</td>\n",
       "      <td>850</td>\n",
       "      <td>16.67</td>\n",
       "    </tr>\n",
       "    <tr>\n",
       "      <th>3</th>\n",
       "      <td>product_cart</td>\n",
       "      <td>826</td>\n",
       "      <td>16.20</td>\n",
       "    </tr>\n",
       "  </tbody>\n",
       "</table>\n",
       "</div>"
      ],
      "text/plain": [
       "     event_name  count  percent\n",
       "0         login   2787    54.66\n",
       "1  product_page   1757    34.46\n",
       "2      purchase    850    16.67\n",
       "3  product_cart    826    16.20"
      ]
     },
     "metadata": {},
     "output_type": "display_data"
    }
   ],
   "source": [
    "# найдём проценты события, которые совершили пользователи \n",
    "# отфильтрованных пользователей поделим на общее число пользователей \n",
    "uid_event['percent'] = round((uid_event['count'] / rs_test['user_id'].nunique()) * 100, 2)\n",
    "# выберем необходимые нам столбцы\n",
    "uid_event.columns = ['event_name', 'count', 'percent']\n",
    "# выведем на экран \n",
    "display(uid_event)"
   ]
  },
  {
   "cell_type": "markdown",
   "metadata": {},
   "source": [
    "В процентном соотношении мы видим, что число пользователей, совершившие покупку больше чем число  пользователей, которые зашли в корзину."
   ]
  },
  {
   "cell_type": "code",
   "execution_count": 118,
   "metadata": {},
   "outputs": [
    {
     "data": {
      "application/vnd.plotly.v1+json": {
       "config": {
        "plotlyServerURL": "https://plot.ly"
       },
       "data": [
        {
         "alignmentgroup": "True",
         "hovertemplate": "События =%{x}<br>Количество=%{marker.color}<br>percent=%{text}<extra></extra>",
         "legendgroup": "",
         "marker": {
          "color": [
           2787,
           1757,
           850,
           826
          ],
          "coloraxis": "coloraxis",
          "pattern": {
           "shape": ""
          }
         },
         "name": "",
         "offsetgroup": "",
         "orientation": "v",
         "showlegend": false,
         "text": [
          54.66,
          34.46,
          16.67,
          16.2
         ],
         "textposition": "auto",
         "type": "bar",
         "x": [
          "login",
          "product_page",
          "purchase",
          "product_cart"
         ],
         "xaxis": "x",
         "y": [
          2787,
          1757,
          850,
          826
         ],
         "yaxis": "y"
        }
       ],
       "layout": {
        "barmode": "relative",
        "coloraxis": {
         "colorbar": {
          "title": {
           "text": "Количество"
          }
         },
         "colorscale": [
          [
           0,
           "#0d0887"
          ],
          [
           0.1111111111111111,
           "#46039f"
          ],
          [
           0.2222222222222222,
           "#7201a8"
          ],
          [
           0.3333333333333333,
           "#9c179e"
          ],
          [
           0.4444444444444444,
           "#bd3786"
          ],
          [
           0.5555555555555556,
           "#d8576b"
          ],
          [
           0.6666666666666666,
           "#ed7953"
          ],
          [
           0.7777777777777778,
           "#fb9f3a"
          ],
          [
           0.8888888888888888,
           "#fdca26"
          ],
          [
           1,
           "#f0f921"
          ]
         ]
        },
        "legend": {
         "tracegroupgap": 0
        },
        "template": {
         "data": {
          "bar": [
           {
            "error_x": {
             "color": "#2a3f5f"
            },
            "error_y": {
             "color": "#2a3f5f"
            },
            "marker": {
             "line": {
              "color": "#E5ECF6",
              "width": 0.5
             },
             "pattern": {
              "fillmode": "overlay",
              "size": 10,
              "solidity": 0.2
             }
            },
            "type": "bar"
           }
          ],
          "barpolar": [
           {
            "marker": {
             "line": {
              "color": "#E5ECF6",
              "width": 0.5
             },
             "pattern": {
              "fillmode": "overlay",
              "size": 10,
              "solidity": 0.2
             }
            },
            "type": "barpolar"
           }
          ],
          "carpet": [
           {
            "aaxis": {
             "endlinecolor": "#2a3f5f",
             "gridcolor": "white",
             "linecolor": "white",
             "minorgridcolor": "white",
             "startlinecolor": "#2a3f5f"
            },
            "baxis": {
             "endlinecolor": "#2a3f5f",
             "gridcolor": "white",
             "linecolor": "white",
             "minorgridcolor": "white",
             "startlinecolor": "#2a3f5f"
            },
            "type": "carpet"
           }
          ],
          "choropleth": [
           {
            "colorbar": {
             "outlinewidth": 0,
             "ticks": ""
            },
            "type": "choropleth"
           }
          ],
          "contour": [
           {
            "colorbar": {
             "outlinewidth": 0,
             "ticks": ""
            },
            "colorscale": [
             [
              0,
              "#0d0887"
             ],
             [
              0.1111111111111111,
              "#46039f"
             ],
             [
              0.2222222222222222,
              "#7201a8"
             ],
             [
              0.3333333333333333,
              "#9c179e"
             ],
             [
              0.4444444444444444,
              "#bd3786"
             ],
             [
              0.5555555555555556,
              "#d8576b"
             ],
             [
              0.6666666666666666,
              "#ed7953"
             ],
             [
              0.7777777777777778,
              "#fb9f3a"
             ],
             [
              0.8888888888888888,
              "#fdca26"
             ],
             [
              1,
              "#f0f921"
             ]
            ],
            "type": "contour"
           }
          ],
          "contourcarpet": [
           {
            "colorbar": {
             "outlinewidth": 0,
             "ticks": ""
            },
            "type": "contourcarpet"
           }
          ],
          "heatmap": [
           {
            "colorbar": {
             "outlinewidth": 0,
             "ticks": ""
            },
            "colorscale": [
             [
              0,
              "#0d0887"
             ],
             [
              0.1111111111111111,
              "#46039f"
             ],
             [
              0.2222222222222222,
              "#7201a8"
             ],
             [
              0.3333333333333333,
              "#9c179e"
             ],
             [
              0.4444444444444444,
              "#bd3786"
             ],
             [
              0.5555555555555556,
              "#d8576b"
             ],
             [
              0.6666666666666666,
              "#ed7953"
             ],
             [
              0.7777777777777778,
              "#fb9f3a"
             ],
             [
              0.8888888888888888,
              "#fdca26"
             ],
             [
              1,
              "#f0f921"
             ]
            ],
            "type": "heatmap"
           }
          ],
          "heatmapgl": [
           {
            "colorbar": {
             "outlinewidth": 0,
             "ticks": ""
            },
            "colorscale": [
             [
              0,
              "#0d0887"
             ],
             [
              0.1111111111111111,
              "#46039f"
             ],
             [
              0.2222222222222222,
              "#7201a8"
             ],
             [
              0.3333333333333333,
              "#9c179e"
             ],
             [
              0.4444444444444444,
              "#bd3786"
             ],
             [
              0.5555555555555556,
              "#d8576b"
             ],
             [
              0.6666666666666666,
              "#ed7953"
             ],
             [
              0.7777777777777778,
              "#fb9f3a"
             ],
             [
              0.8888888888888888,
              "#fdca26"
             ],
             [
              1,
              "#f0f921"
             ]
            ],
            "type": "heatmapgl"
           }
          ],
          "histogram": [
           {
            "marker": {
             "pattern": {
              "fillmode": "overlay",
              "size": 10,
              "solidity": 0.2
             }
            },
            "type": "histogram"
           }
          ],
          "histogram2d": [
           {
            "colorbar": {
             "outlinewidth": 0,
             "ticks": ""
            },
            "colorscale": [
             [
              0,
              "#0d0887"
             ],
             [
              0.1111111111111111,
              "#46039f"
             ],
             [
              0.2222222222222222,
              "#7201a8"
             ],
             [
              0.3333333333333333,
              "#9c179e"
             ],
             [
              0.4444444444444444,
              "#bd3786"
             ],
             [
              0.5555555555555556,
              "#d8576b"
             ],
             [
              0.6666666666666666,
              "#ed7953"
             ],
             [
              0.7777777777777778,
              "#fb9f3a"
             ],
             [
              0.8888888888888888,
              "#fdca26"
             ],
             [
              1,
              "#f0f921"
             ]
            ],
            "type": "histogram2d"
           }
          ],
          "histogram2dcontour": [
           {
            "colorbar": {
             "outlinewidth": 0,
             "ticks": ""
            },
            "colorscale": [
             [
              0,
              "#0d0887"
             ],
             [
              0.1111111111111111,
              "#46039f"
             ],
             [
              0.2222222222222222,
              "#7201a8"
             ],
             [
              0.3333333333333333,
              "#9c179e"
             ],
             [
              0.4444444444444444,
              "#bd3786"
             ],
             [
              0.5555555555555556,
              "#d8576b"
             ],
             [
              0.6666666666666666,
              "#ed7953"
             ],
             [
              0.7777777777777778,
              "#fb9f3a"
             ],
             [
              0.8888888888888888,
              "#fdca26"
             ],
             [
              1,
              "#f0f921"
             ]
            ],
            "type": "histogram2dcontour"
           }
          ],
          "mesh3d": [
           {
            "colorbar": {
             "outlinewidth": 0,
             "ticks": ""
            },
            "type": "mesh3d"
           }
          ],
          "parcoords": [
           {
            "line": {
             "colorbar": {
              "outlinewidth": 0,
              "ticks": ""
             }
            },
            "type": "parcoords"
           }
          ],
          "pie": [
           {
            "automargin": true,
            "type": "pie"
           }
          ],
          "scatter": [
           {
            "marker": {
             "colorbar": {
              "outlinewidth": 0,
              "ticks": ""
             }
            },
            "type": "scatter"
           }
          ],
          "scatter3d": [
           {
            "line": {
             "colorbar": {
              "outlinewidth": 0,
              "ticks": ""
             }
            },
            "marker": {
             "colorbar": {
              "outlinewidth": 0,
              "ticks": ""
             }
            },
            "type": "scatter3d"
           }
          ],
          "scattercarpet": [
           {
            "marker": {
             "colorbar": {
              "outlinewidth": 0,
              "ticks": ""
             }
            },
            "type": "scattercarpet"
           }
          ],
          "scattergeo": [
           {
            "marker": {
             "colorbar": {
              "outlinewidth": 0,
              "ticks": ""
             }
            },
            "type": "scattergeo"
           }
          ],
          "scattergl": [
           {
            "marker": {
             "colorbar": {
              "outlinewidth": 0,
              "ticks": ""
             }
            },
            "type": "scattergl"
           }
          ],
          "scattermapbox": [
           {
            "marker": {
             "colorbar": {
              "outlinewidth": 0,
              "ticks": ""
             }
            },
            "type": "scattermapbox"
           }
          ],
          "scatterpolar": [
           {
            "marker": {
             "colorbar": {
              "outlinewidth": 0,
              "ticks": ""
             }
            },
            "type": "scatterpolar"
           }
          ],
          "scatterpolargl": [
           {
            "marker": {
             "colorbar": {
              "outlinewidth": 0,
              "ticks": ""
             }
            },
            "type": "scatterpolargl"
           }
          ],
          "scatterternary": [
           {
            "marker": {
             "colorbar": {
              "outlinewidth": 0,
              "ticks": ""
             }
            },
            "type": "scatterternary"
           }
          ],
          "surface": [
           {
            "colorbar": {
             "outlinewidth": 0,
             "ticks": ""
            },
            "colorscale": [
             [
              0,
              "#0d0887"
             ],
             [
              0.1111111111111111,
              "#46039f"
             ],
             [
              0.2222222222222222,
              "#7201a8"
             ],
             [
              0.3333333333333333,
              "#9c179e"
             ],
             [
              0.4444444444444444,
              "#bd3786"
             ],
             [
              0.5555555555555556,
              "#d8576b"
             ],
             [
              0.6666666666666666,
              "#ed7953"
             ],
             [
              0.7777777777777778,
              "#fb9f3a"
             ],
             [
              0.8888888888888888,
              "#fdca26"
             ],
             [
              1,
              "#f0f921"
             ]
            ],
            "type": "surface"
           }
          ],
          "table": [
           {
            "cells": {
             "fill": {
              "color": "#EBF0F8"
             },
             "line": {
              "color": "white"
             }
            },
            "header": {
             "fill": {
              "color": "#C8D4E3"
             },
             "line": {
              "color": "white"
             }
            },
            "type": "table"
           }
          ]
         },
         "layout": {
          "annotationdefaults": {
           "arrowcolor": "#2a3f5f",
           "arrowhead": 0,
           "arrowwidth": 1
          },
          "autotypenumbers": "strict",
          "coloraxis": {
           "colorbar": {
            "outlinewidth": 0,
            "ticks": ""
           }
          },
          "colorscale": {
           "diverging": [
            [
             0,
             "#8e0152"
            ],
            [
             0.1,
             "#c51b7d"
            ],
            [
             0.2,
             "#de77ae"
            ],
            [
             0.3,
             "#f1b6da"
            ],
            [
             0.4,
             "#fde0ef"
            ],
            [
             0.5,
             "#f7f7f7"
            ],
            [
             0.6,
             "#e6f5d0"
            ],
            [
             0.7,
             "#b8e186"
            ],
            [
             0.8,
             "#7fbc41"
            ],
            [
             0.9,
             "#4d9221"
            ],
            [
             1,
             "#276419"
            ]
           ],
           "sequential": [
            [
             0,
             "#0d0887"
            ],
            [
             0.1111111111111111,
             "#46039f"
            ],
            [
             0.2222222222222222,
             "#7201a8"
            ],
            [
             0.3333333333333333,
             "#9c179e"
            ],
            [
             0.4444444444444444,
             "#bd3786"
            ],
            [
             0.5555555555555556,
             "#d8576b"
            ],
            [
             0.6666666666666666,
             "#ed7953"
            ],
            [
             0.7777777777777778,
             "#fb9f3a"
            ],
            [
             0.8888888888888888,
             "#fdca26"
            ],
            [
             1,
             "#f0f921"
            ]
           ],
           "sequentialminus": [
            [
             0,
             "#0d0887"
            ],
            [
             0.1111111111111111,
             "#46039f"
            ],
            [
             0.2222222222222222,
             "#7201a8"
            ],
            [
             0.3333333333333333,
             "#9c179e"
            ],
            [
             0.4444444444444444,
             "#bd3786"
            ],
            [
             0.5555555555555556,
             "#d8576b"
            ],
            [
             0.6666666666666666,
             "#ed7953"
            ],
            [
             0.7777777777777778,
             "#fb9f3a"
            ],
            [
             0.8888888888888888,
             "#fdca26"
            ],
            [
             1,
             "#f0f921"
            ]
           ]
          },
          "colorway": [
           "#636efa",
           "#EF553B",
           "#00cc96",
           "#ab63fa",
           "#FFA15A",
           "#19d3f3",
           "#FF6692",
           "#B6E880",
           "#FF97FF",
           "#FECB52"
          ],
          "font": {
           "color": "#2a3f5f"
          },
          "geo": {
           "bgcolor": "white",
           "lakecolor": "white",
           "landcolor": "#E5ECF6",
           "showlakes": true,
           "showland": true,
           "subunitcolor": "white"
          },
          "hoverlabel": {
           "align": "left"
          },
          "hovermode": "closest",
          "mapbox": {
           "style": "light"
          },
          "paper_bgcolor": "white",
          "plot_bgcolor": "#E5ECF6",
          "polar": {
           "angularaxis": {
            "gridcolor": "white",
            "linecolor": "white",
            "ticks": ""
           },
           "bgcolor": "#E5ECF6",
           "radialaxis": {
            "gridcolor": "white",
            "linecolor": "white",
            "ticks": ""
           }
          },
          "scene": {
           "xaxis": {
            "backgroundcolor": "#E5ECF6",
            "gridcolor": "white",
            "gridwidth": 2,
            "linecolor": "white",
            "showbackground": true,
            "ticks": "",
            "zerolinecolor": "white"
           },
           "yaxis": {
            "backgroundcolor": "#E5ECF6",
            "gridcolor": "white",
            "gridwidth": 2,
            "linecolor": "white",
            "showbackground": true,
            "ticks": "",
            "zerolinecolor": "white"
           },
           "zaxis": {
            "backgroundcolor": "#E5ECF6",
            "gridcolor": "white",
            "gridwidth": 2,
            "linecolor": "white",
            "showbackground": true,
            "ticks": "",
            "zerolinecolor": "white"
           }
          },
          "shapedefaults": {
           "line": {
            "color": "#2a3f5f"
           }
          },
          "ternary": {
           "aaxis": {
            "gridcolor": "white",
            "linecolor": "white",
            "ticks": ""
           },
           "baxis": {
            "gridcolor": "white",
            "linecolor": "white",
            "ticks": ""
           },
           "bgcolor": "#E5ECF6",
           "caxis": {
            "gridcolor": "white",
            "linecolor": "white",
            "ticks": ""
           }
          },
          "title": {
           "x": 0.05
          },
          "xaxis": {
           "automargin": true,
           "gridcolor": "white",
           "linecolor": "white",
           "ticks": "",
           "title": {
            "standoff": 15
           },
           "zerolinecolor": "white",
           "zerolinewidth": 2
          },
          "yaxis": {
           "automargin": true,
           "gridcolor": "white",
           "linecolor": "white",
           "ticks": "",
           "title": {
            "standoff": 15
           },
           "zerolinecolor": "white",
           "zerolinewidth": 2
          }
         }
        },
        "title": {
         "text": "Количество уникальных пользователей по событиям"
        },
        "xaxis": {
         "anchor": "y",
         "domain": [
          0,
          1
         ],
         "title": {
          "text": "События "
         }
        },
        "yaxis": {
         "anchor": "x",
         "domain": [
          0,
          1
         ],
         "title": {
          "text": "Количество"
         }
        }
       }
      },
      "text/html": [
       "<div>                            <div id=\"9a8c29a9-7bd2-48db-b948-22bb70b0f9d2\" class=\"plotly-graph-div\" style=\"height:525px; width:100%;\"></div>            <script type=\"text/javascript\">                require([\"plotly\"], function(Plotly) {                    window.PLOTLYENV=window.PLOTLYENV || {};                                    if (document.getElementById(\"9a8c29a9-7bd2-48db-b948-22bb70b0f9d2\")) {                    Plotly.newPlot(                        \"9a8c29a9-7bd2-48db-b948-22bb70b0f9d2\",                        [{\"alignmentgroup\":\"True\",\"hovertemplate\":\"\\u0421\\u043e\\u0431\\u044b\\u0442\\u0438\\u044f =%{x}<br>\\u041a\\u043e\\u043b\\u0438\\u0447\\u0435\\u0441\\u0442\\u0432\\u043e=%{marker.color}<br>percent=%{text}<extra></extra>\",\"legendgroup\":\"\",\"marker\":{\"color\":[2787,1757,850,826],\"coloraxis\":\"coloraxis\",\"pattern\":{\"shape\":\"\"}},\"name\":\"\",\"offsetgroup\":\"\",\"orientation\":\"v\",\"showlegend\":false,\"text\":[54.66,34.46,16.67,16.2],\"textposition\":\"auto\",\"x\":[\"login\",\"product_page\",\"purchase\",\"product_cart\"],\"xaxis\":\"x\",\"y\":[2787,1757,850,826],\"yaxis\":\"y\",\"type\":\"bar\"}],                        {\"template\":{\"data\":{\"bar\":[{\"error_x\":{\"color\":\"#2a3f5f\"},\"error_y\":{\"color\":\"#2a3f5f\"},\"marker\":{\"line\":{\"color\":\"#E5ECF6\",\"width\":0.5},\"pattern\":{\"fillmode\":\"overlay\",\"size\":10,\"solidity\":0.2}},\"type\":\"bar\"}],\"barpolar\":[{\"marker\":{\"line\":{\"color\":\"#E5ECF6\",\"width\":0.5},\"pattern\":{\"fillmode\":\"overlay\",\"size\":10,\"solidity\":0.2}},\"type\":\"barpolar\"}],\"carpet\":[{\"aaxis\":{\"endlinecolor\":\"#2a3f5f\",\"gridcolor\":\"white\",\"linecolor\":\"white\",\"minorgridcolor\":\"white\",\"startlinecolor\":\"#2a3f5f\"},\"baxis\":{\"endlinecolor\":\"#2a3f5f\",\"gridcolor\":\"white\",\"linecolor\":\"white\",\"minorgridcolor\":\"white\",\"startlinecolor\":\"#2a3f5f\"},\"type\":\"carpet\"}],\"choropleth\":[{\"colorbar\":{\"outlinewidth\":0,\"ticks\":\"\"},\"type\":\"choropleth\"}],\"contour\":[{\"colorbar\":{\"outlinewidth\":0,\"ticks\":\"\"},\"colorscale\":[[0.0,\"#0d0887\"],[0.1111111111111111,\"#46039f\"],[0.2222222222222222,\"#7201a8\"],[0.3333333333333333,\"#9c179e\"],[0.4444444444444444,\"#bd3786\"],[0.5555555555555556,\"#d8576b\"],[0.6666666666666666,\"#ed7953\"],[0.7777777777777778,\"#fb9f3a\"],[0.8888888888888888,\"#fdca26\"],[1.0,\"#f0f921\"]],\"type\":\"contour\"}],\"contourcarpet\":[{\"colorbar\":{\"outlinewidth\":0,\"ticks\":\"\"},\"type\":\"contourcarpet\"}],\"heatmap\":[{\"colorbar\":{\"outlinewidth\":0,\"ticks\":\"\"},\"colorscale\":[[0.0,\"#0d0887\"],[0.1111111111111111,\"#46039f\"],[0.2222222222222222,\"#7201a8\"],[0.3333333333333333,\"#9c179e\"],[0.4444444444444444,\"#bd3786\"],[0.5555555555555556,\"#d8576b\"],[0.6666666666666666,\"#ed7953\"],[0.7777777777777778,\"#fb9f3a\"],[0.8888888888888888,\"#fdca26\"],[1.0,\"#f0f921\"]],\"type\":\"heatmap\"}],\"heatmapgl\":[{\"colorbar\":{\"outlinewidth\":0,\"ticks\":\"\"},\"colorscale\":[[0.0,\"#0d0887\"],[0.1111111111111111,\"#46039f\"],[0.2222222222222222,\"#7201a8\"],[0.3333333333333333,\"#9c179e\"],[0.4444444444444444,\"#bd3786\"],[0.5555555555555556,\"#d8576b\"],[0.6666666666666666,\"#ed7953\"],[0.7777777777777778,\"#fb9f3a\"],[0.8888888888888888,\"#fdca26\"],[1.0,\"#f0f921\"]],\"type\":\"heatmapgl\"}],\"histogram\":[{\"marker\":{\"pattern\":{\"fillmode\":\"overlay\",\"size\":10,\"solidity\":0.2}},\"type\":\"histogram\"}],\"histogram2d\":[{\"colorbar\":{\"outlinewidth\":0,\"ticks\":\"\"},\"colorscale\":[[0.0,\"#0d0887\"],[0.1111111111111111,\"#46039f\"],[0.2222222222222222,\"#7201a8\"],[0.3333333333333333,\"#9c179e\"],[0.4444444444444444,\"#bd3786\"],[0.5555555555555556,\"#d8576b\"],[0.6666666666666666,\"#ed7953\"],[0.7777777777777778,\"#fb9f3a\"],[0.8888888888888888,\"#fdca26\"],[1.0,\"#f0f921\"]],\"type\":\"histogram2d\"}],\"histogram2dcontour\":[{\"colorbar\":{\"outlinewidth\":0,\"ticks\":\"\"},\"colorscale\":[[0.0,\"#0d0887\"],[0.1111111111111111,\"#46039f\"],[0.2222222222222222,\"#7201a8\"],[0.3333333333333333,\"#9c179e\"],[0.4444444444444444,\"#bd3786\"],[0.5555555555555556,\"#d8576b\"],[0.6666666666666666,\"#ed7953\"],[0.7777777777777778,\"#fb9f3a\"],[0.8888888888888888,\"#fdca26\"],[1.0,\"#f0f921\"]],\"type\":\"histogram2dcontour\"}],\"mesh3d\":[{\"colorbar\":{\"outlinewidth\":0,\"ticks\":\"\"},\"type\":\"mesh3d\"}],\"parcoords\":[{\"line\":{\"colorbar\":{\"outlinewidth\":0,\"ticks\":\"\"}},\"type\":\"parcoords\"}],\"pie\":[{\"automargin\":true,\"type\":\"pie\"}],\"scatter\":[{\"marker\":{\"colorbar\":{\"outlinewidth\":0,\"ticks\":\"\"}},\"type\":\"scatter\"}],\"scatter3d\":[{\"line\":{\"colorbar\":{\"outlinewidth\":0,\"ticks\":\"\"}},\"marker\":{\"colorbar\":{\"outlinewidth\":0,\"ticks\":\"\"}},\"type\":\"scatter3d\"}],\"scattercarpet\":[{\"marker\":{\"colorbar\":{\"outlinewidth\":0,\"ticks\":\"\"}},\"type\":\"scattercarpet\"}],\"scattergeo\":[{\"marker\":{\"colorbar\":{\"outlinewidth\":0,\"ticks\":\"\"}},\"type\":\"scattergeo\"}],\"scattergl\":[{\"marker\":{\"colorbar\":{\"outlinewidth\":0,\"ticks\":\"\"}},\"type\":\"scattergl\"}],\"scattermapbox\":[{\"marker\":{\"colorbar\":{\"outlinewidth\":0,\"ticks\":\"\"}},\"type\":\"scattermapbox\"}],\"scatterpolar\":[{\"marker\":{\"colorbar\":{\"outlinewidth\":0,\"ticks\":\"\"}},\"type\":\"scatterpolar\"}],\"scatterpolargl\":[{\"marker\":{\"colorbar\":{\"outlinewidth\":0,\"ticks\":\"\"}},\"type\":\"scatterpolargl\"}],\"scatterternary\":[{\"marker\":{\"colorbar\":{\"outlinewidth\":0,\"ticks\":\"\"}},\"type\":\"scatterternary\"}],\"surface\":[{\"colorbar\":{\"outlinewidth\":0,\"ticks\":\"\"},\"colorscale\":[[0.0,\"#0d0887\"],[0.1111111111111111,\"#46039f\"],[0.2222222222222222,\"#7201a8\"],[0.3333333333333333,\"#9c179e\"],[0.4444444444444444,\"#bd3786\"],[0.5555555555555556,\"#d8576b\"],[0.6666666666666666,\"#ed7953\"],[0.7777777777777778,\"#fb9f3a\"],[0.8888888888888888,\"#fdca26\"],[1.0,\"#f0f921\"]],\"type\":\"surface\"}],\"table\":[{\"cells\":{\"fill\":{\"color\":\"#EBF0F8\"},\"line\":{\"color\":\"white\"}},\"header\":{\"fill\":{\"color\":\"#C8D4E3\"},\"line\":{\"color\":\"white\"}},\"type\":\"table\"}]},\"layout\":{\"annotationdefaults\":{\"arrowcolor\":\"#2a3f5f\",\"arrowhead\":0,\"arrowwidth\":1},\"autotypenumbers\":\"strict\",\"coloraxis\":{\"colorbar\":{\"outlinewidth\":0,\"ticks\":\"\"}},\"colorscale\":{\"diverging\":[[0,\"#8e0152\"],[0.1,\"#c51b7d\"],[0.2,\"#de77ae\"],[0.3,\"#f1b6da\"],[0.4,\"#fde0ef\"],[0.5,\"#f7f7f7\"],[0.6,\"#e6f5d0\"],[0.7,\"#b8e186\"],[0.8,\"#7fbc41\"],[0.9,\"#4d9221\"],[1,\"#276419\"]],\"sequential\":[[0.0,\"#0d0887\"],[0.1111111111111111,\"#46039f\"],[0.2222222222222222,\"#7201a8\"],[0.3333333333333333,\"#9c179e\"],[0.4444444444444444,\"#bd3786\"],[0.5555555555555556,\"#d8576b\"],[0.6666666666666666,\"#ed7953\"],[0.7777777777777778,\"#fb9f3a\"],[0.8888888888888888,\"#fdca26\"],[1.0,\"#f0f921\"]],\"sequentialminus\":[[0.0,\"#0d0887\"],[0.1111111111111111,\"#46039f\"],[0.2222222222222222,\"#7201a8\"],[0.3333333333333333,\"#9c179e\"],[0.4444444444444444,\"#bd3786\"],[0.5555555555555556,\"#d8576b\"],[0.6666666666666666,\"#ed7953\"],[0.7777777777777778,\"#fb9f3a\"],[0.8888888888888888,\"#fdca26\"],[1.0,\"#f0f921\"]]},\"colorway\":[\"#636efa\",\"#EF553B\",\"#00cc96\",\"#ab63fa\",\"#FFA15A\",\"#19d3f3\",\"#FF6692\",\"#B6E880\",\"#FF97FF\",\"#FECB52\"],\"font\":{\"color\":\"#2a3f5f\"},\"geo\":{\"bgcolor\":\"white\",\"lakecolor\":\"white\",\"landcolor\":\"#E5ECF6\",\"showlakes\":true,\"showland\":true,\"subunitcolor\":\"white\"},\"hoverlabel\":{\"align\":\"left\"},\"hovermode\":\"closest\",\"mapbox\":{\"style\":\"light\"},\"paper_bgcolor\":\"white\",\"plot_bgcolor\":\"#E5ECF6\",\"polar\":{\"angularaxis\":{\"gridcolor\":\"white\",\"linecolor\":\"white\",\"ticks\":\"\"},\"bgcolor\":\"#E5ECF6\",\"radialaxis\":{\"gridcolor\":\"white\",\"linecolor\":\"white\",\"ticks\":\"\"}},\"scene\":{\"xaxis\":{\"backgroundcolor\":\"#E5ECF6\",\"gridcolor\":\"white\",\"gridwidth\":2,\"linecolor\":\"white\",\"showbackground\":true,\"ticks\":\"\",\"zerolinecolor\":\"white\"},\"yaxis\":{\"backgroundcolor\":\"#E5ECF6\",\"gridcolor\":\"white\",\"gridwidth\":2,\"linecolor\":\"white\",\"showbackground\":true,\"ticks\":\"\",\"zerolinecolor\":\"white\"},\"zaxis\":{\"backgroundcolor\":\"#E5ECF6\",\"gridcolor\":\"white\",\"gridwidth\":2,\"linecolor\":\"white\",\"showbackground\":true,\"ticks\":\"\",\"zerolinecolor\":\"white\"}},\"shapedefaults\":{\"line\":{\"color\":\"#2a3f5f\"}},\"ternary\":{\"aaxis\":{\"gridcolor\":\"white\",\"linecolor\":\"white\",\"ticks\":\"\"},\"baxis\":{\"gridcolor\":\"white\",\"linecolor\":\"white\",\"ticks\":\"\"},\"bgcolor\":\"#E5ECF6\",\"caxis\":{\"gridcolor\":\"white\",\"linecolor\":\"white\",\"ticks\":\"\"}},\"title\":{\"x\":0.05},\"xaxis\":{\"automargin\":true,\"gridcolor\":\"white\",\"linecolor\":\"white\",\"ticks\":\"\",\"title\":{\"standoff\":15},\"zerolinecolor\":\"white\",\"zerolinewidth\":2},\"yaxis\":{\"automargin\":true,\"gridcolor\":\"white\",\"linecolor\":\"white\",\"ticks\":\"\",\"title\":{\"standoff\":15},\"zerolinecolor\":\"white\",\"zerolinewidth\":2}}},\"xaxis\":{\"anchor\":\"y\",\"domain\":[0.0,1.0],\"title\":{\"text\":\"\\u0421\\u043e\\u0431\\u044b\\u0442\\u0438\\u044f \"}},\"yaxis\":{\"anchor\":\"x\",\"domain\":[0.0,1.0],\"title\":{\"text\":\"\\u041a\\u043e\\u043b\\u0438\\u0447\\u0435\\u0441\\u0442\\u0432\\u043e\"}},\"coloraxis\":{\"colorbar\":{\"title\":{\"text\":\"\\u041a\\u043e\\u043b\\u0438\\u0447\\u0435\\u0441\\u0442\\u0432\\u043e\"}},\"colorscale\":[[0.0,\"#0d0887\"],[0.1111111111111111,\"#46039f\"],[0.2222222222222222,\"#7201a8\"],[0.3333333333333333,\"#9c179e\"],[0.4444444444444444,\"#bd3786\"],[0.5555555555555556,\"#d8576b\"],[0.6666666666666666,\"#ed7953\"],[0.7777777777777778,\"#fb9f3a\"],[0.8888888888888888,\"#fdca26\"],[1.0,\"#f0f921\"]]},\"legend\":{\"tracegroupgap\":0},\"title\":{\"text\":\"\\u041a\\u043e\\u043b\\u0438\\u0447\\u0435\\u0441\\u0442\\u0432\\u043e \\u0443\\u043d\\u0438\\u043a\\u0430\\u043b\\u044c\\u043d\\u044b\\u0445 \\u043f\\u043e\\u043b\\u044c\\u0437\\u043e\\u0432\\u0430\\u0442\\u0435\\u043b\\u0435\\u0439 \\u043f\\u043e \\u0441\\u043e\\u0431\\u044b\\u0442\\u0438\\u044f\\u043c\"},\"barmode\":\"relative\"},                        {\"responsive\": true}                    ).then(function(){\n",
       "                            \n",
       "var gd = document.getElementById('9a8c29a9-7bd2-48db-b948-22bb70b0f9d2');\n",
       "var x = new MutationObserver(function (mutations, observer) {{\n",
       "        var display = window.getComputedStyle(gd).display;\n",
       "        if (!display || display === 'none') {{\n",
       "            console.log([gd, 'removed!']);\n",
       "            Plotly.purge(gd);\n",
       "            observer.disconnect();\n",
       "        }}\n",
       "}});\n",
       "\n",
       "// Listen for the removal of the full notebook cells\n",
       "var notebookContainer = gd.closest('#notebook-container');\n",
       "if (notebookContainer) {{\n",
       "    x.observe(notebookContainer, {childList: true});\n",
       "}}\n",
       "\n",
       "// Listen for the clearing of the current output cell\n",
       "var outputEl = gd.closest('.output');\n",
       "if (outputEl) {{\n",
       "    x.observe(outputEl, {childList: true});\n",
       "}}\n",
       "\n",
       "                        })                };                });            </script>        </div>"
      ]
     },
     "metadata": {},
     "output_type": "display_data"
    }
   ],
   "source": [
    "# визуализируем наш результат\n",
    "fig = px.bar(uid_event,\n",
    "       # события по оси X       \n",
    "       x ='event_name',\n",
    "       # количество по оси Y     \n",
    "       y = 'count',\n",
    "       # покажем проценты на событиях      \n",
    "       text = 'percent', \n",
    "       # распределим количество по цветам      \n",
    "       color = 'count',     \n",
    "       # сделаем обозначения и подписи      \n",
    "       title = 'Количество уникальных пользователей по событиям',\n",
    "      labels = {'count' : 'Количество',\n",
    "               'event_name' : 'События '})\n",
    "fig.show()"
   ]
  },
  {
   "cell_type": "markdown",
   "metadata": {},
   "source": [
    "Мы видим как пользователи совершали события:\n",
    "- Login - 2787 (54.66%)\n",
    "- Product Page - 1757 (34.46%)\n",
    "- Purchase - 850 (16.67%)\n",
    "- Product Cart - 826 (16.2%)\n",
    "\n",
    "Стандартный порядок выглядит не много иначе, сначала пользователь заходит в корзину, потом уже переходит на экран с покупкой.\n",
    "Следовательно, пользователи покупают не заходя в корзину. Сообщим об этом."
   ]
  },
  {
   "cell_type": "markdown",
   "metadata": {},
   "source": [
    "### Посмотрим распределение событий по дням"
   ]
  },
  {
   "cell_type": "code",
   "execution_count": 119,
   "metadata": {},
   "outputs": [
    {
     "data": {
      "text/html": [
       "<div>\n",
       "<style scoped>\n",
       "    .dataframe tbody tr th:only-of-type {\n",
       "        vertical-align: middle;\n",
       "    }\n",
       "\n",
       "    .dataframe tbody tr th {\n",
       "        vertical-align: top;\n",
       "    }\n",
       "\n",
       "    .dataframe thead th {\n",
       "        text-align: right;\n",
       "    }\n",
       "</style>\n",
       "<table border=\"1\" class=\"dataframe\">\n",
       "  <thead>\n",
       "    <tr style=\"text-align: right;\">\n",
       "      <th></th>\n",
       "      <th>event_dt</th>\n",
       "      <th>group</th>\n",
       "      <th>developments</th>\n",
       "    </tr>\n",
       "  </thead>\n",
       "  <tbody>\n",
       "    <tr>\n",
       "      <th>0</th>\n",
       "      <td>2020-12-07</td>\n",
       "      <td>A</td>\n",
       "      <td>234</td>\n",
       "    </tr>\n",
       "    <tr>\n",
       "      <th>1</th>\n",
       "      <td>2020-12-07</td>\n",
       "      <td>B</td>\n",
       "      <td>290</td>\n",
       "    </tr>\n",
       "    <tr>\n",
       "      <th>2</th>\n",
       "      <td>2020-12-08</td>\n",
       "      <td>A</td>\n",
       "      <td>267</td>\n",
       "    </tr>\n",
       "    <tr>\n",
       "      <th>3</th>\n",
       "      <td>2020-12-08</td>\n",
       "      <td>B</td>\n",
       "      <td>183</td>\n",
       "    </tr>\n",
       "    <tr>\n",
       "      <th>4</th>\n",
       "      <td>2020-12-09</td>\n",
       "      <td>A</td>\n",
       "      <td>296</td>\n",
       "    </tr>\n",
       "  </tbody>\n",
       "</table>\n",
       "</div>"
      ],
      "text/plain": [
       "     event_dt group  developments\n",
       "0  2020-12-07     A           234\n",
       "1  2020-12-07     B           290\n",
       "2  2020-12-08     A           267\n",
       "3  2020-12-08     B           183\n",
       "4  2020-12-09     A           296"
      ]
     },
     "execution_count": 119,
     "metadata": {},
     "output_type": "execute_result"
    }
   ],
   "source": [
    "# переведем время события в формат даты для того,чтобы узнать дни посчитаем количество событий на каждую из дат по группам\n",
    "final_rs_test['event_dt'] = final_rs_test['event_dt'].dt.date\n",
    "# посчитаем количество событий на каждую из дат по группам\n",
    "final_event_rs = final_rs_test.groupby(['event_dt', 'group']).agg(developments = ('event_name', 'count')).reset_index()\n",
    "final_event_rs.head()"
   ]
  },
  {
   "cell_type": "code",
   "execution_count": 120,
   "metadata": {},
   "outputs": [
    {
     "data": {
      "image/png": "[encoded data removed]",
      "text/plain": [
       "<Figure size 800x500 with 1 Axes>"
      ]
     },
     "metadata": {},
     "output_type": "display_data"
    }
   ],
   "source": [
    "# Построим линейные графики \n",
    "# Зададим размеры\n",
    "plt.figure(figsize=(8, 5))\n",
    "# подпишим название\n",
    "plt.title('Распределение между группами по дням')\n",
    "# выделим события по дате группы А\n",
    "sns.lineplot(x = 'event_dt', y = 'developments', data = final_event_rs[final_event_rs['group'] == 'A'], label='A')\n",
    "# выделим события по дате группы B\n",
    "sns.lineplot(x = 'event_dt', y = 'developments', data = final_event_rs[final_event_rs['group'] == 'B'], label='B')\n",
    "# подпишим ось X\n",
    "plt.xlabel('Распределение по дням')\n",
    "# подпишим ось Y\n",
    "plt.ylabel('Активность')\n",
    "plt.legend()\n",
    "plt.show()"
   ]
  },
  {
   "cell_type": "markdown",
   "metadata": {},
   "source": [
    "Обратим внимани, что группа А выделяется активностью. Активность начинается 2020-12-13 и дальше постепенно повышается. Самую  большую активность она достигает 2020-12-21, как раз в эти периоды происходила акция. Группа B тоже повышается 2020-12-21, только  совсем не яркавыражено, показывает более равномерное распределение. \n",
    "Данные распределения не выглядят равномерно."
   ]
  },
  {
   "cell_type": "code",
   "execution_count": 121,
   "metadata": {},
   "outputs": [
    {
     "data": {
      "text/html": [
       "<div>\n",
       "<style scoped>\n",
       "    .dataframe tbody tr th:only-of-type {\n",
       "        vertical-align: middle;\n",
       "    }\n",
       "\n",
       "    .dataframe tbody tr th {\n",
       "        vertical-align: top;\n",
       "    }\n",
       "\n",
       "    .dataframe thead th {\n",
       "        text-align: right;\n",
       "    }\n",
       "</style>\n",
       "<table border=\"1\" class=\"dataframe\">\n",
       "  <thead>\n",
       "    <tr style=\"text-align: right;\">\n",
       "      <th></th>\n",
       "      <th>name</th>\n",
       "      <th>regions</th>\n",
       "      <th>start_dt</th>\n",
       "      <th>finish_dt</th>\n",
       "    </tr>\n",
       "  </thead>\n",
       "  <tbody>\n",
       "    <tr>\n",
       "      <th>0</th>\n",
       "      <td>Christmas&amp;New Year Promo</td>\n",
       "      <td>EU, N.America</td>\n",
       "      <td>2020-12-25</td>\n",
       "      <td>2021-01-03</td>\n",
       "    </tr>\n",
       "    <tr>\n",
       "      <th>10</th>\n",
       "      <td>CIS New Year Gift Lottery</td>\n",
       "      <td>CIS</td>\n",
       "      <td>2020-12-30</td>\n",
       "      <td>2021-01-07</td>\n",
       "    </tr>\n",
       "  </tbody>\n",
       "</table>\n",
       "</div>"
      ],
      "text/plain": [
       "                         name        regions   start_dt  finish_dt\n",
       "0    Christmas&New Year Promo  EU, N.America 2020-12-25 2021-01-03\n",
       "10  CIS New Year Gift Lottery            CIS 2020-12-30 2021-01-07"
      ]
     },
     "execution_count": 121,
     "metadata": {},
     "output_type": "execute_result"
    }
   ],
   "source": [
    "ab_project_marketing_events[(ab_project_marketing_events['start_dt'] > '2020-12-13')]                          "
   ]
  },
  {
   "cell_type": "markdown",
   "metadata": {},
   "source": [
    "### Как меняется конверсия в воронке в выборках на разных этапах?"
   ]
  },
  {
   "cell_type": "code",
   "execution_count": 122,
   "metadata": {},
   "outputs": [
    {
     "data": {
      "text/plain": [
       "login           8194\n",
       "product_page    5108\n",
       "product_cart    2446\n",
       "purchase        2406\n",
       "Name: event_name, dtype: int64"
      ]
     },
     "execution_count": 122,
     "metadata": {},
     "output_type": "execute_result"
    }
   ],
   "source": [
    "# посмотрим на количество событий в финальном срезе \n",
    "final_rs_test['event_name'].value_counts()"
   ]
  },
  {
   "cell_type": "code",
   "execution_count": 123,
   "metadata": {},
   "outputs": [],
   "source": [
    "# создадим срез для группы А\n",
    "group_A_funnel = final_rs_test.query('group ==\"A\"')\n",
    "# сгруппируем события группы А по пользователям и отсортируем\n",
    "group_A_funnel = group_A_funnel.groupby(['event_name'])['user_id']\\\n",
    "                 .nunique().reset_index().sort_values(by='user_id', ascending=False)\n",
    "\n",
    "# создадим срез для группы B\n",
    "group_B_funnel = final_rs_test.query('group ==\"B\"')\n",
    "# сгруппируем события по пользователям и отсортируем \n",
    "group_B_funnel = group_B_funnel.groupby(['event_name'])['user_id']\\\n",
    "                .nunique().reset_index().sort_values(by='user_id', ascending=False)"
   ]
  },
  {
   "cell_type": "code",
   "execution_count": 124,
   "metadata": {},
   "outputs": [
    {
     "data": {
      "application/vnd.plotly.v1+json": {
       "config": {
        "plotlyServerURL": "https://plot.ly"
       },
       "data": [
        {
         "name": "group A",
         "textinfo": "value+percent previous+percent initial",
         "type": "funnel",
         "x": [
          2082,
          1360,
          631,
          652
         ],
         "y": [
          "login",
          "product_page",
          "product_cart",
          "purchase"
         ]
        },
        {
         "name": "group B",
         "textinfo": "value+percent previous+percent initial",
         "type": "funnel",
         "x": [
          705,
          397,
          195,
          198
         ],
         "y": [
          "login",
          "product_page",
          "product_cart",
          "purchase"
         ]
        }
       ],
       "layout": {
        "template": {
         "data": {
          "bar": [
           {
            "error_x": {
             "color": "#2a3f5f"
            },
            "error_y": {
             "color": "#2a3f5f"
            },
            "marker": {
             "line": {
              "color": "#E5ECF6",
              "width": 0.5
             },
             "pattern": {
              "fillmode": "overlay",
              "size": 10,
              "solidity": 0.2
             }
            },
            "type": "bar"
           }
          ],
          "barpolar": [
           {
            "marker": {
             "line": {
              "color": "#E5ECF6",
              "width": 0.5
             },
             "pattern": {
              "fillmode": "overlay",
              "size": 10,
              "solidity": 0.2
             }
            },
            "type": "barpolar"
           }
          ],
          "carpet": [
           {
            "aaxis": {
             "endlinecolor": "#2a3f5f",
             "gridcolor": "white",
             "linecolor": "white",
             "minorgridcolor": "white",
             "startlinecolor": "#2a3f5f"
            },
            "baxis": {
             "endlinecolor": "#2a3f5f",
             "gridcolor": "white",
             "linecolor": "white",
             "minorgridcolor": "white",
             "startlinecolor": "#2a3f5f"
            },
            "type": "carpet"
           }
          ],
          "choropleth": [
           {
            "colorbar": {
             "outlinewidth": 0,
             "ticks": ""
            },
            "type": "choropleth"
           }
          ],
          "contour": [
           {
            "colorbar": {
             "outlinewidth": 0,
             "ticks": ""
            },
            "colorscale": [
             [
              0,
              "#0d0887"
             ],
             [
              0.1111111111111111,
              "#46039f"
             ],
             [
              0.2222222222222222,
              "#7201a8"
             ],
             [
              0.3333333333333333,
              "#9c179e"
             ],
             [
              0.4444444444444444,
              "#bd3786"
             ],
             [
              0.5555555555555556,
              "#d8576b"
             ],
             [
              0.6666666666666666,
              "#ed7953"
             ],
             [
              0.7777777777777778,
              "#fb9f3a"
             ],
             [
              0.8888888888888888,
              "#fdca26"
             ],
             [
              1,
              "#f0f921"
             ]
            ],
            "type": "contour"
           }
          ],
          "contourcarpet": [
           {
            "colorbar": {
             "outlinewidth": 0,
             "ticks": ""
            },
            "type": "contourcarpet"
           }
          ],
          "heatmap": [
           {
            "colorbar": {
             "outlinewidth": 0,
             "ticks": ""
            },
            "colorscale": [
             [
              0,
              "#0d0887"
             ],
             [
              0.1111111111111111,
              "#46039f"
             ],
             [
              0.2222222222222222,
              "#7201a8"
             ],
             [
              0.3333333333333333,
              "#9c179e"
             ],
             [
              0.4444444444444444,
              "#bd3786"
             ],
             [
              0.5555555555555556,
              "#d8576b"
             ],
             [
              0.6666666666666666,
              "#ed7953"
             ],
             [
              0.7777777777777778,
              "#fb9f3a"
             ],
             [
              0.8888888888888888,
              "#fdca26"
             ],
             [
              1,
              "#f0f921"
             ]
            ],
            "type": "heatmap"
           }
          ],
          "heatmapgl": [
           {
            "colorbar": {
             "outlinewidth": 0,
             "ticks": ""
            },
            "colorscale": [
             [
              0,
              "#0d0887"
             ],
             [
              0.1111111111111111,
              "#46039f"
             ],
             [
              0.2222222222222222,
              "#7201a8"
             ],
             [
              0.3333333333333333,
              "#9c179e"
             ],
             [
              0.4444444444444444,
              "#bd3786"
             ],
             [
              0.5555555555555556,
              "#d8576b"
             ],
             [
              0.6666666666666666,
              "#ed7953"
             ],
             [
              0.7777777777777778,
              "#fb9f3a"
             ],
             [
              0.8888888888888888,
              "#fdca26"
             ],
             [
              1,
              "#f0f921"
             ]
            ],
            "type": "heatmapgl"
           }
          ],
          "histogram": [
           {
            "marker": {
             "pattern": {
              "fillmode": "overlay",
              "size": 10,
              "solidity": 0.2
             }
            },
            "type": "histogram"
           }
          ],
          "histogram2d": [
           {
            "colorbar": {
             "outlinewidth": 0,
             "ticks": ""
            },
            "colorscale": [
             [
              0,
              "#0d0887"
             ],
             [
              0.1111111111111111,
              "#46039f"
             ],
             [
              0.2222222222222222,
              "#7201a8"
             ],
             [
              0.3333333333333333,
              "#9c179e"
             ],
             [
              0.4444444444444444,
              "#bd3786"
             ],
             [
              0.5555555555555556,
              "#d8576b"
             ],
             [
              0.6666666666666666,
              "#ed7953"
             ],
             [
              0.7777777777777778,
              "#fb9f3a"
             ],
             [
              0.8888888888888888,
              "#fdca26"
             ],
             [
              1,
              "#f0f921"
             ]
            ],
            "type": "histogram2d"
           }
          ],
          "histogram2dcontour": [
           {
            "colorbar": {
             "outlinewidth": 0,
             "ticks": ""
            },
            "colorscale": [
             [
              0,
              "#0d0887"
             ],
             [
              0.1111111111111111,
              "#46039f"
             ],
             [
              0.2222222222222222,
              "#7201a8"
             ],
             [
              0.3333333333333333,
              "#9c179e"
             ],
             [
              0.4444444444444444,
              "#bd3786"
             ],
             [
              0.5555555555555556,
              "#d8576b"
             ],
             [
              0.6666666666666666,
              "#ed7953"
             ],
             [
              0.7777777777777778,
              "#fb9f3a"
             ],
             [
              0.8888888888888888,
              "#fdca26"
             ],
             [
              1,
              "#f0f921"
             ]
            ],
            "type": "histogram2dcontour"
           }
          ],
          "mesh3d": [
           {
            "colorbar": {
             "outlinewidth": 0,
             "ticks": ""
            },
            "type": "mesh3d"
           }
          ],
          "parcoords": [
           {
            "line": {
             "colorbar": {
              "outlinewidth": 0,
              "ticks": ""
             }
            },
            "type": "parcoords"
           }
          ],
          "pie": [
           {
            "automargin": true,
            "type": "pie"
           }
          ],
          "scatter": [
           {
            "marker": {
             "colorbar": {
              "outlinewidth": 0,
              "ticks": ""
             }
            },
            "type": "scatter"
           }
          ],
          "scatter3d": [
           {
            "line": {
             "colorbar": {
              "outlinewidth": 0,
              "ticks": ""
             }
            },
            "marker": {
             "colorbar": {
              "outlinewidth": 0,
              "ticks": ""
             }
            },
            "type": "scatter3d"
           }
          ],
          "scattercarpet": [
           {
            "marker": {
             "colorbar": {
              "outlinewidth": 0,
              "ticks": ""
             }
            },
            "type": "scattercarpet"
           }
          ],
          "scattergeo": [
           {
            "marker": {
             "colorbar": {
              "outlinewidth": 0,
              "ticks": ""
             }
            },
            "type": "scattergeo"
           }
          ],
          "scattergl": [
           {
            "marker": {
             "colorbar": {
              "outlinewidth": 0,
              "ticks": ""
             }
            },
            "type": "scattergl"
           }
          ],
          "scattermapbox": [
           {
            "marker": {
             "colorbar": {
              "outlinewidth": 0,
              "ticks": ""
             }
            },
            "type": "scattermapbox"
           }
          ],
          "scatterpolar": [
           {
            "marker": {
             "colorbar": {
              "outlinewidth": 0,
              "ticks": ""
             }
            },
            "type": "scatterpolar"
           }
          ],
          "scatterpolargl": [
           {
            "marker": {
             "colorbar": {
              "outlinewidth": 0,
              "ticks": ""
             }
            },
            "type": "scatterpolargl"
           }
          ],
          "scatterternary": [
           {
            "marker": {
             "colorbar": {
              "outlinewidth": 0,
              "ticks": ""
             }
            },
            "type": "scatterternary"
           }
          ],
          "surface": [
           {
            "colorbar": {
             "outlinewidth": 0,
             "ticks": ""
            },
            "colorscale": [
             [
              0,
              "#0d0887"
             ],
             [
              0.1111111111111111,
              "#46039f"
             ],
             [
              0.2222222222222222,
              "#7201a8"
             ],
             [
              0.3333333333333333,
              "#9c179e"
             ],
             [
              0.4444444444444444,
              "#bd3786"
             ],
             [
              0.5555555555555556,
              "#d8576b"
             ],
             [
              0.6666666666666666,
              "#ed7953"
             ],
             [
              0.7777777777777778,
              "#fb9f3a"
             ],
             [
              0.8888888888888888,
              "#fdca26"
             ],
             [
              1,
              "#f0f921"
             ]
            ],
            "type": "surface"
           }
          ],
          "table": [
           {
            "cells": {
             "fill": {
              "color": "#EBF0F8"
             },
             "line": {
              "color": "white"
             }
            },
            "header": {
             "fill": {
              "color": "#C8D4E3"
             },
             "line": {
              "color": "white"
             }
            },
            "type": "table"
           }
          ]
         },
         "layout": {
          "annotationdefaults": {
           "arrowcolor": "#2a3f5f",
           "arrowhead": 0,
           "arrowwidth": 1
          },
          "autotypenumbers": "strict",
          "coloraxis": {
           "colorbar": {
            "outlinewidth": 0,
            "ticks": ""
           }
          },
          "colorscale": {
           "diverging": [
            [
             0,
             "#8e0152"
            ],
            [
             0.1,
             "#c51b7d"
            ],
            [
             0.2,
             "#de77ae"
            ],
            [
             0.3,
             "#f1b6da"
            ],
            [
             0.4,
             "#fde0ef"
            ],
            [
             0.5,
             "#f7f7f7"
            ],
            [
             0.6,
             "#e6f5d0"
            ],
            [
             0.7,
             "#b8e186"
            ],
            [
             0.8,
             "#7fbc41"
            ],
            [
             0.9,
             "#4d9221"
            ],
            [
             1,
             "#276419"
            ]
           ],
           "sequential": [
            [
             0,
             "#0d0887"
            ],
            [
             0.1111111111111111,
             "#46039f"
            ],
            [
             0.2222222222222222,
             "#7201a8"
            ],
            [
             0.3333333333333333,
             "#9c179e"
            ],
            [
             0.4444444444444444,
             "#bd3786"
            ],
            [
             0.5555555555555556,
             "#d8576b"
            ],
            [
             0.6666666666666666,
             "#ed7953"
            ],
            [
             0.7777777777777778,
             "#fb9f3a"
            ],
            [
             0.8888888888888888,
             "#fdca26"
            ],
            [
             1,
             "#f0f921"
            ]
           ],
           "sequentialminus": [
            [
             0,
             "#0d0887"
            ],
            [
             0.1111111111111111,
             "#46039f"
            ],
            [
             0.2222222222222222,
             "#7201a8"
            ],
            [
             0.3333333333333333,
             "#9c179e"
            ],
            [
             0.4444444444444444,
             "#bd3786"
            ],
            [
             0.5555555555555556,
             "#d8576b"
            ],
            [
             0.6666666666666666,
             "#ed7953"
            ],
            [
             0.7777777777777778,
             "#fb9f3a"
            ],
            [
             0.8888888888888888,
             "#fdca26"
            ],
            [
             1,
             "#f0f921"
            ]
           ]
          },
          "colorway": [
           "#636efa",
           "#EF553B",
           "#00cc96",
           "#ab63fa",
           "#FFA15A",
           "#19d3f3",
           "#FF6692",
           "#B6E880",
           "#FF97FF",
           "#FECB52"
          ],
          "font": {
           "color": "#2a3f5f"
          },
          "geo": {
           "bgcolor": "white",
           "lakecolor": "white",
           "landcolor": "#E5ECF6",
           "showlakes": true,
           "showland": true,
           "subunitcolor": "white"
          },
          "hoverlabel": {
           "align": "left"
          },
          "hovermode": "closest",
          "mapbox": {
           "style": "light"
          },
          "paper_bgcolor": "white",
          "plot_bgcolor": "#E5ECF6",
          "polar": {
           "angularaxis": {
            "gridcolor": "white",
            "linecolor": "white",
            "ticks": ""
           },
           "bgcolor": "#E5ECF6",
           "radialaxis": {
            "gridcolor": "white",
            "linecolor": "white",
            "ticks": ""
           }
          },
          "scene": {
           "xaxis": {
            "backgroundcolor": "#E5ECF6",
            "gridcolor": "white",
            "gridwidth": 2,
            "linecolor": "white",
            "showbackground": true,
            "ticks": "",
            "zerolinecolor": "white"
           },
           "yaxis": {
            "backgroundcolor": "#E5ECF6",
            "gridcolor": "white",
            "gridwidth": 2,
            "linecolor": "white",
            "showbackground": true,
            "ticks": "",
            "zerolinecolor": "white"
           },
           "zaxis": {
            "backgroundcolor": "#E5ECF6",
            "gridcolor": "white",
            "gridwidth": 2,
            "linecolor": "white",
            "showbackground": true,
            "ticks": "",
            "zerolinecolor": "white"
           }
          },
          "shapedefaults": {
           "line": {
            "color": "#2a3f5f"
           }
          },
          "ternary": {
           "aaxis": {
            "gridcolor": "white",
            "linecolor": "white",
            "ticks": ""
           },
           "baxis": {
            "gridcolor": "white",
            "linecolor": "white",
            "ticks": ""
           },
           "bgcolor": "#E5ECF6",
           "caxis": {
            "gridcolor": "white",
            "linecolor": "white",
            "ticks": ""
           }
          },
          "title": {
           "x": 0.05
          },
          "xaxis": {
           "automargin": true,
           "gridcolor": "white",
           "linecolor": "white",
           "ticks": "",
           "title": {
            "standoff": 15
           },
           "zerolinecolor": "white",
           "zerolinewidth": 2
          },
          "yaxis": {
           "automargin": true,
           "gridcolor": "white",
           "linecolor": "white",
           "ticks": "",
           "title": {
            "standoff": 15
           },
           "zerolinecolor": "white",
           "zerolinewidth": 2
          }
         }
        },
        "title": {
         "text": "Совмещённая воронка A и B групп"
        }
       }
      },
      "text/html": [
       "<div>                            <div id=\"14c5290e-4db9-409d-a1ee-1ff3257a7ee5\" class=\"plotly-graph-div\" style=\"height:525px; width:100%;\"></div>            <script type=\"text/javascript\">                require([\"plotly\"], function(Plotly) {                    window.PLOTLYENV=window.PLOTLYENV || {};                                    if (document.getElementById(\"14c5290e-4db9-409d-a1ee-1ff3257a7ee5\")) {                    Plotly.newPlot(                        \"14c5290e-4db9-409d-a1ee-1ff3257a7ee5\",                        [{\"name\":\"group A\",\"textinfo\":\"value+percent previous+percent initial\",\"x\":[2082,1360,631,652],\"y\":[\"login\",\"product_page\",\"product_cart\",\"purchase\"],\"type\":\"funnel\"},{\"name\":\"group B\",\"textinfo\":\"value+percent previous+percent initial\",\"x\":[705,397,195,198],\"y\":[\"login\",\"product_page\",\"product_cart\",\"purchase\"],\"type\":\"funnel\"}],                        {\"template\":{\"data\":{\"bar\":[{\"error_x\":{\"color\":\"#2a3f5f\"},\"error_y\":{\"color\":\"#2a3f5f\"},\"marker\":{\"line\":{\"color\":\"#E5ECF6\",\"width\":0.5},\"pattern\":{\"fillmode\":\"overlay\",\"size\":10,\"solidity\":0.2}},\"type\":\"bar\"}],\"barpolar\":[{\"marker\":{\"line\":{\"color\":\"#E5ECF6\",\"width\":0.5},\"pattern\":{\"fillmode\":\"overlay\",\"size\":10,\"solidity\":0.2}},\"type\":\"barpolar\"}],\"carpet\":[{\"aaxis\":{\"endlinecolor\":\"#2a3f5f\",\"gridcolor\":\"white\",\"linecolor\":\"white\",\"minorgridcolor\":\"white\",\"startlinecolor\":\"#2a3f5f\"},\"baxis\":{\"endlinecolor\":\"#2a3f5f\",\"gridcolor\":\"white\",\"linecolor\":\"white\",\"minorgridcolor\":\"white\",\"startlinecolor\":\"#2a3f5f\"},\"type\":\"carpet\"}],\"choropleth\":[{\"colorbar\":{\"outlinewidth\":0,\"ticks\":\"\"},\"type\":\"choropleth\"}],\"contour\":[{\"colorbar\":{\"outlinewidth\":0,\"ticks\":\"\"},\"colorscale\":[[0.0,\"#0d0887\"],[0.1111111111111111,\"#46039f\"],[0.2222222222222222,\"#7201a8\"],[0.3333333333333333,\"#9c179e\"],[0.4444444444444444,\"#bd3786\"],[0.5555555555555556,\"#d8576b\"],[0.6666666666666666,\"#ed7953\"],[0.7777777777777778,\"#fb9f3a\"],[0.8888888888888888,\"#fdca26\"],[1.0,\"#f0f921\"]],\"type\":\"contour\"}],\"contourcarpet\":[{\"colorbar\":{\"outlinewidth\":0,\"ticks\":\"\"},\"type\":\"contourcarpet\"}],\"heatmap\":[{\"colorbar\":{\"outlinewidth\":0,\"ticks\":\"\"},\"colorscale\":[[0.0,\"#0d0887\"],[0.1111111111111111,\"#46039f\"],[0.2222222222222222,\"#7201a8\"],[0.3333333333333333,\"#9c179e\"],[0.4444444444444444,\"#bd3786\"],[0.5555555555555556,\"#d8576b\"],[0.6666666666666666,\"#ed7953\"],[0.7777777777777778,\"#fb9f3a\"],[0.8888888888888888,\"#fdca26\"],[1.0,\"#f0f921\"]],\"type\":\"heatmap\"}],\"heatmapgl\":[{\"colorbar\":{\"outlinewidth\":0,\"ticks\":\"\"},\"colorscale\":[[0.0,\"#0d0887\"],[0.1111111111111111,\"#46039f\"],[0.2222222222222222,\"#7201a8\"],[0.3333333333333333,\"#9c179e\"],[0.4444444444444444,\"#bd3786\"],[0.5555555555555556,\"#d8576b\"],[0.6666666666666666,\"#ed7953\"],[0.7777777777777778,\"#fb9f3a\"],[0.8888888888888888,\"#fdca26\"],[1.0,\"#f0f921\"]],\"type\":\"heatmapgl\"}],\"histogram\":[{\"marker\":{\"pattern\":{\"fillmode\":\"overlay\",\"size\":10,\"solidity\":0.2}},\"type\":\"histogram\"}],\"histogram2d\":[{\"colorbar\":{\"outlinewidth\":0,\"ticks\":\"\"},\"colorscale\":[[0.0,\"#0d0887\"],[0.1111111111111111,\"#46039f\"],[0.2222222222222222,\"#7201a8\"],[0.3333333333333333,\"#9c179e\"],[0.4444444444444444,\"#bd3786\"],[0.5555555555555556,\"#d8576b\"],[0.6666666666666666,\"#ed7953\"],[0.7777777777777778,\"#fb9f3a\"],[0.8888888888888888,\"#fdca26\"],[1.0,\"#f0f921\"]],\"type\":\"histogram2d\"}],\"histogram2dcontour\":[{\"colorbar\":{\"outlinewidth\":0,\"ticks\":\"\"},\"colorscale\":[[0.0,\"#0d0887\"],[0.1111111111111111,\"#46039f\"],[0.2222222222222222,\"#7201a8\"],[0.3333333333333333,\"#9c179e\"],[0.4444444444444444,\"#bd3786\"],[0.5555555555555556,\"#d8576b\"],[0.6666666666666666,\"#ed7953\"],[0.7777777777777778,\"#fb9f3a\"],[0.8888888888888888,\"#fdca26\"],[1.0,\"#f0f921\"]],\"type\":\"histogram2dcontour\"}],\"mesh3d\":[{\"colorbar\":{\"outlinewidth\":0,\"ticks\":\"\"},\"type\":\"mesh3d\"}],\"parcoords\":[{\"line\":{\"colorbar\":{\"outlinewidth\":0,\"ticks\":\"\"}},\"type\":\"parcoords\"}],\"pie\":[{\"automargin\":true,\"type\":\"pie\"}],\"scatter\":[{\"marker\":{\"colorbar\":{\"outlinewidth\":0,\"ticks\":\"\"}},\"type\":\"scatter\"}],\"scatter3d\":[{\"line\":{\"colorbar\":{\"outlinewidth\":0,\"ticks\":\"\"}},\"marker\":{\"colorbar\":{\"outlinewidth\":0,\"ticks\":\"\"}},\"type\":\"scatter3d\"}],\"scattercarpet\":[{\"marker\":{\"colorbar\":{\"outlinewidth\":0,\"ticks\":\"\"}},\"type\":\"scattercarpet\"}],\"scattergeo\":[{\"marker\":{\"colorbar\":{\"outlinewidth\":0,\"ticks\":\"\"}},\"type\":\"scattergeo\"}],\"scattergl\":[{\"marker\":{\"colorbar\":{\"outlinewidth\":0,\"ticks\":\"\"}},\"type\":\"scattergl\"}],\"scattermapbox\":[{\"marker\":{\"colorbar\":{\"outlinewidth\":0,\"ticks\":\"\"}},\"type\":\"scattermapbox\"}],\"scatterpolar\":[{\"marker\":{\"colorbar\":{\"outlinewidth\":0,\"ticks\":\"\"}},\"type\":\"scatterpolar\"}],\"scatterpolargl\":[{\"marker\":{\"colorbar\":{\"outlinewidth\":0,\"ticks\":\"\"}},\"type\":\"scatterpolargl\"}],\"scatterternary\":[{\"marker\":{\"colorbar\":{\"outlinewidth\":0,\"ticks\":\"\"}},\"type\":\"scatterternary\"}],\"surface\":[{\"colorbar\":{\"outlinewidth\":0,\"ticks\":\"\"},\"colorscale\":[[0.0,\"#0d0887\"],[0.1111111111111111,\"#46039f\"],[0.2222222222222222,\"#7201a8\"],[0.3333333333333333,\"#9c179e\"],[0.4444444444444444,\"#bd3786\"],[0.5555555555555556,\"#d8576b\"],[0.6666666666666666,\"#ed7953\"],[0.7777777777777778,\"#fb9f3a\"],[0.8888888888888888,\"#fdca26\"],[1.0,\"#f0f921\"]],\"type\":\"surface\"}],\"table\":[{\"cells\":{\"fill\":{\"color\":\"#EBF0F8\"},\"line\":{\"color\":\"white\"}},\"header\":{\"fill\":{\"color\":\"#C8D4E3\"},\"line\":{\"color\":\"white\"}},\"type\":\"table\"}]},\"layout\":{\"annotationdefaults\":{\"arrowcolor\":\"#2a3f5f\",\"arrowhead\":0,\"arrowwidth\":1},\"autotypenumbers\":\"strict\",\"coloraxis\":{\"colorbar\":{\"outlinewidth\":0,\"ticks\":\"\"}},\"colorscale\":{\"diverging\":[[0,\"#8e0152\"],[0.1,\"#c51b7d\"],[0.2,\"#de77ae\"],[0.3,\"#f1b6da\"],[0.4,\"#fde0ef\"],[0.5,\"#f7f7f7\"],[0.6,\"#e6f5d0\"],[0.7,\"#b8e186\"],[0.8,\"#7fbc41\"],[0.9,\"#4d9221\"],[1,\"#276419\"]],\"sequential\":[[0.0,\"#0d0887\"],[0.1111111111111111,\"#46039f\"],[0.2222222222222222,\"#7201a8\"],[0.3333333333333333,\"#9c179e\"],[0.4444444444444444,\"#bd3786\"],[0.5555555555555556,\"#d8576b\"],[0.6666666666666666,\"#ed7953\"],[0.7777777777777778,\"#fb9f3a\"],[0.8888888888888888,\"#fdca26\"],[1.0,\"#f0f921\"]],\"sequentialminus\":[[0.0,\"#0d0887\"],[0.1111111111111111,\"#46039f\"],[0.2222222222222222,\"#7201a8\"],[0.3333333333333333,\"#9c179e\"],[0.4444444444444444,\"#bd3786\"],[0.5555555555555556,\"#d8576b\"],[0.6666666666666666,\"#ed7953\"],[0.7777777777777778,\"#fb9f3a\"],[0.8888888888888888,\"#fdca26\"],[1.0,\"#f0f921\"]]},\"colorway\":[\"#636efa\",\"#EF553B\",\"#00cc96\",\"#ab63fa\",\"#FFA15A\",\"#19d3f3\",\"#FF6692\",\"#B6E880\",\"#FF97FF\",\"#FECB52\"],\"font\":{\"color\":\"#2a3f5f\"},\"geo\":{\"bgcolor\":\"white\",\"lakecolor\":\"white\",\"landcolor\":\"#E5ECF6\",\"showlakes\":true,\"showland\":true,\"subunitcolor\":\"white\"},\"hoverlabel\":{\"align\":\"left\"},\"hovermode\":\"closest\",\"mapbox\":{\"style\":\"light\"},\"paper_bgcolor\":\"white\",\"plot_bgcolor\":\"#E5ECF6\",\"polar\":{\"angularaxis\":{\"gridcolor\":\"white\",\"linecolor\":\"white\",\"ticks\":\"\"},\"bgcolor\":\"#E5ECF6\",\"radialaxis\":{\"gridcolor\":\"white\",\"linecolor\":\"white\",\"ticks\":\"\"}},\"scene\":{\"xaxis\":{\"backgroundcolor\":\"#E5ECF6\",\"gridcolor\":\"white\",\"gridwidth\":2,\"linecolor\":\"white\",\"showbackground\":true,\"ticks\":\"\",\"zerolinecolor\":\"white\"},\"yaxis\":{\"backgroundcolor\":\"#E5ECF6\",\"gridcolor\":\"white\",\"gridwidth\":2,\"linecolor\":\"white\",\"showbackground\":true,\"ticks\":\"\",\"zerolinecolor\":\"white\"},\"zaxis\":{\"backgroundcolor\":\"#E5ECF6\",\"gridcolor\":\"white\",\"gridwidth\":2,\"linecolor\":\"white\",\"showbackground\":true,\"ticks\":\"\",\"zerolinecolor\":\"white\"}},\"shapedefaults\":{\"line\":{\"color\":\"#2a3f5f\"}},\"ternary\":{\"aaxis\":{\"gridcolor\":\"white\",\"linecolor\":\"white\",\"ticks\":\"\"},\"baxis\":{\"gridcolor\":\"white\",\"linecolor\":\"white\",\"ticks\":\"\"},\"bgcolor\":\"#E5ECF6\",\"caxis\":{\"gridcolor\":\"white\",\"linecolor\":\"white\",\"ticks\":\"\"}},\"title\":{\"x\":0.05},\"xaxis\":{\"automargin\":true,\"gridcolor\":\"white\",\"linecolor\":\"white\",\"ticks\":\"\",\"title\":{\"standoff\":15},\"zerolinecolor\":\"white\",\"zerolinewidth\":2},\"yaxis\":{\"automargin\":true,\"gridcolor\":\"white\",\"linecolor\":\"white\",\"ticks\":\"\",\"title\":{\"standoff\":15},\"zerolinecolor\":\"white\",\"zerolinewidth\":2}}},\"title\":{\"text\":\"\\u0421\\u043e\\u0432\\u043c\\u0435\\u0449\\u0451\\u043d\\u043d\\u0430\\u044f \\u0432\\u043e\\u0440\\u043e\\u043d\\u043a\\u0430 A \\u0438 B \\u0433\\u0440\\u0443\\u043f\\u043f\"}},                        {\"responsive\": true}                    ).then(function(){\n",
       "                            \n",
       "var gd = document.getElementById('14c5290e-4db9-409d-a1ee-1ff3257a7ee5');\n",
       "var x = new MutationObserver(function (mutations, observer) {{\n",
       "        var display = window.getComputedStyle(gd).display;\n",
       "        if (!display || display === 'none') {{\n",
       "            console.log([gd, 'removed!']);\n",
       "            Plotly.purge(gd);\n",
       "            observer.disconnect();\n",
       "        }}\n",
       "}});\n",
       "\n",
       "// Listen for the removal of the full notebook cells\n",
       "var notebookContainer = gd.closest('#notebook-container');\n",
       "if (notebookContainer) {{\n",
       "    x.observe(notebookContainer, {childList: true});\n",
       "}}\n",
       "\n",
       "// Listen for the clearing of the current output cell\n",
       "var outputEl = gd.closest('.output');\n",
       "if (outputEl) {{\n",
       "    x.observe(outputEl, {childList: true});\n",
       "}}\n",
       "\n",
       "                        })                };                });            </script>        </div>"
      ]
     },
     "metadata": {},
     "output_type": "display_data"
    }
   ],
   "source": [
    "# визуализируем на графике, построим общую воронку для двух групп \n",
    "fig = go.Figure()\n",
    "# зададим очерёдность этапов для воронки, чтобы события шли как нужно и завершались  purchase \n",
    "new_index = [0,2,1,3]\n",
    "group_A_funnel = group_A_funnel.reindex(new_index)\n",
    "new_index = [0,2,1,3]\n",
    "group_B_funnel = group_B_funnel.reindex(new_index)\n",
    "# применим add_trace для прорисовки воронки А на общем графике  \n",
    "fig.add_trace(go.Funnel(\n",
    "    # название группы \n",
    "    name = 'group A',\n",
    "    # название события\n",
    "    y = group_A_funnel['event_name'],\n",
    "    # количество пользователей\n",
    "    x = group_A_funnel['user_id'],\n",
    "    # обозначим информацию о шагах и проценты\n",
    "    textinfo = \"value+percent previous + percent initial\"\n",
    "    ))\n",
    "# применим add_trace для прорисовки воронки А на общем графике \n",
    "fig.add_trace(go.Funnel(\n",
    "    # название группы\n",
    "    name = 'group B',\n",
    "    # название события\n",
    "    y = group_B_funnel['event_name'],\n",
    "    # количество пользователей\n",
    "    x = group_B_funnel['user_id'],\n",
    "    # обозначим информацию о шагах и проценты\n",
    "    textinfo = \"value+percent previous + percent initial\"\n",
    "    ))\n",
    "# обозначи название графика\n",
    "fig.update_layout(\n",
    "    title={\n",
    "        'text': \"Совмещённая воронка A и B групп\"})\n",
    "fig.show()"
   ]
  },
  {
   "cell_type": "markdown",
   "metadata": {},
   "source": [
    "Рассмотрим пошагово конверсию группы А:\n",
    "\n",
    "- (Главный экран) login 100%  - product_page (страница с товаром):65.3%\n",
    "- (Главный экран) login 100% -  product_cart (страница с товаром) :30.3%\n",
    "- (Главный экран) login 100%  - purchase (оплата товара): 31.3% \n",
    "\n",
    "Рассмотрим пошагово конверсия группы В:\n",
    "\n",
    "- (Главный экран) login 100%  - product_page (страница с товаром):56.3%\n",
    "- (Главный экран) login 100% -  product_cart (страница с товаром) :27,7%\n",
    "- (Главный экран) login 100%  - purchase (оплата товара): 28.1% "
   ]
  },
  {
   "cell_type": "markdown",
   "metadata": {},
   "source": [
    "Группа В на каждом этапе воронки показала ниже результат, чем группа А, но учитывая разницу в пользователях и неравномерное распределение этого и следовало ожидать. Улучшение каждой метрики не менее чем на 10 % не произошло. Теория , что  можно оплатить товар как-то иначе,не заходя в корзину подтвердилась. Сообщим об этом в отдел. "
   ]
  },
  {
   "cell_type": "markdown",
   "metadata": {},
   "source": [
    "**Вывод:**\n",
    "\n",
    "- Среднее количество событий в группе `А` : 9.01\n",
    "- Среднее количество событий в группе `B` : 7.36\n",
    "- Число событий на 1 пользователя выше в группе А \n",
    "\n",
    "\n",
    "- Самое частое событие является login (8194)\n",
    "- далее пользователь переходит на страницу продукта product_page (5108)\n",
    "- далее он попадает в продуктовую корзину product_cart (2446)\n",
    "- далее переходит к покупке purchase (2406)\n",
    "  \n",
    "Мы видим что конверсия, в продуктовой корзине почти такая же как и конверсия покупки, вероятно можно совершить покупку напрямую не переходя в корзину с товаром, проверим на этапах  воронки.\n",
    "\n",
    "\n",
    "Обратим внимани, что группа `А` выделяется активностью. Активность начинается 2020-12-13 и дальше постепенно повышается. Самую  большую активность она достигает 2020-12-21, как раз в эти периоды происходила акция. Группа `B` тоже повышается 2020-12-21, только  совсем не яркавыражено, показывает более равномерное распределение. \n",
    "\n",
    "\n",
    "\n",
    "Рассмотрим пошагово конверсию группы А:\n",
    "\n",
    "- (Главный экран) login 100%  - product_page (страница с товаром):65.3%\n",
    "- (Главный экран) login 100% -  product_cart (страница с товаром) :30.3%\n",
    "- (Главный экран) login 100%  - purchase (оплата товара): 31.3% \n",
    "\n",
    "Рассмотрим пошагово конверсия группы В:\n",
    "\n",
    "- (Главный экран) login 100%  - product_page (страница с товаром):56.3%\n",
    "- (Главный экран) login 100% -  product_cart (страница с товаром) :27,7%\n",
    "- (Главный экран) login 100%  - purchase (оплата товара): 28.1%  \n",
    "\n",
    "Группа `В` на каждом этапе воронки показала ниже результат, чем группа `А`, но учитывая разницу в пользователях и неравномерное распределение этого и следовало ожидать. Улучшение каждой метрики не менее чем на 10 % не произошло.Теория , что  можно оплатить товар как-то иначе,не заходя в корзину подтвердилась. Сообщим об этом в отдел."
   ]
  },
  {
   "cell_type": "markdown",
   "metadata": {},
   "source": [
    "### Какие особенности данных нужно учесть, прежде чем приступать к A/B-тестированию?"
   ]
  },
  {
   "cell_type": "markdown",
   "metadata": {},
   "source": [
    "Нужно иметь равномерную выборку данных, подобрать нужно время, чтобы не было акций и сезонных скидок, дабы не исказить результаты теста.\n",
    "Сделаем вывод для наших данных:\n",
    " - Количество уникальных пользователей в нашем сете соатвило 2788, техническое задание предоставило 6000, вероятно нужно было уже на этом этапе поговорить с руководством, которые предоставляли нам данные и только потом продолжить тест. \n",
    " - Решили запустить А/В-тест, но не учли что он пересекается с рождественскими акциями, произошёл непридвиденный скачек пользователей  2020.12.21, которые приобретали покупки с подарками.\n",
    " - События группы А выше на много событий группы Б, вызывают дисбалланс поэтому.\n",
    " - Мы не наблюдаем рост в 10 % группы B, а видим как она идёт в убыль, техническое задание гласило обратное "
   ]
  },
  {
   "cell_type": "markdown",
   "metadata": {},
   "source": [
    "## Проверим статистическую разницу долей z-критерием:"
   ]
  },
  {
   "cell_type": "markdown",
   "metadata": {},
   "source": [
    "**Сформулируем гипотезу:**"
   ]
  },
  {
   "cell_type": "markdown",
   "metadata": {},
   "source": [
    "- H0: Между долями нет статистической значимой разницы \n",
    "- H1: Между долями есть статистически значимая разница "
   ]
  },
  {
   "cell_type": "code",
   "execution_count": 125,
   "metadata": {},
   "outputs": [],
   "source": [
    "# Сделаем проверку гипотезу о равенстве долей и обернём её в функцию\n",
    "def hypothesis_test(group1, group2, developments , alpha):\n",
    "    # Выберем статистический уровень значимости равный alpha=0.05\n",
    "    # Допустимо выбрать alpha от 0.01 до 0.05\n",
    "    alpha = alpha\n",
    "    # Распределим пользователей по группам \n",
    "    # применим np.array для разделения массивов \n",
    "    uid_group = np.array([final_rs_test['user_id'][final_rs_test['group'] == 'A'].nunique(), \n",
    "                    final_rs_test['user_id'][final_rs_test['group'] == 'B'].nunique()])\n",
    "    # найдём распределение событий по группам \n",
    "    # применим np.array для разделения массивов \n",
    "    event_group = np.array([group1[group1['event_name'] == developments ]['user_id'].nunique(), \n",
    "                        group2[group2['event_name'] == developments ]['user_id'].nunique()])\n",
    "    # найдём пропорция успехов в первой группе\n",
    "    p1 = event_group[0] / uid_group[0]\n",
    "    # найдём пропорция успехов во второй группе\n",
    "    p2 = event_group[1] / uid_group[1] \n",
    "    \n",
    "    print(event_group[0], event_group[1], uid_group[0], uid_group[1])\n",
    "    # пропорция успехов в комбинированном датасете\n",
    "    p_combined = (event_group[0] + event_group[1]) / (uid_group[0] + uid_group[1])\n",
    "    # разница пропорций в датасетах\n",
    "    difference = p1 - p2 \n",
    "    # считаем статистику в ст.отклонениях стандартного нормального распределения\n",
    "    z_value = difference / mth.sqrt(p_combined * (1 - p_combined) * (1/uid_group[0] + 1/uid_group[1]))\n",
    "    # задаем стандартное нормальное распределение (среднее 0, ст.отклонение 1)\n",
    "    distr = st.norm(0, 1)  \n",
    "    # Так как распределение статистики нормальное, вызовем метод cdf().\n",
    "    # Саму статистику возьмём по модулю методом abs() — чтобы получить правильный результат независимо от её знака. \n",
    "    # Это возможно, потому что тест двусторонний. По этой же причине удваиваем результат\n",
    "    p_value = (1 - distr.cdf(abs(z_value))) * 2\n",
    "    # выводим на экран получившееся значение\n",
    "    print(developments)\n",
    "    print('p-значение: ',p_value)\n",
    "    print(alpha)\n",
    "    # сравниваем p_value c alpha\n",
    "    if (p_value < alpha):\n",
    "        print('Отвергаем нулевую гипотезу: между долями есть разница')\n",
    "    else:\n",
    "        print('Не получилось отвергнуть нулевую гипотезу, нет оснований считать доли разными')\n",
    "    print('')\n",
    "    print('Конверсия события {} в группе {} равна {}'.format(developments , group1.gr, p1))\n",
    "    print('Конверсия события {} в группе {} равна {}'.format(developments , group2.gr, p2))"
   ]
  },
  {
   "cell_type": "code",
   "execution_count": 126,
   "metadata": {},
   "outputs": [
    {
     "data": {
      "text/plain": [
       "['purchase', 'product_cart', 'product_page']"
      ]
     },
     "execution_count": 126,
     "metadata": {},
     "output_type": "execute_result"
    }
   ],
   "source": [
    "# Поскольку событие логин провели все пользователи то мы его исключим, прооверим только то что необходимо\n",
    "# В соответсвии с техническим заданием ('purchase', 'product_cart', 'product_page') \n",
    "final_event_list = final_rs_test['event_name'].unique().tolist()[:3:1]\n",
    "final_event_list"
   ]
  },
  {
   "cell_type": "code",
   "execution_count": 127,
   "metadata": {},
   "outputs": [],
   "source": [
    "# Создадим переменные c привязкой gr группы A и группы B  \n",
    "a = final_rs_test[final_rs_test['group'] == 'A'].reset_index()\n",
    "b = final_rs_test[final_rs_test['group'] == 'B'].reset_index()\n",
    "a.gr = 'А'\n",
    "b.gr = 'В'"
   ]
  },
  {
   "cell_type": "markdown",
   "metadata": {},
   "source": [
    "Поскольку мы проводим тес с пересечением нескольких групп, то необходимо применить поправку Бонферрони."
   ]
  },
  {
   "cell_type": "code",
   "execution_count": 128,
   "metadata": {},
   "outputs": [
    {
     "name": "stdout",
     "output_type": "stream",
     "text": [
      "652 198 2082 706\n",
      "purchase\n",
      "p-значение:  0.10281767567786759\n",
      "0.016666666666666666\n",
      "Не получилось отвергнуть нулевую гипотезу, нет оснований считать доли разными\n",
      "\n",
      "Конверсия события purchase в группе А равна 0.31316042267050914\n",
      "Конверсия события purchase в группе В равна 0.2804532577903683\n",
      "\n",
      "631 195 2082 706\n",
      "product_cart\n",
      "p-значение:  0.1766337419130104\n",
      "0.016666666666666666\n",
      "Не получилось отвергнуть нулевую гипотезу, нет оснований считать доли разными\n",
      "\n",
      "Конверсия события product_cart в группе А равна 0.30307396733909703\n",
      "Конверсия события product_cart в группе В равна 0.2762039660056657\n",
      "\n",
      "1360 397 2082 706\n",
      "product_page\n",
      "p-значение:  1.5371909704686715e-05\n",
      "0.016666666666666666\n",
      "Отвергаем нулевую гипотезу: между долями есть разница\n",
      "\n",
      "Конверсия события product_page в группе А равна 0.6532180595581172\n",
      "Конверсия события product_page в группе В равна 0.5623229461756374\n",
      "\n"
     ]
    }
   ],
   "source": [
    "# Создадим функцию, получающая на вход порядковый номер группы в таблице и уровень значимости\n",
    "# Выводит результаты проверки гипотез\n",
    "for event in final_event_list:\n",
    "    hypothesis_test(a, b, event,  0.05 / 3)\n",
    "    print('')  "
   ]
  },
  {
   "cell_type": "markdown",
   "metadata": {},
   "source": [
    "В итоге нельзя говорить, что тест успешен - есть ряд ошибок при его проведении. Конверсия группы B меньше конверсии группы А на всех шагах  воронки.\n",
    "Посколько мы проводили тест с очищенными пользователями, из-за неимением нужного количества без пересечения, так же не были соблюдены и другие условия технического  задания, то результатам теста доверять не нужно. \n",
    "Наш тест не принёс нам положительный результат."
   ]
  },
  {
   "cell_type": "markdown",
   "metadata": {},
   "source": [
    "## Вывод:"
   ]
  },
  {
   "cell_type": "markdown",
   "metadata": {},
   "source": [
    "**Выполнили предоработку данных:**\n",
    "\n",
    "1. Произвели проверку дубликатов, дубликатов не было обнаружено\n",
    "2. Произвели проверку пропусков, обнаружили пропуски в колонке `final_ab_events['details']`, провеирили пересечение с purchase, выяснили, что его нет, поставили заглушки `-1`,так как отрицательной цены не наблюдается в колонке.Остальных пропусков не было обнаружено.\n",
    "3. Произвели замену типа данных с `object` на `to_datetime` в сетах :\n",
    "- ab_project_marketing_events колонки `['start_dt']` \n",
    "- ab_project_marketing_events колонки `['finish_dt']`\n",
    "\n",
    "- final_ab_new_users колонки `['first_date']`\n",
    "- final_ab_events колонки `['event_dt']`\n",
    "\n",
    "**Рассмотрели соответствие техничекому заданию или нет:**\n",
    "\n",
    "Рассматриваем `recommender_system_test`:\n",
    "\n",
    "- Посмотрим на дату набора пользователей и дату остановки набора (с 2020-12-07 по 2020-12-21) (Соответствует)\n",
    "- Посмотрим на интервал, в котором происходили события для тестируемых пользователей (с 2020-12-07 по 2020-12-29), по техническому заданию дата остановки: 2021-01-04:\n",
    "- тестируемые пользователи совершали действия в интервале с 2020-12-07 00:16:00 по 2020-12-29 23:38:29;\n",
    "- данное пересечение происходит с Christmas&New Year Promo.\n",
    "\n",
    "Аудитория: 15% новых пользователей из региона EU:\n",
    "Среди тестируемых есть и другие регионы:\n",
    "\n",
    "- EU - 4749 \n",
    "- N.America - 223\n",
    "- APAC - 72\n",
    "- CIS - 55\n",
    "- Процент тестируемых пользователей EU относительно общих пользователей EU составил: 12.04 %.(по условию ,должно быть 15%). Есть  несоответствие,но нужно учитывать, что мы смотрим уже отфильтрованных  пользователей,по этому такой результат вполне может быть.\n",
    "\n",
    "- Ожидаемое количество участников теста: 6000:\n",
    "- Изначально, количество пользователей recommender_system_test сосатвило 6701 человек. Но мы проверили пересекающихся пользователей,которые есть в обоих группах, и отфильтровали данных пользователей на этом этапе, в связи с этим после очистки количество пользователей стало 5099, распределили их по группам:\n",
    "\n",
    "\n",
    "- группе А - 2903 пользователя \n",
    "- группе В - 2196 пользователей\n",
    "\n",
    "Выборка между группами неравномерная , в группе А пользователей больше. \n",
    "\n",
    "Дальше отфильтровали по условию и количество пользователей сократилось почти  2 раза, это  свидетельствует о том, что  результаты теста могут быть искажены.Количество пользователей составило 2788 человек.\n",
    "\n",
    "По поводу несоответсвия пользователей мы уточним у людей, которые предоставляли нам данные, а сами перейдём к следующему этапу проверки.\n",
    "\n",
    "\n",
    "**Провели исследовательский анализ данных:**\n",
    "\n",
    "- Среднее количество событий в группе `А` : 9.01\n",
    "- Среднее количество событий в группе `B` : 7.36\n",
    "- Число событий на 1 пользователя выше в группе А \n",
    "\n",
    "\n",
    "- Самое частое событие является login (8194)\n",
    "- далее пользователь переходит на страницу продукта product_page (5108)\n",
    "- далее он попадает в продуктовую корзину product_cart (2446)\n",
    "- далее переходит к покупке purchase (2406)\n",
    "  \n",
    "Мы видим что конверсия, в продуктовой корзине почти такая же как и конверсия покупки, вероятно можно совершить покупку напрямую не переходя в корзину с товаром, проверим на этапах  воронки.\n",
    "\n",
    "\n",
    "Обратим внимани, что группа `А` выделяется активностью. Активность начинается 2020-12-13 и дальше постепенно повышается. Самую  большую активность она достигает 2020-12-21, как раз в эти периоды происходила акция. Группа `B` тоже повышается 2020-12-21, только  совсем не яркавыражено, показывает более равномерное распределение. \n",
    "\n",
    "\n",
    "\n",
    "Рассмотрим пошагово конверсию группы А:\n",
    "\n",
    "- (Главный экран) login 100%  - product_page (страница с товаром):65.3%\n",
    "- (Главный экран) login 100% -  product_cart (страница с товаром) :20.1%\n",
    "- (Главный экран) login 100%  - purchase (оплата товара): 6.7% \n",
    "\n",
    "Рассмотрим пошагово конверсия группы В:\n",
    "\n",
    "- (Главный экран) login 100%  - product_page (страница с товаром):56.3%\n",
    "- (Главный экран) login 100% -  product_cart (страница с товаром) :15%\n",
    "- (Главный экран) login 100%  - purchase (оплата товара): 5.2% \n",
    "\n",
    "Группа `В` на каждом этапе воронки показала ниже результат, чем группа `А`, но учитывая разницу в пользователях и неравномерное распределение этого и следовало ожидать. Улучшение каждой метрики не менее чем на 10 % не произошло.\n",
    "\n",
    "**Результаты статистической гипотезы:**\n",
    "\n",
    "В итоге нельзя говорить, что тест успешен - есть ряд ошибок при его проведении. Конверсия группы B меньше конверсии группы А на всех шагах  воронки.\n",
    "Посколько мы проводили тест с очищенными пользователями, из-за неимением нужного количества без пересечения, так же не были соблюдены и другие условия технического  задания, то результатам теста доверять не нужно. Наш тест не принёс нам положительный результат.\n",
    "\n",
    "**Рекомендации отделу:**\n",
    "\n",
    "После согласования информации о данных провести  тест  повторно, чтобы получить достоверный результат"
   ]
  }
 ],
 "metadata": {
  "ExecuteTimeLog": [
   {
    "duration": 455,
    "start_time": "2023-01-05T14:38:49.291Z"
   },
   {
    "duration": 3,
    "start_time": "2023-01-05T14:39:14.384Z"
   },
   {
    "duration": 409,
    "start_time": "2023-01-05T14:44:12.633Z"
   },
   {
    "duration": 2,
    "start_time": "2023-01-05T14:44:25.232Z"
   },
   {
    "duration": 373,
    "start_time": "2023-01-05T14:44:25.841Z"
   },
   {
    "duration": 260,
    "start_time": "2023-01-05T14:45:12.804Z"
   },
   {
    "duration": 1181,
    "start_time": "2023-01-05T14:46:10.493Z"
   },
   {
    "duration": 1326,
    "start_time": "2023-01-05T14:48:11.944Z"
   },
   {
    "duration": 1471,
    "start_time": "2023-01-05T14:50:29.885Z"
   },
   {
    "duration": 1130,
    "start_time": "2023-01-05T14:50:48.037Z"
   },
   {
    "duration": 17,
    "start_time": "2023-01-05T14:51:22.504Z"
   },
   {
    "duration": 18,
    "start_time": "2023-01-05T14:51:23.435Z"
   },
   {
    "duration": 12,
    "start_time": "2023-01-05T14:51:24.068Z"
   },
   {
    "duration": 10,
    "start_time": "2023-01-05T14:51:24.701Z"
   },
   {
    "duration": 9,
    "start_time": "2023-01-05T15:19:54.921Z"
   },
   {
    "duration": 15,
    "start_time": "2023-01-05T15:20:01.081Z"
   },
   {
    "duration": 4,
    "start_time": "2023-01-05T15:20:05.130Z"
   },
   {
    "duration": 8,
    "start_time": "2023-01-05T15:20:10.566Z"
   },
   {
    "duration": 9,
    "start_time": "2023-01-05T15:20:18.688Z"
   },
   {
    "duration": 11,
    "start_time": "2023-01-05T15:21:18.111Z"
   },
   {
    "duration": 11,
    "start_time": "2023-01-05T15:22:43.258Z"
   },
   {
    "duration": 9,
    "start_time": "2023-01-05T15:22:57.128Z"
   },
   {
    "duration": 10,
    "start_time": "2023-01-05T15:23:00.602Z"
   },
   {
    "duration": 13,
    "start_time": "2023-01-05T15:23:08.241Z"
   },
   {
    "duration": 10,
    "start_time": "2023-01-05T15:23:09.284Z"
   },
   {
    "duration": 19,
    "start_time": "2023-01-05T15:24:33.221Z"
   },
   {
    "duration": 20,
    "start_time": "2023-01-05T15:26:18.066Z"
   },
   {
    "duration": 9,
    "start_time": "2023-01-05T15:41:43.004Z"
   },
   {
    "duration": 11,
    "start_time": "2023-01-05T15:45:49.083Z"
   },
   {
    "duration": 80,
    "start_time": "2023-01-05T15:50:49.114Z"
   },
   {
    "duration": 65,
    "start_time": "2023-01-05T15:52:31.059Z"
   },
   {
    "duration": 12,
    "start_time": "2023-01-05T15:52:51.189Z"
   },
   {
    "duration": 14,
    "start_time": "2023-01-05T15:57:39.602Z"
   },
   {
    "duration": 61,
    "start_time": "2023-01-05T15:57:40.398Z"
   },
   {
    "duration": 10,
    "start_time": "2023-01-05T15:58:06.529Z"
   },
   {
    "duration": 11,
    "start_time": "2023-01-05T15:58:33.850Z"
   },
   {
    "duration": 13,
    "start_time": "2023-01-05T15:58:47.848Z"
   },
   {
    "duration": 13,
    "start_time": "2023-01-05T15:59:01.589Z"
   },
   {
    "duration": 2,
    "start_time": "2023-01-05T15:59:15.095Z"
   },
   {
    "duration": 1618,
    "start_time": "2023-01-05T15:59:15.475Z"
   },
   {
    "duration": 16,
    "start_time": "2023-01-05T15:59:19.646Z"
   },
   {
    "duration": 10,
    "start_time": "2023-01-05T15:59:31.708Z"
   },
   {
    "duration": 11,
    "start_time": "2023-01-05T15:59:33.887Z"
   },
   {
    "duration": 13,
    "start_time": "2023-01-05T15:59:44.545Z"
   },
   {
    "duration": 10,
    "start_time": "2023-01-05T15:59:45.515Z"
   },
   {
    "duration": 17,
    "start_time": "2023-01-05T16:00:02.139Z"
   },
   {
    "duration": 11,
    "start_time": "2023-01-05T16:03:16.767Z"
   },
   {
    "duration": 15,
    "start_time": "2023-01-05T16:03:33.311Z"
   },
   {
    "duration": 21,
    "start_time": "2023-01-05T16:03:35.613Z"
   },
   {
    "duration": 11,
    "start_time": "2023-01-05T16:03:42.138Z"
   },
   {
    "duration": 13,
    "start_time": "2023-01-05T16:03:43.461Z"
   },
   {
    "duration": 15,
    "start_time": "2023-01-05T16:04:26.816Z"
   },
   {
    "duration": 12,
    "start_time": "2023-01-05T16:04:30.086Z"
   },
   {
    "duration": 15,
    "start_time": "2023-01-05T16:04:34.274Z"
   },
   {
    "duration": 20,
    "start_time": "2023-01-05T16:04:39.023Z"
   },
   {
    "duration": 15,
    "start_time": "2023-01-05T16:04:47.546Z"
   },
   {
    "duration": 81,
    "start_time": "2023-01-05T16:04:52.093Z"
   },
   {
    "duration": 16,
    "start_time": "2023-01-05T16:05:11.996Z"
   },
   {
    "duration": 90,
    "start_time": "2023-01-05T16:06:46.245Z"
   },
   {
    "duration": 65,
    "start_time": "2023-01-05T16:07:14.882Z"
   },
   {
    "duration": 13,
    "start_time": "2023-01-05T16:07:23.855Z"
   },
   {
    "duration": 17,
    "start_time": "2023-01-05T16:07:28.314Z"
   },
   {
    "duration": 3,
    "start_time": "2023-01-05T16:10:29.905Z"
   },
   {
    "duration": 1211,
    "start_time": "2023-01-05T16:10:30.265Z"
   },
   {
    "duration": 9,
    "start_time": "2023-01-05T16:10:32.448Z"
   },
   {
    "duration": 11,
    "start_time": "2023-01-05T16:10:35.602Z"
   },
   {
    "duration": 11,
    "start_time": "2023-01-05T16:10:36.682Z"
   },
   {
    "duration": 19,
    "start_time": "2023-01-05T16:10:37.439Z"
   },
   {
    "duration": 16,
    "start_time": "2023-01-05T16:10:38.445Z"
   },
   {
    "duration": 65,
    "start_time": "2023-01-05T16:10:40.488Z"
   },
   {
    "duration": 12,
    "start_time": "2023-01-05T16:10:59.156Z"
   },
   {
    "duration": 13,
    "start_time": "2023-01-05T16:11:00.412Z"
   },
   {
    "duration": 5,
    "start_time": "2023-01-05T16:12:45.991Z"
   },
   {
    "duration": 86,
    "start_time": "2023-01-05T16:13:28.411Z"
   },
   {
    "duration": 6,
    "start_time": "2023-01-05T16:13:31.662Z"
   },
   {
    "duration": 35,
    "start_time": "2023-01-05T16:14:37.254Z"
   },
   {
    "duration": 314,
    "start_time": "2023-01-05T16:15:20.384Z"
   },
   {
    "duration": 301,
    "start_time": "2023-01-05T16:15:47.717Z"
   },
   {
    "duration": 337,
    "start_time": "2023-01-05T16:17:37.252Z"
   },
   {
    "duration": 341,
    "start_time": "2023-01-05T16:17:56.233Z"
   },
   {
    "duration": 36,
    "start_time": "2023-01-05T16:20:21.539Z"
   },
   {
    "duration": 262,
    "start_time": "2023-01-05T16:20:22.455Z"
   },
   {
    "duration": 10,
    "start_time": "2023-01-05T16:20:23.190Z"
   },
   {
    "duration": 5,
    "start_time": "2023-01-05T16:20:26.787Z"
   },
   {
    "duration": 6,
    "start_time": "2023-01-05T16:20:29.624Z"
   },
   {
    "duration": 37,
    "start_time": "2023-01-05T16:20:30.197Z"
   },
   {
    "duration": 279,
    "start_time": "2023-01-05T16:20:30.845Z"
   },
   {
    "duration": 5,
    "start_time": "2023-01-05T16:20:34.877Z"
   },
   {
    "duration": 34,
    "start_time": "2023-01-05T16:20:35.291Z"
   },
   {
    "duration": 263,
    "start_time": "2023-01-05T16:20:35.746Z"
   },
   {
    "duration": 9,
    "start_time": "2023-01-05T16:20:37.564Z"
   },
   {
    "duration": 5,
    "start_time": "2023-01-05T16:21:08.141Z"
   },
   {
    "duration": 33,
    "start_time": "2023-01-05T16:21:08.335Z"
   },
   {
    "duration": 264,
    "start_time": "2023-01-05T16:21:08.530Z"
   },
   {
    "duration": 10,
    "start_time": "2023-01-05T16:21:08.838Z"
   },
   {
    "duration": 5,
    "start_time": "2023-01-05T16:21:31.516Z"
   },
   {
    "duration": 32,
    "start_time": "2023-01-05T16:21:31.748Z"
   },
   {
    "duration": 276,
    "start_time": "2023-01-05T16:21:31.945Z"
   },
   {
    "duration": 11,
    "start_time": "2023-01-05T16:21:32.223Z"
   },
   {
    "duration": 5,
    "start_time": "2023-01-05T16:21:41.843Z"
   },
   {
    "duration": 33,
    "start_time": "2023-01-05T16:21:42.035Z"
   },
   {
    "duration": 286,
    "start_time": "2023-01-05T16:21:42.214Z"
   },
   {
    "duration": 9,
    "start_time": "2023-01-05T16:21:42.503Z"
   },
   {
    "duration": 6,
    "start_time": "2023-01-05T16:22:41.243Z"
   },
   {
    "duration": 15,
    "start_time": "2023-01-05T16:23:11.917Z"
   },
   {
    "duration": 60,
    "start_time": "2023-01-05T16:23:40.045Z"
   },
   {
    "duration": 7,
    "start_time": "2023-01-05T16:24:08.605Z"
   },
   {
    "duration": 12,
    "start_time": "2023-01-05T16:25:43.752Z"
   },
   {
    "duration": 12,
    "start_time": "2023-01-05T16:26:19.105Z"
   },
   {
    "duration": 11,
    "start_time": "2023-01-05T16:26:31.093Z"
   },
   {
    "duration": 11,
    "start_time": "2023-01-05T16:26:37.097Z"
   },
   {
    "duration": 73,
    "start_time": "2023-01-05T16:26:46.149Z"
   },
   {
    "duration": 9,
    "start_time": "2023-01-05T16:26:50.426Z"
   },
   {
    "duration": 8,
    "start_time": "2023-01-05T16:27:03.353Z"
   },
   {
    "duration": 16,
    "start_time": "2023-01-05T16:27:09.587Z"
   },
   {
    "duration": 8,
    "start_time": "2023-01-05T16:27:38.600Z"
   },
   {
    "duration": 9,
    "start_time": "2023-01-05T16:29:57.004Z"
   },
   {
    "duration": 9,
    "start_time": "2023-01-05T16:30:14.631Z"
   },
   {
    "duration": 8,
    "start_time": "2023-01-05T16:30:38.500Z"
   },
   {
    "duration": 24,
    "start_time": "2023-01-05T16:33:54.112Z"
   },
   {
    "duration": 50,
    "start_time": "2023-01-05T16:37:28.888Z"
   },
   {
    "duration": 76,
    "start_time": "2023-01-05T16:37:55.904Z"
   },
   {
    "duration": 3,
    "start_time": "2023-01-05T16:41:22.447Z"
   },
   {
    "duration": 45,
    "start_time": "2023-01-05T16:41:40.163Z"
   },
   {
    "duration": 11,
    "start_time": "2023-01-05T16:45:24.811Z"
   },
   {
    "duration": 12,
    "start_time": "2023-01-05T16:45:25.924Z"
   },
   {
    "duration": 52,
    "start_time": "2023-01-05T16:45:28.805Z"
   },
   {
    "duration": 359,
    "start_time": "2023-01-06T12:12:07.344Z"
   },
   {
    "duration": 1480,
    "start_time": "2023-01-06T12:12:08.602Z"
   },
   {
    "duration": 15,
    "start_time": "2023-01-06T12:12:12.878Z"
   },
   {
    "duration": 10,
    "start_time": "2023-01-06T12:12:13.661Z"
   },
   {
    "duration": 12,
    "start_time": "2023-01-06T12:12:18.472Z"
   },
   {
    "duration": 18,
    "start_time": "2023-01-06T12:12:19.020Z"
   },
   {
    "duration": 11,
    "start_time": "2023-01-06T12:12:21.384Z"
   },
   {
    "duration": 59,
    "start_time": "2023-01-06T12:12:23.052Z"
   },
   {
    "duration": 11,
    "start_time": "2023-01-06T12:12:25.022Z"
   },
   {
    "duration": 11,
    "start_time": "2023-01-06T12:12:26.188Z"
   },
   {
    "duration": 5,
    "start_time": "2023-01-06T12:12:39.628Z"
   },
   {
    "duration": 30,
    "start_time": "2023-01-06T12:12:40.576Z"
   },
   {
    "duration": 248,
    "start_time": "2023-01-06T12:12:40.768Z"
   },
   {
    "duration": 8,
    "start_time": "2023-01-06T12:12:41.085Z"
   },
   {
    "duration": 5,
    "start_time": "2023-01-06T12:12:42.303Z"
   },
   {
    "duration": 13,
    "start_time": "2023-01-06T12:12:42.975Z"
   },
   {
    "duration": 55,
    "start_time": "2023-01-06T12:12:43.516Z"
   },
   {
    "duration": 8,
    "start_time": "2023-01-06T12:12:44.349Z"
   },
   {
    "duration": 8,
    "start_time": "2023-01-06T12:12:44.578Z"
   },
   {
    "duration": 39,
    "start_time": "2023-01-06T12:12:45.239Z"
   },
   {
    "duration": 73,
    "start_time": "2023-01-06T12:26:32.835Z"
   },
   {
    "duration": 91,
    "start_time": "2023-01-06T12:27:40.931Z"
   },
   {
    "duration": 72,
    "start_time": "2023-01-06T12:27:52.727Z"
   },
   {
    "duration": 71,
    "start_time": "2023-01-06T12:27:56.918Z"
   },
   {
    "duration": 75,
    "start_time": "2023-01-06T12:28:03.484Z"
   },
   {
    "duration": 70,
    "start_time": "2023-01-06T12:28:26.610Z"
   },
   {
    "duration": 71,
    "start_time": "2023-01-06T12:28:35.604Z"
   },
   {
    "duration": 12,
    "start_time": "2023-01-06T12:29:03.813Z"
   },
   {
    "duration": 32,
    "start_time": "2023-01-06T12:30:57.871Z"
   },
   {
    "duration": 121,
    "start_time": "2023-01-06T12:39:05.426Z"
   },
   {
    "duration": 88,
    "start_time": "2023-01-06T12:39:33.707Z"
   },
   {
    "duration": 3,
    "start_time": "2023-01-06T12:39:54.112Z"
   },
   {
    "duration": 70,
    "start_time": "2023-01-06T12:40:36.599Z"
   },
   {
    "duration": 89,
    "start_time": "2023-01-06T12:41:27.862Z"
   },
   {
    "duration": 75,
    "start_time": "2023-01-06T12:41:39.977Z"
   },
   {
    "duration": 81,
    "start_time": "2023-01-06T12:41:50.440Z"
   },
   {
    "duration": 76,
    "start_time": "2023-01-06T12:41:57.327Z"
   },
   {
    "duration": 72,
    "start_time": "2023-01-06T12:42:09.538Z"
   },
   {
    "duration": 91,
    "start_time": "2023-01-06T12:42:27.339Z"
   },
   {
    "duration": 72,
    "start_time": "2023-01-06T12:42:34.505Z"
   },
   {
    "duration": 85,
    "start_time": "2023-01-06T12:42:43.494Z"
   },
   {
    "duration": 77,
    "start_time": "2023-01-06T12:42:47.811Z"
   },
   {
    "duration": 70,
    "start_time": "2023-01-06T12:42:52.638Z"
   },
   {
    "duration": 92,
    "start_time": "2023-01-06T12:42:59.404Z"
   },
   {
    "duration": 68,
    "start_time": "2023-01-06T12:43:24.049Z"
   },
   {
    "duration": 69,
    "start_time": "2023-01-06T12:53:03.011Z"
   },
   {
    "duration": 6,
    "start_time": "2023-01-06T12:53:04.277Z"
   },
   {
    "duration": 70,
    "start_time": "2023-01-06T12:53:06.474Z"
   },
   {
    "duration": 7,
    "start_time": "2023-01-06T12:53:28.283Z"
   },
   {
    "duration": 12,
    "start_time": "2023-01-06T12:53:28.775Z"
   },
   {
    "duration": 77,
    "start_time": "2023-01-06T12:56:03.725Z"
   },
   {
    "duration": 32,
    "start_time": "2023-01-06T12:56:17.016Z"
   },
   {
    "duration": 30,
    "start_time": "2023-01-06T12:56:22.201Z"
   },
   {
    "duration": 32,
    "start_time": "2023-01-06T12:57:16.368Z"
   },
   {
    "duration": 33,
    "start_time": "2023-01-06T12:57:20.566Z"
   },
   {
    "duration": 75,
    "start_time": "2023-01-06T12:57:33.072Z"
   },
   {
    "duration": 73,
    "start_time": "2023-01-06T12:57:53.528Z"
   },
   {
    "duration": 89,
    "start_time": "2023-01-06T12:58:07.289Z"
   },
   {
    "duration": 73,
    "start_time": "2023-01-06T12:58:11.865Z"
   },
   {
    "duration": 93,
    "start_time": "2023-01-06T12:58:16.990Z"
   },
   {
    "duration": 80,
    "start_time": "2023-01-06T12:58:21.558Z"
   },
   {
    "duration": 83,
    "start_time": "2023-01-06T12:58:27.501Z"
   },
   {
    "duration": 74,
    "start_time": "2023-01-06T12:58:41.612Z"
   },
   {
    "duration": 72,
    "start_time": "2023-01-06T12:58:48.309Z"
   },
   {
    "duration": 88,
    "start_time": "2023-01-06T12:59:28.578Z"
   },
   {
    "duration": 7,
    "start_time": "2023-01-06T12:59:28.822Z"
   },
   {
    "duration": 6,
    "start_time": "2023-01-06T13:01:47.567Z"
   },
   {
    "duration": 5,
    "start_time": "2023-01-06T13:02:23.565Z"
   },
   {
    "duration": 57,
    "start_time": "2023-01-06T13:02:39.117Z"
   },
   {
    "duration": 8,
    "start_time": "2023-01-06T13:02:39.762Z"
   },
   {
    "duration": 12,
    "start_time": "2023-01-06T13:02:39.990Z"
   },
   {
    "duration": 38,
    "start_time": "2023-01-06T13:02:40.529Z"
   },
   {
    "duration": 74,
    "start_time": "2023-01-06T13:02:41.719Z"
   },
   {
    "duration": 81,
    "start_time": "2023-01-06T13:02:47.594Z"
   },
   {
    "duration": 66,
    "start_time": "2023-01-06T13:04:54.697Z"
   },
   {
    "duration": 2,
    "start_time": "2023-01-06T13:05:46.523Z"
   },
   {
    "duration": 1300,
    "start_time": "2023-01-06T13:05:46.847Z"
   },
   {
    "duration": 12,
    "start_time": "2023-01-06T13:05:49.067Z"
   },
   {
    "duration": 9,
    "start_time": "2023-01-06T13:05:49.341Z"
   },
   {
    "duration": 10,
    "start_time": "2023-01-06T13:05:49.950Z"
   },
   {
    "duration": 18,
    "start_time": "2023-01-06T13:05:50.238Z"
   },
   {
    "duration": 11,
    "start_time": "2023-01-06T13:05:50.743Z"
   },
   {
    "duration": 66,
    "start_time": "2023-01-06T13:05:51.305Z"
   },
   {
    "duration": 13,
    "start_time": "2023-01-06T13:05:51.918Z"
   },
   {
    "duration": 15,
    "start_time": "2023-01-06T13:05:52.143Z"
   },
   {
    "duration": 5,
    "start_time": "2023-01-06T13:05:53.186Z"
   },
   {
    "duration": 39,
    "start_time": "2023-01-06T13:05:53.389Z"
   },
   {
    "duration": 266,
    "start_time": "2023-01-06T13:05:53.886Z"
   },
   {
    "duration": 9,
    "start_time": "2023-01-06T13:05:54.160Z"
   },
   {
    "duration": 5,
    "start_time": "2023-01-06T13:05:55.060Z"
   },
   {
    "duration": 12,
    "start_time": "2023-01-06T13:05:55.371Z"
   },
   {
    "duration": 55,
    "start_time": "2023-01-06T13:05:55.742Z"
   },
   {
    "duration": 65,
    "start_time": "2023-01-06T13:05:59.281Z"
   },
   {
    "duration": 9,
    "start_time": "2023-01-06T13:06:00.240Z"
   },
   {
    "duration": 8,
    "start_time": "2023-01-06T13:06:00.722Z"
   },
   {
    "duration": 47,
    "start_time": "2023-01-06T13:06:01.293Z"
   },
   {
    "duration": 81,
    "start_time": "2023-01-06T13:06:02.538Z"
   },
   {
    "duration": 6,
    "start_time": "2023-01-06T13:06:03.089Z"
   },
   {
    "duration": 71,
    "start_time": "2023-01-06T13:06:11.721Z"
   },
   {
    "duration": 6,
    "start_time": "2023-01-06T13:07:07.585Z"
   },
   {
    "duration": 65,
    "start_time": "2023-01-06T13:07:08.113Z"
   },
   {
    "duration": 7,
    "start_time": "2023-01-06T13:07:15.012Z"
   },
   {
    "duration": 9,
    "start_time": "2023-01-06T13:13:18.241Z"
   },
   {
    "duration": 7,
    "start_time": "2023-01-06T13:13:31.042Z"
   },
   {
    "duration": 98,
    "start_time": "2023-01-06T13:14:08.864Z"
   },
   {
    "duration": 9,
    "start_time": "2023-01-06T13:15:02.516Z"
   },
   {
    "duration": 56,
    "start_time": "2023-01-06T13:15:18.415Z"
   },
   {
    "duration": 17,
    "start_time": "2023-01-06T13:16:02.231Z"
   },
   {
    "duration": 16,
    "start_time": "2023-01-06T13:16:39.602Z"
   },
   {
    "duration": 23,
    "start_time": "2023-01-06T13:18:26.135Z"
   },
   {
    "duration": 30,
    "start_time": "2023-01-06T13:18:46.312Z"
   },
   {
    "duration": 31,
    "start_time": "2023-01-06T13:19:51.567Z"
   },
   {
    "duration": 60,
    "start_time": "2023-01-06T13:21:09.983Z"
   },
   {
    "duration": 2,
    "start_time": "2023-01-06T13:22:08.102Z"
   },
   {
    "duration": 1321,
    "start_time": "2023-01-06T13:22:08.534Z"
   },
   {
    "duration": 9,
    "start_time": "2023-01-06T13:22:11.079Z"
   },
   {
    "duration": 9,
    "start_time": "2023-01-06T13:22:11.625Z"
   },
   {
    "duration": 12,
    "start_time": "2023-01-06T13:22:12.584Z"
   },
   {
    "duration": 19,
    "start_time": "2023-01-06T13:22:13.023Z"
   },
   {
    "duration": 19,
    "start_time": "2023-01-06T13:22:13.893Z"
   },
   {
    "duration": 74,
    "start_time": "2023-01-06T13:22:14.848Z"
   },
   {
    "duration": 9,
    "start_time": "2023-01-06T13:22:15.786Z"
   },
   {
    "duration": 11,
    "start_time": "2023-01-06T13:22:16.263Z"
   },
   {
    "duration": 4,
    "start_time": "2023-01-06T13:22:18.226Z"
   },
   {
    "duration": 29,
    "start_time": "2023-01-06T13:22:18.898Z"
   },
   {
    "duration": 227,
    "start_time": "2023-01-06T13:22:19.450Z"
   },
   {
    "duration": 10,
    "start_time": "2023-01-06T13:22:19.953Z"
   },
   {
    "duration": 5,
    "start_time": "2023-01-06T13:22:21.500Z"
   },
   {
    "duration": 22,
    "start_time": "2023-01-06T13:22:22.069Z"
   },
   {
    "duration": 71,
    "start_time": "2023-01-06T13:22:24.811Z"
   },
   {
    "duration": 12,
    "start_time": "2023-01-06T13:22:26.460Z"
   },
   {
    "duration": 7,
    "start_time": "2023-01-06T13:22:28.721Z"
   },
   {
    "duration": 41,
    "start_time": "2023-01-06T13:22:30.403Z"
   },
   {
    "duration": 69,
    "start_time": "2023-01-06T13:22:33.271Z"
   },
   {
    "duration": 6,
    "start_time": "2023-01-06T13:22:37.659Z"
   },
   {
    "duration": 54,
    "start_time": "2023-01-06T13:22:38.092Z"
   },
   {
    "duration": 7,
    "start_time": "2023-01-06T13:22:39.308Z"
   },
   {
    "duration": 17,
    "start_time": "2023-01-06T13:22:43.348Z"
   },
   {
    "duration": 34,
    "start_time": "2023-01-06T13:22:45.909Z"
   },
   {
    "duration": 133,
    "start_time": "2023-01-06T13:22:46.371Z"
   },
   {
    "duration": 6,
    "start_time": "2023-01-06T13:27:49.083Z"
   },
   {
    "duration": 40,
    "start_time": "2023-01-06T13:27:49.519Z"
   },
   {
    "duration": 6,
    "start_time": "2023-01-06T13:27:51.056Z"
   },
   {
    "duration": 58,
    "start_time": "2023-01-06T13:32:24.710Z"
   },
   {
    "duration": 7,
    "start_time": "2023-01-06T15:31:09.562Z"
   },
   {
    "duration": 7,
    "start_time": "2023-01-06T15:32:43.968Z"
   },
   {
    "duration": 11,
    "start_time": "2023-01-06T15:33:02.803Z"
   },
   {
    "duration": 7,
    "start_time": "2023-01-06T15:33:27.521Z"
   },
   {
    "duration": 1403,
    "start_time": "2023-01-06T15:33:27.976Z"
   },
   {
    "duration": 3,
    "start_time": "2023-01-06T15:33:33.058Z"
   },
   {
    "duration": 1126,
    "start_time": "2023-01-06T15:33:33.963Z"
   },
   {
    "duration": 7,
    "start_time": "2023-01-06T15:33:40.204Z"
   },
   {
    "duration": 39,
    "start_time": "2023-01-06T15:33:40.598Z"
   },
   {
    "duration": 7,
    "start_time": "2023-01-06T15:36:13.403Z"
   },
   {
    "duration": 6,
    "start_time": "2023-01-06T15:37:09.390Z"
   },
   {
    "duration": 14,
    "start_time": "2023-01-06T15:37:29.795Z"
   },
   {
    "duration": 10,
    "start_time": "2023-01-06T15:38:43.291Z"
   },
   {
    "duration": 22,
    "start_time": "2023-01-06T15:39:01.098Z"
   },
   {
    "duration": 10,
    "start_time": "2023-01-06T15:39:05.654Z"
   },
   {
    "duration": 72,
    "start_time": "2023-01-06T15:39:06.494Z"
   },
   {
    "duration": 10,
    "start_time": "2023-01-06T15:40:51.958Z"
   },
   {
    "duration": 7,
    "start_time": "2023-01-06T15:40:59.947Z"
   },
   {
    "duration": 7,
    "start_time": "2023-01-06T15:41:03.567Z"
   },
   {
    "duration": 6,
    "start_time": "2023-01-06T15:41:32.549Z"
   },
   {
    "duration": 57,
    "start_time": "2023-01-06T15:42:24.634Z"
   },
   {
    "duration": 7,
    "start_time": "2023-01-06T15:42:27.170Z"
   },
   {
    "duration": 40,
    "start_time": "2023-01-06T15:42:27.562Z"
   },
   {
    "duration": 6,
    "start_time": "2023-01-06T15:44:08.743Z"
   },
   {
    "duration": 6,
    "start_time": "2023-01-06T15:44:11.294Z"
   },
   {
    "duration": 13,
    "start_time": "2023-01-06T15:44:11.760Z"
   },
   {
    "duration": 8,
    "start_time": "2023-01-06T15:44:15.378Z"
   },
   {
    "duration": 41,
    "start_time": "2023-01-06T15:44:15.898Z"
   },
   {
    "duration": 5,
    "start_time": "2023-01-06T15:44:16.533Z"
   },
   {
    "duration": 17,
    "start_time": "2023-01-06T15:44:17.549Z"
   },
   {
    "duration": 9,
    "start_time": "2023-01-06T15:45:52.325Z"
   },
   {
    "duration": 12,
    "start_time": "2023-01-06T15:46:11.605Z"
   },
   {
    "duration": 14,
    "start_time": "2023-01-06T15:46:21.464Z"
   },
   {
    "duration": 29,
    "start_time": "2023-01-06T15:46:38.392Z"
   },
   {
    "duration": 7,
    "start_time": "2023-01-06T15:47:14.856Z"
   },
   {
    "duration": 39,
    "start_time": "2023-01-06T15:47:15.457Z"
   },
   {
    "duration": 6,
    "start_time": "2023-01-06T15:48:11.354Z"
   },
   {
    "duration": 9,
    "start_time": "2023-01-06T15:48:12.566Z"
   },
   {
    "duration": 19,
    "start_time": "2023-01-06T15:50:03.558Z"
   },
   {
    "duration": 20,
    "start_time": "2023-01-06T15:50:17.864Z"
   },
   {
    "duration": 17,
    "start_time": "2023-01-06T15:51:13.846Z"
   },
   {
    "duration": 40,
    "start_time": "2023-01-06T15:51:17.912Z"
   },
   {
    "duration": 5,
    "start_time": "2023-01-06T15:54:42.878Z"
   },
   {
    "duration": 4,
    "start_time": "2023-01-06T15:55:38.881Z"
   },
   {
    "duration": 9,
    "start_time": "2023-01-06T15:55:47.106Z"
   },
   {
    "duration": 7,
    "start_time": "2023-01-06T15:56:26.430Z"
   },
   {
    "duration": 5,
    "start_time": "2023-01-06T15:56:43.255Z"
   },
   {
    "duration": 16,
    "start_time": "2023-01-06T15:57:04.136Z"
   },
   {
    "duration": 5,
    "start_time": "2023-01-06T15:57:36.155Z"
   },
   {
    "duration": 71,
    "start_time": "2023-01-06T15:58:13.167Z"
   },
   {
    "duration": 7,
    "start_time": "2023-01-06T15:58:16.419Z"
   },
   {
    "duration": 7,
    "start_time": "2023-01-06T15:58:32.502Z"
   },
   {
    "duration": 12,
    "start_time": "2023-01-06T15:58:37.285Z"
   },
   {
    "duration": 8,
    "start_time": "2023-01-06T15:59:25.878Z"
   },
   {
    "duration": 15,
    "start_time": "2023-01-06T16:02:11.907Z"
   },
   {
    "duration": 14,
    "start_time": "2023-01-06T16:02:35.835Z"
   },
   {
    "duration": 8,
    "start_time": "2023-01-06T16:03:01.054Z"
   },
   {
    "duration": 66,
    "start_time": "2023-01-06T16:04:08.225Z"
   },
   {
    "duration": 66,
    "start_time": "2023-01-06T16:04:21.789Z"
   },
   {
    "duration": 70,
    "start_time": "2023-01-06T16:04:27.377Z"
   },
   {
    "duration": 14,
    "start_time": "2023-01-06T16:04:39.514Z"
   },
   {
    "duration": 13,
    "start_time": "2023-01-06T16:05:32.981Z"
   },
   {
    "duration": 13,
    "start_time": "2023-01-06T16:05:51.013Z"
   },
   {
    "duration": 43,
    "start_time": "2023-01-06T16:06:08.044Z"
   },
   {
    "duration": 5,
    "start_time": "2023-01-06T16:06:40.424Z"
   },
   {
    "duration": 5,
    "start_time": "2023-01-06T16:06:41.427Z"
   },
   {
    "duration": 8,
    "start_time": "2023-01-06T16:12:13.176Z"
   },
   {
    "duration": 12,
    "start_time": "2023-01-06T16:12:13.858Z"
   },
   {
    "duration": 41,
    "start_time": "2023-01-06T16:12:14.234Z"
   },
   {
    "duration": 4,
    "start_time": "2023-01-06T16:12:14.637Z"
   },
   {
    "duration": 6,
    "start_time": "2023-01-06T16:12:16.561Z"
   },
   {
    "duration": 8,
    "start_time": "2023-01-06T16:13:29.809Z"
   },
   {
    "duration": 8,
    "start_time": "2023-01-06T16:14:10.456Z"
   },
   {
    "duration": 5,
    "start_time": "2023-01-06T16:14:20.891Z"
   },
   {
    "duration": 6,
    "start_time": "2023-01-06T16:14:21.692Z"
   },
   {
    "duration": 5,
    "start_time": "2023-01-06T16:14:30.461Z"
   },
   {
    "duration": 6,
    "start_time": "2023-01-06T16:14:31.294Z"
   },
   {
    "duration": 400,
    "start_time": "2023-01-06T16:15:14.085Z"
   },
   {
    "duration": 1161,
    "start_time": "2023-01-06T16:15:14.487Z"
   },
   {
    "duration": 14,
    "start_time": "2023-01-06T16:15:15.649Z"
   },
   {
    "duration": 10,
    "start_time": "2023-01-06T16:15:15.664Z"
   },
   {
    "duration": 12,
    "start_time": "2023-01-06T16:15:15.676Z"
   },
   {
    "duration": 21,
    "start_time": "2023-01-06T16:15:15.689Z"
   },
   {
    "duration": 13,
    "start_time": "2023-01-06T16:15:15.711Z"
   },
   {
    "duration": 58,
    "start_time": "2023-01-06T16:15:15.726Z"
   },
   {
    "duration": 9,
    "start_time": "2023-01-06T16:15:15.804Z"
   },
   {
    "duration": 13,
    "start_time": "2023-01-06T16:15:15.814Z"
   },
   {
    "duration": 8,
    "start_time": "2023-01-06T16:15:15.829Z"
   },
   {
    "duration": 30,
    "start_time": "2023-01-06T16:15:15.838Z"
   },
   {
    "duration": 282,
    "start_time": "2023-01-06T16:15:15.870Z"
   },
   {
    "duration": 9,
    "start_time": "2023-01-06T16:15:16.155Z"
   },
   {
    "duration": 4,
    "start_time": "2023-01-06T16:15:16.166Z"
   },
   {
    "duration": 33,
    "start_time": "2023-01-06T16:15:16.172Z"
   },
   {
    "duration": 51,
    "start_time": "2023-01-06T16:15:16.206Z"
   },
   {
    "duration": 7,
    "start_time": "2023-01-06T16:15:16.259Z"
   },
   {
    "duration": 14,
    "start_time": "2023-01-06T16:15:16.268Z"
   },
   {
    "duration": 51,
    "start_time": "2023-01-06T16:15:16.283Z"
   },
   {
    "duration": 88,
    "start_time": "2023-01-06T16:15:16.335Z"
   },
   {
    "duration": 6,
    "start_time": "2023-01-06T16:15:16.427Z"
   },
   {
    "duration": 54,
    "start_time": "2023-01-06T16:15:16.434Z"
   },
   {
    "duration": 19,
    "start_time": "2023-01-06T16:15:16.489Z"
   },
   {
    "duration": 24,
    "start_time": "2023-01-06T16:15:16.509Z"
   },
   {
    "duration": 28,
    "start_time": "2023-01-06T16:15:16.534Z"
   },
   {
    "duration": 150,
    "start_time": "2023-01-06T16:15:16.564Z"
   },
   {
    "duration": 7,
    "start_time": "2023-01-06T16:15:16.716Z"
   },
   {
    "duration": 16,
    "start_time": "2023-01-06T16:15:16.725Z"
   },
   {
    "duration": 41,
    "start_time": "2023-01-06T16:15:16.743Z"
   },
   {
    "duration": 21,
    "start_time": "2023-01-06T16:15:16.786Z"
   },
   {
    "duration": 8,
    "start_time": "2023-01-06T16:15:16.808Z"
   },
   {
    "duration": 7,
    "start_time": "2023-01-06T16:15:16.817Z"
   },
   {
    "duration": 5,
    "start_time": "2023-01-06T16:15:45.741Z"
   },
   {
    "duration": 9,
    "start_time": "2023-01-06T16:15:50.868Z"
   },
   {
    "duration": 6,
    "start_time": "2023-01-06T16:16:00.758Z"
   },
   {
    "duration": 6,
    "start_time": "2023-01-06T16:22:53.736Z"
   },
   {
    "duration": 7,
    "start_time": "2023-01-06T16:23:26.194Z"
   },
   {
    "duration": 11,
    "start_time": "2023-01-06T16:41:08.715Z"
   },
   {
    "duration": 6,
    "start_time": "2023-01-06T16:41:21.322Z"
   },
   {
    "duration": 65,
    "start_time": "2023-01-06T16:42:02.214Z"
   },
   {
    "duration": 10,
    "start_time": "2023-01-06T16:42:12.234Z"
   },
   {
    "duration": 8,
    "start_time": "2023-01-06T16:42:28.147Z"
   },
   {
    "duration": 8,
    "start_time": "2023-01-06T16:42:38.257Z"
   },
   {
    "duration": 8,
    "start_time": "2023-01-06T16:42:47.275Z"
   },
   {
    "duration": 6,
    "start_time": "2023-01-06T16:42:54.724Z"
   },
   {
    "duration": 1156,
    "start_time": "2023-01-06T16:43:57.849Z"
   },
   {
    "duration": 12,
    "start_time": "2023-01-06T16:44:09.712Z"
   },
   {
    "duration": 11,
    "start_time": "2023-01-06T16:44:44.796Z"
   },
   {
    "duration": 1094,
    "start_time": "2023-01-06T16:45:34.476Z"
   },
   {
    "duration": 9,
    "start_time": "2023-01-06T16:45:50.366Z"
   },
   {
    "duration": 33,
    "start_time": "2023-01-06T16:49:00.648Z"
   },
   {
    "duration": 31,
    "start_time": "2023-01-06T17:02:15.876Z"
   },
   {
    "duration": 32,
    "start_time": "2023-01-06T17:02:22.042Z"
   },
   {
    "duration": 36,
    "start_time": "2023-01-06T17:02:39.694Z"
   },
   {
    "duration": 37,
    "start_time": "2023-01-06T17:03:31.822Z"
   },
   {
    "duration": 32,
    "start_time": "2023-01-06T17:03:38.974Z"
   },
   {
    "duration": 31,
    "start_time": "2023-01-06T17:04:01.235Z"
   },
   {
    "duration": 7,
    "start_time": "2023-01-06T17:04:22.635Z"
   },
   {
    "duration": 5,
    "start_time": "2023-01-06T17:04:34.485Z"
   },
   {
    "duration": 35,
    "start_time": "2023-01-06T17:42:30.388Z"
   },
   {
    "duration": 33,
    "start_time": "2023-01-06T17:42:38.752Z"
   },
   {
    "duration": 34,
    "start_time": "2023-01-06T17:42:46.047Z"
   },
   {
    "duration": 36,
    "start_time": "2023-01-06T17:42:55.463Z"
   },
   {
    "duration": 38,
    "start_time": "2023-01-06T17:43:17.369Z"
   },
   {
    "duration": 35,
    "start_time": "2023-01-06T17:43:26.855Z"
   },
   {
    "duration": 30,
    "start_time": "2023-01-06T17:43:51.619Z"
   },
   {
    "duration": 6,
    "start_time": "2023-01-06T17:44:23.216Z"
   },
   {
    "duration": 7,
    "start_time": "2023-01-06T17:46:28.746Z"
   },
   {
    "duration": 684,
    "start_time": "2023-01-06T17:47:10.537Z"
   },
   {
    "duration": 46,
    "start_time": "2023-01-06T17:47:17.000Z"
   },
   {
    "duration": 10,
    "start_time": "2023-01-06T17:48:20.247Z"
   },
   {
    "duration": 76,
    "start_time": "2023-01-06T17:49:03.542Z"
   },
   {
    "duration": 450,
    "start_time": "2023-01-06T17:49:08.357Z"
   },
   {
    "duration": 63,
    "start_time": "2023-01-06T17:50:49.711Z"
   },
   {
    "duration": 93,
    "start_time": "2023-01-06T17:50:57.996Z"
   },
   {
    "duration": 35,
    "start_time": "2023-01-06T18:12:26.343Z"
   },
   {
    "duration": 5,
    "start_time": "2023-01-06T18:13:26.286Z"
   },
   {
    "duration": 5,
    "start_time": "2023-01-06T18:13:30.693Z"
   },
   {
    "duration": 13,
    "start_time": "2023-01-06T18:14:06.181Z"
   },
   {
    "duration": 13,
    "start_time": "2023-01-06T18:14:57.744Z"
   },
   {
    "duration": 4,
    "start_time": "2023-01-06T18:15:22.245Z"
   },
   {
    "duration": 14,
    "start_time": "2023-01-06T18:15:25.150Z"
   },
   {
    "duration": 102,
    "start_time": "2023-01-06T18:15:34.871Z"
   },
   {
    "duration": 74,
    "start_time": "2023-01-06T18:15:42.503Z"
   },
   {
    "duration": 11,
    "start_time": "2023-01-06T18:16:09.187Z"
   },
   {
    "duration": 6,
    "start_time": "2023-01-06T18:24:31.752Z"
   },
   {
    "duration": 11,
    "start_time": "2023-01-06T18:24:32.438Z"
   },
   {
    "duration": 13,
    "start_time": "2023-01-06T19:04:43.000Z"
   },
   {
    "duration": 29,
    "start_time": "2023-01-06T19:04:58.072Z"
   },
   {
    "duration": 14,
    "start_time": "2023-01-06T19:04:58.614Z"
   },
   {
    "duration": 13,
    "start_time": "2023-01-06T19:05:19.419Z"
   },
   {
    "duration": 16,
    "start_time": "2023-01-06T19:05:22.224Z"
   },
   {
    "duration": 13,
    "start_time": "2023-01-06T19:05:31.425Z"
   },
   {
    "duration": 35,
    "start_time": "2023-01-06T19:05:33.447Z"
   },
   {
    "duration": 14,
    "start_time": "2023-01-06T19:05:33.950Z"
   },
   {
    "duration": 13,
    "start_time": "2023-01-06T19:05:44.542Z"
   },
   {
    "duration": 13,
    "start_time": "2023-01-06T19:07:13.251Z"
   },
   {
    "duration": 12,
    "start_time": "2023-01-06T19:07:44.861Z"
   },
   {
    "duration": 8,
    "start_time": "2023-01-06T19:07:58.074Z"
   },
   {
    "duration": 112,
    "start_time": "2023-01-06T19:17:12.963Z"
   },
   {
    "duration": 116,
    "start_time": "2023-01-06T19:17:18.652Z"
   },
   {
    "duration": 119,
    "start_time": "2023-01-06T19:18:32.200Z"
   },
   {
    "duration": 8,
    "start_time": "2023-01-06T19:24:49.553Z"
   },
   {
    "duration": 23,
    "start_time": "2023-01-06T19:24:55.472Z"
   },
   {
    "duration": 31,
    "start_time": "2023-01-06T19:25:10.466Z"
   },
   {
    "duration": 126,
    "start_time": "2023-01-06T19:25:11.159Z"
   },
   {
    "duration": 23,
    "start_time": "2023-01-06T19:25:12.621Z"
   },
   {
    "duration": 5,
    "start_time": "2023-01-06T19:25:59.451Z"
   },
   {
    "duration": 111,
    "start_time": "2023-01-06T19:26:23.506Z"
   },
   {
    "duration": 1300,
    "start_time": "2023-01-07T06:24:51.251Z"
   },
   {
    "duration": 1106,
    "start_time": "2023-01-07T06:24:53.244Z"
   },
   {
    "duration": 12,
    "start_time": "2023-01-07T06:24:55.870Z"
   },
   {
    "duration": 10,
    "start_time": "2023-01-07T06:24:56.716Z"
   },
   {
    "duration": 11,
    "start_time": "2023-01-07T06:24:57.796Z"
   },
   {
    "duration": 16,
    "start_time": "2023-01-07T06:24:58.344Z"
   },
   {
    "duration": 11,
    "start_time": "2023-01-07T06:24:59.054Z"
   },
   {
    "duration": 56,
    "start_time": "2023-01-07T06:24:59.754Z"
   },
   {
    "duration": 9,
    "start_time": "2023-01-07T06:25:00.743Z"
   },
   {
    "duration": 12,
    "start_time": "2023-01-07T06:25:01.136Z"
   },
   {
    "duration": 4,
    "start_time": "2023-01-07T06:25:02.544Z"
   },
   {
    "duration": 32,
    "start_time": "2023-01-07T06:25:02.988Z"
   },
   {
    "duration": 230,
    "start_time": "2023-01-07T06:25:03.538Z"
   },
   {
    "duration": 9,
    "start_time": "2023-01-07T06:25:04.424Z"
   },
   {
    "duration": 5,
    "start_time": "2023-01-07T06:25:05.315Z"
   },
   {
    "duration": 12,
    "start_time": "2023-01-07T06:25:05.581Z"
   },
   {
    "duration": 52,
    "start_time": "2023-01-07T06:25:06.347Z"
   },
   {
    "duration": 8,
    "start_time": "2023-01-07T06:25:07.413Z"
   },
   {
    "duration": 8,
    "start_time": "2023-01-07T06:25:07.875Z"
   },
   {
    "duration": 36,
    "start_time": "2023-01-07T06:25:08.525Z"
   },
   {
    "duration": 77,
    "start_time": "2023-01-07T06:25:09.133Z"
   },
   {
    "duration": 6,
    "start_time": "2023-01-07T06:25:11.356Z"
   },
   {
    "duration": 54,
    "start_time": "2023-01-07T06:25:13.218Z"
   },
   {
    "duration": 7,
    "start_time": "2023-01-07T06:25:14.958Z"
   },
   {
    "duration": 16,
    "start_time": "2023-01-07T06:25:23.075Z"
   },
   {
    "duration": 30,
    "start_time": "2023-01-07T06:25:32.786Z"
   },
   {
    "duration": 127,
    "start_time": "2023-01-07T06:25:34.128Z"
   },
   {
    "duration": 7,
    "start_time": "2023-01-07T06:25:42.188Z"
   },
   {
    "duration": 12,
    "start_time": "2023-01-07T06:25:44.434Z"
   },
   {
    "duration": 40,
    "start_time": "2023-01-07T06:25:50.528Z"
   },
   {
    "duration": 5,
    "start_time": "2023-01-07T06:25:52.216Z"
   },
   {
    "duration": 4,
    "start_time": "2023-01-07T06:25:58.404Z"
   },
   {
    "duration": 7,
    "start_time": "2023-01-07T06:26:17.972Z"
   },
   {
    "duration": 31,
    "start_time": "2023-01-07T06:26:26.904Z"
   },
   {
    "duration": 112,
    "start_time": "2023-01-07T06:26:29.128Z"
   },
   {
    "duration": 22,
    "start_time": "2023-01-07T06:26:32.935Z"
   },
   {
    "duration": 6,
    "start_time": "2023-01-07T06:27:34.270Z"
   },
   {
    "duration": 5,
    "start_time": "2023-01-07T06:27:34.480Z"
   },
   {
    "duration": 11,
    "start_time": "2023-01-07T06:27:34.838Z"
   },
   {
    "duration": 29,
    "start_time": "2023-01-07T06:58:54.043Z"
   },
   {
    "duration": 48,
    "start_time": "2023-01-07T07:03:20.769Z"
   },
   {
    "duration": 92,
    "start_time": "2023-01-07T07:03:31.676Z"
   },
   {
    "duration": 13,
    "start_time": "2023-01-07T07:03:43.536Z"
   },
   {
    "duration": 12,
    "start_time": "2023-01-07T07:04:35.321Z"
   },
   {
    "duration": 8,
    "start_time": "2023-01-07T07:08:44.192Z"
   },
   {
    "duration": 25,
    "start_time": "2023-01-07T07:09:18.725Z"
   },
   {
    "duration": 14,
    "start_time": "2023-01-07T07:09:44.683Z"
   },
   {
    "duration": 16,
    "start_time": "2023-01-07T07:10:04.311Z"
   },
   {
    "duration": 20,
    "start_time": "2023-01-07T07:10:10.875Z"
   },
   {
    "duration": 13,
    "start_time": "2023-01-07T07:10:17.400Z"
   },
   {
    "duration": 13,
    "start_time": "2023-01-07T07:10:24.050Z"
   },
   {
    "duration": 16,
    "start_time": "2023-01-07T07:10:32.835Z"
   },
   {
    "duration": 10,
    "start_time": "2023-01-07T07:10:51.874Z"
   },
   {
    "duration": 16,
    "start_time": "2023-01-07T07:11:02.388Z"
   },
   {
    "duration": 12,
    "start_time": "2023-01-07T07:11:28.682Z"
   },
   {
    "duration": 332,
    "start_time": "2023-01-07T07:11:29.305Z"
   },
   {
    "duration": 85,
    "start_time": "2023-01-07T07:11:41.349Z"
   },
   {
    "duration": 56,
    "start_time": "2023-01-07T07:11:54.172Z"
   },
   {
    "duration": 18,
    "start_time": "2023-01-07T07:12:15.699Z"
   },
   {
    "duration": 15,
    "start_time": "2023-01-07T07:12:35.755Z"
   },
   {
    "duration": 18,
    "start_time": "2023-01-07T07:13:00.563Z"
   },
   {
    "duration": 13,
    "start_time": "2023-01-07T07:13:11.599Z"
   },
   {
    "duration": 13,
    "start_time": "2023-01-07T07:13:18.331Z"
   },
   {
    "duration": 52,
    "start_time": "2023-01-07T07:13:52.083Z"
   },
   {
    "duration": 50,
    "start_time": "2023-01-07T07:15:05.016Z"
   },
   {
    "duration": 11,
    "start_time": "2023-01-07T07:15:13.449Z"
   },
   {
    "duration": 41,
    "start_time": "2023-01-07T07:15:47.267Z"
   },
   {
    "duration": 56,
    "start_time": "2023-01-07T07:16:05.261Z"
   },
   {
    "duration": 57,
    "start_time": "2023-01-07T07:17:24.733Z"
   },
   {
    "duration": 119,
    "start_time": "2023-01-07T07:18:32.083Z"
   },
   {
    "duration": 53,
    "start_time": "2023-01-07T07:18:43.538Z"
   },
   {
    "duration": 56,
    "start_time": "2023-01-07T07:19:11.344Z"
   },
   {
    "duration": 75,
    "start_time": "2023-01-07T07:19:29.533Z"
   },
   {
    "duration": 145,
    "start_time": "2023-01-07T07:19:39.521Z"
   },
   {
    "duration": 15,
    "start_time": "2023-01-07T07:19:40.285Z"
   },
   {
    "duration": 10,
    "start_time": "2023-01-07T07:19:51.065Z"
   },
   {
    "duration": 139,
    "start_time": "2023-01-07T07:20:28.114Z"
   },
   {
    "duration": 8,
    "start_time": "2023-01-07T07:20:28.857Z"
   },
   {
    "duration": 21,
    "start_time": "2023-01-07T07:20:29.778Z"
   },
   {
    "duration": 12,
    "start_time": "2023-01-07T07:20:30.453Z"
   },
   {
    "duration": 7,
    "start_time": "2023-01-07T07:20:31.618Z"
   },
   {
    "duration": 13,
    "start_time": "2023-01-07T07:20:32.539Z"
   },
   {
    "duration": 10,
    "start_time": "2023-01-07T07:21:43.593Z"
   },
   {
    "duration": 14,
    "start_time": "2023-01-07T07:21:47.141Z"
   },
   {
    "duration": 59,
    "start_time": "2023-01-07T07:21:47.473Z"
   },
   {
    "duration": 122,
    "start_time": "2023-01-07T07:21:49.760Z"
   },
   {
    "duration": 7,
    "start_time": "2023-01-07T07:21:50.095Z"
   },
   {
    "duration": 23,
    "start_time": "2023-01-07T07:21:50.667Z"
   },
   {
    "duration": 7,
    "start_time": "2023-01-07T07:21:51.252Z"
   },
   {
    "duration": 7,
    "start_time": "2023-01-07T07:21:51.941Z"
   },
   {
    "duration": 11,
    "start_time": "2023-01-07T07:21:52.404Z"
   },
   {
    "duration": 829,
    "start_time": "2023-01-07T07:22:10.582Z"
   },
   {
    "duration": 943,
    "start_time": "2023-01-07T07:22:26.508Z"
   },
   {
    "duration": 13,
    "start_time": "2023-01-07T07:22:55.200Z"
   },
   {
    "duration": 26,
    "start_time": "2023-01-07T07:49:05.367Z"
   },
   {
    "duration": 11,
    "start_time": "2023-01-07T07:49:48.564Z"
   },
   {
    "duration": 5,
    "start_time": "2023-01-07T07:50:03.106Z"
   },
   {
    "duration": 5,
    "start_time": "2023-01-07T08:00:00.156Z"
   },
   {
    "duration": 8,
    "start_time": "2023-01-07T08:00:12.256Z"
   },
   {
    "duration": 12,
    "start_time": "2023-01-07T08:00:37.415Z"
   },
   {
    "duration": 39,
    "start_time": "2023-01-07T08:00:38.023Z"
   },
   {
    "duration": 4,
    "start_time": "2023-01-07T08:00:44.757Z"
   },
   {
    "duration": 6,
    "start_time": "2023-01-07T08:03:04.271Z"
   },
   {
    "duration": 46,
    "start_time": "2023-01-07T08:06:54.793Z"
   },
   {
    "duration": 14,
    "start_time": "2023-01-07T08:06:55.140Z"
   },
   {
    "duration": 131,
    "start_time": "2023-01-07T08:13:20.317Z"
   },
   {
    "duration": 7,
    "start_time": "2023-01-07T08:13:21.802Z"
   },
   {
    "duration": 27,
    "start_time": "2023-01-07T08:13:23.064Z"
   },
   {
    "duration": 7,
    "start_time": "2023-01-07T08:13:25.812Z"
   },
   {
    "duration": 16,
    "start_time": "2023-01-07T08:13:26.798Z"
   },
   {
    "duration": 15,
    "start_time": "2023-01-07T08:14:07.118Z"
   },
   {
    "duration": 73,
    "start_time": "2023-01-07T08:16:32.286Z"
   },
   {
    "duration": 117,
    "start_time": "2023-01-07T08:17:17.395Z"
   },
   {
    "duration": 121,
    "start_time": "2023-01-07T08:18:01.332Z"
   },
   {
    "duration": 110,
    "start_time": "2023-01-07T08:21:54.115Z"
   },
   {
    "duration": 23,
    "start_time": "2023-01-07T08:23:30.013Z"
   },
   {
    "duration": 21,
    "start_time": "2023-01-07T08:26:22.317Z"
   },
   {
    "duration": 26,
    "start_time": "2023-01-07T08:26:36.063Z"
   },
   {
    "duration": 8,
    "start_time": "2023-01-07T08:27:45.417Z"
   },
   {
    "duration": 11,
    "start_time": "2023-01-07T08:29:27.011Z"
   },
   {
    "duration": 11,
    "start_time": "2023-01-07T08:29:56.702Z"
   },
   {
    "duration": 10,
    "start_time": "2023-01-07T08:30:06.912Z"
   },
   {
    "duration": 7,
    "start_time": "2023-01-07T08:30:20.556Z"
   },
   {
    "duration": 49,
    "start_time": "2023-01-07T08:30:25.578Z"
   },
   {
    "duration": 12,
    "start_time": "2023-01-07T08:30:26.122Z"
   },
   {
    "duration": 53,
    "start_time": "2023-01-07T08:30:26.790Z"
   },
   {
    "duration": 120,
    "start_time": "2023-01-07T08:30:28.431Z"
   },
   {
    "duration": 20,
    "start_time": "2023-01-07T08:30:28.822Z"
   },
   {
    "duration": 7,
    "start_time": "2023-01-07T08:30:29.300Z"
   },
   {
    "duration": 12,
    "start_time": "2023-01-07T08:30:30.624Z"
   },
   {
    "duration": 45,
    "start_time": "2023-01-07T08:31:38.213Z"
   },
   {
    "duration": 10,
    "start_time": "2023-01-07T08:31:44.668Z"
   },
   {
    "duration": 5,
    "start_time": "2023-01-07T08:35:07.721Z"
   },
   {
    "duration": 23,
    "start_time": "2023-01-07T08:35:21.921Z"
   },
   {
    "duration": 5,
    "start_time": "2023-01-07T08:35:54.299Z"
   },
   {
    "duration": 7,
    "start_time": "2023-01-07T08:36:01.262Z"
   },
   {
    "duration": 12,
    "start_time": "2023-01-07T08:36:02.989Z"
   },
   {
    "duration": 51,
    "start_time": "2023-01-07T08:36:59.335Z"
   },
   {
    "duration": 51,
    "start_time": "2023-01-07T08:37:04.332Z"
   },
   {
    "duration": 5,
    "start_time": "2023-01-07T08:37:26.872Z"
   },
   {
    "duration": 5,
    "start_time": "2023-01-07T08:37:39.915Z"
   },
   {
    "duration": 14,
    "start_time": "2023-01-07T08:39:01.437Z"
   },
   {
    "duration": 10,
    "start_time": "2023-01-07T08:40:12.157Z"
   },
   {
    "duration": 11,
    "start_time": "2023-01-07T08:40:30.890Z"
   },
   {
    "duration": 44,
    "start_time": "2023-01-07T08:40:48.127Z"
   },
   {
    "duration": 15,
    "start_time": "2023-01-07T08:40:53.125Z"
   },
   {
    "duration": 7,
    "start_time": "2023-01-07T08:41:28.125Z"
   },
   {
    "duration": 11,
    "start_time": "2023-01-07T08:41:28.968Z"
   },
   {
    "duration": 6,
    "start_time": "2023-01-07T08:55:37.506Z"
   },
   {
    "duration": 13,
    "start_time": "2023-01-07T08:55:49.217Z"
   },
   {
    "duration": 11,
    "start_time": "2023-01-07T08:59:24.738Z"
   },
   {
    "duration": 4,
    "start_time": "2023-01-07T09:05:08.472Z"
   },
   {
    "duration": 46,
    "start_time": "2023-01-07T09:06:33.452Z"
   },
   {
    "duration": 45,
    "start_time": "2023-01-07T09:06:37.912Z"
   },
   {
    "duration": 4,
    "start_time": "2023-01-07T09:07:17.103Z"
   },
   {
    "duration": 5,
    "start_time": "2023-01-07T09:09:50.421Z"
   },
   {
    "duration": 1278,
    "start_time": "2023-01-07T09:09:51.083Z"
   },
   {
    "duration": 10,
    "start_time": "2023-01-07T09:09:52.363Z"
   },
   {
    "duration": 10,
    "start_time": "2023-01-07T09:09:52.887Z"
   },
   {
    "duration": 14,
    "start_time": "2023-01-07T09:09:53.641Z"
   },
   {
    "duration": 23,
    "start_time": "2023-01-07T09:09:53.851Z"
   },
   {
    "duration": 13,
    "start_time": "2023-01-07T09:09:54.498Z"
   },
   {
    "duration": 83,
    "start_time": "2023-01-07T09:09:55.072Z"
   },
   {
    "duration": 13,
    "start_time": "2023-01-07T09:09:55.947Z"
   },
   {
    "duration": 13,
    "start_time": "2023-01-07T09:09:56.489Z"
   },
   {
    "duration": 6,
    "start_time": "2023-01-07T09:09:58.041Z"
   },
   {
    "duration": 36,
    "start_time": "2023-01-07T09:09:58.610Z"
   },
   {
    "duration": 261,
    "start_time": "2023-01-07T09:09:59.146Z"
   },
   {
    "duration": 12,
    "start_time": "2023-01-07T09:09:59.624Z"
   },
   {
    "duration": 6,
    "start_time": "2023-01-07T09:10:00.922Z"
   },
   {
    "duration": 25,
    "start_time": "2023-01-07T09:10:01.522Z"
   },
   {
    "duration": 70,
    "start_time": "2023-01-07T09:10:02.226Z"
   },
   {
    "duration": 8,
    "start_time": "2023-01-07T09:10:03.710Z"
   },
   {
    "duration": 14,
    "start_time": "2023-01-07T09:10:04.224Z"
   },
   {
    "duration": 39,
    "start_time": "2023-01-07T09:10:08.371Z"
   },
   {
    "duration": 78,
    "start_time": "2023-01-07T09:10:08.660Z"
   },
   {
    "duration": 6,
    "start_time": "2023-01-07T09:10:09.472Z"
   },
   {
    "duration": 77,
    "start_time": "2023-01-07T09:10:10.294Z"
   },
   {
    "duration": 11,
    "start_time": "2023-01-07T09:10:11.510Z"
   },
   {
    "duration": 16,
    "start_time": "2023-01-07T09:10:13.280Z"
   },
   {
    "duration": 34,
    "start_time": "2023-01-07T09:10:13.981Z"
   },
   {
    "duration": 163,
    "start_time": "2023-01-07T09:10:14.698Z"
   },
   {
    "duration": 11,
    "start_time": "2023-01-07T09:10:17.328Z"
   },
   {
    "duration": 18,
    "start_time": "2023-01-07T09:10:18.006Z"
   },
   {
    "duration": 50,
    "start_time": "2023-01-07T09:10:18.751Z"
   },
   {
    "duration": 6,
    "start_time": "2023-01-07T09:10:21.391Z"
   },
   {
    "duration": 7,
    "start_time": "2023-01-07T09:10:22.819Z"
   },
   {
    "duration": 8,
    "start_time": "2023-01-07T09:10:45.200Z"
   },
   {
    "duration": 52,
    "start_time": "2023-01-07T09:10:48.930Z"
   },
   {
    "duration": 12,
    "start_time": "2023-01-07T09:10:49.488Z"
   },
   {
    "duration": 64,
    "start_time": "2023-01-07T09:10:50.024Z"
   },
   {
    "duration": 10,
    "start_time": "2023-01-07T09:12:07.394Z"
   },
   {
    "duration": 141,
    "start_time": "2023-01-07T09:13:12.776Z"
   },
   {
    "duration": 18,
    "start_time": "2023-01-07T09:13:14.395Z"
   },
   {
    "duration": 9,
    "start_time": "2023-01-07T09:13:14.947Z"
   },
   {
    "duration": 12,
    "start_time": "2023-01-07T09:13:19.869Z"
   },
   {
    "duration": 6,
    "start_time": "2023-01-07T09:17:05.938Z"
   },
   {
    "duration": 11,
    "start_time": "2023-01-07T09:17:07.111Z"
   },
   {
    "duration": 7,
    "start_time": "2023-01-07T09:17:09.427Z"
   },
   {
    "duration": 5,
    "start_time": "2023-01-07T10:12:28.114Z"
   },
   {
    "duration": 845,
    "start_time": "2023-01-07T10:15:05.198Z"
   },
   {
    "duration": 788,
    "start_time": "2023-01-07T10:16:02.649Z"
   },
   {
    "duration": 5,
    "start_time": "2023-01-07T10:16:30.875Z"
   },
   {
    "duration": 5,
    "start_time": "2023-01-07T10:18:05.037Z"
   },
   {
    "duration": 99,
    "start_time": "2023-01-07T10:18:15.762Z"
   },
   {
    "duration": 18,
    "start_time": "2023-01-07T10:18:17.535Z"
   },
   {
    "duration": 6,
    "start_time": "2023-01-07T10:18:18.802Z"
   },
   {
    "duration": 13,
    "start_time": "2023-01-07T10:18:24.131Z"
   },
   {
    "duration": 5,
    "start_time": "2023-01-07T10:18:26.247Z"
   },
   {
    "duration": 9,
    "start_time": "2023-01-07T10:18:27.990Z"
   },
   {
    "duration": 5,
    "start_time": "2023-01-07T10:18:29.642Z"
   },
   {
    "duration": 106,
    "start_time": "2023-01-07T10:18:39.980Z"
   },
   {
    "duration": 19,
    "start_time": "2023-01-07T10:18:41.282Z"
   },
   {
    "duration": 6,
    "start_time": "2023-01-07T10:18:41.852Z"
   },
   {
    "duration": 9,
    "start_time": "2023-01-07T10:18:44.205Z"
   },
   {
    "duration": 1254,
    "start_time": "2023-01-07T10:18:53.520Z"
   },
   {
    "duration": 1561,
    "start_time": "2023-01-07T10:18:54.776Z"
   },
   {
    "duration": 12,
    "start_time": "2023-01-07T10:18:56.342Z"
   },
   {
    "duration": 11,
    "start_time": "2023-01-07T10:18:56.355Z"
   },
   {
    "duration": 14,
    "start_time": "2023-01-07T10:18:56.367Z"
   },
   {
    "duration": 20,
    "start_time": "2023-01-07T10:18:56.383Z"
   },
   {
    "duration": 34,
    "start_time": "2023-01-07T10:18:56.404Z"
   },
   {
    "duration": 67,
    "start_time": "2023-01-07T10:18:56.439Z"
   },
   {
    "duration": 9,
    "start_time": "2023-01-07T10:18:56.508Z"
   },
   {
    "duration": 33,
    "start_time": "2023-01-07T10:18:56.519Z"
   },
   {
    "duration": 16,
    "start_time": "2023-01-07T10:18:56.554Z"
   },
   {
    "duration": 38,
    "start_time": "2023-01-07T10:18:56.571Z"
   },
   {
    "duration": 241,
    "start_time": "2023-01-07T10:18:56.611Z"
   },
   {
    "duration": 8,
    "start_time": "2023-01-07T10:18:56.853Z"
   },
   {
    "duration": 4,
    "start_time": "2023-01-07T10:18:56.863Z"
   },
   {
    "duration": 14,
    "start_time": "2023-01-07T10:18:56.868Z"
   },
   {
    "duration": 97,
    "start_time": "2023-01-07T10:18:56.884Z"
   },
   {
    "duration": 8,
    "start_time": "2023-01-07T10:18:56.983Z"
   },
   {
    "duration": 13,
    "start_time": "2023-01-07T10:18:56.992Z"
   },
   {
    "duration": 58,
    "start_time": "2023-01-07T10:18:57.006Z"
   },
   {
    "duration": 101,
    "start_time": "2023-01-07T10:18:57.065Z"
   },
   {
    "duration": 6,
    "start_time": "2023-01-07T10:18:57.167Z"
   },
   {
    "duration": 71,
    "start_time": "2023-01-07T10:18:57.174Z"
   },
   {
    "duration": 7,
    "start_time": "2023-01-07T10:18:57.247Z"
   },
   {
    "duration": 24,
    "start_time": "2023-01-07T10:18:57.256Z"
   },
   {
    "duration": 53,
    "start_time": "2023-01-07T10:18:57.281Z"
   },
   {
    "duration": 157,
    "start_time": "2023-01-07T10:18:57.341Z"
   },
   {
    "duration": 8,
    "start_time": "2023-01-07T10:18:57.500Z"
   },
   {
    "duration": 27,
    "start_time": "2023-01-07T10:18:57.510Z"
   },
   {
    "duration": 45,
    "start_time": "2023-01-07T10:18:57.538Z"
   },
   {
    "duration": 4,
    "start_time": "2023-01-07T10:18:57.585Z"
   },
   {
    "duration": 14,
    "start_time": "2023-01-07T10:18:57.591Z"
   },
   {
    "duration": 10,
    "start_time": "2023-01-07T10:18:57.606Z"
   },
   {
    "duration": 37,
    "start_time": "2023-01-07T10:18:57.623Z"
   },
   {
    "duration": 10,
    "start_time": "2023-01-07T10:18:57.662Z"
   },
   {
    "duration": 366,
    "start_time": "2023-01-07T10:18:57.673Z"
   },
   {
    "duration": 10,
    "start_time": "2023-01-07T10:18:58.041Z"
   },
   {
    "duration": 240,
    "start_time": "2023-01-07T10:18:58.053Z"
   },
   {
    "duration": 39,
    "start_time": "2023-01-07T10:18:58.294Z"
   },
   {
    "duration": 9,
    "start_time": "2023-01-07T10:18:58.334Z"
   },
   {
    "duration": 13,
    "start_time": "2023-01-07T10:18:58.344Z"
   },
   {
    "duration": 6,
    "start_time": "2023-01-07T10:18:58.359Z"
   },
   {
    "duration": 12,
    "start_time": "2023-01-07T10:18:58.366Z"
   },
   {
    "duration": 9,
    "start_time": "2023-01-07T10:18:58.380Z"
   },
   {
    "duration": 104,
    "start_time": "2023-01-07T10:19:14.312Z"
   },
   {
    "duration": 20,
    "start_time": "2023-01-07T10:19:14.927Z"
   },
   {
    "duration": 8,
    "start_time": "2023-01-07T10:19:15.448Z"
   },
   {
    "duration": 9,
    "start_time": "2023-01-07T10:19:17.246Z"
   },
   {
    "duration": 4,
    "start_time": "2023-01-07T10:19:18.779Z"
   },
   {
    "duration": 12,
    "start_time": "2023-01-07T10:20:02.332Z"
   },
   {
    "duration": 5,
    "start_time": "2023-01-07T10:20:03.170Z"
   },
   {
    "duration": 5,
    "start_time": "2023-01-07T10:22:50.574Z"
   },
   {
    "duration": 5,
    "start_time": "2023-01-07T10:22:53.299Z"
   },
   {
    "duration": 15,
    "start_time": "2023-01-07T10:22:58.868Z"
   },
   {
    "duration": 6,
    "start_time": "2023-01-07T10:22:59.361Z"
   },
   {
    "duration": 9,
    "start_time": "2023-01-07T10:23:00.749Z"
   },
   {
    "duration": 5,
    "start_time": "2023-01-07T10:23:02.336Z"
   },
   {
    "duration": 119,
    "start_time": "2023-01-07T10:23:09.087Z"
   },
   {
    "duration": 24,
    "start_time": "2023-01-07T10:23:12.779Z"
   },
   {
    "duration": 6,
    "start_time": "2023-01-07T10:23:13.504Z"
   },
   {
    "duration": 12,
    "start_time": "2023-01-07T10:23:15.093Z"
   },
   {
    "duration": 6,
    "start_time": "2023-01-07T10:23:17.335Z"
   },
   {
    "duration": 15,
    "start_time": "2023-01-07T10:23:23.206Z"
   },
   {
    "duration": 6,
    "start_time": "2023-01-07T10:23:26.669Z"
   },
   {
    "duration": 11,
    "start_time": "2023-01-07T10:23:29.233Z"
   },
   {
    "duration": 5,
    "start_time": "2023-01-07T10:23:31.355Z"
   },
   {
    "duration": 9,
    "start_time": "2023-01-07T10:23:33.090Z"
   },
   {
    "duration": 9,
    "start_time": "2023-01-07T11:21:35.142Z"
   },
   {
    "duration": 10,
    "start_time": "2023-01-07T11:21:43.046Z"
   },
   {
    "duration": 5,
    "start_time": "2023-01-07T11:21:43.589Z"
   },
   {
    "duration": 9,
    "start_time": "2023-01-07T11:21:43.771Z"
   },
   {
    "duration": 5,
    "start_time": "2023-01-07T11:21:44.333Z"
   },
   {
    "duration": 169,
    "start_time": "2023-01-07T11:57:33.277Z"
   },
   {
    "duration": 22,
    "start_time": "2023-01-07T11:58:51.076Z"
   },
   {
    "duration": 17,
    "start_time": "2023-01-07T11:59:07.209Z"
   },
   {
    "duration": 14,
    "start_time": "2023-01-07T11:59:54.067Z"
   },
   {
    "duration": 15,
    "start_time": "2023-01-07T12:01:53.930Z"
   },
   {
    "duration": 3,
    "start_time": "2023-01-07T12:02:44.520Z"
   },
   {
    "duration": 1305,
    "start_time": "2023-01-07T12:02:44.948Z"
   },
   {
    "duration": 9,
    "start_time": "2023-01-07T12:02:46.255Z"
   },
   {
    "duration": 13,
    "start_time": "2023-01-07T12:02:46.266Z"
   },
   {
    "duration": 14,
    "start_time": "2023-01-07T12:02:46.827Z"
   },
   {
    "duration": 21,
    "start_time": "2023-01-07T12:02:47.037Z"
   },
   {
    "duration": 14,
    "start_time": "2023-01-07T12:02:47.422Z"
   },
   {
    "duration": 80,
    "start_time": "2023-01-07T12:02:47.818Z"
   },
   {
    "duration": 9,
    "start_time": "2023-01-07T12:02:48.169Z"
   },
   {
    "duration": 12,
    "start_time": "2023-01-07T12:02:48.376Z"
   },
   {
    "duration": 6,
    "start_time": "2023-01-07T12:02:49.141Z"
   },
   {
    "duration": 35,
    "start_time": "2023-01-07T12:02:49.331Z"
   },
   {
    "duration": 245,
    "start_time": "2023-01-07T12:02:49.537Z"
   },
   {
    "duration": 9,
    "start_time": "2023-01-07T12:02:49.784Z"
   },
   {
    "duration": 5,
    "start_time": "2023-01-07T12:02:50.326Z"
   },
   {
    "duration": 14,
    "start_time": "2023-01-07T12:02:50.520Z"
   },
   {
    "duration": 65,
    "start_time": "2023-01-07T12:02:50.726Z"
   },
   {
    "duration": 10,
    "start_time": "2023-01-07T12:02:51.124Z"
   },
   {
    "duration": 10,
    "start_time": "2023-01-07T12:02:51.322Z"
   },
   {
    "duration": 51,
    "start_time": "2023-01-07T12:02:51.518Z"
   },
   {
    "duration": 94,
    "start_time": "2023-01-07T12:02:51.714Z"
   },
   {
    "duration": 5,
    "start_time": "2023-01-07T12:02:51.910Z"
   },
   {
    "duration": 91,
    "start_time": "2023-01-07T12:02:52.122Z"
   },
   {
    "duration": 8,
    "start_time": "2023-01-07T12:02:52.518Z"
   },
   {
    "duration": 19,
    "start_time": "2023-01-07T12:02:53.162Z"
   },
   {
    "duration": 29,
    "start_time": "2023-01-07T12:02:53.370Z"
   },
   {
    "duration": 146,
    "start_time": "2023-01-07T12:02:53.602Z"
   },
   {
    "duration": 9,
    "start_time": "2023-01-07T12:02:54.961Z"
   },
   {
    "duration": 17,
    "start_time": "2023-01-07T12:02:55.151Z"
   },
   {
    "duration": 52,
    "start_time": "2023-01-07T12:02:55.353Z"
   },
   {
    "duration": 7,
    "start_time": "2023-01-07T12:02:55.549Z"
   },
   {
    "duration": 7,
    "start_time": "2023-01-07T12:02:55.941Z"
   },
   {
    "duration": 9,
    "start_time": "2023-01-07T12:02:56.554Z"
   },
   {
    "duration": 32,
    "start_time": "2023-01-07T12:02:57.171Z"
   },
   {
    "duration": 13,
    "start_time": "2023-01-07T12:02:57.368Z"
   },
   {
    "duration": 64,
    "start_time": "2023-01-07T12:02:57.623Z"
   },
   {
    "duration": 10,
    "start_time": "2023-01-07T12:02:58.514Z"
   },
   {
    "duration": 120,
    "start_time": "2023-01-07T12:02:59.179Z"
   },
   {
    "duration": 26,
    "start_time": "2023-01-07T12:02:59.412Z"
   },
   {
    "duration": 7,
    "start_time": "2023-01-07T12:02:59.638Z"
   },
   {
    "duration": 10,
    "start_time": "2023-01-07T12:03:00.414Z"
   },
   {
    "duration": 5,
    "start_time": "2023-01-07T12:03:01.124Z"
   },
   {
    "duration": 13,
    "start_time": "2023-01-07T12:03:01.440Z"
   },
   {
    "duration": 5,
    "start_time": "2023-01-07T12:03:02.106Z"
   },
   {
    "duration": 16,
    "start_time": "2023-01-07T12:03:04.130Z"
   },
   {
    "duration": 16,
    "start_time": "2023-01-07T12:04:03.628Z"
   },
   {
    "duration": 17,
    "start_time": "2023-01-07T12:04:57.121Z"
   },
   {
    "duration": 14,
    "start_time": "2023-01-07T12:05:54.305Z"
   },
   {
    "duration": 21,
    "start_time": "2023-01-07T12:06:43.522Z"
   },
   {
    "duration": 19,
    "start_time": "2023-01-07T12:07:24.265Z"
   },
   {
    "duration": 19,
    "start_time": "2023-01-07T12:07:41.410Z"
   },
   {
    "duration": 165,
    "start_time": "2023-01-07T12:08:09.124Z"
   },
   {
    "duration": 224,
    "start_time": "2023-01-07T12:08:21.156Z"
   },
   {
    "duration": 23,
    "start_time": "2023-01-07T12:08:24.122Z"
   },
   {
    "duration": 153,
    "start_time": "2023-01-07T12:08:24.550Z"
   },
   {
    "duration": 4,
    "start_time": "2023-01-07T12:08:54.567Z"
   },
   {
    "duration": 1014,
    "start_time": "2023-01-07T12:08:54.956Z"
   },
   {
    "duration": 8,
    "start_time": "2023-01-07T12:08:55.972Z"
   },
   {
    "duration": 13,
    "start_time": "2023-01-07T12:08:56.430Z"
   },
   {
    "duration": 10,
    "start_time": "2023-01-07T12:08:56.868Z"
   },
   {
    "duration": 18,
    "start_time": "2023-01-07T12:08:57.066Z"
   },
   {
    "duration": 13,
    "start_time": "2023-01-07T12:08:57.443Z"
   },
   {
    "duration": 67,
    "start_time": "2023-01-07T12:08:57.824Z"
   },
   {
    "duration": 13,
    "start_time": "2023-01-07T12:08:58.226Z"
   },
   {
    "duration": 12,
    "start_time": "2023-01-07T12:08:58.414Z"
   },
   {
    "duration": 5,
    "start_time": "2023-01-07T12:08:59.218Z"
   },
   {
    "duration": 36,
    "start_time": "2023-01-07T12:08:59.430Z"
   },
   {
    "duration": 250,
    "start_time": "2023-01-07T12:08:59.632Z"
   },
   {
    "duration": 9,
    "start_time": "2023-01-07T12:08:59.884Z"
   },
   {
    "duration": 5,
    "start_time": "2023-01-07T12:09:00.472Z"
   },
   {
    "duration": 13,
    "start_time": "2023-01-07T12:09:00.680Z"
   },
   {
    "duration": 67,
    "start_time": "2023-01-07T12:09:00.918Z"
   },
   {
    "duration": 9,
    "start_time": "2023-01-07T12:09:01.310Z"
   },
   {
    "duration": 10,
    "start_time": "2023-01-07T12:09:01.520Z"
   },
   {
    "duration": 156,
    "start_time": "2023-01-07T12:09:01.719Z"
   },
   {
    "duration": 84,
    "start_time": "2023-01-07T12:09:01.924Z"
   },
   {
    "duration": 7,
    "start_time": "2023-01-07T12:09:02.128Z"
   },
   {
    "duration": 63,
    "start_time": "2023-01-07T12:09:02.342Z"
   },
   {
    "duration": 8,
    "start_time": "2023-01-07T12:09:02.755Z"
   },
   {
    "duration": 22,
    "start_time": "2023-01-07T12:09:03.348Z"
   },
   {
    "duration": 35,
    "start_time": "2023-01-07T12:09:03.556Z"
   },
   {
    "duration": 149,
    "start_time": "2023-01-07T12:09:03.762Z"
   },
   {
    "duration": 10,
    "start_time": "2023-01-07T12:09:05.030Z"
   },
   {
    "duration": 19,
    "start_time": "2023-01-07T12:09:05.252Z"
   },
   {
    "duration": 55,
    "start_time": "2023-01-07T12:09:05.448Z"
   },
   {
    "duration": 6,
    "start_time": "2023-01-07T12:09:05.658Z"
   },
   {
    "duration": 7,
    "start_time": "2023-01-07T12:09:06.065Z"
   },
   {
    "duration": 6,
    "start_time": "2023-01-07T12:09:06.710Z"
   },
   {
    "duration": 43,
    "start_time": "2023-01-07T12:09:07.330Z"
   },
   {
    "duration": 13,
    "start_time": "2023-01-07T12:09:07.554Z"
   },
   {
    "duration": 52,
    "start_time": "2023-01-07T12:09:07.771Z"
   },
   {
    "duration": 10,
    "start_time": "2023-01-07T12:09:08.906Z"
   },
   {
    "duration": 145,
    "start_time": "2023-01-07T12:09:09.723Z"
   },
   {
    "duration": 19,
    "start_time": "2023-01-07T12:09:09.966Z"
   },
   {
    "duration": 7,
    "start_time": "2023-01-07T12:09:10.224Z"
   },
   {
    "duration": 13,
    "start_time": "2023-01-07T12:09:11.039Z"
   },
   {
    "duration": 5,
    "start_time": "2023-01-07T12:09:11.801Z"
   },
   {
    "duration": 12,
    "start_time": "2023-01-07T12:09:12.249Z"
   },
   {
    "duration": 7,
    "start_time": "2023-01-07T12:09:12.945Z"
   },
   {
    "duration": 25,
    "start_time": "2023-01-07T12:09:14.310Z"
   },
   {
    "duration": 144,
    "start_time": "2023-01-07T12:09:14.873Z"
   },
   {
    "duration": 1063,
    "start_time": "2023-01-07T12:10:08.680Z"
   },
   {
    "duration": 1044,
    "start_time": "2023-01-07T12:10:29.310Z"
   },
   {
    "duration": 29,
    "start_time": "2023-01-07T12:10:35.310Z"
   },
   {
    "duration": 953,
    "start_time": "2023-01-07T12:10:35.773Z"
   },
   {
    "duration": 146,
    "start_time": "2023-01-07T12:11:16.232Z"
   },
   {
    "duration": 784,
    "start_time": "2023-01-07T12:11:23.612Z"
   },
   {
    "duration": 48,
    "start_time": "2023-01-07T12:11:45.220Z"
   },
   {
    "duration": 16,
    "start_time": "2023-01-07T12:11:53.621Z"
   },
   {
    "duration": 696,
    "start_time": "2023-01-07T12:11:58.441Z"
   },
   {
    "duration": 11,
    "start_time": "2023-01-07T12:13:01.357Z"
   },
   {
    "duration": 1414,
    "start_time": "2023-01-07T12:13:02.507Z"
   },
   {
    "duration": 730,
    "start_time": "2023-01-07T12:13:08.335Z"
   },
   {
    "duration": 29,
    "start_time": "2023-01-07T12:13:12.933Z"
   },
   {
    "duration": 858,
    "start_time": "2023-01-07T12:13:13.448Z"
   },
   {
    "duration": 701,
    "start_time": "2023-01-07T12:13:27.606Z"
   },
   {
    "duration": 835,
    "start_time": "2023-01-07T12:13:33.948Z"
   },
   {
    "duration": 1191,
    "start_time": "2023-01-07T12:14:31.957Z"
   },
   {
    "duration": 1116,
    "start_time": "2023-01-07T12:14:33.151Z"
   },
   {
    "duration": 14,
    "start_time": "2023-01-07T12:14:34.269Z"
   },
   {
    "duration": 17,
    "start_time": "2023-01-07T12:14:34.286Z"
   },
   {
    "duration": 17,
    "start_time": "2023-01-07T12:14:34.305Z"
   },
   {
    "duration": 26,
    "start_time": "2023-01-07T12:14:34.324Z"
   },
   {
    "duration": 17,
    "start_time": "2023-01-07T12:14:34.352Z"
   },
   {
    "duration": 66,
    "start_time": "2023-01-07T12:14:34.371Z"
   },
   {
    "duration": 10,
    "start_time": "2023-01-07T12:14:34.439Z"
   },
   {
    "duration": 16,
    "start_time": "2023-01-07T12:14:34.452Z"
   },
   {
    "duration": 5,
    "start_time": "2023-01-07T12:14:34.470Z"
   },
   {
    "duration": 50,
    "start_time": "2023-01-07T12:14:34.477Z"
   },
   {
    "duration": 285,
    "start_time": "2023-01-07T12:14:34.528Z"
   },
   {
    "duration": 14,
    "start_time": "2023-01-07T12:14:34.815Z"
   },
   {
    "duration": 16,
    "start_time": "2023-01-07T12:14:34.830Z"
   },
   {
    "duration": 26,
    "start_time": "2023-01-07T12:14:34.848Z"
   },
   {
    "duration": 70,
    "start_time": "2023-01-07T12:14:34.875Z"
   },
   {
    "duration": 10,
    "start_time": "2023-01-07T12:14:34.947Z"
   },
   {
    "duration": 13,
    "start_time": "2023-01-07T12:14:34.959Z"
   },
   {
    "duration": 51,
    "start_time": "2023-01-07T12:14:34.973Z"
   },
   {
    "duration": 99,
    "start_time": "2023-01-07T12:14:35.026Z"
   },
   {
    "duration": 7,
    "start_time": "2023-01-07T12:14:35.127Z"
   },
   {
    "duration": 64,
    "start_time": "2023-01-07T12:14:35.136Z"
   },
   {
    "duration": 23,
    "start_time": "2023-01-07T12:14:35.202Z"
   },
   {
    "duration": 31,
    "start_time": "2023-01-07T12:14:35.227Z"
   },
   {
    "duration": 76,
    "start_time": "2023-01-07T12:14:35.260Z"
   },
   {
    "duration": 209,
    "start_time": "2023-01-07T12:14:35.339Z"
   },
   {
    "duration": 9,
    "start_time": "2023-01-07T12:14:35.553Z"
   },
   {
    "duration": 26,
    "start_time": "2023-01-07T12:14:35.564Z"
   },
   {
    "duration": 53,
    "start_time": "2023-01-07T12:14:35.591Z"
   },
   {
    "duration": 5,
    "start_time": "2023-01-07T12:14:35.647Z"
   },
   {
    "duration": 15,
    "start_time": "2023-01-07T12:14:35.653Z"
   },
   {
    "duration": 6,
    "start_time": "2023-01-07T12:14:35.670Z"
   },
   {
    "duration": 45,
    "start_time": "2023-01-07T12:14:35.677Z"
   },
   {
    "duration": 11,
    "start_time": "2023-01-07T12:14:35.725Z"
   },
   {
    "duration": 395,
    "start_time": "2023-01-07T12:14:35.738Z"
   },
   {
    "duration": 11,
    "start_time": "2023-01-07T12:14:36.135Z"
   },
   {
    "duration": 240,
    "start_time": "2023-01-07T12:14:36.147Z"
   },
   {
    "duration": 16,
    "start_time": "2023-01-07T12:14:36.389Z"
   },
   {
    "duration": 16,
    "start_time": "2023-01-07T12:14:36.407Z"
   },
   {
    "duration": 11,
    "start_time": "2023-01-07T12:14:36.425Z"
   },
   {
    "duration": 9,
    "start_time": "2023-01-07T12:14:36.438Z"
   },
   {
    "duration": 18,
    "start_time": "2023-01-07T12:14:36.448Z"
   },
   {
    "duration": 10,
    "start_time": "2023-01-07T12:14:36.468Z"
   },
   {
    "duration": 46,
    "start_time": "2023-01-07T12:14:36.480Z"
   },
   {
    "duration": 880,
    "start_time": "2023-01-07T12:14:36.528Z"
   },
   {
    "duration": 24,
    "start_time": "2023-01-07T12:15:12.124Z"
   },
   {
    "duration": 155,
    "start_time": "2023-01-07T12:16:38.864Z"
   },
   {
    "duration": 29,
    "start_time": "2023-01-07T12:16:58.619Z"
   },
   {
    "duration": 246,
    "start_time": "2023-01-07T12:17:02.016Z"
   },
   {
    "duration": 17,
    "start_time": "2023-01-07T12:25:06.001Z"
   },
   {
    "duration": 15,
    "start_time": "2023-01-07T12:25:16.339Z"
   },
   {
    "duration": 4,
    "start_time": "2023-01-07T12:25:34.105Z"
   },
   {
    "duration": 1503,
    "start_time": "2023-01-07T12:25:34.368Z"
   },
   {
    "duration": 9,
    "start_time": "2023-01-07T12:25:36.342Z"
   },
   {
    "duration": 10,
    "start_time": "2023-01-07T12:25:36.647Z"
   },
   {
    "duration": 12,
    "start_time": "2023-01-07T12:25:37.222Z"
   },
   {
    "duration": 23,
    "start_time": "2023-01-07T12:25:37.434Z"
   },
   {
    "duration": 13,
    "start_time": "2023-01-07T12:25:37.900Z"
   },
   {
    "duration": 68,
    "start_time": "2023-01-07T12:25:38.303Z"
   },
   {
    "duration": 11,
    "start_time": "2023-01-07T12:25:38.733Z"
   },
   {
    "duration": 16,
    "start_time": "2023-01-07T12:25:38.943Z"
   },
   {
    "duration": 5,
    "start_time": "2023-01-07T12:25:39.776Z"
   },
   {
    "duration": 28,
    "start_time": "2023-01-07T12:25:39.971Z"
   },
   {
    "duration": 247,
    "start_time": "2023-01-07T12:25:40.157Z"
   },
   {
    "duration": 19,
    "start_time": "2023-01-07T12:25:40.406Z"
   },
   {
    "duration": 5,
    "start_time": "2023-01-07T12:25:40.891Z"
   },
   {
    "duration": 13,
    "start_time": "2023-01-07T12:25:41.070Z"
   },
   {
    "duration": 57,
    "start_time": "2023-01-07T12:25:41.281Z"
   },
   {
    "duration": 7,
    "start_time": "2023-01-07T12:25:41.683Z"
   },
   {
    "duration": 8,
    "start_time": "2023-01-07T12:25:41.899Z"
   },
   {
    "duration": 37,
    "start_time": "2023-01-07T12:25:42.080Z"
   },
   {
    "duration": 81,
    "start_time": "2023-01-07T12:25:42.297Z"
   },
   {
    "duration": 6,
    "start_time": "2023-01-07T12:25:42.502Z"
   },
   {
    "duration": 63,
    "start_time": "2023-01-07T12:25:42.700Z"
   },
   {
    "duration": 9,
    "start_time": "2023-01-07T12:25:43.120Z"
   },
   {
    "duration": 19,
    "start_time": "2023-01-07T12:25:43.763Z"
   },
   {
    "duration": 35,
    "start_time": "2023-01-07T12:25:43.980Z"
   },
   {
    "duration": 148,
    "start_time": "2023-01-07T12:25:44.363Z"
   },
   {
    "duration": 8,
    "start_time": "2023-01-07T12:25:46.370Z"
   },
   {
    "duration": 15,
    "start_time": "2023-01-07T12:25:46.619Z"
   },
   {
    "duration": 52,
    "start_time": "2023-01-07T12:25:46.944Z"
   },
   {
    "duration": 7,
    "start_time": "2023-01-07T12:25:47.176Z"
   },
   {
    "duration": 7,
    "start_time": "2023-01-07T12:25:48.500Z"
   },
   {
    "duration": 6,
    "start_time": "2023-01-07T12:25:49.781Z"
   },
   {
    "duration": 45,
    "start_time": "2023-01-07T12:25:51.712Z"
   },
   {
    "duration": 13,
    "start_time": "2023-01-07T12:25:52.026Z"
   },
   {
    "duration": 63,
    "start_time": "2023-01-07T12:25:52.723Z"
   },
   {
    "duration": 11,
    "start_time": "2023-01-07T12:25:54.252Z"
   },
   {
    "duration": 166,
    "start_time": "2023-01-07T12:25:55.562Z"
   },
   {
    "duration": 21,
    "start_time": "2023-01-07T12:25:56.108Z"
   },
   {
    "duration": 7,
    "start_time": "2023-01-07T12:25:56.764Z"
   },
   {
    "duration": 13,
    "start_time": "2023-01-07T12:25:58.457Z"
   },
   {
    "duration": 5,
    "start_time": "2023-01-07T12:25:59.950Z"
   },
   {
    "duration": 11,
    "start_time": "2023-01-07T12:26:00.453Z"
   },
   {
    "duration": 6,
    "start_time": "2023-01-07T12:26:01.653Z"
   },
   {
    "duration": 25,
    "start_time": "2023-01-07T12:26:08.780Z"
   },
   {
    "duration": 284,
    "start_time": "2023-01-07T12:26:11.812Z"
   },
   {
    "duration": 12,
    "start_time": "2023-01-07T12:27:46.005Z"
   },
   {
    "duration": 7,
    "start_time": "2023-01-07T12:27:54.801Z"
   },
   {
    "duration": 13,
    "start_time": "2023-01-07T12:27:55.229Z"
   },
   {
    "duration": 4,
    "start_time": "2023-01-07T12:27:57.202Z"
   },
   {
    "duration": 15,
    "start_time": "2023-01-07T12:27:59.236Z"
   },
   {
    "duration": 4,
    "start_time": "2023-01-07T12:28:04.922Z"
   },
   {
    "duration": 1075,
    "start_time": "2023-01-07T12:28:05.101Z"
   },
   {
    "duration": 9,
    "start_time": "2023-01-07T12:28:06.178Z"
   },
   {
    "duration": 13,
    "start_time": "2023-01-07T12:28:06.188Z"
   },
   {
    "duration": 10,
    "start_time": "2023-01-07T12:28:06.397Z"
   },
   {
    "duration": 19,
    "start_time": "2023-01-07T12:28:06.956Z"
   },
   {
    "duration": 12,
    "start_time": "2023-01-07T12:28:07.403Z"
   },
   {
    "duration": 66,
    "start_time": "2023-01-07T12:28:07.943Z"
   },
   {
    "duration": 9,
    "start_time": "2023-01-07T12:28:08.473Z"
   },
   {
    "duration": 16,
    "start_time": "2023-01-07T12:28:08.568Z"
   },
   {
    "duration": 6,
    "start_time": "2023-01-07T12:28:09.363Z"
   },
   {
    "duration": 31,
    "start_time": "2023-01-07T12:28:09.561Z"
   },
   {
    "duration": 230,
    "start_time": "2023-01-07T12:28:09.772Z"
   },
   {
    "duration": 17,
    "start_time": "2023-01-07T12:28:10.004Z"
   },
   {
    "duration": 6,
    "start_time": "2023-01-07T12:28:10.600Z"
   },
   {
    "duration": 13,
    "start_time": "2023-01-07T12:28:10.796Z"
   },
   {
    "duration": 60,
    "start_time": "2023-01-07T12:28:11.004Z"
   },
   {
    "duration": 9,
    "start_time": "2023-01-07T12:28:11.419Z"
   },
   {
    "duration": 10,
    "start_time": "2023-01-07T12:28:11.644Z"
   },
   {
    "duration": 40,
    "start_time": "2023-01-07T12:28:11.842Z"
   },
   {
    "duration": 75,
    "start_time": "2023-01-07T12:28:12.057Z"
   },
   {
    "duration": 7,
    "start_time": "2023-01-07T12:28:12.268Z"
   },
   {
    "duration": 65,
    "start_time": "2023-01-07T12:28:12.503Z"
   },
   {
    "duration": 8,
    "start_time": "2023-01-07T12:28:12.915Z"
   },
   {
    "duration": 19,
    "start_time": "2023-01-07T12:28:13.633Z"
   },
   {
    "duration": 34,
    "start_time": "2023-01-07T12:28:13.853Z"
   },
   {
    "duration": 146,
    "start_time": "2023-01-07T12:28:14.207Z"
   },
   {
    "duration": 8,
    "start_time": "2023-01-07T12:28:15.810Z"
   },
   {
    "duration": 16,
    "start_time": "2023-01-07T12:28:16.035Z"
   },
   {
    "duration": 41,
    "start_time": "2023-01-07T12:28:16.267Z"
   },
   {
    "duration": 6,
    "start_time": "2023-01-07T12:28:16.675Z"
   },
   {
    "duration": 6,
    "start_time": "2023-01-07T12:28:17.222Z"
   },
   {
    "duration": 7,
    "start_time": "2023-01-07T12:28:18.123Z"
   },
   {
    "duration": 46,
    "start_time": "2023-01-07T12:28:18.843Z"
   },
   {
    "duration": 12,
    "start_time": "2023-01-07T12:28:19.187Z"
   },
   {
    "duration": 65,
    "start_time": "2023-01-07T12:28:19.455Z"
   },
   {
    "duration": 10,
    "start_time": "2023-01-07T12:28:20.378Z"
   },
   {
    "duration": 131,
    "start_time": "2023-01-07T12:28:21.000Z"
   },
   {
    "duration": 18,
    "start_time": "2023-01-07T12:28:21.204Z"
   },
   {
    "duration": 9,
    "start_time": "2023-01-07T12:28:21.526Z"
   },
   {
    "duration": 13,
    "start_time": "2023-01-07T12:28:22.258Z"
   },
   {
    "duration": 5,
    "start_time": "2023-01-07T12:28:23.403Z"
   },
   {
    "duration": 10,
    "start_time": "2023-01-07T12:28:23.669Z"
   },
   {
    "duration": 5,
    "start_time": "2023-01-07T12:28:24.635Z"
   },
   {
    "duration": 24,
    "start_time": "2023-01-07T12:28:26.982Z"
   },
   {
    "duration": 241,
    "start_time": "2023-01-07T12:28:28.630Z"
   },
   {
    "duration": 148,
    "start_time": "2023-01-07T12:30:34.304Z"
   },
   {
    "duration": 14,
    "start_time": "2023-01-07T12:30:42.459Z"
   },
   {
    "duration": 131,
    "start_time": "2023-01-07T12:30:43.176Z"
   },
   {
    "duration": 13,
    "start_time": "2023-01-07T12:31:22.070Z"
   },
   {
    "duration": 9,
    "start_time": "2023-01-07T12:31:32.685Z"
   },
   {
    "duration": 7,
    "start_time": "2023-01-07T12:31:33.629Z"
   },
   {
    "duration": 17,
    "start_time": "2023-01-07T12:31:35.096Z"
   },
   {
    "duration": 17,
    "start_time": "2023-01-07T12:31:42.995Z"
   },
   {
    "duration": 117,
    "start_time": "2023-01-07T12:31:50.372Z"
   },
   {
    "duration": 20,
    "start_time": "2023-01-07T12:31:51.154Z"
   },
   {
    "duration": 7,
    "start_time": "2023-01-07T12:31:52.176Z"
   },
   {
    "duration": 11,
    "start_time": "2023-01-07T12:31:58.039Z"
   },
   {
    "duration": 5,
    "start_time": "2023-01-07T12:31:58.797Z"
   },
   {
    "duration": 9,
    "start_time": "2023-01-07T12:31:59.006Z"
   },
   {
    "duration": 4,
    "start_time": "2023-01-07T12:31:59.672Z"
   },
   {
    "duration": 26,
    "start_time": "2023-01-07T12:32:01.797Z"
   },
   {
    "duration": 242,
    "start_time": "2023-01-07T12:32:02.598Z"
   },
   {
    "duration": 211,
    "start_time": "2023-01-07T14:33:09.313Z"
   },
   {
    "duration": 204,
    "start_time": "2023-01-07T14:33:13.893Z"
   },
   {
    "duration": 291,
    "start_time": "2023-01-07T14:33:22.515Z"
   },
   {
    "duration": 53,
    "start_time": "2023-01-07T14:33:47.371Z"
   },
   {
    "duration": 197,
    "start_time": "2023-01-07T14:33:53.513Z"
   },
   {
    "duration": 235,
    "start_time": "2023-01-07T14:34:18.555Z"
   },
   {
    "duration": 213,
    "start_time": "2023-01-07T14:34:41.580Z"
   },
   {
    "duration": 208,
    "start_time": "2023-01-07T14:41:46.283Z"
   },
   {
    "duration": 13,
    "start_time": "2023-01-07T14:43:13.741Z"
   },
   {
    "duration": 208,
    "start_time": "2023-01-07T14:43:20.040Z"
   },
   {
    "duration": 12,
    "start_time": "2023-01-07T14:43:28.755Z"
   },
   {
    "duration": 15,
    "start_time": "2023-01-07T14:43:36.434Z"
   },
   {
    "duration": 106,
    "start_time": "2023-01-07T14:43:40.035Z"
   },
   {
    "duration": 19,
    "start_time": "2023-01-07T14:43:40.806Z"
   },
   {
    "duration": 7,
    "start_time": "2023-01-07T14:43:41.523Z"
   },
   {
    "duration": 12,
    "start_time": "2023-01-07T14:43:42.829Z"
   },
   {
    "duration": 6,
    "start_time": "2023-01-07T14:43:44.527Z"
   },
   {
    "duration": 12,
    "start_time": "2023-01-07T14:43:44.980Z"
   },
   {
    "duration": 5,
    "start_time": "2023-01-07T14:43:46.257Z"
   },
   {
    "duration": 23,
    "start_time": "2023-01-07T14:43:50.782Z"
   },
   {
    "duration": 213,
    "start_time": "2023-01-07T14:43:51.623Z"
   },
   {
    "duration": 14,
    "start_time": "2023-01-07T14:44:09.427Z"
   },
   {
    "duration": 11,
    "start_time": "2023-01-07T14:44:26.257Z"
   },
   {
    "duration": 12,
    "start_time": "2023-01-07T14:44:30.968Z"
   },
   {
    "duration": 215,
    "start_time": "2023-01-07T14:44:31.923Z"
   },
   {
    "duration": 13,
    "start_time": "2023-01-07T14:44:38.260Z"
   },
   {
    "duration": 204,
    "start_time": "2023-01-07T14:44:39.426Z"
   },
   {
    "duration": 33,
    "start_time": "2023-01-07T14:45:01.032Z"
   },
   {
    "duration": 14,
    "start_time": "2023-01-07T14:45:01.515Z"
   },
   {
    "duration": 59,
    "start_time": "2023-01-07T14:45:02.000Z"
   },
   {
    "duration": 11,
    "start_time": "2023-01-07T14:45:02.972Z"
   },
   {
    "duration": 109,
    "start_time": "2023-01-07T14:45:05.809Z"
   },
   {
    "duration": 23,
    "start_time": "2023-01-07T14:45:06.572Z"
   },
   {
    "duration": 7,
    "start_time": "2023-01-07T14:45:07.268Z"
   },
   {
    "duration": 10,
    "start_time": "2023-01-07T14:45:08.476Z"
   },
   {
    "duration": 5,
    "start_time": "2023-01-07T14:45:09.682Z"
   },
   {
    "duration": 9,
    "start_time": "2023-01-07T14:45:10.204Z"
   },
   {
    "duration": 4,
    "start_time": "2023-01-07T14:45:12.025Z"
   },
   {
    "duration": 24,
    "start_time": "2023-01-07T14:45:34.884Z"
   },
   {
    "duration": 218,
    "start_time": "2023-01-07T14:45:35.417Z"
   },
   {
    "duration": 22,
    "start_time": "2023-01-07T14:46:48.996Z"
   },
   {
    "duration": 34,
    "start_time": "2023-01-07T14:47:00.810Z"
   },
   {
    "duration": 13,
    "start_time": "2023-01-07T14:47:36.899Z"
   },
   {
    "duration": 34,
    "start_time": "2023-01-07T14:47:40.640Z"
   },
   {
    "duration": 16,
    "start_time": "2023-01-07T14:47:42.930Z"
   },
   {
    "duration": 124,
    "start_time": "2023-01-07T14:47:52.501Z"
   },
   {
    "duration": 17,
    "start_time": "2023-01-07T14:47:53.300Z"
   },
   {
    "duration": 7,
    "start_time": "2023-01-07T14:47:53.489Z"
   },
   {
    "duration": 10,
    "start_time": "2023-01-07T14:47:54.072Z"
   },
   {
    "duration": 5,
    "start_time": "2023-01-07T14:47:54.670Z"
   },
   {
    "duration": 9,
    "start_time": "2023-01-07T14:47:54.878Z"
   },
   {
    "duration": 4,
    "start_time": "2023-01-07T14:47:55.527Z"
   },
   {
    "duration": 31,
    "start_time": "2023-01-07T14:47:56.660Z"
   },
   {
    "duration": 21,
    "start_time": "2023-01-07T14:47:59.021Z"
   },
   {
    "duration": 230,
    "start_time": "2023-01-07T14:48:02.457Z"
   },
   {
    "duration": 14,
    "start_time": "2023-01-07T14:48:18.932Z"
   },
   {
    "duration": 105,
    "start_time": "2023-01-07T14:48:25.969Z"
   },
   {
    "duration": 18,
    "start_time": "2023-01-07T14:48:26.440Z"
   },
   {
    "duration": 7,
    "start_time": "2023-01-07T14:48:26.829Z"
   },
   {
    "duration": 9,
    "start_time": "2023-01-07T14:48:27.616Z"
   },
   {
    "duration": 5,
    "start_time": "2023-01-07T14:48:28.725Z"
   },
   {
    "duration": 9,
    "start_time": "2023-01-07T14:48:29.234Z"
   },
   {
    "duration": 5,
    "start_time": "2023-01-07T14:48:30.391Z"
   },
   {
    "duration": 35,
    "start_time": "2023-01-07T14:48:32.824Z"
   },
   {
    "duration": 32,
    "start_time": "2023-01-07T14:48:38.944Z"
   },
   {
    "duration": 12,
    "start_time": "2023-01-07T14:48:54.522Z"
   },
   {
    "duration": 113,
    "start_time": "2023-01-07T14:49:00.883Z"
   },
   {
    "duration": 24,
    "start_time": "2023-01-07T14:49:01.106Z"
   },
   {
    "duration": 7,
    "start_time": "2023-01-07T14:49:01.302Z"
   },
   {
    "duration": 10,
    "start_time": "2023-01-07T14:49:01.898Z"
   },
   {
    "duration": 6,
    "start_time": "2023-01-07T14:49:02.490Z"
   },
   {
    "duration": 11,
    "start_time": "2023-01-07T14:49:02.698Z"
   },
   {
    "duration": 4,
    "start_time": "2023-01-07T14:49:03.313Z"
   },
   {
    "duration": 33,
    "start_time": "2023-01-07T14:49:04.752Z"
   },
   {
    "duration": 29,
    "start_time": "2023-01-07T14:49:07.674Z"
   },
   {
    "duration": 205,
    "start_time": "2023-01-07T14:49:08.893Z"
   },
   {
    "duration": 66,
    "start_time": "2023-01-07T14:51:05.098Z"
   },
   {
    "duration": 50,
    "start_time": "2023-01-07T14:51:18.860Z"
   },
   {
    "duration": 49,
    "start_time": "2023-01-07T14:51:51.817Z"
   },
   {
    "duration": 13,
    "start_time": "2023-01-07T14:52:05.901Z"
   },
   {
    "duration": 33,
    "start_time": "2023-01-07T14:54:23.555Z"
   },
   {
    "duration": 13,
    "start_time": "2023-01-07T14:54:23.590Z"
   },
   {
    "duration": 120,
    "start_time": "2023-01-07T14:54:24.503Z"
   },
   {
    "duration": 17,
    "start_time": "2023-01-07T14:54:31.138Z"
   },
   {
    "duration": 7,
    "start_time": "2023-01-07T14:54:31.899Z"
   },
   {
    "duration": 13,
    "start_time": "2023-01-07T14:54:32.949Z"
   },
   {
    "duration": 6,
    "start_time": "2023-01-07T14:54:33.999Z"
   },
   {
    "duration": 12,
    "start_time": "2023-01-07T14:54:34.221Z"
   },
   {
    "duration": 7,
    "start_time": "2023-01-07T14:54:35.325Z"
   },
   {
    "duration": 34,
    "start_time": "2023-01-07T14:55:39.696Z"
   },
   {
    "duration": 24,
    "start_time": "2023-01-07T14:55:42.420Z"
   },
   {
    "duration": 344,
    "start_time": "2023-01-07T14:55:45.378Z"
   },
   {
    "duration": 161,
    "start_time": "2023-01-07T14:56:37.096Z"
   },
   {
    "duration": 44,
    "start_time": "2023-01-07T14:56:45.229Z"
   },
   {
    "duration": 295,
    "start_time": "2023-01-07T14:56:45.665Z"
   },
   {
    "duration": 4,
    "start_time": "2023-01-07T14:57:34.883Z"
   },
   {
    "duration": 286,
    "start_time": "2023-01-07T14:57:40.255Z"
   },
   {
    "duration": 281,
    "start_time": "2023-01-07T14:57:50.468Z"
   },
   {
    "duration": 31,
    "start_time": "2023-01-07T15:04:25.675Z"
   },
   {
    "duration": 531,
    "start_time": "2023-01-07T15:05:52.777Z"
   },
   {
    "duration": 33,
    "start_time": "2023-01-07T15:06:06.654Z"
   },
   {
    "duration": 603,
    "start_time": "2023-01-07T15:06:07.208Z"
   },
   {
    "duration": 540,
    "start_time": "2023-01-07T15:06:35.965Z"
   },
   {
    "duration": 3,
    "start_time": "2023-01-07T15:06:47.215Z"
   },
   {
    "duration": 1158,
    "start_time": "2023-01-07T15:06:47.916Z"
   },
   {
    "duration": 9,
    "start_time": "2023-01-07T15:06:49.911Z"
   },
   {
    "duration": 10,
    "start_time": "2023-01-07T15:06:50.104Z"
   },
   {
    "duration": 10,
    "start_time": "2023-01-07T15:06:50.509Z"
   },
   {
    "duration": 18,
    "start_time": "2023-01-07T15:06:50.674Z"
   },
   {
    "duration": 11,
    "start_time": "2023-01-07T15:06:51.054Z"
   },
   {
    "duration": 69,
    "start_time": "2023-01-07T15:06:51.421Z"
   },
   {
    "duration": 12,
    "start_time": "2023-01-07T15:06:51.807Z"
   },
   {
    "duration": 15,
    "start_time": "2023-01-07T15:06:51.980Z"
   },
   {
    "duration": 5,
    "start_time": "2023-01-07T15:06:52.755Z"
   },
   {
    "duration": 37,
    "start_time": "2023-01-07T15:06:52.952Z"
   },
   {
    "duration": 213,
    "start_time": "2023-01-07T15:06:53.133Z"
   },
   {
    "duration": 9,
    "start_time": "2023-01-07T15:06:53.349Z"
   },
   {
    "duration": 5,
    "start_time": "2023-01-07T15:06:53.868Z"
   },
   {
    "duration": 14,
    "start_time": "2023-01-07T15:06:54.056Z"
   },
   {
    "duration": 61,
    "start_time": "2023-01-07T15:06:54.266Z"
   },
   {
    "duration": 8,
    "start_time": "2023-01-07T15:06:54.628Z"
   },
   {
    "duration": 8,
    "start_time": "2023-01-07T15:06:54.816Z"
   },
   {
    "duration": 37,
    "start_time": "2023-01-07T15:06:55.012Z"
   },
   {
    "duration": 86,
    "start_time": "2023-01-07T15:06:55.206Z"
   },
   {
    "duration": 6,
    "start_time": "2023-01-07T15:06:55.408Z"
   },
   {
    "duration": 53,
    "start_time": "2023-01-07T15:06:55.609Z"
   },
   {
    "duration": 8,
    "start_time": "2023-01-07T15:06:55.959Z"
   },
   {
    "duration": 17,
    "start_time": "2023-01-07T15:06:56.529Z"
   },
   {
    "duration": 30,
    "start_time": "2023-01-07T15:06:56.719Z"
   },
   {
    "duration": 132,
    "start_time": "2023-01-07T15:06:56.910Z"
   },
   {
    "duration": 8,
    "start_time": "2023-01-07T15:06:58.096Z"
   },
   {
    "duration": 14,
    "start_time": "2023-01-07T15:06:58.474Z"
   },
   {
    "duration": 39,
    "start_time": "2023-01-07T15:06:58.667Z"
   },
   {
    "duration": 5,
    "start_time": "2023-01-07T15:06:58.865Z"
   },
   {
    "duration": 5,
    "start_time": "2023-01-07T15:06:59.263Z"
   },
   {
    "duration": 6,
    "start_time": "2023-01-07T15:06:59.877Z"
   },
   {
    "duration": 32,
    "start_time": "2023-01-07T15:07:00.473Z"
   },
   {
    "duration": 11,
    "start_time": "2023-01-07T15:07:00.706Z"
   },
   {
    "duration": 52,
    "start_time": "2023-01-07T15:07:00.904Z"
   },
   {
    "duration": 11,
    "start_time": "2023-01-07T15:07:01.558Z"
   },
   {
    "duration": 116,
    "start_time": "2023-01-07T15:07:02.155Z"
   },
   {
    "duration": 19,
    "start_time": "2023-01-07T15:07:02.361Z"
   },
   {
    "duration": 8,
    "start_time": "2023-01-07T15:07:02.559Z"
   },
   {
    "duration": 9,
    "start_time": "2023-01-07T15:07:03.170Z"
   },
   {
    "duration": 5,
    "start_time": "2023-01-07T15:07:03.765Z"
   },
   {
    "duration": 11,
    "start_time": "2023-01-07T15:07:03.965Z"
   },
   {
    "duration": 5,
    "start_time": "2023-01-07T15:07:04.605Z"
   },
   {
    "duration": 31,
    "start_time": "2023-01-07T15:07:05.607Z"
   },
   {
    "duration": 516,
    "start_time": "2023-01-07T15:07:06.308Z"
   },
   {
    "duration": 4,
    "start_time": "2023-01-07T15:08:28.758Z"
   },
   {
    "duration": 617,
    "start_time": "2023-01-07T15:08:34.867Z"
   },
   {
    "duration": 601,
    "start_time": "2023-01-07T15:08:52.158Z"
   },
   {
    "duration": 544,
    "start_time": "2023-01-07T15:09:04.073Z"
   },
   {
    "duration": 610,
    "start_time": "2023-01-07T15:09:13.308Z"
   },
   {
    "duration": 594,
    "start_time": "2023-01-07T15:09:19.208Z"
   },
   {
    "duration": 31,
    "start_time": "2023-01-07T15:09:37.508Z"
   },
   {
    "duration": 207,
    "start_time": "2023-01-07T15:09:38.424Z"
   },
   {
    "duration": 30,
    "start_time": "2023-01-07T15:12:07.212Z"
   },
   {
    "duration": 36,
    "start_time": "2023-01-07T15:12:26.312Z"
   },
   {
    "duration": 33,
    "start_time": "2023-01-07T15:12:40.136Z"
   },
   {
    "duration": 570,
    "start_time": "2023-01-07T15:34:26.632Z"
   },
   {
    "duration": 524,
    "start_time": "2023-01-07T15:37:13.981Z"
   },
   {
    "duration": 589,
    "start_time": "2023-01-07T15:37:48.918Z"
   },
   {
    "duration": 9,
    "start_time": "2023-01-07T15:39:54.700Z"
   },
   {
    "duration": 11,
    "start_time": "2023-01-07T15:40:32.579Z"
   },
   {
    "duration": 9,
    "start_time": "2023-01-07T15:40:43.222Z"
   },
   {
    "duration": 10,
    "start_time": "2023-01-07T15:41:15.725Z"
   },
   {
    "duration": 8,
    "start_time": "2023-01-07T15:41:44.502Z"
   },
   {
    "duration": 14,
    "start_time": "2023-01-07T15:43:33.373Z"
   },
   {
    "duration": 4,
    "start_time": "2023-01-07T15:43:37.344Z"
   },
   {
    "duration": 16,
    "start_time": "2023-01-07T15:43:41.504Z"
   },
   {
    "duration": 18,
    "start_time": "2023-01-07T15:43:50.419Z"
   },
   {
    "duration": 43,
    "start_time": "2023-01-07T15:43:58.959Z"
   },
   {
    "duration": 39,
    "start_time": "2023-01-07T15:44:07.282Z"
   },
   {
    "duration": 17,
    "start_time": "2023-01-07T15:44:20.301Z"
   },
   {
    "duration": 15,
    "start_time": "2023-01-07T15:44:28.269Z"
   },
   {
    "duration": 15,
    "start_time": "2023-01-07T15:46:07.275Z"
   },
   {
    "duration": 31,
    "start_time": "2023-01-07T15:46:10.358Z"
   },
   {
    "duration": 15,
    "start_time": "2023-01-07T15:46:10.985Z"
   },
   {
    "duration": 14,
    "start_time": "2023-01-07T15:46:18.376Z"
   },
   {
    "duration": 47,
    "start_time": "2023-01-07T15:46:29.840Z"
   },
   {
    "duration": 54,
    "start_time": "2023-01-07T15:46:33.337Z"
   },
   {
    "duration": 181,
    "start_time": "2023-01-07T15:46:41.364Z"
   },
   {
    "duration": 512,
    "start_time": "2023-01-07T15:46:47.586Z"
   },
   {
    "duration": 49,
    "start_time": "2023-01-07T15:47:00.260Z"
   },
   {
    "duration": 47,
    "start_time": "2023-01-07T15:47:04.830Z"
   },
   {
    "duration": 14,
    "start_time": "2023-01-07T15:47:12.377Z"
   },
   {
    "duration": 472,
    "start_time": "2023-01-07T15:48:24.429Z"
   },
   {
    "duration": 11,
    "start_time": "2023-01-07T16:16:52.126Z"
   },
   {
    "duration": 15,
    "start_time": "2023-01-07T16:17:54.273Z"
   },
   {
    "duration": 53,
    "start_time": "2023-01-07T16:19:24.667Z"
   },
   {
    "duration": 15,
    "start_time": "2023-01-07T16:19:36.518Z"
   },
   {
    "duration": 48,
    "start_time": "2023-01-07T16:20:15.863Z"
   },
   {
    "duration": 16,
    "start_time": "2023-01-07T16:26:04.555Z"
   },
   {
    "duration": 112,
    "start_time": "2023-01-07T16:26:23.561Z"
   },
   {
    "duration": 20,
    "start_time": "2023-01-07T16:26:23.810Z"
   },
   {
    "duration": 6,
    "start_time": "2023-01-07T16:26:24.004Z"
   },
   {
    "duration": 9,
    "start_time": "2023-01-07T16:26:24.703Z"
   },
   {
    "duration": 6,
    "start_time": "2023-01-07T16:26:25.357Z"
   },
   {
    "duration": 9,
    "start_time": "2023-01-07T16:26:25.822Z"
   },
   {
    "duration": 4,
    "start_time": "2023-01-07T16:26:27.033Z"
   },
   {
    "duration": 34,
    "start_time": "2023-01-07T16:26:48.845Z"
   },
   {
    "duration": 24,
    "start_time": "2023-01-07T16:27:01.288Z"
   },
   {
    "duration": 25,
    "start_time": "2023-01-07T16:27:13.251Z"
   },
   {
    "duration": 32,
    "start_time": "2023-01-07T16:27:30.856Z"
   },
   {
    "duration": 35,
    "start_time": "2023-01-07T16:27:42.851Z"
   },
   {
    "duration": 31,
    "start_time": "2023-01-07T16:27:51.859Z"
   },
   {
    "duration": 511,
    "start_time": "2023-01-07T16:27:52.401Z"
   },
   {
    "duration": 9,
    "start_time": "2023-01-07T16:27:54.383Z"
   },
   {
    "duration": 21,
    "start_time": "2023-01-07T16:27:59.868Z"
   },
   {
    "duration": 19,
    "start_time": "2023-01-07T16:28:16.757Z"
   },
   {
    "duration": 16,
    "start_time": "2023-01-07T16:28:34.056Z"
   },
   {
    "duration": 10,
    "start_time": "2023-01-07T16:28:41.130Z"
   },
   {
    "duration": 15,
    "start_time": "2023-01-07T16:28:46.496Z"
   },
   {
    "duration": 13,
    "start_time": "2023-01-07T16:29:02.292Z"
   },
   {
    "duration": 17,
    "start_time": "2023-01-07T16:29:22.838Z"
   },
   {
    "duration": 40,
    "start_time": "2023-01-07T16:30:19.327Z"
   },
   {
    "duration": 25,
    "start_time": "2023-01-07T16:30:47.107Z"
   },
   {
    "duration": 214,
    "start_time": "2023-01-07T16:30:47.889Z"
   },
   {
    "duration": 18,
    "start_time": "2023-01-07T16:32:01.204Z"
   },
   {
    "duration": 15,
    "start_time": "2023-01-07T16:32:05.899Z"
   },
   {
    "duration": 10,
    "start_time": "2023-01-07T16:32:23.618Z"
   },
   {
    "duration": 41,
    "start_time": "2023-01-07T16:32:29.963Z"
   },
   {
    "duration": 40,
    "start_time": "2023-01-07T16:32:59.175Z"
   },
   {
    "duration": 42,
    "start_time": "2023-01-07T16:33:11.941Z"
   },
   {
    "duration": 53,
    "start_time": "2023-01-07T16:33:32.015Z"
   },
   {
    "duration": 42,
    "start_time": "2023-01-07T16:34:07.764Z"
   },
   {
    "duration": 43,
    "start_time": "2023-01-07T16:34:34.685Z"
   },
   {
    "duration": 43,
    "start_time": "2023-01-07T16:34:47.287Z"
   },
   {
    "duration": 151,
    "start_time": "2023-01-07T16:42:37.532Z"
   },
   {
    "duration": 10,
    "start_time": "2023-01-07T16:42:45.026Z"
   },
   {
    "duration": 104,
    "start_time": "2023-01-07T16:42:46.261Z"
   },
   {
    "duration": 16,
    "start_time": "2023-01-07T16:42:48.351Z"
   },
   {
    "duration": 10,
    "start_time": "2023-01-07T16:42:52.442Z"
   },
   {
    "duration": 10,
    "start_time": "2023-01-07T16:43:08.161Z"
   },
   {
    "duration": 10,
    "start_time": "2023-01-07T16:43:31.249Z"
   },
   {
    "duration": 5,
    "start_time": "2023-01-07T16:43:34.331Z"
   },
   {
    "duration": 9,
    "start_time": "2023-01-07T16:43:35.096Z"
   },
   {
    "duration": 5,
    "start_time": "2023-01-07T16:43:37.278Z"
   },
   {
    "duration": 31,
    "start_time": "2023-01-07T16:43:44.167Z"
   },
   {
    "duration": 7,
    "start_time": "2023-01-07T17:02:36.036Z"
   },
   {
    "duration": 9,
    "start_time": "2023-01-07T17:02:37.704Z"
   },
   {
    "duration": 4,
    "start_time": "2023-01-07T17:02:39.028Z"
   },
   {
    "duration": 9,
    "start_time": "2023-01-07T17:02:39.629Z"
   },
   {
    "duration": 5,
    "start_time": "2023-01-07T17:02:41.326Z"
   },
   {
    "duration": 31,
    "start_time": "2023-01-07T17:02:44.156Z"
   },
   {
    "duration": 19,
    "start_time": "2023-01-07T17:04:46.618Z"
   },
   {
    "duration": 32,
    "start_time": "2023-01-07T17:05:18.193Z"
   },
   {
    "duration": 499,
    "start_time": "2023-01-07T17:05:25.589Z"
   },
   {
    "duration": 9,
    "start_time": "2023-01-07T17:05:26.561Z"
   },
   {
    "duration": 47,
    "start_time": "2023-01-07T17:07:22.032Z"
   },
   {
    "duration": 20,
    "start_time": "2023-01-07T17:17:12.457Z"
   },
   {
    "duration": 16,
    "start_time": "2023-01-07T17:17:23.261Z"
   },
   {
    "duration": 15,
    "start_time": "2023-01-07T17:19:58.667Z"
   },
   {
    "duration": 11,
    "start_time": "2023-01-07T17:21:02.435Z"
   },
   {
    "duration": 16,
    "start_time": "2023-01-07T17:21:27.740Z"
   },
   {
    "duration": 679,
    "start_time": "2023-01-07T17:24:08.733Z"
   },
   {
    "duration": 10,
    "start_time": "2023-01-07T17:24:37.913Z"
   },
   {
    "duration": 17,
    "start_time": "2023-01-07T17:32:03.688Z"
   },
   {
    "duration": 690,
    "start_time": "2023-01-07T17:32:16.783Z"
   },
   {
    "duration": 710,
    "start_time": "2023-01-07T17:32:26.197Z"
   },
   {
    "duration": 15,
    "start_time": "2023-01-07T17:32:32.899Z"
   },
   {
    "duration": 10,
    "start_time": "2023-01-07T17:32:34.104Z"
   },
   {
    "duration": 44,
    "start_time": "2023-01-07T17:32:37.347Z"
   },
   {
    "duration": 10,
    "start_time": "2023-01-07T17:42:08.666Z"
   },
   {
    "duration": 45,
    "start_time": "2023-01-07T17:45:10.162Z"
   },
   {
    "duration": 42,
    "start_time": "2023-01-07T17:46:38.040Z"
   },
   {
    "duration": 44,
    "start_time": "2023-01-07T17:47:06.288Z"
   },
   {
    "duration": 42,
    "start_time": "2023-01-07T17:49:32.212Z"
   },
   {
    "duration": 45,
    "start_time": "2023-01-07T17:49:37.874Z"
   },
   {
    "duration": 24,
    "start_time": "2023-01-07T17:49:44.612Z"
   },
   {
    "duration": 205,
    "start_time": "2023-01-07T17:49:45.519Z"
   },
   {
    "duration": 43,
    "start_time": "2023-01-07T17:53:48.164Z"
   },
   {
    "duration": 487,
    "start_time": "2023-01-07T17:59:08.402Z"
   },
   {
    "duration": 8,
    "start_time": "2023-01-07T17:59:32.936Z"
   },
   {
    "duration": 12,
    "start_time": "2023-01-07T17:59:48.841Z"
   },
   {
    "duration": 6,
    "start_time": "2023-01-07T18:00:16.322Z"
   },
   {
    "duration": 17,
    "start_time": "2023-01-07T18:00:27.561Z"
   },
   {
    "duration": 14,
    "start_time": "2023-01-07T18:00:40.387Z"
   },
   {
    "duration": 440,
    "start_time": "2023-01-07T18:04:50.783Z"
   },
   {
    "duration": 433,
    "start_time": "2023-01-07T18:05:47.095Z"
   },
   {
    "duration": 437,
    "start_time": "2023-01-07T18:05:57.456Z"
   },
   {
    "duration": 9,
    "start_time": "2023-01-07T18:37:17.224Z"
   },
   {
    "duration": 453,
    "start_time": "2023-01-07T18:37:22.605Z"
   },
   {
    "duration": 7,
    "start_time": "2023-01-07T18:37:23.060Z"
   },
   {
    "duration": 8,
    "start_time": "2023-01-07T18:38:42.903Z"
   },
   {
    "duration": 8,
    "start_time": "2023-01-07T18:39:58.885Z"
   },
   {
    "duration": 9,
    "start_time": "2023-01-07T18:41:16.419Z"
   },
   {
    "duration": 9,
    "start_time": "2023-01-07T18:41:23.585Z"
   },
   {
    "duration": 10,
    "start_time": "2023-01-07T18:43:04.390Z"
   },
   {
    "duration": 9,
    "start_time": "2023-01-07T18:43:34.300Z"
   },
   {
    "duration": 466,
    "start_time": "2023-01-07T18:44:51.742Z"
   },
   {
    "duration": 8,
    "start_time": "2023-01-07T18:44:52.702Z"
   },
   {
    "duration": 9,
    "start_time": "2023-01-07T18:50:20.732Z"
   },
   {
    "duration": 11,
    "start_time": "2023-01-07T18:52:20.199Z"
   },
   {
    "duration": 10,
    "start_time": "2023-01-07T18:53:50.878Z"
   },
   {
    "duration": 8,
    "start_time": "2023-01-07T18:54:16.916Z"
   },
   {
    "duration": 14,
    "start_time": "2023-01-07T19:05:48.972Z"
   },
   {
    "duration": 14,
    "start_time": "2023-01-07T19:05:57.809Z"
   },
   {
    "duration": 15,
    "start_time": "2023-01-07T19:06:00.211Z"
   },
   {
    "duration": 433,
    "start_time": "2023-01-07T19:06:45.662Z"
   },
   {
    "duration": 8,
    "start_time": "2023-01-07T19:06:46.770Z"
   },
   {
    "duration": 10,
    "start_time": "2023-01-07T19:06:47.452Z"
   },
   {
    "duration": 9,
    "start_time": "2023-01-07T19:06:49.883Z"
   },
   {
    "duration": 13,
    "start_time": "2023-01-07T19:06:53.163Z"
   },
   {
    "duration": 12,
    "start_time": "2023-01-07T19:08:31.108Z"
   },
   {
    "duration": 12,
    "start_time": "2023-01-07T19:08:32.608Z"
   },
   {
    "duration": 40,
    "start_time": "2023-01-07T19:08:40.449Z"
   },
   {
    "duration": 13,
    "start_time": "2023-01-07T19:08:50.397Z"
   },
   {
    "duration": 13,
    "start_time": "2023-01-07T19:09:08.769Z"
   },
   {
    "duration": 13,
    "start_time": "2023-01-07T19:09:09.498Z"
   },
   {
    "duration": 14,
    "start_time": "2023-01-07T19:09:09.891Z"
   },
   {
    "duration": 13,
    "start_time": "2023-01-07T19:10:20.611Z"
   },
   {
    "duration": 13,
    "start_time": "2023-01-07T19:11:58.110Z"
   },
   {
    "duration": 48,
    "start_time": "2023-01-07T19:12:46.150Z"
   },
   {
    "duration": 14,
    "start_time": "2023-01-07T19:12:53.322Z"
   },
   {
    "duration": 14,
    "start_time": "2023-01-07T19:13:07.212Z"
   },
   {
    "duration": 6,
    "start_time": "2023-01-07T19:13:21.301Z"
   },
   {
    "duration": 5,
    "start_time": "2023-01-07T19:13:26.055Z"
   },
   {
    "duration": 693,
    "start_time": "2023-01-07T19:13:29.023Z"
   },
   {
    "duration": 358,
    "start_time": "2023-01-07T19:13:47.919Z"
   },
   {
    "duration": 124,
    "start_time": "2023-01-07T19:13:53.899Z"
   },
   {
    "duration": 5,
    "start_time": "2023-01-07T19:19:06.016Z"
   },
   {
    "duration": 332,
    "start_time": "2023-01-07T19:19:12.802Z"
   },
   {
    "duration": 122,
    "start_time": "2023-01-07T19:19:24.104Z"
   },
   {
    "duration": 5,
    "start_time": "2023-01-07T19:20:16.467Z"
   },
   {
    "duration": 323,
    "start_time": "2023-01-07T19:20:17.585Z"
   },
   {
    "duration": 174,
    "start_time": "2023-01-07T19:20:19.962Z"
   },
   {
    "duration": 9,
    "start_time": "2023-01-07T19:22:33.607Z"
   },
   {
    "duration": 12,
    "start_time": "2023-01-07T19:22:56.979Z"
   },
   {
    "duration": 9,
    "start_time": "2023-01-07T19:23:01.423Z"
   },
   {
    "duration": 9,
    "start_time": "2023-01-07T19:23:04.782Z"
   },
   {
    "duration": 5,
    "start_time": "2023-01-07T19:23:12.726Z"
   },
   {
    "duration": 6,
    "start_time": "2023-01-07T19:23:20.025Z"
   },
   {
    "duration": 6,
    "start_time": "2023-01-07T19:24:10.671Z"
   },
   {
    "duration": 343,
    "start_time": "2023-01-07T19:24:11.400Z"
   },
   {
    "duration": 149,
    "start_time": "2023-01-07T19:24:13.027Z"
   },
   {
    "duration": 483,
    "start_time": "2023-01-07T19:53:39.714Z"
   },
   {
    "duration": 8,
    "start_time": "2023-01-07T19:53:40.396Z"
   },
   {
    "duration": 9,
    "start_time": "2023-01-07T19:53:41.714Z"
   },
   {
    "duration": 6,
    "start_time": "2023-01-07T19:53:44.354Z"
   },
   {
    "duration": 409,
    "start_time": "2023-01-07T19:53:45.185Z"
   },
   {
    "duration": 134,
    "start_time": "2023-01-07T19:53:45.813Z"
   },
   {
    "duration": 45,
    "start_time": "2023-01-07T19:54:48.393Z"
   },
   {
    "duration": 6,
    "start_time": "2023-01-07T19:55:00.260Z"
   },
   {
    "duration": 356,
    "start_time": "2023-01-07T19:55:03.970Z"
   },
   {
    "duration": 128,
    "start_time": "2023-01-07T19:55:06.746Z"
   },
   {
    "duration": 31,
    "start_time": "2023-01-07T20:04:28.219Z"
   },
   {
    "duration": 469,
    "start_time": "2023-01-07T20:04:29.319Z"
   },
   {
    "duration": 8,
    "start_time": "2023-01-07T20:04:30.869Z"
   },
   {
    "duration": 14,
    "start_time": "2023-01-07T20:04:32.196Z"
   },
   {
    "duration": 51,
    "start_time": "2023-01-07T20:04:32.542Z"
   },
   {
    "duration": 18,
    "start_time": "2023-01-07T20:04:33.727Z"
   },
   {
    "duration": 10,
    "start_time": "2023-01-07T20:04:34.272Z"
   },
   {
    "duration": 45,
    "start_time": "2023-01-07T20:04:35.146Z"
   },
   {
    "duration": 13,
    "start_time": "2023-01-07T20:04:36.611Z"
   },
   {
    "duration": 199,
    "start_time": "2023-01-07T20:04:37.097Z"
   },
   {
    "duration": 450,
    "start_time": "2023-01-07T20:04:40.539Z"
   },
   {
    "duration": 8,
    "start_time": "2023-01-07T20:04:41.023Z"
   },
   {
    "duration": 9,
    "start_time": "2023-01-07T20:04:42.077Z"
   },
   {
    "duration": 6,
    "start_time": "2023-01-07T20:04:43.542Z"
   },
   {
    "duration": 337,
    "start_time": "2023-01-07T20:04:44.101Z"
   },
   {
    "duration": 129,
    "start_time": "2023-01-07T20:04:44.654Z"
   },
   {
    "duration": 4,
    "start_time": "2023-01-07T20:18:02.312Z"
   },
   {
    "duration": 1285,
    "start_time": "2023-01-07T20:18:02.342Z"
   },
   {
    "duration": 9,
    "start_time": "2023-01-07T20:18:03.629Z"
   },
   {
    "duration": 22,
    "start_time": "2023-01-07T20:18:03.640Z"
   },
   {
    "duration": 17,
    "start_time": "2023-01-07T20:18:03.664Z"
   },
   {
    "duration": 23,
    "start_time": "2023-01-07T20:18:03.684Z"
   },
   {
    "duration": 20,
    "start_time": "2023-01-07T20:18:03.708Z"
   },
   {
    "duration": 63,
    "start_time": "2023-01-07T20:18:03.730Z"
   },
   {
    "duration": 9,
    "start_time": "2023-01-07T20:18:03.795Z"
   },
   {
    "duration": 12,
    "start_time": "2023-01-07T20:18:03.822Z"
   },
   {
    "duration": 5,
    "start_time": "2023-01-07T20:18:03.835Z"
   },
   {
    "duration": 33,
    "start_time": "2023-01-07T20:18:03.841Z"
   },
   {
    "duration": 251,
    "start_time": "2023-01-07T20:18:03.876Z"
   },
   {
    "duration": 9,
    "start_time": "2023-01-07T20:18:04.129Z"
   },
   {
    "duration": 5,
    "start_time": "2023-01-07T20:18:04.140Z"
   },
   {
    "duration": 20,
    "start_time": "2023-01-07T20:18:04.146Z"
   },
   {
    "duration": 68,
    "start_time": "2023-01-07T20:18:04.168Z"
   },
   {
    "duration": 8,
    "start_time": "2023-01-07T20:18:04.238Z"
   },
   {
    "duration": 12,
    "start_time": "2023-01-07T20:18:04.247Z"
   },
   {
    "duration": 36,
    "start_time": "2023-01-07T20:18:04.260Z"
   },
   {
    "duration": 94,
    "start_time": "2023-01-07T20:18:04.298Z"
   },
   {
    "duration": 27,
    "start_time": "2023-01-07T20:18:04.394Z"
   },
   {
    "duration": 54,
    "start_time": "2023-01-07T20:18:04.423Z"
   },
   {
    "duration": 8,
    "start_time": "2023-01-07T20:18:04.479Z"
   },
   {
    "duration": 35,
    "start_time": "2023-01-07T20:18:04.489Z"
   },
   {
    "duration": 30,
    "start_time": "2023-01-07T20:18:04.526Z"
   },
   {
    "duration": 165,
    "start_time": "2023-01-07T20:18:04.558Z"
   },
   {
    "duration": 8,
    "start_time": "2023-01-07T20:18:04.724Z"
   },
   {
    "duration": 13,
    "start_time": "2023-01-07T20:18:04.733Z"
   },
   {
    "duration": 40,
    "start_time": "2023-01-07T20:18:04.747Z"
   },
   {
    "duration": 5,
    "start_time": "2023-01-07T20:18:04.788Z"
   },
   {
    "duration": 33,
    "start_time": "2023-01-07T20:18:04.794Z"
   },
   {
    "duration": 7,
    "start_time": "2023-01-07T20:18:04.828Z"
   },
   {
    "duration": 32,
    "start_time": "2023-01-07T20:18:04.837Z"
   },
   {
    "duration": 9,
    "start_time": "2023-01-07T20:18:04.871Z"
   },
   {
    "duration": 177,
    "start_time": "2023-01-07T20:18:04.881Z"
   },
   {
    "duration": 9,
    "start_time": "2023-01-07T20:18:05.060Z"
   },
   {
    "duration": 134,
    "start_time": "2023-01-07T20:18:05.071Z"
   },
   {
    "duration": 24,
    "start_time": "2023-01-07T20:18:05.207Z"
   },
   {
    "duration": 8,
    "start_time": "2023-01-07T20:18:05.233Z"
   },
   {
    "duration": 15,
    "start_time": "2023-01-07T20:18:05.243Z"
   },
   {
    "duration": 5,
    "start_time": "2023-01-07T20:18:05.263Z"
   },
   {
    "duration": 23,
    "start_time": "2023-01-07T20:18:05.270Z"
   },
   {
    "duration": 27,
    "start_time": "2023-01-07T20:18:05.295Z"
   },
   {
    "duration": 43,
    "start_time": "2023-01-07T20:18:05.324Z"
   },
   {
    "duration": 532,
    "start_time": "2023-01-07T20:18:05.369Z"
   },
   {
    "duration": 8,
    "start_time": "2023-01-07T20:18:05.903Z"
   },
   {
    "duration": 16,
    "start_time": "2023-01-07T20:18:05.913Z"
   },
   {
    "duration": 54,
    "start_time": "2023-01-07T20:18:05.930Z"
   },
   {
    "duration": 16,
    "start_time": "2023-01-07T20:18:05.985Z"
   },
   {
    "duration": 26,
    "start_time": "2023-01-07T20:18:06.002Z"
   },
   {
    "duration": 42,
    "start_time": "2023-01-07T20:18:06.030Z"
   },
   {
    "duration": 23,
    "start_time": "2023-01-07T20:18:06.073Z"
   },
   {
    "duration": 220,
    "start_time": "2023-01-07T20:18:06.097Z"
   },
   {
    "duration": 451,
    "start_time": "2023-01-07T20:18:06.320Z"
   },
   {
    "duration": 8,
    "start_time": "2023-01-07T20:18:06.773Z"
   },
   {
    "duration": 11,
    "start_time": "2023-01-07T20:18:06.782Z"
   },
   {
    "duration": 9,
    "start_time": "2023-01-07T21:12:19.851Z"
   },
   {
    "duration": 13,
    "start_time": "2023-01-07T21:12:45.320Z"
   },
   {
    "duration": 6,
    "start_time": "2023-01-07T21:12:55.739Z"
   },
   {
    "duration": 6,
    "start_time": "2023-01-07T21:13:07.093Z"
   },
   {
    "duration": 12,
    "start_time": "2023-01-07T21:13:36.051Z"
   },
   {
    "duration": 5,
    "start_time": "2023-01-07T21:13:38.228Z"
   },
   {
    "duration": 13,
    "start_time": "2023-01-07T21:13:38.520Z"
   },
   {
    "duration": 40,
    "start_time": "2023-01-07T21:13:42.350Z"
   },
   {
    "duration": 5,
    "start_time": "2023-01-07T21:13:42.938Z"
   },
   {
    "duration": 4,
    "start_time": "2023-01-07T21:13:43.625Z"
   },
   {
    "duration": 7,
    "start_time": "2023-01-07T21:13:44.303Z"
   },
   {
    "duration": 39,
    "start_time": "2023-01-07T21:13:45.308Z"
   },
   {
    "duration": 11,
    "start_time": "2023-01-07T21:13:45.664Z"
   },
   {
    "duration": 7,
    "start_time": "2023-01-07T21:13:58.093Z"
   },
   {
    "duration": 30,
    "start_time": "2023-01-07T21:13:59.761Z"
   },
   {
    "duration": 11,
    "start_time": "2023-01-07T21:13:59.949Z"
   },
   {
    "duration": 53,
    "start_time": "2023-01-07T21:14:00.133Z"
   },
   {
    "duration": 10,
    "start_time": "2023-01-07T21:14:06.734Z"
   },
   {
    "duration": 110,
    "start_time": "2023-01-07T21:14:11.291Z"
   },
   {
    "duration": 19,
    "start_time": "2023-01-07T21:14:11.707Z"
   },
   {
    "duration": 7,
    "start_time": "2023-01-07T21:14:12.334Z"
   },
   {
    "duration": 10,
    "start_time": "2023-01-07T21:14:13.910Z"
   },
   {
    "duration": 5,
    "start_time": "2023-01-07T21:14:15.106Z"
   },
   {
    "duration": 9,
    "start_time": "2023-01-07T21:14:15.507Z"
   },
   {
    "duration": 5,
    "start_time": "2023-01-07T21:14:16.297Z"
   },
   {
    "duration": 32,
    "start_time": "2023-01-07T21:14:18.254Z"
   },
   {
    "duration": 593,
    "start_time": "2023-01-07T21:14:18.605Z"
   },
   {
    "duration": 8,
    "start_time": "2023-01-07T21:14:19.200Z"
   },
   {
    "duration": 14,
    "start_time": "2023-01-07T21:14:21.353Z"
   },
   {
    "duration": 49,
    "start_time": "2023-01-07T21:14:21.953Z"
   },
   {
    "duration": 15,
    "start_time": "2023-01-07T21:14:24.116Z"
   },
   {
    "duration": 10,
    "start_time": "2023-01-07T21:14:25.307Z"
   },
   {
    "duration": 44,
    "start_time": "2023-01-07T21:14:26.458Z"
   },
   {
    "duration": 23,
    "start_time": "2023-01-07T21:14:28.701Z"
   },
   {
    "duration": 195,
    "start_time": "2023-01-07T21:14:29.306Z"
   },
   {
    "duration": 451,
    "start_time": "2023-01-07T21:14:31.293Z"
   },
   {
    "duration": 9,
    "start_time": "2023-01-07T21:14:33.203Z"
   },
   {
    "duration": 10,
    "start_time": "2023-01-07T21:14:34.055Z"
   },
   {
    "duration": 6,
    "start_time": "2023-01-07T21:14:38.403Z"
   },
   {
    "duration": 343,
    "start_time": "2023-01-07T21:14:40.637Z"
   },
   {
    "duration": 133,
    "start_time": "2023-01-07T21:14:49.000Z"
   },
   {
    "duration": 6,
    "start_time": "2023-01-07T21:24:12.784Z"
   },
   {
    "duration": 5,
    "start_time": "2023-01-07T21:31:54.749Z"
   },
   {
    "duration": 6,
    "start_time": "2023-01-07T21:32:39.713Z"
   },
   {
    "duration": 6,
    "start_time": "2023-01-07T21:35:53.225Z"
   },
   {
    "duration": 12,
    "start_time": "2023-01-07T21:38:10.058Z"
   },
   {
    "duration": 6,
    "start_time": "2023-01-07T21:39:16.893Z"
   },
   {
    "duration": 11,
    "start_time": "2023-01-07T21:39:17.853Z"
   },
   {
    "duration": 6,
    "start_time": "2023-01-07T21:39:21.653Z"
   },
   {
    "duration": 5,
    "start_time": "2023-01-07T21:40:57.420Z"
   },
   {
    "duration": 11,
    "start_time": "2023-01-07T21:42:51.709Z"
   },
   {
    "duration": 5,
    "start_time": "2023-01-07T21:43:42.975Z"
   },
   {
    "duration": 10,
    "start_time": "2023-01-07T21:43:43.437Z"
   },
   {
    "duration": 20,
    "start_time": "2023-01-07T21:43:43.669Z"
   },
   {
    "duration": 10,
    "start_time": "2023-01-07T21:43:53.974Z"
   },
   {
    "duration": 11,
    "start_time": "2023-01-07T21:44:12.470Z"
   },
   {
    "duration": 20,
    "start_time": "2023-01-07T21:44:27.867Z"
   },
   {
    "duration": 5,
    "start_time": "2023-01-07T21:44:38.103Z"
   },
   {
    "duration": 5,
    "start_time": "2023-01-07T21:44:38.701Z"
   },
   {
    "duration": 10,
    "start_time": "2023-01-07T21:44:39.332Z"
   },
   {
    "duration": 21,
    "start_time": "2023-01-07T21:44:39.908Z"
   },
   {
    "duration": 7,
    "start_time": "2023-01-07T21:46:13.007Z"
   },
   {
    "duration": 5,
    "start_time": "2023-01-07T21:46:17.823Z"
   },
   {
    "duration": 10,
    "start_time": "2023-01-07T21:46:36.874Z"
   },
   {
    "duration": 20,
    "start_time": "2023-01-07T21:46:37.408Z"
   },
   {
    "duration": 11,
    "start_time": "2023-01-07T21:48:31.422Z"
   },
   {
    "duration": 22,
    "start_time": "2023-01-07T21:48:32.201Z"
   },
   {
    "duration": 5,
    "start_time": "2023-01-07T21:48:53.469Z"
   },
   {
    "duration": 11,
    "start_time": "2023-01-07T21:48:54.278Z"
   },
   {
    "duration": 22,
    "start_time": "2023-01-07T21:48:54.901Z"
   },
   {
    "duration": 7,
    "start_time": "2023-01-07T21:49:06.893Z"
   },
   {
    "duration": 5,
    "start_time": "2023-01-07T21:50:07.661Z"
   },
   {
    "duration": 9,
    "start_time": "2023-01-07T21:50:08.326Z"
   },
   {
    "duration": 7,
    "start_time": "2023-01-07T21:50:20.301Z"
   },
   {
    "duration": 10,
    "start_time": "2023-01-07T21:50:21.014Z"
   },
   {
    "duration": 11,
    "start_time": "2023-01-07T21:50:34.225Z"
   },
   {
    "duration": 12,
    "start_time": "2023-01-07T21:51:19.025Z"
   },
   {
    "duration": 5,
    "start_time": "2023-01-07T21:51:29.663Z"
   },
   {
    "duration": 10,
    "start_time": "2023-01-07T21:51:30.773Z"
   },
   {
    "duration": 6,
    "start_time": "2023-01-07T21:51:32.363Z"
   },
   {
    "duration": 6,
    "start_time": "2023-01-07T21:52:02.588Z"
   },
   {
    "duration": 6,
    "start_time": "2023-01-07T21:52:03.004Z"
   },
   {
    "duration": 11,
    "start_time": "2023-01-07T21:52:03.457Z"
   },
   {
    "duration": 15,
    "start_time": "2023-01-07T21:52:03.722Z"
   },
   {
    "duration": 6,
    "start_time": "2023-01-07T21:52:48.507Z"
   },
   {
    "duration": 6,
    "start_time": "2023-01-07T21:52:49.075Z"
   },
   {
    "duration": 10,
    "start_time": "2023-01-07T21:52:49.622Z"
   },
   {
    "duration": 19,
    "start_time": "2023-01-07T21:52:50.339Z"
   },
   {
    "duration": 6,
    "start_time": "2023-01-07T21:53:16.526Z"
   },
   {
    "duration": 5,
    "start_time": "2023-01-07T21:53:17.712Z"
   },
   {
    "duration": 11,
    "start_time": "2023-01-07T21:53:18.974Z"
   },
   {
    "duration": 11,
    "start_time": "2023-01-07T21:53:35.482Z"
   },
   {
    "duration": 22,
    "start_time": "2023-01-07T21:53:36.013Z"
   },
   {
    "duration": 7,
    "start_time": "2023-01-07T21:53:56.322Z"
   },
   {
    "duration": 5,
    "start_time": "2023-01-07T21:53:56.821Z"
   },
   {
    "duration": 11,
    "start_time": "2023-01-07T21:53:57.411Z"
   },
   {
    "duration": 20,
    "start_time": "2023-01-07T21:53:58.071Z"
   },
   {
    "duration": 6,
    "start_time": "2023-01-07T21:54:31.968Z"
   },
   {
    "duration": 10,
    "start_time": "2023-01-07T21:54:32.526Z"
   },
   {
    "duration": 6,
    "start_time": "2023-01-07T21:57:46.827Z"
   },
   {
    "duration": 6,
    "start_time": "2023-01-07T21:58:39.475Z"
   },
   {
    "duration": 5,
    "start_time": "2023-01-07T21:58:39.928Z"
   },
   {
    "duration": 10,
    "start_time": "2023-01-07T21:58:40.469Z"
   },
   {
    "duration": 21,
    "start_time": "2023-01-07T21:58:41.233Z"
   },
   {
    "duration": 5,
    "start_time": "2023-01-07T21:59:06.836Z"
   },
   {
    "duration": 7,
    "start_time": "2023-01-07T21:59:10.561Z"
   },
   {
    "duration": 10,
    "start_time": "2023-01-07T21:59:11.205Z"
   },
   {
    "duration": 20,
    "start_time": "2023-01-07T21:59:11.857Z"
   },
   {
    "duration": 20,
    "start_time": "2023-01-07T21:59:22.436Z"
   },
   {
    "duration": 4,
    "start_time": "2023-01-07T21:59:54.071Z"
   },
   {
    "duration": 7,
    "start_time": "2023-01-07T21:59:59.205Z"
   },
   {
    "duration": 6,
    "start_time": "2023-01-07T21:59:59.977Z"
   },
   {
    "duration": 10,
    "start_time": "2023-01-07T22:00:00.612Z"
   },
   {
    "duration": 22,
    "start_time": "2023-01-07T22:00:01.201Z"
   },
   {
    "duration": 4,
    "start_time": "2023-01-07T22:00:43.223Z"
   },
   {
    "duration": 3,
    "start_time": "2023-01-07T22:01:07.968Z"
   },
   {
    "duration": 1114,
    "start_time": "2023-01-07T22:01:09.161Z"
   },
   {
    "duration": 9,
    "start_time": "2023-01-07T22:01:10.277Z"
   },
   {
    "duration": 8,
    "start_time": "2023-01-07T22:01:10.575Z"
   },
   {
    "duration": 9,
    "start_time": "2023-01-07T22:01:11.168Z"
   },
   {
    "duration": 17,
    "start_time": "2023-01-07T22:01:11.369Z"
   },
   {
    "duration": 11,
    "start_time": "2023-01-07T22:01:11.834Z"
   },
   {
    "duration": 57,
    "start_time": "2023-01-07T22:01:12.309Z"
   },
   {
    "duration": 11,
    "start_time": "2023-01-07T22:01:12.813Z"
   },
   {
    "duration": 12,
    "start_time": "2023-01-07T22:01:13.069Z"
   },
   {
    "duration": 5,
    "start_time": "2023-01-07T22:01:14.508Z"
   },
   {
    "duration": 28,
    "start_time": "2023-01-07T22:01:14.862Z"
   },
   {
    "duration": 239,
    "start_time": "2023-01-07T22:01:15.233Z"
   },
   {
    "duration": 9,
    "start_time": "2023-01-07T22:01:15.612Z"
   },
   {
    "duration": 4,
    "start_time": "2023-01-07T22:01:16.275Z"
   },
   {
    "duration": 14,
    "start_time": "2023-01-07T22:01:16.514Z"
   },
   {
    "duration": 52,
    "start_time": "2023-01-07T22:01:16.766Z"
   },
   {
    "duration": 8,
    "start_time": "2023-01-07T22:01:17.265Z"
   },
   {
    "duration": 7,
    "start_time": "2023-01-07T22:01:17.469Z"
   },
   {
    "duration": 35,
    "start_time": "2023-01-07T22:01:17.669Z"
   },
   {
    "duration": 69,
    "start_time": "2023-01-07T22:01:17.860Z"
   },
   {
    "duration": 6,
    "start_time": "2023-01-07T22:01:18.046Z"
   },
   {
    "duration": 52,
    "start_time": "2023-01-07T22:01:18.222Z"
   },
   {
    "duration": 7,
    "start_time": "2023-01-07T22:01:18.604Z"
   },
   {
    "duration": 15,
    "start_time": "2023-01-07T22:01:19.161Z"
   },
   {
    "duration": 28,
    "start_time": "2023-01-07T22:01:19.338Z"
   },
   {
    "duration": 129,
    "start_time": "2023-01-07T22:01:19.563Z"
   },
   {
    "duration": 6,
    "start_time": "2023-01-07T22:01:20.761Z"
   },
   {
    "duration": 13,
    "start_time": "2023-01-07T22:01:20.999Z"
   },
   {
    "duration": 39,
    "start_time": "2023-01-07T22:01:21.225Z"
   },
   {
    "duration": 5,
    "start_time": "2023-01-07T22:01:21.468Z"
   },
   {
    "duration": 5,
    "start_time": "2023-01-07T22:01:21.908Z"
   },
   {
    "duration": 7,
    "start_time": "2023-01-07T22:01:22.560Z"
   },
   {
    "duration": 36,
    "start_time": "2023-01-07T22:01:23.173Z"
   },
   {
    "duration": 10,
    "start_time": "2023-01-07T22:01:23.405Z"
   },
   {
    "duration": 52,
    "start_time": "2023-01-07T22:01:23.714Z"
   },
   {
    "duration": 10,
    "start_time": "2023-01-07T22:01:24.969Z"
   },
   {
    "duration": 110,
    "start_time": "2023-01-07T22:01:25.622Z"
   },
   {
    "duration": 17,
    "start_time": "2023-01-07T22:01:25.821Z"
   },
   {
    "duration": 7,
    "start_time": "2023-01-07T22:01:26.023Z"
   },
   {
    "duration": 10,
    "start_time": "2023-01-07T22:01:26.624Z"
   },
   {
    "duration": 4,
    "start_time": "2023-01-07T22:01:27.273Z"
   },
   {
    "duration": 10,
    "start_time": "2023-01-07T22:01:27.506Z"
   },
   {
    "duration": 4,
    "start_time": "2023-01-07T22:01:28.113Z"
   },
   {
    "duration": 33,
    "start_time": "2023-01-07T22:01:29.119Z"
   },
   {
    "duration": 485,
    "start_time": "2023-01-07T22:01:29.329Z"
   },
   {
    "duration": 8,
    "start_time": "2023-01-07T22:01:29.821Z"
   },
   {
    "duration": 15,
    "start_time": "2023-01-07T22:01:30.609Z"
   },
   {
    "duration": 153,
    "start_time": "2023-01-07T22:01:30.862Z"
   },
   {
    "duration": 15,
    "start_time": "2023-01-07T22:01:31.909Z"
   },
   {
    "duration": 9,
    "start_time": "2023-01-07T22:01:32.329Z"
   },
   {
    "duration": 42,
    "start_time": "2023-01-07T22:01:32.714Z"
   },
   {
    "duration": 25,
    "start_time": "2023-01-07T22:01:33.606Z"
   },
   {
    "duration": 200,
    "start_time": "2023-01-07T22:01:33.846Z"
   },
   {
    "duration": 427,
    "start_time": "2023-01-07T22:01:34.494Z"
   },
   {
    "duration": 8,
    "start_time": "2023-01-07T22:01:34.923Z"
   },
   {
    "duration": 12,
    "start_time": "2023-01-07T22:01:34.932Z"
   },
   {
    "duration": 6,
    "start_time": "2023-01-07T22:01:36.305Z"
   },
   {
    "duration": 354,
    "start_time": "2023-01-07T22:01:36.907Z"
   },
   {
    "duration": 128,
    "start_time": "2023-01-07T22:01:37.325Z"
   },
   {
    "duration": 6,
    "start_time": "2023-01-07T22:01:39.961Z"
   },
   {
    "duration": 11,
    "start_time": "2023-01-07T22:01:40.966Z"
   },
   {
    "duration": 11,
    "start_time": "2023-01-07T22:01:48.090Z"
   },
   {
    "duration": 6,
    "start_time": "2023-01-07T22:01:48.708Z"
   },
   {
    "duration": 5,
    "start_time": "2023-01-07T22:01:49.445Z"
   },
   {
    "duration": 10,
    "start_time": "2023-01-07T22:01:49.908Z"
   },
   {
    "duration": 21,
    "start_time": "2023-01-07T22:01:50.401Z"
   },
   {
    "duration": 21,
    "start_time": "2023-01-07T22:01:59.661Z"
   },
   {
    "duration": 6,
    "start_time": "2023-01-07T22:02:37.654Z"
   },
   {
    "duration": 5,
    "start_time": "2023-01-07T22:02:38.165Z"
   },
   {
    "duration": 11,
    "start_time": "2023-01-07T22:02:38.669Z"
   },
   {
    "duration": 27,
    "start_time": "2023-01-07T22:02:39.205Z"
   },
   {
    "duration": 27,
    "start_time": "2023-01-07T22:02:54.569Z"
   },
   {
    "duration": 25,
    "start_time": "2023-01-07T22:03:02.908Z"
   },
   {
    "duration": 5,
    "start_time": "2023-01-07T22:03:13.645Z"
   },
   {
    "duration": 11,
    "start_time": "2023-01-07T22:03:14.061Z"
   },
   {
    "duration": 6,
    "start_time": "2023-01-07T22:03:47.905Z"
   },
   {
    "duration": 5,
    "start_time": "2023-01-07T22:03:48.137Z"
   },
   {
    "duration": 11,
    "start_time": "2023-01-07T22:04:00.306Z"
   },
   {
    "duration": 5,
    "start_time": "2023-01-07T22:04:14.856Z"
   },
   {
    "duration": 5,
    "start_time": "2023-01-07T22:04:15.313Z"
   },
   {
    "duration": 11,
    "start_time": "2023-01-07T22:04:16.569Z"
   },
   {
    "duration": 10,
    "start_time": "2023-01-07T22:04:20.897Z"
   },
   {
    "duration": 24,
    "start_time": "2023-01-07T22:04:28.771Z"
   },
   {
    "duration": 4,
    "start_time": "2023-01-07T22:05:17.858Z"
   },
   {
    "duration": 1074,
    "start_time": "2023-01-07T22:05:17.864Z"
   },
   {
    "duration": 9,
    "start_time": "2023-01-07T22:05:18.939Z"
   },
   {
    "duration": 15,
    "start_time": "2023-01-07T22:05:18.949Z"
   },
   {
    "duration": 16,
    "start_time": "2023-01-07T22:05:18.965Z"
   },
   {
    "duration": 21,
    "start_time": "2023-01-07T22:05:18.983Z"
   },
   {
    "duration": 16,
    "start_time": "2023-01-07T22:05:19.006Z"
   },
   {
    "duration": 60,
    "start_time": "2023-01-07T22:05:19.023Z"
   },
   {
    "duration": 9,
    "start_time": "2023-01-07T22:05:19.085Z"
   },
   {
    "duration": 26,
    "start_time": "2023-01-07T22:05:19.096Z"
   },
   {
    "duration": 8,
    "start_time": "2023-01-07T22:05:19.124Z"
   },
   {
    "duration": 37,
    "start_time": "2023-01-07T22:05:19.134Z"
   },
   {
    "duration": 228,
    "start_time": "2023-01-07T22:05:19.173Z"
   },
   {
    "duration": 19,
    "start_time": "2023-01-07T22:05:19.403Z"
   },
   {
    "duration": 5,
    "start_time": "2023-01-07T22:05:19.423Z"
   },
   {
    "duration": 19,
    "start_time": "2023-01-07T22:05:19.429Z"
   },
   {
    "duration": 71,
    "start_time": "2023-01-07T22:05:19.450Z"
   },
   {
    "duration": 7,
    "start_time": "2023-01-07T22:05:19.523Z"
   },
   {
    "duration": 15,
    "start_time": "2023-01-07T22:05:19.531Z"
   },
   {
    "duration": 36,
    "start_time": "2023-01-07T22:05:19.548Z"
   },
   {
    "duration": 78,
    "start_time": "2023-01-07T22:05:19.586Z"
   },
   {
    "duration": 5,
    "start_time": "2023-01-07T22:05:19.666Z"
   },
   {
    "duration": 66,
    "start_time": "2023-01-07T22:05:19.673Z"
   },
   {
    "duration": 7,
    "start_time": "2023-01-07T22:05:19.740Z"
   },
   {
    "duration": 22,
    "start_time": "2023-01-07T22:05:19.748Z"
   },
   {
    "duration": 29,
    "start_time": "2023-01-07T22:05:19.771Z"
   },
   {
    "duration": 160,
    "start_time": "2023-01-07T22:05:19.802Z"
   },
   {
    "duration": 5,
    "start_time": "2023-01-07T22:05:19.966Z"
   },
   {
    "duration": 19,
    "start_time": "2023-01-07T22:05:19.972Z"
   },
   {
    "duration": 57,
    "start_time": "2023-01-07T22:05:19.993Z"
   },
   {
    "duration": 4,
    "start_time": "2023-01-07T22:05:20.052Z"
   },
   {
    "duration": 23,
    "start_time": "2023-01-07T22:05:20.058Z"
   },
   {
    "duration": 8,
    "start_time": "2023-01-07T22:05:20.083Z"
   },
   {
    "duration": 35,
    "start_time": "2023-01-07T22:05:20.093Z"
   },
   {
    "duration": 9,
    "start_time": "2023-01-07T22:05:20.130Z"
   },
   {
    "duration": 57,
    "start_time": "2023-01-07T22:05:20.141Z"
   },
   {
    "duration": 24,
    "start_time": "2023-01-07T22:05:20.200Z"
   },
   {
    "duration": 118,
    "start_time": "2023-01-07T22:05:20.225Z"
   },
   {
    "duration": 18,
    "start_time": "2023-01-07T22:05:20.345Z"
   },
   {
    "duration": 6,
    "start_time": "2023-01-07T22:05:20.364Z"
   },
   {
    "duration": 9,
    "start_time": "2023-01-07T22:05:20.371Z"
   },
   {
    "duration": 11,
    "start_time": "2023-01-07T22:05:20.382Z"
   },
   {
    "duration": 29,
    "start_time": "2023-01-07T22:05:20.394Z"
   },
   {
    "duration": 7,
    "start_time": "2023-01-07T22:05:20.425Z"
   },
   {
    "duration": 40,
    "start_time": "2023-01-07T22:05:20.433Z"
   },
   {
    "duration": 533,
    "start_time": "2023-01-07T22:05:20.475Z"
   },
   {
    "duration": 16,
    "start_time": "2023-01-07T22:05:21.009Z"
   },
   {
    "duration": 15,
    "start_time": "2023-01-07T22:05:21.026Z"
   },
   {
    "duration": 44,
    "start_time": "2023-01-07T22:05:21.043Z"
   },
   {
    "duration": 32,
    "start_time": "2023-01-07T22:05:21.089Z"
   },
   {
    "duration": 9,
    "start_time": "2023-01-07T22:05:21.123Z"
   },
   {
    "duration": 43,
    "start_time": "2023-01-07T22:05:21.134Z"
   },
   {
    "duration": 49,
    "start_time": "2023-01-07T22:05:21.178Z"
   },
   {
    "duration": 216,
    "start_time": "2023-01-07T22:05:21.228Z"
   },
   {
    "duration": 471,
    "start_time": "2023-01-07T22:05:21.445Z"
   },
   {
    "duration": 11,
    "start_time": "2023-01-07T22:05:21.920Z"
   },
   {
    "duration": 16,
    "start_time": "2023-01-07T22:05:21.933Z"
   },
   {
    "duration": 7,
    "start_time": "2023-01-07T22:05:21.951Z"
   },
   {
    "duration": 404,
    "start_time": "2023-01-07T22:05:21.959Z"
   },
   {
    "duration": 144,
    "start_time": "2023-01-07T22:05:22.364Z"
   },
   {
    "duration": 16,
    "start_time": "2023-01-07T22:05:22.509Z"
   },
   {
    "duration": 15,
    "start_time": "2023-01-07T22:05:22.527Z"
   },
   {
    "duration": 15,
    "start_time": "2023-01-07T22:05:22.544Z"
   },
   {
    "duration": 26,
    "start_time": "2023-01-07T22:05:22.561Z"
   },
   {
    "duration": 21,
    "start_time": "2023-01-07T22:05:47.005Z"
   },
   {
    "duration": 5,
    "start_time": "2023-01-07T22:05:53.514Z"
   },
   {
    "duration": 5,
    "start_time": "2023-01-07T22:05:53.988Z"
   },
   {
    "duration": 11,
    "start_time": "2023-01-07T22:05:54.421Z"
   },
   {
    "duration": 20,
    "start_time": "2023-01-07T22:05:54.873Z"
   },
   {
    "duration": 10,
    "start_time": "2023-01-07T22:06:04.717Z"
   },
   {
    "duration": 27,
    "start_time": "2023-01-07T22:06:45.170Z"
   },
   {
    "duration": 5,
    "start_time": "2023-01-07T22:06:58.370Z"
   },
   {
    "duration": 5,
    "start_time": "2023-01-07T22:06:59.034Z"
   },
   {
    "duration": 11,
    "start_time": "2023-01-07T22:06:59.658Z"
   },
   {
    "duration": 21,
    "start_time": "2023-01-07T22:07:00.257Z"
   },
   {
    "duration": 11,
    "start_time": "2023-01-07T22:07:08.453Z"
   },
   {
    "duration": 25,
    "start_time": "2023-01-07T22:07:20.870Z"
   },
   {
    "duration": 8,
    "start_time": "2023-01-07T22:07:36.577Z"
   },
   {
    "duration": 4,
    "start_time": "2023-01-07T22:07:37.276Z"
   },
   {
    "duration": 11,
    "start_time": "2023-01-07T22:07:37.732Z"
   },
   {
    "duration": 25,
    "start_time": "2023-01-07T22:07:38.017Z"
   },
   {
    "duration": 5,
    "start_time": "2023-01-07T22:07:52.404Z"
   },
   {
    "duration": 5,
    "start_time": "2023-01-07T22:07:52.873Z"
   },
   {
    "duration": 11,
    "start_time": "2023-01-07T22:07:53.236Z"
   },
   {
    "duration": 21,
    "start_time": "2023-01-07T22:07:53.459Z"
   },
   {
    "duration": 6,
    "start_time": "2023-01-07T22:08:09.558Z"
   },
   {
    "duration": 5,
    "start_time": "2023-01-07T22:08:09.965Z"
   },
   {
    "duration": 10,
    "start_time": "2023-01-07T22:08:10.258Z"
   },
   {
    "duration": 21,
    "start_time": "2023-01-07T22:08:10.555Z"
   },
   {
    "duration": 21,
    "start_time": "2023-01-07T22:08:20.896Z"
   },
   {
    "duration": 6,
    "start_time": "2023-01-07T22:08:23.462Z"
   },
   {
    "duration": 6,
    "start_time": "2023-01-07T22:08:23.965Z"
   },
   {
    "duration": 10,
    "start_time": "2023-01-07T22:08:24.348Z"
   },
   {
    "duration": 22,
    "start_time": "2023-01-07T22:08:24.582Z"
   },
   {
    "duration": 4,
    "start_time": "2023-01-07T22:09:06.989Z"
   },
   {
    "duration": 894,
    "start_time": "2023-01-07T22:09:06.994Z"
   },
   {
    "duration": 8,
    "start_time": "2023-01-07T22:09:07.890Z"
   },
   {
    "duration": 16,
    "start_time": "2023-01-07T22:09:07.899Z"
   },
   {
    "duration": 13,
    "start_time": "2023-01-07T22:09:07.917Z"
   },
   {
    "duration": 24,
    "start_time": "2023-01-07T22:09:07.932Z"
   },
   {
    "duration": 10,
    "start_time": "2023-01-07T22:09:07.957Z"
   },
   {
    "duration": 60,
    "start_time": "2023-01-07T22:09:07.969Z"
   },
   {
    "duration": 10,
    "start_time": "2023-01-07T22:09:08.031Z"
   },
   {
    "duration": 18,
    "start_time": "2023-01-07T22:09:08.043Z"
   },
   {
    "duration": 6,
    "start_time": "2023-01-07T22:09:08.062Z"
   },
   {
    "duration": 32,
    "start_time": "2023-01-07T22:09:08.069Z"
   },
   {
    "duration": 236,
    "start_time": "2023-01-07T22:09:08.103Z"
   },
   {
    "duration": 9,
    "start_time": "2023-01-07T22:09:08.340Z"
   },
   {
    "duration": 6,
    "start_time": "2023-01-07T22:09:08.350Z"
   },
   {
    "duration": 15,
    "start_time": "2023-01-07T22:09:08.357Z"
   },
   {
    "duration": 74,
    "start_time": "2023-01-07T22:09:08.374Z"
   },
   {
    "duration": 8,
    "start_time": "2023-01-07T22:09:08.449Z"
   },
   {
    "duration": 15,
    "start_time": "2023-01-07T22:09:08.458Z"
   },
   {
    "duration": 36,
    "start_time": "2023-01-07T22:09:08.475Z"
   },
   {
    "duration": 77,
    "start_time": "2023-01-07T22:09:08.522Z"
   },
   {
    "duration": 6,
    "start_time": "2023-01-07T22:09:08.600Z"
   },
   {
    "duration": 65,
    "start_time": "2023-01-07T22:09:08.607Z"
   },
   {
    "duration": 6,
    "start_time": "2023-01-07T22:09:08.674Z"
   },
   {
    "duration": 18,
    "start_time": "2023-01-07T22:09:08.682Z"
   },
   {
    "duration": 47,
    "start_time": "2023-01-07T22:09:08.702Z"
   },
   {
    "duration": 145,
    "start_time": "2023-01-07T22:09:08.750Z"
   },
   {
    "duration": 4,
    "start_time": "2023-01-07T22:09:08.897Z"
   },
   {
    "duration": 26,
    "start_time": "2023-01-07T22:09:08.903Z"
   },
   {
    "duration": 39,
    "start_time": "2023-01-07T22:09:08.931Z"
   },
   {
    "duration": 8,
    "start_time": "2023-01-07T22:09:08.972Z"
   },
   {
    "duration": 6,
    "start_time": "2023-01-07T22:09:08.981Z"
   },
   {
    "duration": 17,
    "start_time": "2023-01-07T22:09:08.989Z"
   },
   {
    "duration": 40,
    "start_time": "2023-01-07T22:09:09.008Z"
   },
   {
    "duration": 10,
    "start_time": "2023-01-07T22:09:09.050Z"
   },
   {
    "duration": 72,
    "start_time": "2023-01-07T22:09:09.062Z"
   },
   {
    "duration": 11,
    "start_time": "2023-01-07T22:09:09.138Z"
   },
   {
    "duration": 145,
    "start_time": "2023-01-07T22:09:09.150Z"
   },
   {
    "duration": 25,
    "start_time": "2023-01-07T22:09:09.297Z"
   },
   {
    "duration": 6,
    "start_time": "2023-01-07T22:09:09.323Z"
   },
   {
    "duration": 11,
    "start_time": "2023-01-07T22:09:09.330Z"
   },
   {
    "duration": 5,
    "start_time": "2023-01-07T22:09:09.343Z"
   },
   {
    "duration": 17,
    "start_time": "2023-01-07T22:09:09.349Z"
   },
   {
    "duration": 10,
    "start_time": "2023-01-07T22:09:09.368Z"
   },
   {
    "duration": 55,
    "start_time": "2023-01-07T22:09:09.379Z"
   },
   {
    "duration": 575,
    "start_time": "2023-01-07T22:09:09.435Z"
   },
   {
    "duration": 15,
    "start_time": "2023-01-07T22:09:10.012Z"
   },
   {
    "duration": 21,
    "start_time": "2023-01-07T22:09:10.028Z"
   },
   {
    "duration": 46,
    "start_time": "2023-01-07T22:09:10.050Z"
   },
   {
    "duration": 36,
    "start_time": "2023-01-07T22:09:10.097Z"
   },
   {
    "duration": 11,
    "start_time": "2023-01-07T22:09:10.135Z"
   },
   {
    "duration": 47,
    "start_time": "2023-01-07T22:09:10.148Z"
   },
   {
    "duration": 45,
    "start_time": "2023-01-07T22:09:10.197Z"
   },
   {
    "duration": 313,
    "start_time": "2023-01-07T22:09:10.243Z"
   },
   {
    "duration": 446,
    "start_time": "2023-01-07T22:09:10.558Z"
   },
   {
    "duration": 14,
    "start_time": "2023-01-07T22:09:11.006Z"
   },
   {
    "duration": 10,
    "start_time": "2023-01-07T22:09:11.021Z"
   },
   {
    "duration": 9,
    "start_time": "2023-01-07T22:09:11.032Z"
   },
   {
    "duration": 354,
    "start_time": "2023-01-07T22:09:11.042Z"
   },
   {
    "duration": 136,
    "start_time": "2023-01-07T22:09:11.398Z"
   },
   {
    "duration": 1147,
    "start_time": "2023-01-07T22:09:24.667Z"
   },
   {
    "duration": 985,
    "start_time": "2023-01-07T22:09:25.816Z"
   },
   {
    "duration": 12,
    "start_time": "2023-01-07T22:09:26.802Z"
   },
   {
    "duration": 9,
    "start_time": "2023-01-07T22:09:26.816Z"
   },
   {
    "duration": 11,
    "start_time": "2023-01-07T22:09:26.826Z"
   },
   {
    "duration": 19,
    "start_time": "2023-01-07T22:09:26.838Z"
   },
   {
    "duration": 11,
    "start_time": "2023-01-07T22:09:26.858Z"
   },
   {
    "duration": 72,
    "start_time": "2023-01-07T22:09:26.870Z"
   },
   {
    "duration": 7,
    "start_time": "2023-01-07T22:09:26.944Z"
   },
   {
    "duration": 10,
    "start_time": "2023-01-07T22:09:26.954Z"
   },
   {
    "duration": 6,
    "start_time": "2023-01-07T22:09:26.966Z"
   },
   {
    "duration": 48,
    "start_time": "2023-01-07T22:09:26.973Z"
   },
   {
    "duration": 243,
    "start_time": "2023-01-07T22:09:27.023Z"
   },
   {
    "duration": 8,
    "start_time": "2023-01-07T22:09:27.268Z"
   },
   {
    "duration": 5,
    "start_time": "2023-01-07T22:09:27.278Z"
   },
   {
    "duration": 13,
    "start_time": "2023-01-07T22:09:27.284Z"
   },
   {
    "duration": 70,
    "start_time": "2023-01-07T22:09:27.298Z"
   },
   {
    "duration": 8,
    "start_time": "2023-01-07T22:09:27.369Z"
   },
   {
    "duration": 9,
    "start_time": "2023-01-07T22:09:27.379Z"
   },
   {
    "duration": 44,
    "start_time": "2023-01-07T22:09:27.389Z"
   },
   {
    "duration": 89,
    "start_time": "2023-01-07T22:09:27.435Z"
   },
   {
    "duration": 5,
    "start_time": "2023-01-07T22:09:27.525Z"
   },
   {
    "duration": 55,
    "start_time": "2023-01-07T22:09:27.531Z"
   },
   {
    "duration": 6,
    "start_time": "2023-01-07T22:09:27.588Z"
   },
   {
    "duration": 35,
    "start_time": "2023-01-07T22:09:27.596Z"
   },
   {
    "duration": 27,
    "start_time": "2023-01-07T22:09:27.632Z"
   },
   {
    "duration": 143,
    "start_time": "2023-01-07T22:09:27.661Z"
   },
   {
    "duration": 5,
    "start_time": "2023-01-07T22:09:27.807Z"
   },
   {
    "duration": 12,
    "start_time": "2023-01-07T22:09:27.821Z"
   },
   {
    "duration": 37,
    "start_time": "2023-01-07T22:09:27.834Z"
   },
   {
    "duration": 4,
    "start_time": "2023-01-07T22:09:27.872Z"
   },
   {
    "duration": 11,
    "start_time": "2023-01-07T22:09:27.877Z"
   },
   {
    "duration": 32,
    "start_time": "2023-01-07T22:09:27.889Z"
   },
   {
    "duration": 30,
    "start_time": "2023-01-07T22:09:27.922Z"
   },
   {
    "duration": 9,
    "start_time": "2023-01-07T22:09:27.953Z"
   },
   {
    "duration": 352,
    "start_time": "2023-01-07T22:09:27.964Z"
   },
   {
    "duration": 10,
    "start_time": "2023-01-07T22:09:28.318Z"
   },
   {
    "duration": 171,
    "start_time": "2023-01-07T22:09:28.330Z"
   },
   {
    "duration": 27,
    "start_time": "2023-01-07T22:09:28.503Z"
   },
   {
    "duration": 6,
    "start_time": "2023-01-07T22:09:28.531Z"
   },
   {
    "duration": 9,
    "start_time": "2023-01-07T22:09:28.538Z"
   },
   {
    "duration": 4,
    "start_time": "2023-01-07T22:09:28.549Z"
   },
   {
    "duration": 12,
    "start_time": "2023-01-07T22:09:28.554Z"
   },
   {
    "duration": 10,
    "start_time": "2023-01-07T22:09:28.567Z"
   },
   {
    "duration": 64,
    "start_time": "2023-01-07T22:09:28.579Z"
   },
   {
    "duration": 266,
    "start_time": "2023-01-07T22:09:28.644Z"
   },
   {
    "duration": 0,
    "start_time": "2023-01-07T22:09:28.920Z"
   },
   {
    "duration": 0,
    "start_time": "2023-01-07T22:09:28.921Z"
   },
   {
    "duration": 0,
    "start_time": "2023-01-07T22:09:28.922Z"
   },
   {
    "duration": 0,
    "start_time": "2023-01-07T22:09:28.923Z"
   },
   {
    "duration": 0,
    "start_time": "2023-01-07T22:09:28.924Z"
   },
   {
    "duration": 0,
    "start_time": "2023-01-07T22:09:28.925Z"
   },
   {
    "duration": 0,
    "start_time": "2023-01-07T22:09:28.926Z"
   },
   {
    "duration": 0,
    "start_time": "2023-01-07T22:09:28.927Z"
   },
   {
    "duration": 0,
    "start_time": "2023-01-07T22:09:28.928Z"
   },
   {
    "duration": 0,
    "start_time": "2023-01-07T22:09:28.929Z"
   },
   {
    "duration": 0,
    "start_time": "2023-01-07T22:09:28.930Z"
   },
   {
    "duration": 0,
    "start_time": "2023-01-07T22:09:28.931Z"
   },
   {
    "duration": 0,
    "start_time": "2023-01-07T22:09:28.932Z"
   },
   {
    "duration": 0,
    "start_time": "2023-01-07T22:09:28.933Z"
   },
   {
    "duration": 0,
    "start_time": "2023-01-07T22:09:28.934Z"
   },
   {
    "duration": 0,
    "start_time": "2023-01-07T22:09:28.935Z"
   },
   {
    "duration": 0,
    "start_time": "2023-01-07T22:09:28.936Z"
   },
   {
    "duration": 0,
    "start_time": "2023-01-07T22:09:28.936Z"
   },
   {
    "duration": 6,
    "start_time": "2023-01-07T22:09:35.497Z"
   },
   {
    "duration": 5,
    "start_time": "2023-01-07T22:09:36.106Z"
   },
   {
    "duration": 10,
    "start_time": "2023-01-07T22:09:37.009Z"
   },
   {
    "duration": 23,
    "start_time": "2023-01-07T22:09:37.470Z"
   },
   {
    "duration": 5,
    "start_time": "2023-01-07T22:09:47.349Z"
   },
   {
    "duration": 10,
    "start_time": "2023-01-07T22:10:47.176Z"
   },
   {
    "duration": 6,
    "start_time": "2023-01-07T22:11:00.364Z"
   },
   {
    "duration": 5,
    "start_time": "2023-01-07T22:11:00.899Z"
   },
   {
    "duration": 10,
    "start_time": "2023-01-07T22:11:01.709Z"
   },
   {
    "duration": 21,
    "start_time": "2023-01-07T22:11:02.201Z"
   },
   {
    "duration": 574,
    "start_time": "2023-01-07T22:15:11.797Z"
   },
   {
    "duration": 10,
    "start_time": "2023-01-07T22:15:34.192Z"
   },
   {
    "duration": 15,
    "start_time": "2023-01-07T22:15:39.269Z"
   },
   {
    "duration": 48,
    "start_time": "2023-01-07T22:15:40.002Z"
   },
   {
    "duration": 3,
    "start_time": "2023-01-07T22:15:46.297Z"
   },
   {
    "duration": 1182,
    "start_time": "2023-01-07T22:15:46.533Z"
   },
   {
    "duration": 8,
    "start_time": "2023-01-07T22:15:48.601Z"
   },
   {
    "duration": 9,
    "start_time": "2023-01-07T22:15:49.037Z"
   },
   {
    "duration": 9,
    "start_time": "2023-01-07T22:15:49.944Z"
   },
   {
    "duration": 17,
    "start_time": "2023-01-07T22:15:50.478Z"
   },
   {
    "duration": 12,
    "start_time": "2023-01-07T22:15:51.172Z"
   },
   {
    "duration": 57,
    "start_time": "2023-01-07T22:15:51.815Z"
   },
   {
    "duration": 9,
    "start_time": "2023-01-07T22:15:52.477Z"
   },
   {
    "duration": 12,
    "start_time": "2023-01-07T22:15:52.748Z"
   },
   {
    "duration": 4,
    "start_time": "2023-01-07T22:15:54.137Z"
   },
   {
    "duration": 27,
    "start_time": "2023-01-07T22:15:54.776Z"
   },
   {
    "duration": 217,
    "start_time": "2023-01-07T22:15:55.405Z"
   },
   {
    "duration": 9,
    "start_time": "2023-01-07T22:15:55.803Z"
   },
   {
    "duration": 5,
    "start_time": "2023-01-07T22:15:56.907Z"
   },
   {
    "duration": 13,
    "start_time": "2023-01-07T22:15:57.184Z"
   },
   {
    "duration": 54,
    "start_time": "2023-01-07T22:15:57.596Z"
   },
   {
    "duration": 8,
    "start_time": "2023-01-07T22:15:58.071Z"
   },
   {
    "duration": 8,
    "start_time": "2023-01-07T22:15:58.309Z"
   },
   {
    "duration": 37,
    "start_time": "2023-01-07T22:15:58.756Z"
   },
   {
    "duration": 73,
    "start_time": "2023-01-07T22:15:59.255Z"
   },
   {
    "duration": 6,
    "start_time": "2023-01-07T22:15:59.659Z"
   },
   {
    "duration": 52,
    "start_time": "2023-01-07T22:16:00.177Z"
   },
   {
    "duration": 7,
    "start_time": "2023-01-07T22:16:00.962Z"
   },
   {
    "duration": 16,
    "start_time": "2023-01-07T22:16:02.657Z"
   },
   {
    "duration": 29,
    "start_time": "2023-01-07T22:16:03.142Z"
   },
   {
    "duration": 135,
    "start_time": "2023-01-07T22:16:03.603Z"
   },
   {
    "duration": 5,
    "start_time": "2023-01-07T22:16:16.845Z"
   },
   {
    "duration": 13,
    "start_time": "2023-01-07T22:16:17.520Z"
   },
   {
    "duration": 39,
    "start_time": "2023-01-07T22:16:18.034Z"
   },
   {
    "duration": 4,
    "start_time": "2023-01-07T22:16:18.497Z"
   },
   {
    "duration": 5,
    "start_time": "2023-01-07T22:16:19.759Z"
   },
   {
    "duration": 5,
    "start_time": "2023-01-07T22:16:22.459Z"
   },
   {
    "duration": 7,
    "start_time": "2023-01-07T22:16:23.198Z"
   },
   {
    "duration": 32,
    "start_time": "2023-01-07T22:16:23.878Z"
   },
   {
    "duration": 11,
    "start_time": "2023-01-07T22:16:24.149Z"
   },
   {
    "duration": 53,
    "start_time": "2023-01-07T22:16:24.509Z"
   },
   {
    "duration": 10,
    "start_time": "2023-01-07T22:16:26.122Z"
   },
   {
    "duration": 117,
    "start_time": "2023-01-07T22:16:27.297Z"
   },
   {
    "duration": 17,
    "start_time": "2023-01-07T22:16:28.159Z"
   },
   {
    "duration": 6,
    "start_time": "2023-01-07T22:16:28.710Z"
   },
   {
    "duration": 9,
    "start_time": "2023-01-07T22:16:31.423Z"
   },
   {
    "duration": 4,
    "start_time": "2023-01-07T22:16:32.446Z"
   },
   {
    "duration": 9,
    "start_time": "2023-01-07T22:16:32.916Z"
   },
   {
    "duration": 4,
    "start_time": "2023-01-07T22:16:33.695Z"
   },
   {
    "duration": 30,
    "start_time": "2023-01-07T22:16:36.019Z"
   },
   {
    "duration": 480,
    "start_time": "2023-01-07T22:16:36.921Z"
   },
   {
    "duration": 9,
    "start_time": "2023-01-07T22:16:44.208Z"
   },
   {
    "duration": 14,
    "start_time": "2023-01-07T22:16:45.559Z"
   },
   {
    "duration": 44,
    "start_time": "2023-01-07T22:16:47.068Z"
   },
   {
    "duration": 15,
    "start_time": "2023-01-07T22:16:48.925Z"
   },
   {
    "duration": 10,
    "start_time": "2023-01-07T22:16:51.257Z"
   },
   {
    "duration": 42,
    "start_time": "2023-01-07T22:16:52.309Z"
   },
   {
    "duration": 23,
    "start_time": "2023-01-07T22:16:53.735Z"
   },
   {
    "duration": 264,
    "start_time": "2023-01-07T22:16:54.195Z"
   },
   {
    "duration": 446,
    "start_time": "2023-01-07T22:16:55.536Z"
   },
   {
    "duration": 8,
    "start_time": "2023-01-07T22:16:55.997Z"
   },
   {
    "duration": 11,
    "start_time": "2023-01-07T22:16:56.864Z"
   },
   {
    "duration": 5,
    "start_time": "2023-01-07T22:16:58.412Z"
   },
   {
    "duration": 344,
    "start_time": "2023-01-07T22:17:00.461Z"
   },
   {
    "duration": 147,
    "start_time": "2023-01-07T22:17:01.375Z"
   },
   {
    "duration": 6,
    "start_time": "2023-01-07T22:17:04.929Z"
   },
   {
    "duration": 6,
    "start_time": "2023-01-07T22:17:05.877Z"
   },
   {
    "duration": 9,
    "start_time": "2023-01-07T22:17:06.702Z"
   },
   {
    "duration": 22,
    "start_time": "2023-01-07T22:17:07.429Z"
   },
   {
    "duration": 6,
    "start_time": "2023-01-07T22:18:16.768Z"
   },
   {
    "duration": 5,
    "start_time": "2023-01-07T22:18:17.467Z"
   },
   {
    "duration": 10,
    "start_time": "2023-01-07T22:18:17.850Z"
   },
   {
    "duration": 23,
    "start_time": "2023-01-07T22:18:18.341Z"
   },
   {
    "duration": 6,
    "start_time": "2023-01-07T22:24:03.320Z"
   },
   {
    "duration": 5,
    "start_time": "2023-01-07T22:24:05.525Z"
   },
   {
    "duration": 10,
    "start_time": "2023-01-07T22:24:06.208Z"
   },
   {
    "duration": 14,
    "start_time": "2023-01-07T22:24:07.097Z"
   },
   {
    "duration": 7,
    "start_time": "2023-01-07T22:24:24.732Z"
   },
   {
    "duration": 5,
    "start_time": "2023-01-07T22:24:25.304Z"
   },
   {
    "duration": 10,
    "start_time": "2023-01-07T22:24:25.804Z"
   },
   {
    "duration": 19,
    "start_time": "2023-01-07T22:24:26.156Z"
   },
   {
    "duration": 6,
    "start_time": "2023-01-07T22:25:18.711Z"
   },
   {
    "duration": 5,
    "start_time": "2023-01-07T22:25:19.223Z"
   },
   {
    "duration": 10,
    "start_time": "2023-01-07T22:25:19.673Z"
   },
   {
    "duration": 21,
    "start_time": "2023-01-07T22:25:20.154Z"
   },
   {
    "duration": 5,
    "start_time": "2023-01-07T22:26:01.139Z"
   },
   {
    "duration": 4,
    "start_time": "2023-01-07T22:26:01.726Z"
   },
   {
    "duration": 10,
    "start_time": "2023-01-07T22:26:02.218Z"
   },
   {
    "duration": 21,
    "start_time": "2023-01-07T22:26:02.870Z"
   },
   {
    "duration": 4,
    "start_time": "2023-01-07T22:26:32.854Z"
   },
   {
    "duration": 6,
    "start_time": "2023-01-07T22:26:38.859Z"
   },
   {
    "duration": 5,
    "start_time": "2023-01-07T22:26:39.463Z"
   },
   {
    "duration": 11,
    "start_time": "2023-01-07T22:26:40.042Z"
   },
   {
    "duration": 20,
    "start_time": "2023-01-07T22:26:40.544Z"
   },
   {
    "duration": 7,
    "start_time": "2023-01-07T22:27:32.728Z"
   },
   {
    "duration": 5,
    "start_time": "2023-01-07T22:27:33.239Z"
   },
   {
    "duration": 10,
    "start_time": "2023-01-07T22:27:33.706Z"
   },
   {
    "duration": 20,
    "start_time": "2023-01-07T22:27:34.105Z"
   },
   {
    "duration": 6,
    "start_time": "2023-01-07T22:28:12.509Z"
   },
   {
    "duration": 5,
    "start_time": "2023-01-07T22:28:13.028Z"
   },
   {
    "duration": 10,
    "start_time": "2023-01-07T22:28:13.874Z"
   },
   {
    "duration": 20,
    "start_time": "2023-01-07T22:28:14.987Z"
   },
   {
    "duration": 6,
    "start_time": "2023-01-07T22:28:45.502Z"
   },
   {
    "duration": 5,
    "start_time": "2023-01-07T22:28:46.418Z"
   },
   {
    "duration": 11,
    "start_time": "2023-01-07T22:28:46.713Z"
   },
   {
    "duration": 19,
    "start_time": "2023-01-07T22:28:47.133Z"
   },
   {
    "duration": 6,
    "start_time": "2023-01-07T22:29:38.147Z"
   },
   {
    "duration": 6,
    "start_time": "2023-01-07T22:29:38.644Z"
   },
   {
    "duration": 10,
    "start_time": "2023-01-07T22:29:39.046Z"
   },
   {
    "duration": 55,
    "start_time": "2023-01-07T22:29:39.482Z"
   },
   {
    "duration": 55,
    "start_time": "2023-01-07T22:29:53.459Z"
   },
   {
    "duration": 6,
    "start_time": "2023-01-07T22:29:58.971Z"
   },
   {
    "duration": 5,
    "start_time": "2023-01-07T22:29:59.408Z"
   },
   {
    "duration": 10,
    "start_time": "2023-01-07T22:29:59.742Z"
   },
   {
    "duration": 54,
    "start_time": "2023-01-07T22:30:00.134Z"
   },
   {
    "duration": 3,
    "start_time": "2023-01-07T22:30:50.045Z"
   },
   {
    "duration": 1114,
    "start_time": "2023-01-07T22:30:50.782Z"
   },
   {
    "duration": 8,
    "start_time": "2023-01-07T22:30:51.898Z"
   },
   {
    "duration": 9,
    "start_time": "2023-01-07T22:30:51.922Z"
   },
   {
    "duration": 10,
    "start_time": "2023-01-07T22:30:52.334Z"
   },
   {
    "duration": 17,
    "start_time": "2023-01-07T22:30:53.160Z"
   },
   {
    "duration": 12,
    "start_time": "2023-01-07T22:30:53.529Z"
   },
   {
    "duration": 57,
    "start_time": "2023-01-07T22:30:53.880Z"
   },
   {
    "duration": 10,
    "start_time": "2023-01-07T22:30:54.222Z"
   },
   {
    "duration": 11,
    "start_time": "2023-01-07T22:30:54.409Z"
   },
   {
    "duration": 5,
    "start_time": "2023-01-07T22:30:55.121Z"
   },
   {
    "duration": 33,
    "start_time": "2023-01-07T22:30:55.306Z"
   },
   {
    "duration": 6,
    "start_time": "2023-01-07T22:30:59.538Z"
   },
   {
    "duration": 4,
    "start_time": "2023-01-07T22:31:00.029Z"
   },
   {
    "duration": 10,
    "start_time": "2023-01-07T22:31:00.471Z"
   },
   {
    "duration": 22,
    "start_time": "2023-01-07T22:31:01.131Z"
   },
   {
    "duration": 6,
    "start_time": "2023-01-07T22:34:54.866Z"
   },
   {
    "duration": 5,
    "start_time": "2023-01-07T22:34:55.336Z"
   },
   {
    "duration": 10,
    "start_time": "2023-01-07T22:34:55.817Z"
   },
   {
    "duration": 52,
    "start_time": "2023-01-07T22:34:56.267Z"
   },
   {
    "duration": 50,
    "start_time": "2023-01-07T22:35:24.002Z"
   },
   {
    "duration": 37,
    "start_time": "2023-01-07T22:35:29.423Z"
   },
   {
    "duration": 54,
    "start_time": "2023-01-07T22:35:33.478Z"
   },
   {
    "duration": 6,
    "start_time": "2023-01-07T22:36:08.052Z"
   },
   {
    "duration": 5,
    "start_time": "2023-01-07T22:36:08.444Z"
   },
   {
    "duration": 11,
    "start_time": "2023-01-07T22:36:08.705Z"
   },
   {
    "duration": 33,
    "start_time": "2023-01-07T22:36:09.064Z"
   },
   {
    "duration": 7,
    "start_time": "2023-01-07T22:36:32.504Z"
   },
   {
    "duration": 5,
    "start_time": "2023-01-07T22:36:32.881Z"
   },
   {
    "duration": 10,
    "start_time": "2023-01-07T22:36:33.279Z"
   },
   {
    "duration": 53,
    "start_time": "2023-01-07T22:36:33.764Z"
   },
   {
    "duration": 7,
    "start_time": "2023-01-07T22:36:50.217Z"
   },
   {
    "duration": 5,
    "start_time": "2023-01-07T22:36:51.098Z"
   },
   {
    "duration": 11,
    "start_time": "2023-01-07T22:36:52.260Z"
   },
   {
    "duration": 58,
    "start_time": "2023-01-07T22:36:52.819Z"
   },
   {
    "duration": 1176,
    "start_time": "2023-01-07T22:37:12.529Z"
   },
   {
    "duration": 996,
    "start_time": "2023-01-07T22:37:13.707Z"
   },
   {
    "duration": 11,
    "start_time": "2023-01-07T22:37:14.705Z"
   },
   {
    "duration": 13,
    "start_time": "2023-01-07T22:37:14.717Z"
   },
   {
    "duration": 12,
    "start_time": "2023-01-07T22:37:14.732Z"
   },
   {
    "duration": 20,
    "start_time": "2023-01-07T22:37:14.745Z"
   },
   {
    "duration": 13,
    "start_time": "2023-01-07T22:37:14.767Z"
   },
   {
    "duration": 64,
    "start_time": "2023-01-07T22:37:14.781Z"
   },
   {
    "duration": 9,
    "start_time": "2023-01-07T22:37:14.846Z"
   },
   {
    "duration": 17,
    "start_time": "2023-01-07T22:37:14.856Z"
   },
   {
    "duration": 9,
    "start_time": "2023-01-07T22:37:14.874Z"
   },
   {
    "duration": 39,
    "start_time": "2023-01-07T22:37:14.885Z"
   },
   {
    "duration": 249,
    "start_time": "2023-01-07T22:37:14.926Z"
   },
   {
    "duration": 11,
    "start_time": "2023-01-07T22:37:15.179Z"
   },
   {
    "duration": 5,
    "start_time": "2023-01-07T22:37:15.192Z"
   },
   {
    "duration": 36,
    "start_time": "2023-01-07T22:37:15.199Z"
   },
   {
    "duration": 63,
    "start_time": "2023-01-07T22:37:15.237Z"
   },
   {
    "duration": 8,
    "start_time": "2023-01-07T22:37:15.301Z"
   },
   {
    "duration": 8,
    "start_time": "2023-01-07T22:37:15.321Z"
   },
   {
    "duration": 36,
    "start_time": "2023-01-07T22:37:15.331Z"
   },
   {
    "duration": 93,
    "start_time": "2023-01-07T22:37:15.369Z"
   },
   {
    "duration": 6,
    "start_time": "2023-01-07T22:37:15.464Z"
   },
   {
    "duration": 68,
    "start_time": "2023-01-07T22:37:15.472Z"
   },
   {
    "duration": 7,
    "start_time": "2023-01-07T22:37:15.541Z"
   },
   {
    "duration": 19,
    "start_time": "2023-01-07T22:37:15.549Z"
   },
   {
    "duration": 30,
    "start_time": "2023-01-07T22:37:15.570Z"
   },
   {
    "duration": 143,
    "start_time": "2023-01-07T22:37:15.621Z"
   },
   {
    "duration": 5,
    "start_time": "2023-01-07T22:37:15.765Z"
   },
   {
    "duration": 15,
    "start_time": "2023-01-07T22:37:15.772Z"
   },
   {
    "duration": 54,
    "start_time": "2023-01-07T22:37:15.788Z"
   },
   {
    "duration": 4,
    "start_time": "2023-01-07T22:37:15.844Z"
   },
   {
    "duration": 9,
    "start_time": "2023-01-07T22:37:15.849Z"
   },
   {
    "duration": 7,
    "start_time": "2023-01-07T22:37:15.860Z"
   },
   {
    "duration": 38,
    "start_time": "2023-01-07T22:37:15.868Z"
   },
   {
    "duration": 23,
    "start_time": "2023-01-07T22:37:15.907Z"
   },
   {
    "duration": 329,
    "start_time": "2023-01-07T22:37:15.931Z"
   },
   {
    "duration": 10,
    "start_time": "2023-01-07T22:37:16.261Z"
   },
   {
    "duration": 177,
    "start_time": "2023-01-07T22:37:16.273Z"
   },
   {
    "duration": 17,
    "start_time": "2023-01-07T22:37:16.452Z"
   },
   {
    "duration": 7,
    "start_time": "2023-01-07T22:37:16.470Z"
   },
   {
    "duration": 12,
    "start_time": "2023-01-07T22:37:16.480Z"
   },
   {
    "duration": 31,
    "start_time": "2023-01-07T22:37:16.494Z"
   },
   {
    "duration": 10,
    "start_time": "2023-01-07T22:37:16.527Z"
   },
   {
    "duration": 8,
    "start_time": "2023-01-07T22:37:16.538Z"
   },
   {
    "duration": 38,
    "start_time": "2023-01-07T22:37:16.547Z"
   },
   {
    "duration": 513,
    "start_time": "2023-01-07T22:37:16.587Z"
   },
   {
    "duration": 8,
    "start_time": "2023-01-07T22:37:17.102Z"
   },
   {
    "duration": 17,
    "start_time": "2023-01-07T22:37:17.112Z"
   },
   {
    "duration": 127,
    "start_time": "2023-01-07T22:37:17.130Z"
   },
   {
    "duration": 15,
    "start_time": "2023-01-07T22:37:17.258Z"
   },
   {
    "duration": 9,
    "start_time": "2023-01-07T22:37:17.274Z"
   },
   {
    "duration": 60,
    "start_time": "2023-01-07T22:37:17.284Z"
   },
   {
    "duration": 22,
    "start_time": "2023-01-07T22:37:17.346Z"
   },
   {
    "duration": 274,
    "start_time": "2023-01-07T22:37:17.369Z"
   },
   {
    "duration": 441,
    "start_time": "2023-01-07T22:37:17.644Z"
   },
   {
    "duration": 8,
    "start_time": "2023-01-07T22:37:18.086Z"
   },
   {
    "duration": 16,
    "start_time": "2023-01-07T22:37:18.095Z"
   },
   {
    "duration": 12,
    "start_time": "2023-01-07T22:37:18.112Z"
   },
   {
    "duration": 355,
    "start_time": "2023-01-07T22:37:18.125Z"
   },
   {
    "duration": 151,
    "start_time": "2023-01-07T22:37:18.481Z"
   },
   {
    "duration": 6,
    "start_time": "2023-01-07T22:37:18.633Z"
   },
   {
    "duration": 10,
    "start_time": "2023-01-07T22:37:18.641Z"
   },
   {
    "duration": 14,
    "start_time": "2023-01-07T22:37:18.652Z"
   },
   {
    "duration": 66,
    "start_time": "2023-01-07T22:37:18.668Z"
   },
   {
    "duration": 6,
    "start_time": "2023-01-07T22:37:30.012Z"
   },
   {
    "duration": 5,
    "start_time": "2023-01-07T22:37:30.635Z"
   },
   {
    "duration": 10,
    "start_time": "2023-01-07T22:37:31.733Z"
   },
   {
    "duration": 11,
    "start_time": "2023-01-07T22:37:55.419Z"
   },
   {
    "duration": 165,
    "start_time": "2023-01-07T22:37:55.737Z"
   },
   {
    "duration": 4,
    "start_time": "2023-01-07T22:38:23.640Z"
   },
   {
    "duration": 980,
    "start_time": "2023-01-07T22:38:24.432Z"
   },
   {
    "duration": 7,
    "start_time": "2023-01-07T22:38:30.634Z"
   },
   {
    "duration": 5,
    "start_time": "2023-01-07T22:38:31.098Z"
   },
   {
    "duration": 11,
    "start_time": "2023-01-07T22:38:31.597Z"
   },
   {
    "duration": 34,
    "start_time": "2023-01-07T22:38:32.066Z"
   },
   {
    "duration": 10,
    "start_time": "2023-01-07T22:39:05.529Z"
   },
   {
    "duration": 55,
    "start_time": "2023-01-07T22:39:05.998Z"
   },
   {
    "duration": 6,
    "start_time": "2023-01-07T22:40:02.404Z"
   },
   {
    "duration": 12,
    "start_time": "2023-01-07T22:40:04.064Z"
   },
   {
    "duration": 4,
    "start_time": "2023-01-07T22:40:19.937Z"
   },
   {
    "duration": 10,
    "start_time": "2023-01-07T22:40:20.880Z"
   },
   {
    "duration": 9,
    "start_time": "2023-01-07T22:40:37.748Z"
   },
   {
    "duration": 17,
    "start_time": "2023-01-07T22:40:38.937Z"
   },
   {
    "duration": 7,
    "start_time": "2023-01-07T22:40:52.674Z"
   },
   {
    "duration": 5,
    "start_time": "2023-01-07T22:40:53.079Z"
   },
   {
    "duration": 10,
    "start_time": "2023-01-07T22:40:53.367Z"
   },
   {
    "duration": 23,
    "start_time": "2023-01-07T22:40:53.814Z"
   },
   {
    "duration": 3,
    "start_time": "2023-01-07T22:41:23.462Z"
   },
   {
    "duration": 6,
    "start_time": "2023-01-07T22:41:28.384Z"
   },
   {
    "duration": 5,
    "start_time": "2023-01-07T22:41:30.867Z"
   },
   {
    "duration": 10,
    "start_time": "2023-01-07T22:41:31.361Z"
   },
   {
    "duration": 53,
    "start_time": "2023-01-07T22:41:31.836Z"
   },
   {
    "duration": 7,
    "start_time": "2023-01-07T22:41:33.030Z"
   },
   {
    "duration": 5,
    "start_time": "2023-01-07T22:41:33.944Z"
   },
   {
    "duration": 11,
    "start_time": "2023-01-07T22:41:34.298Z"
   },
   {
    "duration": 25,
    "start_time": "2023-01-07T22:41:34.595Z"
   },
   {
    "duration": 6,
    "start_time": "2023-01-07T22:42:09.463Z"
   },
   {
    "duration": 6,
    "start_time": "2023-01-07T22:42:33.251Z"
   },
   {
    "duration": 5,
    "start_time": "2023-01-07T22:42:34.016Z"
   },
   {
    "duration": 11,
    "start_time": "2023-01-07T22:42:34.430Z"
   },
   {
    "duration": 24,
    "start_time": "2023-01-07T22:42:34.802Z"
   },
   {
    "duration": 4,
    "start_time": "2023-01-07T22:43:22.854Z"
   },
   {
    "duration": 5,
    "start_time": "2023-01-07T22:43:57.360Z"
   },
   {
    "duration": 962,
    "start_time": "2023-01-07T22:43:58.049Z"
   },
   {
    "duration": 8,
    "start_time": "2023-01-07T22:43:59.012Z"
   },
   {
    "duration": 9,
    "start_time": "2023-01-07T22:43:59.462Z"
   },
   {
    "duration": 10,
    "start_time": "2023-01-07T22:44:00.077Z"
   },
   {
    "duration": 17,
    "start_time": "2023-01-07T22:44:00.344Z"
   },
   {
    "duration": 12,
    "start_time": "2023-01-07T22:44:00.859Z"
   },
   {
    "duration": 72,
    "start_time": "2023-01-07T22:44:01.478Z"
   },
   {
    "duration": 10,
    "start_time": "2023-01-07T22:44:02.194Z"
   },
   {
    "duration": 14,
    "start_time": "2023-01-07T22:44:02.553Z"
   },
   {
    "duration": 5,
    "start_time": "2023-01-07T22:44:03.824Z"
   },
   {
    "duration": 29,
    "start_time": "2023-01-07T22:44:04.152Z"
   },
   {
    "duration": 222,
    "start_time": "2023-01-07T22:44:04.468Z"
   },
   {
    "duration": 10,
    "start_time": "2023-01-07T22:44:04.739Z"
   },
   {
    "duration": 5,
    "start_time": "2023-01-07T22:44:05.658Z"
   },
   {
    "duration": 13,
    "start_time": "2023-01-07T22:44:05.874Z"
   },
   {
    "duration": 52,
    "start_time": "2023-01-07T22:44:06.069Z"
   },
   {
    "duration": 8,
    "start_time": "2023-01-07T22:44:06.671Z"
   },
   {
    "duration": 10,
    "start_time": "2023-01-07T22:44:06.936Z"
   },
   {
    "duration": 35,
    "start_time": "2023-01-07T22:44:07.212Z"
   },
   {
    "duration": 70,
    "start_time": "2023-01-07T22:44:07.611Z"
   },
   {
    "duration": 6,
    "start_time": "2023-01-07T22:44:08.110Z"
   },
   {
    "duration": 55,
    "start_time": "2023-01-07T22:44:09.103Z"
   },
   {
    "duration": 8,
    "start_time": "2023-01-07T22:44:10.239Z"
   },
   {
    "duration": 16,
    "start_time": "2023-01-07T22:44:29.499Z"
   },
   {
    "duration": 28,
    "start_time": "2023-01-07T22:44:29.771Z"
   },
   {
    "duration": 146,
    "start_time": "2023-01-07T22:44:30.145Z"
   },
   {
    "duration": 5,
    "start_time": "2023-01-07T22:44:31.828Z"
   },
   {
    "duration": 13,
    "start_time": "2023-01-07T22:44:32.312Z"
   },
   {
    "duration": 44,
    "start_time": "2023-01-07T22:44:32.548Z"
   },
   {
    "duration": 4,
    "start_time": "2023-01-07T22:44:32.768Z"
   },
   {
    "duration": 5,
    "start_time": "2023-01-07T22:44:33.716Z"
   },
   {
    "duration": 6,
    "start_time": "2023-01-07T22:44:34.524Z"
   },
   {
    "duration": 39,
    "start_time": "2023-01-07T22:44:35.131Z"
   },
   {
    "duration": 11,
    "start_time": "2023-01-07T22:44:35.340Z"
   },
   {
    "duration": 53,
    "start_time": "2023-01-07T22:44:35.665Z"
   },
   {
    "duration": 11,
    "start_time": "2023-01-07T22:44:36.594Z"
   },
   {
    "duration": 118,
    "start_time": "2023-01-07T22:44:37.183Z"
   },
   {
    "duration": 17,
    "start_time": "2023-01-07T22:44:37.394Z"
   },
   {
    "duration": 7,
    "start_time": "2023-01-07T22:44:37.601Z"
   },
   {
    "duration": 11,
    "start_time": "2023-01-07T22:44:38.232Z"
   },
   {
    "duration": 5,
    "start_time": "2023-01-07T22:44:38.875Z"
   },
   {
    "duration": 10,
    "start_time": "2023-01-07T22:44:39.069Z"
   },
   {
    "duration": 5,
    "start_time": "2023-01-07T22:44:39.775Z"
   },
   {
    "duration": 38,
    "start_time": "2023-01-07T22:44:41.550Z"
   },
   {
    "duration": 480,
    "start_time": "2023-01-07T22:44:42.010Z"
   },
   {
    "duration": 8,
    "start_time": "2023-01-07T22:44:42.492Z"
   },
   {
    "duration": 14,
    "start_time": "2023-01-07T22:44:43.311Z"
   },
   {
    "duration": 42,
    "start_time": "2023-01-07T22:44:43.544Z"
   },
   {
    "duration": 16,
    "start_time": "2023-01-07T22:44:44.832Z"
   },
   {
    "duration": 10,
    "start_time": "2023-01-07T22:44:46.396Z"
   },
   {
    "duration": 44,
    "start_time": "2023-01-07T22:44:47.417Z"
   },
   {
    "duration": 23,
    "start_time": "2023-01-07T22:44:48.699Z"
   },
   {
    "duration": 209,
    "start_time": "2023-01-07T22:44:48.894Z"
   },
   {
    "duration": 417,
    "start_time": "2023-01-07T22:44:49.933Z"
   },
   {
    "duration": 8,
    "start_time": "2023-01-07T22:44:50.352Z"
   },
   {
    "duration": 9,
    "start_time": "2023-01-07T22:44:50.861Z"
   },
   {
    "duration": 6,
    "start_time": "2023-01-07T22:44:52.732Z"
   },
   {
    "duration": 370,
    "start_time": "2023-01-07T22:44:53.603Z"
   },
   {
    "duration": 135,
    "start_time": "2023-01-07T22:44:54.596Z"
   },
   {
    "duration": 6,
    "start_time": "2023-01-07T22:45:20.194Z"
   },
   {
    "duration": 5,
    "start_time": "2023-01-07T22:45:20.658Z"
   },
   {
    "duration": 12,
    "start_time": "2023-01-07T22:45:21.246Z"
   },
   {
    "duration": 27,
    "start_time": "2023-01-07T22:45:22.131Z"
   },
   {
    "duration": 6,
    "start_time": "2023-01-07T22:45:30.959Z"
   },
   {
    "duration": 5,
    "start_time": "2023-01-07T22:45:31.436Z"
   },
   {
    "duration": 11,
    "start_time": "2023-01-07T22:45:31.878Z"
   },
   {
    "duration": 25,
    "start_time": "2023-01-07T22:45:32.267Z"
   },
   {
    "duration": 10,
    "start_time": "2023-01-07T22:45:41.147Z"
   },
   {
    "duration": 6,
    "start_time": "2023-01-07T22:45:53.001Z"
   },
   {
    "duration": 5,
    "start_time": "2023-01-07T22:45:53.848Z"
   },
   {
    "duration": 11,
    "start_time": "2023-01-07T22:45:56.269Z"
   },
   {
    "duration": 24,
    "start_time": "2023-01-07T22:45:57.203Z"
   },
   {
    "duration": 7,
    "start_time": "2023-01-07T22:46:10.630Z"
   },
   {
    "duration": 5,
    "start_time": "2023-01-07T22:46:11.080Z"
   },
   {
    "duration": 10,
    "start_time": "2023-01-07T22:46:11.501Z"
   },
   {
    "duration": 25,
    "start_time": "2023-01-07T22:46:11.930Z"
   },
   {
    "duration": 4,
    "start_time": "2023-01-07T22:46:38.517Z"
   },
   {
    "duration": 1070,
    "start_time": "2023-01-07T22:46:38.523Z"
   },
   {
    "duration": 8,
    "start_time": "2023-01-07T22:46:39.595Z"
   },
   {
    "duration": 14,
    "start_time": "2023-01-07T22:46:39.604Z"
   },
   {
    "duration": 20,
    "start_time": "2023-01-07T22:46:39.619Z"
   },
   {
    "duration": 19,
    "start_time": "2023-01-07T22:46:39.641Z"
   },
   {
    "duration": 11,
    "start_time": "2023-01-07T22:46:39.661Z"
   },
   {
    "duration": 66,
    "start_time": "2023-01-07T22:46:39.674Z"
   },
   {
    "duration": 8,
    "start_time": "2023-01-07T22:46:39.742Z"
   },
   {
    "duration": 14,
    "start_time": "2023-01-07T22:46:39.752Z"
   },
   {
    "duration": 4,
    "start_time": "2023-01-07T22:46:39.769Z"
   },
   {
    "duration": 30,
    "start_time": "2023-01-07T22:46:39.774Z"
   },
   {
    "duration": 234,
    "start_time": "2023-01-07T22:46:39.805Z"
   },
   {
    "duration": 8,
    "start_time": "2023-01-07T22:46:40.041Z"
   },
   {
    "duration": 10,
    "start_time": "2023-01-07T22:46:40.050Z"
   },
   {
    "duration": 20,
    "start_time": "2023-01-07T22:46:40.061Z"
   },
   {
    "duration": 66,
    "start_time": "2023-01-07T22:46:40.083Z"
   },
   {
    "duration": 8,
    "start_time": "2023-01-07T22:46:40.151Z"
   },
   {
    "duration": 10,
    "start_time": "2023-01-07T22:46:40.161Z"
   },
   {
    "duration": 59,
    "start_time": "2023-01-07T22:46:40.173Z"
   },
   {
    "duration": 75,
    "start_time": "2023-01-07T22:46:40.234Z"
   },
   {
    "duration": 7,
    "start_time": "2023-01-07T22:46:40.322Z"
   },
   {
    "duration": 54,
    "start_time": "2023-01-07T22:46:40.330Z"
   },
   {
    "duration": 7,
    "start_time": "2023-01-07T22:46:40.386Z"
   },
   {
    "duration": 40,
    "start_time": "2023-01-07T22:46:40.395Z"
   },
   {
    "duration": 28,
    "start_time": "2023-01-07T22:46:40.437Z"
   },
   {
    "duration": 165,
    "start_time": "2023-01-07T22:46:40.467Z"
   },
   {
    "duration": 5,
    "start_time": "2023-01-07T22:46:40.633Z"
   },
   {
    "duration": 19,
    "start_time": "2023-01-07T22:46:40.641Z"
   },
   {
    "duration": 42,
    "start_time": "2023-01-07T22:46:40.661Z"
   },
   {
    "duration": 17,
    "start_time": "2023-01-07T22:46:40.704Z"
   },
   {
    "duration": 4,
    "start_time": "2023-01-07T22:46:40.723Z"
   },
   {
    "duration": 11,
    "start_time": "2023-01-07T22:46:40.728Z"
   },
   {
    "duration": 31,
    "start_time": "2023-01-07T22:46:40.740Z"
   },
   {
    "duration": 9,
    "start_time": "2023-01-07T22:46:40.773Z"
   },
   {
    "duration": 72,
    "start_time": "2023-01-07T22:46:40.783Z"
   },
   {
    "duration": 9,
    "start_time": "2023-01-07T22:46:40.857Z"
   },
   {
    "duration": 141,
    "start_time": "2023-01-07T22:46:40.868Z"
   },
   {
    "duration": 25,
    "start_time": "2023-01-07T22:46:41.010Z"
   },
   {
    "duration": 6,
    "start_time": "2023-01-07T22:46:41.036Z"
   },
   {
    "duration": 12,
    "start_time": "2023-01-07T22:46:41.044Z"
   },
   {
    "duration": 8,
    "start_time": "2023-01-07T22:46:41.057Z"
   },
   {
    "duration": 12,
    "start_time": "2023-01-07T22:46:41.067Z"
   },
   {
    "duration": 9,
    "start_time": "2023-01-07T22:46:41.081Z"
   },
   {
    "duration": 52,
    "start_time": "2023-01-07T22:46:41.092Z"
   },
   {
    "duration": 572,
    "start_time": "2023-01-07T22:46:41.145Z"
   },
   {
    "duration": 8,
    "start_time": "2023-01-07T22:46:41.720Z"
   },
   {
    "duration": 14,
    "start_time": "2023-01-07T22:46:41.729Z"
   },
   {
    "duration": 140,
    "start_time": "2023-01-07T22:46:41.745Z"
   },
   {
    "duration": 35,
    "start_time": "2023-01-07T22:46:41.886Z"
   },
   {
    "duration": 10,
    "start_time": "2023-01-07T22:46:41.922Z"
   },
   {
    "duration": 41,
    "start_time": "2023-01-07T22:46:41.934Z"
   },
   {
    "duration": 22,
    "start_time": "2023-01-07T22:46:41.976Z"
   },
   {
    "duration": 215,
    "start_time": "2023-01-07T22:46:42.021Z"
   },
   {
    "duration": 422,
    "start_time": "2023-01-07T22:46:42.237Z"
   },
   {
    "duration": 8,
    "start_time": "2023-01-07T22:46:42.660Z"
   },
   {
    "duration": 13,
    "start_time": "2023-01-07T22:46:42.669Z"
   },
   {
    "duration": 9,
    "start_time": "2023-01-07T22:46:42.684Z"
   },
   {
    "duration": 376,
    "start_time": "2023-01-07T22:46:42.694Z"
   },
   {
    "duration": 138,
    "start_time": "2023-01-07T22:46:43.072Z"
   },
   {
    "duration": 12,
    "start_time": "2023-01-07T22:46:43.212Z"
   },
   {
    "duration": 21,
    "start_time": "2023-01-07T22:46:43.225Z"
   },
   {
    "duration": 31,
    "start_time": "2023-01-07T22:46:43.247Z"
   },
   {
    "duration": 23,
    "start_time": "2023-01-07T22:46:43.279Z"
   },
   {
    "duration": 1129,
    "start_time": "2023-01-07T22:46:58.262Z"
   },
   {
    "duration": 931,
    "start_time": "2023-01-07T22:46:59.393Z"
   },
   {
    "duration": 11,
    "start_time": "2023-01-07T22:47:00.325Z"
   },
   {
    "duration": 27,
    "start_time": "2023-01-07T22:47:00.338Z"
   },
   {
    "duration": 39,
    "start_time": "2023-01-07T22:47:00.366Z"
   },
   {
    "duration": 30,
    "start_time": "2023-01-07T22:47:00.407Z"
   },
   {
    "duration": 27,
    "start_time": "2023-01-07T22:47:00.439Z"
   },
   {
    "duration": 70,
    "start_time": "2023-01-07T22:47:00.467Z"
   },
   {
    "duration": 9,
    "start_time": "2023-01-07T22:47:00.538Z"
   },
   {
    "duration": 44,
    "start_time": "2023-01-07T22:47:00.549Z"
   },
   {
    "duration": 14,
    "start_time": "2023-01-07T22:47:00.594Z"
   },
   {
    "duration": 47,
    "start_time": "2023-01-07T22:47:00.609Z"
   },
   {
    "duration": 244,
    "start_time": "2023-01-07T22:47:00.657Z"
   },
   {
    "duration": 9,
    "start_time": "2023-01-07T22:47:00.903Z"
   },
   {
    "duration": 7,
    "start_time": "2023-01-07T22:47:00.921Z"
   },
   {
    "duration": 31,
    "start_time": "2023-01-07T22:47:00.930Z"
   },
   {
    "duration": 97,
    "start_time": "2023-01-07T22:47:00.962Z"
   },
   {
    "duration": 7,
    "start_time": "2023-01-07T22:47:01.061Z"
   },
   {
    "duration": 34,
    "start_time": "2023-01-07T22:47:01.070Z"
   },
   {
    "duration": 59,
    "start_time": "2023-01-07T22:47:01.106Z"
   },
   {
    "duration": 115,
    "start_time": "2023-01-07T22:47:01.166Z"
   },
   {
    "duration": 6,
    "start_time": "2023-01-07T22:47:01.282Z"
   },
   {
    "duration": 98,
    "start_time": "2023-01-07T22:47:01.289Z"
   },
   {
    "duration": 7,
    "start_time": "2023-01-07T22:47:01.389Z"
   },
   {
    "duration": 31,
    "start_time": "2023-01-07T22:47:01.397Z"
   },
   {
    "duration": 81,
    "start_time": "2023-01-07T22:47:01.429Z"
   },
   {
    "duration": 146,
    "start_time": "2023-01-07T22:47:01.512Z"
   },
   {
    "duration": 5,
    "start_time": "2023-01-07T22:47:01.662Z"
   },
   {
    "duration": 26,
    "start_time": "2023-01-07T22:47:01.668Z"
   },
   {
    "duration": 81,
    "start_time": "2023-01-07T22:47:01.696Z"
   },
   {
    "duration": 44,
    "start_time": "2023-01-07T22:47:01.778Z"
   },
   {
    "duration": 10,
    "start_time": "2023-01-07T22:47:01.824Z"
   },
   {
    "duration": 15,
    "start_time": "2023-01-07T22:47:01.835Z"
   },
   {
    "duration": 38,
    "start_time": "2023-01-07T22:47:01.852Z"
   },
   {
    "duration": 10,
    "start_time": "2023-01-07T22:47:01.891Z"
   },
   {
    "duration": 346,
    "start_time": "2023-01-07T22:47:01.902Z"
   },
   {
    "duration": 9,
    "start_time": "2023-01-07T22:47:02.250Z"
   },
   {
    "duration": 180,
    "start_time": "2023-01-07T22:47:02.261Z"
   },
   {
    "duration": 17,
    "start_time": "2023-01-07T22:47:02.442Z"
   },
   {
    "duration": 30,
    "start_time": "2023-01-07T22:47:02.461Z"
   },
   {
    "duration": 36,
    "start_time": "2023-01-07T22:47:02.492Z"
   },
   {
    "duration": 5,
    "start_time": "2023-01-07T22:47:02.529Z"
   },
   {
    "duration": 17,
    "start_time": "2023-01-07T22:47:02.535Z"
   },
   {
    "duration": 15,
    "start_time": "2023-01-07T22:47:02.554Z"
   },
   {
    "duration": 34,
    "start_time": "2023-01-07T22:47:02.571Z"
   },
   {
    "duration": 596,
    "start_time": "2023-01-07T22:47:02.607Z"
   },
   {
    "duration": 9,
    "start_time": "2023-01-07T22:47:03.205Z"
   },
   {
    "duration": 25,
    "start_time": "2023-01-07T22:47:03.223Z"
   },
   {
    "duration": 132,
    "start_time": "2023-01-07T22:47:03.250Z"
   },
   {
    "duration": 16,
    "start_time": "2023-01-07T22:47:03.384Z"
   },
   {
    "duration": 21,
    "start_time": "2023-01-07T22:47:03.401Z"
   },
   {
    "duration": 46,
    "start_time": "2023-01-07T22:47:03.423Z"
   },
   {
    "duration": 22,
    "start_time": "2023-01-07T22:47:03.470Z"
   },
   {
    "duration": 289,
    "start_time": "2023-01-07T22:47:03.494Z"
   },
   {
    "duration": 459,
    "start_time": "2023-01-07T22:47:03.784Z"
   },
   {
    "duration": 8,
    "start_time": "2023-01-07T22:47:04.244Z"
   },
   {
    "duration": 12,
    "start_time": "2023-01-07T22:47:04.254Z"
   },
   {
    "duration": 5,
    "start_time": "2023-01-07T22:47:04.268Z"
   },
   {
    "duration": 360,
    "start_time": "2023-01-07T22:47:04.274Z"
   },
   {
    "duration": 137,
    "start_time": "2023-01-07T22:47:04.636Z"
   },
   {
    "duration": 5,
    "start_time": "2023-01-07T22:47:04.775Z"
   },
   {
    "duration": 10,
    "start_time": "2023-01-07T22:47:04.782Z"
   },
   {
    "duration": 11,
    "start_time": "2023-01-07T22:47:04.793Z"
   },
   {
    "duration": 36,
    "start_time": "2023-01-07T22:47:04.805Z"
   },
   {
    "duration": 6,
    "start_time": "2023-01-07T22:48:04.333Z"
   },
   {
    "duration": 5,
    "start_time": "2023-01-07T22:48:04.761Z"
   },
   {
    "duration": 13,
    "start_time": "2023-01-07T22:48:05.210Z"
   },
   {
    "duration": 60,
    "start_time": "2023-01-07T22:48:47.087Z"
   },
   {
    "duration": 6,
    "start_time": "2023-01-07T22:49:38.745Z"
   },
   {
    "duration": 5,
    "start_time": "2023-01-07T22:49:39.122Z"
   },
   {
    "duration": 11,
    "start_time": "2023-01-07T22:49:39.500Z"
   },
   {
    "duration": 24,
    "start_time": "2023-01-07T22:49:48.864Z"
   },
   {
    "duration": 145,
    "start_time": "2023-01-07T22:50:29.883Z"
   },
   {
    "duration": 5,
    "start_time": "2023-01-07T22:50:32.224Z"
   },
   {
    "duration": 5,
    "start_time": "2023-01-07T22:50:32.616Z"
   },
   {
    "duration": 10,
    "start_time": "2023-01-07T22:50:32.881Z"
   },
   {
    "duration": 24,
    "start_time": "2023-01-07T22:50:33.313Z"
   },
   {
    "duration": 6,
    "start_time": "2023-01-07T23:01:43.356Z"
   },
   {
    "duration": 5,
    "start_time": "2023-01-07T23:01:43.821Z"
   },
   {
    "duration": 11,
    "start_time": "2023-01-07T23:01:44.311Z"
   },
   {
    "duration": 23,
    "start_time": "2023-01-07T23:01:44.994Z"
   },
   {
    "duration": 6,
    "start_time": "2023-01-07T23:02:58.531Z"
   },
   {
    "duration": 5,
    "start_time": "2023-01-07T23:02:58.967Z"
   },
   {
    "duration": 10,
    "start_time": "2023-01-07T23:02:59.516Z"
   },
   {
    "duration": 24,
    "start_time": "2023-01-07T23:02:59.713Z"
   },
   {
    "duration": 7,
    "start_time": "2023-01-07T23:05:06.494Z"
   },
   {
    "duration": 4,
    "start_time": "2023-01-07T23:05:06.880Z"
   },
   {
    "duration": 11,
    "start_time": "2023-01-07T23:05:07.334Z"
   },
   {
    "duration": 17,
    "start_time": "2023-01-07T23:05:08.013Z"
   },
   {
    "duration": 6,
    "start_time": "2023-01-07T23:05:21.761Z"
   },
   {
    "duration": 5,
    "start_time": "2023-01-07T23:05:22.172Z"
   },
   {
    "duration": 10,
    "start_time": "2023-01-07T23:05:22.613Z"
   },
   {
    "duration": 21,
    "start_time": "2023-01-07T23:05:23.132Z"
   },
   {
    "duration": 8,
    "start_time": "2023-01-07T23:06:00.934Z"
   },
   {
    "duration": 6,
    "start_time": "2023-01-07T23:06:01.351Z"
   },
   {
    "duration": 10,
    "start_time": "2023-01-07T23:06:01.698Z"
   },
   {
    "duration": 24,
    "start_time": "2023-01-07T23:06:02.059Z"
   },
   {
    "duration": 7,
    "start_time": "2023-01-07T23:07:22.985Z"
   },
   {
    "duration": 5,
    "start_time": "2023-01-07T23:07:23.484Z"
   },
   {
    "duration": 10,
    "start_time": "2023-01-07T23:07:23.891Z"
   },
   {
    "duration": 21,
    "start_time": "2023-01-07T23:07:24.184Z"
   },
   {
    "duration": 7,
    "start_time": "2023-01-07T23:07:35.484Z"
   },
   {
    "duration": 5,
    "start_time": "2023-01-07T23:07:35.899Z"
   },
   {
    "duration": 10,
    "start_time": "2023-01-07T23:07:36.448Z"
   },
   {
    "duration": 25,
    "start_time": "2023-01-07T23:07:36.826Z"
   },
   {
    "duration": 6,
    "start_time": "2023-01-07T23:08:35.581Z"
   },
   {
    "duration": 5,
    "start_time": "2023-01-07T23:08:36.173Z"
   },
   {
    "duration": 10,
    "start_time": "2023-01-07T23:08:36.876Z"
   },
   {
    "duration": 24,
    "start_time": "2023-01-07T23:08:37.449Z"
   },
   {
    "duration": 6,
    "start_time": "2023-01-07T23:24:31.911Z"
   },
   {
    "duration": 4,
    "start_time": "2023-01-07T23:24:32.332Z"
   },
   {
    "duration": 10,
    "start_time": "2023-01-07T23:24:32.809Z"
   },
   {
    "duration": 24,
    "start_time": "2023-01-07T23:24:33.472Z"
   },
   {
    "duration": 1124,
    "start_time": "2023-01-07T23:24:42.970Z"
   },
   {
    "duration": 1263,
    "start_time": "2023-01-07T23:24:44.096Z"
   },
   {
    "duration": 12,
    "start_time": "2023-01-07T23:24:45.360Z"
   },
   {
    "duration": 11,
    "start_time": "2023-01-07T23:24:45.374Z"
   },
   {
    "duration": 19,
    "start_time": "2023-01-07T23:24:45.387Z"
   },
   {
    "duration": 25,
    "start_time": "2023-01-07T23:24:45.408Z"
   },
   {
    "duration": 13,
    "start_time": "2023-01-07T23:24:45.435Z"
   },
   {
    "duration": 80,
    "start_time": "2023-01-07T23:24:45.450Z"
   },
   {
    "duration": 8,
    "start_time": "2023-01-07T23:24:45.532Z"
   },
   {
    "duration": 28,
    "start_time": "2023-01-07T23:24:45.543Z"
   },
   {
    "duration": 8,
    "start_time": "2023-01-07T23:24:45.573Z"
   },
   {
    "duration": 34,
    "start_time": "2023-01-07T23:24:45.583Z"
   },
   {
    "duration": 256,
    "start_time": "2023-01-07T23:24:45.618Z"
   },
   {
    "duration": 8,
    "start_time": "2023-01-07T23:24:45.876Z"
   },
   {
    "duration": 4,
    "start_time": "2023-01-07T23:24:45.885Z"
   },
   {
    "duration": 13,
    "start_time": "2023-01-07T23:24:45.891Z"
   },
   {
    "duration": 52,
    "start_time": "2023-01-07T23:24:45.921Z"
   },
   {
    "duration": 8,
    "start_time": "2023-01-07T23:24:45.974Z"
   },
   {
    "duration": 12,
    "start_time": "2023-01-07T23:24:45.983Z"
   },
   {
    "duration": 49,
    "start_time": "2023-01-07T23:24:45.996Z"
   },
   {
    "duration": 92,
    "start_time": "2023-01-07T23:24:46.046Z"
   },
   {
    "duration": 5,
    "start_time": "2023-01-07T23:24:46.140Z"
   },
   {
    "duration": 53,
    "start_time": "2023-01-07T23:24:46.146Z"
   },
   {
    "duration": 23,
    "start_time": "2023-01-07T23:24:46.201Z"
   },
   {
    "duration": 20,
    "start_time": "2023-01-07T23:24:46.225Z"
   },
   {
    "duration": 28,
    "start_time": "2023-01-07T23:24:46.246Z"
   },
   {
    "duration": 154,
    "start_time": "2023-01-07T23:24:46.275Z"
   },
   {
    "duration": 4,
    "start_time": "2023-01-07T23:24:46.433Z"
   },
   {
    "duration": 13,
    "start_time": "2023-01-07T23:24:46.438Z"
   },
   {
    "duration": 40,
    "start_time": "2023-01-07T23:24:46.452Z"
   },
   {
    "duration": 4,
    "start_time": "2023-01-07T23:24:46.493Z"
   },
   {
    "duration": 28,
    "start_time": "2023-01-07T23:24:46.499Z"
   },
   {
    "duration": 7,
    "start_time": "2023-01-07T23:24:46.528Z"
   },
   {
    "duration": 35,
    "start_time": "2023-01-07T23:24:46.536Z"
   },
   {
    "duration": 10,
    "start_time": "2023-01-07T23:24:46.573Z"
   },
   {
    "duration": 347,
    "start_time": "2023-01-07T23:24:46.584Z"
   },
   {
    "duration": 9,
    "start_time": "2023-01-07T23:24:46.933Z"
   },
   {
    "duration": 189,
    "start_time": "2023-01-07T23:24:46.944Z"
   },
   {
    "duration": 17,
    "start_time": "2023-01-07T23:24:47.135Z"
   },
   {
    "duration": 6,
    "start_time": "2023-01-07T23:24:47.153Z"
   },
   {
    "duration": 24,
    "start_time": "2023-01-07T23:24:47.161Z"
   },
   {
    "duration": 15,
    "start_time": "2023-01-07T23:24:47.186Z"
   },
   {
    "duration": 15,
    "start_time": "2023-01-07T23:24:47.203Z"
   },
   {
    "duration": 16,
    "start_time": "2023-01-07T23:24:47.220Z"
   },
   {
    "duration": 33,
    "start_time": "2023-01-07T23:24:47.237Z"
   },
   {
    "duration": 503,
    "start_time": "2023-01-07T23:24:47.272Z"
   },
   {
    "duration": 9,
    "start_time": "2023-01-07T23:24:47.776Z"
   },
   {
    "duration": 24,
    "start_time": "2023-01-07T23:24:47.786Z"
   },
   {
    "duration": 127,
    "start_time": "2023-01-07T23:24:47.811Z"
   },
   {
    "duration": 15,
    "start_time": "2023-01-07T23:24:47.939Z"
   },
   {
    "duration": 15,
    "start_time": "2023-01-07T23:24:47.956Z"
   },
   {
    "duration": 56,
    "start_time": "2023-01-07T23:24:47.973Z"
   },
   {
    "duration": 26,
    "start_time": "2023-01-07T23:24:48.030Z"
   },
   {
    "duration": 275,
    "start_time": "2023-01-07T23:24:48.058Z"
   },
   {
    "duration": 414,
    "start_time": "2023-01-07T23:24:48.334Z"
   },
   {
    "duration": 8,
    "start_time": "2023-01-07T23:24:48.749Z"
   },
   {
    "duration": 18,
    "start_time": "2023-01-07T23:24:48.759Z"
   },
   {
    "duration": 6,
    "start_time": "2023-01-07T23:24:48.778Z"
   },
   {
    "duration": 367,
    "start_time": "2023-01-07T23:24:48.785Z"
   },
   {
    "duration": 134,
    "start_time": "2023-01-07T23:24:49.153Z"
   },
   {
    "duration": 6,
    "start_time": "2023-01-07T23:24:49.289Z"
   },
   {
    "duration": 13,
    "start_time": "2023-01-07T23:24:49.296Z"
   },
   {
    "duration": 18,
    "start_time": "2023-01-07T23:24:49.311Z"
   },
   {
    "duration": 147,
    "start_time": "2023-01-07T23:24:49.331Z"
   },
   {
    "duration": 25,
    "start_time": "2023-01-07T23:25:31.884Z"
   },
   {
    "duration": 7,
    "start_time": "2023-01-07T23:25:36.522Z"
   },
   {
    "duration": 5,
    "start_time": "2023-01-07T23:25:37.133Z"
   },
   {
    "duration": 6,
    "start_time": "2023-01-07T23:25:51.667Z"
   },
   {
    "duration": 5,
    "start_time": "2023-01-07T23:25:52.087Z"
   },
   {
    "duration": 11,
    "start_time": "2023-01-07T23:25:52.610Z"
   },
   {
    "duration": 7,
    "start_time": "2023-01-07T23:28:52.919Z"
   },
   {
    "duration": 5,
    "start_time": "2023-01-07T23:28:53.358Z"
   },
   {
    "duration": 11,
    "start_time": "2023-01-07T23:28:53.871Z"
   },
   {
    "duration": 24,
    "start_time": "2023-01-07T23:28:54.380Z"
   },
   {
    "duration": 56,
    "start_time": "2023-01-07T23:29:00.936Z"
   },
   {
    "duration": 5,
    "start_time": "2023-01-07T23:29:01.327Z"
   },
   {
    "duration": 7,
    "start_time": "2023-01-07T23:29:06.200Z"
   },
   {
    "duration": 5,
    "start_time": "2023-01-07T23:29:07.133Z"
   },
   {
    "duration": 10,
    "start_time": "2023-01-07T23:29:07.624Z"
   },
   {
    "duration": 25,
    "start_time": "2023-01-07T23:29:08.136Z"
   },
   {
    "duration": 6,
    "start_time": "2023-01-07T23:29:16.694Z"
   },
   {
    "duration": 5,
    "start_time": "2023-01-07T23:29:17.315Z"
   },
   {
    "duration": 10,
    "start_time": "2023-01-07T23:29:17.807Z"
   },
   {
    "duration": 24,
    "start_time": "2023-01-07T23:29:18.417Z"
   },
   {
    "duration": 7,
    "start_time": "2023-01-07T23:29:37.998Z"
   },
   {
    "duration": 5,
    "start_time": "2023-01-07T23:29:38.461Z"
   },
   {
    "duration": 11,
    "start_time": "2023-01-07T23:29:48.042Z"
   },
   {
    "duration": 26,
    "start_time": "2023-01-07T23:29:48.542Z"
   },
   {
    "duration": 6,
    "start_time": "2023-01-07T23:29:56.489Z"
   },
   {
    "duration": 5,
    "start_time": "2023-01-07T23:29:57.235Z"
   },
   {
    "duration": 5,
    "start_time": "2023-01-07T23:30:12.813Z"
   },
   {
    "duration": 11,
    "start_time": "2023-01-07T23:30:15.907Z"
   },
   {
    "duration": 50,
    "start_time": "2023-01-07T23:33:20.012Z"
   },
   {
    "duration": 7,
    "start_time": "2023-01-07T23:36:04.123Z"
   },
   {
    "duration": 5,
    "start_time": "2023-01-07T23:36:14.887Z"
   },
   {
    "duration": 11,
    "start_time": "2023-01-07T23:36:15.484Z"
   },
   {
    "duration": 24,
    "start_time": "2023-01-07T23:36:16.453Z"
   },
   {
    "duration": 3,
    "start_time": "2023-01-07T23:57:50.172Z"
   },
   {
    "duration": 1228,
    "start_time": "2023-01-07T23:58:00.293Z"
   },
   {
    "duration": 8,
    "start_time": "2023-01-07T23:58:02.491Z"
   },
   {
    "duration": 9,
    "start_time": "2023-01-07T23:58:03.057Z"
   },
   {
    "duration": 10,
    "start_time": "2023-01-07T23:58:04.135Z"
   },
   {
    "duration": 16,
    "start_time": "2023-01-07T23:58:04.768Z"
   },
   {
    "duration": 11,
    "start_time": "2023-01-07T23:58:05.836Z"
   },
   {
    "duration": 57,
    "start_time": "2023-01-07T23:58:06.933Z"
   },
   {
    "duration": 8,
    "start_time": "2023-01-07T23:58:07.832Z"
   },
   {
    "duration": 12,
    "start_time": "2023-01-07T23:58:08.309Z"
   },
   {
    "duration": 4,
    "start_time": "2023-01-07T23:58:09.751Z"
   },
   {
    "duration": 30,
    "start_time": "2023-01-07T23:58:10.175Z"
   },
   {
    "duration": 216,
    "start_time": "2023-01-07T23:58:10.847Z"
   },
   {
    "duration": 11,
    "start_time": "2023-01-07T23:58:11.359Z"
   },
   {
    "duration": 5,
    "start_time": "2023-01-07T23:58:12.602Z"
   },
   {
    "duration": 14,
    "start_time": "2023-01-07T23:58:12.789Z"
   },
   {
    "duration": 51,
    "start_time": "2023-01-07T23:58:13.328Z"
   },
   {
    "duration": 9,
    "start_time": "2023-01-07T23:58:14.157Z"
   },
   {
    "duration": 8,
    "start_time": "2023-01-07T23:58:14.550Z"
   },
   {
    "duration": 36,
    "start_time": "2023-01-07T23:58:14.954Z"
   },
   {
    "duration": 71,
    "start_time": "2023-01-07T23:58:15.367Z"
   },
   {
    "duration": 6,
    "start_time": "2023-01-07T23:58:15.958Z"
   },
   {
    "duration": 53,
    "start_time": "2023-01-07T23:58:16.944Z"
   },
   {
    "duration": 7,
    "start_time": "2023-01-07T23:58:18.139Z"
   },
   {
    "duration": 15,
    "start_time": "2023-01-07T23:58:19.560Z"
   },
   {
    "duration": 30,
    "start_time": "2023-01-07T23:58:20.140Z"
   },
   {
    "duration": 135,
    "start_time": "2023-01-07T23:58:20.617Z"
   },
   {
    "duration": 6,
    "start_time": "2023-01-07T23:58:22.778Z"
   },
   {
    "duration": 13,
    "start_time": "2023-01-07T23:58:22.972Z"
   },
   {
    "duration": 40,
    "start_time": "2023-01-07T23:58:23.904Z"
   },
   {
    "duration": 5,
    "start_time": "2023-01-07T23:58:24.285Z"
   },
   {
    "duration": 5,
    "start_time": "2023-01-07T23:58:25.303Z"
   },
   {
    "duration": 7,
    "start_time": "2023-01-07T23:58:34.455Z"
   },
   {
    "duration": 31,
    "start_time": "2023-01-07T23:58:36.235Z"
   },
   {
    "duration": 11,
    "start_time": "2023-01-07T23:58:36.690Z"
   },
   {
    "duration": 52,
    "start_time": "2023-01-07T23:58:37.062Z"
   },
   {
    "duration": 10,
    "start_time": "2023-01-07T23:58:39.234Z"
   },
   {
    "duration": 123,
    "start_time": "2023-01-07T23:58:40.626Z"
   },
   {
    "duration": 18,
    "start_time": "2023-01-07T23:58:41.068Z"
   },
   {
    "duration": 7,
    "start_time": "2023-01-07T23:58:41.536Z"
   },
   {
    "duration": 10,
    "start_time": "2023-01-07T23:58:42.737Z"
   },
   {
    "duration": 5,
    "start_time": "2023-01-07T23:58:44.156Z"
   },
   {
    "duration": 9,
    "start_time": "2023-01-07T23:58:44.601Z"
   },
   {
    "duration": 5,
    "start_time": "2023-01-07T23:58:46.072Z"
   },
   {
    "duration": 30,
    "start_time": "2023-01-07T23:58:48.402Z"
   },
   {
    "duration": 567,
    "start_time": "2023-01-07T23:58:49.023Z"
   },
   {
    "duration": 8,
    "start_time": "2023-01-07T23:58:49.929Z"
   },
   {
    "duration": 15,
    "start_time": "2023-01-07T23:58:58.728Z"
   },
   {
    "duration": 43,
    "start_time": "2023-01-07T23:58:59.868Z"
   },
   {
    "duration": 16,
    "start_time": "2023-01-07T23:59:01.223Z"
   },
   {
    "duration": 11,
    "start_time": "2023-01-07T23:59:02.072Z"
   },
   {
    "duration": 42,
    "start_time": "2023-01-07T23:59:02.932Z"
   },
   {
    "duration": 24,
    "start_time": "2023-01-07T23:59:04.215Z"
   },
   {
    "duration": 198,
    "start_time": "2023-01-07T23:59:04.430Z"
   },
   {
    "duration": 460,
    "start_time": "2023-01-07T23:59:05.863Z"
   },
   {
    "duration": 9,
    "start_time": "2023-01-07T23:59:06.353Z"
   },
   {
    "duration": 9,
    "start_time": "2023-01-07T23:59:07.206Z"
   },
   {
    "duration": 7,
    "start_time": "2023-01-07T23:59:28.301Z"
   },
   {
    "duration": 321,
    "start_time": "2023-01-07T23:59:29.686Z"
   },
   {
    "duration": 127,
    "start_time": "2023-01-07T23:59:30.668Z"
   },
   {
    "duration": 6,
    "start_time": "2023-01-07T23:59:44.323Z"
   },
   {
    "duration": 5,
    "start_time": "2023-01-07T23:59:45.234Z"
   },
   {
    "duration": 10,
    "start_time": "2023-01-07T23:59:46.117Z"
   },
   {
    "duration": 24,
    "start_time": "2023-01-07T23:59:47.288Z"
   },
   {
    "duration": 1595,
    "start_time": "2023-01-08T00:00:03.017Z"
   },
   {
    "duration": 1105,
    "start_time": "2023-01-08T00:00:04.613Z"
   },
   {
    "duration": 12,
    "start_time": "2023-01-08T00:00:05.719Z"
   },
   {
    "duration": 20,
    "start_time": "2023-01-08T00:00:05.733Z"
   },
   {
    "duration": 16,
    "start_time": "2023-01-08T00:00:05.754Z"
   },
   {
    "duration": 23,
    "start_time": "2023-01-08T00:00:05.772Z"
   },
   {
    "duration": 11,
    "start_time": "2023-01-08T00:00:05.797Z"
   },
   {
    "duration": 71,
    "start_time": "2023-01-08T00:00:05.809Z"
   },
   {
    "duration": 9,
    "start_time": "2023-01-08T00:00:05.881Z"
   },
   {
    "duration": 18,
    "start_time": "2023-01-08T00:00:05.892Z"
   },
   {
    "duration": 6,
    "start_time": "2023-01-08T00:00:05.911Z"
   },
   {
    "duration": 28,
    "start_time": "2023-01-08T00:00:05.920Z"
   },
   {
    "duration": 256,
    "start_time": "2023-01-08T00:00:05.949Z"
   },
   {
    "duration": 18,
    "start_time": "2023-01-08T00:00:06.206Z"
   },
   {
    "duration": 4,
    "start_time": "2023-01-08T00:00:06.226Z"
   },
   {
    "duration": 18,
    "start_time": "2023-01-08T00:00:06.231Z"
   },
   {
    "duration": 57,
    "start_time": "2023-01-08T00:00:06.250Z"
   },
   {
    "duration": 17,
    "start_time": "2023-01-08T00:00:06.309Z"
   },
   {
    "duration": 12,
    "start_time": "2023-01-08T00:00:06.328Z"
   },
   {
    "duration": 35,
    "start_time": "2023-01-08T00:00:06.342Z"
   },
   {
    "duration": 108,
    "start_time": "2023-01-08T00:00:06.379Z"
   },
   {
    "duration": 6,
    "start_time": "2023-01-08T00:00:06.489Z"
   },
   {
    "duration": 73,
    "start_time": "2023-01-08T00:00:06.496Z"
   },
   {
    "duration": 7,
    "start_time": "2023-01-08T00:00:06.571Z"
   },
   {
    "duration": 18,
    "start_time": "2023-01-08T00:00:06.580Z"
   },
   {
    "duration": 43,
    "start_time": "2023-01-08T00:00:06.599Z"
   },
   {
    "duration": 142,
    "start_time": "2023-01-08T00:00:06.643Z"
   },
   {
    "duration": 4,
    "start_time": "2023-01-08T00:00:06.788Z"
   },
   {
    "duration": 27,
    "start_time": "2023-01-08T00:00:06.794Z"
   },
   {
    "duration": 38,
    "start_time": "2023-01-08T00:00:06.822Z"
   },
   {
    "duration": 4,
    "start_time": "2023-01-08T00:00:06.861Z"
   },
   {
    "duration": 19,
    "start_time": "2023-01-08T00:00:06.867Z"
   },
   {
    "duration": 9,
    "start_time": "2023-01-08T00:00:06.887Z"
   },
   {
    "duration": 40,
    "start_time": "2023-01-08T00:00:06.897Z"
   },
   {
    "duration": 9,
    "start_time": "2023-01-08T00:00:06.938Z"
   },
   {
    "duration": 343,
    "start_time": "2023-01-08T00:00:06.948Z"
   },
   {
    "duration": 9,
    "start_time": "2023-01-08T00:00:07.293Z"
   },
   {
    "duration": 185,
    "start_time": "2023-01-08T00:00:07.304Z"
   },
   {
    "duration": 16,
    "start_time": "2023-01-08T00:00:07.490Z"
   },
   {
    "duration": 14,
    "start_time": "2023-01-08T00:00:07.508Z"
   },
   {
    "duration": 11,
    "start_time": "2023-01-08T00:00:07.523Z"
   },
   {
    "duration": 11,
    "start_time": "2023-01-08T00:00:07.536Z"
   },
   {
    "duration": 13,
    "start_time": "2023-01-08T00:00:07.548Z"
   },
   {
    "duration": 10,
    "start_time": "2023-01-08T00:00:07.563Z"
   },
   {
    "duration": 38,
    "start_time": "2023-01-08T00:00:07.575Z"
   },
   {
    "duration": 470,
    "start_time": "2023-01-08T00:00:07.615Z"
   },
   {
    "duration": 9,
    "start_time": "2023-01-08T00:00:08.086Z"
   },
   {
    "duration": 17,
    "start_time": "2023-01-08T00:00:08.096Z"
   },
   {
    "duration": 125,
    "start_time": "2023-01-08T00:00:08.121Z"
   },
   {
    "duration": 15,
    "start_time": "2023-01-08T00:00:08.247Z"
   },
   {
    "duration": 11,
    "start_time": "2023-01-08T00:00:08.263Z"
   },
   {
    "duration": 64,
    "start_time": "2023-01-08T00:00:08.275Z"
   },
   {
    "duration": 24,
    "start_time": "2023-01-08T00:00:08.341Z"
   },
   {
    "duration": 286,
    "start_time": "2023-01-08T00:00:08.367Z"
   },
   {
    "duration": 419,
    "start_time": "2023-01-08T00:00:08.655Z"
   },
   {
    "duration": 8,
    "start_time": "2023-01-08T00:00:09.075Z"
   },
   {
    "duration": 17,
    "start_time": "2023-01-08T00:00:09.084Z"
   },
   {
    "duration": 19,
    "start_time": "2023-01-08T00:00:09.102Z"
   },
   {
    "duration": 355,
    "start_time": "2023-01-08T00:00:09.123Z"
   },
   {
    "duration": 129,
    "start_time": "2023-01-08T00:00:09.480Z"
   },
   {
    "duration": 12,
    "start_time": "2023-01-08T00:00:09.610Z"
   },
   {
    "duration": 16,
    "start_time": "2023-01-08T00:00:09.624Z"
   },
   {
    "duration": 15,
    "start_time": "2023-01-08T00:00:09.642Z"
   },
   {
    "duration": 24,
    "start_time": "2023-01-08T00:00:09.659Z"
   },
   {
    "duration": 3,
    "start_time": "2023-01-08T00:01:40.478Z"
   },
   {
    "duration": 941,
    "start_time": "2023-01-08T00:01:40.483Z"
   },
   {
    "duration": 9,
    "start_time": "2023-01-08T00:01:41.425Z"
   },
   {
    "duration": 14,
    "start_time": "2023-01-08T00:01:41.435Z"
   },
   {
    "duration": 13,
    "start_time": "2023-01-08T00:01:41.450Z"
   },
   {
    "duration": 21,
    "start_time": "2023-01-08T00:01:41.464Z"
   },
   {
    "duration": 17,
    "start_time": "2023-01-08T00:01:41.486Z"
   },
   {
    "duration": 75,
    "start_time": "2023-01-08T00:01:41.505Z"
   },
   {
    "duration": 8,
    "start_time": "2023-01-08T00:01:41.582Z"
   },
   {
    "duration": 18,
    "start_time": "2023-01-08T00:01:41.593Z"
   },
   {
    "duration": 4,
    "start_time": "2023-01-08T00:01:41.621Z"
   },
   {
    "duration": 33,
    "start_time": "2023-01-08T00:01:41.626Z"
   },
   {
    "duration": 218,
    "start_time": "2023-01-08T00:01:41.660Z"
   },
   {
    "duration": 8,
    "start_time": "2023-01-08T00:01:41.880Z"
   },
   {
    "duration": 4,
    "start_time": "2023-01-08T00:01:41.890Z"
   },
   {
    "duration": 26,
    "start_time": "2023-01-08T00:01:41.895Z"
   },
   {
    "duration": 52,
    "start_time": "2023-01-08T00:01:41.922Z"
   },
   {
    "duration": 7,
    "start_time": "2023-01-08T00:01:41.976Z"
   },
   {
    "duration": 12,
    "start_time": "2023-01-08T00:01:41.984Z"
   },
   {
    "duration": 49,
    "start_time": "2023-01-08T00:01:41.998Z"
   },
   {
    "duration": 80,
    "start_time": "2023-01-08T00:01:42.049Z"
   },
   {
    "duration": 6,
    "start_time": "2023-01-08T00:01:42.131Z"
   },
   {
    "duration": 59,
    "start_time": "2023-01-08T00:01:42.139Z"
   },
   {
    "duration": 23,
    "start_time": "2023-01-08T00:01:42.200Z"
   },
   {
    "duration": 27,
    "start_time": "2023-01-08T00:01:42.225Z"
   },
   {
    "duration": 29,
    "start_time": "2023-01-08T00:01:42.253Z"
   },
   {
    "duration": 149,
    "start_time": "2023-01-08T00:01:42.284Z"
   },
   {
    "duration": 5,
    "start_time": "2023-01-08T00:01:42.437Z"
   },
   {
    "duration": 18,
    "start_time": "2023-01-08T00:01:42.444Z"
   },
   {
    "duration": 37,
    "start_time": "2023-01-08T00:01:42.464Z"
   },
   {
    "duration": 20,
    "start_time": "2023-01-08T00:01:42.503Z"
   },
   {
    "duration": 9,
    "start_time": "2023-01-08T00:01:42.524Z"
   },
   {
    "duration": 7,
    "start_time": "2023-01-08T00:01:42.534Z"
   },
   {
    "duration": 34,
    "start_time": "2023-01-08T00:01:42.542Z"
   },
   {
    "duration": 9,
    "start_time": "2023-01-08T00:01:42.578Z"
   },
   {
    "duration": 76,
    "start_time": "2023-01-08T00:01:42.589Z"
   },
   {
    "duration": 9,
    "start_time": "2023-01-08T00:01:42.666Z"
   },
   {
    "duration": 121,
    "start_time": "2023-01-08T00:01:42.676Z"
   },
   {
    "duration": 27,
    "start_time": "2023-01-08T00:01:42.799Z"
   },
   {
    "duration": 7,
    "start_time": "2023-01-08T00:01:42.827Z"
   },
   {
    "duration": 19,
    "start_time": "2023-01-08T00:01:42.836Z"
   },
   {
    "duration": 5,
    "start_time": "2023-01-08T00:01:42.857Z"
   },
   {
    "duration": 11,
    "start_time": "2023-01-08T00:01:42.864Z"
   },
   {
    "duration": 9,
    "start_time": "2023-01-08T00:01:42.876Z"
   },
   {
    "duration": 51,
    "start_time": "2023-01-08T00:01:42.886Z"
   },
   {
    "duration": 546,
    "start_time": "2023-01-08T00:01:42.939Z"
   },
   {
    "duration": 8,
    "start_time": "2023-01-08T00:01:43.487Z"
   },
   {
    "duration": 30,
    "start_time": "2023-01-08T00:01:43.497Z"
   },
   {
    "duration": 42,
    "start_time": "2023-01-08T00:01:43.528Z"
   },
   {
    "duration": 14,
    "start_time": "2023-01-08T00:01:43.572Z"
   },
   {
    "duration": 33,
    "start_time": "2023-01-08T00:01:43.588Z"
   },
   {
    "duration": 44,
    "start_time": "2023-01-08T00:01:43.623Z"
   },
   {
    "duration": 24,
    "start_time": "2023-01-08T00:01:43.668Z"
   },
   {
    "duration": 222,
    "start_time": "2023-01-08T00:01:43.693Z"
   },
   {
    "duration": 460,
    "start_time": "2023-01-08T00:01:43.916Z"
   },
   {
    "duration": 8,
    "start_time": "2023-01-08T00:01:44.378Z"
   },
   {
    "duration": 12,
    "start_time": "2023-01-08T00:01:44.387Z"
   },
   {
    "duration": 20,
    "start_time": "2023-01-08T00:01:44.401Z"
   },
   {
    "duration": 366,
    "start_time": "2023-01-08T00:01:44.423Z"
   },
   {
    "duration": 130,
    "start_time": "2023-01-08T00:01:44.791Z"
   },
   {
    "duration": 6,
    "start_time": "2023-01-08T00:01:44.922Z"
   },
   {
    "duration": 16,
    "start_time": "2023-01-08T00:01:44.930Z"
   },
   {
    "duration": 13,
    "start_time": "2023-01-08T00:01:44.947Z"
   },
   {
    "duration": 23,
    "start_time": "2023-01-08T00:01:44.962Z"
   },
   {
    "duration": 6,
    "start_time": "2023-01-08T00:06:21.414Z"
   },
   {
    "duration": 5,
    "start_time": "2023-01-08T00:06:22.351Z"
   },
   {
    "duration": 11,
    "start_time": "2023-01-08T00:06:22.832Z"
   },
   {
    "duration": 23,
    "start_time": "2023-01-08T00:06:24.605Z"
   },
   {
    "duration": 1190,
    "start_time": "2023-01-08T00:08:32.797Z"
   },
   {
    "duration": 1030,
    "start_time": "2023-01-08T00:08:33.988Z"
   },
   {
    "duration": 12,
    "start_time": "2023-01-08T00:08:35.019Z"
   },
   {
    "duration": 12,
    "start_time": "2023-01-08T00:08:35.033Z"
   },
   {
    "duration": 18,
    "start_time": "2023-01-08T00:08:35.046Z"
   },
   {
    "duration": 19,
    "start_time": "2023-01-08T00:08:35.065Z"
   },
   {
    "duration": 17,
    "start_time": "2023-01-08T00:08:35.086Z"
   },
   {
    "duration": 75,
    "start_time": "2023-01-08T00:08:35.104Z"
   },
   {
    "duration": 11,
    "start_time": "2023-01-08T00:08:35.181Z"
   },
   {
    "duration": 40,
    "start_time": "2023-01-08T00:08:35.194Z"
   },
   {
    "duration": 15,
    "start_time": "2023-01-08T00:08:35.236Z"
   },
   {
    "duration": 30,
    "start_time": "2023-01-08T00:08:35.253Z"
   },
   {
    "duration": 256,
    "start_time": "2023-01-08T00:08:35.284Z"
   },
   {
    "duration": 10,
    "start_time": "2023-01-08T00:08:35.542Z"
   },
   {
    "duration": 5,
    "start_time": "2023-01-08T00:08:35.553Z"
   },
   {
    "duration": 19,
    "start_time": "2023-01-08T00:08:35.560Z"
   },
   {
    "duration": 70,
    "start_time": "2023-01-08T00:08:35.580Z"
   },
   {
    "duration": 8,
    "start_time": "2023-01-08T00:08:35.652Z"
   },
   {
    "duration": 14,
    "start_time": "2023-01-08T00:08:35.661Z"
   },
   {
    "duration": 46,
    "start_time": "2023-01-08T00:08:35.676Z"
   },
   {
    "duration": 77,
    "start_time": "2023-01-08T00:08:35.723Z"
   },
   {
    "duration": 19,
    "start_time": "2023-01-08T00:08:35.802Z"
   },
   {
    "duration": 54,
    "start_time": "2023-01-08T00:08:35.822Z"
   },
   {
    "duration": 7,
    "start_time": "2023-01-08T00:08:35.877Z"
   },
   {
    "duration": 38,
    "start_time": "2023-01-08T00:08:35.886Z"
   },
   {
    "duration": 28,
    "start_time": "2023-01-08T00:08:35.925Z"
   },
   {
    "duration": 141,
    "start_time": "2023-01-08T00:08:35.955Z"
   },
   {
    "duration": 4,
    "start_time": "2023-01-08T00:08:36.100Z"
   },
   {
    "duration": 23,
    "start_time": "2023-01-08T00:08:36.105Z"
   },
   {
    "duration": 37,
    "start_time": "2023-01-08T00:08:36.129Z"
   },
   {
    "duration": 5,
    "start_time": "2023-01-08T00:08:36.167Z"
   },
   {
    "duration": 15,
    "start_time": "2023-01-08T00:08:36.173Z"
   },
   {
    "duration": 11,
    "start_time": "2023-01-08T00:08:36.189Z"
   },
   {
    "duration": 44,
    "start_time": "2023-01-08T00:08:36.201Z"
   },
   {
    "duration": 10,
    "start_time": "2023-01-08T00:08:36.247Z"
   },
   {
    "duration": 371,
    "start_time": "2023-01-08T00:08:36.258Z"
   },
   {
    "duration": 13,
    "start_time": "2023-01-08T00:08:36.630Z"
   },
   {
    "duration": 215,
    "start_time": "2023-01-08T00:08:36.645Z"
   },
   {
    "duration": 16,
    "start_time": "2023-01-08T00:08:36.862Z"
   },
   {
    "duration": 6,
    "start_time": "2023-01-08T00:08:36.879Z"
   },
   {
    "duration": 10,
    "start_time": "2023-01-08T00:08:36.886Z"
   },
   {
    "duration": 26,
    "start_time": "2023-01-08T00:08:36.897Z"
   },
   {
    "duration": 13,
    "start_time": "2023-01-08T00:08:36.925Z"
   },
   {
    "duration": 17,
    "start_time": "2023-01-08T00:08:36.939Z"
   },
   {
    "duration": 35,
    "start_time": "2023-01-08T00:08:36.958Z"
   },
   {
    "duration": 496,
    "start_time": "2023-01-08T00:08:36.994Z"
   },
   {
    "duration": 8,
    "start_time": "2023-01-08T00:08:37.492Z"
   },
   {
    "duration": 23,
    "start_time": "2023-01-08T00:08:37.502Z"
   },
   {
    "duration": 120,
    "start_time": "2023-01-08T00:08:37.527Z"
   },
   {
    "duration": 14,
    "start_time": "2023-01-08T00:08:37.649Z"
   },
   {
    "duration": 9,
    "start_time": "2023-01-08T00:08:37.665Z"
   },
   {
    "duration": 64,
    "start_time": "2023-01-08T00:08:37.676Z"
   },
   {
    "duration": 24,
    "start_time": "2023-01-08T00:08:37.742Z"
   },
   {
    "duration": 279,
    "start_time": "2023-01-08T00:08:37.767Z"
   },
   {
    "duration": 435,
    "start_time": "2023-01-08T00:08:38.048Z"
   },
   {
    "duration": 8,
    "start_time": "2023-01-08T00:08:38.485Z"
   },
   {
    "duration": 30,
    "start_time": "2023-01-08T00:08:38.495Z"
   },
   {
    "duration": 6,
    "start_time": "2023-01-08T00:08:38.527Z"
   },
   {
    "duration": 379,
    "start_time": "2023-01-08T00:08:38.535Z"
   },
   {
    "duration": 138,
    "start_time": "2023-01-08T00:08:38.920Z"
   },
   {
    "duration": 6,
    "start_time": "2023-01-08T00:08:39.060Z"
   },
   {
    "duration": 11,
    "start_time": "2023-01-08T00:08:39.067Z"
   },
   {
    "duration": 14,
    "start_time": "2023-01-08T00:08:39.079Z"
   },
   {
    "duration": 37,
    "start_time": "2023-01-08T00:08:39.095Z"
   },
   {
    "duration": 4,
    "start_time": "2023-01-08T00:08:52.050Z"
   },
   {
    "duration": 1069,
    "start_time": "2023-01-08T00:08:52.596Z"
   },
   {
    "duration": 8,
    "start_time": "2023-01-08T00:08:53.667Z"
   },
   {
    "duration": 8,
    "start_time": "2023-01-08T00:08:53.810Z"
   },
   {
    "duration": 10,
    "start_time": "2023-01-08T00:08:55.602Z"
   },
   {
    "duration": 17,
    "start_time": "2023-01-08T00:08:56.010Z"
   },
   {
    "duration": 11,
    "start_time": "2023-01-08T00:08:57.071Z"
   },
   {
    "duration": 58,
    "start_time": "2023-01-08T00:08:58.361Z"
   },
   {
    "duration": 10,
    "start_time": "2023-01-08T00:08:59.841Z"
   },
   {
    "duration": 11,
    "start_time": "2023-01-08T00:09:00.676Z"
   },
   {
    "duration": 4,
    "start_time": "2023-01-08T00:09:02.601Z"
   },
   {
    "duration": 29,
    "start_time": "2023-01-08T00:09:03.031Z"
   },
   {
    "duration": 224,
    "start_time": "2023-01-08T00:09:03.522Z"
   },
   {
    "duration": 9,
    "start_time": "2023-01-08T00:09:04.003Z"
   },
   {
    "duration": 5,
    "start_time": "2023-01-08T00:09:05.321Z"
   },
   {
    "duration": 14,
    "start_time": "2023-01-08T00:09:05.736Z"
   },
   {
    "duration": 56,
    "start_time": "2023-01-08T00:09:06.148Z"
   },
   {
    "duration": 8,
    "start_time": "2023-01-08T00:09:07.119Z"
   },
   {
    "duration": 9,
    "start_time": "2023-01-08T00:09:07.615Z"
   },
   {
    "duration": 36,
    "start_time": "2023-01-08T00:09:08.246Z"
   },
   {
    "duration": 70,
    "start_time": "2023-01-08T00:09:08.743Z"
   },
   {
    "duration": 6,
    "start_time": "2023-01-08T00:09:09.490Z"
   },
   {
    "duration": 52,
    "start_time": "2023-01-08T00:09:10.784Z"
   },
   {
    "duration": 7,
    "start_time": "2023-01-08T00:09:11.737Z"
   },
   {
    "duration": 17,
    "start_time": "2023-01-08T00:09:12.849Z"
   },
   {
    "duration": 30,
    "start_time": "2023-01-08T00:09:13.413Z"
   },
   {
    "duration": 133,
    "start_time": "2023-01-08T00:09:14.043Z"
   },
   {
    "duration": 5,
    "start_time": "2023-01-08T00:09:16.261Z"
   },
   {
    "duration": 15,
    "start_time": "2023-01-08T00:09:16.566Z"
   },
   {
    "duration": 39,
    "start_time": "2023-01-08T00:09:16.929Z"
   },
   {
    "duration": 5,
    "start_time": "2023-01-08T00:09:17.307Z"
   },
   {
    "duration": 5,
    "start_time": "2023-01-08T00:09:18.033Z"
   },
   {
    "duration": 6,
    "start_time": "2023-01-08T00:09:19.178Z"
   },
   {
    "duration": 34,
    "start_time": "2023-01-08T00:09:20.331Z"
   },
   {
    "duration": 11,
    "start_time": "2023-01-08T00:09:20.755Z"
   },
   {
    "duration": 54,
    "start_time": "2023-01-08T00:09:21.152Z"
   },
   {
    "duration": 11,
    "start_time": "2023-01-08T00:09:22.408Z"
   },
   {
    "duration": 104,
    "start_time": "2023-01-08T00:09:25.008Z"
   },
   {
    "duration": 18,
    "start_time": "2023-01-08T00:09:29.399Z"
   },
   {
    "duration": 8,
    "start_time": "2023-01-08T00:09:31.486Z"
   },
   {
    "duration": 10,
    "start_time": "2023-01-08T00:09:34.059Z"
   },
   {
    "duration": 5,
    "start_time": "2023-01-08T00:09:35.993Z"
   },
   {
    "duration": 9,
    "start_time": "2023-01-08T00:09:36.474Z"
   },
   {
    "duration": 4,
    "start_time": "2023-01-08T00:09:37.667Z"
   },
   {
    "duration": 32,
    "start_time": "2023-01-08T00:09:45.845Z"
   },
   {
    "duration": 514,
    "start_time": "2023-01-08T00:09:46.565Z"
   },
   {
    "duration": 10,
    "start_time": "2023-01-08T00:09:47.912Z"
   },
   {
    "duration": 14,
    "start_time": "2023-01-08T00:09:54.537Z"
   },
   {
    "duration": 42,
    "start_time": "2023-01-08T00:09:55.811Z"
   },
   {
    "duration": 15,
    "start_time": "2023-01-08T00:10:01.100Z"
   },
   {
    "duration": 11,
    "start_time": "2023-01-08T00:10:02.352Z"
   },
   {
    "duration": 43,
    "start_time": "2023-01-08T00:10:03.432Z"
   },
   {
    "duration": 23,
    "start_time": "2023-01-08T00:10:05.016Z"
   },
   {
    "duration": 195,
    "start_time": "2023-01-08T00:10:05.649Z"
   },
   {
    "duration": 423,
    "start_time": "2023-01-08T00:10:07.689Z"
   },
   {
    "duration": 8,
    "start_time": "2023-01-08T00:10:08.336Z"
   },
   {
    "duration": 9,
    "start_time": "2023-01-08T00:10:09.340Z"
   },
   {
    "duration": 6,
    "start_time": "2023-01-08T00:10:10.869Z"
   },
   {
    "duration": 356,
    "start_time": "2023-01-08T00:10:12.880Z"
   },
   {
    "duration": 141,
    "start_time": "2023-01-08T00:10:13.918Z"
   },
   {
    "duration": 7,
    "start_time": "2023-01-08T00:10:19.227Z"
   },
   {
    "duration": 5,
    "start_time": "2023-01-08T00:10:20.211Z"
   },
   {
    "duration": 10,
    "start_time": "2023-01-08T00:10:21.111Z"
   },
   {
    "duration": 25,
    "start_time": "2023-01-08T00:10:22.598Z"
   },
   {
    "duration": 1131,
    "start_time": "2023-01-08T00:39:51.073Z"
   },
   {
    "duration": 1277,
    "start_time": "2023-01-08T00:39:52.206Z"
   },
   {
    "duration": 11,
    "start_time": "2023-01-08T00:39:53.485Z"
   },
   {
    "duration": 14,
    "start_time": "2023-01-08T00:39:53.498Z"
   },
   {
    "duration": 15,
    "start_time": "2023-01-08T00:39:53.513Z"
   },
   {
    "duration": 19,
    "start_time": "2023-01-08T00:39:53.529Z"
   },
   {
    "duration": 10,
    "start_time": "2023-01-08T00:39:53.550Z"
   },
   {
    "duration": 62,
    "start_time": "2023-01-08T00:39:53.561Z"
   },
   {
    "duration": 9,
    "start_time": "2023-01-08T00:39:53.624Z"
   },
   {
    "duration": 13,
    "start_time": "2023-01-08T00:39:53.635Z"
   },
   {
    "duration": 7,
    "start_time": "2023-01-08T00:39:53.650Z"
   },
   {
    "duration": 41,
    "start_time": "2023-01-08T00:39:53.658Z"
   },
   {
    "duration": 233,
    "start_time": "2023-01-08T00:39:53.700Z"
   },
   {
    "duration": 8,
    "start_time": "2023-01-08T00:39:53.934Z"
   },
   {
    "duration": 4,
    "start_time": "2023-01-08T00:39:53.944Z"
   },
   {
    "duration": 13,
    "start_time": "2023-01-08T00:39:53.949Z"
   },
   {
    "duration": 74,
    "start_time": "2023-01-08T00:39:53.964Z"
   },
   {
    "duration": 8,
    "start_time": "2023-01-08T00:39:54.040Z"
   },
   {
    "duration": 15,
    "start_time": "2023-01-08T00:39:54.049Z"
   },
   {
    "duration": 52,
    "start_time": "2023-01-08T00:39:54.066Z"
   },
   {
    "duration": 79,
    "start_time": "2023-01-08T00:39:54.120Z"
   },
   {
    "duration": 18,
    "start_time": "2023-01-08T00:39:54.200Z"
   },
   {
    "duration": 57,
    "start_time": "2023-01-08T00:39:54.219Z"
   },
   {
    "duration": 7,
    "start_time": "2023-01-08T00:39:54.277Z"
   },
   {
    "duration": 37,
    "start_time": "2023-01-08T00:39:54.285Z"
   },
   {
    "duration": 27,
    "start_time": "2023-01-08T00:39:54.323Z"
   },
   {
    "duration": 141,
    "start_time": "2023-01-08T00:39:54.352Z"
   },
   {
    "duration": 4,
    "start_time": "2023-01-08T00:39:54.496Z"
   },
   {
    "duration": 20,
    "start_time": "2023-01-08T00:39:54.502Z"
   },
   {
    "duration": 40,
    "start_time": "2023-01-08T00:39:54.523Z"
   },
   {
    "duration": 11,
    "start_time": "2023-01-08T00:39:54.564Z"
   },
   {
    "duration": 11,
    "start_time": "2023-01-08T00:39:54.576Z"
   },
   {
    "duration": 6,
    "start_time": "2023-01-08T00:39:54.589Z"
   },
   {
    "duration": 42,
    "start_time": "2023-01-08T00:39:54.597Z"
   },
   {
    "duration": 9,
    "start_time": "2023-01-08T00:39:54.640Z"
   },
   {
    "duration": 521,
    "start_time": "2023-01-08T00:39:54.651Z"
   },
   {
    "duration": 9,
    "start_time": "2023-01-08T00:39:55.174Z"
   },
   {
    "duration": 162,
    "start_time": "2023-01-08T00:39:55.184Z"
   },
   {
    "duration": 15,
    "start_time": "2023-01-08T00:39:55.348Z"
   },
   {
    "duration": 5,
    "start_time": "2023-01-08T00:39:55.365Z"
   },
   {
    "duration": 9,
    "start_time": "2023-01-08T00:39:55.371Z"
   },
   {
    "duration": 4,
    "start_time": "2023-01-08T00:39:55.381Z"
   },
   {
    "duration": 33,
    "start_time": "2023-01-08T00:39:55.387Z"
   },
   {
    "duration": 10,
    "start_time": "2023-01-08T00:39:55.421Z"
   },
   {
    "duration": 35,
    "start_time": "2023-01-08T00:39:55.432Z"
   },
   {
    "duration": 517,
    "start_time": "2023-01-08T00:39:55.468Z"
   },
   {
    "duration": 9,
    "start_time": "2023-01-08T00:39:55.987Z"
   },
   {
    "duration": 29,
    "start_time": "2023-01-08T00:39:55.998Z"
   },
   {
    "duration": 131,
    "start_time": "2023-01-08T00:39:56.029Z"
   },
   {
    "duration": 16,
    "start_time": "2023-01-08T00:39:56.162Z"
   },
   {
    "duration": 10,
    "start_time": "2023-01-08T00:39:56.180Z"
   },
   {
    "duration": 74,
    "start_time": "2023-01-08T00:39:56.191Z"
   },
   {
    "duration": 30,
    "start_time": "2023-01-08T00:39:56.267Z"
   },
   {
    "duration": 289,
    "start_time": "2023-01-08T00:39:56.299Z"
   },
   {
    "duration": 417,
    "start_time": "2023-01-08T00:39:56.590Z"
   },
   {
    "duration": 11,
    "start_time": "2023-01-08T00:39:57.008Z"
   },
   {
    "duration": 13,
    "start_time": "2023-01-08T00:39:57.021Z"
   },
   {
    "duration": 6,
    "start_time": "2023-01-08T00:39:57.035Z"
   },
   {
    "duration": 351,
    "start_time": "2023-01-08T00:39:57.043Z"
   },
   {
    "duration": 170,
    "start_time": "2023-01-08T00:39:57.395Z"
   },
   {
    "duration": 7,
    "start_time": "2023-01-08T00:39:57.566Z"
   },
   {
    "duration": 10,
    "start_time": "2023-01-08T00:39:57.574Z"
   },
   {
    "duration": 12,
    "start_time": "2023-01-08T00:39:57.585Z"
   },
   {
    "duration": 38,
    "start_time": "2023-01-08T00:39:57.599Z"
   },
   {
    "duration": 138,
    "start_time": "2023-01-08T00:43:19.389Z"
   },
   {
    "duration": 9,
    "start_time": "2023-01-08T00:43:30.606Z"
   },
   {
    "duration": 13,
    "start_time": "2023-01-08T00:43:34.374Z"
   },
   {
    "duration": 9,
    "start_time": "2023-01-08T00:43:42.430Z"
   },
   {
    "duration": 22,
    "start_time": "2023-01-08T00:46:16.335Z"
   },
   {
    "duration": 11,
    "start_time": "2023-01-08T00:46:27.493Z"
   },
   {
    "duration": 16,
    "start_time": "2023-01-08T00:46:32.754Z"
   },
   {
    "duration": 7,
    "start_time": "2023-01-08T00:46:39.701Z"
   },
   {
    "duration": 13,
    "start_time": "2023-01-08T00:47:27.355Z"
   },
   {
    "duration": 4,
    "start_time": "2023-01-08T00:47:35.931Z"
   },
   {
    "duration": 6,
    "start_time": "2023-01-08T00:57:14.499Z"
   },
   {
    "duration": 23,
    "start_time": "2023-01-08T00:57:16.488Z"
   },
   {
    "duration": 1511,
    "start_time": "2023-01-08T08:25:29.055Z"
   },
   {
    "duration": 1250,
    "start_time": "2023-01-08T08:25:30.569Z"
   },
   {
    "duration": 13,
    "start_time": "2023-01-08T08:25:37.609Z"
   },
   {
    "duration": 11,
    "start_time": "2023-01-08T08:25:38.130Z"
   },
   {
    "duration": 15,
    "start_time": "2023-01-08T08:25:39.170Z"
   },
   {
    "duration": 18,
    "start_time": "2023-01-08T08:25:39.554Z"
   },
   {
    "duration": 14,
    "start_time": "2023-01-08T08:25:40.278Z"
   },
   {
    "duration": 63,
    "start_time": "2023-01-08T08:25:41.436Z"
   },
   {
    "duration": 10,
    "start_time": "2023-01-08T08:25:53.773Z"
   },
   {
    "duration": 12,
    "start_time": "2023-01-08T08:25:54.378Z"
   },
   {
    "duration": 6,
    "start_time": "2023-01-08T08:26:21.570Z"
   },
   {
    "duration": 33,
    "start_time": "2023-01-08T08:26:22.030Z"
   },
   {
    "duration": 300,
    "start_time": "2023-01-08T08:26:22.534Z"
   },
   {
    "duration": 10,
    "start_time": "2023-01-08T08:26:23.156Z"
   },
   {
    "duration": 5,
    "start_time": "2023-01-08T08:26:37.576Z"
   },
   {
    "duration": 16,
    "start_time": "2023-01-08T08:26:38.112Z"
   },
   {
    "duration": 56,
    "start_time": "2023-01-08T08:26:38.473Z"
   },
   {
    "duration": 9,
    "start_time": "2023-01-08T08:26:39.338Z"
   },
   {
    "duration": 8,
    "start_time": "2023-01-08T08:26:39.932Z"
   },
   {
    "duration": 42,
    "start_time": "2023-01-08T08:26:40.483Z"
   },
   {
    "duration": 75,
    "start_time": "2023-01-08T08:26:41.026Z"
   },
   {
    "duration": 7,
    "start_time": "2023-01-08T08:27:04.240Z"
   },
   {
    "duration": 61,
    "start_time": "2023-01-08T08:27:05.499Z"
   },
   {
    "duration": 7,
    "start_time": "2023-01-08T08:27:06.885Z"
   },
   {
    "duration": 18,
    "start_time": "2023-01-08T08:27:08.188Z"
   },
   {
    "duration": 32,
    "start_time": "2023-01-08T08:27:08.728Z"
   },
   {
    "duration": 151,
    "start_time": "2023-01-08T08:27:09.208Z"
   },
   {
    "duration": 5,
    "start_time": "2023-01-08T08:27:36.474Z"
   },
   {
    "duration": 14,
    "start_time": "2023-01-08T08:27:37.023Z"
   },
   {
    "duration": 44,
    "start_time": "2023-01-08T08:27:37.643Z"
   },
   {
    "duration": 4,
    "start_time": "2023-01-08T08:27:51.410Z"
   },
   {
    "duration": 6,
    "start_time": "2023-01-08T08:27:56.672Z"
   },
   {
    "duration": 7,
    "start_time": "2023-01-08T08:27:58.874Z"
   },
   {
    "duration": 39,
    "start_time": "2023-01-08T08:28:00.389Z"
   },
   {
    "duration": 12,
    "start_time": "2023-01-08T08:28:01.007Z"
   },
   {
    "duration": 399,
    "start_time": "2023-01-08T08:28:01.874Z"
   },
   {
    "duration": 12,
    "start_time": "2023-01-08T08:28:15.163Z"
   },
   {
    "duration": 136,
    "start_time": "2023-01-08T08:28:18.736Z"
   },
   {
    "duration": 19,
    "start_time": "2023-01-08T08:28:19.535Z"
   },
   {
    "duration": 7,
    "start_time": "2023-01-08T08:28:23.768Z"
   },
   {
    "duration": 11,
    "start_time": "2023-01-08T08:28:25.045Z"
   },
   {
    "duration": 6,
    "start_time": "2023-01-08T08:28:35.436Z"
   },
   {
    "duration": 11,
    "start_time": "2023-01-08T08:28:36.000Z"
   },
   {
    "duration": 4,
    "start_time": "2023-01-08T08:28:38.317Z"
   },
   {
    "duration": 35,
    "start_time": "2023-01-08T08:28:44.752Z"
   },
   {
    "duration": 545,
    "start_time": "2023-01-08T08:28:45.746Z"
   },
   {
    "duration": 11,
    "start_time": "2023-01-08T08:28:55.518Z"
   },
   {
    "duration": 17,
    "start_time": "2023-01-08T08:29:01.945Z"
   },
   {
    "duration": 130,
    "start_time": "2023-01-08T08:29:02.642Z"
   },
   {
    "duration": 18,
    "start_time": "2023-01-08T08:29:04.401Z"
   },
   {
    "duration": 11,
    "start_time": "2023-01-08T08:29:05.516Z"
   },
   {
    "duration": 47,
    "start_time": "2023-01-08T08:29:06.625Z"
   },
   {
    "duration": 26,
    "start_time": "2023-01-08T08:29:13.061Z"
   },
   {
    "duration": 302,
    "start_time": "2023-01-08T08:29:13.758Z"
   },
   {
    "duration": 570,
    "start_time": "2023-01-08T08:29:21.701Z"
   },
   {
    "duration": 10,
    "start_time": "2023-01-08T08:29:22.346Z"
   },
   {
    "duration": 12,
    "start_time": "2023-01-08T08:29:23.166Z"
   },
   {
    "duration": 6,
    "start_time": "2023-01-08T08:29:25.142Z"
   },
   {
    "duration": 430,
    "start_time": "2023-01-08T08:29:25.975Z"
   },
   {
    "duration": 170,
    "start_time": "2023-01-08T08:29:26.741Z"
   },
   {
    "duration": 8,
    "start_time": "2023-01-08T08:30:02.661Z"
   },
   {
    "duration": 6,
    "start_time": "2023-01-08T08:30:03.760Z"
   },
   {
    "duration": 12,
    "start_time": "2023-01-08T08:30:04.303Z"
   },
   {
    "duration": 28,
    "start_time": "2023-01-08T08:30:05.282Z"
   },
   {
    "duration": 5,
    "start_time": "2023-01-08T08:41:59.166Z"
   },
   {
    "duration": 5,
    "start_time": "2023-01-08T08:42:09.807Z"
   },
   {
    "duration": 1281,
    "start_time": "2023-01-08T08:42:10.905Z"
   },
   {
    "duration": 9,
    "start_time": "2023-01-08T08:42:15.865Z"
   },
   {
    "duration": 11,
    "start_time": "2023-01-08T08:42:26.917Z"
   },
   {
    "duration": 15,
    "start_time": "2023-01-08T08:42:27.453Z"
   },
   {
    "duration": 26,
    "start_time": "2023-01-08T08:42:27.842Z"
   },
   {
    "duration": 13,
    "start_time": "2023-01-08T08:42:28.802Z"
   },
   {
    "duration": 63,
    "start_time": "2023-01-08T08:42:29.897Z"
   },
   {
    "duration": 11,
    "start_time": "2023-01-08T10:09:07.724Z"
   },
   {
    "duration": 13,
    "start_time": "2023-01-08T10:09:11.865Z"
   },
   {
    "duration": 5,
    "start_time": "2023-01-08T10:09:14.077Z"
   },
   {
    "duration": 39,
    "start_time": "2023-01-08T10:09:14.274Z"
   },
   {
    "duration": 256,
    "start_time": "2023-01-08T10:09:14.739Z"
   },
   {
    "duration": 10,
    "start_time": "2023-01-08T10:09:15.032Z"
   },
   {
    "duration": 6,
    "start_time": "2023-01-08T10:09:16.748Z"
   },
   {
    "duration": 15,
    "start_time": "2023-01-08T10:09:17.468Z"
   },
   {
    "duration": 57,
    "start_time": "2023-01-08T10:09:18.195Z"
   },
   {
    "duration": 9,
    "start_time": "2023-01-08T10:09:22.627Z"
   },
   {
    "duration": 9,
    "start_time": "2023-01-08T10:09:23.262Z"
   },
   {
    "duration": 40,
    "start_time": "2023-01-08T10:09:24.325Z"
   },
   {
    "duration": 76,
    "start_time": "2023-01-08T10:09:25.277Z"
   },
   {
    "duration": 7,
    "start_time": "2023-01-08T10:09:25.870Z"
   },
   {
    "duration": 4,
    "start_time": "2023-01-08T10:25:04.221Z"
   },
   {
    "duration": 1314,
    "start_time": "2023-01-08T10:25:04.863Z"
   },
   {
    "duration": 10,
    "start_time": "2023-01-08T10:25:06.180Z"
   },
   {
    "duration": 23,
    "start_time": "2023-01-08T10:25:06.191Z"
   },
   {
    "duration": 11,
    "start_time": "2023-01-08T10:25:06.641Z"
   },
   {
    "duration": 20,
    "start_time": "2023-01-08T10:25:06.864Z"
   },
   {
    "duration": 12,
    "start_time": "2023-01-08T10:25:07.250Z"
   },
   {
    "duration": 63,
    "start_time": "2023-01-08T10:25:07.644Z"
   },
   {
    "duration": 12,
    "start_time": "2023-01-08T10:25:24.177Z"
   },
   {
    "duration": 13,
    "start_time": "2023-01-08T10:25:24.396Z"
   },
   {
    "duration": 5,
    "start_time": "2023-01-08T10:25:25.572Z"
   },
   {
    "duration": 31,
    "start_time": "2023-01-08T10:25:25.787Z"
   },
   {
    "duration": 252,
    "start_time": "2023-01-08T10:25:26.025Z"
   },
   {
    "duration": 10,
    "start_time": "2023-01-08T10:25:26.299Z"
   },
   {
    "duration": 5,
    "start_time": "2023-01-08T10:25:27.603Z"
   },
   {
    "duration": 14,
    "start_time": "2023-01-08T10:25:27.948Z"
   },
   {
    "duration": 57,
    "start_time": "2023-01-08T10:25:28.463Z"
   },
   {
    "duration": 9,
    "start_time": "2023-01-08T10:25:28.889Z"
   },
   {
    "duration": 9,
    "start_time": "2023-01-08T10:25:29.206Z"
   },
   {
    "duration": 40,
    "start_time": "2023-01-08T10:25:29.421Z"
   },
   {
    "duration": 90,
    "start_time": "2023-01-08T10:25:29.747Z"
   },
   {
    "duration": 6,
    "start_time": "2023-01-08T10:25:29.984Z"
   },
   {
    "duration": 9,
    "start_time": "2023-01-08T10:28:18.698Z"
   },
   {
    "duration": 15,
    "start_time": "2023-01-08T10:28:19.132Z"
   },
   {
    "duration": 40,
    "start_time": "2023-01-08T10:28:24.188Z"
   },
   {
    "duration": 76,
    "start_time": "2023-01-08T10:28:24.828Z"
   },
   {
    "duration": 4,
    "start_time": "2023-01-08T10:28:50.544Z"
   },
   {
    "duration": 1325,
    "start_time": "2023-01-08T10:28:50.938Z"
   },
   {
    "duration": 10,
    "start_time": "2023-01-08T10:28:52.265Z"
   },
   {
    "duration": 11,
    "start_time": "2023-01-08T10:28:52.360Z"
   },
   {
    "duration": 12,
    "start_time": "2023-01-08T10:28:53.641Z"
   },
   {
    "duration": 20,
    "start_time": "2023-01-08T10:28:54.325Z"
   },
   {
    "duration": 13,
    "start_time": "2023-01-08T10:28:55.654Z"
   },
   {
    "duration": 64,
    "start_time": "2023-01-08T10:28:56.902Z"
   },
   {
    "duration": 9,
    "start_time": "2023-01-08T10:28:58.321Z"
   },
   {
    "duration": 13,
    "start_time": "2023-01-08T10:28:58.840Z"
   },
   {
    "duration": 5,
    "start_time": "2023-01-08T10:29:01.447Z"
   },
   {
    "duration": 35,
    "start_time": "2023-01-08T10:29:01.669Z"
   },
   {
    "duration": 264,
    "start_time": "2023-01-08T10:29:02.010Z"
   },
   {
    "duration": 9,
    "start_time": "2023-01-08T10:29:02.303Z"
   },
   {
    "duration": 5,
    "start_time": "2023-01-08T10:29:03.686Z"
   },
   {
    "duration": 15,
    "start_time": "2023-01-08T10:29:04.145Z"
   },
   {
    "duration": 57,
    "start_time": "2023-01-08T10:29:04.575Z"
   },
   {
    "duration": 9,
    "start_time": "2023-01-08T10:29:06.131Z"
   },
   {
    "duration": 9,
    "start_time": "2023-01-08T10:29:06.485Z"
   },
   {
    "duration": 41,
    "start_time": "2023-01-08T10:29:08.906Z"
   },
   {
    "duration": 81,
    "start_time": "2023-01-08T10:29:19.023Z"
   },
   {
    "duration": 57,
    "start_time": "2023-01-08T10:29:30.004Z"
   },
   {
    "duration": 8,
    "start_time": "2023-01-08T10:29:31.380Z"
   },
   {
    "duration": 59,
    "start_time": "2023-01-08T10:30:47.903Z"
   },
   {
    "duration": 11,
    "start_time": "2023-01-08T10:30:49.821Z"
   },
   {
    "duration": 11,
    "start_time": "2023-01-08T10:30:50.422Z"
   },
   {
    "duration": 40,
    "start_time": "2023-01-08T10:30:51.308Z"
   },
   {
    "duration": 66,
    "start_time": "2023-01-08T10:31:54.829Z"
   },
   {
    "duration": 8,
    "start_time": "2023-01-08T10:31:56.527Z"
   },
   {
    "duration": 23,
    "start_time": "2023-01-08T10:31:57.459Z"
   },
   {
    "duration": 37,
    "start_time": "2023-01-08T10:31:58.003Z"
   },
   {
    "duration": 198,
    "start_time": "2023-01-08T10:31:58.521Z"
   },
   {
    "duration": 7,
    "start_time": "2023-01-08T10:32:23.055Z"
   },
   {
    "duration": 15,
    "start_time": "2023-01-08T10:32:23.785Z"
   },
   {
    "duration": 45,
    "start_time": "2023-01-08T10:32:24.065Z"
   },
   {
    "duration": 17,
    "start_time": "2023-01-08T10:33:12.659Z"
   },
   {
    "duration": 44,
    "start_time": "2023-01-08T10:33:13.121Z"
   },
   {
    "duration": 250,
    "start_time": "2023-01-08T10:36:34.836Z"
   },
   {
    "duration": 43,
    "start_time": "2023-01-08T10:36:55.942Z"
   },
   {
    "duration": 51,
    "start_time": "2023-01-08T10:37:11.645Z"
   },
   {
    "duration": 57,
    "start_time": "2023-01-08T10:37:16.849Z"
   },
   {
    "duration": 44,
    "start_time": "2023-01-08T10:37:22.085Z"
   },
   {
    "duration": 52,
    "start_time": "2023-01-08T10:37:29.481Z"
   },
   {
    "duration": 13,
    "start_time": "2023-01-08T10:39:06.411Z"
   },
   {
    "duration": 12,
    "start_time": "2023-01-08T10:39:31.583Z"
   },
   {
    "duration": 4,
    "start_time": "2023-01-08T10:39:46.442Z"
   },
   {
    "duration": 17,
    "start_time": "2023-01-08T10:39:53.820Z"
   },
   {
    "duration": 64,
    "start_time": "2023-01-08T10:39:58.649Z"
   },
   {
    "duration": 5,
    "start_time": "2023-01-08T10:40:06.729Z"
   },
   {
    "duration": 4,
    "start_time": "2023-01-08T10:40:23.034Z"
   },
   {
    "duration": 4,
    "start_time": "2023-01-08T10:40:33.630Z"
   },
   {
    "duration": 4,
    "start_time": "2023-01-08T10:40:42.522Z"
   },
   {
    "duration": 14,
    "start_time": "2023-01-08T10:41:12.055Z"
   },
   {
    "duration": 4,
    "start_time": "2023-01-08T10:41:12.559Z"
   },
   {
    "duration": 14,
    "start_time": "2023-01-08T10:41:15.422Z"
   },
   {
    "duration": 4,
    "start_time": "2023-01-08T10:42:39.874Z"
   },
   {
    "duration": 13,
    "start_time": "2023-01-08T10:42:50.439Z"
   },
   {
    "duration": 16,
    "start_time": "2023-01-08T10:42:57.221Z"
   },
   {
    "duration": 14,
    "start_time": "2023-01-08T10:43:02.028Z"
   },
   {
    "duration": 16,
    "start_time": "2023-01-08T10:43:11.032Z"
   },
   {
    "duration": 4,
    "start_time": "2023-01-08T10:43:35.290Z"
   },
   {
    "duration": 43,
    "start_time": "2023-01-08T10:46:14.536Z"
   },
   {
    "duration": 14,
    "start_time": "2023-01-08T10:46:40.308Z"
   },
   {
    "duration": 45,
    "start_time": "2023-01-08T10:46:41.086Z"
   },
   {
    "duration": 5,
    "start_time": "2023-01-08T10:49:41.125Z"
   },
   {
    "duration": 15,
    "start_time": "2023-01-08T10:49:41.814Z"
   },
   {
    "duration": 43,
    "start_time": "2023-01-08T10:49:42.621Z"
   },
   {
    "duration": 854,
    "start_time": "2023-01-08T10:50:39.641Z"
   },
   {
    "duration": 966,
    "start_time": "2023-01-08T10:50:51.706Z"
   },
   {
    "duration": 5,
    "start_time": "2023-01-08T10:50:54.746Z"
   },
   {
    "duration": 924,
    "start_time": "2023-01-08T10:50:55.261Z"
   },
   {
    "duration": 10,
    "start_time": "2023-01-08T10:51:38.852Z"
   },
   {
    "duration": 11,
    "start_time": "2023-01-08T10:52:13.325Z"
   },
   {
    "duration": 8,
    "start_time": "2023-01-08T10:52:19.086Z"
   },
   {
    "duration": 10,
    "start_time": "2023-01-08T10:52:30.388Z"
   },
   {
    "duration": 31,
    "start_time": "2023-01-08T10:52:31.106Z"
   },
   {
    "duration": 29,
    "start_time": "2023-01-08T11:00:27.120Z"
   },
   {
    "duration": 30,
    "start_time": "2023-01-08T11:01:01.901Z"
   },
   {
    "duration": 30,
    "start_time": "2023-01-08T11:01:15.954Z"
   },
   {
    "duration": 942,
    "start_time": "2023-01-08T11:03:02.035Z"
   },
   {
    "duration": 6,
    "start_time": "2023-01-08T11:03:16.602Z"
   },
   {
    "duration": 8,
    "start_time": "2023-01-08T11:03:17.052Z"
   },
   {
    "duration": 29,
    "start_time": "2023-01-08T11:03:17.455Z"
   },
   {
    "duration": 876,
    "start_time": "2023-01-08T11:03:19.161Z"
   },
   {
    "duration": 884,
    "start_time": "2023-01-08T11:04:10.536Z"
   },
   {
    "duration": 9,
    "start_time": "2023-01-08T11:04:28.043Z"
   },
   {
    "duration": 29,
    "start_time": "2023-01-08T11:04:41.868Z"
   },
   {
    "duration": 904,
    "start_time": "2023-01-08T11:04:46.371Z"
   },
   {
    "duration": 5,
    "start_time": "2023-01-08T11:04:51.988Z"
   },
   {
    "duration": 7,
    "start_time": "2023-01-08T11:04:52.520Z"
   },
   {
    "duration": 36,
    "start_time": "2023-01-08T11:04:59.112Z"
   },
   {
    "duration": 884,
    "start_time": "2023-01-08T11:05:03.407Z"
   },
   {
    "duration": 859,
    "start_time": "2023-01-08T11:05:14.238Z"
   },
   {
    "duration": 31,
    "start_time": "2023-01-08T11:05:47.590Z"
   },
   {
    "duration": 856,
    "start_time": "2023-01-08T11:05:55.005Z"
   },
   {
    "duration": 11,
    "start_time": "2023-01-08T11:09:44.550Z"
   },
   {
    "duration": 5,
    "start_time": "2023-01-08T11:09:48.089Z"
   },
   {
    "duration": 7,
    "start_time": "2023-01-08T11:09:48.607Z"
   },
   {
    "duration": 29,
    "start_time": "2023-01-08T11:09:48.925Z"
   },
   {
    "duration": 12,
    "start_time": "2023-01-08T11:09:49.462Z"
   },
   {
    "duration": 73,
    "start_time": "2023-01-08T11:10:06.320Z"
   },
   {
    "duration": 66,
    "start_time": "2023-01-08T11:10:28.419Z"
   },
   {
    "duration": 40,
    "start_time": "2023-01-08T11:12:50.706Z"
   },
   {
    "duration": 36,
    "start_time": "2023-01-08T11:13:22.025Z"
   },
   {
    "duration": 8,
    "start_time": "2023-01-08T11:13:24.264Z"
   },
   {
    "duration": 30,
    "start_time": "2023-01-08T11:13:25.505Z"
   },
   {
    "duration": 15,
    "start_time": "2023-01-08T11:14:14.769Z"
   },
   {
    "duration": 86,
    "start_time": "2023-01-08T11:14:27.710Z"
   },
   {
    "duration": 14,
    "start_time": "2023-01-08T11:14:32.251Z"
   },
   {
    "duration": 19,
    "start_time": "2023-01-08T11:14:49.606Z"
   },
   {
    "duration": 14,
    "start_time": "2023-01-08T11:15:15.319Z"
   },
   {
    "duration": 13,
    "start_time": "2023-01-08T11:15:22.081Z"
   },
   {
    "duration": 13,
    "start_time": "2023-01-08T11:15:26.006Z"
   },
   {
    "duration": 10,
    "start_time": "2023-01-08T11:15:29.657Z"
   },
   {
    "duration": 29,
    "start_time": "2023-01-08T11:15:29.975Z"
   },
   {
    "duration": 13,
    "start_time": "2023-01-08T11:18:34.162Z"
   },
   {
    "duration": 5,
    "start_time": "2023-01-08T11:18:39.931Z"
   },
   {
    "duration": 8,
    "start_time": "2023-01-08T11:18:40.361Z"
   },
   {
    "duration": 34,
    "start_time": "2023-01-08T11:18:40.677Z"
   },
   {
    "duration": 13,
    "start_time": "2023-01-08T11:18:40.992Z"
   },
   {
    "duration": 6,
    "start_time": "2023-01-08T11:18:53.337Z"
   },
   {
    "duration": 9,
    "start_time": "2023-01-08T11:19:00.481Z"
   },
   {
    "duration": 8,
    "start_time": "2023-01-08T11:19:02.061Z"
   },
   {
    "duration": 26,
    "start_time": "2023-01-08T11:19:42.507Z"
   },
   {
    "duration": 7,
    "start_time": "2023-01-08T11:19:49.605Z"
   },
   {
    "duration": 901,
    "start_time": "2023-01-08T11:20:15.205Z"
   },
   {
    "duration": 6,
    "start_time": "2023-01-08T11:20:27.679Z"
   },
   {
    "duration": 8,
    "start_time": "2023-01-08T11:20:28.429Z"
   },
   {
    "duration": 26,
    "start_time": "2023-01-08T11:20:28.923Z"
   },
   {
    "duration": 6,
    "start_time": "2023-01-08T11:20:31.673Z"
   },
   {
    "duration": 876,
    "start_time": "2023-01-08T11:20:33.956Z"
   },
   {
    "duration": 852,
    "start_time": "2023-01-08T11:20:43.312Z"
   },
   {
    "duration": 8,
    "start_time": "2023-01-08T11:20:59.749Z"
   },
   {
    "duration": 1341,
    "start_time": "2023-01-08T11:21:01.907Z"
   },
   {
    "duration": 10,
    "start_time": "2023-01-08T11:21:03.717Z"
   },
   {
    "duration": 10,
    "start_time": "2023-01-08T11:21:04.211Z"
   },
   {
    "duration": 14,
    "start_time": "2023-01-08T11:21:04.708Z"
   },
   {
    "duration": 29,
    "start_time": "2023-01-08T11:21:04.913Z"
   },
   {
    "duration": 14,
    "start_time": "2023-01-08T11:21:05.322Z"
   },
   {
    "duration": 63,
    "start_time": "2023-01-08T11:21:05.715Z"
   },
   {
    "duration": 10,
    "start_time": "2023-01-08T11:21:06.448Z"
   },
   {
    "duration": 13,
    "start_time": "2023-01-08T11:21:06.808Z"
   },
   {
    "duration": 5,
    "start_time": "2023-01-08T11:21:08.456Z"
   },
   {
    "duration": 48,
    "start_time": "2023-01-08T11:21:08.646Z"
   },
   {
    "duration": 275,
    "start_time": "2023-01-08T11:21:08.856Z"
   },
   {
    "duration": 21,
    "start_time": "2023-01-08T11:21:09.134Z"
   },
   {
    "duration": 6,
    "start_time": "2023-01-08T11:21:09.942Z"
   },
   {
    "duration": 15,
    "start_time": "2023-01-08T11:21:10.111Z"
   },
   {
    "duration": 60,
    "start_time": "2023-01-08T11:21:10.308Z"
   },
   {
    "duration": 11,
    "start_time": "2023-01-08T11:21:10.683Z"
   },
   {
    "duration": 9,
    "start_time": "2023-01-08T11:21:10.864Z"
   },
   {
    "duration": 41,
    "start_time": "2023-01-08T11:21:11.045Z"
   },
   {
    "duration": 79,
    "start_time": "2023-01-08T11:21:11.241Z"
   },
   {
    "duration": 71,
    "start_time": "2023-01-08T11:21:12.162Z"
   },
   {
    "duration": 8,
    "start_time": "2023-01-08T11:21:13.747Z"
   },
   {
    "duration": 20,
    "start_time": "2023-01-08T11:21:21.005Z"
   },
   {
    "duration": 35,
    "start_time": "2023-01-08T11:21:21.931Z"
   },
   {
    "duration": 158,
    "start_time": "2023-01-08T11:21:22.602Z"
   },
   {
    "duration": 7,
    "start_time": "2023-01-08T11:21:27.556Z"
   },
   {
    "duration": 9,
    "start_time": "2023-01-08T11:21:28.379Z"
   },
   {
    "duration": 32,
    "start_time": "2023-01-08T11:21:29.495Z"
   },
   {
    "duration": 7,
    "start_time": "2023-01-08T11:21:30.043Z"
   },
   {
    "duration": 854,
    "start_time": "2023-01-08T11:21:43.605Z"
   },
   {
    "duration": 10,
    "start_time": "2023-01-08T11:22:17.072Z"
   },
   {
    "duration": 32,
    "start_time": "2023-01-08T11:22:19.119Z"
   },
   {
    "duration": 7,
    "start_time": "2023-01-08T11:22:59.636Z"
   },
   {
    "duration": 8,
    "start_time": "2023-01-08T11:23:02.562Z"
   },
   {
    "duration": 34,
    "start_time": "2023-01-08T11:23:02.572Z"
   },
   {
    "duration": 14,
    "start_time": "2023-01-08T11:23:03.451Z"
   },
   {
    "duration": 884,
    "start_time": "2023-01-08T11:23:06.123Z"
   },
   {
    "duration": 5,
    "start_time": "2023-01-08T11:23:28.376Z"
   },
   {
    "duration": 11,
    "start_time": "2023-01-08T11:23:34.157Z"
   },
   {
    "duration": 9,
    "start_time": "2023-01-08T11:23:42.278Z"
   },
   {
    "duration": 6,
    "start_time": "2023-01-08T11:24:13.511Z"
   },
   {
    "duration": 9,
    "start_time": "2023-01-08T11:24:17.807Z"
   },
   {
    "duration": 13,
    "start_time": "2023-01-08T11:24:19.622Z"
   },
   {
    "duration": 57,
    "start_time": "2023-01-08T11:24:24.168Z"
   },
   {
    "duration": 1302,
    "start_time": "2023-01-08T11:24:54.916Z"
   },
   {
    "duration": 1031,
    "start_time": "2023-01-08T11:24:56.220Z"
   },
   {
    "duration": 13,
    "start_time": "2023-01-08T11:24:57.252Z"
   },
   {
    "duration": 11,
    "start_time": "2023-01-08T11:24:57.267Z"
   },
   {
    "duration": 16,
    "start_time": "2023-01-08T11:24:57.281Z"
   },
   {
    "duration": 26,
    "start_time": "2023-01-08T11:24:57.298Z"
   },
   {
    "duration": 31,
    "start_time": "2023-01-08T11:24:57.326Z"
   },
   {
    "duration": 97,
    "start_time": "2023-01-08T11:24:57.359Z"
   },
   {
    "duration": 11,
    "start_time": "2023-01-08T11:24:57.458Z"
   },
   {
    "duration": 21,
    "start_time": "2023-01-08T11:24:57.471Z"
   },
   {
    "duration": 9,
    "start_time": "2023-01-08T11:24:57.494Z"
   },
   {
    "duration": 54,
    "start_time": "2023-01-08T11:24:57.504Z"
   },
   {
    "duration": 337,
    "start_time": "2023-01-08T11:24:57.560Z"
   },
   {
    "duration": 10,
    "start_time": "2023-01-08T11:24:57.900Z"
   },
   {
    "duration": 17,
    "start_time": "2023-01-08T11:24:57.912Z"
   },
   {
    "duration": 33,
    "start_time": "2023-01-08T11:24:57.931Z"
   },
   {
    "duration": 62,
    "start_time": "2023-01-08T11:24:57.966Z"
   },
   {
    "duration": 23,
    "start_time": "2023-01-08T11:24:58.030Z"
   },
   {
    "duration": 9,
    "start_time": "2023-01-08T11:24:58.055Z"
   },
   {
    "duration": 43,
    "start_time": "2023-01-08T11:24:58.066Z"
   },
   {
    "duration": 109,
    "start_time": "2023-01-08T11:24:58.111Z"
   },
   {
    "duration": 69,
    "start_time": "2023-01-08T11:24:58.222Z"
   },
   {
    "duration": 8,
    "start_time": "2023-01-08T11:24:58.293Z"
   },
   {
    "duration": 23,
    "start_time": "2023-01-08T11:24:58.303Z"
   },
   {
    "duration": 49,
    "start_time": "2023-01-08T11:24:58.327Z"
   },
   {
    "duration": 174,
    "start_time": "2023-01-08T11:24:58.378Z"
   },
   {
    "duration": 5,
    "start_time": "2023-01-08T11:24:58.554Z"
   },
   {
    "duration": 14,
    "start_time": "2023-01-08T11:24:58.560Z"
   },
   {
    "duration": 33,
    "start_time": "2023-01-08T11:24:58.576Z"
   },
   {
    "duration": 5,
    "start_time": "2023-01-08T11:24:58.612Z"
   },
   {
    "duration": 1176,
    "start_time": "2023-01-08T11:24:58.619Z"
   },
   {
    "duration": 0,
    "start_time": "2023-01-08T11:24:59.799Z"
   },
   {
    "duration": 0,
    "start_time": "2023-01-08T11:24:59.801Z"
   },
   {
    "duration": 0,
    "start_time": "2023-01-08T11:24:59.802Z"
   },
   {
    "duration": 0,
    "start_time": "2023-01-08T11:24:59.804Z"
   },
   {
    "duration": 0,
    "start_time": "2023-01-08T11:24:59.806Z"
   },
   {
    "duration": 0,
    "start_time": "2023-01-08T11:24:59.807Z"
   },
   {
    "duration": 0,
    "start_time": "2023-01-08T11:24:59.809Z"
   },
   {
    "duration": 0,
    "start_time": "2023-01-08T11:24:59.810Z"
   },
   {
    "duration": 0,
    "start_time": "2023-01-08T11:24:59.812Z"
   },
   {
    "duration": 0,
    "start_time": "2023-01-08T11:24:59.813Z"
   },
   {
    "duration": 0,
    "start_time": "2023-01-08T11:24:59.815Z"
   },
   {
    "duration": 0,
    "start_time": "2023-01-08T11:24:59.816Z"
   },
   {
    "duration": 0,
    "start_time": "2023-01-08T11:24:59.817Z"
   },
   {
    "duration": 0,
    "start_time": "2023-01-08T11:24:59.818Z"
   },
   {
    "duration": 0,
    "start_time": "2023-01-08T11:24:59.819Z"
   },
   {
    "duration": 0,
    "start_time": "2023-01-08T11:24:59.821Z"
   },
   {
    "duration": 0,
    "start_time": "2023-01-08T11:24:59.822Z"
   },
   {
    "duration": 0,
    "start_time": "2023-01-08T11:24:59.823Z"
   },
   {
    "duration": 0,
    "start_time": "2023-01-08T11:24:59.825Z"
   },
   {
    "duration": 0,
    "start_time": "2023-01-08T11:24:59.826Z"
   },
   {
    "duration": 0,
    "start_time": "2023-01-08T11:24:59.827Z"
   },
   {
    "duration": 0,
    "start_time": "2023-01-08T11:24:59.829Z"
   },
   {
    "duration": 0,
    "start_time": "2023-01-08T11:24:59.830Z"
   },
   {
    "duration": 0,
    "start_time": "2023-01-08T11:24:59.831Z"
   },
   {
    "duration": 0,
    "start_time": "2023-01-08T11:24:59.833Z"
   },
   {
    "duration": 0,
    "start_time": "2023-01-08T11:24:59.836Z"
   },
   {
    "duration": 0,
    "start_time": "2023-01-08T11:24:59.837Z"
   },
   {
    "duration": 0,
    "start_time": "2023-01-08T11:24:59.838Z"
   },
   {
    "duration": 0,
    "start_time": "2023-01-08T11:24:59.840Z"
   },
   {
    "duration": 0,
    "start_time": "2023-01-08T11:24:59.841Z"
   },
   {
    "duration": 0,
    "start_time": "2023-01-08T11:24:59.843Z"
   },
   {
    "duration": 0,
    "start_time": "2023-01-08T11:24:59.844Z"
   },
   {
    "duration": 4,
    "start_time": "2023-01-08T11:25:26.834Z"
   },
   {
    "duration": 1085,
    "start_time": "2023-01-08T11:25:27.823Z"
   },
   {
    "duration": 10,
    "start_time": "2023-01-08T11:25:29.103Z"
   },
   {
    "duration": 10,
    "start_time": "2023-01-08T11:25:29.449Z"
   },
   {
    "duration": 11,
    "start_time": "2023-01-08T11:25:30.261Z"
   },
   {
    "duration": 28,
    "start_time": "2023-01-08T11:25:30.563Z"
   },
   {
    "duration": 13,
    "start_time": "2023-01-08T11:25:31.070Z"
   },
   {
    "duration": 64,
    "start_time": "2023-01-08T11:25:31.429Z"
   },
   {
    "duration": 10,
    "start_time": "2023-01-08T11:25:32.262Z"
   },
   {
    "duration": 12,
    "start_time": "2023-01-08T11:25:32.972Z"
   },
   {
    "duration": 5,
    "start_time": "2023-01-08T11:25:35.604Z"
   },
   {
    "duration": 32,
    "start_time": "2023-01-08T11:25:35.807Z"
   },
   {
    "duration": 267,
    "start_time": "2023-01-08T11:25:35.985Z"
   },
   {
    "duration": 9,
    "start_time": "2023-01-08T11:25:36.254Z"
   },
   {
    "duration": 5,
    "start_time": "2023-01-08T11:25:37.227Z"
   },
   {
    "duration": 14,
    "start_time": "2023-01-08T11:25:37.410Z"
   },
   {
    "duration": 66,
    "start_time": "2023-01-08T11:25:37.923Z"
   },
   {
    "duration": 10,
    "start_time": "2023-01-08T11:25:38.846Z"
   },
   {
    "duration": 8,
    "start_time": "2023-01-08T11:25:39.486Z"
   },
   {
    "duration": 39,
    "start_time": "2023-01-08T11:25:40.395Z"
   },
   {
    "duration": 77,
    "start_time": "2023-01-08T11:25:41.556Z"
   },
   {
    "duration": 59,
    "start_time": "2023-01-08T11:25:45.736Z"
   },
   {
    "duration": 8,
    "start_time": "2023-01-08T11:25:47.122Z"
   },
   {
    "duration": 22,
    "start_time": "2023-01-08T11:25:49.733Z"
   },
   {
    "duration": 32,
    "start_time": "2023-01-08T11:25:51.107Z"
   },
   {
    "duration": 139,
    "start_time": "2023-01-08T11:25:51.807Z"
   },
   {
    "duration": 5,
    "start_time": "2023-01-08T11:25:56.450Z"
   },
   {
    "duration": 9,
    "start_time": "2023-01-08T11:25:57.630Z"
   },
   {
    "duration": 33,
    "start_time": "2023-01-08T11:25:58.704Z"
   },
   {
    "duration": 6,
    "start_time": "2023-01-08T11:26:00.331Z"
   },
   {
    "duration": 959,
    "start_time": "2023-01-08T11:26:03.724Z"
   },
   {
    "duration": 6,
    "start_time": "2023-01-08T11:26:22.840Z"
   },
   {
    "duration": 11,
    "start_time": "2023-01-08T11:26:52.669Z"
   },
   {
    "duration": 8,
    "start_time": "2023-01-08T11:27:12.928Z"
   },
   {
    "duration": 829,
    "start_time": "2023-01-08T11:27:28.042Z"
   },
   {
    "duration": 9,
    "start_time": "2023-01-08T11:27:56.323Z"
   },
   {
    "duration": 7,
    "start_time": "2023-01-08T11:28:28.849Z"
   },
   {
    "duration": 12,
    "start_time": "2023-01-08T11:28:30.325Z"
   },
   {
    "duration": 26,
    "start_time": "2023-01-08T11:28:31.002Z"
   },
   {
    "duration": 6,
    "start_time": "2023-01-08T11:28:31.542Z"
   },
   {
    "duration": 9,
    "start_time": "2023-01-08T11:28:34.255Z"
   },
   {
    "duration": 9,
    "start_time": "2023-01-08T11:29:09.631Z"
   },
   {
    "duration": 6,
    "start_time": "2023-01-08T11:29:17.517Z"
   },
   {
    "duration": 8,
    "start_time": "2023-01-08T11:29:33.586Z"
   },
   {
    "duration": 24,
    "start_time": "2023-01-08T11:29:34.725Z"
   },
   {
    "duration": 5,
    "start_time": "2023-01-08T11:29:38.903Z"
   },
   {
    "duration": 5,
    "start_time": "2023-01-08T11:30:13.233Z"
   },
   {
    "duration": 8,
    "start_time": "2023-01-08T11:30:13.529Z"
   },
   {
    "duration": 5,
    "start_time": "2023-01-08T11:30:24.348Z"
   },
   {
    "duration": 7,
    "start_time": "2023-01-08T11:30:34.556Z"
   },
   {
    "duration": 8,
    "start_time": "2023-01-08T11:30:35.010Z"
   },
   {
    "duration": 39,
    "start_time": "2023-01-08T11:30:54.565Z"
   },
   {
    "duration": 7,
    "start_time": "2023-01-08T11:31:01.763Z"
   },
   {
    "duration": 10,
    "start_time": "2023-01-08T11:31:04.523Z"
   },
   {
    "duration": 5,
    "start_time": "2023-01-08T11:31:13.696Z"
   },
   {
    "duration": 9,
    "start_time": "2023-01-08T11:31:17.522Z"
   },
   {
    "duration": 37,
    "start_time": "2023-01-08T11:31:28.643Z"
   },
   {
    "duration": 15,
    "start_time": "2023-01-08T11:31:29.603Z"
   },
   {
    "duration": 393,
    "start_time": "2023-01-08T11:31:30.161Z"
   },
   {
    "duration": 7,
    "start_time": "2023-01-08T11:32:20.977Z"
   },
   {
    "duration": 9,
    "start_time": "2023-01-08T11:32:22.778Z"
   },
   {
    "duration": 54,
    "start_time": "2023-01-08T11:32:26.131Z"
   },
   {
    "duration": 39,
    "start_time": "2023-01-08T11:32:32.512Z"
   },
   {
    "duration": 66,
    "start_time": "2023-01-08T11:32:39.956Z"
   },
   {
    "duration": 39,
    "start_time": "2023-01-08T11:32:46.401Z"
   },
   {
    "duration": 13,
    "start_time": "2023-01-08T11:33:02.704Z"
   },
   {
    "duration": 67,
    "start_time": "2023-01-08T11:33:07.525Z"
   },
   {
    "duration": 16,
    "start_time": "2023-01-08T11:33:19.402Z"
   },
   {
    "duration": 44,
    "start_time": "2023-01-08T11:33:26.175Z"
   },
   {
    "duration": 41,
    "start_time": "2023-01-08T11:33:48.102Z"
   },
   {
    "duration": 34,
    "start_time": "2023-01-08T11:34:10.967Z"
   },
   {
    "duration": 33,
    "start_time": "2023-01-08T11:34:23.136Z"
   },
   {
    "duration": 26,
    "start_time": "2023-01-08T11:34:36.201Z"
   },
   {
    "duration": 6,
    "start_time": "2023-01-08T11:34:40.323Z"
   },
   {
    "duration": 8,
    "start_time": "2023-01-08T11:34:41.003Z"
   },
   {
    "duration": 39,
    "start_time": "2023-01-08T11:34:41.401Z"
   },
   {
    "duration": 5,
    "start_time": "2023-01-08T11:34:46.950Z"
   },
   {
    "duration": 1522,
    "start_time": "2023-01-08T11:34:46.957Z"
   },
   {
    "duration": 10,
    "start_time": "2023-01-08T11:34:48.481Z"
   },
   {
    "duration": 12,
    "start_time": "2023-01-08T11:34:48.493Z"
   },
   {
    "duration": 13,
    "start_time": "2023-01-08T11:34:48.507Z"
   },
   {
    "duration": 23,
    "start_time": "2023-01-08T11:34:48.522Z"
   },
   {
    "duration": 14,
    "start_time": "2023-01-08T11:34:48.550Z"
   },
   {
    "duration": 64,
    "start_time": "2023-01-08T11:34:48.566Z"
   },
   {
    "duration": 10,
    "start_time": "2023-01-08T11:34:48.651Z"
   },
   {
    "duration": 16,
    "start_time": "2023-01-08T11:34:48.665Z"
   },
   {
    "duration": 13,
    "start_time": "2023-01-08T11:34:48.683Z"
   },
   {
    "duration": 41,
    "start_time": "2023-01-08T11:34:48.698Z"
   },
   {
    "duration": 275,
    "start_time": "2023-01-08T11:34:48.750Z"
   },
   {
    "duration": 11,
    "start_time": "2023-01-08T11:34:49.027Z"
   },
   {
    "duration": 6,
    "start_time": "2023-01-08T11:34:49.050Z"
   },
   {
    "duration": 21,
    "start_time": "2023-01-08T11:34:49.058Z"
   },
   {
    "duration": 103,
    "start_time": "2023-01-08T11:34:49.082Z"
   },
   {
    "duration": 12,
    "start_time": "2023-01-08T11:34:49.186Z"
   },
   {
    "duration": 23,
    "start_time": "2023-01-08T11:34:49.202Z"
   },
   {
    "duration": 73,
    "start_time": "2023-01-08T11:34:49.228Z"
   },
   {
    "duration": 89,
    "start_time": "2023-01-08T11:34:49.303Z"
   },
   {
    "duration": 64,
    "start_time": "2023-01-08T11:34:49.393Z"
   },
   {
    "duration": 17,
    "start_time": "2023-01-08T11:34:49.459Z"
   },
   {
    "duration": 21,
    "start_time": "2023-01-08T11:34:49.478Z"
   },
   {
    "duration": 58,
    "start_time": "2023-01-08T11:34:49.500Z"
   },
   {
    "duration": 197,
    "start_time": "2023-01-08T11:34:49.560Z"
   },
   {
    "duration": 6,
    "start_time": "2023-01-08T11:34:56.032Z"
   },
   {
    "duration": 11,
    "start_time": "2023-01-08T11:34:59.085Z"
   },
   {
    "duration": 35,
    "start_time": "2023-01-08T11:35:03.055Z"
   },
   {
    "duration": 7,
    "start_time": "2023-01-08T11:35:42.418Z"
   },
   {
    "duration": 5,
    "start_time": "2023-01-08T11:35:49.932Z"
   },
   {
    "duration": 13,
    "start_time": "2023-01-08T11:37:02.039Z"
   },
   {
    "duration": 7,
    "start_time": "2023-01-08T11:37:06.416Z"
   },
   {
    "duration": 26,
    "start_time": "2023-01-08T11:37:06.825Z"
   },
   {
    "duration": 17,
    "start_time": "2023-01-08T11:37:07.402Z"
   },
   {
    "duration": 5,
    "start_time": "2023-01-08T11:37:13.545Z"
   },
   {
    "duration": 8,
    "start_time": "2023-01-08T11:37:14.593Z"
   },
   {
    "duration": 26,
    "start_time": "2023-01-08T11:37:15.016Z"
   },
   {
    "duration": 6,
    "start_time": "2023-01-08T11:37:19.133Z"
   },
   {
    "duration": 6,
    "start_time": "2023-01-08T11:37:22.331Z"
   },
   {
    "duration": 5,
    "start_time": "2023-01-08T11:37:34.937Z"
   },
   {
    "duration": 8,
    "start_time": "2023-01-08T11:37:35.617Z"
   },
   {
    "duration": 26,
    "start_time": "2023-01-08T11:37:36.052Z"
   },
   {
    "duration": 6,
    "start_time": "2023-01-08T11:37:36.601Z"
   },
   {
    "duration": 5,
    "start_time": "2023-01-08T11:37:43.815Z"
   },
   {
    "duration": 7,
    "start_time": "2023-01-08T11:37:45.113Z"
   },
   {
    "duration": 35,
    "start_time": "2023-01-08T11:37:57.967Z"
   },
   {
    "duration": 11,
    "start_time": "2023-01-08T11:37:58.257Z"
   },
   {
    "duration": 60,
    "start_time": "2023-01-08T11:38:01.696Z"
   },
   {
    "duration": 4,
    "start_time": "2023-01-08T11:38:25.294Z"
   },
   {
    "duration": 1199,
    "start_time": "2023-01-08T11:38:25.310Z"
   },
   {
    "duration": 10,
    "start_time": "2023-01-08T11:38:26.512Z"
   },
   {
    "duration": 16,
    "start_time": "2023-01-08T11:38:26.523Z"
   },
   {
    "duration": 13,
    "start_time": "2023-01-08T11:38:26.541Z"
   },
   {
    "duration": 25,
    "start_time": "2023-01-08T11:38:26.556Z"
   },
   {
    "duration": 12,
    "start_time": "2023-01-08T11:38:26.582Z"
   },
   {
    "duration": 73,
    "start_time": "2023-01-08T11:38:26.596Z"
   },
   {
    "duration": 10,
    "start_time": "2023-01-08T11:38:26.670Z"
   },
   {
    "duration": 21,
    "start_time": "2023-01-08T11:38:26.682Z"
   },
   {
    "duration": 11,
    "start_time": "2023-01-08T11:38:26.705Z"
   },
   {
    "duration": 47,
    "start_time": "2023-01-08T11:38:26.718Z"
   },
   {
    "duration": 264,
    "start_time": "2023-01-08T11:38:26.767Z"
   },
   {
    "duration": 19,
    "start_time": "2023-01-08T11:38:27.032Z"
   },
   {
    "duration": 5,
    "start_time": "2023-01-08T11:38:27.053Z"
   },
   {
    "duration": 24,
    "start_time": "2023-01-08T11:38:27.059Z"
   },
   {
    "duration": 66,
    "start_time": "2023-01-08T11:38:27.084Z"
   },
   {
    "duration": 8,
    "start_time": "2023-01-08T11:38:27.152Z"
   },
   {
    "duration": 16,
    "start_time": "2023-01-08T11:38:27.162Z"
   },
   {
    "duration": 40,
    "start_time": "2023-01-08T11:38:27.179Z"
   },
   {
    "duration": 102,
    "start_time": "2023-01-08T11:38:27.221Z"
   },
   {
    "duration": 62,
    "start_time": "2023-01-08T11:38:27.325Z"
   },
   {
    "duration": 7,
    "start_time": "2023-01-08T11:38:27.389Z"
   },
   {
    "duration": 22,
    "start_time": "2023-01-08T11:38:27.398Z"
   },
   {
    "duration": 54,
    "start_time": "2023-01-08T11:38:27.422Z"
   },
   {
    "duration": 148,
    "start_time": "2023-01-08T11:38:27.478Z"
   },
   {
    "duration": 6,
    "start_time": "2023-01-08T11:38:39.113Z"
   },
   {
    "duration": 9,
    "start_time": "2023-01-08T11:38:43.983Z"
   },
   {
    "duration": 32,
    "start_time": "2023-01-08T11:38:45.252Z"
   },
   {
    "duration": 7,
    "start_time": "2023-01-08T11:39:01.392Z"
   },
   {
    "duration": 6,
    "start_time": "2023-01-08T11:39:10.094Z"
   },
   {
    "duration": 5,
    "start_time": "2023-01-08T11:39:19.581Z"
   },
   {
    "duration": 6,
    "start_time": "2023-01-08T11:39:23.216Z"
   },
   {
    "duration": 7,
    "start_time": "2023-01-08T11:39:26.303Z"
   },
   {
    "duration": 6,
    "start_time": "2023-01-08T11:39:38.447Z"
   },
   {
    "duration": 4,
    "start_time": "2023-01-08T11:39:43.349Z"
   },
   {
    "duration": 1185,
    "start_time": "2023-01-08T11:39:43.356Z"
   },
   {
    "duration": 9,
    "start_time": "2023-01-08T11:39:44.543Z"
   },
   {
    "duration": 42,
    "start_time": "2023-01-08T11:39:44.554Z"
   },
   {
    "duration": 15,
    "start_time": "2023-01-08T11:39:44.599Z"
   },
   {
    "duration": 30,
    "start_time": "2023-01-08T11:39:44.616Z"
   },
   {
    "duration": 27,
    "start_time": "2023-01-08T11:39:44.648Z"
   },
   {
    "duration": 87,
    "start_time": "2023-01-08T11:39:44.677Z"
   },
   {
    "duration": 11,
    "start_time": "2023-01-08T11:39:44.765Z"
   },
   {
    "duration": 31,
    "start_time": "2023-01-08T11:39:44.777Z"
   },
   {
    "duration": 11,
    "start_time": "2023-01-08T11:39:44.810Z"
   },
   {
    "duration": 53,
    "start_time": "2023-01-08T11:39:44.823Z"
   },
   {
    "duration": 282,
    "start_time": "2023-01-08T11:39:44.877Z"
   },
   {
    "duration": 10,
    "start_time": "2023-01-08T11:39:45.160Z"
   },
   {
    "duration": 13,
    "start_time": "2023-01-08T11:39:45.172Z"
   },
   {
    "duration": 42,
    "start_time": "2023-01-08T11:39:45.188Z"
   },
   {
    "duration": 78,
    "start_time": "2023-01-08T11:39:45.232Z"
   },
   {
    "duration": 8,
    "start_time": "2023-01-08T11:39:45.312Z"
   },
   {
    "duration": 31,
    "start_time": "2023-01-08T11:39:45.322Z"
   },
   {
    "duration": 75,
    "start_time": "2023-01-08T11:39:45.355Z"
   },
   {
    "duration": 127,
    "start_time": "2023-01-08T11:39:45.432Z"
   },
   {
    "duration": 63,
    "start_time": "2023-01-08T11:39:45.561Z"
   },
   {
    "duration": 21,
    "start_time": "2023-01-08T11:39:45.626Z"
   },
   {
    "duration": 33,
    "start_time": "2023-01-08T11:39:45.651Z"
   },
   {
    "duration": 36,
    "start_time": "2023-01-08T11:39:45.686Z"
   },
   {
    "duration": 162,
    "start_time": "2023-01-08T11:39:45.724Z"
   },
   {
    "duration": 6,
    "start_time": "2023-01-08T11:39:50.727Z"
   },
   {
    "duration": 8,
    "start_time": "2023-01-08T11:39:51.876Z"
   },
   {
    "duration": 31,
    "start_time": "2023-01-08T11:39:53.138Z"
   },
   {
    "duration": 6,
    "start_time": "2023-01-08T11:39:58.784Z"
   },
   {
    "duration": 5,
    "start_time": "2023-01-08T11:40:06.225Z"
   },
   {
    "duration": 5,
    "start_time": "2023-01-08T11:40:23.717Z"
   },
   {
    "duration": 1001,
    "start_time": "2023-01-08T11:40:23.724Z"
   },
   {
    "duration": 9,
    "start_time": "2023-01-08T11:40:24.727Z"
   },
   {
    "duration": 13,
    "start_time": "2023-01-08T11:40:24.738Z"
   },
   {
    "duration": 13,
    "start_time": "2023-01-08T11:40:24.753Z"
   },
   {
    "duration": 22,
    "start_time": "2023-01-08T11:40:24.768Z"
   },
   {
    "duration": 12,
    "start_time": "2023-01-08T11:40:24.792Z"
   },
   {
    "duration": 86,
    "start_time": "2023-01-08T11:40:24.806Z"
   },
   {
    "duration": 9,
    "start_time": "2023-01-08T11:40:24.894Z"
   },
   {
    "duration": 37,
    "start_time": "2023-01-08T11:40:24.905Z"
   },
   {
    "duration": 22,
    "start_time": "2023-01-08T11:40:24.944Z"
   },
   {
    "duration": 47,
    "start_time": "2023-01-08T11:40:24.968Z"
   },
   {
    "duration": 264,
    "start_time": "2023-01-08T11:40:25.017Z"
   },
   {
    "duration": 10,
    "start_time": "2023-01-08T11:40:25.284Z"
   },
   {
    "duration": 8,
    "start_time": "2023-01-08T11:40:25.296Z"
   },
   {
    "duration": 20,
    "start_time": "2023-01-08T11:40:25.305Z"
   },
   {
    "duration": 74,
    "start_time": "2023-01-08T11:40:25.327Z"
   },
   {
    "duration": 8,
    "start_time": "2023-01-08T11:40:25.403Z"
   },
   {
    "duration": 23,
    "start_time": "2023-01-08T11:40:25.413Z"
   },
   {
    "duration": 50,
    "start_time": "2023-01-08T11:40:25.438Z"
   },
   {
    "duration": 95,
    "start_time": "2023-01-08T11:40:25.490Z"
   },
   {
    "duration": 65,
    "start_time": "2023-01-08T11:40:25.587Z"
   },
   {
    "duration": 8,
    "start_time": "2023-01-08T11:40:25.653Z"
   },
   {
    "duration": 20,
    "start_time": "2023-01-08T11:40:25.663Z"
   },
   {
    "duration": 35,
    "start_time": "2023-01-08T11:40:25.684Z"
   },
   {
    "duration": 182,
    "start_time": "2023-01-08T11:40:25.721Z"
   },
   {
    "duration": 6,
    "start_time": "2023-01-08T11:40:32.480Z"
   },
   {
    "duration": 7,
    "start_time": "2023-01-08T11:40:34.614Z"
   },
   {
    "duration": 32,
    "start_time": "2023-01-08T11:40:35.359Z"
   },
   {
    "duration": 6,
    "start_time": "2023-01-08T11:40:37.425Z"
   },
   {
    "duration": 8,
    "start_time": "2023-01-08T11:40:42.430Z"
   },
   {
    "duration": 1299,
    "start_time": "2023-01-08T11:41:03.424Z"
   },
   {
    "duration": 2578,
    "start_time": "2023-01-08T11:41:04.725Z"
   },
   {
    "duration": 19,
    "start_time": "2023-01-08T11:41:07.305Z"
   },
   {
    "duration": 15,
    "start_time": "2023-01-08T11:41:07.326Z"
   },
   {
    "duration": 25,
    "start_time": "2023-01-08T11:41:07.343Z"
   },
   {
    "duration": 27,
    "start_time": "2023-01-08T11:41:07.369Z"
   },
   {
    "duration": 20,
    "start_time": "2023-01-08T11:41:07.398Z"
   },
   {
    "duration": 69,
    "start_time": "2023-01-08T11:41:07.420Z"
   },
   {
    "duration": 10,
    "start_time": "2023-01-08T11:41:07.491Z"
   },
   {
    "duration": 21,
    "start_time": "2023-01-08T11:41:07.504Z"
   },
   {
    "duration": 26,
    "start_time": "2023-01-08T11:41:07.527Z"
   },
   {
    "duration": 50,
    "start_time": "2023-01-08T11:41:07.555Z"
   },
   {
    "duration": 307,
    "start_time": "2023-01-08T11:41:07.607Z"
   },
   {
    "duration": 10,
    "start_time": "2023-01-08T11:41:07.915Z"
   },
   {
    "duration": 11,
    "start_time": "2023-01-08T11:41:07.927Z"
   },
   {
    "duration": 30,
    "start_time": "2023-01-08T11:41:07.951Z"
   },
   {
    "duration": 63,
    "start_time": "2023-01-08T11:41:07.983Z"
   },
   {
    "duration": 12,
    "start_time": "2023-01-08T11:41:08.048Z"
   },
   {
    "duration": 13,
    "start_time": "2023-01-08T11:41:08.062Z"
   },
   {
    "duration": 50,
    "start_time": "2023-01-08T11:41:08.078Z"
   },
   {
    "duration": 113,
    "start_time": "2023-01-08T11:41:08.131Z"
   },
   {
    "duration": 63,
    "start_time": "2023-01-08T11:41:08.246Z"
   },
   {
    "duration": 29,
    "start_time": "2023-01-08T11:41:08.311Z"
   },
   {
    "duration": 31,
    "start_time": "2023-01-08T11:41:08.342Z"
   },
   {
    "duration": 47,
    "start_time": "2023-01-08T11:41:08.375Z"
   },
   {
    "duration": 156,
    "start_time": "2023-01-08T11:41:08.424Z"
   },
   {
    "duration": 6,
    "start_time": "2023-01-08T11:41:08.582Z"
   },
   {
    "duration": 8,
    "start_time": "2023-01-08T11:41:08.592Z"
   },
   {
    "duration": 58,
    "start_time": "2023-01-08T11:41:08.603Z"
   },
   {
    "duration": 7,
    "start_time": "2023-01-08T11:41:08.663Z"
   },
   {
    "duration": 25,
    "start_time": "2023-01-08T11:41:08.672Z"
   },
   {
    "duration": 11,
    "start_time": "2023-01-08T11:41:08.699Z"
   },
   {
    "duration": 53,
    "start_time": "2023-01-08T11:41:08.712Z"
   },
   {
    "duration": 12,
    "start_time": "2023-01-08T11:41:08.767Z"
   },
   {
    "duration": 440,
    "start_time": "2023-01-08T11:41:08.780Z"
   },
   {
    "duration": 39,
    "start_time": "2023-01-08T11:41:09.223Z"
   },
   {
    "duration": 246,
    "start_time": "2023-01-08T11:41:09.264Z"
   },
   {
    "duration": 22,
    "start_time": "2023-01-08T11:41:09.511Z"
   },
   {
    "duration": 28,
    "start_time": "2023-01-08T11:41:09.535Z"
   },
   {
    "duration": 73,
    "start_time": "2023-01-08T11:41:09.565Z"
   },
   {
    "duration": 33,
    "start_time": "2023-01-08T11:41:09.641Z"
   },
   {
    "duration": 40,
    "start_time": "2023-01-08T11:41:09.677Z"
   },
   {
    "duration": 37,
    "start_time": "2023-01-08T11:41:09.719Z"
   },
   {
    "duration": 74,
    "start_time": "2023-01-08T11:41:09.758Z"
   },
   {
    "duration": 700,
    "start_time": "2023-01-08T11:41:09.834Z"
   },
   {
    "duration": 19,
    "start_time": "2023-01-08T11:41:10.536Z"
   },
   {
    "duration": 18,
    "start_time": "2023-01-08T11:41:10.557Z"
   },
   {
    "duration": 185,
    "start_time": "2023-01-08T11:41:10.576Z"
   },
   {
    "duration": 21,
    "start_time": "2023-01-08T11:41:10.763Z"
   },
   {
    "duration": 13,
    "start_time": "2023-01-08T11:41:10.786Z"
   },
   {
    "duration": 85,
    "start_time": "2023-01-08T11:41:10.801Z"
   },
   {
    "duration": 34,
    "start_time": "2023-01-08T11:41:10.888Z"
   },
   {
    "duration": 411,
    "start_time": "2023-01-08T11:41:10.924Z"
   },
   {
    "duration": 758,
    "start_time": "2023-01-08T11:41:11.340Z"
   },
   {
    "duration": 11,
    "start_time": "2023-01-08T11:41:12.100Z"
   },
   {
    "duration": 20,
    "start_time": "2023-01-08T11:41:12.113Z"
   },
   {
    "duration": 9,
    "start_time": "2023-01-08T11:41:12.152Z"
   },
   {
    "duration": 542,
    "start_time": "2023-01-08T11:41:12.163Z"
   },
   {
    "duration": 188,
    "start_time": "2023-01-08T11:41:12.706Z"
   },
   {
    "duration": 8,
    "start_time": "2023-01-08T11:41:12.896Z"
   },
   {
    "duration": 14,
    "start_time": "2023-01-08T11:41:12.905Z"
   },
   {
    "duration": 31,
    "start_time": "2023-01-08T11:41:12.921Z"
   },
   {
    "duration": 33,
    "start_time": "2023-01-08T11:41:12.954Z"
   },
   {
    "duration": 4,
    "start_time": "2023-01-08T11:41:26.050Z"
   },
   {
    "duration": 963,
    "start_time": "2023-01-08T11:41:26.892Z"
   },
   {
    "duration": 10,
    "start_time": "2023-01-08T11:41:28.288Z"
   },
   {
    "duration": 11,
    "start_time": "2023-01-08T11:41:28.746Z"
   },
   {
    "duration": 16,
    "start_time": "2023-01-08T11:41:29.695Z"
   },
   {
    "duration": 27,
    "start_time": "2023-01-08T11:41:30.205Z"
   },
   {
    "duration": 14,
    "start_time": "2023-01-08T11:41:31.137Z"
   },
   {
    "duration": 76,
    "start_time": "2023-01-08T11:41:32.131Z"
   },
   {
    "duration": 11,
    "start_time": "2023-01-08T11:41:33.168Z"
   },
   {
    "duration": 22,
    "start_time": "2023-01-08T11:41:33.349Z"
   },
   {
    "duration": 6,
    "start_time": "2023-01-08T11:41:34.866Z"
   },
   {
    "duration": 33,
    "start_time": "2023-01-08T11:41:35.072Z"
   },
   {
    "duration": 335,
    "start_time": "2023-01-08T11:41:35.295Z"
   },
   {
    "duration": 18,
    "start_time": "2023-01-08T11:41:35.633Z"
   },
   {
    "duration": 7,
    "start_time": "2023-01-08T11:41:36.308Z"
   },
   {
    "duration": 15,
    "start_time": "2023-01-08T11:41:36.492Z"
   },
   {
    "duration": 60,
    "start_time": "2023-01-08T11:41:36.669Z"
   },
   {
    "duration": 10,
    "start_time": "2023-01-08T11:41:37.045Z"
   },
   {
    "duration": 9,
    "start_time": "2023-01-08T11:41:37.535Z"
   },
   {
    "duration": 42,
    "start_time": "2023-01-08T11:41:37.825Z"
   },
   {
    "duration": 77,
    "start_time": "2023-01-08T11:41:38.057Z"
   },
   {
    "duration": 61,
    "start_time": "2023-01-08T11:41:39.337Z"
   },
   {
    "duration": 7,
    "start_time": "2023-01-08T11:41:40.535Z"
   },
   {
    "duration": 19,
    "start_time": "2023-01-08T11:41:42.473Z"
   },
   {
    "duration": 34,
    "start_time": "2023-01-08T11:41:42.949Z"
   },
   {
    "duration": 149,
    "start_time": "2023-01-08T11:41:43.362Z"
   },
   {
    "duration": 6,
    "start_time": "2023-01-08T11:41:46.425Z"
   },
   {
    "duration": 10,
    "start_time": "2023-01-08T11:41:49.604Z"
   },
   {
    "duration": 31,
    "start_time": "2023-01-08T11:41:50.761Z"
   },
   {
    "duration": 6,
    "start_time": "2023-01-08T11:41:52.683Z"
   },
   {
    "duration": 6,
    "start_time": "2023-01-08T11:42:15.732Z"
   },
   {
    "duration": 167,
    "start_time": "2023-01-08T11:42:29.869Z"
   },
   {
    "duration": 15,
    "start_time": "2023-01-08T11:42:40.080Z"
   },
   {
    "duration": 5,
    "start_time": "2023-01-08T11:43:52.668Z"
   },
   {
    "duration": 7,
    "start_time": "2023-01-08T11:44:03.761Z"
   },
   {
    "duration": 6,
    "start_time": "2023-01-08T11:44:06.725Z"
   },
   {
    "duration": 9,
    "start_time": "2023-01-08T11:44:10.561Z"
   },
   {
    "duration": 6,
    "start_time": "2023-01-08T11:44:29.590Z"
   },
   {
    "duration": 1344,
    "start_time": "2023-01-08T11:44:29.600Z"
   },
   {
    "duration": 10,
    "start_time": "2023-01-08T11:44:30.946Z"
   },
   {
    "duration": 28,
    "start_time": "2023-01-08T11:44:30.959Z"
   },
   {
    "duration": 29,
    "start_time": "2023-01-08T11:44:30.989Z"
   },
   {
    "duration": 31,
    "start_time": "2023-01-08T11:44:31.020Z"
   },
   {
    "duration": 36,
    "start_time": "2023-01-08T11:44:31.053Z"
   },
   {
    "duration": 88,
    "start_time": "2023-01-08T11:44:31.091Z"
   },
   {
    "duration": 10,
    "start_time": "2023-01-08T11:44:31.181Z"
   },
   {
    "duration": 70,
    "start_time": "2023-01-08T11:44:31.194Z"
   },
   {
    "duration": 25,
    "start_time": "2023-01-08T11:44:31.266Z"
   },
   {
    "duration": 46,
    "start_time": "2023-01-08T11:44:31.293Z"
   },
   {
    "duration": 267,
    "start_time": "2023-01-08T11:44:31.341Z"
   },
   {
    "duration": 10,
    "start_time": "2023-01-08T11:44:31.609Z"
   },
   {
    "duration": 11,
    "start_time": "2023-01-08T11:44:31.621Z"
   },
   {
    "duration": 31,
    "start_time": "2023-01-08T11:44:31.634Z"
   },
   {
    "duration": 70,
    "start_time": "2023-01-08T11:44:31.668Z"
   },
   {
    "duration": 10,
    "start_time": "2023-01-08T11:44:31.740Z"
   },
   {
    "duration": 29,
    "start_time": "2023-01-08T11:44:31.752Z"
   },
   {
    "duration": 50,
    "start_time": "2023-01-08T11:44:31.783Z"
   },
   {
    "duration": 107,
    "start_time": "2023-01-08T11:44:31.835Z"
   },
   {
    "duration": 61,
    "start_time": "2023-01-08T11:44:31.943Z"
   },
   {
    "duration": 16,
    "start_time": "2023-01-08T11:44:32.006Z"
   },
   {
    "duration": 30,
    "start_time": "2023-01-08T11:44:32.023Z"
   },
   {
    "duration": 36,
    "start_time": "2023-01-08T11:44:32.055Z"
   },
   {
    "duration": 196,
    "start_time": "2023-01-08T11:44:32.093Z"
   },
   {
    "duration": 7,
    "start_time": "2023-01-08T11:44:35.705Z"
   },
   {
    "duration": 9,
    "start_time": "2023-01-08T11:44:36.370Z"
   },
   {
    "duration": 32,
    "start_time": "2023-01-08T11:44:36.778Z"
   },
   {
    "duration": 6,
    "start_time": "2023-01-08T11:44:37.474Z"
   },
   {
    "duration": 6,
    "start_time": "2023-01-08T11:44:41.164Z"
   },
   {
    "duration": 9,
    "start_time": "2023-01-08T11:45:06.060Z"
   },
   {
    "duration": 6,
    "start_time": "2023-01-08T11:45:14.629Z"
   },
   {
    "duration": 15,
    "start_time": "2023-01-08T11:45:28.229Z"
   },
   {
    "duration": 7,
    "start_time": "2023-01-08T11:45:35.558Z"
   },
   {
    "duration": 13,
    "start_time": "2023-01-08T11:45:50.669Z"
   },
   {
    "duration": 5,
    "start_time": "2023-01-08T11:45:56.862Z"
   },
   {
    "duration": 85,
    "start_time": "2023-01-08T11:46:05.533Z"
   },
   {
    "duration": 70,
    "start_time": "2023-01-08T11:46:09.163Z"
   },
   {
    "duration": 65,
    "start_time": "2023-01-08T11:46:35.971Z"
   },
   {
    "duration": 164,
    "start_time": "2023-01-08T11:46:40.609Z"
   },
   {
    "duration": 5,
    "start_time": "2023-01-08T11:47:01.592Z"
   },
   {
    "duration": 8,
    "start_time": "2023-01-08T11:47:24.010Z"
   },
   {
    "duration": 34,
    "start_time": "2023-01-08T11:47:24.335Z"
   },
   {
    "duration": 12,
    "start_time": "2023-01-08T11:47:43.832Z"
   },
   {
    "duration": 5,
    "start_time": "2023-01-08T11:47:50.495Z"
   },
   {
    "duration": 8,
    "start_time": "2023-01-08T11:47:50.855Z"
   },
   {
    "duration": 30,
    "start_time": "2023-01-08T11:47:51.049Z"
   },
   {
    "duration": 13,
    "start_time": "2023-01-08T11:47:51.229Z"
   },
   {
    "duration": 6,
    "start_time": "2023-01-08T11:47:55.217Z"
   },
   {
    "duration": 5,
    "start_time": "2023-01-08T11:48:07.994Z"
   },
   {
    "duration": 10,
    "start_time": "2023-01-08T11:48:09.804Z"
   },
   {
    "duration": 27,
    "start_time": "2023-01-08T11:49:09.268Z"
   },
   {
    "duration": 31,
    "start_time": "2023-01-08T11:49:25.689Z"
   },
   {
    "duration": 7,
    "start_time": "2023-01-08T11:49:33.210Z"
   },
   {
    "duration": 29,
    "start_time": "2023-01-08T11:49:33.591Z"
   },
   {
    "duration": 31,
    "start_time": "2023-01-08T11:49:45.469Z"
   },
   {
    "duration": 13,
    "start_time": "2023-01-08T11:49:57.101Z"
   },
   {
    "duration": 12,
    "start_time": "2023-01-08T12:05:38.789Z"
   },
   {
    "duration": 6,
    "start_time": "2023-01-08T12:05:56.935Z"
   },
   {
    "duration": 11,
    "start_time": "2023-01-08T12:06:00.649Z"
   },
   {
    "duration": 6,
    "start_time": "2023-01-08T12:06:16.603Z"
   },
   {
    "duration": 8,
    "start_time": "2023-01-08T12:06:18.983Z"
   },
   {
    "duration": 8,
    "start_time": "2023-01-08T12:06:25.444Z"
   },
   {
    "duration": 8,
    "start_time": "2023-01-08T12:06:26.023Z"
   },
   {
    "duration": 26,
    "start_time": "2023-01-08T12:06:26.553Z"
   },
   {
    "duration": 6,
    "start_time": "2023-01-08T12:06:28.322Z"
   },
   {
    "duration": 7,
    "start_time": "2023-01-08T12:06:30.690Z"
   },
   {
    "duration": 7,
    "start_time": "2023-01-08T12:06:36.981Z"
   },
   {
    "duration": 6,
    "start_time": "2023-01-08T12:06:42.986Z"
   },
   {
    "duration": 1286,
    "start_time": "2023-01-08T12:06:42.995Z"
   },
   {
    "duration": 9,
    "start_time": "2023-01-08T12:06:44.283Z"
   },
   {
    "duration": 30,
    "start_time": "2023-01-08T12:06:44.295Z"
   },
   {
    "duration": 24,
    "start_time": "2023-01-08T12:06:44.327Z"
   },
   {
    "duration": 32,
    "start_time": "2023-01-08T12:06:44.353Z"
   },
   {
    "duration": 28,
    "start_time": "2023-01-08T12:06:44.387Z"
   },
   {
    "duration": 78,
    "start_time": "2023-01-08T12:06:44.417Z"
   },
   {
    "duration": 10,
    "start_time": "2023-01-08T12:06:44.497Z"
   },
   {
    "duration": 22,
    "start_time": "2023-01-08T12:06:44.510Z"
   },
   {
    "duration": 42,
    "start_time": "2023-01-08T12:06:44.534Z"
   },
   {
    "duration": 47,
    "start_time": "2023-01-08T12:06:44.578Z"
   },
   {
    "duration": 255,
    "start_time": "2023-01-08T12:06:44.627Z"
   },
   {
    "duration": 10,
    "start_time": "2023-01-08T12:06:44.884Z"
   },
   {
    "duration": 32,
    "start_time": "2023-01-08T12:06:44.896Z"
   },
   {
    "duration": 38,
    "start_time": "2023-01-08T12:06:44.930Z"
   },
   {
    "duration": 82,
    "start_time": "2023-01-08T12:06:44.970Z"
   },
   {
    "duration": 9,
    "start_time": "2023-01-08T12:06:45.054Z"
   },
   {
    "duration": 28,
    "start_time": "2023-01-08T12:06:45.065Z"
   },
   {
    "duration": 61,
    "start_time": "2023-01-08T12:06:45.095Z"
   },
   {
    "duration": 97,
    "start_time": "2023-01-08T12:06:45.158Z"
   },
   {
    "duration": 59,
    "start_time": "2023-01-08T12:06:45.258Z"
   },
   {
    "duration": 22,
    "start_time": "2023-01-08T12:06:45.319Z"
   },
   {
    "duration": 29,
    "start_time": "2023-01-08T12:06:45.350Z"
   },
   {
    "duration": 61,
    "start_time": "2023-01-08T12:06:45.381Z"
   },
   {
    "duration": 160,
    "start_time": "2023-01-08T12:06:45.444Z"
   },
   {
    "duration": 7,
    "start_time": "2023-01-08T12:07:39.204Z"
   },
   {
    "duration": 8,
    "start_time": "2023-01-08T12:07:40.984Z"
   },
   {
    "duration": 31,
    "start_time": "2023-01-08T12:07:42.027Z"
   },
   {
    "duration": 6,
    "start_time": "2023-01-08T12:07:47.487Z"
   },
   {
    "duration": 8,
    "start_time": "2023-01-08T12:07:51.581Z"
   },
   {
    "duration": 6,
    "start_time": "2023-01-08T12:09:01.928Z"
   },
   {
    "duration": 7,
    "start_time": "2023-01-08T12:09:03.569Z"
   },
   {
    "duration": 25,
    "start_time": "2023-01-08T12:09:03.787Z"
   },
   {
    "duration": 5,
    "start_time": "2023-01-08T12:09:04.541Z"
   },
   {
    "duration": 5,
    "start_time": "2023-01-08T12:09:06.527Z"
   },
   {
    "duration": 6,
    "start_time": "2023-01-08T12:09:17.917Z"
   },
   {
    "duration": 7,
    "start_time": "2023-01-08T12:09:18.513Z"
   },
   {
    "duration": 26,
    "start_time": "2023-01-08T12:09:18.906Z"
   },
   {
    "duration": 5,
    "start_time": "2023-01-08T12:09:19.290Z"
   },
   {
    "duration": 5,
    "start_time": "2023-01-08T12:09:21.669Z"
   },
   {
    "duration": 7,
    "start_time": "2023-01-08T12:09:23.735Z"
   },
   {
    "duration": 4,
    "start_time": "2023-01-08T12:09:29.931Z"
   },
   {
    "duration": 1227,
    "start_time": "2023-01-08T12:09:29.937Z"
   },
   {
    "duration": 10,
    "start_time": "2023-01-08T12:09:31.166Z"
   },
   {
    "duration": 32,
    "start_time": "2023-01-08T12:09:31.179Z"
   },
   {
    "duration": 25,
    "start_time": "2023-01-08T12:09:31.213Z"
   },
   {
    "duration": 25,
    "start_time": "2023-01-08T12:09:31.240Z"
   },
   {
    "duration": 25,
    "start_time": "2023-01-08T12:09:31.267Z"
   },
   {
    "duration": 83,
    "start_time": "2023-01-08T12:09:31.294Z"
   },
   {
    "duration": 11,
    "start_time": "2023-01-08T12:09:31.380Z"
   },
   {
    "duration": 24,
    "start_time": "2023-01-08T12:09:31.392Z"
   },
   {
    "duration": 10,
    "start_time": "2023-01-08T12:09:31.418Z"
   },
   {
    "duration": 41,
    "start_time": "2023-01-08T12:09:31.430Z"
   },
   {
    "duration": 275,
    "start_time": "2023-01-08T12:09:31.472Z"
   },
   {
    "duration": 10,
    "start_time": "2023-01-08T12:09:31.751Z"
   },
   {
    "duration": 30,
    "start_time": "2023-01-08T12:09:31.762Z"
   },
   {
    "duration": 29,
    "start_time": "2023-01-08T12:09:31.793Z"
   },
   {
    "duration": 69,
    "start_time": "2023-01-08T12:09:31.824Z"
   },
   {
    "duration": 12,
    "start_time": "2023-01-08T12:09:31.896Z"
   },
   {
    "duration": 39,
    "start_time": "2023-01-08T12:09:31.910Z"
   },
   {
    "duration": 39,
    "start_time": "2023-01-08T12:09:31.951Z"
   },
   {
    "duration": 87,
    "start_time": "2023-01-08T12:09:31.992Z"
   },
   {
    "duration": 72,
    "start_time": "2023-01-08T12:09:32.081Z"
   },
   {
    "duration": 9,
    "start_time": "2023-01-08T12:09:32.154Z"
   },
   {
    "duration": 53,
    "start_time": "2023-01-08T12:09:32.165Z"
   },
   {
    "duration": 40,
    "start_time": "2023-01-08T12:09:32.220Z"
   },
   {
    "duration": 158,
    "start_time": "2023-01-08T12:09:32.262Z"
   },
   {
    "duration": 6,
    "start_time": "2023-01-08T12:09:41.177Z"
   },
   {
    "duration": 8,
    "start_time": "2023-01-08T12:09:45.424Z"
   },
   {
    "duration": 32,
    "start_time": "2023-01-08T12:09:47.997Z"
   },
   {
    "duration": 7,
    "start_time": "2023-01-08T12:10:03.630Z"
   },
   {
    "duration": 7,
    "start_time": "2023-01-08T12:10:06.180Z"
   },
   {
    "duration": 6,
    "start_time": "2023-01-08T12:10:09.858Z"
   },
   {
    "duration": 17,
    "start_time": "2023-01-08T12:10:29.696Z"
   },
   {
    "duration": 6,
    "start_time": "2023-01-08T12:10:39.077Z"
   },
   {
    "duration": 8,
    "start_time": "2023-01-08T12:10:42.065Z"
   },
   {
    "duration": 8,
    "start_time": "2023-01-08T12:10:46.436Z"
   },
   {
    "duration": 9,
    "start_time": "2023-01-08T12:11:05.339Z"
   },
   {
    "duration": 26,
    "start_time": "2023-01-08T12:11:07.650Z"
   },
   {
    "duration": 6,
    "start_time": "2023-01-08T12:11:09.278Z"
   },
   {
    "duration": 4,
    "start_time": "2023-01-08T12:11:11.335Z"
   },
   {
    "duration": 4,
    "start_time": "2023-01-08T12:11:33.661Z"
   },
   {
    "duration": 1455,
    "start_time": "2023-01-08T12:11:33.667Z"
   },
   {
    "duration": 11,
    "start_time": "2023-01-08T12:11:35.124Z"
   },
   {
    "duration": 18,
    "start_time": "2023-01-08T12:11:35.136Z"
   },
   {
    "duration": 15,
    "start_time": "2023-01-08T12:11:35.156Z"
   },
   {
    "duration": 35,
    "start_time": "2023-01-08T12:11:35.172Z"
   },
   {
    "duration": 19,
    "start_time": "2023-01-08T12:11:35.208Z"
   },
   {
    "duration": 68,
    "start_time": "2023-01-08T12:11:35.229Z"
   },
   {
    "duration": 11,
    "start_time": "2023-01-08T12:11:35.299Z"
   },
   {
    "duration": 26,
    "start_time": "2023-01-08T12:11:35.312Z"
   },
   {
    "duration": 12,
    "start_time": "2023-01-08T12:11:35.342Z"
   },
   {
    "duration": 41,
    "start_time": "2023-01-08T12:11:35.356Z"
   },
   {
    "duration": 292,
    "start_time": "2023-01-08T12:11:35.399Z"
   },
   {
    "duration": 11,
    "start_time": "2023-01-08T12:11:35.692Z"
   },
   {
    "duration": 12,
    "start_time": "2023-01-08T12:11:35.705Z"
   },
   {
    "duration": 32,
    "start_time": "2023-01-08T12:11:35.719Z"
   },
   {
    "duration": 58,
    "start_time": "2023-01-08T12:11:35.753Z"
   },
   {
    "duration": 10,
    "start_time": "2023-01-08T12:11:35.813Z"
   },
   {
    "duration": 33,
    "start_time": "2023-01-08T12:11:35.825Z"
   },
   {
    "duration": 45,
    "start_time": "2023-01-08T12:11:35.860Z"
   },
   {
    "duration": 93,
    "start_time": "2023-01-08T12:11:35.907Z"
   },
   {
    "duration": 67,
    "start_time": "2023-01-08T12:11:36.002Z"
   },
   {
    "duration": 21,
    "start_time": "2023-01-08T12:11:36.071Z"
   },
   {
    "duration": 32,
    "start_time": "2023-01-08T12:11:36.094Z"
   },
   {
    "duration": 44,
    "start_time": "2023-01-08T12:11:36.128Z"
   },
   {
    "duration": 163,
    "start_time": "2023-01-08T12:11:36.174Z"
   },
   {
    "duration": 6,
    "start_time": "2023-01-08T12:11:44.728Z"
   },
   {
    "duration": 11,
    "start_time": "2023-01-08T12:11:45.844Z"
   },
   {
    "duration": 34,
    "start_time": "2023-01-08T12:11:46.534Z"
   },
   {
    "duration": 7,
    "start_time": "2023-01-08T12:11:48.494Z"
   },
   {
    "duration": 7,
    "start_time": "2023-01-08T12:11:51.193Z"
   },
   {
    "duration": 6,
    "start_time": "2023-01-08T12:12:04.793Z"
   },
   {
    "duration": 7,
    "start_time": "2023-01-08T12:12:05.271Z"
   },
   {
    "duration": 7,
    "start_time": "2023-01-08T12:12:07.540Z"
   },
   {
    "duration": 6,
    "start_time": "2023-01-08T12:12:13.829Z"
   },
   {
    "duration": 6,
    "start_time": "2023-01-08T12:12:15.953Z"
   },
   {
    "duration": 11,
    "start_time": "2023-01-08T12:12:16.892Z"
   },
   {
    "duration": 41,
    "start_time": "2023-01-08T12:12:17.308Z"
   },
   {
    "duration": 8,
    "start_time": "2023-01-08T12:12:17.712Z"
   },
   {
    "duration": 6,
    "start_time": "2023-01-08T12:12:18.030Z"
   },
   {
    "duration": 9,
    "start_time": "2023-01-08T12:12:19.811Z"
   },
   {
    "duration": 8,
    "start_time": "2023-01-08T12:12:21.464Z"
   },
   {
    "duration": 8,
    "start_time": "2023-01-08T12:12:24.609Z"
   },
   {
    "duration": 6,
    "start_time": "2023-01-08T12:12:27.282Z"
   },
   {
    "duration": 15,
    "start_time": "2023-01-08T12:12:28.544Z"
   },
   {
    "duration": 33,
    "start_time": "2023-01-08T12:12:29.042Z"
   },
   {
    "duration": 6,
    "start_time": "2023-01-08T12:12:30.010Z"
   },
   {
    "duration": 6,
    "start_time": "2023-01-08T12:12:31.100Z"
   },
   {
    "duration": 77,
    "start_time": "2023-01-08T12:12:45.821Z"
   },
   {
    "duration": 8,
    "start_time": "2023-01-08T12:12:49.983Z"
   },
   {
    "duration": 6,
    "start_time": "2023-01-08T12:12:50.779Z"
   },
   {
    "duration": 7,
    "start_time": "2023-01-08T12:12:53.959Z"
   },
   {
    "duration": 6,
    "start_time": "2023-01-08T12:13:31.138Z"
   },
   {
    "duration": 7,
    "start_time": "2023-01-08T12:13:32.410Z"
   },
   {
    "duration": 28,
    "start_time": "2023-01-08T12:13:32.632Z"
   },
   {
    "duration": 7,
    "start_time": "2023-01-08T12:13:32.876Z"
   },
   {
    "duration": 7,
    "start_time": "2023-01-08T12:13:33.116Z"
   },
   {
    "duration": 6,
    "start_time": "2023-01-08T12:13:36.304Z"
   },
   {
    "duration": 4,
    "start_time": "2023-01-08T12:13:41.923Z"
   },
   {
    "duration": 1080,
    "start_time": "2023-01-08T12:13:41.929Z"
   },
   {
    "duration": 9,
    "start_time": "2023-01-08T12:13:43.011Z"
   },
   {
    "duration": 24,
    "start_time": "2023-01-08T12:13:43.023Z"
   },
   {
    "duration": 23,
    "start_time": "2023-01-08T12:13:43.049Z"
   },
   {
    "duration": 23,
    "start_time": "2023-01-08T12:13:43.074Z"
   },
   {
    "duration": 13,
    "start_time": "2023-01-08T12:13:43.099Z"
   },
   {
    "duration": 80,
    "start_time": "2023-01-08T12:13:43.114Z"
   },
   {
    "duration": 10,
    "start_time": "2023-01-08T12:13:43.196Z"
   },
   {
    "duration": 20,
    "start_time": "2023-01-08T12:13:43.208Z"
   },
   {
    "duration": 22,
    "start_time": "2023-01-08T12:13:43.229Z"
   },
   {
    "duration": 33,
    "start_time": "2023-01-08T12:13:43.254Z"
   },
   {
    "duration": 277,
    "start_time": "2023-01-08T12:13:43.288Z"
   },
   {
    "duration": 11,
    "start_time": "2023-01-08T12:13:43.568Z"
   },
   {
    "duration": 5,
    "start_time": "2023-01-08T12:13:43.580Z"
   },
   {
    "duration": 22,
    "start_time": "2023-01-08T12:13:43.587Z"
   },
   {
    "duration": 81,
    "start_time": "2023-01-08T12:13:43.611Z"
   },
   {
    "duration": 8,
    "start_time": "2023-01-08T12:13:43.694Z"
   },
   {
    "duration": 17,
    "start_time": "2023-01-08T12:13:43.704Z"
   },
   {
    "duration": 71,
    "start_time": "2023-01-08T12:13:43.723Z"
   },
   {
    "duration": 85,
    "start_time": "2023-01-08T12:13:43.796Z"
   },
   {
    "duration": 57,
    "start_time": "2023-01-08T12:13:43.883Z"
   },
   {
    "duration": 17,
    "start_time": "2023-01-08T12:13:43.942Z"
   },
   {
    "duration": 21,
    "start_time": "2023-01-08T12:13:43.961Z"
   },
   {
    "duration": 39,
    "start_time": "2023-01-08T12:13:43.985Z"
   },
   {
    "duration": 166,
    "start_time": "2023-01-08T12:13:44.050Z"
   },
   {
    "duration": 7,
    "start_time": "2023-01-08T12:13:52.687Z"
   },
   {
    "duration": 8,
    "start_time": "2023-01-08T12:13:56.263Z"
   },
   {
    "duration": 31,
    "start_time": "2023-01-08T12:13:58.485Z"
   },
   {
    "duration": 6,
    "start_time": "2023-01-08T12:14:02.452Z"
   },
   {
    "duration": 5,
    "start_time": "2023-01-08T12:14:04.452Z"
   },
   {
    "duration": 6,
    "start_time": "2023-01-08T12:14:11.173Z"
   },
   {
    "duration": 13,
    "start_time": "2023-01-08T12:14:45.513Z"
   },
   {
    "duration": 1375,
    "start_time": "2023-01-08T12:15:02.349Z"
   },
   {
    "duration": 1219,
    "start_time": "2023-01-08T12:15:03.726Z"
   },
   {
    "duration": 14,
    "start_time": "2023-01-08T12:15:04.947Z"
   },
   {
    "duration": 34,
    "start_time": "2023-01-08T12:15:04.964Z"
   },
   {
    "duration": 37,
    "start_time": "2023-01-08T12:15:05.000Z"
   },
   {
    "duration": 33,
    "start_time": "2023-01-08T12:15:05.039Z"
   },
   {
    "duration": 23,
    "start_time": "2023-01-08T12:15:05.074Z"
   },
   {
    "duration": 111,
    "start_time": "2023-01-08T12:15:05.099Z"
   },
   {
    "duration": 11,
    "start_time": "2023-01-08T12:15:05.212Z"
   },
   {
    "duration": 35,
    "start_time": "2023-01-08T12:15:05.225Z"
   },
   {
    "duration": 16,
    "start_time": "2023-01-08T12:15:05.262Z"
   },
   {
    "duration": 61,
    "start_time": "2023-01-08T12:15:05.280Z"
   },
   {
    "duration": 330,
    "start_time": "2023-01-08T12:15:05.343Z"
   },
   {
    "duration": 10,
    "start_time": "2023-01-08T12:15:05.675Z"
   },
   {
    "duration": 15,
    "start_time": "2023-01-08T12:15:05.686Z"
   },
   {
    "duration": 20,
    "start_time": "2023-01-08T12:15:05.703Z"
   },
   {
    "duration": 81,
    "start_time": "2023-01-08T12:15:05.725Z"
   },
   {
    "duration": 9,
    "start_time": "2023-01-08T12:15:05.808Z"
   },
   {
    "duration": 17,
    "start_time": "2023-01-08T12:15:05.819Z"
   },
   {
    "duration": 50,
    "start_time": "2023-01-08T12:15:05.838Z"
   },
   {
    "duration": 103,
    "start_time": "2023-01-08T12:15:05.889Z"
   },
   {
    "duration": 65,
    "start_time": "2023-01-08T12:15:05.993Z"
   },
   {
    "duration": 21,
    "start_time": "2023-01-08T12:15:06.059Z"
   },
   {
    "duration": 30,
    "start_time": "2023-01-08T12:15:06.081Z"
   },
   {
    "duration": 32,
    "start_time": "2023-01-08T12:15:06.113Z"
   },
   {
    "duration": 160,
    "start_time": "2023-01-08T12:15:06.151Z"
   },
   {
    "duration": 5,
    "start_time": "2023-01-08T12:15:06.313Z"
   },
   {
    "duration": 28,
    "start_time": "2023-01-08T12:15:06.324Z"
   },
   {
    "duration": 30,
    "start_time": "2023-01-08T12:15:06.354Z"
   },
   {
    "duration": 6,
    "start_time": "2023-01-08T12:15:06.386Z"
   },
   {
    "duration": 18,
    "start_time": "2023-01-08T12:15:06.393Z"
   },
   {
    "duration": 10,
    "start_time": "2023-01-08T12:15:06.413Z"
   },
   {
    "duration": 29,
    "start_time": "2023-01-08T12:15:06.425Z"
   },
   {
    "duration": 41,
    "start_time": "2023-01-08T12:15:06.456Z"
   },
   {
    "duration": 12,
    "start_time": "2023-01-08T12:15:06.498Z"
   },
   {
    "duration": 388,
    "start_time": "2023-01-08T12:15:06.512Z"
   },
   {
    "duration": 11,
    "start_time": "2023-01-08T12:15:06.902Z"
   },
   {
    "duration": 236,
    "start_time": "2023-01-08T12:15:06.915Z"
   },
   {
    "duration": 21,
    "start_time": "2023-01-08T12:15:07.152Z"
   },
   {
    "duration": 7,
    "start_time": "2023-01-08T12:15:07.175Z"
   },
   {
    "duration": 22,
    "start_time": "2023-01-08T12:15:07.184Z"
   },
   {
    "duration": 13,
    "start_time": "2023-01-08T12:15:07.208Z"
   },
   {
    "duration": 31,
    "start_time": "2023-01-08T12:15:07.223Z"
   },
   {
    "duration": 13,
    "start_time": "2023-01-08T12:15:07.256Z"
   },
   {
    "duration": 41,
    "start_time": "2023-01-08T12:15:07.271Z"
   },
   {
    "duration": 562,
    "start_time": "2023-01-08T12:15:07.314Z"
   },
   {
    "duration": 10,
    "start_time": "2023-01-08T12:15:07.878Z"
   },
   {
    "duration": 19,
    "start_time": "2023-01-08T12:15:07.890Z"
   },
   {
    "duration": 165,
    "start_time": "2023-01-08T12:15:07.911Z"
   },
   {
    "duration": 17,
    "start_time": "2023-01-08T12:15:08.077Z"
   },
   {
    "duration": 24,
    "start_time": "2023-01-08T12:15:08.096Z"
   },
   {
    "duration": 66,
    "start_time": "2023-01-08T12:15:08.121Z"
   },
   {
    "duration": 42,
    "start_time": "2023-01-08T12:15:08.189Z"
   },
   {
    "duration": 309,
    "start_time": "2023-01-08T12:15:08.233Z"
   },
   {
    "duration": 506,
    "start_time": "2023-01-08T12:15:08.550Z"
   },
   {
    "duration": 10,
    "start_time": "2023-01-08T12:15:09.058Z"
   },
   {
    "duration": 21,
    "start_time": "2023-01-08T12:15:09.070Z"
   },
   {
    "duration": 8,
    "start_time": "2023-01-08T12:15:09.093Z"
   },
   {
    "duration": 493,
    "start_time": "2023-01-08T12:15:09.103Z"
   },
   {
    "duration": 266,
    "start_time": "2023-01-08T12:15:09.598Z"
   },
   {
    "duration": 10,
    "start_time": "2023-01-08T12:15:09.866Z"
   },
   {
    "duration": 27,
    "start_time": "2023-01-08T12:15:09.878Z"
   },
   {
    "duration": 14,
    "start_time": "2023-01-08T12:15:09.907Z"
   },
   {
    "duration": 43,
    "start_time": "2023-01-08T12:15:09.923Z"
   },
   {
    "duration": 5,
    "start_time": "2023-01-08T12:18:05.660Z"
   },
   {
    "duration": 1081,
    "start_time": "2023-01-08T12:18:06.466Z"
   },
   {
    "duration": 9,
    "start_time": "2023-01-08T12:18:07.549Z"
   },
   {
    "duration": 10,
    "start_time": "2023-01-08T12:18:07.587Z"
   },
   {
    "duration": 11,
    "start_time": "2023-01-08T12:18:08.134Z"
   },
   {
    "duration": 20,
    "start_time": "2023-01-08T12:18:08.320Z"
   },
   {
    "duration": 12,
    "start_time": "2023-01-08T12:18:08.725Z"
   },
   {
    "duration": 68,
    "start_time": "2023-01-08T12:18:09.113Z"
   },
   {
    "duration": 13,
    "start_time": "2023-01-08T12:18:09.660Z"
   },
   {
    "duration": 14,
    "start_time": "2023-01-08T12:18:09.854Z"
   },
   {
    "duration": 4,
    "start_time": "2023-01-08T12:18:11.478Z"
   },
   {
    "duration": 35,
    "start_time": "2023-01-08T12:18:11.677Z"
   },
   {
    "duration": 272,
    "start_time": "2023-01-08T12:18:11.868Z"
   },
   {
    "duration": 12,
    "start_time": "2023-01-08T12:18:12.150Z"
   },
   {
    "duration": 6,
    "start_time": "2023-01-08T12:18:12.821Z"
   },
   {
    "duration": 15,
    "start_time": "2023-01-08T12:18:13.011Z"
   },
   {
    "duration": 57,
    "start_time": "2023-01-08T12:18:13.206Z"
   },
   {
    "duration": 10,
    "start_time": "2023-01-08T12:18:13.587Z"
   },
   {
    "duration": 9,
    "start_time": "2023-01-08T12:18:13.775Z"
   },
   {
    "duration": 38,
    "start_time": "2023-01-08T12:18:13.970Z"
   },
   {
    "duration": 78,
    "start_time": "2023-01-08T12:18:14.156Z"
   },
   {
    "duration": 56,
    "start_time": "2023-01-08T12:18:14.714Z"
   },
   {
    "duration": 8,
    "start_time": "2023-01-08T12:18:15.104Z"
   },
   {
    "duration": 20,
    "start_time": "2023-01-08T12:18:15.933Z"
   },
   {
    "duration": 38,
    "start_time": "2023-01-08T12:18:16.156Z"
   },
   {
    "duration": 151,
    "start_time": "2023-01-08T12:18:16.547Z"
   },
   {
    "duration": 5,
    "start_time": "2023-01-08T12:18:22.970Z"
   },
   {
    "duration": 9,
    "start_time": "2023-01-08T12:18:23.163Z"
   },
   {
    "duration": 31,
    "start_time": "2023-01-08T12:18:24.101Z"
   },
   {
    "duration": 8,
    "start_time": "2023-01-08T12:18:29.578Z"
   },
   {
    "duration": 10,
    "start_time": "2023-01-08T12:19:15.292Z"
   },
   {
    "duration": 7,
    "start_time": "2023-01-08T12:19:27.574Z"
   },
   {
    "duration": 7,
    "start_time": "2023-01-08T12:19:39.526Z"
   },
   {
    "duration": 38,
    "start_time": "2023-01-08T12:19:41.903Z"
   },
   {
    "duration": 11,
    "start_time": "2023-01-08T12:19:42.504Z"
   },
   {
    "duration": 59,
    "start_time": "2023-01-08T12:19:43.206Z"
   },
   {
    "duration": 27,
    "start_time": "2023-01-08T12:24:46.886Z"
   },
   {
    "duration": 1306,
    "start_time": "2023-01-08T12:26:09.852Z"
   },
   {
    "duration": 19,
    "start_time": "2023-01-08T12:26:40.427Z"
   },
   {
    "duration": 20,
    "start_time": "2023-01-08T12:26:54.616Z"
   },
   {
    "duration": 35,
    "start_time": "2023-01-08T12:53:42.471Z"
   },
   {
    "duration": 21,
    "start_time": "2023-01-08T12:53:46.360Z"
   },
   {
    "duration": 46,
    "start_time": "2023-01-08T12:53:46.950Z"
   },
   {
    "duration": 22,
    "start_time": "2023-01-08T12:55:33.394Z"
   },
   {
    "duration": 40,
    "start_time": "2023-01-08T12:55:34.427Z"
   },
   {
    "duration": 21,
    "start_time": "2023-01-08T12:57:45.146Z"
   },
   {
    "duration": 36,
    "start_time": "2023-01-08T12:58:24.961Z"
   },
   {
    "duration": 37,
    "start_time": "2023-01-08T13:00:40.303Z"
   },
   {
    "duration": 20,
    "start_time": "2023-01-08T13:00:43.799Z"
   },
   {
    "duration": 38,
    "start_time": "2023-01-08T13:00:44.883Z"
   },
   {
    "duration": 39,
    "start_time": "2023-01-08T13:01:50.163Z"
   },
   {
    "duration": 4,
    "start_time": "2023-01-08T13:03:11.810Z"
   },
   {
    "duration": 1261,
    "start_time": "2023-01-08T13:03:11.816Z"
   },
   {
    "duration": 10,
    "start_time": "2023-01-08T13:03:13.078Z"
   },
   {
    "duration": 13,
    "start_time": "2023-01-08T13:03:13.091Z"
   },
   {
    "duration": 13,
    "start_time": "2023-01-08T13:03:13.106Z"
   },
   {
    "duration": 21,
    "start_time": "2023-01-08T13:03:13.121Z"
   },
   {
    "duration": 16,
    "start_time": "2023-01-08T13:03:13.152Z"
   },
   {
    "duration": 89,
    "start_time": "2023-01-08T13:03:13.171Z"
   },
   {
    "duration": 10,
    "start_time": "2023-01-08T13:03:13.263Z"
   },
   {
    "duration": 16,
    "start_time": "2023-01-08T13:03:13.274Z"
   },
   {
    "duration": 10,
    "start_time": "2023-01-08T13:03:13.291Z"
   },
   {
    "duration": 51,
    "start_time": "2023-01-08T13:03:13.303Z"
   },
   {
    "duration": 272,
    "start_time": "2023-01-08T13:03:13.356Z"
   },
   {
    "duration": 11,
    "start_time": "2023-01-08T13:03:13.629Z"
   },
   {
    "duration": 6,
    "start_time": "2023-01-08T13:03:13.650Z"
   },
   {
    "duration": 19,
    "start_time": "2023-01-08T13:03:13.658Z"
   },
   {
    "duration": 73,
    "start_time": "2023-01-08T13:03:13.678Z"
   },
   {
    "duration": 9,
    "start_time": "2023-01-08T13:03:13.753Z"
   },
   {
    "duration": 12,
    "start_time": "2023-01-08T13:03:13.764Z"
   },
   {
    "duration": 40,
    "start_time": "2023-01-08T13:03:13.778Z"
   },
   {
    "duration": 97,
    "start_time": "2023-01-08T13:03:13.819Z"
   },
   {
    "duration": 70,
    "start_time": "2023-01-08T13:03:13.918Z"
   },
   {
    "duration": 8,
    "start_time": "2023-01-08T13:03:13.990Z"
   },
   {
    "duration": 18,
    "start_time": "2023-01-08T13:03:14.001Z"
   },
   {
    "duration": 61,
    "start_time": "2023-01-08T13:03:14.021Z"
   },
   {
    "duration": 185,
    "start_time": "2023-01-08T13:03:14.083Z"
   },
   {
    "duration": 5,
    "start_time": "2023-01-08T13:03:14.270Z"
   },
   {
    "duration": 13,
    "start_time": "2023-01-08T13:03:14.277Z"
   },
   {
    "duration": 59,
    "start_time": "2023-01-08T13:03:14.292Z"
   },
   {
    "duration": 6,
    "start_time": "2023-01-08T13:03:14.352Z"
   },
   {
    "duration": 15,
    "start_time": "2023-01-08T13:03:14.359Z"
   },
   {
    "duration": 9,
    "start_time": "2023-01-08T13:03:14.375Z"
   },
   {
    "duration": 7,
    "start_time": "2023-01-08T13:03:14.385Z"
   },
   {
    "duration": 58,
    "start_time": "2023-01-08T13:03:14.394Z"
   },
   {
    "duration": 12,
    "start_time": "2023-01-08T13:03:14.453Z"
   },
   {
    "duration": 61,
    "start_time": "2023-01-08T13:03:14.467Z"
   },
   {
    "duration": 37,
    "start_time": "2023-01-08T13:03:14.530Z"
   },
   {
    "duration": 37,
    "start_time": "2023-01-08T13:03:14.569Z"
   },
   {
    "duration": 38,
    "start_time": "2023-01-08T13:04:35.768Z"
   },
   {
    "duration": 21,
    "start_time": "2023-01-08T13:04:40.120Z"
   },
   {
    "duration": 37,
    "start_time": "2023-01-08T13:04:40.368Z"
   },
   {
    "duration": 6,
    "start_time": "2023-01-08T13:05:12.108Z"
   },
   {
    "duration": 6,
    "start_time": "2023-01-08T13:05:12.653Z"
   },
   {
    "duration": 37,
    "start_time": "2023-01-08T13:05:13.396Z"
   },
   {
    "duration": 15,
    "start_time": "2023-01-08T13:05:14.016Z"
   },
   {
    "duration": 61,
    "start_time": "2023-01-08T13:05:14.638Z"
   },
   {
    "duration": 22,
    "start_time": "2023-01-08T13:05:16.609Z"
   },
   {
    "duration": 37,
    "start_time": "2023-01-08T13:05:17.220Z"
   },
   {
    "duration": 73,
    "start_time": "2023-01-08T13:06:10.463Z"
   },
   {
    "duration": 21,
    "start_time": "2023-01-08T13:06:20.449Z"
   },
   {
    "duration": 36,
    "start_time": "2023-01-08T13:06:23.898Z"
   },
   {
    "duration": 128,
    "start_time": "2023-01-08T13:06:35.408Z"
   },
   {
    "duration": 19,
    "start_time": "2023-01-08T13:06:36.246Z"
   },
   {
    "duration": 7,
    "start_time": "2023-01-08T13:06:42.136Z"
   },
   {
    "duration": 11,
    "start_time": "2023-01-08T13:06:43.457Z"
   },
   {
    "duration": 6,
    "start_time": "2023-01-08T13:06:50.444Z"
   },
   {
    "duration": 12,
    "start_time": "2023-01-08T13:06:51.018Z"
   },
   {
    "duration": 5,
    "start_time": "2023-01-08T13:07:01.279Z"
   },
   {
    "duration": 182,
    "start_time": "2023-01-08T13:11:29.776Z"
   },
   {
    "duration": 22,
    "start_time": "2023-01-08T13:11:30.017Z"
   },
   {
    "duration": 9,
    "start_time": "2023-01-08T13:11:31.057Z"
   },
   {
    "duration": 10,
    "start_time": "2023-01-08T13:11:33.650Z"
   },
   {
    "duration": 92,
    "start_time": "2023-01-08T13:12:49.161Z"
   },
   {
    "duration": 6,
    "start_time": "2023-01-08T13:13:12.140Z"
   },
   {
    "duration": 10,
    "start_time": "2023-01-08T13:13:12.339Z"
   },
   {
    "duration": 7,
    "start_time": "2023-01-08T13:13:19.599Z"
   },
   {
    "duration": 12,
    "start_time": "2023-01-08T13:13:19.770Z"
   },
   {
    "duration": 5,
    "start_time": "2023-01-08T13:13:20.486Z"
   },
   {
    "duration": 73,
    "start_time": "2023-01-08T13:13:36.410Z"
   },
   {
    "duration": 38,
    "start_time": "2023-01-08T13:13:50.705Z"
   },
   {
    "duration": 564,
    "start_time": "2023-01-08T13:14:01.934Z"
   },
   {
    "duration": 8,
    "start_time": "2023-01-08T13:19:43.295Z"
   },
   {
    "duration": 647,
    "start_time": "2023-01-08T13:21:54.658Z"
   },
   {
    "duration": 80,
    "start_time": "2023-01-08T13:23:56.301Z"
   },
   {
    "duration": 12,
    "start_time": "2023-01-08T13:25:31.764Z"
   },
   {
    "duration": 10,
    "start_time": "2023-01-08T13:27:00.777Z"
   },
   {
    "duration": 16,
    "start_time": "2023-01-08T13:27:03.511Z"
   },
   {
    "duration": 48,
    "start_time": "2023-01-08T13:27:08.601Z"
   },
   {
    "duration": 21,
    "start_time": "2023-01-08T13:27:20.189Z"
   },
   {
    "duration": 13,
    "start_time": "2023-01-08T13:27:22.259Z"
   },
   {
    "duration": 11,
    "start_time": "2023-01-08T13:27:33.120Z"
   },
   {
    "duration": 52,
    "start_time": "2023-01-08T13:27:34.658Z"
   },
   {
    "duration": 29,
    "start_time": "2023-01-08T13:27:40.609Z"
   },
   {
    "duration": 233,
    "start_time": "2023-01-08T13:27:41.461Z"
   },
   {
    "duration": 21,
    "start_time": "2023-01-08T13:28:10.116Z"
   },
   {
    "duration": 14,
    "start_time": "2023-01-08T13:28:23.872Z"
   },
   {
    "duration": 12,
    "start_time": "2023-01-08T13:28:41.211Z"
   },
   {
    "duration": 12,
    "start_time": "2023-01-08T13:29:01.869Z"
   },
   {
    "duration": 555,
    "start_time": "2023-01-08T13:29:13.462Z"
   },
   {
    "duration": 122,
    "start_time": "2023-01-08T13:30:42.746Z"
   },
   {
    "duration": 6,
    "start_time": "2023-01-08T13:30:43.379Z"
   },
   {
    "duration": 13,
    "start_time": "2023-01-08T13:30:44.348Z"
   },
   {
    "duration": 47,
    "start_time": "2023-01-08T13:30:46.688Z"
   },
   {
    "duration": 4,
    "start_time": "2023-01-08T13:32:40.752Z"
   },
   {
    "duration": 1308,
    "start_time": "2023-01-08T13:32:41.953Z"
   },
   {
    "duration": 10,
    "start_time": "2023-01-08T13:32:44.243Z"
   },
   {
    "duration": 10,
    "start_time": "2023-01-08T13:32:44.458Z"
   },
   {
    "duration": 11,
    "start_time": "2023-01-08T13:32:44.963Z"
   },
   {
    "duration": 26,
    "start_time": "2023-01-08T13:32:45.187Z"
   },
   {
    "duration": 13,
    "start_time": "2023-01-08T13:32:45.613Z"
   },
   {
    "duration": 68,
    "start_time": "2023-01-08T13:32:46.226Z"
   },
   {
    "duration": 11,
    "start_time": "2023-01-08T13:32:47.492Z"
   },
   {
    "duration": 16,
    "start_time": "2023-01-08T13:32:48.143Z"
   },
   {
    "duration": 5,
    "start_time": "2023-01-08T13:32:49.512Z"
   },
   {
    "duration": 43,
    "start_time": "2023-01-08T13:32:49.722Z"
   },
   {
    "duration": 261,
    "start_time": "2023-01-08T13:32:49.916Z"
   },
   {
    "duration": 14,
    "start_time": "2023-01-08T13:32:50.179Z"
   },
   {
    "duration": 6,
    "start_time": "2023-01-08T13:32:50.853Z"
   },
   {
    "duration": 24,
    "start_time": "2023-01-08T13:32:51.051Z"
   },
   {
    "duration": 69,
    "start_time": "2023-01-08T13:32:51.236Z"
   },
   {
    "duration": 9,
    "start_time": "2023-01-08T13:32:51.620Z"
   },
   {
    "duration": 9,
    "start_time": "2023-01-08T13:32:51.828Z"
   },
   {
    "duration": 38,
    "start_time": "2023-01-08T13:32:52.033Z"
   },
   {
    "duration": 77,
    "start_time": "2023-01-08T13:32:52.225Z"
   },
   {
    "duration": 59,
    "start_time": "2023-01-08T13:32:52.813Z"
   },
   {
    "duration": 72,
    "start_time": "2023-01-08T13:32:56.841Z"
   },
   {
    "duration": 10,
    "start_time": "2023-01-08T13:32:57.370Z"
   },
   {
    "duration": 25,
    "start_time": "2023-01-08T13:32:58.111Z"
   },
   {
    "duration": 36,
    "start_time": "2023-01-08T13:32:58.542Z"
   },
   {
    "duration": 152,
    "start_time": "2023-01-08T13:33:02.769Z"
   },
   {
    "duration": 6,
    "start_time": "2023-01-08T13:33:07.755Z"
   },
   {
    "duration": 8,
    "start_time": "2023-01-08T13:33:08.317Z"
   },
   {
    "duration": 38,
    "start_time": "2023-01-08T13:33:08.991Z"
   },
   {
    "duration": 7,
    "start_time": "2023-01-08T13:33:11.591Z"
   },
   {
    "duration": 10,
    "start_time": "2023-01-08T13:33:12.370Z"
   },
   {
    "duration": 11,
    "start_time": "2023-01-08T13:33:20.800Z"
   },
   {
    "duration": 5,
    "start_time": "2023-01-08T13:33:23.754Z"
   },
   {
    "duration": 8,
    "start_time": "2023-01-08T13:33:25.206Z"
   },
   {
    "duration": 39,
    "start_time": "2023-01-08T13:33:52.640Z"
   },
   {
    "duration": 12,
    "start_time": "2023-01-08T13:33:53.102Z"
   },
   {
    "duration": 61,
    "start_time": "2023-01-08T13:33:53.436Z"
   },
   {
    "duration": 23,
    "start_time": "2023-01-08T13:33:55.063Z"
   },
   {
    "duration": 38,
    "start_time": "2023-01-08T13:33:55.487Z"
   },
   {
    "duration": 152,
    "start_time": "2023-01-08T13:33:58.525Z"
   },
   {
    "duration": 29,
    "start_time": "2023-01-08T13:33:59.748Z"
   },
   {
    "duration": 14,
    "start_time": "2023-01-08T13:34:00.722Z"
   },
   {
    "duration": 11,
    "start_time": "2023-01-08T13:34:01.446Z"
   },
   {
    "duration": 5,
    "start_time": "2023-01-08T13:34:03.674Z"
   },
   {
    "duration": 10,
    "start_time": "2023-01-08T13:34:04.313Z"
   },
   {
    "duration": 5,
    "start_time": "2023-01-08T13:34:07.448Z"
   },
   {
    "duration": 42,
    "start_time": "2023-01-08T13:34:13.374Z"
   },
   {
    "duration": 618,
    "start_time": "2023-01-08T13:34:14.768Z"
   },
   {
    "duration": 597,
    "start_time": "2023-01-08T13:35:28.801Z"
   },
   {
    "duration": 568,
    "start_time": "2023-01-08T13:36:01.311Z"
   },
   {
    "duration": 11,
    "start_time": "2023-01-08T13:37:07.079Z"
   },
   {
    "duration": 16,
    "start_time": "2023-01-08T13:37:14.544Z"
   },
   {
    "duration": 53,
    "start_time": "2023-01-08T13:37:18.279Z"
   },
   {
    "duration": 22,
    "start_time": "2023-01-08T13:37:19.791Z"
   },
   {
    "duration": 12,
    "start_time": "2023-01-08T13:37:33.417Z"
   },
   {
    "duration": 11,
    "start_time": "2023-01-08T13:42:56.089Z"
   },
   {
    "duration": 13,
    "start_time": "2023-01-08T13:42:58.883Z"
   },
   {
    "duration": 68,
    "start_time": "2023-01-08T13:43:00.061Z"
   },
   {
    "duration": 28,
    "start_time": "2023-01-08T13:43:04.019Z"
   },
   {
    "duration": 265,
    "start_time": "2023-01-08T13:43:04.265Z"
   },
   {
    "duration": 19,
    "start_time": "2023-01-08T13:46:20.010Z"
   },
   {
    "duration": 804,
    "start_time": "2023-01-08T13:46:29.282Z"
   },
   {
    "duration": 8,
    "start_time": "2023-01-08T14:00:04.791Z"
   },
   {
    "duration": 7,
    "start_time": "2023-01-08T14:00:05.381Z"
   },
   {
    "duration": 13,
    "start_time": "2023-01-08T14:00:05.831Z"
   },
   {
    "duration": 37,
    "start_time": "2023-01-08T14:00:06.761Z"
   },
   {
    "duration": 8,
    "start_time": "2023-01-08T14:01:18.699Z"
   },
   {
    "duration": 7,
    "start_time": "2023-01-08T14:01:21.598Z"
   },
   {
    "duration": 14,
    "start_time": "2023-01-08T14:01:22.948Z"
   },
   {
    "duration": 46,
    "start_time": "2023-01-08T14:01:25.177Z"
   },
   {
    "duration": 6,
    "start_time": "2023-01-08T14:01:51.004Z"
   },
   {
    "duration": 1464,
    "start_time": "2023-01-08T14:01:51.013Z"
   },
   {
    "duration": 15,
    "start_time": "2023-01-08T14:01:52.478Z"
   },
   {
    "duration": 17,
    "start_time": "2023-01-08T14:01:52.497Z"
   },
   {
    "duration": 16,
    "start_time": "2023-01-08T14:01:52.516Z"
   },
   {
    "duration": 34,
    "start_time": "2023-01-08T14:01:52.535Z"
   },
   {
    "duration": 20,
    "start_time": "2023-01-08T14:01:52.571Z"
   },
   {
    "duration": 77,
    "start_time": "2023-01-08T14:01:52.593Z"
   },
   {
    "duration": 11,
    "start_time": "2023-01-08T14:01:52.672Z"
   },
   {
    "duration": 23,
    "start_time": "2023-01-08T14:01:52.685Z"
   },
   {
    "duration": 5,
    "start_time": "2023-01-08T14:01:52.710Z"
   },
   {
    "duration": 67,
    "start_time": "2023-01-08T14:01:52.717Z"
   },
   {
    "duration": 309,
    "start_time": "2023-01-08T14:01:52.786Z"
   },
   {
    "duration": 11,
    "start_time": "2023-01-08T14:01:53.098Z"
   },
   {
    "duration": 5,
    "start_time": "2023-01-08T14:01:53.111Z"
   },
   {
    "duration": 36,
    "start_time": "2023-01-08T14:01:53.118Z"
   },
   {
    "duration": 84,
    "start_time": "2023-01-08T14:01:53.157Z"
   },
   {
    "duration": 10,
    "start_time": "2023-01-08T14:01:53.242Z"
   },
   {
    "duration": 131,
    "start_time": "2023-01-08T14:01:53.254Z"
   },
   {
    "duration": 70,
    "start_time": "2023-01-08T14:01:53.386Z"
   },
   {
    "duration": 95,
    "start_time": "2023-01-08T14:01:53.458Z"
   },
   {
    "duration": 61,
    "start_time": "2023-01-08T14:01:53.555Z"
   },
   {
    "duration": 9,
    "start_time": "2023-01-08T14:01:53.617Z"
   },
   {
    "duration": 20,
    "start_time": "2023-01-08T14:01:53.650Z"
   },
   {
    "duration": 37,
    "start_time": "2023-01-08T14:01:53.672Z"
   },
   {
    "duration": 182,
    "start_time": "2023-01-08T14:01:53.711Z"
   },
   {
    "duration": 5,
    "start_time": "2023-01-08T14:01:53.895Z"
   },
   {
    "duration": 12,
    "start_time": "2023-01-08T14:01:53.902Z"
   },
   {
    "duration": 45,
    "start_time": "2023-01-08T14:01:53.916Z"
   },
   {
    "duration": 7,
    "start_time": "2023-01-08T14:01:53.964Z"
   },
   {
    "duration": 18,
    "start_time": "2023-01-08T14:01:53.973Z"
   },
   {
    "duration": 9,
    "start_time": "2023-01-08T14:01:53.992Z"
   },
   {
    "duration": 8,
    "start_time": "2023-01-08T14:01:54.003Z"
   },
   {
    "duration": 73,
    "start_time": "2023-01-08T14:01:54.013Z"
   },
   {
    "duration": 12,
    "start_time": "2023-01-08T14:01:54.087Z"
   },
   {
    "duration": 93,
    "start_time": "2023-01-08T14:01:54.101Z"
   },
   {
    "duration": 34,
    "start_time": "2023-01-08T14:01:54.196Z"
   },
   {
    "duration": 42,
    "start_time": "2023-01-08T14:01:54.252Z"
   },
   {
    "duration": 173,
    "start_time": "2023-01-08T14:01:54.296Z"
   },
   {
    "duration": 27,
    "start_time": "2023-01-08T14:01:54.472Z"
   },
   {
    "duration": 10,
    "start_time": "2023-01-08T14:01:54.501Z"
   },
   {
    "duration": 42,
    "start_time": "2023-01-08T14:01:54.513Z"
   },
   {
    "duration": 6,
    "start_time": "2023-01-08T14:01:54.557Z"
   },
   {
    "duration": 15,
    "start_time": "2023-01-08T14:01:54.565Z"
   },
   {
    "duration": 9,
    "start_time": "2023-01-08T14:01:54.582Z"
   },
   {
    "duration": 72,
    "start_time": "2023-01-08T14:01:54.593Z"
   },
   {
    "duration": 623,
    "start_time": "2023-01-08T14:01:54.668Z"
   },
   {
    "duration": 13,
    "start_time": "2023-01-08T14:01:55.293Z"
   },
   {
    "duration": 20,
    "start_time": "2023-01-08T14:01:55.308Z"
   },
   {
    "duration": 212,
    "start_time": "2023-01-08T14:01:55.330Z"
   },
   {
    "duration": 19,
    "start_time": "2023-01-08T14:01:55.550Z"
   },
   {
    "duration": 11,
    "start_time": "2023-01-08T14:01:55.571Z"
   },
   {
    "duration": 71,
    "start_time": "2023-01-08T14:01:55.584Z"
   },
   {
    "duration": 27,
    "start_time": "2023-01-08T14:01:55.657Z"
   },
   {
    "duration": 258,
    "start_time": "2023-01-08T14:01:55.685Z"
   },
   {
    "duration": 558,
    "start_time": "2023-01-08T14:01:55.950Z"
   },
   {
    "duration": 9,
    "start_time": "2023-01-08T14:01:56.510Z"
   },
   {
    "duration": 34,
    "start_time": "2023-01-08T14:01:56.521Z"
   },
   {
    "duration": 21,
    "start_time": "2023-01-08T14:01:56.557Z"
   },
   {
    "duration": 432,
    "start_time": "2023-01-08T14:01:56.580Z"
   },
   {
    "duration": 150,
    "start_time": "2023-01-08T14:01:57.014Z"
   },
   {
    "duration": 8,
    "start_time": "2023-01-08T14:01:57.166Z"
   },
   {
    "duration": 32,
    "start_time": "2023-01-08T14:01:57.176Z"
   },
   {
    "duration": 21,
    "start_time": "2023-01-08T14:01:57.210Z"
   },
   {
    "duration": 51,
    "start_time": "2023-01-08T14:01:57.233Z"
   },
   {
    "duration": 37,
    "start_time": "2023-01-08T14:02:02.855Z"
   },
   {
    "duration": 7,
    "start_time": "2023-01-08T14:03:08.571Z"
   },
   {
    "duration": 5,
    "start_time": "2023-01-08T14:03:08.990Z"
   },
   {
    "duration": 14,
    "start_time": "2023-01-08T14:03:09.474Z"
   },
   {
    "duration": 39,
    "start_time": "2023-01-08T14:03:10.500Z"
   },
   {
    "duration": 11,
    "start_time": "2023-01-08T14:03:34.456Z"
   },
   {
    "duration": 5,
    "start_time": "2023-01-08T14:03:37.284Z"
   },
   {
    "duration": 17,
    "start_time": "2023-01-08T14:03:38.325Z"
   },
   {
    "duration": 38,
    "start_time": "2023-01-08T14:03:41.461Z"
   },
   {
    "duration": 38,
    "start_time": "2023-01-08T14:03:58.395Z"
   },
   {
    "duration": 9,
    "start_time": "2023-01-08T14:04:01.297Z"
   },
   {
    "duration": 7,
    "start_time": "2023-01-08T14:04:01.716Z"
   },
   {
    "duration": 13,
    "start_time": "2023-01-08T14:04:02.136Z"
   },
   {
    "duration": 38,
    "start_time": "2023-01-08T14:04:03.138Z"
   },
   {
    "duration": 46,
    "start_time": "2023-01-08T14:04:09.954Z"
   },
   {
    "duration": 53,
    "start_time": "2023-01-08T14:04:18.150Z"
   },
   {
    "duration": 79,
    "start_time": "2023-01-08T14:04:54.966Z"
   },
   {
    "duration": 73,
    "start_time": "2023-01-08T14:04:59.815Z"
   },
   {
    "duration": 49,
    "start_time": "2023-01-08T14:05:05.285Z"
   },
   {
    "duration": 8,
    "start_time": "2023-01-08T14:05:56.399Z"
   },
   {
    "duration": 6,
    "start_time": "2023-01-08T14:05:57.461Z"
   },
   {
    "duration": 12,
    "start_time": "2023-01-08T14:05:57.992Z"
   },
   {
    "duration": 38,
    "start_time": "2023-01-08T14:05:59.119Z"
   },
   {
    "duration": 4,
    "start_time": "2023-01-08T14:06:31.063Z"
   },
   {
    "duration": 1352,
    "start_time": "2023-01-08T14:06:31.737Z"
   },
   {
    "duration": 10,
    "start_time": "2023-01-08T14:06:33.091Z"
   },
   {
    "duration": 12,
    "start_time": "2023-01-08T14:06:33.266Z"
   },
   {
    "duration": 12,
    "start_time": "2023-01-08T14:06:34.032Z"
   },
   {
    "duration": 22,
    "start_time": "2023-01-08T14:06:34.394Z"
   },
   {
    "duration": 14,
    "start_time": "2023-01-08T14:06:35.244Z"
   },
   {
    "duration": 66,
    "start_time": "2023-01-08T14:06:36.044Z"
   },
   {
    "duration": 12,
    "start_time": "2023-01-08T14:06:37.708Z"
   },
   {
    "duration": 13,
    "start_time": "2023-01-08T14:06:38.263Z"
   },
   {
    "duration": 5,
    "start_time": "2023-01-08T14:06:40.296Z"
   },
   {
    "duration": 41,
    "start_time": "2023-01-08T14:06:40.476Z"
   },
   {
    "duration": 314,
    "start_time": "2023-01-08T14:06:40.661Z"
   },
   {
    "duration": 11,
    "start_time": "2023-01-08T14:06:40.977Z"
   },
   {
    "duration": 5,
    "start_time": "2023-01-08T14:06:41.681Z"
   },
   {
    "duration": 20,
    "start_time": "2023-01-08T14:06:41.893Z"
   },
   {
    "duration": 65,
    "start_time": "2023-01-08T14:06:42.103Z"
   },
   {
    "duration": 10,
    "start_time": "2023-01-08T14:06:42.517Z"
   },
   {
    "duration": 9,
    "start_time": "2023-01-08T14:06:42.777Z"
   },
   {
    "duration": 40,
    "start_time": "2023-01-08T14:06:43.314Z"
   },
   {
    "duration": 84,
    "start_time": "2023-01-08T14:06:43.588Z"
   },
   {
    "duration": 70,
    "start_time": "2023-01-08T14:06:44.931Z"
   },
   {
    "duration": 8,
    "start_time": "2023-01-08T14:06:46.202Z"
   },
   {
    "duration": 27,
    "start_time": "2023-01-08T14:06:47.134Z"
   },
   {
    "duration": 38,
    "start_time": "2023-01-08T14:06:47.708Z"
   },
   {
    "duration": 147,
    "start_time": "2023-01-08T14:06:48.290Z"
   },
   {
    "duration": 6,
    "start_time": "2023-01-08T14:06:50.521Z"
   },
   {
    "duration": 8,
    "start_time": "2023-01-08T14:06:50.774Z"
   },
   {
    "duration": 34,
    "start_time": "2023-01-08T14:06:51.996Z"
   },
   {
    "duration": 6,
    "start_time": "2023-01-08T14:06:56.495Z"
   },
   {
    "duration": 13,
    "start_time": "2023-01-08T14:06:57.076Z"
   },
   {
    "duration": 6,
    "start_time": "2023-01-08T14:07:13.396Z"
   },
   {
    "duration": 8,
    "start_time": "2023-01-08T14:07:14.245Z"
   },
   {
    "duration": 46,
    "start_time": "2023-01-08T14:07:15.679Z"
   },
   {
    "duration": 13,
    "start_time": "2023-01-08T14:07:16.231Z"
   },
   {
    "duration": 65,
    "start_time": "2023-01-08T14:07:16.990Z"
   },
   {
    "duration": 24,
    "start_time": "2023-01-08T14:07:18.888Z"
   },
   {
    "duration": 57,
    "start_time": "2023-01-08T14:07:19.734Z"
   },
   {
    "duration": 140,
    "start_time": "2023-01-08T14:07:21.861Z"
   },
   {
    "duration": 21,
    "start_time": "2023-01-08T14:07:22.633Z"
   },
   {
    "duration": 8,
    "start_time": "2023-01-08T14:07:24.240Z"
   },
   {
    "duration": 11,
    "start_time": "2023-01-08T14:07:25.656Z"
   },
   {
    "duration": 8,
    "start_time": "2023-01-08T14:07:58.741Z"
   },
   {
    "duration": 6,
    "start_time": "2023-01-08T14:07:59.166Z"
   },
   {
    "duration": 12,
    "start_time": "2023-01-08T14:07:59.556Z"
   },
   {
    "duration": 52,
    "start_time": "2023-01-08T14:08:00.294Z"
   },
   {
    "duration": 71,
    "start_time": "2023-01-08T14:08:06.529Z"
   },
   {
    "duration": 45,
    "start_time": "2023-01-08T14:08:12.541Z"
   },
   {
    "duration": 19,
    "start_time": "2023-01-08T14:08:31.405Z"
   },
   {
    "duration": 5,
    "start_time": "2023-01-08T14:08:31.800Z"
   },
   {
    "duration": 8,
    "start_time": "2023-01-08T14:08:44.964Z"
   },
   {
    "duration": 6,
    "start_time": "2023-01-08T14:08:46.035Z"
   },
   {
    "duration": 13,
    "start_time": "2023-01-08T14:08:46.755Z"
   },
   {
    "duration": 36,
    "start_time": "2023-01-08T14:08:47.765Z"
   },
   {
    "duration": 8,
    "start_time": "2023-01-08T14:09:14.730Z"
   },
   {
    "duration": 6,
    "start_time": "2023-01-08T14:09:15.181Z"
   },
   {
    "duration": 12,
    "start_time": "2023-01-08T14:09:15.654Z"
   },
   {
    "duration": 36,
    "start_time": "2023-01-08T14:09:16.343Z"
   },
   {
    "duration": 8,
    "start_time": "2023-01-08T14:09:22.029Z"
   },
   {
    "duration": 6,
    "start_time": "2023-01-08T14:09:22.626Z"
   },
   {
    "duration": 14,
    "start_time": "2023-01-08T14:09:23.128Z"
   },
   {
    "duration": 48,
    "start_time": "2023-01-08T14:09:24.037Z"
   },
   {
    "duration": 8,
    "start_time": "2023-01-08T14:09:32.811Z"
   },
   {
    "duration": 8,
    "start_time": "2023-01-08T14:09:33.999Z"
   },
   {
    "duration": 16,
    "start_time": "2023-01-08T14:09:34.511Z"
   },
   {
    "duration": 47,
    "start_time": "2023-01-08T14:09:36.443Z"
   },
   {
    "duration": 8,
    "start_time": "2023-01-08T14:10:08.250Z"
   },
   {
    "duration": 6,
    "start_time": "2023-01-08T14:10:08.721Z"
   },
   {
    "duration": 12,
    "start_time": "2023-01-08T14:10:09.252Z"
   },
   {
    "duration": 38,
    "start_time": "2023-01-08T14:10:09.927Z"
   },
   {
    "duration": 1416,
    "start_time": "2023-01-08T14:10:19.018Z"
   },
   {
    "duration": 1209,
    "start_time": "2023-01-08T14:10:20.436Z"
   },
   {
    "duration": 14,
    "start_time": "2023-01-08T14:10:21.647Z"
   },
   {
    "duration": 18,
    "start_time": "2023-01-08T14:10:21.663Z"
   },
   {
    "duration": 17,
    "start_time": "2023-01-08T14:10:21.683Z"
   },
   {
    "duration": 22,
    "start_time": "2023-01-08T14:10:21.702Z"
   },
   {
    "duration": 35,
    "start_time": "2023-01-08T14:10:21.726Z"
   },
   {
    "duration": 69,
    "start_time": "2023-01-08T14:10:21.763Z"
   },
   {
    "duration": 25,
    "start_time": "2023-01-08T14:10:21.834Z"
   },
   {
    "duration": 24,
    "start_time": "2023-01-08T14:10:21.861Z"
   },
   {
    "duration": 13,
    "start_time": "2023-01-08T14:10:21.887Z"
   },
   {
    "duration": 50,
    "start_time": "2023-01-08T14:10:21.902Z"
   },
   {
    "duration": 321,
    "start_time": "2023-01-08T14:10:21.954Z"
   },
   {
    "duration": 10,
    "start_time": "2023-01-08T14:10:22.276Z"
   },
   {
    "duration": 6,
    "start_time": "2023-01-08T14:10:22.287Z"
   },
   {
    "duration": 26,
    "start_time": "2023-01-08T14:10:22.294Z"
   },
   {
    "duration": 82,
    "start_time": "2023-01-08T14:10:22.321Z"
   },
   {
    "duration": 9,
    "start_time": "2023-01-08T14:10:22.404Z"
   },
   {
    "duration": 15,
    "start_time": "2023-01-08T14:10:22.415Z"
   },
   {
    "duration": 43,
    "start_time": "2023-01-08T14:10:22.450Z"
   },
   {
    "duration": 95,
    "start_time": "2023-01-08T14:10:22.495Z"
   },
   {
    "duration": 68,
    "start_time": "2023-01-08T14:10:22.591Z"
   },
   {
    "duration": 8,
    "start_time": "2023-01-08T14:10:22.660Z"
   },
   {
    "duration": 24,
    "start_time": "2023-01-08T14:10:22.670Z"
   },
   {
    "duration": 65,
    "start_time": "2023-01-08T14:10:22.696Z"
   },
   {
    "duration": 177,
    "start_time": "2023-01-08T14:10:22.763Z"
   },
   {
    "duration": 12,
    "start_time": "2023-01-08T14:10:22.942Z"
   },
   {
    "duration": 17,
    "start_time": "2023-01-08T14:10:22.959Z"
   },
   {
    "duration": 49,
    "start_time": "2023-01-08T14:10:22.978Z"
   },
   {
    "duration": 6,
    "start_time": "2023-01-08T14:10:23.029Z"
   },
   {
    "duration": 21,
    "start_time": "2023-01-08T14:10:23.051Z"
   },
   {
    "duration": 15,
    "start_time": "2023-01-08T14:10:23.074Z"
   },
   {
    "duration": 29,
    "start_time": "2023-01-08T14:10:23.091Z"
   },
   {
    "duration": 63,
    "start_time": "2023-01-08T14:10:23.122Z"
   },
   {
    "duration": 11,
    "start_time": "2023-01-08T14:10:23.187Z"
   },
   {
    "duration": 402,
    "start_time": "2023-01-08T14:10:23.200Z"
   },
   {
    "duration": 60,
    "start_time": "2023-01-08T14:10:23.604Z"
   },
   {
    "duration": 98,
    "start_time": "2023-01-08T14:10:23.666Z"
   },
   {
    "duration": 198,
    "start_time": "2023-01-08T14:10:23.766Z"
   },
   {
    "duration": 21,
    "start_time": "2023-01-08T14:10:23.965Z"
   },
   {
    "duration": 8,
    "start_time": "2023-01-08T14:10:23.988Z"
   },
   {
    "duration": 52,
    "start_time": "2023-01-08T14:10:23.998Z"
   },
   {
    "duration": 14,
    "start_time": "2023-01-08T14:10:24.052Z"
   },
   {
    "duration": 26,
    "start_time": "2023-01-08T14:10:24.068Z"
   },
   {
    "duration": 34,
    "start_time": "2023-01-08T14:10:24.096Z"
   },
   {
    "duration": 58,
    "start_time": "2023-01-08T14:10:24.132Z"
   },
   {
    "duration": 673,
    "start_time": "2023-01-08T14:10:24.193Z"
   },
   {
    "duration": 14,
    "start_time": "2023-01-08T14:10:24.867Z"
   },
   {
    "duration": 52,
    "start_time": "2023-01-08T14:10:24.884Z"
   },
   {
    "duration": 169,
    "start_time": "2023-01-08T14:10:24.939Z"
   },
   {
    "duration": 19,
    "start_time": "2023-01-08T14:10:25.110Z"
   },
   {
    "duration": 28,
    "start_time": "2023-01-08T14:10:25.131Z"
   },
   {
    "duration": 65,
    "start_time": "2023-01-08T14:10:25.161Z"
   },
   {
    "duration": 57,
    "start_time": "2023-01-08T14:10:25.229Z"
   },
   {
    "duration": 334,
    "start_time": "2023-01-08T14:10:25.289Z"
   },
   {
    "duration": 731,
    "start_time": "2023-01-08T14:10:25.625Z"
   },
   {
    "duration": 11,
    "start_time": "2023-01-08T14:10:26.358Z"
   },
   {
    "duration": 16,
    "start_time": "2023-01-08T14:10:26.371Z"
   },
   {
    "duration": 7,
    "start_time": "2023-01-08T14:10:26.389Z"
   },
   {
    "duration": 569,
    "start_time": "2023-01-08T14:10:26.398Z"
   },
   {
    "duration": 234,
    "start_time": "2023-01-08T14:10:26.969Z"
   },
   {
    "duration": 10,
    "start_time": "2023-01-08T14:10:27.206Z"
   },
   {
    "duration": 15,
    "start_time": "2023-01-08T14:10:27.219Z"
   },
   {
    "duration": 17,
    "start_time": "2023-01-08T14:10:27.251Z"
   },
   {
    "duration": 36,
    "start_time": "2023-01-08T14:10:27.272Z"
   },
   {
    "duration": 5,
    "start_time": "2023-01-08T14:10:55.058Z"
   },
   {
    "duration": 1122,
    "start_time": "2023-01-08T14:10:55.066Z"
   },
   {
    "duration": 13,
    "start_time": "2023-01-08T14:10:56.191Z"
   },
   {
    "duration": 12,
    "start_time": "2023-01-08T14:10:56.206Z"
   },
   {
    "duration": 18,
    "start_time": "2023-01-08T14:10:56.220Z"
   },
   {
    "duration": 27,
    "start_time": "2023-01-08T14:10:56.240Z"
   },
   {
    "duration": 18,
    "start_time": "2023-01-08T14:10:56.269Z"
   },
   {
    "duration": 90,
    "start_time": "2023-01-08T14:10:56.289Z"
   },
   {
    "duration": 11,
    "start_time": "2023-01-08T14:10:56.381Z"
   },
   {
    "duration": 36,
    "start_time": "2023-01-08T14:10:56.395Z"
   },
   {
    "duration": 20,
    "start_time": "2023-01-08T14:10:56.433Z"
   },
   {
    "duration": 38,
    "start_time": "2023-01-08T14:10:56.456Z"
   },
   {
    "duration": 395,
    "start_time": "2023-01-08T14:10:56.496Z"
   },
   {
    "duration": 12,
    "start_time": "2023-01-08T14:10:56.893Z"
   },
   {
    "duration": 11,
    "start_time": "2023-01-08T14:10:56.907Z"
   },
   {
    "duration": 35,
    "start_time": "2023-01-08T14:10:56.920Z"
   },
   {
    "duration": 72,
    "start_time": "2023-01-08T14:10:56.957Z"
   },
   {
    "duration": 27,
    "start_time": "2023-01-08T14:10:57.031Z"
   },
   {
    "duration": 18,
    "start_time": "2023-01-08T14:10:57.060Z"
   },
   {
    "duration": 71,
    "start_time": "2023-01-08T14:10:57.081Z"
   },
   {
    "duration": 99,
    "start_time": "2023-01-08T14:10:57.155Z"
   },
   {
    "duration": 61,
    "start_time": "2023-01-08T14:10:57.257Z"
   },
   {
    "duration": 9,
    "start_time": "2023-01-08T14:10:57.320Z"
   },
   {
    "duration": 20,
    "start_time": "2023-01-08T14:10:57.350Z"
   },
   {
    "duration": 36,
    "start_time": "2023-01-08T14:10:57.372Z"
   },
   {
    "duration": 200,
    "start_time": "2023-01-08T14:10:57.410Z"
   },
   {
    "duration": 7,
    "start_time": "2023-01-08T14:10:57.612Z"
   },
   {
    "duration": 27,
    "start_time": "2023-01-08T14:10:57.624Z"
   },
   {
    "duration": 47,
    "start_time": "2023-01-08T14:10:57.653Z"
   },
   {
    "duration": 24,
    "start_time": "2023-01-08T14:10:57.702Z"
   },
   {
    "duration": 31,
    "start_time": "2023-01-08T14:10:57.728Z"
   },
   {
    "duration": 16,
    "start_time": "2023-01-08T14:10:57.761Z"
   },
   {
    "duration": 35,
    "start_time": "2023-01-08T14:10:57.779Z"
   },
   {
    "duration": 60,
    "start_time": "2023-01-08T14:10:57.816Z"
   },
   {
    "duration": 13,
    "start_time": "2023-01-08T14:10:57.878Z"
   },
   {
    "duration": 86,
    "start_time": "2023-01-08T14:10:57.893Z"
   },
   {
    "duration": 21,
    "start_time": "2023-01-08T14:10:57.981Z"
   },
   {
    "duration": 54,
    "start_time": "2023-01-08T14:10:58.004Z"
   },
   {
    "duration": 156,
    "start_time": "2023-01-08T14:10:58.060Z"
   },
   {
    "duration": 35,
    "start_time": "2023-01-08T14:10:58.218Z"
   },
   {
    "duration": 11,
    "start_time": "2023-01-08T14:10:58.256Z"
   },
   {
    "duration": 15,
    "start_time": "2023-01-08T14:10:58.269Z"
   },
   {
    "duration": 7,
    "start_time": "2023-01-08T14:10:58.286Z"
   },
   {
    "duration": 16,
    "start_time": "2023-01-08T14:10:58.296Z"
   },
   {
    "duration": 43,
    "start_time": "2023-01-08T14:10:58.314Z"
   },
   {
    "duration": 42,
    "start_time": "2023-01-08T14:10:58.360Z"
   },
   {
    "duration": 591,
    "start_time": "2023-01-08T14:10:58.404Z"
   },
   {
    "duration": 11,
    "start_time": "2023-01-08T14:10:58.997Z"
   },
   {
    "duration": 42,
    "start_time": "2023-01-08T14:10:59.010Z"
   },
   {
    "duration": 56,
    "start_time": "2023-01-08T14:10:59.055Z"
   },
   {
    "duration": 42,
    "start_time": "2023-01-08T14:10:59.113Z"
   },
   {
    "duration": 19,
    "start_time": "2023-01-08T14:10:59.157Z"
   },
   {
    "duration": 97,
    "start_time": "2023-01-08T14:10:59.178Z"
   },
   {
    "duration": 39,
    "start_time": "2023-01-08T14:10:59.278Z"
   },
   {
    "duration": 285,
    "start_time": "2023-01-08T14:10:59.319Z"
   },
   {
    "duration": 668,
    "start_time": "2023-01-08T14:10:59.607Z"
   },
   {
    "duration": 10,
    "start_time": "2023-01-08T14:11:00.277Z"
   },
   {
    "duration": 36,
    "start_time": "2023-01-08T14:11:00.290Z"
   },
   {
    "duration": 16,
    "start_time": "2023-01-08T14:11:00.328Z"
   },
   {
    "duration": 501,
    "start_time": "2023-01-08T14:11:00.350Z"
   },
   {
    "duration": 172,
    "start_time": "2023-01-08T14:11:00.853Z"
   },
   {
    "duration": 26,
    "start_time": "2023-01-08T14:11:01.026Z"
   },
   {
    "duration": 29,
    "start_time": "2023-01-08T14:11:01.055Z"
   },
   {
    "duration": 40,
    "start_time": "2023-01-08T14:11:01.086Z"
   },
   {
    "duration": 66,
    "start_time": "2023-01-08T14:11:01.129Z"
   },
   {
    "duration": 12,
    "start_time": "2023-01-08T14:12:44.370Z"
   },
   {
    "duration": 7,
    "start_time": "2023-01-08T14:12:45.002Z"
   },
   {
    "duration": 13,
    "start_time": "2023-01-08T14:12:45.987Z"
   },
   {
    "duration": 41,
    "start_time": "2023-01-08T14:12:47.428Z"
   },
   {
    "duration": 39,
    "start_time": "2023-01-08T14:14:29.605Z"
   },
   {
    "duration": 18,
    "start_time": "2023-01-08T14:14:51.050Z"
   },
   {
    "duration": 19,
    "start_time": "2023-01-08T14:15:15.498Z"
   },
   {
    "duration": 23,
    "start_time": "2023-01-08T14:15:20.842Z"
   },
   {
    "duration": 10,
    "start_time": "2023-01-08T14:15:37.702Z"
   },
   {
    "duration": 6,
    "start_time": "2023-01-08T14:15:38.585Z"
   },
   {
    "duration": 17,
    "start_time": "2023-01-08T14:15:39.081Z"
   },
   {
    "duration": 36,
    "start_time": "2023-01-08T14:17:37.911Z"
   },
   {
    "duration": 154,
    "start_time": "2023-01-08T14:18:22.214Z"
   },
   {
    "duration": 24,
    "start_time": "2023-01-08T14:18:39.491Z"
   },
   {
    "duration": 39,
    "start_time": "2023-01-08T14:18:47.921Z"
   },
   {
    "duration": 770,
    "start_time": "2023-01-08T14:24:59.861Z"
   },
   {
    "duration": 8,
    "start_time": "2023-01-08T14:33:46.676Z"
   },
   {
    "duration": 84,
    "start_time": "2023-01-08T15:05:42.280Z"
   },
   {
    "duration": 71,
    "start_time": "2023-01-08T15:06:26.889Z"
   },
   {
    "duration": 69,
    "start_time": "2023-01-08T15:06:32.840Z"
   },
   {
    "duration": 13,
    "start_time": "2023-01-08T15:06:39.347Z"
   },
   {
    "duration": 492,
    "start_time": "2023-01-08T15:06:51.927Z"
   },
   {
    "duration": 7,
    "start_time": "2023-01-08T15:07:45.544Z"
   },
   {
    "duration": 14,
    "start_time": "2023-01-08T15:08:09.502Z"
   },
   {
    "duration": 23,
    "start_time": "2023-01-08T15:08:23.031Z"
   },
   {
    "duration": 18,
    "start_time": "2023-01-08T15:08:34.957Z"
   },
   {
    "duration": 18,
    "start_time": "2023-01-08T15:08:49.010Z"
   },
   {
    "duration": 10,
    "start_time": "2023-01-08T15:22:58.712Z"
   },
   {
    "duration": 9,
    "start_time": "2023-01-08T15:23:43.210Z"
   },
   {
    "duration": 9,
    "start_time": "2023-01-08T15:23:50.511Z"
   },
   {
    "duration": 544,
    "start_time": "2023-01-08T15:23:54.547Z"
   },
   {
    "duration": 8,
    "start_time": "2023-01-08T15:23:55.093Z"
   },
   {
    "duration": 10,
    "start_time": "2023-01-08T15:23:55.420Z"
   },
   {
    "duration": 1327,
    "start_time": "2023-01-08T16:25:15.519Z"
   },
   {
    "duration": 4,
    "start_time": "2023-01-08T16:25:37.566Z"
   },
   {
    "duration": 1076,
    "start_time": "2023-01-08T16:25:38.273Z"
   },
   {
    "duration": 15,
    "start_time": "2023-01-08T16:25:40.759Z"
   },
   {
    "duration": 4,
    "start_time": "2023-01-08T16:28:06.871Z"
   },
   {
    "duration": 1211,
    "start_time": "2023-01-08T16:28:08.189Z"
   },
   {
    "duration": 9,
    "start_time": "2023-01-08T16:28:09.571Z"
   },
   {
    "duration": 13,
    "start_time": "2023-01-08T16:28:09.740Z"
   },
   {
    "duration": 10,
    "start_time": "2023-01-08T16:28:10.087Z"
   },
   {
    "duration": 17,
    "start_time": "2023-01-08T16:28:10.259Z"
   },
   {
    "duration": 12,
    "start_time": "2023-01-08T16:28:10.609Z"
   },
   {
    "duration": 73,
    "start_time": "2023-01-08T16:28:11.130Z"
   },
   {
    "duration": 10,
    "start_time": "2023-01-08T16:28:11.646Z"
   },
   {
    "duration": 13,
    "start_time": "2023-01-08T16:28:11.891Z"
   },
   {
    "duration": 4,
    "start_time": "2023-01-08T16:28:13.091Z"
   },
   {
    "duration": 28,
    "start_time": "2023-01-08T16:28:13.287Z"
   },
   {
    "duration": 240,
    "start_time": "2023-01-08T16:28:13.511Z"
   },
   {
    "duration": 10,
    "start_time": "2023-01-08T16:28:13.753Z"
   },
   {
    "duration": 5,
    "start_time": "2023-01-08T16:28:14.798Z"
   },
   {
    "duration": 13,
    "start_time": "2023-01-08T16:28:14.989Z"
   },
   {
    "duration": 62,
    "start_time": "2023-01-08T16:28:15.193Z"
   },
   {
    "duration": 9,
    "start_time": "2023-01-08T16:28:15.549Z"
   },
   {
    "duration": 9,
    "start_time": "2023-01-08T16:28:15.746Z"
   },
   {
    "duration": 39,
    "start_time": "2023-01-08T16:28:15.950Z"
   },
   {
    "duration": 97,
    "start_time": "2023-01-08T16:28:16.160Z"
   },
   {
    "duration": 55,
    "start_time": "2023-01-08T16:28:17.059Z"
   },
   {
    "duration": 8,
    "start_time": "2023-01-08T16:28:19.194Z"
   },
   {
    "duration": 17,
    "start_time": "2023-01-08T16:28:20.272Z"
   },
   {
    "duration": 31,
    "start_time": "2023-01-08T16:28:20.479Z"
   },
   {
    "duration": 151,
    "start_time": "2023-01-08T16:28:20.669Z"
   },
   {
    "duration": 5,
    "start_time": "2023-01-08T16:28:22.361Z"
   },
   {
    "duration": 8,
    "start_time": "2023-01-08T16:28:22.554Z"
   },
   {
    "duration": 27,
    "start_time": "2023-01-08T16:28:23.777Z"
   },
   {
    "duration": 5,
    "start_time": "2023-01-08T16:28:25.066Z"
   },
   {
    "duration": 10,
    "start_time": "2023-01-08T16:28:25.391Z"
   },
   {
    "duration": 4,
    "start_time": "2023-01-08T16:28:27.717Z"
   },
   {
    "duration": 6,
    "start_time": "2023-01-08T16:28:29.198Z"
   },
   {
    "duration": 34,
    "start_time": "2023-01-08T16:28:32.296Z"
   },
   {
    "duration": 11,
    "start_time": "2023-01-08T16:28:33.078Z"
   },
   {
    "duration": 411,
    "start_time": "2023-01-08T16:28:34.369Z"
   },
   {
    "duration": 21,
    "start_time": "2023-01-08T16:32:36.977Z"
   },
   {
    "duration": 35,
    "start_time": "2023-01-08T16:32:38.130Z"
   },
   {
    "duration": 138,
    "start_time": "2023-01-08T16:32:42.062Z"
   },
   {
    "duration": 20,
    "start_time": "2023-01-08T16:32:43.291Z"
   },
   {
    "duration": 7,
    "start_time": "2023-01-08T16:32:44.753Z"
   },
   {
    "duration": 14,
    "start_time": "2023-01-08T16:32:53.868Z"
   },
   {
    "duration": 7,
    "start_time": "2023-01-08T16:33:01.633Z"
   },
   {
    "duration": 11,
    "start_time": "2023-01-08T16:33:02.288Z"
   },
   {
    "duration": 5,
    "start_time": "2023-01-08T16:33:04.375Z"
   },
   {
    "duration": 39,
    "start_time": "2023-01-08T16:33:08.050Z"
   },
   {
    "duration": 601,
    "start_time": "2023-01-08T16:33:40.372Z"
   },
   {
    "duration": 13,
    "start_time": "2023-01-08T16:33:54.454Z"
   },
   {
    "duration": 21,
    "start_time": "2023-01-08T16:33:56.227Z"
   },
   {
    "duration": 136,
    "start_time": "2023-01-08T16:33:56.766Z"
   },
   {
    "duration": 17,
    "start_time": "2023-01-08T16:33:59.050Z"
   },
   {
    "duration": 11,
    "start_time": "2023-01-08T16:34:00.110Z"
   },
   {
    "duration": 54,
    "start_time": "2023-01-08T16:34:01.205Z"
   },
   {
    "duration": 31,
    "start_time": "2023-01-08T16:34:03.218Z"
   },
   {
    "duration": 328,
    "start_time": "2023-01-08T16:34:03.776Z"
   },
   {
    "duration": 6,
    "start_time": "2023-01-08T16:34:13.379Z"
   },
   {
    "duration": 19,
    "start_time": "2023-01-08T16:34:57.900Z"
   },
   {
    "duration": 15,
    "start_time": "2023-01-08T16:35:46.662Z"
   },
   {
    "duration": 171,
    "start_time": "2023-01-08T17:27:18.180Z"
   },
   {
    "duration": 12,
    "start_time": "2023-01-08T17:27:22.050Z"
   },
   {
    "duration": 41,
    "start_time": "2023-01-08T17:30:48.454Z"
   },
   {
    "duration": 15,
    "start_time": "2023-01-08T17:30:49.103Z"
   },
   {
    "duration": 25,
    "start_time": "2023-01-08T17:31:06.875Z"
   },
   {
    "duration": 27,
    "start_time": "2023-01-08T17:34:15.326Z"
   },
   {
    "duration": 20,
    "start_time": "2023-01-08T17:34:16.349Z"
   },
   {
    "duration": 9,
    "start_time": "2023-01-08T17:35:54.263Z"
   },
   {
    "duration": 16,
    "start_time": "2023-01-08T17:35:54.658Z"
   },
   {
    "duration": 20,
    "start_time": "2023-01-08T17:35:54.962Z"
   },
   {
    "duration": 7,
    "start_time": "2023-01-08T17:36:31.902Z"
   },
   {
    "duration": 18,
    "start_time": "2023-01-08T17:36:32.803Z"
   },
   {
    "duration": 26,
    "start_time": "2023-01-08T17:36:33.330Z"
   },
   {
    "duration": 15,
    "start_time": "2023-01-08T17:36:38.951Z"
   },
   {
    "duration": 16,
    "start_time": "2023-01-08T17:36:39.689Z"
   },
   {
    "duration": 24,
    "start_time": "2023-01-08T17:37:19.086Z"
   },
   {
    "duration": 21,
    "start_time": "2023-01-08T17:37:19.598Z"
   },
   {
    "duration": 21,
    "start_time": "2023-01-08T17:37:39.655Z"
   },
   {
    "duration": 13,
    "start_time": "2023-01-08T17:37:40.190Z"
   },
   {
    "duration": 18,
    "start_time": "2023-01-08T17:38:12.016Z"
   },
   {
    "duration": 26,
    "start_time": "2023-01-08T17:38:30.497Z"
   },
   {
    "duration": 17,
    "start_time": "2023-01-08T17:38:31.052Z"
   },
   {
    "duration": 16,
    "start_time": "2023-01-08T17:39:20.154Z"
   },
   {
    "duration": 5,
    "start_time": "2023-01-08T17:39:51.351Z"
   },
   {
    "duration": 1958,
    "start_time": "2023-01-08T17:39:51.358Z"
   },
   {
    "duration": 9,
    "start_time": "2023-01-08T17:39:53.318Z"
   },
   {
    "duration": 47,
    "start_time": "2023-01-08T17:39:53.330Z"
   },
   {
    "duration": 27,
    "start_time": "2023-01-08T17:39:53.379Z"
   },
   {
    "duration": 33,
    "start_time": "2023-01-08T17:39:53.408Z"
   },
   {
    "duration": 48,
    "start_time": "2023-01-08T17:39:53.444Z"
   },
   {
    "duration": 89,
    "start_time": "2023-01-08T17:39:53.494Z"
   },
   {
    "duration": 13,
    "start_time": "2023-01-08T17:39:53.586Z"
   },
   {
    "duration": 18,
    "start_time": "2023-01-08T17:39:53.603Z"
   },
   {
    "duration": 20,
    "start_time": "2023-01-08T17:39:53.623Z"
   },
   {
    "duration": 52,
    "start_time": "2023-01-08T17:39:53.647Z"
   },
   {
    "duration": 354,
    "start_time": "2023-01-08T17:39:53.701Z"
   },
   {
    "duration": 13,
    "start_time": "2023-01-08T17:39:54.058Z"
   },
   {
    "duration": 14,
    "start_time": "2023-01-08T17:39:54.073Z"
   },
   {
    "duration": 35,
    "start_time": "2023-01-08T17:39:54.089Z"
   },
   {
    "duration": 91,
    "start_time": "2023-01-08T17:39:54.126Z"
   },
   {
    "duration": 11,
    "start_time": "2023-01-08T17:39:54.219Z"
   },
   {
    "duration": 51,
    "start_time": "2023-01-08T17:39:54.232Z"
   },
   {
    "duration": 54,
    "start_time": "2023-01-08T17:39:54.285Z"
   },
   {
    "duration": 116,
    "start_time": "2023-01-08T17:39:54.347Z"
   },
   {
    "duration": 65,
    "start_time": "2023-01-08T17:39:54.465Z"
   },
   {
    "duration": 26,
    "start_time": "2023-01-08T17:39:54.538Z"
   },
   {
    "duration": 55,
    "start_time": "2023-01-08T17:39:54.567Z"
   },
   {
    "duration": 92,
    "start_time": "2023-01-08T17:39:54.624Z"
   },
   {
    "duration": 198,
    "start_time": "2023-01-08T17:39:54.718Z"
   },
   {
    "duration": 7,
    "start_time": "2023-01-08T17:39:54.918Z"
   },
   {
    "duration": 44,
    "start_time": "2023-01-08T17:39:54.938Z"
   },
   {
    "duration": 38,
    "start_time": "2023-01-08T17:39:54.985Z"
   },
   {
    "duration": 9,
    "start_time": "2023-01-08T17:39:55.025Z"
   },
   {
    "duration": 56,
    "start_time": "2023-01-08T17:39:55.039Z"
   },
   {
    "duration": 13,
    "start_time": "2023-01-08T17:39:55.097Z"
   },
   {
    "duration": 16,
    "start_time": "2023-01-08T17:39:55.112Z"
   },
   {
    "duration": 79,
    "start_time": "2023-01-08T17:39:55.130Z"
   },
   {
    "duration": 14,
    "start_time": "2023-01-08T17:39:55.210Z"
   },
   {
    "duration": 66,
    "start_time": "2023-01-08T17:39:55.226Z"
   },
   {
    "duration": 21,
    "start_time": "2023-01-08T17:39:55.294Z"
   },
   {
    "duration": 50,
    "start_time": "2023-01-08T17:39:55.317Z"
   },
   {
    "duration": 143,
    "start_time": "2023-01-08T17:39:55.368Z"
   },
   {
    "duration": 41,
    "start_time": "2023-01-08T17:39:55.512Z"
   },
   {
    "duration": 9,
    "start_time": "2023-01-08T17:39:55.555Z"
   },
   {
    "duration": 18,
    "start_time": "2023-01-08T17:39:55.566Z"
   },
   {
    "duration": 6,
    "start_time": "2023-01-08T17:39:55.586Z"
   },
   {
    "duration": 16,
    "start_time": "2023-01-08T17:39:55.594Z"
   },
   {
    "duration": 26,
    "start_time": "2023-01-08T17:39:55.613Z"
   },
   {
    "duration": 40,
    "start_time": "2023-01-08T17:39:55.641Z"
   },
   {
    "duration": 662,
    "start_time": "2023-01-08T17:39:55.683Z"
   },
   {
    "duration": 10,
    "start_time": "2023-01-08T17:39:56.350Z"
   },
   {
    "duration": 18,
    "start_time": "2023-01-08T17:39:56.361Z"
   },
   {
    "duration": 61,
    "start_time": "2023-01-08T17:39:56.381Z"
   },
   {
    "duration": 22,
    "start_time": "2023-01-08T17:39:56.449Z"
   },
   {
    "duration": 11,
    "start_time": "2023-01-08T17:39:56.473Z"
   },
   {
    "duration": 74,
    "start_time": "2023-01-08T17:39:56.486Z"
   },
   {
    "duration": 27,
    "start_time": "2023-01-08T17:39:56.562Z"
   },
   {
    "duration": 304,
    "start_time": "2023-01-08T17:39:56.591Z"
   },
   {
    "duration": 11,
    "start_time": "2023-01-08T17:39:56.897Z"
   },
   {
    "duration": 37,
    "start_time": "2023-01-08T17:39:56.910Z"
   },
   {
    "duration": 29,
    "start_time": "2023-01-08T17:39:56.948Z"
   },
   {
    "duration": 14,
    "start_time": "2023-01-08T17:40:53.574Z"
   },
   {
    "duration": 31,
    "start_time": "2023-01-08T17:41:25.864Z"
   },
   {
    "duration": 18,
    "start_time": "2023-01-08T17:41:38.910Z"
   },
   {
    "duration": 7,
    "start_time": "2023-01-08T17:50:04.159Z"
   },
   {
    "duration": 9,
    "start_time": "2023-01-08T17:50:42.609Z"
   },
   {
    "duration": 18,
    "start_time": "2023-01-08T17:52:07.332Z"
   },
   {
    "duration": 10,
    "start_time": "2023-01-08T17:58:41.105Z"
   },
   {
    "duration": 19,
    "start_time": "2023-01-08T17:58:43.106Z"
   },
   {
    "duration": 66,
    "start_time": "2023-01-08T17:58:43.536Z"
   },
   {
    "duration": 16,
    "start_time": "2023-01-08T17:58:44.708Z"
   },
   {
    "duration": 13,
    "start_time": "2023-01-08T17:58:45.153Z"
   },
   {
    "duration": 59,
    "start_time": "2023-01-08T17:58:45.612Z"
   },
   {
    "duration": 25,
    "start_time": "2023-01-08T17:58:47.431Z"
   },
   {
    "duration": 275,
    "start_time": "2023-01-08T17:58:47.905Z"
   },
   {
    "duration": 13,
    "start_time": "2023-01-08T17:58:56.341Z"
   },
   {
    "duration": 25,
    "start_time": "2023-01-08T17:58:56.706Z"
   },
   {
    "duration": 15,
    "start_time": "2023-01-08T17:58:57.265Z"
   },
   {
    "duration": 7,
    "start_time": "2023-01-08T18:02:13.592Z"
   },
   {
    "duration": 14,
    "start_time": "2023-01-08T18:02:13.984Z"
   },
   {
    "duration": 21,
    "start_time": "2023-01-08T18:02:14.631Z"
   },
   {
    "duration": 8,
    "start_time": "2023-01-08T18:02:20.761Z"
   },
   {
    "duration": 8,
    "start_time": "2023-01-08T18:02:21.555Z"
   },
   {
    "duration": 18,
    "start_time": "2023-01-08T18:02:22.092Z"
   },
   {
    "duration": 46,
    "start_time": "2023-01-08T18:02:22.679Z"
   },
   {
    "duration": 7,
    "start_time": "2023-01-08T18:02:30.789Z"
   },
   {
    "duration": 6,
    "start_time": "2023-01-08T18:02:31.253Z"
   },
   {
    "duration": 14,
    "start_time": "2023-01-08T18:02:31.678Z"
   },
   {
    "duration": 45,
    "start_time": "2023-01-08T18:02:32.221Z"
   },
   {
    "duration": 21,
    "start_time": "2023-01-08T18:08:12.529Z"
   },
   {
    "duration": 7,
    "start_time": "2023-01-08T18:08:27.266Z"
   },
   {
    "duration": 9,
    "start_time": "2023-01-08T18:08:27.866Z"
   },
   {
    "duration": 7,
    "start_time": "2023-01-08T18:08:45.001Z"
   },
   {
    "duration": 5,
    "start_time": "2023-01-08T18:08:45.518Z"
   },
   {
    "duration": 15,
    "start_time": "2023-01-08T18:08:57.253Z"
   },
   {
    "duration": 37,
    "start_time": "2023-01-08T18:09:03.632Z"
   },
   {
    "duration": 15,
    "start_time": "2023-01-08T18:09:46.743Z"
   },
   {
    "duration": 5,
    "start_time": "2023-01-08T18:09:47.492Z"
   },
   {
    "duration": 16,
    "start_time": "2023-01-08T18:09:48.337Z"
   },
   {
    "duration": 30,
    "start_time": "2023-01-08T18:09:49.799Z"
   },
   {
    "duration": 11,
    "start_time": "2023-01-08T18:11:06.135Z"
   },
   {
    "duration": 6,
    "start_time": "2023-01-08T18:11:06.945Z"
   },
   {
    "duration": 10,
    "start_time": "2023-01-08T18:11:07.557Z"
   },
   {
    "duration": 49,
    "start_time": "2023-01-08T18:11:08.508Z"
   },
   {
    "duration": 8,
    "start_time": "2023-01-08T18:12:10.317Z"
   },
   {
    "duration": 844,
    "start_time": "2023-01-08T18:12:11.753Z"
   },
   {
    "duration": 12,
    "start_time": "2023-01-08T18:12:30.165Z"
   },
   {
    "duration": 36,
    "start_time": "2023-01-08T18:12:30.957Z"
   },
   {
    "duration": 32,
    "start_time": "2023-01-08T18:12:37.023Z"
   },
   {
    "duration": 15,
    "start_time": "2023-01-08T18:12:47.440Z"
   },
   {
    "duration": 14,
    "start_time": "2023-01-08T18:13:19.012Z"
   },
   {
    "duration": 40,
    "start_time": "2023-01-08T18:13:23.975Z"
   },
   {
    "duration": 9,
    "start_time": "2023-01-08T18:14:24.660Z"
   },
   {
    "duration": 849,
    "start_time": "2023-01-08T18:14:25.906Z"
   },
   {
    "duration": 7,
    "start_time": "2023-01-08T18:14:34.886Z"
   },
   {
    "duration": 10,
    "start_time": "2023-01-08T18:14:35.780Z"
   },
   {
    "duration": 773,
    "start_time": "2023-01-08T18:14:37.097Z"
   },
   {
    "duration": 11,
    "start_time": "2023-01-08T18:15:15.950Z"
   },
   {
    "duration": 16,
    "start_time": "2023-01-08T18:15:20.952Z"
   },
   {
    "duration": 7,
    "start_time": "2023-01-08T18:15:39.209Z"
   },
   {
    "duration": 706,
    "start_time": "2023-01-08T18:15:40.376Z"
   },
   {
    "duration": 9,
    "start_time": "2023-01-08T18:15:46.501Z"
   },
   {
    "duration": 905,
    "start_time": "2023-01-08T18:15:49.952Z"
   },
   {
    "duration": 13,
    "start_time": "2023-01-08T18:16:41.591Z"
   },
   {
    "duration": 15,
    "start_time": "2023-01-08T18:18:34.815Z"
   },
   {
    "duration": 17,
    "start_time": "2023-01-08T18:19:15.264Z"
   },
   {
    "duration": 20,
    "start_time": "2023-01-08T18:19:22.465Z"
   },
   {
    "duration": 11,
    "start_time": "2023-01-08T18:19:30.799Z"
   },
   {
    "duration": 10,
    "start_time": "2023-01-08T18:19:33.296Z"
   },
   {
    "duration": 11,
    "start_time": "2023-01-08T18:19:52.311Z"
   },
   {
    "duration": 14,
    "start_time": "2023-01-08T18:19:59.373Z"
   },
   {
    "duration": 856,
    "start_time": "2023-01-08T18:20:08.191Z"
   },
   {
    "duration": 5,
    "start_time": "2023-01-08T18:20:15.479Z"
   },
   {
    "duration": 9,
    "start_time": "2023-01-08T18:20:16.097Z"
   },
   {
    "duration": 814,
    "start_time": "2023-01-08T18:20:17.070Z"
   },
   {
    "duration": 8,
    "start_time": "2023-01-08T18:21:39.296Z"
   },
   {
    "duration": 5,
    "start_time": "2023-01-08T18:21:40.374Z"
   },
   {
    "duration": 9,
    "start_time": "2023-01-08T18:21:41.175Z"
   },
   {
    "duration": 871,
    "start_time": "2023-01-08T18:21:42.615Z"
   },
   {
    "duration": 14,
    "start_time": "2023-01-08T18:22:11.412Z"
   },
   {
    "duration": 32,
    "start_time": "2023-01-08T18:22:12.873Z"
   },
   {
    "duration": 11,
    "start_time": "2023-01-08T18:22:20.046Z"
   },
   {
    "duration": 6,
    "start_time": "2023-01-08T18:22:20.465Z"
   },
   {
    "duration": 11,
    "start_time": "2023-01-08T18:22:20.952Z"
   },
   {
    "duration": 29,
    "start_time": "2023-01-08T18:22:21.742Z"
   },
   {
    "duration": 10,
    "start_time": "2023-01-08T18:22:42.392Z"
   },
   {
    "duration": 10,
    "start_time": "2023-01-08T18:22:53.378Z"
   },
   {
    "duration": 9,
    "start_time": "2023-01-08T18:23:19.120Z"
   },
   {
    "duration": 6,
    "start_time": "2023-01-08T18:23:19.822Z"
   },
   {
    "duration": 12,
    "start_time": "2023-01-08T18:23:20.728Z"
   },
   {
    "duration": 37,
    "start_time": "2023-01-08T18:23:23.588Z"
   },
   {
    "duration": 7,
    "start_time": "2023-01-08T18:24:15.760Z"
   },
   {
    "duration": 6,
    "start_time": "2023-01-08T18:24:16.550Z"
   },
   {
    "duration": 15,
    "start_time": "2023-01-08T18:24:17.144Z"
   },
   {
    "duration": 58,
    "start_time": "2023-01-08T18:24:18.185Z"
   },
   {
    "duration": 8,
    "start_time": "2023-01-08T18:24:28.703Z"
   },
   {
    "duration": 10,
    "start_time": "2023-01-08T18:24:29.239Z"
   },
   {
    "duration": 10,
    "start_time": "2023-01-08T18:24:29.917Z"
   },
   {
    "duration": 53,
    "start_time": "2023-01-08T18:24:31.293Z"
   },
   {
    "duration": 12,
    "start_time": "2023-01-08T18:24:48.931Z"
   },
   {
    "duration": 6,
    "start_time": "2023-01-08T18:24:49.813Z"
   },
   {
    "duration": 18,
    "start_time": "2023-01-08T18:24:52.805Z"
   },
   {
    "duration": 54,
    "start_time": "2023-01-08T18:24:54.005Z"
   },
   {
    "duration": 19,
    "start_time": "2023-01-08T18:32:20.452Z"
   },
   {
    "duration": 5,
    "start_time": "2023-01-08T18:32:26.758Z"
   },
   {
    "duration": 1336,
    "start_time": "2023-01-08T18:32:26.766Z"
   },
   {
    "duration": 12,
    "start_time": "2023-01-08T18:32:28.104Z"
   },
   {
    "duration": 16,
    "start_time": "2023-01-08T18:32:28.118Z"
   },
   {
    "duration": 20,
    "start_time": "2023-01-08T18:32:28.136Z"
   },
   {
    "duration": 33,
    "start_time": "2023-01-08T18:32:28.157Z"
   },
   {
    "duration": 14,
    "start_time": "2023-01-08T18:32:28.192Z"
   },
   {
    "duration": 86,
    "start_time": "2023-01-08T18:32:28.208Z"
   },
   {
    "duration": 9,
    "start_time": "2023-01-08T18:32:28.297Z"
   },
   {
    "duration": 28,
    "start_time": "2023-01-08T18:32:28.308Z"
   },
   {
    "duration": 11,
    "start_time": "2023-01-08T18:32:28.338Z"
   },
   {
    "duration": 43,
    "start_time": "2023-01-08T18:32:28.351Z"
   },
   {
    "duration": 265,
    "start_time": "2023-01-08T18:32:28.395Z"
   },
   {
    "duration": 11,
    "start_time": "2023-01-08T18:32:28.662Z"
   },
   {
    "duration": 10,
    "start_time": "2023-01-08T18:32:28.674Z"
   },
   {
    "duration": 28,
    "start_time": "2023-01-08T18:32:28.686Z"
   },
   {
    "duration": 77,
    "start_time": "2023-01-08T18:32:28.716Z"
   },
   {
    "duration": 10,
    "start_time": "2023-01-08T18:32:28.795Z"
   },
   {
    "duration": 20,
    "start_time": "2023-01-08T18:32:28.808Z"
   },
   {
    "duration": 42,
    "start_time": "2023-01-08T18:32:28.835Z"
   },
   {
    "duration": 89,
    "start_time": "2023-01-08T18:32:28.879Z"
   },
   {
    "duration": 67,
    "start_time": "2023-01-08T18:32:28.970Z"
   },
   {
    "duration": 16,
    "start_time": "2023-01-08T18:32:29.039Z"
   },
   {
    "duration": 27,
    "start_time": "2023-01-08T18:32:29.061Z"
   },
   {
    "duration": 74,
    "start_time": "2023-01-08T18:32:29.091Z"
   },
   {
    "duration": 231,
    "start_time": "2023-01-08T18:32:29.167Z"
   },
   {
    "duration": 7,
    "start_time": "2023-01-08T18:32:29.400Z"
   },
   {
    "duration": 27,
    "start_time": "2023-01-08T18:32:29.408Z"
   },
   {
    "duration": 64,
    "start_time": "2023-01-08T18:32:29.438Z"
   },
   {
    "duration": 8,
    "start_time": "2023-01-08T18:32:29.504Z"
   },
   {
    "duration": 28,
    "start_time": "2023-01-08T18:32:29.519Z"
   },
   {
    "duration": 6,
    "start_time": "2023-01-08T18:32:29.549Z"
   },
   {
    "duration": 17,
    "start_time": "2023-01-08T18:32:29.556Z"
   },
   {
    "duration": 71,
    "start_time": "2023-01-08T18:32:29.575Z"
   },
   {
    "duration": 12,
    "start_time": "2023-01-08T18:32:29.648Z"
   },
   {
    "duration": 73,
    "start_time": "2023-01-08T18:32:29.662Z"
   },
   {
    "duration": 28,
    "start_time": "2023-01-08T18:32:29.738Z"
   },
   {
    "duration": 37,
    "start_time": "2023-01-08T18:32:29.769Z"
   },
   {
    "duration": 230,
    "start_time": "2023-01-08T18:32:29.808Z"
   },
   {
    "duration": 23,
    "start_time": "2023-01-08T18:32:30.040Z"
   },
   {
    "duration": 29,
    "start_time": "2023-01-08T18:32:30.064Z"
   },
   {
    "duration": 33,
    "start_time": "2023-01-08T18:32:30.094Z"
   },
   {
    "duration": 43,
    "start_time": "2023-01-08T18:32:30.129Z"
   },
   {
    "duration": 52,
    "start_time": "2023-01-08T18:32:30.174Z"
   },
   {
    "duration": 48,
    "start_time": "2023-01-08T18:32:30.228Z"
   },
   {
    "duration": 115,
    "start_time": "2023-01-08T18:32:30.278Z"
   },
   {
    "duration": 745,
    "start_time": "2023-01-08T18:32:30.395Z"
   },
   {
    "duration": 9,
    "start_time": "2023-01-08T18:32:31.142Z"
   },
   {
    "duration": 51,
    "start_time": "2023-01-08T18:32:31.153Z"
   },
   {
    "duration": 66,
    "start_time": "2023-01-08T18:32:31.206Z"
   },
   {
    "duration": 23,
    "start_time": "2023-01-08T18:32:31.274Z"
   },
   {
    "duration": 30,
    "start_time": "2023-01-08T18:32:31.302Z"
   },
   {
    "duration": 73,
    "start_time": "2023-01-08T18:32:31.335Z"
   },
   {
    "duration": 50,
    "start_time": "2023-01-08T18:32:31.410Z"
   },
   {
    "duration": 18,
    "start_time": "2023-01-08T18:32:47.632Z"
   },
   {
    "duration": 292,
    "start_time": "2023-01-08T18:32:48.235Z"
   },
   {
    "duration": 1359,
    "start_time": "2023-01-08T18:33:26.604Z"
   },
   {
    "duration": 1217,
    "start_time": "2023-01-08T18:33:27.965Z"
   },
   {
    "duration": 14,
    "start_time": "2023-01-08T18:33:29.185Z"
   },
   {
    "duration": 15,
    "start_time": "2023-01-08T18:33:29.202Z"
   },
   {
    "duration": 19,
    "start_time": "2023-01-08T18:33:29.219Z"
   },
   {
    "duration": 45,
    "start_time": "2023-01-08T18:33:29.240Z"
   },
   {
    "duration": 15,
    "start_time": "2023-01-08T18:33:29.287Z"
   },
   {
    "duration": 76,
    "start_time": "2023-01-08T18:33:29.303Z"
   },
   {
    "duration": 11,
    "start_time": "2023-01-08T18:33:29.382Z"
   },
   {
    "duration": 22,
    "start_time": "2023-01-08T18:33:29.397Z"
   },
   {
    "duration": 17,
    "start_time": "2023-01-08T18:33:29.421Z"
   },
   {
    "duration": 44,
    "start_time": "2023-01-08T18:33:29.439Z"
   },
   {
    "duration": 358,
    "start_time": "2023-01-08T18:33:29.485Z"
   },
   {
    "duration": 10,
    "start_time": "2023-01-08T18:33:29.845Z"
   },
   {
    "duration": 8,
    "start_time": "2023-01-08T18:33:29.857Z"
   },
   {
    "duration": 25,
    "start_time": "2023-01-08T18:33:29.867Z"
   },
   {
    "duration": 88,
    "start_time": "2023-01-08T18:33:29.894Z"
   },
   {
    "duration": 10,
    "start_time": "2023-01-08T18:33:29.984Z"
   },
   {
    "duration": 56,
    "start_time": "2023-01-08T18:33:29.996Z"
   },
   {
    "duration": 84,
    "start_time": "2023-01-08T18:33:30.054Z"
   },
   {
    "duration": 100,
    "start_time": "2023-01-08T18:33:30.140Z"
   },
   {
    "duration": 56,
    "start_time": "2023-01-08T18:33:30.242Z"
   },
   {
    "duration": 39,
    "start_time": "2023-01-08T18:33:30.300Z"
   },
   {
    "duration": 57,
    "start_time": "2023-01-08T18:33:30.340Z"
   },
   {
    "duration": 61,
    "start_time": "2023-01-08T18:33:30.399Z"
   },
   {
    "duration": 157,
    "start_time": "2023-01-08T18:33:30.462Z"
   },
   {
    "duration": 16,
    "start_time": "2023-01-08T18:33:30.621Z"
   },
   {
    "duration": 26,
    "start_time": "2023-01-08T18:33:30.643Z"
   },
   {
    "duration": 71,
    "start_time": "2023-01-08T18:33:30.672Z"
   },
   {
    "duration": 6,
    "start_time": "2023-01-08T18:33:30.745Z"
   },
   {
    "duration": 34,
    "start_time": "2023-01-08T18:33:30.753Z"
   },
   {
    "duration": 15,
    "start_time": "2023-01-08T18:33:30.789Z"
   },
   {
    "duration": 27,
    "start_time": "2023-01-08T18:33:30.806Z"
   },
   {
    "duration": 52,
    "start_time": "2023-01-08T18:33:30.836Z"
   },
   {
    "duration": 15,
    "start_time": "2023-01-08T18:33:30.890Z"
   },
   {
    "duration": 401,
    "start_time": "2023-01-08T18:33:30.907Z"
   },
   {
    "duration": 28,
    "start_time": "2023-01-08T18:33:31.310Z"
   },
   {
    "duration": 96,
    "start_time": "2023-01-08T18:33:31.340Z"
   },
   {
    "duration": 186,
    "start_time": "2023-01-08T18:33:31.438Z"
   },
   {
    "duration": 31,
    "start_time": "2023-01-08T18:33:31.626Z"
   },
   {
    "duration": 27,
    "start_time": "2023-01-08T18:33:31.659Z"
   },
   {
    "duration": 60,
    "start_time": "2023-01-08T18:33:31.688Z"
   },
   {
    "duration": 18,
    "start_time": "2023-01-08T18:33:31.751Z"
   },
   {
    "duration": 21,
    "start_time": "2023-01-08T18:33:31.771Z"
   },
   {
    "duration": 41,
    "start_time": "2023-01-08T18:33:31.794Z"
   },
   {
    "duration": 55,
    "start_time": "2023-01-08T18:33:31.837Z"
   },
   {
    "duration": 666,
    "start_time": "2023-01-08T18:33:31.894Z"
   },
   {
    "duration": 12,
    "start_time": "2023-01-08T18:33:32.562Z"
   },
   {
    "duration": 22,
    "start_time": "2023-01-08T18:33:32.576Z"
   },
   {
    "duration": 175,
    "start_time": "2023-01-08T18:33:32.600Z"
   },
   {
    "duration": 26,
    "start_time": "2023-01-08T18:33:32.777Z"
   },
   {
    "duration": 31,
    "start_time": "2023-01-08T18:33:32.806Z"
   },
   {
    "duration": 76,
    "start_time": "2023-01-08T18:33:32.839Z"
   },
   {
    "duration": 53,
    "start_time": "2023-01-08T18:33:32.916Z"
   },
   {
    "duration": 437,
    "start_time": "2023-01-08T18:33:32.972Z"
   },
   {
    "duration": 8,
    "start_time": "2023-01-08T18:33:33.412Z"
   },
   {
    "duration": 33,
    "start_time": "2023-01-08T18:33:33.422Z"
   },
   {
    "duration": 18,
    "start_time": "2023-01-08T18:33:33.458Z"
   },
   {
    "duration": 12,
    "start_time": "2023-01-08T18:33:33.478Z"
   },
   {
    "duration": 15,
    "start_time": "2023-01-08T18:33:33.492Z"
   },
   {
    "duration": 36,
    "start_time": "2023-01-08T18:33:33.508Z"
   },
   {
    "duration": 57,
    "start_time": "2023-01-08T18:33:33.546Z"
   },
   {
    "duration": 6,
    "start_time": "2023-01-08T18:34:35.168Z"
   },
   {
    "duration": 10,
    "start_time": "2023-01-08T18:35:36.385Z"
   },
   {
    "duration": 54,
    "start_time": "2023-01-08T18:36:56.414Z"
   },
   {
    "duration": 7,
    "start_time": "2023-01-08T18:37:27.627Z"
   },
   {
    "duration": 24,
    "start_time": "2023-01-08T18:37:28.624Z"
   },
   {
    "duration": 14,
    "start_time": "2023-01-08T18:37:29.154Z"
   },
   {
    "duration": 11,
    "start_time": "2023-01-08T18:59:52.156Z"
   },
   {
    "duration": 8,
    "start_time": "2023-01-08T18:59:52.689Z"
   },
   {
    "duration": 12,
    "start_time": "2023-01-08T18:59:53.126Z"
   },
   {
    "duration": 52,
    "start_time": "2023-01-08T18:59:54.171Z"
   },
   {
    "duration": 11,
    "start_time": "2023-01-08T19:01:13.007Z"
   },
   {
    "duration": 151,
    "start_time": "2023-01-08T19:03:24.751Z"
   },
   {
    "duration": 235,
    "start_time": "2023-01-08T19:03:25.252Z"
   },
   {
    "duration": 18,
    "start_time": "2023-01-08T19:03:34.353Z"
   },
   {
    "duration": 12,
    "start_time": "2023-01-08T19:04:45.780Z"
   },
   {
    "duration": 13,
    "start_time": "2023-01-08T19:04:49.229Z"
   },
   {
    "duration": 10,
    "start_time": "2023-01-08T19:04:54.219Z"
   },
   {
    "duration": 18,
    "start_time": "2023-01-08T19:04:57.530Z"
   },
   {
    "duration": 12,
    "start_time": "2023-01-08T19:05:21.081Z"
   },
   {
    "duration": 4,
    "start_time": "2023-01-08T19:05:26.186Z"
   },
   {
    "duration": 5,
    "start_time": "2023-01-08T19:05:32.367Z"
   },
   {
    "duration": 18,
    "start_time": "2023-01-08T19:05:44.997Z"
   },
   {
    "duration": 4,
    "start_time": "2023-01-08T19:07:04.905Z"
   },
   {
    "duration": 1054,
    "start_time": "2023-01-08T19:07:06.269Z"
   },
   {
    "duration": 10,
    "start_time": "2023-01-08T19:07:08.226Z"
   },
   {
    "duration": 11,
    "start_time": "2023-01-08T19:07:08.411Z"
   },
   {
    "duration": 11,
    "start_time": "2023-01-08T19:07:09.016Z"
   },
   {
    "duration": 19,
    "start_time": "2023-01-08T19:07:09.199Z"
   },
   {
    "duration": 13,
    "start_time": "2023-01-08T19:07:09.583Z"
   },
   {
    "duration": 62,
    "start_time": "2023-01-08T19:07:10.226Z"
   },
   {
    "duration": 9,
    "start_time": "2023-01-08T19:07:10.765Z"
   },
   {
    "duration": 12,
    "start_time": "2023-01-08T19:07:11.154Z"
   },
   {
    "duration": 5,
    "start_time": "2023-01-08T19:07:12.924Z"
   },
   {
    "duration": 31,
    "start_time": "2023-01-08T19:07:13.210Z"
   },
   {
    "duration": 254,
    "start_time": "2023-01-08T19:07:13.427Z"
   },
   {
    "duration": 8,
    "start_time": "2023-01-08T19:07:13.683Z"
   },
   {
    "duration": 6,
    "start_time": "2023-01-08T19:07:14.606Z"
   },
   {
    "duration": 14,
    "start_time": "2023-01-08T19:07:14.806Z"
   },
   {
    "duration": 56,
    "start_time": "2023-01-08T19:07:15.002Z"
   },
   {
    "duration": 9,
    "start_time": "2023-01-08T19:07:15.869Z"
   },
   {
    "duration": 8,
    "start_time": "2023-01-08T19:07:16.082Z"
   },
   {
    "duration": 40,
    "start_time": "2023-01-08T19:07:16.296Z"
   },
   {
    "duration": 76,
    "start_time": "2023-01-08T19:07:16.538Z"
   },
   {
    "duration": 60,
    "start_time": "2023-01-08T19:07:19.602Z"
   },
   {
    "duration": 8,
    "start_time": "2023-01-08T19:07:22.948Z"
   },
   {
    "duration": 22,
    "start_time": "2023-01-08T19:07:24.168Z"
   },
   {
    "duration": 34,
    "start_time": "2023-01-08T19:07:24.730Z"
   },
   {
    "duration": 155,
    "start_time": "2023-01-08T19:07:25.192Z"
   },
   {
    "duration": 5,
    "start_time": "2023-01-08T19:07:49.537Z"
   },
   {
    "duration": 8,
    "start_time": "2023-01-08T19:07:50.100Z"
   },
   {
    "duration": 32,
    "start_time": "2023-01-08T19:07:50.943Z"
   },
   {
    "duration": 6,
    "start_time": "2023-01-08T19:07:51.603Z"
   },
   {
    "duration": 11,
    "start_time": "2023-01-08T19:07:52.272Z"
   },
   {
    "duration": 6,
    "start_time": "2023-01-08T19:07:54.117Z"
   },
   {
    "duration": 8,
    "start_time": "2023-01-08T19:07:55.165Z"
   },
   {
    "duration": 37,
    "start_time": "2023-01-08T19:07:56.423Z"
   },
   {
    "duration": 14,
    "start_time": "2023-01-08T19:08:14.195Z"
   },
   {
    "duration": 75,
    "start_time": "2023-01-08T19:08:15.196Z"
   },
   {
    "duration": 28,
    "start_time": "2023-01-08T19:08:32.758Z"
   },
   {
    "duration": 50,
    "start_time": "2023-01-08T19:08:33.849Z"
   },
   {
    "duration": 120,
    "start_time": "2023-01-08T19:08:37.795Z"
   },
   {
    "duration": 19,
    "start_time": "2023-01-08T19:08:38.470Z"
   },
   {
    "duration": 8,
    "start_time": "2023-01-08T19:08:44.359Z"
   },
   {
    "duration": 15,
    "start_time": "2023-01-08T19:08:46.053Z"
   },
   {
    "duration": 6,
    "start_time": "2023-01-08T19:08:49.136Z"
   },
   {
    "duration": 10,
    "start_time": "2023-01-08T19:08:58.694Z"
   },
   {
    "duration": 5,
    "start_time": "2023-01-08T19:09:04.138Z"
   },
   {
    "duration": 36,
    "start_time": "2023-01-08T19:09:36.805Z"
   },
   {
    "duration": 740,
    "start_time": "2023-01-08T19:09:37.435Z"
   },
   {
    "duration": 13,
    "start_time": "2023-01-08T19:09:41.841Z"
   },
   {
    "duration": 20,
    "start_time": "2023-01-08T19:09:43.847Z"
   },
   {
    "duration": 46,
    "start_time": "2023-01-08T19:09:44.500Z"
   },
   {
    "duration": 17,
    "start_time": "2023-01-08T19:09:45.849Z"
   },
   {
    "duration": 14,
    "start_time": "2023-01-08T19:09:46.635Z"
   },
   {
    "duration": 52,
    "start_time": "2023-01-08T19:09:47.579Z"
   },
   {
    "duration": 25,
    "start_time": "2023-01-08T19:09:49.718Z"
   },
   {
    "duration": 215,
    "start_time": "2023-01-08T19:09:51.726Z"
   },
   {
    "duration": 20,
    "start_time": "2023-01-08T19:10:38.575Z"
   },
   {
    "duration": 11,
    "start_time": "2023-01-08T19:11:12.073Z"
   },
   {
    "duration": 9,
    "start_time": "2023-01-08T19:12:40.447Z"
   },
   {
    "duration": 17,
    "start_time": "2023-01-08T19:12:59.997Z"
   },
   {
    "duration": 10,
    "start_time": "2023-01-08T19:13:26.343Z"
   },
   {
    "duration": 9,
    "start_time": "2023-01-08T19:13:43.039Z"
   },
   {
    "duration": 12,
    "start_time": "2023-01-08T19:14:06.757Z"
   },
   {
    "duration": 9,
    "start_time": "2023-01-08T19:14:15.917Z"
   },
   {
    "duration": 9,
    "start_time": "2023-01-08T19:14:49.887Z"
   },
   {
    "duration": 46,
    "start_time": "2023-01-08T19:15:11.833Z"
   },
   {
    "duration": 9,
    "start_time": "2023-01-08T19:15:17.377Z"
   },
   {
    "duration": 10,
    "start_time": "2023-01-08T19:15:31.856Z"
   },
   {
    "duration": 11,
    "start_time": "2023-01-08T19:15:42.106Z"
   },
   {
    "duration": 5,
    "start_time": "2023-01-08T19:16:55.916Z"
   },
   {
    "duration": 1085,
    "start_time": "2023-01-08T19:16:55.922Z"
   },
   {
    "duration": 9,
    "start_time": "2023-01-08T19:16:57.009Z"
   },
   {
    "duration": 20,
    "start_time": "2023-01-08T19:16:57.021Z"
   },
   {
    "duration": 13,
    "start_time": "2023-01-08T19:16:57.042Z"
   },
   {
    "duration": 23,
    "start_time": "2023-01-08T19:16:57.056Z"
   },
   {
    "duration": 11,
    "start_time": "2023-01-08T19:16:57.081Z"
   },
   {
    "duration": 79,
    "start_time": "2023-01-08T19:16:57.094Z"
   },
   {
    "duration": 10,
    "start_time": "2023-01-08T19:16:57.176Z"
   },
   {
    "duration": 13,
    "start_time": "2023-01-08T19:16:57.188Z"
   },
   {
    "duration": 13,
    "start_time": "2023-01-08T19:16:57.203Z"
   },
   {
    "duration": 40,
    "start_time": "2023-01-08T19:16:57.218Z"
   },
   {
    "duration": 236,
    "start_time": "2023-01-08T19:16:57.259Z"
   },
   {
    "duration": 9,
    "start_time": "2023-01-08T19:16:57.497Z"
   },
   {
    "duration": 6,
    "start_time": "2023-01-08T19:16:57.508Z"
   },
   {
    "duration": 31,
    "start_time": "2023-01-08T19:16:57.515Z"
   },
   {
    "duration": 60,
    "start_time": "2023-01-08T19:16:57.548Z"
   },
   {
    "duration": 9,
    "start_time": "2023-01-08T19:16:57.610Z"
   },
   {
    "duration": 22,
    "start_time": "2023-01-08T19:16:57.621Z"
   },
   {
    "duration": 37,
    "start_time": "2023-01-08T19:16:57.645Z"
   },
   {
    "duration": 88,
    "start_time": "2023-01-08T19:16:57.683Z"
   },
   {
    "duration": 67,
    "start_time": "2023-01-08T19:16:57.773Z"
   },
   {
    "duration": 7,
    "start_time": "2023-01-08T19:16:57.842Z"
   },
   {
    "duration": 16,
    "start_time": "2023-01-08T19:16:57.853Z"
   },
   {
    "duration": 29,
    "start_time": "2023-01-08T19:16:57.871Z"
   },
   {
    "duration": 180,
    "start_time": "2023-01-08T19:16:57.902Z"
   },
   {
    "duration": 5,
    "start_time": "2023-01-08T19:16:58.083Z"
   },
   {
    "duration": 9,
    "start_time": "2023-01-08T19:16:58.090Z"
   },
   {
    "duration": 40,
    "start_time": "2023-01-08T19:16:58.101Z"
   },
   {
    "duration": 6,
    "start_time": "2023-01-08T19:16:58.143Z"
   },
   {
    "duration": 16,
    "start_time": "2023-01-08T19:16:58.150Z"
   },
   {
    "duration": 9,
    "start_time": "2023-01-08T19:16:58.168Z"
   },
   {
    "duration": 7,
    "start_time": "2023-01-08T19:16:58.179Z"
   },
   {
    "duration": 58,
    "start_time": "2023-01-08T19:16:58.187Z"
   },
   {
    "duration": 11,
    "start_time": "2023-01-08T19:16:58.247Z"
   },
   {
    "duration": 68,
    "start_time": "2023-01-08T19:16:58.259Z"
   },
   {
    "duration": 22,
    "start_time": "2023-01-08T19:16:58.329Z"
   },
   {
    "duration": 30,
    "start_time": "2023-01-08T19:16:58.352Z"
   },
   {
    "duration": 151,
    "start_time": "2023-01-08T19:16:58.384Z"
   },
   {
    "duration": 17,
    "start_time": "2023-01-08T19:16:58.536Z"
   },
   {
    "duration": 5,
    "start_time": "2023-01-08T19:16:58.555Z"
   },
   {
    "duration": 13,
    "start_time": "2023-01-08T19:16:58.562Z"
   },
   {
    "duration": 10,
    "start_time": "2023-01-08T19:16:58.576Z"
   },
   {
    "duration": 29,
    "start_time": "2023-01-08T19:16:58.587Z"
   },
   {
    "duration": 6,
    "start_time": "2023-01-08T19:16:58.618Z"
   },
   {
    "duration": 56,
    "start_time": "2023-01-08T19:16:58.625Z"
   },
   {
    "duration": 635,
    "start_time": "2023-01-08T19:16:58.683Z"
   },
   {
    "duration": 8,
    "start_time": "2023-01-08T19:16:59.320Z"
   },
   {
    "duration": 15,
    "start_time": "2023-01-08T19:16:59.334Z"
   },
   {
    "duration": 44,
    "start_time": "2023-01-08T19:16:59.350Z"
   },
   {
    "duration": 39,
    "start_time": "2023-01-08T19:16:59.396Z"
   },
   {
    "duration": 10,
    "start_time": "2023-01-08T19:16:59.437Z"
   },
   {
    "duration": 43,
    "start_time": "2023-01-08T19:16:59.449Z"
   },
   {
    "duration": 45,
    "start_time": "2023-01-08T19:16:59.494Z"
   },
   {
    "duration": 224,
    "start_time": "2023-01-08T19:16:59.541Z"
   },
   {
    "duration": 9,
    "start_time": "2023-01-08T19:16:59.767Z"
   },
   {
    "duration": 15,
    "start_time": "2023-01-08T19:16:59.777Z"
   },
   {
    "duration": 22,
    "start_time": "2023-01-08T19:16:59.794Z"
   },
   {
    "duration": 22,
    "start_time": "2023-01-08T19:16:59.817Z"
   },
   {
    "duration": 10,
    "start_time": "2023-01-08T19:16:59.840Z"
   },
   {
    "duration": 11,
    "start_time": "2023-01-08T19:16:59.852Z"
   },
   {
    "duration": 13,
    "start_time": "2023-01-08T19:16:59.864Z"
   },
   {
    "duration": 35,
    "start_time": "2023-01-08T19:16:59.879Z"
   },
   {
    "duration": 1294,
    "start_time": "2023-01-08T19:25:45.818Z"
   },
   {
    "duration": 1101,
    "start_time": "2023-01-08T19:25:47.114Z"
   },
   {
    "duration": 12,
    "start_time": "2023-01-08T19:25:48.217Z"
   },
   {
    "duration": 28,
    "start_time": "2023-01-08T19:25:48.231Z"
   },
   {
    "duration": 28,
    "start_time": "2023-01-08T19:25:48.261Z"
   },
   {
    "duration": 34,
    "start_time": "2023-01-08T19:25:48.291Z"
   },
   {
    "duration": 11,
    "start_time": "2023-01-08T19:25:48.327Z"
   },
   {
    "duration": 82,
    "start_time": "2023-01-08T19:25:48.340Z"
   },
   {
    "duration": 16,
    "start_time": "2023-01-08T19:25:48.424Z"
   },
   {
    "duration": 29,
    "start_time": "2023-01-08T19:25:48.442Z"
   },
   {
    "duration": 18,
    "start_time": "2023-01-08T19:25:48.473Z"
   },
   {
    "duration": 39,
    "start_time": "2023-01-08T19:25:48.493Z"
   },
   {
    "duration": 290,
    "start_time": "2023-01-08T19:25:48.534Z"
   },
   {
    "duration": 12,
    "start_time": "2023-01-08T19:25:48.825Z"
   },
   {
    "duration": 26,
    "start_time": "2023-01-08T19:25:48.839Z"
   },
   {
    "duration": 37,
    "start_time": "2023-01-08T19:25:48.867Z"
   },
   {
    "duration": 67,
    "start_time": "2023-01-08T19:25:48.906Z"
   },
   {
    "duration": 10,
    "start_time": "2023-01-08T19:25:48.975Z"
   },
   {
    "duration": 26,
    "start_time": "2023-01-08T19:25:48.987Z"
   },
   {
    "duration": 55,
    "start_time": "2023-01-08T19:25:49.016Z"
   },
   {
    "duration": 99,
    "start_time": "2023-01-08T19:25:49.073Z"
   },
   {
    "duration": 81,
    "start_time": "2023-01-08T19:25:49.175Z"
   },
   {
    "duration": 8,
    "start_time": "2023-01-08T19:25:49.258Z"
   },
   {
    "duration": 38,
    "start_time": "2023-01-08T19:25:49.268Z"
   },
   {
    "duration": 59,
    "start_time": "2023-01-08T19:25:49.308Z"
   },
   {
    "duration": 160,
    "start_time": "2023-01-08T19:25:49.369Z"
   },
   {
    "duration": 5,
    "start_time": "2023-01-08T19:25:49.535Z"
   },
   {
    "duration": 17,
    "start_time": "2023-01-08T19:25:49.543Z"
   },
   {
    "duration": 37,
    "start_time": "2023-01-08T19:25:49.562Z"
   },
   {
    "duration": 6,
    "start_time": "2023-01-08T19:25:49.600Z"
   },
   {
    "duration": 34,
    "start_time": "2023-01-08T19:25:49.607Z"
   },
   {
    "duration": 6,
    "start_time": "2023-01-08T19:25:49.643Z"
   },
   {
    "duration": 25,
    "start_time": "2023-01-08T19:25:49.651Z"
   },
   {
    "duration": 43,
    "start_time": "2023-01-08T19:25:49.678Z"
   },
   {
    "duration": 18,
    "start_time": "2023-01-08T19:25:49.723Z"
   },
   {
    "duration": 410,
    "start_time": "2023-01-08T19:25:49.742Z"
   },
   {
    "duration": 21,
    "start_time": "2023-01-08T19:25:50.153Z"
   },
   {
    "duration": 80,
    "start_time": "2023-01-08T19:25:50.176Z"
   },
   {
    "duration": 191,
    "start_time": "2023-01-08T19:25:50.257Z"
   },
   {
    "duration": 19,
    "start_time": "2023-01-08T19:25:50.450Z"
   },
   {
    "duration": 8,
    "start_time": "2023-01-08T19:25:50.470Z"
   },
   {
    "duration": 24,
    "start_time": "2023-01-08T19:25:50.479Z"
   },
   {
    "duration": 13,
    "start_time": "2023-01-08T19:25:50.505Z"
   },
   {
    "duration": 22,
    "start_time": "2023-01-08T19:25:50.519Z"
   },
   {
    "duration": 15,
    "start_time": "2023-01-08T19:25:50.543Z"
   },
   {
    "duration": 37,
    "start_time": "2023-01-08T19:25:50.560Z"
   },
   {
    "duration": 552,
    "start_time": "2023-01-08T19:25:50.599Z"
   },
   {
    "duration": 9,
    "start_time": "2023-01-08T19:25:51.153Z"
   },
   {
    "duration": 22,
    "start_time": "2023-01-08T19:25:51.164Z"
   },
   {
    "duration": 147,
    "start_time": "2023-01-08T19:25:51.188Z"
   },
   {
    "duration": 17,
    "start_time": "2023-01-08T19:25:51.337Z"
   },
   {
    "duration": 20,
    "start_time": "2023-01-08T19:25:51.356Z"
   },
   {
    "duration": 62,
    "start_time": "2023-01-08T19:25:51.377Z"
   },
   {
    "duration": 25,
    "start_time": "2023-01-08T19:25:51.440Z"
   },
   {
    "duration": 305,
    "start_time": "2023-01-08T19:25:51.468Z"
   },
   {
    "duration": 10,
    "start_time": "2023-01-08T19:25:51.776Z"
   },
   {
    "duration": 20,
    "start_time": "2023-01-08T19:25:51.788Z"
   },
   {
    "duration": 28,
    "start_time": "2023-01-08T19:25:51.810Z"
   },
   {
    "duration": 15,
    "start_time": "2023-01-08T19:25:51.840Z"
   },
   {
    "duration": 8,
    "start_time": "2023-01-08T19:25:51.857Z"
   },
   {
    "duration": 19,
    "start_time": "2023-01-08T19:25:51.867Z"
   },
   {
    "duration": 15,
    "start_time": "2023-01-08T19:25:51.888Z"
   },
   {
    "duration": 52,
    "start_time": "2023-01-08T19:25:51.905Z"
   },
   {
    "duration": 1158,
    "start_time": "2023-01-08T19:46:41.736Z"
   },
   {
    "duration": 1348,
    "start_time": "2023-01-08T19:46:42.896Z"
   },
   {
    "duration": 14,
    "start_time": "2023-01-08T19:46:44.246Z"
   },
   {
    "duration": 11,
    "start_time": "2023-01-08T19:46:44.262Z"
   },
   {
    "duration": 11,
    "start_time": "2023-01-08T19:46:44.276Z"
   },
   {
    "duration": 16,
    "start_time": "2023-01-08T19:46:44.288Z"
   },
   {
    "duration": 16,
    "start_time": "2023-01-08T19:46:44.306Z"
   },
   {
    "duration": 54,
    "start_time": "2023-01-08T19:46:44.324Z"
   },
   {
    "duration": 8,
    "start_time": "2023-01-08T19:46:44.380Z"
   },
   {
    "duration": 31,
    "start_time": "2023-01-08T19:46:44.389Z"
   },
   {
    "duration": 5,
    "start_time": "2023-01-08T19:46:44.422Z"
   },
   {
    "duration": 39,
    "start_time": "2023-01-08T19:46:44.429Z"
   },
   {
    "duration": 267,
    "start_time": "2023-01-08T19:46:44.470Z"
   },
   {
    "duration": 11,
    "start_time": "2023-01-08T19:46:44.740Z"
   },
   {
    "duration": 10,
    "start_time": "2023-01-08T19:46:44.753Z"
   },
   {
    "duration": 29,
    "start_time": "2023-01-08T19:46:44.765Z"
   },
   {
    "duration": 61,
    "start_time": "2023-01-08T19:46:44.795Z"
   },
   {
    "duration": 7,
    "start_time": "2023-01-08T19:46:44.858Z"
   },
   {
    "duration": 23,
    "start_time": "2023-01-08T19:46:44.867Z"
   },
   {
    "duration": 63,
    "start_time": "2023-01-08T19:46:44.892Z"
   },
   {
    "duration": 95,
    "start_time": "2023-01-08T19:46:44.957Z"
   },
   {
    "duration": 43,
    "start_time": "2023-01-08T19:46:45.054Z"
   },
   {
    "duration": 16,
    "start_time": "2023-01-08T19:46:45.099Z"
   },
   {
    "duration": 41,
    "start_time": "2023-01-08T19:46:45.117Z"
   },
   {
    "duration": 30,
    "start_time": "2023-01-08T19:46:45.159Z"
   },
   {
    "duration": 136,
    "start_time": "2023-01-08T19:46:45.191Z"
   },
   {
    "duration": 5,
    "start_time": "2023-01-08T19:46:45.329Z"
   },
   {
    "duration": 22,
    "start_time": "2023-01-08T19:46:45.336Z"
   },
   {
    "duration": 42,
    "start_time": "2023-01-08T19:46:45.360Z"
   },
   {
    "duration": 7,
    "start_time": "2023-01-08T19:46:45.403Z"
   },
   {
    "duration": 20,
    "start_time": "2023-01-08T19:46:45.412Z"
   },
   {
    "duration": 10,
    "start_time": "2023-01-08T19:46:45.434Z"
   },
   {
    "duration": 15,
    "start_time": "2023-01-08T19:46:45.446Z"
   },
   {
    "duration": 36,
    "start_time": "2023-01-08T19:46:45.463Z"
   },
   {
    "duration": 17,
    "start_time": "2023-01-08T19:46:45.501Z"
   },
   {
    "duration": 522,
    "start_time": "2023-01-08T19:46:45.520Z"
   },
   {
    "duration": 19,
    "start_time": "2023-01-08T19:46:46.044Z"
   },
   {
    "duration": 64,
    "start_time": "2023-01-08T19:46:46.065Z"
   },
   {
    "duration": 156,
    "start_time": "2023-01-08T19:46:46.130Z"
   },
   {
    "duration": 18,
    "start_time": "2023-01-08T19:46:46.287Z"
   },
   {
    "duration": 7,
    "start_time": "2023-01-08T19:46:46.316Z"
   },
   {
    "duration": 17,
    "start_time": "2023-01-08T19:46:46.324Z"
   },
   {
    "duration": 5,
    "start_time": "2023-01-08T19:46:46.342Z"
   },
   {
    "duration": 14,
    "start_time": "2023-01-08T19:46:46.349Z"
   },
   {
    "duration": 4,
    "start_time": "2023-01-08T19:46:46.364Z"
   },
   {
    "duration": 52,
    "start_time": "2023-01-08T19:46:46.369Z"
   },
   {
    "duration": 595,
    "start_time": "2023-01-08T19:46:46.423Z"
   },
   {
    "duration": 11,
    "start_time": "2023-01-08T19:46:47.020Z"
   },
   {
    "duration": 17,
    "start_time": "2023-01-08T19:46:47.033Z"
   },
   {
    "duration": 137,
    "start_time": "2023-01-08T19:46:47.052Z"
   },
   {
    "duration": 24,
    "start_time": "2023-01-08T19:46:47.190Z"
   },
   {
    "duration": 11,
    "start_time": "2023-01-08T19:46:47.215Z"
   },
   {
    "duration": 47,
    "start_time": "2023-01-08T19:46:47.228Z"
   },
   {
    "duration": 38,
    "start_time": "2023-01-08T19:46:47.277Z"
   },
   {
    "duration": 279,
    "start_time": "2023-01-08T19:46:47.317Z"
   },
   {
    "duration": 16,
    "start_time": "2023-01-08T19:46:47.598Z"
   },
   {
    "duration": 7,
    "start_time": "2023-01-08T19:46:47.615Z"
   },
   {
    "duration": 25,
    "start_time": "2023-01-08T19:46:47.624Z"
   },
   {
    "duration": 19,
    "start_time": "2023-01-08T19:46:47.651Z"
   },
   {
    "duration": 9,
    "start_time": "2023-01-08T19:46:47.672Z"
   },
   {
    "duration": 32,
    "start_time": "2023-01-08T19:46:47.682Z"
   },
   {
    "duration": 13,
    "start_time": "2023-01-08T19:46:47.715Z"
   },
   {
    "duration": 36,
    "start_time": "2023-01-08T19:46:47.729Z"
   },
   {
    "duration": 7,
    "start_time": "2023-01-08T19:49:32.499Z"
   },
   {
    "duration": 92,
    "start_time": "2023-01-08T19:49:43.138Z"
   },
   {
    "duration": 15,
    "start_time": "2023-01-08T19:49:54.049Z"
   },
   {
    "duration": 4,
    "start_time": "2023-01-08T19:50:10.844Z"
   },
   {
    "duration": 12,
    "start_time": "2023-01-08T19:50:16.553Z"
   },
   {
    "duration": 9,
    "start_time": "2023-01-08T19:50:28.777Z"
   },
   {
    "duration": 4,
    "start_time": "2023-01-08T20:13:33.185Z"
   },
   {
    "duration": 1148,
    "start_time": "2023-01-08T20:13:34.760Z"
   },
   {
    "duration": 9,
    "start_time": "2023-01-08T20:13:44.719Z"
   },
   {
    "duration": 10,
    "start_time": "2023-01-08T20:13:45.143Z"
   },
   {
    "duration": 10,
    "start_time": "2023-01-08T20:13:46.093Z"
   },
   {
    "duration": 19,
    "start_time": "2023-01-08T20:13:46.451Z"
   },
   {
    "duration": 13,
    "start_time": "2023-01-08T20:13:47.185Z"
   },
   {
    "duration": 63,
    "start_time": "2023-01-08T20:13:47.933Z"
   },
   {
    "duration": 10,
    "start_time": "2023-01-08T20:13:49.824Z"
   },
   {
    "duration": 12,
    "start_time": "2023-01-08T20:13:50.159Z"
   },
   {
    "duration": 4,
    "start_time": "2023-01-08T20:13:52.158Z"
   },
   {
    "duration": 40,
    "start_time": "2023-01-08T20:13:52.392Z"
   },
   {
    "duration": 239,
    "start_time": "2023-01-08T20:13:52.617Z"
   },
   {
    "duration": 9,
    "start_time": "2023-01-08T20:13:52.858Z"
   },
   {
    "duration": 5,
    "start_time": "2023-01-08T20:13:54.344Z"
   },
   {
    "duration": 13,
    "start_time": "2023-01-08T20:13:54.598Z"
   },
   {
    "duration": 57,
    "start_time": "2023-01-08T20:13:55.063Z"
   },
   {
    "duration": 9,
    "start_time": "2023-01-08T20:13:55.865Z"
   },
   {
    "duration": 9,
    "start_time": "2023-01-08T20:13:56.074Z"
   },
   {
    "duration": 39,
    "start_time": "2023-01-08T20:13:56.273Z"
   },
   {
    "duration": 75,
    "start_time": "2023-01-08T20:13:56.485Z"
   },
   {
    "duration": 58,
    "start_time": "2023-01-08T20:14:04.517Z"
   },
   {
    "duration": 8,
    "start_time": "2023-01-08T20:14:05.972Z"
   },
   {
    "duration": 16,
    "start_time": "2023-01-08T20:14:07.180Z"
   },
   {
    "duration": 30,
    "start_time": "2023-01-08T20:14:08.021Z"
   },
   {
    "duration": 146,
    "start_time": "2023-01-08T20:14:08.506Z"
   },
   {
    "duration": 5,
    "start_time": "2023-01-08T20:14:17.774Z"
   },
   {
    "duration": 8,
    "start_time": "2023-01-08T20:14:18.417Z"
   },
   {
    "duration": 30,
    "start_time": "2023-01-08T20:14:18.855Z"
   },
   {
    "duration": 6,
    "start_time": "2023-01-08T20:14:19.350Z"
   },
   {
    "duration": 10,
    "start_time": "2023-01-08T20:14:19.820Z"
   },
   {
    "duration": 5,
    "start_time": "2023-01-08T20:14:38.837Z"
   },
   {
    "duration": 8,
    "start_time": "2023-01-08T20:14:42.997Z"
   },
   {
    "duration": 36,
    "start_time": "2023-01-08T20:14:46.805Z"
   },
   {
    "duration": 12,
    "start_time": "2023-01-08T20:14:47.764Z"
   },
   {
    "duration": 57,
    "start_time": "2023-01-08T20:14:48.396Z"
   },
   {
    "duration": 21,
    "start_time": "2023-01-08T20:14:50.520Z"
   },
   {
    "duration": 37,
    "start_time": "2023-01-08T20:14:51.081Z"
   },
   {
    "duration": 115,
    "start_time": "2023-01-08T20:15:20.246Z"
   },
   {
    "duration": 19,
    "start_time": "2023-01-08T20:15:20.890Z"
   },
   {
    "duration": 7,
    "start_time": "2023-01-08T20:15:22.357Z"
   },
   {
    "duration": 9,
    "start_time": "2023-01-08T20:15:23.535Z"
   },
   {
    "duration": 5,
    "start_time": "2023-01-08T20:15:27.157Z"
   },
   {
    "duration": 10,
    "start_time": "2023-01-08T20:15:27.644Z"
   },
   {
    "duration": 5,
    "start_time": "2023-01-08T20:15:31.856Z"
   },
   {
    "duration": 35,
    "start_time": "2023-01-08T20:15:51.012Z"
   },
   {
    "duration": 572,
    "start_time": "2023-01-08T20:15:51.853Z"
   },
   {
    "duration": 8,
    "start_time": "2023-01-08T20:15:59.847Z"
   },
   {
    "duration": 16,
    "start_time": "2023-01-08T20:16:15.285Z"
   },
   {
    "duration": 57,
    "start_time": "2023-01-08T20:16:15.978Z"
   },
   {
    "duration": 16,
    "start_time": "2023-01-08T20:16:18.619Z"
   },
   {
    "duration": 12,
    "start_time": "2023-01-08T20:16:19.654Z"
   },
   {
    "duration": 49,
    "start_time": "2023-01-08T20:16:20.677Z"
   },
   {
    "duration": 24,
    "start_time": "2023-01-08T20:16:24.065Z"
   },
   {
    "duration": 223,
    "start_time": "2023-01-08T20:16:24.640Z"
   },
   {
    "duration": 10,
    "start_time": "2023-01-08T20:16:53.954Z"
   },
   {
    "duration": 8,
    "start_time": "2023-01-08T20:16:55.007Z"
   },
   {
    "duration": 20,
    "start_time": "2023-01-08T20:16:55.722Z"
   },
   {
    "duration": 14,
    "start_time": "2023-01-08T20:16:56.351Z"
   },
   {
    "duration": 7,
    "start_time": "2023-01-08T20:17:23.537Z"
   },
   {
    "duration": 5,
    "start_time": "2023-01-08T20:17:25.522Z"
   },
   {
    "duration": 11,
    "start_time": "2023-01-08T20:17:26.352Z"
   },
   {
    "duration": 35,
    "start_time": "2023-01-08T20:17:28.239Z"
   },
   {
    "duration": 170,
    "start_time": "2023-01-08T20:23:39.807Z"
   },
   {
    "duration": 4,
    "start_time": "2023-01-08T20:24:06.979Z"
   },
   {
    "duration": 11,
    "start_time": "2023-01-08T20:24:24.910Z"
   },
   {
    "duration": 10,
    "start_time": "2023-01-08T20:24:30.153Z"
   },
   {
    "duration": 129,
    "start_time": "2023-01-08T20:31:23.084Z"
   },
   {
    "duration": 519,
    "start_time": "2023-01-08T20:31:52.914Z"
   },
   {
    "duration": 389,
    "start_time": "2023-01-08T20:32:59.286Z"
   },
   {
    "duration": 13,
    "start_time": "2023-01-08T20:41:46.660Z"
   },
   {
    "duration": 11,
    "start_time": "2023-01-08T20:45:20.474Z"
   },
   {
    "duration": 17,
    "start_time": "2023-01-08T20:45:22.174Z"
   },
   {
    "duration": 47,
    "start_time": "2023-01-08T20:45:22.867Z"
   },
   {
    "duration": 3,
    "start_time": "2023-01-08T20:45:46.839Z"
   },
   {
    "duration": 1198,
    "start_time": "2023-01-08T20:45:47.481Z"
   },
   {
    "duration": 11,
    "start_time": "2023-01-08T20:45:48.807Z"
   },
   {
    "duration": 10,
    "start_time": "2023-01-08T20:45:49.220Z"
   },
   {
    "duration": 11,
    "start_time": "2023-01-08T20:45:49.900Z"
   },
   {
    "duration": 19,
    "start_time": "2023-01-08T20:45:50.209Z"
   },
   {
    "duration": 12,
    "start_time": "2023-01-08T20:45:50.962Z"
   },
   {
    "duration": 63,
    "start_time": "2023-01-08T20:45:51.590Z"
   },
   {
    "duration": 15,
    "start_time": "2023-01-08T20:45:52.508Z"
   },
   {
    "duration": 12,
    "start_time": "2023-01-08T20:45:52.842Z"
   },
   {
    "duration": 5,
    "start_time": "2023-01-08T20:45:54.448Z"
   },
   {
    "duration": 29,
    "start_time": "2023-01-08T20:45:54.664Z"
   },
   {
    "duration": 247,
    "start_time": "2023-01-08T20:45:54.858Z"
   },
   {
    "duration": 13,
    "start_time": "2023-01-08T20:45:55.108Z"
   },
   {
    "duration": 5,
    "start_time": "2023-01-08T20:45:56.110Z"
   },
   {
    "duration": 15,
    "start_time": "2023-01-08T20:45:56.526Z"
   },
   {
    "duration": 61,
    "start_time": "2023-01-08T20:45:56.745Z"
   },
   {
    "duration": 9,
    "start_time": "2023-01-08T20:45:57.748Z"
   },
   {
    "duration": 8,
    "start_time": "2023-01-08T20:45:57.968Z"
   },
   {
    "duration": 41,
    "start_time": "2023-01-08T20:45:58.458Z"
   },
   {
    "duration": 96,
    "start_time": "2023-01-08T20:45:58.848Z"
   },
   {
    "duration": 57,
    "start_time": "2023-01-08T20:46:01.277Z"
   },
   {
    "duration": 10,
    "start_time": "2023-01-08T20:46:01.704Z"
   },
   {
    "duration": 23,
    "start_time": "2023-01-08T20:46:02.806Z"
   },
   {
    "duration": 34,
    "start_time": "2023-01-08T20:46:02.962Z"
   },
   {
    "duration": 170,
    "start_time": "2023-01-08T20:46:03.338Z"
   },
   {
    "duration": 8,
    "start_time": "2023-01-08T20:46:05.909Z"
   },
   {
    "duration": 11,
    "start_time": "2023-01-08T20:46:06.476Z"
   },
   {
    "duration": 47,
    "start_time": "2023-01-08T20:46:07.349Z"
   },
   {
    "duration": 8,
    "start_time": "2023-01-08T20:46:07.952Z"
   },
   {
    "duration": 11,
    "start_time": "2023-01-08T20:46:08.403Z"
   },
   {
    "duration": 5,
    "start_time": "2023-01-08T20:46:13.004Z"
   },
   {
    "duration": 7,
    "start_time": "2023-01-08T20:46:19.974Z"
   },
   {
    "duration": 50,
    "start_time": "2023-01-08T20:46:21.861Z"
   },
   {
    "duration": 16,
    "start_time": "2023-01-08T20:46:22.452Z"
   },
   {
    "duration": 58,
    "start_time": "2023-01-08T20:46:24.009Z"
   },
   {
    "duration": 25,
    "start_time": "2023-01-08T20:46:26.253Z"
   },
   {
    "duration": 67,
    "start_time": "2023-01-08T20:46:28.512Z"
   },
   {
    "duration": 17,
    "start_time": "2023-01-08T20:49:32.420Z"
   },
   {
    "duration": 21,
    "start_time": "2023-01-08T20:50:03.223Z"
   },
   {
    "duration": 26,
    "start_time": "2023-01-08T20:50:07.773Z"
   },
   {
    "duration": 5,
    "start_time": "2023-01-08T20:50:40.181Z"
   },
   {
    "duration": 1302,
    "start_time": "2023-01-08T22:51:14.932Z"
   },
   {
    "duration": 1400,
    "start_time": "2023-01-08T22:51:16.236Z"
   },
   {
    "duration": 11,
    "start_time": "2023-01-08T22:51:17.638Z"
   },
   {
    "duration": 9,
    "start_time": "2023-01-08T22:51:17.651Z"
   },
   {
    "duration": 10,
    "start_time": "2023-01-08T22:51:18.557Z"
   },
   {
    "duration": 14,
    "start_time": "2023-01-08T22:51:18.799Z"
   },
   {
    "duration": 11,
    "start_time": "2023-01-08T22:51:19.333Z"
   },
   {
    "duration": 49,
    "start_time": "2023-01-08T22:51:19.723Z"
   },
   {
    "duration": 9,
    "start_time": "2023-01-08T22:51:20.612Z"
   },
   {
    "duration": 11,
    "start_time": "2023-01-08T22:51:20.989Z"
   },
   {
    "duration": 5,
    "start_time": "2023-01-08T22:51:22.320Z"
   },
   {
    "duration": 26,
    "start_time": "2023-01-08T22:51:22.533Z"
   },
   {
    "duration": 212,
    "start_time": "2023-01-08T22:51:22.707Z"
   },
   {
    "duration": 10,
    "start_time": "2023-01-08T22:51:22.921Z"
   },
   {
    "duration": 5,
    "start_time": "2023-01-08T22:51:23.600Z"
   },
   {
    "duration": 11,
    "start_time": "2023-01-08T22:51:23.796Z"
   },
   {
    "duration": 43,
    "start_time": "2023-01-08T22:51:23.968Z"
   },
   {
    "duration": 7,
    "start_time": "2023-01-08T22:51:24.751Z"
   },
   {
    "duration": 7,
    "start_time": "2023-01-08T22:51:25.184Z"
   },
   {
    "duration": 30,
    "start_time": "2023-01-08T22:51:25.400Z"
   },
   {
    "duration": 67,
    "start_time": "2023-01-08T22:51:25.597Z"
   },
   {
    "duration": 43,
    "start_time": "2023-01-08T22:51:28.479Z"
   },
   {
    "duration": 6,
    "start_time": "2023-01-08T22:51:32.743Z"
   },
   {
    "duration": 15,
    "start_time": "2023-01-08T22:51:33.521Z"
   },
   {
    "duration": 30,
    "start_time": "2023-01-08T22:51:33.712Z"
   },
   {
    "duration": 115,
    "start_time": "2023-01-08T22:51:34.110Z"
   },
   {
    "duration": 4,
    "start_time": "2023-01-08T22:51:36.354Z"
   },
   {
    "duration": 6,
    "start_time": "2023-01-08T22:51:36.595Z"
   },
   {
    "duration": 25,
    "start_time": "2023-01-08T22:51:38.514Z"
   },
   {
    "duration": 5,
    "start_time": "2023-01-08T22:51:39.000Z"
   },
   {
    "duration": 9,
    "start_time": "2023-01-08T22:51:39.303Z"
   },
   {
    "duration": 5,
    "start_time": "2023-01-08T22:51:45.952Z"
   },
   {
    "duration": 5,
    "start_time": "2023-01-08T22:51:47.259Z"
   },
   {
    "duration": 30,
    "start_time": "2023-01-08T22:51:48.115Z"
   },
   {
    "duration": 10,
    "start_time": "2023-01-08T22:51:48.626Z"
   },
   {
    "duration": 328,
    "start_time": "2023-01-08T22:51:49.404Z"
   },
   {
    "duration": 21,
    "start_time": "2023-01-08T22:51:52.728Z"
   },
   {
    "duration": 3,
    "start_time": "2023-01-08T22:51:53.131Z"
   },
   {
    "duration": 5,
    "start_time": "2023-01-08T22:53:54.666Z"
   },
   {
    "duration": 39,
    "start_time": "2023-01-08T22:54:37.641Z"
   },
   {
    "duration": 26,
    "start_time": "2023-01-08T22:55:38.078Z"
   },
   {
    "duration": 43,
    "start_time": "2023-01-08T22:57:41.300Z"
   },
   {
    "duration": 20,
    "start_time": "2023-01-08T22:57:44.841Z"
   },
   {
    "duration": 40,
    "start_time": "2023-01-08T22:57:45.509Z"
   },
   {
    "duration": 19,
    "start_time": "2023-01-08T22:57:52.063Z"
   },
   {
    "duration": 39,
    "start_time": "2023-01-08T22:57:53.071Z"
   },
   {
    "duration": 19,
    "start_time": "2023-01-08T22:58:41.723Z"
   },
   {
    "duration": 38,
    "start_time": "2023-01-08T22:58:42.645Z"
   },
   {
    "duration": 19,
    "start_time": "2023-01-08T23:01:49.802Z"
   },
   {
    "duration": 40,
    "start_time": "2023-01-08T23:01:53.180Z"
   },
   {
    "duration": 11,
    "start_time": "2023-01-08T23:02:24.023Z"
   },
   {
    "duration": 19,
    "start_time": "2023-01-08T23:02:51.801Z"
   },
   {
    "duration": 22,
    "start_time": "2023-01-08T23:03:10.904Z"
   },
   {
    "duration": 152,
    "start_time": "2023-01-08T23:06:19.969Z"
   },
   {
    "duration": 26,
    "start_time": "2023-01-08T23:06:26.713Z"
   },
   {
    "duration": 27,
    "start_time": "2023-01-08T23:06:39.318Z"
   },
   {
    "duration": 27,
    "start_time": "2023-01-08T23:06:41.872Z"
   },
   {
    "duration": 27,
    "start_time": "2023-01-08T23:06:52.632Z"
   },
   {
    "duration": 29,
    "start_time": "2023-01-08T23:06:58.897Z"
   },
   {
    "duration": 14,
    "start_time": "2023-01-08T23:07:45.115Z"
   },
   {
    "duration": 3,
    "start_time": "2023-01-08T23:07:49.032Z"
   },
   {
    "duration": 14,
    "start_time": "2023-01-08T23:07:59.795Z"
   },
   {
    "duration": 15,
    "start_time": "2023-01-08T23:09:13.819Z"
   },
   {
    "duration": 95,
    "start_time": "2023-01-08T23:09:19.742Z"
   },
   {
    "duration": 43,
    "start_time": "2023-01-08T23:10:26.492Z"
   },
   {
    "duration": 27,
    "start_time": "2023-01-08T23:10:34.824Z"
   },
   {
    "duration": 26,
    "start_time": "2023-01-08T23:10:41.084Z"
   },
   {
    "duration": 27,
    "start_time": "2023-01-08T23:10:54.025Z"
   },
   {
    "duration": 21,
    "start_time": "2023-01-08T23:11:26.270Z"
   },
   {
    "duration": 40,
    "start_time": "2023-01-08T23:11:31.150Z"
   },
   {
    "duration": 35,
    "start_time": "2023-01-08T23:12:11.041Z"
   },
   {
    "duration": 28,
    "start_time": "2023-01-08T23:12:40.660Z"
   },
   {
    "duration": 18,
    "start_time": "2023-01-08T23:13:15.952Z"
   },
   {
    "duration": 28,
    "start_time": "2023-01-08T23:13:17.870Z"
   },
   {
    "duration": 21,
    "start_time": "2023-01-08T23:14:13.236Z"
   },
   {
    "duration": 29,
    "start_time": "2023-01-08T23:14:14.583Z"
   },
   {
    "duration": 127,
    "start_time": "2023-01-08T23:15:50.515Z"
   },
   {
    "duration": 18,
    "start_time": "2023-01-08T23:15:50.729Z"
   },
   {
    "duration": 6,
    "start_time": "2023-01-08T23:15:51.257Z"
   },
   {
    "duration": 9,
    "start_time": "2023-01-08T23:15:52.313Z"
   },
   {
    "duration": 4,
    "start_time": "2023-01-08T23:15:53.802Z"
   },
   {
    "duration": 9,
    "start_time": "2023-01-08T23:15:54.359Z"
   },
   {
    "duration": 4,
    "start_time": "2023-01-08T23:15:55.461Z"
   },
   {
    "duration": 30,
    "start_time": "2023-01-08T23:15:58.418Z"
   },
   {
    "duration": 251,
    "start_time": "2023-01-08T23:15:59.162Z"
   },
   {
    "duration": 9,
    "start_time": "2023-01-08T23:16:34.403Z"
   },
   {
    "duration": 108,
    "start_time": "2023-01-08T23:17:03.950Z"
   },
   {
    "duration": 19,
    "start_time": "2023-01-08T23:17:04.123Z"
   },
   {
    "duration": 7,
    "start_time": "2023-01-08T23:17:04.495Z"
   },
   {
    "duration": 9,
    "start_time": "2023-01-08T23:17:05.071Z"
   },
   {
    "duration": 4,
    "start_time": "2023-01-08T23:17:06.180Z"
   },
   {
    "duration": 9,
    "start_time": "2023-01-08T23:17:06.401Z"
   },
   {
    "duration": 5,
    "start_time": "2023-01-08T23:17:07.398Z"
   },
   {
    "duration": 29,
    "start_time": "2023-01-08T23:17:09.470Z"
   },
   {
    "duration": 235,
    "start_time": "2023-01-08T23:17:10.622Z"
   },
   {
    "duration": 9,
    "start_time": "2023-01-08T23:17:17.967Z"
   },
   {
    "duration": 18,
    "start_time": "2023-01-08T23:17:28.630Z"
   },
   {
    "duration": 54,
    "start_time": "2023-01-08T23:17:29.114Z"
   },
   {
    "duration": 15,
    "start_time": "2023-01-08T23:17:30.965Z"
   },
   {
    "duration": 11,
    "start_time": "2023-01-08T23:17:31.873Z"
   },
   {
    "duration": 40,
    "start_time": "2023-01-08T23:17:32.958Z"
   },
   {
    "duration": 22,
    "start_time": "2023-01-08T23:17:34.878Z"
   },
   {
    "duration": 248,
    "start_time": "2023-01-08T23:17:35.421Z"
   },
   {
    "duration": 9,
    "start_time": "2023-01-08T23:17:39.336Z"
   },
   {
    "duration": 6,
    "start_time": "2023-01-08T23:17:40.614Z"
   },
   {
    "duration": 19,
    "start_time": "2023-01-08T23:17:41.363Z"
   },
   {
    "duration": 14,
    "start_time": "2023-01-08T23:17:41.936Z"
   },
   {
    "duration": 8,
    "start_time": "2023-01-08T23:22:18.646Z"
   },
   {
    "duration": 1267,
    "start_time": "2023-01-09T14:10:19.190Z"
   },
   {
    "duration": 1641,
    "start_time": "2023-01-09T14:10:20.459Z"
   },
   {
    "duration": 13,
    "start_time": "2023-01-09T14:10:22.102Z"
   },
   {
    "duration": 23,
    "start_time": "2023-01-09T14:10:22.117Z"
   },
   {
    "duration": 27,
    "start_time": "2023-01-09T14:10:22.142Z"
   },
   {
    "duration": 35,
    "start_time": "2023-01-09T14:10:22.171Z"
   },
   {
    "duration": 19,
    "start_time": "2023-01-09T14:10:22.208Z"
   },
   {
    "duration": 65,
    "start_time": "2023-01-09T14:10:22.229Z"
   },
   {
    "duration": 11,
    "start_time": "2023-01-09T14:10:22.296Z"
   },
   {
    "duration": 37,
    "start_time": "2023-01-09T14:10:22.310Z"
   },
   {
    "duration": 7,
    "start_time": "2023-01-09T14:10:22.349Z"
   },
   {
    "duration": 69,
    "start_time": "2023-01-09T14:10:22.357Z"
   },
   {
    "duration": 321,
    "start_time": "2023-01-09T14:10:22.428Z"
   },
   {
    "duration": 9,
    "start_time": "2023-01-09T14:10:22.752Z"
   },
   {
    "duration": 23,
    "start_time": "2023-01-09T14:10:22.763Z"
   },
   {
    "duration": 28,
    "start_time": "2023-01-09T14:10:22.788Z"
   },
   {
    "duration": 64,
    "start_time": "2023-01-09T14:10:22.817Z"
   },
   {
    "duration": 9,
    "start_time": "2023-01-09T14:10:22.882Z"
   },
   {
    "duration": 20,
    "start_time": "2023-01-09T14:10:22.893Z"
   },
   {
    "duration": 46,
    "start_time": "2023-01-09T14:10:22.914Z"
   },
   {
    "duration": 100,
    "start_time": "2023-01-09T14:10:22.962Z"
   },
   {
    "duration": 48,
    "start_time": "2023-01-09T14:10:23.064Z"
   },
   {
    "duration": 21,
    "start_time": "2023-01-09T14:10:23.114Z"
   },
   {
    "duration": 24,
    "start_time": "2023-01-09T14:10:23.137Z"
   },
   {
    "duration": 86,
    "start_time": "2023-01-09T14:10:23.163Z"
   },
   {
    "duration": 151,
    "start_time": "2023-01-09T14:10:23.251Z"
   },
   {
    "duration": 4,
    "start_time": "2023-01-09T14:10:23.404Z"
   },
   {
    "duration": 35,
    "start_time": "2023-01-09T14:10:23.412Z"
   },
   {
    "duration": 58,
    "start_time": "2023-01-09T14:10:23.449Z"
   },
   {
    "duration": 32,
    "start_time": "2023-01-09T14:10:23.509Z"
   },
   {
    "duration": 42,
    "start_time": "2023-01-09T14:10:23.543Z"
   },
   {
    "duration": 37,
    "start_time": "2023-01-09T14:10:23.587Z"
   },
   {
    "duration": 26,
    "start_time": "2023-01-09T14:10:23.625Z"
   },
   {
    "duration": 72,
    "start_time": "2023-01-09T14:10:23.653Z"
   },
   {
    "duration": 11,
    "start_time": "2023-01-09T14:10:23.727Z"
   },
   {
    "duration": 603,
    "start_time": "2023-01-09T14:10:23.740Z"
   },
   {
    "duration": 23,
    "start_time": "2023-01-09T14:10:24.345Z"
   },
   {
    "duration": 94,
    "start_time": "2023-01-09T14:10:24.369Z"
   },
   {
    "duration": 151,
    "start_time": "2023-01-09T14:10:24.465Z"
   },
   {
    "duration": 35,
    "start_time": "2023-01-09T14:10:24.617Z"
   },
   {
    "duration": 38,
    "start_time": "2023-01-09T14:10:24.654Z"
   },
   {
    "duration": 41,
    "start_time": "2023-01-09T14:10:24.693Z"
   },
   {
    "duration": 44,
    "start_time": "2023-01-09T14:10:24.736Z"
   },
   {
    "duration": 71,
    "start_time": "2023-01-09T14:10:24.781Z"
   },
   {
    "duration": 38,
    "start_time": "2023-01-09T14:10:24.854Z"
   },
   {
    "duration": 100,
    "start_time": "2023-01-09T14:10:24.894Z"
   },
   {
    "duration": 302,
    "start_time": "2023-01-09T14:10:24.995Z"
   },
   {
    "duration": 10,
    "start_time": "2023-01-09T14:10:25.298Z"
   },
   {
    "duration": 34,
    "start_time": "2023-01-09T14:10:25.310Z"
   },
   {
    "duration": 156,
    "start_time": "2023-01-09T14:10:25.346Z"
   },
   {
    "duration": 34,
    "start_time": "2023-01-09T14:10:25.504Z"
   },
   {
    "duration": 43,
    "start_time": "2023-01-09T14:10:25.539Z"
   },
   {
    "duration": 72,
    "start_time": "2023-01-09T14:10:25.584Z"
   },
   {
    "duration": 74,
    "start_time": "2023-01-09T14:10:25.659Z"
   },
   {
    "duration": 293,
    "start_time": "2023-01-09T14:10:25.736Z"
   },
   {
    "duration": 10,
    "start_time": "2023-01-09T14:10:26.031Z"
   },
   {
    "duration": 30,
    "start_time": "2023-01-09T14:10:26.052Z"
   },
   {
    "duration": 35,
    "start_time": "2023-01-09T14:10:26.083Z"
   },
   {
    "duration": 33,
    "start_time": "2023-01-09T14:10:26.120Z"
   },
   {
    "duration": 40,
    "start_time": "2023-01-09T14:10:26.155Z"
   },
   {
    "duration": 47,
    "start_time": "2023-01-09T14:10:26.197Z"
   },
   {
    "duration": 35,
    "start_time": "2023-01-09T14:10:26.246Z"
   },
   {
    "duration": 68,
    "start_time": "2023-01-09T14:10:26.283Z"
   },
   {
    "duration": 1293,
    "start_time": "2023-01-09T14:12:42.402Z"
   },
   {
    "duration": 1224,
    "start_time": "2023-01-09T14:12:43.697Z"
   },
   {
    "duration": 14,
    "start_time": "2023-01-09T14:12:44.922Z"
   },
   {
    "duration": 24,
    "start_time": "2023-01-09T14:12:44.939Z"
   },
   {
    "duration": 28,
    "start_time": "2023-01-09T14:12:44.965Z"
   },
   {
    "duration": 36,
    "start_time": "2023-01-09T14:12:44.995Z"
   },
   {
    "duration": 13,
    "start_time": "2023-01-09T14:12:45.033Z"
   },
   {
    "duration": 67,
    "start_time": "2023-01-09T14:12:45.048Z"
   },
   {
    "duration": 9,
    "start_time": "2023-01-09T14:12:45.117Z"
   },
   {
    "duration": 16,
    "start_time": "2023-01-09T14:12:45.129Z"
   },
   {
    "duration": 26,
    "start_time": "2023-01-09T14:12:45.147Z"
   },
   {
    "duration": 35,
    "start_time": "2023-01-09T14:12:45.175Z"
   },
   {
    "duration": 283,
    "start_time": "2023-01-09T14:12:45.212Z"
   },
   {
    "duration": 9,
    "start_time": "2023-01-09T14:12:45.496Z"
   },
   {
    "duration": 5,
    "start_time": "2023-01-09T14:12:45.507Z"
   },
   {
    "duration": 14,
    "start_time": "2023-01-09T14:12:45.513Z"
   },
   {
    "duration": 74,
    "start_time": "2023-01-09T14:12:45.529Z"
   },
   {
    "duration": 8,
    "start_time": "2023-01-09T14:12:45.605Z"
   },
   {
    "duration": 17,
    "start_time": "2023-01-09T14:12:45.614Z"
   },
   {
    "duration": 46,
    "start_time": "2023-01-09T14:12:45.632Z"
   },
   {
    "duration": 91,
    "start_time": "2023-01-09T14:12:45.679Z"
   },
   {
    "duration": 46,
    "start_time": "2023-01-09T14:12:45.772Z"
   },
   {
    "duration": 12,
    "start_time": "2023-01-09T14:12:45.820Z"
   },
   {
    "duration": 36,
    "start_time": "2023-01-09T14:12:45.833Z"
   },
   {
    "duration": 36,
    "start_time": "2023-01-09T14:12:45.871Z"
   },
   {
    "duration": 176,
    "start_time": "2023-01-09T14:12:45.910Z"
   },
   {
    "duration": 5,
    "start_time": "2023-01-09T14:12:46.088Z"
   },
   {
    "duration": 12,
    "start_time": "2023-01-09T14:12:46.096Z"
   },
   {
    "duration": 29,
    "start_time": "2023-01-09T14:12:46.110Z"
   },
   {
    "duration": 15,
    "start_time": "2023-01-09T14:12:46.140Z"
   },
   {
    "duration": 32,
    "start_time": "2023-01-09T14:12:46.157Z"
   },
   {
    "duration": 14,
    "start_time": "2023-01-09T14:12:46.191Z"
   },
   {
    "duration": 21,
    "start_time": "2023-01-09T14:12:46.206Z"
   },
   {
    "duration": 63,
    "start_time": "2023-01-09T14:12:46.229Z"
   },
   {
    "duration": 10,
    "start_time": "2023-01-09T14:12:46.294Z"
   },
   {
    "duration": 527,
    "start_time": "2023-01-09T14:12:46.306Z"
   },
   {
    "duration": 24,
    "start_time": "2023-01-09T14:12:46.835Z"
   },
   {
    "duration": 41,
    "start_time": "2023-01-09T14:12:46.861Z"
   },
   {
    "duration": 209,
    "start_time": "2023-01-09T14:12:46.904Z"
   },
   {
    "duration": 18,
    "start_time": "2023-01-09T14:12:47.115Z"
   },
   {
    "duration": 20,
    "start_time": "2023-01-09T14:12:47.135Z"
   },
   {
    "duration": 31,
    "start_time": "2023-01-09T14:12:47.157Z"
   },
   {
    "duration": 12,
    "start_time": "2023-01-09T14:12:47.189Z"
   },
   {
    "duration": 12,
    "start_time": "2023-01-09T14:12:47.203Z"
   },
   {
    "duration": 17,
    "start_time": "2023-01-09T14:12:47.216Z"
   },
   {
    "duration": 44,
    "start_time": "2023-01-09T14:12:47.235Z"
   },
   {
    "duration": 309,
    "start_time": "2023-01-09T14:12:47.281Z"
   },
   {
    "duration": 10,
    "start_time": "2023-01-09T14:12:47.591Z"
   },
   {
    "duration": 21,
    "start_time": "2023-01-09T14:12:47.602Z"
   },
   {
    "duration": 165,
    "start_time": "2023-01-09T14:12:47.625Z"
   },
   {
    "duration": 20,
    "start_time": "2023-01-09T14:12:47.792Z"
   },
   {
    "duration": 13,
    "start_time": "2023-01-09T14:12:47.814Z"
   },
   {
    "duration": 87,
    "start_time": "2023-01-09T14:12:47.829Z"
   },
   {
    "duration": 50,
    "start_time": "2023-01-09T14:12:47.918Z"
   },
   {
    "duration": 332,
    "start_time": "2023-01-09T14:12:47.970Z"
   },
   {
    "duration": 9,
    "start_time": "2023-01-09T14:12:48.304Z"
   },
   {
    "duration": 17,
    "start_time": "2023-01-09T14:12:48.315Z"
   },
   {
    "duration": 36,
    "start_time": "2023-01-09T14:12:48.334Z"
   },
   {
    "duration": 17,
    "start_time": "2023-01-09T14:12:48.372Z"
   },
   {
    "duration": 9,
    "start_time": "2023-01-09T14:12:48.391Z"
   },
   {
    "duration": 11,
    "start_time": "2023-01-09T14:12:48.403Z"
   },
   {
    "duration": 15,
    "start_time": "2023-01-09T14:12:48.416Z"
   },
   {
    "duration": 50,
    "start_time": "2023-01-09T14:12:48.452Z"
   },
   {
    "duration": 1391,
    "start_time": "2023-01-09T14:32:30.414Z"
   },
   {
    "duration": 1108,
    "start_time": "2023-01-09T14:32:32.702Z"
   },
   {
    "duration": 12,
    "start_time": "2023-01-09T14:32:35.136Z"
   },
   {
    "duration": 11,
    "start_time": "2023-01-09T14:32:35.704Z"
   },
   {
    "duration": 11,
    "start_time": "2023-01-09T14:32:36.385Z"
   },
   {
    "duration": 24,
    "start_time": "2023-01-09T14:32:36.590Z"
   },
   {
    "duration": 12,
    "start_time": "2023-01-09T14:32:36.975Z"
   },
   {
    "duration": 68,
    "start_time": "2023-01-09T14:32:37.331Z"
   },
   {
    "duration": 9,
    "start_time": "2023-01-09T14:32:38.094Z"
   },
   {
    "duration": 11,
    "start_time": "2023-01-09T14:32:38.308Z"
   },
   {
    "duration": 4,
    "start_time": "2023-01-09T14:32:39.672Z"
   },
   {
    "duration": 31,
    "start_time": "2023-01-09T14:32:39.877Z"
   },
   {
    "duration": 245,
    "start_time": "2023-01-09T14:32:40.080Z"
   },
   {
    "duration": 7,
    "start_time": "2023-01-09T14:32:40.327Z"
   },
   {
    "duration": 5,
    "start_time": "2023-01-09T14:32:41.016Z"
   },
   {
    "duration": 13,
    "start_time": "2023-01-09T14:32:41.210Z"
   },
   {
    "duration": 59,
    "start_time": "2023-01-09T14:32:41.400Z"
   },
   {
    "duration": 8,
    "start_time": "2023-01-09T14:32:41.789Z"
   },
   {
    "duration": 8,
    "start_time": "2023-01-09T14:32:42.003Z"
   },
   {
    "duration": 39,
    "start_time": "2023-01-09T14:32:42.196Z"
   },
   {
    "duration": 77,
    "start_time": "2023-01-09T14:32:42.395Z"
   },
   {
    "duration": 54,
    "start_time": "2023-01-09T14:32:43.152Z"
   },
   {
    "duration": 7,
    "start_time": "2023-01-09T14:32:43.761Z"
   },
   {
    "duration": 18,
    "start_time": "2023-01-09T14:32:44.595Z"
   },
   {
    "duration": 30,
    "start_time": "2023-01-09T14:32:44.837Z"
   },
   {
    "duration": 133,
    "start_time": "2023-01-09T14:32:45.224Z"
   },
   {
    "duration": 5,
    "start_time": "2023-01-09T14:32:47.206Z"
   },
   {
    "duration": 6,
    "start_time": "2023-01-09T14:32:47.420Z"
   },
   {
    "duration": 27,
    "start_time": "2023-01-09T14:32:47.629Z"
   },
   {
    "duration": 6,
    "start_time": "2023-01-09T14:32:48.405Z"
   },
   {
    "duration": 10,
    "start_time": "2023-01-09T14:32:48.892Z"
   },
   {
    "duration": 4,
    "start_time": "2023-01-09T14:32:53.289Z"
   },
   {
    "duration": 9,
    "start_time": "2023-01-09T14:32:54.568Z"
   },
   {
    "duration": 32,
    "start_time": "2023-01-09T14:32:55.826Z"
   },
   {
    "duration": 11,
    "start_time": "2023-01-09T14:32:56.312Z"
   },
   {
    "duration": 363,
    "start_time": "2023-01-09T14:32:56.701Z"
   },
   {
    "duration": 23,
    "start_time": "2023-01-09T14:33:22.684Z"
   },
   {
    "duration": 30,
    "start_time": "2023-01-09T14:33:23.561Z"
   },
   {
    "duration": 113,
    "start_time": "2023-01-09T14:33:37.209Z"
   },
   {
    "duration": 18,
    "start_time": "2023-01-09T14:33:37.920Z"
   },
   {
    "duration": 6,
    "start_time": "2023-01-09T14:33:39.093Z"
   },
   {
    "duration": 11,
    "start_time": "2023-01-09T14:33:40.605Z"
   },
   {
    "duration": 7,
    "start_time": "2023-01-09T14:33:43.198Z"
   },
   {
    "duration": 11,
    "start_time": "2023-01-09T14:33:43.796Z"
   },
   {
    "duration": 4,
    "start_time": "2023-01-09T14:33:46.302Z"
   },
   {
    "duration": 42,
    "start_time": "2023-01-09T14:35:03.699Z"
   },
   {
    "duration": 264,
    "start_time": "2023-01-09T14:35:04.286Z"
   },
   {
    "duration": 10,
    "start_time": "2023-01-09T14:35:22.707Z"
   },
   {
    "duration": 16,
    "start_time": "2023-01-09T14:35:24.408Z"
   },
   {
    "duration": 131,
    "start_time": "2023-01-09T14:35:24.715Z"
   },
   {
    "duration": 18,
    "start_time": "2023-01-09T14:35:26.326Z"
   },
   {
    "duration": 13,
    "start_time": "2023-01-09T14:35:27.057Z"
   },
   {
    "duration": 50,
    "start_time": "2023-01-09T14:35:27.815Z"
   },
   {
    "duration": 23,
    "start_time": "2023-01-09T14:35:30.295Z"
   },
   {
    "duration": 293,
    "start_time": "2023-01-09T14:35:30.666Z"
   },
   {
    "duration": 9,
    "start_time": "2023-01-09T14:35:34.080Z"
   },
   {
    "duration": 9,
    "start_time": "2023-01-09T14:35:35.056Z"
   },
   {
    "duration": 18,
    "start_time": "2023-01-09T14:35:35.979Z"
   },
   {
    "duration": 15,
    "start_time": "2023-01-09T14:35:36.706Z"
   },
   {
    "duration": 7,
    "start_time": "2023-01-09T14:35:48.969Z"
   },
   {
    "duration": 5,
    "start_time": "2023-01-09T14:35:50.644Z"
   },
   {
    "duration": 10,
    "start_time": "2023-01-09T14:35:51.165Z"
   },
   {
    "duration": 37,
    "start_time": "2023-01-09T14:35:52.422Z"
   },
   {
    "duration": 1253,
    "start_time": "2023-01-26T15:34:44.807Z"
   },
   {
    "duration": 1120,
    "start_time": "2023-01-26T15:34:49.568Z"
   },
   {
    "duration": 11,
    "start_time": "2023-01-26T15:35:21.207Z"
   },
   {
    "duration": 9,
    "start_time": "2023-01-26T15:35:21.561Z"
   },
   {
    "duration": 15,
    "start_time": "2023-01-26T15:35:22.488Z"
   },
   {
    "duration": 14,
    "start_time": "2023-01-26T15:35:23.045Z"
   },
   {
    "duration": 12,
    "start_time": "2023-01-26T15:35:24.069Z"
   },
   {
    "duration": 49,
    "start_time": "2023-01-26T15:35:24.969Z"
   },
   {
    "duration": 9,
    "start_time": "2023-01-26T15:35:31.423Z"
   },
   {
    "duration": 10,
    "start_time": "2023-01-26T15:35:32.031Z"
   },
   {
    "duration": 6,
    "start_time": "2023-01-26T15:35:43.556Z"
   },
   {
    "duration": 26,
    "start_time": "2023-01-26T15:35:44.077Z"
   },
   {
    "duration": 239,
    "start_time": "2023-01-26T15:35:44.637Z"
   },
   {
    "duration": 9,
    "start_time": "2023-01-26T15:35:45.047Z"
   },
   {
    "duration": 6,
    "start_time": "2023-01-26T15:35:50.848Z"
   },
   {
    "duration": 11,
    "start_time": "2023-01-26T15:35:51.366Z"
   },
   {
    "duration": 44,
    "start_time": "2023-01-26T15:35:51.688Z"
   },
   {
    "duration": 8,
    "start_time": "2023-01-26T15:35:54.845Z"
   },
   {
    "duration": 8,
    "start_time": "2023-01-26T15:35:55.642Z"
   },
   {
    "duration": 32,
    "start_time": "2023-01-26T15:35:55.911Z"
   },
   {
    "duration": 67,
    "start_time": "2023-01-26T15:35:56.769Z"
   },
   {
    "duration": 47,
    "start_time": "2023-01-26T15:36:10.432Z"
   },
   {
    "duration": 6,
    "start_time": "2023-01-26T15:36:11.526Z"
   },
   {
    "duration": 15,
    "start_time": "2023-01-26T15:36:15.286Z"
   },
   {
    "duration": 27,
    "start_time": "2023-01-26T15:36:15.828Z"
   },
   {
    "duration": 118,
    "start_time": "2023-01-26T15:36:16.355Z"
   },
   {
    "duration": 5,
    "start_time": "2023-01-26T15:36:51.752Z"
   },
   {
    "duration": 38,
    "start_time": "2023-01-26T15:36:51.758Z"
   },
   {
    "duration": 23,
    "start_time": "2023-01-26T15:36:51.979Z"
   },
   {
    "duration": 4,
    "start_time": "2023-01-26T15:36:52.705Z"
   },
   {
    "duration": 9,
    "start_time": "2023-01-26T15:36:53.259Z"
   },
   {
    "duration": 4,
    "start_time": "2023-01-26T15:37:03.940Z"
   },
   {
    "duration": 6,
    "start_time": "2023-01-26T15:37:05.181Z"
   },
   {
    "duration": 41,
    "start_time": "2023-01-26T15:37:06.627Z"
   },
   {
    "duration": 9,
    "start_time": "2023-01-26T15:37:09.069Z"
   },
   {
    "duration": 337,
    "start_time": "2023-01-26T15:37:09.590Z"
   },
   {
    "duration": 20,
    "start_time": "2023-01-26T15:37:14.956Z"
   },
   {
    "duration": 27,
    "start_time": "2023-01-26T15:37:15.432Z"
   },
   {
    "duration": 144,
    "start_time": "2023-01-26T15:37:22.464Z"
   },
   {
    "duration": 20,
    "start_time": "2023-01-26T15:37:23.545Z"
   },
   {
    "duration": 6,
    "start_time": "2023-01-26T15:37:28.380Z"
   },
   {
    "duration": 8,
    "start_time": "2023-01-26T15:37:29.649Z"
   },
   {
    "duration": 5,
    "start_time": "2023-01-26T15:37:52.305Z"
   },
   {
    "duration": 10,
    "start_time": "2023-01-26T15:37:52.593Z"
   },
   {
    "duration": 4,
    "start_time": "2023-01-26T15:37:57.605Z"
   },
   {
    "duration": 1020,
    "start_time": "2023-01-26T15:49:13.700Z"
   },
   {
    "duration": 8,
    "start_time": "2023-01-26T15:49:15.265Z"
   },
   {
    "duration": 9,
    "start_time": "2023-01-26T15:49:15.561Z"
   },
   {
    "duration": 12,
    "start_time": "2023-01-26T15:49:18.451Z"
   },
   {
    "duration": 15,
    "start_time": "2023-01-26T15:49:20.572Z"
   }
  ],
  "kernelspec": {
   "display_name": "Python 3 (ipykernel)",
   "language": "python",
   "name": "python3"
  },
  "language_info": {
   "codemirror_mode": {
    "name": "ipython",
    "version": 3
   },
   "file_extension": ".py",
   "mimetype": "text/x-python",
   "name": "python",
   "nbconvert_exporter": "python",
   "pygments_lexer": "ipython3",
   "version": "3.9.13"
  },
  "toc": {
   "base_numbering": 1,
   "nav_menu": {},
   "number_sections": true,
   "sideBar": true,
   "skip_h1_title": true,
   "title_cell": "Table of Contents",
   "title_sidebar": "Contents",
   "toc_cell": false,
   "toc_position": {},
   "toc_section_display": true,
   "toc_window_display": true
  }
 },
 "nbformat": 4,
 "nbformat_minor": 2
}
