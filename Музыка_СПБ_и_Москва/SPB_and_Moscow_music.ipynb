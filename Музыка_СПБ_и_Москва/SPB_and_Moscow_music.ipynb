{
 "cells": [
  {
   "cell_type": "markdown",
   "metadata": {
    "id": "E0vqbgi9ay0H",
    "tags": []
   },
   "source": [
    "# Яндекс Музыка"
   ]
  },
  {
   "cell_type": "markdown",
   "metadata": {
    "id": "VUC88oWjTJw2",
    "tags": []
   },
   "source": [
    "Сравнение Москвы и Петербурга окружено мифами. Например:\n",
    " * Москва — мегаполис, подчинённый жёсткому ритму рабочей недели;\n",
    " * Петербург — культурная столица, со своими вкусами.\n",
    "\n",
    "На данных Яндекс Музыки мы сравниваем поведение пользователей двух столиц.\n",
    "\n",
    "**Цель исследования** — проверьте три гипотезы:\n",
    "1. Активность пользователей зависит от дня недели. Причём в Москве и Петербурге это проявляется по-разному.\n",
    "2. В понедельник утром в Москве преобладают одни жанры, а в Петербурге — другие. Так же и вечером пятницы преобладают разные жанры — в зависимости от города. \n",
    "3. Москва и Петербург предпочитают разные жанры музыки. В Москве чаще слушают поп-музыку, в Петербурге — русский рэп.\n",
    "\n",
    "**Ход исследования**\n",
    "\n",
    "Данные о поведении пользователей мы получаем из файла `yandex_music_project.csv`. О качестве данных ничего не известно. Поэтому перед проверкой гипотез понадобится обзор данных. \n",
    "\n",
    "Мы проверили данные на ошибки и оценим их влияние на исследование. Затем, на этапе предобработки мы найдём возможность исправить самые критичные ошибки данных.\n",
    " \n",
    "Таким образом, исследование пройдёт в три этапа:\n",
    " 1. Обзор данных.\n",
    " 2. Предобработка данных.\n",
    " 3. Проверка гипотез."
   ]
  },
  {
   "cell_type": "markdown",
   "metadata": {
    "id": "Ml1hmfXC_Zcs",
    "tags": []
   },
   "source": [
    "## Обзор данных\n",
    "\n",
    "Составим первое представление о данных Яндекс Музыки."
   ]
  },
  {
   "cell_type": "markdown",
   "metadata": {
    "id": "57eAOGIz_Zcs",
    "tags": [
     "start_task"
    ]
   },
   "source": [
    "**Импортируем необходимые библиотеки:**"
   ]
  },
  {
   "cell_type": "code",
   "execution_count": 77,
   "metadata": {
    "deletable": false,
    "id": "AXN7PHPN_Zcs"
   },
   "outputs": [],
   "source": [
    "# импорт библиотеки pandas\n",
    "import pandas as pd"
   ]
  },
  {
   "cell_type": "markdown",
   "metadata": {
    "id": "SG23P8tt_Zcs",
    "tags": []
   },
   "source": [
    "Прочитаем файл `yandex_music_project.csv` из папки `/datasets` и сохраним его в переменной `df`:"
   ]
  },
  {
   "cell_type": "code",
   "execution_count": 78,
   "metadata": {
    "deletable": false,
    "id": "fFVu7vqh_Zct"
   },
   "outputs": [],
   "source": [
    "# чтение файла с данными и сохранение в df\n",
    "df = pd.read_csv('https://code.s3.yandex.net/datasets/yandex_music_project.csv')"
   ]
  },
  {
   "cell_type": "markdown",
   "metadata": {
    "id": "rDoOMd3uTqnZ",
    "tags": [
     "start_task"
    ]
   },
   "source": [
    "Выведите на экран первые десять строк таблицы:"
   ]
  },
  {
   "cell_type": "code",
   "execution_count": 79,
   "metadata": {
    "deletable": false,
    "id": "oWTVX3gW_Zct"
   },
   "outputs": [
    {
     "data": {
      "text/html": [
       "<div>\n",
       "<style scoped>\n",
       "    .dataframe tbody tr th:only-of-type {\n",
       "        vertical-align: middle;\n",
       "    }\n",
       "\n",
       "    .dataframe tbody tr th {\n",
       "        vertical-align: top;\n",
       "    }\n",
       "\n",
       "    .dataframe thead th {\n",
       "        text-align: right;\n",
       "    }\n",
       "</style>\n",
       "<table border=\"1\" class=\"dataframe\">\n",
       "  <thead>\n",
       "    <tr style=\"text-align: right;\">\n",
       "      <th></th>\n",
       "      <th>userID</th>\n",
       "      <th>Track</th>\n",
       "      <th>artist</th>\n",
       "      <th>genre</th>\n",
       "      <th>City</th>\n",
       "      <th>time</th>\n",
       "      <th>Day</th>\n",
       "    </tr>\n",
       "  </thead>\n",
       "  <tbody>\n",
       "    <tr>\n",
       "      <th>0</th>\n",
       "      <td>FFB692EC</td>\n",
       "      <td>Kamigata To Boots</td>\n",
       "      <td>The Mass Missile</td>\n",
       "      <td>rock</td>\n",
       "      <td>Saint-Petersburg</td>\n",
       "      <td>20:28:33</td>\n",
       "      <td>Wednesday</td>\n",
       "    </tr>\n",
       "    <tr>\n",
       "      <th>1</th>\n",
       "      <td>55204538</td>\n",
       "      <td>Delayed Because of Accident</td>\n",
       "      <td>Andreas Rönnberg</td>\n",
       "      <td>rock</td>\n",
       "      <td>Moscow</td>\n",
       "      <td>14:07:09</td>\n",
       "      <td>Friday</td>\n",
       "    </tr>\n",
       "    <tr>\n",
       "      <th>2</th>\n",
       "      <td>20EC38</td>\n",
       "      <td>Funiculì funiculà</td>\n",
       "      <td>Mario Lanza</td>\n",
       "      <td>pop</td>\n",
       "      <td>Saint-Petersburg</td>\n",
       "      <td>20:58:07</td>\n",
       "      <td>Wednesday</td>\n",
       "    </tr>\n",
       "    <tr>\n",
       "      <th>3</th>\n",
       "      <td>A3DD03C9</td>\n",
       "      <td>Dragons in the Sunset</td>\n",
       "      <td>Fire + Ice</td>\n",
       "      <td>folk</td>\n",
       "      <td>Saint-Petersburg</td>\n",
       "      <td>08:37:09</td>\n",
       "      <td>Monday</td>\n",
       "    </tr>\n",
       "    <tr>\n",
       "      <th>4</th>\n",
       "      <td>E2DC1FAE</td>\n",
       "      <td>Soul People</td>\n",
       "      <td>Space Echo</td>\n",
       "      <td>dance</td>\n",
       "      <td>Moscow</td>\n",
       "      <td>08:34:34</td>\n",
       "      <td>Monday</td>\n",
       "    </tr>\n",
       "    <tr>\n",
       "      <th>5</th>\n",
       "      <td>842029A1</td>\n",
       "      <td>Преданная</td>\n",
       "      <td>IMPERVTOR</td>\n",
       "      <td>rusrap</td>\n",
       "      <td>Saint-Petersburg</td>\n",
       "      <td>13:09:41</td>\n",
       "      <td>Friday</td>\n",
       "    </tr>\n",
       "    <tr>\n",
       "      <th>6</th>\n",
       "      <td>4CB90AA5</td>\n",
       "      <td>True</td>\n",
       "      <td>Roman Messer</td>\n",
       "      <td>dance</td>\n",
       "      <td>Moscow</td>\n",
       "      <td>13:00:07</td>\n",
       "      <td>Wednesday</td>\n",
       "    </tr>\n",
       "    <tr>\n",
       "      <th>7</th>\n",
       "      <td>F03E1C1F</td>\n",
       "      <td>Feeling This Way</td>\n",
       "      <td>Polina Griffith</td>\n",
       "      <td>dance</td>\n",
       "      <td>Moscow</td>\n",
       "      <td>20:47:49</td>\n",
       "      <td>Wednesday</td>\n",
       "    </tr>\n",
       "    <tr>\n",
       "      <th>8</th>\n",
       "      <td>8FA1D3BE</td>\n",
       "      <td>И вновь продолжается бой</td>\n",
       "      <td>NaN</td>\n",
       "      <td>ruspop</td>\n",
       "      <td>Moscow</td>\n",
       "      <td>09:17:40</td>\n",
       "      <td>Friday</td>\n",
       "    </tr>\n",
       "    <tr>\n",
       "      <th>9</th>\n",
       "      <td>E772D5C0</td>\n",
       "      <td>Pessimist</td>\n",
       "      <td>NaN</td>\n",
       "      <td>dance</td>\n",
       "      <td>Saint-Petersburg</td>\n",
       "      <td>21:20:49</td>\n",
       "      <td>Wednesday</td>\n",
       "    </tr>\n",
       "  </tbody>\n",
       "</table>\n",
       "</div>"
      ],
      "text/plain": [
       "     userID                        Track            artist   genre  \\\n",
       "0  FFB692EC            Kamigata To Boots  The Mass Missile    rock   \n",
       "1  55204538  Delayed Because of Accident  Andreas Rönnberg    rock   \n",
       "2    20EC38            Funiculì funiculà       Mario Lanza     pop   \n",
       "3  A3DD03C9        Dragons in the Sunset        Fire + Ice    folk   \n",
       "4  E2DC1FAE                  Soul People        Space Echo   dance   \n",
       "5  842029A1                    Преданная         IMPERVTOR  rusrap   \n",
       "6  4CB90AA5                         True      Roman Messer   dance   \n",
       "7  F03E1C1F             Feeling This Way   Polina Griffith   dance   \n",
       "8  8FA1D3BE     И вновь продолжается бой               NaN  ruspop   \n",
       "9  E772D5C0                    Pessimist               NaN   dance   \n",
       "\n",
       "             City        time        Day  \n",
       "0  Saint-Petersburg  20:28:33  Wednesday  \n",
       "1            Moscow  14:07:09     Friday  \n",
       "2  Saint-Petersburg  20:58:07  Wednesday  \n",
       "3  Saint-Petersburg  08:37:09     Monday  \n",
       "4            Moscow  08:34:34     Monday  \n",
       "5  Saint-Petersburg  13:09:41     Friday  \n",
       "6            Moscow  13:00:07  Wednesday  \n",
       "7            Moscow  20:47:49  Wednesday  \n",
       "8            Moscow  09:17:40     Friday  \n",
       "9  Saint-Petersburg  21:20:49  Wednesday  "
      ]
     },
     "execution_count": 79,
     "metadata": {},
     "output_type": "execute_result"
    }
   ],
   "source": [
    "# получение первых 10 строк таблицы df\n",
    "df.head(10)"
   ]
  },
  {
   "cell_type": "markdown",
   "metadata": {
    "id": "EO73Kwic_Zct",
    "tags": [
     "start_task"
    ]
   },
   "source": [
    "Получаем общую информацию о таблице c помощью метода `info()`:"
   ]
  },
  {
   "cell_type": "code",
   "execution_count": 80,
   "metadata": {
    "deletable": false,
    "id": "DSf2kIb-_Zct"
   },
   "outputs": [
    {
     "name": "stdout",
     "output_type": "stream",
     "text": [
      "<class 'pandas.core.frame.DataFrame'>\n",
      "RangeIndex: 65079 entries, 0 to 65078\n",
      "Data columns (total 7 columns):\n",
      " #   Column    Non-Null Count  Dtype \n",
      "---  ------    --------------  ----- \n",
      " 0     userID  65079 non-null  object\n",
      " 1   Track     63848 non-null  object\n",
      " 2   artist    57876 non-null  object\n",
      " 3   genre     63881 non-null  object\n",
      " 4     City    65079 non-null  object\n",
      " 5   time      65079 non-null  object\n",
      " 6   Day       65079 non-null  object\n",
      "dtypes: object(7)\n",
      "memory usage: 3.5+ MB\n"
     ]
    }
   ],
   "source": [
    "# получение общей информации о данных в таблице df\n",
    "df.info()"
   ]
  },
  {
   "cell_type": "markdown",
   "metadata": {
    "deletable": false,
    "editable": false,
    "id": "TaQ2Iwbr_Zct"
   },
   "source": [
    "Итак, в таблице семь столбцов. Тип данных во всех столбцах — `object`.\n",
    "\n",
    "Согласно документации к данным:\n",
    "* `userID` — идентификатор пользователя;\n",
    "* `Track` — название трека;  \n",
    "* `artist` — имя исполнителя;\n",
    "* `genre` — название жанра;\n",
    "* `City` — город пользователя;\n",
    "* `time` — время начала прослушивания;\n",
    "* `Day` — день недели.\n",
    "\n",
    "Количество значений в столбцах различается. Значит, в данных есть пропущенные значения."
   ]
  },
  {
   "cell_type": "markdown",
   "metadata": {
    "id": "rAfziTBDmf2h",
    "tags": [
     "start_task"
    ]
   },
   "source": [
    "**В названиях колонок видны нарушения стиля:**\n",
    "\n",
    "* Строчные буквы сочетаются с прописными.\n",
    "* Встречаются пробелы.\n",
    "* Не использован змеиный регистр\n",
    "* Названия начинаются с прописных букв"
   ]
  },
  {
   "cell_type": "markdown",
   "metadata": {
    "id": "MCB6-dXG_Zct",
    "tags": []
   },
   "source": [
    "**Выводы**\n",
    "\n",
    "В каждой строке таблицы — данные о прослушанном треке. Часть колонок описывает саму композицию: название, исполнителя и жанр. Остальные данные рассказывают о пользователе: из какого он города, когда он слушал музыку. \n",
    "\n",
    "Предварительно можно утверждать, что данных достаточно для проверки гипотез. Но встречаются пропуски в данных, а в названиях колонок — расхождения с хорошим стилем.\n",
    "\n",
    "Чтобы двигаться дальше, нужно устранить проблемы в данных."
   ]
  },
  {
   "cell_type": "markdown",
   "metadata": {
    "id": "SjYF6Ub9_Zct",
    "tags": []
   },
   "source": [
    "## Предобработка данных\n",
    "Исправим стиль в заголовках столбцов, исключим пропуски. Проверим данные на дубликаты."
   ]
  },
  {
   "cell_type": "markdown",
   "metadata": {
    "id": "dIaKXr29_Zct",
    "tags": [
     "start_task"
    ]
   },
   "source": [
    "### Стиль заголовков\n",
    "Выведем на экран названия столбцов:"
   ]
  },
  {
   "cell_type": "code",
   "execution_count": 81,
   "metadata": {
    "deletable": false,
    "id": "oKOTdF_Q_Zct"
   },
   "outputs": [
    {
     "data": {
      "text/plain": [
       "Index(['  userID', 'Track', 'artist', 'genre', '  City  ', 'time', 'Day'], dtype='object')"
      ]
     },
     "execution_count": 81,
     "metadata": {},
     "output_type": "execute_result"
    }
   ],
   "source": [
    "# перечень названий столбцов таблицы df\n",
    "df.columns"
   ]
  },
  {
   "cell_type": "markdown",
   "metadata": {
    "id": "zj5534cv_Zct",
    "tags": [
     "start_task"
    ]
   },
   "source": [
    "Приведём названия в соответствие с хорошим стилем:\n",
    "* несколько слов в названии запишим в «змеином_регистре»,\n",
    "* все символы сделаем строчными,\n",
    "* устраним пробелы.\n",
    "\n",
    "Для этого переименуйте колонки так:\n",
    "\n",
    "* `'  userID'` → `'user_id'`;\n",
    "* `'Track'` → `'track'`;\n",
    "* `'  City  '` → `'city'`;\n",
    "* `'Day'` → `'day'`."
   ]
  },
  {
   "cell_type": "code",
   "execution_count": 82,
   "metadata": {
    "deletable": false,
    "id": "ISlFqs5y_Zct"
   },
   "outputs": [],
   "source": [
    "# переименование столбцов\n",
    "df = df.rename(columns={'  userID': 'user_id', 'Track': 'track', '  City  ': 'city', 'Day': 'day'})"
   ]
  },
  {
   "cell_type": "markdown",
   "metadata": {
    "id": "1dqbh00J_Zct",
    "tags": [
     "start_task"
    ]
   },
   "source": [
    "Проверим результат. Для этого ещё раз выведем на экран названия столбцов:"
   ]
  },
  {
   "cell_type": "code",
   "execution_count": 83,
   "metadata": {
    "deletable": false,
    "id": "d4NOAmTW_Zct"
   },
   "outputs": [
    {
     "data": {
      "text/plain": [
       "Index(['user_id', 'track', 'artist', 'genre', 'city', 'time', 'day'], dtype='object')"
      ]
     },
     "execution_count": 83,
     "metadata": {},
     "output_type": "execute_result"
    }
   ],
   "source": [
    "# проверка результатов - перечень названий столбцов\n",
    "df.columns"
   ]
  },
  {
   "cell_type": "markdown",
   "metadata": {
    "id": "5ISfbcfY_Zct",
    "tags": [
     "start_task"
    ]
   },
   "source": [
    "### Пропуски значений\n",
    "Сначала посчитаем, сколько в таблице пропущенных значений. Используем два метода `pandas`:"
   ]
  },
  {
   "cell_type": "code",
   "execution_count": 84,
   "metadata": {
    "deletable": false,
    "id": "RskX29qr_Zct"
   },
   "outputs": [
    {
     "data": {
      "text/plain": [
       "user_id       0\n",
       "track      1231\n",
       "artist     7203\n",
       "genre      1198\n",
       "city          0\n",
       "time          0\n",
       "day           0\n",
       "dtype: int64"
      ]
     },
     "execution_count": 84,
     "metadata": {},
     "output_type": "execute_result"
    }
   ],
   "source": [
    "# подсчёт пропусков\n",
    "df.isna().sum() "
   ]
  },
  {
   "cell_type": "markdown",
   "metadata": {
    "id": "qubhgnlO_Zct",
    "tags": []
   },
   "source": [
    "Не все пропущенные значения влияют на исследование. Так в `track` и `artist` пропуски не важны для нашей работы.заменим их явными обозначениями.\n",
    "\n",
    "Но пропуски в `genre` могут помешать сравнению музыкальных вкусов в Москве и Санкт-Петербурге. На практике было бы правильно установить причину пропусков и восстановить данные. Такой возможности нет в нашем проекте. Выполним:\n",
    "\n",
    "* заполним и эти пропуски явными обозначениями;\n",
    "* оценим, насколько они повредят расчётам. "
   ]
  },
  {
   "cell_type": "markdown",
   "metadata": {
    "id": "fSv2laPA_Zct",
    "tags": [
     "start_task"
    ]
   },
   "source": [
    "Заменим пропущенные значения в столбцах `track`, `artist` и `genre` на строку `'unknown'`. Для этого создадим список `columns_to_replace`, переберём его элементы циклом `for` и для каждого столбца выполним замену пропущенных значений:"
   ]
  },
  {
   "cell_type": "code",
   "execution_count": 85,
   "metadata": {
    "deletable": false,
    "id": "KplB5qWs_Zct"
   },
   "outputs": [],
   "source": [
    "# перебор названий столбцов в цикле и замена пропущенных значений на 'unknown'\n",
    "columns_to_replace = ['track', 'artist', 'genre']\n",
    "for column in columns_to_replace:\n",
    "    df[column] = df[column].fillna('unknown')\n"
   ]
  },
  {
   "cell_type": "markdown",
   "metadata": {
    "id": "Ilsm-MZo_Zct",
    "tags": [
     "start_task"
    ]
   },
   "source": [
    "Убедимся, что в таблице не осталось пропусков. Для этого ещё раз посчитаем пропущенные значения."
   ]
  },
  {
   "cell_type": "code",
   "execution_count": 86,
   "metadata": {
    "deletable": false,
    "id": "Tq4nYRX4_Zct"
   },
   "outputs": [
    {
     "data": {
      "text/plain": [
       "user_id    0\n",
       "track      0\n",
       "artist     0\n",
       "genre      0\n",
       "city       0\n",
       "time       0\n",
       "day        0\n",
       "dtype: int64"
      ]
     },
     "execution_count": 86,
     "metadata": {},
     "output_type": "execute_result"
    }
   ],
   "source": [
    "# подсчёт пропусков\n",
    "df.isna().sum()"
   ]
  },
  {
   "cell_type": "markdown",
   "metadata": {
    "id": "BWKRtBJ3_Zct",
    "tags": [
     "start_task"
    ]
   },
   "source": [
    "### Дубликаты\n",
    "Посчитаем явные дубликаты в таблице одной командой:"
   ]
  },
  {
   "cell_type": "code",
   "execution_count": 87,
   "metadata": {
    "deletable": false,
    "id": "36eES_S0_Zct"
   },
   "outputs": [
    {
     "data": {
      "text/plain": [
       "3826"
      ]
     },
     "execution_count": 87,
     "metadata": {},
     "output_type": "execute_result"
    }
   ],
   "source": [
    "# подсчёт явных дубликатов\n",
    "df.duplicated().sum() "
   ]
  },
  {
   "cell_type": "markdown",
   "metadata": {
    "id": "Ot25h6XR_Zct",
    "tags": [
     "start_task"
    ]
   },
   "source": [
    "Вызовем специальный метод `pandas`, чтобы удалить явные дубликаты:"
   ]
  },
  {
   "cell_type": "code",
   "execution_count": 88,
   "metadata": {
    "deletable": false,
    "id": "exFHq6tt_Zct"
   },
   "outputs": [],
   "source": [
    "# удаление явных дубликатов\n",
    "df = df.drop_duplicates().reset_index(drop=True)"
   ]
  },
  {
   "cell_type": "markdown",
   "metadata": {
    "id": "Im2YwBEG_Zct",
    "tags": [
     "start_task"
    ]
   },
   "source": [
    "Ещё раз посчитаем явные дубликаты в таблице — убедимся, что полностью от них избавились:"
   ]
  },
  {
   "cell_type": "code",
   "execution_count": 89,
   "metadata": {
    "deletable": false,
    "id": "-8PuNWQ0_Zct"
   },
   "outputs": [
    {
     "data": {
      "text/plain": [
       "0"
      ]
     },
     "execution_count": 89,
     "metadata": {},
     "output_type": "execute_result"
    }
   ],
   "source": [
    "# проверка на отсутствие дубликатов\n",
    "df.duplicated().sum()"
   ]
  },
  {
   "cell_type": "markdown",
   "metadata": {
    "id": "QlFBsxAr_Zct",
    "tags": []
   },
   "source": [
    "Теперь избавимся от неявных дубликатов в колонке `genre`. Например, название одного и того же жанра может быть записано немного по-разному. Такие ошибки тоже повлияют на результат исследования."
   ]
  },
  {
   "cell_type": "markdown",
   "metadata": {
    "id": "eSjWwsOh_Zct",
    "tags": [
     "start_task"
    ]
   },
   "source": [
    "Выведем на экран список уникальных названий жанров, отсортированный в алфавитном порядке. Для этого:\n",
    "\n",
    "1. извлекаем нужный столбец датафрейма; \n",
    "2. применим к нему метод сортировки;\n",
    "3. для отсортированного столбца вызовем метод, который вернёт уникальные значения из столбца."
   ]
  },
  {
   "cell_type": "code",
   "execution_count": 90,
   "metadata": {
    "deletable": false,
    "id": "JIUcqzZN_Zct"
   },
   "outputs": [
    {
     "data": {
      "text/plain": [
       "array(['acid', 'acoustic', 'action', 'adult', 'africa', 'afrikaans',\n",
       "       'alternative', 'alternativepunk', 'ambient', 'americana',\n",
       "       'animated', 'anime', 'arabesk', 'arabic', 'arena',\n",
       "       'argentinetango', 'art', 'audiobook', 'author', 'avantgarde',\n",
       "       'axé', 'baile', 'balkan', 'beats', 'bigroom', 'black', 'bluegrass',\n",
       "       'blues', 'bollywood', 'bossa', 'brazilian', 'breakbeat', 'breaks',\n",
       "       'broadway', 'cantautori', 'cantopop', 'canzone', 'caribbean',\n",
       "       'caucasian', 'celtic', 'chamber', 'chanson', 'children', 'chill',\n",
       "       'chinese', 'choral', 'christian', 'christmas', 'classical',\n",
       "       'classicmetal', 'club', 'colombian', 'comedy', 'conjazz',\n",
       "       'contemporary', 'country', 'cuban', 'dance', 'dancehall',\n",
       "       'dancepop', 'dark', 'death', 'deep', 'deutschrock', 'deutschspr',\n",
       "       'dirty', 'disco', 'dnb', 'documentary', 'downbeat', 'downtempo',\n",
       "       'drum', 'dub', 'dubstep', 'eastern', 'easy', 'electronic',\n",
       "       'electropop', 'emo', 'entehno', 'epicmetal', 'estrada', 'ethnic',\n",
       "       'eurofolk', 'european', 'experimental', 'extrememetal', 'fado',\n",
       "       'fairytail', 'film', 'fitness', 'flamenco', 'folk', 'folklore',\n",
       "       'folkmetal', 'folkrock', 'folktronica', 'forró', 'frankreich',\n",
       "       'französisch', 'french', 'funk', 'future', 'gangsta', 'garage',\n",
       "       'german', 'ghazal', 'gitarre', 'glitch', 'gospel', 'gothic',\n",
       "       'grime', 'grunge', 'gypsy', 'handsup', \"hard'n'heavy\", 'hardcore',\n",
       "       'hardstyle', 'hardtechno', 'hip', 'hip-hop', 'hiphop',\n",
       "       'historisch', 'holiday', 'hop', 'horror', 'house', 'hymn', 'idm',\n",
       "       'independent', 'indian', 'indie', 'indipop', 'industrial',\n",
       "       'inspirational', 'instrumental', 'international', 'irish', 'jam',\n",
       "       'japanese', 'jazz', 'jewish', 'jpop', 'jungle', 'k-pop',\n",
       "       'karadeniz', 'karaoke', 'kayokyoku', 'korean', 'laiko', 'latin',\n",
       "       'latino', 'leftfield', 'local', 'lounge', 'loungeelectronic',\n",
       "       'lovers', 'malaysian', 'mandopop', 'marschmusik', 'meditative',\n",
       "       'mediterranean', 'melodic', 'metal', 'metalcore', 'mexican',\n",
       "       'middle', 'minimal', 'miscellaneous', 'modern', 'mood', 'mpb',\n",
       "       'muslim', 'native', 'neoklassik', 'neue', 'new', 'newage',\n",
       "       'newwave', 'nu', 'nujazz', 'numetal', 'oceania', 'old', 'opera',\n",
       "       'orchestral', 'other', 'piano', 'podcasts', 'pop', 'popdance',\n",
       "       'popelectronic', 'popeurodance', 'poprussian', 'post',\n",
       "       'posthardcore', 'postrock', 'power', 'progmetal', 'progressive',\n",
       "       'psychedelic', 'punjabi', 'punk', 'quebecois', 'ragga', 'ram',\n",
       "       'rancheras', 'rap', 'rave', 'reggae', 'reggaeton', 'regional',\n",
       "       'relax', 'religious', 'retro', 'rhythm', 'rnb', 'rnr', 'rock',\n",
       "       'rockabilly', 'rockalternative', 'rockindie', 'rockother',\n",
       "       'romance', 'roots', 'ruspop', 'rusrap', 'rusrock', 'russian',\n",
       "       'salsa', 'samba', 'scenic', 'schlager', 'self', 'sertanejo',\n",
       "       'shanson', 'shoegazing', 'showtunes', 'singer', 'ska', 'skarock',\n",
       "       'slow', 'smooth', 'soft', 'soul', 'soulful', 'sound', 'soundtrack',\n",
       "       'southern', 'specialty', 'speech', 'spiritual', 'sport',\n",
       "       'stonerrock', 'surf', 'swing', 'synthpop', 'synthrock',\n",
       "       'sängerportrait', 'tango', 'tanzorchester', 'taraftar', 'tatar',\n",
       "       'tech', 'techno', 'teen', 'thrash', 'top', 'traditional',\n",
       "       'tradjazz', 'trance', 'tribal', 'trip', 'triphop', 'tropical',\n",
       "       'türk', 'türkçe', 'ukrrock', 'unknown', 'urban', 'uzbek',\n",
       "       'variété', 'vi', 'videogame', 'vocal', 'western', 'world',\n",
       "       'worldbeat', 'ïîï', 'электроника'], dtype=object)"
      ]
     },
     "execution_count": 90,
     "metadata": {},
     "output_type": "execute_result"
    }
   ],
   "source": [
    "df['genre'].sort_values().unique()"
   ]
  },
  {
   "cell_type": "markdown",
   "metadata": {
    "id": "qej-Qmuo_Zct",
    "tags": [
     "start_task"
    ]
   },
   "source": [
    "Просмотрим список и найдём неявные дубликаты названия `hiphop`. Это могут быть названия с ошибками или альтернативные названия того же жанра.\n",
    "\n",
    "Вы увидите следующие неявные дубликаты:\n",
    "\n",
    "* *hip*,\n",
    "* *hop*,\n",
    "* *hip-hop*.\n",
    "\n",
    "Чтобы очистить от них таблицу используем метод `replace()` с двумя аргументами: списком строк-дубликатов (включащий *hip*, *hop* и *hip-hop*) и строкой с правильным значением. Нам нужно исправить колонку `genre` в таблице `df`: заменить каждое значение из списка дубликатов на верное. Вместо `hip`, `hop` и `hip-hop` в таблице должно быть значение `hiphop`:"
   ]
  },
  {
   "cell_type": "code",
   "execution_count": 91,
   "metadata": {
    "deletable": false,
    "id": "ErNDkmns_Zct"
   },
   "outputs": [],
   "source": [
    "# Устранение неявных дубликатов\n",
    "duplicates = ['hip' ,'hop', 'hip-hop']\n",
    "ganre = 'hiphop'\n",
    "df['genre'] = df['genre'].replace(duplicates, ganre)"
   ]
  },
  {
   "cell_type": "markdown",
   "metadata": {
    "id": "zQKF16_RG15m",
    "tags": [
     "start_task"
    ]
   },
   "source": [
    "Проверим, что заменили неправильные названия:\n",
    "\n",
    "*   hip,\n",
    "*   hop,\n",
    "*   hip-hop.\n",
    "\n",
    "Выведем отсортированный список уникальных значений столбца `genre`:"
   ]
  },
  {
   "cell_type": "code",
   "execution_count": 92,
   "metadata": {
    "deletable": false,
    "id": "wvixALnFG15m"
   },
   "outputs": [
    {
     "data": {
      "text/plain": [
       "array(['acid', 'acoustic', 'action', 'adult', 'africa', 'afrikaans',\n",
       "       'alternative', 'alternativepunk', 'ambient', 'americana',\n",
       "       'animated', 'anime', 'arabesk', 'arabic', 'arena',\n",
       "       'argentinetango', 'art', 'audiobook', 'author', 'avantgarde',\n",
       "       'axé', 'baile', 'balkan', 'beats', 'bigroom', 'black', 'bluegrass',\n",
       "       'blues', 'bollywood', 'bossa', 'brazilian', 'breakbeat', 'breaks',\n",
       "       'broadway', 'cantautori', 'cantopop', 'canzone', 'caribbean',\n",
       "       'caucasian', 'celtic', 'chamber', 'chanson', 'children', 'chill',\n",
       "       'chinese', 'choral', 'christian', 'christmas', 'classical',\n",
       "       'classicmetal', 'club', 'colombian', 'comedy', 'conjazz',\n",
       "       'contemporary', 'country', 'cuban', 'dance', 'dancehall',\n",
       "       'dancepop', 'dark', 'death', 'deep', 'deutschrock', 'deutschspr',\n",
       "       'dirty', 'disco', 'dnb', 'documentary', 'downbeat', 'downtempo',\n",
       "       'drum', 'dub', 'dubstep', 'eastern', 'easy', 'electronic',\n",
       "       'electropop', 'emo', 'entehno', 'epicmetal', 'estrada', 'ethnic',\n",
       "       'eurofolk', 'european', 'experimental', 'extrememetal', 'fado',\n",
       "       'fairytail', 'film', 'fitness', 'flamenco', 'folk', 'folklore',\n",
       "       'folkmetal', 'folkrock', 'folktronica', 'forró', 'frankreich',\n",
       "       'französisch', 'french', 'funk', 'future', 'gangsta', 'garage',\n",
       "       'german', 'ghazal', 'gitarre', 'glitch', 'gospel', 'gothic',\n",
       "       'grime', 'grunge', 'gypsy', 'handsup', \"hard'n'heavy\", 'hardcore',\n",
       "       'hardstyle', 'hardtechno', 'hiphop', 'historisch', 'holiday',\n",
       "       'horror', 'house', 'hymn', 'idm', 'independent', 'indian', 'indie',\n",
       "       'indipop', 'industrial', 'inspirational', 'instrumental',\n",
       "       'international', 'irish', 'jam', 'japanese', 'jazz', 'jewish',\n",
       "       'jpop', 'jungle', 'k-pop', 'karadeniz', 'karaoke', 'kayokyoku',\n",
       "       'korean', 'laiko', 'latin', 'latino', 'leftfield', 'local',\n",
       "       'lounge', 'loungeelectronic', 'lovers', 'malaysian', 'mandopop',\n",
       "       'marschmusik', 'meditative', 'mediterranean', 'melodic', 'metal',\n",
       "       'metalcore', 'mexican', 'middle', 'minimal', 'miscellaneous',\n",
       "       'modern', 'mood', 'mpb', 'muslim', 'native', 'neoklassik', 'neue',\n",
       "       'new', 'newage', 'newwave', 'nu', 'nujazz', 'numetal', 'oceania',\n",
       "       'old', 'opera', 'orchestral', 'other', 'piano', 'podcasts', 'pop',\n",
       "       'popdance', 'popelectronic', 'popeurodance', 'poprussian', 'post',\n",
       "       'posthardcore', 'postrock', 'power', 'progmetal', 'progressive',\n",
       "       'psychedelic', 'punjabi', 'punk', 'quebecois', 'ragga', 'ram',\n",
       "       'rancheras', 'rap', 'rave', 'reggae', 'reggaeton', 'regional',\n",
       "       'relax', 'religious', 'retro', 'rhythm', 'rnb', 'rnr', 'rock',\n",
       "       'rockabilly', 'rockalternative', 'rockindie', 'rockother',\n",
       "       'romance', 'roots', 'ruspop', 'rusrap', 'rusrock', 'russian',\n",
       "       'salsa', 'samba', 'scenic', 'schlager', 'self', 'sertanejo',\n",
       "       'shanson', 'shoegazing', 'showtunes', 'singer', 'ska', 'skarock',\n",
       "       'slow', 'smooth', 'soft', 'soul', 'soulful', 'sound', 'soundtrack',\n",
       "       'southern', 'specialty', 'speech', 'spiritual', 'sport',\n",
       "       'stonerrock', 'surf', 'swing', 'synthpop', 'synthrock',\n",
       "       'sängerportrait', 'tango', 'tanzorchester', 'taraftar', 'tatar',\n",
       "       'tech', 'techno', 'teen', 'thrash', 'top', 'traditional',\n",
       "       'tradjazz', 'trance', 'tribal', 'trip', 'triphop', 'tropical',\n",
       "       'türk', 'türkçe', 'ukrrock', 'unknown', 'urban', 'uzbek',\n",
       "       'variété', 'vi', 'videogame', 'vocal', 'western', 'world',\n",
       "       'worldbeat', 'ïîï', 'электроника'], dtype=object)"
      ]
     },
     "execution_count": 92,
     "metadata": {},
     "output_type": "execute_result"
    }
   ],
   "source": [
    "# Проверка на неявные дубликаты\n",
    "df['genre'].sort_values().unique()"
   ]
  },
  {
   "cell_type": "markdown",
   "metadata": {
    "id": "jz6a9-7HQUDd",
    "tags": []
   },
   "source": [
    "**Выводы**\n",
    "\n",
    "Предобработка обнаружила три проблемы в данных:\n",
    "\n",
    "- нарушения в стиле заголовков,\n",
    "- пропущенные значения,\n",
    "- дубликаты — явные и неявные.\n",
    "\n",
    "Мы исправили заголовки, чтобы упростить работу с таблицей. Без дубликатов исследование станет более точным.\n",
    "\n",
    "Пропущенные значения мы заменили на `'unknown'`. Ещё предстоит увидеть, не повредят ли исследованию пропуски в колонке `genre`.\n",
    "\n",
    "Теперь можно перейти к проверке гипотез. "
   ]
  },
  {
   "cell_type": "markdown",
   "metadata": {
    "id": "WttZHXH0SqKk",
    "tags": []
   },
   "source": [
    "## Проверка гипотез"
   ]
  },
  {
   "cell_type": "markdown",
   "metadata": {
    "id": "Im936VVi_Zcu",
    "tags": []
   },
   "source": [
    "### Сравнение поведения пользователей двух столиц"
   ]
  },
  {
   "cell_type": "markdown",
   "metadata": {
    "id": "nwt_MuaL_Zcu",
    "tags": []
   },
   "source": [
    "Первая гипотеза утверждает, что пользователи по-разному слушают музыку в Москве и Санкт-Петербурге. Проверим это предположение по данным о трёх днях недели — понедельнике, среде и пятнице. Для этого:\n",
    "\n",
    "* Разделим пользователей Москвы и Санкт-Петербурга.\n",
    "* Сравним, сколько треков послушала каждая группа пользователей в понедельник, среду и пятницу."
   ]
  },
  {
   "cell_type": "markdown",
   "metadata": {
    "id": "8Dw_YMmT_Zcu",
    "tags": [
     "start_task"
    ]
   },
   "source": [
    "Выполним каждый из расчётов по отдельности. \n",
    "\n",
    "Оценим активность пользователей в каждом городе. Сгруппируем данные по городу и посчитаем прослушивания в каждой группе."
   ]
  },
  {
   "cell_type": "code",
   "execution_count": 94,
   "metadata": {
    "deletable": false,
    "id": "0_Qs96oh_Zcu"
   },
   "outputs": [
    {
     "data": {
      "text/plain": [
       "city\n",
       "Moscow              42741\n",
       "Saint-Petersburg    18512\n",
       "Name: genre, dtype: int64"
      ]
     },
     "execution_count": 94,
     "metadata": {},
     "output_type": "execute_result"
    }
   ],
   "source": [
    "# Подсчёт прослушиваний в каждом городе\n",
    "df.groupby('city')['genre'].count()"
   ]
  },
  {
   "cell_type": "markdown",
   "metadata": {
    "id": "dzli3w8o_Zcu",
    "tags": [
     "start_task"
    ]
   },
   "source": [
    "В Москве прослушиваний больше, чем в Петербурге. Из этого не следует, что московские пользователи чаще слушают музыку. Просто самих пользователей в Москве больше.\n",
    "\n",
    "\n",
    "\n",
    "Теперь сгруппируем данные по дню недели и посчитайте прослушивания в понедельник, среду и пятницу. Учтём, что в данных есть информация о прослушиваниях только за эти дни."
   ]
  },
  {
   "cell_type": "code",
   "execution_count": 99,
   "metadata": {
    "deletable": false,
    "id": "uZMKjiJz_Zcu"
   },
   "outputs": [
    {
     "data": {
      "text/plain": [
       "day\n",
       "Friday       21840\n",
       "Monday       21354\n",
       "Wednesday    18059\n",
       "Name: genre, dtype: int64"
      ]
     },
     "execution_count": 99,
     "metadata": {},
     "output_type": "execute_result"
    }
   ],
   "source": [
    "# Подсчёт прослушиваний в каждый из трёх дней\n",
    "df.groupby('day')['genre'].count()"
   ]
  },
  {
   "cell_type": "markdown",
   "metadata": {
    "id": "cC2tNrlL_Zcu",
    "tags": []
   },
   "source": [
    "В среднем пользователи из двух городов менее активны по средам. Но картина может измениться, если рассмотреть каждый город в отдельности."
   ]
  },
  {
   "cell_type": "markdown",
   "metadata": {
    "id": "POzs8bGa_Zcu",
    "tags": [
     "start_task"
    ]
   },
   "source": [
    "На основе группировок по городу и по дням недели напишим функцию, которая объединит два эти расчёта.\n",
    "\n",
    "Создадим функцию `number_tracks()`, которая посчитает прослушивания для заданного дня и города. Ей понадобятся два параметра:\n",
    "* день недели,\n",
    "* название города.\n",
    "\n",
    "В функции сохраним в переменную строки исходной таблицы, у которых значение:\n",
    "  * в колонке `day` равно параметру `day`,\n",
    "  * в колонке `city` равно параметру `city`.\n",
    "\n",
    "Для этого применим последовательную фильтрацию с логической индексацией (или сложные логические выражения в одну строку, если вы уже знакомы с ними).\n",
    "\n",
    "Затем посчитаем значения в столбце `user_id` получившейся таблицы. Результат сохраним в новую переменную. Вернём эту переменную из функции."
   ]
  },
  {
   "cell_type": "code",
   "execution_count": 57,
   "metadata": {
    "deletable": false,
    "id": "Nz3GdQB1_Zcu"
   },
   "outputs": [],
   "source": [
    "def number_tracks(day, city):\n",
    "    track_list = df[df['day'] == day]\n",
    "    track_list = track_list[track_list['city'] == city]\n",
    "    track_list_count = track_list.count()['user_id']\n",
    "    return track_list_count\n",
    "\n",
    "# <создание функции number_tracks()>\n",
    "# Объявляется функция с двумя параметрами: day, city.\n",
    "# В переменной track_list сохраняются те строки таблицы df, для которых \n",
    "# значение в столбце 'day' равно параметру day и одновременно значение\n",
    "# в столбце 'city' равно параметру city (используйте последовательную фильтрацию\n",
    "# с помощью логической индексации или сложные логические выражения в одну строку, если вы уже знакомы с ними).\n",
    "# В переменной track_list_count сохраняется число значений столбца 'user_id',\n",
    "# рассчитанное методом count() для таблицы track_list.\n",
    "# Функция возвращает число - значение track_list_count.\n",
    "\n",
    "# Функция для подсчёта прослушиваний для конкретного города и дня.\n",
    "# С помощью последовательной фильтрации с логической индексацией она \n",
    "# сначала получит из исходной таблицы строки с нужным днём,\n",
    "# затем из результата отфильтрует строки с нужным городом,\n",
    "# методом count() посчитает количество значений в колонке user_id. \n",
    "# Это количество функция вернёт в качестве результата"
   ]
  },
  {
   "cell_type": "markdown",
   "metadata": {
    "id": "ytf7xFrFJQ2r",
    "tags": [
     "start_task"
    ]
   },
   "source": [
    "Вызовем`number_tracks()` шесть раз, меняя значение параметров — так, чтобы получить данные для каждого города в каждый из трёх дней."
   ]
  },
  {
   "cell_type": "code",
   "execution_count": 100,
   "metadata": {
    "deletable": false,
    "id": "rJcRATNQ_Zcu"
   },
   "outputs": [
    {
     "data": {
      "text/plain": [
       "15740"
      ]
     },
     "execution_count": 100,
     "metadata": {},
     "output_type": "execute_result"
    }
   ],
   "source": [
    "# количество прослушиваний в Москве по понедельникам\n",
    "number_tracks('Monday', 'Moscow')"
   ]
  },
  {
   "cell_type": "code",
   "execution_count": 101,
   "metadata": {
    "deletable": false,
    "id": "hq_ncZ5T_Zcu"
   },
   "outputs": [
    {
     "data": {
      "text/plain": [
       "5614"
      ]
     },
     "execution_count": 101,
     "metadata": {},
     "output_type": "execute_result"
    }
   ],
   "source": [
    "# количество прослушиваний в Санкт-Петербурге по понедельникам\n",
    "number_tracks('Monday', 'Saint-Petersburg')"
   ]
  },
  {
   "cell_type": "code",
   "execution_count": 102,
   "metadata": {
    "deletable": false,
    "id": "_NTy2VPU_Zcu"
   },
   "outputs": [
    {
     "data": {
      "text/plain": [
       "11056"
      ]
     },
     "execution_count": 102,
     "metadata": {},
     "output_type": "execute_result"
    }
   ],
   "source": [
    "# количество прослушиваний в Москве по средам\n",
    "number_tracks('Wednesday', 'Moscow')"
   ]
  },
  {
   "cell_type": "code",
   "execution_count": 103,
   "metadata": {
    "deletable": false,
    "id": "j2y3TAwo_Zcu"
   },
   "outputs": [
    {
     "data": {
      "text/plain": [
       "7003"
      ]
     },
     "execution_count": 103,
     "metadata": {},
     "output_type": "execute_result"
    }
   ],
   "source": [
    "# количество прослушиваний в Санкт-Петербурге по средам\n",
    "number_tracks('Wednesday', 'Saint-Petersburg')"
   ]
  },
  {
   "cell_type": "code",
   "execution_count": 104,
   "metadata": {
    "deletable": false,
    "id": "vYDw5u_K_Zcu"
   },
   "outputs": [
    {
     "data": {
      "text/plain": [
       "15945"
      ]
     },
     "execution_count": 104,
     "metadata": {},
     "output_type": "execute_result"
    }
   ],
   "source": [
    "# количество прослушиваний в Москве по пятницам\n",
    "number_tracks('Friday', 'Moscow')"
   ]
  },
  {
   "cell_type": "code",
   "execution_count": 105,
   "metadata": {
    "deletable": false,
    "id": "8_yzFtW3_Zcu"
   },
   "outputs": [
    {
     "data": {
      "text/plain": [
       "5895"
      ]
     },
     "execution_count": 105,
     "metadata": {},
     "output_type": "execute_result"
    }
   ],
   "source": [
    "# количество прослушиваний в Санкт-Петербурге по пятницам\n",
    "number_tracks('Friday', 'Saint-Petersburg')"
   ]
  },
  {
   "cell_type": "markdown",
   "metadata": {
    "id": "7QXffbO-_Zcu",
    "tags": [
     "start_task"
    ]
   },
   "source": [
    "Создадим c помощью конструктора `pd.DataFrame` таблицу, где\n",
    "* названия колонок — `['city', 'monday', 'wednesday', 'friday']`;\n",
    "* данные — результаты, которые вы получили с помощью `number_tracks`."
   ]
  },
  {
   "cell_type": "code",
   "execution_count": 106,
   "metadata": {
    "deletable": false,
    "id": "APAcLpOr_Zcu"
   },
   "outputs": [
    {
     "data": {
      "text/html": [
       "<div>\n",
       "<style scoped>\n",
       "    .dataframe tbody tr th:only-of-type {\n",
       "        vertical-align: middle;\n",
       "    }\n",
       "\n",
       "    .dataframe tbody tr th {\n",
       "        vertical-align: top;\n",
       "    }\n",
       "\n",
       "    .dataframe thead th {\n",
       "        text-align: right;\n",
       "    }\n",
       "</style>\n",
       "<table border=\"1\" class=\"dataframe\">\n",
       "  <thead>\n",
       "    <tr style=\"text-align: right;\">\n",
       "      <th></th>\n",
       "      <th>city</th>\n",
       "      <th>monday</th>\n",
       "      <th>wednesday</th>\n",
       "      <th>friday</th>\n",
       "    </tr>\n",
       "  </thead>\n",
       "  <tbody>\n",
       "    <tr>\n",
       "      <th>0</th>\n",
       "      <td>Moscow</td>\n",
       "      <td>15740</td>\n",
       "      <td>11056</td>\n",
       "      <td>15945</td>\n",
       "    </tr>\n",
       "    <tr>\n",
       "      <th>1</th>\n",
       "      <td>Saint-Petersburg</td>\n",
       "      <td>5614</td>\n",
       "      <td>7003</td>\n",
       "      <td>5895</td>\n",
       "    </tr>\n",
       "  </tbody>\n",
       "</table>\n",
       "</div>"
      ],
      "text/plain": [
       "               city  monday  wednesday  friday\n",
       "0            Moscow   15740      11056   15945\n",
       "1  Saint-Petersburg    5614       7003    5895"
      ]
     },
     "execution_count": 106,
     "metadata": {},
     "output_type": "execute_result"
    }
   ],
   "source": [
    "info = pd.DataFrame(data=[['Moscow', 15740, 11056, 15945], ['Saint-Petersburg', 5614, 7003, 5895]], columns=['city', 'monday', 'wednesday', 'friday'])\n",
    "info                                                        "
   ]
  },
  {
   "cell_type": "markdown",
   "metadata": {
    "id": "-EgPIHYu_Zcu",
    "tags": []
   },
   "source": [
    "**Выводы**\n",
    "\n",
    "Данные показывают разницу поведения пользователей:\n",
    "\n",
    "- В Москве пик прослушиваний приходится на понедельник и пятницу, а в среду заметен спад.\n",
    "- В Петербурге, наоборот, больше слушают музыку по средам. Активность в понедельник и пятницу здесь почти в равной мере уступает среде.\n",
    "\n",
    "Значит, данные говорят в пользу первой гипотезы."
   ]
  },
  {
   "cell_type": "markdown",
   "metadata": {
    "id": "atZAxtq4_Zcu",
    "tags": []
   },
   "source": [
    "### Музыка в начале и в конце недели"
   ]
  },
  {
   "cell_type": "markdown",
   "metadata": {
    "id": "eXrQqXFH_Zcu",
    "tags": []
   },
   "source": [
    "Согласно второй гипотезе, утром в понедельник в Москве преобладают одни жанры, а в Петербурге — другие. Так же и вечером пятницы преобладают разные жанры — в зависимости от города."
   ]
  },
  {
   "cell_type": "markdown",
   "metadata": {
    "id": "S8UcW6Hw_Zcu",
    "tags": [
     "start_task"
    ]
   },
   "source": [
    "Сохраним таблицы с данными в две переменные:\n",
    "* по Москве — в `moscow_general`;\n",
    "* по Санкт-Петербургу — в `spb_general`."
   ]
  },
  {
   "cell_type": "code",
   "execution_count": 108,
   "metadata": {
    "deletable": false,
    "id": "qeaFfM_P_Zcu"
   },
   "outputs": [],
   "source": [
    "# получение таблицы moscow_general из тех строк таблицы df, \n",
    "# для которых значение в столбце 'city' равно 'Moscow'\n",
    "moscow_general = df[df['city'] == 'Moscow']"
   ]
  },
  {
   "cell_type": "code",
   "execution_count": 109,
   "metadata": {
    "deletable": false,
    "id": "ORaVRKto_Zcu"
   },
   "outputs": [],
   "source": [
    "# получение таблицы spb_general из тех строк таблицы df,\n",
    "# для которых значение в столбце 'city' равно 'Saint-Petersburg'\n",
    "spb_general = df[df['city'] == 'Saint-Petersburg']"
   ]
  },
  {
   "cell_type": "markdown",
   "metadata": {
    "id": "MEJV-CX2_Zcu",
    "tags": [
     "start_task"
    ]
   },
   "source": [
    "Создадим функцию `genre_weekday()` с четырьмя параметрами:\n",
    "\n",
    "* таблица (датафрейм) с данными,\n",
    "* день недели,\n",
    "* начальная временная метка в формате 'hh:mm', \n",
    "* последняя временная метка в формате 'hh:mm'.\n",
    "\n",
    "Функция должна вернуть информацию о топ-10 жанров тех треков, которые прослушивали в указанный день, в промежутке между двумя отметками времени."
   ]
  },
  {
   "cell_type": "code",
   "execution_count": 110,
   "metadata": {
    "deletable": false,
    "id": "laJT9BYl_Zcu"
   },
   "outputs": [],
   "source": [
    "# Объявление функции genre_weekday() с параметрами table, day, time1, time2,\n",
    "# которая возвращает информацию о самых популярных жанрах в указанный день в\n",
    "# заданное время:\n",
    "# 1) в переменную genre_df сохраняются те строки переданного датафрейма table, для\n",
    "#    которых одновременно:\n",
    "#    - значение в столбце day равно значению аргумента day\n",
    "#    - значение в столбце time больше значения аргумента time1\n",
    "#    - значение в столбце time меньше значения аргумента time2\n",
    "#    Используйте последовательную фильтрацию с помощью логической индексации.\n",
    "# 2) сгруппировать датафрейм genre_df по столбцу genre, взять один из его\n",
    "#    столбцов и посчитать методом count() количество записей для каждого из\n",
    "#    присутствующих жанров, получившийся Series записать в переменную\n",
    "#    genre_df_count\n",
    "# 3) отсортировать genre_df_count по убыванию встречаемости и сохранить\n",
    "#    в переменную genre_df_sorted\n",
    "# 4) вернуть Series из 10 первых значений genre_df_sorted, это будут топ-10\n",
    "#    популярных жанров (в указанный день, в заданное время)\n",
    "\n",
    "def genre_weekday(df, day, time1, time2):\n",
    "    # последовательная фильтрация\n",
    "    # оставляем в genre_df только те строки df, у которых день равен day\n",
    "    genre_df =  genre_df = df[df['day'] == day] # ваш код здесь\n",
    "    # оставляем в genre_df только те строки genre_df, у которых время меньше time2\n",
    "    genre_df =  genre_df = genre_df[genre_df['time'] < time2]  # ваш код здесь\n",
    "    # оставляем в genre_df только те строки genre_df, у которых время больше time1\n",
    "    genre_df =  genre_df = genre_df[genre_df['time'] > time1]  # ваш код здесь\n",
    "    # сгруппируем отфильтрованный датафрейм по столбцу с названиями жанров, возьмём столбец genre и посчитаем кол-во строк для каждого жанра методом count()\n",
    "    genre_df_grouped =  genre_df_grouped = genre_df.groupby('genre')['genre'].count() # ваш код здесь\n",
    "    # отсортируем результат по убыванию (чтобы в начале Series оказались самые популярные жанры)\n",
    "    genre_df_sorted = genre_df_sorted = genre_df_grouped.sort_values(ascending=False)  # ваш код здесь\n",
    "    # вернём Series с 10 самыми популярными жанрами в указанный отрезок времени заданного дня\n",
    "    return genre_df_sorted[:10]"
   ]
  },
  {
   "cell_type": "markdown",
   "metadata": {
    "id": "la2s2_PF_Zcu",
    "tags": [
     "start_task"
    ]
   },
   "source": [
    "Cравним результаты функции `genre_weekday()` для Москвы и Санкт-Петербурга в понедельник утром (с 7:00 до 11:00) и в пятницу вечером (с 17:00 до 23:00):"
   ]
  },
  {
   "cell_type": "code",
   "execution_count": 111,
   "metadata": {
    "deletable": false,
    "id": "yz7itPUQ_Zcu"
   },
   "outputs": [
    {
     "data": {
      "text/plain": [
       "genre\n",
       "pop            781\n",
       "dance          549\n",
       "electronic     480\n",
       "rock           474\n",
       "hiphop         286\n",
       "ruspop         186\n",
       "world          181\n",
       "rusrap         175\n",
       "alternative    164\n",
       "unknown        161\n",
       "Name: genre, dtype: int64"
      ]
     },
     "execution_count": 111,
     "metadata": {},
     "output_type": "execute_result"
    }
   ],
   "source": [
    "# вызов функции для утра понедельника в Москве (вместо df — таблица moscow_general)\n",
    "# объекты, хранящие время, являются строками и сравниваются как строки\n",
    "# пример вызова: genre_weekday(moscow_general, 'Monday', '07:00', '11:00')\n",
    "genre_weekday(moscow_general, 'Monday', '07:00', '11:00')"
   ]
  },
  {
   "cell_type": "code",
   "execution_count": 112,
   "metadata": {
    "deletable": false,
    "id": "kwUcHPdy_Zcu"
   },
   "outputs": [
    {
     "data": {
      "text/plain": [
       "genre\n",
       "pop            218\n",
       "dance          182\n",
       "rock           162\n",
       "electronic     147\n",
       "hiphop          80\n",
       "ruspop          64\n",
       "alternative     58\n",
       "rusrap          55\n",
       "jazz            44\n",
       "classical       40\n",
       "Name: genre, dtype: int64"
      ]
     },
     "execution_count": 112,
     "metadata": {},
     "output_type": "execute_result"
    }
   ],
   "source": [
    "# вызов функции для утра понедельника в Петербурге (вместо df — таблица spb_general)\n",
    "genre_weekday(spb_general, 'Monday', '07:00', '11:00')"
   ]
  },
  {
   "cell_type": "code",
   "execution_count": 113,
   "metadata": {
    "deletable": false,
    "id": "EzXVRE1o_Zcu"
   },
   "outputs": [
    {
     "data": {
      "text/plain": [
       "genre\n",
       "pop            713\n",
       "rock           517\n",
       "dance          495\n",
       "electronic     482\n",
       "hiphop         273\n",
       "world          208\n",
       "ruspop         170\n",
       "alternative    163\n",
       "classical      163\n",
       "rusrap         142\n",
       "Name: genre, dtype: int64"
      ]
     },
     "execution_count": 113,
     "metadata": {},
     "output_type": "execute_result"
    }
   ],
   "source": [
    "# вызов функции для вечера пятницы в Москве\n",
    "genre_weekday(moscow_general, 'Friday', '17:00', '23:00')"
   ]
  },
  {
   "cell_type": "code",
   "execution_count": 114,
   "metadata": {
    "deletable": false,
    "id": "JZaEKu5v_Zcu"
   },
   "outputs": [
    {
     "data": {
      "text/plain": [
       "genre\n",
       "pop            256\n",
       "electronic     216\n",
       "rock           216\n",
       "dance          210\n",
       "hiphop          97\n",
       "alternative     63\n",
       "jazz            61\n",
       "classical       60\n",
       "rusrap          59\n",
       "world           54\n",
       "Name: genre, dtype: int64"
      ]
     },
     "execution_count": 114,
     "metadata": {},
     "output_type": "execute_result"
    }
   ],
   "source": [
    "# вызов функции для вечера пятницы в Петербурге\n",
    "genre_weekday(spb_general, 'Friday', '17:00', '23:00')"
   ]
  },
  {
   "cell_type": "markdown",
   "metadata": {
    "id": "wrCe4MNX_Zcu",
    "tags": []
   },
   "source": [
    "**Выводы**\n",
    "\n",
    "Если сравнить топ-10 жанров в понедельник утром, можно сделать такие выводы:\n",
    "\n",
    "1. В Москве и Петербурге слушают похожую музыку. Единственное отличие — в московский рейтинг вошёл жанр “world”, а в петербургский — джаз и классика.\n",
    "\n",
    "2. В Москве пропущенных значений оказалось так много, что значение `'unknown'` заняло десятое место среди самых популярных жанров. Значит, пропущенные значения занимают существенную долю в данных и угрожают достоверности исследования.\n",
    "\n",
    "Вечер пятницы не меняет эту картину. Некоторые жанры поднимаются немного выше, другие спускаются, но в целом топ-10 остаётся тем же самым.\n",
    "\n",
    "Таким образом, вторая гипотеза подтвердилась лишь частично:\n",
    "* Пользователи слушают похожую музыку в начале недели и в конце.\n",
    "* Разница между Москвой и Петербургом не слишком выражена. В Москве чаще слушают русскую популярную музыку, в Петербурге — джаз.\n",
    "\n",
    "Однако пропуски в данных ставят под сомнение этот результат. В Москве их так много, что рейтинг топ-10 мог бы выглядеть иначе, если бы не утерянные  данные о жанрах."
   ]
  },
  {
   "cell_type": "markdown",
   "metadata": {
    "id": "JolODAqr_Zcu",
    "tags": []
   },
   "source": [
    "### Жанровые предпочтения в Москве и Петербурге\n",
    "\n",
    "Гипотеза: Петербург — столица рэпа, музыку этого жанра там слушают чаще, чем в Москве.  А Москва — город контрастов, в котором, тем не менее, преобладает поп-музыка."
   ]
  },
  {
   "cell_type": "markdown",
   "metadata": {
    "id": "DlegSvaT_Zcu",
    "tags": [
     "start_task"
    ]
   },
   "source": [
    "Сгруппируем таблицу `moscow_general` по жанру и посчитаем прослушивания треков каждого жанра методом `count()`. Затем отсортируем результат в порядке убывания и сохраним его в таблице `moscow_genres`."
   ]
  },
  {
   "cell_type": "code",
   "execution_count": 115,
   "metadata": {
    "deletable": false,
    "id": "r19lIPke_Zcu"
   },
   "outputs": [],
   "source": [
    "# одной строкой: группировка таблицы moscow_general по столбцу 'genre', \n",
    "# подсчёт числа значений 'genre' в этой группировке методом count(), \n",
    "# сортировка получившегося Series в порядке убывания и сохранение в moscow_genres\n",
    "moscow_genres = moscow_general.groupby('genre')['genre'].count().sort_values(ascending = False)"
   ]
  },
  {
   "cell_type": "markdown",
   "metadata": {
    "id": "6kMuomxTiIr8",
    "tags": [
     "start_task"
    ]
   },
   "source": [
    "Выведем на экран первые десять строк `moscow_genres`:"
   ]
  },
  {
   "cell_type": "code",
   "execution_count": 116,
   "metadata": {
    "deletable": false,
    "id": "WhCSooF8_Zcv"
   },
   "outputs": [
    {
     "data": {
      "text/plain": [
       "genre\n",
       "pop            5892\n",
       "dance          4435\n",
       "rock           3965\n",
       "electronic     3786\n",
       "hiphop         2096\n",
       "classical      1616\n",
       "world          1432\n",
       "alternative    1379\n",
       "ruspop         1372\n",
       "rusrap         1161\n",
       "Name: genre, dtype: int64"
      ]
     },
     "execution_count": 116,
     "metadata": {},
     "output_type": "execute_result"
    }
   ],
   "source": [
    "# просмотр первых 10 строк moscow_genres\n",
    "moscow_genres.head(10)"
   ]
  },
  {
   "cell_type": "markdown",
   "metadata": {
    "id": "cnPG2vnN_Zcv",
    "tags": [
     "start_task"
    ]
   },
   "source": [
    "Сделаем то же и для Петербурга.\n",
    "\n",
    "Сгруппируем таблицу `spb_general` по жанру. Посчитаем прослушивания треков каждого жанра. Результат отсортируем в порядке убывания и сохраним в таблице `spb_genres`:"
   ]
  },
  {
   "cell_type": "code",
   "execution_count": 117,
   "metadata": {
    "deletable": false,
    "id": "gluLIpE7_Zcv"
   },
   "outputs": [],
   "source": [
    "# одной строкой: группировка таблицы spb_general по столбцу 'genre', \n",
    "# подсчёт числа значений 'genre' в этой группировке методом count(), \n",
    "# сортировка получившегося Series в порядке убывания и сохранение в spb_genres\n",
    "spb_genres = spb_general.groupby('genre')['genre'].count().sort_values(ascending = False)"
   ]
  },
  {
   "cell_type": "markdown",
   "metadata": {
    "id": "5Doha_ODgyQ8",
    "tags": [
     "start_task"
    ]
   },
   "source": [
    "Выведем на экран первые десять строк `spb_genres`:"
   ]
  },
  {
   "cell_type": "code",
   "execution_count": 118,
   "metadata": {
    "deletable": false,
    "id": "uaGJHjVU_Zcv"
   },
   "outputs": [
    {
     "data": {
      "text/plain": [
       "genre\n",
       "pop            2431\n",
       "dance          1932\n",
       "rock           1879\n",
       "electronic     1736\n",
       "hiphop          960\n",
       "alternative     649\n",
       "classical       646\n",
       "rusrap          564\n",
       "ruspop          538\n",
       "world           515\n",
       "Name: genre, dtype: int64"
      ]
     },
     "execution_count": 118,
     "metadata": {},
     "output_type": "execute_result"
    }
   ],
   "source": [
    "# просмотр первых 10 строк spb_genres\n",
    "spb_genres.head(10)"
   ]
  },
  {
   "cell_type": "markdown",
   "metadata": {
    "id": "RY51YJYu_Zcv",
    "tags": []
   },
   "source": [
    "**Выводы**"
   ]
  },
  {
   "cell_type": "markdown",
   "metadata": {
    "id": "nVhnJEm__Zcv",
    "tags": []
   },
   "source": [
    "Гипотеза частично подтвердилась:\n",
    "* Поп-музыка — самый популярный жанр в Москве, как и предполагала гипотеза. Более того, в топ-10 жанров встречается близкий жанр — русская популярная музыка.\n",
    "* Вопреки ожиданиям, рэп одинаково популярен в Москве и Петербурге. \n"
   ]
  },
  {
   "cell_type": "markdown",
   "metadata": {
    "id": "ykKQ0N65_Zcv",
    "tags": []
   },
   "source": [
    "## Итоги исследования"
   ]
  },
  {
   "cell_type": "markdown",
   "metadata": {
    "id": "tjUwbHb3_Zcv",
    "tags": []
   },
   "source": [
    "Мы проверили три гипотезы и установили:\n",
    "\n",
    "1. День недели по-разному влияет на активность пользователей в Москве и Петербурге. \n",
    "\n",
    "Первая гипотеза полностью подтвердилась.\n",
    "\n",
    "2. Музыкальные предпочтения не сильно меняются в течение недели — будь то Москва или Петербург. Небольшие различия заметны в начале недели, по понедельникам:\n",
    "* в Москве слушают музыку жанра “world”,\n",
    "* в Петербурге — джаз и классику.\n",
    "\n",
    "Таким образом, вторая гипотеза подтвердилась лишь отчасти. Этот результат мог оказаться иным, если бы не пропуски в данных.\n",
    "\n",
    "3. Во вкусах пользователей Москвы и Петербурга больше общего чем различий. Вопреки ожиданиям, предпочтения жанров в Петербурге напоминают московские.\n",
    "\n",
    "Третья гипотеза не подтвердилась. Если различия в предпочтениях и существуют, на основной массе пользователей они незаметны.\n",
    "\n",
    "**На практике исследования содержат проверки статистических гипотез.**\n",
    "Из данных одного сервиса не всегда можно сделать вывод о всех жителях города.\n",
    "Проверки статистических гипотез покажут, насколько они достоверны, исходя из имеющихся данных. \n",
    "С методами проверок гипотез вы ещё познакомитесь в следующих темах."
   ]
  }
 ],
 "metadata": {
  "ExecuteTimeLog": [
   {
    "duration": 395,
    "start_time": "2022-07-06T10:25:50.239Z"
   },
   {
    "duration": 73,
    "start_time": "2022-07-06T11:08:31.336Z"
   },
   {
    "duration": 64,
    "start_time": "2022-07-06T11:08:40.997Z"
   },
   {
    "duration": 47,
    "start_time": "2022-07-06T11:09:47.335Z"
   },
   {
    "duration": 38,
    "start_time": "2022-07-06T11:09:50.901Z"
   },
   {
    "duration": 82,
    "start_time": "2022-07-06T11:10:02.105Z"
   },
   {
    "duration": 32,
    "start_time": "2022-07-06T11:11:27.539Z"
   },
   {
    "duration": 27,
    "start_time": "2022-07-06T11:12:00.740Z"
   },
   {
    "duration": 204,
    "start_time": "2022-07-06T11:12:15.033Z"
   },
   {
    "duration": 16,
    "start_time": "2022-07-06T11:14:41.369Z"
   },
   {
    "duration": 37,
    "start_time": "2022-07-06T11:15:47.318Z"
   },
   {
    "duration": 50,
    "start_time": "2022-07-06T11:17:38.385Z"
   },
   {
    "duration": 56,
    "start_time": "2022-07-06T11:17:46.902Z"
   },
   {
    "duration": 3,
    "start_time": "2022-07-06T11:18:38.842Z"
   },
   {
    "duration": 3,
    "start_time": "2022-07-06T11:25:12.173Z"
   },
   {
    "duration": 2,
    "start_time": "2022-07-06T11:25:18.566Z"
   },
   {
    "duration": 3,
    "start_time": "2022-07-06T11:30:18.911Z"
   },
   {
    "duration": 7,
    "start_time": "2022-07-06T11:35:01.474Z"
   },
   {
    "duration": 7,
    "start_time": "2022-07-06T11:35:41.159Z"
   },
   {
    "duration": 7,
    "start_time": "2022-07-06T11:35:44.297Z"
   },
   {
    "duration": 6,
    "start_time": "2022-07-06T11:35:51.568Z"
   },
   {
    "duration": 4,
    "start_time": "2022-07-06T11:36:23.770Z"
   },
   {
    "duration": 7,
    "start_time": "2022-07-06T11:38:04.899Z"
   },
   {
    "duration": 11,
    "start_time": "2022-07-06T11:38:16.102Z"
   },
   {
    "duration": 20,
    "start_time": "2022-07-06T11:42:32.334Z"
   },
   {
    "duration": 13,
    "start_time": "2022-07-06T11:43:53.904Z"
   },
   {
    "duration": 5,
    "start_time": "2022-07-06T11:44:09.783Z"
   },
   {
    "duration": 25,
    "start_time": "2022-07-06T11:47:53.043Z"
   },
   {
    "duration": 18,
    "start_time": "2022-07-06T11:54:48.450Z"
   },
   {
    "duration": 24,
    "start_time": "2022-07-06T11:55:16.731Z"
   },
   {
    "duration": 65,
    "start_time": "2022-07-06T11:59:06.138Z"
   },
   {
    "duration": 7,
    "start_time": "2022-07-06T11:59:24.044Z"
   },
   {
    "duration": 7,
    "start_time": "2022-07-06T11:59:37.041Z"
   },
   {
    "duration": 9,
    "start_time": "2022-07-06T11:59:41.636Z"
   },
   {
    "duration": 7,
    "start_time": "2022-07-06T11:59:44.088Z"
   },
   {
    "duration": 7,
    "start_time": "2022-07-06T11:59:56.008Z"
   },
   {
    "duration": 7,
    "start_time": "2022-07-06T12:00:24.680Z"
   },
   {
    "duration": 7,
    "start_time": "2022-07-06T12:00:33.943Z"
   },
   {
    "duration": 3,
    "start_time": "2022-07-06T12:01:03.594Z"
   },
   {
    "duration": 4,
    "start_time": "2022-07-06T12:01:06.133Z"
   },
   {
    "duration": 7,
    "start_time": "2022-07-06T12:01:10.034Z"
   },
   {
    "duration": 7,
    "start_time": "2022-07-06T12:01:20.034Z"
   },
   {
    "duration": 6,
    "start_time": "2022-07-06T12:01:24.736Z"
   },
   {
    "duration": 7,
    "start_time": "2022-07-06T12:01:59.982Z"
   },
   {
    "duration": 6,
    "start_time": "2022-07-06T12:02:16.182Z"
   },
   {
    "duration": 9,
    "start_time": "2022-07-06T12:02:24.584Z"
   },
   {
    "duration": 2,
    "start_time": "2022-07-06T12:02:26.328Z"
   },
   {
    "duration": 7,
    "start_time": "2022-07-06T12:02:34.128Z"
   },
   {
    "duration": 7,
    "start_time": "2022-07-06T12:02:42.724Z"
   },
   {
    "duration": 8,
    "start_time": "2022-07-06T12:03:16.329Z"
   },
   {
    "duration": 7,
    "start_time": "2022-07-06T12:03:23.750Z"
   },
   {
    "duration": 7,
    "start_time": "2022-07-06T12:03:26.573Z"
   },
   {
    "duration": 8,
    "start_time": "2022-07-06T12:03:44.083Z"
   },
   {
    "duration": 7,
    "start_time": "2022-07-06T12:03:47.484Z"
   },
   {
    "duration": 8,
    "start_time": "2022-07-06T12:03:49.984Z"
   },
   {
    "duration": 6,
    "start_time": "2022-07-06T12:03:51.636Z"
   },
   {
    "duration": 7,
    "start_time": "2022-07-06T12:04:30.425Z"
   },
   {
    "duration": 9,
    "start_time": "2022-07-06T12:05:21.530Z"
   },
   {
    "duration": 13,
    "start_time": "2022-07-06T12:06:54.537Z"
   },
   {
    "duration": 7,
    "start_time": "2022-07-06T12:08:46.628Z"
   },
   {
    "duration": 48,
    "start_time": "2022-07-06T12:12:05.449Z"
   },
   {
    "duration": 7,
    "start_time": "2022-07-06T12:12:41.098Z"
   },
   {
    "duration": 48,
    "start_time": "2022-07-06T12:13:31.062Z"
   },
   {
    "duration": 7,
    "start_time": "2022-07-06T12:15:59.884Z"
   },
   {
    "duration": 6,
    "start_time": "2022-07-06T12:16:29.072Z"
   },
   {
    "duration": 6,
    "start_time": "2022-07-06T12:16:35.641Z"
   },
   {
    "duration": 6,
    "start_time": "2022-07-06T12:36:30.688Z"
   },
   {
    "duration": 6,
    "start_time": "2022-07-06T12:36:55.554Z"
   },
   {
    "duration": 6,
    "start_time": "2022-07-06T12:37:13.343Z"
   },
   {
    "duration": 7,
    "start_time": "2022-07-06T12:38:26.073Z"
   },
   {
    "duration": 44,
    "start_time": "2022-07-06T12:45:24.376Z"
   },
   {
    "duration": 6,
    "start_time": "2022-07-06T12:45:26.802Z"
   },
   {
    "duration": 5,
    "start_time": "2022-07-06T12:45:28.672Z"
   },
   {
    "duration": 402,
    "start_time": "2022-07-06T12:45:39.338Z"
   },
   {
    "duration": 147,
    "start_time": "2022-07-06T12:45:39.743Z"
   },
   {
    "duration": 16,
    "start_time": "2022-07-06T12:45:39.891Z"
   },
   {
    "duration": 48,
    "start_time": "2022-07-06T12:45:39.909Z"
   },
   {
    "duration": 2,
    "start_time": "2022-07-06T12:45:39.960Z"
   },
   {
    "duration": 10,
    "start_time": "2022-07-06T12:45:39.963Z"
   },
   {
    "duration": 13,
    "start_time": "2022-07-06T12:45:39.974Z"
   },
   {
    "duration": 10,
    "start_time": "2022-07-06T12:45:39.989Z"
   },
   {
    "duration": 52,
    "start_time": "2022-07-06T12:45:40.001Z"
   },
   {
    "duration": 24,
    "start_time": "2022-07-06T12:45:40.055Z"
   },
   {
    "duration": 24,
    "start_time": "2022-07-06T12:45:40.081Z"
   },
   {
    "duration": 83,
    "start_time": "2022-07-06T12:45:40.106Z"
   },
   {
    "duration": 87,
    "start_time": "2022-07-06T12:45:40.191Z"
   },
   {
    "duration": 2,
    "start_time": "2022-07-06T12:45:40.281Z"
   },
   {
    "duration": 9,
    "start_time": "2022-07-06T12:45:40.284Z"
   },
   {
    "duration": 7,
    "start_time": "2022-07-06T12:45:40.294Z"
   },
   {
    "duration": 14,
    "start_time": "2022-07-06T12:45:40.302Z"
   },
   {
    "duration": 7,
    "start_time": "2022-07-06T12:45:40.317Z"
   },
   {
    "duration": 18,
    "start_time": "2022-07-06T12:45:40.332Z"
   },
   {
    "duration": 9,
    "start_time": "2022-07-06T12:45:40.353Z"
   },
   {
    "duration": 10,
    "start_time": "2022-07-06T12:45:40.364Z"
   },
   {
    "duration": 10,
    "start_time": "2022-07-06T12:45:40.375Z"
   },
   {
    "duration": 7,
    "start_time": "2022-07-06T12:45:40.387Z"
   },
   {
    "duration": 6,
    "start_time": "2022-07-06T12:45:40.395Z"
   },
   {
    "duration": 8,
    "start_time": "2022-07-06T12:45:40.402Z"
   },
   {
    "duration": 5,
    "start_time": "2022-07-06T12:45:40.412Z"
   },
   {
    "duration": 27,
    "start_time": "2022-07-06T12:45:40.418Z"
   },
   {
    "duration": 9,
    "start_time": "2022-07-06T12:45:40.447Z"
   },
   {
    "duration": 7,
    "start_time": "2022-07-06T12:45:40.457Z"
   },
   {
    "duration": 54,
    "start_time": "2022-07-06T12:45:40.466Z"
   },
   {
    "duration": 0,
    "start_time": "2022-07-06T12:45:40.521Z"
   },
   {
    "duration": 0,
    "start_time": "2022-07-06T12:45:40.522Z"
   },
   {
    "duration": 0,
    "start_time": "2022-07-06T12:45:40.523Z"
   },
   {
    "duration": 0,
    "start_time": "2022-07-06T12:45:40.524Z"
   },
   {
    "duration": 0,
    "start_time": "2022-07-06T12:45:40.525Z"
   },
   {
    "duration": 0,
    "start_time": "2022-07-06T12:45:40.525Z"
   },
   {
    "duration": 0,
    "start_time": "2022-07-06T12:45:40.529Z"
   },
   {
    "duration": 0,
    "start_time": "2022-07-06T12:45:40.530Z"
   },
   {
    "duration": 76,
    "start_time": "2022-07-06T12:55:37.739Z"
   },
   {
    "duration": 83,
    "start_time": "2022-07-06T12:57:36.543Z"
   },
   {
    "duration": 61,
    "start_time": "2022-07-06T12:57:50.803Z"
   },
   {
    "duration": 101,
    "start_time": "2022-07-06T12:59:10.994Z"
   },
   {
    "duration": 25,
    "start_time": "2022-07-06T12:59:20.590Z"
   },
   {
    "duration": 94,
    "start_time": "2022-07-06T12:59:28.738Z"
   },
   {
    "duration": 81,
    "start_time": "2022-07-06T13:00:05.141Z"
   },
   {
    "duration": 99,
    "start_time": "2022-07-06T13:00:11.675Z"
   },
   {
    "duration": 100,
    "start_time": "2022-07-06T13:01:56.513Z"
   },
   {
    "duration": 36,
    "start_time": "2022-07-06T13:02:10.106Z"
   },
   {
    "duration": 27,
    "start_time": "2022-07-06T13:03:04.937Z"
   },
   {
    "duration": 466,
    "start_time": "2022-07-06T13:03:16.740Z"
   },
   {
    "duration": 242,
    "start_time": "2022-07-06T13:03:17.208Z"
   },
   {
    "duration": 36,
    "start_time": "2022-07-06T13:03:17.456Z"
   },
   {
    "duration": 100,
    "start_time": "2022-07-06T13:03:17.495Z"
   },
   {
    "duration": 24,
    "start_time": "2022-07-06T13:03:17.599Z"
   },
   {
    "duration": 64,
    "start_time": "2022-07-06T13:03:17.625Z"
   },
   {
    "duration": 62,
    "start_time": "2022-07-06T13:03:17.691Z"
   },
   {
    "duration": 26,
    "start_time": "2022-07-06T13:03:17.757Z"
   },
   {
    "duration": 65,
    "start_time": "2022-07-06T13:03:17.786Z"
   },
   {
    "duration": 39,
    "start_time": "2022-07-06T13:03:17.853Z"
   },
   {
    "duration": 44,
    "start_time": "2022-07-06T13:03:17.896Z"
   },
   {
    "duration": 125,
    "start_time": "2022-07-06T13:03:17.943Z"
   },
   {
    "duration": 135,
    "start_time": "2022-07-06T13:03:18.070Z"
   },
   {
    "duration": 83,
    "start_time": "2022-07-06T13:03:18.211Z"
   },
   {
    "duration": 3,
    "start_time": "2022-07-06T13:03:18.296Z"
   },
   {
    "duration": 24,
    "start_time": "2022-07-06T13:03:18.301Z"
   },
   {
    "duration": 34,
    "start_time": "2022-07-06T13:03:18.327Z"
   },
   {
    "duration": 29,
    "start_time": "2022-07-06T13:03:18.363Z"
   },
   {
    "duration": 20,
    "start_time": "2022-07-06T13:03:18.395Z"
   },
   {
    "duration": 10,
    "start_time": "2022-07-06T13:03:18.418Z"
   },
   {
    "duration": 36,
    "start_time": "2022-07-06T13:03:18.430Z"
   },
   {
    "duration": 25,
    "start_time": "2022-07-06T13:03:18.468Z"
   },
   {
    "duration": 32,
    "start_time": "2022-07-06T13:03:18.495Z"
   },
   {
    "duration": 15,
    "start_time": "2022-07-06T13:03:18.529Z"
   },
   {
    "duration": 24,
    "start_time": "2022-07-06T13:03:18.546Z"
   },
   {
    "duration": 25,
    "start_time": "2022-07-06T13:03:18.572Z"
   },
   {
    "duration": 8,
    "start_time": "2022-07-06T13:03:18.600Z"
   },
   {
    "duration": 14,
    "start_time": "2022-07-06T13:03:18.610Z"
   },
   {
    "duration": 24,
    "start_time": "2022-07-06T13:03:18.626Z"
   },
   {
    "duration": 64,
    "start_time": "2022-07-06T13:03:18.652Z"
   },
   {
    "duration": 0,
    "start_time": "2022-07-06T13:03:18.718Z"
   },
   {
    "duration": 0,
    "start_time": "2022-07-06T13:03:18.719Z"
   },
   {
    "duration": 0,
    "start_time": "2022-07-06T13:03:18.721Z"
   },
   {
    "duration": 0,
    "start_time": "2022-07-06T13:03:18.723Z"
   },
   {
    "duration": 0,
    "start_time": "2022-07-06T13:03:18.724Z"
   },
   {
    "duration": 0,
    "start_time": "2022-07-06T13:03:18.725Z"
   },
   {
    "duration": 0,
    "start_time": "2022-07-06T13:03:18.727Z"
   },
   {
    "duration": 0,
    "start_time": "2022-07-06T13:03:18.728Z"
   },
   {
    "duration": 70,
    "start_time": "2022-07-06T13:08:08.096Z"
   },
   {
    "duration": 59,
    "start_time": "2022-07-06T13:08:18.055Z"
   },
   {
    "duration": 7,
    "start_time": "2022-07-06T13:23:48.448Z"
   },
   {
    "duration": 945,
    "start_time": "2022-07-06T13:33:50.305Z"
   },
   {
    "duration": 9,
    "start_time": "2022-07-06T13:34:01.144Z"
   },
   {
    "duration": 106,
    "start_time": "2022-07-06T13:36:51.609Z"
   },
   {
    "duration": 18,
    "start_time": "2022-07-06T13:37:28.865Z"
   },
   {
    "duration": 10,
    "start_time": "2022-07-06T13:43:10.566Z"
   },
   {
    "duration": 11,
    "start_time": "2022-07-06T13:45:04.309Z"
   },
   {
    "duration": 10,
    "start_time": "2022-07-06T13:45:10.756Z"
   },
   {
    "duration": 9,
    "start_time": "2022-07-06T13:45:27.213Z"
   },
   {
    "duration": 11,
    "start_time": "2022-07-06T13:45:58.957Z"
   },
   {
    "duration": 6,
    "start_time": "2022-07-06T13:46:16.991Z"
   },
   {
    "duration": 9,
    "start_time": "2022-07-06T13:46:28.751Z"
   },
   {
    "duration": 10,
    "start_time": "2022-07-06T13:46:39.774Z"
   },
   {
    "duration": 16,
    "start_time": "2022-07-06T13:48:21.231Z"
   },
   {
    "duration": 7,
    "start_time": "2022-07-06T13:48:46.153Z"
   },
   {
    "duration": 5,
    "start_time": "2022-07-06T13:48:58.250Z"
   },
   {
    "duration": 12,
    "start_time": "2022-07-06T13:49:16.973Z"
   },
   {
    "duration": 10,
    "start_time": "2022-07-06T13:49:51.285Z"
   },
   {
    "duration": 13,
    "start_time": "2022-07-06T13:50:23.601Z"
   },
   {
    "duration": 7,
    "start_time": "2022-07-06T13:50:46.094Z"
   },
   {
    "duration": 485,
    "start_time": "2022-07-06T13:52:48.910Z"
   },
   {
    "duration": 10,
    "start_time": "2022-07-06T13:53:13.431Z"
   },
   {
    "duration": 7,
    "start_time": "2022-07-06T13:53:27.187Z"
   },
   {
    "duration": 8,
    "start_time": "2022-07-06T13:58:00.343Z"
   },
   {
    "duration": 10,
    "start_time": "2022-07-06T14:02:02.673Z"
   },
   {
    "duration": 885,
    "start_time": "2022-07-06T14:12:04.680Z"
   },
   {
    "duration": 10,
    "start_time": "2022-07-06T14:12:34.045Z"
   },
   {
    "duration": 6,
    "start_time": "2022-07-06T14:13:34.866Z"
   },
   {
    "duration": 61,
    "start_time": "2022-07-06T14:34:09.858Z"
   },
   {
    "duration": 8,
    "start_time": "2022-07-06T14:35:13.802Z"
   },
   {
    "duration": 62,
    "start_time": "2022-07-06T14:36:04.299Z"
   },
   {
    "duration": 48,
    "start_time": "2022-07-06T14:36:15.639Z"
   },
   {
    "duration": 68,
    "start_time": "2022-07-06T14:36:26.882Z"
   },
   {
    "duration": 60,
    "start_time": "2022-07-06T14:36:38.330Z"
   },
   {
    "duration": 49,
    "start_time": "2022-07-06T14:36:48.163Z"
   },
   {
    "duration": 53,
    "start_time": "2022-07-06T14:36:51.939Z"
   },
   {
    "duration": 60,
    "start_time": "2022-07-06T14:37:06.898Z"
   },
   {
    "duration": 84,
    "start_time": "2022-07-06T14:37:17.425Z"
   },
   {
    "duration": 10,
    "start_time": "2022-07-06T14:39:04.097Z"
   },
   {
    "duration": 17,
    "start_time": "2022-07-06T14:40:07.226Z"
   },
   {
    "duration": 14,
    "start_time": "2022-07-06T14:40:09.819Z"
   },
   {
    "duration": 11,
    "start_time": "2022-07-06T14:41:03.962Z"
   },
   {
    "duration": 16,
    "start_time": "2022-07-06T14:41:08.905Z"
   },
   {
    "duration": 8,
    "start_time": "2022-07-06T14:50:00.160Z"
   },
   {
    "duration": 8,
    "start_time": "2022-07-06T14:50:05.105Z"
   },
   {
    "duration": 9,
    "start_time": "2022-07-06T14:50:14.240Z"
   },
   {
    "duration": 8,
    "start_time": "2022-07-06T14:50:31.642Z"
   },
   {
    "duration": 3,
    "start_time": "2022-07-06T14:50:56.519Z"
   },
   {
    "duration": 5,
    "start_time": "2022-07-06T15:54:42.505Z"
   },
   {
    "duration": 7,
    "start_time": "2022-07-06T15:55:36.569Z"
   },
   {
    "duration": 9,
    "start_time": "2022-07-06T15:57:30.692Z"
   },
   {
    "duration": 9,
    "start_time": "2022-07-06T15:57:39.840Z"
   },
   {
    "duration": 12,
    "start_time": "2022-07-06T15:57:41.981Z"
   },
   {
    "duration": 7,
    "start_time": "2022-07-06T16:01:07.324Z"
   },
   {
    "duration": 10,
    "start_time": "2022-07-06T16:07:24.453Z"
   },
   {
    "duration": 14,
    "start_time": "2022-07-06T16:12:25.031Z"
   },
   {
    "duration": 51,
    "start_time": "2022-07-06T16:14:07.616Z"
   },
   {
    "duration": 61,
    "start_time": "2022-07-06T16:14:12.971Z"
   },
   {
    "duration": 49,
    "start_time": "2022-07-06T16:14:34.783Z"
   },
   {
    "duration": 6,
    "start_time": "2022-07-06T16:45:30.216Z"
   },
   {
    "duration": 38,
    "start_time": "2022-07-06T17:27:43.639Z"
   },
   {
    "duration": 81,
    "start_time": "2022-07-07T08:00:34.573Z"
   },
   {
    "duration": 43,
    "start_time": "2022-07-07T08:02:57.557Z"
   },
   {
    "duration": 7,
    "start_time": "2022-07-07T08:03:05.968Z"
   },
   {
    "duration": 7,
    "start_time": "2022-07-07T08:03:09.403Z"
   },
   {
    "duration": 349,
    "start_time": "2022-07-07T08:03:20.809Z"
   },
   {
    "duration": 819,
    "start_time": "2022-07-07T08:03:21.160Z"
   },
   {
    "duration": 18,
    "start_time": "2022-07-07T08:03:21.980Z"
   },
   {
    "duration": 27,
    "start_time": "2022-07-07T08:03:22.000Z"
   },
   {
    "duration": 3,
    "start_time": "2022-07-07T08:03:22.028Z"
   },
   {
    "duration": 6,
    "start_time": "2022-07-07T08:03:22.033Z"
   },
   {
    "duration": 14,
    "start_time": "2022-07-07T08:03:22.041Z"
   },
   {
    "duration": 6,
    "start_time": "2022-07-07T08:03:22.057Z"
   },
   {
    "duration": 25,
    "start_time": "2022-07-07T08:03:22.064Z"
   },
   {
    "duration": 18,
    "start_time": "2022-07-07T08:03:22.092Z"
   },
   {
    "duration": 43,
    "start_time": "2022-07-07T08:03:22.112Z"
   },
   {
    "duration": 66,
    "start_time": "2022-07-07T08:03:22.157Z"
   },
   {
    "duration": 99,
    "start_time": "2022-07-07T08:03:22.225Z"
   },
   {
    "duration": 66,
    "start_time": "2022-07-07T08:03:22.325Z"
   },
   {
    "duration": 33,
    "start_time": "2022-07-07T08:03:22.392Z"
   },
   {
    "duration": 9,
    "start_time": "2022-07-07T08:03:22.426Z"
   },
   {
    "duration": 48,
    "start_time": "2022-07-07T08:03:22.437Z"
   },
   {
    "duration": 10,
    "start_time": "2022-07-07T08:03:22.486Z"
   },
   {
    "duration": 16,
    "start_time": "2022-07-07T08:03:22.498Z"
   },
   {
    "duration": 3,
    "start_time": "2022-07-07T08:03:22.515Z"
   },
   {
    "duration": 8,
    "start_time": "2022-07-07T08:03:22.519Z"
   },
   {
    "duration": 5,
    "start_time": "2022-07-07T08:03:22.528Z"
   },
   {
    "duration": 17,
    "start_time": "2022-07-07T08:03:22.535Z"
   },
   {
    "duration": 4,
    "start_time": "2022-07-07T08:03:22.553Z"
   },
   {
    "duration": 10,
    "start_time": "2022-07-07T08:03:22.558Z"
   },
   {
    "duration": 11,
    "start_time": "2022-07-07T08:03:22.569Z"
   },
   {
    "duration": 8,
    "start_time": "2022-07-07T08:03:22.583Z"
   },
   {
    "duration": 13,
    "start_time": "2022-07-07T08:03:22.595Z"
   },
   {
    "duration": 9,
    "start_time": "2022-07-07T08:03:22.610Z"
   },
   {
    "duration": 167,
    "start_time": "2022-07-07T08:03:22.620Z"
   },
   {
    "duration": 0,
    "start_time": "2022-07-07T08:03:22.788Z"
   },
   {
    "duration": 0,
    "start_time": "2022-07-07T08:03:22.789Z"
   },
   {
    "duration": 0,
    "start_time": "2022-07-07T08:03:22.790Z"
   },
   {
    "duration": 0,
    "start_time": "2022-07-07T08:03:22.792Z"
   },
   {
    "duration": 0,
    "start_time": "2022-07-07T08:03:22.793Z"
   },
   {
    "duration": 0,
    "start_time": "2022-07-07T08:03:22.794Z"
   },
   {
    "duration": 0,
    "start_time": "2022-07-07T08:03:22.795Z"
   },
   {
    "duration": 0,
    "start_time": "2022-07-07T08:03:22.796Z"
   },
   {
    "duration": 59,
    "start_time": "2022-07-07T08:31:32.364Z"
   },
   {
    "duration": 7,
    "start_time": "2022-07-07T08:31:32.743Z"
   },
   {
    "duration": 7,
    "start_time": "2022-07-07T08:31:34.095Z"
   },
   {
    "duration": 7,
    "start_time": "2022-07-07T08:31:34.700Z"
   },
   {
    "duration": 8,
    "start_time": "2022-07-07T08:31:35.306Z"
   },
   {
    "duration": 347,
    "start_time": "2022-07-07T08:31:41.422Z"
   },
   {
    "duration": 169,
    "start_time": "2022-07-07T08:31:41.776Z"
   },
   {
    "duration": 23,
    "start_time": "2022-07-07T08:31:41.947Z"
   },
   {
    "duration": 33,
    "start_time": "2022-07-07T08:31:41.971Z"
   },
   {
    "duration": 3,
    "start_time": "2022-07-07T08:31:42.006Z"
   },
   {
    "duration": 12,
    "start_time": "2022-07-07T08:31:42.010Z"
   },
   {
    "duration": 15,
    "start_time": "2022-07-07T08:31:42.024Z"
   },
   {
    "duration": 13,
    "start_time": "2022-07-07T08:31:42.041Z"
   },
   {
    "duration": 31,
    "start_time": "2022-07-07T08:31:42.058Z"
   },
   {
    "duration": 19,
    "start_time": "2022-07-07T08:31:42.091Z"
   },
   {
    "duration": 21,
    "start_time": "2022-07-07T08:31:42.112Z"
   },
   {
    "duration": 77,
    "start_time": "2022-07-07T08:31:42.134Z"
   },
   {
    "duration": 81,
    "start_time": "2022-07-07T08:31:42.212Z"
   },
   {
    "duration": 70,
    "start_time": "2022-07-07T08:31:42.295Z"
   },
   {
    "duration": 41,
    "start_time": "2022-07-07T08:31:42.367Z"
   },
   {
    "duration": 10,
    "start_time": "2022-07-07T08:31:42.411Z"
   },
   {
    "duration": 53,
    "start_time": "2022-07-07T08:31:42.422Z"
   },
   {
    "duration": 11,
    "start_time": "2022-07-07T08:31:42.476Z"
   },
   {
    "duration": 10,
    "start_time": "2022-07-07T08:31:42.488Z"
   },
   {
    "duration": 4,
    "start_time": "2022-07-07T08:31:42.499Z"
   },
   {
    "duration": 28,
    "start_time": "2022-07-07T08:31:42.505Z"
   },
   {
    "duration": 40,
    "start_time": "2022-07-07T08:31:42.535Z"
   },
   {
    "duration": 18,
    "start_time": "2022-07-07T08:31:42.577Z"
   },
   {
    "duration": 15,
    "start_time": "2022-07-07T08:31:42.596Z"
   },
   {
    "duration": 18,
    "start_time": "2022-07-07T08:31:42.612Z"
   },
   {
    "duration": 37,
    "start_time": "2022-07-07T08:31:42.632Z"
   },
   {
    "duration": 4,
    "start_time": "2022-07-07T08:31:42.670Z"
   },
   {
    "duration": 5,
    "start_time": "2022-07-07T08:31:42.675Z"
   },
   {
    "duration": 13,
    "start_time": "2022-07-07T08:31:42.682Z"
   },
   {
    "duration": 89,
    "start_time": "2022-07-07T08:31:42.696Z"
   },
   {
    "duration": 0,
    "start_time": "2022-07-07T08:31:42.787Z"
   },
   {
    "duration": 0,
    "start_time": "2022-07-07T08:31:42.788Z"
   },
   {
    "duration": 0,
    "start_time": "2022-07-07T08:31:42.789Z"
   },
   {
    "duration": 0,
    "start_time": "2022-07-07T08:31:42.790Z"
   },
   {
    "duration": 0,
    "start_time": "2022-07-07T08:31:42.791Z"
   },
   {
    "duration": 0,
    "start_time": "2022-07-07T08:31:42.791Z"
   },
   {
    "duration": 0,
    "start_time": "2022-07-07T08:31:42.793Z"
   },
   {
    "duration": 0,
    "start_time": "2022-07-07T08:31:42.794Z"
   },
   {
    "duration": 436,
    "start_time": "2022-07-07T09:05:03.525Z"
   },
   {
    "duration": 163,
    "start_time": "2022-07-07T09:05:03.963Z"
   },
   {
    "duration": 1083,
    "start_time": "2022-07-07T09:05:04.128Z"
   },
   {
    "duration": 28,
    "start_time": "2022-07-07T09:05:05.213Z"
   },
   {
    "duration": 3,
    "start_time": "2022-07-07T09:05:05.243Z"
   },
   {
    "duration": 12,
    "start_time": "2022-07-07T09:05:05.247Z"
   },
   {
    "duration": 14,
    "start_time": "2022-07-07T09:05:05.260Z"
   },
   {
    "duration": 7,
    "start_time": "2022-07-07T09:05:05.276Z"
   },
   {
    "duration": 24,
    "start_time": "2022-07-07T09:05:05.285Z"
   },
   {
    "duration": 27,
    "start_time": "2022-07-07T09:05:05.312Z"
   },
   {
    "duration": 25,
    "start_time": "2022-07-07T09:05:05.340Z"
   },
   {
    "duration": 69,
    "start_time": "2022-07-07T09:05:05.366Z"
   },
   {
    "duration": 90,
    "start_time": "2022-07-07T09:05:05.437Z"
   },
   {
    "duration": 71,
    "start_time": "2022-07-07T09:05:05.529Z"
   },
   {
    "duration": 34,
    "start_time": "2022-07-07T09:05:05.601Z"
   },
   {
    "duration": 22,
    "start_time": "2022-07-07T09:05:05.636Z"
   },
   {
    "duration": 35,
    "start_time": "2022-07-07T09:05:05.660Z"
   },
   {
    "duration": 12,
    "start_time": "2022-07-07T09:05:05.696Z"
   },
   {
    "duration": 11,
    "start_time": "2022-07-07T09:05:05.710Z"
   },
   {
    "duration": 30,
    "start_time": "2022-07-07T09:05:05.723Z"
   },
   {
    "duration": 35,
    "start_time": "2022-07-07T09:05:05.755Z"
   },
   {
    "duration": 17,
    "start_time": "2022-07-07T09:05:05.792Z"
   },
   {
    "duration": 19,
    "start_time": "2022-07-07T09:05:05.811Z"
   },
   {
    "duration": 28,
    "start_time": "2022-07-07T09:05:05.831Z"
   },
   {
    "duration": 21,
    "start_time": "2022-07-07T09:05:05.860Z"
   },
   {
    "duration": 17,
    "start_time": "2022-07-07T09:05:05.882Z"
   },
   {
    "duration": 3,
    "start_time": "2022-07-07T09:05:05.900Z"
   },
   {
    "duration": 5,
    "start_time": "2022-07-07T09:05:05.906Z"
   },
   {
    "duration": 81,
    "start_time": "2022-07-07T09:05:05.913Z"
   },
   {
    "duration": 0,
    "start_time": "2022-07-07T09:05:05.996Z"
   },
   {
    "duration": 0,
    "start_time": "2022-07-07T09:05:05.997Z"
   },
   {
    "duration": 0,
    "start_time": "2022-07-07T09:05:05.998Z"
   },
   {
    "duration": 0,
    "start_time": "2022-07-07T09:05:06.000Z"
   },
   {
    "duration": 0,
    "start_time": "2022-07-07T09:05:06.002Z"
   },
   {
    "duration": 0,
    "start_time": "2022-07-07T09:05:06.003Z"
   },
   {
    "duration": 0,
    "start_time": "2022-07-07T09:05:06.005Z"
   },
   {
    "duration": 0,
    "start_time": "2022-07-07T09:05:06.006Z"
   },
   {
    "duration": 8,
    "start_time": "2022-07-07T09:10:01.414Z"
   },
   {
    "duration": 5,
    "start_time": "2022-07-07T09:30:07.156Z"
   },
   {
    "duration": 11,
    "start_time": "2022-07-07T09:30:13.755Z"
   },
   {
    "duration": 10,
    "start_time": "2022-07-07T09:30:15.354Z"
   },
   {
    "duration": 16,
    "start_time": "2022-07-07T09:30:24.602Z"
   },
   {
    "duration": 10,
    "start_time": "2022-07-07T09:30:24.955Z"
   },
   {
    "duration": 5,
    "start_time": "2022-07-07T09:30:27.306Z"
   },
   {
    "duration": 30,
    "start_time": "2022-07-07T10:12:17.569Z"
   },
   {
    "duration": 17,
    "start_time": "2022-07-07T10:12:18.982Z"
   },
   {
    "duration": 20,
    "start_time": "2022-07-07T10:12:19.869Z"
   },
   {
    "duration": 15,
    "start_time": "2022-07-07T10:12:21.283Z"
   },
   {
    "duration": 7,
    "start_time": "2022-07-07T10:12:30.848Z"
   },
   {
    "duration": 17,
    "start_time": "2022-07-07T10:12:38.361Z"
   },
   {
    "duration": 12,
    "start_time": "2022-07-07T10:12:39.942Z"
   },
   {
    "duration": 21,
    "start_time": "2022-07-07T10:35:59.051Z"
   },
   {
    "duration": 12,
    "start_time": "2022-07-07T10:36:02.886Z"
   },
   {
    "duration": 14,
    "start_time": "2022-07-07T10:36:16.293Z"
   },
   {
    "duration": 8,
    "start_time": "2022-07-07T10:36:24.976Z"
   },
   {
    "duration": 7,
    "start_time": "2022-07-07T10:37:23.303Z"
   },
   {
    "duration": 6,
    "start_time": "2022-07-07T10:37:24.513Z"
   },
   {
    "duration": 6,
    "start_time": "2022-07-07T10:37:48.880Z"
   }
  ],
  "colab": {
   "collapsed_sections": [
    "E0vqbgi9ay0H",
    "VUC88oWjTJw2"
   ],
   "name": "automatization_template_upd4.ipynb",
   "provenance": []
  },
  "kernelspec": {
   "display_name": "Python 3 (ipykernel)",
   "language": "python",
   "name": "python3"
  },
  "language_info": {
   "codemirror_mode": {
    "name": "ipython",
    "version": 3
   },
   "file_extension": ".py",
   "mimetype": "text/x-python",
   "name": "python",
   "nbconvert_exporter": "python",
   "pygments_lexer": "ipython3",
   "version": "3.9.13"
  },
  "toc": {
   "base_numbering": 1,
   "nav_menu": {
    "height": "215px",
    "width": "403px"
   },
   "number_sections": true,
   "sideBar": true,
   "skip_h1_title": true,
   "title_cell": "Table of Contents",
   "title_sidebar": "Contents",
   "toc_cell": false,
   "toc_position": {
    "height": "calc(100% - 180px)",
    "left": "10px",
    "top": "150px",
    "width": "285.825px"
   },
   "toc_section_display": true,
   "toc_window_display": false
  }
 },
 "nbformat": 4,
 "nbformat_minor": 4
}
