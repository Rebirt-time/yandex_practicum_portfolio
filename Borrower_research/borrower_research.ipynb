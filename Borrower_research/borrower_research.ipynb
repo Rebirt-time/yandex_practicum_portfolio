{
 "cells": [
  {
   "cell_type": "markdown",
   "id": "c81daeeb",
   "metadata": {
    "deletable": false,
    "id": "c81daeeb"
   },
   "source": [
    "# Исследование надежности заемщиков"
   ]
  },
  {
   "cell_type": "markdown",
   "id": "76beca14",
   "metadata": {},
   "source": [
    "Заказчик — кредитный отдел банка. Нужно разобраться, влияет ли семейное положение и количество детей клиента на факт погашения кредита в срок. Входные данные от банка — статистика о платёжеспособности клиентов.\n",
    "Результаты исследования будут учтены при построении модели кредитного скоринга — специальной системы, которая оценивает способность потенциального заёмщика вернуть кредит банку."
   ]
  },
  {
   "cell_type": "markdown",
   "id": "a93b5e73",
   "metadata": {},
   "source": [
    "# Описание данных"
   ]
  },
  {
   "cell_type": "markdown",
   "id": "7f5a96e1",
   "metadata": {},
   "source": [
    "* children — количество детей в семье\n",
    "* days_employed — общий трудовой стаж в днях\n",
    "* dob_years — возраст клиента в годах\n",
    "* education — уровень образования клиента\n",
    "* education_id — идентификатор уровня образования\n",
    "* family_status — семейное положение\n",
    "* family_status_id — идентификатор семейного положения\n",
    "* gender — пол клиента\n",
    "* income_type — тип занятости\n",
    "* debt — имел ли задолженность по возврату кредитов\n",
    "* total_income — ежемесячный доход\n",
    "* purpose — цель получения кредита"
   ]
  },
  {
   "cell_type": "markdown",
   "id": "0a6678a1",
   "metadata": {},
   "source": [
    "## План выполнениния проекта"
   ]
  },
  {
   "cell_type": "markdown",
   "id": "b4d0aee9",
   "metadata": {},
   "source": [
    "**Шаг 1. Откройте таблицу и изучите общую информацию о данных:**\n",
    "\n",
    "1. Импортируйте библиотеку pandas. Считайте данные из csv-файла в датафрейм и сохраните в переменную data. Путь к файлу: /datasets/data.csv.\n",
    "2. Выведете первые 20 строчек датафрейма data на экран.\n",
    "3. Выведите основную информацию о датафрейме с помощью метода info(). \n",
    "**Шаг 2. Предобработка данных:**\n",
    "\n",
    "1. Выведите количество пропущенных значений для каждого столбца. Используйте комбинацию двух методов.\n",
    "2. В двух столбцах есть пропущенные значения. Один из них — days_employed. Пропуски в этом столбце вы обработаете на следующем этапе. Другой столбец с пропущенными значениями — total_income — хранит данные о доходах. На сумму дохода сильнее всего влияет тип занятости, поэтому заполнить пропуски в этом столбце нужно медианным значением по каждому типу из столбца income_type. Например, у человека с типом занятости сотрудник пропуск в столбце total_income должен быть заполнен медианным доходом среди всех записей с тем же типом. \n",
    "3. В данных могут встречаться артефакты (аномалии) — значения, которые не отражают действительность и появились по какой-то ошибке. Таким артефактом будет отрицательное количество дней трудового стажа в столбце days_employed. Для реальных данных это нормально. Обработайте значения в этом столбце: замените все отрицательные значения положительными с помощью метода abs().\n",
    "4. Для каждого типа занятости выведите медианное значение трудового стажа в днях из столбца days_employed. У двух типов (безработные и пенсионеры) получатся аномально большие значения. Исправить такие значения сложно, поэтому оставьте их как есть.\n",
    "5. Выведите перечень уникальных значений столбца children.\n",
    "6. В столбце children есть два аномальных значения. Удалите строки, в которых встречаются такие аномальные значения из датафрейма data.\n",
    "7. Ещё раз выведите перечень уникальных значений столбца children, чтобы убедиться, что артефакты удалены.\n",
    "8. Заполните пропуски в столбце days_employed медианными значениями по каждому типу занятости income_type. \n",
    "9. Убедитесь, что все пропуски заполнены. Проверьте себя и ещё раз выведите количество пропущенных значений для каждого столбца с помощью двух методов.\n",
    "10. Замените вещественный тип данных в столбце total_income на целочисленный с помощью метода astype().\n",
    "11. Обработайте неявные дубликаты в столбце education. В этом столбце есть одни и те же значения, но записанные по-разному: с использованием заглавных и строчных букв. Приведите их к нижнему регистру.\n",
    "12. Выведите на экран количество строк-дубликатов в данных. Если такие строки присутствуют, удалите их. Сбрасывать индексы после удаления строк дубликатов с помощью reset_index(drop=True) здесь не требуется.\n",
    "13. На основании диапазонов, указанных ниже, создайте в датафрейме data столбец total_income_category с категориями:\n",
    "- 0–30000 — 'E';\n",
    "- 30001–50000 — 'D';\n",
    "- 50001–200000 — 'C';\n",
    "- 200001–1000000 — 'B';\n",
    "- 1000001 и выше — 'A'.\n",
    "- Например, кредитополучателю с доходом 25000 нужно назначить категорию 'E', а клиенту, получающему 235000, — 'B'.\n",
    "14. Выведите на экран перечень уникальных целей взятия кредита из столбца purpose.\n",
    "15. Создайте функцию, которая на основании данных из столбца purpose сформирует новый столбец purpose_category, куда войдут следующие категории:\n",
    "- 'операции с автомобилем',\n",
    "- 'операции с недвижимостью',\n",
    "- 'проведение свадьбы',\n",
    "- 'получение образования'.\n",
    "- Например, если в столбце purpose находится подстрока 'на покупку автомобиля', то в столбце purpose_category должна появиться строка 'операции с автомобилем'.\n",
    "- Используйте собственную функцию с именем categorize_purpose() и метод apply(). Изучите данные в столбце purpose и определите, какие подстроки помогут вам правильно определить категорию.\n",
    "\n",
    "**Шаг 3. Исследуйте данные и ответьте на вопросы:**\n",
    "\n",
    "1. Есть ли зависимость между количеством детей и возвратом кредита в срок\n",
    "2. Есть ли зависимость между семейным положением и возвратом кредита в срок?\n",
    "3. Есть ли зависимость между уровнем дохода и возвратом кредита в срок?\n",
    "4. Как разные цели кредита влияют на его возврат в срок?\n",
    "5. Приведите возможные причины появления пропусков в исходных данных.\n",
    "6. Объясните, почему заполнить пропуски медианным значением — лучшее решение для количественных переменных.\n",
    "- Ответы сопроводите интерпретацией — поясните, о чём именно говорит полученный вами результат.\n",
    "\n",
    "**Шаг 4. Напишите общий вывод**"
   ]
  },
  {
   "cell_type": "markdown",
   "id": "744d7639",
   "metadata": {
    "deletable": false,
    "id": "744d7639"
   },
   "source": [
    "## Откроем таблицу и изучим общую информацию о данных:"
   ]
  },
  {
   "cell_type": "markdown",
   "id": "e7a14c31",
   "metadata": {
    "deletable": false,
    "id": "e7a14c31"
   },
   "source": [
    "**Импортируем библиотеку pandas. Считаем данные из csv-файла в датафрейм и сохраните в переменную `data`. Путь к файлу:**\n",
    "\n",
    "`/datasets/data.csv`"
   ]
  },
  {
   "cell_type": "code",
   "execution_count": 90,
   "id": "7bcf75c9",
   "metadata": {
    "deletable": false,
    "id": "7bcf75c9"
   },
   "outputs": [],
   "source": [
    "import pandas as pd\n",
    "try:\n",
    "    data = pd.read_csv('/datasets/data.csv')\n",
    "except:\n",
    "    data = pd.read_csv('https://code.s3.yandex.net/datasets/data.csv')"
   ]
  },
  {
   "cell_type": "markdown",
   "id": "b8038fe3",
   "metadata": {
    "deletable": false,
    "id": "b8038fe3"
   },
   "source": [
    "#### Выведем первые 20 строчек датафрейма `data` на экран."
   ]
  },
  {
   "cell_type": "code",
   "execution_count": 91,
   "id": "2a7cab99",
   "metadata": {
    "deletable": false,
    "id": "2a7cab99",
    "outputId": "1a8f3ef2-d323-4ec2-ddf7-89670b5944c4"
   },
   "outputs": [
    {
     "data": {
      "text/html": [
       "<div>\n",
       "<style scoped>\n",
       "    .dataframe tbody tr th:only-of-type {\n",
       "        vertical-align: middle;\n",
       "    }\n",
       "\n",
       "    .dataframe tbody tr th {\n",
       "        vertical-align: top;\n",
       "    }\n",
       "\n",
       "    .dataframe thead th {\n",
       "        text-align: right;\n",
       "    }\n",
       "</style>\n",
       "<table border=\"1\" class=\"dataframe\">\n",
       "  <thead>\n",
       "    <tr style=\"text-align: right;\">\n",
       "      <th></th>\n",
       "      <th>children</th>\n",
       "      <th>days_employed</th>\n",
       "      <th>dob_years</th>\n",
       "      <th>education</th>\n",
       "      <th>education_id</th>\n",
       "      <th>family_status</th>\n",
       "      <th>family_status_id</th>\n",
       "      <th>gender</th>\n",
       "      <th>income_type</th>\n",
       "      <th>debt</th>\n",
       "      <th>total_income</th>\n",
       "      <th>purpose</th>\n",
       "    </tr>\n",
       "  </thead>\n",
       "  <tbody>\n",
       "    <tr>\n",
       "      <th>0</th>\n",
       "      <td>1</td>\n",
       "      <td>-8437.673028</td>\n",
       "      <td>42</td>\n",
       "      <td>высшее</td>\n",
       "      <td>0</td>\n",
       "      <td>женат / замужем</td>\n",
       "      <td>0</td>\n",
       "      <td>F</td>\n",
       "      <td>сотрудник</td>\n",
       "      <td>0</td>\n",
       "      <td>253875.639453</td>\n",
       "      <td>покупка жилья</td>\n",
       "    </tr>\n",
       "    <tr>\n",
       "      <th>1</th>\n",
       "      <td>1</td>\n",
       "      <td>-4024.803754</td>\n",
       "      <td>36</td>\n",
       "      <td>среднее</td>\n",
       "      <td>1</td>\n",
       "      <td>женат / замужем</td>\n",
       "      <td>0</td>\n",
       "      <td>F</td>\n",
       "      <td>сотрудник</td>\n",
       "      <td>0</td>\n",
       "      <td>112080.014102</td>\n",
       "      <td>приобретение автомобиля</td>\n",
       "    </tr>\n",
       "    <tr>\n",
       "      <th>2</th>\n",
       "      <td>0</td>\n",
       "      <td>-5623.422610</td>\n",
       "      <td>33</td>\n",
       "      <td>Среднее</td>\n",
       "      <td>1</td>\n",
       "      <td>женат / замужем</td>\n",
       "      <td>0</td>\n",
       "      <td>M</td>\n",
       "      <td>сотрудник</td>\n",
       "      <td>0</td>\n",
       "      <td>145885.952297</td>\n",
       "      <td>покупка жилья</td>\n",
       "    </tr>\n",
       "    <tr>\n",
       "      <th>3</th>\n",
       "      <td>3</td>\n",
       "      <td>-4124.747207</td>\n",
       "      <td>32</td>\n",
       "      <td>среднее</td>\n",
       "      <td>1</td>\n",
       "      <td>женат / замужем</td>\n",
       "      <td>0</td>\n",
       "      <td>M</td>\n",
       "      <td>сотрудник</td>\n",
       "      <td>0</td>\n",
       "      <td>267628.550329</td>\n",
       "      <td>дополнительное образование</td>\n",
       "    </tr>\n",
       "    <tr>\n",
       "      <th>4</th>\n",
       "      <td>0</td>\n",
       "      <td>340266.072047</td>\n",
       "      <td>53</td>\n",
       "      <td>среднее</td>\n",
       "      <td>1</td>\n",
       "      <td>гражданский брак</td>\n",
       "      <td>1</td>\n",
       "      <td>F</td>\n",
       "      <td>пенсионер</td>\n",
       "      <td>0</td>\n",
       "      <td>158616.077870</td>\n",
       "      <td>сыграть свадьбу</td>\n",
       "    </tr>\n",
       "    <tr>\n",
       "      <th>5</th>\n",
       "      <td>0</td>\n",
       "      <td>-926.185831</td>\n",
       "      <td>27</td>\n",
       "      <td>высшее</td>\n",
       "      <td>0</td>\n",
       "      <td>гражданский брак</td>\n",
       "      <td>1</td>\n",
       "      <td>M</td>\n",
       "      <td>компаньон</td>\n",
       "      <td>0</td>\n",
       "      <td>255763.565419</td>\n",
       "      <td>покупка жилья</td>\n",
       "    </tr>\n",
       "    <tr>\n",
       "      <th>6</th>\n",
       "      <td>0</td>\n",
       "      <td>-2879.202052</td>\n",
       "      <td>43</td>\n",
       "      <td>высшее</td>\n",
       "      <td>0</td>\n",
       "      <td>женат / замужем</td>\n",
       "      <td>0</td>\n",
       "      <td>F</td>\n",
       "      <td>компаньон</td>\n",
       "      <td>0</td>\n",
       "      <td>240525.971920</td>\n",
       "      <td>операции с жильем</td>\n",
       "    </tr>\n",
       "    <tr>\n",
       "      <th>7</th>\n",
       "      <td>0</td>\n",
       "      <td>-152.779569</td>\n",
       "      <td>50</td>\n",
       "      <td>СРЕДНЕЕ</td>\n",
       "      <td>1</td>\n",
       "      <td>женат / замужем</td>\n",
       "      <td>0</td>\n",
       "      <td>M</td>\n",
       "      <td>сотрудник</td>\n",
       "      <td>0</td>\n",
       "      <td>135823.934197</td>\n",
       "      <td>образование</td>\n",
       "    </tr>\n",
       "    <tr>\n",
       "      <th>8</th>\n",
       "      <td>2</td>\n",
       "      <td>-6929.865299</td>\n",
       "      <td>35</td>\n",
       "      <td>ВЫСШЕЕ</td>\n",
       "      <td>0</td>\n",
       "      <td>гражданский брак</td>\n",
       "      <td>1</td>\n",
       "      <td>F</td>\n",
       "      <td>сотрудник</td>\n",
       "      <td>0</td>\n",
       "      <td>95856.832424</td>\n",
       "      <td>на проведение свадьбы</td>\n",
       "    </tr>\n",
       "    <tr>\n",
       "      <th>9</th>\n",
       "      <td>0</td>\n",
       "      <td>-2188.756445</td>\n",
       "      <td>41</td>\n",
       "      <td>среднее</td>\n",
       "      <td>1</td>\n",
       "      <td>женат / замужем</td>\n",
       "      <td>0</td>\n",
       "      <td>M</td>\n",
       "      <td>сотрудник</td>\n",
       "      <td>0</td>\n",
       "      <td>144425.938277</td>\n",
       "      <td>покупка жилья для семьи</td>\n",
       "    </tr>\n",
       "    <tr>\n",
       "      <th>10</th>\n",
       "      <td>2</td>\n",
       "      <td>-4171.483647</td>\n",
       "      <td>36</td>\n",
       "      <td>высшее</td>\n",
       "      <td>0</td>\n",
       "      <td>женат / замужем</td>\n",
       "      <td>0</td>\n",
       "      <td>M</td>\n",
       "      <td>компаньон</td>\n",
       "      <td>0</td>\n",
       "      <td>113943.491460</td>\n",
       "      <td>покупка недвижимости</td>\n",
       "    </tr>\n",
       "    <tr>\n",
       "      <th>11</th>\n",
       "      <td>0</td>\n",
       "      <td>-792.701887</td>\n",
       "      <td>40</td>\n",
       "      <td>среднее</td>\n",
       "      <td>1</td>\n",
       "      <td>женат / замужем</td>\n",
       "      <td>0</td>\n",
       "      <td>F</td>\n",
       "      <td>сотрудник</td>\n",
       "      <td>0</td>\n",
       "      <td>77069.234271</td>\n",
       "      <td>покупка коммерческой недвижимости</td>\n",
       "    </tr>\n",
       "    <tr>\n",
       "      <th>12</th>\n",
       "      <td>0</td>\n",
       "      <td>NaN</td>\n",
       "      <td>65</td>\n",
       "      <td>среднее</td>\n",
       "      <td>1</td>\n",
       "      <td>гражданский брак</td>\n",
       "      <td>1</td>\n",
       "      <td>M</td>\n",
       "      <td>пенсионер</td>\n",
       "      <td>0</td>\n",
       "      <td>NaN</td>\n",
       "      <td>сыграть свадьбу</td>\n",
       "    </tr>\n",
       "    <tr>\n",
       "      <th>13</th>\n",
       "      <td>0</td>\n",
       "      <td>-1846.641941</td>\n",
       "      <td>54</td>\n",
       "      <td>неоконченное высшее</td>\n",
       "      <td>2</td>\n",
       "      <td>женат / замужем</td>\n",
       "      <td>0</td>\n",
       "      <td>F</td>\n",
       "      <td>сотрудник</td>\n",
       "      <td>0</td>\n",
       "      <td>130458.228857</td>\n",
       "      <td>приобретение автомобиля</td>\n",
       "    </tr>\n",
       "    <tr>\n",
       "      <th>14</th>\n",
       "      <td>0</td>\n",
       "      <td>-1844.956182</td>\n",
       "      <td>56</td>\n",
       "      <td>высшее</td>\n",
       "      <td>0</td>\n",
       "      <td>гражданский брак</td>\n",
       "      <td>1</td>\n",
       "      <td>F</td>\n",
       "      <td>компаньон</td>\n",
       "      <td>1</td>\n",
       "      <td>165127.911772</td>\n",
       "      <td>покупка жилой недвижимости</td>\n",
       "    </tr>\n",
       "    <tr>\n",
       "      <th>15</th>\n",
       "      <td>1</td>\n",
       "      <td>-972.364419</td>\n",
       "      <td>26</td>\n",
       "      <td>среднее</td>\n",
       "      <td>1</td>\n",
       "      <td>женат / замужем</td>\n",
       "      <td>0</td>\n",
       "      <td>F</td>\n",
       "      <td>сотрудник</td>\n",
       "      <td>0</td>\n",
       "      <td>116820.904450</td>\n",
       "      <td>строительство собственной недвижимости</td>\n",
       "    </tr>\n",
       "    <tr>\n",
       "      <th>16</th>\n",
       "      <td>0</td>\n",
       "      <td>-1719.934226</td>\n",
       "      <td>35</td>\n",
       "      <td>среднее</td>\n",
       "      <td>1</td>\n",
       "      <td>женат / замужем</td>\n",
       "      <td>0</td>\n",
       "      <td>F</td>\n",
       "      <td>сотрудник</td>\n",
       "      <td>0</td>\n",
       "      <td>289202.704229</td>\n",
       "      <td>недвижимость</td>\n",
       "    </tr>\n",
       "    <tr>\n",
       "      <th>17</th>\n",
       "      <td>0</td>\n",
       "      <td>-2369.999720</td>\n",
       "      <td>33</td>\n",
       "      <td>высшее</td>\n",
       "      <td>0</td>\n",
       "      <td>гражданский брак</td>\n",
       "      <td>1</td>\n",
       "      <td>M</td>\n",
       "      <td>сотрудник</td>\n",
       "      <td>0</td>\n",
       "      <td>90410.586745</td>\n",
       "      <td>строительство недвижимости</td>\n",
       "    </tr>\n",
       "    <tr>\n",
       "      <th>18</th>\n",
       "      <td>0</td>\n",
       "      <td>400281.136913</td>\n",
       "      <td>53</td>\n",
       "      <td>среднее</td>\n",
       "      <td>1</td>\n",
       "      <td>вдовец / вдова</td>\n",
       "      <td>2</td>\n",
       "      <td>F</td>\n",
       "      <td>пенсионер</td>\n",
       "      <td>0</td>\n",
       "      <td>56823.777243</td>\n",
       "      <td>на покупку подержанного автомобиля</td>\n",
       "    </tr>\n",
       "    <tr>\n",
       "      <th>19</th>\n",
       "      <td>0</td>\n",
       "      <td>-10038.818549</td>\n",
       "      <td>48</td>\n",
       "      <td>СРЕДНЕЕ</td>\n",
       "      <td>1</td>\n",
       "      <td>в разводе</td>\n",
       "      <td>3</td>\n",
       "      <td>F</td>\n",
       "      <td>сотрудник</td>\n",
       "      <td>0</td>\n",
       "      <td>242831.107982</td>\n",
       "      <td>на покупку своего автомобиля</td>\n",
       "    </tr>\n",
       "  </tbody>\n",
       "</table>\n",
       "</div>"
      ],
      "text/plain": [
       "    children  days_employed  dob_years            education  education_id  \\\n",
       "0          1   -8437.673028         42               высшее             0   \n",
       "1          1   -4024.803754         36              среднее             1   \n",
       "2          0   -5623.422610         33              Среднее             1   \n",
       "3          3   -4124.747207         32              среднее             1   \n",
       "4          0  340266.072047         53              среднее             1   \n",
       "5          0    -926.185831         27               высшее             0   \n",
       "6          0   -2879.202052         43               высшее             0   \n",
       "7          0    -152.779569         50              СРЕДНЕЕ             1   \n",
       "8          2   -6929.865299         35               ВЫСШЕЕ             0   \n",
       "9          0   -2188.756445         41              среднее             1   \n",
       "10         2   -4171.483647         36               высшее             0   \n",
       "11         0    -792.701887         40              среднее             1   \n",
       "12         0            NaN         65              среднее             1   \n",
       "13         0   -1846.641941         54  неоконченное высшее             2   \n",
       "14         0   -1844.956182         56               высшее             0   \n",
       "15         1    -972.364419         26              среднее             1   \n",
       "16         0   -1719.934226         35              среднее             1   \n",
       "17         0   -2369.999720         33               высшее             0   \n",
       "18         0  400281.136913         53              среднее             1   \n",
       "19         0  -10038.818549         48              СРЕДНЕЕ             1   \n",
       "\n",
       "       family_status  family_status_id gender income_type  debt  \\\n",
       "0    женат / замужем                 0      F   сотрудник     0   \n",
       "1    женат / замужем                 0      F   сотрудник     0   \n",
       "2    женат / замужем                 0      M   сотрудник     0   \n",
       "3    женат / замужем                 0      M   сотрудник     0   \n",
       "4   гражданский брак                 1      F   пенсионер     0   \n",
       "5   гражданский брак                 1      M   компаньон     0   \n",
       "6    женат / замужем                 0      F   компаньон     0   \n",
       "7    женат / замужем                 0      M   сотрудник     0   \n",
       "8   гражданский брак                 1      F   сотрудник     0   \n",
       "9    женат / замужем                 0      M   сотрудник     0   \n",
       "10   женат / замужем                 0      M   компаньон     0   \n",
       "11   женат / замужем                 0      F   сотрудник     0   \n",
       "12  гражданский брак                 1      M   пенсионер     0   \n",
       "13   женат / замужем                 0      F   сотрудник     0   \n",
       "14  гражданский брак                 1      F   компаньон     1   \n",
       "15   женат / замужем                 0      F   сотрудник     0   \n",
       "16   женат / замужем                 0      F   сотрудник     0   \n",
       "17  гражданский брак                 1      M   сотрудник     0   \n",
       "18    вдовец / вдова                 2      F   пенсионер     0   \n",
       "19         в разводе                 3      F   сотрудник     0   \n",
       "\n",
       "     total_income                                 purpose  \n",
       "0   253875.639453                           покупка жилья  \n",
       "1   112080.014102                 приобретение автомобиля  \n",
       "2   145885.952297                           покупка жилья  \n",
       "3   267628.550329              дополнительное образование  \n",
       "4   158616.077870                         сыграть свадьбу  \n",
       "5   255763.565419                           покупка жилья  \n",
       "6   240525.971920                       операции с жильем  \n",
       "7   135823.934197                             образование  \n",
       "8    95856.832424                   на проведение свадьбы  \n",
       "9   144425.938277                 покупка жилья для семьи  \n",
       "10  113943.491460                    покупка недвижимости  \n",
       "11   77069.234271       покупка коммерческой недвижимости  \n",
       "12            NaN                         сыграть свадьбу  \n",
       "13  130458.228857                 приобретение автомобиля  \n",
       "14  165127.911772              покупка жилой недвижимости  \n",
       "15  116820.904450  строительство собственной недвижимости  \n",
       "16  289202.704229                            недвижимость  \n",
       "17   90410.586745              строительство недвижимости  \n",
       "18   56823.777243      на покупку подержанного автомобиля  \n",
       "19  242831.107982            на покупку своего автомобиля  "
      ]
     },
     "execution_count": 91,
     "metadata": {},
     "output_type": "execute_result"
    }
   ],
   "source": [
    "data.head(20)"
   ]
  },
  {
   "cell_type": "markdown",
   "id": "1c12e233",
   "metadata": {
    "deletable": false,
    "id": "1c12e233"
   },
   "source": [
    "#### Выведите основную информацию о датафрейме с помощью метода `info()`."
   ]
  },
  {
   "cell_type": "code",
   "execution_count": 92,
   "id": "2b757bca",
   "metadata": {
    "deletable": false,
    "id": "2b757bca",
    "outputId": "15376089-8dad-46c9-b520-c05248d43158"
   },
   "outputs": [
    {
     "name": "stdout",
     "output_type": "stream",
     "text": [
      "<class 'pandas.core.frame.DataFrame'>\n",
      "RangeIndex: 21525 entries, 0 to 21524\n",
      "Data columns (total 12 columns):\n",
      " #   Column            Non-Null Count  Dtype  \n",
      "---  ------            --------------  -----  \n",
      " 0   children          21525 non-null  int64  \n",
      " 1   days_employed     19351 non-null  float64\n",
      " 2   dob_years         21525 non-null  int64  \n",
      " 3   education         21525 non-null  object \n",
      " 4   education_id      21525 non-null  int64  \n",
      " 5   family_status     21525 non-null  object \n",
      " 6   family_status_id  21525 non-null  int64  \n",
      " 7   gender            21525 non-null  object \n",
      " 8   income_type       21525 non-null  object \n",
      " 9   debt              21525 non-null  int64  \n",
      " 10  total_income      19351 non-null  float64\n",
      " 11  purpose           21525 non-null  object \n",
      "dtypes: float64(2), int64(5), object(5)\n",
      "memory usage: 2.0+ MB\n"
     ]
    }
   ],
   "source": [
    "data.info()"
   ]
  },
  {
   "cell_type": "markdown",
   "id": "333ec665",
   "metadata": {
    "deletable": false,
    "id": "333ec665"
   },
   "source": [
    "## Предобработка данных"
   ]
  },
  {
   "cell_type": "markdown",
   "id": "02d92d53",
   "metadata": {
    "deletable": false,
    "id": "02d92d53"
   },
   "source": [
    "### Удаление пропусков"
   ]
  },
  {
   "cell_type": "markdown",
   "id": "cd84967c",
   "metadata": {
    "deletable": false,
    "id": "cd84967c"
   },
   "source": [
    "#### Выведем количество пропущенных значений для каждого столбца. Используем комбинацию двух методов."
   ]
  },
  {
   "cell_type": "code",
   "execution_count": 93,
   "id": "7f9b2309",
   "metadata": {
    "deletable": false,
    "id": "7f9b2309",
    "outputId": "81f4d817-781c-465c-ed15-91ce4446810d"
   },
   "outputs": [
    {
     "data": {
      "text/plain": [
       "children               0\n",
       "days_employed       2174\n",
       "dob_years              0\n",
       "education              0\n",
       "education_id           0\n",
       "family_status          0\n",
       "family_status_id       0\n",
       "gender                 0\n",
       "income_type            0\n",
       "debt                   0\n",
       "total_income        2174\n",
       "purpose                0\n",
       "dtype: int64"
      ]
     },
     "execution_count": 93,
     "metadata": {},
     "output_type": "execute_result"
    }
   ],
   "source": [
    "data.isna().sum()"
   ]
  },
  {
   "cell_type": "markdown",
   "id": "db86e27b",
   "metadata": {
    "deletable": false,
    "id": "db86e27b"
   },
   "source": [
    "#### В двух столбцах есть пропущенные значения. Один из них — `days_employed`. Пропуски в этом столбце мы обработаем на следующем этапе. Другой столбец с пропущенными значениями — `total_income` — хранит данные о доходах. На сумму дохода сильнее всего влияет тип занятости, поэтому заполнить пропуски в этом столбце нужно медианным значением по каждому типу из столбца `income_type`. Например, у человека с типом занятости `сотрудник` пропуск в столбце `total_income` должен быть заполнен медианным доходом среди всех записей с тем же типом."
   ]
  },
  {
   "cell_type": "code",
   "execution_count": 94,
   "id": "42006a93",
   "metadata": {
    "deletable": false,
    "id": "42006a93"
   },
   "outputs": [],
   "source": [
    "for t in data['income_type'].unique():\n",
    "    data.loc[(data['income_type'] == t) & (data['total_income'].isna()), 'total_income'] = \\\n",
    "    data.loc[(data['income_type'] == t), 'total_income'].median()"
   ]
  },
  {
   "cell_type": "markdown",
   "id": "89da5ece",
   "metadata": {
    "deletable": false,
    "id": "89da5ece"
   },
   "source": [
    "### Обработка аномальных значений"
   ]
  },
  {
   "cell_type": "markdown",
   "id": "57964554",
   "metadata": {
    "deletable": false,
    "id": "57964554"
   },
   "source": [
    "#### В данных могут встречаться артефакты (аномалии) — значения, которые не отражают действительность и появились по какой-то ошибке. таким артефактом будет отрицательное количество дней трудового стажа в столбце `days_employed`. Для реальных данных это нормально. Обработаем значения в этом столбце: заменим все отрицательные значения положительными с помощью метода `abs()`."
   ]
  },
  {
   "cell_type": "code",
   "execution_count": 95,
   "id": "f6f055bf",
   "metadata": {
    "deletable": false,
    "id": "f6f055bf"
   },
   "outputs": [],
   "source": [
    "data['days_employed'] = data['days_employed'].abs()"
   ]
  },
  {
   "cell_type": "markdown",
   "id": "6107dd2f",
   "metadata": {
    "deletable": false,
    "id": "6107dd2f"
   },
   "source": [
    "#### Для каждого типа занятости выведите медианное значение трудового стажа `days_employed` в днях."
   ]
  },
  {
   "cell_type": "code",
   "execution_count": 96,
   "id": "85a5faf6",
   "metadata": {
    "deletable": false,
    "id": "85a5faf6",
    "outputId": "801ef80e-522b-4668-f34e-565af7432bcf"
   },
   "outputs": [
    {
     "data": {
      "text/plain": [
       "income_type\n",
       "безработный        366413.652744\n",
       "в декрете            3296.759962\n",
       "госслужащий          2689.368353\n",
       "компаньон            1547.382223\n",
       "пенсионер          365213.306266\n",
       "предприниматель       520.848083\n",
       "сотрудник            1574.202821\n",
       "студент               578.751554\n",
       "Name: days_employed, dtype: float64"
      ]
     },
     "execution_count": 96,
     "metadata": {},
     "output_type": "execute_result"
    }
   ],
   "source": [
    "data.groupby('income_type')['days_employed'].agg('median')"
   ]
  },
  {
   "cell_type": "markdown",
   "id": "38d1a030",
   "metadata": {
    "deletable": false,
    "id": "38d1a030"
   },
   "source": [
    "У двух типов (безработные и пенсионеры) получатся аномально большие значения. Исправить такие значения сложно, поэтому оставьте их как есть. Тем более этот столбец не понадобится вам для исследования."
   ]
  },
  {
   "cell_type": "markdown",
   "id": "d8a9f147",
   "metadata": {
    "deletable": false,
    "id": "d8a9f147"
   },
   "source": [
    "#### Выведем перечень уникальных значений столбца `children`."
   ]
  },
  {
   "cell_type": "code",
   "execution_count": 97,
   "id": "ef5056eb",
   "metadata": {
    "deletable": false,
    "id": "ef5056eb",
    "outputId": "6975b15c-7f95-4697-d16d-a0c79b657b03"
   },
   "outputs": [
    {
     "data": {
      "text/plain": [
       "array([ 1,  0,  3,  2, -1,  4, 20,  5], dtype=int64)"
      ]
     },
     "execution_count": 97,
     "metadata": {},
     "output_type": "execute_result"
    }
   ],
   "source": [
    "data['children'].unique()"
   ]
  },
  {
   "cell_type": "markdown",
   "id": "40b9ebf2",
   "metadata": {
    "deletable": false,
    "id": "40b9ebf2"
   },
   "source": [
    "#### В столбце `children` есть два аномальных значения. Удалим строки, в которых встречаются такие аномальные значения из датафрейма `data`."
   ]
  },
  {
   "cell_type": "code",
   "execution_count": 98,
   "id": "3ff9801d",
   "metadata": {
    "deletable": false,
    "id": "3ff9801d"
   },
   "outputs": [],
   "source": [
    "data = data[(data['children'] != -1) & (data['children'] != 20)]"
   ]
  },
  {
   "cell_type": "markdown",
   "id": "bbc4d0ce",
   "metadata": {
    "deletable": false,
    "id": "bbc4d0ce"
   },
   "source": [
    "#### Ещё раз выведем перечень уникальных значений столбца `children`, чтобы убедиться, что артефакты удалены."
   ]
  },
  {
   "cell_type": "code",
   "execution_count": 99,
   "id": "ad4fa8b7",
   "metadata": {
    "deletable": false,
    "id": "ad4fa8b7",
    "outputId": "b2097101-d49d-44d9-901b-32a65c9463d1"
   },
   "outputs": [
    {
     "data": {
      "text/plain": [
       "array([1, 0, 3, 2, 4, 5], dtype=int64)"
      ]
     },
     "execution_count": 99,
     "metadata": {},
     "output_type": "execute_result"
    }
   ],
   "source": [
    "data['children'].unique()"
   ]
  },
  {
   "cell_type": "markdown",
   "id": "75440b63",
   "metadata": {
    "deletable": false,
    "id": "75440b63"
   },
   "source": [
    "### Удаление пропусков (продолжение)"
   ]
  },
  {
   "cell_type": "markdown",
   "id": "f4ea573f",
   "metadata": {
    "deletable": false,
    "id": "f4ea573f"
   },
   "source": [
    "#### Заполним пропуски в столбце `days_employed` медианными значениями по каждого типа занятости `income_type`."
   ]
  },
  {
   "cell_type": "code",
   "execution_count": 100,
   "id": "af6b1a7e",
   "metadata": {
    "deletable": false,
    "id": "af6b1a7e"
   },
   "outputs": [],
   "source": [
    "for t in data['income_type'].unique():\n",
    "    data.loc[(data['income_type'] == t) & (data['days_employed'].isna()), 'days_employed'] = \\\n",
    "    data.loc[(data['income_type'] == t), 'days_employed'].median()"
   ]
  },
  {
   "cell_type": "markdown",
   "id": "2753f40d",
   "metadata": {
    "deletable": false,
    "id": "2753f40d"
   },
   "source": [
    "#### Убедимся, что все пропуски заполнены. Проверим себя и ещё раз выведем количество пропущенных значений для каждого столбца с помощью двух методов."
   ]
  },
  {
   "cell_type": "code",
   "execution_count": 101,
   "id": "55f78bc2",
   "metadata": {
    "deletable": false,
    "id": "55f78bc2",
    "outputId": "8da1e4e1-358e-4e87-98c9-f261bce0a7b2"
   },
   "outputs": [
    {
     "data": {
      "text/plain": [
       "children            0\n",
       "days_employed       0\n",
       "dob_years           0\n",
       "education           0\n",
       "education_id        0\n",
       "family_status       0\n",
       "family_status_id    0\n",
       "gender              0\n",
       "income_type         0\n",
       "debt                0\n",
       "total_income        0\n",
       "purpose             0\n",
       "dtype: int64"
      ]
     },
     "execution_count": 101,
     "metadata": {},
     "output_type": "execute_result"
    }
   ],
   "source": [
    "data.isna().sum()"
   ]
  },
  {
   "cell_type": "markdown",
   "id": "ddc81e43",
   "metadata": {
    "deletable": false,
    "id": "ddc81e43"
   },
   "source": [
    "### Изменение типов данных"
   ]
  },
  {
   "cell_type": "markdown",
   "id": "42d19d24",
   "metadata": {
    "deletable": false,
    "id": "42d19d24"
   },
   "source": [
    "#### Заменим вещественный тип данных в столбце `total_income` на целочисленный с помощью метода `astype()`."
   ]
  },
  {
   "cell_type": "code",
   "execution_count": 102,
   "id": "920b65ad",
   "metadata": {
    "deletable": false,
    "id": "920b65ad"
   },
   "outputs": [],
   "source": [
    "data['total_income'] = data['total_income'].astype(int)"
   ]
  },
  {
   "cell_type": "markdown",
   "id": "80c420ba",
   "metadata": {
    "deletable": false,
    "id": "80c420ba"
   },
   "source": [
    "### Обработка дубликатов"
   ]
  },
  {
   "cell_type": "markdown",
   "id": "dc587695",
   "metadata": {
    "deletable": false,
    "id": "dc587695"
   },
   "source": [
    "#### Выведем на экран количество строк-дубликатов в данных. Если такие строки присутствуют, удалим их."
   ]
  },
  {
   "cell_type": "code",
   "execution_count": 103,
   "id": "3ee445e4",
   "metadata": {
    "deletable": false,
    "id": "3ee445e4",
    "outputId": "9684deba-1934-42d1-99e1-cda61740f822"
   },
   "outputs": [
    {
     "data": {
      "text/plain": [
       "54"
      ]
     },
     "execution_count": 103,
     "metadata": {},
     "output_type": "execute_result"
    }
   ],
   "source": [
    "data.duplicated().sum()"
   ]
  },
  {
   "cell_type": "code",
   "execution_count": 104,
   "id": "8575fe05",
   "metadata": {
    "deletable": false,
    "id": "8575fe05"
   },
   "outputs": [],
   "source": [
    "data = data.drop_duplicates()"
   ]
  },
  {
   "cell_type": "markdown",
   "id": "9771a76c",
   "metadata": {
    "deletable": false,
    "id": "9771a76c"
   },
   "source": [
    "#### Обработаем неявные дубликаты в столбце `education`. В этом столбце есть одни и те же значения, но записанные по-разному: с использованием заглавных и строчных букв. Приведём их к нижнему регистру. Проверим остальные столбцы."
   ]
  },
  {
   "cell_type": "code",
   "execution_count": 105,
   "id": "a9f8e2bf",
   "metadata": {
    "deletable": false,
    "id": "a9f8e2bf"
   },
   "outputs": [],
   "source": [
    "data['education'] = data['education'].str.lower()"
   ]
  },
  {
   "cell_type": "markdown",
   "id": "9904cf55",
   "metadata": {
    "deletable": false,
    "id": "9904cf55"
   },
   "source": [
    "### Категоризация данных"
   ]
  },
  {
   "cell_type": "markdown",
   "id": "72fcc8a2",
   "metadata": {
    "deletable": false,
    "id": "72fcc8a2"
   },
   "source": [
    "#### На основании диапазонов, указанных ниже, создадим в датафрейме `data` столбец `total_income_category` с категориями:\n",
    "\n",
    "- 0–30000 — `'E'`;\n",
    "- 30001–50000 — `'D'`;\n",
    "- 50001–200000 — `'C'`;\n",
    "- 200001–1000000 — `'B'`;\n",
    "- 1000001 и выше — `'A'`.\n",
    "\n",
    "\n",
    "**Например, кредитополучателю с доходом 25000 нужно назначить категорию `'E'`, а клиенту, получающему 235000, — `'B'`. Используем собственную функцию с именем `categorize_income()` и метод `apply()`.**"
   ]
  },
  {
   "cell_type": "code",
   "execution_count": 106,
   "id": "e1771346",
   "metadata": {
    "deletable": false,
    "id": "e1771346"
   },
   "outputs": [],
   "source": [
    "def categorize_income(income):\n",
    "    try:\n",
    "        if 0 <= income <= 30000:\n",
    "            return 'E'\n",
    "        elif 30001 <= income <= 50000:\n",
    "            return 'D'\n",
    "        elif 50001 <= income <= 200000:\n",
    "            return 'C'\n",
    "        elif 200001 <= income <= 1000000:\n",
    "            return 'B'\n",
    "        elif income >= 1000001:\n",
    "            return 'A'\n",
    "    except:\n",
    "        pass"
   ]
  },
  {
   "cell_type": "code",
   "execution_count": 107,
   "id": "d5f3586d",
   "metadata": {
    "deletable": false,
    "id": "d5f3586d"
   },
   "outputs": [],
   "source": [
    "data['total_income_category'] = data['total_income'].apply(categorize_income)"
   ]
  },
  {
   "cell_type": "markdown",
   "id": "dde49b5c",
   "metadata": {
    "deletable": false,
    "id": "dde49b5c"
   },
   "source": [
    "#### Выведем на экран перечень уникальных целей взятия кредита из столбца `purpose`."
   ]
  },
  {
   "cell_type": "code",
   "execution_count": 108,
   "id": "f67ce9b3",
   "metadata": {
    "deletable": false,
    "id": "f67ce9b3",
    "outputId": "673c12d9-7d7e-4ae0-9812-c622c89dd244"
   },
   "outputs": [
    {
     "data": {
      "text/plain": [
       "array(['покупка жилья', 'приобретение автомобиля',\n",
       "       'дополнительное образование', 'сыграть свадьбу',\n",
       "       'операции с жильем', 'образование', 'на проведение свадьбы',\n",
       "       'покупка жилья для семьи', 'покупка недвижимости',\n",
       "       'покупка коммерческой недвижимости', 'покупка жилой недвижимости',\n",
       "       'строительство собственной недвижимости', 'недвижимость',\n",
       "       'строительство недвижимости', 'на покупку подержанного автомобиля',\n",
       "       'на покупку своего автомобиля',\n",
       "       'операции с коммерческой недвижимостью',\n",
       "       'строительство жилой недвижимости', 'жилье',\n",
       "       'операции со своей недвижимостью', 'автомобили',\n",
       "       'заняться образованием', 'сделка с подержанным автомобилем',\n",
       "       'получение образования', 'автомобиль', 'свадьба',\n",
       "       'получение дополнительного образования', 'покупка своего жилья',\n",
       "       'операции с недвижимостью', 'получение высшего образования',\n",
       "       'свой автомобиль', 'сделка с автомобилем',\n",
       "       'профильное образование', 'высшее образование',\n",
       "       'покупка жилья для сдачи', 'на покупку автомобиля', 'ремонт жилью',\n",
       "       'заняться высшим образованием'], dtype=object)"
      ]
     },
     "execution_count": 108,
     "metadata": {},
     "output_type": "execute_result"
    }
   ],
   "source": [
    "data['purpose'].unique()"
   ]
  },
  {
   "cell_type": "markdown",
   "id": "85d0aef0",
   "metadata": {
    "deletable": false,
    "id": "85d0aef0"
   },
   "source": [
    "#### Создадим функцию, которая на основании данных из столбца `purpose` сформирует новый столбец `purpose_category`, в который войдут следующие категории:\n",
    "\n",
    "- `'операции с автомобилем'`,\n",
    "- `'операции с недвижимостью'`,\n",
    "- `'проведение свадьбы'`,\n",
    "- `'получение образования'`.\n",
    "\n",
    "**Например, если в столбце `purpose` находится подстрока `'на покупку автомобиля'`, то в столбце `purpose_category` должна появиться строка `'операции с автомобилем'`.**\n",
    "\n",
    "**Используем собственную функцию с именем `categorize_purpose()` и метод `apply()`. Изучим данные в столбце `purpose` и определим, какие подстроки помогут вам правильно определить категорию.**"
   ]
  },
  {
   "cell_type": "code",
   "execution_count": 109,
   "id": "e149fab4",
   "metadata": {
    "deletable": false,
    "id": "e149fab4"
   },
   "outputs": [],
   "source": [
    "def categorize_purpose(row):\n",
    "    try:\n",
    "        if 'автом' in row:\n",
    "            return 'операции с автомобилем'\n",
    "        elif 'жил' in row or 'недвиж' in row:\n",
    "            return 'операции с недвижимостью'\n",
    "        elif 'свад' in row:\n",
    "            return 'проведение свадьбы'\n",
    "        elif 'образов' in row:\n",
    "            return 'получение образования'\n",
    "    except:\n",
    "        return 'нет категории'"
   ]
  },
  {
   "cell_type": "code",
   "execution_count": 110,
   "id": "bf36e69b",
   "metadata": {
    "deletable": false,
    "id": "bf36e69b"
   },
   "outputs": [],
   "source": [
    "data['purpose_category'] = data['purpose'].apply(categorize_purpose)"
   ]
  },
  {
   "cell_type": "markdown",
   "id": "09b242bf",
   "metadata": {
    "id": "09b242bf",
    "tags": []
   },
   "source": [
    "## Исследуем данные и ответим на вопросы"
   ]
  },
  {
   "cell_type": "markdown",
   "id": "c5d66278",
   "metadata": {
    "id": "c5d66278",
    "tags": []
   },
   "source": [
    "#### Есть ли зависимость между количеством детей и возвратом кредита в срок?"
   ]
  },
  {
   "cell_type": "code",
   "execution_count": 111,
   "id": "2cacfc4a",
   "metadata": {
    "id": "2cacfc4a"
   },
   "outputs": [],
   "source": [
    "# Напишем функцию которая на основании данных из столбца children сформирует новый столбец children_category \n",
    "def amount_of_children(children):\n",
    "    \"\"\"\n",
    "       Функцию для для ислледования клиентов с детьми и без детей:\n",
    "     -'C детьми', если количество детей больше 0\n",
    "     -'Без детей'\n",
    "    \"\"\"\n",
    "    if children > 0:\n",
    "        return 'c детьми'\n",
    "    else:\n",
    "        return 'без детей'  "
   ]
  },
  {
   "cell_type": "code",
   "execution_count": 112,
   "id": "4c8f2435",
   "metadata": {},
   "outputs": [],
   "source": [
    "data['children_category'] = data['children'].apply(amount_of_children)"
   ]
  },
  {
   "cell_type": "markdown",
   "id": "9c6ca754",
   "metadata": {},
   "source": [
    "Построим сводную таблицу и найдём среднее значение по задолженности(debt).  "
   ]
  },
  {
   "cell_type": "code",
   "execution_count": 113,
   "id": "3957cf3d",
   "metadata": {},
   "outputs": [
    {
     "name": "stdout",
     "output_type": "stream",
     "text": [
      "                       debt\n",
      "children_category          \n",
      "c детьми           0.092391\n",
      "без детей          0.075353\n"
     ]
    }
   ],
   "source": [
    "data_pivot = data.pivot_table(index = ['children_category'], values = 'debt', aggfunc = 'mean')\n",
    "print(data_pivot)"
   ]
  },
  {
   "cell_type": "code",
   "execution_count": 114,
   "id": "3d6c6b85",
   "metadata": {},
   "outputs": [
    {
     "name": "stdout",
     "output_type": "stream",
     "text": [
      "children_category\n",
      "c детьми     9.239055\n",
      "без детей    7.535266\n",
      "Name: debt, dtype: float64\n"
     ]
    }
   ],
   "source": [
    "# Умножим на 100 и получим информацию о долге в процентах:\n",
    "print(data_pivot['debt'] * 100)"
   ]
  },
  {
   "cell_type": "markdown",
   "id": "60bb2d47",
   "metadata": {
    "deletable": false,
    "id": "3a6b99ec"
   },
   "source": [
    " **Вывод:** Без детей 7.5%, с детьми 9.2 %. Из таблицы мы видим, что клиенты с детьми подвержены большему влиянию долга банка по кредиту. Клиенты без детей не тратят дополнительные расходы на детей, соответственно платежеспособность у них выше.\n",
    "\n"
   ]
  },
  {
   "cell_type": "markdown",
   "id": "97be82ca",
   "metadata": {
    "id": "97be82ca",
    "tags": []
   },
   "source": [
    "#### Есть ли зависимость между семейным положением и возвратом кредита в срок?"
   ]
  },
  {
   "cell_type": "markdown",
   "id": "239cebd6",
   "metadata": {},
   "source": [
    "Доработаем столбец family_status и приведём данные столбца к нижнему регистру."
   ]
  },
  {
   "cell_type": "code",
   "execution_count": 115,
   "id": "af70273b",
   "metadata": {},
   "outputs": [],
   "source": [
    "data['family_status'] = data['family_status'].str.lower()"
   ]
  },
  {
   "cell_type": "markdown",
   "id": "6b0e0054",
   "metadata": {},
   "source": [
    "Создадим таблицу, отражающую зависимость между семейным положением и возвратом кредита в срок."
   ]
  },
  {
   "cell_type": "code",
   "execution_count": 116,
   "id": "dc3f7ee8",
   "metadata": {
    "id": "dc3f7ee8",
    "scrolled": true
   },
   "outputs": [
    {
     "name": "stdout",
     "output_type": "stream",
     "text": [
      "                       total_family  count_family  result_family_debt\n",
      "family_status                                                        \n",
      "в разводе                        84          1189            0.070648\n",
      "вдовец / вдова                   63           951            0.066246\n",
      "гражданский брак                385          4146            0.092861\n",
      "женат / замужем                 927         12266            0.075575\n",
      "не женат / не замужем           273          2796            0.097639\n"
     ]
    }
   ],
   "source": [
    "# Формируем новый датафрейм по сгрупированным данным\n",
    "data_family_debt = pd.DataFrame()\n",
    "data_family_debt['total_family'] = data.groupby('family_status')['debt'].sum()\n",
    "data_family_debt['count_family'] = data.groupby('family_status')['debt'].count()\n",
    "data_family_debt['result_family_debt'] = data_family_debt['total_family'] / data_family_debt['count_family']\n",
    "columns = ['total_family', 'count_family', 'result_family_debt']\n",
    "print(data_family_debt)"
   ]
  },
  {
   "cell_type": "code",
   "execution_count": 117,
   "id": "892ab91b",
   "metadata": {},
   "outputs": [
    {
     "name": "stdout",
     "output_type": "stream",
     "text": [
      "family_status\n",
      "в разводе                7.064760\n",
      "вдовец / вдова           6.624606\n",
      "гражданский брак         9.286059\n",
      "женат / замужем          7.557476\n",
      "не женат / не замужем    9.763948\n",
      "Name: result_family_debt, dtype: float64\n"
     ]
    }
   ],
   "source": [
    "# Домножим на 100 и получим информацию в процентах\n",
    "print(data_family_debt['result_family_debt'] * 100)"
   ]
  },
  {
   "cell_type": "markdown",
   "id": "1cef7837",
   "metadata": {
    "deletable": false,
    "id": "1cef7837"
   },
   "source": [
    "**Вывод:**  Из данной таблицы можно сделать вывод, клиенты, категории \"вдовец / вдова\" самые ответственные люди по кредитам. Больше всего долгов у клиентов с семейным положением: \"гражданский брак\",  \"не женат / не замужем\" . Клиенты категории \"женат / замужем\" и \"в разводе\" имеют примерно одинаковое количество по процентам задолжности. "
   ]
  },
  {
   "cell_type": "markdown",
   "id": "1e8b2fca",
   "metadata": {
    "id": "1e8b2fca",
    "tags": []
   },
   "source": [
    "#### Есть ли зависимость между уровнем дохода и возвратом кредита в срок?"
   ]
  },
  {
   "cell_type": "markdown",
   "id": "4a6aea18",
   "metadata": {},
   "source": [
    "Мы формировали стобец 'total_income_category' , в соответствии с доходом \n",
    "\n",
    "0–30000 — 'E';\n",
    "\n",
    "30001–50000 — 'D';\n",
    "\n",
    "50001–200000 — 'C';\n",
    "\n",
    "200001–1000000 — 'B';\n",
    "\n",
    "1000001 и выше — 'A'.\n"
   ]
  },
  {
   "cell_type": "code",
   "execution_count": 118,
   "id": "cd7e3720",
   "metadata": {
    "id": "cd7e3720"
   },
   "outputs": [
    {
     "name": "stdout",
     "output_type": "stream",
     "text": [
      "debt                       0     1\n",
      "total_income_category             \n",
      "A                         23     2\n",
      "B                       4660   354\n",
      "C                      14585  1353\n",
      "D                        328    21\n",
      "E                         20     2\n"
     ]
    }
   ],
   "source": [
    "# Построим сводную таблицу на основании данных, сформированных в столбце total_income_category  из датафрейма data.\n",
    "income_pivot_debt = data.pivot_table(index=['total_income_category', ], columns='debt', values = 'gender', aggfunc='count')\n",
    "print(income_pivot_debt)\n",
    "\n"
   ]
  },
  {
   "cell_type": "code",
   "execution_count": 119,
   "id": "e29d0fe2",
   "metadata": {},
   "outputs": [
    {
     "name": "stdout",
     "output_type": "stream",
     "text": [
      "total_income_category\n",
      "E    0.100000\n",
      "C    0.092767\n",
      "A    0.086957\n",
      "B    0.075966\n",
      "D    0.064024\n",
      "Name: ratio, dtype: float64\n"
     ]
    }
   ],
   "source": [
    "# Найдём соотношение задолженности \n",
    "# Отсортируем столбец ratio в порядке убывания \n",
    "income_pivot_debt['ratio'] = income_pivot_debt[1] / income_pivot_debt[0]\n",
    "income_pivot_debt = income_pivot_debt.sort_values('ratio', ascending = False)\n",
    "\n",
    "print(income_pivot_debt['ratio'])"
   ]
  },
  {
   "cell_type": "code",
   "execution_count": 120,
   "id": "84eaaf84",
   "metadata": {
    "scrolled": true
   },
   "outputs": [
    {
     "name": "stdout",
     "output_type": "stream",
     "text": [
      "total_income_category\n",
      "E    10.000000\n",
      "C     9.276654\n",
      "A     8.695652\n",
      "B     7.596567\n",
      "D     6.402439\n",
      "Name: ratio, dtype: float64\n"
     ]
    }
   ],
   "source": [
    "# Домножим на 100 и получим информацию в процентах\n",
    "print(income_pivot_debt['ratio'] * 100)"
   ]
  },
  {
   "cell_type": "markdown",
   "id": "9f4fccf1",
   "metadata": {
    "deletable": false,
    "id": "e8593def"
   },
   "source": [
    "**Вывод:**  \n",
    "\n",
    "Категории :\n",
    "          \n",
    "           -'E' =  10 % (доход: 0–30000);\n",
    "           \n",
    "           -'C' = 9.3 % (доход:50001–200000);\n",
    "           \n",
    "           -'A' = 8.7 % (доход:1000001 и выше);\n",
    "           \n",
    "           -'B' = 7.6 % (доход:200001–1000000);\n",
    "           \n",
    "           -'D' = 6.4 % (доход:30001–50000);\n",
    "           \n",
    "   Исходя из данных мы видим что первое место по кредитной задолженности занимают клиенты с доходом категории 'E', это и не удивительно. Удивляет, то что клиенты с доходом из категории 'A' стоят на третьем месте, имея  высокий доход, клиенты беспечно распоряжаются средствами, не экономят и забывают про кредиты.\n",
    "   Самые ответственные клиенты из категории 'D' имеют средний доход, экономят, помнят про кредиты.  \n",
    "   \n",
    "           "
   ]
  },
  {
   "cell_type": "markdown",
   "id": "99ecbd1f",
   "metadata": {
    "id": "99ecbd1f",
    "tags": []
   },
   "source": [
    "#### Как разные цели кредита влияют на его возврат в срок?"
   ]
  },
  {
   "cell_type": "markdown",
   "id": "0953c348",
   "metadata": {},
   "source": [
    "На основании созданных  данных из столбца purpose_category построим сводную таблицу "
   ]
  },
  {
   "cell_type": "code",
   "execution_count": 121,
   "id": "2b687290",
   "metadata": {
    "id": "2b687290"
   },
   "outputs": [
    {
     "name": "stdout",
     "output_type": "stream",
     "text": [
      "debt                         0    1\n",
      "purpose_category                   \n",
      "операции с автомобилем    3881  400\n",
      "операции с недвижимостью  9974  780\n",
      "получение образования     3620  369\n",
      "проведение свадьбы        2141  183\n"
     ]
    }
   ],
   "source": [
    "# Построим новую таблицу debt_pivot_purpose\n",
    "debt_pivot_purpose = data.pivot_table(index = ['purpose_category'], columns = 'debt', values = 'gender', aggfunc = 'count')\n",
    "print(debt_pivot_purpose)"
   ]
  },
  {
   "cell_type": "code",
   "execution_count": 122,
   "id": "39663025",
   "metadata": {},
   "outputs": [
    {
     "name": "stdout",
     "output_type": "stream",
     "text": [
      "debt                         0    1  ratio_purpose\n",
      "purpose_category                                  \n",
      "операции с автомобилем    3881  400      10.306622\n",
      "операции с недвижимостью  9974  780       7.820333\n",
      "получение образования     3620  369      10.193370\n",
      "проведение свадьбы        2141  183       8.547408\n"
     ]
    }
   ],
   "source": [
    "# Построим новый столбец ratio_purpose и найдём соотношение задолженности, домножаем на 100 и получаем информацию в процентах\n",
    "debt_pivot_purpose['ratio_purpose'] = debt_pivot_purpose[1] / debt_pivot_purpose[0] * 100\n",
    "print(debt_pivot_purpose)"
   ]
  },
  {
   "cell_type": "markdown",
   "id": "b4bb2ce6",
   "metadata": {
    "deletable": false,
    "id": "b4bb2ce6"
   },
   "source": [
    "**Вывод:** Самые ответственные клиенты по выплате кредитов, это клиенты с кредитом на недвижимость, вопрос жилья это один из самых важных вопросов каждого человека. Под большую группу должников подпадают клиенты с операциями на автомобиль и получение образования.Проведение свадьбы находится на втором месте."
   ]
  },
  {
   "cell_type": "markdown",
   "id": "09c3ac4c",
   "metadata": {
    "id": "09c3ac4c",
    "tags": []
   },
   "source": [
    "#### Приведём возможные причины появления пропусков в исходных данных."
   ]
  },
  {
   "cell_type": "markdown",
   "id": "9da2ceda",
   "metadata": {
    "deletable": false,
    "id": "9da2ceda"
   },
   "source": [
    "*Ответ:*  Пропуски в данных могут появиться по причине не верного ввода информации или невнимательного заполнения. Так же,  предоставленная,  не полная или недостоверная информация.Автоматического заполнения данных, возможно программа перепутала или недописала данные.\n",
    "\n",
    "   В датафрейме присутствуют пропуски типа NaN, они замещают отсутствующее в ячейке число и принадлежат к типу float64, поскольку пропусками являются количественные переменные с ними можно проводить математические операции.\n",
    "\n",
    " \n",
    " Пропуски в столбцах:\n",
    " \n",
    "  \n",
    " total_income: хранит данные о доходах. На сумму дохода сильнее всего влияет тип занятости, поэтому мы заполнили пропуски в этом столбце медианным значением по каждому типу из столбца income_type.\n",
    " \n",
    " days_employed: заполнили пропуски в столбце days_employed медианными значениями по каждому типу занятости income_type.   "
   ]
  },
  {
   "cell_type": "markdown",
   "id": "7b0487d6",
   "metadata": {
    "id": "7b0487d6",
    "tags": []
   },
   "source": [
    "#### Объясним, почему заполнить пропуски медианным значением — лучшее решение для количественных переменных."
   ]
  },
  {
   "cell_type": "markdown",
   "id": "7ecf2b8e",
   "metadata": {
    "deletable": false,
    "id": "7ecf2b8e"
   },
   "source": [
    "*Ответ:* Медианное значение лучше характеризует данные, когда некоторые значения сильно выделяются среди большинства.\n",
    "В выборке присутствуют аномальные значения с очень большой разбежкой, поэтому в данном проекте мы заполняли пропуски медианным значением.\n",
    "\n"
   ]
  },
  {
   "cell_type": "markdown",
   "id": "6db5255a",
   "metadata": {
    "id": "6db5255a",
    "tags": []
   },
   "source": [
    "## Общий вывод."
   ]
  },
  {
   "cell_type": "markdown",
   "id": "bad65432",
   "metadata": {
    "id": "bad65432"
   },
   "source": [
    " \n",
    "Была проделана работа, удалены пропуски, доработаны таблицы.  \n",
    "Самый важный вывод, что клиенты, которые берут кредит на недвижимость - самые ответственные плательщики - хорошие клиенты для банка. \n",
    "Так или иначе на задолженность влияет очень много факторов. Клиенты с категорией дохода высокого не всегда самые ответственные.\n",
    "\n",
    "\n",
    "Портрет надёжного плательщика представляется в виде клиента категории вдова/вдовец, без детей, цель кредита - недвижимость, c доходом категории D - (30001–50000) и доходом категории B - (200001–1000000).  \n",
    "\n",
    "\n",
    "Портрет ненадёжного плательщика представляется в виде клиента категории гражданский брак, не женат/не замужем, с детьми, цель кредита - автомобиль/получение образования, c доходом категории E - (0–30000) и доходом категории C - (50001–200000). "
   ]
  }
 ],
 "metadata": {
  "ExecuteTimeLog": [
   {
    "duration": 57,
    "start_time": "2022-07-20T12:32:05.579Z"
   },
   {
    "duration": 95,
    "start_time": "2022-07-20T12:32:14.972Z"
   },
   {
    "duration": 56,
    "start_time": "2022-07-20T12:32:26.120Z"
   },
   {
    "duration": 4,
    "start_time": "2022-07-20T12:32:32.681Z"
   },
   {
    "duration": 4,
    "start_time": "2022-07-20T12:47:05.939Z"
   },
   {
    "duration": 4,
    "start_time": "2022-07-20T12:52:34.795Z"
   },
   {
    "duration": 3,
    "start_time": "2022-07-20T12:52:35.665Z"
   },
   {
    "duration": 3,
    "start_time": "2022-07-20T12:52:52.510Z"
   },
   {
    "duration": 3,
    "start_time": "2022-07-20T12:52:52.950Z"
   },
   {
    "duration": 4,
    "start_time": "2022-07-20T12:53:29.869Z"
   },
   {
    "duration": 3,
    "start_time": "2022-07-20T12:53:30.237Z"
   },
   {
    "duration": 3,
    "start_time": "2022-07-20T12:53:38.196Z"
   },
   {
    "duration": 4,
    "start_time": "2022-07-20T12:53:46.918Z"
   },
   {
    "duration": 3,
    "start_time": "2022-07-20T12:53:47.293Z"
   },
   {
    "duration": 3,
    "start_time": "2022-07-20T12:53:49.850Z"
   },
   {
    "duration": 67,
    "start_time": "2022-07-20T13:01:48.440Z"
   },
   {
    "duration": 4,
    "start_time": "2022-07-20T13:02:48.589Z"
   },
   {
    "duration": 9,
    "start_time": "2022-07-20T13:02:49.295Z"
   },
   {
    "duration": 8,
    "start_time": "2022-07-20T13:03:45.356Z"
   },
   {
    "duration": 7,
    "start_time": "2022-07-20T13:04:05.246Z"
   },
   {
    "duration": 7,
    "start_time": "2022-07-20T13:04:49.270Z"
   },
   {
    "duration": 736,
    "start_time": "2022-07-20T13:04:57.691Z"
   },
   {
    "duration": 25,
    "start_time": "2022-07-20T13:04:58.429Z"
   },
   {
    "duration": 26,
    "start_time": "2022-07-20T13:04:58.456Z"
   },
   {
    "duration": 39,
    "start_time": "2022-07-20T13:04:58.485Z"
   },
   {
    "duration": 63,
    "start_time": "2022-07-20T13:04:58.526Z"
   },
   {
    "duration": 5,
    "start_time": "2022-07-20T13:04:58.591Z"
   },
   {
    "duration": 31,
    "start_time": "2022-07-20T13:04:58.597Z"
   },
   {
    "duration": 9,
    "start_time": "2022-07-20T13:04:58.631Z"
   },
   {
    "duration": 19,
    "start_time": "2022-07-20T13:04:58.642Z"
   },
   {
    "duration": 9,
    "start_time": "2022-07-20T13:04:58.667Z"
   },
   {
    "duration": 78,
    "start_time": "2022-07-20T13:04:58.678Z"
   },
   {
    "duration": 18,
    "start_time": "2022-07-20T13:04:58.759Z"
   },
   {
    "duration": 4,
    "start_time": "2022-07-20T13:04:58.779Z"
   },
   {
    "duration": 43,
    "start_time": "2022-07-20T13:04:58.785Z"
   },
   {
    "duration": 19,
    "start_time": "2022-07-20T13:04:58.830Z"
   },
   {
    "duration": 13,
    "start_time": "2022-07-20T13:04:58.851Z"
   },
   {
    "duration": 16,
    "start_time": "2022-07-20T13:04:58.867Z"
   },
   {
    "duration": 37,
    "start_time": "2022-07-20T13:04:58.885Z"
   },
   {
    "duration": 8,
    "start_time": "2022-07-20T13:04:58.925Z"
   },
   {
    "duration": 7,
    "start_time": "2022-07-20T13:04:58.935Z"
   },
   {
    "duration": 21,
    "start_time": "2022-07-20T13:04:58.943Z"
   },
   {
    "duration": 12,
    "start_time": "2022-07-20T13:04:58.969Z"
   },
   {
    "duration": 29,
    "start_time": "2022-07-20T13:04:58.983Z"
   },
   {
    "duration": 34,
    "start_time": "2022-07-20T13:04:59.015Z"
   },
   {
    "duration": 15,
    "start_time": "2022-07-20T13:04:59.052Z"
   },
   {
    "duration": 5,
    "start_time": "2022-07-20T13:04:59.069Z"
   },
   {
    "duration": 4,
    "start_time": "2022-07-20T13:05:07.749Z"
   },
   {
    "duration": 13,
    "start_time": "2022-07-20T13:05:08.699Z"
   },
   {
    "duration": 5,
    "start_time": "2022-07-20T13:06:57.257Z"
   },
   {
    "duration": 7,
    "start_time": "2022-07-20T13:06:57.617Z"
   },
   {
    "duration": 5,
    "start_time": "2022-07-20T13:07:10.668Z"
   },
   {
    "duration": 14,
    "start_time": "2022-07-20T13:07:11.159Z"
   },
   {
    "duration": 24,
    "start_time": "2022-07-20T13:18:26.058Z"
   },
   {
    "duration": 18,
    "start_time": "2022-07-20T13:18:56.106Z"
   },
   {
    "duration": 19,
    "start_time": "2022-07-20T13:21:32.921Z"
   },
   {
    "duration": 5,
    "start_time": "2022-07-20T13:29:07.567Z"
   },
   {
    "duration": 11,
    "start_time": "2022-07-20T13:29:08.075Z"
   },
   {
    "duration": 5,
    "start_time": "2022-07-20T13:29:41.905Z"
   },
   {
    "duration": 9,
    "start_time": "2022-07-20T13:29:44.194Z"
   },
   {
    "duration": 21,
    "start_time": "2022-07-20T13:30:38.367Z"
   },
   {
    "duration": 69,
    "start_time": "2022-07-20T14:11:28.199Z"
   },
   {
    "duration": 1711,
    "start_time": "2022-07-20T14:11:43.543Z"
   },
   {
    "duration": 5,
    "start_time": "2022-07-20T14:11:54.060Z"
   },
   {
    "duration": 98,
    "start_time": "2022-07-20T14:14:48.442Z"
   },
   {
    "duration": 13,
    "start_time": "2022-07-20T14:14:59.943Z"
   },
   {
    "duration": 52,
    "start_time": "2022-07-20T14:15:23.507Z"
   },
   {
    "duration": 14,
    "start_time": "2022-07-20T14:15:40.753Z"
   },
   {
    "duration": 4,
    "start_time": "2022-07-20T14:15:50.893Z"
   },
   {
    "duration": 116,
    "start_time": "2022-07-20T14:16:19.192Z"
   },
   {
    "duration": 16,
    "start_time": "2022-07-20T14:16:23.304Z"
   },
   {
    "duration": 54,
    "start_time": "2022-07-20T14:18:37.719Z"
   },
   {
    "duration": 128,
    "start_time": "2022-07-20T14:18:45.669Z"
   },
   {
    "duration": 24,
    "start_time": "2022-07-20T14:18:51.300Z"
   },
   {
    "duration": 63,
    "start_time": "2022-07-20T14:18:59.192Z"
   },
   {
    "duration": 67,
    "start_time": "2022-07-20T14:19:06.229Z"
   },
   {
    "duration": 13,
    "start_time": "2022-07-20T14:19:11.117Z"
   },
   {
    "duration": 16,
    "start_time": "2022-07-20T14:20:00.358Z"
   },
   {
    "duration": 15,
    "start_time": "2022-07-20T14:20:41.091Z"
   },
   {
    "duration": 8,
    "start_time": "2022-07-20T14:23:24.539Z"
   },
   {
    "duration": 11,
    "start_time": "2022-07-20T14:27:05.010Z"
   },
   {
    "duration": 4,
    "start_time": "2022-07-20T14:27:09.549Z"
   },
   {
    "duration": 4,
    "start_time": "2022-07-20T14:27:32.363Z"
   },
   {
    "duration": 5,
    "start_time": "2022-07-20T14:27:47.111Z"
   },
   {
    "duration": 5,
    "start_time": "2022-07-20T14:28:06.404Z"
   },
   {
    "duration": 6,
    "start_time": "2022-07-20T14:28:27.970Z"
   },
   {
    "duration": 6,
    "start_time": "2022-07-20T14:41:58.317Z"
   },
   {
    "duration": 16,
    "start_time": "2022-07-20T14:53:43.419Z"
   },
   {
    "duration": 24,
    "start_time": "2022-07-20T14:53:46.268Z"
   },
   {
    "duration": 19,
    "start_time": "2022-07-20T14:57:24.133Z"
   },
   {
    "duration": 33,
    "start_time": "2022-07-20T14:59:06.251Z"
   },
   {
    "duration": 84,
    "start_time": "2022-07-20T14:59:25.000Z"
   },
   {
    "duration": 18,
    "start_time": "2022-07-20T14:59:51.420Z"
   },
   {
    "duration": 17,
    "start_time": "2022-07-20T15:00:11.563Z"
   },
   {
    "duration": 23,
    "start_time": "2022-07-20T15:00:24.423Z"
   },
   {
    "duration": 182,
    "start_time": "2022-07-20T15:20:34.804Z"
   },
   {
    "duration": 286,
    "start_time": "2022-07-20T15:20:39.091Z"
   },
   {
    "duration": 865,
    "start_time": "2022-07-20T15:20:45.311Z"
   },
   {
    "duration": 55,
    "start_time": "2022-07-20T15:21:09.157Z"
   },
   {
    "duration": 1007,
    "start_time": "2022-07-20T15:21:14.756Z"
   },
   {
    "duration": 923,
    "start_time": "2022-07-20T15:21:22.495Z"
   },
   {
    "duration": 925,
    "start_time": "2022-07-20T15:21:26.650Z"
   },
   {
    "duration": 718,
    "start_time": "2022-07-20T15:21:39.354Z"
   },
   {
    "duration": 13,
    "start_time": "2022-07-20T15:21:42.750Z"
   },
   {
    "duration": 499,
    "start_time": "2022-07-20T15:21:47.718Z"
   },
   {
    "duration": 32,
    "start_time": "2022-07-20T15:21:48.219Z"
   },
   {
    "duration": 18,
    "start_time": "2022-07-20T15:21:48.254Z"
   },
   {
    "duration": 11,
    "start_time": "2022-07-20T15:21:48.274Z"
   },
   {
    "duration": 54,
    "start_time": "2022-07-20T15:21:48.288Z"
   },
   {
    "duration": 4,
    "start_time": "2022-07-20T15:21:48.344Z"
   },
   {
    "duration": 28,
    "start_time": "2022-07-20T15:21:48.349Z"
   },
   {
    "duration": 6,
    "start_time": "2022-07-20T15:21:48.379Z"
   },
   {
    "duration": 15,
    "start_time": "2022-07-20T15:21:48.387Z"
   },
   {
    "duration": 10,
    "start_time": "2022-07-20T15:21:48.404Z"
   },
   {
    "duration": 39,
    "start_time": "2022-07-20T15:21:48.422Z"
   },
   {
    "duration": 11,
    "start_time": "2022-07-20T15:21:48.462Z"
   },
   {
    "duration": 7,
    "start_time": "2022-07-20T15:21:48.475Z"
   },
   {
    "duration": 41,
    "start_time": "2022-07-20T15:21:48.485Z"
   },
   {
    "duration": 19,
    "start_time": "2022-07-20T15:21:48.527Z"
   },
   {
    "duration": 12,
    "start_time": "2022-07-20T15:21:48.547Z"
   },
   {
    "duration": 9,
    "start_time": "2022-07-20T15:21:48.561Z"
   },
   {
    "duration": 25,
    "start_time": "2022-07-20T15:21:48.571Z"
   },
   {
    "duration": 25,
    "start_time": "2022-07-20T15:21:48.598Z"
   },
   {
    "duration": 7,
    "start_time": "2022-07-20T15:21:48.626Z"
   },
   {
    "duration": 16,
    "start_time": "2022-07-20T15:21:48.635Z"
   },
   {
    "duration": 10,
    "start_time": "2022-07-20T15:21:48.653Z"
   },
   {
    "duration": 25,
    "start_time": "2022-07-20T15:21:48.665Z"
   },
   {
    "duration": 23,
    "start_time": "2022-07-20T15:21:48.692Z"
   },
   {
    "duration": 11,
    "start_time": "2022-07-20T15:21:48.718Z"
   },
   {
    "duration": 8,
    "start_time": "2022-07-20T15:21:48.731Z"
   },
   {
    "duration": 8,
    "start_time": "2022-07-20T15:21:48.740Z"
   },
   {
    "duration": 18,
    "start_time": "2022-07-20T15:21:48.750Z"
   },
   {
    "duration": 4,
    "start_time": "2022-07-20T15:21:52.403Z"
   },
   {
    "duration": 55,
    "start_time": "2022-07-20T15:39:04.026Z"
   },
   {
    "duration": 59,
    "start_time": "2022-07-20T15:44:54.197Z"
   },
   {
    "duration": 92,
    "start_time": "2022-07-20T15:46:12.359Z"
   },
   {
    "duration": 77,
    "start_time": "2022-07-20T15:46:36.169Z"
   },
   {
    "duration": 71,
    "start_time": "2022-07-20T15:46:58.906Z"
   },
   {
    "duration": 13,
    "start_time": "2022-07-20T15:47:51.872Z"
   },
   {
    "duration": 29,
    "start_time": "2022-07-20T15:48:15.974Z"
   },
   {
    "duration": 29,
    "start_time": "2022-07-20T15:48:29.781Z"
   },
   {
    "duration": 27,
    "start_time": "2022-07-20T15:49:16.171Z"
   },
   {
    "duration": 27,
    "start_time": "2022-07-20T15:49:56.098Z"
   },
   {
    "duration": 27,
    "start_time": "2022-07-20T15:50:46.272Z"
   },
   {
    "duration": 28,
    "start_time": "2022-07-20T15:50:50.914Z"
   },
   {
    "duration": 26,
    "start_time": "2022-07-20T15:50:56.718Z"
   },
   {
    "duration": 31,
    "start_time": "2022-07-20T15:51:24.501Z"
   },
   {
    "duration": 21,
    "start_time": "2022-07-20T15:51:30.369Z"
   },
   {
    "duration": 492,
    "start_time": "2022-07-20T15:51:40.193Z"
   },
   {
    "duration": 22,
    "start_time": "2022-07-20T15:51:40.687Z"
   },
   {
    "duration": 24,
    "start_time": "2022-07-20T15:51:40.710Z"
   },
   {
    "duration": 16,
    "start_time": "2022-07-20T15:51:40.737Z"
   },
   {
    "duration": 47,
    "start_time": "2022-07-20T15:51:40.755Z"
   },
   {
    "duration": 3,
    "start_time": "2022-07-20T15:51:40.804Z"
   },
   {
    "duration": 25,
    "start_time": "2022-07-20T15:51:40.809Z"
   },
   {
    "duration": 22,
    "start_time": "2022-07-20T15:51:40.835Z"
   },
   {
    "duration": 9,
    "start_time": "2022-07-20T15:51:40.860Z"
   },
   {
    "duration": 4,
    "start_time": "2022-07-20T15:51:40.873Z"
   },
   {
    "duration": 49,
    "start_time": "2022-07-20T15:51:40.879Z"
   },
   {
    "duration": 11,
    "start_time": "2022-07-20T15:51:40.935Z"
   },
   {
    "duration": 6,
    "start_time": "2022-07-20T15:51:40.947Z"
   },
   {
    "duration": 23,
    "start_time": "2022-07-20T15:51:40.955Z"
   },
   {
    "duration": 19,
    "start_time": "2022-07-20T15:51:40.980Z"
   },
   {
    "duration": 23,
    "start_time": "2022-07-20T15:51:41.001Z"
   },
   {
    "duration": 9,
    "start_time": "2022-07-20T15:51:41.026Z"
   },
   {
    "duration": 29,
    "start_time": "2022-07-20T15:51:41.036Z"
   },
   {
    "duration": 13,
    "start_time": "2022-07-20T15:51:41.067Z"
   },
   {
    "duration": 16,
    "start_time": "2022-07-20T15:51:41.082Z"
   },
   {
    "duration": 13,
    "start_time": "2022-07-20T15:51:41.100Z"
   },
   {
    "duration": 4,
    "start_time": "2022-07-20T15:51:41.115Z"
   },
   {
    "duration": 33,
    "start_time": "2022-07-20T15:51:41.121Z"
   },
   {
    "duration": 26,
    "start_time": "2022-07-20T15:51:41.156Z"
   },
   {
    "duration": 12,
    "start_time": "2022-07-20T15:51:41.184Z"
   },
   {
    "duration": 94,
    "start_time": "2022-07-20T15:51:41.198Z"
   },
   {
    "duration": 0,
    "start_time": "2022-07-20T15:51:41.294Z"
   },
   {
    "duration": 0,
    "start_time": "2022-07-20T15:51:41.295Z"
   },
   {
    "duration": 19,
    "start_time": "2022-07-20T15:52:48.602Z"
   },
   {
    "duration": 3,
    "start_time": "2022-07-20T15:52:49.924Z"
   },
   {
    "duration": 12,
    "start_time": "2022-07-20T15:53:02.065Z"
   },
   {
    "duration": 16,
    "start_time": "2022-07-20T15:53:04.394Z"
   },
   {
    "duration": 23,
    "start_time": "2022-07-20T15:54:05.898Z"
   },
   {
    "duration": 42,
    "start_time": "2022-07-20T15:54:12.257Z"
   },
   {
    "duration": 32,
    "start_time": "2022-07-20T15:54:37.476Z"
   },
   {
    "duration": 57,
    "start_time": "2022-07-20T15:54:53.212Z"
   },
   {
    "duration": 62,
    "start_time": "2022-07-20T15:56:08.772Z"
   },
   {
    "duration": 18,
    "start_time": "2022-07-20T15:56:25.707Z"
   },
   {
    "duration": 24,
    "start_time": "2022-07-20T15:56:32.574Z"
   },
   {
    "duration": 36,
    "start_time": "2022-07-20T15:56:44.655Z"
   },
   {
    "duration": 33,
    "start_time": "2022-07-20T15:57:13.589Z"
   },
   {
    "duration": 7,
    "start_time": "2022-07-20T15:59:51.054Z"
   },
   {
    "duration": 15,
    "start_time": "2022-07-20T15:59:52.165Z"
   },
   {
    "duration": 22,
    "start_time": "2022-07-20T16:00:52.681Z"
   },
   {
    "duration": 25,
    "start_time": "2022-07-20T16:01:05.616Z"
   },
   {
    "duration": 17,
    "start_time": "2022-07-20T16:01:17.553Z"
   },
   {
    "duration": 205,
    "start_time": "2022-07-20T16:02:15.012Z"
   },
   {
    "duration": 1226,
    "start_time": "2022-07-20T16:05:21.357Z"
   },
   {
    "duration": 453,
    "start_time": "2022-07-20T16:06:16.276Z"
   },
   {
    "duration": 24,
    "start_time": "2022-07-20T16:06:16.731Z"
   },
   {
    "duration": 16,
    "start_time": "2022-07-20T16:06:16.756Z"
   },
   {
    "duration": 10,
    "start_time": "2022-07-20T16:06:16.774Z"
   },
   {
    "duration": 64,
    "start_time": "2022-07-20T16:06:16.786Z"
   },
   {
    "duration": 4,
    "start_time": "2022-07-20T16:06:16.852Z"
   },
   {
    "duration": 18,
    "start_time": "2022-07-20T16:06:16.858Z"
   },
   {
    "duration": 8,
    "start_time": "2022-07-20T16:06:16.878Z"
   },
   {
    "duration": 15,
    "start_time": "2022-07-20T16:06:16.888Z"
   },
   {
    "duration": 17,
    "start_time": "2022-07-20T16:06:16.907Z"
   },
   {
    "duration": 37,
    "start_time": "2022-07-20T16:06:16.926Z"
   },
   {
    "duration": 16,
    "start_time": "2022-07-20T16:06:16.965Z"
   },
   {
    "duration": 6,
    "start_time": "2022-07-20T16:06:16.983Z"
   },
   {
    "duration": 44,
    "start_time": "2022-07-20T16:06:16.992Z"
   },
   {
    "duration": 17,
    "start_time": "2022-07-20T16:06:17.038Z"
   },
   {
    "duration": 13,
    "start_time": "2022-07-20T16:06:17.057Z"
   },
   {
    "duration": 13,
    "start_time": "2022-07-20T16:06:17.072Z"
   },
   {
    "duration": 13,
    "start_time": "2022-07-20T16:06:17.088Z"
   },
   {
    "duration": 21,
    "start_time": "2022-07-20T16:06:17.103Z"
   },
   {
    "duration": 20,
    "start_time": "2022-07-20T16:06:17.127Z"
   },
   {
    "duration": 20,
    "start_time": "2022-07-20T16:06:17.149Z"
   },
   {
    "duration": 7,
    "start_time": "2022-07-20T16:06:17.172Z"
   },
   {
    "duration": 13,
    "start_time": "2022-07-20T16:06:17.181Z"
   },
   {
    "duration": 31,
    "start_time": "2022-07-20T16:06:17.196Z"
   },
   {
    "duration": 5,
    "start_time": "2022-07-20T16:06:17.229Z"
   },
   {
    "duration": 1444,
    "start_time": "2022-07-20T16:06:17.236Z"
   },
   {
    "duration": 0,
    "start_time": "2022-07-20T16:06:18.682Z"
   },
   {
    "duration": 0,
    "start_time": "2022-07-20T16:06:18.685Z"
   },
   {
    "duration": 2516,
    "start_time": "2022-07-20T16:06:28.792Z"
   },
   {
    "duration": 1514,
    "start_time": "2022-07-20T16:06:31.506Z"
   },
   {
    "duration": 1875,
    "start_time": "2022-07-20T16:06:34.690Z"
   },
   {
    "duration": 13,
    "start_time": "2022-07-20T16:08:38.895Z"
   },
   {
    "duration": 13,
    "start_time": "2022-07-20T16:10:35.879Z"
   },
   {
    "duration": 15,
    "start_time": "2022-07-20T16:13:06.108Z"
   },
   {
    "duration": 15,
    "start_time": "2022-07-20T16:26:38.953Z"
   },
   {
    "duration": 11,
    "start_time": "2022-07-20T16:28:14.574Z"
   },
   {
    "duration": 14,
    "start_time": "2022-07-20T16:28:22.593Z"
   },
   {
    "duration": 12,
    "start_time": "2022-07-20T16:28:37.358Z"
   },
   {
    "duration": 21,
    "start_time": "2022-07-20T16:34:16.311Z"
   },
   {
    "duration": 19,
    "start_time": "2022-07-20T16:34:24.088Z"
   },
   {
    "duration": 18,
    "start_time": "2022-07-20T16:35:04.404Z"
   },
   {
    "duration": 9,
    "start_time": "2022-07-20T16:36:21.889Z"
   },
   {
    "duration": 14,
    "start_time": "2022-07-20T16:36:28.569Z"
   },
   {
    "duration": 15,
    "start_time": "2022-07-20T16:37:08.857Z"
   },
   {
    "duration": 14,
    "start_time": "2022-07-20T16:38:36.406Z"
   },
   {
    "duration": 15,
    "start_time": "2022-07-20T16:39:06.743Z"
   },
   {
    "duration": 14,
    "start_time": "2022-07-20T16:48:45.652Z"
   },
   {
    "duration": 14,
    "start_time": "2022-07-20T16:49:27.190Z"
   },
   {
    "duration": 14,
    "start_time": "2022-07-20T16:58:27.104Z"
   },
   {
    "duration": 9,
    "start_time": "2022-07-20T16:59:56.442Z"
   },
   {
    "duration": 6,
    "start_time": "2022-07-20T17:00:03.888Z"
   },
   {
    "duration": 18,
    "start_time": "2022-07-20T17:03:08.169Z"
   },
   {
    "duration": 62,
    "start_time": "2022-07-20T17:03:28.982Z"
   },
   {
    "duration": 118,
    "start_time": "2022-07-20T17:03:36.156Z"
   },
   {
    "duration": 51,
    "start_time": "2022-07-20T17:04:08.533Z"
   },
   {
    "duration": 15,
    "start_time": "2022-07-20T17:04:35.522Z"
   },
   {
    "duration": 14,
    "start_time": "2022-07-20T17:04:44.746Z"
   },
   {
    "duration": 13,
    "start_time": "2022-07-20T17:05:19.943Z"
   },
   {
    "duration": 5,
    "start_time": "2022-07-20T17:05:21.416Z"
   },
   {
    "duration": 516,
    "start_time": "2022-07-20T17:05:30.946Z"
   },
   {
    "duration": 24,
    "start_time": "2022-07-20T17:05:31.465Z"
   },
   {
    "duration": 26,
    "start_time": "2022-07-20T17:05:31.491Z"
   },
   {
    "duration": 38,
    "start_time": "2022-07-20T17:05:31.519Z"
   },
   {
    "duration": 52,
    "start_time": "2022-07-20T17:05:31.559Z"
   },
   {
    "duration": 4,
    "start_time": "2022-07-20T17:05:31.613Z"
   },
   {
    "duration": 30,
    "start_time": "2022-07-20T17:05:31.619Z"
   },
   {
    "duration": 17,
    "start_time": "2022-07-20T17:05:31.651Z"
   },
   {
    "duration": 18,
    "start_time": "2022-07-20T17:05:31.670Z"
   },
   {
    "duration": 28,
    "start_time": "2022-07-20T17:05:31.691Z"
   },
   {
    "duration": 57,
    "start_time": "2022-07-20T17:05:31.721Z"
   },
   {
    "duration": 11,
    "start_time": "2022-07-20T17:05:31.779Z"
   },
   {
    "duration": 21,
    "start_time": "2022-07-20T17:05:31.792Z"
   },
   {
    "duration": 26,
    "start_time": "2022-07-20T17:05:31.815Z"
   },
   {
    "duration": 18,
    "start_time": "2022-07-20T17:05:31.843Z"
   },
   {
    "duration": 12,
    "start_time": "2022-07-20T17:05:31.863Z"
   },
   {
    "duration": 15,
    "start_time": "2022-07-20T17:05:31.877Z"
   },
   {
    "duration": 67,
    "start_time": "2022-07-20T17:05:31.894Z"
   },
   {
    "duration": 54,
    "start_time": "2022-07-20T17:05:31.963Z"
   },
   {
    "duration": 14,
    "start_time": "2022-07-20T17:05:32.018Z"
   },
   {
    "duration": 23,
    "start_time": "2022-07-20T17:05:32.034Z"
   },
   {
    "duration": 25,
    "start_time": "2022-07-20T17:05:32.059Z"
   },
   {
    "duration": 16,
    "start_time": "2022-07-20T17:05:32.086Z"
   },
   {
    "duration": 24,
    "start_time": "2022-07-20T17:05:32.104Z"
   },
   {
    "duration": 5,
    "start_time": "2022-07-20T17:05:32.130Z"
   },
   {
    "duration": 95,
    "start_time": "2022-07-20T17:05:32.136Z"
   },
   {
    "duration": 0,
    "start_time": "2022-07-20T17:05:32.234Z"
   },
   {
    "duration": 0,
    "start_time": "2022-07-20T17:05:32.235Z"
   },
   {
    "duration": 0,
    "start_time": "2022-07-20T17:05:32.237Z"
   },
   {
    "duration": 9,
    "start_time": "2022-07-20T17:05:51.044Z"
   },
   {
    "duration": 10,
    "start_time": "2022-07-20T17:06:05.165Z"
   },
   {
    "duration": 10,
    "start_time": "2022-07-20T17:06:16.462Z"
   },
   {
    "duration": 504,
    "start_time": "2022-07-20T17:06:21.410Z"
   },
   {
    "duration": 26,
    "start_time": "2022-07-20T17:06:21.916Z"
   },
   {
    "duration": 27,
    "start_time": "2022-07-20T17:06:21.945Z"
   },
   {
    "duration": 13,
    "start_time": "2022-07-20T17:06:21.975Z"
   },
   {
    "duration": 56,
    "start_time": "2022-07-20T17:06:21.990Z"
   },
   {
    "duration": 3,
    "start_time": "2022-07-20T17:06:22.048Z"
   },
   {
    "duration": 12,
    "start_time": "2022-07-20T17:06:22.053Z"
   },
   {
    "duration": 5,
    "start_time": "2022-07-20T17:06:22.067Z"
   },
   {
    "duration": 9,
    "start_time": "2022-07-20T17:06:22.074Z"
   },
   {
    "duration": 4,
    "start_time": "2022-07-20T17:06:22.087Z"
   },
   {
    "duration": 61,
    "start_time": "2022-07-20T17:06:22.093Z"
   },
   {
    "duration": 10,
    "start_time": "2022-07-20T17:06:22.156Z"
   },
   {
    "duration": 4,
    "start_time": "2022-07-20T17:06:22.168Z"
   },
   {
    "duration": 24,
    "start_time": "2022-07-20T17:06:22.174Z"
   },
   {
    "duration": 38,
    "start_time": "2022-07-20T17:06:22.200Z"
   },
   {
    "duration": 12,
    "start_time": "2022-07-20T17:06:22.240Z"
   },
   {
    "duration": 7,
    "start_time": "2022-07-20T17:06:22.253Z"
   },
   {
    "duration": 18,
    "start_time": "2022-07-20T17:06:22.262Z"
   },
   {
    "duration": 11,
    "start_time": "2022-07-20T17:06:22.282Z"
   },
   {
    "duration": 4,
    "start_time": "2022-07-20T17:06:22.294Z"
   },
   {
    "duration": 38,
    "start_time": "2022-07-20T17:06:22.299Z"
   },
   {
    "duration": 6,
    "start_time": "2022-07-20T17:06:22.339Z"
   },
   {
    "duration": 20,
    "start_time": "2022-07-20T17:06:22.347Z"
   },
   {
    "duration": 25,
    "start_time": "2022-07-20T17:06:22.369Z"
   },
   {
    "duration": 4,
    "start_time": "2022-07-20T17:06:22.396Z"
   },
   {
    "duration": 76,
    "start_time": "2022-07-20T17:06:22.402Z"
   },
   {
    "duration": 0,
    "start_time": "2022-07-20T17:06:22.480Z"
   },
   {
    "duration": 0,
    "start_time": "2022-07-20T17:06:22.482Z"
   },
   {
    "duration": 0,
    "start_time": "2022-07-20T17:06:22.483Z"
   },
   {
    "duration": 12,
    "start_time": "2022-07-20T17:06:25.076Z"
   },
   {
    "duration": 12,
    "start_time": "2022-07-20T17:06:28.218Z"
   },
   {
    "duration": 11,
    "start_time": "2022-07-20T17:06:33.235Z"
   },
   {
    "duration": 15,
    "start_time": "2022-07-20T17:07:07.743Z"
   },
   {
    "duration": 14,
    "start_time": "2022-07-20T17:07:11.142Z"
   },
   {
    "duration": 18,
    "start_time": "2022-07-20T17:08:13.250Z"
   },
   {
    "duration": 22,
    "start_time": "2022-07-20T17:08:26.174Z"
   },
   {
    "duration": 5,
    "start_time": "2022-07-20T17:08:27.703Z"
   },
   {
    "duration": 20,
    "start_time": "2022-07-20T17:08:39.475Z"
   },
   {
    "duration": 505,
    "start_time": "2022-07-20T17:08:45.299Z"
   },
   {
    "duration": 28,
    "start_time": "2022-07-20T17:08:45.807Z"
   },
   {
    "duration": 16,
    "start_time": "2022-07-20T17:08:45.837Z"
   },
   {
    "duration": 11,
    "start_time": "2022-07-20T17:08:45.855Z"
   },
   {
    "duration": 62,
    "start_time": "2022-07-20T17:08:45.867Z"
   },
   {
    "duration": 4,
    "start_time": "2022-07-20T17:08:45.931Z"
   },
   {
    "duration": 16,
    "start_time": "2022-07-20T17:08:45.937Z"
   },
   {
    "duration": 5,
    "start_time": "2022-07-20T17:08:45.955Z"
   },
   {
    "duration": 20,
    "start_time": "2022-07-20T17:08:45.962Z"
   },
   {
    "duration": 6,
    "start_time": "2022-07-20T17:08:45.986Z"
   },
   {
    "duration": 81,
    "start_time": "2022-07-20T17:08:45.994Z"
   },
   {
    "duration": 12,
    "start_time": "2022-07-20T17:08:46.076Z"
   },
   {
    "duration": 10,
    "start_time": "2022-07-20T17:08:46.090Z"
   },
   {
    "duration": 36,
    "start_time": "2022-07-20T17:08:46.102Z"
   },
   {
    "duration": 19,
    "start_time": "2022-07-20T17:08:46.139Z"
   },
   {
    "duration": 12,
    "start_time": "2022-07-20T17:08:46.160Z"
   },
   {
    "duration": 10,
    "start_time": "2022-07-20T17:08:46.174Z"
   },
   {
    "duration": 18,
    "start_time": "2022-07-20T17:08:46.186Z"
   },
   {
    "duration": 20,
    "start_time": "2022-07-20T17:08:46.206Z"
   },
   {
    "duration": 7,
    "start_time": "2022-07-20T17:08:46.228Z"
   },
   {
    "duration": 10,
    "start_time": "2022-07-20T17:08:46.237Z"
   },
   {
    "duration": 3,
    "start_time": "2022-07-20T17:08:46.249Z"
   },
   {
    "duration": 14,
    "start_time": "2022-07-20T17:08:46.254Z"
   },
   {
    "duration": 20,
    "start_time": "2022-07-20T17:08:46.270Z"
   },
   {
    "duration": 4,
    "start_time": "2022-07-20T17:08:46.292Z"
   },
   {
    "duration": 39,
    "start_time": "2022-07-20T17:08:46.297Z"
   },
   {
    "duration": 5,
    "start_time": "2022-07-20T17:08:46.338Z"
   },
   {
    "duration": 10,
    "start_time": "2022-07-20T17:08:46.347Z"
   },
   {
    "duration": 7,
    "start_time": "2022-07-20T17:08:46.360Z"
   },
   {
    "duration": 14,
    "start_time": "2022-07-20T17:08:53.042Z"
   },
   {
    "duration": 14,
    "start_time": "2022-07-20T17:09:02.076Z"
   },
   {
    "duration": 14,
    "start_time": "2022-07-20T17:09:45.400Z"
   },
   {
    "duration": 16,
    "start_time": "2022-07-20T17:10:02.993Z"
   },
   {
    "duration": 5,
    "start_time": "2022-07-20T17:10:04.103Z"
   },
   {
    "duration": 21,
    "start_time": "2022-07-20T17:10:26.972Z"
   },
   {
    "duration": 4,
    "start_time": "2022-07-20T17:10:30.041Z"
   },
   {
    "duration": 21,
    "start_time": "2022-07-20T17:10:39.111Z"
   },
   {
    "duration": 4,
    "start_time": "2022-07-20T17:10:40.445Z"
   },
   {
    "duration": 15,
    "start_time": "2022-07-20T17:18:15.969Z"
   },
   {
    "duration": 18,
    "start_time": "2022-07-20T17:18:19.900Z"
   },
   {
    "duration": 5,
    "start_time": "2022-07-20T17:18:22.197Z"
   },
   {
    "duration": 23,
    "start_time": "2022-07-20T17:20:54.160Z"
   },
   {
    "duration": 17,
    "start_time": "2022-07-20T17:21:03.777Z"
   },
   {
    "duration": 15,
    "start_time": "2022-07-20T17:21:15.684Z"
   },
   {
    "duration": 76,
    "start_time": "2022-07-20T17:21:40.630Z"
   },
   {
    "duration": 18,
    "start_time": "2022-07-20T17:21:45.108Z"
   },
   {
    "duration": 16,
    "start_time": "2022-07-20T17:21:49.747Z"
   },
   {
    "duration": 16,
    "start_time": "2022-07-20T17:22:10.719Z"
   },
   {
    "duration": 16,
    "start_time": "2022-07-20T17:22:51.534Z"
   },
   {
    "duration": 5,
    "start_time": "2022-07-20T17:22:56.147Z"
   },
   {
    "duration": 17,
    "start_time": "2022-07-20T17:23:46.968Z"
   },
   {
    "duration": 17,
    "start_time": "2022-07-20T17:23:52.731Z"
   },
   {
    "duration": 15,
    "start_time": "2022-07-20T17:24:16.341Z"
   },
   {
    "duration": 17,
    "start_time": "2022-07-20T17:24:32.312Z"
   },
   {
    "duration": 18,
    "start_time": "2022-07-20T17:24:38.703Z"
   },
   {
    "duration": 4,
    "start_time": "2022-07-20T17:31:46.132Z"
   },
   {
    "duration": 7,
    "start_time": "2022-07-20T17:31:47.788Z"
   },
   {
    "duration": 14,
    "start_time": "2022-07-20T17:31:48.633Z"
   },
   {
    "duration": 6,
    "start_time": "2022-07-20T17:31:53.122Z"
   },
   {
    "duration": 24,
    "start_time": "2022-07-20T17:31:58.830Z"
   },
   {
    "duration": 25,
    "start_time": "2022-07-20T17:32:01.910Z"
   },
   {
    "duration": 6,
    "start_time": "2022-07-20T17:32:04.113Z"
   },
   {
    "duration": 17,
    "start_time": "2022-07-20T17:32:21.487Z"
   },
   {
    "duration": 19,
    "start_time": "2022-07-20T17:32:25.333Z"
   },
   {
    "duration": 6,
    "start_time": "2022-07-20T17:32:26.342Z"
   },
   {
    "duration": 21,
    "start_time": "2022-07-20T18:36:14.884Z"
   },
   {
    "duration": 22,
    "start_time": "2022-07-20T18:36:43.922Z"
   },
   {
    "duration": 20,
    "start_time": "2022-07-20T18:36:46.558Z"
   },
   {
    "duration": 18,
    "start_time": "2022-07-20T18:37:06.908Z"
   },
   {
    "duration": 18,
    "start_time": "2022-07-20T18:40:19.181Z"
   },
   {
    "duration": 21,
    "start_time": "2022-07-20T18:41:00.330Z"
   },
   {
    "duration": 21,
    "start_time": "2022-07-20T18:41:57.443Z"
   },
   {
    "duration": 20,
    "start_time": "2022-07-20T18:42:03.783Z"
   },
   {
    "duration": 148,
    "start_time": "2022-07-20T18:42:08.465Z"
   },
   {
    "duration": 18,
    "start_time": "2022-07-20T18:42:19.173Z"
   },
   {
    "duration": 42,
    "start_time": "2022-07-20T18:44:01.031Z"
   },
   {
    "duration": 19,
    "start_time": "2022-07-20T18:44:14.965Z"
   },
   {
    "duration": 18,
    "start_time": "2022-07-20T18:47:18.459Z"
   },
   {
    "duration": 18,
    "start_time": "2022-07-20T18:47:39.298Z"
   },
   {
    "duration": 100,
    "start_time": "2022-07-20T18:57:30.122Z"
   },
   {
    "duration": 56,
    "start_time": "2022-07-20T18:58:06.724Z"
   },
   {
    "duration": 137,
    "start_time": "2022-07-20T18:58:19.077Z"
   },
   {
    "duration": 513,
    "start_time": "2022-07-20T18:58:23.632Z"
   },
   {
    "duration": 25,
    "start_time": "2022-07-20T18:58:24.147Z"
   },
   {
    "duration": 18,
    "start_time": "2022-07-20T18:58:24.174Z"
   },
   {
    "duration": 28,
    "start_time": "2022-07-20T18:58:24.195Z"
   },
   {
    "duration": 37,
    "start_time": "2022-07-20T18:58:24.225Z"
   },
   {
    "duration": 4,
    "start_time": "2022-07-20T18:58:24.265Z"
   },
   {
    "duration": 19,
    "start_time": "2022-07-20T18:58:24.271Z"
   },
   {
    "duration": 6,
    "start_time": "2022-07-20T18:58:24.292Z"
   },
   {
    "duration": 12,
    "start_time": "2022-07-20T18:58:24.324Z"
   },
   {
    "duration": 6,
    "start_time": "2022-07-20T18:58:24.340Z"
   },
   {
    "duration": 76,
    "start_time": "2022-07-20T18:58:24.347Z"
   },
   {
    "duration": 14,
    "start_time": "2022-07-20T18:58:24.428Z"
   },
   {
    "duration": 19,
    "start_time": "2022-07-20T18:58:24.444Z"
   },
   {
    "duration": 37,
    "start_time": "2022-07-20T18:58:24.466Z"
   },
   {
    "duration": 30,
    "start_time": "2022-07-20T18:58:24.505Z"
   },
   {
    "duration": 20,
    "start_time": "2022-07-20T18:58:24.537Z"
   },
   {
    "duration": 8,
    "start_time": "2022-07-20T18:58:24.559Z"
   },
   {
    "duration": 20,
    "start_time": "2022-07-20T18:58:24.569Z"
   },
   {
    "duration": 32,
    "start_time": "2022-07-20T18:58:24.591Z"
   },
   {
    "duration": 6,
    "start_time": "2022-07-20T18:58:24.625Z"
   },
   {
    "duration": 23,
    "start_time": "2022-07-20T18:58:24.633Z"
   },
   {
    "duration": 13,
    "start_time": "2022-07-20T18:58:24.659Z"
   },
   {
    "duration": 12,
    "start_time": "2022-07-20T18:58:24.674Z"
   },
   {
    "duration": 35,
    "start_time": "2022-07-20T18:58:24.688Z"
   },
   {
    "duration": 5,
    "start_time": "2022-07-20T18:58:24.725Z"
   },
   {
    "duration": 29,
    "start_time": "2022-07-20T18:58:24.732Z"
   },
   {
    "duration": 22,
    "start_time": "2022-07-20T18:58:24.763Z"
   },
   {
    "duration": 4,
    "start_time": "2022-07-20T18:58:24.790Z"
   },
   {
    "duration": 47,
    "start_time": "2022-07-20T18:58:24.797Z"
   },
   {
    "duration": 0,
    "start_time": "2022-07-20T18:58:24.846Z"
   },
   {
    "duration": 151,
    "start_time": "2022-07-20T18:58:40.966Z"
   },
   {
    "duration": 65,
    "start_time": "2022-07-20T18:58:54.078Z"
   },
   {
    "duration": 55,
    "start_time": "2022-07-20T18:59:11.351Z"
   },
   {
    "duration": 4,
    "start_time": "2022-07-20T18:59:14.879Z"
   },
   {
    "duration": 59,
    "start_time": "2022-07-20T18:59:17.907Z"
   },
   {
    "duration": 62,
    "start_time": "2022-07-20T19:00:17.909Z"
   },
   {
    "duration": 93,
    "start_time": "2022-07-20T19:00:24.105Z"
   },
   {
    "duration": 59,
    "start_time": "2022-07-20T19:00:30.963Z"
   },
   {
    "duration": 48,
    "start_time": "2022-07-20T19:00:36.746Z"
   },
   {
    "duration": 46,
    "start_time": "2022-07-20T19:00:48.627Z"
   },
   {
    "duration": 437,
    "start_time": "2022-07-20T19:00:55.661Z"
   },
   {
    "duration": 27,
    "start_time": "2022-07-20T19:00:56.101Z"
   },
   {
    "duration": 22,
    "start_time": "2022-07-20T19:00:56.130Z"
   },
   {
    "duration": 15,
    "start_time": "2022-07-20T19:00:56.155Z"
   },
   {
    "duration": 75,
    "start_time": "2022-07-20T19:00:56.172Z"
   },
   {
    "duration": 4,
    "start_time": "2022-07-20T19:00:56.248Z"
   },
   {
    "duration": 13,
    "start_time": "2022-07-20T19:00:56.254Z"
   },
   {
    "duration": 7,
    "start_time": "2022-07-20T19:00:56.268Z"
   },
   {
    "duration": 11,
    "start_time": "2022-07-20T19:00:56.276Z"
   },
   {
    "duration": 5,
    "start_time": "2022-07-20T19:00:56.289Z"
   },
   {
    "duration": 73,
    "start_time": "2022-07-20T19:00:56.296Z"
   },
   {
    "duration": 10,
    "start_time": "2022-07-20T19:00:56.371Z"
   },
   {
    "duration": 5,
    "start_time": "2022-07-20T19:00:56.382Z"
   },
   {
    "duration": 43,
    "start_time": "2022-07-20T19:00:56.388Z"
   },
   {
    "duration": 26,
    "start_time": "2022-07-20T19:00:56.432Z"
   },
   {
    "duration": 12,
    "start_time": "2022-07-20T19:00:56.460Z"
   },
   {
    "duration": 7,
    "start_time": "2022-07-20T19:00:56.474Z"
   },
   {
    "duration": 13,
    "start_time": "2022-07-20T19:00:56.482Z"
   },
   {
    "duration": 33,
    "start_time": "2022-07-20T19:00:56.497Z"
   },
   {
    "duration": 7,
    "start_time": "2022-07-20T19:00:56.532Z"
   },
   {
    "duration": 15,
    "start_time": "2022-07-20T19:00:56.541Z"
   },
   {
    "duration": 8,
    "start_time": "2022-07-20T19:00:56.558Z"
   },
   {
    "duration": 12,
    "start_time": "2022-07-20T19:00:56.568Z"
   },
   {
    "duration": 43,
    "start_time": "2022-07-20T19:00:56.582Z"
   },
   {
    "duration": 4,
    "start_time": "2022-07-20T19:00:56.627Z"
   },
   {
    "duration": 22,
    "start_time": "2022-07-20T19:00:56.633Z"
   },
   {
    "duration": 17,
    "start_time": "2022-07-20T19:00:56.656Z"
   },
   {
    "duration": 4,
    "start_time": "2022-07-20T19:00:56.678Z"
   },
   {
    "duration": 68,
    "start_time": "2022-07-20T19:00:56.684Z"
   },
   {
    "duration": 0,
    "start_time": "2022-07-20T19:00:56.754Z"
   },
   {
    "duration": 98,
    "start_time": "2022-07-20T19:01:22.842Z"
   },
   {
    "duration": 49,
    "start_time": "2022-07-20T19:01:41.531Z"
   },
   {
    "duration": 65,
    "start_time": "2022-07-20T19:01:50.593Z"
   },
   {
    "duration": 63,
    "start_time": "2022-07-20T19:02:08.641Z"
   },
   {
    "duration": 77,
    "start_time": "2022-07-20T19:02:12.537Z"
   },
   {
    "duration": 59,
    "start_time": "2022-07-20T19:03:48.643Z"
   },
   {
    "duration": 61,
    "start_time": "2022-07-20T19:03:59.501Z"
   },
   {
    "duration": 67,
    "start_time": "2022-07-20T19:04:11.274Z"
   },
   {
    "duration": 135,
    "start_time": "2022-07-20T19:04:46.289Z"
   },
   {
    "duration": 124,
    "start_time": "2022-07-20T19:04:53.590Z"
   },
   {
    "duration": 60,
    "start_time": "2022-07-20T19:04:56.691Z"
   },
   {
    "duration": 2,
    "start_time": "2022-07-20T19:05:27.739Z"
   },
   {
    "duration": 6,
    "start_time": "2022-07-20T19:05:34.733Z"
   },
   {
    "duration": 460,
    "start_time": "2022-07-20T19:07:41.578Z"
   },
   {
    "duration": 23,
    "start_time": "2022-07-20T19:07:42.041Z"
   },
   {
    "duration": 16,
    "start_time": "2022-07-20T19:07:42.066Z"
   },
   {
    "duration": 10,
    "start_time": "2022-07-20T19:07:42.084Z"
   },
   {
    "duration": 61,
    "start_time": "2022-07-20T19:07:42.096Z"
   },
   {
    "duration": 3,
    "start_time": "2022-07-20T19:07:42.159Z"
   },
   {
    "duration": 11,
    "start_time": "2022-07-20T19:07:42.164Z"
   },
   {
    "duration": 5,
    "start_time": "2022-07-20T19:07:42.176Z"
   },
   {
    "duration": 9,
    "start_time": "2022-07-20T19:07:42.183Z"
   },
   {
    "duration": 4,
    "start_time": "2022-07-20T19:07:42.196Z"
   },
   {
    "duration": 42,
    "start_time": "2022-07-20T19:07:42.223Z"
   },
   {
    "duration": 10,
    "start_time": "2022-07-20T19:07:42.267Z"
   },
   {
    "duration": 12,
    "start_time": "2022-07-20T19:07:42.279Z"
   },
   {
    "duration": 45,
    "start_time": "2022-07-20T19:07:42.293Z"
   },
   {
    "duration": 19,
    "start_time": "2022-07-20T19:07:42.340Z"
   },
   {
    "duration": 13,
    "start_time": "2022-07-20T19:07:42.360Z"
   },
   {
    "duration": 4,
    "start_time": "2022-07-20T19:07:42.375Z"
   },
   {
    "duration": 14,
    "start_time": "2022-07-20T19:07:42.381Z"
   },
   {
    "duration": 29,
    "start_time": "2022-07-20T19:07:42.397Z"
   },
   {
    "duration": 16,
    "start_time": "2022-07-20T19:07:42.428Z"
   },
   {
    "duration": 18,
    "start_time": "2022-07-20T19:07:42.446Z"
   },
   {
    "duration": 9,
    "start_time": "2022-07-20T19:07:42.465Z"
   },
   {
    "duration": 12,
    "start_time": "2022-07-20T19:07:42.476Z"
   },
   {
    "duration": 18,
    "start_time": "2022-07-20T19:07:42.490Z"
   },
   {
    "duration": 20,
    "start_time": "2022-07-20T19:07:42.510Z"
   },
   {
    "duration": 21,
    "start_time": "2022-07-20T19:07:42.533Z"
   },
   {
    "duration": 20,
    "start_time": "2022-07-20T19:07:42.555Z"
   },
   {
    "duration": 4,
    "start_time": "2022-07-20T19:07:42.578Z"
   },
   {
    "duration": 7,
    "start_time": "2022-07-20T19:07:42.583Z"
   },
   {
    "duration": 6,
    "start_time": "2022-07-20T19:07:42.591Z"
   },
   {
    "duration": 54,
    "start_time": "2022-07-20T19:11:59.566Z"
   },
   {
    "duration": 35,
    "start_time": "2022-07-20T19:12:10.991Z"
   },
   {
    "duration": 1047,
    "start_time": "2022-07-20T19:14:21.113Z"
   },
   {
    "duration": 1259,
    "start_time": "2022-07-20T19:16:11.260Z"
   },
   {
    "duration": 1247,
    "start_time": "2022-07-20T19:16:14.431Z"
   },
   {
    "duration": 790,
    "start_time": "2022-07-20T19:16:26.370Z"
   },
   {
    "duration": 502,
    "start_time": "2022-07-20T19:16:32.840Z"
   },
   {
    "duration": 23,
    "start_time": "2022-07-20T19:16:33.345Z"
   },
   {
    "duration": 15,
    "start_time": "2022-07-20T19:16:33.369Z"
   },
   {
    "duration": 16,
    "start_time": "2022-07-20T19:16:33.387Z"
   },
   {
    "duration": 45,
    "start_time": "2022-07-20T19:16:33.424Z"
   },
   {
    "duration": 3,
    "start_time": "2022-07-20T19:16:33.471Z"
   },
   {
    "duration": 18,
    "start_time": "2022-07-20T19:16:33.476Z"
   },
   {
    "duration": 6,
    "start_time": "2022-07-20T19:16:33.496Z"
   },
   {
    "duration": 25,
    "start_time": "2022-07-20T19:16:33.503Z"
   },
   {
    "duration": 5,
    "start_time": "2022-07-20T19:16:33.531Z"
   },
   {
    "duration": 48,
    "start_time": "2022-07-20T19:16:33.538Z"
   },
   {
    "duration": 12,
    "start_time": "2022-07-20T19:16:33.588Z"
   },
   {
    "duration": 21,
    "start_time": "2022-07-20T19:16:33.601Z"
   },
   {
    "duration": 20,
    "start_time": "2022-07-20T19:16:33.624Z"
   },
   {
    "duration": 17,
    "start_time": "2022-07-20T19:16:33.646Z"
   },
   {
    "duration": 15,
    "start_time": "2022-07-20T19:16:33.665Z"
   },
   {
    "duration": 4,
    "start_time": "2022-07-20T19:16:33.682Z"
   },
   {
    "duration": 37,
    "start_time": "2022-07-20T19:16:33.688Z"
   },
   {
    "duration": 11,
    "start_time": "2022-07-20T19:16:33.727Z"
   },
   {
    "duration": 6,
    "start_time": "2022-07-20T19:16:33.739Z"
   },
   {
    "duration": 19,
    "start_time": "2022-07-20T19:16:33.747Z"
   },
   {
    "duration": 4,
    "start_time": "2022-07-20T19:16:33.769Z"
   },
   {
    "duration": 11,
    "start_time": "2022-07-20T19:16:33.774Z"
   },
   {
    "duration": 21,
    "start_time": "2022-07-20T19:16:33.786Z"
   },
   {
    "duration": 4,
    "start_time": "2022-07-20T19:16:33.822Z"
   },
   {
    "duration": 16,
    "start_time": "2022-07-20T19:16:33.828Z"
   },
   {
    "duration": 33,
    "start_time": "2022-07-20T19:16:33.846Z"
   },
   {
    "duration": 6,
    "start_time": "2022-07-20T19:16:33.882Z"
   },
   {
    "duration": 1022,
    "start_time": "2022-07-20T19:16:33.890Z"
   },
   {
    "duration": 0,
    "start_time": "2022-07-20T19:16:34.913Z"
   },
   {
    "duration": 1221,
    "start_time": "2022-07-20T19:17:54.448Z"
   },
   {
    "duration": 989,
    "start_time": "2022-07-20T19:18:58.741Z"
   },
   {
    "duration": 896,
    "start_time": "2022-07-20T19:20:10.636Z"
   },
   {
    "duration": 1181,
    "start_time": "2022-07-20T19:20:29.503Z"
   },
   {
    "duration": 1095,
    "start_time": "2022-07-20T19:21:01.239Z"
   },
   {
    "duration": 1088,
    "start_time": "2022-07-20T19:21:06.395Z"
   },
   {
    "duration": 941,
    "start_time": "2022-07-20T19:22:07.908Z"
   },
   {
    "duration": 956,
    "start_time": "2022-07-20T19:22:47.410Z"
   },
   {
    "duration": 4,
    "start_time": "2022-07-20T19:22:50.814Z"
   },
   {
    "duration": 1336,
    "start_time": "2022-07-20T19:22:54.297Z"
   },
   {
    "duration": 2,
    "start_time": "2022-07-20T19:22:59.105Z"
   },
   {
    "duration": 907,
    "start_time": "2022-07-20T19:23:05.096Z"
   },
   {
    "duration": 858,
    "start_time": "2022-07-20T19:23:08.552Z"
   },
   {
    "duration": 14,
    "start_time": "2022-07-20T19:24:13.826Z"
   },
   {
    "duration": 21,
    "start_time": "2022-07-20T19:24:44.164Z"
   },
   {
    "duration": 128,
    "start_time": "2022-07-20T19:25:03.434Z"
   },
   {
    "duration": 56,
    "start_time": "2022-07-20T19:25:12.238Z"
   },
   {
    "duration": 79,
    "start_time": "2022-07-20T19:25:18.345Z"
   },
   {
    "duration": 15,
    "start_time": "2022-07-20T19:25:25.430Z"
   },
   {
    "duration": 9,
    "start_time": "2022-07-20T19:26:42.446Z"
   },
   {
    "duration": 998,
    "start_time": "2022-07-20T19:26:55.857Z"
   },
   {
    "duration": 6,
    "start_time": "2022-07-20T19:27:06.814Z"
   },
   {
    "duration": 52,
    "start_time": "2022-07-21T07:38:30.921Z"
   },
   {
    "duration": 9,
    "start_time": "2022-07-21T07:39:22.953Z"
   },
   {
    "duration": 6,
    "start_time": "2022-07-21T07:39:58.668Z"
   },
   {
    "duration": 9,
    "start_time": "2022-07-21T07:40:01.671Z"
   },
   {
    "duration": 679,
    "start_time": "2022-07-21T07:40:20.175Z"
   },
   {
    "duration": 22,
    "start_time": "2022-07-21T07:40:20.857Z"
   },
   {
    "duration": 28,
    "start_time": "2022-07-21T07:40:20.881Z"
   },
   {
    "duration": 9,
    "start_time": "2022-07-21T07:40:20.911Z"
   },
   {
    "duration": 53,
    "start_time": "2022-07-21T07:40:20.922Z"
   },
   {
    "duration": 3,
    "start_time": "2022-07-21T07:40:20.976Z"
   },
   {
    "duration": 11,
    "start_time": "2022-07-21T07:40:20.981Z"
   },
   {
    "duration": 5,
    "start_time": "2022-07-21T07:40:20.993Z"
   },
   {
    "duration": 19,
    "start_time": "2022-07-21T07:40:20.999Z"
   },
   {
    "duration": 21,
    "start_time": "2022-07-21T07:40:21.022Z"
   },
   {
    "duration": 50,
    "start_time": "2022-07-21T07:40:21.044Z"
   },
   {
    "duration": 10,
    "start_time": "2022-07-21T07:40:21.095Z"
   },
   {
    "duration": 7,
    "start_time": "2022-07-21T07:40:21.107Z"
   },
   {
    "duration": 22,
    "start_time": "2022-07-21T07:40:21.116Z"
   },
   {
    "duration": 35,
    "start_time": "2022-07-21T07:40:21.140Z"
   },
   {
    "duration": 11,
    "start_time": "2022-07-21T07:40:21.176Z"
   },
   {
    "duration": 19,
    "start_time": "2022-07-21T07:40:21.189Z"
   },
   {
    "duration": 43,
    "start_time": "2022-07-21T07:40:21.210Z"
   },
   {
    "duration": 26,
    "start_time": "2022-07-21T07:40:21.256Z"
   },
   {
    "duration": 17,
    "start_time": "2022-07-21T07:40:21.283Z"
   },
   {
    "duration": 24,
    "start_time": "2022-07-21T07:40:21.301Z"
   },
   {
    "duration": 17,
    "start_time": "2022-07-21T07:40:21.326Z"
   },
   {
    "duration": 24,
    "start_time": "2022-07-21T07:40:21.345Z"
   },
   {
    "duration": 29,
    "start_time": "2022-07-21T07:40:21.371Z"
   },
   {
    "duration": 4,
    "start_time": "2022-07-21T07:40:21.402Z"
   },
   {
    "duration": 18,
    "start_time": "2022-07-21T07:40:21.408Z"
   },
   {
    "duration": 22,
    "start_time": "2022-07-21T07:40:21.427Z"
   },
   {
    "duration": 6,
    "start_time": "2022-07-21T07:40:21.453Z"
   },
   {
    "duration": 25,
    "start_time": "2022-07-21T07:40:21.461Z"
   },
   {
    "duration": 5,
    "start_time": "2022-07-21T07:40:21.489Z"
   },
   {
    "duration": 9,
    "start_time": "2022-07-21T07:40:26.098Z"
   },
   {
    "duration": 13,
    "start_time": "2022-07-21T07:40:59.482Z"
   },
   {
    "duration": 1763,
    "start_time": "2022-07-21T07:45:28.736Z"
   },
   {
    "duration": 1309,
    "start_time": "2022-07-21T07:45:30.833Z"
   },
   {
    "duration": 12,
    "start_time": "2022-07-21T07:45:37.735Z"
   },
   {
    "duration": 15,
    "start_time": "2022-07-21T07:45:45.780Z"
   },
   {
    "duration": 13,
    "start_time": "2022-07-21T07:46:01.406Z"
   },
   {
    "duration": 10,
    "start_time": "2022-07-21T07:46:11.990Z"
   },
   {
    "duration": 14,
    "start_time": "2022-07-21T07:46:26.658Z"
   },
   {
    "duration": 10,
    "start_time": "2022-07-21T07:46:47.701Z"
   },
   {
    "duration": 10,
    "start_time": "2022-07-21T07:50:49.769Z"
   },
   {
    "duration": 911,
    "start_time": "2022-07-21T07:53:15.243Z"
   },
   {
    "duration": 975,
    "start_time": "2022-07-21T07:53:41.090Z"
   },
   {
    "duration": 1026,
    "start_time": "2022-07-21T07:55:09.137Z"
   },
   {
    "duration": 1370,
    "start_time": "2022-07-21T07:55:44.336Z"
   },
   {
    "duration": 11,
    "start_time": "2022-07-21T07:55:57.426Z"
   },
   {
    "duration": 14,
    "start_time": "2022-07-21T07:57:07.449Z"
   },
   {
    "duration": 10,
    "start_time": "2022-07-21T07:57:19.599Z"
   },
   {
    "duration": 7,
    "start_time": "2022-07-21T08:00:35.578Z"
   },
   {
    "duration": 8,
    "start_time": "2022-07-21T08:01:12.885Z"
   },
   {
    "duration": 9,
    "start_time": "2022-07-21T08:01:24.447Z"
   },
   {
    "duration": 9,
    "start_time": "2022-07-21T08:01:41.839Z"
   },
   {
    "duration": 9,
    "start_time": "2022-07-21T08:01:46.656Z"
   },
   {
    "duration": 10,
    "start_time": "2022-07-21T08:01:59.786Z"
   },
   {
    "duration": 23,
    "start_time": "2022-07-21T08:02:37.927Z"
   },
   {
    "duration": 25,
    "start_time": "2022-07-21T08:02:50.852Z"
   },
   {
    "duration": 15,
    "start_time": "2022-07-21T08:03:15.869Z"
   },
   {
    "duration": 15,
    "start_time": "2022-07-21T08:04:12.787Z"
   },
   {
    "duration": 8,
    "start_time": "2022-07-21T08:04:41.678Z"
   },
   {
    "duration": 736,
    "start_time": "2022-07-21T08:06:26.218Z"
   },
   {
    "duration": 5,
    "start_time": "2022-07-21T08:06:36.956Z"
   },
   {
    "duration": 5,
    "start_time": "2022-07-21T08:06:52.930Z"
   },
   {
    "duration": 6,
    "start_time": "2022-07-21T08:08:05.607Z"
   },
   {
    "duration": 6,
    "start_time": "2022-07-21T08:08:14.688Z"
   },
   {
    "duration": 6,
    "start_time": "2022-07-21T08:44:30.271Z"
   },
   {
    "duration": 16,
    "start_time": "2022-07-21T08:47:00.583Z"
   },
   {
    "duration": 18,
    "start_time": "2022-07-21T08:47:32.489Z"
   },
   {
    "duration": 18,
    "start_time": "2022-07-21T08:47:40.468Z"
   },
   {
    "duration": 16,
    "start_time": "2022-07-21T08:48:28.513Z"
   },
   {
    "duration": 16,
    "start_time": "2022-07-21T08:49:16.583Z"
   },
   {
    "duration": 16,
    "start_time": "2022-07-21T08:50:37.389Z"
   },
   {
    "duration": 16,
    "start_time": "2022-07-21T08:50:43.336Z"
   },
   {
    "duration": 16,
    "start_time": "2022-07-21T08:50:56.202Z"
   },
   {
    "duration": 12,
    "start_time": "2022-07-21T08:52:18.028Z"
   },
   {
    "duration": 6,
    "start_time": "2022-07-21T08:52:34.530Z"
   },
   {
    "duration": 436,
    "start_time": "2022-07-21T08:52:44.799Z"
   },
   {
    "duration": 21,
    "start_time": "2022-07-21T08:52:45.237Z"
   },
   {
    "duration": 14,
    "start_time": "2022-07-21T08:52:45.260Z"
   },
   {
    "duration": 9,
    "start_time": "2022-07-21T08:52:45.276Z"
   },
   {
    "duration": 36,
    "start_time": "2022-07-21T08:52:45.287Z"
   },
   {
    "duration": 22,
    "start_time": "2022-07-21T08:52:45.325Z"
   },
   {
    "duration": 17,
    "start_time": "2022-07-21T08:52:45.348Z"
   },
   {
    "duration": 6,
    "start_time": "2022-07-21T08:52:45.366Z"
   },
   {
    "duration": 11,
    "start_time": "2022-07-21T08:52:45.373Z"
   },
   {
    "duration": 5,
    "start_time": "2022-07-21T08:52:45.388Z"
   },
   {
    "duration": 52,
    "start_time": "2022-07-21T08:52:45.394Z"
   },
   {
    "duration": 15,
    "start_time": "2022-07-21T08:52:45.448Z"
   },
   {
    "duration": 6,
    "start_time": "2022-07-21T08:52:45.464Z"
   },
   {
    "duration": 22,
    "start_time": "2022-07-21T08:52:45.472Z"
   },
   {
    "duration": 21,
    "start_time": "2022-07-21T08:52:45.495Z"
   },
   {
    "duration": 39,
    "start_time": "2022-07-21T08:52:45.518Z"
   },
   {
    "duration": 5,
    "start_time": "2022-07-21T08:52:45.559Z"
   },
   {
    "duration": 13,
    "start_time": "2022-07-21T08:52:45.565Z"
   },
   {
    "duration": 10,
    "start_time": "2022-07-21T08:52:45.580Z"
   },
   {
    "duration": 4,
    "start_time": "2022-07-21T08:52:45.592Z"
   },
   {
    "duration": 11,
    "start_time": "2022-07-21T08:52:45.598Z"
   },
   {
    "duration": 4,
    "start_time": "2022-07-21T08:52:45.610Z"
   },
   {
    "duration": 16,
    "start_time": "2022-07-21T08:52:45.615Z"
   },
   {
    "duration": 18,
    "start_time": "2022-07-21T08:52:45.645Z"
   },
   {
    "duration": 4,
    "start_time": "2022-07-21T08:52:45.665Z"
   },
   {
    "duration": 17,
    "start_time": "2022-07-21T08:52:45.670Z"
   },
   {
    "duration": 19,
    "start_time": "2022-07-21T08:52:45.688Z"
   },
   {
    "duration": 5,
    "start_time": "2022-07-21T08:52:45.711Z"
   },
   {
    "duration": 47,
    "start_time": "2022-07-21T08:52:45.718Z"
   },
   {
    "duration": 7,
    "start_time": "2022-07-21T08:52:45.768Z"
   },
   {
    "duration": 12,
    "start_time": "2022-07-21T08:52:45.777Z"
   },
   {
    "duration": 4,
    "start_time": "2022-07-21T08:55:41.857Z"
   },
   {
    "duration": 51,
    "start_time": "2022-07-21T09:20:27.560Z"
   },
   {
    "duration": 31,
    "start_time": "2022-07-21T09:36:34.800Z"
   },
   {
    "duration": 18,
    "start_time": "2022-07-21T09:37:13.590Z"
   },
   {
    "duration": 64,
    "start_time": "2022-07-21T09:45:55.969Z"
   },
   {
    "duration": 9,
    "start_time": "2022-07-21T09:46:02.857Z"
   },
   {
    "duration": 12,
    "start_time": "2022-07-21T09:50:04.769Z"
   },
   {
    "duration": 1410,
    "start_time": "2022-07-21T09:51:17.442Z"
   },
   {
    "duration": 10,
    "start_time": "2022-07-21T09:52:30.747Z"
   },
   {
    "duration": 54,
    "start_time": "2022-07-21T09:52:58.258Z"
   },
   {
    "duration": 9,
    "start_time": "2022-07-21T09:53:11.262Z"
   },
   {
    "duration": 9,
    "start_time": "2022-07-21T09:53:36.609Z"
   },
   {
    "duration": 9,
    "start_time": "2022-07-21T09:53:50.495Z"
   },
   {
    "duration": 825,
    "start_time": "2022-07-21T09:54:22.478Z"
   },
   {
    "duration": 1054,
    "start_time": "2022-07-21T09:56:13.887Z"
   },
   {
    "duration": 12,
    "start_time": "2022-07-21T09:56:43.093Z"
   },
   {
    "duration": 14,
    "start_time": "2022-07-21T09:57:36.045Z"
   },
   {
    "duration": 975,
    "start_time": "2022-07-21T09:57:57.413Z"
   },
   {
    "duration": 11,
    "start_time": "2022-07-21T09:58:00.941Z"
   },
   {
    "duration": 13,
    "start_time": "2022-07-21T09:59:24.123Z"
   },
   {
    "duration": 55,
    "start_time": "2022-07-21T09:59:48.793Z"
   },
   {
    "duration": 8,
    "start_time": "2022-07-21T09:59:53.426Z"
   },
   {
    "duration": 9,
    "start_time": "2022-07-21T10:00:00.434Z"
   },
   {
    "duration": 12,
    "start_time": "2022-07-21T10:00:05.318Z"
   },
   {
    "duration": 12,
    "start_time": "2022-07-21T10:00:30.485Z"
   },
   {
    "duration": 13,
    "start_time": "2022-07-21T10:01:43.733Z"
   },
   {
    "duration": 14,
    "start_time": "2022-07-21T10:03:44.814Z"
   },
   {
    "duration": 15,
    "start_time": "2022-07-21T10:04:16.523Z"
   },
   {
    "duration": 20,
    "start_time": "2022-07-21T10:04:33.948Z"
   },
   {
    "duration": 16,
    "start_time": "2022-07-21T10:04:54.957Z"
   },
   {
    "duration": 2074,
    "start_time": "2022-07-21T10:05:16.200Z"
   },
   {
    "duration": 14,
    "start_time": "2022-07-21T10:05:37.602Z"
   },
   {
    "duration": 17,
    "start_time": "2022-07-21T10:05:52.747Z"
   },
   {
    "duration": 11,
    "start_time": "2022-07-21T10:07:45.965Z"
   },
   {
    "duration": 27,
    "start_time": "2022-07-21T10:08:26.601Z"
   },
   {
    "duration": 10,
    "start_time": "2022-07-21T10:09:07.005Z"
   },
   {
    "duration": 11,
    "start_time": "2022-07-21T10:09:42.552Z"
   },
   {
    "duration": 1736,
    "start_time": "2022-07-21T10:14:34.460Z"
   },
   {
    "duration": 11,
    "start_time": "2022-07-21T10:14:53.661Z"
   },
   {
    "duration": 14,
    "start_time": "2022-07-21T10:16:01.305Z"
   },
   {
    "duration": 22,
    "start_time": "2022-07-21T10:17:00.122Z"
   },
   {
    "duration": 16,
    "start_time": "2022-07-21T10:17:08.417Z"
   },
   {
    "duration": 21,
    "start_time": "2022-07-21T10:17:20.479Z"
   },
   {
    "duration": 21,
    "start_time": "2022-07-21T10:17:31.328Z"
   },
   {
    "duration": 17,
    "start_time": "2022-07-21T10:18:34.495Z"
   },
   {
    "duration": 22,
    "start_time": "2022-07-21T10:18:48.715Z"
   },
   {
    "duration": 11,
    "start_time": "2022-07-21T10:18:58.788Z"
   },
   {
    "duration": 22,
    "start_time": "2022-07-21T10:20:26.355Z"
   },
   {
    "duration": 23,
    "start_time": "2022-07-21T10:20:50.184Z"
   },
   {
    "duration": 1045,
    "start_time": "2022-07-21T10:21:00.753Z"
   },
   {
    "duration": 24,
    "start_time": "2022-07-21T10:21:07.544Z"
   },
   {
    "duration": 1172,
    "start_time": "2022-07-21T10:21:17.944Z"
   },
   {
    "duration": 26,
    "start_time": "2022-07-21T10:21:33.495Z"
   },
   {
    "duration": 22,
    "start_time": "2022-07-21T10:25:40.375Z"
   },
   {
    "duration": 30,
    "start_time": "2022-07-21T10:25:53.238Z"
   },
   {
    "duration": 21,
    "start_time": "2022-07-21T10:26:09.196Z"
   },
   {
    "duration": 20,
    "start_time": "2022-07-21T10:26:18.492Z"
   },
   {
    "duration": 24,
    "start_time": "2022-07-21T10:26:36.390Z"
   },
   {
    "duration": 19,
    "start_time": "2022-07-21T10:26:56.543Z"
   },
   {
    "duration": 20,
    "start_time": "2022-07-21T10:27:13.365Z"
   },
   {
    "duration": 23,
    "start_time": "2022-07-21T10:28:15.686Z"
   },
   {
    "duration": 22,
    "start_time": "2022-07-21T10:28:23.763Z"
   },
   {
    "duration": 12,
    "start_time": "2022-07-21T10:28:34.219Z"
   },
   {
    "duration": 11,
    "start_time": "2022-07-21T10:29:02.967Z"
   },
   {
    "duration": 10,
    "start_time": "2022-07-21T10:29:13.824Z"
   },
   {
    "duration": 12,
    "start_time": "2022-07-21T10:34:05.926Z"
   },
   {
    "duration": 10,
    "start_time": "2022-07-21T10:34:11.847Z"
   },
   {
    "duration": 12,
    "start_time": "2022-07-21T10:35:49.832Z"
   },
   {
    "duration": 13,
    "start_time": "2022-07-21T10:36:16.731Z"
   },
   {
    "duration": 951,
    "start_time": "2022-07-21T10:37:00.384Z"
   },
   {
    "duration": 14,
    "start_time": "2022-07-21T10:37:36.980Z"
   },
   {
    "duration": 16,
    "start_time": "2022-07-21T10:37:58.843Z"
   },
   {
    "duration": 13,
    "start_time": "2022-07-21T10:39:15.365Z"
   },
   {
    "duration": 913,
    "start_time": "2022-07-21T10:43:29.957Z"
   },
   {
    "duration": 37,
    "start_time": "2022-07-21T10:43:45.661Z"
   },
   {
    "duration": 29,
    "start_time": "2022-07-21T10:44:03.347Z"
   },
   {
    "duration": 17,
    "start_time": "2022-07-21T10:44:27.141Z"
   },
   {
    "duration": 20,
    "start_time": "2022-07-21T10:46:08.106Z"
   },
   {
    "duration": 16,
    "start_time": "2022-07-21T10:48:35.592Z"
   },
   {
    "duration": 7,
    "start_time": "2022-07-21T10:51:21.039Z"
   },
   {
    "duration": 15,
    "start_time": "2022-07-21T10:51:31.301Z"
   },
   {
    "duration": 8,
    "start_time": "2022-07-21T10:51:32.792Z"
   },
   {
    "duration": 8,
    "start_time": "2022-07-21T10:51:36.877Z"
   },
   {
    "duration": 7,
    "start_time": "2022-07-21T10:52:02.422Z"
   },
   {
    "duration": 6,
    "start_time": "2022-07-21T10:52:56.088Z"
   },
   {
    "duration": 6,
    "start_time": "2022-07-21T10:53:07.490Z"
   },
   {
    "duration": 6,
    "start_time": "2022-07-21T10:53:25.176Z"
   },
   {
    "duration": 6,
    "start_time": "2022-07-21T10:59:33.789Z"
   },
   {
    "duration": 17,
    "start_time": "2022-07-21T12:34:16.143Z"
   },
   {
    "duration": 17,
    "start_time": "2022-07-21T12:34:31.780Z"
   },
   {
    "duration": 7,
    "start_time": "2022-07-21T12:35:40.885Z"
   },
   {
    "duration": 15,
    "start_time": "2022-07-21T12:35:51.509Z"
   },
   {
    "duration": 14,
    "start_time": "2022-07-21T12:36:10.149Z"
   },
   {
    "duration": 15,
    "start_time": "2022-07-21T12:36:17.370Z"
   },
   {
    "duration": 4,
    "start_time": "2022-07-21T12:36:44.013Z"
   },
   {
    "duration": 71,
    "start_time": "2022-07-21T12:37:00.305Z"
   },
   {
    "duration": 14,
    "start_time": "2022-07-21T12:37:01.416Z"
   },
   {
    "duration": 14,
    "start_time": "2022-07-21T12:37:06.914Z"
   },
   {
    "duration": 10,
    "start_time": "2022-07-21T12:37:09.477Z"
   },
   {
    "duration": 32,
    "start_time": "2022-07-21T12:37:12.184Z"
   },
   {
    "duration": 3,
    "start_time": "2022-07-21T12:37:13.566Z"
   },
   {
    "duration": 9,
    "start_time": "2022-07-21T12:37:14.395Z"
   },
   {
    "duration": 5,
    "start_time": "2022-07-21T12:37:24.541Z"
   },
   {
    "duration": 6,
    "start_time": "2022-07-21T12:37:26.656Z"
   },
   {
    "duration": 5,
    "start_time": "2022-07-21T12:37:28.419Z"
   },
   {
    "duration": 32,
    "start_time": "2022-07-21T12:37:31.445Z"
   },
   {
    "duration": 9,
    "start_time": "2022-07-21T12:37:32.558Z"
   },
   {
    "duration": 4,
    "start_time": "2022-07-21T12:37:34.253Z"
   },
   {
    "duration": 18,
    "start_time": "2022-07-21T12:37:35.378Z"
   },
   {
    "duration": 19,
    "start_time": "2022-07-21T12:37:35.764Z"
   },
   {
    "duration": 12,
    "start_time": "2022-07-21T12:37:36.496Z"
   },
   {
    "duration": 3,
    "start_time": "2022-07-21T12:37:37.799Z"
   },
   {
    "duration": 10,
    "start_time": "2022-07-21T12:37:38.274Z"
   },
   {
    "duration": 6,
    "start_time": "2022-07-21T12:37:39.254Z"
   },
   {
    "duration": 4,
    "start_time": "2022-07-21T12:37:40.708Z"
   },
   {
    "duration": 8,
    "start_time": "2022-07-21T12:37:41.273Z"
   },
   {
    "duration": 3,
    "start_time": "2022-07-21T12:37:42.715Z"
   },
   {
    "duration": 7,
    "start_time": "2022-07-21T12:37:44.172Z"
   },
   {
    "duration": 15,
    "start_time": "2022-07-21T12:37:45.558Z"
   },
   {
    "duration": 5,
    "start_time": "2022-07-21T12:37:46.261Z"
   },
   {
    "duration": 13,
    "start_time": "2022-07-21T12:37:48.759Z"
   },
   {
    "duration": 16,
    "start_time": "2022-07-21T12:37:50.269Z"
   },
   {
    "duration": 4,
    "start_time": "2022-07-21T12:37:51.025Z"
   },
   {
    "duration": 15,
    "start_time": "2022-07-21T12:37:53.542Z"
   },
   {
    "duration": 8,
    "start_time": "2022-07-21T12:37:56.660Z"
   },
   {
    "duration": 5,
    "start_time": "2022-07-21T12:37:57.467Z"
   },
   {
    "duration": 17,
    "start_time": "2022-07-21T12:37:59.542Z"
   },
   {
    "duration": 8,
    "start_time": "2022-07-21T12:37:59.993Z"
   },
   {
    "duration": 568,
    "start_time": "2022-07-21T14:50:24.801Z"
   },
   {
    "duration": 26,
    "start_time": "2022-07-21T14:50:25.372Z"
   },
   {
    "duration": 21,
    "start_time": "2022-07-21T14:50:25.400Z"
   },
   {
    "duration": 15,
    "start_time": "2022-07-21T14:50:25.423Z"
   },
   {
    "duration": 46,
    "start_time": "2022-07-21T14:50:25.441Z"
   },
   {
    "duration": 16,
    "start_time": "2022-07-21T14:50:25.489Z"
   },
   {
    "duration": 17,
    "start_time": "2022-07-21T14:50:25.507Z"
   },
   {
    "duration": 6,
    "start_time": "2022-07-21T14:50:25.526Z"
   },
   {
    "duration": 13,
    "start_time": "2022-07-21T14:50:25.534Z"
   },
   {
    "duration": 6,
    "start_time": "2022-07-21T14:50:25.549Z"
   },
   {
    "duration": 65,
    "start_time": "2022-07-21T14:50:25.557Z"
   },
   {
    "duration": 11,
    "start_time": "2022-07-21T14:50:25.624Z"
   },
   {
    "duration": 5,
    "start_time": "2022-07-21T14:50:25.637Z"
   },
   {
    "duration": 20,
    "start_time": "2022-07-21T14:50:25.645Z"
   },
   {
    "duration": 54,
    "start_time": "2022-07-21T14:50:25.666Z"
   },
   {
    "duration": 19,
    "start_time": "2022-07-21T14:50:25.722Z"
   },
   {
    "duration": 8,
    "start_time": "2022-07-21T14:50:25.743Z"
   },
   {
    "duration": 14,
    "start_time": "2022-07-21T14:50:25.753Z"
   },
   {
    "duration": 10,
    "start_time": "2022-07-21T14:50:25.769Z"
   },
   {
    "duration": 24,
    "start_time": "2022-07-21T14:50:25.781Z"
   },
   {
    "duration": 14,
    "start_time": "2022-07-21T14:50:25.807Z"
   },
   {
    "duration": 6,
    "start_time": "2022-07-21T14:50:25.823Z"
   },
   {
    "duration": 11,
    "start_time": "2022-07-21T14:50:25.831Z"
   },
   {
    "duration": 22,
    "start_time": "2022-07-21T14:50:25.844Z"
   },
   {
    "duration": 4,
    "start_time": "2022-07-21T14:50:25.867Z"
   },
   {
    "duration": 33,
    "start_time": "2022-07-21T14:50:25.872Z"
   },
   {
    "duration": 31,
    "start_time": "2022-07-21T14:50:25.907Z"
   },
   {
    "duration": 67,
    "start_time": "2022-07-21T14:50:25.940Z"
   },
   {
    "duration": 93,
    "start_time": "2022-07-21T14:50:26.009Z"
   },
   {
    "duration": 86,
    "start_time": "2022-07-21T14:50:26.104Z"
   },
   {
    "duration": 51,
    "start_time": "2022-07-21T14:50:26.192Z"
   },
   {
    "duration": 32,
    "start_time": "2022-07-21T14:50:26.245Z"
   },
   {
    "duration": 8,
    "start_time": "2022-07-21T14:50:26.278Z"
   },
   {
    "duration": 471,
    "start_time": "2022-07-21T14:50:36.035Z"
   },
   {
    "duration": 24,
    "start_time": "2022-07-21T14:50:36.508Z"
   },
   {
    "duration": 21,
    "start_time": "2022-07-21T14:50:36.535Z"
   },
   {
    "duration": 13,
    "start_time": "2022-07-21T14:50:36.559Z"
   },
   {
    "duration": 45,
    "start_time": "2022-07-21T14:50:36.604Z"
   },
   {
    "duration": 5,
    "start_time": "2022-07-21T14:50:36.652Z"
   },
   {
    "duration": 19,
    "start_time": "2022-07-21T14:50:36.659Z"
   },
   {
    "duration": 27,
    "start_time": "2022-07-21T14:50:36.680Z"
   },
   {
    "duration": 16,
    "start_time": "2022-07-21T14:50:36.709Z"
   },
   {
    "duration": 16,
    "start_time": "2022-07-21T14:50:36.729Z"
   },
   {
    "duration": 50,
    "start_time": "2022-07-21T14:50:36.747Z"
   },
   {
    "duration": 12,
    "start_time": "2022-07-21T14:50:36.800Z"
   },
   {
    "duration": 10,
    "start_time": "2022-07-21T14:50:36.814Z"
   },
   {
    "duration": 22,
    "start_time": "2022-07-21T14:50:36.826Z"
   },
   {
    "duration": 17,
    "start_time": "2022-07-21T14:50:36.850Z"
   },
   {
    "duration": 35,
    "start_time": "2022-07-21T14:50:36.869Z"
   },
   {
    "duration": 3,
    "start_time": "2022-07-21T14:50:36.906Z"
   },
   {
    "duration": 37,
    "start_time": "2022-07-21T14:50:36.911Z"
   },
   {
    "duration": 46,
    "start_time": "2022-07-21T14:50:36.949Z"
   },
   {
    "duration": 74,
    "start_time": "2022-07-21T14:50:36.997Z"
   },
   {
    "duration": 84,
    "start_time": "2022-07-21T14:50:37.073Z"
   },
   {
    "duration": 13,
    "start_time": "2022-07-21T14:50:37.159Z"
   },
   {
    "duration": 20,
    "start_time": "2022-07-21T14:50:37.174Z"
   },
   {
    "duration": 44,
    "start_time": "2022-07-21T14:50:37.196Z"
   },
   {
    "duration": 21,
    "start_time": "2022-07-21T14:50:37.242Z"
   },
   {
    "duration": 26,
    "start_time": "2022-07-21T14:50:37.265Z"
   },
   {
    "duration": 36,
    "start_time": "2022-07-21T14:50:37.293Z"
   },
   {
    "duration": 8,
    "start_time": "2022-07-21T14:50:37.333Z"
   },
   {
    "duration": 46,
    "start_time": "2022-07-21T14:50:37.343Z"
   },
   {
    "duration": 9,
    "start_time": "2022-07-21T14:50:37.392Z"
   },
   {
    "duration": 19,
    "start_time": "2022-07-21T14:50:37.403Z"
   },
   {
    "duration": 28,
    "start_time": "2022-07-21T14:50:37.424Z"
   },
   {
    "duration": 11,
    "start_time": "2022-07-21T14:50:37.454Z"
   }
  ],
  "colab": {
   "name": "dpp_template_part2.ipynb",
   "provenance": []
  },
  "kernelspec": {
   "display_name": "Python 3 (ipykernel)",
   "language": "python",
   "name": "python3"
  },
  "language_info": {
   "codemirror_mode": {
    "name": "ipython",
    "version": 3
   },
   "file_extension": ".py",
   "mimetype": "text/x-python",
   "name": "python",
   "nbconvert_exporter": "python",
   "pygments_lexer": "ipython3",
   "version": "3.9.13"
  },
  "toc": {
   "base_numbering": 1,
   "nav_menu": {
    "height": "314px",
    "width": "277px"
   },
   "number_sections": true,
   "sideBar": true,
   "skip_h1_title": true,
   "title_cell": "Table of Contents",
   "title_sidebar": "Contents",
   "toc_cell": false,
   "toc_position": {},
   "toc_section_display": true,
   "toc_window_display": false
  }
 },
 "nbformat": 4,
 "nbformat_minor": 5
}
