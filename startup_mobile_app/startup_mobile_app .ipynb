{
 "cells": [
  {
   "cell_type": "markdown",
   "metadata": {},
   "source": [
    "# Анализ стартапа пользователей мобильного приложения, который продаёт продукты питания. Изучение воронки продаж. Исследование результатов A/A/B эсперимента."
   ]
  },
  {
   "cell_type": "markdown",
   "metadata": {},
   "source": [
    "# Описание проекта:"
   ]
  },
  {
   "cell_type": "markdown",
   "metadata": {},
   "source": [
    "Я работаю в стартапе, который продаёт продукты питания. Нужно разобраться, как ведут себя пользователи нашего мобильного приложения.\n",
    "\n",
    "Изучим воронку продаж. Узнаем, как пользователи доходят до покупки. Сколько пользователей доходит до покупки, а сколько — «застревает» на предыдущих шагах? На каких именно?\n",
    "\n",
    "После этого исследуем результаты A/A/B-эксперимента. Дизайнеры захотели поменять шрифты во всём приложении, а менеджеры испугались, что пользователям будет непривычно. Договорились принять решение по результатам A/A/B-теста. Пользователей разбили на 3 группы: 2 контрольные со старыми шрифтами и одну экспериментальную — с новыми. Выясним, какой шрифт лучше.\n",
    "\n",
    "Создание двух групп A вместо одной имеет определённые преимущества. Если две контрольные группы окажутся равны, мы можете быть уверены в точности проведенного тестирования. Если же между значениями A и A будут существенные различия, это поможет обнаружить факторы, которые привели к искажению результатов. Сравнение контрольных групп также помогает понять, сколько времени и данных потребуется для дальнейших тестов.\n",
    "\n",
    "В случае общей аналитики и A/A/B-эксперимента работаем с одними и теми же данными. Исследуют качество работы приложения по общим данным, не учитывая принадлежность пользователей к экспериментам."
   ]
  },
  {
   "cell_type": "markdown",
   "metadata": {},
   "source": [
    "# Описание данных:"
   ]
  },
  {
   "cell_type": "markdown",
   "metadata": {},
   "source": [
    "**Каждая запись в логе — это действие пользователя, или событие.**\n",
    "- EventName — название события;\n",
    "- DeviceIDHash — уникальный идентификатор пользователя;\n",
    "- EventTimestamp — время события;\n",
    "- ExpId — номер эксперимента: 246 и 247 — контрольные группы, а 248 — экспериментальная."
   ]
  },
  {
   "cell_type": "markdown",
   "metadata": {},
   "source": [
    "# План по выполнению проекта:"
   ]
  },
  {
   "cell_type": "markdown",
   "metadata": {},
   "source": [
    "**Шаг 1. Откройте файл с данными и изучите общую информацию**\n",
    " \n",
    " Путь к файлу: `/datasets/logs_exp.csv`. Скачать датасет\n",
    "\n",
    "**Шаг 2. Подготовьте данные**\n",
    "1. Замените названия столбцов на удобные для вас;\n",
    "2. Проверьте пропуски и типы данных. Откорректируйте, если нужно;\n",
    "3. Добавьте столбец даты и времени, а также отдельный столбец дат;\n",
    "**Шаг 3. Изучите и проверьте данные**\n",
    "1. Сколько всего событий в логе?\n",
    "2. Сколько всего пользователей в логе?\n",
    "3. Сколько в среднем событий приходится на пользователя?\n",
    "4. Данными за какой период вы располагаете? Найдите максимальную и минимальную дату. Постройте гистограмму по дате и времени. Можно ли быть уверенным, что у вас одинаково полные данные за весь период? Технически в логи новых дней по некоторым пользователям могут «доезжать» события из прошлого — это может «перекашивать данные». Определите, с какого момента данные полные и отбросьте более старые. Данными за какой период времени вы располагаете на самом деле?\n",
    "5. Много ли событий и пользователей вы потеряли, отбросив старые данные?\n",
    "6. Проверьте, что у вас есть пользователи из всех трёх экспериментальных групп.\n",
    "**Шаг 4. Изучите воронку событий**\n",
    "1. Посмотрите, какие события есть в логах, как часто они встречаются. Отсортируйте события по частоте.\n",
    "2. Посчитайте, сколько пользователей совершали каждое из этих событий. Отсортируйте события по числу пользователей. Посчитайте долю пользователей, которые хоть раз совершали событие.\n",
    "3. Предположите, в каком порядке происходят события. Все ли они выстраиваются в последовательную цепочку? Их не нужно учитывать при расчёте воронки.\n",
    "4. По воронке событий посчитайте, какая доля пользователей проходит на следующий шаг воронки (от числа пользователей на предыдущем). То есть для последовательности событий A → B → C посчитайте отношение числа пользователей с событием B к количеству пользователей с событием A, а также отношение числа пользователей с событием C к количеству пользователей с событием B.\n",
    "5. На каком шаге теряете больше всего пользователей?\n",
    "6. Какая доля пользователей доходит от первого события до оплаты?\n",
    "**Шаг 5. Изучите результаты эксперимента**\n",
    "1. Сколько пользователей в каждой экспериментальной группе?\n",
    "2. Есть 2 контрольные группы для А/А-эксперимента, чтобы проверить корректность всех механизмов и расчётов. Проверьте, находят ли статистические критерии разницу между выборками 246 и 247.\n",
    "3. Выберите самое популярное событие. Посчитайте число пользователей, совершивших это событие в каждой из контрольных групп. Посчитайте долю пользователей, совершивших это событие. Проверьте, будет ли отличие между группами статистически достоверным. Проделайте то же самое для всех других событий (удобно обернуть проверку в отдельную функцию). Можно ли сказать, что разбиение на группы работает корректно?\n",
    "4. Аналогично поступите с группой с изменённым шрифтом. Сравните результаты с каждой из контрольных групп в отдельности по каждому событию. Сравните результаты с объединённой контрольной группой. Какие выводы из эксперимента можно сделать?\n",
    "5. Какой уровень значимости вы выбрали при проверке статистических гипотез выше? Посчитайте, сколько проверок статистических гипотез вы сделали. При уровне значимости 0.1 каждый десятый раз можно получать ложный результат. Какой уровень значимости стоит применить? Если вы хотите изменить его, проделайте предыдущие пункты и проверьте свои выводы."
   ]
  },
  {
   "cell_type": "markdown",
   "metadata": {},
   "source": [
    "**Цель исследования**: - Исследуем гипотезы, изучим поведение пользователей мобильного приложения."
   ]
  },
  {
   "cell_type": "markdown",
   "metadata": {},
   "source": [
    "Нам предстоит выяснить изучить:\n",
    "- Как пользователи доходят до покупки?\n",
    "- Сколько пользователей доходит до покупки, сколько «застревает» на предыдущих шагах и на каких?\n",
    "- Исследуем результаты A/A/B экспериментаю.\n",
    "- Выясним какой шрифт лучше после изменения дизайна."
   ]
  },
  {
   "cell_type": "markdown",
   "metadata": {},
   "source": [
    "**Ход исследования**:\n",
    "\n",
    "Данные для работы мы получаем из файла `/datasets/logs_exp.csv`.\n",
    "\n",
    "О качестве данных  ничего не известно. Поэтому перед проверкой гипотиз проведём обзор данных.\n",
    "Проверим данные и оценим их влияние на исследование. Исправим критические ошибки в данных, если они есть.\n",
    "\n",
    "Исследование произведём в несколько этапов:\n",
    "\n",
    "1. Проверка данных\n",
    "2. Изучение воронки событий\n",
    "3. Изучение результатов эксперимента"
   ]
  },
  {
   "cell_type": "markdown",
   "metadata": {},
   "source": [
    "### Откроем файл с данными и изучим общую информацию: "
   ]
  },
  {
   "cell_type": "markdown",
   "metadata": {},
   "source": [
    "Загрузим данные для исследования \n",
    "\n",
    "**Путь к файлам**:\n",
    "-  `/datasets/logs_exp.csv` - файл с данными"
   ]
  },
  {
   "cell_type": "markdown",
   "metadata": {},
   "source": [
    "#### Загружаем необходимые библиотеки:"
   ]
  },
  {
   "cell_type": "code",
   "execution_count": 56,
   "metadata": {},
   "outputs": [],
   "source": [
    "# Импортируем необходимые модули для работы\n",
    "import pandas as pd\n",
    "import scipy.stats as stats\n",
    "from scipy import stats as st\n",
    "import datetime as dt\n",
    "import numpy as np\n",
    "import matplotlib.pyplot as plt\n",
    "from plotly import graph_objects as go\n",
    "import math as mth\n",
    "# При использованиии некоторых атрибутов могут показываться предупреждения, чтобы такого не было, уберём их\n",
    "import warnings\n",
    "warnings.filterwarnings('ignore')"
   ]
  },
  {
   "cell_type": "markdown",
   "metadata": {},
   "source": [
    "#### Загрузим данные в переменные:"
   ]
  },
  {
   "cell_type": "code",
   "execution_count": 57,
   "metadata": {},
   "outputs": [],
   "source": [
    "# загрузим датасет в переменную data, применим разделитель sep='\\t'\n",
    "try:data = pd.read_csv('https://code.s3.yandex.net/datasets/logs_exp.csv',sep='\\t')\n",
    "except:data = pd.read_csv('https://code.s3.yandex.net/datasets/logs_exp.csv',sep='\\t')"
   ]
  },
  {
   "cell_type": "markdown",
   "metadata": {},
   "source": [
    "#### Выведем информацию о данных на экран о данных:"
   ]
  },
  {
   "cell_type": "code",
   "execution_count": 58,
   "metadata": {},
   "outputs": [
    {
     "name": "stdout",
     "output_type": "stream",
     "text": [
      "<class 'pandas.core.frame.DataFrame'>\n",
      "RangeIndex: 244126 entries, 0 to 244125\n",
      "Data columns (total 4 columns):\n",
      " #   Column          Non-Null Count   Dtype \n",
      "---  ------          --------------   ----- \n",
      " 0   EventName       244126 non-null  object\n",
      " 1   DeviceIDHash    244126 non-null  int64 \n",
      " 2   EventTimestamp  244126 non-null  int64 \n",
      " 3   ExpId           244126 non-null  int64 \n",
      "dtypes: int64(3), object(1)\n",
      "memory usage: 7.5+ MB\n"
     ]
    }
   ],
   "source": [
    "# Выводим информацию\n",
    "data.info()"
   ]
  },
  {
   "cell_type": "code",
   "execution_count": 59,
   "metadata": {},
   "outputs": [
    {
     "data": {
      "text/html": [
       "<div>\n",
       "<style scoped>\n",
       "    .dataframe tbody tr th:only-of-type {\n",
       "        vertical-align: middle;\n",
       "    }\n",
       "\n",
       "    .dataframe tbody tr th {\n",
       "        vertical-align: top;\n",
       "    }\n",
       "\n",
       "    .dataframe thead th {\n",
       "        text-align: right;\n",
       "    }\n",
       "</style>\n",
       "<table border=\"1\" class=\"dataframe\">\n",
       "  <thead>\n",
       "    <tr style=\"text-align: right;\">\n",
       "      <th></th>\n",
       "      <th>EventName</th>\n",
       "      <th>DeviceIDHash</th>\n",
       "      <th>EventTimestamp</th>\n",
       "      <th>ExpId</th>\n",
       "    </tr>\n",
       "  </thead>\n",
       "  <tbody>\n",
       "    <tr>\n",
       "      <th>0</th>\n",
       "      <td>MainScreenAppear</td>\n",
       "      <td>4575588528974610257</td>\n",
       "      <td>1564029816</td>\n",
       "      <td>246</td>\n",
       "    </tr>\n",
       "    <tr>\n",
       "      <th>1</th>\n",
       "      <td>MainScreenAppear</td>\n",
       "      <td>7416695313311560658</td>\n",
       "      <td>1564053102</td>\n",
       "      <td>246</td>\n",
       "    </tr>\n",
       "    <tr>\n",
       "      <th>2</th>\n",
       "      <td>PaymentScreenSuccessful</td>\n",
       "      <td>3518123091307005509</td>\n",
       "      <td>1564054127</td>\n",
       "      <td>248</td>\n",
       "    </tr>\n",
       "    <tr>\n",
       "      <th>3</th>\n",
       "      <td>CartScreenAppear</td>\n",
       "      <td>3518123091307005509</td>\n",
       "      <td>1564054127</td>\n",
       "      <td>248</td>\n",
       "    </tr>\n",
       "    <tr>\n",
       "      <th>4</th>\n",
       "      <td>PaymentScreenSuccessful</td>\n",
       "      <td>6217807653094995999</td>\n",
       "      <td>1564055322</td>\n",
       "      <td>248</td>\n",
       "    </tr>\n",
       "    <tr>\n",
       "      <th>...</th>\n",
       "      <td>...</td>\n",
       "      <td>...</td>\n",
       "      <td>...</td>\n",
       "      <td>...</td>\n",
       "    </tr>\n",
       "    <tr>\n",
       "      <th>244121</th>\n",
       "      <td>MainScreenAppear</td>\n",
       "      <td>4599628364049201812</td>\n",
       "      <td>1565212345</td>\n",
       "      <td>247</td>\n",
       "    </tr>\n",
       "    <tr>\n",
       "      <th>244122</th>\n",
       "      <td>MainScreenAppear</td>\n",
       "      <td>5849806612437486590</td>\n",
       "      <td>1565212439</td>\n",
       "      <td>246</td>\n",
       "    </tr>\n",
       "    <tr>\n",
       "      <th>244123</th>\n",
       "      <td>MainScreenAppear</td>\n",
       "      <td>5746969938801999050</td>\n",
       "      <td>1565212483</td>\n",
       "      <td>246</td>\n",
       "    </tr>\n",
       "    <tr>\n",
       "      <th>244124</th>\n",
       "      <td>MainScreenAppear</td>\n",
       "      <td>5746969938801999050</td>\n",
       "      <td>1565212498</td>\n",
       "      <td>246</td>\n",
       "    </tr>\n",
       "    <tr>\n",
       "      <th>244125</th>\n",
       "      <td>OffersScreenAppear</td>\n",
       "      <td>5746969938801999050</td>\n",
       "      <td>1565212517</td>\n",
       "      <td>246</td>\n",
       "    </tr>\n",
       "  </tbody>\n",
       "</table>\n",
       "<p>244126 rows × 4 columns</p>\n",
       "</div>"
      ],
      "text/plain": [
       "                      EventName         DeviceIDHash  EventTimestamp  ExpId\n",
       "0              MainScreenAppear  4575588528974610257      1564029816    246\n",
       "1              MainScreenAppear  7416695313311560658      1564053102    246\n",
       "2       PaymentScreenSuccessful  3518123091307005509      1564054127    248\n",
       "3              CartScreenAppear  3518123091307005509      1564054127    248\n",
       "4       PaymentScreenSuccessful  6217807653094995999      1564055322    248\n",
       "...                         ...                  ...             ...    ...\n",
       "244121         MainScreenAppear  4599628364049201812      1565212345    247\n",
       "244122         MainScreenAppear  5849806612437486590      1565212439    246\n",
       "244123         MainScreenAppear  5746969938801999050      1565212483    246\n",
       "244124         MainScreenAppear  5746969938801999050      1565212498    246\n",
       "244125       OffersScreenAppear  5746969938801999050      1565212517    246\n",
       "\n",
       "[244126 rows x 4 columns]"
      ]
     },
     "metadata": {},
     "output_type": "display_data"
    }
   ],
   "source": [
    "# Посмотрим на таблицу в целом\n",
    "display(data)\n",
    "# Откроем полное содержимое\n",
    "pd.options.display.max_colwidth = 210"
   ]
  },
  {
   "cell_type": "markdown",
   "metadata": {},
   "source": [
    "**Вывод**: Файл открывается корректно, применили разделитель sep='\\t'. Необходимо Изменить тип данных столбца EventTimestamp с int64 на to_datetime. Отредактировать данные.   "
   ]
  },
  {
   "cell_type": "markdown",
   "metadata": {},
   "source": [
    "### Подготовим данные:"
   ]
  },
  {
   "cell_type": "markdown",
   "metadata": {},
   "source": [
    "#### Заменим название столбцов на удобные для нас:"
   ]
  },
  {
   "cell_type": "code",
   "execution_count": 60,
   "metadata": {},
   "outputs": [
    {
     "data": {
      "text/html": [
       "<div>\n",
       "<style scoped>\n",
       "    .dataframe tbody tr th:only-of-type {\n",
       "        vertical-align: middle;\n",
       "    }\n",
       "\n",
       "    .dataframe tbody tr th {\n",
       "        vertical-align: top;\n",
       "    }\n",
       "\n",
       "    .dataframe thead th {\n",
       "        text-align: right;\n",
       "    }\n",
       "</style>\n",
       "<table border=\"1\" class=\"dataframe\">\n",
       "  <thead>\n",
       "    <tr style=\"text-align: right;\">\n",
       "      <th></th>\n",
       "      <th>event_name</th>\n",
       "      <th>uid</th>\n",
       "      <th>date_time</th>\n",
       "      <th>groups</th>\n",
       "    </tr>\n",
       "  </thead>\n",
       "  <tbody>\n",
       "    <tr>\n",
       "      <th>0</th>\n",
       "      <td>MainScreenAppear</td>\n",
       "      <td>4575588528974610257</td>\n",
       "      <td>1564029816</td>\n",
       "      <td>246</td>\n",
       "    </tr>\n",
       "    <tr>\n",
       "      <th>1</th>\n",
       "      <td>MainScreenAppear</td>\n",
       "      <td>7416695313311560658</td>\n",
       "      <td>1564053102</td>\n",
       "      <td>246</td>\n",
       "    </tr>\n",
       "  </tbody>\n",
       "</table>\n",
       "</div>"
      ],
      "text/plain": [
       "         event_name                  uid   date_time  groups\n",
       "0  MainScreenAppear  4575588528974610257  1564029816     246\n",
       "1  MainScreenAppear  7416695313311560658  1564053102     246"
      ]
     },
     "metadata": {},
     "output_type": "display_data"
    }
   ],
   "source": [
    "# Приведём названия колонок в нижний регистр для удобства\n",
    "data.columns = data.columns.str.lower()\n",
    "# переименуем названия колонок и сделаем змеиный стиль\n",
    "data = data.rename(columns={'eventname': 'event_name', 'deviceidhash': 'uid', 'eventtimestamp': 'date_time', 'expid': 'groups' })\n",
    "# проверим изменения\n",
    "display(data.head(2))"
   ]
  },
  {
   "cell_type": "markdown",
   "metadata": {},
   "source": [
    "#### Проверим пропуски , дубликаты и типы данных. Откорректируем, если нужно."
   ]
  },
  {
   "cell_type": "markdown",
   "metadata": {},
   "source": [
    "##### Проверим пропуски , дубликаты и типы данных"
   ]
  },
  {
   "cell_type": "code",
   "execution_count": 61,
   "metadata": {},
   "outputs": [
    {
     "data": {
      "text/plain": [
       "event_name    0\n",
       "uid           0\n",
       "date_time     0\n",
       "groups        0\n",
       "dtype: int64"
      ]
     },
     "execution_count": 61,
     "metadata": {},
     "output_type": "execute_result"
    }
   ],
   "source": [
    "# Проверяем пропуски, применим атрибут isna() \n",
    "data.isna().sum()"
   ]
  },
  {
   "cell_type": "code",
   "execution_count": 62,
   "metadata": {},
   "outputs": [
    {
     "data": {
      "text/plain": [
       "244126"
      ]
     },
     "execution_count": 62,
     "metadata": {},
     "output_type": "execute_result"
    }
   ],
   "source": [
    "# посмотрим сколько строк\n",
    "data.shape[0]"
   ]
  },
  {
   "cell_type": "code",
   "execution_count": 63,
   "metadata": {},
   "outputs": [
    {
     "data": {
      "text/plain": [
       "413"
      ]
     },
     "execution_count": 63,
     "metadata": {},
     "output_type": "execute_result"
    }
   ],
   "source": [
    "# Проверим дубликаты и если они есть, удалим их \n",
    "data.duplicated().sum()"
   ]
  },
  {
   "cell_type": "code",
   "execution_count": 64,
   "metadata": {},
   "outputs": [],
   "source": [
    "# удалим дубликаты их не много, они на исследование не повлияют\n",
    "data = data.drop_duplicates().reset_index(drop=True)"
   ]
  },
  {
   "cell_type": "code",
   "execution_count": 65,
   "metadata": {},
   "outputs": [
    {
     "data": {
      "text/plain": [
       "0"
      ]
     },
     "execution_count": 65,
     "metadata": {},
     "output_type": "execute_result"
    }
   ],
   "source": [
    "# проверим, всё ли мы удалили\n",
    "data.duplicated().sum()"
   ]
  },
  {
   "cell_type": "markdown",
   "metadata": {},
   "source": [
    "##### Откорректируем тип данных:"
   ]
  },
  {
   "cell_type": "code",
   "execution_count": 66,
   "metadata": {},
   "outputs": [],
   "source": [
    "# переведём дату и время в формат to_datetime, укажем unit='s', чтобы перевести из секунд\n",
    "data['date_time'] = pd.to_datetime(data['date_time'], unit='s')"
   ]
  },
  {
   "cell_type": "code",
   "execution_count": 67,
   "metadata": {},
   "outputs": [
    {
     "data": {
      "text/html": [
       "<div>\n",
       "<style scoped>\n",
       "    .dataframe tbody tr th:only-of-type {\n",
       "        vertical-align: middle;\n",
       "    }\n",
       "\n",
       "    .dataframe tbody tr th {\n",
       "        vertical-align: top;\n",
       "    }\n",
       "\n",
       "    .dataframe thead th {\n",
       "        text-align: right;\n",
       "    }\n",
       "</style>\n",
       "<table border=\"1\" class=\"dataframe\">\n",
       "  <thead>\n",
       "    <tr style=\"text-align: right;\">\n",
       "      <th></th>\n",
       "      <th>event_name</th>\n",
       "      <th>uid</th>\n",
       "      <th>date_time</th>\n",
       "      <th>groups</th>\n",
       "    </tr>\n",
       "  </thead>\n",
       "  <tbody>\n",
       "    <tr>\n",
       "      <th>0</th>\n",
       "      <td>MainScreenAppear</td>\n",
       "      <td>4575588528974610257</td>\n",
       "      <td>2019-07-25 04:43:36</td>\n",
       "      <td>246</td>\n",
       "    </tr>\n",
       "    <tr>\n",
       "      <th>1</th>\n",
       "      <td>MainScreenAppear</td>\n",
       "      <td>7416695313311560658</td>\n",
       "      <td>2019-07-25 11:11:42</td>\n",
       "      <td>246</td>\n",
       "    </tr>\n",
       "    <tr>\n",
       "      <th>2</th>\n",
       "      <td>PaymentScreenSuccessful</td>\n",
       "      <td>3518123091307005509</td>\n",
       "      <td>2019-07-25 11:28:47</td>\n",
       "      <td>248</td>\n",
       "    </tr>\n",
       "    <tr>\n",
       "      <th>3</th>\n",
       "      <td>CartScreenAppear</td>\n",
       "      <td>3518123091307005509</td>\n",
       "      <td>2019-07-25 11:28:47</td>\n",
       "      <td>248</td>\n",
       "    </tr>\n",
       "    <tr>\n",
       "      <th>4</th>\n",
       "      <td>PaymentScreenSuccessful</td>\n",
       "      <td>6217807653094995999</td>\n",
       "      <td>2019-07-25 11:48:42</td>\n",
       "      <td>248</td>\n",
       "    </tr>\n",
       "  </tbody>\n",
       "</table>\n",
       "</div>"
      ],
      "text/plain": [
       "                event_name                  uid           date_time  groups\n",
       "0         MainScreenAppear  4575588528974610257 2019-07-25 04:43:36     246\n",
       "1         MainScreenAppear  7416695313311560658 2019-07-25 11:11:42     246\n",
       "2  PaymentScreenSuccessful  3518123091307005509 2019-07-25 11:28:47     248\n",
       "3         CartScreenAppear  3518123091307005509 2019-07-25 11:28:47     248\n",
       "4  PaymentScreenSuccessful  6217807653094995999 2019-07-25 11:48:42     248"
      ]
     },
     "metadata": {},
     "output_type": "display_data"
    }
   ],
   "source": [
    "# посмотрим что  получилось\n",
    "display(data.head(5))"
   ]
  },
  {
   "cell_type": "markdown",
   "metadata": {},
   "source": [
    "#### Добавим столбец даты и времени, а также отдельный столбец дат:"
   ]
  },
  {
   "cell_type": "code",
   "execution_count": 68,
   "metadata": {},
   "outputs": [],
   "source": [
    "# Столбец с датой и временем у нас уже есть, добавим стобец с датой.\n",
    "data['date'] = data['date_time'].astype('datetime64[D]')"
   ]
  },
  {
   "cell_type": "code",
   "execution_count": 69,
   "metadata": {},
   "outputs": [
    {
     "data": {
      "text/html": [
       "<div>\n",
       "<style scoped>\n",
       "    .dataframe tbody tr th:only-of-type {\n",
       "        vertical-align: middle;\n",
       "    }\n",
       "\n",
       "    .dataframe tbody tr th {\n",
       "        vertical-align: top;\n",
       "    }\n",
       "\n",
       "    .dataframe thead th {\n",
       "        text-align: right;\n",
       "    }\n",
       "</style>\n",
       "<table border=\"1\" class=\"dataframe\">\n",
       "  <thead>\n",
       "    <tr style=\"text-align: right;\">\n",
       "      <th></th>\n",
       "      <th>event_name</th>\n",
       "      <th>uid</th>\n",
       "      <th>date_time</th>\n",
       "      <th>groups</th>\n",
       "      <th>date</th>\n",
       "    </tr>\n",
       "  </thead>\n",
       "  <tbody>\n",
       "    <tr>\n",
       "      <th>0</th>\n",
       "      <td>MainScreenAppear</td>\n",
       "      <td>4575588528974610257</td>\n",
       "      <td>2019-07-25 04:43:36</td>\n",
       "      <td>246</td>\n",
       "      <td>2019-07-25</td>\n",
       "    </tr>\n",
       "    <tr>\n",
       "      <th>1</th>\n",
       "      <td>MainScreenAppear</td>\n",
       "      <td>7416695313311560658</td>\n",
       "      <td>2019-07-25 11:11:42</td>\n",
       "      <td>246</td>\n",
       "      <td>2019-07-25</td>\n",
       "    </tr>\n",
       "    <tr>\n",
       "      <th>2</th>\n",
       "      <td>PaymentScreenSuccessful</td>\n",
       "      <td>3518123091307005509</td>\n",
       "      <td>2019-07-25 11:28:47</td>\n",
       "      <td>248</td>\n",
       "      <td>2019-07-25</td>\n",
       "    </tr>\n",
       "    <tr>\n",
       "      <th>3</th>\n",
       "      <td>CartScreenAppear</td>\n",
       "      <td>3518123091307005509</td>\n",
       "      <td>2019-07-25 11:28:47</td>\n",
       "      <td>248</td>\n",
       "      <td>2019-07-25</td>\n",
       "    </tr>\n",
       "    <tr>\n",
       "      <th>4</th>\n",
       "      <td>PaymentScreenSuccessful</td>\n",
       "      <td>6217807653094995999</td>\n",
       "      <td>2019-07-25 11:48:42</td>\n",
       "      <td>248</td>\n",
       "      <td>2019-07-25</td>\n",
       "    </tr>\n",
       "  </tbody>\n",
       "</table>\n",
       "</div>"
      ],
      "text/plain": [
       "                event_name                  uid           date_time  groups  \\\n",
       "0         MainScreenAppear  4575588528974610257 2019-07-25 04:43:36     246   \n",
       "1         MainScreenAppear  7416695313311560658 2019-07-25 11:11:42     246   \n",
       "2  PaymentScreenSuccessful  3518123091307005509 2019-07-25 11:28:47     248   \n",
       "3         CartScreenAppear  3518123091307005509 2019-07-25 11:28:47     248   \n",
       "4  PaymentScreenSuccessful  6217807653094995999 2019-07-25 11:48:42     248   \n",
       "\n",
       "        date  \n",
       "0 2019-07-25  \n",
       "1 2019-07-25  \n",
       "2 2019-07-25  \n",
       "3 2019-07-25  \n",
       "4 2019-07-25  "
      ]
     },
     "metadata": {},
     "output_type": "display_data"
    }
   ],
   "source": [
    "# Проверим всё ли у нас получилось\n",
    "display(data.head(5))"
   ]
  },
  {
   "cell_type": "markdown",
   "metadata": {},
   "source": [
    "**Вывод**: Данные к работе подготовили.\n",
    "- Проверили на наличие дубликатов и наличие пропусков.\n",
    "- Изменили фрмат даты и времени с `intn64` на `to_datetime`, применили атрибут `unit='s'`, чтобы перевести перевод из секунд.\n",
    "- Переименовали столбцы для удобства работы.\n",
    "- Создали столбец `date` с датой."
   ]
  },
  {
   "cell_type": "markdown",
   "metadata": {},
   "source": [
    "### Изучим проверенные данные:"
   ]
  },
  {
   "cell_type": "markdown",
   "metadata": {},
   "source": [
    "#### Узнаем сколько всего событий в логе?"
   ]
  },
  {
   "cell_type": "code",
   "execution_count": 70,
   "metadata": {},
   "outputs": [
    {
     "name": "stdout",
     "output_type": "stream",
     "text": [
      "Всего событий в логе: 243713\n"
     ]
    }
   ],
   "source": [
    "# события в логе \n",
    "print('Всего событий в логе:', data['event_name'].shape[0])"
   ]
  },
  {
   "cell_type": "markdown",
   "metadata": {},
   "source": [
    "#### Узнаем сколько всего пользователей в логе?"
   ]
  },
  {
   "cell_type": "code",
   "execution_count": 71,
   "metadata": {},
   "outputs": [
    {
     "name": "stdout",
     "output_type": "stream",
     "text": [
      "Всего пользователей: 7551\n"
     ]
    }
   ],
   "source": [
    "# всего пользователей в логе \n",
    "print('Всего пользователей:', data['uid'].unique().shape[0])"
   ]
  },
  {
   "cell_type": "markdown",
   "metadata": {},
   "source": [
    "#### Сколько в среднем событий приходится на пользователя?"
   ]
  },
  {
   "cell_type": "code",
   "execution_count": 72,
   "metadata": {},
   "outputs": [
    {
     "name": "stdout",
     "output_type": "stream",
     "text": [
      "В среднем события на пользователя: 32 \n"
     ]
    }
   ],
   "source": [
    "# приходится в среднем на пользователя\n",
    "print(\"В среднем события на пользователя: %d \" % (data.shape[0] / data['uid'].unique().shape[0]))"
   ]
  },
  {
   "cell_type": "markdown",
   "metadata": {},
   "source": [
    "#### Данными за какой период мы располагаем? Найдём максимальную и минимальную дату."
   ]
  },
  {
   "cell_type": "code",
   "execution_count": 73,
   "metadata": {},
   "outputs": [
    {
     "name": "stdout",
     "output_type": "stream",
     "text": [
      "Дата начала: 2019-07-25 04:43:36\n",
      "Дата окончания: 2019-08-07 21:15:17\n"
     ]
    }
   ],
   "source": [
    "# Минимальная дата \n",
    "print('Дата начала:' , data['date_time'].min())\n",
    "# Максимальная дата\n",
    "print('Дата окончания:', data['date_time'].max())"
   ]
  },
  {
   "cell_type": "markdown",
   "metadata": {},
   "source": [
    "Данные нам доступны с 2019-07-25 по 2019-08-27 . Примерно за месяц."
   ]
  },
  {
   "cell_type": "code",
   "execution_count": 74,
   "metadata": {},
   "outputs": [
    {
     "data": {
      "image/png": "[encoded data removed]",
      "text/plain": [
       "<Figure size 1400x400 with 1 Axes>"
      ]
     },
     "metadata": {},
     "output_type": "display_data"
    }
   ],
   "source": [
    "# Построим гистограмму распределния по дате и времени, выберем полные данные для исследования\n",
    "plt.plot\n",
    "data['date_time'].hist(figsize=(14, 4), grid=True, bins = 400)\n",
    "plt.title('График по дате и времени')\n",
    "plt.xlabel('Дата')\n",
    "plt.xticks(rotation=45)\n",
    "plt.show()"
   ]
  },
  {
   "cell_type": "markdown",
   "metadata": {},
   "source": [
    "Данные у нас за весь период не полные. На графике чётко видна целостность данных  с событиями. Возьмём события начиная с 2019-08-01, но поскольку данные могут доезжать, туда и войдут данные 2019-07-31."
   ]
  },
  {
   "cell_type": "code",
   "execution_count": 75,
   "metadata": {},
   "outputs": [],
   "source": [
    "# Ненужные данные по  дате отбросим \n",
    "df = data.loc[data['date_time'] >= '2019-07-31']"
   ]
  },
  {
   "cell_type": "code",
   "execution_count": 76,
   "metadata": {},
   "outputs": [
    {
     "data": {
      "text/html": [
       "<div>\n",
       "<style scoped>\n",
       "    .dataframe tbody tr th:only-of-type {\n",
       "        vertical-align: middle;\n",
       "    }\n",
       "\n",
       "    .dataframe tbody tr th {\n",
       "        vertical-align: top;\n",
       "    }\n",
       "\n",
       "    .dataframe thead th {\n",
       "        text-align: right;\n",
       "    }\n",
       "</style>\n",
       "<table border=\"1\" class=\"dataframe\">\n",
       "  <thead>\n",
       "    <tr style=\"text-align: right;\">\n",
       "      <th></th>\n",
       "      <th>event_name</th>\n",
       "      <th>uid</th>\n",
       "      <th>date_time</th>\n",
       "      <th>groups</th>\n",
       "      <th>date</th>\n",
       "    </tr>\n",
       "  </thead>\n",
       "  <tbody>\n",
       "    <tr>\n",
       "      <th>796</th>\n",
       "      <td>MainScreenAppear</td>\n",
       "      <td>3670880358399219515</td>\n",
       "      <td>2019-07-31 01:11:46</td>\n",
       "      <td>247</td>\n",
       "      <td>2019-07-31</td>\n",
       "    </tr>\n",
       "    <tr>\n",
       "      <th>797</th>\n",
       "      <td>OffersScreenAppear</td>\n",
       "      <td>3799109751993694887</td>\n",
       "      <td>2019-07-31 01:21:04</td>\n",
       "      <td>248</td>\n",
       "      <td>2019-07-31</td>\n",
       "    </tr>\n",
       "    <tr>\n",
       "      <th>798</th>\n",
       "      <td>Tutorial</td>\n",
       "      <td>1126021718529336913</td>\n",
       "      <td>2019-07-31 01:32:11</td>\n",
       "      <td>247</td>\n",
       "      <td>2019-07-31</td>\n",
       "    </tr>\n",
       "    <tr>\n",
       "      <th>799</th>\n",
       "      <td>MainScreenAppear</td>\n",
       "      <td>4293428370257583636</td>\n",
       "      <td>2019-07-31 02:19:18</td>\n",
       "      <td>248</td>\n",
       "      <td>2019-07-31</td>\n",
       "    </tr>\n",
       "    <tr>\n",
       "      <th>800</th>\n",
       "      <td>MainScreenAppear</td>\n",
       "      <td>4567464647598975872</td>\n",
       "      <td>2019-07-31 02:33:30</td>\n",
       "      <td>247</td>\n",
       "      <td>2019-07-31</td>\n",
       "    </tr>\n",
       "  </tbody>\n",
       "</table>\n",
       "</div>"
      ],
      "text/plain": [
       "             event_name                  uid           date_time  groups  \\\n",
       "796    MainScreenAppear  3670880358399219515 2019-07-31 01:11:46     247   \n",
       "797  OffersScreenAppear  3799109751993694887 2019-07-31 01:21:04     248   \n",
       "798            Tutorial  1126021718529336913 2019-07-31 01:32:11     247   \n",
       "799    MainScreenAppear  4293428370257583636 2019-07-31 02:19:18     248   \n",
       "800    MainScreenAppear  4567464647598975872 2019-07-31 02:33:30     247   \n",
       "\n",
       "          date  \n",
       "796 2019-07-31  \n",
       "797 2019-07-31  \n",
       "798 2019-07-31  \n",
       "799 2019-07-31  \n",
       "800 2019-07-31  "
      ]
     },
     "metadata": {},
     "output_type": "display_data"
    }
   ],
   "source": [
    "# Проверим, что у нас получилось\n",
    "display(df.head(5))"
   ]
  },
  {
   "cell_type": "markdown",
   "metadata": {},
   "source": [
    "Мы выбрали полные данные, теперь определим их минимальную и максимальную дату, с которыми будем проводить исследования."
   ]
  },
  {
   "cell_type": "code",
   "execution_count": 77,
   "metadata": {},
   "outputs": [
    {
     "name": "stdout",
     "output_type": "stream",
     "text": [
      "Дата начала: 2019-07-31 01:11:46\n",
      "Дата окончания: 2019-08-07 21:15:17\n"
     ]
    }
   ],
   "source": [
    "# Минимальная дата исследования \n",
    "print('Дата начала:' , df['date_time'].min())\n",
    "# Максимальная дата исследования\n",
    "print('Дата окончания:', df['date_time'].max())"
   ]
  },
  {
   "cell_type": "markdown",
   "metadata": {},
   "source": [
    "#### Много ли событий и пользователей мы потеряли, отбросив старые данные? Проверим"
   ]
  },
  {
   "cell_type": "code",
   "execution_count": 78,
   "metadata": {},
   "outputs": [
    {
     "name": "stdout",
     "output_type": "stream",
     "text": [
      "Мы потеряли событий событий: 2826\n"
     ]
    }
   ],
   "source": [
    "# Посмотрим, сколько событий было потеряно\n",
    "# Создадим новый датафрейм\n",
    "data_event = data.query('date <= \"2019-07-31\"')\n",
    "print('Мы потеряли событий событий:', len(data_event['event_name']))"
   ]
  },
  {
   "cell_type": "code",
   "execution_count": 79,
   "metadata": {},
   "outputs": [
    {
     "name": "stdout",
     "output_type": "stream",
     "text": [
      "Потеряли событий: 1.2 %\n"
     ]
    }
   ],
   "source": [
    "# посчитаем в процентах, сколько данных мы потеряли и округлим до трёх знаков после запятой\n",
    "print('Потеряли событий:', round(len(data_event['event_name'])/len(data['event_name']), 3)*100, '%')"
   ]
  },
  {
   "cell_type": "markdown",
   "metadata": {},
   "source": [
    "Было потеряно примерно 1%  событий в данных, для того, чтобы проводить исследование такая цифра допускается."
   ]
  },
  {
   "cell_type": "code",
   "execution_count": 80,
   "metadata": {},
   "outputs": [
    {
     "name": "stdout",
     "output_type": "stream",
     "text": [
      "Всего пользователей со старыми данными: 7551\n",
      "Всего пользователей с новыми данными: 7542\n",
      "Разница в пользователях: 9\n"
     ]
    }
   ],
   "source": [
    "# Старые пользователи \n",
    "print('Всего пользователей со старыми данными:', data['uid'].unique().shape[0])\n",
    "# Пользователи с ощищенными данными \n",
    "print('Всего пользователей с новыми данными:', df['uid'].unique().shape[0])\n",
    "# Найдём разницу в пользователях\n",
    "print('Разница в пользователях:', (data['uid'].unique().shape[0] -df['uid'].unique().shape[0]))"
   ]
  },
  {
   "cell_type": "markdown",
   "metadata": {},
   "source": [
    "#### Проверим, что у нас есть пользователи из всех трёх экспериментальных групп."
   ]
  },
  {
   "cell_type": "code",
   "execution_count": 81,
   "metadata": {},
   "outputs": [
    {
     "data": {
      "text/html": [
       "<div>\n",
       "<style scoped>\n",
       "    .dataframe tbody tr th:only-of-type {\n",
       "        vertical-align: middle;\n",
       "    }\n",
       "\n",
       "    .dataframe tbody tr th {\n",
       "        vertical-align: top;\n",
       "    }\n",
       "\n",
       "    .dataframe thead th {\n",
       "        text-align: right;\n",
       "    }\n",
       "</style>\n",
       "<table border=\"1\" class=\"dataframe\">\n",
       "  <thead>\n",
       "    <tr style=\"text-align: right;\">\n",
       "      <th></th>\n",
       "      <th>uid</th>\n",
       "    </tr>\n",
       "    <tr>\n",
       "      <th>groups</th>\n",
       "      <th></th>\n",
       "    </tr>\n",
       "  </thead>\n",
       "  <tbody>\n",
       "    <tr>\n",
       "      <th>247</th>\n",
       "      <td>77686</td>\n",
       "    </tr>\n",
       "    <tr>\n",
       "      <th>246</th>\n",
       "      <td>79922</td>\n",
       "    </tr>\n",
       "    <tr>\n",
       "      <th>248</th>\n",
       "      <td>85309</td>\n",
       "    </tr>\n",
       "  </tbody>\n",
       "</table>\n",
       "</div>"
      ],
      "text/plain": [
       "          uid\n",
       "groups       \n",
       "247     77686\n",
       "246     79922\n",
       "248     85309"
      ]
     },
     "metadata": {},
     "output_type": "display_data"
    }
   ],
   "source": [
    "# Найдём пользователей в наших экспериментальный группах\n",
    "uid_groups = df.groupby('groups').agg({'uid': 'count'})\n",
    "# Выведем на экран\n",
    "display(uid_groups.sort_values(by='uid', ascending=True))"
   ]
  },
  {
   "cell_type": "markdown",
   "metadata": {},
   "source": [
    "В 248 группе самое большое количество пользователей, 85309(польз). В 247 группе 77686(польз) и в 246 группе  79922(польз), в этих 2ух группах примерно одинаковое количество пользователей. "
   ]
  },
  {
   "cell_type": "markdown",
   "metadata": {},
   "source": [
    "**Проверим:** не пересекаются ли пользователи в каждой группе между собой: "
   ]
  },
  {
   "cell_type": "code",
   "execution_count": 82,
   "metadata": {},
   "outputs": [
    {
     "name": "stdout",
     "output_type": "stream",
     "text": [
      "Количество пересекающихся пользователей: A_B\n",
      "0\n",
      "Количество пересекающихся пользователей: A_C\n",
      "0\n",
      "Количество пересекающихся пользователей: B_C\n",
      "0\n"
     ]
    }
   ],
   "source": [
    "# Создаим виртуальные группы (A,B,C) -> (247,246,248)\n",
    "# Проверим пересечение, с помощью атрибута numpy.intersect1d \n",
    "A = df[df['groups']=='247']['uid']\n",
    "B = df[df['groups']=='246']['uid']\n",
    "C = df[df['groups']=='248']['uid']\n",
    "\n",
    "# Посмотрим пересечение между группамми A и B\n",
    "A_B = np.intersect1d(A, B)\n",
    "print('Количество пересекающихся пользователей: A_B')\n",
    "print(A_B.shape[0])\n",
    "\n",
    "# Посмотрим пересечие между группами A и C\n",
    "A_C = np.intersect1d(A, C)\n",
    "print('Количество пересекающихся пользователей: A_C')\n",
    "print(A_C.shape[0])\n",
    "\n",
    "# Посмотрим пересечение между группами B и C \n",
    "B_C = np.intersect1d(B, C)\n",
    "print('Количество пересекающихся пользователей: B_C')\n",
    "print(B_C.shape[0])"
   ]
  },
  {
   "cell_type": "markdown",
   "metadata": {},
   "source": [
    "Пользователи не пересекаются между собой, можем продолжить исследование."
   ]
  },
  {
   "cell_type": "markdown",
   "metadata": {},
   "source": [
    "**Вывод:** На данном этапе мы подготовили данные более детально:\n",
    "\n",
    "- Проверили логи, узнали сколько всего событи по неочищенным данным .Всего событий в логе: 243713\n",
    "- Узнали сколько всего пользователей по неочищенным данным. Всего пользователей со старыми данными: 7551\n",
    "- Посчитали сколько в среднем собтий приходится на пользователя. В среднем событий приходится на пользователя : 32 \n",
    "- Проверили пользователей на пересечие между собой. Пользователи не пересекаются.\n",
    "- Выбрали дату исследования. Дата начала: `2019-07-31 01:11:46`.Дата окончания: `2019-08-07 21:15:17`.\n",
    "                            \n"
   ]
  },
  {
   "cell_type": "markdown",
   "metadata": {},
   "source": [
    "### Изучим воронку событий:"
   ]
  },
  {
   "cell_type": "markdown",
   "metadata": {},
   "source": [
    "#### Посмотрим, какие события есть в логах, как часто они встречаются. Отсортируем события по частоте."
   ]
  },
  {
   "cell_type": "code",
   "execution_count": 83,
   "metadata": {},
   "outputs": [
    {
     "data": {
      "text/html": [
       "<div>\n",
       "<style scoped>\n",
       "    .dataframe tbody tr th:only-of-type {\n",
       "        vertical-align: middle;\n",
       "    }\n",
       "\n",
       "    .dataframe tbody tr th {\n",
       "        vertical-align: top;\n",
       "    }\n",
       "\n",
       "    .dataframe thead th {\n",
       "        text-align: right;\n",
       "    }\n",
       "</style>\n",
       "<table border=\"1\" class=\"dataframe\">\n",
       "  <thead>\n",
       "    <tr style=\"text-align: right;\">\n",
       "      <th></th>\n",
       "      <th>uid</th>\n",
       "    </tr>\n",
       "    <tr>\n",
       "      <th>event_name</th>\n",
       "      <th></th>\n",
       "    </tr>\n",
       "  </thead>\n",
       "  <tbody>\n",
       "    <tr>\n",
       "      <th>MainScreenAppear</th>\n",
       "      <td>118578</td>\n",
       "    </tr>\n",
       "    <tr>\n",
       "      <th>OffersScreenAppear</th>\n",
       "      <td>46707</td>\n",
       "    </tr>\n",
       "    <tr>\n",
       "      <th>CartScreenAppear</th>\n",
       "      <td>42560</td>\n",
       "    </tr>\n",
       "    <tr>\n",
       "      <th>PaymentScreenSuccessful</th>\n",
       "      <td>34058</td>\n",
       "    </tr>\n",
       "    <tr>\n",
       "      <th>Tutorial</th>\n",
       "      <td>1014</td>\n",
       "    </tr>\n",
       "  </tbody>\n",
       "</table>\n",
       "</div>"
      ],
      "text/plain": [
       "                            uid\n",
       "event_name                     \n",
       "MainScreenAppear         118578\n",
       "OffersScreenAppear        46707\n",
       "CartScreenAppear          42560\n",
       "PaymentScreenSuccessful   34058\n",
       "Tutorial                   1014"
      ]
     },
     "metadata": {},
     "output_type": "display_data"
    }
   ],
   "source": [
    "# Найдём события, которые есть в логах\n",
    "event_groups = df.groupby('event_name').agg({'uid': 'count'})\n",
    "# Выведем на экран, отсортируем в порядке возрастания\n",
    "display(event_groups.sort_values(by='uid', ascending=False))"
   ]
  },
  {
   "cell_type": "markdown",
   "metadata": {},
   "source": [
    "**Вывод:** По частоте событий пользователи сперва обращают внимание: В логе 5 событий. \n",
    "1. MainScreenAppear(ГлавныйЭкранПоявление) \n",
    "2. OffersScreenAppear(ПредложениеЭкранПоявление)\n",
    "3. CartScreenAppear(КорзинаЭкранПоявление)\n",
    "4. PaymentScreenSuccessful(Оплата)\n",
    "5. Tutorial(обучение)"
   ]
  },
  {
   "cell_type": "markdown",
   "metadata": {},
   "source": [
    "#### Посчитаем, сколько пользователей совершали каждое из этих событий. Отсортируем события по числу пользователей. Посчитаем долю пользователей, которые хоть раз совершали событие."
   ]
  },
  {
   "cell_type": "markdown",
   "metadata": {},
   "source": [
    "##### Посчитаем, сколько пользователей совершали каждое из этих событий. Отсортируем события по числу пользователей. "
   ]
  },
  {
   "cell_type": "code",
   "execution_count": 84,
   "metadata": {},
   "outputs": [
    {
     "data": {
      "text/html": [
       "<div>\n",
       "<style scoped>\n",
       "    .dataframe tbody tr th:only-of-type {\n",
       "        vertical-align: middle;\n",
       "    }\n",
       "\n",
       "    .dataframe tbody tr th {\n",
       "        vertical-align: top;\n",
       "    }\n",
       "\n",
       "    .dataframe thead th {\n",
       "        text-align: right;\n",
       "    }\n",
       "</style>\n",
       "<table border=\"1\" class=\"dataframe\">\n",
       "  <thead>\n",
       "    <tr style=\"text-align: right;\">\n",
       "      <th></th>\n",
       "      <th>event_name</th>\n",
       "      <th>uid</th>\n",
       "    </tr>\n",
       "  </thead>\n",
       "  <tbody>\n",
       "    <tr>\n",
       "      <th>1</th>\n",
       "      <td>MainScreenAppear</td>\n",
       "      <td>7429</td>\n",
       "    </tr>\n",
       "    <tr>\n",
       "      <th>2</th>\n",
       "      <td>OffersScreenAppear</td>\n",
       "      <td>4606</td>\n",
       "    </tr>\n",
       "    <tr>\n",
       "      <th>0</th>\n",
       "      <td>CartScreenAppear</td>\n",
       "      <td>3742</td>\n",
       "    </tr>\n",
       "    <tr>\n",
       "      <th>3</th>\n",
       "      <td>PaymentScreenSuccessful</td>\n",
       "      <td>3542</td>\n",
       "    </tr>\n",
       "    <tr>\n",
       "      <th>4</th>\n",
       "      <td>Tutorial</td>\n",
       "      <td>845</td>\n",
       "    </tr>\n",
       "  </tbody>\n",
       "</table>\n",
       "</div>"
      ],
      "text/plain": [
       "                event_name   uid\n",
       "1         MainScreenAppear  7429\n",
       "2       OffersScreenAppear  4606\n",
       "0         CartScreenAppear  3742\n",
       "3  PaymentScreenSuccessful  3542\n",
       "4                 Tutorial   845"
      ]
     },
     "metadata": {},
     "output_type": "display_data"
    }
   ],
   "source": [
    "# Найдём сколько пользователей совершали каждое из этих событий \n",
    "users_event = df.groupby('event_name',as_index=False).agg({'uid': 'nunique'}).sort_values(by='uid', ascending=False)\n",
    "# Выводим на экран\n",
    "display(users_event.sort_values(by='uid', ascending=False))"
   ]
  },
  {
   "cell_type": "markdown",
   "metadata": {},
   "source": [
    "##### Посчитаем долю пользователей, которые хоть раз совершали событие."
   ]
  },
  {
   "cell_type": "code",
   "execution_count": 85,
   "metadata": {},
   "outputs": [
    {
     "data": {
      "text/html": [
       "<div>\n",
       "<style scoped>\n",
       "    .dataframe tbody tr th:only-of-type {\n",
       "        vertical-align: middle;\n",
       "    }\n",
       "\n",
       "    .dataframe tbody tr th {\n",
       "        vertical-align: top;\n",
       "    }\n",
       "\n",
       "    .dataframe thead th {\n",
       "        text-align: right;\n",
       "    }\n",
       "</style>\n",
       "<table border=\"1\" class=\"dataframe\">\n",
       "  <thead>\n",
       "    <tr style=\"text-align: right;\">\n",
       "      <th></th>\n",
       "      <th>event_name</th>\n",
       "      <th>uid</th>\n",
       "      <th>percent</th>\n",
       "    </tr>\n",
       "  </thead>\n",
       "  <tbody>\n",
       "    <tr>\n",
       "      <th>1</th>\n",
       "      <td>MainScreenAppear</td>\n",
       "      <td>7429</td>\n",
       "      <td>98.50</td>\n",
       "    </tr>\n",
       "    <tr>\n",
       "      <th>2</th>\n",
       "      <td>OffersScreenAppear</td>\n",
       "      <td>4606</td>\n",
       "      <td>61.07</td>\n",
       "    </tr>\n",
       "    <tr>\n",
       "      <th>0</th>\n",
       "      <td>CartScreenAppear</td>\n",
       "      <td>3742</td>\n",
       "      <td>49.62</td>\n",
       "    </tr>\n",
       "    <tr>\n",
       "      <th>3</th>\n",
       "      <td>PaymentScreenSuccessful</td>\n",
       "      <td>3542</td>\n",
       "      <td>46.96</td>\n",
       "    </tr>\n",
       "    <tr>\n",
       "      <th>4</th>\n",
       "      <td>Tutorial</td>\n",
       "      <td>845</td>\n",
       "      <td>11.20</td>\n",
       "    </tr>\n",
       "  </tbody>\n",
       "</table>\n",
       "</div>"
      ],
      "text/plain": [
       "                event_name   uid  percent\n",
       "1         MainScreenAppear  7429    98.50\n",
       "2       OffersScreenAppear  4606    61.07\n",
       "0         CartScreenAppear  3742    49.62\n",
       "3  PaymentScreenSuccessful  3542    46.96\n",
       "4                 Tutorial   845    11.20"
      ]
     },
     "metadata": {},
     "output_type": "display_data"
    }
   ],
   "source": [
    "# Найдём долю пользователей в процентах и округлим до четырёх знаков после запятой\n",
    "users_event['percent'] = round(users_event['uid']/len(df['uid'].unique()), 4) * 100\n",
    "# Выводим на экран таблицу\n",
    "display(users_event) "
   ]
  },
  {
   "cell_type": "code",
   "execution_count": 86,
   "metadata": {},
   "outputs": [
    {
     "data": {
      "application/vnd.plotly.v1+json": {
       "config": {
        "plotlyServerURL": "https://plot.ly"
       },
       "data": [
        {
         "textinfo": "value+percent total",
         "type": "funnel",
         "x": [
          98.5,
          61.07,
          49.62,
          46.96,
          11.200000000000001
         ],
         "y": [
          "MainScreenAppear",
          "OffersScreenAppear",
          "CartScreenAppear",
          "PaymentScreenSuccessful",
          "Tutorial"
         ]
        }
       ],
       "layout": {
        "template": {
         "data": {
          "bar": [
           {
            "error_x": {
             "color": "#2a3f5f"
            },
            "error_y": {
             "color": "#2a3f5f"
            },
            "marker": {
             "line": {
              "color": "#E5ECF6",
              "width": 0.5
             },
             "pattern": {
              "fillmode": "overlay",
              "size": 10,
              "solidity": 0.2
             }
            },
            "type": "bar"
           }
          ],
          "barpolar": [
           {
            "marker": {
             "line": {
              "color": "#E5ECF6",
              "width": 0.5
             },
             "pattern": {
              "fillmode": "overlay",
              "size": 10,
              "solidity": 0.2
             }
            },
            "type": "barpolar"
           }
          ],
          "carpet": [
           {
            "aaxis": {
             "endlinecolor": "#2a3f5f",
             "gridcolor": "white",
             "linecolor": "white",
             "minorgridcolor": "white",
             "startlinecolor": "#2a3f5f"
            },
            "baxis": {
             "endlinecolor": "#2a3f5f",
             "gridcolor": "white",
             "linecolor": "white",
             "minorgridcolor": "white",
             "startlinecolor": "#2a3f5f"
            },
            "type": "carpet"
           }
          ],
          "choropleth": [
           {
            "colorbar": {
             "outlinewidth": 0,
             "ticks": ""
            },
            "type": "choropleth"
           }
          ],
          "contour": [
           {
            "colorbar": {
             "outlinewidth": 0,
             "ticks": ""
            },
            "colorscale": [
             [
              0,
              "#0d0887"
             ],
             [
              0.1111111111111111,
              "#46039f"
             ],
             [
              0.2222222222222222,
              "#7201a8"
             ],
             [
              0.3333333333333333,
              "#9c179e"
             ],
             [
              0.4444444444444444,
              "#bd3786"
             ],
             [
              0.5555555555555556,
              "#d8576b"
             ],
             [
              0.6666666666666666,
              "#ed7953"
             ],
             [
              0.7777777777777778,
              "#fb9f3a"
             ],
             [
              0.8888888888888888,
              "#fdca26"
             ],
             [
              1,
              "#f0f921"
             ]
            ],
            "type": "contour"
           }
          ],
          "contourcarpet": [
           {
            "colorbar": {
             "outlinewidth": 0,
             "ticks": ""
            },
            "type": "contourcarpet"
           }
          ],
          "heatmap": [
           {
            "colorbar": {
             "outlinewidth": 0,
             "ticks": ""
            },
            "colorscale": [
             [
              0,
              "#0d0887"
             ],
             [
              0.1111111111111111,
              "#46039f"
             ],
             [
              0.2222222222222222,
              "#7201a8"
             ],
             [
              0.3333333333333333,
              "#9c179e"
             ],
             [
              0.4444444444444444,
              "#bd3786"
             ],
             [
              0.5555555555555556,
              "#d8576b"
             ],
             [
              0.6666666666666666,
              "#ed7953"
             ],
             [
              0.7777777777777778,
              "#fb9f3a"
             ],
             [
              0.8888888888888888,
              "#fdca26"
             ],
             [
              1,
              "#f0f921"
             ]
            ],
            "type": "heatmap"
           }
          ],
          "heatmapgl": [
           {
            "colorbar": {
             "outlinewidth": 0,
             "ticks": ""
            },
            "colorscale": [
             [
              0,
              "#0d0887"
             ],
             [
              0.1111111111111111,
              "#46039f"
             ],
             [
              0.2222222222222222,
              "#7201a8"
             ],
             [
              0.3333333333333333,
              "#9c179e"
             ],
             [
              0.4444444444444444,
              "#bd3786"
             ],
             [
              0.5555555555555556,
              "#d8576b"
             ],
             [
              0.6666666666666666,
              "#ed7953"
             ],
             [
              0.7777777777777778,
              "#fb9f3a"
             ],
             [
              0.8888888888888888,
              "#fdca26"
             ],
             [
              1,
              "#f0f921"
             ]
            ],
            "type": "heatmapgl"
           }
          ],
          "histogram": [
           {
            "marker": {
             "pattern": {
              "fillmode": "overlay",
              "size": 10,
              "solidity": 0.2
             }
            },
            "type": "histogram"
           }
          ],
          "histogram2d": [
           {
            "colorbar": {
             "outlinewidth": 0,
             "ticks": ""
            },
            "colorscale": [
             [
              0,
              "#0d0887"
             ],
             [
              0.1111111111111111,
              "#46039f"
             ],
             [
              0.2222222222222222,
              "#7201a8"
             ],
             [
              0.3333333333333333,
              "#9c179e"
             ],
             [
              0.4444444444444444,
              "#bd3786"
             ],
             [
              0.5555555555555556,
              "#d8576b"
             ],
             [
              0.6666666666666666,
              "#ed7953"
             ],
             [
              0.7777777777777778,
              "#fb9f3a"
             ],
             [
              0.8888888888888888,
              "#fdca26"
             ],
             [
              1,
              "#f0f921"
             ]
            ],
            "type": "histogram2d"
           }
          ],
          "histogram2dcontour": [
           {
            "colorbar": {
             "outlinewidth": 0,
             "ticks": ""
            },
            "colorscale": [
             [
              0,
              "#0d0887"
             ],
             [
              0.1111111111111111,
              "#46039f"
             ],
             [
              0.2222222222222222,
              "#7201a8"
             ],
             [
              0.3333333333333333,
              "#9c179e"
             ],
             [
              0.4444444444444444,
              "#bd3786"
             ],
             [
              0.5555555555555556,
              "#d8576b"
             ],
             [
              0.6666666666666666,
              "#ed7953"
             ],
             [
              0.7777777777777778,
              "#fb9f3a"
             ],
             [
              0.8888888888888888,
              "#fdca26"
             ],
             [
              1,
              "#f0f921"
             ]
            ],
            "type": "histogram2dcontour"
           }
          ],
          "mesh3d": [
           {
            "colorbar": {
             "outlinewidth": 0,
             "ticks": ""
            },
            "type": "mesh3d"
           }
          ],
          "parcoords": [
           {
            "line": {
             "colorbar": {
              "outlinewidth": 0,
              "ticks": ""
             }
            },
            "type": "parcoords"
           }
          ],
          "pie": [
           {
            "automargin": true,
            "type": "pie"
           }
          ],
          "scatter": [
           {
            "marker": {
             "colorbar": {
              "outlinewidth": 0,
              "ticks": ""
             }
            },
            "type": "scatter"
           }
          ],
          "scatter3d": [
           {
            "line": {
             "colorbar": {
              "outlinewidth": 0,
              "ticks": ""
             }
            },
            "marker": {
             "colorbar": {
              "outlinewidth": 0,
              "ticks": ""
             }
            },
            "type": "scatter3d"
           }
          ],
          "scattercarpet": [
           {
            "marker": {
             "colorbar": {
              "outlinewidth": 0,
              "ticks": ""
             }
            },
            "type": "scattercarpet"
           }
          ],
          "scattergeo": [
           {
            "marker": {
             "colorbar": {
              "outlinewidth": 0,
              "ticks": ""
             }
            },
            "type": "scattergeo"
           }
          ],
          "scattergl": [
           {
            "marker": {
             "colorbar": {
              "outlinewidth": 0,
              "ticks": ""
             }
            },
            "type": "scattergl"
           }
          ],
          "scattermapbox": [
           {
            "marker": {
             "colorbar": {
              "outlinewidth": 0,
              "ticks": ""
             }
            },
            "type": "scattermapbox"
           }
          ],
          "scatterpolar": [
           {
            "marker": {
             "colorbar": {
              "outlinewidth": 0,
              "ticks": ""
             }
            },
            "type": "scatterpolar"
           }
          ],
          "scatterpolargl": [
           {
            "marker": {
             "colorbar": {
              "outlinewidth": 0,
              "ticks": ""
             }
            },
            "type": "scatterpolargl"
           }
          ],
          "scatterternary": [
           {
            "marker": {
             "colorbar": {
              "outlinewidth": 0,
              "ticks": ""
             }
            },
            "type": "scatterternary"
           }
          ],
          "surface": [
           {
            "colorbar": {
             "outlinewidth": 0,
             "ticks": ""
            },
            "colorscale": [
             [
              0,
              "#0d0887"
             ],
             [
              0.1111111111111111,
              "#46039f"
             ],
             [
              0.2222222222222222,
              "#7201a8"
             ],
             [
              0.3333333333333333,
              "#9c179e"
             ],
             [
              0.4444444444444444,
              "#bd3786"
             ],
             [
              0.5555555555555556,
              "#d8576b"
             ],
             [
              0.6666666666666666,
              "#ed7953"
             ],
             [
              0.7777777777777778,
              "#fb9f3a"
             ],
             [
              0.8888888888888888,
              "#fdca26"
             ],
             [
              1,
              "#f0f921"
             ]
            ],
            "type": "surface"
           }
          ],
          "table": [
           {
            "cells": {
             "fill": {
              "color": "#EBF0F8"
             },
             "line": {
              "color": "white"
             }
            },
            "header": {
             "fill": {
              "color": "#C8D4E3"
             },
             "line": {
              "color": "white"
             }
            },
            "type": "table"
           }
          ]
         },
         "layout": {
          "annotationdefaults": {
           "arrowcolor": "#2a3f5f",
           "arrowhead": 0,
           "arrowwidth": 1
          },
          "autotypenumbers": "strict",
          "coloraxis": {
           "colorbar": {
            "outlinewidth": 0,
            "ticks": ""
           }
          },
          "colorscale": {
           "diverging": [
            [
             0,
             "#8e0152"
            ],
            [
             0.1,
             "#c51b7d"
            ],
            [
             0.2,
             "#de77ae"
            ],
            [
             0.3,
             "#f1b6da"
            ],
            [
             0.4,
             "#fde0ef"
            ],
            [
             0.5,
             "#f7f7f7"
            ],
            [
             0.6,
             "#e6f5d0"
            ],
            [
             0.7,
             "#b8e186"
            ],
            [
             0.8,
             "#7fbc41"
            ],
            [
             0.9,
             "#4d9221"
            ],
            [
             1,
             "#276419"
            ]
           ],
           "sequential": [
            [
             0,
             "#0d0887"
            ],
            [
             0.1111111111111111,
             "#46039f"
            ],
            [
             0.2222222222222222,
             "#7201a8"
            ],
            [
             0.3333333333333333,
             "#9c179e"
            ],
            [
             0.4444444444444444,
             "#bd3786"
            ],
            [
             0.5555555555555556,
             "#d8576b"
            ],
            [
             0.6666666666666666,
             "#ed7953"
            ],
            [
             0.7777777777777778,
             "#fb9f3a"
            ],
            [
             0.8888888888888888,
             "#fdca26"
            ],
            [
             1,
             "#f0f921"
            ]
           ],
           "sequentialminus": [
            [
             0,
             "#0d0887"
            ],
            [
             0.1111111111111111,
             "#46039f"
            ],
            [
             0.2222222222222222,
             "#7201a8"
            ],
            [
             0.3333333333333333,
             "#9c179e"
            ],
            [
             0.4444444444444444,
             "#bd3786"
            ],
            [
             0.5555555555555556,
             "#d8576b"
            ],
            [
             0.6666666666666666,
             "#ed7953"
            ],
            [
             0.7777777777777778,
             "#fb9f3a"
            ],
            [
             0.8888888888888888,
             "#fdca26"
            ],
            [
             1,
             "#f0f921"
            ]
           ]
          },
          "colorway": [
           "#636efa",
           "#EF553B",
           "#00cc96",
           "#ab63fa",
           "#FFA15A",
           "#19d3f3",
           "#FF6692",
           "#B6E880",
           "#FF97FF",
           "#FECB52"
          ],
          "font": {
           "color": "#2a3f5f"
          },
          "geo": {
           "bgcolor": "white",
           "lakecolor": "white",
           "landcolor": "#E5ECF6",
           "showlakes": true,
           "showland": true,
           "subunitcolor": "white"
          },
          "hoverlabel": {
           "align": "left"
          },
          "hovermode": "closest",
          "mapbox": {
           "style": "light"
          },
          "paper_bgcolor": "white",
          "plot_bgcolor": "#E5ECF6",
          "polar": {
           "angularaxis": {
            "gridcolor": "white",
            "linecolor": "white",
            "ticks": ""
           },
           "bgcolor": "#E5ECF6",
           "radialaxis": {
            "gridcolor": "white",
            "linecolor": "white",
            "ticks": ""
           }
          },
          "scene": {
           "xaxis": {
            "backgroundcolor": "#E5ECF6",
            "gridcolor": "white",
            "gridwidth": 2,
            "linecolor": "white",
            "showbackground": true,
            "ticks": "",
            "zerolinecolor": "white"
           },
           "yaxis": {
            "backgroundcolor": "#E5ECF6",
            "gridcolor": "white",
            "gridwidth": 2,
            "linecolor": "white",
            "showbackground": true,
            "ticks": "",
            "zerolinecolor": "white"
           },
           "zaxis": {
            "backgroundcolor": "#E5ECF6",
            "gridcolor": "white",
            "gridwidth": 2,
            "linecolor": "white",
            "showbackground": true,
            "ticks": "",
            "zerolinecolor": "white"
           }
          },
          "shapedefaults": {
           "line": {
            "color": "#2a3f5f"
           }
          },
          "ternary": {
           "aaxis": {
            "gridcolor": "white",
            "linecolor": "white",
            "ticks": ""
           },
           "baxis": {
            "gridcolor": "white",
            "linecolor": "white",
            "ticks": ""
           },
           "bgcolor": "#E5ECF6",
           "caxis": {
            "gridcolor": "white",
            "linecolor": "white",
            "ticks": ""
           }
          },
          "title": {
           "x": 0.05
          },
          "xaxis": {
           "automargin": true,
           "gridcolor": "white",
           "linecolor": "white",
           "ticks": "",
           "title": {
            "standoff": 15
           },
           "zerolinecolor": "white",
           "zerolinewidth": 2
          },
          "yaxis": {
           "automargin": true,
           "gridcolor": "white",
           "linecolor": "white",
           "ticks": "",
           "title": {
            "standoff": 15
           },
           "zerolinecolor": "white",
           "zerolinewidth": 2
          }
         }
        },
        "title": {
         "text": "Доля пользователей по событиям"
        }
       }
      },
      "text/html": [
       "<div>                            <div id=\"712d0cd2-bc3e-44fd-9cbb-85a7c294bfad\" class=\"plotly-graph-div\" style=\"height:525px; width:100%;\"></div>            <script type=\"text/javascript\">                require([\"plotly\"], function(Plotly) {                    window.PLOTLYENV=window.PLOTLYENV || {};                                    if (document.getElementById(\"712d0cd2-bc3e-44fd-9cbb-85a7c294bfad\")) {                    Plotly.newPlot(                        \"712d0cd2-bc3e-44fd-9cbb-85a7c294bfad\",                        [{\"textinfo\":\"value+percent total\",\"x\":[98.5,61.07,49.62,46.96,11.200000000000001],\"y\":[\"MainScreenAppear\",\"OffersScreenAppear\",\"CartScreenAppear\",\"PaymentScreenSuccessful\",\"Tutorial\"],\"type\":\"funnel\"}],                        {\"template\":{\"data\":{\"bar\":[{\"error_x\":{\"color\":\"#2a3f5f\"},\"error_y\":{\"color\":\"#2a3f5f\"},\"marker\":{\"line\":{\"color\":\"#E5ECF6\",\"width\":0.5},\"pattern\":{\"fillmode\":\"overlay\",\"size\":10,\"solidity\":0.2}},\"type\":\"bar\"}],\"barpolar\":[{\"marker\":{\"line\":{\"color\":\"#E5ECF6\",\"width\":0.5},\"pattern\":{\"fillmode\":\"overlay\",\"size\":10,\"solidity\":0.2}},\"type\":\"barpolar\"}],\"carpet\":[{\"aaxis\":{\"endlinecolor\":\"#2a3f5f\",\"gridcolor\":\"white\",\"linecolor\":\"white\",\"minorgridcolor\":\"white\",\"startlinecolor\":\"#2a3f5f\"},\"baxis\":{\"endlinecolor\":\"#2a3f5f\",\"gridcolor\":\"white\",\"linecolor\":\"white\",\"minorgridcolor\":\"white\",\"startlinecolor\":\"#2a3f5f\"},\"type\":\"carpet\"}],\"choropleth\":[{\"colorbar\":{\"outlinewidth\":0,\"ticks\":\"\"},\"type\":\"choropleth\"}],\"contour\":[{\"colorbar\":{\"outlinewidth\":0,\"ticks\":\"\"},\"colorscale\":[[0.0,\"#0d0887\"],[0.1111111111111111,\"#46039f\"],[0.2222222222222222,\"#7201a8\"],[0.3333333333333333,\"#9c179e\"],[0.4444444444444444,\"#bd3786\"],[0.5555555555555556,\"#d8576b\"],[0.6666666666666666,\"#ed7953\"],[0.7777777777777778,\"#fb9f3a\"],[0.8888888888888888,\"#fdca26\"],[1.0,\"#f0f921\"]],\"type\":\"contour\"}],\"contourcarpet\":[{\"colorbar\":{\"outlinewidth\":0,\"ticks\":\"\"},\"type\":\"contourcarpet\"}],\"heatmap\":[{\"colorbar\":{\"outlinewidth\":0,\"ticks\":\"\"},\"colorscale\":[[0.0,\"#0d0887\"],[0.1111111111111111,\"#46039f\"],[0.2222222222222222,\"#7201a8\"],[0.3333333333333333,\"#9c179e\"],[0.4444444444444444,\"#bd3786\"],[0.5555555555555556,\"#d8576b\"],[0.6666666666666666,\"#ed7953\"],[0.7777777777777778,\"#fb9f3a\"],[0.8888888888888888,\"#fdca26\"],[1.0,\"#f0f921\"]],\"type\":\"heatmap\"}],\"heatmapgl\":[{\"colorbar\":{\"outlinewidth\":0,\"ticks\":\"\"},\"colorscale\":[[0.0,\"#0d0887\"],[0.1111111111111111,\"#46039f\"],[0.2222222222222222,\"#7201a8\"],[0.3333333333333333,\"#9c179e\"],[0.4444444444444444,\"#bd3786\"],[0.5555555555555556,\"#d8576b\"],[0.6666666666666666,\"#ed7953\"],[0.7777777777777778,\"#fb9f3a\"],[0.8888888888888888,\"#fdca26\"],[1.0,\"#f0f921\"]],\"type\":\"heatmapgl\"}],\"histogram\":[{\"marker\":{\"pattern\":{\"fillmode\":\"overlay\",\"size\":10,\"solidity\":0.2}},\"type\":\"histogram\"}],\"histogram2d\":[{\"colorbar\":{\"outlinewidth\":0,\"ticks\":\"\"},\"colorscale\":[[0.0,\"#0d0887\"],[0.1111111111111111,\"#46039f\"],[0.2222222222222222,\"#7201a8\"],[0.3333333333333333,\"#9c179e\"],[0.4444444444444444,\"#bd3786\"],[0.5555555555555556,\"#d8576b\"],[0.6666666666666666,\"#ed7953\"],[0.7777777777777778,\"#fb9f3a\"],[0.8888888888888888,\"#fdca26\"],[1.0,\"#f0f921\"]],\"type\":\"histogram2d\"}],\"histogram2dcontour\":[{\"colorbar\":{\"outlinewidth\":0,\"ticks\":\"\"},\"colorscale\":[[0.0,\"#0d0887\"],[0.1111111111111111,\"#46039f\"],[0.2222222222222222,\"#7201a8\"],[0.3333333333333333,\"#9c179e\"],[0.4444444444444444,\"#bd3786\"],[0.5555555555555556,\"#d8576b\"],[0.6666666666666666,\"#ed7953\"],[0.7777777777777778,\"#fb9f3a\"],[0.8888888888888888,\"#fdca26\"],[1.0,\"#f0f921\"]],\"type\":\"histogram2dcontour\"}],\"mesh3d\":[{\"colorbar\":{\"outlinewidth\":0,\"ticks\":\"\"},\"type\":\"mesh3d\"}],\"parcoords\":[{\"line\":{\"colorbar\":{\"outlinewidth\":0,\"ticks\":\"\"}},\"type\":\"parcoords\"}],\"pie\":[{\"automargin\":true,\"type\":\"pie\"}],\"scatter\":[{\"marker\":{\"colorbar\":{\"outlinewidth\":0,\"ticks\":\"\"}},\"type\":\"scatter\"}],\"scatter3d\":[{\"line\":{\"colorbar\":{\"outlinewidth\":0,\"ticks\":\"\"}},\"marker\":{\"colorbar\":{\"outlinewidth\":0,\"ticks\":\"\"}},\"type\":\"scatter3d\"}],\"scattercarpet\":[{\"marker\":{\"colorbar\":{\"outlinewidth\":0,\"ticks\":\"\"}},\"type\":\"scattercarpet\"}],\"scattergeo\":[{\"marker\":{\"colorbar\":{\"outlinewidth\":0,\"ticks\":\"\"}},\"type\":\"scattergeo\"}],\"scattergl\":[{\"marker\":{\"colorbar\":{\"outlinewidth\":0,\"ticks\":\"\"}},\"type\":\"scattergl\"}],\"scattermapbox\":[{\"marker\":{\"colorbar\":{\"outlinewidth\":0,\"ticks\":\"\"}},\"type\":\"scattermapbox\"}],\"scatterpolar\":[{\"marker\":{\"colorbar\":{\"outlinewidth\":0,\"ticks\":\"\"}},\"type\":\"scatterpolar\"}],\"scatterpolargl\":[{\"marker\":{\"colorbar\":{\"outlinewidth\":0,\"ticks\":\"\"}},\"type\":\"scatterpolargl\"}],\"scatterternary\":[{\"marker\":{\"colorbar\":{\"outlinewidth\":0,\"ticks\":\"\"}},\"type\":\"scatterternary\"}],\"surface\":[{\"colorbar\":{\"outlinewidth\":0,\"ticks\":\"\"},\"colorscale\":[[0.0,\"#0d0887\"],[0.1111111111111111,\"#46039f\"],[0.2222222222222222,\"#7201a8\"],[0.3333333333333333,\"#9c179e\"],[0.4444444444444444,\"#bd3786\"],[0.5555555555555556,\"#d8576b\"],[0.6666666666666666,\"#ed7953\"],[0.7777777777777778,\"#fb9f3a\"],[0.8888888888888888,\"#fdca26\"],[1.0,\"#f0f921\"]],\"type\":\"surface\"}],\"table\":[{\"cells\":{\"fill\":{\"color\":\"#EBF0F8\"},\"line\":{\"color\":\"white\"}},\"header\":{\"fill\":{\"color\":\"#C8D4E3\"},\"line\":{\"color\":\"white\"}},\"type\":\"table\"}]},\"layout\":{\"annotationdefaults\":{\"arrowcolor\":\"#2a3f5f\",\"arrowhead\":0,\"arrowwidth\":1},\"autotypenumbers\":\"strict\",\"coloraxis\":{\"colorbar\":{\"outlinewidth\":0,\"ticks\":\"\"}},\"colorscale\":{\"diverging\":[[0,\"#8e0152\"],[0.1,\"#c51b7d\"],[0.2,\"#de77ae\"],[0.3,\"#f1b6da\"],[0.4,\"#fde0ef\"],[0.5,\"#f7f7f7\"],[0.6,\"#e6f5d0\"],[0.7,\"#b8e186\"],[0.8,\"#7fbc41\"],[0.9,\"#4d9221\"],[1,\"#276419\"]],\"sequential\":[[0.0,\"#0d0887\"],[0.1111111111111111,\"#46039f\"],[0.2222222222222222,\"#7201a8\"],[0.3333333333333333,\"#9c179e\"],[0.4444444444444444,\"#bd3786\"],[0.5555555555555556,\"#d8576b\"],[0.6666666666666666,\"#ed7953\"],[0.7777777777777778,\"#fb9f3a\"],[0.8888888888888888,\"#fdca26\"],[1.0,\"#f0f921\"]],\"sequentialminus\":[[0.0,\"#0d0887\"],[0.1111111111111111,\"#46039f\"],[0.2222222222222222,\"#7201a8\"],[0.3333333333333333,\"#9c179e\"],[0.4444444444444444,\"#bd3786\"],[0.5555555555555556,\"#d8576b\"],[0.6666666666666666,\"#ed7953\"],[0.7777777777777778,\"#fb9f3a\"],[0.8888888888888888,\"#fdca26\"],[1.0,\"#f0f921\"]]},\"colorway\":[\"#636efa\",\"#EF553B\",\"#00cc96\",\"#ab63fa\",\"#FFA15A\",\"#19d3f3\",\"#FF6692\",\"#B6E880\",\"#FF97FF\",\"#FECB52\"],\"font\":{\"color\":\"#2a3f5f\"},\"geo\":{\"bgcolor\":\"white\",\"lakecolor\":\"white\",\"landcolor\":\"#E5ECF6\",\"showlakes\":true,\"showland\":true,\"subunitcolor\":\"white\"},\"hoverlabel\":{\"align\":\"left\"},\"hovermode\":\"closest\",\"mapbox\":{\"style\":\"light\"},\"paper_bgcolor\":\"white\",\"plot_bgcolor\":\"#E5ECF6\",\"polar\":{\"angularaxis\":{\"gridcolor\":\"white\",\"linecolor\":\"white\",\"ticks\":\"\"},\"bgcolor\":\"#E5ECF6\",\"radialaxis\":{\"gridcolor\":\"white\",\"linecolor\":\"white\",\"ticks\":\"\"}},\"scene\":{\"xaxis\":{\"backgroundcolor\":\"#E5ECF6\",\"gridcolor\":\"white\",\"gridwidth\":2,\"linecolor\":\"white\",\"showbackground\":true,\"ticks\":\"\",\"zerolinecolor\":\"white\"},\"yaxis\":{\"backgroundcolor\":\"#E5ECF6\",\"gridcolor\":\"white\",\"gridwidth\":2,\"linecolor\":\"white\",\"showbackground\":true,\"ticks\":\"\",\"zerolinecolor\":\"white\"},\"zaxis\":{\"backgroundcolor\":\"#E5ECF6\",\"gridcolor\":\"white\",\"gridwidth\":2,\"linecolor\":\"white\",\"showbackground\":true,\"ticks\":\"\",\"zerolinecolor\":\"white\"}},\"shapedefaults\":{\"line\":{\"color\":\"#2a3f5f\"}},\"ternary\":{\"aaxis\":{\"gridcolor\":\"white\",\"linecolor\":\"white\",\"ticks\":\"\"},\"baxis\":{\"gridcolor\":\"white\",\"linecolor\":\"white\",\"ticks\":\"\"},\"bgcolor\":\"#E5ECF6\",\"caxis\":{\"gridcolor\":\"white\",\"linecolor\":\"white\",\"ticks\":\"\"}},\"title\":{\"x\":0.05},\"xaxis\":{\"automargin\":true,\"gridcolor\":\"white\",\"linecolor\":\"white\",\"ticks\":\"\",\"title\":{\"standoff\":15},\"zerolinecolor\":\"white\",\"zerolinewidth\":2},\"yaxis\":{\"automargin\":true,\"gridcolor\":\"white\",\"linecolor\":\"white\",\"ticks\":\"\",\"title\":{\"standoff\":15},\"zerolinecolor\":\"white\",\"zerolinewidth\":2}}},\"title\":{\"text\":\"\\u0414\\u043e\\u043b\\u044f \\u043f\\u043e\\u043b\\u044c\\u0437\\u043e\\u0432\\u0430\\u0442\\u0435\\u043b\\u0435\\u0439 \\u043f\\u043e \\u0441\\u043e\\u0431\\u044b\\u0442\\u0438\\u044f\\u043c\"}},                        {\"responsive\": true}                    ).then(function(){\n",
       "                            \n",
       "var gd = document.getElementById('712d0cd2-bc3e-44fd-9cbb-85a7c294bfad');\n",
       "var x = new MutationObserver(function (mutations, observer) {{\n",
       "        var display = window.getComputedStyle(gd).display;\n",
       "        if (!display || display === 'none') {{\n",
       "            console.log([gd, 'removed!']);\n",
       "            Plotly.purge(gd);\n",
       "            observer.disconnect();\n",
       "        }}\n",
       "}});\n",
       "\n",
       "// Listen for the removal of the full notebook cells\n",
       "var notebookContainer = gd.closest('#notebook-container');\n",
       "if (notebookContainer) {{\n",
       "    x.observe(notebookContainer, {childList: true});\n",
       "}}\n",
       "\n",
       "// Listen for the clearing of the current output cell\n",
       "var outputEl = gd.closest('.output');\n",
       "if (outputEl) {{\n",
       "    x.observe(outputEl, {childList: true});\n",
       "}}\n",
       "\n",
       "                        })                };                });            </script>        </div>"
      ]
     },
     "metadata": {},
     "output_type": "display_data"
    }
   ],
   "source": [
    "# Построим воронку событий и отобразим всё на графике\n",
    "# Доли пользователей в процентах \n",
    "fig = go.Figure(go.Funnel(\n",
    "    y = users_event['event_name'],\n",
    "    x = users_event['percent'],\n",
    "    textinfo = \"value+percent total\"))                \n",
    "fig.update_layout(\n",
    "     title={\n",
    "         'text': \"Доля пользователей по событиям\"})\n",
    "fig.show()"
   ]
  },
  {
   "cell_type": "markdown",
   "metadata": {},
   "source": [
    "#### Предположим, в каком порядке происходят события. Все ли они выстраиваются в последовательную цепочку? Их не нужно учитывать при расчёте воронки."
   ]
  },
  {
   "cell_type": "markdown",
   "metadata": {},
   "source": [
    "Рассмотрим более детально события, которые фигурируют в нашем датафрейме и составим воронку продаж. Посмотрим, какие действия предположительно могут быть обязательными а какие нет.\n",
    "\n",
    "**Рассмотри обязательные события и сразу составим цепочку по пунктам:**\n",
    "\n",
    "1. Пользователь попадает на главный экран (MainScreenAppear) занимает больше всего процентов (98.50%)\n",
    "2. Пользователь видит экран с предложением (OffersScreenAppear) (61.07%)\n",
    "3. Пользователь видит корзину с предложением (CartScreenAppear) (49.62%)\n",
    "4. Далее производится оплата (PaymentScreenSuccessful) (46.96)\n",
    "\n",
    "   У нас есть ещё одно событие 'Обучение'(Tutorial)(11.20%) - оно рассказывает нам, как пользоваться сайтом, но не все пользователи его\n",
    "проходят, а лишь самая малость, так как кому-то это не интересно. Это показывает процент данного события.\n",
    "   После оплаты уже нет смысла проходить обучение, так как вероятно пользователь уже знает как пользоваться сайтом, раз уже оплатил. Поэтому данное событие в цепочку воронки мы включать не будем."
   ]
  },
  {
   "cell_type": "code",
   "execution_count": 87,
   "metadata": {},
   "outputs": [
    {
     "data": {
      "text/html": [
       "<div>\n",
       "<style scoped>\n",
       "    .dataframe tbody tr th:only-of-type {\n",
       "        vertical-align: middle;\n",
       "    }\n",
       "\n",
       "    .dataframe tbody tr th {\n",
       "        vertical-align: top;\n",
       "    }\n",
       "\n",
       "    .dataframe thead th {\n",
       "        text-align: right;\n",
       "    }\n",
       "</style>\n",
       "<table border=\"1\" class=\"dataframe\">\n",
       "  <thead>\n",
       "    <tr style=\"text-align: right;\">\n",
       "      <th></th>\n",
       "      <th>event_name</th>\n",
       "      <th>uid</th>\n",
       "      <th>percent</th>\n",
       "    </tr>\n",
       "  </thead>\n",
       "  <tbody>\n",
       "    <tr>\n",
       "      <th>1</th>\n",
       "      <td>MainScreenAppear</td>\n",
       "      <td>7429</td>\n",
       "      <td>98.50</td>\n",
       "    </tr>\n",
       "    <tr>\n",
       "      <th>2</th>\n",
       "      <td>OffersScreenAppear</td>\n",
       "      <td>4606</td>\n",
       "      <td>61.07</td>\n",
       "    </tr>\n",
       "    <tr>\n",
       "      <th>0</th>\n",
       "      <td>CartScreenAppear</td>\n",
       "      <td>3742</td>\n",
       "      <td>49.62</td>\n",
       "    </tr>\n",
       "    <tr>\n",
       "      <th>3</th>\n",
       "      <td>PaymentScreenSuccessful</td>\n",
       "      <td>3542</td>\n",
       "      <td>46.96</td>\n",
       "    </tr>\n",
       "  </tbody>\n",
       "</table>\n",
       "</div>"
      ],
      "text/plain": [
       "                event_name   uid  percent\n",
       "1         MainScreenAppear  7429    98.50\n",
       "2       OffersScreenAppear  4606    61.07\n",
       "0         CartScreenAppear  3742    49.62\n",
       "3  PaymentScreenSuccessful  3542    46.96"
      ]
     },
     "metadata": {},
     "output_type": "display_data"
    }
   ],
   "source": [
    "# Создадим переменную воронку с новыми данными и уберём Tutorial \n",
    "funnel_event = users_event.query('event_name != \"Tutorial\"')\n",
    "# Выведем на экран\n",
    "display(funnel_event)"
   ]
  },
  {
   "cell_type": "markdown",
   "metadata": {},
   "source": [
    "#### По воронке событий посчитаем, какая доля пользователей проходит на следующий шаг воронки (от числа пользователей на предыдущем). То есть для последовательности событий A → B → C посчитаем отношение числа пользователей с событием B к количеству пользователей с событием A, а также отношение числа пользователей с событием C к количеству пользователей с событием B."
   ]
  },
  {
   "cell_type": "code",
   "execution_count": 88,
   "metadata": {},
   "outputs": [],
   "source": [
    "# Для данного подсчёта применим атрибут Shift, создадим столбец bias который смещает значения на 1 шаг  \n",
    "# с fill_Value = 0\n",
    "funnel_event['bias'] = funnel_event['uid'].shift(1, fill_value=0)"
   ]
  },
  {
   "cell_type": "code",
   "execution_count": 89,
   "metadata": {},
   "outputs": [
    {
     "data": {
      "text/html": [
       "<div>\n",
       "<style scoped>\n",
       "    .dataframe tbody tr th:only-of-type {\n",
       "        vertical-align: middle;\n",
       "    }\n",
       "\n",
       "    .dataframe tbody tr th {\n",
       "        vertical-align: top;\n",
       "    }\n",
       "\n",
       "    .dataframe thead th {\n",
       "        text-align: right;\n",
       "    }\n",
       "</style>\n",
       "<table border=\"1\" class=\"dataframe\">\n",
       "  <thead>\n",
       "    <tr style=\"text-align: right;\">\n",
       "      <th></th>\n",
       "      <th>event_name</th>\n",
       "      <th>uid</th>\n",
       "      <th>percent</th>\n",
       "      <th>bias</th>\n",
       "    </tr>\n",
       "  </thead>\n",
       "  <tbody>\n",
       "    <tr>\n",
       "      <th>1</th>\n",
       "      <td>MainScreenAppear</td>\n",
       "      <td>7429</td>\n",
       "      <td>98.50</td>\n",
       "      <td>0</td>\n",
       "    </tr>\n",
       "    <tr>\n",
       "      <th>2</th>\n",
       "      <td>OffersScreenAppear</td>\n",
       "      <td>4606</td>\n",
       "      <td>61.07</td>\n",
       "      <td>7429</td>\n",
       "    </tr>\n",
       "    <tr>\n",
       "      <th>0</th>\n",
       "      <td>CartScreenAppear</td>\n",
       "      <td>3742</td>\n",
       "      <td>49.62</td>\n",
       "      <td>4606</td>\n",
       "    </tr>\n",
       "    <tr>\n",
       "      <th>3</th>\n",
       "      <td>PaymentScreenSuccessful</td>\n",
       "      <td>3542</td>\n",
       "      <td>46.96</td>\n",
       "      <td>3742</td>\n",
       "    </tr>\n",
       "  </tbody>\n",
       "</table>\n",
       "</div>"
      ],
      "text/plain": [
       "                event_name   uid  percent  bias\n",
       "1         MainScreenAppear  7429    98.50     0\n",
       "2       OffersScreenAppear  4606    61.07  7429\n",
       "0         CartScreenAppear  3742    49.62  4606\n",
       "3  PaymentScreenSuccessful  3542    46.96  3742"
      ]
     },
     "metadata": {},
     "output_type": "display_data"
    }
   ],
   "source": [
    "# Выведем на экран\n",
    "display(funnel_event)"
   ]
  },
  {
   "cell_type": "code",
   "execution_count": 90,
   "metadata": {},
   "outputs": [
    {
     "data": {
      "text/html": [
       "<div>\n",
       "<style scoped>\n",
       "    .dataframe tbody tr th:only-of-type {\n",
       "        vertical-align: middle;\n",
       "    }\n",
       "\n",
       "    .dataframe tbody tr th {\n",
       "        vertical-align: top;\n",
       "    }\n",
       "\n",
       "    .dataframe thead th {\n",
       "        text-align: right;\n",
       "    }\n",
       "</style>\n",
       "<table border=\"1\" class=\"dataframe\">\n",
       "  <thead>\n",
       "    <tr style=\"text-align: right;\">\n",
       "      <th></th>\n",
       "      <th>event_name</th>\n",
       "      <th>uid</th>\n",
       "      <th>percent</th>\n",
       "      <th>conversion</th>\n",
       "    </tr>\n",
       "  </thead>\n",
       "  <tbody>\n",
       "    <tr>\n",
       "      <th>1</th>\n",
       "      <td>MainScreenAppear</td>\n",
       "      <td>7429</td>\n",
       "      <td>98.50</td>\n",
       "      <td>inf</td>\n",
       "    </tr>\n",
       "    <tr>\n",
       "      <th>2</th>\n",
       "      <td>OffersScreenAppear</td>\n",
       "      <td>4606</td>\n",
       "      <td>61.07</td>\n",
       "      <td>62.0</td>\n",
       "    </tr>\n",
       "    <tr>\n",
       "      <th>0</th>\n",
       "      <td>CartScreenAppear</td>\n",
       "      <td>3742</td>\n",
       "      <td>49.62</td>\n",
       "      <td>81.2</td>\n",
       "    </tr>\n",
       "    <tr>\n",
       "      <th>3</th>\n",
       "      <td>PaymentScreenSuccessful</td>\n",
       "      <td>3542</td>\n",
       "      <td>46.96</td>\n",
       "      <td>94.7</td>\n",
       "    </tr>\n",
       "  </tbody>\n",
       "</table>\n",
       "</div>"
      ],
      "text/plain": [
       "                event_name   uid  percent  conversion\n",
       "1         MainScreenAppear  7429    98.50         inf\n",
       "2       OffersScreenAppear  4606    61.07        62.0\n",
       "0         CartScreenAppear  3742    49.62        81.2\n",
       "3  PaymentScreenSuccessful  3542    46.96        94.7"
      ]
     },
     "metadata": {},
     "output_type": "display_data"
    }
   ],
   "source": [
    "# Далее найдём отношение по событиям, создадим столбец conversion\n",
    "# Посчитаем процент конверсии для каждого этапа события и округлим до трёх  знаков \n",
    "# Разделим пользователей на смещение\n",
    "funnel_event['conversion'] = (funnel_event['uid']/funnel_event['bias']).round(3) * 100\n",
    "# удалим столбец bias, чтобы он нам не мешал \n",
    "funnel_event.drop(columns='bias',inplace=True)\n",
    "# Выведем на экран\n",
    "display(funnel_event)"
   ]
  },
  {
   "cell_type": "code",
   "execution_count": 91,
   "metadata": {},
   "outputs": [
    {
     "data": {
      "application/vnd.plotly.v1+json": {
       "config": {
        "plotlyServerURL": "https://plot.ly"
       },
       "data": [
        {
         "textinfo": "value+percent previous+percent initial",
         "type": "funnel",
         "x": [
          7429,
          4606,
          3742,
          3542
         ],
         "y": [
          "MainScreenAppear",
          "OffersScreenAppear",
          "CartScreenAppear",
          "PaymentScreenSuccessful"
         ]
        }
       ],
       "layout": {
        "template": {
         "data": {
          "bar": [
           {
            "error_x": {
             "color": "#2a3f5f"
            },
            "error_y": {
             "color": "#2a3f5f"
            },
            "marker": {
             "line": {
              "color": "#E5ECF6",
              "width": 0.5
             },
             "pattern": {
              "fillmode": "overlay",
              "size": 10,
              "solidity": 0.2
             }
            },
            "type": "bar"
           }
          ],
          "barpolar": [
           {
            "marker": {
             "line": {
              "color": "#E5ECF6",
              "width": 0.5
             },
             "pattern": {
              "fillmode": "overlay",
              "size": 10,
              "solidity": 0.2
             }
            },
            "type": "barpolar"
           }
          ],
          "carpet": [
           {
            "aaxis": {
             "endlinecolor": "#2a3f5f",
             "gridcolor": "white",
             "linecolor": "white",
             "minorgridcolor": "white",
             "startlinecolor": "#2a3f5f"
            },
            "baxis": {
             "endlinecolor": "#2a3f5f",
             "gridcolor": "white",
             "linecolor": "white",
             "minorgridcolor": "white",
             "startlinecolor": "#2a3f5f"
            },
            "type": "carpet"
           }
          ],
          "choropleth": [
           {
            "colorbar": {
             "outlinewidth": 0,
             "ticks": ""
            },
            "type": "choropleth"
           }
          ],
          "contour": [
           {
            "colorbar": {
             "outlinewidth": 0,
             "ticks": ""
            },
            "colorscale": [
             [
              0,
              "#0d0887"
             ],
             [
              0.1111111111111111,
              "#46039f"
             ],
             [
              0.2222222222222222,
              "#7201a8"
             ],
             [
              0.3333333333333333,
              "#9c179e"
             ],
             [
              0.4444444444444444,
              "#bd3786"
             ],
             [
              0.5555555555555556,
              "#d8576b"
             ],
             [
              0.6666666666666666,
              "#ed7953"
             ],
             [
              0.7777777777777778,
              "#fb9f3a"
             ],
             [
              0.8888888888888888,
              "#fdca26"
             ],
             [
              1,
              "#f0f921"
             ]
            ],
            "type": "contour"
           }
          ],
          "contourcarpet": [
           {
            "colorbar": {
             "outlinewidth": 0,
             "ticks": ""
            },
            "type": "contourcarpet"
           }
          ],
          "heatmap": [
           {
            "colorbar": {
             "outlinewidth": 0,
             "ticks": ""
            },
            "colorscale": [
             [
              0,
              "#0d0887"
             ],
             [
              0.1111111111111111,
              "#46039f"
             ],
             [
              0.2222222222222222,
              "#7201a8"
             ],
             [
              0.3333333333333333,
              "#9c179e"
             ],
             [
              0.4444444444444444,
              "#bd3786"
             ],
             [
              0.5555555555555556,
              "#d8576b"
             ],
             [
              0.6666666666666666,
              "#ed7953"
             ],
             [
              0.7777777777777778,
              "#fb9f3a"
             ],
             [
              0.8888888888888888,
              "#fdca26"
             ],
             [
              1,
              "#f0f921"
             ]
            ],
            "type": "heatmap"
           }
          ],
          "heatmapgl": [
           {
            "colorbar": {
             "outlinewidth": 0,
             "ticks": ""
            },
            "colorscale": [
             [
              0,
              "#0d0887"
             ],
             [
              0.1111111111111111,
              "#46039f"
             ],
             [
              0.2222222222222222,
              "#7201a8"
             ],
             [
              0.3333333333333333,
              "#9c179e"
             ],
             [
              0.4444444444444444,
              "#bd3786"
             ],
             [
              0.5555555555555556,
              "#d8576b"
             ],
             [
              0.6666666666666666,
              "#ed7953"
             ],
             [
              0.7777777777777778,
              "#fb9f3a"
             ],
             [
              0.8888888888888888,
              "#fdca26"
             ],
             [
              1,
              "#f0f921"
             ]
            ],
            "type": "heatmapgl"
           }
          ],
          "histogram": [
           {
            "marker": {
             "pattern": {
              "fillmode": "overlay",
              "size": 10,
              "solidity": 0.2
             }
            },
            "type": "histogram"
           }
          ],
          "histogram2d": [
           {
            "colorbar": {
             "outlinewidth": 0,
             "ticks": ""
            },
            "colorscale": [
             [
              0,
              "#0d0887"
             ],
             [
              0.1111111111111111,
              "#46039f"
             ],
             [
              0.2222222222222222,
              "#7201a8"
             ],
             [
              0.3333333333333333,
              "#9c179e"
             ],
             [
              0.4444444444444444,
              "#bd3786"
             ],
             [
              0.5555555555555556,
              "#d8576b"
             ],
             [
              0.6666666666666666,
              "#ed7953"
             ],
             [
              0.7777777777777778,
              "#fb9f3a"
             ],
             [
              0.8888888888888888,
              "#fdca26"
             ],
             [
              1,
              "#f0f921"
             ]
            ],
            "type": "histogram2d"
           }
          ],
          "histogram2dcontour": [
           {
            "colorbar": {
             "outlinewidth": 0,
             "ticks": ""
            },
            "colorscale": [
             [
              0,
              "#0d0887"
             ],
             [
              0.1111111111111111,
              "#46039f"
             ],
             [
              0.2222222222222222,
              "#7201a8"
             ],
             [
              0.3333333333333333,
              "#9c179e"
             ],
             [
              0.4444444444444444,
              "#bd3786"
             ],
             [
              0.5555555555555556,
              "#d8576b"
             ],
             [
              0.6666666666666666,
              "#ed7953"
             ],
             [
              0.7777777777777778,
              "#fb9f3a"
             ],
             [
              0.8888888888888888,
              "#fdca26"
             ],
             [
              1,
              "#f0f921"
             ]
            ],
            "type": "histogram2dcontour"
           }
          ],
          "mesh3d": [
           {
            "colorbar": {
             "outlinewidth": 0,
             "ticks": ""
            },
            "type": "mesh3d"
           }
          ],
          "parcoords": [
           {
            "line": {
             "colorbar": {
              "outlinewidth": 0,
              "ticks": ""
             }
            },
            "type": "parcoords"
           }
          ],
          "pie": [
           {
            "automargin": true,
            "type": "pie"
           }
          ],
          "scatter": [
           {
            "marker": {
             "colorbar": {
              "outlinewidth": 0,
              "ticks": ""
             }
            },
            "type": "scatter"
           }
          ],
          "scatter3d": [
           {
            "line": {
             "colorbar": {
              "outlinewidth": 0,
              "ticks": ""
             }
            },
            "marker": {
             "colorbar": {
              "outlinewidth": 0,
              "ticks": ""
             }
            },
            "type": "scatter3d"
           }
          ],
          "scattercarpet": [
           {
            "marker": {
             "colorbar": {
              "outlinewidth": 0,
              "ticks": ""
             }
            },
            "type": "scattercarpet"
           }
          ],
          "scattergeo": [
           {
            "marker": {
             "colorbar": {
              "outlinewidth": 0,
              "ticks": ""
             }
            },
            "type": "scattergeo"
           }
          ],
          "scattergl": [
           {
            "marker": {
             "colorbar": {
              "outlinewidth": 0,
              "ticks": ""
             }
            },
            "type": "scattergl"
           }
          ],
          "scattermapbox": [
           {
            "marker": {
             "colorbar": {
              "outlinewidth": 0,
              "ticks": ""
             }
            },
            "type": "scattermapbox"
           }
          ],
          "scatterpolar": [
           {
            "marker": {
             "colorbar": {
              "outlinewidth": 0,
              "ticks": ""
             }
            },
            "type": "scatterpolar"
           }
          ],
          "scatterpolargl": [
           {
            "marker": {
             "colorbar": {
              "outlinewidth": 0,
              "ticks": ""
             }
            },
            "type": "scatterpolargl"
           }
          ],
          "scatterternary": [
           {
            "marker": {
             "colorbar": {
              "outlinewidth": 0,
              "ticks": ""
             }
            },
            "type": "scatterternary"
           }
          ],
          "surface": [
           {
            "colorbar": {
             "outlinewidth": 0,
             "ticks": ""
            },
            "colorscale": [
             [
              0,
              "#0d0887"
             ],
             [
              0.1111111111111111,
              "#46039f"
             ],
             [
              0.2222222222222222,
              "#7201a8"
             ],
             [
              0.3333333333333333,
              "#9c179e"
             ],
             [
              0.4444444444444444,
              "#bd3786"
             ],
             [
              0.5555555555555556,
              "#d8576b"
             ],
             [
              0.6666666666666666,
              "#ed7953"
             ],
             [
              0.7777777777777778,
              "#fb9f3a"
             ],
             [
              0.8888888888888888,
              "#fdca26"
             ],
             [
              1,
              "#f0f921"
             ]
            ],
            "type": "surface"
           }
          ],
          "table": [
           {
            "cells": {
             "fill": {
              "color": "#EBF0F8"
             },
             "line": {
              "color": "white"
             }
            },
            "header": {
             "fill": {
              "color": "#C8D4E3"
             },
             "line": {
              "color": "white"
             }
            },
            "type": "table"
           }
          ]
         },
         "layout": {
          "annotationdefaults": {
           "arrowcolor": "#2a3f5f",
           "arrowhead": 0,
           "arrowwidth": 1
          },
          "autotypenumbers": "strict",
          "coloraxis": {
           "colorbar": {
            "outlinewidth": 0,
            "ticks": ""
           }
          },
          "colorscale": {
           "diverging": [
            [
             0,
             "#8e0152"
            ],
            [
             0.1,
             "#c51b7d"
            ],
            [
             0.2,
             "#de77ae"
            ],
            [
             0.3,
             "#f1b6da"
            ],
            [
             0.4,
             "#fde0ef"
            ],
            [
             0.5,
             "#f7f7f7"
            ],
            [
             0.6,
             "#e6f5d0"
            ],
            [
             0.7,
             "#b8e186"
            ],
            [
             0.8,
             "#7fbc41"
            ],
            [
             0.9,
             "#4d9221"
            ],
            [
             1,
             "#276419"
            ]
           ],
           "sequential": [
            [
             0,
             "#0d0887"
            ],
            [
             0.1111111111111111,
             "#46039f"
            ],
            [
             0.2222222222222222,
             "#7201a8"
            ],
            [
             0.3333333333333333,
             "#9c179e"
            ],
            [
             0.4444444444444444,
             "#bd3786"
            ],
            [
             0.5555555555555556,
             "#d8576b"
            ],
            [
             0.6666666666666666,
             "#ed7953"
            ],
            [
             0.7777777777777778,
             "#fb9f3a"
            ],
            [
             0.8888888888888888,
             "#fdca26"
            ],
            [
             1,
             "#f0f921"
            ]
           ],
           "sequentialminus": [
            [
             0,
             "#0d0887"
            ],
            [
             0.1111111111111111,
             "#46039f"
            ],
            [
             0.2222222222222222,
             "#7201a8"
            ],
            [
             0.3333333333333333,
             "#9c179e"
            ],
            [
             0.4444444444444444,
             "#bd3786"
            ],
            [
             0.5555555555555556,
             "#d8576b"
            ],
            [
             0.6666666666666666,
             "#ed7953"
            ],
            [
             0.7777777777777778,
             "#fb9f3a"
            ],
            [
             0.8888888888888888,
             "#fdca26"
            ],
            [
             1,
             "#f0f921"
            ]
           ]
          },
          "colorway": [
           "#636efa",
           "#EF553B",
           "#00cc96",
           "#ab63fa",
           "#FFA15A",
           "#19d3f3",
           "#FF6692",
           "#B6E880",
           "#FF97FF",
           "#FECB52"
          ],
          "font": {
           "color": "#2a3f5f"
          },
          "geo": {
           "bgcolor": "white",
           "lakecolor": "white",
           "landcolor": "#E5ECF6",
           "showlakes": true,
           "showland": true,
           "subunitcolor": "white"
          },
          "hoverlabel": {
           "align": "left"
          },
          "hovermode": "closest",
          "mapbox": {
           "style": "light"
          },
          "paper_bgcolor": "white",
          "plot_bgcolor": "#E5ECF6",
          "polar": {
           "angularaxis": {
            "gridcolor": "white",
            "linecolor": "white",
            "ticks": ""
           },
           "bgcolor": "#E5ECF6",
           "radialaxis": {
            "gridcolor": "white",
            "linecolor": "white",
            "ticks": ""
           }
          },
          "scene": {
           "xaxis": {
            "backgroundcolor": "#E5ECF6",
            "gridcolor": "white",
            "gridwidth": 2,
            "linecolor": "white",
            "showbackground": true,
            "ticks": "",
            "zerolinecolor": "white"
           },
           "yaxis": {
            "backgroundcolor": "#E5ECF6",
            "gridcolor": "white",
            "gridwidth": 2,
            "linecolor": "white",
            "showbackground": true,
            "ticks": "",
            "zerolinecolor": "white"
           },
           "zaxis": {
            "backgroundcolor": "#E5ECF6",
            "gridcolor": "white",
            "gridwidth": 2,
            "linecolor": "white",
            "showbackground": true,
            "ticks": "",
            "zerolinecolor": "white"
           }
          },
          "shapedefaults": {
           "line": {
            "color": "#2a3f5f"
           }
          },
          "ternary": {
           "aaxis": {
            "gridcolor": "white",
            "linecolor": "white",
            "ticks": ""
           },
           "baxis": {
            "gridcolor": "white",
            "linecolor": "white",
            "ticks": ""
           },
           "bgcolor": "#E5ECF6",
           "caxis": {
            "gridcolor": "white",
            "linecolor": "white",
            "ticks": ""
           }
          },
          "title": {
           "x": 0.05
          },
          "xaxis": {
           "automargin": true,
           "gridcolor": "white",
           "linecolor": "white",
           "ticks": "",
           "title": {
            "standoff": 15
           },
           "zerolinecolor": "white",
           "zerolinewidth": 2
          },
          "yaxis": {
           "automargin": true,
           "gridcolor": "white",
           "linecolor": "white",
           "ticks": "",
           "title": {
            "standoff": 15
           },
           "zerolinecolor": "white",
           "zerolinewidth": 2
          }
         }
        },
        "title": {
         "text": "Соотношение пользователей по  событиям"
        }
       }
      },
      "text/html": [
       "<div>                            <div id=\"0f1a299b-92e0-457e-9b16-7334901456a1\" class=\"plotly-graph-div\" style=\"height:525px; width:100%;\"></div>            <script type=\"text/javascript\">                require([\"plotly\"], function(Plotly) {                    window.PLOTLYENV=window.PLOTLYENV || {};                                    if (document.getElementById(\"0f1a299b-92e0-457e-9b16-7334901456a1\")) {                    Plotly.newPlot(                        \"0f1a299b-92e0-457e-9b16-7334901456a1\",                        [{\"textinfo\":\"value+percent previous+percent initial\",\"x\":[7429,4606,3742,3542],\"y\":[\"MainScreenAppear\",\"OffersScreenAppear\",\"CartScreenAppear\",\"PaymentScreenSuccessful\"],\"type\":\"funnel\"}],                        {\"template\":{\"data\":{\"bar\":[{\"error_x\":{\"color\":\"#2a3f5f\"},\"error_y\":{\"color\":\"#2a3f5f\"},\"marker\":{\"line\":{\"color\":\"#E5ECF6\",\"width\":0.5},\"pattern\":{\"fillmode\":\"overlay\",\"size\":10,\"solidity\":0.2}},\"type\":\"bar\"}],\"barpolar\":[{\"marker\":{\"line\":{\"color\":\"#E5ECF6\",\"width\":0.5},\"pattern\":{\"fillmode\":\"overlay\",\"size\":10,\"solidity\":0.2}},\"type\":\"barpolar\"}],\"carpet\":[{\"aaxis\":{\"endlinecolor\":\"#2a3f5f\",\"gridcolor\":\"white\",\"linecolor\":\"white\",\"minorgridcolor\":\"white\",\"startlinecolor\":\"#2a3f5f\"},\"baxis\":{\"endlinecolor\":\"#2a3f5f\",\"gridcolor\":\"white\",\"linecolor\":\"white\",\"minorgridcolor\":\"white\",\"startlinecolor\":\"#2a3f5f\"},\"type\":\"carpet\"}],\"choropleth\":[{\"colorbar\":{\"outlinewidth\":0,\"ticks\":\"\"},\"type\":\"choropleth\"}],\"contour\":[{\"colorbar\":{\"outlinewidth\":0,\"ticks\":\"\"},\"colorscale\":[[0.0,\"#0d0887\"],[0.1111111111111111,\"#46039f\"],[0.2222222222222222,\"#7201a8\"],[0.3333333333333333,\"#9c179e\"],[0.4444444444444444,\"#bd3786\"],[0.5555555555555556,\"#d8576b\"],[0.6666666666666666,\"#ed7953\"],[0.7777777777777778,\"#fb9f3a\"],[0.8888888888888888,\"#fdca26\"],[1.0,\"#f0f921\"]],\"type\":\"contour\"}],\"contourcarpet\":[{\"colorbar\":{\"outlinewidth\":0,\"ticks\":\"\"},\"type\":\"contourcarpet\"}],\"heatmap\":[{\"colorbar\":{\"outlinewidth\":0,\"ticks\":\"\"},\"colorscale\":[[0.0,\"#0d0887\"],[0.1111111111111111,\"#46039f\"],[0.2222222222222222,\"#7201a8\"],[0.3333333333333333,\"#9c179e\"],[0.4444444444444444,\"#bd3786\"],[0.5555555555555556,\"#d8576b\"],[0.6666666666666666,\"#ed7953\"],[0.7777777777777778,\"#fb9f3a\"],[0.8888888888888888,\"#fdca26\"],[1.0,\"#f0f921\"]],\"type\":\"heatmap\"}],\"heatmapgl\":[{\"colorbar\":{\"outlinewidth\":0,\"ticks\":\"\"},\"colorscale\":[[0.0,\"#0d0887\"],[0.1111111111111111,\"#46039f\"],[0.2222222222222222,\"#7201a8\"],[0.3333333333333333,\"#9c179e\"],[0.4444444444444444,\"#bd3786\"],[0.5555555555555556,\"#d8576b\"],[0.6666666666666666,\"#ed7953\"],[0.7777777777777778,\"#fb9f3a\"],[0.8888888888888888,\"#fdca26\"],[1.0,\"#f0f921\"]],\"type\":\"heatmapgl\"}],\"histogram\":[{\"marker\":{\"pattern\":{\"fillmode\":\"overlay\",\"size\":10,\"solidity\":0.2}},\"type\":\"histogram\"}],\"histogram2d\":[{\"colorbar\":{\"outlinewidth\":0,\"ticks\":\"\"},\"colorscale\":[[0.0,\"#0d0887\"],[0.1111111111111111,\"#46039f\"],[0.2222222222222222,\"#7201a8\"],[0.3333333333333333,\"#9c179e\"],[0.4444444444444444,\"#bd3786\"],[0.5555555555555556,\"#d8576b\"],[0.6666666666666666,\"#ed7953\"],[0.7777777777777778,\"#fb9f3a\"],[0.8888888888888888,\"#fdca26\"],[1.0,\"#f0f921\"]],\"type\":\"histogram2d\"}],\"histogram2dcontour\":[{\"colorbar\":{\"outlinewidth\":0,\"ticks\":\"\"},\"colorscale\":[[0.0,\"#0d0887\"],[0.1111111111111111,\"#46039f\"],[0.2222222222222222,\"#7201a8\"],[0.3333333333333333,\"#9c179e\"],[0.4444444444444444,\"#bd3786\"],[0.5555555555555556,\"#d8576b\"],[0.6666666666666666,\"#ed7953\"],[0.7777777777777778,\"#fb9f3a\"],[0.8888888888888888,\"#fdca26\"],[1.0,\"#f0f921\"]],\"type\":\"histogram2dcontour\"}],\"mesh3d\":[{\"colorbar\":{\"outlinewidth\":0,\"ticks\":\"\"},\"type\":\"mesh3d\"}],\"parcoords\":[{\"line\":{\"colorbar\":{\"outlinewidth\":0,\"ticks\":\"\"}},\"type\":\"parcoords\"}],\"pie\":[{\"automargin\":true,\"type\":\"pie\"}],\"scatter\":[{\"marker\":{\"colorbar\":{\"outlinewidth\":0,\"ticks\":\"\"}},\"type\":\"scatter\"}],\"scatter3d\":[{\"line\":{\"colorbar\":{\"outlinewidth\":0,\"ticks\":\"\"}},\"marker\":{\"colorbar\":{\"outlinewidth\":0,\"ticks\":\"\"}},\"type\":\"scatter3d\"}],\"scattercarpet\":[{\"marker\":{\"colorbar\":{\"outlinewidth\":0,\"ticks\":\"\"}},\"type\":\"scattercarpet\"}],\"scattergeo\":[{\"marker\":{\"colorbar\":{\"outlinewidth\":0,\"ticks\":\"\"}},\"type\":\"scattergeo\"}],\"scattergl\":[{\"marker\":{\"colorbar\":{\"outlinewidth\":0,\"ticks\":\"\"}},\"type\":\"scattergl\"}],\"scattermapbox\":[{\"marker\":{\"colorbar\":{\"outlinewidth\":0,\"ticks\":\"\"}},\"type\":\"scattermapbox\"}],\"scatterpolar\":[{\"marker\":{\"colorbar\":{\"outlinewidth\":0,\"ticks\":\"\"}},\"type\":\"scatterpolar\"}],\"scatterpolargl\":[{\"marker\":{\"colorbar\":{\"outlinewidth\":0,\"ticks\":\"\"}},\"type\":\"scatterpolargl\"}],\"scatterternary\":[{\"marker\":{\"colorbar\":{\"outlinewidth\":0,\"ticks\":\"\"}},\"type\":\"scatterternary\"}],\"surface\":[{\"colorbar\":{\"outlinewidth\":0,\"ticks\":\"\"},\"colorscale\":[[0.0,\"#0d0887\"],[0.1111111111111111,\"#46039f\"],[0.2222222222222222,\"#7201a8\"],[0.3333333333333333,\"#9c179e\"],[0.4444444444444444,\"#bd3786\"],[0.5555555555555556,\"#d8576b\"],[0.6666666666666666,\"#ed7953\"],[0.7777777777777778,\"#fb9f3a\"],[0.8888888888888888,\"#fdca26\"],[1.0,\"#f0f921\"]],\"type\":\"surface\"}],\"table\":[{\"cells\":{\"fill\":{\"color\":\"#EBF0F8\"},\"line\":{\"color\":\"white\"}},\"header\":{\"fill\":{\"color\":\"#C8D4E3\"},\"line\":{\"color\":\"white\"}},\"type\":\"table\"}]},\"layout\":{\"annotationdefaults\":{\"arrowcolor\":\"#2a3f5f\",\"arrowhead\":0,\"arrowwidth\":1},\"autotypenumbers\":\"strict\",\"coloraxis\":{\"colorbar\":{\"outlinewidth\":0,\"ticks\":\"\"}},\"colorscale\":{\"diverging\":[[0,\"#8e0152\"],[0.1,\"#c51b7d\"],[0.2,\"#de77ae\"],[0.3,\"#f1b6da\"],[0.4,\"#fde0ef\"],[0.5,\"#f7f7f7\"],[0.6,\"#e6f5d0\"],[0.7,\"#b8e186\"],[0.8,\"#7fbc41\"],[0.9,\"#4d9221\"],[1,\"#276419\"]],\"sequential\":[[0.0,\"#0d0887\"],[0.1111111111111111,\"#46039f\"],[0.2222222222222222,\"#7201a8\"],[0.3333333333333333,\"#9c179e\"],[0.4444444444444444,\"#bd3786\"],[0.5555555555555556,\"#d8576b\"],[0.6666666666666666,\"#ed7953\"],[0.7777777777777778,\"#fb9f3a\"],[0.8888888888888888,\"#fdca26\"],[1.0,\"#f0f921\"]],\"sequentialminus\":[[0.0,\"#0d0887\"],[0.1111111111111111,\"#46039f\"],[0.2222222222222222,\"#7201a8\"],[0.3333333333333333,\"#9c179e\"],[0.4444444444444444,\"#bd3786\"],[0.5555555555555556,\"#d8576b\"],[0.6666666666666666,\"#ed7953\"],[0.7777777777777778,\"#fb9f3a\"],[0.8888888888888888,\"#fdca26\"],[1.0,\"#f0f921\"]]},\"colorway\":[\"#636efa\",\"#EF553B\",\"#00cc96\",\"#ab63fa\",\"#FFA15A\",\"#19d3f3\",\"#FF6692\",\"#B6E880\",\"#FF97FF\",\"#FECB52\"],\"font\":{\"color\":\"#2a3f5f\"},\"geo\":{\"bgcolor\":\"white\",\"lakecolor\":\"white\",\"landcolor\":\"#E5ECF6\",\"showlakes\":true,\"showland\":true,\"subunitcolor\":\"white\"},\"hoverlabel\":{\"align\":\"left\"},\"hovermode\":\"closest\",\"mapbox\":{\"style\":\"light\"},\"paper_bgcolor\":\"white\",\"plot_bgcolor\":\"#E5ECF6\",\"polar\":{\"angularaxis\":{\"gridcolor\":\"white\",\"linecolor\":\"white\",\"ticks\":\"\"},\"bgcolor\":\"#E5ECF6\",\"radialaxis\":{\"gridcolor\":\"white\",\"linecolor\":\"white\",\"ticks\":\"\"}},\"scene\":{\"xaxis\":{\"backgroundcolor\":\"#E5ECF6\",\"gridcolor\":\"white\",\"gridwidth\":2,\"linecolor\":\"white\",\"showbackground\":true,\"ticks\":\"\",\"zerolinecolor\":\"white\"},\"yaxis\":{\"backgroundcolor\":\"#E5ECF6\",\"gridcolor\":\"white\",\"gridwidth\":2,\"linecolor\":\"white\",\"showbackground\":true,\"ticks\":\"\",\"zerolinecolor\":\"white\"},\"zaxis\":{\"backgroundcolor\":\"#E5ECF6\",\"gridcolor\":\"white\",\"gridwidth\":2,\"linecolor\":\"white\",\"showbackground\":true,\"ticks\":\"\",\"zerolinecolor\":\"white\"}},\"shapedefaults\":{\"line\":{\"color\":\"#2a3f5f\"}},\"ternary\":{\"aaxis\":{\"gridcolor\":\"white\",\"linecolor\":\"white\",\"ticks\":\"\"},\"baxis\":{\"gridcolor\":\"white\",\"linecolor\":\"white\",\"ticks\":\"\"},\"bgcolor\":\"#E5ECF6\",\"caxis\":{\"gridcolor\":\"white\",\"linecolor\":\"white\",\"ticks\":\"\"}},\"title\":{\"x\":0.05},\"xaxis\":{\"automargin\":true,\"gridcolor\":\"white\",\"linecolor\":\"white\",\"ticks\":\"\",\"title\":{\"standoff\":15},\"zerolinecolor\":\"white\",\"zerolinewidth\":2},\"yaxis\":{\"automargin\":true,\"gridcolor\":\"white\",\"linecolor\":\"white\",\"ticks\":\"\",\"title\":{\"standoff\":15},\"zerolinecolor\":\"white\",\"zerolinewidth\":2}}},\"title\":{\"text\":\"\\u0421\\u043e\\u043e\\u0442\\u043d\\u043e\\u0448\\u0435\\u043d\\u0438\\u0435 \\u043f\\u043e\\u043b\\u044c\\u0437\\u043e\\u0432\\u0430\\u0442\\u0435\\u043b\\u0435\\u0439 \\u043f\\u043e  \\u0441\\u043e\\u0431\\u044b\\u0442\\u0438\\u044f\\u043c\"}},                        {\"responsive\": true}                    ).then(function(){\n",
       "                            \n",
       "var gd = document.getElementById('0f1a299b-92e0-457e-9b16-7334901456a1');\n",
       "var x = new MutationObserver(function (mutations, observer) {{\n",
       "        var display = window.getComputedStyle(gd).display;\n",
       "        if (!display || display === 'none') {{\n",
       "            console.log([gd, 'removed!']);\n",
       "            Plotly.purge(gd);\n",
       "            observer.disconnect();\n",
       "        }}\n",
       "}});\n",
       "\n",
       "// Listen for the removal of the full notebook cells\n",
       "var notebookContainer = gd.closest('#notebook-container');\n",
       "if (notebookContainer) {{\n",
       "    x.observe(notebookContainer, {childList: true});\n",
       "}}\n",
       "\n",
       "// Listen for the clearing of the current output cell\n",
       "var outputEl = gd.closest('.output');\n",
       "if (outputEl) {{\n",
       "    x.observe(outputEl, {childList: true});\n",
       "}}\n",
       "\n",
       "                        })                };                });            </script>        </div>"
      ]
     },
     "metadata": {},
     "output_type": "display_data"
    }
   ],
   "source": [
    "# Построим воронку событий и отобразим всё на графике\n",
    "# Количество пользователей и проценты событий \n",
    "fig = go.Figure(go.Funnel(\n",
    "    y = funnel_event['event_name'],\n",
    "    x = funnel_event['uid'],\n",
    "    textinfo = \"value+percent previous + percent initial\"))                \n",
    "fig.update_layout(\n",
    "     title={\n",
    "         'text': \"Соотношение пользователей по  событиям\"})\n",
    "fig.show()"
   ]
  },
  {
   "cell_type": "markdown",
   "metadata": {},
   "source": [
    "**Вывод:** Посчитали разницу и выяснили:\n",
    "\n",
    "- Главный экран видят видят 98.50 % пользователей \n",
    "- На экран с показом предложения попадает 62 % пользователей \n",
    "- До экрана корзины с предложением доходит 81.2 % \n",
    "- До экрана с оплатой доходят 94.7 % пользователей, почти все кто дошёл, производят  оплату"
   ]
  },
  {
   "cell_type": "markdown",
   "metadata": {},
   "source": [
    "#### На каком шаге теряете больше всего пользователей?"
   ]
  },
  {
   "cell_type": "markdown",
   "metadata": {},
   "source": [
    "**Посмотрим пользователей и выясним на каком шаге их теряется больше всего:**\n",
    "\n",
    "1. Показ главного экрана 98.50% \n",
    "2. Экран с показом предложения: было 98.50 % , стало 62 % пользователей, очень много потеряли: 36.5%  \n",
    "3. В корзину переходят 81.2 % пользователей, те кто уже выбрали товар, почти все переходят в корзину \n",
    "4. И оплату так же производят 94.7% , которые уже перешли из корзины, здесь тоже всё в порядке\n",
    "\n",
    "- На шаге 2 теряется очень много пользователей. А именно, переход от главного экрана к экрану с показом предложения. Вероятно, пользователи не довольны главной страницей мобильного приложения или не на всех девайсах отображается корректно информация и видны кнопки."
   ]
  },
  {
   "cell_type": "markdown",
   "metadata": {},
   "source": [
    "#### Какая доля пользователей доходит от первого события до оплаты?"
   ]
  },
  {
   "cell_type": "code",
   "execution_count": 92,
   "metadata": {},
   "outputs": [
    {
     "data": {
      "text/html": [
       "<div>\n",
       "<style scoped>\n",
       "    .dataframe tbody tr th:only-of-type {\n",
       "        vertical-align: middle;\n",
       "    }\n",
       "\n",
       "    .dataframe tbody tr th {\n",
       "        vertical-align: top;\n",
       "    }\n",
       "\n",
       "    .dataframe thead th {\n",
       "        text-align: right;\n",
       "    }\n",
       "</style>\n",
       "<table border=\"1\" class=\"dataframe\">\n",
       "  <thead>\n",
       "    <tr style=\"text-align: right;\">\n",
       "      <th></th>\n",
       "      <th>event_name</th>\n",
       "      <th>uid</th>\n",
       "      <th>percent</th>\n",
       "      <th>conversion</th>\n",
       "    </tr>\n",
       "  </thead>\n",
       "  <tbody>\n",
       "    <tr>\n",
       "      <th>1</th>\n",
       "      <td>MainScreenAppear</td>\n",
       "      <td>7429</td>\n",
       "      <td>98.50</td>\n",
       "      <td>inf</td>\n",
       "    </tr>\n",
       "    <tr>\n",
       "      <th>2</th>\n",
       "      <td>OffersScreenAppear</td>\n",
       "      <td>4606</td>\n",
       "      <td>61.07</td>\n",
       "      <td>62.0</td>\n",
       "    </tr>\n",
       "    <tr>\n",
       "      <th>0</th>\n",
       "      <td>CartScreenAppear</td>\n",
       "      <td>3742</td>\n",
       "      <td>49.62</td>\n",
       "      <td>81.2</td>\n",
       "    </tr>\n",
       "    <tr>\n",
       "      <th>3</th>\n",
       "      <td>PaymentScreenSuccessful</td>\n",
       "      <td>3542</td>\n",
       "      <td>46.96</td>\n",
       "      <td>94.7</td>\n",
       "    </tr>\n",
       "  </tbody>\n",
       "</table>\n",
       "</div>"
      ],
      "text/plain": [
       "                event_name   uid  percent  conversion\n",
       "1         MainScreenAppear  7429    98.50         inf\n",
       "2       OffersScreenAppear  4606    61.07        62.0\n",
       "0         CartScreenAppear  3742    49.62        81.2\n",
       "3  PaymentScreenSuccessful  3542    46.96        94.7"
      ]
     },
     "metadata": {},
     "output_type": "display_data"
    }
   ],
   "source": [
    "# возьмём нашу табличку для наглядности  \n",
    "display(funnel_event)"
   ]
  },
  {
   "cell_type": "markdown",
   "metadata": {},
   "source": [
    "**Вывод:** Мы видим что на первом событии 98.50 % пользователей . А до последнего события ,до события оплаты дошло 46.9 % пользователей,\n",
    "т.е. почти половину пользователей мы теряем, а именно 51,6 %. Это существенно сказывается на бюджете, который мы теряем из-за главного экрана просмотра в мобильном приложении."
   ]
  },
  {
   "cell_type": "markdown",
   "metadata": {},
   "source": [
    "### Изучим результаты эксперимента:"
   ]
  },
  {
   "cell_type": "markdown",
   "metadata": {},
   "source": [
    "#### Сколько пользователей в каждой экспериментальной группе?"
   ]
  },
  {
   "cell_type": "code",
   "execution_count": 93,
   "metadata": {},
   "outputs": [
    {
     "data": {
      "text/html": [
       "<div>\n",
       "<style scoped>\n",
       "    .dataframe tbody tr th:only-of-type {\n",
       "        vertical-align: middle;\n",
       "    }\n",
       "\n",
       "    .dataframe tbody tr th {\n",
       "        vertical-align: top;\n",
       "    }\n",
       "\n",
       "    .dataframe thead th {\n",
       "        text-align: right;\n",
       "    }\n",
       "</style>\n",
       "<table border=\"1\" class=\"dataframe\">\n",
       "  <thead>\n",
       "    <tr style=\"text-align: right;\">\n",
       "      <th></th>\n",
       "      <th>groups</th>\n",
       "      <th>uid</th>\n",
       "    </tr>\n",
       "  </thead>\n",
       "  <tbody>\n",
       "    <tr>\n",
       "      <th>0</th>\n",
       "      <td>246</td>\n",
       "      <td>2485</td>\n",
       "    </tr>\n",
       "    <tr>\n",
       "      <th>1</th>\n",
       "      <td>247</td>\n",
       "      <td>2517</td>\n",
       "    </tr>\n",
       "    <tr>\n",
       "      <th>2</th>\n",
       "      <td>248</td>\n",
       "      <td>2540</td>\n",
       "    </tr>\n",
       "  </tbody>\n",
       "</table>\n",
       "</div>"
      ],
      "text/plain": [
       "   groups   uid\n",
       "0     246  2485\n",
       "1     247  2517\n",
       "2     248  2540"
      ]
     },
     "metadata": {},
     "output_type": "display_data"
    }
   ],
   "source": [
    "# Найдём сколько  пользователей в каждой экспериментальной группе\n",
    "users_groups = df.groupby('groups').agg({'uid': 'nunique'}).sort_values(by='uid', ascending=True).reset_index()\n",
    "# Выведем на экран \n",
    "display(users_groups)"
   ]
  },
  {
   "cell_type": "markdown",
   "metadata": {},
   "source": [
    "**Вывод:** Мы нашли пользователей в группах:\n",
    "\n",
    "**В экспериментальной группе:** \n",
    "- группа 248 составляет 2540 пользователей - данные пользователи с экспериментальным шрифтом.\n",
    "\n",
    "**В контрольных  группах:**\n",
    "- группа 246 составляет 2485 пользователей \n",
    "- группа 247 составляет 2517 пользователей "
   ]
  },
  {
   "cell_type": "markdown",
   "metadata": {},
   "source": [
    "#### Есть 2 контрольные группы для А/А-эксперимента, чтобы проверить корректность всех механизмов и расчётов. Проверим, находят ли статистические критерии разницу между выборками 246 и 247."
   ]
  },
  {
   "cell_type": "code",
   "execution_count": 94,
   "metadata": {},
   "outputs": [
    {
     "data": {
      "text/plain": [
       "2484"
      ]
     },
     "metadata": {},
     "output_type": "display_data"
    }
   ],
   "source": [
    "# Найдём пользователей в группе 246 \n",
    "# в событие уберём Tutorial(обучение)\n",
    "gr_246 = df.query('groups == 246  & event_name != \"Tutorial\"')\n",
    "# выводим на экран\n",
    "display(gr_246['uid'].unique().shape[0])"
   ]
  },
  {
   "cell_type": "code",
   "execution_count": 95,
   "metadata": {},
   "outputs": [
    {
     "data": {
      "text/plain": [
       "2516"
      ]
     },
     "metadata": {},
     "output_type": "display_data"
    }
   ],
   "source": [
    "# Найдём пользователей в группе 247 \n",
    "# в событие уберём Tutorial(обучение)\n",
    "gr_247 = df.query('groups == 247  & event_name != \"Tutorial\"')\n",
    "# выводим на экран\n",
    "display(gr_247['uid'].unique().shape[0])"
   ]
  },
  {
   "cell_type": "code",
   "execution_count": 96,
   "metadata": {},
   "outputs": [
    {
     "name": "stdout",
     "output_type": "stream",
     "text": [
      "Разница между пользователями в группах составляет: 1.272%\n"
     ]
    }
   ],
   "source": [
    "# Найдём разницу между выборками 246 и 247 и выведем на экран \n",
    "print('Разница между пользователями в группах составляет: {:.3f}%' \n",
    ".format(100 - gr_246['uid'].unique().shape[0] / gr_247['uid'].unique().shape[0] * 100))"
   ]
  },
  {
   "cell_type": "markdown",
   "metadata": {},
   "source": [
    "**Вывод:** Разница между выборками 246 и 247 составляет приверно 1% : \n",
    "\n",
    "**Критерии успешного A/A-теста:**\n",
    "\n",
    "- Количество пользователей в различных группах различается не более, чем на 1% .\n",
    "\n",
    "В нашем случае количество пользователей в группах  различается примерно на 1% , считаю, что данные подходят для дальнейшего  изучения."
   ]
  },
  {
   "cell_type": "markdown",
   "metadata": {},
   "source": [
    "#### Выберем самое популярное событие. Посчитаем число пользователей, совершивших это событие в каждой из контрольных групп. Посчитаем долю пользователей, совершивших это событие. Проверим, будет ли отличие между группами статистически достоверным. Проделаем то же самое для всех других событий (удобно обернуть проверку в отдельную функцию). Вясним, корректно ли работает разбиение на группы?"
   ]
  },
  {
   "cell_type": "code",
   "execution_count": 97,
   "metadata": {},
   "outputs": [
    {
     "data": {
      "text/html": [
       "<div>\n",
       "<style scoped>\n",
       "    .dataframe tbody tr th:only-of-type {\n",
       "        vertical-align: middle;\n",
       "    }\n",
       "\n",
       "    .dataframe tbody tr th {\n",
       "        vertical-align: top;\n",
       "    }\n",
       "\n",
       "    .dataframe thead th {\n",
       "        text-align: right;\n",
       "    }\n",
       "</style>\n",
       "<table border=\"1\" class=\"dataframe\">\n",
       "  <thead>\n",
       "    <tr style=\"text-align: right;\">\n",
       "      <th>groups</th>\n",
       "      <th>246</th>\n",
       "      <th>247</th>\n",
       "      <th>248</th>\n",
       "      <th>total_event</th>\n",
       "    </tr>\n",
       "    <tr>\n",
       "      <th>event_name</th>\n",
       "      <th></th>\n",
       "      <th></th>\n",
       "      <th></th>\n",
       "      <th></th>\n",
       "    </tr>\n",
       "  </thead>\n",
       "  <tbody>\n",
       "    <tr>\n",
       "      <th>MainScreenAppear</th>\n",
       "      <td>2452</td>\n",
       "      <td>2479</td>\n",
       "      <td>2498</td>\n",
       "      <td>4931</td>\n",
       "    </tr>\n",
       "    <tr>\n",
       "      <th>OffersScreenAppear</th>\n",
       "      <td>1544</td>\n",
       "      <td>1526</td>\n",
       "      <td>1536</td>\n",
       "      <td>3070</td>\n",
       "    </tr>\n",
       "    <tr>\n",
       "      <th>CartScreenAppear</th>\n",
       "      <td>1267</td>\n",
       "      <td>1239</td>\n",
       "      <td>1236</td>\n",
       "      <td>2506</td>\n",
       "    </tr>\n",
       "    <tr>\n",
       "      <th>PaymentScreenSuccessful</th>\n",
       "      <td>1200</td>\n",
       "      <td>1159</td>\n",
       "      <td>1183</td>\n",
       "      <td>2359</td>\n",
       "    </tr>\n",
       "  </tbody>\n",
       "</table>\n",
       "</div>"
      ],
      "text/plain": [
       "groups                    246   247   248  total_event\n",
       "event_name                                            \n",
       "MainScreenAppear         2452  2479  2498         4931\n",
       "OffersScreenAppear       1544  1526  1536         3070\n",
       "CartScreenAppear         1267  1239  1236         2506\n",
       "PaymentScreenSuccessful  1200  1159  1183         2359"
      ]
     },
     "metadata": {},
     "output_type": "display_data"
    }
   ],
   "source": [
    "# построим фрейм funnel_groups с помощью pivot_table\n",
    "funnel_groups = df.pivot_table(index='event_name', columns='groups',                              \n",
    "                               values='uid',aggfunc='nunique').sort_values(by=246, ascending=False)\n",
    "# уберём столбец с Tutorial ( обучение), так как он не входит в воронку \n",
    "funnel_groups.drop(['Tutorial'], inplace=True)\n",
    "# найдём пользоваттелей в общем совершивших событие из контрольных групп\n",
    "funnel_groups['total_event'] = funnel_groups[246] + funnel_groups[247]\n",
    "# Выведем на экран\n",
    "display(funnel_groups)"
   ]
  },
  {
   "cell_type": "markdown",
   "metadata": {},
   "source": [
    "**Самое популярное событие:**  Во всех группах:\n",
    "\n",
    "'MainScreenAppear'(Показ  главного экрана)"
   ]
  },
  {
   "cell_type": "code",
   "execution_count": 98,
   "metadata": {},
   "outputs": [
    {
     "data": {
      "text/html": [
       "<div>\n",
       "<style scoped>\n",
       "    .dataframe tbody tr th:only-of-type {\n",
       "        vertical-align: middle;\n",
       "    }\n",
       "\n",
       "    .dataframe tbody tr th {\n",
       "        vertical-align: top;\n",
       "    }\n",
       "\n",
       "    .dataframe thead th {\n",
       "        text-align: right;\n",
       "    }\n",
       "</style>\n",
       "<table border=\"1\" class=\"dataframe\">\n",
       "  <thead>\n",
       "    <tr style=\"text-align: right;\">\n",
       "      <th></th>\n",
       "      <th>groups</th>\n",
       "      <th>uid</th>\n",
       "    </tr>\n",
       "  </thead>\n",
       "  <tbody>\n",
       "    <tr>\n",
       "      <th>0</th>\n",
       "      <td>246</td>\n",
       "      <td>2485</td>\n",
       "    </tr>\n",
       "    <tr>\n",
       "      <th>1</th>\n",
       "      <td>247</td>\n",
       "      <td>2517</td>\n",
       "    </tr>\n",
       "    <tr>\n",
       "      <th>2</th>\n",
       "      <td>248</td>\n",
       "      <td>2540</td>\n",
       "    </tr>\n",
       "    <tr>\n",
       "      <th>3</th>\n",
       "      <td>total_event</td>\n",
       "      <td>5002</td>\n",
       "    </tr>\n",
       "  </tbody>\n",
       "</table>\n",
       "</div>"
      ],
      "text/plain": [
       "        groups   uid\n",
       "0          246  2485\n",
       "1          247  2517\n",
       "2          248  2540\n",
       "3  total_event  5002"
      ]
     },
     "metadata": {},
     "output_type": "display_data"
    }
   ],
   "source": [
    "# сделаем сложение двух  колонок, ряд 246 [0](выбираем первую колонку и всю её складываем с 247[1])\n",
    "users_groups.loc[3] = ['total_event', users_groups.iloc[0]['uid']+ users_groups.iloc[1]['uid']]\n",
    "# выводим на экран общее число\n",
    "display(users_groups)"
   ]
  },
  {
   "cell_type": "code",
   "execution_count": 99,
   "metadata": {},
   "outputs": [
    {
     "data": {
      "text/html": [
       "<div>\n",
       "<style scoped>\n",
       "    .dataframe tbody tr th:only-of-type {\n",
       "        vertical-align: middle;\n",
       "    }\n",
       "\n",
       "    .dataframe tbody tr th {\n",
       "        vertical-align: top;\n",
       "    }\n",
       "\n",
       "    .dataframe thead th {\n",
       "        text-align: right;\n",
       "    }\n",
       "</style>\n",
       "<table border=\"1\" class=\"dataframe\">\n",
       "  <thead>\n",
       "    <tr style=\"text-align: right;\">\n",
       "      <th></th>\n",
       "      <th>uid</th>\n",
       "    </tr>\n",
       "    <tr>\n",
       "      <th>groups</th>\n",
       "      <th></th>\n",
       "    </tr>\n",
       "  </thead>\n",
       "  <tbody>\n",
       "    <tr>\n",
       "      <th>246</th>\n",
       "      <td>2485</td>\n",
       "    </tr>\n",
       "    <tr>\n",
       "      <th>247</th>\n",
       "      <td>2517</td>\n",
       "    </tr>\n",
       "    <tr>\n",
       "      <th>248</th>\n",
       "      <td>2540</td>\n",
       "    </tr>\n",
       "    <tr>\n",
       "      <th>total_event</th>\n",
       "      <td>5002</td>\n",
       "    </tr>\n",
       "  </tbody>\n",
       "</table>\n",
       "</div>"
      ],
      "text/plain": [
       "              uid\n",
       "groups           \n",
       "246          2485\n",
       "247          2517\n",
       "248          2540\n",
       "total_event  5002"
      ]
     },
     "metadata": {},
     "output_type": "display_data"
    }
   ],
   "source": [
    "# сделаем вместо колонок 0,1,2,3 индексы 246,247,248 и общщую сложения 246+247 \n",
    "users_groups = users_groups.set_index(users_groups.columns[0])\n",
    "# выведем на экран получившуюся таблицу\n",
    "display(users_groups)"
   ]
  },
  {
   "cell_type": "markdown",
   "metadata": {},
   "source": [
    "**Произведём проверка гипотез о равенстве долей:**"
   ]
  },
  {
   "cell_type": "markdown",
   "metadata": {},
   "source": [
    "**Сформулируем нулевую и альтернативную гипотезы:**\n",
    "\n",
    "•\tH0: Между долями в группах нет разницы\n",
    "\n",
    "•\tH1: Нет оснований считать, что доли в группах  разные."
   ]
  },
  {
   "cell_type": "code",
   "execution_count": 100,
   "metadata": {},
   "outputs": [],
   "source": [
    "# Сделаем проверку гипотезу о равенстве долей и обернём её в функцию\n",
    "def hypothesis_test(group1, group2, developments, alpha):\n",
    "    # Выберем статистический уровень значимости равный alpha=0.05\n",
    "    # Допустимо выбрать alpha от 0.01 до 0.05\n",
    "    # события в первой группе    \n",
    "    p1_name_event = funnel_groups.loc[developments, group1]\n",
    "    # события во второй группе    \n",
    "    p2_name_event = funnel_groups.loc[developments, group2]\n",
    "    # пользователи в первой группе\n",
    "    p1_uid = users_groups.loc[group1, 'uid']\n",
    "    # пользователи во второй группе \n",
    "    p2_uid = users_groups.loc[group2, 'uid']\n",
    "    # пропорция успехов в первой группе: \n",
    "    p1 = p1_name_event / p1_uid\n",
    "    # пропорция успехов во второй группе:   \n",
    "    p2 = p2_name_event / p2_uid\n",
    "    # пропорция успехов в комбинированном датасете:\n",
    "    p_combined  = (p1_name_event + p2_name_event) / (p1_uid + p2_uid)\n",
    "    # разница пропорций в датасетах\n",
    "    difference = p1 - p2\n",
    "    # считаем статистику в ст.отклонениях стандартного нормального распределения\n",
    "    z_value = difference / mth.sqrt(p_combined  * (1 - p_combined ) * (1/p1_uid + 1/p2_uid))\n",
    "    # задаем стандартное нормальное распределение (среднее 0, ст.отклонение 1)\n",
    "    distr = st.norm(0,1)\n",
    "    # Так как распределение статистики нормальное, вызовем метод cdf().\n",
    "    # Саму статистику возьмём по модулю методом abs() — чтобы получить правильный результат независимо от её знака. \n",
    "    # Это возможно, потому что тест двусторонний. По этой же причине удваиваем результат:\n",
    "    p_value = (1 - distr.cdf(abs(z_value))) * 2\n",
    "    # выводим на экран получившееся значение с событием и округлим до 5 знаков после запятой  \n",
    "    print('Проверка для групп {} и {}, событие: {}, p-значение: {p_value:.5f}'.format(group1, group2, developments, p_value=p_value))\n",
    "    \n",
    "    # сравниваем p_value c alpha\n",
    "    if p_value < alpha:\n",
    "        print('Отвергаем нулевую гипотезу: между долями в группах есть разница')\n",
    "    else:\n",
    "        print('Не получилось отвергнуть нулевую гипотезу, нет оснований считать, что доли в группах разные')"
   ]
  },
  {
   "cell_type": "code",
   "execution_count": 101,
   "metadata": {},
   "outputs": [
    {
     "name": "stdout",
     "output_type": "stream",
     "text": [
      "Проверка для групп 246 и 247, событие: MainScreenAppear, p-значение: 0.58688\n",
      "Не получилось отвергнуть нулевую гипотезу, нет оснований считать, что доли в группах разные\n",
      "\n",
      "Проверка для групп 246 и 247, событие: OffersScreenAppear, p-значение: 0.27435\n",
      "Не получилось отвергнуть нулевую гипотезу, нет оснований считать, что доли в группах разные\n",
      "\n",
      "Проверка для групп 246 и 247, событие: CartScreenAppear, p-значение: 0.21306\n",
      "Не получилось отвергнуть нулевую гипотезу, нет оснований считать, что доли в группах разные\n",
      "\n",
      "Проверка для групп 246 и 247, событие: PaymentScreenSuccessful, p-значение: 0.11211\n",
      "Не получилось отвергнуть нулевую гипотезу, нет оснований считать, что доли в группах разные\n",
      "\n"
     ]
    }
   ],
   "source": [
    "# Создадим функцию, получающая на вход порядковый номер группы в таблице и уровень значимости\n",
    "# Выводит результаты проверки гипотез\n",
    "for developments in funnel_groups.index:\n",
    "    # наш тест и группы 246, 247, с событием и уровень значимости \n",
    "    hypothesis_test (246, 247, developments, 0.05)\n",
    "    # выводим на экран\n",
    "    print()    "
   ]
  },
  {
   "cell_type": "markdown",
   "metadata": {},
   "source": [
    "Мы видим из проверки гипотез о равенсве долей, нет оснований считать контрольные выборки групп 246 и 247 разными.Доли равные, значит контрольные группы выбраны верно. Можно приступать с этими группами к анализу A/B теста"
   ]
  },
  {
   "cell_type": "markdown",
   "metadata": {},
   "source": [
    "#### Аналогично поступим с группой с изменённым шрифтом. Сравним результаты с каждой из контрольных групп в отдельности по каждому событию. Сравним результаты с объединённой контрольной группой. Какие выводы из эксперимента можно сделать?"
   ]
  },
  {
   "cell_type": "code",
   "execution_count": 102,
   "metadata": {},
   "outputs": [
    {
     "name": "stdout",
     "output_type": "stream",
     "text": [
      "Проверка для групп 246 и 248, событие: MainScreenAppear, p-значение: 0.34129\n",
      "Не получилось отвергнуть нулевую гипотезу, нет оснований считать, что доли в группах разные\n",
      "\n",
      "Проверка для групп 246 и 248, событие: OffersScreenAppear, p-значение: 0.22700\n",
      "Не получилось отвергнуть нулевую гипотезу, нет оснований считать, что доли в группах разные\n",
      "\n",
      "Проверка для групп 246 и 248, событие: CartScreenAppear, p-значение: 0.09942\n",
      "Не получилось отвергнуть нулевую гипотезу, нет оснований считать, что доли в группах разные\n",
      "\n",
      "Проверка для групп 246 и 248, событие: PaymentScreenSuccessful, p-значение: 0.22352\n",
      "Не получилось отвергнуть нулевую гипотезу, нет оснований считать, что доли в группах разные\n",
      "\n"
     ]
    }
   ],
   "source": [
    "# Создадим функцию, получающая на вход порядковый номер группы в таблице и уровень значимости\n",
    "# Выводит результаты проверки гипотез\n",
    "for developments in funnel_groups.index:\n",
    "    # наш тест и группы 246, 248, с событием и уровень значимости\n",
    "    hypothesis_test (246, 248, developments, 0.05)\n",
    "    print()"
   ]
  },
  {
   "cell_type": "markdown",
   "metadata": {},
   "source": [
    "Мы видим из проверки гипотез о равенсве долей, нет оснований считать контрольные выборки групп 246 и 248 разными.Доли равные, значит контрольные группы выбраны верно. Можно приступать с этими группами к анализу A/B теста"
   ]
  },
  {
   "cell_type": "code",
   "execution_count": 103,
   "metadata": {},
   "outputs": [
    {
     "name": "stdout",
     "output_type": "stream",
     "text": [
      "Проверка для групп 247 и 248, событие: MainScreenAppear, p-значение: 0.68196\n",
      "Не получилось отвергнуть нулевую гипотезу, нет оснований считать, что доли в группах разные\n",
      "\n",
      "Проверка для групп 247 и 248, событие: OffersScreenAppear, p-значение: 0.91005\n",
      "Не получилось отвергнуть нулевую гипотезу, нет оснований считать, что доли в группах разные\n",
      "\n",
      "Проверка для групп 247 и 248, событие: CartScreenAppear, p-значение: 0.68838\n",
      "Не получилось отвергнуть нулевую гипотезу, нет оснований считать, что доли в группах разные\n",
      "\n",
      "Проверка для групп 247 и 248, событие: PaymentScreenSuccessful, p-значение: 0.70659\n",
      "Не получилось отвергнуть нулевую гипотезу, нет оснований считать, что доли в группах разные\n",
      "\n"
     ]
    }
   ],
   "source": [
    "# Создадим функцию, получающая на вход порядковый номер группы в таблице и уровень значимости\n",
    "# Выводит результаты проверки гипотез\n",
    "for developments in funnel_groups.index:\n",
    "    # наш тест и группы 247, 248, с событием и уровень значимости \n",
    "    hypothesis_test (247, 248, developments, 0.05)\n",
    "    # выводим на экран\n",
    "    print()"
   ]
  },
  {
   "cell_type": "markdown",
   "metadata": {},
   "source": [
    "Мы видим из проверки гипотез о равенсве долей, нет оснований считать контрольные выборки  групп 247 и 248 разными.Доли равные, значит контрольные группы выбраны верно. Можно приступать с этими группами к анализу A/B теста"
   ]
  },
  {
   "cell_type": "code",
   "execution_count": 104,
   "metadata": {},
   "outputs": [
    {
     "name": "stdout",
     "output_type": "stream",
     "text": [
      "Проверка для групп total_event и 248, событие: MainScreenAppear, p-значение: 0.42897\n",
      "Не получилось отвергнуть нулевую гипотезу, нет оснований считать, что доли в группах разные\n",
      "\n",
      "Проверка для групп total_event и 248, событие: OffersScreenAppear, p-значение: 0.44718\n",
      "Не получилось отвергнуть нулевую гипотезу, нет оснований считать, что доли в группах разные\n",
      "\n",
      "Проверка для групп total_event и 248, событие: CartScreenAppear, p-значение: 0.23764\n",
      "Не получилось отвергнуть нулевую гипотезу, нет оснований считать, что доли в группах разные\n",
      "\n",
      "Проверка для групп total_event и 248, событие: PaymentScreenSuccessful, p-значение: 0.62967\n",
      "Не получилось отвергнуть нулевую гипотезу, нет оснований считать, что доли в группах разные\n",
      "\n"
     ]
    }
   ],
   "source": [
    "# Создадим функцию, получающая на вход порядковый номер группы в таблице и уровень значимости\n",
    "# Выводит результаты проверки гипотез\n",
    "for developments in funnel_groups.index:\n",
    "    # наш тест и группы 'total_event', 248, с событием и уровень значимости \n",
    "    hypothesis_test ('total_event', 248, developments, 0.05)\n",
    "    # выводим на экран\n",
    "    print()"
   ]
  },
  {
   "cell_type": "markdown",
   "metadata": {},
   "source": [
    "Мы видим из проверки гипотез о равенсве долей, нет оснований считать контрольные выборки объединённых групп и 248 разными.Доли равные, значит контрольные группы выбраны верно. Можно приступать с этими группами к анализу A/B теста"
   ]
  },
  {
   "cell_type": "markdown",
   "metadata": {},
   "source": [
    "**Вывод:** Из экспериментов можно сделать вывод, доли равны, значит экспериментальный шрифт в 248 группе ни как не влияет на эксперимент при alpha = 0.05"
   ]
  },
  {
   "cell_type": "markdown",
   "metadata": {},
   "source": [
    "#### Какой уровень значимости вы выбрали при проверке статистических гипотез выше? Посчитаем, сколько проверок статистических гипотез вы сделали. При уровне значимости 0.1 каждый десятый раз можно получать ложный результат. Какой уровень значимости стоит применить? Если вы хотите изменить его, проделайте предыдущие пункты и проверьте свои выводы."
   ]
  },
  {
   "cell_type": "markdown",
   "metadata": {},
   "source": [
    "##### Какой уровень значимости мы выбрали при проверке статистических гипотез выше?"
   ]
  },
  {
   "cell_type": "markdown",
   "metadata": {},
   "source": [
    "Мы выбрал кртический уровень статистической значимости самый большой : 0.05 \n",
    "Сдели это для того, чтобы не допустить ошибки второго рода, чтобы она сразу была видна при проверке гипотиз.\n",
    "Статистическая значимость увеличилась, значит увеличился критический регион, при попадании в который нулевую гипотезу отвергают. Вероятность попасть в него стала больше — увеличилась вероятность ошибки первого рода. Если будет разница она будет видна сразу. "
   ]
  },
  {
   "cell_type": "markdown",
   "metadata": {},
   "source": [
    "##### Посчитаем, сколько проверок статистических гипотез мы сделали. "
   ]
  },
  {
   "cell_type": "markdown",
   "metadata": {},
   "source": [
    "**Между выборками:**  \n",
    "\n",
    "(246/247) - 4 проверки\n",
    "                  \n",
    "(246/248) - 4 проверки \n",
    " \n",
    "(247/248) - 4 проверки\n",
    "\n",
    "(247+246/248) - 4 проверки "
   ]
  },
  {
   "cell_type": "markdown",
   "metadata": {},
   "source": [
    "**Вывод**: Мы сделали 16 проверок статистических гипотиз."
   ]
  },
  {
   "cell_type": "markdown",
   "metadata": {},
   "source": [
    "##### При уровне значимости 0.1 каждый десятый раз можно получать ложный результат. Какой уровень значимости стоит применить? Если вы хотите изменить его, проделайте предыдущие пункты и проверьте свои выводы."
   ]
  },
  {
   "cell_type": "markdown",
   "metadata": {},
   "source": [
    "Изменим уровень статистической значимости и сравним его с мощностью.Проделаем всё тоже самое . Применим статистическую значимость: 0.1"
   ]
  },
  {
   "cell_type": "code",
   "execution_count": 105,
   "metadata": {},
   "outputs": [
    {
     "name": "stdout",
     "output_type": "stream",
     "text": [
      "Проверка для групп 246 и 247, событие: MainScreenAppear, p-значение: 0.58688\n",
      "Не получилось отвергнуть нулевую гипотезу, нет оснований считать, что доли в группах разные\n",
      "\n",
      "Проверка для групп 246 и 247, событие: OffersScreenAppear, p-значение: 0.27435\n",
      "Не получилось отвергнуть нулевую гипотезу, нет оснований считать, что доли в группах разные\n",
      "\n",
      "Проверка для групп 246 и 247, событие: CartScreenAppear, p-значение: 0.21306\n",
      "Не получилось отвергнуть нулевую гипотезу, нет оснований считать, что доли в группах разные\n",
      "\n",
      "Проверка для групп 246 и 247, событие: PaymentScreenSuccessful, p-значение: 0.11211\n",
      "Не получилось отвергнуть нулевую гипотезу, нет оснований считать, что доли в группах разные\n",
      "\n"
     ]
    }
   ],
   "source": [
    "# Создадим функцию, получающая на вход порядковый номер группы в таблице и уровень значимости\n",
    "# Выводит результаты проверки гипотез\n",
    "for developments in funnel_groups.index:\n",
    "    # наш тест и группы 246, 247, с событием, и уровень значимости \n",
    "    hypothesis_test (246, 247, developments, 0.1)\n",
    "    # выводим на экран\n",
    "    print()"
   ]
  },
  {
   "cell_type": "markdown",
   "metadata": {},
   "source": [
    "Мы видим из проверки гипотез о равенсве долей, нет оснований считать контрольные выборки 246 и 247 разными при alfa = 0.1.Доли равные, значит контрольные группы выбраны верно. Можно приступать с этими группами к анализу A/B теста"
   ]
  },
  {
   "cell_type": "code",
   "execution_count": 106,
   "metadata": {},
   "outputs": [
    {
     "name": "stdout",
     "output_type": "stream",
     "text": [
      "Проверка для групп 246 и 248, событие: MainScreenAppear, p-значение: 0.34129\n",
      "Не получилось отвергнуть нулевую гипотезу, нет оснований считать, что доли в группах разные\n",
      "\n",
      "Проверка для групп 246 и 248, событие: OffersScreenAppear, p-значение: 0.22700\n",
      "Не получилось отвергнуть нулевую гипотезу, нет оснований считать, что доли в группах разные\n",
      "\n",
      "Проверка для групп 246 и 248, событие: CartScreenAppear, p-значение: 0.09942\n",
      "Отвергаем нулевую гипотезу: между долями в группах есть разница\n",
      "\n",
      "Проверка для групп 246 и 248, событие: PaymentScreenSuccessful, p-значение: 0.22352\n",
      "Не получилось отвергнуть нулевую гипотезу, нет оснований считать, что доли в группах разные\n",
      "\n"
     ]
    }
   ],
   "source": [
    "# Создадим функцию, получающая на вход порядковый номер группы в таблице и уровень значимости\n",
    "# Выводит результаты проверки гипотез\n",
    "for developments in funnel_groups.index:\n",
    "    # наш тест и группы 246, 248,с событием и уровень значимости\n",
    "    hypothesis_test (246, 248, developments, 0.1)\n",
    "    # выводим на экран\n",
    "    print()"
   ]
  },
  {
   "cell_type": "code",
   "execution_count": 107,
   "metadata": {},
   "outputs": [
    {
     "name": "stdout",
     "output_type": "stream",
     "text": [
      "Группа номер 246: 51.0 % пользователей переходит к оплате\n",
      "Группа номер 248: 49.0 % пользователей переходит к оплате\n"
     ]
    }
   ],
   "source": [
    "# Найдём процент пользователей который переходит к оплате в группе 246 и выведем на экран \n",
    "print('Группа номер 246:', round(funnel_groups[246].iloc[2]/funnel_groups['total_event'].iloc[2], 2)*100, '% пользователей переходит к оплате')\n",
    "# Найдём процент пользователей который переходит к оплате в группе 248 и выведем на экран \n",
    "print('Группа номер 248:', round(funnel_groups[248].iloc[2]/funnel_groups['total_event'].iloc[2], 2)*100, '% пользователей переходит к оплате') "
   ]
  },
  {
   "cell_type": "markdown",
   "metadata": {},
   "source": [
    "При увеличении alpha на 0.1 мы нашли ошибку первого рода. И отвергли нулевую гипотезу. В данном эксперименте изменение шрифта повлияло на статитстическую значимость между экспериментальной группой 248 и группой 246 на этапе показа экрана корзины. в 246 группе 51.0% пользователей переходят к оплате, а в группе 248: 49.0 % пользователей переходят к оплате."
   ]
  },
  {
   "cell_type": "code",
   "execution_count": 108,
   "metadata": {},
   "outputs": [
    {
     "name": "stdout",
     "output_type": "stream",
     "text": [
      "Проверка для групп 247 и 248, событие: MainScreenAppear, p-значение: 0.68196\n",
      "Не получилось отвергнуть нулевую гипотезу, нет оснований считать, что доли в группах разные\n",
      "\n",
      "Проверка для групп 247 и 248, событие: OffersScreenAppear, p-значение: 0.91005\n",
      "Не получилось отвергнуть нулевую гипотезу, нет оснований считать, что доли в группах разные\n",
      "\n",
      "Проверка для групп 247 и 248, событие: CartScreenAppear, p-значение: 0.68838\n",
      "Не получилось отвергнуть нулевую гипотезу, нет оснований считать, что доли в группах разные\n",
      "\n",
      "Проверка для групп 247 и 248, событие: PaymentScreenSuccessful, p-значение: 0.70659\n",
      "Не получилось отвергнуть нулевую гипотезу, нет оснований считать, что доли в группах разные\n",
      "\n"
     ]
    }
   ],
   "source": [
    "# Создадим функцию, получающая на вход порядковый номер группы в таблице и уровень значимости\n",
    "# Выводит результаты проверки гипотез\n",
    "for developments in funnel_groups.index:\n",
    "    # наш тест и группы 247, 248, с событием и уровень значимости\n",
    "    hypothesis_test (247, 248, developments, 0.1)\n",
    "    # выводим на экран\n",
    "    print()"
   ]
  },
  {
   "cell_type": "markdown",
   "metadata": {},
   "source": [
    "Мы видим из проверки гипотез о равенсве долей, нет оснований считать контрольные выборки 247 и 248 разными.Доли равные, значит контрольные группы выбраны верно. Можно приступать с этими группами к анализу A/B теста"
   ]
  },
  {
   "cell_type": "code",
   "execution_count": 109,
   "metadata": {},
   "outputs": [
    {
     "name": "stdout",
     "output_type": "stream",
     "text": [
      "Проверка для групп total_event и 248, событие: MainScreenAppear, p-значение: 0.42897\n",
      "Не получилось отвергнуть нулевую гипотезу, нет оснований считать, что доли в группах разные\n",
      "\n",
      "Проверка для групп total_event и 248, событие: OffersScreenAppear, p-значение: 0.44718\n",
      "Не получилось отвергнуть нулевую гипотезу, нет оснований считать, что доли в группах разные\n",
      "\n",
      "Проверка для групп total_event и 248, событие: CartScreenAppear, p-значение: 0.23764\n",
      "Не получилось отвергнуть нулевую гипотезу, нет оснований считать, что доли в группах разные\n",
      "\n",
      "Проверка для групп total_event и 248, событие: PaymentScreenSuccessful, p-значение: 0.62967\n",
      "Не получилось отвергнуть нулевую гипотезу, нет оснований считать, что доли в группах разные\n",
      "\n"
     ]
    }
   ],
   "source": [
    "# Создадим функцию, получающая на вход порядковый номер группы в таблице и уровень значимости\n",
    "# Выводит результаты проверки гипотез\n",
    "for developments in funnel_groups.index:\n",
    "    # наш тест и группы 'total_event', 248, с событием и уровень значимости \n",
    "    hypothesis_test ('total_event', 248, developments, 0.1)\n",
    "    # выводим на экран\n",
    "    print()"
   ]
  },
  {
   "cell_type": "markdown",
   "metadata": {},
   "source": [
    "Мы видим из проверки гипотез о равенсве долей, нет оснований считать контрольные объединённых групп и 248 разными.Доли равные, значит контрольные группы выбраны верно. Можно приступать с этими группами к анализу A/B теста."
   ]
  },
  {
   "cell_type": "markdown",
   "metadata": {},
   "source": [
    "**Вывод:** При изменении уровня значимости можно можно получить  каждый десятый раз с ошибкой первого рода, мы это получили между группами 246 и 248. На этапе просмотра корзины произошли изменения, новый шрифт повлиял на переход пользоваталей к оплате в худшую сторону.246 группа = 51 %, 248 группа = 49 %"
   ]
  },
  {
   "cell_type": "markdown",
   "metadata": {},
   "source": [
    "### Вывод:"
   ]
  },
  {
   "cell_type": "markdown",
   "metadata": {},
   "source": [
    "**Поработали с данными:**\n",
    "\n",
    "1. Произвели изучение общей информации по данным в датафрейме и подготовили данные к работе\n",
    "2. Произвели изменение столбцов, обработали пропуски и убрали дубликаты\n",
    "3. Произвели корректировку данных, изменили типы даты, создали необходимый столбец с датой для дальнейшей работы\n",
    "4. Изучили данные, узнали что  всего в логе содежится:\n",
    "-  Всего событий: 243713 \n",
    "-  Всего пользователей:7551\n",
    "\n",
    "5. В логе  есть 5 событий по действиям:\n",
    "-  MainScreenAppear(ГлавныйЭкранПоявление)\n",
    "-  OffersScreenAppear(ПредложениеЭкранПоявление)\n",
    "-  CartScreenAppear(КорзинаЭкранПоявление)\n",
    "-  PaymentScreenSuccessful(Оплата)\n",
    "-  Tutorial(обучение) \n",
    "\n",
    "6. Подготовили данные для проверки гипотез, выбрали нужные полные данные и дату для исследования:\n",
    "-  Дата начала: 2019-07-31 01:11:46.\n",
    "-  Дата окончания: 2019-08-07 21:15:17\n",
    "\n",
    "7. Определили воронку продажь с нужными событиями по популярности и как они происходят: \n",
    "\n",
    "-  MainScreenAppear(ГлавныйЭкранПоявление)\n",
    "-  OffersScreenAppear(ПредложениеЭкранПоявление)\n",
    "-  CartScreenAppear(КорзинаЭкранПоявление)\n",
    "-  PaymentScreenSuccessful(Оплата)\n",
    "\n",
    "\n",
    "   Не включали в воронку продаж Tutorial(Обучение) так как, очень малый процент пользователей только переходят на него, и находится в конце воронки, а такое быть не может, так как если пользователей уже оплатил, значит он знает как работать с приложением.\n",
    "\n",
    "\n",
    "   Узнали что больше всего пользователей теряется на этапе показа главного  экрана, вероятно либо разрешение не подходит для гаджетов, либо пользователи не видят кнопок. Остальные пользователи кто прошёл этот этап почти полностью  переходят в корзину и оплачивают товар.\n",
    "   \n",
    "**Рассмотрели гипотизы и проверили разные уровни статистической значимости:**\n",
    "\n",
    "1. При уровне alpha = 0.05, при проверке гипотиз разницы между двумя контрольными группами: 246 и 247 с 248 группой нету.\n",
    "2. При уровне alpha = 0.1  при проверке гипотиз появляется разница между контрольной группой 246 и группой 248, измённый шрифт влияет на переход пользователей корзины в худшую сторону: \n",
    "- Группа номер 246: 51.0 % пользователей переходит к оплате\n",
    "- Группа номер 248: 49.0 % пользователей переходит к оплате.\n",
    "\n",
    "**Рекомендаци:**\n",
    "\n",
    "В целом между группами и событиями разницы в долевом соотношении нет, вероятнее шрифт можно оставить так как в контрольных группах 246 и 247 не меняли его. Конверсия во всех  группах  остаётся одинаковой. А обратить внимание нужно на главный экран, с которого пользователи переходят на экран товаров, на этом этапе теряется  51,6 %. "
   ]
  }
 ],
 "metadata": {
  "ExecuteTimeLog": [
   {
    "duration": 1159,
    "start_time": "2022-10-31T15:41:33.795Z"
   },
   {
    "duration": 4,
    "start_time": "2022-10-31T15:41:37.769Z"
   },
   {
    "duration": 3,
    "start_time": "2022-10-31T15:41:41.052Z"
   },
   {
    "duration": 2,
    "start_time": "2022-10-31T15:44:54.349Z"
   },
   {
    "duration": 87,
    "start_time": "2022-10-31T15:45:53.160Z"
   },
   {
    "duration": 8,
    "start_time": "2022-10-31T15:46:15.858Z"
   },
   {
    "duration": 7,
    "start_time": "2022-10-31T15:46:26.095Z"
   },
   {
    "duration": 78,
    "start_time": "2022-10-31T15:46:29.527Z"
   },
   {
    "duration": 5,
    "start_time": "2022-10-31T15:46:37.347Z"
   },
   {
    "duration": 68,
    "start_time": "2022-10-31T15:47:35.273Z"
   },
   {
    "duration": 1084,
    "start_time": "2022-10-31T15:48:13.877Z"
   },
   {
    "duration": 20,
    "start_time": "2022-10-31T15:48:24.643Z"
   },
   {
    "duration": 6,
    "start_time": "2022-10-31T15:49:01.227Z"
   },
   {
    "duration": 17,
    "start_time": "2022-10-31T15:50:10.685Z"
   },
   {
    "duration": 11,
    "start_time": "2022-10-31T15:50:27.977Z"
   },
   {
    "duration": 10,
    "start_time": "2022-10-31T15:51:02.680Z"
   },
   {
    "duration": 8,
    "start_time": "2022-10-31T15:51:12.161Z"
   },
   {
    "duration": 7,
    "start_time": "2022-10-31T15:51:17.010Z"
   },
   {
    "duration": 8,
    "start_time": "2022-10-31T15:51:22.730Z"
   },
   {
    "duration": 8,
    "start_time": "2022-10-31T15:51:28.516Z"
   },
   {
    "duration": 11,
    "start_time": "2022-10-31T15:52:45.854Z"
   },
   {
    "duration": 9,
    "start_time": "2022-10-31T16:00:47.624Z"
   },
   {
    "duration": 7,
    "start_time": "2022-10-31T16:01:04.828Z"
   },
   {
    "duration": 6,
    "start_time": "2022-10-31T16:03:52.727Z"
   },
   {
    "duration": 7,
    "start_time": "2022-10-31T16:04:07.879Z"
   },
   {
    "duration": 1109,
    "start_time": "2022-11-01T08:20:28.653Z"
   },
   {
    "duration": 920,
    "start_time": "2022-11-01T08:20:29.764Z"
   },
   {
    "duration": 19,
    "start_time": "2022-11-01T08:20:30.686Z"
   },
   {
    "duration": 11,
    "start_time": "2022-11-01T08:20:32.573Z"
   },
   {
    "duration": 9,
    "start_time": "2022-11-01T08:20:38.610Z"
   },
   {
    "duration": 14,
    "start_time": "2022-11-01T08:36:05.526Z"
   },
   {
    "duration": 2,
    "start_time": "2022-11-01T08:36:40.742Z"
   },
   {
    "duration": 257,
    "start_time": "2022-11-01T08:36:41.863Z"
   },
   {
    "duration": 19,
    "start_time": "2022-11-01T08:36:42.951Z"
   },
   {
    "duration": 8,
    "start_time": "2022-11-01T08:36:44.622Z"
   },
   {
    "duration": 13,
    "start_time": "2022-11-01T08:36:48.751Z"
   },
   {
    "duration": 138,
    "start_time": "2022-11-01T08:37:58.038Z"
   },
   {
    "duration": 17,
    "start_time": "2022-11-01T08:37:59.536Z"
   },
   {
    "duration": 10,
    "start_time": "2022-11-01T08:38:06.239Z"
   },
   {
    "duration": 12,
    "start_time": "2022-11-01T08:38:14.516Z"
   },
   {
    "duration": 13,
    "start_time": "2022-11-01T08:39:21.442Z"
   },
   {
    "duration": 14,
    "start_time": "2022-11-01T08:39:34.813Z"
   },
   {
    "duration": 12,
    "start_time": "2022-11-01T08:39:38.250Z"
   },
   {
    "duration": 12,
    "start_time": "2022-11-01T08:39:58.065Z"
   },
   {
    "duration": 3,
    "start_time": "2022-11-01T08:41:29.819Z"
   },
   {
    "duration": 267,
    "start_time": "2022-11-01T08:41:30.431Z"
   },
   {
    "duration": 21,
    "start_time": "2022-11-01T08:41:35.594Z"
   },
   {
    "duration": 239,
    "start_time": "2022-11-01T08:41:44.411Z"
   },
   {
    "duration": 562,
    "start_time": "2022-11-01T08:42:24.724Z"
   },
   {
    "duration": 597,
    "start_time": "2022-11-01T08:42:49.756Z"
   },
   {
    "duration": 17,
    "start_time": "2022-11-01T08:42:52.326Z"
   },
   {
    "duration": 8,
    "start_time": "2022-11-01T08:42:54.202Z"
   },
   {
    "duration": 3,
    "start_time": "2022-11-01T08:42:59.468Z"
   },
   {
    "duration": 531,
    "start_time": "2022-11-01T08:43:14.311Z"
   },
   {
    "duration": 145,
    "start_time": "2022-11-01T08:43:38.074Z"
   },
   {
    "duration": 16,
    "start_time": "2022-11-01T08:43:39.760Z"
   },
   {
    "duration": 10,
    "start_time": "2022-11-01T08:43:40.466Z"
   },
   {
    "duration": 13,
    "start_time": "2022-11-01T08:43:42.797Z"
   },
   {
    "duration": 3,
    "start_time": "2022-11-01T08:43:58.815Z"
   },
   {
    "duration": 146,
    "start_time": "2022-11-01T08:44:36.195Z"
   },
   {
    "duration": 15,
    "start_time": "2022-11-01T08:44:38.195Z"
   },
   {
    "duration": 10,
    "start_time": "2022-11-01T08:44:39.231Z"
   },
   {
    "duration": 11,
    "start_time": "2022-11-01T08:44:41.235Z"
   },
   {
    "duration": 82,
    "start_time": "2022-11-01T08:46:06.688Z"
   },
   {
    "duration": 69,
    "start_time": "2022-11-01T08:46:13.245Z"
   },
   {
    "duration": 12,
    "start_time": "2022-11-01T08:46:16.809Z"
   },
   {
    "duration": 12,
    "start_time": "2022-11-01T08:47:03.129Z"
   },
   {
    "duration": 8,
    "start_time": "2022-11-01T08:47:31.312Z"
   },
   {
    "duration": 10,
    "start_time": "2022-11-01T08:47:35.171Z"
   },
   {
    "duration": 7,
    "start_time": "2022-11-01T08:47:38.851Z"
   },
   {
    "duration": 11,
    "start_time": "2022-11-01T08:47:48.295Z"
   },
   {
    "duration": 57,
    "start_time": "2022-11-01T08:48:07.013Z"
   },
   {
    "duration": 13,
    "start_time": "2022-11-01T08:53:51.966Z"
   },
   {
    "duration": 5,
    "start_time": "2022-11-01T08:55:20.520Z"
   },
   {
    "duration": 4,
    "start_time": "2022-11-01T08:56:37.975Z"
   },
   {
    "duration": 7,
    "start_time": "2022-11-01T08:58:55.584Z"
   },
   {
    "duration": 8,
    "start_time": "2022-11-01T09:00:20.513Z"
   },
   {
    "duration": 59,
    "start_time": "2022-11-01T09:00:32.932Z"
   },
   {
    "duration": 58,
    "start_time": "2022-11-01T09:00:41.371Z"
   },
   {
    "duration": 10,
    "start_time": "2022-11-01T09:00:47.773Z"
   },
   {
    "duration": 13,
    "start_time": "2022-11-01T09:00:48.687Z"
   },
   {
    "duration": 4,
    "start_time": "2022-11-01T09:00:49.473Z"
   },
   {
    "duration": 52,
    "start_time": "2022-11-01T09:00:50.214Z"
   },
   {
    "duration": 65,
    "start_time": "2022-11-01T09:00:51.177Z"
   },
   {
    "duration": 56,
    "start_time": "2022-11-01T09:01:01.612Z"
   },
   {
    "duration": 57,
    "start_time": "2022-11-01T09:01:30.444Z"
   },
   {
    "duration": 71,
    "start_time": "2022-11-01T09:01:31.350Z"
   },
   {
    "duration": 3,
    "start_time": "2022-11-01T09:02:04.078Z"
   },
   {
    "duration": 153,
    "start_time": "2022-11-01T09:02:05.215Z"
   },
   {
    "duration": 17,
    "start_time": "2022-11-01T09:02:06.263Z"
   },
   {
    "duration": 9,
    "start_time": "2022-11-01T09:02:06.672Z"
   },
   {
    "duration": 12,
    "start_time": "2022-11-01T09:02:08.532Z"
   },
   {
    "duration": 12,
    "start_time": "2022-11-01T09:02:09.559Z"
   },
   {
    "duration": 4,
    "start_time": "2022-11-01T09:02:10.066Z"
   },
   {
    "duration": 56,
    "start_time": "2022-11-01T09:02:10.504Z"
   },
   {
    "duration": 67,
    "start_time": "2022-11-01T09:02:11.173Z"
   },
   {
    "duration": 64,
    "start_time": "2022-11-01T09:02:18.852Z"
   },
   {
    "duration": 57,
    "start_time": "2022-11-01T09:03:58.500Z"
   },
   {
    "duration": 72,
    "start_time": "2022-11-01T09:03:59.144Z"
   },
   {
    "duration": 978,
    "start_time": "2022-11-01T09:04:47.233Z"
   },
   {
    "duration": 188,
    "start_time": "2022-11-01T09:04:48.213Z"
   },
   {
    "duration": 19,
    "start_time": "2022-11-01T09:04:48.402Z"
   },
   {
    "duration": 22,
    "start_time": "2022-11-01T09:04:48.423Z"
   },
   {
    "duration": 23,
    "start_time": "2022-11-01T09:04:48.447Z"
   },
   {
    "duration": 28,
    "start_time": "2022-11-01T09:04:48.472Z"
   },
   {
    "duration": 4,
    "start_time": "2022-11-01T09:04:48.502Z"
   },
   {
    "duration": 64,
    "start_time": "2022-11-01T09:04:48.508Z"
   },
   {
    "duration": 72,
    "start_time": "2022-11-01T09:04:48.573Z"
   },
   {
    "duration": 2,
    "start_time": "2022-11-01T09:05:04.915Z"
   },
   {
    "duration": 140,
    "start_time": "2022-11-01T09:05:05.463Z"
   },
   {
    "duration": 17,
    "start_time": "2022-11-01T09:05:06.686Z"
   },
   {
    "duration": 10,
    "start_time": "2022-11-01T09:05:14.629Z"
   },
   {
    "duration": 12,
    "start_time": "2022-11-01T09:05:18.267Z"
   },
   {
    "duration": 13,
    "start_time": "2022-11-01T09:05:19.179Z"
   },
   {
    "duration": 4,
    "start_time": "2022-11-01T09:05:19.682Z"
   },
   {
    "duration": 52,
    "start_time": "2022-11-01T09:05:20.696Z"
   },
   {
    "duration": 56,
    "start_time": "2022-11-01T09:05:21.921Z"
   },
   {
    "duration": 104,
    "start_time": "2022-11-01T09:05:42.499Z"
   },
   {
    "duration": 55,
    "start_time": "2022-11-01T09:05:52.017Z"
   },
   {
    "duration": 58,
    "start_time": "2022-11-01T09:07:03.671Z"
   },
   {
    "duration": 47,
    "start_time": "2022-11-01T09:07:10.741Z"
   },
   {
    "duration": 58,
    "start_time": "2022-11-01T09:07:11.879Z"
   },
   {
    "duration": 63,
    "start_time": "2022-11-01T09:07:12.085Z"
   },
   {
    "duration": 4,
    "start_time": "2022-11-01T09:07:15.681Z"
   },
   {
    "duration": 45,
    "start_time": "2022-11-01T09:07:16.256Z"
   },
   {
    "duration": 50,
    "start_time": "2022-11-01T09:07:16.542Z"
   },
   {
    "duration": 50,
    "start_time": "2022-11-01T09:07:16.966Z"
   },
   {
    "duration": 3,
    "start_time": "2022-11-01T09:07:24.669Z"
   },
   {
    "duration": 43,
    "start_time": "2022-11-01T09:07:24.943Z"
   },
   {
    "duration": 59,
    "start_time": "2022-11-01T09:07:25.428Z"
   },
   {
    "duration": 46,
    "start_time": "2022-11-01T09:07:29.920Z"
   },
   {
    "duration": 54,
    "start_time": "2022-11-01T09:08:33.557Z"
   },
   {
    "duration": 50,
    "start_time": "2022-11-01T09:09:55.227Z"
   },
   {
    "duration": 3,
    "start_time": "2022-11-01T09:10:06.068Z"
   },
   {
    "duration": 136,
    "start_time": "2022-11-01T09:10:06.951Z"
   },
   {
    "duration": 17,
    "start_time": "2022-11-01T09:10:07.768Z"
   },
   {
    "duration": 9,
    "start_time": "2022-11-01T09:10:08.531Z"
   },
   {
    "duration": 10,
    "start_time": "2022-11-01T09:10:10.590Z"
   },
   {
    "duration": 13,
    "start_time": "2022-11-01T09:10:11.568Z"
   },
   {
    "duration": 4,
    "start_time": "2022-11-01T09:10:12.117Z"
   },
   {
    "duration": 52,
    "start_time": "2022-11-01T09:10:12.657Z"
   },
   {
    "duration": 63,
    "start_time": "2022-11-01T09:10:13.901Z"
   },
   {
    "duration": 50,
    "start_time": "2022-11-01T09:10:14.436Z"
   },
   {
    "duration": 12,
    "start_time": "2022-11-01T09:12:32.019Z"
   },
   {
    "duration": 3,
    "start_time": "2022-11-01T09:12:32.332Z"
   },
   {
    "duration": 46,
    "start_time": "2022-11-01T09:12:32.769Z"
   },
   {
    "duration": 54,
    "start_time": "2022-11-01T09:12:33.069Z"
   },
   {
    "duration": 49,
    "start_time": "2022-11-01T09:12:33.466Z"
   },
   {
    "duration": 10,
    "start_time": "2022-11-01T09:18:23.319Z"
   },
   {
    "duration": 11,
    "start_time": "2022-11-01T09:22:14.243Z"
   },
   {
    "duration": 42,
    "start_time": "2022-11-01T09:27:14.437Z"
   },
   {
    "duration": 6,
    "start_time": "2022-11-01T09:27:28.441Z"
   },
   {
    "duration": 11,
    "start_time": "2022-11-01T09:31:41.297Z"
   },
   {
    "duration": 11,
    "start_time": "2022-11-01T09:32:46.659Z"
   },
   {
    "duration": 13,
    "start_time": "2022-11-01T09:32:47.372Z"
   },
   {
    "duration": 10,
    "start_time": "2022-11-01T09:33:35.096Z"
   },
   {
    "duration": 12,
    "start_time": "2022-11-01T09:33:35.530Z"
   },
   {
    "duration": 11,
    "start_time": "2022-11-01T09:35:44.426Z"
   },
   {
    "duration": 13,
    "start_time": "2022-11-01T09:35:44.842Z"
   },
   {
    "duration": 3,
    "start_time": "2022-11-01T09:35:45.343Z"
   },
   {
    "duration": 47,
    "start_time": "2022-11-01T09:35:50.028Z"
   },
   {
    "duration": 54,
    "start_time": "2022-11-01T09:35:50.267Z"
   },
   {
    "duration": 60,
    "start_time": "2022-11-01T09:35:50.632Z"
   },
   {
    "duration": 13,
    "start_time": "2022-11-01T09:35:51.363Z"
   },
   {
    "duration": 11,
    "start_time": "2022-11-01T09:35:52.045Z"
   },
   {
    "duration": 95,
    "start_time": "2022-11-01T09:36:02.175Z"
   },
   {
    "duration": 11,
    "start_time": "2022-11-01T09:36:02.592Z"
   },
   {
    "duration": 67,
    "start_time": "2022-11-01T09:36:21.293Z"
   },
   {
    "duration": 11,
    "start_time": "2022-11-01T09:36:22.783Z"
   },
   {
    "duration": 51,
    "start_time": "2022-11-01T09:36:48.520Z"
   },
   {
    "duration": 13,
    "start_time": "2022-11-01T09:36:48.884Z"
   },
   {
    "duration": 14,
    "start_time": "2022-11-01T09:36:49.413Z"
   },
   {
    "duration": 11,
    "start_time": "2022-11-01T09:36:49.653Z"
   },
   {
    "duration": 6,
    "start_time": "2022-11-01T09:37:14.941Z"
   },
   {
    "duration": 73,
    "start_time": "2022-11-01T09:37:32.267Z"
   },
   {
    "duration": 5,
    "start_time": "2022-11-01T09:37:39.403Z"
   },
   {
    "duration": 13,
    "start_time": "2022-11-01T09:37:47.278Z"
   },
   {
    "duration": 7,
    "start_time": "2022-11-01T09:37:51.068Z"
   },
   {
    "duration": 12,
    "start_time": "2022-11-01T09:37:52.232Z"
   },
   {
    "duration": 5,
    "start_time": "2022-11-01T09:37:55.645Z"
   },
   {
    "duration": 5,
    "start_time": "2022-11-01T09:37:56.458Z"
   },
   {
    "duration": 8,
    "start_time": "2022-11-01T09:39:02.549Z"
   },
   {
    "duration": 567,
    "start_time": "2022-11-01T09:39:08.966Z"
   },
   {
    "duration": 13,
    "start_time": "2022-11-01T09:39:25.130Z"
   },
   {
    "duration": 11,
    "start_time": "2022-11-01T09:39:40.967Z"
   },
   {
    "duration": 12,
    "start_time": "2022-11-01T09:39:44.497Z"
   },
   {
    "duration": 4,
    "start_time": "2022-11-01T09:39:45.304Z"
   },
   {
    "duration": 4,
    "start_time": "2022-11-01T09:39:45.786Z"
   },
   {
    "duration": 12,
    "start_time": "2022-11-01T09:39:52.889Z"
   },
   {
    "duration": 11,
    "start_time": "2022-11-01T09:41:27.775Z"
   },
   {
    "duration": 15,
    "start_time": "2022-11-01T09:41:41.454Z"
   },
   {
    "duration": 3,
    "start_time": "2022-11-01T09:41:59.063Z"
   },
   {
    "duration": 134,
    "start_time": "2022-11-01T09:41:59.546Z"
   },
   {
    "duration": 17,
    "start_time": "2022-11-01T09:42:00.003Z"
   },
   {
    "duration": 10,
    "start_time": "2022-11-01T09:42:00.188Z"
   },
   {
    "duration": 10,
    "start_time": "2022-11-01T09:42:05.428Z"
   },
   {
    "duration": 13,
    "start_time": "2022-11-01T09:42:08.007Z"
   },
   {
    "duration": 3,
    "start_time": "2022-11-01T09:42:08.447Z"
   },
   {
    "duration": 52,
    "start_time": "2022-11-01T09:42:08.832Z"
   },
   {
    "duration": 58,
    "start_time": "2022-11-01T09:42:09.202Z"
   },
   {
    "duration": 46,
    "start_time": "2022-11-01T09:42:09.709Z"
   },
   {
    "duration": 34,
    "start_time": "2022-11-01T09:42:10.533Z"
   },
   {
    "duration": 17,
    "start_time": "2022-11-01T09:42:48.278Z"
   },
   {
    "duration": 1230,
    "start_time": "2022-11-01T10:47:08.619Z"
   },
   {
    "duration": 70,
    "start_time": "2022-11-01T10:47:34.139Z"
   },
   {
    "duration": 9,
    "start_time": "2022-11-01T10:48:06.104Z"
   },
   {
    "duration": 14,
    "start_time": "2022-11-01T10:48:27.183Z"
   },
   {
    "duration": 10,
    "start_time": "2022-11-01T10:48:57.967Z"
   },
   {
    "duration": 13,
    "start_time": "2022-11-01T10:48:58.684Z"
   },
   {
    "duration": 18,
    "start_time": "2022-11-01T10:48:59.071Z"
   },
   {
    "duration": 20,
    "start_time": "2022-11-01T10:50:09.798Z"
   },
   {
    "duration": 13,
    "start_time": "2022-11-01T10:50:10.745Z"
   },
   {
    "duration": 10,
    "start_time": "2022-11-01T10:53:46.293Z"
   },
   {
    "duration": 13,
    "start_time": "2022-11-01T10:53:46.971Z"
   },
   {
    "duration": 9,
    "start_time": "2022-11-01T10:53:51.195Z"
   },
   {
    "duration": 16,
    "start_time": "2022-11-01T10:54:05.417Z"
   },
   {
    "duration": 987,
    "start_time": "2022-11-01T10:54:39.621Z"
   },
   {
    "duration": 188,
    "start_time": "2022-11-01T10:54:40.609Z"
   },
   {
    "duration": 24,
    "start_time": "2022-11-01T10:54:40.798Z"
   },
   {
    "duration": 11,
    "start_time": "2022-11-01T10:54:40.823Z"
   },
   {
    "duration": 11,
    "start_time": "2022-11-01T10:54:40.836Z"
   },
   {
    "duration": 12,
    "start_time": "2022-11-01T10:54:40.848Z"
   },
   {
    "duration": 4,
    "start_time": "2022-11-01T10:54:40.861Z"
   },
   {
    "duration": 81,
    "start_time": "2022-11-01T10:54:40.867Z"
   },
   {
    "duration": 71,
    "start_time": "2022-11-01T10:54:40.950Z"
   },
   {
    "duration": 50,
    "start_time": "2022-11-01T10:54:41.024Z"
   },
   {
    "duration": 9,
    "start_time": "2022-11-01T10:54:41.076Z"
   },
   {
    "duration": 26,
    "start_time": "2022-11-01T10:54:41.086Z"
   },
   {
    "duration": 3,
    "start_time": "2022-11-01T10:54:53.452Z"
   },
   {
    "duration": 161,
    "start_time": "2022-11-01T10:54:53.883Z"
   },
   {
    "duration": 20,
    "start_time": "2022-11-01T10:54:54.530Z"
   },
   {
    "duration": 10,
    "start_time": "2022-11-01T10:54:54.773Z"
   },
   {
    "duration": 11,
    "start_time": "2022-11-01T10:54:56.240Z"
   },
   {
    "duration": 12,
    "start_time": "2022-11-01T10:54:56.850Z"
   },
   {
    "duration": 3,
    "start_time": "2022-11-01T10:54:57.233Z"
   },
   {
    "duration": 52,
    "start_time": "2022-11-01T10:54:57.553Z"
   },
   {
    "duration": 58,
    "start_time": "2022-11-01T10:54:57.802Z"
   },
   {
    "duration": 45,
    "start_time": "2022-11-01T10:54:58.106Z"
   },
   {
    "duration": 8,
    "start_time": "2022-11-01T10:54:58.813Z"
   },
   {
    "duration": 12,
    "start_time": "2022-11-01T10:54:59.463Z"
   },
   {
    "duration": 8,
    "start_time": "2022-11-01T11:00:11.091Z"
   },
   {
    "duration": 13,
    "start_time": "2022-11-01T11:01:02.901Z"
   },
   {
    "duration": 3,
    "start_time": "2022-11-01T11:01:03.067Z"
   },
   {
    "duration": 52,
    "start_time": "2022-11-01T11:01:03.249Z"
   },
   {
    "duration": 58,
    "start_time": "2022-11-01T11:01:03.414Z"
   },
   {
    "duration": 44,
    "start_time": "2022-11-01T11:01:03.595Z"
   },
   {
    "duration": 11,
    "start_time": "2022-11-01T11:01:04.697Z"
   },
   {
    "duration": 7,
    "start_time": "2022-11-01T11:01:05.215Z"
   },
   {
    "duration": 11,
    "start_time": "2022-11-01T11:11:51.407Z"
   },
   {
    "duration": 8,
    "start_time": "2022-11-01T11:11:51.939Z"
   },
   {
    "duration": 972,
    "start_time": "2022-11-01T11:12:55.641Z"
   },
   {
    "duration": 163,
    "start_time": "2022-11-01T11:12:56.614Z"
   },
   {
    "duration": 19,
    "start_time": "2022-11-01T11:12:56.778Z"
   },
   {
    "duration": 26,
    "start_time": "2022-11-01T11:12:56.799Z"
   },
   {
    "duration": 15,
    "start_time": "2022-11-01T11:12:56.828Z"
   },
   {
    "duration": 32,
    "start_time": "2022-11-01T11:12:56.845Z"
   },
   {
    "duration": 4,
    "start_time": "2022-11-01T11:12:56.879Z"
   },
   {
    "duration": 59,
    "start_time": "2022-11-01T11:12:56.885Z"
   },
   {
    "duration": 67,
    "start_time": "2022-11-01T11:12:56.946Z"
   },
   {
    "duration": 51,
    "start_time": "2022-11-01T11:12:57.021Z"
   },
   {
    "duration": 7,
    "start_time": "2022-11-01T11:12:57.074Z"
   },
   {
    "duration": 13,
    "start_time": "2022-11-01T11:12:57.082Z"
   },
   {
    "duration": 712,
    "start_time": "2022-11-01T11:12:57.097Z"
   },
   {
    "duration": 13,
    "start_time": "2022-11-01T11:13:10.490Z"
   },
   {
    "duration": 8,
    "start_time": "2022-11-01T11:13:43.744Z"
   },
   {
    "duration": 8,
    "start_time": "2022-11-01T11:13:50.424Z"
   },
   {
    "duration": 9,
    "start_time": "2022-11-01T11:14:00.125Z"
   },
   {
    "duration": 9,
    "start_time": "2022-11-01T11:14:27.434Z"
   },
   {
    "duration": 14,
    "start_time": "2022-11-01T11:16:50.875Z"
   },
   {
    "duration": 9,
    "start_time": "2022-11-01T11:16:51.071Z"
   },
   {
    "duration": 7,
    "start_time": "2022-11-01T11:16:54.573Z"
   },
   {
    "duration": 9,
    "start_time": "2022-11-01T11:16:55.037Z"
   },
   {
    "duration": 15,
    "start_time": "2022-11-01T11:16:55.675Z"
   },
   {
    "duration": 11,
    "start_time": "2022-11-01T11:16:55.933Z"
   },
   {
    "duration": 923,
    "start_time": "2022-11-01T11:17:12.083Z"
   },
   {
    "duration": 171,
    "start_time": "2022-11-01T11:17:13.008Z"
   },
   {
    "duration": 18,
    "start_time": "2022-11-01T11:17:13.181Z"
   },
   {
    "duration": 23,
    "start_time": "2022-11-01T11:17:13.200Z"
   },
   {
    "duration": 11,
    "start_time": "2022-11-01T11:17:13.225Z"
   },
   {
    "duration": 12,
    "start_time": "2022-11-01T11:17:13.237Z"
   },
   {
    "duration": 4,
    "start_time": "2022-11-01T11:17:13.250Z"
   },
   {
    "duration": 77,
    "start_time": "2022-11-01T11:17:13.255Z"
   },
   {
    "duration": 67,
    "start_time": "2022-11-01T11:17:13.334Z"
   },
   {
    "duration": 57,
    "start_time": "2022-11-01T11:17:13.403Z"
   },
   {
    "duration": 7,
    "start_time": "2022-11-01T11:17:13.461Z"
   },
   {
    "duration": 9,
    "start_time": "2022-11-01T11:17:13.469Z"
   },
   {
    "duration": 16,
    "start_time": "2022-11-01T11:17:13.479Z"
   },
   {
    "duration": 7,
    "start_time": "2022-11-01T11:17:13.497Z"
   },
   {
    "duration": 13,
    "start_time": "2022-11-01T11:19:05.011Z"
   },
   {
    "duration": 14,
    "start_time": "2022-11-01T11:19:08.849Z"
   },
   {
    "duration": 3,
    "start_time": "2022-11-01T11:19:09.096Z"
   },
   {
    "duration": 66,
    "start_time": "2022-11-01T11:19:09.339Z"
   },
   {
    "duration": 72,
    "start_time": "2022-11-01T11:19:09.612Z"
   },
   {
    "duration": 55,
    "start_time": "2022-11-01T11:19:09.909Z"
   },
   {
    "duration": 6,
    "start_time": "2022-11-01T11:19:10.616Z"
   },
   {
    "duration": 8,
    "start_time": "2022-11-01T11:19:10.957Z"
   },
   {
    "duration": 11,
    "start_time": "2022-11-01T11:19:22.437Z"
   },
   {
    "duration": 9,
    "start_time": "2022-11-01T11:19:22.832Z"
   },
   {
    "duration": 13,
    "start_time": "2022-11-01T11:19:23.989Z"
   },
   {
    "duration": 8,
    "start_time": "2022-11-01T11:19:24.384Z"
   },
   {
    "duration": 978,
    "start_time": "2022-11-01T11:19:31.181Z"
   },
   {
    "duration": 187,
    "start_time": "2022-11-01T11:19:32.161Z"
   },
   {
    "duration": 20,
    "start_time": "2022-11-01T11:19:32.349Z"
   },
   {
    "duration": 45,
    "start_time": "2022-11-01T11:19:32.370Z"
   },
   {
    "duration": 92,
    "start_time": "2022-11-01T11:19:32.417Z"
   },
   {
    "duration": 12,
    "start_time": "2022-11-01T11:19:32.511Z"
   },
   {
    "duration": 3,
    "start_time": "2022-11-01T11:19:32.525Z"
   },
   {
    "duration": 71,
    "start_time": "2022-11-01T11:19:32.530Z"
   },
   {
    "duration": 67,
    "start_time": "2022-11-01T11:19:32.603Z"
   },
   {
    "duration": 61,
    "start_time": "2022-11-01T11:19:32.671Z"
   },
   {
    "duration": 8,
    "start_time": "2022-11-01T11:19:32.733Z"
   },
   {
    "duration": 12,
    "start_time": "2022-11-01T11:19:32.743Z"
   },
   {
    "duration": 20,
    "start_time": "2022-11-01T11:19:32.757Z"
   },
   {
    "duration": 8,
    "start_time": "2022-11-01T11:19:32.779Z"
   },
   {
    "duration": 3,
    "start_time": "2022-11-01T11:19:48.558Z"
   },
   {
    "duration": 143,
    "start_time": "2022-11-01T11:19:49.469Z"
   },
   {
    "duration": 16,
    "start_time": "2022-11-01T11:19:50.334Z"
   },
   {
    "duration": 10,
    "start_time": "2022-11-01T11:19:53.993Z"
   },
   {
    "duration": 10,
    "start_time": "2022-11-01T11:20:02.207Z"
   },
   {
    "duration": 12,
    "start_time": "2022-11-01T11:20:07.504Z"
   },
   {
    "duration": 3,
    "start_time": "2022-11-01T11:20:08.722Z"
   },
   {
    "duration": 47,
    "start_time": "2022-11-01T11:20:21.151Z"
   },
   {
    "duration": 59,
    "start_time": "2022-11-01T11:20:21.844Z"
   },
   {
    "duration": 46,
    "start_time": "2022-11-01T11:20:23.238Z"
   },
   {
    "duration": 9,
    "start_time": "2022-11-01T11:20:35.812Z"
   },
   {
    "duration": 15,
    "start_time": "2022-11-01T11:20:36.199Z"
   },
   {
    "duration": 15,
    "start_time": "2022-11-01T11:20:37.177Z"
   },
   {
    "duration": 8,
    "start_time": "2022-11-01T11:20:37.988Z"
   },
   {
    "duration": 91,
    "start_time": "2022-11-01T11:29:30.637Z"
   },
   {
    "duration": 9,
    "start_time": "2022-11-01T11:29:41.913Z"
   },
   {
    "duration": 8,
    "start_time": "2022-11-01T11:29:55.113Z"
   },
   {
    "duration": 4,
    "start_time": "2022-11-01T12:12:34.228Z"
   },
   {
    "duration": 4,
    "start_time": "2022-11-01T12:27:53.061Z"
   },
   {
    "duration": 8,
    "start_time": "2022-11-01T12:28:50.213Z"
   },
   {
    "duration": 4,
    "start_time": "2022-11-01T12:29:01.898Z"
   },
   {
    "duration": 5,
    "start_time": "2022-11-01T12:29:08.645Z"
   },
   {
    "duration": 7,
    "start_time": "2022-11-01T12:29:21.683Z"
   },
   {
    "duration": 9,
    "start_time": "2022-11-01T12:30:55.351Z"
   },
   {
    "duration": 5,
    "start_time": "2022-11-01T12:34:33.244Z"
   },
   {
    "duration": 23,
    "start_time": "2022-11-01T12:35:08.829Z"
   },
   {
    "duration": 25,
    "start_time": "2022-11-01T12:35:32.795Z"
   },
   {
    "duration": 23,
    "start_time": "2022-11-01T12:35:43.100Z"
   },
   {
    "duration": 29,
    "start_time": "2022-11-01T12:36:15.856Z"
   },
   {
    "duration": 22,
    "start_time": "2022-11-01T12:36:25.037Z"
   },
   {
    "duration": 6,
    "start_time": "2022-11-01T13:51:56.084Z"
   },
   {
    "duration": 3,
    "start_time": "2022-11-01T13:52:28.284Z"
   },
   {
    "duration": 4,
    "start_time": "2022-11-01T13:54:04.831Z"
   },
   {
    "duration": 6,
    "start_time": "2022-11-01T14:00:55.886Z"
   },
   {
    "duration": 70,
    "start_time": "2022-11-01T14:01:22.843Z"
   },
   {
    "duration": 5,
    "start_time": "2022-11-01T14:01:28.313Z"
   },
   {
    "duration": 14,
    "start_time": "2022-11-01T14:01:36.168Z"
   },
   {
    "duration": 11,
    "start_time": "2022-11-01T14:01:46.217Z"
   },
   {
    "duration": 5,
    "start_time": "2022-11-01T14:02:01.275Z"
   },
   {
    "duration": 7,
    "start_time": "2022-11-01T14:02:40.269Z"
   },
   {
    "duration": 71,
    "start_time": "2022-11-01T14:02:46.360Z"
   },
   {
    "duration": 6,
    "start_time": "2022-11-01T14:02:55.320Z"
   },
   {
    "duration": 5,
    "start_time": "2022-11-01T14:03:17.644Z"
   },
   {
    "duration": 6,
    "start_time": "2022-11-01T14:03:33.572Z"
   },
   {
    "duration": 6,
    "start_time": "2022-11-01T14:04:10.463Z"
   },
   {
    "duration": 9,
    "start_time": "2022-11-01T14:04:22.007Z"
   },
   {
    "duration": 3,
    "start_time": "2022-11-01T14:04:36.864Z"
   },
   {
    "duration": 5,
    "start_time": "2022-11-01T14:04:53.556Z"
   },
   {
    "duration": 8,
    "start_time": "2022-11-01T14:05:00.764Z"
   },
   {
    "duration": 112,
    "start_time": "2022-11-01T14:05:08.527Z"
   },
   {
    "duration": 6,
    "start_time": "2022-11-01T14:05:25.104Z"
   },
   {
    "duration": 16,
    "start_time": "2022-11-01T14:05:44.016Z"
   },
   {
    "duration": 8,
    "start_time": "2022-11-01T14:05:48.200Z"
   },
   {
    "duration": 73,
    "start_time": "2022-11-01T14:05:55.383Z"
   },
   {
    "duration": 75,
    "start_time": "2022-11-01T14:06:07.508Z"
   },
   {
    "duration": 82,
    "start_time": "2022-11-01T14:06:15.985Z"
   },
   {
    "duration": 6,
    "start_time": "2022-11-01T14:06:19.000Z"
   },
   {
    "duration": 5,
    "start_time": "2022-11-01T14:06:47.625Z"
   },
   {
    "duration": 43,
    "start_time": "2022-11-01T14:08:17.322Z"
   },
   {
    "duration": 7,
    "start_time": "2022-11-01T14:08:35.158Z"
   },
   {
    "duration": 10,
    "start_time": "2022-11-01T14:08:50.039Z"
   },
   {
    "duration": 15,
    "start_time": "2022-11-01T14:09:00.544Z"
   },
   {
    "duration": 6,
    "start_time": "2022-11-01T14:09:11.113Z"
   },
   {
    "duration": 6,
    "start_time": "2022-11-01T14:14:04.809Z"
   },
   {
    "duration": 18,
    "start_time": "2022-11-01T14:14:20.410Z"
   },
   {
    "duration": 89,
    "start_time": "2022-11-01T14:15:13.304Z"
   },
   {
    "duration": 10,
    "start_time": "2022-11-01T14:15:18.244Z"
   },
   {
    "duration": 81,
    "start_time": "2022-11-01T14:15:53.823Z"
   },
   {
    "duration": 81,
    "start_time": "2022-11-01T14:15:59.189Z"
   },
   {
    "duration": 91,
    "start_time": "2022-11-01T14:16:09.702Z"
   },
   {
    "duration": 85,
    "start_time": "2022-11-01T14:16:28.755Z"
   },
   {
    "duration": 84,
    "start_time": "2022-11-01T14:16:58.733Z"
   },
   {
    "duration": 1204,
    "start_time": "2022-11-01T14:17:34.073Z"
   },
   {
    "duration": 7,
    "start_time": "2022-11-01T14:17:44.610Z"
   },
   {
    "duration": 69,
    "start_time": "2022-11-01T14:18:09.147Z"
   },
   {
    "duration": 66,
    "start_time": "2022-11-01T14:18:16.319Z"
   },
   {
    "duration": 83,
    "start_time": "2022-11-01T14:18:46.009Z"
   },
   {
    "duration": 72,
    "start_time": "2022-11-01T14:18:56.514Z"
   },
   {
    "duration": 17,
    "start_time": "2022-11-01T14:19:01.724Z"
   },
   {
    "duration": 72,
    "start_time": "2022-11-01T14:19:05.493Z"
   },
   {
    "duration": 71,
    "start_time": "2022-11-01T14:19:10.731Z"
   },
   {
    "duration": 68,
    "start_time": "2022-11-01T14:19:43.319Z"
   },
   {
    "duration": 77,
    "start_time": "2022-11-01T14:19:49.458Z"
   },
   {
    "duration": 64,
    "start_time": "2022-11-01T14:19:59.233Z"
   },
   {
    "duration": 72,
    "start_time": "2022-11-01T14:20:41.837Z"
   },
   {
    "duration": 6,
    "start_time": "2022-11-01T14:20:45.321Z"
   },
   {
    "duration": 7,
    "start_time": "2022-11-01T14:20:49.449Z"
   },
   {
    "duration": 5,
    "start_time": "2022-11-01T14:21:00.790Z"
   },
   {
    "duration": 74,
    "start_time": "2022-11-01T14:21:03.574Z"
   },
   {
    "duration": 69,
    "start_time": "2022-11-01T14:21:38.837Z"
   },
   {
    "duration": 16,
    "start_time": "2022-11-01T14:21:44.579Z"
   },
   {
    "duration": 29,
    "start_time": "2022-11-01T14:22:09.533Z"
   },
   {
    "duration": 72,
    "start_time": "2022-11-01T14:22:16.020Z"
   },
   {
    "duration": 77,
    "start_time": "2022-11-01T14:22:48.958Z"
   },
   {
    "duration": 12,
    "start_time": "2022-11-01T14:22:52.965Z"
   },
   {
    "duration": 9,
    "start_time": "2022-11-01T14:23:02.833Z"
   },
   {
    "duration": 3,
    "start_time": "2022-11-01T14:23:06.061Z"
   },
   {
    "duration": 81,
    "start_time": "2022-11-01T14:24:33.787Z"
   },
   {
    "duration": 4,
    "start_time": "2022-11-01T14:24:38.448Z"
   },
   {
    "duration": 5,
    "start_time": "2022-11-01T14:26:02.040Z"
   },
   {
    "duration": 15,
    "start_time": "2022-11-01T14:26:36.585Z"
   },
   {
    "duration": 11,
    "start_time": "2022-11-01T14:26:50.653Z"
   },
   {
    "duration": 13,
    "start_time": "2022-11-01T14:27:00.705Z"
   },
   {
    "duration": 8,
    "start_time": "2022-11-01T14:27:22.818Z"
   },
   {
    "duration": 11,
    "start_time": "2022-11-01T14:27:26.720Z"
   },
   {
    "duration": 5,
    "start_time": "2022-11-01T14:27:46.567Z"
   },
   {
    "duration": 232,
    "start_time": "2022-11-01T14:31:18.334Z"
   },
   {
    "duration": 169,
    "start_time": "2022-11-01T14:33:03.373Z"
   },
   {
    "duration": 178,
    "start_time": "2022-11-01T14:34:31.061Z"
   },
   {
    "duration": 196,
    "start_time": "2022-11-01T14:34:36.492Z"
   },
   {
    "duration": 4,
    "start_time": "2022-11-01T14:40:20.361Z"
   },
   {
    "duration": 4,
    "start_time": "2022-11-01T14:40:31.891Z"
   },
   {
    "duration": 192,
    "start_time": "2022-11-01T14:44:20.670Z"
   },
   {
    "duration": 13,
    "start_time": "2022-11-01T14:44:31.767Z"
   },
   {
    "duration": 223,
    "start_time": "2022-11-01T14:44:38.679Z"
   },
   {
    "duration": 171,
    "start_time": "2022-11-01T14:44:48.106Z"
   },
   {
    "duration": 190,
    "start_time": "2022-11-01T14:44:53.436Z"
   },
   {
    "duration": 188,
    "start_time": "2022-11-01T14:44:59.014Z"
   },
   {
    "duration": 4,
    "start_time": "2022-11-01T14:45:10.855Z"
   },
   {
    "duration": 7,
    "start_time": "2022-11-01T14:45:11.887Z"
   },
   {
    "duration": 7,
    "start_time": "2022-11-01T14:45:41.493Z"
   },
   {
    "duration": 9,
    "start_time": "2022-11-01T14:45:51.650Z"
   },
   {
    "duration": 9,
    "start_time": "2022-11-01T14:46:02.278Z"
   },
   {
    "duration": 6,
    "start_time": "2022-11-01T14:46:14.501Z"
   },
   {
    "duration": 7,
    "start_time": "2022-11-01T14:46:19.966Z"
   },
   {
    "duration": 5,
    "start_time": "2022-11-01T14:46:23.283Z"
   },
   {
    "duration": 232,
    "start_time": "2022-11-01T14:46:24.382Z"
   },
   {
    "duration": 78,
    "start_time": "2022-11-01T14:49:51.319Z"
   },
   {
    "duration": 106,
    "start_time": "2022-11-01T14:50:07.172Z"
   },
   {
    "duration": 164,
    "start_time": "2022-11-01T14:50:16.235Z"
   },
   {
    "duration": 169,
    "start_time": "2022-11-01T14:52:06.508Z"
   },
   {
    "duration": 167,
    "start_time": "2022-11-01T14:53:03.733Z"
   },
   {
    "duration": 152,
    "start_time": "2022-11-01T14:53:09.661Z"
   },
   {
    "duration": 164,
    "start_time": "2022-11-01T14:53:14.101Z"
   },
   {
    "duration": 166,
    "start_time": "2022-11-01T14:53:23.519Z"
   },
   {
    "duration": 159,
    "start_time": "2022-11-01T14:53:40.339Z"
   },
   {
    "duration": 173,
    "start_time": "2022-11-01T14:53:45.560Z"
   },
   {
    "duration": 180,
    "start_time": "2022-11-01T14:53:50.847Z"
   },
   {
    "duration": 166,
    "start_time": "2022-11-01T14:54:31.151Z"
   },
   {
    "duration": 250,
    "start_time": "2022-11-01T14:54:38.603Z"
   },
   {
    "duration": 190,
    "start_time": "2022-11-01T14:54:47.366Z"
   },
   {
    "duration": 185,
    "start_time": "2022-11-01T14:54:56.853Z"
   },
   {
    "duration": 178,
    "start_time": "2022-11-01T14:55:14.000Z"
   },
   {
    "duration": 182,
    "start_time": "2022-11-01T14:56:23.365Z"
   },
   {
    "duration": 241,
    "start_time": "2022-11-01T14:57:34.477Z"
   },
   {
    "duration": 197,
    "start_time": "2022-11-01T14:57:51.038Z"
   },
   {
    "duration": 193,
    "start_time": "2022-11-01T14:58:01.446Z"
   },
   {
    "duration": 184,
    "start_time": "2022-11-01T14:58:12.663Z"
   },
   {
    "duration": 101,
    "start_time": "2022-11-01T14:58:33.065Z"
   },
   {
    "duration": 84,
    "start_time": "2022-11-01T14:58:47.376Z"
   },
   {
    "duration": 5,
    "start_time": "2022-11-01T14:58:51.721Z"
   },
   {
    "duration": 201,
    "start_time": "2022-11-01T14:58:54.966Z"
   },
   {
    "duration": 363,
    "start_time": "2022-11-01T14:59:04.220Z"
   },
   {
    "duration": 767,
    "start_time": "2022-11-01T14:59:11.887Z"
   },
   {
    "duration": 78,
    "start_time": "2022-11-01T14:59:45.515Z"
   },
   {
    "duration": 944,
    "start_time": "2022-11-01T14:59:53.256Z"
   },
   {
    "duration": 608,
    "start_time": "2022-11-01T15:00:02.333Z"
   },
   {
    "duration": 232,
    "start_time": "2022-11-01T15:01:40.234Z"
   },
   {
    "duration": 256,
    "start_time": "2022-11-01T15:01:53.086Z"
   },
   {
    "duration": 5,
    "start_time": "2022-11-01T15:01:57.486Z"
   },
   {
    "duration": 240,
    "start_time": "2022-11-01T15:01:58.312Z"
   },
   {
    "duration": 237,
    "start_time": "2022-11-01T15:02:08.481Z"
   },
   {
    "duration": 742,
    "start_time": "2022-11-01T15:02:31.395Z"
   },
   {
    "duration": 650,
    "start_time": "2022-11-01T15:02:40.860Z"
   },
   {
    "duration": 741,
    "start_time": "2022-11-01T15:03:16.606Z"
   },
   {
    "duration": 632,
    "start_time": "2022-11-01T15:03:24.708Z"
   },
   {
    "duration": 752,
    "start_time": "2022-11-01T15:03:30.433Z"
   },
   {
    "duration": 154,
    "start_time": "2022-11-01T15:03:38.963Z"
   },
   {
    "duration": 700,
    "start_time": "2022-11-01T15:03:45.708Z"
   },
   {
    "duration": 808,
    "start_time": "2022-11-01T15:03:53.958Z"
   },
   {
    "duration": 565,
    "start_time": "2022-11-01T15:04:29.696Z"
   },
   {
    "duration": 715,
    "start_time": "2022-11-01T15:04:37.145Z"
   },
   {
    "duration": 566,
    "start_time": "2022-11-01T15:04:44.457Z"
   },
   {
    "duration": 730,
    "start_time": "2022-11-01T15:04:53.897Z"
   },
   {
    "duration": 17,
    "start_time": "2022-11-01T15:18:27.330Z"
   },
   {
    "duration": 2,
    "start_time": "2022-11-01T15:18:34.366Z"
   },
   {
    "duration": 8,
    "start_time": "2022-11-01T15:22:04.102Z"
   },
   {
    "duration": 9,
    "start_time": "2022-11-01T15:22:13.948Z"
   },
   {
    "duration": 70,
    "start_time": "2022-11-01T15:22:20.663Z"
   },
   {
    "duration": 10,
    "start_time": "2022-11-01T15:22:34.842Z"
   },
   {
    "duration": 1487,
    "start_time": "2022-11-01T15:26:04.082Z"
   },
   {
    "duration": 8,
    "start_time": "2022-11-01T15:26:31.257Z"
   },
   {
    "duration": 5,
    "start_time": "2022-11-01T15:26:43.664Z"
   },
   {
    "duration": 13,
    "start_time": "2022-11-01T15:26:59.768Z"
   },
   {
    "duration": 822,
    "start_time": "2022-11-01T15:27:13.911Z"
   },
   {
    "duration": 12,
    "start_time": "2022-11-01T15:27:14.735Z"
   },
   {
    "duration": 740,
    "start_time": "2022-11-01T15:27:50.967Z"
   },
   {
    "duration": 14,
    "start_time": "2022-11-01T15:27:51.708Z"
   },
   {
    "duration": 17,
    "start_time": "2022-11-01T15:31:37.788Z"
   },
   {
    "duration": 12,
    "start_time": "2022-11-01T15:31:37.986Z"
   },
   {
    "duration": 23,
    "start_time": "2022-11-01T15:31:51.092Z"
   },
   {
    "duration": 13,
    "start_time": "2022-11-01T15:31:51.506Z"
   },
   {
    "duration": 969,
    "start_time": "2022-11-01T15:32:23.157Z"
   },
   {
    "duration": 201,
    "start_time": "2022-11-01T15:32:24.128Z"
   },
   {
    "duration": 19,
    "start_time": "2022-11-01T15:32:24.330Z"
   },
   {
    "duration": 13,
    "start_time": "2022-11-01T15:32:24.351Z"
   },
   {
    "duration": 11,
    "start_time": "2022-11-01T15:32:24.365Z"
   },
   {
    "duration": 14,
    "start_time": "2022-11-01T15:32:24.377Z"
   },
   {
    "duration": 32,
    "start_time": "2022-11-01T15:32:24.392Z"
   },
   {
    "duration": 63,
    "start_time": "2022-11-01T15:32:24.425Z"
   },
   {
    "duration": 75,
    "start_time": "2022-11-01T15:32:24.489Z"
   },
   {
    "duration": 61,
    "start_time": "2022-11-01T15:32:24.566Z"
   },
   {
    "duration": 9,
    "start_time": "2022-11-01T15:32:24.628Z"
   },
   {
    "duration": 11,
    "start_time": "2022-11-01T15:32:24.638Z"
   },
   {
    "duration": 35,
    "start_time": "2022-11-01T15:32:24.650Z"
   },
   {
    "duration": 9,
    "start_time": "2022-11-01T15:32:24.687Z"
   },
   {
    "duration": 7,
    "start_time": "2022-11-01T15:32:24.697Z"
   },
   {
    "duration": 9,
    "start_time": "2022-11-01T15:32:24.706Z"
   },
   {
    "duration": 16,
    "start_time": "2022-11-01T15:32:24.716Z"
   },
   {
    "duration": 5,
    "start_time": "2022-11-01T15:32:24.734Z"
   },
   {
    "duration": 741,
    "start_time": "2022-11-01T15:32:24.740Z"
   },
   {
    "duration": 15,
    "start_time": "2022-11-01T15:32:25.483Z"
   },
   {
    "duration": 28,
    "start_time": "2022-11-01T15:32:25.499Z"
   },
   {
    "duration": 3,
    "start_time": "2022-11-01T15:32:44.212Z"
   },
   {
    "duration": 145,
    "start_time": "2022-11-01T15:32:44.753Z"
   },
   {
    "duration": 17,
    "start_time": "2022-11-01T15:32:45.391Z"
   },
   {
    "duration": 11,
    "start_time": "2022-11-01T15:32:45.863Z"
   },
   {
    "duration": 11,
    "start_time": "2022-11-01T15:32:47.254Z"
   },
   {
    "duration": 12,
    "start_time": "2022-11-01T15:32:48.509Z"
   },
   {
    "duration": 3,
    "start_time": "2022-11-01T15:32:48.879Z"
   },
   {
    "duration": 46,
    "start_time": "2022-11-01T15:32:49.181Z"
   },
   {
    "duration": 59,
    "start_time": "2022-11-01T15:32:49.413Z"
   },
   {
    "duration": 44,
    "start_time": "2022-11-01T15:32:49.635Z"
   },
   {
    "duration": 9,
    "start_time": "2022-11-01T15:32:50.051Z"
   },
   {
    "duration": 7,
    "start_time": "2022-11-01T15:32:50.258Z"
   },
   {
    "duration": 14,
    "start_time": "2022-11-01T15:32:51.146Z"
   },
   {
    "duration": 8,
    "start_time": "2022-11-01T15:32:51.503Z"
   },
   {
    "duration": 3,
    "start_time": "2022-11-01T15:32:53.086Z"
   },
   {
    "duration": 5,
    "start_time": "2022-11-01T15:32:53.544Z"
   },
   {
    "duration": 10,
    "start_time": "2022-11-01T15:32:53.916Z"
   },
   {
    "duration": 5,
    "start_time": "2022-11-01T15:32:54.587Z"
   },
   {
    "duration": 748,
    "start_time": "2022-11-01T15:32:55.342Z"
   },
   {
    "duration": 14,
    "start_time": "2022-11-01T15:32:57.835Z"
   },
   {
    "duration": 13,
    "start_time": "2022-11-01T15:32:58.515Z"
   },
   {
    "duration": 13,
    "start_time": "2022-11-01T15:33:25.605Z"
   },
   {
    "duration": 13,
    "start_time": "2022-11-01T15:34:20.503Z"
   },
   {
    "duration": 11,
    "start_time": "2022-11-01T15:36:31.225Z"
   },
   {
    "duration": 18,
    "start_time": "2022-11-01T15:36:31.527Z"
   },
   {
    "duration": 9,
    "start_time": "2022-11-01T15:37:21.747Z"
   },
   {
    "duration": 13,
    "start_time": "2022-11-01T15:37:22.030Z"
   },
   {
    "duration": 6,
    "start_time": "2022-11-01T15:37:30.520Z"
   },
   {
    "duration": 8,
    "start_time": "2022-11-01T15:37:44.708Z"
   },
   {
    "duration": 5,
    "start_time": "2022-11-01T15:38:12.925Z"
   },
   {
    "duration": 609,
    "start_time": "2022-11-01T15:38:13.980Z"
   },
   {
    "duration": 12,
    "start_time": "2022-11-01T15:38:14.876Z"
   },
   {
    "duration": 8,
    "start_time": "2022-11-01T15:38:15.384Z"
   },
   {
    "duration": 6,
    "start_time": "2022-11-01T15:40:25.726Z"
   },
   {
    "duration": 75,
    "start_time": "2022-11-01T15:41:49.541Z"
   },
   {
    "duration": 73,
    "start_time": "2022-11-01T15:42:40.399Z"
   },
   {
    "duration": 1223,
    "start_time": "2022-11-01T15:44:02.864Z"
   },
   {
    "duration": 20,
    "start_time": "2022-11-01T15:44:31.616Z"
   },
   {
    "duration": 16,
    "start_time": "2022-11-01T15:45:09.639Z"
   },
   {
    "duration": 19,
    "start_time": "2022-11-01T15:45:15.618Z"
   },
   {
    "duration": 102,
    "start_time": "2022-11-01T16:07:37.310Z"
   },
   {
    "duration": 83,
    "start_time": "2022-11-01T16:07:49.472Z"
   },
   {
    "duration": 6,
    "start_time": "2022-11-01T16:08:41.735Z"
   },
   {
    "duration": 26,
    "start_time": "2022-11-01T16:12:10.760Z"
   },
   {
    "duration": 34,
    "start_time": "2022-11-01T16:27:47.521Z"
   },
   {
    "duration": 8,
    "start_time": "2022-11-01T16:37:29.051Z"
   },
   {
    "duration": 9,
    "start_time": "2022-11-01T16:37:43.479Z"
   },
   {
    "duration": 7,
    "start_time": "2022-11-01T16:50:03.293Z"
   },
   {
    "duration": 7,
    "start_time": "2022-11-01T16:50:53.351Z"
   },
   {
    "duration": 7,
    "start_time": "2022-11-01T16:52:13.736Z"
   },
   {
    "duration": 8,
    "start_time": "2022-11-01T16:52:20.340Z"
   },
   {
    "duration": 8,
    "start_time": "2022-11-01T16:52:37.914Z"
   },
   {
    "duration": 7,
    "start_time": "2022-11-01T16:52:43.480Z"
   },
   {
    "duration": 7,
    "start_time": "2022-11-01T16:53:43.036Z"
   },
   {
    "duration": 6,
    "start_time": "2022-11-01T16:53:45.767Z"
   },
   {
    "duration": 1019,
    "start_time": "2022-11-01T16:53:55.277Z"
   },
   {
    "duration": 200,
    "start_time": "2022-11-01T16:53:56.297Z"
   },
   {
    "duration": 23,
    "start_time": "2022-11-01T16:53:56.499Z"
   },
   {
    "duration": 12,
    "start_time": "2022-11-01T16:53:56.524Z"
   },
   {
    "duration": 11,
    "start_time": "2022-11-01T16:53:56.538Z"
   },
   {
    "duration": 12,
    "start_time": "2022-11-01T16:53:56.550Z"
   },
   {
    "duration": 5,
    "start_time": "2022-11-01T16:53:56.564Z"
   },
   {
    "duration": 82,
    "start_time": "2022-11-01T16:53:56.570Z"
   },
   {
    "duration": 72,
    "start_time": "2022-11-01T16:53:56.654Z"
   },
   {
    "duration": 49,
    "start_time": "2022-11-01T16:53:56.727Z"
   },
   {
    "duration": 9,
    "start_time": "2022-11-01T16:53:56.777Z"
   },
   {
    "duration": 7,
    "start_time": "2022-11-01T16:53:56.788Z"
   },
   {
    "duration": 34,
    "start_time": "2022-11-01T16:53:56.797Z"
   },
   {
    "duration": 10,
    "start_time": "2022-11-01T16:53:56.834Z"
   },
   {
    "duration": 6,
    "start_time": "2022-11-01T16:53:56.846Z"
   },
   {
    "duration": 9,
    "start_time": "2022-11-01T16:53:56.853Z"
   },
   {
    "duration": 12,
    "start_time": "2022-11-01T16:53:56.864Z"
   },
   {
    "duration": 5,
    "start_time": "2022-11-01T16:53:56.877Z"
   },
   {
    "duration": 815,
    "start_time": "2022-11-01T16:53:56.884Z"
   },
   {
    "duration": 23,
    "start_time": "2022-11-01T16:53:57.702Z"
   },
   {
    "duration": 11,
    "start_time": "2022-11-01T16:53:57.727Z"
   },
   {
    "duration": 12,
    "start_time": "2022-11-01T16:53:57.740Z"
   },
   {
    "duration": 10,
    "start_time": "2022-11-01T16:53:57.754Z"
   },
   {
    "duration": 7,
    "start_time": "2022-11-01T16:54:13.783Z"
   },
   {
    "duration": 8,
    "start_time": "2022-11-01T16:54:48.584Z"
   },
   {
    "duration": 7,
    "start_time": "2022-11-01T16:54:51.853Z"
   },
   {
    "duration": 1034,
    "start_time": "2022-11-01T16:55:00.517Z"
   },
   {
    "duration": 189,
    "start_time": "2022-11-01T16:55:01.553Z"
   },
   {
    "duration": 18,
    "start_time": "2022-11-01T16:55:01.744Z"
   },
   {
    "duration": 17,
    "start_time": "2022-11-01T16:55:01.764Z"
   },
   {
    "duration": 31,
    "start_time": "2022-11-01T16:55:01.784Z"
   },
   {
    "duration": 13,
    "start_time": "2022-11-01T16:55:01.817Z"
   },
   {
    "duration": 8,
    "start_time": "2022-11-01T16:55:01.832Z"
   },
   {
    "duration": 72,
    "start_time": "2022-11-01T16:55:01.841Z"
   },
   {
    "duration": 73,
    "start_time": "2022-11-01T16:55:01.915Z"
   },
   {
    "duration": 64,
    "start_time": "2022-11-01T16:55:01.990Z"
   },
   {
    "duration": 9,
    "start_time": "2022-11-01T16:55:02.056Z"
   },
   {
    "duration": 61,
    "start_time": "2022-11-01T16:55:02.066Z"
   },
   {
    "duration": 26,
    "start_time": "2022-11-01T16:55:02.128Z"
   },
   {
    "duration": 8,
    "start_time": "2022-11-01T16:55:02.156Z"
   },
   {
    "duration": 24,
    "start_time": "2022-11-01T16:55:02.166Z"
   },
   {
    "duration": 35,
    "start_time": "2022-11-01T16:55:02.192Z"
   },
   {
    "duration": 15,
    "start_time": "2022-11-01T16:55:02.228Z"
   },
   {
    "duration": 10,
    "start_time": "2022-11-01T16:55:02.245Z"
   },
   {
    "duration": 691,
    "start_time": "2022-11-01T16:55:02.257Z"
   },
   {
    "duration": 14,
    "start_time": "2022-11-01T16:55:02.949Z"
   },
   {
    "duration": 12,
    "start_time": "2022-11-01T16:55:02.965Z"
   },
   {
    "duration": 8,
    "start_time": "2022-11-01T16:55:02.978Z"
   },
   {
    "duration": 10,
    "start_time": "2022-11-01T16:55:02.987Z"
   },
   {
    "duration": 7,
    "start_time": "2022-11-01T16:55:05.966Z"
   },
   {
    "duration": 9,
    "start_time": "2022-11-01T16:56:12.882Z"
   },
   {
    "duration": 8,
    "start_time": "2022-11-01T16:56:21.667Z"
   },
   {
    "duration": 8,
    "start_time": "2022-11-01T16:56:26.087Z"
   },
   {
    "duration": 8,
    "start_time": "2022-11-01T16:56:34.313Z"
   },
   {
    "duration": 7,
    "start_time": "2022-11-01T16:57:23.523Z"
   },
   {
    "duration": 7,
    "start_time": "2022-11-01T16:57:28.254Z"
   },
   {
    "duration": 7,
    "start_time": "2022-11-01T16:58:09.448Z"
   },
   {
    "duration": 7,
    "start_time": "2022-11-01T16:59:31.616Z"
   },
   {
    "duration": 7,
    "start_time": "2022-11-01T17:00:54.610Z"
   },
   {
    "duration": 7,
    "start_time": "2022-11-01T17:04:17.648Z"
   },
   {
    "duration": 73,
    "start_time": "2022-11-01T17:07:14.736Z"
   },
   {
    "duration": 74,
    "start_time": "2022-11-01T17:07:41.251Z"
   },
   {
    "duration": 7,
    "start_time": "2022-11-01T17:08:01.702Z"
   },
   {
    "duration": 69,
    "start_time": "2022-11-01T17:08:02.219Z"
   },
   {
    "duration": 6,
    "start_time": "2022-11-01T17:08:19.635Z"
   },
   {
    "duration": 7,
    "start_time": "2022-11-01T17:09:16.466Z"
   },
   {
    "duration": 84,
    "start_time": "2022-11-01T17:09:59.094Z"
   },
   {
    "duration": 12,
    "start_time": "2022-11-01T17:10:04.218Z"
   },
   {
    "duration": 7,
    "start_time": "2022-11-01T17:10:11.655Z"
   },
   {
    "duration": 5,
    "start_time": "2022-11-01T17:11:55.915Z"
   },
   {
    "duration": 5,
    "start_time": "2022-11-01T17:12:15.848Z"
   },
   {
    "duration": 8,
    "start_time": "2022-11-01T17:12:16.738Z"
   },
   {
    "duration": 7,
    "start_time": "2022-11-01T17:12:17.659Z"
   },
   {
    "duration": 679,
    "start_time": "2022-11-01T17:12:18.137Z"
   },
   {
    "duration": 10,
    "start_time": "2022-11-01T17:12:18.821Z"
   },
   {
    "duration": 8,
    "start_time": "2022-11-01T17:12:18.897Z"
   },
   {
    "duration": 6,
    "start_time": "2022-11-01T17:12:19.457Z"
   },
   {
    "duration": 7,
    "start_time": "2022-11-01T17:12:20.143Z"
   },
   {
    "duration": 8,
    "start_time": "2022-11-01T17:12:26.141Z"
   },
   {
    "duration": 7,
    "start_time": "2022-11-01T17:14:20.708Z"
   },
   {
    "duration": 12,
    "start_time": "2022-11-01T17:16:03.443Z"
   },
   {
    "duration": 16,
    "start_time": "2022-11-01T17:18:02.730Z"
   },
   {
    "duration": 12,
    "start_time": "2022-11-01T17:18:22.022Z"
   },
   {
    "duration": 8,
    "start_time": "2022-11-01T17:18:24.413Z"
   },
   {
    "duration": 13,
    "start_time": "2022-11-01T17:18:24.844Z"
   },
   {
    "duration": 10,
    "start_time": "2022-11-01T17:19:12.075Z"
   },
   {
    "duration": 13,
    "start_time": "2022-11-01T17:19:19.671Z"
   },
   {
    "duration": 9,
    "start_time": "2022-11-01T17:27:47.507Z"
   },
   {
    "duration": 7,
    "start_time": "2022-11-01T17:28:33.465Z"
   },
   {
    "duration": 4,
    "start_time": "2022-11-01T17:45:24.521Z"
   },
   {
    "duration": 51,
    "start_time": "2022-11-01T17:45:24.882Z"
   },
   {
    "duration": 60,
    "start_time": "2022-11-01T17:45:25.736Z"
   },
   {
    "duration": 47,
    "start_time": "2022-11-01T17:45:26.342Z"
   },
   {
    "duration": 10,
    "start_time": "2022-11-01T17:45:27.040Z"
   },
   {
    "duration": 9,
    "start_time": "2022-11-01T17:45:27.379Z"
   },
   {
    "duration": 14,
    "start_time": "2022-11-01T17:45:29.709Z"
   },
   {
    "duration": 9,
    "start_time": "2022-11-01T17:45:30.210Z"
   },
   {
    "duration": 3,
    "start_time": "2022-11-01T17:45:32.650Z"
   },
   {
    "duration": 7,
    "start_time": "2022-11-01T17:49:13.097Z"
   },
   {
    "duration": 6,
    "start_time": "2022-11-01T17:49:17.167Z"
   },
   {
    "duration": 11,
    "start_time": "2022-11-01T17:49:17.945Z"
   },
   {
    "duration": 13,
    "start_time": "2022-11-01T17:49:31.491Z"
   },
   {
    "duration": 12,
    "start_time": "2022-11-01T17:49:47.443Z"
   },
   {
    "duration": 6,
    "start_time": "2022-11-01T17:49:48.745Z"
   },
   {
    "duration": 76,
    "start_time": "2022-11-01T17:53:07.982Z"
   },
   {
    "duration": 74,
    "start_time": "2022-11-01T17:53:15.351Z"
   },
   {
    "duration": 75,
    "start_time": "2022-11-01T17:53:19.354Z"
   },
   {
    "duration": 72,
    "start_time": "2022-11-01T17:53:31.848Z"
   },
   {
    "duration": 72,
    "start_time": "2022-11-01T17:54:12.558Z"
   },
   {
    "duration": 78,
    "start_time": "2022-11-01T17:54:17.908Z"
   },
   {
    "duration": 71,
    "start_time": "2022-11-01T17:54:21.879Z"
   },
   {
    "duration": 67,
    "start_time": "2022-11-01T17:54:28.347Z"
   },
   {
    "duration": 67,
    "start_time": "2022-11-01T17:54:51.849Z"
   },
   {
    "duration": 67,
    "start_time": "2022-11-01T17:54:54.251Z"
   },
   {
    "duration": 18,
    "start_time": "2022-11-01T17:54:59.064Z"
   },
   {
    "duration": 13,
    "start_time": "2022-11-01T17:55:29.609Z"
   },
   {
    "duration": 14,
    "start_time": "2022-11-01T17:55:44.999Z"
   },
   {
    "duration": 12,
    "start_time": "2022-11-01T17:56:22.357Z"
   },
   {
    "duration": 1437,
    "start_time": "2022-11-02T08:04:09.816Z"
   },
   {
    "duration": 889,
    "start_time": "2022-11-02T08:04:11.255Z"
   },
   {
    "duration": 25,
    "start_time": "2022-11-02T08:04:12.146Z"
   },
   {
    "duration": 14,
    "start_time": "2022-11-02T08:04:12.173Z"
   },
   {
    "duration": 15,
    "start_time": "2022-11-02T08:04:12.579Z"
   },
   {
    "duration": 14,
    "start_time": "2022-11-02T08:04:13.451Z"
   },
   {
    "duration": 4,
    "start_time": "2022-11-02T08:04:13.659Z"
   },
   {
    "duration": 79,
    "start_time": "2022-11-02T08:04:13.887Z"
   },
   {
    "duration": 82,
    "start_time": "2022-11-02T08:04:14.079Z"
   },
   {
    "duration": 66,
    "start_time": "2022-11-02T08:04:14.313Z"
   },
   {
    "duration": 10,
    "start_time": "2022-11-02T08:04:15.452Z"
   },
   {
    "duration": 8,
    "start_time": "2022-11-02T08:04:15.775Z"
   },
   {
    "duration": 16,
    "start_time": "2022-11-02T08:04:16.871Z"
   },
   {
    "duration": 9,
    "start_time": "2022-11-02T08:04:17.303Z"
   },
   {
    "duration": 4,
    "start_time": "2022-11-02T08:04:18.866Z"
   },
   {
    "duration": 6,
    "start_time": "2022-11-02T08:04:19.875Z"
   },
   {
    "duration": 11,
    "start_time": "2022-11-02T08:04:20.959Z"
   },
   {
    "duration": 6,
    "start_time": "2022-11-02T08:04:22.447Z"
   },
   {
    "duration": 846,
    "start_time": "2022-11-02T08:04:24.753Z"
   },
   {
    "duration": 17,
    "start_time": "2022-11-02T08:04:25.989Z"
   },
   {
    "duration": 11,
    "start_time": "2022-11-02T08:04:27.156Z"
   },
   {
    "duration": 6,
    "start_time": "2022-11-02T08:04:29.651Z"
   },
   {
    "duration": 12,
    "start_time": "2022-11-02T08:04:30.697Z"
   },
   {
    "duration": 13,
    "start_time": "2022-11-02T08:04:31.317Z"
   },
   {
    "duration": 111,
    "start_time": "2022-11-02T09:00:53.615Z"
   },
   {
    "duration": 10,
    "start_time": "2022-11-02T09:01:03.587Z"
   },
   {
    "duration": 22,
    "start_time": "2022-11-02T09:01:30.699Z"
   },
   {
    "duration": 12,
    "start_time": "2022-11-02T09:01:46.753Z"
   },
   {
    "duration": 15,
    "start_time": "2022-11-02T09:02:08.203Z"
   },
   {
    "duration": 10,
    "start_time": "2022-11-02T09:02:16.218Z"
   },
   {
    "duration": 11,
    "start_time": "2022-11-02T09:02:31.965Z"
   },
   {
    "duration": 15,
    "start_time": "2022-11-02T09:03:00.645Z"
   },
   {
    "duration": 18,
    "start_time": "2022-11-02T09:03:19.312Z"
   },
   {
    "duration": 16,
    "start_time": "2022-11-02T09:03:30.353Z"
   },
   {
    "duration": 13,
    "start_time": "2022-11-02T09:03:49.399Z"
   },
   {
    "duration": 22,
    "start_time": "2022-11-02T09:06:13.508Z"
   },
   {
    "duration": 21,
    "start_time": "2022-11-02T09:06:20.703Z"
   },
   {
    "duration": 11,
    "start_time": "2022-11-02T09:09:02.883Z"
   },
   {
    "duration": 12,
    "start_time": "2022-11-02T09:09:17.931Z"
   },
   {
    "duration": 4,
    "start_time": "2022-11-02T09:09:23.976Z"
   },
   {
    "duration": 12,
    "start_time": "2022-11-02T09:09:27.484Z"
   },
   {
    "duration": 20,
    "start_time": "2022-11-02T09:09:42.594Z"
   },
   {
    "duration": 21,
    "start_time": "2022-11-02T09:10:04.103Z"
   },
   {
    "duration": 15,
    "start_time": "2022-11-02T09:10:11.276Z"
   },
   {
    "duration": 12,
    "start_time": "2022-11-02T09:10:23.610Z"
   },
   {
    "duration": 13,
    "start_time": "2022-11-02T09:10:26.787Z"
   },
   {
    "duration": 7,
    "start_time": "2022-11-02T09:10:29.352Z"
   },
   {
    "duration": 11,
    "start_time": "2022-11-02T09:10:29.566Z"
   },
   {
    "duration": 13,
    "start_time": "2022-11-02T09:11:34.331Z"
   },
   {
    "duration": 15,
    "start_time": "2022-11-02T09:11:44.441Z"
   },
   {
    "duration": 16,
    "start_time": "2022-11-02T09:12:20.032Z"
   },
   {
    "duration": 24,
    "start_time": "2022-11-02T09:17:02.055Z"
   },
   {
    "duration": 1173,
    "start_time": "2022-11-02T09:17:12.379Z"
   },
   {
    "duration": 244,
    "start_time": "2022-11-02T09:17:13.554Z"
   },
   {
    "duration": 38,
    "start_time": "2022-11-02T09:17:13.801Z"
   },
   {
    "duration": 15,
    "start_time": "2022-11-02T09:17:13.841Z"
   },
   {
    "duration": 20,
    "start_time": "2022-11-02T09:17:13.859Z"
   },
   {
    "duration": 25,
    "start_time": "2022-11-02T09:17:13.881Z"
   },
   {
    "duration": 6,
    "start_time": "2022-11-02T09:17:13.932Z"
   },
   {
    "duration": 77,
    "start_time": "2022-11-02T09:17:13.939Z"
   },
   {
    "duration": 123,
    "start_time": "2022-11-02T09:17:14.032Z"
   },
   {
    "duration": 85,
    "start_time": "2022-11-02T09:17:14.157Z"
   },
   {
    "duration": 10,
    "start_time": "2022-11-02T09:17:14.244Z"
   },
   {
    "duration": 20,
    "start_time": "2022-11-02T09:17:14.256Z"
   },
   {
    "duration": 23,
    "start_time": "2022-11-02T09:17:14.278Z"
   },
   {
    "duration": 10,
    "start_time": "2022-11-02T09:17:14.303Z"
   },
   {
    "duration": 4,
    "start_time": "2022-11-02T09:17:14.335Z"
   },
   {
    "duration": 7,
    "start_time": "2022-11-02T09:17:14.342Z"
   },
   {
    "duration": 14,
    "start_time": "2022-11-02T09:17:14.351Z"
   },
   {
    "duration": 8,
    "start_time": "2022-11-02T09:17:14.367Z"
   },
   {
    "duration": 932,
    "start_time": "2022-11-02T09:17:14.377Z"
   },
   {
    "duration": 30,
    "start_time": "2022-11-02T09:17:15.311Z"
   },
   {
    "duration": 15,
    "start_time": "2022-11-02T09:17:15.344Z"
   },
   {
    "duration": 8,
    "start_time": "2022-11-02T09:17:15.361Z"
   },
   {
    "duration": 17,
    "start_time": "2022-11-02T09:17:15.372Z"
   },
   {
    "duration": 61,
    "start_time": "2022-11-02T09:17:15.391Z"
   },
   {
    "duration": 13,
    "start_time": "2022-11-02T09:17:15.454Z"
   },
   {
    "duration": 8,
    "start_time": "2022-11-02T09:17:21.618Z"
   },
   {
    "duration": 21,
    "start_time": "2022-11-02T09:17:22.299Z"
   },
   {
    "duration": 70,
    "start_time": "2022-11-02T09:17:46.403Z"
   },
   {
    "duration": 14,
    "start_time": "2022-11-02T09:17:46.756Z"
   },
   {
    "duration": 18,
    "start_time": "2022-11-02T09:17:52.337Z"
   },
   {
    "duration": 13,
    "start_time": "2022-11-02T09:17:53.645Z"
   },
   {
    "duration": 12,
    "start_time": "2022-11-02T09:17:55.443Z"
   },
   {
    "duration": 9,
    "start_time": "2022-11-02T09:17:58.412Z"
   },
   {
    "duration": 21,
    "start_time": "2022-11-02T09:17:58.948Z"
   },
   {
    "duration": 11,
    "start_time": "2022-11-02T09:18:00.905Z"
   },
   {
    "duration": 22,
    "start_time": "2022-11-02T09:19:32.195Z"
   },
   {
    "duration": 14,
    "start_time": "2022-11-02T09:19:34.483Z"
   },
   {
    "duration": 195,
    "start_time": "2022-11-02T09:25:31.993Z"
   },
   {
    "duration": 107,
    "start_time": "2022-11-02T09:26:35.711Z"
   },
   {
    "duration": 8,
    "start_time": "2022-11-02T09:27:15.047Z"
   },
   {
    "duration": 9,
    "start_time": "2022-11-02T09:28:38.426Z"
   },
   {
    "duration": 13,
    "start_time": "2022-11-02T09:29:24.707Z"
   },
   {
    "duration": 16,
    "start_time": "2022-11-02T09:31:29.279Z"
   },
   {
    "duration": 9,
    "start_time": "2022-11-02T09:31:36.296Z"
   },
   {
    "duration": 77,
    "start_time": "2022-11-02T09:37:11.277Z"
   },
   {
    "duration": 18,
    "start_time": "2022-11-02T09:37:53.389Z"
   },
   {
    "duration": 11,
    "start_time": "2022-11-02T09:43:46.351Z"
   },
   {
    "duration": 4,
    "start_time": "2022-11-02T09:44:01.506Z"
   },
   {
    "duration": 170,
    "start_time": "2022-11-02T09:44:01.947Z"
   },
   {
    "duration": 21,
    "start_time": "2022-11-02T09:44:02.434Z"
   },
   {
    "duration": 12,
    "start_time": "2022-11-02T09:44:02.654Z"
   },
   {
    "duration": 16,
    "start_time": "2022-11-02T09:44:04.658Z"
   },
   {
    "duration": 16,
    "start_time": "2022-11-02T09:44:19.265Z"
   },
   {
    "duration": 4,
    "start_time": "2022-11-02T09:44:19.766Z"
   },
   {
    "duration": 57,
    "start_time": "2022-11-02T09:44:20.149Z"
   },
   {
    "duration": 70,
    "start_time": "2022-11-02T09:44:21.134Z"
   },
   {
    "duration": 62,
    "start_time": "2022-11-02T09:44:21.515Z"
   },
   {
    "duration": 9,
    "start_time": "2022-11-02T09:44:24.268Z"
   },
   {
    "duration": 9,
    "start_time": "2022-11-02T09:44:24.660Z"
   },
   {
    "duration": 24,
    "start_time": "2022-11-02T09:44:26.522Z"
   },
   {
    "duration": 15,
    "start_time": "2022-11-02T09:44:32.447Z"
   },
   {
    "duration": 6,
    "start_time": "2022-11-02T09:44:36.901Z"
   },
   {
    "duration": 8,
    "start_time": "2022-11-02T09:44:49.375Z"
   },
   {
    "duration": 11,
    "start_time": "2022-11-02T09:44:51.375Z"
   },
   {
    "duration": 7,
    "start_time": "2022-11-02T09:45:02.499Z"
   },
   {
    "duration": 882,
    "start_time": "2022-11-02T09:45:05.769Z"
   },
   {
    "duration": 14,
    "start_time": "2022-11-02T09:45:10.122Z"
   },
   {
    "duration": 15,
    "start_time": "2022-11-02T09:45:10.478Z"
   },
   {
    "duration": 8,
    "start_time": "2022-11-02T09:45:11.368Z"
   },
   {
    "duration": 9,
    "start_time": "2022-11-02T09:45:12.260Z"
   },
   {
    "duration": 23,
    "start_time": "2022-11-02T09:45:13.409Z"
   },
   {
    "duration": 84,
    "start_time": "2022-11-02T09:46:50.147Z"
   },
   {
    "duration": 74,
    "start_time": "2022-11-02T09:46:53.839Z"
   },
   {
    "duration": 20,
    "start_time": "2022-11-02T09:46:58.456Z"
   },
   {
    "duration": 1311,
    "start_time": "2022-11-02T09:47:18.164Z"
   },
   {
    "duration": 230,
    "start_time": "2022-11-02T09:47:19.477Z"
   },
   {
    "duration": 31,
    "start_time": "2022-11-02T09:47:19.708Z"
   },
   {
    "duration": 17,
    "start_time": "2022-11-02T09:47:19.742Z"
   },
   {
    "duration": 44,
    "start_time": "2022-11-02T09:47:19.761Z"
   },
   {
    "duration": 50,
    "start_time": "2022-11-02T09:47:19.807Z"
   },
   {
    "duration": 5,
    "start_time": "2022-11-02T09:47:19.860Z"
   },
   {
    "duration": 87,
    "start_time": "2022-11-02T09:47:19.867Z"
   },
   {
    "duration": 96,
    "start_time": "2022-11-02T09:47:19.956Z"
   },
   {
    "duration": 103,
    "start_time": "2022-11-02T09:47:20.057Z"
   },
   {
    "duration": 11,
    "start_time": "2022-11-02T09:47:20.163Z"
   },
   {
    "duration": 32,
    "start_time": "2022-11-02T09:47:20.176Z"
   },
   {
    "duration": 50,
    "start_time": "2022-11-02T09:47:20.211Z"
   },
   {
    "duration": 27,
    "start_time": "2022-11-02T09:47:20.263Z"
   },
   {
    "duration": 14,
    "start_time": "2022-11-02T09:47:20.292Z"
   },
   {
    "duration": 32,
    "start_time": "2022-11-02T09:47:20.309Z"
   },
   {
    "duration": 34,
    "start_time": "2022-11-02T09:47:20.343Z"
   },
   {
    "duration": 34,
    "start_time": "2022-11-02T09:47:20.379Z"
   },
   {
    "duration": 959,
    "start_time": "2022-11-02T09:47:20.415Z"
   },
   {
    "duration": 20,
    "start_time": "2022-11-02T09:47:21.376Z"
   },
   {
    "duration": 33,
    "start_time": "2022-11-02T09:47:21.398Z"
   },
   {
    "duration": 9,
    "start_time": "2022-11-02T09:47:21.435Z"
   },
   {
    "duration": 14,
    "start_time": "2022-11-02T09:47:21.446Z"
   },
   {
    "duration": 30,
    "start_time": "2022-11-02T09:47:21.463Z"
   },
   {
    "duration": 42,
    "start_time": "2022-11-02T09:47:21.495Z"
   },
   {
    "duration": 11,
    "start_time": "2022-11-02T09:47:21.539Z"
   },
   {
    "duration": 7,
    "start_time": "2022-11-02T09:47:54.348Z"
   },
   {
    "duration": 9,
    "start_time": "2022-11-02T09:47:54.880Z"
   },
   {
    "duration": 31,
    "start_time": "2022-11-02T09:47:55.077Z"
   },
   {
    "duration": 21,
    "start_time": "2022-11-02T09:50:11.219Z"
   },
   {
    "duration": 86,
    "start_time": "2022-11-02T09:51:00.971Z"
   },
   {
    "duration": 18,
    "start_time": "2022-11-02T09:51:05.013Z"
   },
   {
    "duration": 16,
    "start_time": "2022-11-02T09:51:08.026Z"
   },
   {
    "duration": 13,
    "start_time": "2022-11-02T09:51:10.328Z"
   },
   {
    "duration": 12,
    "start_time": "2022-11-02T09:56:36.521Z"
   },
   {
    "duration": 20,
    "start_time": "2022-11-02T09:56:48.139Z"
   },
   {
    "duration": 11,
    "start_time": "2022-11-02T09:56:48.333Z"
   },
   {
    "duration": 4,
    "start_time": "2022-11-02T09:57:38.391Z"
   },
   {
    "duration": 9,
    "start_time": "2022-11-02T09:57:38.990Z"
   },
   {
    "duration": 11,
    "start_time": "2022-11-02T09:57:39.970Z"
   },
   {
    "duration": 7,
    "start_time": "2022-11-02T09:57:40.918Z"
   },
   {
    "duration": 984,
    "start_time": "2022-11-02T09:57:41.387Z"
   },
   {
    "duration": 11,
    "start_time": "2022-11-02T09:57:44.440Z"
   },
   {
    "duration": 10,
    "start_time": "2022-11-02T09:57:44.917Z"
   },
   {
    "duration": 6,
    "start_time": "2022-11-02T10:07:53.070Z"
   },
   {
    "duration": 8,
    "start_time": "2022-11-02T10:07:53.461Z"
   },
   {
    "duration": 6,
    "start_time": "2022-11-02T10:07:54.313Z"
   },
   {
    "duration": 781,
    "start_time": "2022-11-02T10:07:55.096Z"
   },
   {
    "duration": 10,
    "start_time": "2022-11-02T10:07:56.657Z"
   },
   {
    "duration": 12,
    "start_time": "2022-11-02T10:07:57.269Z"
   },
   {
    "duration": 8,
    "start_time": "2022-11-02T10:07:58.048Z"
   },
   {
    "duration": 9,
    "start_time": "2022-11-02T10:07:58.474Z"
   },
   {
    "duration": 17,
    "start_time": "2022-11-02T10:07:58.656Z"
   },
   {
    "duration": 11,
    "start_time": "2022-11-02T10:07:59.204Z"
   },
   {
    "duration": 12,
    "start_time": "2022-11-02T10:08:01.280Z"
   },
   {
    "duration": 11,
    "start_time": "2022-11-02T10:08:25.421Z"
   },
   {
    "duration": 12,
    "start_time": "2022-11-02T10:08:32.152Z"
   },
   {
    "duration": 10,
    "start_time": "2022-11-02T10:08:39.105Z"
   },
   {
    "duration": 13,
    "start_time": "2022-11-02T10:08:47.931Z"
   },
   {
    "duration": 23,
    "start_time": "2022-11-02T10:22:05.185Z"
   },
   {
    "duration": 13,
    "start_time": "2022-11-02T10:23:06.258Z"
   },
   {
    "duration": 135,
    "start_time": "2022-11-02T10:23:24.297Z"
   },
   {
    "duration": 23,
    "start_time": "2022-11-02T10:23:27.612Z"
   },
   {
    "duration": 15,
    "start_time": "2022-11-02T10:24:37.044Z"
   },
   {
    "duration": 25,
    "start_time": "2022-11-02T10:25:10.968Z"
   },
   {
    "duration": 29,
    "start_time": "2022-11-02T10:26:53.206Z"
   },
   {
    "duration": 11,
    "start_time": "2022-11-02T10:27:45.516Z"
   },
   {
    "duration": 11,
    "start_time": "2022-11-02T10:29:40.509Z"
   },
   {
    "duration": 12,
    "start_time": "2022-11-02T10:29:52.317Z"
   },
   {
    "duration": 27,
    "start_time": "2022-11-02T10:30:32.693Z"
   },
   {
    "duration": 59,
    "start_time": "2022-11-02T10:33:06.042Z"
   },
   {
    "duration": 61,
    "start_time": "2022-11-02T10:33:23.237Z"
   },
   {
    "duration": 73,
    "start_time": "2022-11-02T10:33:44.497Z"
   },
   {
    "duration": 94,
    "start_time": "2022-11-02T10:33:55.961Z"
   },
   {
    "duration": 60,
    "start_time": "2022-11-02T10:34:19.737Z"
   },
   {
    "duration": 27,
    "start_time": "2022-11-02T10:35:59.810Z"
   },
   {
    "duration": 41,
    "start_time": "2022-11-02T10:38:21.016Z"
   },
   {
    "duration": 31,
    "start_time": "2022-11-02T10:38:39.855Z"
   },
   {
    "duration": 51,
    "start_time": "2022-11-02T10:52:44.266Z"
   },
   {
    "duration": 56,
    "start_time": "2022-11-02T10:54:43.476Z"
   },
   {
    "duration": 60,
    "start_time": "2022-11-02T10:55:16.656Z"
   },
   {
    "duration": 56,
    "start_time": "2022-11-02T10:55:32.168Z"
   },
   {
    "duration": 14,
    "start_time": "2022-11-02T11:00:51.645Z"
   },
   {
    "duration": 55,
    "start_time": "2022-11-02T11:01:21.001Z"
   },
   {
    "duration": 41,
    "start_time": "2022-11-02T11:01:31.083Z"
   },
   {
    "duration": 57,
    "start_time": "2022-11-02T11:01:45.153Z"
   },
   {
    "duration": 32,
    "start_time": "2022-11-02T11:01:46.370Z"
   },
   {
    "duration": 80,
    "start_time": "2022-11-02T11:02:08.316Z"
   },
   {
    "duration": 32,
    "start_time": "2022-11-02T11:02:30.788Z"
   },
   {
    "duration": 16,
    "start_time": "2022-11-02T11:02:36.891Z"
   },
   {
    "duration": 109,
    "start_time": "2022-11-02T11:02:52.977Z"
   },
   {
    "duration": 1418,
    "start_time": "2022-11-02T11:03:26.957Z"
   },
   {
    "duration": 1346,
    "start_time": "2022-11-02T11:03:41.308Z"
   },
   {
    "duration": 1275,
    "start_time": "2022-11-02T11:04:20.615Z"
   },
   {
    "duration": 74,
    "start_time": "2022-11-02T11:05:14.747Z"
   },
   {
    "duration": 12,
    "start_time": "2022-11-02T11:05:15.895Z"
   },
   {
    "duration": 4,
    "start_time": "2022-11-02T11:05:27.310Z"
   },
   {
    "duration": 190,
    "start_time": "2022-11-02T11:05:27.771Z"
   },
   {
    "duration": 20,
    "start_time": "2022-11-02T11:05:28.363Z"
   },
   {
    "duration": 12,
    "start_time": "2022-11-02T11:05:28.598Z"
   },
   {
    "duration": 13,
    "start_time": "2022-11-02T11:05:29.848Z"
   },
   {
    "duration": 20,
    "start_time": "2022-11-02T11:05:30.599Z"
   },
   {
    "duration": 4,
    "start_time": "2022-11-02T11:05:30.818Z"
   },
   {
    "duration": 60,
    "start_time": "2022-11-02T11:05:31.575Z"
   },
   {
    "duration": 68,
    "start_time": "2022-11-02T11:05:32.016Z"
   },
   {
    "duration": 63,
    "start_time": "2022-11-02T11:05:32.582Z"
   },
   {
    "duration": 10,
    "start_time": "2022-11-02T11:05:33.378Z"
   },
   {
    "duration": 9,
    "start_time": "2022-11-02T11:05:33.709Z"
   },
   {
    "duration": 19,
    "start_time": "2022-11-02T11:05:34.860Z"
   },
   {
    "duration": 13,
    "start_time": "2022-11-02T11:05:35.298Z"
   },
   {
    "duration": 8,
    "start_time": "2022-11-02T11:05:37.391Z"
   },
   {
    "duration": 7,
    "start_time": "2022-11-02T11:05:37.861Z"
   },
   {
    "duration": 12,
    "start_time": "2022-11-02T11:05:38.793Z"
   },
   {
    "duration": 7,
    "start_time": "2022-11-02T11:05:39.743Z"
   },
   {
    "duration": 825,
    "start_time": "2022-11-02T11:05:40.394Z"
   },
   {
    "duration": 16,
    "start_time": "2022-11-02T11:05:42.623Z"
   },
   {
    "duration": 17,
    "start_time": "2022-11-02T11:05:42.979Z"
   },
   {
    "duration": 8,
    "start_time": "2022-11-02T11:05:43.748Z"
   },
   {
    "duration": 11,
    "start_time": "2022-11-02T11:05:44.450Z"
   },
   {
    "duration": 14,
    "start_time": "2022-11-02T11:05:45.592Z"
   },
   {
    "duration": 18,
    "start_time": "2022-11-02T11:05:46.504Z"
   },
   {
    "duration": 15,
    "start_time": "2022-11-02T11:05:47.820Z"
   },
   {
    "duration": 28,
    "start_time": "2022-11-02T11:05:49.886Z"
   },
   {
    "duration": 80,
    "start_time": "2022-11-02T11:05:51.227Z"
   },
   {
    "duration": 12,
    "start_time": "2022-11-02T11:05:51.896Z"
   },
   {
    "duration": 14,
    "start_time": "2022-11-02T11:06:14.012Z"
   },
   {
    "duration": 18,
    "start_time": "2022-11-02T11:06:23.394Z"
   },
   {
    "duration": 1184,
    "start_time": "2022-11-02T11:06:35.150Z"
   },
   {
    "duration": 238,
    "start_time": "2022-11-02T11:06:36.339Z"
   },
   {
    "duration": 559,
    "start_time": "2022-11-02T11:06:36.580Z"
   },
   {
    "duration": 17,
    "start_time": "2022-11-02T11:06:37.141Z"
   },
   {
    "duration": 19,
    "start_time": "2022-11-02T11:06:37.162Z"
   },
   {
    "duration": 51,
    "start_time": "2022-11-02T11:06:37.183Z"
   },
   {
    "duration": 4,
    "start_time": "2022-11-02T11:06:37.237Z"
   },
   {
    "duration": 104,
    "start_time": "2022-11-02T11:06:37.243Z"
   },
   {
    "duration": 115,
    "start_time": "2022-11-02T11:06:37.348Z"
   },
   {
    "duration": 66,
    "start_time": "2022-11-02T11:06:37.465Z"
   },
   {
    "duration": 14,
    "start_time": "2022-11-02T11:06:37.534Z"
   },
   {
    "duration": 13,
    "start_time": "2022-11-02T11:06:37.551Z"
   },
   {
    "duration": 19,
    "start_time": "2022-11-02T11:06:37.567Z"
   },
   {
    "duration": 42,
    "start_time": "2022-11-02T11:06:37.590Z"
   },
   {
    "duration": 5,
    "start_time": "2022-11-02T11:06:37.634Z"
   },
   {
    "duration": 17,
    "start_time": "2022-11-02T11:06:37.641Z"
   },
   {
    "duration": 12,
    "start_time": "2022-11-02T11:06:37.660Z"
   },
   {
    "duration": 8,
    "start_time": "2022-11-02T11:06:37.674Z"
   },
   {
    "duration": 1186,
    "start_time": "2022-11-02T11:06:37.684Z"
   },
   {
    "duration": 17,
    "start_time": "2022-11-02T11:06:38.872Z"
   },
   {
    "duration": 10,
    "start_time": "2022-11-02T11:06:38.891Z"
   },
   {
    "duration": 28,
    "start_time": "2022-11-02T11:06:38.904Z"
   },
   {
    "duration": 16,
    "start_time": "2022-11-02T11:06:38.934Z"
   },
   {
    "duration": 14,
    "start_time": "2022-11-02T11:06:38.952Z"
   },
   {
    "duration": 16,
    "start_time": "2022-11-02T11:06:38.968Z"
   },
   {
    "duration": 51,
    "start_time": "2022-11-02T11:06:38.986Z"
   },
   {
    "duration": 37,
    "start_time": "2022-11-02T11:06:39.039Z"
   },
   {
    "duration": 83,
    "start_time": "2022-11-02T11:06:39.078Z"
   },
   {
    "duration": 13,
    "start_time": "2022-11-02T11:06:39.163Z"
   },
   {
    "duration": 16,
    "start_time": "2022-11-02T11:07:01.987Z"
   },
   {
    "duration": 16,
    "start_time": "2022-11-02T11:07:06.150Z"
   },
   {
    "duration": 14,
    "start_time": "2022-11-02T11:07:12.278Z"
   },
   {
    "duration": 13,
    "start_time": "2022-11-02T11:07:18.584Z"
   },
   {
    "duration": 13,
    "start_time": "2022-11-02T11:07:25.784Z"
   },
   {
    "duration": 12,
    "start_time": "2022-11-02T11:08:38.813Z"
   },
   {
    "duration": 64,
    "start_time": "2022-11-02T11:17:18.320Z"
   },
   {
    "duration": 11,
    "start_time": "2022-11-02T11:17:37.256Z"
   },
   {
    "duration": 11,
    "start_time": "2022-11-02T11:17:43.852Z"
   },
   {
    "duration": 62,
    "start_time": "2022-11-02T11:19:02.710Z"
   },
   {
    "duration": 12,
    "start_time": "2022-11-02T11:20:12.686Z"
   },
   {
    "duration": 1547,
    "start_time": "2022-11-02T11:28:29.431Z"
   },
   {
    "duration": 12,
    "start_time": "2022-11-02T11:28:42.651Z"
   },
   {
    "duration": 14,
    "start_time": "2022-11-02T11:29:27.986Z"
   },
   {
    "duration": 1288,
    "start_time": "2022-11-02T11:29:42.233Z"
   },
   {
    "duration": 3,
    "start_time": "2022-11-02T11:31:50.153Z"
   },
   {
    "duration": 18,
    "start_time": "2022-11-02T11:32:17.626Z"
   },
   {
    "duration": 15,
    "start_time": "2022-11-02T11:32:40.223Z"
   },
   {
    "duration": 218,
    "start_time": "2022-11-02T11:33:06.522Z"
   },
   {
    "duration": 14,
    "start_time": "2022-11-02T11:33:24.722Z"
   },
   {
    "duration": 349,
    "start_time": "2022-11-02T11:33:55.515Z"
   },
   {
    "duration": 179,
    "start_time": "2022-11-02T11:34:18.523Z"
   },
   {
    "duration": 296,
    "start_time": "2022-11-02T11:35:02.158Z"
   },
   {
    "duration": 14,
    "start_time": "2022-11-02T11:35:17.229Z"
   },
   {
    "duration": 12,
    "start_time": "2022-11-02T11:39:17.841Z"
   },
   {
    "duration": 185,
    "start_time": "2022-11-02T11:39:23.805Z"
   },
   {
    "duration": 216,
    "start_time": "2022-11-02T11:39:49.279Z"
   },
   {
    "duration": 188,
    "start_time": "2022-11-02T11:39:54.601Z"
   },
   {
    "duration": 120,
    "start_time": "2022-11-02T11:39:59.505Z"
   },
   {
    "duration": 126,
    "start_time": "2022-11-02T11:40:03.976Z"
   },
   {
    "duration": 179,
    "start_time": "2022-11-02T11:40:08.247Z"
   },
   {
    "duration": 12,
    "start_time": "2022-11-02T11:40:28.005Z"
   },
   {
    "duration": 148,
    "start_time": "2022-11-02T11:41:16.087Z"
   },
   {
    "duration": 113,
    "start_time": "2022-11-02T11:41:28.194Z"
   },
   {
    "duration": 122,
    "start_time": "2022-11-02T11:41:50.335Z"
   },
   {
    "duration": 126,
    "start_time": "2022-11-02T11:42:35.571Z"
   },
   {
    "duration": 146,
    "start_time": "2022-11-02T11:43:00.265Z"
   },
   {
    "duration": 169,
    "start_time": "2022-11-02T11:43:11.121Z"
   },
   {
    "duration": 168,
    "start_time": "2022-11-02T11:43:14.611Z"
   },
   {
    "duration": 142,
    "start_time": "2022-11-02T11:43:27.613Z"
   },
   {
    "duration": 12,
    "start_time": "2022-11-02T11:43:38.154Z"
   },
   {
    "duration": 125,
    "start_time": "2022-11-02T11:43:42.712Z"
   },
   {
    "duration": 125,
    "start_time": "2022-11-02T11:46:19.305Z"
   },
   {
    "duration": 131,
    "start_time": "2022-11-02T11:46:30.454Z"
   },
   {
    "duration": 129,
    "start_time": "2022-11-02T11:46:37.265Z"
   },
   {
    "duration": 227,
    "start_time": "2022-11-02T11:46:43.492Z"
   },
   {
    "duration": 118,
    "start_time": "2022-11-02T11:49:18.733Z"
   },
   {
    "duration": 122,
    "start_time": "2022-11-02T11:49:49.712Z"
   },
   {
    "duration": 121,
    "start_time": "2022-11-02T11:49:57.159Z"
   },
   {
    "duration": 151,
    "start_time": "2022-11-02T11:50:20.954Z"
   },
   {
    "duration": 151,
    "start_time": "2022-11-02T11:50:27.566Z"
   },
   {
    "duration": 128,
    "start_time": "2022-11-02T11:50:32.991Z"
   },
   {
    "duration": 128,
    "start_time": "2022-11-02T11:50:44.759Z"
   },
   {
    "duration": 123,
    "start_time": "2022-11-02T11:50:51.547Z"
   },
   {
    "duration": 130,
    "start_time": "2022-11-02T11:51:58.691Z"
   },
   {
    "duration": 145,
    "start_time": "2022-11-02T11:52:09.428Z"
   },
   {
    "duration": 137,
    "start_time": "2022-11-02T11:56:56.603Z"
   },
   {
    "duration": 127,
    "start_time": "2022-11-02T11:57:10.245Z"
   },
   {
    "duration": 147,
    "start_time": "2022-11-02T11:58:34.681Z"
   },
   {
    "duration": 137,
    "start_time": "2022-11-02T11:58:41.206Z"
   },
   {
    "duration": 156,
    "start_time": "2022-11-02T12:03:35.430Z"
   },
   {
    "duration": 14,
    "start_time": "2022-11-02T12:03:45.763Z"
   },
   {
    "duration": 127,
    "start_time": "2022-11-02T12:03:45.968Z"
   },
   {
    "duration": 167,
    "start_time": "2022-11-02T12:05:18.429Z"
   },
   {
    "duration": 139,
    "start_time": "2022-11-02T12:05:26.285Z"
   },
   {
    "duration": 95,
    "start_time": "2022-11-02T12:05:37.819Z"
   },
   {
    "duration": 137,
    "start_time": "2022-11-02T12:05:54.048Z"
   },
   {
    "duration": 275,
    "start_time": "2022-11-02T12:05:59.166Z"
   },
   {
    "duration": 125,
    "start_time": "2022-11-02T12:06:04.178Z"
   },
   {
    "duration": 129,
    "start_time": "2022-11-02T12:06:15.681Z"
   },
   {
    "duration": 115,
    "start_time": "2022-11-02T12:06:28.138Z"
   },
   {
    "duration": 122,
    "start_time": "2022-11-02T12:06:33.184Z"
   },
   {
    "duration": 121,
    "start_time": "2022-11-02T12:06:37.616Z"
   },
   {
    "duration": 135,
    "start_time": "2022-11-02T12:06:43.563Z"
   },
   {
    "duration": 77,
    "start_time": "2022-11-02T12:32:59.613Z"
   },
   {
    "duration": 72,
    "start_time": "2022-11-02T12:33:04.044Z"
   },
   {
    "duration": 94,
    "start_time": "2022-11-02T12:33:28.035Z"
   },
   {
    "duration": 103,
    "start_time": "2022-11-02T12:34:02.011Z"
   },
   {
    "duration": 10,
    "start_time": "2022-11-02T12:34:22.354Z"
   },
   {
    "duration": 6,
    "start_time": "2022-11-02T12:34:45.245Z"
   },
   {
    "duration": 181,
    "start_time": "2022-11-02T12:34:46.747Z"
   },
   {
    "duration": 22,
    "start_time": "2022-11-02T12:34:47.419Z"
   },
   {
    "duration": 15,
    "start_time": "2022-11-02T12:34:47.920Z"
   },
   {
    "duration": 12,
    "start_time": "2022-11-02T12:34:48.983Z"
   },
   {
    "duration": 15,
    "start_time": "2022-11-02T12:34:49.539Z"
   },
   {
    "duration": 4,
    "start_time": "2022-11-02T12:34:49.719Z"
   },
   {
    "duration": 61,
    "start_time": "2022-11-02T12:34:49.910Z"
   },
   {
    "duration": 70,
    "start_time": "2022-11-02T12:34:50.083Z"
   },
   {
    "duration": 57,
    "start_time": "2022-11-02T12:34:50.253Z"
   },
   {
    "duration": 12,
    "start_time": "2022-11-02T12:34:50.611Z"
   },
   {
    "duration": 9,
    "start_time": "2022-11-02T12:34:50.808Z"
   },
   {
    "duration": 17,
    "start_time": "2022-11-02T12:34:51.157Z"
   },
   {
    "duration": 10,
    "start_time": "2022-11-02T12:34:51.337Z"
   },
   {
    "duration": 4,
    "start_time": "2022-11-02T12:34:52.058Z"
   },
   {
    "duration": 8,
    "start_time": "2022-11-02T12:34:52.531Z"
   },
   {
    "duration": 9,
    "start_time": "2022-11-02T12:34:53.126Z"
   },
   {
    "duration": 7,
    "start_time": "2022-11-02T12:34:53.513Z"
   },
   {
    "duration": 732,
    "start_time": "2022-11-02T12:34:53.870Z"
   },
   {
    "duration": 14,
    "start_time": "2022-11-02T12:34:54.604Z"
   },
   {
    "duration": 11,
    "start_time": "2022-11-02T12:34:54.652Z"
   },
   {
    "duration": 7,
    "start_time": "2022-11-02T12:34:55.033Z"
   },
   {
    "duration": 8,
    "start_time": "2022-11-02T12:34:55.418Z"
   },
   {
    "duration": 15,
    "start_time": "2022-11-02T12:34:55.607Z"
   },
   {
    "duration": 13,
    "start_time": "2022-11-02T12:34:56.016Z"
   },
   {
    "duration": 10,
    "start_time": "2022-11-02T12:34:56.633Z"
   },
   {
    "duration": 31,
    "start_time": "2022-11-02T12:34:57.904Z"
   },
   {
    "duration": 66,
    "start_time": "2022-11-02T12:34:58.843Z"
   },
   {
    "duration": 11,
    "start_time": "2022-11-02T12:34:59.239Z"
   },
   {
    "duration": 257,
    "start_time": "2022-11-02T12:34:59.655Z"
   },
   {
    "duration": 17,
    "start_time": "2022-11-02T12:34:59.966Z"
   },
   {
    "duration": 10,
    "start_time": "2022-11-02T12:35:23.698Z"
   },
   {
    "duration": 10,
    "start_time": "2022-11-02T12:35:59.856Z"
   },
   {
    "duration": 10,
    "start_time": "2022-11-02T12:37:09.112Z"
   },
   {
    "duration": 1240,
    "start_time": "2022-11-02T12:37:30.031Z"
   },
   {
    "duration": 1314,
    "start_time": "2022-11-02T12:38:04.762Z"
   },
   {
    "duration": 82,
    "start_time": "2022-11-02T12:39:05.027Z"
   },
   {
    "duration": 73,
    "start_time": "2022-11-02T12:41:03.727Z"
   },
   {
    "duration": 11,
    "start_time": "2022-11-02T12:41:42.912Z"
   },
   {
    "duration": 1213,
    "start_time": "2022-11-02T12:42:41.185Z"
   },
   {
    "duration": 1160,
    "start_time": "2022-11-02T12:42:58.412Z"
   },
   {
    "duration": 3,
    "start_time": "2022-11-02T12:44:27.795Z"
   },
   {
    "duration": 177,
    "start_time": "2022-11-02T12:44:28.198Z"
   },
   {
    "duration": 25,
    "start_time": "2022-11-02T12:44:29.825Z"
   },
   {
    "duration": 11,
    "start_time": "2022-11-02T12:44:30.663Z"
   },
   {
    "duration": 12,
    "start_time": "2022-11-02T12:44:32.343Z"
   },
   {
    "duration": 16,
    "start_time": "2022-11-02T12:44:33.309Z"
   },
   {
    "duration": 4,
    "start_time": "2022-11-02T12:44:33.528Z"
   },
   {
    "duration": 58,
    "start_time": "2022-11-02T12:44:33.746Z"
   },
   {
    "duration": 74,
    "start_time": "2022-11-02T12:44:33.946Z"
   },
   {
    "duration": 53,
    "start_time": "2022-11-02T12:44:34.157Z"
   },
   {
    "duration": 8,
    "start_time": "2022-11-02T12:44:34.526Z"
   },
   {
    "duration": 11,
    "start_time": "2022-11-02T12:44:34.823Z"
   },
   {
    "duration": 20,
    "start_time": "2022-11-02T12:44:35.286Z"
   },
   {
    "duration": 10,
    "start_time": "2022-11-02T12:44:35.495Z"
   },
   {
    "duration": 3,
    "start_time": "2022-11-02T12:44:36.450Z"
   },
   {
    "duration": 6,
    "start_time": "2022-11-02T12:44:36.951Z"
   },
   {
    "duration": 9,
    "start_time": "2022-11-02T12:44:37.392Z"
   },
   {
    "duration": 7,
    "start_time": "2022-11-02T12:44:37.830Z"
   },
   {
    "duration": 1017,
    "start_time": "2022-11-02T12:44:38.229Z"
   },
   {
    "duration": 16,
    "start_time": "2022-11-02T12:44:39.249Z"
   },
   {
    "duration": 11,
    "start_time": "2022-11-02T12:44:40.046Z"
   },
   {
    "duration": 7,
    "start_time": "2022-11-02T12:44:40.739Z"
   },
   {
    "duration": 11,
    "start_time": "2022-11-02T12:44:41.467Z"
   },
   {
    "duration": 18,
    "start_time": "2022-11-02T12:44:41.818Z"
   },
   {
    "duration": 13,
    "start_time": "2022-11-02T12:44:42.238Z"
   },
   {
    "duration": 12,
    "start_time": "2022-11-02T12:44:42.881Z"
   },
   {
    "duration": 28,
    "start_time": "2022-11-02T12:44:44.414Z"
   },
   {
    "duration": 63,
    "start_time": "2022-11-02T12:44:45.430Z"
   },
   {
    "duration": 12,
    "start_time": "2022-11-02T12:44:46.298Z"
   },
   {
    "duration": 121,
    "start_time": "2022-11-02T12:44:46.660Z"
   },
   {
    "duration": 1159,
    "start_time": "2022-11-02T12:44:47.182Z"
   },
   {
    "duration": 1344,
    "start_time": "2022-11-02T12:45:37.752Z"
   },
   {
    "duration": 1203,
    "start_time": "2022-11-02T12:47:54.058Z"
   },
   {
    "duration": 1123,
    "start_time": "2022-11-02T12:48:39.082Z"
   },
   {
    "duration": 11,
    "start_time": "2022-11-02T12:48:56.657Z"
   },
   {
    "duration": 10,
    "start_time": "2022-11-02T12:49:35.790Z"
   },
   {
    "duration": 1200,
    "start_time": "2022-11-02T12:49:52.503Z"
   },
   {
    "duration": 1117,
    "start_time": "2022-11-02T12:52:11.025Z"
   },
   {
    "duration": 123,
    "start_time": "2022-11-02T12:52:54.236Z"
   },
   {
    "duration": 1181,
    "start_time": "2022-11-02T12:52:55.303Z"
   },
   {
    "duration": 1156,
    "start_time": "2022-11-02T12:53:35.822Z"
   },
   {
    "duration": 1347,
    "start_time": "2022-11-02T12:54:18.482Z"
   },
   {
    "duration": 1126,
    "start_time": "2022-11-02T12:54:43.256Z"
   },
   {
    "duration": 109,
    "start_time": "2022-11-02T12:55:30.974Z"
   },
   {
    "duration": 172,
    "start_time": "2022-11-02T12:55:37.946Z"
   },
   {
    "duration": 1106,
    "start_time": "2022-11-02T12:55:38.772Z"
   },
   {
    "duration": 74,
    "start_time": "2022-11-02T12:55:48.904Z"
   },
   {
    "duration": 69,
    "start_time": "2022-11-02T12:55:58.757Z"
   },
   {
    "duration": 68,
    "start_time": "2022-11-02T12:56:22.028Z"
   },
   {
    "duration": 1207,
    "start_time": "2022-11-02T12:56:26.967Z"
   },
   {
    "duration": 5,
    "start_time": "2022-11-02T13:00:40.337Z"
   },
   {
    "duration": 213,
    "start_time": "2022-11-02T13:00:41.289Z"
   },
   {
    "duration": 27,
    "start_time": "2022-11-02T13:00:41.669Z"
   },
   {
    "duration": 15,
    "start_time": "2022-11-02T13:00:41.921Z"
   },
   {
    "duration": 12,
    "start_time": "2022-11-02T13:00:42.809Z"
   },
   {
    "duration": 25,
    "start_time": "2022-11-02T13:00:43.388Z"
   },
   {
    "duration": 4,
    "start_time": "2022-11-02T13:00:43.565Z"
   },
   {
    "duration": 80,
    "start_time": "2022-11-02T13:00:43.758Z"
   },
   {
    "duration": 63,
    "start_time": "2022-11-02T13:00:43.986Z"
   },
   {
    "duration": 54,
    "start_time": "2022-11-02T13:00:44.185Z"
   },
   {
    "duration": 23,
    "start_time": "2022-11-02T13:00:44.576Z"
   },
   {
    "duration": 10,
    "start_time": "2022-11-02T13:00:44.798Z"
   },
   {
    "duration": 24,
    "start_time": "2022-11-02T13:00:45.339Z"
   },
   {
    "duration": 12,
    "start_time": "2022-11-02T13:00:45.550Z"
   },
   {
    "duration": 5,
    "start_time": "2022-11-02T13:00:46.351Z"
   },
   {
    "duration": 8,
    "start_time": "2022-11-02T13:00:46.756Z"
   },
   {
    "duration": 15,
    "start_time": "2022-11-02T13:00:47.150Z"
   },
   {
    "duration": 8,
    "start_time": "2022-11-02T13:00:47.546Z"
   },
   {
    "duration": 1033,
    "start_time": "2022-11-02T13:00:47.966Z"
   },
   {
    "duration": 16,
    "start_time": "2022-11-02T13:00:49.805Z"
   },
   {
    "duration": 12,
    "start_time": "2022-11-02T13:00:50.225Z"
   },
   {
    "duration": 8,
    "start_time": "2022-11-02T13:00:50.801Z"
   },
   {
    "duration": 10,
    "start_time": "2022-11-02T13:00:51.269Z"
   },
   {
    "duration": 13,
    "start_time": "2022-11-02T13:00:51.489Z"
   },
   {
    "duration": 13,
    "start_time": "2022-11-02T13:00:51.879Z"
   },
   {
    "duration": 10,
    "start_time": "2022-11-02T13:00:52.500Z"
   },
   {
    "duration": 38,
    "start_time": "2022-11-02T13:00:53.952Z"
   },
   {
    "duration": 93,
    "start_time": "2022-11-02T13:00:55.010Z"
   },
   {
    "duration": 17,
    "start_time": "2022-11-02T13:00:55.881Z"
   },
   {
    "duration": 144,
    "start_time": "2022-11-02T13:00:56.344Z"
   },
   {
    "duration": 1249,
    "start_time": "2022-11-02T13:00:56.898Z"
   },
   {
    "duration": 61,
    "start_time": "2022-11-02T13:01:19.173Z"
   },
   {
    "duration": 18,
    "start_time": "2022-11-02T13:01:20.221Z"
   },
   {
    "duration": 134,
    "start_time": "2022-11-02T13:01:20.778Z"
   },
   {
    "duration": 916,
    "start_time": "2022-11-02T13:08:03.008Z"
   },
   {
    "duration": 59,
    "start_time": "2022-11-02T13:10:10.131Z"
   },
   {
    "duration": 181,
    "start_time": "2022-11-02T13:11:12.233Z"
   },
   {
    "duration": 61,
    "start_time": "2022-11-02T13:11:22.359Z"
   },
   {
    "duration": 13,
    "start_time": "2022-11-02T13:11:39.434Z"
   },
   {
    "duration": 180,
    "start_time": "2022-11-02T13:11:43.351Z"
   },
   {
    "duration": 48,
    "start_time": "2022-11-02T13:12:12.027Z"
   },
   {
    "duration": 19,
    "start_time": "2022-11-02T14:22:34.206Z"
   },
   {
    "duration": 87,
    "start_time": "2022-11-02T14:26:08.777Z"
   },
   {
    "duration": 82,
    "start_time": "2022-11-02T14:26:28.289Z"
   },
   {
    "duration": 74,
    "start_time": "2022-11-02T14:26:34.255Z"
   },
   {
    "duration": 70,
    "start_time": "2022-11-02T14:27:03.261Z"
   },
   {
    "duration": 18,
    "start_time": "2022-11-02T14:27:21.006Z"
   },
   {
    "duration": 117,
    "start_time": "2022-11-02T14:28:58.456Z"
   },
   {
    "duration": 1420,
    "start_time": "2022-11-02T14:30:29.855Z"
   },
   {
    "duration": 1259,
    "start_time": "2022-11-02T14:31:03.075Z"
   },
   {
    "duration": 11,
    "start_time": "2022-11-02T14:31:16.017Z"
   },
   {
    "duration": 1230,
    "start_time": "2022-11-02T14:31:45.338Z"
   },
   {
    "duration": 13,
    "start_time": "2022-11-02T14:31:51.795Z"
   },
   {
    "duration": 1270,
    "start_time": "2022-11-02T14:32:46.182Z"
   },
   {
    "duration": 11,
    "start_time": "2022-11-02T14:32:57.115Z"
   },
   {
    "duration": 13,
    "start_time": "2022-11-02T14:33:31.645Z"
   },
   {
    "duration": 12,
    "start_time": "2022-11-02T14:33:38.478Z"
   },
   {
    "duration": 1282,
    "start_time": "2022-11-02T14:34:23.625Z"
   },
   {
    "duration": 1216,
    "start_time": "2022-11-03T08:31:49.178Z"
   },
   {
    "duration": 765,
    "start_time": "2022-11-03T08:31:55.741Z"
   },
   {
    "duration": 23,
    "start_time": "2022-11-03T08:31:58.020Z"
   },
   {
    "duration": 14,
    "start_time": "2022-11-03T08:31:58.559Z"
   },
   {
    "duration": 14,
    "start_time": "2022-11-03T08:32:00.437Z"
   },
   {
    "duration": 16,
    "start_time": "2022-11-03T08:32:01.693Z"
   },
   {
    "duration": 5,
    "start_time": "2022-11-03T08:32:02.052Z"
   },
   {
    "duration": 75,
    "start_time": "2022-11-03T08:32:02.419Z"
   },
   {
    "duration": 79,
    "start_time": "2022-11-03T08:32:02.768Z"
   },
   {
    "duration": 61,
    "start_time": "2022-11-03T08:32:03.294Z"
   },
   {
    "duration": 11,
    "start_time": "2022-11-03T08:32:04.094Z"
   },
   {
    "duration": 9,
    "start_time": "2022-11-03T08:32:04.502Z"
   },
   {
    "duration": 16,
    "start_time": "2022-11-03T08:32:05.537Z"
   },
   {
    "duration": 11,
    "start_time": "2022-11-03T08:32:06.004Z"
   },
   {
    "duration": 4,
    "start_time": "2022-11-03T08:32:07.510Z"
   },
   {
    "duration": 5,
    "start_time": "2022-11-03T08:32:07.999Z"
   },
   {
    "duration": 11,
    "start_time": "2022-11-03T08:32:08.794Z"
   },
   {
    "duration": 7,
    "start_time": "2022-11-03T08:32:09.791Z"
   },
   {
    "duration": 1033,
    "start_time": "2022-11-03T08:32:10.635Z"
   },
   {
    "duration": 20,
    "start_time": "2022-11-03T08:32:12.361Z"
   },
   {
    "duration": 12,
    "start_time": "2022-11-03T08:32:12.810Z"
   },
   {
    "duration": 7,
    "start_time": "2022-11-03T08:32:13.763Z"
   },
   {
    "duration": 14,
    "start_time": "2022-11-03T08:32:23.460Z"
   },
   {
    "duration": 13,
    "start_time": "2022-11-03T08:32:23.938Z"
   },
   {
    "duration": 14,
    "start_time": "2022-11-03T08:32:25.444Z"
   },
   {
    "duration": 12,
    "start_time": "2022-11-03T08:32:28.648Z"
   },
   {
    "duration": 39,
    "start_time": "2022-11-03T08:32:31.805Z"
   },
   {
    "duration": 65,
    "start_time": "2022-11-03T08:32:35.395Z"
   },
   {
    "duration": 13,
    "start_time": "2022-11-03T08:32:36.613Z"
   },
   {
    "duration": 98,
    "start_time": "2022-11-03T10:31:52.129Z"
   },
   {
    "duration": 66,
    "start_time": "2022-11-03T11:02:41.646Z"
   },
   {
    "duration": 14,
    "start_time": "2022-11-03T11:02:58.267Z"
   },
   {
    "duration": 14,
    "start_time": "2022-11-03T11:03:28.073Z"
   },
   {
    "duration": 124,
    "start_time": "2022-11-03T11:03:29.041Z"
   },
   {
    "duration": 122,
    "start_time": "2022-11-03T11:03:37.502Z"
   },
   {
    "duration": 68,
    "start_time": "2022-11-03T11:03:45.499Z"
   },
   {
    "duration": 117,
    "start_time": "2022-11-03T11:04:53.827Z"
   },
   {
    "duration": 3,
    "start_time": "2022-11-03T11:05:24.113Z"
   },
   {
    "duration": 231,
    "start_time": "2022-11-03T11:05:24.553Z"
   },
   {
    "duration": 25,
    "start_time": "2022-11-03T11:05:25.085Z"
   },
   {
    "duration": 11,
    "start_time": "2022-11-03T11:05:25.470Z"
   },
   {
    "duration": 11,
    "start_time": "2022-11-03T11:05:26.839Z"
   },
   {
    "duration": 23,
    "start_time": "2022-11-03T11:05:27.937Z"
   },
   {
    "duration": 4,
    "start_time": "2022-11-03T11:05:28.385Z"
   },
   {
    "duration": 55,
    "start_time": "2022-11-03T11:05:28.821Z"
   },
   {
    "duration": 68,
    "start_time": "2022-11-03T11:05:29.113Z"
   },
   {
    "duration": 54,
    "start_time": "2022-11-03T11:05:29.518Z"
   },
   {
    "duration": 9,
    "start_time": "2022-11-03T11:05:30.212Z"
   },
   {
    "duration": 9,
    "start_time": "2022-11-03T11:05:30.497Z"
   },
   {
    "duration": 23,
    "start_time": "2022-11-03T11:05:31.212Z"
   },
   {
    "duration": 11,
    "start_time": "2022-11-03T11:05:31.563Z"
   },
   {
    "duration": 4,
    "start_time": "2022-11-03T11:05:32.897Z"
   },
   {
    "duration": 7,
    "start_time": "2022-11-03T11:05:33.554Z"
   },
   {
    "duration": 11,
    "start_time": "2022-11-03T11:05:34.313Z"
   },
   {
    "duration": 7,
    "start_time": "2022-11-03T11:05:35.519Z"
   },
   {
    "duration": 913,
    "start_time": "2022-11-03T11:05:35.741Z"
   },
   {
    "duration": 16,
    "start_time": "2022-11-03T11:05:38.135Z"
   },
   {
    "duration": 11,
    "start_time": "2022-11-03T11:05:38.563Z"
   },
   {
    "duration": 6,
    "start_time": "2022-11-03T11:05:39.548Z"
   },
   {
    "duration": 10,
    "start_time": "2022-11-03T11:05:40.776Z"
   },
   {
    "duration": 21,
    "start_time": "2022-11-03T11:05:41.403Z"
   },
   {
    "duration": 13,
    "start_time": "2022-11-03T11:05:42.397Z"
   },
   {
    "duration": 11,
    "start_time": "2022-11-03T11:05:44.472Z"
   },
   {
    "duration": 28,
    "start_time": "2022-11-03T11:05:46.687Z"
   },
   {
    "duration": 64,
    "start_time": "2022-11-03T11:05:51.033Z"
   },
   {
    "duration": 13,
    "start_time": "2022-11-03T11:05:52.777Z"
   },
   {
    "duration": 128,
    "start_time": "2022-11-03T11:05:53.289Z"
   },
   {
    "duration": 12,
    "start_time": "2022-11-03T11:05:55.967Z"
   },
   {
    "duration": 1171,
    "start_time": "2022-11-03T11:06:10.533Z"
   },
   {
    "duration": 301,
    "start_time": "2022-11-03T11:06:11.707Z"
   },
   {
    "duration": 24,
    "start_time": "2022-11-03T11:06:12.010Z"
   },
   {
    "duration": 18,
    "start_time": "2022-11-03T11:06:12.037Z"
   },
   {
    "duration": 23,
    "start_time": "2022-11-03T11:06:12.057Z"
   },
   {
    "duration": 15,
    "start_time": "2022-11-03T11:06:12.082Z"
   },
   {
    "duration": 34,
    "start_time": "2022-11-03T11:06:12.099Z"
   },
   {
    "duration": 102,
    "start_time": "2022-11-03T11:06:12.135Z"
   },
   {
    "duration": 113,
    "start_time": "2022-11-03T11:06:12.238Z"
   },
   {
    "duration": 78,
    "start_time": "2022-11-03T11:06:12.354Z"
   },
   {
    "duration": 12,
    "start_time": "2022-11-03T11:06:12.433Z"
   },
   {
    "duration": 12,
    "start_time": "2022-11-03T11:06:12.447Z"
   },
   {
    "duration": 18,
    "start_time": "2022-11-03T11:06:12.461Z"
   },
   {
    "duration": 12,
    "start_time": "2022-11-03T11:06:12.481Z"
   },
   {
    "duration": 41,
    "start_time": "2022-11-03T11:06:12.495Z"
   },
   {
    "duration": 8,
    "start_time": "2022-11-03T11:06:12.538Z"
   },
   {
    "duration": 14,
    "start_time": "2022-11-03T11:06:12.548Z"
   },
   {
    "duration": 6,
    "start_time": "2022-11-03T11:06:12.564Z"
   },
   {
    "duration": 898,
    "start_time": "2022-11-03T11:06:12.572Z"
   },
   {
    "duration": 15,
    "start_time": "2022-11-03T11:06:13.472Z"
   },
   {
    "duration": 10,
    "start_time": "2022-11-03T11:06:13.489Z"
   },
   {
    "duration": 33,
    "start_time": "2022-11-03T11:06:13.501Z"
   },
   {
    "duration": 13,
    "start_time": "2022-11-03T11:06:13.537Z"
   },
   {
    "duration": 14,
    "start_time": "2022-11-03T11:06:13.552Z"
   },
   {
    "duration": 12,
    "start_time": "2022-11-03T11:06:13.568Z"
   },
   {
    "duration": 9,
    "start_time": "2022-11-03T11:06:13.582Z"
   },
   {
    "duration": 64,
    "start_time": "2022-11-03T11:06:13.592Z"
   },
   {
    "duration": 165,
    "start_time": "2022-11-03T11:06:13.660Z"
   },
   {
    "duration": 0,
    "start_time": "2022-11-03T11:06:13.827Z"
   },
   {
    "duration": 0,
    "start_time": "2022-11-03T11:06:13.831Z"
   },
   {
    "duration": 0,
    "start_time": "2022-11-03T11:06:13.833Z"
   },
   {
    "duration": 13,
    "start_time": "2022-11-03T11:06:21.365Z"
   },
   {
    "duration": 58,
    "start_time": "2022-11-03T11:07:52.559Z"
   },
   {
    "duration": 14,
    "start_time": "2022-11-03T11:07:53.857Z"
   },
   {
    "duration": 140,
    "start_time": "2022-11-03T11:07:54.393Z"
   },
   {
    "duration": 39,
    "start_time": "2022-11-03T11:07:55.975Z"
   },
   {
    "duration": 32,
    "start_time": "2022-11-03T11:08:09.088Z"
   },
   {
    "duration": 29,
    "start_time": "2022-11-03T11:08:43.481Z"
   },
   {
    "duration": 41,
    "start_time": "2022-11-03T11:08:53.898Z"
   },
   {
    "duration": 35,
    "start_time": "2022-11-03T11:09:00.549Z"
   },
   {
    "duration": 28,
    "start_time": "2022-11-03T11:09:13.752Z"
   },
   {
    "duration": 118,
    "start_time": "2022-11-03T11:09:22.924Z"
   },
   {
    "duration": 74,
    "start_time": "2022-11-03T11:09:29.532Z"
   },
   {
    "duration": 16,
    "start_time": "2022-11-03T11:09:47.967Z"
   },
   {
    "duration": 11,
    "start_time": "2022-11-03T11:10:20.836Z"
   },
   {
    "duration": 39,
    "start_time": "2022-11-03T11:10:28.197Z"
   },
   {
    "duration": 8,
    "start_time": "2022-11-03T11:11:27.659Z"
   },
   {
    "duration": 47,
    "start_time": "2022-11-03T11:11:33.345Z"
   },
   {
    "duration": 9,
    "start_time": "2022-11-03T11:11:37.726Z"
   },
   {
    "duration": 8,
    "start_time": "2022-11-03T11:11:43.968Z"
   },
   {
    "duration": 1144,
    "start_time": "2022-11-03T11:11:55.654Z"
   },
   {
    "duration": 264,
    "start_time": "2022-11-03T11:11:56.800Z"
   },
   {
    "duration": 32,
    "start_time": "2022-11-03T11:11:57.067Z"
   },
   {
    "duration": 16,
    "start_time": "2022-11-03T11:11:57.101Z"
   },
   {
    "duration": 39,
    "start_time": "2022-11-03T11:11:57.118Z"
   },
   {
    "duration": 17,
    "start_time": "2022-11-03T11:11:57.158Z"
   },
   {
    "duration": 4,
    "start_time": "2022-11-03T11:11:57.177Z"
   },
   {
    "duration": 93,
    "start_time": "2022-11-03T11:11:57.183Z"
   },
   {
    "duration": 90,
    "start_time": "2022-11-03T11:11:57.278Z"
   },
   {
    "duration": 72,
    "start_time": "2022-11-03T11:11:57.370Z"
   },
   {
    "duration": 12,
    "start_time": "2022-11-03T11:11:57.444Z"
   },
   {
    "duration": 10,
    "start_time": "2022-11-03T11:11:57.458Z"
   },
   {
    "duration": 25,
    "start_time": "2022-11-03T11:11:57.470Z"
   },
   {
    "duration": 34,
    "start_time": "2022-11-03T11:11:57.497Z"
   },
   {
    "duration": 4,
    "start_time": "2022-11-03T11:11:57.532Z"
   },
   {
    "duration": 7,
    "start_time": "2022-11-03T11:11:57.539Z"
   },
   {
    "duration": 12,
    "start_time": "2022-11-03T11:11:57.548Z"
   },
   {
    "duration": 7,
    "start_time": "2022-11-03T11:11:57.561Z"
   },
   {
    "duration": 1054,
    "start_time": "2022-11-03T11:11:57.571Z"
   },
   {
    "duration": 21,
    "start_time": "2022-11-03T11:11:58.631Z"
   },
   {
    "duration": 14,
    "start_time": "2022-11-03T11:11:58.654Z"
   },
   {
    "duration": 23,
    "start_time": "2022-11-03T11:11:58.670Z"
   },
   {
    "duration": 24,
    "start_time": "2022-11-03T11:11:58.694Z"
   },
   {
    "duration": 31,
    "start_time": "2022-11-03T11:11:58.721Z"
   },
   {
    "duration": 18,
    "start_time": "2022-11-03T11:11:58.754Z"
   },
   {
    "duration": 10,
    "start_time": "2022-11-03T11:11:58.774Z"
   },
   {
    "duration": 50,
    "start_time": "2022-11-03T11:11:58.786Z"
   },
   {
    "duration": 62,
    "start_time": "2022-11-03T11:11:58.841Z"
   },
   {
    "duration": 34,
    "start_time": "2022-11-03T11:11:58.905Z"
   },
   {
    "duration": 159,
    "start_time": "2022-11-03T11:11:58.941Z"
   },
   {
    "duration": 9,
    "start_time": "2022-11-03T11:11:59.102Z"
   },
   {
    "duration": 15,
    "start_time": "2022-11-03T11:12:16.065Z"
   },
   {
    "duration": 9,
    "start_time": "2022-11-03T11:15:00.979Z"
   },
   {
    "duration": 8,
    "start_time": "2022-11-03T11:15:50.370Z"
   },
   {
    "duration": 106,
    "start_time": "2022-11-03T11:17:42.981Z"
   },
   {
    "duration": 16,
    "start_time": "2022-11-03T11:17:56.268Z"
   },
   {
    "duration": 15,
    "start_time": "2022-11-03T11:18:12.799Z"
   },
   {
    "duration": 9,
    "start_time": "2022-11-03T11:21:51.845Z"
   },
   {
    "duration": 36,
    "start_time": "2022-11-03T11:22:01.233Z"
   },
   {
    "duration": 4,
    "start_time": "2022-11-03T11:22:23.622Z"
   },
   {
    "duration": 9,
    "start_time": "2022-11-03T11:22:37.422Z"
   },
   {
    "duration": 10,
    "start_time": "2022-11-03T11:22:47.536Z"
   },
   {
    "duration": 8,
    "start_time": "2022-11-03T11:22:54.938Z"
   },
   {
    "duration": 1117,
    "start_time": "2022-11-03T11:23:14.606Z"
   },
   {
    "duration": 243,
    "start_time": "2022-11-03T11:23:15.725Z"
   },
   {
    "duration": 21,
    "start_time": "2022-11-03T11:23:15.970Z"
   },
   {
    "duration": 15,
    "start_time": "2022-11-03T11:23:15.993Z"
   },
   {
    "duration": 34,
    "start_time": "2022-11-03T11:23:16.011Z"
   },
   {
    "duration": 15,
    "start_time": "2022-11-03T11:23:16.047Z"
   },
   {
    "duration": 4,
    "start_time": "2022-11-03T11:23:16.065Z"
   },
   {
    "duration": 96,
    "start_time": "2022-11-03T11:23:16.071Z"
   },
   {
    "duration": 88,
    "start_time": "2022-11-03T11:23:16.169Z"
   },
   {
    "duration": 74,
    "start_time": "2022-11-03T11:23:16.259Z"
   },
   {
    "duration": 10,
    "start_time": "2022-11-03T11:23:16.335Z"
   },
   {
    "duration": 11,
    "start_time": "2022-11-03T11:23:16.347Z"
   },
   {
    "duration": 16,
    "start_time": "2022-11-03T11:23:16.360Z"
   },
   {
    "duration": 12,
    "start_time": "2022-11-03T11:23:16.379Z"
   },
   {
    "duration": 6,
    "start_time": "2022-11-03T11:23:16.392Z"
   },
   {
    "duration": 6,
    "start_time": "2022-11-03T11:23:16.432Z"
   },
   {
    "duration": 11,
    "start_time": "2022-11-03T11:23:16.440Z"
   },
   {
    "duration": 6,
    "start_time": "2022-11-03T11:23:16.452Z"
   },
   {
    "duration": 888,
    "start_time": "2022-11-03T11:23:16.460Z"
   },
   {
    "duration": 15,
    "start_time": "2022-11-03T11:23:17.350Z"
   },
   {
    "duration": 9,
    "start_time": "2022-11-03T11:23:17.367Z"
   },
   {
    "duration": 9,
    "start_time": "2022-11-03T11:23:17.377Z"
   },
   {
    "duration": 10,
    "start_time": "2022-11-03T11:23:17.388Z"
   },
   {
    "duration": 50,
    "start_time": "2022-11-03T11:23:17.399Z"
   },
   {
    "duration": 17,
    "start_time": "2022-11-03T11:23:17.452Z"
   },
   {
    "duration": 11,
    "start_time": "2022-11-03T11:23:17.471Z"
   },
   {
    "duration": 62,
    "start_time": "2022-11-03T11:23:17.484Z"
   },
   {
    "duration": 56,
    "start_time": "2022-11-03T11:23:17.547Z"
   },
   {
    "duration": 28,
    "start_time": "2022-11-03T11:23:17.605Z"
   },
   {
    "duration": 141,
    "start_time": "2022-11-03T11:23:17.635Z"
   },
   {
    "duration": 12,
    "start_time": "2022-11-03T11:23:17.778Z"
   },
   {
    "duration": 10,
    "start_time": "2022-11-03T11:23:27.688Z"
   },
   {
    "duration": 1247,
    "start_time": "2022-11-03T11:23:34.196Z"
   },
   {
    "duration": 249,
    "start_time": "2022-11-03T11:23:35.445Z"
   },
   {
    "duration": 22,
    "start_time": "2022-11-03T11:23:35.695Z"
   },
   {
    "duration": 23,
    "start_time": "2022-11-03T11:23:35.719Z"
   },
   {
    "duration": 14,
    "start_time": "2022-11-03T11:23:35.744Z"
   },
   {
    "duration": 21,
    "start_time": "2022-11-03T11:23:35.760Z"
   },
   {
    "duration": 4,
    "start_time": "2022-11-03T11:23:35.783Z"
   },
   {
    "duration": 95,
    "start_time": "2022-11-03T11:23:35.788Z"
   },
   {
    "duration": 85,
    "start_time": "2022-11-03T11:23:35.885Z"
   },
   {
    "duration": 67,
    "start_time": "2022-11-03T11:23:35.972Z"
   },
   {
    "duration": 10,
    "start_time": "2022-11-03T11:23:36.041Z"
   },
   {
    "duration": 11,
    "start_time": "2022-11-03T11:23:36.053Z"
   },
   {
    "duration": 20,
    "start_time": "2022-11-03T11:23:36.066Z"
   },
   {
    "duration": 9,
    "start_time": "2022-11-03T11:23:36.088Z"
   },
   {
    "duration": 5,
    "start_time": "2022-11-03T11:23:36.099Z"
   },
   {
    "duration": 5,
    "start_time": "2022-11-03T11:23:36.132Z"
   },
   {
    "duration": 18,
    "start_time": "2022-11-03T11:23:36.139Z"
   },
   {
    "duration": 15,
    "start_time": "2022-11-03T11:23:36.159Z"
   },
   {
    "duration": 832,
    "start_time": "2022-11-03T11:23:36.175Z"
   },
   {
    "duration": 28,
    "start_time": "2022-11-03T11:23:37.008Z"
   },
   {
    "duration": 12,
    "start_time": "2022-11-03T11:23:37.038Z"
   },
   {
    "duration": 9,
    "start_time": "2022-11-03T11:23:37.052Z"
   },
   {
    "duration": 10,
    "start_time": "2022-11-03T11:23:37.063Z"
   },
   {
    "duration": 12,
    "start_time": "2022-11-03T11:23:37.075Z"
   },
   {
    "duration": 12,
    "start_time": "2022-11-03T11:23:37.089Z"
   },
   {
    "duration": 9,
    "start_time": "2022-11-03T11:23:37.133Z"
   },
   {
    "duration": 33,
    "start_time": "2022-11-03T11:23:37.144Z"
   },
   {
    "duration": 79,
    "start_time": "2022-11-03T11:23:37.179Z"
   },
   {
    "duration": 13,
    "start_time": "2022-11-03T11:23:37.259Z"
   },
   {
    "duration": 136,
    "start_time": "2022-11-03T11:23:37.274Z"
   },
   {
    "duration": 21,
    "start_time": "2022-11-03T11:23:37.412Z"
   },
   {
    "duration": 9,
    "start_time": "2022-11-03T11:23:59.923Z"
   },
   {
    "duration": 1101,
    "start_time": "2022-11-03T11:24:05.930Z"
   },
   {
    "duration": 220,
    "start_time": "2022-11-03T11:24:07.034Z"
   },
   {
    "duration": 25,
    "start_time": "2022-11-03T11:24:07.255Z"
   },
   {
    "duration": 16,
    "start_time": "2022-11-03T11:24:07.282Z"
   },
   {
    "duration": 32,
    "start_time": "2022-11-03T11:24:07.300Z"
   },
   {
    "duration": 15,
    "start_time": "2022-11-03T11:24:07.334Z"
   },
   {
    "duration": 6,
    "start_time": "2022-11-03T11:24:07.350Z"
   },
   {
    "duration": 92,
    "start_time": "2022-11-03T11:24:07.358Z"
   },
   {
    "duration": 96,
    "start_time": "2022-11-03T11:24:07.452Z"
   },
   {
    "duration": 64,
    "start_time": "2022-11-03T11:24:07.551Z"
   },
   {
    "duration": 21,
    "start_time": "2022-11-03T11:24:07.617Z"
   },
   {
    "duration": 28,
    "start_time": "2022-11-03T11:24:07.640Z"
   },
   {
    "duration": 39,
    "start_time": "2022-11-03T11:24:07.670Z"
   },
   {
    "duration": 14,
    "start_time": "2022-11-03T11:24:07.711Z"
   },
   {
    "duration": 30,
    "start_time": "2022-11-03T11:24:07.727Z"
   },
   {
    "duration": 39,
    "start_time": "2022-11-03T11:24:07.759Z"
   },
   {
    "duration": 31,
    "start_time": "2022-11-03T11:24:07.800Z"
   },
   {
    "duration": 15,
    "start_time": "2022-11-03T11:24:07.834Z"
   },
   {
    "duration": 948,
    "start_time": "2022-11-03T11:24:07.851Z"
   },
   {
    "duration": 31,
    "start_time": "2022-11-03T11:24:08.801Z"
   },
   {
    "duration": 10,
    "start_time": "2022-11-03T11:24:08.834Z"
   },
   {
    "duration": 30,
    "start_time": "2022-11-03T11:24:08.845Z"
   },
   {
    "duration": 37,
    "start_time": "2022-11-03T11:24:08.877Z"
   },
   {
    "duration": 18,
    "start_time": "2022-11-03T11:24:08.915Z"
   },
   {
    "duration": 27,
    "start_time": "2022-11-03T11:24:08.935Z"
   },
   {
    "duration": 19,
    "start_time": "2022-11-03T11:24:08.963Z"
   },
   {
    "duration": 75,
    "start_time": "2022-11-03T11:24:08.984Z"
   },
   {
    "duration": 80,
    "start_time": "2022-11-03T11:24:09.062Z"
   },
   {
    "duration": 11,
    "start_time": "2022-11-03T11:24:09.144Z"
   },
   {
    "duration": 133,
    "start_time": "2022-11-03T11:24:09.157Z"
   },
   {
    "duration": 10,
    "start_time": "2022-11-03T11:24:09.292Z"
   },
   {
    "duration": 9,
    "start_time": "2022-11-03T11:24:24.830Z"
   },
   {
    "duration": 1063,
    "start_time": "2022-11-03T11:24:33.827Z"
   },
   {
    "duration": 236,
    "start_time": "2022-11-03T11:24:34.892Z"
   },
   {
    "duration": 24,
    "start_time": "2022-11-03T11:24:35.130Z"
   },
   {
    "duration": 15,
    "start_time": "2022-11-03T11:24:35.155Z"
   },
   {
    "duration": 17,
    "start_time": "2022-11-03T11:24:35.173Z"
   },
   {
    "duration": 46,
    "start_time": "2022-11-03T11:24:35.192Z"
   },
   {
    "duration": 4,
    "start_time": "2022-11-03T11:24:35.241Z"
   },
   {
    "duration": 90,
    "start_time": "2022-11-03T11:24:35.247Z"
   },
   {
    "duration": 92,
    "start_time": "2022-11-03T11:24:35.339Z"
   },
   {
    "duration": 59,
    "start_time": "2022-11-03T11:24:35.433Z"
   },
   {
    "duration": 10,
    "start_time": "2022-11-03T11:24:35.495Z"
   },
   {
    "duration": 31,
    "start_time": "2022-11-03T11:24:35.507Z"
   },
   {
    "duration": 17,
    "start_time": "2022-11-03T11:24:35.539Z"
   },
   {
    "duration": 9,
    "start_time": "2022-11-03T11:24:35.559Z"
   },
   {
    "duration": 5,
    "start_time": "2022-11-03T11:24:35.569Z"
   },
   {
    "duration": 8,
    "start_time": "2022-11-03T11:24:35.576Z"
   },
   {
    "duration": 10,
    "start_time": "2022-11-03T11:24:35.585Z"
   },
   {
    "duration": 36,
    "start_time": "2022-11-03T11:24:35.597Z"
   },
   {
    "duration": 816,
    "start_time": "2022-11-03T11:24:35.635Z"
   },
   {
    "duration": 16,
    "start_time": "2022-11-03T11:24:36.453Z"
   },
   {
    "duration": 10,
    "start_time": "2022-11-03T11:24:36.471Z"
   },
   {
    "duration": 9,
    "start_time": "2022-11-03T11:24:36.482Z"
   },
   {
    "duration": 40,
    "start_time": "2022-11-03T11:24:36.492Z"
   },
   {
    "duration": 13,
    "start_time": "2022-11-03T11:24:36.534Z"
   },
   {
    "duration": 14,
    "start_time": "2022-11-03T11:24:36.549Z"
   },
   {
    "duration": 10,
    "start_time": "2022-11-03T11:24:36.565Z"
   },
   {
    "duration": 58,
    "start_time": "2022-11-03T11:24:36.577Z"
   },
   {
    "duration": 65,
    "start_time": "2022-11-03T11:24:36.637Z"
   },
   {
    "duration": 29,
    "start_time": "2022-11-03T11:24:36.704Z"
   },
   {
    "duration": 125,
    "start_time": "2022-11-03T11:24:36.735Z"
   },
   {
    "duration": 10,
    "start_time": "2022-11-03T11:24:36.861Z"
   },
   {
    "duration": 1108,
    "start_time": "2022-11-03T11:25:33.219Z"
   },
   {
    "duration": 255,
    "start_time": "2022-11-03T11:25:34.331Z"
   },
   {
    "duration": 20,
    "start_time": "2022-11-03T11:25:34.591Z"
   },
   {
    "duration": 42,
    "start_time": "2022-11-03T11:25:34.614Z"
   },
   {
    "duration": 40,
    "start_time": "2022-11-03T11:25:34.658Z"
   },
   {
    "duration": 25,
    "start_time": "2022-11-03T11:25:34.700Z"
   },
   {
    "duration": 13,
    "start_time": "2022-11-03T11:25:34.727Z"
   },
   {
    "duration": 89,
    "start_time": "2022-11-03T11:25:34.742Z"
   },
   {
    "duration": 84,
    "start_time": "2022-11-03T11:25:34.833Z"
   },
   {
    "duration": 83,
    "start_time": "2022-11-03T11:25:34.919Z"
   },
   {
    "duration": 29,
    "start_time": "2022-11-03T11:25:35.003Z"
   },
   {
    "duration": 19,
    "start_time": "2022-11-03T11:25:35.034Z"
   },
   {
    "duration": 45,
    "start_time": "2022-11-03T11:25:35.055Z"
   },
   {
    "duration": 9,
    "start_time": "2022-11-03T11:25:35.103Z"
   },
   {
    "duration": 31,
    "start_time": "2022-11-03T11:25:35.114Z"
   },
   {
    "duration": 22,
    "start_time": "2022-11-03T11:25:35.147Z"
   },
   {
    "duration": 33,
    "start_time": "2022-11-03T11:25:35.171Z"
   },
   {
    "duration": 21,
    "start_time": "2022-11-03T11:25:35.206Z"
   },
   {
    "duration": 954,
    "start_time": "2022-11-03T11:25:35.229Z"
   },
   {
    "duration": 15,
    "start_time": "2022-11-03T11:25:36.185Z"
   },
   {
    "duration": 10,
    "start_time": "2022-11-03T11:25:36.202Z"
   },
   {
    "duration": 6,
    "start_time": "2022-11-03T11:25:36.232Z"
   },
   {
    "duration": 21,
    "start_time": "2022-11-03T11:25:36.239Z"
   },
   {
    "duration": 15,
    "start_time": "2022-11-03T11:25:36.263Z"
   },
   {
    "duration": 12,
    "start_time": "2022-11-03T11:25:36.280Z"
   },
   {
    "duration": 41,
    "start_time": "2022-11-03T11:25:36.294Z"
   },
   {
    "duration": 36,
    "start_time": "2022-11-03T11:25:36.338Z"
   },
   {
    "duration": 83,
    "start_time": "2022-11-03T11:25:36.376Z"
   },
   {
    "duration": 12,
    "start_time": "2022-11-03T11:25:36.461Z"
   },
   {
    "duration": 131,
    "start_time": "2022-11-03T11:25:36.475Z"
   },
   {
    "duration": 10,
    "start_time": "2022-11-03T11:25:36.608Z"
   },
   {
    "duration": 10,
    "start_time": "2022-11-03T11:26:32.105Z"
   },
   {
    "duration": 6,
    "start_time": "2022-11-03T12:17:11.019Z"
   },
   {
    "duration": 5,
    "start_time": "2022-11-03T12:17:30.257Z"
   },
   {
    "duration": 6,
    "start_time": "2022-11-03T12:18:00.605Z"
   },
   {
    "duration": 11,
    "start_time": "2022-11-03T12:18:19.452Z"
   },
   {
    "duration": 83,
    "start_time": "2022-11-03T12:20:31.920Z"
   },
   {
    "duration": 4,
    "start_time": "2022-11-03T12:20:37.092Z"
   },
   {
    "duration": 4,
    "start_time": "2022-11-03T12:24:10.552Z"
   },
   {
    "duration": 182,
    "start_time": "2022-11-03T12:24:11.590Z"
   },
   {
    "duration": 19,
    "start_time": "2022-11-03T12:24:12.051Z"
   },
   {
    "duration": 14,
    "start_time": "2022-11-03T12:24:12.251Z"
   },
   {
    "duration": 11,
    "start_time": "2022-11-03T12:24:13.389Z"
   },
   {
    "duration": 19,
    "start_time": "2022-11-03T12:24:14.523Z"
   },
   {
    "duration": 4,
    "start_time": "2022-11-03T12:24:14.719Z"
   },
   {
    "duration": 80,
    "start_time": "2022-11-03T12:24:14.922Z"
   },
   {
    "duration": 75,
    "start_time": "2022-11-03T12:24:15.124Z"
   },
   {
    "duration": 73,
    "start_time": "2022-11-03T12:24:15.335Z"
   },
   {
    "duration": 12,
    "start_time": "2022-11-03T12:24:15.803Z"
   },
   {
    "duration": 9,
    "start_time": "2022-11-03T12:24:16.106Z"
   },
   {
    "duration": 16,
    "start_time": "2022-11-03T12:24:16.683Z"
   },
   {
    "duration": 9,
    "start_time": "2022-11-03T12:24:16.879Z"
   },
   {
    "duration": 4,
    "start_time": "2022-11-03T12:24:17.671Z"
   },
   {
    "duration": 9,
    "start_time": "2022-11-03T12:24:18.060Z"
   },
   {
    "duration": 10,
    "start_time": "2022-11-03T12:24:18.446Z"
   },
   {
    "duration": 8,
    "start_time": "2022-11-03T12:24:18.861Z"
   },
   {
    "duration": 867,
    "start_time": "2022-11-03T12:24:19.263Z"
   },
   {
    "duration": 13,
    "start_time": "2022-11-03T12:24:20.133Z"
   },
   {
    "duration": 22,
    "start_time": "2022-11-03T12:24:20.148Z"
   },
   {
    "duration": 7,
    "start_time": "2022-11-03T12:24:20.415Z"
   },
   {
    "duration": 10,
    "start_time": "2022-11-03T12:24:21.315Z"
   },
   {
    "duration": 13,
    "start_time": "2022-11-03T12:24:21.583Z"
   },
   {
    "duration": 12,
    "start_time": "2022-11-03T12:24:21.987Z"
   },
   {
    "duration": 10,
    "start_time": "2022-11-03T12:24:22.624Z"
   },
   {
    "duration": 27,
    "start_time": "2022-11-03T12:24:24.262Z"
   },
   {
    "duration": 61,
    "start_time": "2022-11-03T12:24:25.183Z"
   },
   {
    "duration": 11,
    "start_time": "2022-11-03T12:24:25.777Z"
   },
   {
    "duration": 130,
    "start_time": "2022-11-03T12:24:26.101Z"
   },
   {
    "duration": 10,
    "start_time": "2022-11-03T12:24:26.865Z"
   },
   {
    "duration": 5,
    "start_time": "2022-11-03T12:24:27.309Z"
   },
   {
    "duration": 67,
    "start_time": "2022-11-03T12:24:46.856Z"
   },
   {
    "duration": 4,
    "start_time": "2022-11-03T12:25:38.063Z"
   },
   {
    "duration": 5,
    "start_time": "2022-11-03T12:25:44.750Z"
   },
   {
    "duration": 8,
    "start_time": "2022-11-03T12:25:45.368Z"
   },
   {
    "duration": 4,
    "start_time": "2022-11-03T12:26:48.398Z"
   },
   {
    "duration": 160,
    "start_time": "2022-11-03T12:26:49.176Z"
   },
   {
    "duration": 4,
    "start_time": "2022-11-03T12:27:02.259Z"
   },
   {
    "duration": 186,
    "start_time": "2022-11-03T12:27:02.759Z"
   },
   {
    "duration": 19,
    "start_time": "2022-11-03T12:27:03.111Z"
   },
   {
    "duration": 12,
    "start_time": "2022-11-03T12:27:03.304Z"
   },
   {
    "duration": 11,
    "start_time": "2022-11-03T12:27:04.149Z"
   },
   {
    "duration": 15,
    "start_time": "2022-11-03T12:27:04.956Z"
   },
   {
    "duration": 4,
    "start_time": "2022-11-03T12:27:05.225Z"
   },
   {
    "duration": 52,
    "start_time": "2022-11-03T12:27:05.509Z"
   },
   {
    "duration": 62,
    "start_time": "2022-11-03T12:27:05.718Z"
   },
   {
    "duration": 52,
    "start_time": "2022-11-03T12:27:05.919Z"
   },
   {
    "duration": 10,
    "start_time": "2022-11-03T12:27:06.301Z"
   },
   {
    "duration": 8,
    "start_time": "2022-11-03T12:27:06.479Z"
   },
   {
    "duration": 16,
    "start_time": "2022-11-03T12:27:06.890Z"
   },
   {
    "duration": 9,
    "start_time": "2022-11-03T12:27:07.115Z"
   },
   {
    "duration": 4,
    "start_time": "2022-11-03T12:27:08.092Z"
   },
   {
    "duration": 6,
    "start_time": "2022-11-03T12:27:08.529Z"
   },
   {
    "duration": 7,
    "start_time": "2022-11-03T12:27:08.975Z"
   },
   {
    "duration": 6,
    "start_time": "2022-11-03T12:27:09.354Z"
   },
   {
    "duration": 716,
    "start_time": "2022-11-03T12:27:09.727Z"
   },
   {
    "duration": 13,
    "start_time": "2022-11-03T12:27:10.488Z"
   },
   {
    "duration": 13,
    "start_time": "2022-11-03T12:27:10.715Z"
   },
   {
    "duration": 9,
    "start_time": "2022-11-03T12:27:11.447Z"
   },
   {
    "duration": 9,
    "start_time": "2022-11-03T12:27:12.079Z"
   },
   {
    "duration": 15,
    "start_time": "2022-11-03T12:27:12.283Z"
   },
   {
    "duration": 13,
    "start_time": "2022-11-03T12:27:12.668Z"
   },
   {
    "duration": 10,
    "start_time": "2022-11-03T12:27:13.209Z"
   },
   {
    "duration": 26,
    "start_time": "2022-11-03T12:27:14.548Z"
   },
   {
    "duration": 69,
    "start_time": "2022-11-03T12:27:15.331Z"
   },
   {
    "duration": 12,
    "start_time": "2022-11-03T12:27:15.718Z"
   },
   {
    "duration": 123,
    "start_time": "2022-11-03T12:27:15.922Z"
   },
   {
    "duration": 10,
    "start_time": "2022-11-03T12:27:16.586Z"
   },
   {
    "duration": 4,
    "start_time": "2022-11-03T12:27:17.251Z"
   },
   {
    "duration": 8,
    "start_time": "2022-11-03T12:28:56.083Z"
   },
   {
    "duration": 4,
    "start_time": "2022-11-03T12:29:53.497Z"
   },
   {
    "duration": 8,
    "start_time": "2022-11-03T12:29:53.719Z"
   },
   {
    "duration": 4,
    "start_time": "2022-11-03T12:30:41.397Z"
   },
   {
    "duration": 9,
    "start_time": "2022-11-03T12:30:41.553Z"
   },
   {
    "duration": 1132,
    "start_time": "2022-11-03T12:30:48.399Z"
   },
   {
    "duration": 229,
    "start_time": "2022-11-03T12:30:49.534Z"
   },
   {
    "duration": 30,
    "start_time": "2022-11-03T12:30:49.765Z"
   },
   {
    "duration": 26,
    "start_time": "2022-11-03T12:30:49.797Z"
   },
   {
    "duration": 39,
    "start_time": "2022-11-03T12:30:49.831Z"
   },
   {
    "duration": 18,
    "start_time": "2022-11-03T12:30:49.872Z"
   },
   {
    "duration": 24,
    "start_time": "2022-11-03T12:30:49.892Z"
   },
   {
    "duration": 90,
    "start_time": "2022-11-03T12:30:49.918Z"
   },
   {
    "duration": 83,
    "start_time": "2022-11-03T12:30:50.009Z"
   },
   {
    "duration": 65,
    "start_time": "2022-11-03T12:30:50.093Z"
   },
   {
    "duration": 10,
    "start_time": "2022-11-03T12:30:50.159Z"
   },
   {
    "duration": 11,
    "start_time": "2022-11-03T12:30:50.171Z"
   },
   {
    "duration": 16,
    "start_time": "2022-11-03T12:30:50.184Z"
   },
   {
    "duration": 30,
    "start_time": "2022-11-03T12:30:50.203Z"
   },
   {
    "duration": 4,
    "start_time": "2022-11-03T12:30:50.235Z"
   },
   {
    "duration": 11,
    "start_time": "2022-11-03T12:30:50.241Z"
   },
   {
    "duration": 12,
    "start_time": "2022-11-03T12:30:50.254Z"
   },
   {
    "duration": 6,
    "start_time": "2022-11-03T12:30:50.268Z"
   },
   {
    "duration": 855,
    "start_time": "2022-11-03T12:30:50.276Z"
   },
   {
    "duration": 17,
    "start_time": "2022-11-03T12:30:51.134Z"
   },
   {
    "duration": 14,
    "start_time": "2022-11-03T12:30:51.154Z"
   },
   {
    "duration": 9,
    "start_time": "2022-11-03T12:30:51.171Z"
   },
   {
    "duration": 13,
    "start_time": "2022-11-03T12:30:51.182Z"
   },
   {
    "duration": 18,
    "start_time": "2022-11-03T12:30:51.232Z"
   },
   {
    "duration": 14,
    "start_time": "2022-11-03T12:30:51.252Z"
   },
   {
    "duration": 11,
    "start_time": "2022-11-03T12:30:51.268Z"
   },
   {
    "duration": 56,
    "start_time": "2022-11-03T12:30:51.281Z"
   },
   {
    "duration": 64,
    "start_time": "2022-11-03T12:30:51.339Z"
   },
   {
    "duration": 28,
    "start_time": "2022-11-03T12:30:51.405Z"
   },
   {
    "duration": 130,
    "start_time": "2022-11-03T12:30:51.435Z"
   },
   {
    "duration": 10,
    "start_time": "2022-11-03T12:30:51.566Z"
   },
   {
    "duration": 7,
    "start_time": "2022-11-03T12:30:51.578Z"
   },
   {
    "duration": 10,
    "start_time": "2022-11-03T12:30:51.586Z"
   },
   {
    "duration": 3,
    "start_time": "2022-11-03T12:33:51.637Z"
   },
   {
    "duration": 4,
    "start_time": "2022-11-03T12:39:53.768Z"
   },
   {
    "duration": 111,
    "start_time": "2022-11-03T12:39:58.178Z"
   },
   {
    "duration": 4,
    "start_time": "2022-11-03T12:40:19.761Z"
   },
   {
    "duration": 14,
    "start_time": "2022-11-03T12:40:32.363Z"
   },
   {
    "duration": 68,
    "start_time": "2022-11-03T12:41:16.335Z"
   },
   {
    "duration": 5,
    "start_time": "2022-11-03T12:41:40.608Z"
   },
   {
    "duration": 12,
    "start_time": "2022-11-03T12:42:03.572Z"
   },
   {
    "duration": 12,
    "start_time": "2022-11-03T12:53:43.049Z"
   },
   {
    "duration": 12,
    "start_time": "2022-11-03T12:55:11.689Z"
   },
   {
    "duration": 1372,
    "start_time": "2022-11-03T12:55:20.289Z"
   },
   {
    "duration": 335,
    "start_time": "2022-11-03T12:55:21.663Z"
   },
   {
    "duration": 31,
    "start_time": "2022-11-03T12:55:22.000Z"
   },
   {
    "duration": 18,
    "start_time": "2022-11-03T12:55:22.033Z"
   },
   {
    "duration": 56,
    "start_time": "2022-11-03T12:55:22.053Z"
   },
   {
    "duration": 19,
    "start_time": "2022-11-03T12:55:22.111Z"
   },
   {
    "duration": 19,
    "start_time": "2022-11-03T12:55:22.131Z"
   },
   {
    "duration": 133,
    "start_time": "2022-11-03T12:55:22.152Z"
   },
   {
    "duration": 115,
    "start_time": "2022-11-03T12:55:22.287Z"
   },
   {
    "duration": 96,
    "start_time": "2022-11-03T12:55:22.403Z"
   },
   {
    "duration": 11,
    "start_time": "2022-11-03T12:55:22.501Z"
   },
   {
    "duration": 24,
    "start_time": "2022-11-03T12:55:22.514Z"
   },
   {
    "duration": 39,
    "start_time": "2022-11-03T12:55:22.540Z"
   },
   {
    "duration": 10,
    "start_time": "2022-11-03T12:55:22.582Z"
   },
   {
    "duration": 21,
    "start_time": "2022-11-03T12:55:22.593Z"
   },
   {
    "duration": 30,
    "start_time": "2022-11-03T12:55:22.615Z"
   },
   {
    "duration": 22,
    "start_time": "2022-11-03T12:55:22.648Z"
   },
   {
    "duration": 15,
    "start_time": "2022-11-03T12:55:22.672Z"
   },
   {
    "duration": 919,
    "start_time": "2022-11-03T12:55:22.689Z"
   },
   {
    "duration": 24,
    "start_time": "2022-11-03T12:55:23.610Z"
   },
   {
    "duration": 21,
    "start_time": "2022-11-03T12:55:23.636Z"
   },
   {
    "duration": 23,
    "start_time": "2022-11-03T12:55:23.659Z"
   },
   {
    "duration": 23,
    "start_time": "2022-11-03T12:55:23.683Z"
   },
   {
    "duration": 32,
    "start_time": "2022-11-03T12:55:23.708Z"
   },
   {
    "duration": 25,
    "start_time": "2022-11-03T12:55:23.742Z"
   },
   {
    "duration": 16,
    "start_time": "2022-11-03T12:55:23.768Z"
   },
   {
    "duration": 69,
    "start_time": "2022-11-03T12:55:23.786Z"
   },
   {
    "duration": 79,
    "start_time": "2022-11-03T12:55:23.857Z"
   },
   {
    "duration": 12,
    "start_time": "2022-11-03T12:55:23.938Z"
   },
   {
    "duration": 140,
    "start_time": "2022-11-03T12:55:23.952Z"
   },
   {
    "duration": 9,
    "start_time": "2022-11-03T12:55:24.094Z"
   },
   {
    "duration": 27,
    "start_time": "2022-11-03T12:55:24.105Z"
   },
   {
    "duration": 38,
    "start_time": "2022-11-03T12:55:24.134Z"
   },
   {
    "duration": 25,
    "start_time": "2022-11-03T12:55:24.174Z"
   },
   {
    "duration": 10,
    "start_time": "2022-11-03T12:55:30.252Z"
   },
   {
    "duration": 13,
    "start_time": "2022-11-03T12:57:48.151Z"
   },
   {
    "duration": 11,
    "start_time": "2022-11-03T12:57:53.902Z"
   },
   {
    "duration": 11,
    "start_time": "2022-11-03T12:58:06.680Z"
   },
   {
    "duration": 1179,
    "start_time": "2022-11-03T12:58:14.237Z"
   },
   {
    "duration": 237,
    "start_time": "2022-11-03T12:58:15.419Z"
   },
   {
    "duration": 25,
    "start_time": "2022-11-03T12:58:15.658Z"
   },
   {
    "duration": 26,
    "start_time": "2022-11-03T12:58:15.686Z"
   },
   {
    "duration": 28,
    "start_time": "2022-11-03T12:58:15.715Z"
   },
   {
    "duration": 29,
    "start_time": "2022-11-03T12:58:15.745Z"
   },
   {
    "duration": 8,
    "start_time": "2022-11-03T12:58:15.775Z"
   },
   {
    "duration": 126,
    "start_time": "2022-11-03T12:58:15.785Z"
   },
   {
    "duration": 98,
    "start_time": "2022-11-03T12:58:15.913Z"
   },
   {
    "duration": 66,
    "start_time": "2022-11-03T12:58:16.013Z"
   },
   {
    "duration": 11,
    "start_time": "2022-11-03T12:58:16.081Z"
   },
   {
    "duration": 13,
    "start_time": "2022-11-03T12:58:16.094Z"
   },
   {
    "duration": 18,
    "start_time": "2022-11-03T12:58:16.131Z"
   },
   {
    "duration": 11,
    "start_time": "2022-11-03T12:58:16.152Z"
   },
   {
    "duration": 17,
    "start_time": "2022-11-03T12:58:16.165Z"
   },
   {
    "duration": 41,
    "start_time": "2022-11-03T12:58:16.185Z"
   },
   {
    "duration": 31,
    "start_time": "2022-11-03T12:58:16.227Z"
   },
   {
    "duration": 14,
    "start_time": "2022-11-03T12:58:16.260Z"
   },
   {
    "duration": 887,
    "start_time": "2022-11-03T12:58:16.276Z"
   },
   {
    "duration": 17,
    "start_time": "2022-11-03T12:58:17.166Z"
   },
   {
    "duration": 10,
    "start_time": "2022-11-03T12:58:17.185Z"
   },
   {
    "duration": 51,
    "start_time": "2022-11-03T12:58:17.197Z"
   },
   {
    "duration": 11,
    "start_time": "2022-11-03T12:58:17.250Z"
   },
   {
    "duration": 14,
    "start_time": "2022-11-03T12:58:17.263Z"
   },
   {
    "duration": 13,
    "start_time": "2022-11-03T12:58:17.279Z"
   },
   {
    "duration": 12,
    "start_time": "2022-11-03T12:58:17.294Z"
   },
   {
    "duration": 38,
    "start_time": "2022-11-03T12:58:17.332Z"
   },
   {
    "duration": 86,
    "start_time": "2022-11-03T12:58:17.372Z"
   },
   {
    "duration": 15,
    "start_time": "2022-11-03T12:58:17.460Z"
   },
   {
    "duration": 155,
    "start_time": "2022-11-03T12:58:17.477Z"
   },
   {
    "duration": 13,
    "start_time": "2022-11-03T12:58:17.634Z"
   },
   {
    "duration": 5,
    "start_time": "2022-11-03T12:58:17.649Z"
   },
   {
    "duration": 10,
    "start_time": "2022-11-03T12:58:17.656Z"
   },
   {
    "duration": 12,
    "start_time": "2022-11-03T12:58:17.668Z"
   },
   {
    "duration": 13,
    "start_time": "2022-11-03T12:58:22.438Z"
   },
   {
    "duration": 15,
    "start_time": "2022-11-03T12:58:22.949Z"
   },
   {
    "duration": 14,
    "start_time": "2022-11-03T12:58:57.779Z"
   },
   {
    "duration": 1049,
    "start_time": "2022-11-03T12:59:05.832Z"
   },
   {
    "duration": 219,
    "start_time": "2022-11-03T12:59:06.883Z"
   },
   {
    "duration": 27,
    "start_time": "2022-11-03T12:59:07.104Z"
   },
   {
    "duration": 15,
    "start_time": "2022-11-03T12:59:07.134Z"
   },
   {
    "duration": 15,
    "start_time": "2022-11-03T12:59:07.151Z"
   },
   {
    "duration": 17,
    "start_time": "2022-11-03T12:59:07.167Z"
   },
   {
    "duration": 4,
    "start_time": "2022-11-03T12:59:07.187Z"
   },
   {
    "duration": 106,
    "start_time": "2022-11-03T12:59:07.193Z"
   },
   {
    "duration": 97,
    "start_time": "2022-11-03T12:59:07.300Z"
   },
   {
    "duration": 77,
    "start_time": "2022-11-03T12:59:07.400Z"
   },
   {
    "duration": 11,
    "start_time": "2022-11-03T12:59:07.478Z"
   },
   {
    "duration": 10,
    "start_time": "2022-11-03T12:59:07.491Z"
   },
   {
    "duration": 40,
    "start_time": "2022-11-03T12:59:07.503Z"
   },
   {
    "duration": 9,
    "start_time": "2022-11-03T12:59:07.545Z"
   },
   {
    "duration": 6,
    "start_time": "2022-11-03T12:59:07.556Z"
   },
   {
    "duration": 7,
    "start_time": "2022-11-03T12:59:07.564Z"
   },
   {
    "duration": 11,
    "start_time": "2022-11-03T12:59:07.573Z"
   },
   {
    "duration": 6,
    "start_time": "2022-11-03T12:59:07.586Z"
   },
   {
    "duration": 962,
    "start_time": "2022-11-03T12:59:07.594Z"
   },
   {
    "duration": 17,
    "start_time": "2022-11-03T12:59:08.558Z"
   },
   {
    "duration": 10,
    "start_time": "2022-11-03T12:59:08.577Z"
   },
   {
    "duration": 30,
    "start_time": "2022-11-03T12:59:08.588Z"
   },
   {
    "duration": 17,
    "start_time": "2022-11-03T12:59:08.620Z"
   },
   {
    "duration": 17,
    "start_time": "2022-11-03T12:59:08.639Z"
   },
   {
    "duration": 17,
    "start_time": "2022-11-03T12:59:08.658Z"
   },
   {
    "duration": 34,
    "start_time": "2022-11-03T12:59:08.677Z"
   },
   {
    "duration": 39,
    "start_time": "2022-11-03T12:59:08.712Z"
   },
   {
    "duration": 62,
    "start_time": "2022-11-03T12:59:08.754Z"
   },
   {
    "duration": 26,
    "start_time": "2022-11-03T12:59:08.818Z"
   },
   {
    "duration": 137,
    "start_time": "2022-11-03T12:59:08.846Z"
   },
   {
    "duration": 11,
    "start_time": "2022-11-03T12:59:08.984Z"
   },
   {
    "duration": 11,
    "start_time": "2022-11-03T12:59:08.996Z"
   },
   {
    "duration": 10,
    "start_time": "2022-11-03T12:59:09.009Z"
   },
   {
    "duration": 12,
    "start_time": "2022-11-03T12:59:09.032Z"
   },
   {
    "duration": 9,
    "start_time": "2022-11-03T12:59:13.648Z"
   },
   {
    "duration": 1262,
    "start_time": "2022-11-03T12:59:14.743Z"
   },
   {
    "duration": 1305,
    "start_time": "2022-11-03T12:59:50.386Z"
   },
   {
    "duration": 4,
    "start_time": "2022-11-03T13:00:02.486Z"
   },
   {
    "duration": 9,
    "start_time": "2022-11-03T13:00:02.897Z"
   },
   {
    "duration": 13,
    "start_time": "2022-11-03T13:00:03.905Z"
   },
   {
    "duration": 4,
    "start_time": "2022-11-03T13:00:12.787Z"
   },
   {
    "duration": 8,
    "start_time": "2022-11-03T13:00:13.100Z"
   },
   {
    "duration": 14,
    "start_time": "2022-11-03T13:00:13.377Z"
   },
   {
    "duration": 1088,
    "start_time": "2022-11-03T13:00:23.933Z"
   },
   {
    "duration": 251,
    "start_time": "2022-11-03T13:00:25.023Z"
   },
   {
    "duration": 22,
    "start_time": "2022-11-03T13:00:25.278Z"
   },
   {
    "duration": 31,
    "start_time": "2022-11-03T13:00:25.302Z"
   },
   {
    "duration": 17,
    "start_time": "2022-11-03T13:00:25.335Z"
   },
   {
    "duration": 16,
    "start_time": "2022-11-03T13:00:25.354Z"
   },
   {
    "duration": 5,
    "start_time": "2022-11-03T13:00:25.372Z"
   },
   {
    "duration": 102,
    "start_time": "2022-11-03T13:00:25.378Z"
   },
   {
    "duration": 91,
    "start_time": "2022-11-03T13:00:25.482Z"
   },
   {
    "duration": 69,
    "start_time": "2022-11-03T13:00:25.574Z"
   },
   {
    "duration": 10,
    "start_time": "2022-11-03T13:00:25.645Z"
   },
   {
    "duration": 9,
    "start_time": "2022-11-03T13:00:25.657Z"
   },
   {
    "duration": 18,
    "start_time": "2022-11-03T13:00:25.669Z"
   },
   {
    "duration": 9,
    "start_time": "2022-11-03T13:00:25.689Z"
   },
   {
    "duration": 37,
    "start_time": "2022-11-03T13:00:25.700Z"
   },
   {
    "duration": 8,
    "start_time": "2022-11-03T13:00:25.739Z"
   },
   {
    "duration": 11,
    "start_time": "2022-11-03T13:00:25.749Z"
   },
   {
    "duration": 6,
    "start_time": "2022-11-03T13:00:25.762Z"
   },
   {
    "duration": 869,
    "start_time": "2022-11-03T13:00:25.770Z"
   },
   {
    "duration": 17,
    "start_time": "2022-11-03T13:00:26.642Z"
   },
   {
    "duration": 10,
    "start_time": "2022-11-03T13:00:26.661Z"
   },
   {
    "duration": 8,
    "start_time": "2022-11-03T13:00:26.673Z"
   },
   {
    "duration": 12,
    "start_time": "2022-11-03T13:00:26.683Z"
   },
   {
    "duration": 47,
    "start_time": "2022-11-03T13:00:26.697Z"
   },
   {
    "duration": 13,
    "start_time": "2022-11-03T13:00:26.746Z"
   },
   {
    "duration": 10,
    "start_time": "2022-11-03T13:00:26.760Z"
   },
   {
    "duration": 27,
    "start_time": "2022-11-03T13:00:26.772Z"
   },
   {
    "duration": 56,
    "start_time": "2022-11-03T13:00:26.832Z"
   },
   {
    "duration": 12,
    "start_time": "2022-11-03T13:00:26.890Z"
   },
   {
    "duration": 142,
    "start_time": "2022-11-03T13:00:26.904Z"
   },
   {
    "duration": 10,
    "start_time": "2022-11-03T13:00:27.048Z"
   },
   {
    "duration": 22,
    "start_time": "2022-11-03T13:00:27.060Z"
   },
   {
    "duration": 35,
    "start_time": "2022-11-03T13:00:27.084Z"
   },
   {
    "duration": 51,
    "start_time": "2022-11-03T13:00:27.121Z"
   },
   {
    "duration": 4,
    "start_time": "2022-11-03T13:00:33.820Z"
   },
   {
    "duration": 9,
    "start_time": "2022-11-03T13:00:34.180Z"
   },
   {
    "duration": 11,
    "start_time": "2022-11-03T13:00:34.616Z"
   },
   {
    "duration": 11,
    "start_time": "2022-11-03T13:04:06.138Z"
   },
   {
    "duration": 4,
    "start_time": "2022-11-03T13:04:13.622Z"
   },
   {
    "duration": 10,
    "start_time": "2022-11-03T13:04:14.094Z"
   },
   {
    "duration": 11,
    "start_time": "2022-11-03T13:04:15.980Z"
   },
   {
    "duration": 1204,
    "start_time": "2022-11-03T13:06:38.505Z"
   },
   {
    "duration": 6,
    "start_time": "2022-11-03T13:06:48.017Z"
   },
   {
    "duration": 9,
    "start_time": "2022-11-03T13:06:48.377Z"
   },
   {
    "duration": 12,
    "start_time": "2022-11-03T13:06:48.910Z"
   },
   {
    "duration": 4,
    "start_time": "2022-11-03T13:17:03.259Z"
   },
   {
    "duration": 157,
    "start_time": "2022-11-03T13:17:03.615Z"
   },
   {
    "duration": 20,
    "start_time": "2022-11-03T13:17:03.982Z"
   },
   {
    "duration": 14,
    "start_time": "2022-11-03T13:17:04.163Z"
   },
   {
    "duration": 12,
    "start_time": "2022-11-03T13:17:04.927Z"
   },
   {
    "duration": 17,
    "start_time": "2022-11-03T13:17:05.480Z"
   },
   {
    "duration": 4,
    "start_time": "2022-11-03T13:17:05.664Z"
   },
   {
    "duration": 58,
    "start_time": "2022-11-03T13:17:05.862Z"
   },
   {
    "duration": 67,
    "start_time": "2022-11-03T13:17:06.040Z"
   },
   {
    "duration": 52,
    "start_time": "2022-11-03T13:17:06.238Z"
   },
   {
    "duration": 9,
    "start_time": "2022-11-03T13:17:06.644Z"
   },
   {
    "duration": 9,
    "start_time": "2022-11-03T13:17:06.829Z"
   },
   {
    "duration": 18,
    "start_time": "2022-11-03T13:17:07.890Z"
   },
   {
    "duration": 10,
    "start_time": "2022-11-03T13:17:08.154Z"
   },
   {
    "duration": 4,
    "start_time": "2022-11-03T13:17:08.995Z"
   },
   {
    "duration": 6,
    "start_time": "2022-11-03T13:17:09.383Z"
   },
   {
    "duration": 9,
    "start_time": "2022-11-03T13:17:09.756Z"
   },
   {
    "duration": 6,
    "start_time": "2022-11-03T13:17:10.136Z"
   },
   {
    "duration": 924,
    "start_time": "2022-11-03T13:17:10.524Z"
   },
   {
    "duration": 18,
    "start_time": "2022-11-03T13:17:11.450Z"
   },
   {
    "duration": 12,
    "start_time": "2022-11-03T13:17:11.470Z"
   },
   {
    "duration": 7,
    "start_time": "2022-11-03T13:17:12.255Z"
   },
   {
    "duration": 9,
    "start_time": "2022-11-03T13:17:13.092Z"
   },
   {
    "duration": 13,
    "start_time": "2022-11-03T13:17:13.623Z"
   },
   {
    "duration": 13,
    "start_time": "2022-11-03T13:17:14.065Z"
   },
   {
    "duration": 10,
    "start_time": "2022-11-03T13:17:14.717Z"
   },
   {
    "duration": 31,
    "start_time": "2022-11-03T13:17:15.752Z"
   },
   {
    "duration": 58,
    "start_time": "2022-11-03T13:17:16.744Z"
   },
   {
    "duration": 12,
    "start_time": "2022-11-03T13:17:17.182Z"
   },
   {
    "duration": 164,
    "start_time": "2022-11-03T13:17:17.749Z"
   },
   {
    "duration": 9,
    "start_time": "2022-11-03T13:17:19.340Z"
   },
   {
    "duration": 5,
    "start_time": "2022-11-03T13:17:20.799Z"
   },
   {
    "duration": 9,
    "start_time": "2022-11-03T13:17:21.068Z"
   },
   {
    "duration": 14,
    "start_time": "2022-11-03T13:17:37.785Z"
   },
   {
    "duration": 4,
    "start_time": "2022-11-03T13:29:43.546Z"
   },
   {
    "duration": 12,
    "start_time": "2022-11-03T13:29:44.682Z"
   },
   {
    "duration": 15,
    "start_time": "2022-11-03T13:29:50.077Z"
   },
   {
    "duration": 10,
    "start_time": "2022-11-03T13:29:58.597Z"
   },
   {
    "duration": 6,
    "start_time": "2022-11-03T13:29:59.581Z"
   },
   {
    "duration": 8,
    "start_time": "2022-11-03T13:30:00.171Z"
   },
   {
    "duration": 12,
    "start_time": "2022-11-03T13:30:01.788Z"
   },
   {
    "duration": 6,
    "start_time": "2022-11-03T13:47:08.839Z"
   },
   {
    "duration": 12,
    "start_time": "2022-11-03T13:47:09.170Z"
   },
   {
    "duration": 13,
    "start_time": "2022-11-03T13:47:09.392Z"
   },
   {
    "duration": 11,
    "start_time": "2022-11-03T13:47:11.154Z"
   },
   {
    "duration": 78,
    "start_time": "2022-11-03T13:48:13.209Z"
   },
   {
    "duration": 15,
    "start_time": "2022-11-03T13:48:18.995Z"
   },
   {
    "duration": 18,
    "start_time": "2022-11-03T13:48:31.192Z"
   },
   {
    "duration": 130,
    "start_time": "2022-11-03T13:49:38.150Z"
   },
   {
    "duration": 69,
    "start_time": "2022-11-03T13:49:41.568Z"
   },
   {
    "duration": 72,
    "start_time": "2022-11-03T13:49:47.408Z"
   },
   {
    "duration": 9,
    "start_time": "2022-11-03T14:34:32.470Z"
   },
   {
    "duration": 3,
    "start_time": "2022-11-03T14:53:09.440Z"
   },
   {
    "duration": 172,
    "start_time": "2022-11-03T14:53:15.946Z"
   },
   {
    "duration": 19,
    "start_time": "2022-11-03T14:53:16.764Z"
   },
   {
    "duration": 12,
    "start_time": "2022-11-03T14:53:17.293Z"
   },
   {
    "duration": 11,
    "start_time": "2022-11-03T14:53:19.453Z"
   },
   {
    "duration": 15,
    "start_time": "2022-11-03T14:53:20.407Z"
   },
   {
    "duration": 4,
    "start_time": "2022-11-03T14:53:20.950Z"
   },
   {
    "duration": 56,
    "start_time": "2022-11-03T14:53:21.605Z"
   },
   {
    "duration": 70,
    "start_time": "2022-11-03T14:53:21.976Z"
   },
   {
    "duration": 53,
    "start_time": "2022-11-03T14:53:22.402Z"
   },
   {
    "duration": 10,
    "start_time": "2022-11-03T14:53:23.048Z"
   },
   {
    "duration": 11,
    "start_time": "2022-11-03T14:53:23.420Z"
   },
   {
    "duration": 17,
    "start_time": "2022-11-03T14:53:24.370Z"
   },
   {
    "duration": 10,
    "start_time": "2022-11-03T14:53:24.782Z"
   },
   {
    "duration": 4,
    "start_time": "2022-11-03T14:53:26.709Z"
   },
   {
    "duration": 6,
    "start_time": "2022-11-03T14:53:27.692Z"
   },
   {
    "duration": 9,
    "start_time": "2022-11-03T14:53:28.574Z"
   },
   {
    "duration": 7,
    "start_time": "2022-11-03T14:53:30.183Z"
   },
   {
    "duration": 6,
    "start_time": "2022-11-03T14:53:58.185Z"
   },
   {
    "duration": 69,
    "start_time": "2022-11-03T14:54:04.699Z"
   },
   {
    "duration": 6,
    "start_time": "2022-11-03T14:54:08.313Z"
   },
   {
    "duration": 7,
    "start_time": "2022-11-03T14:54:10.049Z"
   },
   {
    "duration": 748,
    "start_time": "2022-11-03T14:54:11.185Z"
   },
   {
    "duration": 16,
    "start_time": "2022-11-03T14:54:12.128Z"
   },
   {
    "duration": 13,
    "start_time": "2022-11-03T14:54:13.351Z"
   },
   {
    "duration": 6,
    "start_time": "2022-11-03T14:54:14.368Z"
   },
   {
    "duration": 9,
    "start_time": "2022-11-03T14:54:15.185Z"
   },
   {
    "duration": 14,
    "start_time": "2022-11-03T14:54:15.591Z"
   },
   {
    "duration": 12,
    "start_time": "2022-11-03T14:54:16.467Z"
   },
   {
    "duration": 10,
    "start_time": "2022-11-03T14:54:17.552Z"
   },
   {
    "duration": 32,
    "start_time": "2022-11-03T14:54:19.429Z"
   },
   {
    "duration": 54,
    "start_time": "2022-11-03T14:54:20.726Z"
   },
   {
    "duration": 10,
    "start_time": "2022-11-03T14:54:23.458Z"
   },
   {
    "duration": 117,
    "start_time": "2022-11-03T14:54:24.081Z"
   },
   {
    "duration": 11,
    "start_time": "2022-11-03T14:54:25.338Z"
   },
   {
    "duration": 4,
    "start_time": "2022-11-03T14:54:26.400Z"
   },
   {
    "duration": 9,
    "start_time": "2022-11-03T14:54:26.825Z"
   },
   {
    "duration": 12,
    "start_time": "2022-11-03T14:54:27.342Z"
   },
   {
    "duration": 9,
    "start_time": "2022-11-03T14:54:29.539Z"
   },
   {
    "duration": 1280,
    "start_time": "2022-11-04T10:41:22.157Z"
   },
   {
    "duration": 602,
    "start_time": "2022-11-04T10:41:23.440Z"
   },
   {
    "duration": 23,
    "start_time": "2022-11-04T10:41:24.043Z"
   },
   {
    "duration": 14,
    "start_time": "2022-11-04T10:41:24.069Z"
   },
   {
    "duration": 13,
    "start_time": "2022-11-04T10:41:24.593Z"
   },
   {
    "duration": 21,
    "start_time": "2022-11-04T10:41:25.303Z"
   },
   {
    "duration": 5,
    "start_time": "2022-11-04T10:41:25.494Z"
   },
   {
    "duration": 74,
    "start_time": "2022-11-04T10:41:25.715Z"
   },
   {
    "duration": 75,
    "start_time": "2022-11-04T10:41:25.923Z"
   },
   {
    "duration": 56,
    "start_time": "2022-11-04T10:41:26.137Z"
   },
   {
    "duration": 11,
    "start_time": "2022-11-04T10:41:26.553Z"
   },
   {
    "duration": 8,
    "start_time": "2022-11-04T10:41:26.751Z"
   },
   {
    "duration": 24,
    "start_time": "2022-11-04T10:41:27.162Z"
   },
   {
    "duration": 11,
    "start_time": "2022-11-04T10:41:27.380Z"
   },
   {
    "duration": 4,
    "start_time": "2022-11-04T10:41:28.257Z"
   },
   {
    "duration": 5,
    "start_time": "2022-11-04T10:41:28.680Z"
   },
   {
    "duration": 7,
    "start_time": "2022-11-04T10:41:29.117Z"
   },
   {
    "duration": 7,
    "start_time": "2022-11-04T10:41:29.550Z"
   },
   {
    "duration": 782,
    "start_time": "2022-11-04T10:41:29.972Z"
   },
   {
    "duration": 27,
    "start_time": "2022-11-04T10:41:30.756Z"
   },
   {
    "duration": 17,
    "start_time": "2022-11-04T10:41:30.785Z"
   },
   {
    "duration": 6,
    "start_time": "2022-11-04T10:41:31.564Z"
   },
   {
    "duration": 12,
    "start_time": "2022-11-04T10:41:32.171Z"
   },
   {
    "duration": 15,
    "start_time": "2022-11-04T10:41:32.452Z"
   },
   {
    "duration": 13,
    "start_time": "2022-11-04T10:41:32.924Z"
   },
   {
    "duration": 10,
    "start_time": "2022-11-04T10:41:33.752Z"
   },
   {
    "duration": 28,
    "start_time": "2022-11-04T10:41:35.130Z"
   },
   {
    "duration": 55,
    "start_time": "2022-11-04T10:41:36.201Z"
   },
   {
    "duration": 11,
    "start_time": "2022-11-04T10:41:36.896Z"
   },
   {
    "duration": 108,
    "start_time": "2022-11-04T10:41:37.208Z"
   },
   {
    "duration": 9,
    "start_time": "2022-11-04T10:41:38.216Z"
   },
   {
    "duration": 5,
    "start_time": "2022-11-04T10:41:38.629Z"
   },
   {
    "duration": 7,
    "start_time": "2022-11-04T10:41:39.059Z"
   },
   {
    "duration": 11,
    "start_time": "2022-11-04T10:41:39.343Z"
   },
   {
    "duration": 8,
    "start_time": "2022-11-04T10:41:41.765Z"
   },
   {
    "duration": 52,
    "start_time": "2022-11-04T10:43:59.645Z"
   },
   {
    "duration": 32,
    "start_time": "2022-11-04T10:44:12.816Z"
   },
   {
    "duration": 40,
    "start_time": "2022-11-04T10:45:05.716Z"
   },
   {
    "duration": 4,
    "start_time": "2022-11-04T10:55:06.816Z"
   },
   {
    "duration": 9,
    "start_time": "2022-11-04T10:55:07.054Z"
   },
   {
    "duration": 11,
    "start_time": "2022-11-04T10:55:07.553Z"
   },
   {
    "duration": 8,
    "start_time": "2022-11-04T10:55:08.816Z"
   },
   {
    "duration": 33,
    "start_time": "2022-11-04T10:55:09.984Z"
   },
   {
    "duration": 45,
    "start_time": "2022-11-04T11:26:54.794Z"
   },
   {
    "duration": 159,
    "start_time": "2022-11-04T11:27:00.019Z"
   },
   {
    "duration": 51,
    "start_time": "2022-11-04T11:27:18.832Z"
   },
   {
    "duration": 71,
    "start_time": "2022-11-04T11:28:11.678Z"
   },
   {
    "duration": 14,
    "start_time": "2022-11-04T11:28:35.496Z"
   },
   {
    "duration": 12,
    "start_time": "2022-11-04T11:28:43.910Z"
   },
   {
    "duration": 14,
    "start_time": "2022-11-04T11:28:59.976Z"
   },
   {
    "duration": 51,
    "start_time": "2022-11-04T11:29:12.895Z"
   },
   {
    "duration": 47,
    "start_time": "2022-11-04T11:32:37.862Z"
   },
   {
    "duration": 45,
    "start_time": "2022-11-04T11:33:30.847Z"
   },
   {
    "duration": 73,
    "start_time": "2022-11-04T11:33:47.123Z"
   },
   {
    "duration": 45,
    "start_time": "2022-11-04T11:34:12.563Z"
   },
   {
    "duration": 51,
    "start_time": "2022-11-04T11:35:54.333Z"
   },
   {
    "duration": 49,
    "start_time": "2022-11-04T11:36:10.186Z"
   },
   {
    "duration": 42,
    "start_time": "2022-11-04T11:36:21.708Z"
   },
   {
    "duration": 47,
    "start_time": "2022-11-04T11:36:35.058Z"
   },
   {
    "duration": 41,
    "start_time": "2022-11-04T11:36:53.067Z"
   },
   {
    "duration": 47,
    "start_time": "2022-11-04T11:37:22.378Z"
   },
   {
    "duration": 42,
    "start_time": "2022-11-04T11:38:03.404Z"
   },
   {
    "duration": 53,
    "start_time": "2022-11-04T11:38:14.444Z"
   },
   {
    "duration": 47,
    "start_time": "2022-11-04T11:38:28.663Z"
   },
   {
    "duration": 1069,
    "start_time": "2022-11-04T11:38:37.463Z"
   },
   {
    "duration": 232,
    "start_time": "2022-11-04T11:38:38.534Z"
   },
   {
    "duration": 21,
    "start_time": "2022-11-04T11:38:38.768Z"
   },
   {
    "duration": 14,
    "start_time": "2022-11-04T11:38:38.791Z"
   },
   {
    "duration": 13,
    "start_time": "2022-11-04T11:38:38.808Z"
   },
   {
    "duration": 17,
    "start_time": "2022-11-04T11:38:38.823Z"
   },
   {
    "duration": 37,
    "start_time": "2022-11-04T11:38:38.842Z"
   },
   {
    "duration": 74,
    "start_time": "2022-11-04T11:38:38.880Z"
   },
   {
    "duration": 110,
    "start_time": "2022-11-04T11:38:38.956Z"
   },
   {
    "duration": 81,
    "start_time": "2022-11-04T11:38:39.068Z"
   },
   {
    "duration": 11,
    "start_time": "2022-11-04T11:38:39.151Z"
   },
   {
    "duration": 11,
    "start_time": "2022-11-04T11:38:39.177Z"
   },
   {
    "duration": 20,
    "start_time": "2022-11-04T11:38:39.189Z"
   },
   {
    "duration": 11,
    "start_time": "2022-11-04T11:38:39.212Z"
   },
   {
    "duration": 6,
    "start_time": "2022-11-04T11:38:39.225Z"
   },
   {
    "duration": 10,
    "start_time": "2022-11-04T11:38:39.232Z"
   },
   {
    "duration": 36,
    "start_time": "2022-11-04T11:38:39.244Z"
   },
   {
    "duration": 7,
    "start_time": "2022-11-04T11:38:39.281Z"
   },
   {
    "duration": 835,
    "start_time": "2022-11-04T11:38:39.290Z"
   },
   {
    "duration": 18,
    "start_time": "2022-11-04T11:38:40.127Z"
   },
   {
    "duration": 10,
    "start_time": "2022-11-04T11:38:40.147Z"
   },
   {
    "duration": 23,
    "start_time": "2022-11-04T11:38:40.158Z"
   },
   {
    "duration": 11,
    "start_time": "2022-11-04T11:38:40.183Z"
   },
   {
    "duration": 15,
    "start_time": "2022-11-04T11:38:40.196Z"
   },
   {
    "duration": 12,
    "start_time": "2022-11-04T11:38:40.213Z"
   },
   {
    "duration": 11,
    "start_time": "2022-11-04T11:38:40.227Z"
   },
   {
    "duration": 68,
    "start_time": "2022-11-04T11:38:40.240Z"
   },
   {
    "duration": 71,
    "start_time": "2022-11-04T11:38:40.310Z"
   },
   {
    "duration": 13,
    "start_time": "2022-11-04T11:38:40.383Z"
   },
   {
    "duration": 157,
    "start_time": "2022-11-04T11:38:40.398Z"
   },
   {
    "duration": 19,
    "start_time": "2022-11-04T11:38:40.557Z"
   },
   {
    "duration": 9,
    "start_time": "2022-11-04T11:38:40.578Z"
   },
   {
    "duration": 12,
    "start_time": "2022-11-04T11:38:40.589Z"
   },
   {
    "duration": 23,
    "start_time": "2022-11-04T11:38:40.603Z"
   },
   {
    "duration": 13,
    "start_time": "2022-11-04T11:38:40.628Z"
   },
   {
    "duration": 50,
    "start_time": "2022-11-04T11:38:40.643Z"
   },
   {
    "duration": 66,
    "start_time": "2022-11-04T11:38:40.695Z"
   },
   {
    "duration": 50,
    "start_time": "2022-11-04T11:41:00.060Z"
   },
   {
    "duration": 58,
    "start_time": "2022-11-04T11:41:05.895Z"
   },
   {
    "duration": 42,
    "start_time": "2022-11-04T11:41:32.107Z"
   },
   {
    "duration": 4833,
    "start_time": "2022-11-04T11:41:36.432Z"
   },
   {
    "duration": 90,
    "start_time": "2022-11-04T11:42:43.921Z"
   },
   {
    "duration": 37,
    "start_time": "2022-11-04T11:43:16.521Z"
   },
   {
    "duration": 472,
    "start_time": "2022-11-04T11:43:32.335Z"
   },
   {
    "duration": 52,
    "start_time": "2022-11-04T11:44:11.022Z"
   },
   {
    "duration": 62,
    "start_time": "2022-11-04T11:44:32.101Z"
   },
   {
    "duration": 49,
    "start_time": "2022-11-04T11:44:46.879Z"
   },
   {
    "duration": 74,
    "start_time": "2022-11-04T11:44:52.329Z"
   },
   {
    "duration": 40,
    "start_time": "2022-11-04T11:46:49.022Z"
   },
   {
    "duration": 15,
    "start_time": "2022-11-04T11:47:05.610Z"
   },
   {
    "duration": 16,
    "start_time": "2022-11-04T11:47:40.652Z"
   },
   {
    "duration": 55,
    "start_time": "2022-11-04T11:48:04.191Z"
   },
   {
    "duration": 20,
    "start_time": "2022-11-04T11:48:15.877Z"
   },
   {
    "duration": 39,
    "start_time": "2022-11-04T11:48:48.458Z"
   },
   {
    "duration": 111,
    "start_time": "2022-11-04T11:49:26.171Z"
   },
   {
    "duration": 475,
    "start_time": "2022-11-04T11:49:39.751Z"
   },
   {
    "duration": 5279,
    "start_time": "2022-11-04T12:17:40.067Z"
   },
   {
    "duration": 2273,
    "start_time": "2022-11-04T12:19:49.890Z"
   },
   {
    "duration": 87,
    "start_time": "2022-11-04T12:20:10.936Z"
   },
   {
    "duration": 57,
    "start_time": "2022-11-04T12:20:28.120Z"
   },
   {
    "duration": 36,
    "start_time": "2022-11-04T12:21:10.171Z"
   },
   {
    "duration": 36,
    "start_time": "2022-11-04T12:21:12.828Z"
   },
   {
    "duration": 36,
    "start_time": "2022-11-04T12:21:24.106Z"
   },
   {
    "duration": 37,
    "start_time": "2022-11-04T12:21:30.937Z"
   },
   {
    "duration": 36,
    "start_time": "2022-11-04T12:21:34.589Z"
   },
   {
    "duration": 1153,
    "start_time": "2022-11-04T12:21:44.097Z"
   },
   {
    "duration": 248,
    "start_time": "2022-11-04T12:21:45.252Z"
   },
   {
    "duration": 22,
    "start_time": "2022-11-04T12:21:45.505Z"
   },
   {
    "duration": 21,
    "start_time": "2022-11-04T12:21:45.530Z"
   },
   {
    "duration": 28,
    "start_time": "2022-11-04T12:21:45.553Z"
   },
   {
    "duration": 18,
    "start_time": "2022-11-04T12:21:45.583Z"
   },
   {
    "duration": 3,
    "start_time": "2022-11-04T12:21:45.603Z"
   },
   {
    "duration": 98,
    "start_time": "2022-11-04T12:21:45.608Z"
   },
   {
    "duration": 97,
    "start_time": "2022-11-04T12:21:45.709Z"
   },
   {
    "duration": 52,
    "start_time": "2022-11-04T12:21:45.808Z"
   },
   {
    "duration": 23,
    "start_time": "2022-11-04T12:21:45.862Z"
   },
   {
    "duration": 11,
    "start_time": "2022-11-04T12:21:45.886Z"
   },
   {
    "duration": 29,
    "start_time": "2022-11-04T12:21:45.899Z"
   },
   {
    "duration": 10,
    "start_time": "2022-11-04T12:21:45.930Z"
   },
   {
    "duration": 5,
    "start_time": "2022-11-04T12:21:45.942Z"
   },
   {
    "duration": 30,
    "start_time": "2022-11-04T12:21:45.949Z"
   },
   {
    "duration": 6,
    "start_time": "2022-11-04T12:21:45.980Z"
   },
   {
    "duration": 15,
    "start_time": "2022-11-04T12:21:45.988Z"
   },
   {
    "duration": 845,
    "start_time": "2022-11-04T12:21:46.005Z"
   },
   {
    "duration": 24,
    "start_time": "2022-11-04T12:21:46.853Z"
   },
   {
    "duration": 10,
    "start_time": "2022-11-04T12:21:46.878Z"
   },
   {
    "duration": 12,
    "start_time": "2022-11-04T12:21:46.890Z"
   },
   {
    "duration": 18,
    "start_time": "2022-11-04T12:21:46.904Z"
   },
   {
    "duration": 21,
    "start_time": "2022-11-04T12:21:46.923Z"
   },
   {
    "duration": 33,
    "start_time": "2022-11-04T12:21:46.946Z"
   },
   {
    "duration": 23,
    "start_time": "2022-11-04T12:21:46.981Z"
   },
   {
    "duration": 50,
    "start_time": "2022-11-04T12:21:47.009Z"
   },
   {
    "duration": 73,
    "start_time": "2022-11-04T12:21:47.063Z"
   },
   {
    "duration": 13,
    "start_time": "2022-11-04T12:21:47.138Z"
   },
   {
    "duration": 129,
    "start_time": "2022-11-04T12:21:47.154Z"
   },
   {
    "duration": 9,
    "start_time": "2022-11-04T12:21:47.285Z"
   },
   {
    "duration": 7,
    "start_time": "2022-11-04T12:21:47.296Z"
   },
   {
    "duration": 14,
    "start_time": "2022-11-04T12:21:47.305Z"
   },
   {
    "duration": 18,
    "start_time": "2022-11-04T12:21:47.321Z"
   },
   {
    "duration": 35,
    "start_time": "2022-11-04T12:21:47.341Z"
   },
   {
    "duration": 51,
    "start_time": "2022-11-04T12:21:47.379Z"
   },
   {
    "duration": 54,
    "start_time": "2022-11-04T12:21:47.432Z"
   },
   {
    "duration": 34,
    "start_time": "2022-11-04T12:25:20.559Z"
   },
   {
    "duration": 114,
    "start_time": "2022-11-04T12:25:49.611Z"
   },
   {
    "duration": 30,
    "start_time": "2022-11-04T12:25:54.996Z"
   },
   {
    "duration": 46,
    "start_time": "2022-11-04T12:26:21.619Z"
   },
   {
    "duration": 36,
    "start_time": "2022-11-04T12:26:50.027Z"
   },
   {
    "duration": 45,
    "start_time": "2022-11-04T12:26:53.002Z"
   },
   {
    "duration": 41,
    "start_time": "2022-11-04T12:29:55.366Z"
   },
   {
    "duration": 90,
    "start_time": "2022-11-04T12:31:51.534Z"
   },
   {
    "duration": 105,
    "start_time": "2022-11-04T12:32:02.492Z"
   },
   {
    "duration": 85,
    "start_time": "2022-11-04T12:32:40.021Z"
   },
   {
    "duration": 1053,
    "start_time": "2022-11-04T12:32:56.135Z"
   },
   {
    "duration": 234,
    "start_time": "2022-11-04T12:32:57.190Z"
   },
   {
    "duration": 24,
    "start_time": "2022-11-04T12:32:57.425Z"
   },
   {
    "duration": 32,
    "start_time": "2022-11-04T12:32:57.452Z"
   },
   {
    "duration": 14,
    "start_time": "2022-11-04T12:32:57.486Z"
   },
   {
    "duration": 15,
    "start_time": "2022-11-04T12:32:57.502Z"
   },
   {
    "duration": 14,
    "start_time": "2022-11-04T12:32:57.519Z"
   },
   {
    "duration": 86,
    "start_time": "2022-11-04T12:32:57.535Z"
   },
   {
    "duration": 80,
    "start_time": "2022-11-04T12:32:57.622Z"
   },
   {
    "duration": 52,
    "start_time": "2022-11-04T12:32:57.705Z"
   },
   {
    "duration": 23,
    "start_time": "2022-11-04T12:32:57.758Z"
   },
   {
    "duration": 8,
    "start_time": "2022-11-04T12:32:57.782Z"
   },
   {
    "duration": 19,
    "start_time": "2022-11-04T12:32:57.792Z"
   },
   {
    "duration": 9,
    "start_time": "2022-11-04T12:32:57.813Z"
   },
   {
    "duration": 10,
    "start_time": "2022-11-04T12:32:57.823Z"
   },
   {
    "duration": 10,
    "start_time": "2022-11-04T12:32:57.834Z"
   },
   {
    "duration": 6,
    "start_time": "2022-11-04T12:32:57.846Z"
   },
   {
    "duration": 6,
    "start_time": "2022-11-04T12:32:57.877Z"
   },
   {
    "duration": 787,
    "start_time": "2022-11-04T12:32:57.885Z"
   },
   {
    "duration": 16,
    "start_time": "2022-11-04T12:32:58.677Z"
   },
   {
    "duration": 9,
    "start_time": "2022-11-04T12:32:58.694Z"
   },
   {
    "duration": 15,
    "start_time": "2022-11-04T12:32:58.705Z"
   },
   {
    "duration": 14,
    "start_time": "2022-11-04T12:32:58.722Z"
   },
   {
    "duration": 13,
    "start_time": "2022-11-04T12:32:58.737Z"
   },
   {
    "duration": 32,
    "start_time": "2022-11-04T12:32:58.751Z"
   },
   {
    "duration": 9,
    "start_time": "2022-11-04T12:32:58.785Z"
   },
   {
    "duration": 44,
    "start_time": "2022-11-04T12:32:58.796Z"
   },
   {
    "duration": 70,
    "start_time": "2022-11-04T12:32:58.843Z"
   },
   {
    "duration": 10,
    "start_time": "2022-11-04T12:32:58.915Z"
   },
   {
    "duration": 121,
    "start_time": "2022-11-04T12:32:58.926Z"
   },
   {
    "duration": 9,
    "start_time": "2022-11-04T12:32:59.048Z"
   },
   {
    "duration": 18,
    "start_time": "2022-11-04T12:32:59.059Z"
   },
   {
    "duration": 13,
    "start_time": "2022-11-04T12:32:59.078Z"
   },
   {
    "duration": 15,
    "start_time": "2022-11-04T12:32:59.092Z"
   },
   {
    "duration": 14,
    "start_time": "2022-11-04T12:32:59.108Z"
   },
   {
    "duration": 41,
    "start_time": "2022-11-04T12:32:59.124Z"
   },
   {
    "duration": 180,
    "start_time": "2022-11-04T12:32:59.167Z"
   },
   {
    "duration": 75,
    "start_time": "2022-11-04T12:33:06.731Z"
   },
   {
    "duration": 111,
    "start_time": "2022-11-04T12:35:03.497Z"
   },
   {
    "duration": 724,
    "start_time": "2022-11-04T12:35:10.776Z"
   },
   {
    "duration": 794,
    "start_time": "2022-11-04T12:35:33.449Z"
   },
   {
    "duration": 901,
    "start_time": "2022-11-04T12:37:16.031Z"
   },
   {
    "duration": 83,
    "start_time": "2022-11-04T12:38:20.305Z"
   },
   {
    "duration": 83,
    "start_time": "2022-11-04T12:39:07.422Z"
   },
   {
    "duration": 90,
    "start_time": "2022-11-04T12:41:19.761Z"
   },
   {
    "duration": 104,
    "start_time": "2022-11-04T12:41:45.221Z"
   },
   {
    "duration": 5,
    "start_time": "2022-11-04T12:43:06.243Z"
   },
   {
    "duration": 6,
    "start_time": "2022-11-04T12:43:10.379Z"
   },
   {
    "duration": 6,
    "start_time": "2022-11-04T12:43:47.341Z"
   },
   {
    "duration": 5,
    "start_time": "2022-11-04T12:46:46.646Z"
   },
   {
    "duration": 6,
    "start_time": "2022-11-04T12:46:54.756Z"
   },
   {
    "duration": 5,
    "start_time": "2022-11-04T12:46:54.971Z"
   },
   {
    "duration": 662,
    "start_time": "2022-11-04T12:47:09.198Z"
   },
   {
    "duration": 7,
    "start_time": "2022-11-04T12:47:48.511Z"
   },
   {
    "duration": 776,
    "start_time": "2022-11-04T12:47:49.036Z"
   },
   {
    "duration": 6,
    "start_time": "2022-11-04T12:48:55.381Z"
   },
   {
    "duration": 759,
    "start_time": "2022-11-04T12:48:55.871Z"
   },
   {
    "duration": 824,
    "start_time": "2022-11-04T13:03:16.056Z"
   },
   {
    "duration": 95,
    "start_time": "2022-11-04T13:03:26.705Z"
   },
   {
    "duration": 6,
    "start_time": "2022-11-04T13:05:13.608Z"
   },
   {
    "duration": 937,
    "start_time": "2022-11-04T13:05:14.244Z"
   },
   {
    "duration": 7,
    "start_time": "2022-11-04T13:05:31.424Z"
   },
   {
    "duration": 675,
    "start_time": "2022-11-04T13:05:32.384Z"
   },
   {
    "duration": 6,
    "start_time": "2022-11-04T13:07:04.984Z"
   },
   {
    "duration": 7,
    "start_time": "2022-11-04T13:07:05.999Z"
   },
   {
    "duration": 822,
    "start_time": "2022-11-04T13:07:06.758Z"
   },
   {
    "duration": 5,
    "start_time": "2022-11-04T13:07:55.802Z"
   },
   {
    "duration": 670,
    "start_time": "2022-11-04T13:07:56.398Z"
   },
   {
    "duration": 773,
    "start_time": "2022-11-04T13:10:20.849Z"
   },
   {
    "duration": 873,
    "start_time": "2022-11-04T13:10:32.027Z"
   },
   {
    "duration": 84,
    "start_time": "2022-11-04T13:11:05.059Z"
   },
   {
    "duration": 5,
    "start_time": "2022-11-04T13:13:58.761Z"
   },
   {
    "duration": 861,
    "start_time": "2022-11-04T13:13:59.456Z"
   },
   {
    "duration": 93,
    "start_time": "2022-11-04T13:14:09.733Z"
   },
   {
    "duration": 6,
    "start_time": "2022-11-04T13:14:10.858Z"
   },
   {
    "duration": 5,
    "start_time": "2022-11-04T13:14:11.388Z"
   },
   {
    "duration": 1066,
    "start_time": "2022-11-04T13:14:11.825Z"
   },
   {
    "duration": 6,
    "start_time": "2022-11-04T13:15:12.947Z"
   },
   {
    "duration": 18,
    "start_time": "2022-11-04T13:15:13.540Z"
   },
   {
    "duration": 5,
    "start_time": "2022-11-04T13:15:47.823Z"
   },
   {
    "duration": 668,
    "start_time": "2022-11-04T13:15:49.920Z"
   },
   {
    "duration": 1080,
    "start_time": "2022-11-04T13:16:00.222Z"
   },
   {
    "duration": 225,
    "start_time": "2022-11-04T13:16:01.304Z"
   },
   {
    "duration": 20,
    "start_time": "2022-11-04T13:16:01.531Z"
   },
   {
    "duration": 25,
    "start_time": "2022-11-04T13:16:01.553Z"
   },
   {
    "duration": 59,
    "start_time": "2022-11-04T13:16:01.580Z"
   },
   {
    "duration": 36,
    "start_time": "2022-11-04T13:16:01.641Z"
   },
   {
    "duration": 4,
    "start_time": "2022-11-04T13:16:01.679Z"
   },
   {
    "duration": 109,
    "start_time": "2022-11-04T13:16:01.685Z"
   },
   {
    "duration": 81,
    "start_time": "2022-11-04T13:16:01.796Z"
   },
   {
    "duration": 52,
    "start_time": "2022-11-04T13:16:01.880Z"
   },
   {
    "duration": 9,
    "start_time": "2022-11-04T13:16:01.934Z"
   },
   {
    "duration": 23,
    "start_time": "2022-11-04T13:16:01.944Z"
   },
   {
    "duration": 38,
    "start_time": "2022-11-04T13:16:01.977Z"
   },
   {
    "duration": 31,
    "start_time": "2022-11-04T13:16:02.017Z"
   },
   {
    "duration": 21,
    "start_time": "2022-11-04T13:16:02.050Z"
   },
   {
    "duration": 25,
    "start_time": "2022-11-04T13:16:02.073Z"
   },
   {
    "duration": 17,
    "start_time": "2022-11-04T13:16:02.099Z"
   },
   {
    "duration": 33,
    "start_time": "2022-11-04T13:16:02.117Z"
   },
   {
    "duration": 787,
    "start_time": "2022-11-04T13:16:02.152Z"
   },
   {
    "duration": 16,
    "start_time": "2022-11-04T13:16:02.941Z"
   },
   {
    "duration": 19,
    "start_time": "2022-11-04T13:16:02.958Z"
   },
   {
    "duration": 6,
    "start_time": "2022-11-04T13:16:02.979Z"
   },
   {
    "duration": 24,
    "start_time": "2022-11-04T13:16:02.986Z"
   },
   {
    "duration": 21,
    "start_time": "2022-11-04T13:16:03.012Z"
   },
   {
    "duration": 19,
    "start_time": "2022-11-04T13:16:03.035Z"
   },
   {
    "duration": 14,
    "start_time": "2022-11-04T13:16:03.056Z"
   },
   {
    "duration": 39,
    "start_time": "2022-11-04T13:16:03.071Z"
   },
   {
    "duration": 79,
    "start_time": "2022-11-04T13:16:03.114Z"
   },
   {
    "duration": 14,
    "start_time": "2022-11-04T13:16:03.195Z"
   },
   {
    "duration": 136,
    "start_time": "2022-11-04T13:16:03.210Z"
   },
   {
    "duration": 9,
    "start_time": "2022-11-04T13:16:03.347Z"
   },
   {
    "duration": 13,
    "start_time": "2022-11-04T13:16:03.357Z"
   },
   {
    "duration": 15,
    "start_time": "2022-11-04T13:16:03.377Z"
   },
   {
    "duration": 18,
    "start_time": "2022-11-04T13:16:03.393Z"
   },
   {
    "duration": 16,
    "start_time": "2022-11-04T13:16:03.413Z"
   },
   {
    "duration": 37,
    "start_time": "2022-11-04T13:16:03.431Z"
   },
   {
    "duration": 82,
    "start_time": "2022-11-04T13:16:03.470Z"
   },
   {
    "duration": 5,
    "start_time": "2022-11-04T13:16:03.554Z"
   },
   {
    "duration": 19,
    "start_time": "2022-11-04T13:16:03.561Z"
   },
   {
    "duration": 1099,
    "start_time": "2022-11-04T13:16:03.581Z"
   },
   {
    "duration": 3,
    "start_time": "2022-11-04T13:16:11.104Z"
   },
   {
    "duration": 162,
    "start_time": "2022-11-04T13:16:11.503Z"
   },
   {
    "duration": 18,
    "start_time": "2022-11-04T13:16:11.934Z"
   },
   {
    "duration": 10,
    "start_time": "2022-11-04T13:16:12.132Z"
   },
   {
    "duration": 11,
    "start_time": "2022-11-04T13:16:13.018Z"
   },
   {
    "duration": 14,
    "start_time": "2022-11-04T13:16:13.626Z"
   },
   {
    "duration": 4,
    "start_time": "2022-11-04T13:16:13.840Z"
   },
   {
    "duration": 53,
    "start_time": "2022-11-04T13:16:14.032Z"
   },
   {
    "duration": 57,
    "start_time": "2022-11-04T13:16:14.248Z"
   },
   {
    "duration": 52,
    "start_time": "2022-11-04T13:16:14.441Z"
   },
   {
    "duration": 11,
    "start_time": "2022-11-04T13:16:14.877Z"
   },
   {
    "duration": 11,
    "start_time": "2022-11-04T13:16:15.087Z"
   },
   {
    "duration": 16,
    "start_time": "2022-11-04T13:16:15.497Z"
   },
   {
    "duration": 10,
    "start_time": "2022-11-04T13:16:15.720Z"
   },
   {
    "duration": 8,
    "start_time": "2022-11-04T13:16:17.024Z"
   },
   {
    "duration": 6,
    "start_time": "2022-11-04T13:16:17.761Z"
   },
   {
    "duration": 7,
    "start_time": "2022-11-04T13:16:18.358Z"
   },
   {
    "duration": 7,
    "start_time": "2022-11-04T13:16:18.777Z"
   },
   {
    "duration": 787,
    "start_time": "2022-11-04T13:16:19.183Z"
   },
   {
    "duration": 15,
    "start_time": "2022-11-04T13:16:19.972Z"
   },
   {
    "duration": 15,
    "start_time": "2022-11-04T13:16:19.989Z"
   },
   {
    "duration": 7,
    "start_time": "2022-11-04T13:16:20.206Z"
   },
   {
    "duration": 7,
    "start_time": "2022-11-04T13:16:20.608Z"
   },
   {
    "duration": 15,
    "start_time": "2022-11-04T13:16:20.828Z"
   },
   {
    "duration": 15,
    "start_time": "2022-11-04T13:16:21.223Z"
   },
   {
    "duration": 10,
    "start_time": "2022-11-04T13:16:21.838Z"
   },
   {
    "duration": 25,
    "start_time": "2022-11-04T13:16:23.073Z"
   },
   {
    "duration": 52,
    "start_time": "2022-11-04T13:16:24.652Z"
   },
   {
    "duration": 11,
    "start_time": "2022-11-04T13:16:25.487Z"
   },
   {
    "duration": 112,
    "start_time": "2022-11-04T13:16:25.841Z"
   },
   {
    "duration": 9,
    "start_time": "2022-11-04T13:16:26.474Z"
   },
   {
    "duration": 4,
    "start_time": "2022-11-04T13:16:26.903Z"
   },
   {
    "duration": 8,
    "start_time": "2022-11-04T13:16:27.147Z"
   },
   {
    "duration": 11,
    "start_time": "2022-11-04T13:16:27.396Z"
   },
   {
    "duration": 8,
    "start_time": "2022-11-04T13:16:29.324Z"
   },
   {
    "duration": 32,
    "start_time": "2022-11-04T13:16:35.379Z"
   },
   {
    "duration": 733,
    "start_time": "2022-11-04T13:19:57.857Z"
   },
   {
    "duration": 78,
    "start_time": "2022-11-04T13:20:06.546Z"
   },
   {
    "duration": 73,
    "start_time": "2022-11-04T13:20:28.756Z"
   },
   {
    "duration": 64,
    "start_time": "2022-11-04T13:20:46.779Z"
   },
   {
    "duration": 89,
    "start_time": "2022-11-04T13:20:55.216Z"
   },
   {
    "duration": 88,
    "start_time": "2022-11-04T13:21:46.640Z"
   },
   {
    "duration": 6,
    "start_time": "2022-11-04T13:21:49.546Z"
   },
   {
    "duration": 5,
    "start_time": "2022-11-04T13:21:50.780Z"
   },
   {
    "duration": 717,
    "start_time": "2022-11-04T13:21:51.830Z"
   },
   {
    "duration": 770,
    "start_time": "2022-11-04T13:22:56.192Z"
   },
   {
    "duration": 716,
    "start_time": "2022-11-04T13:23:13.474Z"
   },
   {
    "duration": 842,
    "start_time": "2022-11-04T13:23:26.569Z"
   },
   {
    "duration": 0,
    "start_time": "2022-11-04T13:23:27.414Z"
   },
   {
    "duration": 727,
    "start_time": "2022-11-04T13:23:36.008Z"
   },
   {
    "duration": 71,
    "start_time": "2022-11-04T13:23:42.432Z"
   },
   {
    "duration": 1080,
    "start_time": "2022-11-04T13:24:01.953Z"
   },
   {
    "duration": 71,
    "start_time": "2022-11-04T13:24:09.549Z"
   },
   {
    "duration": 715,
    "start_time": "2022-11-04T13:25:05.447Z"
   },
   {
    "duration": 797,
    "start_time": "2022-11-04T13:25:16.056Z"
   },
   {
    "duration": 713,
    "start_time": "2022-11-04T13:25:42.020Z"
   },
   {
    "duration": 88,
    "start_time": "2022-11-04T13:26:01.053Z"
   },
   {
    "duration": 5,
    "start_time": "2022-11-04T13:26:03.954Z"
   },
   {
    "duration": 5,
    "start_time": "2022-11-04T13:26:04.239Z"
   },
   {
    "duration": 824,
    "start_time": "2022-11-04T13:26:05.096Z"
   },
   {
    "duration": 79,
    "start_time": "2022-11-04T13:27:00.473Z"
   },
   {
    "duration": 825,
    "start_time": "2022-11-04T13:27:11.690Z"
   },
   {
    "duration": 73,
    "start_time": "2022-11-04T13:27:19.923Z"
   },
   {
    "duration": 69,
    "start_time": "2022-11-04T13:27:26.720Z"
   },
   {
    "duration": 83,
    "start_time": "2022-11-04T13:27:33.348Z"
   },
   {
    "duration": 722,
    "start_time": "2022-11-04T13:29:13.054Z"
   },
   {
    "duration": 813,
    "start_time": "2022-11-04T13:30:37.830Z"
   },
   {
    "duration": 7,
    "start_time": "2022-11-04T13:30:54.544Z"
   },
   {
    "duration": 5,
    "start_time": "2022-11-04T13:31:02.349Z"
   },
   {
    "duration": 1251,
    "start_time": "2022-11-04T13:31:03.046Z"
   },
   {
    "duration": 76,
    "start_time": "2022-11-04T13:34:09.360Z"
   },
   {
    "duration": 81,
    "start_time": "2022-11-04T13:34:17.792Z"
   },
   {
    "duration": 81,
    "start_time": "2022-11-04T13:34:32.150Z"
   },
   {
    "duration": 3,
    "start_time": "2022-11-04T13:38:13.884Z"
   },
   {
    "duration": 5,
    "start_time": "2022-11-04T13:38:14.432Z"
   },
   {
    "duration": 5,
    "start_time": "2022-11-04T13:38:15.829Z"
   },
   {
    "duration": 668,
    "start_time": "2022-11-04T13:38:17.259Z"
   },
   {
    "duration": 5,
    "start_time": "2022-11-04T13:38:23.297Z"
   },
   {
    "duration": 4,
    "start_time": "2022-11-04T13:49:45.108Z"
   },
   {
    "duration": 151,
    "start_time": "2022-11-04T13:49:45.776Z"
   },
   {
    "duration": 18,
    "start_time": "2022-11-04T13:49:46.152Z"
   },
   {
    "duration": 11,
    "start_time": "2022-11-04T13:49:46.698Z"
   },
   {
    "duration": 12,
    "start_time": "2022-11-04T13:49:48.367Z"
   },
   {
    "duration": 14,
    "start_time": "2022-11-04T13:49:49.360Z"
   },
   {
    "duration": 4,
    "start_time": "2022-11-04T13:49:49.832Z"
   },
   {
    "duration": 61,
    "start_time": "2022-11-04T13:49:50.451Z"
   },
   {
    "duration": 55,
    "start_time": "2022-11-04T13:49:50.729Z"
   },
   {
    "duration": 54,
    "start_time": "2022-11-04T13:49:50.967Z"
   },
   {
    "duration": 9,
    "start_time": "2022-11-04T13:49:51.349Z"
   },
   {
    "duration": 9,
    "start_time": "2022-11-04T13:49:51.531Z"
   },
   {
    "duration": 16,
    "start_time": "2022-11-04T13:49:51.902Z"
   },
   {
    "duration": 9,
    "start_time": "2022-11-04T13:49:52.087Z"
   },
   {
    "duration": 4,
    "start_time": "2022-11-04T13:49:53.289Z"
   },
   {
    "duration": 6,
    "start_time": "2022-11-04T13:49:53.686Z"
   },
   {
    "duration": 5,
    "start_time": "2022-11-04T13:49:54.037Z"
   },
   {
    "duration": 5,
    "start_time": "2022-11-04T13:49:54.423Z"
   },
   {
    "duration": 748,
    "start_time": "2022-11-04T13:49:54.786Z"
   },
   {
    "duration": 14,
    "start_time": "2022-11-04T13:49:55.536Z"
   },
   {
    "duration": 9,
    "start_time": "2022-11-04T13:49:55.552Z"
   },
   {
    "duration": 7,
    "start_time": "2022-11-04T13:49:55.735Z"
   },
   {
    "duration": 9,
    "start_time": "2022-11-04T13:49:56.803Z"
   },
   {
    "duration": 14,
    "start_time": "2022-11-04T13:49:57.022Z"
   },
   {
    "duration": 12,
    "start_time": "2022-11-04T13:49:57.389Z"
   },
   {
    "duration": 10,
    "start_time": "2022-11-04T13:49:57.976Z"
   },
   {
    "duration": 27,
    "start_time": "2022-11-04T13:49:59.353Z"
   },
   {
    "duration": 54,
    "start_time": "2022-11-04T13:50:00.468Z"
   },
   {
    "duration": 12,
    "start_time": "2022-11-04T13:50:02.202Z"
   },
   {
    "duration": 106,
    "start_time": "2022-11-04T13:50:02.751Z"
   },
   {
    "duration": 11,
    "start_time": "2022-11-04T13:50:04.266Z"
   },
   {
    "duration": 6,
    "start_time": "2022-11-04T13:50:05.173Z"
   },
   {
    "duration": 8,
    "start_time": "2022-11-04T13:50:05.466Z"
   },
   {
    "duration": 11,
    "start_time": "2022-11-04T13:50:06.375Z"
   },
   {
    "duration": 9,
    "start_time": "2022-11-04T13:50:08.755Z"
   },
   {
    "duration": 33,
    "start_time": "2022-11-04T13:50:10.785Z"
   },
   {
    "duration": 3,
    "start_time": "2022-11-04T13:50:17.923Z"
   },
   {
    "duration": 5,
    "start_time": "2022-11-04T13:50:18.152Z"
   },
   {
    "duration": 647,
    "start_time": "2022-11-04T13:50:20.745Z"
   },
   {
    "duration": 109,
    "start_time": "2022-11-04T14:14:02.308Z"
   },
   {
    "duration": 10,
    "start_time": "2022-11-04T14:14:03.728Z"
   },
   {
    "duration": 4,
    "start_time": "2022-11-04T14:14:05.125Z"
   },
   {
    "duration": 7,
    "start_time": "2022-11-04T14:14:05.665Z"
   },
   {
    "duration": 9,
    "start_time": "2022-11-04T14:14:41.807Z"
   },
   {
    "duration": 4,
    "start_time": "2022-11-04T14:14:42.925Z"
   },
   {
    "duration": 7,
    "start_time": "2022-11-04T14:14:43.330Z"
   },
   {
    "duration": 11,
    "start_time": "2022-11-04T14:14:44.022Z"
   },
   {
    "duration": 9,
    "start_time": "2022-11-04T14:14:46.941Z"
   },
   {
    "duration": 39,
    "start_time": "2022-11-04T14:15:02.077Z"
   },
   {
    "duration": 52,
    "start_time": "2022-11-04T14:16:26.851Z"
   },
   {
    "duration": 35,
    "start_time": "2022-11-04T14:16:49.826Z"
   },
   {
    "duration": 40,
    "start_time": "2022-11-04T14:18:24.933Z"
   },
   {
    "duration": 88,
    "start_time": "2022-11-04T14:18:34.222Z"
   },
   {
    "duration": 36,
    "start_time": "2022-11-04T14:18:40.600Z"
   },
   {
    "duration": 47,
    "start_time": "2022-11-04T14:20:35.620Z"
   },
   {
    "duration": 68,
    "start_time": "2022-11-04T14:20:40.551Z"
   },
   {
    "duration": 68,
    "start_time": "2022-11-04T14:20:58.557Z"
   },
   {
    "duration": 73,
    "start_time": "2022-11-04T14:22:36.621Z"
   },
   {
    "duration": 76,
    "start_time": "2022-11-04T14:24:03.851Z"
   },
   {
    "duration": 73,
    "start_time": "2022-11-04T14:24:21.454Z"
   },
   {
    "duration": 67,
    "start_time": "2022-11-04T14:35:11.196Z"
   },
   {
    "duration": 33,
    "start_time": "2022-11-04T14:36:52.902Z"
   },
   {
    "duration": 39,
    "start_time": "2022-11-04T14:41:35.086Z"
   },
   {
    "duration": 35,
    "start_time": "2022-11-04T14:41:54.434Z"
   },
   {
    "duration": 10,
    "start_time": "2022-11-04T14:45:12.137Z"
   },
   {
    "duration": 4,
    "start_time": "2022-11-04T14:45:46.452Z"
   },
   {
    "duration": 149,
    "start_time": "2022-11-04T14:45:47.067Z"
   },
   {
    "duration": 19,
    "start_time": "2022-11-04T14:45:47.475Z"
   },
   {
    "duration": 11,
    "start_time": "2022-11-04T14:45:47.719Z"
   },
   {
    "duration": 11,
    "start_time": "2022-11-04T14:45:48.480Z"
   },
   {
    "duration": 14,
    "start_time": "2022-11-04T14:45:49.034Z"
   },
   {
    "duration": 3,
    "start_time": "2022-11-04T14:45:49.250Z"
   },
   {
    "duration": 52,
    "start_time": "2022-11-04T14:45:49.434Z"
   },
   {
    "duration": 56,
    "start_time": "2022-11-04T14:45:49.620Z"
   },
   {
    "duration": 50,
    "start_time": "2022-11-04T14:45:49.798Z"
   },
   {
    "duration": 8,
    "start_time": "2022-11-04T14:45:50.178Z"
   },
   {
    "duration": 9,
    "start_time": "2022-11-04T14:45:50.526Z"
   },
   {
    "duration": 14,
    "start_time": "2022-11-04T14:45:50.923Z"
   },
   {
    "duration": 9,
    "start_time": "2022-11-04T14:45:51.115Z"
   },
   {
    "duration": 3,
    "start_time": "2022-11-04T14:45:51.895Z"
   },
   {
    "duration": 5,
    "start_time": "2022-11-04T14:45:52.286Z"
   },
   {
    "duration": 5,
    "start_time": "2022-11-04T14:45:52.686Z"
   },
   {
    "duration": 6,
    "start_time": "2022-11-04T14:45:53.087Z"
   },
   {
    "duration": 807,
    "start_time": "2022-11-04T14:45:53.496Z"
   },
   {
    "duration": 14,
    "start_time": "2022-11-04T14:45:54.305Z"
   },
   {
    "duration": 10,
    "start_time": "2022-11-04T14:45:54.320Z"
   },
   {
    "duration": 7,
    "start_time": "2022-11-04T14:45:55.328Z"
   },
   {
    "duration": 8,
    "start_time": "2022-11-04T14:45:55.969Z"
   },
   {
    "duration": 13,
    "start_time": "2022-11-04T14:45:56.293Z"
   },
   {
    "duration": 17,
    "start_time": "2022-11-04T14:45:56.976Z"
   },
   {
    "duration": 11,
    "start_time": "2022-11-04T14:46:02.298Z"
   },
   {
    "duration": 28,
    "start_time": "2022-11-04T14:46:04.931Z"
   },
   {
    "duration": 67,
    "start_time": "2022-11-04T14:46:06.097Z"
   },
   {
    "duration": 10,
    "start_time": "2022-11-04T14:46:06.723Z"
   },
   {
    "duration": 138,
    "start_time": "2022-11-04T14:46:06.976Z"
   },
   {
    "duration": 10,
    "start_time": "2022-11-04T14:46:07.830Z"
   },
   {
    "duration": 5,
    "start_time": "2022-11-04T14:46:08.458Z"
   },
   {
    "duration": 7,
    "start_time": "2022-11-04T14:46:08.769Z"
   },
   {
    "duration": 12,
    "start_time": "2022-11-04T14:46:09.166Z"
   },
   {
    "duration": 7,
    "start_time": "2022-11-04T14:46:12.034Z"
   },
   {
    "duration": 35,
    "start_time": "2022-11-04T14:46:13.664Z"
   },
   {
    "duration": 78,
    "start_time": "2022-11-04T14:46:17.684Z"
   },
   {
    "duration": 11,
    "start_time": "2022-11-04T14:46:18.797Z"
   },
   {
    "duration": 10,
    "start_time": "2022-11-04T14:46:33.848Z"
   },
   {
    "duration": 10,
    "start_time": "2022-11-04T14:46:51.727Z"
   },
   {
    "duration": 733,
    "start_time": "2022-11-04T14:47:16.581Z"
   },
   {
    "duration": 9,
    "start_time": "2022-11-04T14:47:25.435Z"
   },
   {
    "duration": 11,
    "start_time": "2022-11-04T14:47:34.564Z"
   },
   {
    "duration": 11,
    "start_time": "2022-11-04T14:47:55.522Z"
   },
   {
    "duration": 9,
    "start_time": "2022-11-04T14:48:18.379Z"
   },
   {
    "duration": 10,
    "start_time": "2022-11-04T14:48:27.558Z"
   },
   {
    "duration": 10,
    "start_time": "2022-11-04T14:48:30.855Z"
   },
   {
    "duration": 7,
    "start_time": "2022-11-04T14:48:43.694Z"
   },
   {
    "duration": 12,
    "start_time": "2022-11-04T14:50:34.501Z"
   },
   {
    "duration": 5,
    "start_time": "2022-11-04T14:50:34.720Z"
   },
   {
    "duration": 6,
    "start_time": "2022-11-04T14:50:48.666Z"
   },
   {
    "duration": 8,
    "start_time": "2022-11-04T14:50:49.226Z"
   },
   {
    "duration": 5,
    "start_time": "2022-11-04T14:50:54.181Z"
   },
   {
    "duration": 7,
    "start_time": "2022-11-04T14:54:41.991Z"
   },
   {
    "duration": 1170,
    "start_time": "2022-11-06T11:05:06.245Z"
   },
   {
    "duration": 766,
    "start_time": "2022-11-06T11:05:07.417Z"
   },
   {
    "duration": 20,
    "start_time": "2022-11-06T11:05:08.185Z"
   },
   {
    "duration": 12,
    "start_time": "2022-11-06T11:05:08.206Z"
   },
   {
    "duration": 13,
    "start_time": "2022-11-06T11:05:09.708Z"
   },
   {
    "duration": 14,
    "start_time": "2022-11-06T11:05:10.359Z"
   },
   {
    "duration": 4,
    "start_time": "2022-11-06T11:05:10.569Z"
   },
   {
    "duration": 64,
    "start_time": "2022-11-06T11:05:10.773Z"
   },
   {
    "duration": 68,
    "start_time": "2022-11-06T11:05:10.953Z"
   },
   {
    "duration": 51,
    "start_time": "2022-11-06T11:05:11.152Z"
   },
   {
    "duration": 10,
    "start_time": "2022-11-06T11:05:11.528Z"
   },
   {
    "duration": 9,
    "start_time": "2022-11-06T11:05:11.696Z"
   },
   {
    "duration": 19,
    "start_time": "2022-11-06T11:05:12.052Z"
   },
   {
    "duration": 10,
    "start_time": "2022-11-06T11:05:12.238Z"
   },
   {
    "duration": 3,
    "start_time": "2022-11-06T11:05:13.470Z"
   },
   {
    "duration": 6,
    "start_time": "2022-11-06T11:05:14.064Z"
   },
   {
    "duration": 5,
    "start_time": "2022-11-06T11:05:14.783Z"
   },
   {
    "duration": 5,
    "start_time": "2022-11-06T11:05:15.496Z"
   },
   {
    "duration": 796,
    "start_time": "2022-11-06T11:05:16.104Z"
   },
   {
    "duration": 15,
    "start_time": "2022-11-06T11:05:16.902Z"
   },
   {
    "duration": 9,
    "start_time": "2022-11-06T11:05:17.136Z"
   },
   {
    "duration": 6,
    "start_time": "2022-11-06T11:05:17.904Z"
   },
   {
    "duration": 11,
    "start_time": "2022-11-06T11:05:18.323Z"
   },
   {
    "duration": 12,
    "start_time": "2022-11-06T11:05:18.506Z"
   },
   {
    "duration": 12,
    "start_time": "2022-11-06T11:05:18.884Z"
   },
   {
    "duration": 9,
    "start_time": "2022-11-06T11:05:19.560Z"
   },
   {
    "duration": 27,
    "start_time": "2022-11-06T11:05:20.882Z"
   },
   {
    "duration": 56,
    "start_time": "2022-11-06T11:05:21.894Z"
   },
   {
    "duration": 11,
    "start_time": "2022-11-06T11:05:22.286Z"
   },
   {
    "duration": 101,
    "start_time": "2022-11-06T11:05:22.830Z"
   },
   {
    "duration": 9,
    "start_time": "2022-11-06T11:05:24.063Z"
   },
   {
    "duration": 3,
    "start_time": "2022-11-06T11:05:24.904Z"
   },
   {
    "duration": 7,
    "start_time": "2022-11-06T11:05:25.135Z"
   },
   {
    "duration": 11,
    "start_time": "2022-11-06T11:05:25.323Z"
   },
   {
    "duration": 8,
    "start_time": "2022-11-06T11:05:26.480Z"
   },
   {
    "duration": 33,
    "start_time": "2022-11-06T11:05:27.253Z"
   },
   {
    "duration": 7,
    "start_time": "2022-11-06T11:20:12.317Z"
   },
   {
    "duration": 5,
    "start_time": "2022-11-06T11:20:12.564Z"
   },
   {
    "duration": 75,
    "start_time": "2022-11-06T11:24:49.879Z"
   },
   {
    "duration": 6,
    "start_time": "2022-11-06T11:35:56.550Z"
   },
   {
    "duration": 85,
    "start_time": "2022-11-06T11:47:10.488Z"
   },
   {
    "duration": 3,
    "start_time": "2022-11-06T11:47:23.694Z"
   },
   {
    "duration": 143,
    "start_time": "2022-11-06T11:47:24.116Z"
   },
   {
    "duration": 19,
    "start_time": "2022-11-06T11:47:24.502Z"
   },
   {
    "duration": 10,
    "start_time": "2022-11-06T11:47:24.702Z"
   },
   {
    "duration": 12,
    "start_time": "2022-11-06T11:47:25.548Z"
   },
   {
    "duration": 21,
    "start_time": "2022-11-06T11:47:26.165Z"
   },
   {
    "duration": 5,
    "start_time": "2022-11-06T11:47:26.350Z"
   },
   {
    "duration": 59,
    "start_time": "2022-11-06T11:47:26.554Z"
   },
   {
    "duration": 58,
    "start_time": "2022-11-06T11:47:26.755Z"
   },
   {
    "duration": 47,
    "start_time": "2022-11-06T11:47:26.954Z"
   },
   {
    "duration": 10,
    "start_time": "2022-11-06T11:47:27.369Z"
   },
   {
    "duration": 8,
    "start_time": "2022-11-06T11:47:27.584Z"
   },
   {
    "duration": 15,
    "start_time": "2022-11-06T11:47:28.016Z"
   },
   {
    "duration": 10,
    "start_time": "2022-11-06T11:47:28.196Z"
   },
   {
    "duration": 4,
    "start_time": "2022-11-06T11:47:29.058Z"
   },
   {
    "duration": 5,
    "start_time": "2022-11-06T11:47:29.549Z"
   },
   {
    "duration": 6,
    "start_time": "2022-11-06T11:47:29.974Z"
   },
   {
    "duration": 5,
    "start_time": "2022-11-06T11:47:30.451Z"
   },
   {
    "duration": 774,
    "start_time": "2022-11-06T11:47:30.856Z"
   },
   {
    "duration": 13,
    "start_time": "2022-11-06T11:47:31.632Z"
   },
   {
    "duration": 10,
    "start_time": "2022-11-06T11:47:31.647Z"
   },
   {
    "duration": 7,
    "start_time": "2022-11-06T11:47:32.252Z"
   },
   {
    "duration": 9,
    "start_time": "2022-11-06T11:47:32.873Z"
   },
   {
    "duration": 14,
    "start_time": "2022-11-06T11:47:33.250Z"
   },
   {
    "duration": 12,
    "start_time": "2022-11-06T11:47:33.981Z"
   },
   {
    "duration": 8,
    "start_time": "2022-11-06T11:47:35.068Z"
   },
   {
    "duration": 24,
    "start_time": "2022-11-06T11:47:37.019Z"
   },
   {
    "duration": 54,
    "start_time": "2022-11-06T11:47:37.923Z"
   },
   {
    "duration": 11,
    "start_time": "2022-11-06T11:47:38.385Z"
   },
   {
    "duration": 109,
    "start_time": "2022-11-06T11:47:38.789Z"
   },
   {
    "duration": 10,
    "start_time": "2022-11-06T11:47:39.971Z"
   },
   {
    "duration": 4,
    "start_time": "2022-11-06T11:47:40.413Z"
   },
   {
    "duration": 10,
    "start_time": "2022-11-06T11:47:40.654Z"
   },
   {
    "duration": 13,
    "start_time": "2022-11-06T11:47:40.878Z"
   },
   {
    "duration": 11,
    "start_time": "2022-11-06T11:47:43.001Z"
   },
   {
    "duration": 35,
    "start_time": "2022-11-06T11:47:44.069Z"
   },
   {
    "duration": 76,
    "start_time": "2022-11-06T11:47:50.066Z"
   },
   {
    "duration": 8,
    "start_time": "2022-11-06T11:47:50.290Z"
   },
   {
    "duration": 6,
    "start_time": "2022-11-06T11:47:50.779Z"
   },
   {
    "duration": 8,
    "start_time": "2022-11-06T11:48:40.788Z"
   },
   {
    "duration": 8,
    "start_time": "2022-11-06T11:48:45.713Z"
   },
   {
    "duration": 9,
    "start_time": "2022-11-06T11:50:20.124Z"
   },
   {
    "duration": 9,
    "start_time": "2022-11-06T11:50:28.812Z"
   },
   {
    "duration": 5,
    "start_time": "2022-11-06T11:52:19.846Z"
   },
   {
    "duration": 8,
    "start_time": "2022-11-06T11:54:06.971Z"
   },
   {
    "duration": 5,
    "start_time": "2022-11-06T11:54:09.746Z"
   },
   {
    "duration": 12,
    "start_time": "2022-11-06T11:55:59.240Z"
   },
   {
    "duration": 11,
    "start_time": "2022-11-06T11:56:21.373Z"
   },
   {
    "duration": 4,
    "start_time": "2022-11-06T11:56:39.060Z"
   },
   {
    "duration": 13,
    "start_time": "2022-11-06T11:56:39.660Z"
   },
   {
    "duration": 6,
    "start_time": "2022-11-06T11:57:08.045Z"
   },
   {
    "duration": 12,
    "start_time": "2022-11-06T11:57:08.735Z"
   },
   {
    "duration": 5,
    "start_time": "2022-11-06T11:57:47.147Z"
   },
   {
    "duration": 12,
    "start_time": "2022-11-06T11:57:47.356Z"
   },
   {
    "duration": 7,
    "start_time": "2022-11-06T11:57:55.906Z"
   },
   {
    "duration": 8,
    "start_time": "2022-11-06T11:59:34.351Z"
   },
   {
    "duration": 9,
    "start_time": "2022-11-06T11:59:58.729Z"
   },
   {
    "duration": 8,
    "start_time": "2022-11-06T12:02:58.337Z"
   },
   {
    "duration": 6,
    "start_time": "2022-11-06T12:03:05.853Z"
   },
   {
    "duration": 8,
    "start_time": "2022-11-06T12:04:47.285Z"
   },
   {
    "duration": 11,
    "start_time": "2022-11-06T12:04:50.886Z"
   },
   {
    "duration": 11,
    "start_time": "2022-11-06T12:05:13.649Z"
   },
   {
    "duration": 9,
    "start_time": "2022-11-06T12:05:22.509Z"
   },
   {
    "duration": 8,
    "start_time": "2022-11-06T12:05:28.107Z"
   },
   {
    "duration": 14,
    "start_time": "2022-11-06T12:06:56.472Z"
   },
   {
    "duration": 10,
    "start_time": "2022-11-06T12:06:59.635Z"
   },
   {
    "duration": 11,
    "start_time": "2022-11-06T12:07:11.313Z"
   },
   {
    "duration": 1058,
    "start_time": "2022-11-06T12:07:20.157Z"
   },
   {
    "duration": 207,
    "start_time": "2022-11-06T12:07:21.217Z"
   },
   {
    "duration": 20,
    "start_time": "2022-11-06T12:07:21.426Z"
   },
   {
    "duration": 22,
    "start_time": "2022-11-06T12:07:21.449Z"
   },
   {
    "duration": 20,
    "start_time": "2022-11-06T12:07:21.473Z"
   },
   {
    "duration": 18,
    "start_time": "2022-11-06T12:07:21.496Z"
   },
   {
    "duration": 4,
    "start_time": "2022-11-06T12:07:21.515Z"
   },
   {
    "duration": 98,
    "start_time": "2022-11-06T12:07:21.521Z"
   },
   {
    "duration": 89,
    "start_time": "2022-11-06T12:07:21.621Z"
   },
   {
    "duration": 54,
    "start_time": "2022-11-06T12:07:21.713Z"
   },
   {
    "duration": 21,
    "start_time": "2022-11-06T12:07:21.770Z"
   },
   {
    "duration": 9,
    "start_time": "2022-11-06T12:07:21.793Z"
   },
   {
    "duration": 22,
    "start_time": "2022-11-06T12:07:21.804Z"
   },
   {
    "duration": 9,
    "start_time": "2022-11-06T12:07:21.829Z"
   },
   {
    "duration": 14,
    "start_time": "2022-11-06T12:07:21.840Z"
   },
   {
    "duration": 16,
    "start_time": "2022-11-06T12:07:21.855Z"
   },
   {
    "duration": 17,
    "start_time": "2022-11-06T12:07:21.873Z"
   },
   {
    "duration": 9,
    "start_time": "2022-11-06T12:07:21.892Z"
   },
   {
    "duration": 767,
    "start_time": "2022-11-06T12:07:21.903Z"
   },
   {
    "duration": 24,
    "start_time": "2022-11-06T12:07:22.671Z"
   },
   {
    "duration": 9,
    "start_time": "2022-11-06T12:07:22.696Z"
   },
   {
    "duration": 15,
    "start_time": "2022-11-06T12:07:22.707Z"
   },
   {
    "duration": 23,
    "start_time": "2022-11-06T12:07:22.723Z"
   },
   {
    "duration": 12,
    "start_time": "2022-11-06T12:07:22.748Z"
   },
   {
    "duration": 21,
    "start_time": "2022-11-06T12:07:22.761Z"
   },
   {
    "duration": 13,
    "start_time": "2022-11-06T12:07:22.784Z"
   },
   {
    "duration": 33,
    "start_time": "2022-11-06T12:07:22.798Z"
   },
   {
    "duration": 71,
    "start_time": "2022-11-06T12:07:22.834Z"
   },
   {
    "duration": 11,
    "start_time": "2022-11-06T12:07:22.907Z"
   },
   {
    "duration": 140,
    "start_time": "2022-11-06T12:07:22.920Z"
   },
   {
    "duration": 9,
    "start_time": "2022-11-06T12:07:23.062Z"
   },
   {
    "duration": 19,
    "start_time": "2022-11-06T12:07:23.072Z"
   },
   {
    "duration": 26,
    "start_time": "2022-11-06T12:07:23.092Z"
   },
   {
    "duration": 17,
    "start_time": "2022-11-06T12:07:23.119Z"
   },
   {
    "duration": 26,
    "start_time": "2022-11-06T12:07:23.138Z"
   },
   {
    "duration": 45,
    "start_time": "2022-11-06T12:07:23.165Z"
   },
   {
    "duration": 88,
    "start_time": "2022-11-06T12:07:23.212Z"
   },
   {
    "duration": 105,
    "start_time": "2022-11-06T12:07:23.301Z"
   },
   {
    "duration": 0,
    "start_time": "2022-11-06T12:07:23.407Z"
   },
   {
    "duration": 0,
    "start_time": "2022-11-06T12:07:23.409Z"
   },
   {
    "duration": 0,
    "start_time": "2022-11-06T12:07:23.410Z"
   },
   {
    "duration": 0,
    "start_time": "2022-11-06T12:07:23.412Z"
   },
   {
    "duration": 9,
    "start_time": "2022-11-06T12:07:36.072Z"
   },
   {
    "duration": 1187,
    "start_time": "2022-11-06T12:07:36.261Z"
   },
   {
    "duration": 4,
    "start_time": "2022-11-06T12:07:45.514Z"
   },
   {
    "duration": 9,
    "start_time": "2022-11-06T12:07:45.810Z"
   },
   {
    "duration": 12,
    "start_time": "2022-11-06T12:07:46.323Z"
   },
   {
    "duration": 8,
    "start_time": "2022-11-06T12:07:48.598Z"
   },
   {
    "duration": 36,
    "start_time": "2022-11-06T12:07:50.552Z"
   },
   {
    "duration": 77,
    "start_time": "2022-11-06T12:07:53.235Z"
   },
   {
    "duration": 11,
    "start_time": "2022-11-06T12:07:54.971Z"
   },
   {
    "duration": 43,
    "start_time": "2022-11-06T12:11:37.172Z"
   },
   {
    "duration": 39,
    "start_time": "2022-11-06T12:12:19.335Z"
   },
   {
    "duration": 7,
    "start_time": "2022-11-06T12:12:27.308Z"
   },
   {
    "duration": 40,
    "start_time": "2022-11-06T12:12:34.968Z"
   },
   {
    "duration": 65,
    "start_time": "2022-11-06T12:13:10.917Z"
   },
   {
    "duration": 62,
    "start_time": "2022-11-06T12:13:22.221Z"
   },
   {
    "duration": 41,
    "start_time": "2022-11-06T12:13:35.143Z"
   },
   {
    "duration": 1195,
    "start_time": "2022-11-06T12:14:23.761Z"
   },
   {
    "duration": 1190,
    "start_time": "2022-11-06T12:14:47.353Z"
   },
   {
    "duration": 55,
    "start_time": "2022-11-06T12:16:07.787Z"
   },
   {
    "duration": 60,
    "start_time": "2022-11-06T12:16:18.249Z"
   },
   {
    "duration": 83,
    "start_time": "2022-11-06T12:16:23.147Z"
   },
   {
    "duration": 23,
    "start_time": "2022-11-06T12:16:25.403Z"
   },
   {
    "duration": 1043,
    "start_time": "2022-11-06T12:16:45.471Z"
   },
   {
    "duration": 242,
    "start_time": "2022-11-06T12:16:46.516Z"
   },
   {
    "duration": 31,
    "start_time": "2022-11-06T12:16:46.760Z"
   },
   {
    "duration": 13,
    "start_time": "2022-11-06T12:16:46.793Z"
   },
   {
    "duration": 13,
    "start_time": "2022-11-06T12:16:46.807Z"
   },
   {
    "duration": 14,
    "start_time": "2022-11-06T12:16:46.821Z"
   },
   {
    "duration": 3,
    "start_time": "2022-11-06T12:16:46.837Z"
   },
   {
    "duration": 92,
    "start_time": "2022-11-06T12:16:46.841Z"
   },
   {
    "duration": 78,
    "start_time": "2022-11-06T12:16:46.935Z"
   },
   {
    "duration": 53,
    "start_time": "2022-11-06T12:16:47.016Z"
   },
   {
    "duration": 26,
    "start_time": "2022-11-06T12:16:47.071Z"
   },
   {
    "duration": 9,
    "start_time": "2022-11-06T12:16:47.099Z"
   },
   {
    "duration": 15,
    "start_time": "2022-11-06T12:16:47.110Z"
   },
   {
    "duration": 8,
    "start_time": "2022-11-06T12:16:47.127Z"
   },
   {
    "duration": 4,
    "start_time": "2022-11-06T12:16:47.137Z"
   },
   {
    "duration": 7,
    "start_time": "2022-11-06T12:16:47.142Z"
   },
   {
    "duration": 5,
    "start_time": "2022-11-06T12:16:47.151Z"
   },
   {
    "duration": 37,
    "start_time": "2022-11-06T12:16:47.157Z"
   },
   {
    "duration": 731,
    "start_time": "2022-11-06T12:16:47.195Z"
   },
   {
    "duration": 16,
    "start_time": "2022-11-06T12:16:47.928Z"
   },
   {
    "duration": 8,
    "start_time": "2022-11-06T12:16:47.946Z"
   },
   {
    "duration": 6,
    "start_time": "2022-11-06T12:16:47.956Z"
   },
   {
    "duration": 34,
    "start_time": "2022-11-06T12:16:47.963Z"
   },
   {
    "duration": 12,
    "start_time": "2022-11-06T12:16:47.999Z"
   },
   {
    "duration": 11,
    "start_time": "2022-11-06T12:16:48.012Z"
   },
   {
    "duration": 9,
    "start_time": "2022-11-06T12:16:48.024Z"
   },
   {
    "duration": 27,
    "start_time": "2022-11-06T12:16:48.034Z"
   },
   {
    "duration": 79,
    "start_time": "2022-11-06T12:16:48.064Z"
   },
   {
    "duration": 11,
    "start_time": "2022-11-06T12:16:48.144Z"
   },
   {
    "duration": 126,
    "start_time": "2022-11-06T12:16:48.157Z"
   },
   {
    "duration": 9,
    "start_time": "2022-11-06T12:16:48.290Z"
   },
   {
    "duration": 3,
    "start_time": "2022-11-06T12:16:48.301Z"
   },
   {
    "duration": 8,
    "start_time": "2022-11-06T12:16:48.306Z"
   },
   {
    "duration": 10,
    "start_time": "2022-11-06T12:16:48.316Z"
   },
   {
    "duration": 10,
    "start_time": "2022-11-06T12:16:48.328Z"
   },
   {
    "duration": 78,
    "start_time": "2022-11-06T12:16:48.339Z"
   },
   {
    "duration": 98,
    "start_time": "2022-11-06T12:16:48.418Z"
   },
   {
    "duration": 120,
    "start_time": "2022-11-06T12:16:48.518Z"
   },
   {
    "duration": 0,
    "start_time": "2022-11-06T12:16:48.640Z"
   },
   {
    "duration": 0,
    "start_time": "2022-11-06T12:16:48.641Z"
   },
   {
    "duration": 0,
    "start_time": "2022-11-06T12:16:48.642Z"
   },
   {
    "duration": 0,
    "start_time": "2022-11-06T12:16:48.643Z"
   },
   {
    "duration": 55,
    "start_time": "2022-11-06T12:16:59.743Z"
   },
   {
    "duration": 51,
    "start_time": "2022-11-06T12:17:09.163Z"
   },
   {
    "duration": 46,
    "start_time": "2022-11-06T12:17:26.386Z"
   },
   {
    "duration": 44,
    "start_time": "2022-11-06T12:18:08.824Z"
   },
   {
    "duration": 83,
    "start_time": "2022-11-06T12:18:32.164Z"
   },
   {
    "duration": 49,
    "start_time": "2022-11-06T12:18:54.462Z"
   },
   {
    "duration": 127,
    "start_time": "2022-11-06T12:18:56.654Z"
   },
   {
    "duration": 1031,
    "start_time": "2022-11-06T12:19:03.508Z"
   },
   {
    "duration": 205,
    "start_time": "2022-11-06T12:19:04.541Z"
   },
   {
    "duration": 18,
    "start_time": "2022-11-06T12:19:04.748Z"
   },
   {
    "duration": 28,
    "start_time": "2022-11-06T12:19:04.768Z"
   },
   {
    "duration": 12,
    "start_time": "2022-11-06T12:19:04.798Z"
   },
   {
    "duration": 12,
    "start_time": "2022-11-06T12:19:04.812Z"
   },
   {
    "duration": 4,
    "start_time": "2022-11-06T12:19:04.826Z"
   },
   {
    "duration": 97,
    "start_time": "2022-11-06T12:19:04.831Z"
   },
   {
    "duration": 75,
    "start_time": "2022-11-06T12:19:04.930Z"
   },
   {
    "duration": 57,
    "start_time": "2022-11-06T12:19:05.008Z"
   },
   {
    "duration": 24,
    "start_time": "2022-11-06T12:19:05.067Z"
   },
   {
    "duration": 9,
    "start_time": "2022-11-06T12:19:05.093Z"
   },
   {
    "duration": 18,
    "start_time": "2022-11-06T12:19:05.104Z"
   },
   {
    "duration": 10,
    "start_time": "2022-11-06T12:19:05.123Z"
   },
   {
    "duration": 4,
    "start_time": "2022-11-06T12:19:05.134Z"
   },
   {
    "duration": 9,
    "start_time": "2022-11-06T12:19:05.140Z"
   },
   {
    "duration": 43,
    "start_time": "2022-11-06T12:19:05.150Z"
   },
   {
    "duration": 7,
    "start_time": "2022-11-06T12:19:05.196Z"
   },
   {
    "duration": 758,
    "start_time": "2022-11-06T12:19:05.205Z"
   },
   {
    "duration": 27,
    "start_time": "2022-11-06T12:19:05.964Z"
   },
   {
    "duration": 9,
    "start_time": "2022-11-06T12:19:05.992Z"
   },
   {
    "duration": 14,
    "start_time": "2022-11-06T12:19:06.003Z"
   },
   {
    "duration": 12,
    "start_time": "2022-11-06T12:19:06.019Z"
   },
   {
    "duration": 13,
    "start_time": "2022-11-06T12:19:06.033Z"
   },
   {
    "duration": 14,
    "start_time": "2022-11-06T12:19:06.048Z"
   },
   {
    "duration": 33,
    "start_time": "2022-11-06T12:19:06.064Z"
   },
   {
    "duration": 24,
    "start_time": "2022-11-06T12:19:06.098Z"
   },
   {
    "duration": 70,
    "start_time": "2022-11-06T12:19:06.125Z"
   },
   {
    "duration": 10,
    "start_time": "2022-11-06T12:19:06.197Z"
   },
   {
    "duration": 114,
    "start_time": "2022-11-06T12:19:06.209Z"
   },
   {
    "duration": 9,
    "start_time": "2022-11-06T12:19:06.325Z"
   },
   {
    "duration": 4,
    "start_time": "2022-11-06T12:19:06.336Z"
   },
   {
    "duration": 10,
    "start_time": "2022-11-06T12:19:06.341Z"
   },
   {
    "duration": 11,
    "start_time": "2022-11-06T12:19:06.353Z"
   },
   {
    "duration": 29,
    "start_time": "2022-11-06T12:19:06.365Z"
   },
   {
    "duration": 50,
    "start_time": "2022-11-06T12:19:06.396Z"
   },
   {
    "duration": 223,
    "start_time": "2022-11-06T12:19:06.448Z"
   },
   {
    "duration": 0,
    "start_time": "2022-11-06T12:19:06.673Z"
   },
   {
    "duration": 0,
    "start_time": "2022-11-06T12:19:06.675Z"
   },
   {
    "duration": 0,
    "start_time": "2022-11-06T12:19:06.676Z"
   },
   {
    "duration": 0,
    "start_time": "2022-11-06T12:19:06.678Z"
   },
   {
    "duration": 0,
    "start_time": "2022-11-06T12:19:06.691Z"
   },
   {
    "duration": 72,
    "start_time": "2022-11-06T12:19:24.746Z"
   },
   {
    "duration": 82,
    "start_time": "2022-11-06T12:19:59.518Z"
   },
   {
    "duration": 94,
    "start_time": "2022-11-06T12:20:42.465Z"
   },
   {
    "duration": 16,
    "start_time": "2022-11-06T12:20:46.673Z"
   },
   {
    "duration": 50,
    "start_time": "2022-11-06T12:21:06.228Z"
   },
   {
    "duration": 88,
    "start_time": "2022-11-06T12:21:15.499Z"
   },
   {
    "duration": 91,
    "start_time": "2022-11-06T12:21:34.255Z"
   },
   {
    "duration": 89,
    "start_time": "2022-11-06T12:21:54.681Z"
   },
   {
    "duration": 11,
    "start_time": "2022-11-06T12:21:57.615Z"
   },
   {
    "duration": 9,
    "start_time": "2022-11-06T12:22:04.256Z"
   },
   {
    "duration": 5,
    "start_time": "2022-11-06T12:22:13.856Z"
   },
   {
    "duration": 5,
    "start_time": "2022-11-06T12:22:14.754Z"
   },
   {
    "duration": 11,
    "start_time": "2022-11-06T12:22:15.881Z"
   },
   {
    "duration": 6,
    "start_time": "2022-11-06T12:22:56.769Z"
   },
   {
    "duration": 1114,
    "start_time": "2022-11-06T12:22:57.520Z"
   },
   {
    "duration": 0,
    "start_time": "2022-11-06T12:22:58.636Z"
   },
   {
    "duration": 11,
    "start_time": "2022-11-06T12:24:34.112Z"
   },
   {
    "duration": 5,
    "start_time": "2022-11-06T12:24:35.296Z"
   },
   {
    "duration": 6,
    "start_time": "2022-11-06T12:24:49.869Z"
   },
   {
    "duration": 1294,
    "start_time": "2022-11-06T12:24:50.530Z"
   },
   {
    "duration": 8,
    "start_time": "2022-11-06T12:24:57.130Z"
   },
   {
    "duration": 10,
    "start_time": "2022-11-06T12:25:18.993Z"
   },
   {
    "duration": 5,
    "start_time": "2022-11-06T12:25:22.652Z"
   },
   {
    "duration": 1126,
    "start_time": "2022-11-06T12:25:23.398Z"
   },
   {
    "duration": 4,
    "start_time": "2022-11-06T12:25:39.724Z"
   },
   {
    "duration": 162,
    "start_time": "2022-11-06T12:25:40.109Z"
   },
   {
    "duration": 20,
    "start_time": "2022-11-06T12:25:40.481Z"
   },
   {
    "duration": 74,
    "start_time": "2022-11-06T12:25:40.689Z"
   },
   {
    "duration": 15,
    "start_time": "2022-11-06T12:25:41.488Z"
   },
   {
    "duration": 14,
    "start_time": "2022-11-06T12:25:42.099Z"
   },
   {
    "duration": 4,
    "start_time": "2022-11-06T12:25:42.302Z"
   },
   {
    "duration": 56,
    "start_time": "2022-11-06T12:25:42.542Z"
   },
   {
    "duration": 73,
    "start_time": "2022-11-06T12:25:42.797Z"
   },
   {
    "duration": 50,
    "start_time": "2022-11-06T12:25:43.040Z"
   },
   {
    "duration": 9,
    "start_time": "2022-11-06T12:25:43.579Z"
   },
   {
    "duration": 10,
    "start_time": "2022-11-06T12:25:43.809Z"
   },
   {
    "duration": 15,
    "start_time": "2022-11-06T12:25:44.326Z"
   },
   {
    "duration": 12,
    "start_time": "2022-11-06T12:25:44.599Z"
   },
   {
    "duration": 5,
    "start_time": "2022-11-06T12:25:45.524Z"
   },
   {
    "duration": 8,
    "start_time": "2022-11-06T12:25:45.973Z"
   },
   {
    "duration": 6,
    "start_time": "2022-11-06T12:25:46.461Z"
   },
   {
    "duration": 6,
    "start_time": "2022-11-06T12:25:47.074Z"
   },
   {
    "duration": 741,
    "start_time": "2022-11-06T12:25:47.699Z"
   },
   {
    "duration": 16,
    "start_time": "2022-11-06T12:25:48.443Z"
   },
   {
    "duration": 10,
    "start_time": "2022-11-06T12:25:48.461Z"
   },
   {
    "duration": 7,
    "start_time": "2022-11-06T12:25:48.870Z"
   },
   {
    "duration": 8,
    "start_time": "2022-11-06T12:25:49.332Z"
   },
   {
    "duration": 18,
    "start_time": "2022-11-06T12:25:49.555Z"
   },
   {
    "duration": 17,
    "start_time": "2022-11-06T12:25:50.029Z"
   },
   {
    "duration": 12,
    "start_time": "2022-11-06T12:25:50.956Z"
   },
   {
    "duration": 38,
    "start_time": "2022-11-06T12:25:53.406Z"
   },
   {
    "duration": 67,
    "start_time": "2022-11-06T12:25:55.350Z"
   },
   {
    "duration": 11,
    "start_time": "2022-11-06T12:25:56.316Z"
   },
   {
    "duration": 155,
    "start_time": "2022-11-06T12:25:57.003Z"
   },
   {
    "duration": 12,
    "start_time": "2022-11-06T12:25:58.276Z"
   },
   {
    "duration": 4,
    "start_time": "2022-11-06T12:25:59.454Z"
   },
   {
    "duration": 11,
    "start_time": "2022-11-06T12:26:00.102Z"
   },
   {
    "duration": 14,
    "start_time": "2022-11-06T12:26:01.836Z"
   },
   {
    "duration": 10,
    "start_time": "2022-11-06T12:26:03.679Z"
   },
   {
    "duration": 45,
    "start_time": "2022-11-06T12:26:04.772Z"
   },
   {
    "duration": 94,
    "start_time": "2022-11-06T12:26:06.083Z"
   },
   {
    "duration": 10,
    "start_time": "2022-11-06T12:26:07.168Z"
   },
   {
    "duration": 5,
    "start_time": "2022-11-06T12:26:08.505Z"
   },
   {
    "duration": 1263,
    "start_time": "2022-11-06T12:26:09.197Z"
   },
   {
    "duration": 12,
    "start_time": "2022-11-06T12:29:26.861Z"
   },
   {
    "duration": 12,
    "start_time": "2022-11-06T12:29:40.947Z"
   },
   {
    "duration": 13,
    "start_time": "2022-11-06T12:30:50.097Z"
   },
   {
    "duration": 5,
    "start_time": "2022-11-06T12:31:47.837Z"
   },
   {
    "duration": 1171,
    "start_time": "2022-11-06T12:31:48.286Z"
   },
   {
    "duration": 14,
    "start_time": "2022-11-06T12:34:04.737Z"
   },
   {
    "duration": 9,
    "start_time": "2022-11-06T12:34:45.878Z"
   },
   {
    "duration": 1309,
    "start_time": "2022-11-06T12:34:57.828Z"
   },
   {
    "duration": 11,
    "start_time": "2022-11-06T12:35:14.942Z"
   },
   {
    "duration": 11,
    "start_time": "2022-11-06T12:35:24.937Z"
   },
   {
    "duration": 11,
    "start_time": "2022-11-06T12:35:29.245Z"
   },
   {
    "duration": 5,
    "start_time": "2022-11-06T12:35:50.233Z"
   },
   {
    "duration": 11,
    "start_time": "2022-11-06T12:35:54.943Z"
   },
   {
    "duration": 15,
    "start_time": "2022-11-06T12:36:14.461Z"
   },
   {
    "duration": 6,
    "start_time": "2022-11-06T12:36:15.889Z"
   },
   {
    "duration": 6,
    "start_time": "2022-11-06T12:38:19.706Z"
   },
   {
    "duration": 13,
    "start_time": "2022-11-06T12:38:20.923Z"
   },
   {
    "duration": 5,
    "start_time": "2022-11-06T12:40:09.227Z"
   },
   {
    "duration": 1898,
    "start_time": "2022-11-06T12:40:26.681Z"
   },
   {
    "duration": 5,
    "start_time": "2022-11-06T12:40:55.013Z"
   },
   {
    "duration": 1134,
    "start_time": "2022-11-06T12:40:57.720Z"
   },
   {
    "duration": 1052,
    "start_time": "2022-11-06T12:41:57.228Z"
   },
   {
    "duration": 225,
    "start_time": "2022-11-06T12:41:58.282Z"
   },
   {
    "duration": 20,
    "start_time": "2022-11-06T12:41:58.509Z"
   },
   {
    "duration": 12,
    "start_time": "2022-11-06T12:41:58.531Z"
   },
   {
    "duration": 12,
    "start_time": "2022-11-06T12:41:58.545Z"
   },
   {
    "duration": 42,
    "start_time": "2022-11-06T12:41:58.558Z"
   },
   {
    "duration": 3,
    "start_time": "2022-11-06T12:41:58.602Z"
   },
   {
    "duration": 89,
    "start_time": "2022-11-06T12:41:58.607Z"
   },
   {
    "duration": 76,
    "start_time": "2022-11-06T12:41:58.698Z"
   },
   {
    "duration": 75,
    "start_time": "2022-11-06T12:41:58.777Z"
   },
   {
    "duration": 11,
    "start_time": "2022-11-06T12:41:58.854Z"
   },
   {
    "duration": 25,
    "start_time": "2022-11-06T12:41:58.867Z"
   },
   {
    "duration": 17,
    "start_time": "2022-11-06T12:41:58.894Z"
   },
   {
    "duration": 9,
    "start_time": "2022-11-06T12:41:58.913Z"
   },
   {
    "duration": 7,
    "start_time": "2022-11-06T12:41:58.924Z"
   },
   {
    "duration": 8,
    "start_time": "2022-11-06T12:41:58.932Z"
   },
   {
    "duration": 9,
    "start_time": "2022-11-06T12:41:58.942Z"
   },
   {
    "duration": 41,
    "start_time": "2022-11-06T12:41:58.952Z"
   },
   {
    "duration": 779,
    "start_time": "2022-11-06T12:41:58.994Z"
   },
   {
    "duration": 25,
    "start_time": "2022-11-06T12:41:59.774Z"
   },
   {
    "duration": 10,
    "start_time": "2022-11-06T12:41:59.801Z"
   },
   {
    "duration": 6,
    "start_time": "2022-11-06T12:41:59.813Z"
   },
   {
    "duration": 10,
    "start_time": "2022-11-06T12:41:59.821Z"
   },
   {
    "duration": 12,
    "start_time": "2022-11-06T12:41:59.833Z"
   },
   {
    "duration": 47,
    "start_time": "2022-11-06T12:41:59.847Z"
   },
   {
    "duration": 9,
    "start_time": "2022-11-06T12:41:59.896Z"
   },
   {
    "duration": 27,
    "start_time": "2022-11-06T12:41:59.907Z"
   },
   {
    "duration": 85,
    "start_time": "2022-11-06T12:41:59.937Z"
   },
   {
    "duration": 13,
    "start_time": "2022-11-06T12:42:00.023Z"
   },
   {
    "duration": 126,
    "start_time": "2022-11-06T12:42:00.037Z"
   },
   {
    "duration": 10,
    "start_time": "2022-11-06T12:42:00.165Z"
   },
   {
    "duration": 14,
    "start_time": "2022-11-06T12:42:00.177Z"
   },
   {
    "duration": 25,
    "start_time": "2022-11-06T12:42:00.193Z"
   },
   {
    "duration": 24,
    "start_time": "2022-11-06T12:42:00.220Z"
   },
   {
    "duration": 20,
    "start_time": "2022-11-06T12:42:00.246Z"
   },
   {
    "duration": 62,
    "start_time": "2022-11-06T12:42:00.267Z"
   },
   {
    "duration": 110,
    "start_time": "2022-11-06T12:42:00.331Z"
   },
   {
    "duration": 5,
    "start_time": "2022-11-06T12:42:00.444Z"
   },
   {
    "duration": 19,
    "start_time": "2022-11-06T12:42:00.451Z"
   },
   {
    "duration": 1217,
    "start_time": "2022-11-06T12:42:00.472Z"
   },
   {
    "duration": 0,
    "start_time": "2022-11-06T12:42:01.692Z"
   },
   {
    "duration": 0,
    "start_time": "2022-11-06T12:42:01.693Z"
   },
   {
    "duration": 0,
    "start_time": "2022-11-06T12:42:01.694Z"
   },
   {
    "duration": 0,
    "start_time": "2022-11-06T12:42:01.695Z"
   },
   {
    "duration": 6,
    "start_time": "2022-11-06T12:44:39.117Z"
   },
   {
    "duration": 5,
    "start_time": "2022-11-06T12:44:39.357Z"
   },
   {
    "duration": 1088,
    "start_time": "2022-11-06T12:44:40.011Z"
   },
   {
    "duration": 11,
    "start_time": "2022-11-06T12:44:44.989Z"
   },
   {
    "duration": 5,
    "start_time": "2022-11-06T12:44:45.190Z"
   },
   {
    "duration": 1081,
    "start_time": "2022-11-06T12:44:47.265Z"
   },
   {
    "duration": 7,
    "start_time": "2022-11-06T12:44:49.115Z"
   },
   {
    "duration": 102,
    "start_time": "2022-11-06T12:45:23.559Z"
   },
   {
    "duration": 1152,
    "start_time": "2022-11-06T12:47:31.099Z"
   },
   {
    "duration": 1185,
    "start_time": "2022-11-06T12:48:11.304Z"
   },
   {
    "duration": 1230,
    "start_time": "2022-11-06T12:48:46.671Z"
   },
   {
    "duration": 1573,
    "start_time": "2022-11-06T12:49:00.231Z"
   },
   {
    "duration": 1170,
    "start_time": "2022-11-06T12:49:17.981Z"
   },
   {
    "duration": 1390,
    "start_time": "2022-11-06T12:50:00.406Z"
   },
   {
    "duration": 49,
    "start_time": "2022-11-06T12:50:04.983Z"
   },
   {
    "duration": 1254,
    "start_time": "2022-11-06T12:50:06.872Z"
   },
   {
    "duration": 4,
    "start_time": "2022-11-06T12:50:15.289Z"
   },
   {
    "duration": 153,
    "start_time": "2022-11-06T12:50:15.850Z"
   },
   {
    "duration": 21,
    "start_time": "2022-11-06T12:50:16.515Z"
   },
   {
    "duration": 10,
    "start_time": "2022-11-06T12:50:16.969Z"
   },
   {
    "duration": 12,
    "start_time": "2022-11-06T12:50:18.508Z"
   },
   {
    "duration": 14,
    "start_time": "2022-11-06T12:50:19.648Z"
   },
   {
    "duration": 4,
    "start_time": "2022-11-06T12:50:20.048Z"
   },
   {
    "duration": 73,
    "start_time": "2022-11-06T12:50:20.411Z"
   },
   {
    "duration": 65,
    "start_time": "2022-11-06T12:50:20.761Z"
   },
   {
    "duration": 55,
    "start_time": "2022-11-06T12:50:21.105Z"
   },
   {
    "duration": 9,
    "start_time": "2022-11-06T12:50:21.851Z"
   },
   {
    "duration": 7,
    "start_time": "2022-11-06T12:50:22.182Z"
   },
   {
    "duration": 15,
    "start_time": "2022-11-06T12:50:22.886Z"
   },
   {
    "duration": 9,
    "start_time": "2022-11-06T12:50:23.177Z"
   },
   {
    "duration": 4,
    "start_time": "2022-11-06T12:50:24.218Z"
   },
   {
    "duration": 6,
    "start_time": "2022-11-06T12:50:24.676Z"
   },
   {
    "duration": 5,
    "start_time": "2022-11-06T12:50:25.128Z"
   },
   {
    "duration": 6,
    "start_time": "2022-11-06T12:50:25.630Z"
   },
   {
    "duration": 795,
    "start_time": "2022-11-06T12:50:26.085Z"
   },
   {
    "duration": 18,
    "start_time": "2022-11-06T12:50:26.882Z"
   },
   {
    "duration": 10,
    "start_time": "2022-11-06T12:50:26.902Z"
   },
   {
    "duration": 6,
    "start_time": "2022-11-06T12:50:27.297Z"
   },
   {
    "duration": 8,
    "start_time": "2022-11-06T12:50:28.089Z"
   },
   {
    "duration": 14,
    "start_time": "2022-11-06T12:50:28.409Z"
   },
   {
    "duration": 11,
    "start_time": "2022-11-06T12:50:29.081Z"
   },
   {
    "duration": 9,
    "start_time": "2022-11-06T12:50:30.984Z"
   },
   {
    "duration": 25,
    "start_time": "2022-11-06T12:50:33.121Z"
   },
   {
    "duration": 52,
    "start_time": "2022-11-06T12:50:38.089Z"
   },
   {
    "duration": 12,
    "start_time": "2022-11-06T12:50:39.350Z"
   },
   {
    "duration": 110,
    "start_time": "2022-11-06T12:50:39.773Z"
   },
   {
    "duration": 9,
    "start_time": "2022-11-06T12:50:40.570Z"
   },
   {
    "duration": 4,
    "start_time": "2022-11-06T12:50:41.166Z"
   },
   {
    "duration": 10,
    "start_time": "2022-11-06T12:50:41.412Z"
   },
   {
    "duration": 12,
    "start_time": "2022-11-06T12:50:41.751Z"
   },
   {
    "duration": 9,
    "start_time": "2022-11-06T12:50:44.100Z"
   },
   {
    "duration": 50,
    "start_time": "2022-11-06T12:50:45.573Z"
   },
   {
    "duration": 1246,
    "start_time": "2022-11-06T12:50:47.495Z"
   },
   {
    "duration": 5,
    "start_time": "2022-11-06T12:51:06.788Z"
   },
   {
    "duration": 5,
    "start_time": "2022-11-06T12:51:07.161Z"
   },
   {
    "duration": 1102,
    "start_time": "2022-11-06T12:51:07.710Z"
   },
   {
    "duration": 86,
    "start_time": "2022-11-06T12:52:02.550Z"
   },
   {
    "duration": 4,
    "start_time": "2022-11-06T12:52:03.597Z"
   },
   {
    "duration": 88,
    "start_time": "2022-11-06T12:52:10.055Z"
   },
   {
    "duration": 1182,
    "start_time": "2022-11-06T12:52:18.867Z"
   },
   {
    "duration": 89,
    "start_time": "2022-11-06T12:52:28.801Z"
   },
   {
    "duration": 1345,
    "start_time": "2022-11-06T12:55:13.267Z"
   },
   {
    "duration": 100,
    "start_time": "2022-11-06T12:55:20.591Z"
   },
   {
    "duration": 6,
    "start_time": "2022-11-06T12:55:23.378Z"
   },
   {
    "duration": 8,
    "start_time": "2022-11-06T12:55:23.848Z"
   },
   {
    "duration": 1084,
    "start_time": "2022-11-06T12:55:24.743Z"
   },
   {
    "duration": 9,
    "start_time": "2022-11-06T12:56:35.116Z"
   },
   {
    "duration": 41,
    "start_time": "2022-11-06T12:56:43.294Z"
   },
   {
    "duration": 1163,
    "start_time": "2022-11-06T12:56:50.101Z"
   },
   {
    "duration": 1189,
    "start_time": "2022-11-06T12:57:12.082Z"
   },
   {
    "duration": 104,
    "start_time": "2022-11-06T12:57:39.887Z"
   },
   {
    "duration": 5,
    "start_time": "2022-11-06T12:58:08.843Z"
   },
   {
    "duration": 5,
    "start_time": "2022-11-06T12:58:21.338Z"
   },
   {
    "duration": 9,
    "start_time": "2022-11-06T12:58:24.032Z"
   },
   {
    "duration": 11,
    "start_time": "2022-11-06T12:58:52.370Z"
   },
   {
    "duration": 11,
    "start_time": "2022-11-06T12:58:58.185Z"
   },
   {
    "duration": 11,
    "start_time": "2022-11-06T12:59:01.411Z"
   },
   {
    "duration": 11,
    "start_time": "2022-11-06T12:59:11.980Z"
   },
   {
    "duration": 1092,
    "start_time": "2022-11-06T12:59:18.757Z"
   },
   {
    "duration": 215,
    "start_time": "2022-11-06T12:59:19.851Z"
   },
   {
    "duration": 24,
    "start_time": "2022-11-06T12:59:20.068Z"
   },
   {
    "duration": 12,
    "start_time": "2022-11-06T12:59:20.094Z"
   },
   {
    "duration": 13,
    "start_time": "2022-11-06T12:59:20.109Z"
   },
   {
    "duration": 13,
    "start_time": "2022-11-06T12:59:20.123Z"
   },
   {
    "duration": 3,
    "start_time": "2022-11-06T12:59:20.138Z"
   },
   {
    "duration": 95,
    "start_time": "2022-11-06T12:59:20.143Z"
   },
   {
    "duration": 85,
    "start_time": "2022-11-06T12:59:20.239Z"
   },
   {
    "duration": 53,
    "start_time": "2022-11-06T12:59:20.326Z"
   },
   {
    "duration": 18,
    "start_time": "2022-11-06T12:59:20.380Z"
   },
   {
    "duration": 9,
    "start_time": "2022-11-06T12:59:20.400Z"
   },
   {
    "duration": 17,
    "start_time": "2022-11-06T12:59:20.411Z"
   },
   {
    "duration": 11,
    "start_time": "2022-11-06T12:59:20.431Z"
   },
   {
    "duration": 6,
    "start_time": "2022-11-06T12:59:20.444Z"
   },
   {
    "duration": 42,
    "start_time": "2022-11-06T12:59:20.452Z"
   },
   {
    "duration": 6,
    "start_time": "2022-11-06T12:59:20.496Z"
   },
   {
    "duration": 5,
    "start_time": "2022-11-06T12:59:20.503Z"
   },
   {
    "duration": 798,
    "start_time": "2022-11-06T12:59:20.510Z"
   },
   {
    "duration": 17,
    "start_time": "2022-11-06T12:59:21.311Z"
   },
   {
    "duration": 9,
    "start_time": "2022-11-06T12:59:21.331Z"
   },
   {
    "duration": 6,
    "start_time": "2022-11-06T12:59:21.341Z"
   },
   {
    "duration": 11,
    "start_time": "2022-11-06T12:59:21.348Z"
   },
   {
    "duration": 38,
    "start_time": "2022-11-06T12:59:21.360Z"
   },
   {
    "duration": 12,
    "start_time": "2022-11-06T12:59:21.400Z"
   },
   {
    "duration": 8,
    "start_time": "2022-11-06T12:59:21.414Z"
   },
   {
    "duration": 28,
    "start_time": "2022-11-06T12:59:21.423Z"
   },
   {
    "duration": 85,
    "start_time": "2022-11-06T12:59:21.453Z"
   },
   {
    "duration": 11,
    "start_time": "2022-11-06T12:59:21.539Z"
   },
   {
    "duration": 128,
    "start_time": "2022-11-06T12:59:21.552Z"
   },
   {
    "duration": 11,
    "start_time": "2022-11-06T12:59:21.681Z"
   },
   {
    "duration": 5,
    "start_time": "2022-11-06T12:59:21.693Z"
   },
   {
    "duration": 8,
    "start_time": "2022-11-06T12:59:21.699Z"
   },
   {
    "duration": 10,
    "start_time": "2022-11-06T12:59:21.709Z"
   },
   {
    "duration": 10,
    "start_time": "2022-11-06T12:59:21.721Z"
   },
   {
    "duration": 77,
    "start_time": "2022-11-06T12:59:21.733Z"
   },
   {
    "duration": 97,
    "start_time": "2022-11-06T12:59:21.812Z"
   },
   {
    "duration": 102,
    "start_time": "2022-11-06T12:59:21.911Z"
   },
   {
    "duration": 0,
    "start_time": "2022-11-06T12:59:22.015Z"
   },
   {
    "duration": 13,
    "start_time": "2022-11-06T12:59:30.059Z"
   },
   {
    "duration": 6,
    "start_time": "2022-11-06T13:01:26.624Z"
   },
   {
    "duration": 12,
    "start_time": "2022-11-06T13:05:21.567Z"
   },
   {
    "duration": 9,
    "start_time": "2022-11-06T13:05:47.958Z"
   },
   {
    "duration": 5,
    "start_time": "2022-11-06T13:05:54.185Z"
   },
   {
    "duration": 9,
    "start_time": "2022-11-06T13:07:37.724Z"
   },
   {
    "duration": 9,
    "start_time": "2022-11-06T13:07:50.284Z"
   },
   {
    "duration": 1137,
    "start_time": "2022-11-06T13:07:57.672Z"
   },
   {
    "duration": 11,
    "start_time": "2022-11-06T13:08:15.886Z"
   },
   {
    "duration": 11,
    "start_time": "2022-11-06T13:08:21.015Z"
   },
   {
    "duration": 9,
    "start_time": "2022-11-06T14:46:24.657Z"
   },
   {
    "duration": 10,
    "start_time": "2022-11-06T14:46:37.159Z"
   },
   {
    "duration": 12,
    "start_time": "2022-11-06T14:46:56.120Z"
   },
   {
    "duration": 47,
    "start_time": "2022-11-06T14:48:05.426Z"
   },
   {
    "duration": 91,
    "start_time": "2022-11-06T14:48:25.170Z"
   },
   {
    "duration": 11,
    "start_time": "2022-11-06T14:48:26.456Z"
   },
   {
    "duration": 10,
    "start_time": "2022-11-06T14:48:31.554Z"
   },
   {
    "duration": 12,
    "start_time": "2022-11-06T14:48:38.063Z"
   },
   {
    "duration": 7,
    "start_time": "2022-11-06T14:48:38.916Z"
   },
   {
    "duration": 1359,
    "start_time": "2022-11-06T14:48:39.512Z"
   },
   {
    "duration": 53,
    "start_time": "2022-11-06T14:49:00.468Z"
   },
   {
    "duration": 88,
    "start_time": "2022-11-06T14:49:03.305Z"
   },
   {
    "duration": 11,
    "start_time": "2022-11-06T14:49:04.492Z"
   },
   {
    "duration": 59,
    "start_time": "2022-11-06T14:50:33.691Z"
   },
   {
    "duration": 103,
    "start_time": "2022-11-06T14:50:36.427Z"
   },
   {
    "duration": 11,
    "start_time": "2022-11-06T14:50:43.991Z"
   },
   {
    "duration": 5,
    "start_time": "2022-11-06T14:50:44.865Z"
   },
   {
    "duration": 1173,
    "start_time": "2022-11-06T14:50:45.474Z"
   },
   {
    "duration": 1083,
    "start_time": "2022-11-06T14:51:03.825Z"
   },
   {
    "duration": 232,
    "start_time": "2022-11-06T14:51:04.909Z"
   },
   {
    "duration": 21,
    "start_time": "2022-11-06T14:51:05.143Z"
   },
   {
    "duration": 39,
    "start_time": "2022-11-06T14:51:05.166Z"
   },
   {
    "duration": 13,
    "start_time": "2022-11-06T14:51:05.207Z"
   },
   {
    "duration": 14,
    "start_time": "2022-11-06T14:51:05.222Z"
   },
   {
    "duration": 4,
    "start_time": "2022-11-06T14:51:05.238Z"
   },
   {
    "duration": 78,
    "start_time": "2022-11-06T14:51:05.244Z"
   },
   {
    "duration": 79,
    "start_time": "2022-11-06T14:51:05.324Z"
   },
   {
    "duration": 52,
    "start_time": "2022-11-06T14:51:05.406Z"
   },
   {
    "duration": 11,
    "start_time": "2022-11-06T14:51:05.459Z"
   },
   {
    "duration": 34,
    "start_time": "2022-11-06T14:51:05.472Z"
   },
   {
    "duration": 27,
    "start_time": "2022-11-06T14:51:05.507Z"
   },
   {
    "duration": 9,
    "start_time": "2022-11-06T14:51:05.536Z"
   },
   {
    "duration": 20,
    "start_time": "2022-11-06T14:51:05.546Z"
   },
   {
    "duration": 15,
    "start_time": "2022-11-06T14:51:05.567Z"
   },
   {
    "duration": 21,
    "start_time": "2022-11-06T14:51:05.584Z"
   },
   {
    "duration": 18,
    "start_time": "2022-11-06T14:51:05.607Z"
   },
   {
    "duration": 812,
    "start_time": "2022-11-06T14:51:05.627Z"
   },
   {
    "duration": 17,
    "start_time": "2022-11-06T14:51:06.441Z"
   },
   {
    "duration": 11,
    "start_time": "2022-11-06T14:51:06.460Z"
   },
   {
    "duration": 15,
    "start_time": "2022-11-06T14:51:06.472Z"
   },
   {
    "duration": 21,
    "start_time": "2022-11-06T14:51:06.492Z"
   },
   {
    "duration": 10,
    "start_time": "2022-11-06T14:51:06.515Z"
   },
   {
    "duration": 33,
    "start_time": "2022-11-06T14:51:06.527Z"
   },
   {
    "duration": 14,
    "start_time": "2022-11-06T14:51:06.562Z"
   },
   {
    "duration": 39,
    "start_time": "2022-11-06T14:51:06.578Z"
   },
   {
    "duration": 59,
    "start_time": "2022-11-06T14:51:06.621Z"
   },
   {
    "duration": 31,
    "start_time": "2022-11-06T14:51:06.682Z"
   },
   {
    "duration": 134,
    "start_time": "2022-11-06T14:51:06.715Z"
   },
   {
    "duration": 9,
    "start_time": "2022-11-06T14:51:06.851Z"
   },
   {
    "duration": 42,
    "start_time": "2022-11-06T14:51:06.861Z"
   },
   {
    "duration": 23,
    "start_time": "2022-11-06T14:51:06.905Z"
   },
   {
    "duration": 34,
    "start_time": "2022-11-06T14:51:06.930Z"
   },
   {
    "duration": 21,
    "start_time": "2022-11-06T14:51:06.966Z"
   },
   {
    "duration": 71,
    "start_time": "2022-11-06T14:51:06.989Z"
   },
   {
    "duration": 89,
    "start_time": "2022-11-06T14:51:07.062Z"
   },
   {
    "duration": 9,
    "start_time": "2022-11-06T14:51:07.153Z"
   },
   {
    "duration": 17,
    "start_time": "2022-11-06T14:51:07.164Z"
   },
   {
    "duration": 1285,
    "start_time": "2022-11-06T14:51:07.183Z"
   },
   {
    "duration": 95,
    "start_time": "2022-11-06T16:44:20.768Z"
   },
   {
    "duration": 12,
    "start_time": "2022-11-06T16:44:29.677Z"
   },
   {
    "duration": 5,
    "start_time": "2022-11-06T16:48:34.316Z"
   },
   {
    "duration": 1138,
    "start_time": "2022-11-06T16:48:34.648Z"
   },
   {
    "duration": 14,
    "start_time": "2022-11-06T16:49:44.414Z"
   },
   {
    "duration": 5,
    "start_time": "2022-11-06T16:49:44.669Z"
   },
   {
    "duration": 1193,
    "start_time": "2022-11-06T16:49:45.344Z"
   },
   {
    "duration": 1146,
    "start_time": "2022-11-06T17:49:48.384Z"
   },
   {
    "duration": 48,
    "start_time": "2022-11-06T18:05:03.372Z"
   },
   {
    "duration": 86,
    "start_time": "2022-11-06T18:05:10.349Z"
   },
   {
    "duration": 7,
    "start_time": "2022-11-06T18:05:11.292Z"
   },
   {
    "duration": 5,
    "start_time": "2022-11-06T18:05:14.253Z"
   },
   {
    "duration": 1164,
    "start_time": "2022-11-06T18:05:15.158Z"
   },
   {
    "duration": 13,
    "start_time": "2022-11-06T18:06:39.096Z"
   },
   {
    "duration": 5,
    "start_time": "2022-11-06T18:06:46.166Z"
   },
   {
    "duration": 1185,
    "start_time": "2022-11-06T18:06:46.765Z"
   },
   {
    "duration": 80,
    "start_time": "2022-11-06T18:13:51.540Z"
   },
   {
    "duration": 1071,
    "start_time": "2022-11-06T18:14:01.629Z"
   },
   {
    "duration": 208,
    "start_time": "2022-11-06T18:14:02.703Z"
   },
   {
    "duration": 19,
    "start_time": "2022-11-06T18:14:02.913Z"
   },
   {
    "duration": 13,
    "start_time": "2022-11-06T18:14:02.934Z"
   },
   {
    "duration": 12,
    "start_time": "2022-11-06T18:14:02.949Z"
   },
   {
    "duration": 36,
    "start_time": "2022-11-06T18:14:02.962Z"
   },
   {
    "duration": 237,
    "start_time": "2022-11-06T18:14:03.000Z"
   },
   {
    "duration": 67,
    "start_time": "2022-11-06T18:14:03.239Z"
   },
   {
    "duration": 78,
    "start_time": "2022-11-06T18:14:03.307Z"
   },
   {
    "duration": 54,
    "start_time": "2022-11-06T18:14:03.391Z"
   },
   {
    "duration": 10,
    "start_time": "2022-11-06T18:14:03.447Z"
   },
   {
    "duration": 9,
    "start_time": "2022-11-06T18:14:03.458Z"
   },
   {
    "duration": 17,
    "start_time": "2022-11-06T18:14:03.491Z"
   },
   {
    "duration": 9,
    "start_time": "2022-11-06T18:14:03.511Z"
   },
   {
    "duration": 4,
    "start_time": "2022-11-06T18:14:03.522Z"
   },
   {
    "duration": 17,
    "start_time": "2022-11-06T18:14:03.528Z"
   },
   {
    "duration": 7,
    "start_time": "2022-11-06T18:14:03.546Z"
   },
   {
    "duration": 6,
    "start_time": "2022-11-06T18:14:03.555Z"
   },
   {
    "duration": 794,
    "start_time": "2022-11-06T18:14:03.563Z"
   },
   {
    "duration": 16,
    "start_time": "2022-11-06T18:14:04.359Z"
   },
   {
    "duration": 21,
    "start_time": "2022-11-06T18:14:04.377Z"
   },
   {
    "duration": 22,
    "start_time": "2022-11-06T18:14:04.400Z"
   },
   {
    "duration": 28,
    "start_time": "2022-11-06T18:14:04.426Z"
   },
   {
    "duration": 14,
    "start_time": "2022-11-06T18:14:04.456Z"
   },
   {
    "duration": 17,
    "start_time": "2022-11-06T18:14:04.472Z"
   },
   {
    "duration": 16,
    "start_time": "2022-11-06T18:14:04.491Z"
   },
   {
    "duration": 28,
    "start_time": "2022-11-06T18:14:04.509Z"
   },
   {
    "duration": 71,
    "start_time": "2022-11-06T18:14:04.539Z"
   },
   {
    "duration": 12,
    "start_time": "2022-11-06T18:14:04.612Z"
   },
   {
    "duration": 333,
    "start_time": "2022-11-06T18:14:04.625Z"
   },
   {
    "duration": 9,
    "start_time": "2022-11-06T18:14:04.960Z"
   },
   {
    "duration": 24,
    "start_time": "2022-11-06T18:14:04.971Z"
   },
   {
    "duration": 14,
    "start_time": "2022-11-06T18:14:04.997Z"
   },
   {
    "duration": 28,
    "start_time": "2022-11-06T18:14:05.013Z"
   },
   {
    "duration": 13,
    "start_time": "2022-11-06T18:14:05.042Z"
   },
   {
    "duration": 60,
    "start_time": "2022-11-06T18:14:05.057Z"
   },
   {
    "duration": 176,
    "start_time": "2022-11-06T18:14:05.118Z"
   },
   {
    "duration": 0,
    "start_time": "2022-11-06T18:14:05.295Z"
   },
   {
    "duration": 0,
    "start_time": "2022-11-06T18:14:05.296Z"
   },
   {
    "duration": 0,
    "start_time": "2022-11-06T18:14:05.297Z"
   },
   {
    "duration": 74,
    "start_time": "2022-11-06T18:14:08.996Z"
   },
   {
    "duration": 78,
    "start_time": "2022-11-06T18:16:31.759Z"
   },
   {
    "duration": 10,
    "start_time": "2022-11-06T18:18:01.981Z"
   },
   {
    "duration": 5,
    "start_time": "2022-11-06T18:18:05.789Z"
   },
   {
    "duration": 1081,
    "start_time": "2022-11-06T18:18:06.578Z"
   },
   {
    "duration": 9,
    "start_time": "2022-11-06T18:19:12.502Z"
   },
   {
    "duration": 3,
    "start_time": "2022-11-06T18:19:13.573Z"
   },
   {
    "duration": 9,
    "start_time": "2022-11-06T18:19:13.876Z"
   },
   {
    "duration": 11,
    "start_time": "2022-11-06T18:19:14.157Z"
   },
   {
    "duration": 8,
    "start_time": "2022-11-06T18:19:16.204Z"
   },
   {
    "duration": 46,
    "start_time": "2022-11-06T18:19:17.924Z"
   },
   {
    "duration": 75,
    "start_time": "2022-11-06T18:19:19.891Z"
   },
   {
    "duration": 10,
    "start_time": "2022-11-06T18:19:21.841Z"
   },
   {
    "duration": 5,
    "start_time": "2022-11-06T18:19:23.313Z"
   },
   {
    "duration": 1093,
    "start_time": "2022-11-06T18:19:23.884Z"
   },
   {
    "duration": 994,
    "start_time": "2022-11-06T18:19:57.739Z"
   },
   {
    "duration": 215,
    "start_time": "2022-11-06T18:19:58.735Z"
   },
   {
    "duration": 18,
    "start_time": "2022-11-06T18:19:58.952Z"
   },
   {
    "duration": 31,
    "start_time": "2022-11-06T18:19:58.972Z"
   },
   {
    "duration": 13,
    "start_time": "2022-11-06T18:19:59.005Z"
   },
   {
    "duration": 14,
    "start_time": "2022-11-06T18:19:59.020Z"
   },
   {
    "duration": 4,
    "start_time": "2022-11-06T18:19:59.036Z"
   },
   {
    "duration": 98,
    "start_time": "2022-11-06T18:19:59.042Z"
   },
   {
    "duration": 79,
    "start_time": "2022-11-06T18:19:59.142Z"
   },
   {
    "duration": 53,
    "start_time": "2022-11-06T18:19:59.223Z"
   },
   {
    "duration": 21,
    "start_time": "2022-11-06T18:19:59.278Z"
   },
   {
    "duration": 8,
    "start_time": "2022-11-06T18:19:59.301Z"
   },
   {
    "duration": 15,
    "start_time": "2022-11-06T18:19:59.311Z"
   },
   {
    "duration": 8,
    "start_time": "2022-11-06T18:19:59.329Z"
   },
   {
    "duration": 4,
    "start_time": "2022-11-06T18:19:59.339Z"
   },
   {
    "duration": 6,
    "start_time": "2022-11-06T18:19:59.344Z"
   },
   {
    "duration": 40,
    "start_time": "2022-11-06T18:19:59.351Z"
   },
   {
    "duration": 5,
    "start_time": "2022-11-06T18:19:59.393Z"
   },
   {
    "duration": 714,
    "start_time": "2022-11-06T18:19:59.400Z"
   },
   {
    "duration": 15,
    "start_time": "2022-11-06T18:20:00.116Z"
   },
   {
    "duration": 8,
    "start_time": "2022-11-06T18:20:00.133Z"
   },
   {
    "duration": 13,
    "start_time": "2022-11-06T18:20:00.143Z"
   },
   {
    "duration": 14,
    "start_time": "2022-11-06T18:20:00.157Z"
   },
   {
    "duration": 28,
    "start_time": "2022-11-06T18:20:00.173Z"
   },
   {
    "duration": 11,
    "start_time": "2022-11-06T18:20:00.203Z"
   },
   {
    "duration": 8,
    "start_time": "2022-11-06T18:20:00.216Z"
   },
   {
    "duration": 36,
    "start_time": "2022-11-06T18:20:00.225Z"
   },
   {
    "duration": 76,
    "start_time": "2022-11-06T18:20:00.262Z"
   },
   {
    "duration": 12,
    "start_time": "2022-11-06T18:20:00.340Z"
   },
   {
    "duration": 140,
    "start_time": "2022-11-06T18:20:00.353Z"
   },
   {
    "duration": 9,
    "start_time": "2022-11-06T18:20:00.494Z"
   },
   {
    "duration": 21,
    "start_time": "2022-11-06T18:20:00.505Z"
   },
   {
    "duration": 28,
    "start_time": "2022-11-06T18:20:00.528Z"
   },
   {
    "duration": 30,
    "start_time": "2022-11-06T18:20:00.558Z"
   },
   {
    "duration": 41,
    "start_time": "2022-11-06T18:20:00.590Z"
   },
   {
    "duration": 54,
    "start_time": "2022-11-06T18:20:00.632Z"
   },
   {
    "duration": 167,
    "start_time": "2022-11-06T18:20:00.687Z"
   },
   {
    "duration": 0,
    "start_time": "2022-11-06T18:20:00.856Z"
   },
   {
    "duration": 0,
    "start_time": "2022-11-06T18:20:00.857Z"
   },
   {
    "duration": 0,
    "start_time": "2022-11-06T18:20:00.858Z"
   },
   {
    "duration": 4,
    "start_time": "2022-11-06T18:20:13.233Z"
   },
   {
    "duration": 158,
    "start_time": "2022-11-06T18:20:14.316Z"
   },
   {
    "duration": 17,
    "start_time": "2022-11-06T18:20:15.469Z"
   },
   {
    "duration": 9,
    "start_time": "2022-11-06T18:20:16.183Z"
   },
   {
    "duration": 11,
    "start_time": "2022-11-06T18:20:18.068Z"
   },
   {
    "duration": 14,
    "start_time": "2022-11-06T18:20:22.216Z"
   },
   {
    "duration": 4,
    "start_time": "2022-11-06T18:20:22.849Z"
   },
   {
    "duration": 47,
    "start_time": "2022-11-06T18:20:23.536Z"
   },
   {
    "duration": 51,
    "start_time": "2022-11-06T18:20:24.127Z"
   },
   {
    "duration": 47,
    "start_time": "2022-11-06T18:20:24.555Z"
   },
   {
    "duration": 9,
    "start_time": "2022-11-06T18:20:25.796Z"
   },
   {
    "duration": 9,
    "start_time": "2022-11-06T18:20:26.454Z"
   },
   {
    "duration": 14,
    "start_time": "2022-11-06T18:20:27.951Z"
   },
   {
    "duration": 10,
    "start_time": "2022-11-06T18:20:57.051Z"
   },
   {
    "duration": 4,
    "start_time": "2022-11-06T18:20:59.050Z"
   },
   {
    "duration": 5,
    "start_time": "2022-11-06T18:21:00.073Z"
   },
   {
    "duration": 6,
    "start_time": "2022-11-06T18:21:01.311Z"
   },
   {
    "duration": 6,
    "start_time": "2022-11-06T18:21:02.150Z"
   },
   {
    "duration": 769,
    "start_time": "2022-11-06T18:21:02.938Z"
   },
   {
    "duration": 13,
    "start_time": "2022-11-06T18:21:05.239Z"
   },
   {
    "duration": 10,
    "start_time": "2022-11-06T18:21:05.844Z"
   },
   {
    "duration": 7,
    "start_time": "2022-11-06T18:21:07.638Z"
   },
   {
    "duration": 9,
    "start_time": "2022-11-06T18:21:08.871Z"
   },
   {
    "duration": 15,
    "start_time": "2022-11-06T18:21:09.565Z"
   },
   {
    "duration": 34,
    "start_time": "2022-11-06T18:29:13.894Z"
   },
   {
    "duration": 1072,
    "start_time": "2022-11-06T18:29:42.161Z"
   },
   {
    "duration": 211,
    "start_time": "2022-11-06T18:29:43.235Z"
   },
   {
    "duration": 18,
    "start_time": "2022-11-06T18:29:43.448Z"
   },
   {
    "duration": 24,
    "start_time": "2022-11-06T18:29:43.468Z"
   },
   {
    "duration": 13,
    "start_time": "2022-11-06T18:29:43.494Z"
   },
   {
    "duration": 13,
    "start_time": "2022-11-06T18:29:43.509Z"
   },
   {
    "duration": 5,
    "start_time": "2022-11-06T18:29:43.524Z"
   },
   {
    "duration": 92,
    "start_time": "2022-11-06T18:29:43.530Z"
   },
   {
    "duration": 80,
    "start_time": "2022-11-06T18:29:43.624Z"
   },
   {
    "duration": 53,
    "start_time": "2022-11-06T18:29:43.706Z"
   },
   {
    "duration": 10,
    "start_time": "2022-11-06T18:29:43.761Z"
   },
   {
    "duration": 25,
    "start_time": "2022-11-06T18:29:43.772Z"
   },
   {
    "duration": 17,
    "start_time": "2022-11-06T18:29:43.798Z"
   },
   {
    "duration": 9,
    "start_time": "2022-11-06T18:29:43.816Z"
   },
   {
    "duration": 4,
    "start_time": "2022-11-06T18:29:43.826Z"
   },
   {
    "duration": 6,
    "start_time": "2022-11-06T18:29:43.832Z"
   },
   {
    "duration": 5,
    "start_time": "2022-11-06T18:29:43.840Z"
   },
   {
    "duration": 6,
    "start_time": "2022-11-06T18:29:43.847Z"
   },
   {
    "duration": 758,
    "start_time": "2022-11-06T18:29:43.890Z"
   },
   {
    "duration": 16,
    "start_time": "2022-11-06T18:29:44.650Z"
   },
   {
    "duration": 24,
    "start_time": "2022-11-06T18:29:44.668Z"
   },
   {
    "duration": 6,
    "start_time": "2022-11-06T18:29:44.694Z"
   },
   {
    "duration": 10,
    "start_time": "2022-11-06T18:29:44.702Z"
   },
   {
    "duration": 12,
    "start_time": "2022-11-06T18:29:44.714Z"
   },
   {
    "duration": 12,
    "start_time": "2022-11-06T18:29:44.728Z"
   },
   {
    "duration": 9,
    "start_time": "2022-11-06T18:29:44.742Z"
   },
   {
    "duration": 65,
    "start_time": "2022-11-06T18:29:44.752Z"
   },
   {
    "duration": 71,
    "start_time": "2022-11-06T18:29:44.821Z"
   },
   {
    "duration": 12,
    "start_time": "2022-11-06T18:29:44.894Z"
   },
   {
    "duration": 122,
    "start_time": "2022-11-06T18:29:44.908Z"
   },
   {
    "duration": 9,
    "start_time": "2022-11-06T18:29:45.032Z"
   },
   {
    "duration": 5,
    "start_time": "2022-11-06T18:29:45.042Z"
   },
   {
    "duration": 9,
    "start_time": "2022-11-06T18:29:45.048Z"
   },
   {
    "duration": 33,
    "start_time": "2022-11-06T18:29:45.059Z"
   },
   {
    "duration": 8,
    "start_time": "2022-11-06T18:29:45.094Z"
   },
   {
    "duration": 35,
    "start_time": "2022-11-06T18:29:45.104Z"
   },
   {
    "duration": 100,
    "start_time": "2022-11-06T18:29:45.141Z"
   },
   {
    "duration": 10,
    "start_time": "2022-11-06T18:29:45.243Z"
   },
   {
    "duration": 5,
    "start_time": "2022-11-06T18:29:45.254Z"
   },
   {
    "duration": 1417,
    "start_time": "2022-11-06T18:29:45.261Z"
   },
   {
    "duration": 4,
    "start_time": "2022-11-06T18:30:28.207Z"
   },
   {
    "duration": 156,
    "start_time": "2022-11-06T18:30:28.213Z"
   },
   {
    "duration": 26,
    "start_time": "2022-11-06T18:30:28.371Z"
   },
   {
    "duration": 11,
    "start_time": "2022-11-06T18:30:28.399Z"
   },
   {
    "duration": 13,
    "start_time": "2022-11-06T18:30:28.412Z"
   },
   {
    "duration": 26,
    "start_time": "2022-11-06T18:30:28.427Z"
   },
   {
    "duration": 4,
    "start_time": "2022-11-06T18:30:28.456Z"
   },
   {
    "duration": 73,
    "start_time": "2022-11-06T18:30:28.462Z"
   },
   {
    "duration": 70,
    "start_time": "2022-11-06T18:30:28.537Z"
   },
   {
    "duration": 52,
    "start_time": "2022-11-06T18:30:28.610Z"
   },
   {
    "duration": 10,
    "start_time": "2022-11-06T18:30:28.664Z"
   },
   {
    "duration": 10,
    "start_time": "2022-11-06T18:30:28.690Z"
   },
   {
    "duration": 16,
    "start_time": "2022-11-06T18:30:28.701Z"
   },
   {
    "duration": 8,
    "start_time": "2022-11-06T18:30:28.719Z"
   },
   {
    "duration": 5,
    "start_time": "2022-11-06T18:30:28.729Z"
   },
   {
    "duration": 8,
    "start_time": "2022-11-06T18:30:28.735Z"
   },
   {
    "duration": 6,
    "start_time": "2022-11-06T18:30:28.745Z"
   },
   {
    "duration": 40,
    "start_time": "2022-11-06T18:30:28.752Z"
   },
   {
    "duration": 765,
    "start_time": "2022-11-06T18:30:28.793Z"
   },
   {
    "duration": 14,
    "start_time": "2022-11-06T18:30:29.559Z"
   },
   {
    "duration": 18,
    "start_time": "2022-11-06T18:30:29.575Z"
   },
   {
    "duration": 17,
    "start_time": "2022-11-06T18:30:29.595Z"
   },
   {
    "duration": 8,
    "start_time": "2022-11-06T18:30:29.614Z"
   },
   {
    "duration": 13,
    "start_time": "2022-11-06T18:30:29.624Z"
   },
   {
    "duration": 16,
    "start_time": "2022-11-06T18:30:29.639Z"
   },
   {
    "duration": 41,
    "start_time": "2022-11-06T18:30:29.657Z"
   },
   {
    "duration": 25,
    "start_time": "2022-11-06T18:30:29.699Z"
   },
   {
    "duration": 73,
    "start_time": "2022-11-06T18:30:29.728Z"
   },
   {
    "duration": 11,
    "start_time": "2022-11-06T18:30:29.802Z"
   },
   {
    "duration": 118,
    "start_time": "2022-11-06T18:30:29.814Z"
   },
   {
    "duration": 11,
    "start_time": "2022-11-06T18:30:29.933Z"
   },
   {
    "duration": 4,
    "start_time": "2022-11-06T18:30:29.945Z"
   },
   {
    "duration": 7,
    "start_time": "2022-11-06T18:30:29.951Z"
   },
   {
    "duration": 10,
    "start_time": "2022-11-06T18:30:29.959Z"
   },
   {
    "duration": 27,
    "start_time": "2022-11-06T18:30:29.970Z"
   },
   {
    "duration": 45,
    "start_time": "2022-11-06T18:30:29.999Z"
   },
   {
    "duration": 90,
    "start_time": "2022-11-06T18:30:30.046Z"
   },
   {
    "duration": 11,
    "start_time": "2022-11-06T18:30:30.137Z"
   },
   {
    "duration": 11,
    "start_time": "2022-11-06T18:30:30.149Z"
   },
   {
    "duration": 2360,
    "start_time": "2022-11-06T18:30:30.161Z"
   },
   {
    "duration": 36,
    "start_time": "2022-11-06T18:31:05.474Z"
   },
   {
    "duration": 34,
    "start_time": "2022-11-06T18:31:23.428Z"
   },
   {
    "duration": 74,
    "start_time": "2022-11-06T18:31:25.312Z"
   },
   {
    "duration": 11,
    "start_time": "2022-11-06T18:31:26.198Z"
   },
   {
    "duration": 5,
    "start_time": "2022-11-06T18:31:26.817Z"
   },
   {
    "duration": 1100,
    "start_time": "2022-11-06T18:31:27.399Z"
   },
   {
    "duration": 36,
    "start_time": "2022-11-06T18:31:53.665Z"
   },
   {
    "duration": 68,
    "start_time": "2022-11-06T18:31:55.392Z"
   },
   {
    "duration": 11,
    "start_time": "2022-11-06T18:32:21.578Z"
   },
   {
    "duration": 73,
    "start_time": "2022-11-06T18:33:43.365Z"
   },
   {
    "duration": 10,
    "start_time": "2022-11-06T18:33:44.115Z"
   },
   {
    "duration": 5,
    "start_time": "2022-11-06T18:33:45.638Z"
   },
   {
    "duration": 1156,
    "start_time": "2022-11-06T18:33:46.459Z"
   },
   {
    "duration": 67,
    "start_time": "2022-11-06T18:33:52.804Z"
   },
   {
    "duration": 9,
    "start_time": "2022-11-06T18:33:53.452Z"
   },
   {
    "duration": 5,
    "start_time": "2022-11-06T18:34:19.599Z"
   },
   {
    "duration": 1294,
    "start_time": "2022-11-06T18:34:20.157Z"
   },
   {
    "duration": 9,
    "start_time": "2022-11-06T18:36:18.346Z"
   },
   {
    "duration": 5,
    "start_time": "2022-11-06T18:36:42.656Z"
   },
   {
    "duration": 1187,
    "start_time": "2022-11-06T18:36:43.143Z"
   },
   {
    "duration": 9,
    "start_time": "2022-11-06T18:38:44.305Z"
   },
   {
    "duration": 5,
    "start_time": "2022-11-06T18:38:47.662Z"
   },
   {
    "duration": 1143,
    "start_time": "2022-11-06T18:38:48.129Z"
   },
   {
    "duration": 8,
    "start_time": "2022-11-06T18:41:05.877Z"
   },
   {
    "duration": 9,
    "start_time": "2022-11-06T18:41:14.534Z"
   },
   {
    "duration": 4,
    "start_time": "2022-11-06T18:41:51.371Z"
   },
   {
    "duration": 5,
    "start_time": "2022-11-06T18:41:53.153Z"
   },
   {
    "duration": 9,
    "start_time": "2022-11-06T18:41:53.718Z"
   },
   {
    "duration": 4,
    "start_time": "2022-11-06T18:50:24.732Z"
   },
   {
    "duration": 147,
    "start_time": "2022-11-06T18:50:25.094Z"
   },
   {
    "duration": 19,
    "start_time": "2022-11-06T18:50:25.591Z"
   },
   {
    "duration": 10,
    "start_time": "2022-11-06T18:50:26.051Z"
   },
   {
    "duration": 13,
    "start_time": "2022-11-06T18:50:27.250Z"
   },
   {
    "duration": 15,
    "start_time": "2022-11-06T18:50:28.470Z"
   },
   {
    "duration": 4,
    "start_time": "2022-11-06T18:50:29.035Z"
   },
   {
    "duration": 52,
    "start_time": "2022-11-06T18:50:33.107Z"
   },
   {
    "duration": 54,
    "start_time": "2022-11-06T18:50:33.286Z"
   },
   {
    "duration": 49,
    "start_time": "2022-11-06T18:50:33.465Z"
   },
   {
    "duration": 9,
    "start_time": "2022-11-06T18:50:34.080Z"
   },
   {
    "duration": 8,
    "start_time": "2022-11-06T18:50:34.463Z"
   },
   {
    "duration": 16,
    "start_time": "2022-11-06T18:50:35.342Z"
   },
   {
    "duration": 10,
    "start_time": "2022-11-06T18:50:35.558Z"
   },
   {
    "duration": 5,
    "start_time": "2022-11-06T18:50:36.612Z"
   },
   {
    "duration": 5,
    "start_time": "2022-11-06T18:50:37.412Z"
   },
   {
    "duration": 6,
    "start_time": "2022-11-06T18:50:39.707Z"
   },
   {
    "duration": 6,
    "start_time": "2022-11-06T18:50:40.300Z"
   },
   {
    "duration": 691,
    "start_time": "2022-11-06T18:50:41.067Z"
   },
   {
    "duration": 16,
    "start_time": "2022-11-06T18:50:42.401Z"
   },
   {
    "duration": 10,
    "start_time": "2022-11-06T18:50:43.006Z"
   },
   {
    "duration": 5,
    "start_time": "2022-11-06T18:50:43.958Z"
   },
   {
    "duration": 8,
    "start_time": "2022-11-06T18:50:44.779Z"
   },
   {
    "duration": 13,
    "start_time": "2022-11-06T18:50:45.114Z"
   },
   {
    "duration": 12,
    "start_time": "2022-11-06T18:50:46.037Z"
   },
   {
    "duration": 9,
    "start_time": "2022-11-06T18:50:47.237Z"
   },
   {
    "duration": 25,
    "start_time": "2022-11-06T18:50:48.841Z"
   },
   {
    "duration": 50,
    "start_time": "2022-11-06T18:50:52.340Z"
   },
   {
    "duration": 10,
    "start_time": "2022-11-06T18:50:53.363Z"
   },
   {
    "duration": 106,
    "start_time": "2022-11-06T18:50:54.040Z"
   },
   {
    "duration": 10,
    "start_time": "2022-11-06T18:50:55.571Z"
   },
   {
    "duration": 3,
    "start_time": "2022-11-06T18:56:34.007Z"
   },
   {
    "duration": 8,
    "start_time": "2022-11-06T18:56:35.086Z"
   },
   {
    "duration": 11,
    "start_time": "2022-11-06T18:56:39.373Z"
   },
   {
    "duration": 8,
    "start_time": "2022-11-06T18:56:44.234Z"
   },
   {
    "duration": 34,
    "start_time": "2022-11-06T18:58:54.882Z"
   },
   {
    "duration": 78,
    "start_time": "2022-11-06T19:00:12.743Z"
   },
   {
    "duration": 70,
    "start_time": "2022-11-06T19:00:53.285Z"
   },
   {
    "duration": 10,
    "start_time": "2022-11-06T19:01:11.460Z"
   },
   {
    "duration": 6,
    "start_time": "2022-11-06T19:17:23.037Z"
   },
   {
    "duration": 1171,
    "start_time": "2022-11-06T19:17:23.599Z"
   },
   {
    "duration": 5,
    "start_time": "2022-11-06T19:17:59.710Z"
   },
   {
    "duration": 1182,
    "start_time": "2022-11-06T19:18:00.298Z"
   },
   {
    "duration": 4,
    "start_time": "2022-11-06T19:18:24.966Z"
   },
   {
    "duration": 143,
    "start_time": "2022-11-06T19:18:24.971Z"
   },
   {
    "duration": 16,
    "start_time": "2022-11-06T19:18:25.116Z"
   },
   {
    "duration": 8,
    "start_time": "2022-11-06T19:18:25.134Z"
   },
   {
    "duration": 10,
    "start_time": "2022-11-06T19:18:25.144Z"
   },
   {
    "duration": 38,
    "start_time": "2022-11-06T19:18:25.156Z"
   },
   {
    "duration": 4,
    "start_time": "2022-11-06T19:18:25.196Z"
   },
   {
    "duration": 52,
    "start_time": "2022-11-06T19:18:25.202Z"
   },
   {
    "duration": 75,
    "start_time": "2022-11-06T19:18:25.256Z"
   },
   {
    "duration": 45,
    "start_time": "2022-11-06T19:18:25.334Z"
   },
   {
    "duration": 8,
    "start_time": "2022-11-06T19:18:25.391Z"
   },
   {
    "duration": 8,
    "start_time": "2022-11-06T19:18:25.401Z"
   },
   {
    "duration": 14,
    "start_time": "2022-11-06T19:18:25.411Z"
   },
   {
    "duration": 8,
    "start_time": "2022-11-06T19:18:25.426Z"
   },
   {
    "duration": 4,
    "start_time": "2022-11-06T19:18:25.435Z"
   },
   {
    "duration": 5,
    "start_time": "2022-11-06T19:18:25.441Z"
   },
   {
    "duration": 43,
    "start_time": "2022-11-06T19:18:25.448Z"
   },
   {
    "duration": 6,
    "start_time": "2022-11-06T19:18:25.492Z"
   },
   {
    "duration": 705,
    "start_time": "2022-11-06T19:18:25.499Z"
   },
   {
    "duration": 12,
    "start_time": "2022-11-06T19:18:26.205Z"
   },
   {
    "duration": 8,
    "start_time": "2022-11-06T19:18:26.219Z"
   },
   {
    "duration": 5,
    "start_time": "2022-11-06T19:18:26.229Z"
   },
   {
    "duration": 7,
    "start_time": "2022-11-06T19:18:26.236Z"
   },
   {
    "duration": 11,
    "start_time": "2022-11-06T19:18:26.244Z"
   },
   {
    "duration": 44,
    "start_time": "2022-11-06T19:18:26.256Z"
   },
   {
    "duration": 8,
    "start_time": "2022-11-06T19:18:26.302Z"
   },
   {
    "duration": 25,
    "start_time": "2022-11-06T19:18:26.312Z"
   },
   {
    "duration": 75,
    "start_time": "2022-11-06T19:18:26.340Z"
   },
   {
    "duration": 12,
    "start_time": "2022-11-06T19:18:26.417Z"
   },
   {
    "duration": 132,
    "start_time": "2022-11-06T19:18:26.431Z"
   },
   {
    "duration": 10,
    "start_time": "2022-11-06T19:18:26.565Z"
   },
   {
    "duration": 16,
    "start_time": "2022-11-06T19:18:26.577Z"
   },
   {
    "duration": 13,
    "start_time": "2022-11-06T19:18:26.595Z"
   },
   {
    "duration": 13,
    "start_time": "2022-11-06T19:18:26.610Z"
   },
   {
    "duration": 9,
    "start_time": "2022-11-06T19:18:26.625Z"
   },
   {
    "duration": 65,
    "start_time": "2022-11-06T19:18:26.636Z"
   },
   {
    "duration": 32,
    "start_time": "2022-11-06T19:18:34.311Z"
   },
   {
    "duration": 71,
    "start_time": "2022-11-06T19:18:36.928Z"
   },
   {
    "duration": 10,
    "start_time": "2022-11-06T19:18:41.361Z"
   },
   {
    "duration": 4,
    "start_time": "2022-11-06T19:18:41.943Z"
   },
   {
    "duration": 6,
    "start_time": "2022-11-06T19:18:42.490Z"
   },
   {
    "duration": 9,
    "start_time": "2022-11-06T19:18:43.164Z"
   },
   {
    "duration": 6,
    "start_time": "2022-11-06T19:25:39.019Z"
   },
   {
    "duration": 10,
    "start_time": "2022-11-06T19:25:39.768Z"
   },
   {
    "duration": 6,
    "start_time": "2022-11-06T19:26:21.648Z"
   },
   {
    "duration": 8,
    "start_time": "2022-11-06T19:26:22.180Z"
   },
   {
    "duration": 78,
    "start_time": "2022-11-06T19:26:34.050Z"
   },
   {
    "duration": 16,
    "start_time": "2022-11-06T19:26:34.474Z"
   },
   {
    "duration": 3,
    "start_time": "2022-11-06T19:26:35.052Z"
   },
   {
    "duration": 6,
    "start_time": "2022-11-06T19:26:35.716Z"
   },
   {
    "duration": 11,
    "start_time": "2022-11-06T19:26:36.448Z"
   },
   {
    "duration": 5,
    "start_time": "2022-11-06T19:26:50.395Z"
   },
   {
    "duration": 1122,
    "start_time": "2022-11-06T19:26:51.183Z"
   },
   {
    "duration": 36,
    "start_time": "2022-11-06T19:27:08.117Z"
   },
   {
    "duration": 78,
    "start_time": "2022-11-06T19:27:09.705Z"
   },
   {
    "duration": 11,
    "start_time": "2022-11-06T19:27:10.552Z"
   },
   {
    "duration": 4,
    "start_time": "2022-11-06T19:27:11.649Z"
   },
   {
    "duration": 5,
    "start_time": "2022-11-06T19:27:12.182Z"
   },
   {
    "duration": 11,
    "start_time": "2022-11-06T19:27:12.809Z"
   },
   {
    "duration": 35,
    "start_time": "2022-11-06T19:29:10.408Z"
   },
   {
    "duration": 86,
    "start_time": "2022-11-06T19:29:13.587Z"
   },
   {
    "duration": 11,
    "start_time": "2022-11-06T19:29:16.975Z"
   },
   {
    "duration": 4,
    "start_time": "2022-11-06T19:29:22.011Z"
   },
   {
    "duration": 5,
    "start_time": "2022-11-06T19:29:22.777Z"
   },
   {
    "duration": 9,
    "start_time": "2022-11-06T19:29:23.706Z"
   },
   {
    "duration": 6,
    "start_time": "2022-11-06T19:32:15.357Z"
   },
   {
    "duration": 9,
    "start_time": "2022-11-06T19:32:16.021Z"
   },
   {
    "duration": 4,
    "start_time": "2022-11-06T19:32:25.397Z"
   },
   {
    "duration": 145,
    "start_time": "2022-11-06T19:32:25.403Z"
   },
   {
    "duration": 17,
    "start_time": "2022-11-06T19:32:25.549Z"
   },
   {
    "duration": 9,
    "start_time": "2022-11-06T19:32:25.568Z"
   },
   {
    "duration": 21,
    "start_time": "2022-11-06T19:32:25.579Z"
   },
   {
    "duration": 12,
    "start_time": "2022-11-06T19:32:25.602Z"
   },
   {
    "duration": 4,
    "start_time": "2022-11-06T19:32:25.615Z"
   },
   {
    "duration": 79,
    "start_time": "2022-11-06T19:32:25.620Z"
   },
   {
    "duration": 58,
    "start_time": "2022-11-06T19:32:25.701Z"
   },
   {
    "duration": 58,
    "start_time": "2022-11-06T19:32:25.762Z"
   },
   {
    "duration": 8,
    "start_time": "2022-11-06T19:32:25.821Z"
   },
   {
    "duration": 8,
    "start_time": "2022-11-06T19:32:25.830Z"
   },
   {
    "duration": 15,
    "start_time": "2022-11-06T19:32:25.840Z"
   },
   {
    "duration": 8,
    "start_time": "2022-11-06T19:32:25.857Z"
   },
   {
    "duration": 26,
    "start_time": "2022-11-06T19:32:25.867Z"
   },
   {
    "duration": 7,
    "start_time": "2022-11-06T19:32:25.895Z"
   },
   {
    "duration": 6,
    "start_time": "2022-11-06T19:32:25.903Z"
   },
   {
    "duration": 4,
    "start_time": "2022-11-06T19:32:25.911Z"
   },
   {
    "duration": 650,
    "start_time": "2022-11-06T19:32:25.917Z"
   },
   {
    "duration": 23,
    "start_time": "2022-11-06T19:32:26.569Z"
   },
   {
    "duration": 10,
    "start_time": "2022-11-06T19:32:26.595Z"
   },
   {
    "duration": 11,
    "start_time": "2022-11-06T19:32:26.607Z"
   },
   {
    "duration": 10,
    "start_time": "2022-11-06T19:32:26.620Z"
   },
   {
    "duration": 15,
    "start_time": "2022-11-06T19:32:26.632Z"
   },
   {
    "duration": 51,
    "start_time": "2022-11-06T19:32:26.650Z"
   },
   {
    "duration": 12,
    "start_time": "2022-11-06T19:32:26.703Z"
   },
   {
    "duration": 30,
    "start_time": "2022-11-06T19:32:26.716Z"
   },
   {
    "duration": 78,
    "start_time": "2022-11-06T19:32:26.750Z"
   },
   {
    "duration": 10,
    "start_time": "2022-11-06T19:32:26.829Z"
   },
   {
    "duration": 112,
    "start_time": "2022-11-06T19:32:26.840Z"
   },
   {
    "duration": 8,
    "start_time": "2022-11-06T19:32:26.954Z"
   },
   {
    "duration": 6,
    "start_time": "2022-11-06T19:32:26.964Z"
   },
   {
    "duration": 23,
    "start_time": "2022-11-06T19:32:26.971Z"
   },
   {
    "duration": 12,
    "start_time": "2022-11-06T19:32:26.996Z"
   },
   {
    "duration": 9,
    "start_time": "2022-11-06T19:32:27.010Z"
   },
   {
    "duration": 33,
    "start_time": "2022-11-06T19:32:27.020Z"
   },
   {
    "duration": 87,
    "start_time": "2022-11-06T19:32:27.054Z"
   },
   {
    "duration": 10,
    "start_time": "2022-11-06T19:32:27.142Z"
   },
   {
    "duration": 12,
    "start_time": "2022-11-06T19:32:27.153Z"
   },
   {
    "duration": 8,
    "start_time": "2022-11-06T19:32:27.167Z"
   },
   {
    "duration": 18,
    "start_time": "2022-11-06T19:32:27.177Z"
   },
   {
    "duration": 4,
    "start_time": "2022-11-06T19:32:40.494Z"
   },
   {
    "duration": 145,
    "start_time": "2022-11-06T19:32:40.501Z"
   },
   {
    "duration": 20,
    "start_time": "2022-11-06T19:32:40.648Z"
   },
   {
    "duration": 23,
    "start_time": "2022-11-06T19:32:40.669Z"
   },
   {
    "duration": 12,
    "start_time": "2022-11-06T19:32:40.694Z"
   },
   {
    "duration": 13,
    "start_time": "2022-11-06T19:32:40.708Z"
   },
   {
    "duration": 4,
    "start_time": "2022-11-06T19:32:40.723Z"
   },
   {
    "duration": 87,
    "start_time": "2022-11-06T19:32:40.728Z"
   },
   {
    "duration": 78,
    "start_time": "2022-11-06T19:32:40.817Z"
   },
   {
    "duration": 55,
    "start_time": "2022-11-06T19:32:40.897Z"
   },
   {
    "duration": 18,
    "start_time": "2022-11-06T19:32:40.954Z"
   },
   {
    "duration": 18,
    "start_time": "2022-11-06T19:32:40.974Z"
   },
   {
    "duration": 17,
    "start_time": "2022-11-06T19:32:40.995Z"
   },
   {
    "duration": 10,
    "start_time": "2022-11-06T19:32:41.016Z"
   },
   {
    "duration": 10,
    "start_time": "2022-11-06T19:32:41.028Z"
   },
   {
    "duration": 10,
    "start_time": "2022-11-06T19:32:41.041Z"
   },
   {
    "duration": 40,
    "start_time": "2022-11-06T19:32:41.052Z"
   },
   {
    "duration": 19,
    "start_time": "2022-11-06T19:32:41.094Z"
   },
   {
    "duration": 831,
    "start_time": "2022-11-06T19:32:41.115Z"
   },
   {
    "duration": 14,
    "start_time": "2022-11-06T19:32:41.948Z"
   },
   {
    "duration": 26,
    "start_time": "2022-11-06T19:32:41.964Z"
   },
   {
    "duration": 6,
    "start_time": "2022-11-06T19:32:41.993Z"
   },
   {
    "duration": 16,
    "start_time": "2022-11-06T19:32:42.000Z"
   },
   {
    "duration": 13,
    "start_time": "2022-11-06T19:32:42.017Z"
   },
   {
    "duration": 12,
    "start_time": "2022-11-06T19:32:42.032Z"
   },
   {
    "duration": 10,
    "start_time": "2022-11-06T19:32:42.046Z"
   },
   {
    "duration": 26,
    "start_time": "2022-11-06T19:32:42.091Z"
   },
   {
    "duration": 73,
    "start_time": "2022-11-06T19:32:42.119Z"
   },
   {
    "duration": 11,
    "start_time": "2022-11-06T19:32:42.194Z"
   },
   {
    "duration": 132,
    "start_time": "2022-11-06T19:32:42.207Z"
   },
   {
    "duration": 10,
    "start_time": "2022-11-06T19:32:42.340Z"
   },
   {
    "duration": 4,
    "start_time": "2022-11-06T19:32:42.351Z"
   },
   {
    "duration": 8,
    "start_time": "2022-11-06T19:32:42.357Z"
   },
   {
    "duration": 33,
    "start_time": "2022-11-06T19:32:42.366Z"
   },
   {
    "duration": 13,
    "start_time": "2022-11-06T19:32:42.401Z"
   },
   {
    "duration": 40,
    "start_time": "2022-11-06T19:32:42.416Z"
   },
   {
    "duration": 94,
    "start_time": "2022-11-06T19:32:42.458Z"
   },
   {
    "duration": 11,
    "start_time": "2022-11-06T19:32:42.554Z"
   },
   {
    "duration": 24,
    "start_time": "2022-11-06T19:32:42.567Z"
   },
   {
    "duration": 6,
    "start_time": "2022-11-06T19:32:42.594Z"
   },
   {
    "duration": 6,
    "start_time": "2022-11-06T19:32:45.221Z"
   },
   {
    "duration": 8,
    "start_time": "2022-11-06T19:32:45.637Z"
   },
   {
    "duration": 5,
    "start_time": "2022-11-06T19:41:52.681Z"
   },
   {
    "duration": 8,
    "start_time": "2022-11-06T19:41:53.082Z"
   },
   {
    "duration": 9,
    "start_time": "2022-11-06T19:42:04.209Z"
   },
   {
    "duration": 5,
    "start_time": "2022-11-06T19:42:09.098Z"
   },
   {
    "duration": 9,
    "start_time": "2022-11-06T19:42:09.707Z"
   },
   {
    "duration": 8,
    "start_time": "2022-11-06T19:42:32.944Z"
   },
   {
    "duration": 6,
    "start_time": "2022-11-06T19:42:41.303Z"
   },
   {
    "duration": 8,
    "start_time": "2022-11-06T19:42:41.751Z"
   },
   {
    "duration": 9,
    "start_time": "2022-11-06T19:43:03.457Z"
   },
   {
    "duration": 9,
    "start_time": "2022-11-06T19:43:40.399Z"
   },
   {
    "duration": 9,
    "start_time": "2022-11-06T19:43:59.775Z"
   },
   {
    "duration": 10,
    "start_time": "2022-11-06T19:44:36.431Z"
   },
   {
    "duration": 5,
    "start_time": "2022-11-06T19:45:42.983Z"
   },
   {
    "duration": 10,
    "start_time": "2022-11-06T19:45:43.459Z"
   },
   {
    "duration": 6,
    "start_time": "2022-11-06T19:52:58.252Z"
   },
   {
    "duration": 9,
    "start_time": "2022-11-06T19:52:58.752Z"
   },
   {
    "duration": 12,
    "start_time": "2022-11-06T20:02:43.446Z"
   },
   {
    "duration": 33,
    "start_time": "2022-11-06T20:02:52.039Z"
   },
   {
    "duration": 65,
    "start_time": "2022-11-06T20:02:53.679Z"
   },
   {
    "duration": 11,
    "start_time": "2022-11-06T20:02:54.861Z"
   },
   {
    "duration": 4,
    "start_time": "2022-11-06T20:02:57.454Z"
   },
   {
    "duration": 6,
    "start_time": "2022-11-06T20:02:58.332Z"
   },
   {
    "duration": 9,
    "start_time": "2022-11-06T20:02:58.915Z"
   },
   {
    "duration": 9,
    "start_time": "2022-11-06T20:08:24.766Z"
   },
   {
    "duration": 6,
    "start_time": "2022-11-06T20:08:39.411Z"
   },
   {
    "duration": 9,
    "start_time": "2022-11-06T20:08:40.166Z"
   },
   {
    "duration": 6,
    "start_time": "2022-11-06T20:09:07.295Z"
   },
   {
    "duration": 9,
    "start_time": "2022-11-06T20:09:07.724Z"
   },
   {
    "duration": 5,
    "start_time": "2022-11-06T20:09:58.379Z"
   },
   {
    "duration": 9,
    "start_time": "2022-11-06T20:09:59.456Z"
   },
   {
    "duration": 5,
    "start_time": "2022-11-06T20:18:41.653Z"
   },
   {
    "duration": 9,
    "start_time": "2022-11-06T20:18:42.781Z"
   },
   {
    "duration": 8,
    "start_time": "2022-11-06T20:33:32.215Z"
   },
   {
    "duration": 12,
    "start_time": "2022-11-06T20:42:57.725Z"
   },
   {
    "duration": 9,
    "start_time": "2022-11-06T20:45:57.888Z"
   },
   {
    "duration": 10,
    "start_time": "2022-11-06T20:47:04.518Z"
   },
   {
    "duration": 8,
    "start_time": "2022-11-06T20:47:27.285Z"
   },
   {
    "duration": 9,
    "start_time": "2022-11-06T20:47:28.373Z"
   },
   {
    "duration": 9,
    "start_time": "2022-11-06T20:50:54.832Z"
   },
   {
    "duration": 8,
    "start_time": "2022-11-06T20:51:13.963Z"
   },
   {
    "duration": 9,
    "start_time": "2022-11-06T20:51:41.998Z"
   },
   {
    "duration": 8,
    "start_time": "2022-11-06T20:52:38.235Z"
   },
   {
    "duration": 9,
    "start_time": "2022-11-06T20:52:55.850Z"
   },
   {
    "duration": 8,
    "start_time": "2022-11-06T20:53:21.384Z"
   },
   {
    "duration": 8,
    "start_time": "2022-11-06T20:55:35.011Z"
   },
   {
    "duration": 9,
    "start_time": "2022-11-06T20:55:36.816Z"
   },
   {
    "duration": 9,
    "start_time": "2022-11-06T20:58:35.026Z"
   },
   {
    "duration": 9,
    "start_time": "2022-11-06T20:59:38.231Z"
   },
   {
    "duration": 10,
    "start_time": "2022-11-06T21:00:02.751Z"
   },
   {
    "duration": 9,
    "start_time": "2022-11-06T21:00:05.294Z"
   },
   {
    "duration": 11,
    "start_time": "2022-11-06T21:16:15.128Z"
   },
   {
    "duration": 9,
    "start_time": "2022-11-06T21:16:35.163Z"
   },
   {
    "duration": 10,
    "start_time": "2022-11-06T21:16:50.693Z"
   },
   {
    "duration": 32,
    "start_time": "2022-11-06T21:17:50.236Z"
   },
   {
    "duration": 65,
    "start_time": "2022-11-06T21:17:52.836Z"
   },
   {
    "duration": 10,
    "start_time": "2022-11-06T21:17:58.890Z"
   },
   {
    "duration": 3,
    "start_time": "2022-11-06T21:17:59.990Z"
   },
   {
    "duration": 6,
    "start_time": "2022-11-06T21:18:01.819Z"
   },
   {
    "duration": 9,
    "start_time": "2022-11-06T21:18:03.446Z"
   },
   {
    "duration": 9,
    "start_time": "2022-11-06T21:18:20.454Z"
   },
   {
    "duration": 9,
    "start_time": "2022-11-06T21:19:19.532Z"
   },
   {
    "duration": 11,
    "start_time": "2022-11-06T21:19:29.109Z"
   },
   {
    "duration": 10,
    "start_time": "2022-11-06T21:19:37.520Z"
   },
   {
    "duration": 9,
    "start_time": "2022-11-06T21:20:58.148Z"
   },
   {
    "duration": 9,
    "start_time": "2022-11-06T21:21:58.185Z"
   },
   {
    "duration": 5,
    "start_time": "2022-11-06T21:25:00.647Z"
   },
   {
    "duration": 10,
    "start_time": "2022-11-06T21:25:01.505Z"
   },
   {
    "duration": 5,
    "start_time": "2022-11-06T21:25:30.991Z"
   },
   {
    "duration": 10,
    "start_time": "2022-11-06T21:25:40.809Z"
   },
   {
    "duration": 9,
    "start_time": "2022-11-06T21:28:58.214Z"
   },
   {
    "duration": 10,
    "start_time": "2022-11-06T21:28:59.449Z"
   },
   {
    "duration": 10,
    "start_time": "2022-11-06T21:29:01.330Z"
   },
   {
    "duration": 4,
    "start_time": "2022-11-06T21:39:01.897Z"
   },
   {
    "duration": 141,
    "start_time": "2022-11-06T21:39:07.639Z"
   },
   {
    "duration": 17,
    "start_time": "2022-11-06T21:39:11.172Z"
   },
   {
    "duration": 11,
    "start_time": "2022-11-06T21:39:11.746Z"
   },
   {
    "duration": 13,
    "start_time": "2022-11-06T21:39:13.774Z"
   },
   {
    "duration": 14,
    "start_time": "2022-11-06T21:39:15.835Z"
   },
   {
    "duration": 4,
    "start_time": "2022-11-06T21:39:16.503Z"
   },
   {
    "duration": 55,
    "start_time": "2022-11-06T21:39:17.217Z"
   },
   {
    "duration": 60,
    "start_time": "2022-11-06T21:39:17.930Z"
   },
   {
    "duration": 49,
    "start_time": "2022-11-06T21:39:18.353Z"
   },
   {
    "duration": 9,
    "start_time": "2022-11-06T21:39:19.512Z"
   },
   {
    "duration": 7,
    "start_time": "2022-11-06T21:39:20.113Z"
   },
   {
    "duration": 14,
    "start_time": "2022-11-06T21:39:21.336Z"
   },
   {
    "duration": 10,
    "start_time": "2022-11-06T21:39:21.638Z"
   },
   {
    "duration": 4,
    "start_time": "2022-11-06T21:39:23.281Z"
   },
   {
    "duration": 5,
    "start_time": "2022-11-06T21:39:24.395Z"
   },
   {
    "duration": 6,
    "start_time": "2022-11-06T21:39:25.317Z"
   },
   {
    "duration": 6,
    "start_time": "2022-11-06T21:39:26.974Z"
   },
   {
    "duration": 616,
    "start_time": "2022-11-06T21:39:34.023Z"
   },
   {
    "duration": 14,
    "start_time": "2022-11-06T21:39:38.413Z"
   },
   {
    "duration": 8,
    "start_time": "2022-11-06T21:39:39.754Z"
   },
   {
    "duration": 6,
    "start_time": "2022-11-06T21:39:40.768Z"
   },
   {
    "duration": 7,
    "start_time": "2022-11-06T21:39:41.966Z"
   },
   {
    "duration": 11,
    "start_time": "2022-11-06T21:39:42.513Z"
   },
   {
    "duration": 11,
    "start_time": "2022-11-06T21:39:43.533Z"
   },
   {
    "duration": 9,
    "start_time": "2022-11-06T21:39:50.191Z"
   },
   {
    "duration": 25,
    "start_time": "2022-11-06T21:39:53.356Z"
   },
   {
    "duration": 50,
    "start_time": "2022-11-06T21:39:58.081Z"
   },
   {
    "duration": 10,
    "start_time": "2022-11-06T21:39:59.252Z"
   },
   {
    "duration": 205,
    "start_time": "2022-11-06T21:39:59.818Z"
   },
   {
    "duration": 9,
    "start_time": "2022-11-06T21:40:09.224Z"
   },
   {
    "duration": 5,
    "start_time": "2022-11-06T21:40:10.753Z"
   },
   {
    "duration": 8,
    "start_time": "2022-11-06T21:40:11.667Z"
   },
   {
    "duration": 11,
    "start_time": "2022-11-06T21:40:12.210Z"
   },
   {
    "duration": 8,
    "start_time": "2022-11-06T21:40:14.971Z"
   },
   {
    "duration": 31,
    "start_time": "2022-11-06T21:40:16.923Z"
   },
   {
    "duration": 85,
    "start_time": "2022-11-06T21:40:21.909Z"
   },
   {
    "duration": 10,
    "start_time": "2022-11-06T21:42:41.433Z"
   },
   {
    "duration": 3,
    "start_time": "2022-11-06T21:42:44.628Z"
   },
   {
    "duration": 5,
    "start_time": "2022-11-06T21:44:52.916Z"
   },
   {
    "duration": 11,
    "start_time": "2022-11-06T21:44:53.832Z"
   },
   {
    "duration": 4,
    "start_time": "2022-11-06T21:46:22.661Z"
   },
   {
    "duration": 150,
    "start_time": "2022-11-06T21:46:22.666Z"
   },
   {
    "duration": 17,
    "start_time": "2022-11-06T21:46:22.818Z"
   },
   {
    "duration": 10,
    "start_time": "2022-11-06T21:46:22.837Z"
   },
   {
    "duration": 12,
    "start_time": "2022-11-06T21:46:22.849Z"
   },
   {
    "duration": 36,
    "start_time": "2022-11-06T21:46:22.862Z"
   },
   {
    "duration": 4,
    "start_time": "2022-11-06T21:46:22.899Z"
   },
   {
    "duration": 48,
    "start_time": "2022-11-06T21:46:22.904Z"
   },
   {
    "duration": 68,
    "start_time": "2022-11-06T21:46:22.953Z"
   },
   {
    "duration": 42,
    "start_time": "2022-11-06T21:46:23.024Z"
   },
   {
    "duration": 23,
    "start_time": "2022-11-06T21:46:23.068Z"
   },
   {
    "duration": 9,
    "start_time": "2022-11-06T21:46:23.092Z"
   },
   {
    "duration": 14,
    "start_time": "2022-11-06T21:46:23.103Z"
   },
   {
    "duration": 9,
    "start_time": "2022-11-06T21:46:23.119Z"
   },
   {
    "duration": 5,
    "start_time": "2022-11-06T21:46:23.129Z"
   },
   {
    "duration": 6,
    "start_time": "2022-11-06T21:46:23.135Z"
   },
   {
    "duration": 5,
    "start_time": "2022-11-06T21:46:23.143Z"
   },
   {
    "duration": 42,
    "start_time": "2022-11-06T21:46:23.150Z"
   },
   {
    "duration": 577,
    "start_time": "2022-11-06T21:46:23.194Z"
   },
   {
    "duration": 25,
    "start_time": "2022-11-06T21:46:23.773Z"
   },
   {
    "duration": 9,
    "start_time": "2022-11-06T21:46:23.800Z"
   },
   {
    "duration": 7,
    "start_time": "2022-11-06T21:46:23.811Z"
   },
   {
    "duration": 7,
    "start_time": "2022-11-06T21:46:23.819Z"
   },
   {
    "duration": 10,
    "start_time": "2022-11-06T21:46:23.828Z"
   },
   {
    "duration": 10,
    "start_time": "2022-11-06T21:46:23.839Z"
   },
   {
    "duration": 42,
    "start_time": "2022-11-06T21:46:23.850Z"
   },
   {
    "duration": 22,
    "start_time": "2022-11-06T21:46:23.894Z"
   },
   {
    "duration": 47,
    "start_time": "2022-11-06T21:46:23.918Z"
   },
   {
    "duration": 28,
    "start_time": "2022-11-06T21:46:23.967Z"
   },
   {
    "duration": 106,
    "start_time": "2022-11-06T21:46:23.997Z"
   },
   {
    "duration": 9,
    "start_time": "2022-11-06T21:46:24.104Z"
   },
   {
    "duration": 4,
    "start_time": "2022-11-06T21:46:24.115Z"
   },
   {
    "duration": 10,
    "start_time": "2022-11-06T21:46:24.120Z"
   },
   {
    "duration": 10,
    "start_time": "2022-11-06T21:46:24.131Z"
   },
   {
    "duration": 7,
    "start_time": "2022-11-06T21:46:24.142Z"
   },
   {
    "duration": 63,
    "start_time": "2022-11-06T21:46:24.150Z"
   },
   {
    "duration": 66,
    "start_time": "2022-11-06T21:46:24.214Z"
   },
   {
    "duration": 8,
    "start_time": "2022-11-06T21:46:24.290Z"
   },
   {
    "duration": 3,
    "start_time": "2022-11-06T21:46:24.300Z"
   },
   {
    "duration": 6,
    "start_time": "2022-11-06T21:46:37.453Z"
   },
   {
    "duration": 9,
    "start_time": "2022-11-06T21:46:38.307Z"
   },
   {
    "duration": 5,
    "start_time": "2022-11-06T21:47:22.215Z"
   },
   {
    "duration": 9,
    "start_time": "2022-11-06T21:47:23.151Z"
   },
   {
    "duration": 964,
    "start_time": "2022-11-06T21:49:16.020Z"
   },
   {
    "duration": 192,
    "start_time": "2022-11-06T21:49:16.986Z"
   },
   {
    "duration": 20,
    "start_time": "2022-11-06T21:49:17.180Z"
   },
   {
    "duration": 12,
    "start_time": "2022-11-06T21:49:17.201Z"
   },
   {
    "duration": 12,
    "start_time": "2022-11-06T21:49:17.214Z"
   },
   {
    "duration": 11,
    "start_time": "2022-11-06T21:49:17.227Z"
   },
   {
    "duration": 2,
    "start_time": "2022-11-06T21:49:17.240Z"
   },
   {
    "duration": 82,
    "start_time": "2022-11-06T21:49:17.244Z"
   },
   {
    "duration": 74,
    "start_time": "2022-11-06T21:49:17.327Z"
   },
   {
    "duration": 45,
    "start_time": "2022-11-06T21:49:17.404Z"
   },
   {
    "duration": 10,
    "start_time": "2022-11-06T21:49:17.451Z"
   },
   {
    "duration": 7,
    "start_time": "2022-11-06T21:49:17.462Z"
   },
   {
    "duration": 31,
    "start_time": "2022-11-06T21:49:17.470Z"
   },
   {
    "duration": 7,
    "start_time": "2022-11-06T21:49:17.503Z"
   },
   {
    "duration": 3,
    "start_time": "2022-11-06T21:49:17.512Z"
   },
   {
    "duration": 7,
    "start_time": "2022-11-06T21:49:17.516Z"
   },
   {
    "duration": 4,
    "start_time": "2022-11-06T21:49:17.524Z"
   },
   {
    "duration": 5,
    "start_time": "2022-11-06T21:49:17.529Z"
   },
   {
    "duration": 701,
    "start_time": "2022-11-06T21:49:17.535Z"
   },
   {
    "duration": 16,
    "start_time": "2022-11-06T21:49:18.238Z"
   },
   {
    "duration": 8,
    "start_time": "2022-11-06T21:49:18.256Z"
   },
   {
    "duration": 24,
    "start_time": "2022-11-06T21:49:18.266Z"
   },
   {
    "duration": 11,
    "start_time": "2022-11-06T21:49:18.292Z"
   },
   {
    "duration": 11,
    "start_time": "2022-11-06T21:49:18.304Z"
   },
   {
    "duration": 11,
    "start_time": "2022-11-06T21:49:18.316Z"
   },
   {
    "duration": 7,
    "start_time": "2022-11-06T21:49:18.328Z"
   },
   {
    "duration": 54,
    "start_time": "2022-11-06T21:49:18.337Z"
   },
   {
    "duration": 54,
    "start_time": "2022-11-06T21:49:18.394Z"
   },
   {
    "duration": 10,
    "start_time": "2022-11-06T21:49:18.450Z"
   },
   {
    "duration": 113,
    "start_time": "2022-11-06T21:49:18.461Z"
   },
   {
    "duration": 17,
    "start_time": "2022-11-06T21:49:18.575Z"
   },
   {
    "duration": 4,
    "start_time": "2022-11-06T21:49:18.593Z"
   },
   {
    "duration": 16,
    "start_time": "2022-11-06T21:49:18.599Z"
   },
   {
    "duration": 15,
    "start_time": "2022-11-06T21:49:18.617Z"
   },
   {
    "duration": 10,
    "start_time": "2022-11-06T21:49:18.633Z"
   },
   {
    "duration": 34,
    "start_time": "2022-11-06T21:49:18.645Z"
   },
   {
    "duration": 83,
    "start_time": "2022-11-06T21:49:18.681Z"
   },
   {
    "duration": 8,
    "start_time": "2022-11-06T21:49:18.766Z"
   },
   {
    "duration": 3,
    "start_time": "2022-11-06T21:49:18.791Z"
   },
   {
    "duration": 5,
    "start_time": "2022-11-06T21:49:18.796Z"
   },
   {
    "duration": 11,
    "start_time": "2022-11-06T21:49:18.802Z"
   },
   {
    "duration": 7,
    "start_time": "2022-11-06T21:49:18.815Z"
   },
   {
    "duration": 8,
    "start_time": "2022-11-06T21:49:18.824Z"
   },
   {
    "duration": 9,
    "start_time": "2022-11-06T21:49:18.833Z"
   },
   {
    "duration": 3,
    "start_time": "2022-11-06T21:49:25.075Z"
   },
   {
    "duration": 144,
    "start_time": "2022-11-06T21:49:25.080Z"
   },
   {
    "duration": 17,
    "start_time": "2022-11-06T21:49:25.225Z"
   },
   {
    "duration": 9,
    "start_time": "2022-11-06T21:49:25.244Z"
   },
   {
    "duration": 10,
    "start_time": "2022-11-06T21:49:25.254Z"
   },
   {
    "duration": 35,
    "start_time": "2022-11-06T21:49:25.266Z"
   },
   {
    "duration": 3,
    "start_time": "2022-11-06T21:49:25.302Z"
   },
   {
    "duration": 51,
    "start_time": "2022-11-06T21:49:25.306Z"
   },
   {
    "duration": 63,
    "start_time": "2022-11-06T21:49:25.358Z"
   },
   {
    "duration": 44,
    "start_time": "2022-11-06T21:49:25.423Z"
   },
   {
    "duration": 25,
    "start_time": "2022-11-06T21:49:25.468Z"
   },
   {
    "duration": 9,
    "start_time": "2022-11-06T21:49:25.495Z"
   },
   {
    "duration": 14,
    "start_time": "2022-11-06T21:49:25.506Z"
   },
   {
    "duration": 8,
    "start_time": "2022-11-06T21:49:25.522Z"
   },
   {
    "duration": 4,
    "start_time": "2022-11-06T21:49:25.532Z"
   },
   {
    "duration": 6,
    "start_time": "2022-11-06T21:49:25.537Z"
   },
   {
    "duration": 6,
    "start_time": "2022-11-06T21:49:25.544Z"
   },
   {
    "duration": 41,
    "start_time": "2022-11-06T21:49:25.552Z"
   },
   {
    "duration": 672,
    "start_time": "2022-11-06T21:49:25.594Z"
   },
   {
    "duration": 25,
    "start_time": "2022-11-06T21:49:26.268Z"
   },
   {
    "duration": 9,
    "start_time": "2022-11-06T21:49:26.294Z"
   },
   {
    "duration": 5,
    "start_time": "2022-11-06T21:49:26.305Z"
   },
   {
    "duration": 6,
    "start_time": "2022-11-06T21:49:26.312Z"
   },
   {
    "duration": 11,
    "start_time": "2022-11-06T21:49:26.320Z"
   },
   {
    "duration": 10,
    "start_time": "2022-11-06T21:49:26.332Z"
   },
   {
    "duration": 8,
    "start_time": "2022-11-06T21:49:26.344Z"
   },
   {
    "duration": 59,
    "start_time": "2022-11-06T21:49:26.353Z"
   },
   {
    "duration": 54,
    "start_time": "2022-11-06T21:49:26.415Z"
   },
   {
    "duration": 29,
    "start_time": "2022-11-06T21:49:26.471Z"
   },
   {
    "duration": 119,
    "start_time": "2022-11-06T21:49:26.502Z"
   },
   {
    "duration": 9,
    "start_time": "2022-11-06T21:49:26.623Z"
   },
   {
    "duration": 4,
    "start_time": "2022-11-06T21:49:26.634Z"
   },
   {
    "duration": 9,
    "start_time": "2022-11-06T21:49:26.639Z"
   },
   {
    "duration": 11,
    "start_time": "2022-11-06T21:49:26.649Z"
   },
   {
    "duration": 32,
    "start_time": "2022-11-06T21:49:26.661Z"
   },
   {
    "duration": 37,
    "start_time": "2022-11-06T21:49:26.695Z"
   },
   {
    "duration": 86,
    "start_time": "2022-11-06T21:49:26.734Z"
   },
   {
    "duration": 9,
    "start_time": "2022-11-06T21:49:26.822Z"
   },
   {
    "duration": 6,
    "start_time": "2022-11-06T21:49:26.832Z"
   },
   {
    "duration": 5,
    "start_time": "2022-11-06T21:49:26.839Z"
   },
   {
    "duration": 12,
    "start_time": "2022-11-06T21:49:26.846Z"
   },
   {
    "duration": 9,
    "start_time": "2022-11-06T21:49:26.860Z"
   },
   {
    "duration": 8,
    "start_time": "2022-11-06T21:49:26.890Z"
   },
   {
    "duration": 9,
    "start_time": "2022-11-06T21:49:26.900Z"
   },
   {
    "duration": 3,
    "start_time": "2022-11-06T21:49:42.017Z"
   },
   {
    "duration": 139,
    "start_time": "2022-11-06T21:49:55.398Z"
   },
   {
    "duration": 17,
    "start_time": "2022-11-06T21:49:59.449Z"
   },
   {
    "duration": 11,
    "start_time": "2022-11-06T21:50:00.043Z"
   },
   {
    "duration": 11,
    "start_time": "2022-11-06T21:50:01.725Z"
   },
   {
    "duration": 13,
    "start_time": "2022-11-06T21:50:03.179Z"
   },
   {
    "duration": 4,
    "start_time": "2022-11-06T21:50:03.620Z"
   },
   {
    "duration": 50,
    "start_time": "2022-11-06T21:50:04.225Z"
   },
   {
    "duration": 53,
    "start_time": "2022-11-06T21:50:04.877Z"
   },
   {
    "duration": 46,
    "start_time": "2022-11-06T21:50:05.337Z"
   },
   {
    "duration": 8,
    "start_time": "2022-11-06T21:50:06.216Z"
   },
   {
    "duration": 8,
    "start_time": "2022-11-06T21:50:06.723Z"
   },
   {
    "duration": 15,
    "start_time": "2022-11-06T21:50:08.257Z"
   },
   {
    "duration": 9,
    "start_time": "2022-11-06T21:50:08.724Z"
   },
   {
    "duration": 4,
    "start_time": "2022-11-06T21:50:10.829Z"
   },
   {
    "duration": 5,
    "start_time": "2022-11-06T21:50:12.107Z"
   },
   {
    "duration": 5,
    "start_time": "2022-11-06T21:50:13.080Z"
   },
   {
    "duration": 5,
    "start_time": "2022-11-06T21:50:14.129Z"
   },
   {
    "duration": 579,
    "start_time": "2022-11-06T21:50:14.941Z"
   },
   {
    "duration": 12,
    "start_time": "2022-11-06T21:50:16.551Z"
   },
   {
    "duration": 9,
    "start_time": "2022-11-06T21:50:17.135Z"
   },
   {
    "duration": 5,
    "start_time": "2022-11-06T21:50:18.184Z"
   },
   {
    "duration": 7,
    "start_time": "2022-11-06T21:50:19.116Z"
   },
   {
    "duration": 13,
    "start_time": "2022-11-06T21:50:19.633Z"
   },
   {
    "duration": 11,
    "start_time": "2022-11-06T21:50:20.630Z"
   },
   {
    "duration": 8,
    "start_time": "2022-11-06T21:50:22.298Z"
   },
   {
    "duration": 23,
    "start_time": "2022-11-06T21:50:24.840Z"
   },
   {
    "duration": 48,
    "start_time": "2022-11-06T21:50:26.598Z"
   },
   {
    "duration": 10,
    "start_time": "2022-11-06T21:50:27.785Z"
   },
   {
    "duration": 101,
    "start_time": "2022-11-06T21:50:28.465Z"
   },
   {
    "duration": 10,
    "start_time": "2022-11-06T21:50:29.827Z"
   },
   {
    "duration": 4,
    "start_time": "2022-11-06T21:50:30.649Z"
   },
   {
    "duration": 7,
    "start_time": "2022-11-06T21:50:31.025Z"
   },
   {
    "duration": 11,
    "start_time": "2022-11-06T21:50:31.524Z"
   },
   {
    "duration": 7,
    "start_time": "2022-11-06T21:50:33.575Z"
   },
   {
    "duration": 33,
    "start_time": "2022-11-06T21:50:35.127Z"
   },
   {
    "duration": 71,
    "start_time": "2022-11-06T21:50:37.133Z"
   },
   {
    "duration": 10,
    "start_time": "2022-11-06T21:50:38.387Z"
   },
   {
    "duration": 4,
    "start_time": "2022-11-06T21:50:38.790Z"
   },
   {
    "duration": 6,
    "start_time": "2022-11-06T21:50:40.142Z"
   },
   {
    "duration": 8,
    "start_time": "2022-11-06T21:51:20.270Z"
   },
   {
    "duration": 3,
    "start_time": "2022-11-06T22:06:32.575Z"
   },
   {
    "duration": 138,
    "start_time": "2022-11-06T22:06:33.100Z"
   },
   {
    "duration": 18,
    "start_time": "2022-11-06T22:06:33.545Z"
   },
   {
    "duration": 11,
    "start_time": "2022-11-06T22:06:33.825Z"
   },
   {
    "duration": 11,
    "start_time": "2022-11-06T22:06:34.921Z"
   },
   {
    "duration": 12,
    "start_time": "2022-11-06T22:06:36.076Z"
   },
   {
    "duration": 3,
    "start_time": "2022-11-06T22:06:36.402Z"
   },
   {
    "duration": 51,
    "start_time": "2022-11-06T22:06:36.670Z"
   },
   {
    "duration": 61,
    "start_time": "2022-11-06T22:06:37.064Z"
   },
   {
    "duration": 47,
    "start_time": "2022-11-06T22:06:37.473Z"
   },
   {
    "duration": 8,
    "start_time": "2022-11-06T22:06:38.320Z"
   },
   {
    "duration": 8,
    "start_time": "2022-11-06T22:06:38.806Z"
   },
   {
    "duration": 14,
    "start_time": "2022-11-06T22:06:39.837Z"
   },
   {
    "duration": 9,
    "start_time": "2022-11-06T22:06:40.365Z"
   },
   {
    "duration": 4,
    "start_time": "2022-11-06T22:06:42.326Z"
   },
   {
    "duration": 5,
    "start_time": "2022-11-06T22:06:43.412Z"
   },
   {
    "duration": 5,
    "start_time": "2022-11-06T22:06:44.348Z"
   },
   {
    "duration": 5,
    "start_time": "2022-11-06T22:06:45.333Z"
   },
   {
    "duration": 714,
    "start_time": "2022-11-06T22:06:46.511Z"
   },
   {
    "duration": 12,
    "start_time": "2022-11-06T22:06:49.775Z"
   },
   {
    "duration": 8,
    "start_time": "2022-11-06T22:06:54.655Z"
   },
   {
    "duration": 5,
    "start_time": "2022-11-06T22:06:55.969Z"
   },
   {
    "duration": 8,
    "start_time": "2022-11-06T22:06:57.573Z"
   },
   {
    "duration": 12,
    "start_time": "2022-11-06T22:06:58.248Z"
   },
   {
    "duration": 11,
    "start_time": "2022-11-06T22:06:59.800Z"
   },
   {
    "duration": 9,
    "start_time": "2022-11-06T22:07:01.344Z"
   },
   {
    "duration": 23,
    "start_time": "2022-11-06T22:07:03.058Z"
   },
   {
    "duration": 50,
    "start_time": "2022-11-06T22:07:04.097Z"
   },
   {
    "duration": 10,
    "start_time": "2022-11-06T22:07:04.490Z"
   },
   {
    "duration": 94,
    "start_time": "2022-11-06T22:07:04.672Z"
   },
   {
    "duration": 9,
    "start_time": "2022-11-06T22:07:05.917Z"
   },
   {
    "duration": 4,
    "start_time": "2022-11-06T22:07:06.903Z"
   },
   {
    "duration": 7,
    "start_time": "2022-11-06T22:07:07.328Z"
   },
   {
    "duration": 11,
    "start_time": "2022-11-06T22:07:07.682Z"
   },
   {
    "duration": 8,
    "start_time": "2022-11-06T22:07:09.731Z"
   },
   {
    "duration": 33,
    "start_time": "2022-11-06T22:07:11.650Z"
   },
   {
    "duration": 71,
    "start_time": "2022-11-06T22:07:15.086Z"
   },
   {
    "duration": 10,
    "start_time": "2022-11-06T22:07:23.901Z"
   },
   {
    "duration": 3,
    "start_time": "2022-11-06T22:07:25.110Z"
   },
   {
    "duration": 5,
    "start_time": "2022-11-06T22:13:43.309Z"
   },
   {
    "duration": 9,
    "start_time": "2022-11-06T22:13:43.729Z"
   },
   {
    "duration": 8,
    "start_time": "2022-11-06T22:13:44.752Z"
   },
   {
    "duration": 8,
    "start_time": "2022-11-06T22:13:46.011Z"
   },
   {
    "duration": 8,
    "start_time": "2022-11-06T22:13:48.587Z"
   },
   {
    "duration": 1278,
    "start_time": "2022-11-07T10:10:51.372Z"
   },
   {
    "duration": 354,
    "start_time": "2022-11-07T10:10:52.654Z"
   },
   {
    "duration": 21,
    "start_time": "2022-11-07T10:10:53.010Z"
   },
   {
    "duration": 12,
    "start_time": "2022-11-07T10:10:53.033Z"
   },
   {
    "duration": 14,
    "start_time": "2022-11-07T10:10:54.286Z"
   },
   {
    "duration": 14,
    "start_time": "2022-11-07T10:10:55.549Z"
   },
   {
    "duration": 4,
    "start_time": "2022-11-07T10:10:55.848Z"
   },
   {
    "duration": 67,
    "start_time": "2022-11-07T10:10:56.294Z"
   },
   {
    "duration": 77,
    "start_time": "2022-11-07T10:10:56.640Z"
   },
   {
    "duration": 55,
    "start_time": "2022-11-07T10:10:57.083Z"
   },
   {
    "duration": 9,
    "start_time": "2022-11-07T10:10:57.953Z"
   },
   {
    "duration": 9,
    "start_time": "2022-11-07T10:10:58.300Z"
   },
   {
    "duration": 16,
    "start_time": "2022-11-07T10:10:59.257Z"
   },
   {
    "duration": 9,
    "start_time": "2022-11-07T10:10:59.615Z"
   },
   {
    "duration": 3,
    "start_time": "2022-11-07T10:11:02.583Z"
   },
   {
    "duration": 7,
    "start_time": "2022-11-07T10:11:03.609Z"
   },
   {
    "duration": 7,
    "start_time": "2022-11-07T10:11:04.732Z"
   },
   {
    "duration": 7,
    "start_time": "2022-11-07T10:11:05.738Z"
   },
   {
    "duration": 791,
    "start_time": "2022-11-07T10:11:06.708Z"
   },
   {
    "duration": 17,
    "start_time": "2022-11-07T10:11:09.022Z"
   },
   {
    "duration": 9,
    "start_time": "2022-11-07T10:11:09.866Z"
   },
   {
    "duration": 7,
    "start_time": "2022-11-07T10:11:10.734Z"
   },
   {
    "duration": 12,
    "start_time": "2022-11-07T10:11:11.766Z"
   },
   {
    "duration": 13,
    "start_time": "2022-11-07T10:11:12.291Z"
   },
   {
    "duration": 13,
    "start_time": "2022-11-07T10:11:14.255Z"
   },
   {
    "duration": 9,
    "start_time": "2022-11-07T10:11:15.803Z"
   },
   {
    "duration": 29,
    "start_time": "2022-11-07T10:11:18.340Z"
   },
   {
    "duration": 58,
    "start_time": "2022-11-07T10:11:20.913Z"
   },
   {
    "duration": 12,
    "start_time": "2022-11-07T10:11:22.105Z"
   },
   {
    "duration": 112,
    "start_time": "2022-11-07T10:11:22.526Z"
   },
   {
    "duration": 10,
    "start_time": "2022-11-07T10:11:24.111Z"
   },
   {
    "duration": 5,
    "start_time": "2022-11-07T10:11:25.181Z"
   },
   {
    "duration": 9,
    "start_time": "2022-11-07T10:11:25.604Z"
   },
   {
    "duration": 11,
    "start_time": "2022-11-07T10:11:27.245Z"
   },
   {
    "duration": 9,
    "start_time": "2022-11-07T10:11:31.039Z"
   },
   {
    "duration": 36,
    "start_time": "2022-11-07T10:11:33.605Z"
   },
   {
    "duration": 89,
    "start_time": "2022-11-07T10:11:46.409Z"
   },
   {
    "duration": 10,
    "start_time": "2022-11-07T10:11:50.321Z"
   },
   {
    "duration": 4,
    "start_time": "2022-11-07T10:13:44.419Z"
   },
   {
    "duration": 6,
    "start_time": "2022-11-07T10:13:45.354Z"
   },
   {
    "duration": 9,
    "start_time": "2022-11-07T10:13:50.749Z"
   },
   {
    "duration": 1204,
    "start_time": "2022-11-07T11:40:47.635Z"
   },
   {
    "duration": 736,
    "start_time": "2022-11-07T11:40:48.841Z"
   },
   {
    "duration": 20,
    "start_time": "2022-11-07T11:40:49.578Z"
   },
   {
    "duration": 13,
    "start_time": "2022-11-07T11:40:49.600Z"
   },
   {
    "duration": 13,
    "start_time": "2022-11-07T11:40:49.815Z"
   },
   {
    "duration": 15,
    "start_time": "2022-11-07T11:40:51.202Z"
   },
   {
    "duration": 4,
    "start_time": "2022-11-07T11:40:51.607Z"
   },
   {
    "duration": 65,
    "start_time": "2022-11-07T11:40:52.182Z"
   },
   {
    "duration": 71,
    "start_time": "2022-11-07T11:40:52.395Z"
   },
   {
    "duration": 55,
    "start_time": "2022-11-07T11:40:52.596Z"
   },
   {
    "duration": 9,
    "start_time": "2022-11-07T11:40:53.379Z"
   },
   {
    "duration": 10,
    "start_time": "2022-11-07T11:40:53.583Z"
   },
   {
    "duration": 16,
    "start_time": "2022-11-07T11:40:54.722Z"
   },
   {
    "duration": 10,
    "start_time": "2022-11-07T11:40:54.974Z"
   },
   {
    "duration": 3,
    "start_time": "2022-11-07T11:40:57.093Z"
   },
   {
    "duration": 6,
    "start_time": "2022-11-07T11:40:58.090Z"
   },
   {
    "duration": 7,
    "start_time": "2022-11-07T11:40:59.084Z"
   },
   {
    "duration": 6,
    "start_time": "2022-11-07T11:41:01.561Z"
   },
   {
    "duration": 786,
    "start_time": "2022-11-07T11:41:02.491Z"
   },
   {
    "duration": 17,
    "start_time": "2022-11-07T11:41:03.334Z"
   },
   {
    "duration": 9,
    "start_time": "2022-11-07T11:41:07.577Z"
   },
   {
    "duration": 5,
    "start_time": "2022-11-07T11:41:08.463Z"
   },
   {
    "duration": 11,
    "start_time": "2022-11-07T11:41:09.345Z"
   },
   {
    "duration": 14,
    "start_time": "2022-11-07T11:41:09.878Z"
   },
   {
    "duration": 13,
    "start_time": "2022-11-07T11:41:11.261Z"
   },
   {
    "duration": 9,
    "start_time": "2022-11-07T11:41:15.123Z"
   },
   {
    "duration": 26,
    "start_time": "2022-11-07T11:41:18.695Z"
   },
   {
    "duration": 57,
    "start_time": "2022-11-07T11:41:20.691Z"
   },
   {
    "duration": 13,
    "start_time": "2022-11-07T11:41:21.908Z"
   },
   {
    "duration": 110,
    "start_time": "2022-11-07T11:41:22.277Z"
   },
   {
    "duration": 11,
    "start_time": "2022-11-07T11:41:23.513Z"
   },
   {
    "duration": 4,
    "start_time": "2022-11-07T11:41:24.782Z"
   },
   {
    "duration": 8,
    "start_time": "2022-11-07T11:41:25.579Z"
   },
   {
    "duration": 13,
    "start_time": "2022-11-07T11:42:04.470Z"
   },
   {
    "duration": 8,
    "start_time": "2022-11-07T11:42:11.154Z"
   },
   {
    "duration": 35,
    "start_time": "2022-11-07T11:42:15.163Z"
   },
   {
    "duration": 81,
    "start_time": "2022-11-07T11:42:24.004Z"
   },
   {
    "duration": 10,
    "start_time": "2022-11-07T11:42:37.579Z"
   },
   {
    "duration": 4,
    "start_time": "2022-11-07T11:42:39.752Z"
   },
   {
    "duration": 6,
    "start_time": "2022-11-07T11:45:19.842Z"
   },
   {
    "duration": 9,
    "start_time": "2022-11-07T11:45:20.900Z"
   },
   {
    "duration": 11,
    "start_time": "2022-11-07T11:45:22.844Z"
   },
   {
    "duration": 10,
    "start_time": "2022-11-07T11:45:28.850Z"
   },
   {
    "duration": 11,
    "start_time": "2022-11-07T11:45:31.274Z"
   },
   {
    "duration": 11,
    "start_time": "2022-11-07T11:46:15.175Z"
   },
   {
    "duration": 10,
    "start_time": "2022-11-07T11:46:46.123Z"
   },
   {
    "duration": 8,
    "start_time": "2022-11-07T11:47:05.974Z"
   },
   {
    "duration": 8,
    "start_time": "2022-11-07T11:48:22.054Z"
   },
   {
    "duration": 9,
    "start_time": "2022-11-07T11:48:28.257Z"
   },
   {
    "duration": 1332,
    "start_time": "2022-11-08T08:47:07.886Z"
   },
   {
    "duration": 788,
    "start_time": "2022-11-08T08:47:09.221Z"
   },
   {
    "duration": 25,
    "start_time": "2022-11-08T08:47:10.011Z"
   },
   {
    "duration": 14,
    "start_time": "2022-11-08T08:47:10.038Z"
   },
   {
    "duration": 13,
    "start_time": "2022-11-08T08:47:10.886Z"
   },
   {
    "duration": 18,
    "start_time": "2022-11-08T08:47:12.363Z"
   },
   {
    "duration": 4,
    "start_time": "2022-11-08T08:47:12.614Z"
   },
   {
    "duration": 69,
    "start_time": "2022-11-08T08:47:13.041Z"
   },
   {
    "duration": 82,
    "start_time": "2022-11-08T08:47:13.312Z"
   },
   {
    "duration": 61,
    "start_time": "2022-11-08T08:47:13.702Z"
   },
   {
    "duration": 9,
    "start_time": "2022-11-08T08:47:14.341Z"
   },
   {
    "duration": 8,
    "start_time": "2022-11-08T08:47:14.675Z"
   },
   {
    "duration": 17,
    "start_time": "2022-11-08T08:47:15.183Z"
   },
   {
    "duration": 10,
    "start_time": "2022-11-08T08:47:15.601Z"
   },
   {
    "duration": 4,
    "start_time": "2022-11-08T08:47:17.057Z"
   },
   {
    "duration": 6,
    "start_time": "2022-11-08T08:47:17.773Z"
   },
   {
    "duration": 6,
    "start_time": "2022-11-08T08:47:18.280Z"
   },
   {
    "duration": 6,
    "start_time": "2022-11-08T08:47:18.752Z"
   },
   {
    "duration": 794,
    "start_time": "2022-11-08T08:47:19.243Z"
   },
   {
    "duration": 16,
    "start_time": "2022-11-08T08:47:20.308Z"
   },
   {
    "duration": 13,
    "start_time": "2022-11-08T08:47:20.984Z"
   },
   {
    "duration": 6,
    "start_time": "2022-11-08T08:47:21.705Z"
   },
   {
    "duration": 11,
    "start_time": "2022-11-08T08:47:22.391Z"
   },
   {
    "duration": 14,
    "start_time": "2022-11-08T08:47:22.981Z"
   },
   {
    "duration": 13,
    "start_time": "2022-11-08T08:47:24.081Z"
   },
   {
    "duration": 10,
    "start_time": "2022-11-08T08:47:26.650Z"
   },
   {
    "duration": 30,
    "start_time": "2022-11-08T08:47:28.520Z"
   },
   {
    "duration": 61,
    "start_time": "2022-11-08T08:47:30.313Z"
   },
   {
    "duration": 13,
    "start_time": "2022-11-08T08:47:31.694Z"
   },
   {
    "duration": 118,
    "start_time": "2022-11-08T08:47:32.097Z"
   },
   {
    "duration": 10,
    "start_time": "2022-11-08T08:47:33.262Z"
   },
   {
    "duration": 4,
    "start_time": "2022-11-08T08:47:34.471Z"
   },
   {
    "duration": 8,
    "start_time": "2022-11-08T08:47:34.820Z"
   },
   {
    "duration": 12,
    "start_time": "2022-11-08T08:47:35.445Z"
   },
   {
    "duration": 8,
    "start_time": "2022-11-08T08:47:40.644Z"
   },
   {
    "duration": 44,
    "start_time": "2022-11-08T08:47:45.197Z"
   },
   {
    "duration": 133,
    "start_time": "2022-11-08T08:57:54.160Z"
   },
   {
    "duration": 4,
    "start_time": "2022-11-08T08:58:03.914Z"
   },
   {
    "duration": 238,
    "start_time": "2022-11-08T08:58:03.920Z"
   },
   {
    "duration": 21,
    "start_time": "2022-11-08T08:58:04.160Z"
   },
   {
    "duration": 10,
    "start_time": "2022-11-08T08:58:04.184Z"
   },
   {
    "duration": 25,
    "start_time": "2022-11-08T08:58:04.196Z"
   },
   {
    "duration": 18,
    "start_time": "2022-11-08T08:58:04.223Z"
   },
   {
    "duration": 4,
    "start_time": "2022-11-08T08:58:04.243Z"
   },
   {
    "duration": 84,
    "start_time": "2022-11-08T08:58:04.248Z"
   },
   {
    "duration": 85,
    "start_time": "2022-11-08T08:58:04.335Z"
   },
   {
    "duration": 58,
    "start_time": "2022-11-08T08:58:04.423Z"
   },
   {
    "duration": 33,
    "start_time": "2022-11-08T08:58:04.482Z"
   },
   {
    "duration": 9,
    "start_time": "2022-11-08T08:58:04.517Z"
   },
   {
    "duration": 20,
    "start_time": "2022-11-08T08:58:04.527Z"
   },
   {
    "duration": 10,
    "start_time": "2022-11-08T08:58:04.548Z"
   },
   {
    "duration": 6,
    "start_time": "2022-11-08T08:58:04.559Z"
   },
   {
    "duration": 12,
    "start_time": "2022-11-08T08:58:04.567Z"
   },
   {
    "duration": 32,
    "start_time": "2022-11-08T08:58:04.581Z"
   },
   {
    "duration": 5,
    "start_time": "2022-11-08T08:58:04.615Z"
   },
   {
    "duration": 804,
    "start_time": "2022-11-08T08:58:04.621Z"
   },
   {
    "duration": 14,
    "start_time": "2022-11-08T08:58:05.426Z"
   },
   {
    "duration": 9,
    "start_time": "2022-11-08T08:58:05.441Z"
   },
   {
    "duration": 9,
    "start_time": "2022-11-08T08:58:05.452Z"
   },
   {
    "duration": 11,
    "start_time": "2022-11-08T08:58:05.462Z"
   },
   {
    "duration": 42,
    "start_time": "2022-11-08T08:58:05.476Z"
   },
   {
    "duration": 12,
    "start_time": "2022-11-08T08:58:05.520Z"
   },
   {
    "duration": 8,
    "start_time": "2022-11-08T08:58:05.534Z"
   },
   {
    "duration": 30,
    "start_time": "2022-11-08T08:58:05.544Z"
   },
   {
    "duration": 85,
    "start_time": "2022-11-08T08:58:05.576Z"
   },
   {
    "duration": 10,
    "start_time": "2022-11-08T08:58:05.663Z"
   },
   {
    "duration": 138,
    "start_time": "2022-11-08T08:58:05.675Z"
   },
   {
    "duration": 9,
    "start_time": "2022-11-08T08:58:05.815Z"
   },
   {
    "duration": 6,
    "start_time": "2022-11-08T08:58:05.826Z"
   },
   {
    "duration": 10,
    "start_time": "2022-11-08T08:58:05.834Z"
   },
   {
    "duration": 13,
    "start_time": "2022-11-08T08:58:05.846Z"
   },
   {
    "duration": 10,
    "start_time": "2022-11-08T08:58:05.860Z"
   },
   {
    "duration": 73,
    "start_time": "2022-11-08T08:58:05.872Z"
   },
   {
    "duration": 35,
    "start_time": "2022-11-08T08:58:05.947Z"
   },
   {
    "duration": 34,
    "start_time": "2022-11-08T08:58:08.603Z"
   },
   {
    "duration": 23,
    "start_time": "2022-11-08T08:58:17.553Z"
   },
   {
    "duration": 18,
    "start_time": "2022-11-08T08:58:33.760Z"
   },
   {
    "duration": 22,
    "start_time": "2022-11-08T08:59:17.083Z"
   },
   {
    "duration": 10,
    "start_time": "2022-11-08T08:59:22.723Z"
   },
   {
    "duration": 19,
    "start_time": "2022-11-08T08:59:33.278Z"
   },
   {
    "duration": 4,
    "start_time": "2022-11-08T09:00:47.943Z"
   },
   {
    "duration": 19,
    "start_time": "2022-11-08T09:01:03.045Z"
   },
   {
    "duration": 20,
    "start_time": "2022-11-08T09:01:10.404Z"
   },
   {
    "duration": 18,
    "start_time": "2022-11-08T09:02:32.570Z"
   },
   {
    "duration": 19,
    "start_time": "2022-11-08T09:02:49.709Z"
   },
   {
    "duration": 17,
    "start_time": "2022-11-08T09:03:29.901Z"
   },
   {
    "duration": 20,
    "start_time": "2022-11-08T09:03:33.010Z"
   },
   {
    "duration": 17,
    "start_time": "2022-11-08T09:03:33.277Z"
   },
   {
    "duration": 4,
    "start_time": "2022-11-08T09:03:39.564Z"
   },
   {
    "duration": 179,
    "start_time": "2022-11-08T09:03:39.570Z"
   },
   {
    "duration": 32,
    "start_time": "2022-11-08T09:03:39.751Z"
   },
   {
    "duration": 14,
    "start_time": "2022-11-08T09:03:39.785Z"
   },
   {
    "duration": 22,
    "start_time": "2022-11-08T09:03:39.801Z"
   },
   {
    "duration": 17,
    "start_time": "2022-11-08T09:03:39.824Z"
   },
   {
    "duration": 4,
    "start_time": "2022-11-08T09:03:39.843Z"
   },
   {
    "duration": 84,
    "start_time": "2022-11-08T09:03:39.848Z"
   },
   {
    "duration": 82,
    "start_time": "2022-11-08T09:03:39.934Z"
   },
   {
    "duration": 56,
    "start_time": "2022-11-08T09:03:40.019Z"
   },
   {
    "duration": 8,
    "start_time": "2022-11-08T09:03:40.077Z"
   },
   {
    "duration": 31,
    "start_time": "2022-11-08T09:03:40.087Z"
   },
   {
    "duration": 16,
    "start_time": "2022-11-08T09:03:40.120Z"
   },
   {
    "duration": 13,
    "start_time": "2022-11-08T09:03:40.137Z"
   },
   {
    "duration": 14,
    "start_time": "2022-11-08T09:03:40.152Z"
   },
   {
    "duration": 9,
    "start_time": "2022-11-08T09:03:40.167Z"
   },
   {
    "duration": 5,
    "start_time": "2022-11-08T09:03:40.178Z"
   },
   {
    "duration": 30,
    "start_time": "2022-11-08T09:03:40.185Z"
   },
   {
    "duration": 701,
    "start_time": "2022-11-08T09:03:40.217Z"
   },
   {
    "duration": 15,
    "start_time": "2022-11-08T09:03:40.920Z"
   },
   {
    "duration": 9,
    "start_time": "2022-11-08T09:03:40.937Z"
   },
   {
    "duration": 8,
    "start_time": "2022-11-08T09:03:40.947Z"
   },
   {
    "duration": 8,
    "start_time": "2022-11-08T09:03:40.956Z"
   },
   {
    "duration": 51,
    "start_time": "2022-11-08T09:03:40.965Z"
   },
   {
    "duration": 11,
    "start_time": "2022-11-08T09:03:41.018Z"
   },
   {
    "duration": 9,
    "start_time": "2022-11-08T09:03:41.031Z"
   },
   {
    "duration": 30,
    "start_time": "2022-11-08T09:03:41.041Z"
   },
   {
    "duration": 83,
    "start_time": "2022-11-08T09:03:41.075Z"
   },
   {
    "duration": 11,
    "start_time": "2022-11-08T09:03:41.160Z"
   },
   {
    "duration": 150,
    "start_time": "2022-11-08T09:03:41.173Z"
   },
   {
    "duration": 11,
    "start_time": "2022-11-08T09:03:41.325Z"
   },
   {
    "duration": 7,
    "start_time": "2022-11-08T09:03:41.337Z"
   },
   {
    "duration": 12,
    "start_time": "2022-11-08T09:03:41.346Z"
   },
   {
    "duration": 13,
    "start_time": "2022-11-08T09:03:41.360Z"
   },
   {
    "duration": 39,
    "start_time": "2022-11-08T09:03:41.375Z"
   },
   {
    "duration": 41,
    "start_time": "2022-11-08T09:03:41.416Z"
   },
   {
    "duration": 17,
    "start_time": "2022-11-08T09:03:41.458Z"
   },
   {
    "duration": 45,
    "start_time": "2022-11-08T09:03:41.476Z"
   },
   {
    "duration": 10,
    "start_time": "2022-11-08T09:12:26.205Z"
   },
   {
    "duration": 10,
    "start_time": "2022-11-08T09:12:51.516Z"
   },
   {
    "duration": 10,
    "start_time": "2022-11-08T09:14:04.708Z"
   },
   {
    "duration": 11,
    "start_time": "2022-11-08T09:14:43.910Z"
   },
   {
    "duration": 10,
    "start_time": "2022-11-08T09:15:11.944Z"
   },
   {
    "duration": 6,
    "start_time": "2022-11-08T09:15:28.457Z"
   },
   {
    "duration": 7,
    "start_time": "2022-11-08T09:15:47.281Z"
   },
   {
    "duration": 7,
    "start_time": "2022-11-08T09:15:52.980Z"
   },
   {
    "duration": 8,
    "start_time": "2022-11-08T09:16:03.490Z"
   },
   {
    "duration": 16,
    "start_time": "2022-11-08T09:16:32.971Z"
   },
   {
    "duration": 17,
    "start_time": "2022-11-08T09:16:43.470Z"
   },
   {
    "duration": 5,
    "start_time": "2022-11-08T09:17:51.710Z"
   },
   {
    "duration": 5,
    "start_time": "2022-11-08T09:18:11.683Z"
   },
   {
    "duration": 5,
    "start_time": "2022-11-08T09:18:22.486Z"
   },
   {
    "duration": 5,
    "start_time": "2022-11-08T09:18:50.283Z"
   },
   {
    "duration": 5,
    "start_time": "2022-11-08T09:19:02.298Z"
   },
   {
    "duration": 85,
    "start_time": "2022-11-08T09:25:24.922Z"
   },
   {
    "duration": 10,
    "start_time": "2022-11-08T09:25:25.796Z"
   },
   {
    "duration": 4,
    "start_time": "2022-11-08T09:25:26.229Z"
   },
   {
    "duration": 7,
    "start_time": "2022-11-08T09:25:27.679Z"
   },
   {
    "duration": 11,
    "start_time": "2022-11-08T09:25:28.241Z"
   },
   {
    "duration": 9,
    "start_time": "2022-11-08T09:26:15.411Z"
   },
   {
    "duration": 13,
    "start_time": "2022-11-08T09:26:58.488Z"
   },
   {
    "duration": 11,
    "start_time": "2022-11-08T09:27:18.099Z"
   },
   {
    "duration": 13,
    "start_time": "2022-11-08T09:45:25.135Z"
   },
   {
    "duration": 82,
    "start_time": "2022-11-08T09:45:32.096Z"
   },
   {
    "duration": 14,
    "start_time": "2022-11-08T09:45:33.090Z"
   },
   {
    "duration": 4,
    "start_time": "2022-11-08T09:45:53.542Z"
   },
   {
    "duration": 164,
    "start_time": "2022-11-08T09:45:54.238Z"
   },
   {
    "duration": 21,
    "start_time": "2022-11-08T09:45:54.631Z"
   },
   {
    "duration": 12,
    "start_time": "2022-11-08T09:45:54.837Z"
   },
   {
    "duration": 10,
    "start_time": "2022-11-08T09:45:55.776Z"
   },
   {
    "duration": 17,
    "start_time": "2022-11-08T09:45:56.585Z"
   },
   {
    "duration": 4,
    "start_time": "2022-11-08T09:45:56.950Z"
   },
   {
    "duration": 59,
    "start_time": "2022-11-08T09:45:57.298Z"
   },
   {
    "duration": 73,
    "start_time": "2022-11-08T09:45:57.610Z"
   },
   {
    "duration": 54,
    "start_time": "2022-11-08T09:45:57.913Z"
   },
   {
    "duration": 9,
    "start_time": "2022-11-08T09:45:58.512Z"
   },
   {
    "duration": 11,
    "start_time": "2022-11-08T09:45:58.813Z"
   },
   {
    "duration": 16,
    "start_time": "2022-11-08T09:45:59.349Z"
   },
   {
    "duration": 10,
    "start_time": "2022-11-08T09:45:59.621Z"
   },
   {
    "duration": 4,
    "start_time": "2022-11-08T09:46:00.477Z"
   },
   {
    "duration": 6,
    "start_time": "2022-11-08T09:46:00.904Z"
   },
   {
    "duration": 6,
    "start_time": "2022-11-08T09:46:01.361Z"
   },
   {
    "duration": 6,
    "start_time": "2022-11-08T09:46:01.781Z"
   },
   {
    "duration": 853,
    "start_time": "2022-11-08T09:46:02.239Z"
   },
   {
    "duration": 20,
    "start_time": "2022-11-08T09:46:03.094Z"
   },
   {
    "duration": 10,
    "start_time": "2022-11-08T09:46:03.116Z"
   },
   {
    "duration": 13,
    "start_time": "2022-11-08T09:46:03.294Z"
   },
   {
    "duration": 8,
    "start_time": "2022-11-08T09:46:03.698Z"
   },
   {
    "duration": 14,
    "start_time": "2022-11-08T09:46:03.891Z"
   },
   {
    "duration": 14,
    "start_time": "2022-11-08T09:46:04.288Z"
   },
   {
    "duration": 10,
    "start_time": "2022-11-08T09:46:05.122Z"
   },
   {
    "duration": 29,
    "start_time": "2022-11-08T09:46:06.533Z"
   },
   {
    "duration": 61,
    "start_time": "2022-11-08T09:46:07.517Z"
   },
   {
    "duration": 11,
    "start_time": "2022-11-08T09:46:07.979Z"
   },
   {
    "duration": 120,
    "start_time": "2022-11-08T09:46:08.206Z"
   },
   {
    "duration": 13,
    "start_time": "2022-11-08T09:46:09.005Z"
   },
   {
    "duration": 4,
    "start_time": "2022-11-08T09:46:09.686Z"
   },
   {
    "duration": 8,
    "start_time": "2022-11-08T09:46:10.019Z"
   },
   {
    "duration": 14,
    "start_time": "2022-11-08T09:46:10.348Z"
   },
   {
    "duration": 9,
    "start_time": "2022-11-08T09:46:11.808Z"
   },
   {
    "duration": 38,
    "start_time": "2022-11-08T09:46:14.231Z"
   },
   {
    "duration": 16,
    "start_time": "2022-11-08T09:46:16.156Z"
   },
   {
    "duration": 18,
    "start_time": "2022-11-08T09:46:16.564Z"
   },
   {
    "duration": 6,
    "start_time": "2022-11-08T09:46:16.962Z"
   },
   {
    "duration": 78,
    "start_time": "2022-11-08T09:46:20.820Z"
   },
   {
    "duration": 10,
    "start_time": "2022-11-08T09:46:22.295Z"
   },
   {
    "duration": 7,
    "start_time": "2022-11-08T09:46:43.633Z"
   },
   {
    "duration": 8,
    "start_time": "2022-11-08T09:48:34.597Z"
   },
   {
    "duration": 12,
    "start_time": "2022-11-08T09:49:21.616Z"
   },
   {
    "duration": 81,
    "start_time": "2022-11-08T09:49:29.914Z"
   },
   {
    "duration": 14,
    "start_time": "2022-11-08T09:49:31.154Z"
   },
   {
    "duration": 4,
    "start_time": "2022-11-08T09:49:39.493Z"
   },
   {
    "duration": 159,
    "start_time": "2022-11-08T09:49:39.499Z"
   },
   {
    "duration": 21,
    "start_time": "2022-11-08T09:49:39.659Z"
   },
   {
    "duration": 11,
    "start_time": "2022-11-08T09:49:39.682Z"
   },
   {
    "duration": 11,
    "start_time": "2022-11-08T09:49:39.712Z"
   },
   {
    "duration": 17,
    "start_time": "2022-11-08T09:49:39.725Z"
   },
   {
    "duration": 6,
    "start_time": "2022-11-08T09:49:39.743Z"
   },
   {
    "duration": 76,
    "start_time": "2022-11-08T09:49:39.751Z"
   },
   {
    "duration": 65,
    "start_time": "2022-11-08T09:49:39.829Z"
   },
   {
    "duration": 61,
    "start_time": "2022-11-08T09:49:39.897Z"
   },
   {
    "duration": 9,
    "start_time": "2022-11-08T09:49:39.960Z"
   },
   {
    "duration": 10,
    "start_time": "2022-11-08T09:49:39.971Z"
   },
   {
    "duration": 52,
    "start_time": "2022-11-08T09:49:39.983Z"
   },
   {
    "duration": 9,
    "start_time": "2022-11-08T09:49:40.037Z"
   },
   {
    "duration": 15,
    "start_time": "2022-11-08T09:49:40.048Z"
   },
   {
    "duration": 8,
    "start_time": "2022-11-08T09:49:40.065Z"
   },
   {
    "duration": 11,
    "start_time": "2022-11-08T09:49:40.075Z"
   },
   {
    "duration": 27,
    "start_time": "2022-11-08T09:49:40.088Z"
   },
   {
    "duration": 744,
    "start_time": "2022-11-08T09:49:40.117Z"
   },
   {
    "duration": 12,
    "start_time": "2022-11-08T09:49:40.863Z"
   },
   {
    "duration": 10,
    "start_time": "2022-11-08T09:49:40.877Z"
   },
   {
    "duration": 28,
    "start_time": "2022-11-08T09:49:40.889Z"
   },
   {
    "duration": 9,
    "start_time": "2022-11-08T09:49:40.919Z"
   },
   {
    "duration": 13,
    "start_time": "2022-11-08T09:49:40.930Z"
   },
   {
    "duration": 12,
    "start_time": "2022-11-08T09:49:40.945Z"
   },
   {
    "duration": 10,
    "start_time": "2022-11-08T09:49:40.958Z"
   },
   {
    "duration": 63,
    "start_time": "2022-11-08T09:49:40.970Z"
   },
   {
    "duration": 58,
    "start_time": "2022-11-08T09:49:41.036Z"
   },
   {
    "duration": 26,
    "start_time": "2022-11-08T09:49:41.096Z"
   },
   {
    "duration": 128,
    "start_time": "2022-11-08T09:49:41.124Z"
   },
   {
    "duration": 10,
    "start_time": "2022-11-08T09:49:41.254Z"
   },
   {
    "duration": 7,
    "start_time": "2022-11-08T09:49:41.265Z"
   },
   {
    "duration": 11,
    "start_time": "2022-11-08T09:49:41.273Z"
   },
   {
    "duration": 33,
    "start_time": "2022-11-08T09:49:41.286Z"
   },
   {
    "duration": 10,
    "start_time": "2022-11-08T09:49:41.321Z"
   },
   {
    "duration": 41,
    "start_time": "2022-11-08T09:49:41.332Z"
   },
   {
    "duration": 17,
    "start_time": "2022-11-08T09:49:41.375Z"
   },
   {
    "duration": 33,
    "start_time": "2022-11-08T09:49:41.393Z"
   },
   {
    "duration": 6,
    "start_time": "2022-11-08T09:49:41.427Z"
   },
   {
    "duration": 105,
    "start_time": "2022-11-08T09:49:41.435Z"
   },
   {
    "duration": 11,
    "start_time": "2022-11-08T09:49:41.541Z"
   },
   {
    "duration": 13,
    "start_time": "2022-11-08T09:49:47.772Z"
   },
   {
    "duration": 7,
    "start_time": "2022-11-08T09:52:04.470Z"
   },
   {
    "duration": 6,
    "start_time": "2022-11-08T09:52:26.074Z"
   },
   {
    "duration": 10,
    "start_time": "2022-11-08T09:52:26.468Z"
   },
   {
    "duration": 81,
    "start_time": "2022-11-08T09:58:23.357Z"
   },
   {
    "duration": 12,
    "start_time": "2022-11-08T09:58:27.840Z"
   },
   {
    "duration": 3,
    "start_time": "2022-11-08T09:58:34.691Z"
   },
   {
    "duration": 159,
    "start_time": "2022-11-08T09:58:34.696Z"
   },
   {
    "duration": 22,
    "start_time": "2022-11-08T09:58:34.857Z"
   },
   {
    "duration": 11,
    "start_time": "2022-11-08T09:58:34.881Z"
   },
   {
    "duration": 11,
    "start_time": "2022-11-08T09:58:34.914Z"
   },
   {
    "duration": 17,
    "start_time": "2022-11-08T09:58:34.927Z"
   },
   {
    "duration": 8,
    "start_time": "2022-11-08T09:58:34.945Z"
   },
   {
    "duration": 84,
    "start_time": "2022-11-08T09:58:34.954Z"
   },
   {
    "duration": 59,
    "start_time": "2022-11-08T09:58:35.040Z"
   },
   {
    "duration": 53,
    "start_time": "2022-11-08T09:58:35.112Z"
   },
   {
    "duration": 7,
    "start_time": "2022-11-08T09:58:35.167Z"
   },
   {
    "duration": 19,
    "start_time": "2022-11-08T09:58:35.176Z"
   },
   {
    "duration": 30,
    "start_time": "2022-11-08T09:58:35.197Z"
   },
   {
    "duration": 9,
    "start_time": "2022-11-08T09:58:35.230Z"
   },
   {
    "duration": 7,
    "start_time": "2022-11-08T09:58:35.240Z"
   },
   {
    "duration": 9,
    "start_time": "2022-11-08T09:58:35.248Z"
   },
   {
    "duration": 8,
    "start_time": "2022-11-08T09:58:35.259Z"
   },
   {
    "duration": 19,
    "start_time": "2022-11-08T09:58:35.268Z"
   },
   {
    "duration": 834,
    "start_time": "2022-11-08T09:58:35.289Z"
   },
   {
    "duration": 12,
    "start_time": "2022-11-08T09:58:36.125Z"
   },
   {
    "duration": 10,
    "start_time": "2022-11-08T09:58:36.139Z"
   },
   {
    "duration": 11,
    "start_time": "2022-11-08T09:58:36.150Z"
   },
   {
    "duration": 9,
    "start_time": "2022-11-08T09:58:36.163Z"
   },
   {
    "duration": 40,
    "start_time": "2022-11-08T09:58:36.173Z"
   },
   {
    "duration": 12,
    "start_time": "2022-11-08T09:58:36.215Z"
   },
   {
    "duration": 9,
    "start_time": "2022-11-08T09:58:36.229Z"
   },
   {
    "duration": 29,
    "start_time": "2022-11-08T09:58:36.240Z"
   },
   {
    "duration": 84,
    "start_time": "2022-11-08T09:58:36.273Z"
   },
   {
    "duration": 10,
    "start_time": "2022-11-08T09:58:36.359Z"
   },
   {
    "duration": 140,
    "start_time": "2022-11-08T09:58:36.371Z"
   },
   {
    "duration": 11,
    "start_time": "2022-11-08T09:58:36.513Z"
   },
   {
    "duration": 5,
    "start_time": "2022-11-08T09:58:36.526Z"
   },
   {
    "duration": 14,
    "start_time": "2022-11-08T09:58:36.533Z"
   },
   {
    "duration": 14,
    "start_time": "2022-11-08T09:58:36.549Z"
   },
   {
    "duration": 16,
    "start_time": "2022-11-08T09:58:36.566Z"
   },
   {
    "duration": 67,
    "start_time": "2022-11-08T09:58:36.584Z"
   },
   {
    "duration": 17,
    "start_time": "2022-11-08T09:58:36.653Z"
   },
   {
    "duration": 42,
    "start_time": "2022-11-08T09:58:36.672Z"
   },
   {
    "duration": 7,
    "start_time": "2022-11-08T09:58:36.716Z"
   },
   {
    "duration": 98,
    "start_time": "2022-11-08T09:58:36.725Z"
   },
   {
    "duration": 12,
    "start_time": "2022-11-08T09:58:36.825Z"
   },
   {
    "duration": 8,
    "start_time": "2022-11-08T09:58:41.755Z"
   },
   {
    "duration": 77,
    "start_time": "2022-11-08T09:59:36.059Z"
   },
   {
    "duration": 8,
    "start_time": "2022-11-08T09:59:38.753Z"
   },
   {
    "duration": 79,
    "start_time": "2022-11-08T09:59:49.307Z"
   },
   {
    "duration": 8,
    "start_time": "2022-11-08T09:59:51.098Z"
   },
   {
    "duration": 37,
    "start_time": "2022-11-08T10:01:46.132Z"
   },
   {
    "duration": 17,
    "start_time": "2022-11-08T10:02:53.047Z"
   },
   {
    "duration": 18,
    "start_time": "2022-11-08T10:02:53.640Z"
   },
   {
    "duration": 6,
    "start_time": "2022-11-08T10:02:55.622Z"
   },
   {
    "duration": 83,
    "start_time": "2022-11-08T10:03:00.061Z"
   },
   {
    "duration": 11,
    "start_time": "2022-11-08T10:03:06.774Z"
   },
   {
    "duration": 8,
    "start_time": "2022-11-08T10:03:51.543Z"
   },
   {
    "duration": 6,
    "start_time": "2022-11-08T10:03:56.483Z"
   },
   {
    "duration": 11,
    "start_time": "2022-11-08T10:03:57.437Z"
   },
   {
    "duration": 11,
    "start_time": "2022-11-08T10:04:01.171Z"
   },
   {
    "duration": 10,
    "start_time": "2022-11-08T10:04:03.666Z"
   },
   {
    "duration": 10,
    "start_time": "2022-11-08T10:04:09.243Z"
   },
   {
    "duration": 9,
    "start_time": "2022-11-08T11:18:49.197Z"
   },
   {
    "duration": 11,
    "start_time": "2022-11-08T11:22:16.485Z"
   },
   {
    "duration": 9,
    "start_time": "2022-11-08T11:22:23.562Z"
   },
   {
    "duration": 11,
    "start_time": "2022-11-08T11:22:31.214Z"
   },
   {
    "duration": 10,
    "start_time": "2022-11-08T11:22:41.768Z"
   },
   {
    "duration": 10,
    "start_time": "2022-11-08T11:22:59.304Z"
   },
   {
    "duration": 9,
    "start_time": "2022-11-08T11:23:09.868Z"
   },
   {
    "duration": 10,
    "start_time": "2022-11-08T11:23:43.073Z"
   },
   {
    "duration": 13,
    "start_time": "2022-11-08T11:24:03.206Z"
   },
   {
    "duration": 8,
    "start_time": "2022-11-08T11:24:37.495Z"
   },
   {
    "duration": 10,
    "start_time": "2022-11-08T11:24:42.076Z"
   },
   {
    "duration": 10,
    "start_time": "2022-11-08T11:24:46.637Z"
   },
   {
    "duration": 11,
    "start_time": "2022-11-08T11:24:51.155Z"
   },
   {
    "duration": 13,
    "start_time": "2022-11-08T11:24:54.323Z"
   },
   {
    "duration": 11,
    "start_time": "2022-11-08T11:25:04.511Z"
   },
   {
    "duration": 12,
    "start_time": "2022-11-08T11:25:17.163Z"
   },
   {
    "duration": 12,
    "start_time": "2022-11-08T11:25:21.739Z"
   },
   {
    "duration": 10,
    "start_time": "2022-11-08T11:25:31.735Z"
   },
   {
    "duration": 11,
    "start_time": "2022-11-08T11:25:32.425Z"
   },
   {
    "duration": 11,
    "start_time": "2022-11-08T11:25:38.633Z"
   },
   {
    "duration": 10,
    "start_time": "2022-11-08T11:25:42.338Z"
   },
   {
    "duration": 10,
    "start_time": "2022-11-08T11:26:06.999Z"
   },
   {
    "duration": 10,
    "start_time": "2022-11-08T11:26:09.230Z"
   },
   {
    "duration": 9,
    "start_time": "2022-11-08T11:26:11.631Z"
   },
   {
    "duration": 11,
    "start_time": "2022-11-08T11:26:12.674Z"
   },
   {
    "duration": 7,
    "start_time": "2022-11-08T11:29:19.095Z"
   },
   {
    "duration": 4,
    "start_time": "2022-11-08T11:29:26.459Z"
   },
   {
    "duration": 165,
    "start_time": "2022-11-08T11:29:26.465Z"
   },
   {
    "duration": 21,
    "start_time": "2022-11-08T11:29:26.632Z"
   },
   {
    "duration": 11,
    "start_time": "2022-11-08T11:29:26.655Z"
   },
   {
    "duration": 15,
    "start_time": "2022-11-08T11:29:26.668Z"
   },
   {
    "duration": 36,
    "start_time": "2022-11-08T11:29:26.685Z"
   },
   {
    "duration": 12,
    "start_time": "2022-11-08T11:29:26.723Z"
   },
   {
    "duration": 57,
    "start_time": "2022-11-08T11:29:26.737Z"
   },
   {
    "duration": 71,
    "start_time": "2022-11-08T11:29:26.796Z"
   },
   {
    "duration": 65,
    "start_time": "2022-11-08T11:29:26.870Z"
   },
   {
    "duration": 8,
    "start_time": "2022-11-08T11:29:26.937Z"
   },
   {
    "duration": 9,
    "start_time": "2022-11-08T11:29:26.947Z"
   },
   {
    "duration": 18,
    "start_time": "2022-11-08T11:29:26.957Z"
   },
   {
    "duration": 10,
    "start_time": "2022-11-08T11:29:26.977Z"
   },
   {
    "duration": 4,
    "start_time": "2022-11-08T11:29:27.013Z"
   },
   {
    "duration": 11,
    "start_time": "2022-11-08T11:29:27.019Z"
   },
   {
    "duration": 6,
    "start_time": "2022-11-08T11:29:27.031Z"
   },
   {
    "duration": 10,
    "start_time": "2022-11-08T11:29:27.039Z"
   },
   {
    "duration": 733,
    "start_time": "2022-11-08T11:29:27.051Z"
   },
   {
    "duration": 13,
    "start_time": "2022-11-08T11:29:27.786Z"
   },
   {
    "duration": 10,
    "start_time": "2022-11-08T11:29:27.814Z"
   },
   {
    "duration": 8,
    "start_time": "2022-11-08T11:29:27.825Z"
   },
   {
    "duration": 9,
    "start_time": "2022-11-08T11:29:27.835Z"
   },
   {
    "duration": 13,
    "start_time": "2022-11-08T11:29:27.846Z"
   },
   {
    "duration": 12,
    "start_time": "2022-11-08T11:29:27.861Z"
   },
   {
    "duration": 171,
    "start_time": "2022-11-08T11:29:27.875Z"
   },
   {
    "duration": 27,
    "start_time": "2022-11-08T11:29:28.048Z"
   },
   {
    "duration": 78,
    "start_time": "2022-11-08T11:29:28.078Z"
   },
   {
    "duration": 10,
    "start_time": "2022-11-08T11:29:28.158Z"
   },
   {
    "duration": 136,
    "start_time": "2022-11-08T11:29:28.170Z"
   },
   {
    "duration": 10,
    "start_time": "2022-11-08T11:29:28.312Z"
   },
   {
    "duration": 6,
    "start_time": "2022-11-08T11:29:28.323Z"
   },
   {
    "duration": 10,
    "start_time": "2022-11-08T11:29:28.331Z"
   },
   {
    "duration": 14,
    "start_time": "2022-11-08T11:29:28.343Z"
   },
   {
    "duration": 11,
    "start_time": "2022-11-08T11:29:28.359Z"
   },
   {
    "duration": 67,
    "start_time": "2022-11-08T11:29:28.372Z"
   },
   {
    "duration": 17,
    "start_time": "2022-11-08T11:29:28.441Z"
   },
   {
    "duration": 15,
    "start_time": "2022-11-08T11:29:28.460Z"
   },
   {
    "duration": 5,
    "start_time": "2022-11-08T11:29:28.477Z"
   },
   {
    "duration": 111,
    "start_time": "2022-11-08T11:29:28.483Z"
   },
   {
    "duration": 23,
    "start_time": "2022-11-08T11:29:28.596Z"
   },
   {
    "duration": 8,
    "start_time": "2022-11-08T11:29:28.621Z"
   },
   {
    "duration": 6,
    "start_time": "2022-11-08T11:29:28.631Z"
   },
   {
    "duration": 4,
    "start_time": "2022-11-08T11:29:35.842Z"
   },
   {
    "duration": 165,
    "start_time": "2022-11-08T11:29:36.273Z"
   },
   {
    "duration": 22,
    "start_time": "2022-11-08T11:29:36.735Z"
   },
   {
    "duration": 12,
    "start_time": "2022-11-08T11:29:37.303Z"
   },
   {
    "duration": 12,
    "start_time": "2022-11-08T11:29:38.345Z"
   },
   {
    "duration": 24,
    "start_time": "2022-11-08T11:29:39.354Z"
   },
   {
    "duration": 4,
    "start_time": "2022-11-08T11:29:39.580Z"
   },
   {
    "duration": 52,
    "start_time": "2022-11-08T11:29:39.902Z"
   },
   {
    "duration": 58,
    "start_time": "2022-11-08T11:29:40.220Z"
   },
   {
    "duration": 58,
    "start_time": "2022-11-08T11:29:40.443Z"
   },
   {
    "duration": 8,
    "start_time": "2022-11-08T11:29:40.837Z"
   },
   {
    "duration": 9,
    "start_time": "2022-11-08T11:29:41.037Z"
   },
   {
    "duration": 21,
    "start_time": "2022-11-08T11:29:41.428Z"
   },
   {
    "duration": 9,
    "start_time": "2022-11-08T11:29:41.744Z"
   },
   {
    "duration": 3,
    "start_time": "2022-11-08T11:29:42.559Z"
   },
   {
    "duration": 6,
    "start_time": "2022-11-08T11:29:42.946Z"
   },
   {
    "duration": 6,
    "start_time": "2022-11-08T11:29:43.340Z"
   },
   {
    "duration": 5,
    "start_time": "2022-11-08T11:29:43.743Z"
   },
   {
    "duration": 729,
    "start_time": "2022-11-08T11:29:44.168Z"
   },
   {
    "duration": 21,
    "start_time": "2022-11-08T11:29:44.899Z"
   },
   {
    "duration": 9,
    "start_time": "2022-11-08T11:29:45.054Z"
   },
   {
    "duration": 7,
    "start_time": "2022-11-08T11:29:46.061Z"
   },
   {
    "duration": 8,
    "start_time": "2022-11-08T11:29:46.575Z"
   },
   {
    "duration": 15,
    "start_time": "2022-11-08T11:29:46.852Z"
   },
   {
    "duration": 13,
    "start_time": "2022-11-08T11:29:47.606Z"
   },
   {
    "duration": 11,
    "start_time": "2022-11-08T11:29:48.631Z"
   },
   {
    "duration": 28,
    "start_time": "2022-11-08T11:29:50.091Z"
   },
   {
    "duration": 59,
    "start_time": "2022-11-08T11:29:51.335Z"
   },
   {
    "duration": 14,
    "start_time": "2022-11-08T11:29:51.807Z"
   },
   {
    "duration": 116,
    "start_time": "2022-11-08T11:29:52.039Z"
   },
   {
    "duration": 10,
    "start_time": "2022-11-08T11:29:53.222Z"
   },
   {
    "duration": 4,
    "start_time": "2022-11-08T11:29:54.008Z"
   },
   {
    "duration": 8,
    "start_time": "2022-11-08T11:29:54.258Z"
   },
   {
    "duration": 12,
    "start_time": "2022-11-08T11:29:54.820Z"
   },
   {
    "duration": 9,
    "start_time": "2022-11-08T11:29:56.964Z"
   },
   {
    "duration": 38,
    "start_time": "2022-11-08T11:29:58.135Z"
   },
   {
    "duration": 17,
    "start_time": "2022-11-08T11:29:59.166Z"
   },
   {
    "duration": 17,
    "start_time": "2022-11-08T11:29:59.763Z"
   },
   {
    "duration": 6,
    "start_time": "2022-11-08T11:30:00.194Z"
   },
   {
    "duration": 79,
    "start_time": "2022-11-08T11:30:01.167Z"
   },
   {
    "duration": 11,
    "start_time": "2022-11-08T11:30:14.580Z"
   },
   {
    "duration": 8,
    "start_time": "2022-11-08T11:30:15.109Z"
   },
   {
    "duration": 7,
    "start_time": "2022-11-08T11:30:17.534Z"
   },
   {
    "duration": 10,
    "start_time": "2022-11-08T11:30:18.150Z"
   },
   {
    "duration": 10,
    "start_time": "2022-11-08T11:30:25.273Z"
   },
   {
    "duration": 11,
    "start_time": "2022-11-08T11:30:27.150Z"
   },
   {
    "duration": 9,
    "start_time": "2022-11-08T11:30:29.808Z"
   },
   {
    "duration": 9,
    "start_time": "2022-11-08T11:30:36.291Z"
   },
   {
    "duration": 11,
    "start_time": "2022-11-08T11:30:38.400Z"
   },
   {
    "duration": 8,
    "start_time": "2022-11-08T11:30:43.355Z"
   },
   {
    "duration": 10,
    "start_time": "2022-11-08T11:30:47.872Z"
   },
   {
    "duration": 9,
    "start_time": "2022-11-08T11:31:00.682Z"
   },
   {
    "duration": 10,
    "start_time": "2022-11-08T11:31:06.603Z"
   },
   {
    "duration": 6,
    "start_time": "2022-11-08T11:31:54.200Z"
   },
   {
    "duration": 9,
    "start_time": "2022-11-08T11:31:55.482Z"
   },
   {
    "duration": 10,
    "start_time": "2022-11-08T11:31:57.049Z"
   },
   {
    "duration": 10,
    "start_time": "2022-11-08T11:31:58.243Z"
   },
   {
    "duration": 15,
    "start_time": "2022-11-08T11:31:58.984Z"
   },
   {
    "duration": 11,
    "start_time": "2022-11-08T11:32:03.006Z"
   },
   {
    "duration": 11,
    "start_time": "2022-11-08T11:32:05.287Z"
   },
   {
    "duration": 6,
    "start_time": "2022-11-08T11:33:15.600Z"
   },
   {
    "duration": 11,
    "start_time": "2022-11-08T11:33:16.817Z"
   },
   {
    "duration": 13,
    "start_time": "2022-11-08T11:33:19.055Z"
   },
   {
    "duration": 8,
    "start_time": "2022-11-08T11:33:20.033Z"
   },
   {
    "duration": 10,
    "start_time": "2022-11-08T11:33:21.124Z"
   },
   {
    "duration": 10,
    "start_time": "2022-11-08T11:33:25.593Z"
   },
   {
    "duration": 12,
    "start_time": "2022-11-08T11:33:26.371Z"
   },
   {
    "duration": 12,
    "start_time": "2022-11-08T11:33:28.415Z"
   },
   {
    "duration": 10,
    "start_time": "2022-11-08T11:33:37.476Z"
   },
   {
    "duration": 90,
    "start_time": "2022-11-08T11:39:30.063Z"
   },
   {
    "duration": 88,
    "start_time": "2022-11-08T11:43:19.109Z"
   },
   {
    "duration": 71,
    "start_time": "2022-11-08T11:43:30.411Z"
   },
   {
    "duration": 13,
    "start_time": "2022-11-08T11:43:47.080Z"
   },
   {
    "duration": 82,
    "start_time": "2022-11-08T11:44:49.543Z"
   },
   {
    "duration": 12,
    "start_time": "2022-11-08T11:44:50.884Z"
   },
   {
    "duration": 3,
    "start_time": "2022-11-08T11:45:14.365Z"
   },
   {
    "duration": 184,
    "start_time": "2022-11-08T11:45:14.371Z"
   },
   {
    "duration": 23,
    "start_time": "2022-11-08T11:45:14.557Z"
   },
   {
    "duration": 30,
    "start_time": "2022-11-08T11:45:14.583Z"
   },
   {
    "duration": 12,
    "start_time": "2022-11-08T11:45:14.615Z"
   },
   {
    "duration": 32,
    "start_time": "2022-11-08T11:45:14.629Z"
   },
   {
    "duration": 14,
    "start_time": "2022-11-08T11:45:14.662Z"
   },
   {
    "duration": 64,
    "start_time": "2022-11-08T11:45:14.677Z"
   },
   {
    "duration": 61,
    "start_time": "2022-11-08T11:45:14.743Z"
   },
   {
    "duration": 53,
    "start_time": "2022-11-08T11:45:14.815Z"
   },
   {
    "duration": 9,
    "start_time": "2022-11-08T11:45:14.870Z"
   },
   {
    "duration": 34,
    "start_time": "2022-11-08T11:45:14.880Z"
   },
   {
    "duration": 19,
    "start_time": "2022-11-08T11:45:14.916Z"
   },
   {
    "duration": 10,
    "start_time": "2022-11-08T11:45:14.936Z"
   },
   {
    "duration": 7,
    "start_time": "2022-11-08T11:45:14.948Z"
   },
   {
    "duration": 8,
    "start_time": "2022-11-08T11:45:14.957Z"
   },
   {
    "duration": 6,
    "start_time": "2022-11-08T11:45:14.966Z"
   },
   {
    "duration": 40,
    "start_time": "2022-11-08T11:45:14.974Z"
   },
   {
    "duration": 818,
    "start_time": "2022-11-08T11:45:15.016Z"
   },
   {
    "duration": 12,
    "start_time": "2022-11-08T11:45:15.835Z"
   },
   {
    "duration": 32,
    "start_time": "2022-11-08T11:45:15.849Z"
   },
   {
    "duration": 35,
    "start_time": "2022-11-08T11:45:15.883Z"
   },
   {
    "duration": 22,
    "start_time": "2022-11-08T11:45:15.920Z"
   },
   {
    "duration": 21,
    "start_time": "2022-11-08T11:45:15.944Z"
   },
   {
    "duration": 14,
    "start_time": "2022-11-08T11:45:15.967Z"
   },
   {
    "duration": 10,
    "start_time": "2022-11-08T11:45:15.983Z"
   },
   {
    "duration": 44,
    "start_time": "2022-11-08T11:45:15.995Z"
   },
   {
    "duration": 77,
    "start_time": "2022-11-08T11:45:16.043Z"
   },
   {
    "duration": 12,
    "start_time": "2022-11-08T11:45:16.122Z"
   },
   {
    "duration": 142,
    "start_time": "2022-11-08T11:45:16.136Z"
   },
   {
    "duration": 10,
    "start_time": "2022-11-08T11:45:16.280Z"
   },
   {
    "duration": 21,
    "start_time": "2022-11-08T11:45:16.292Z"
   },
   {
    "duration": 11,
    "start_time": "2022-11-08T11:45:16.316Z"
   },
   {
    "duration": 13,
    "start_time": "2022-11-08T11:45:16.329Z"
   },
   {
    "duration": 10,
    "start_time": "2022-11-08T11:45:16.344Z"
   },
   {
    "duration": 59,
    "start_time": "2022-11-08T11:45:16.355Z"
   },
   {
    "duration": 17,
    "start_time": "2022-11-08T11:45:16.416Z"
   },
   {
    "duration": 24,
    "start_time": "2022-11-08T11:45:16.435Z"
   },
   {
    "duration": 5,
    "start_time": "2022-11-08T11:45:16.461Z"
   },
   {
    "duration": 98,
    "start_time": "2022-11-08T11:45:16.468Z"
   },
   {
    "duration": 14,
    "start_time": "2022-11-08T11:45:16.568Z"
   },
   {
    "duration": 75,
    "start_time": "2022-11-08T11:45:43.842Z"
   },
   {
    "duration": 8,
    "start_time": "2022-11-08T11:45:45.504Z"
   },
   {
    "duration": 77,
    "start_time": "2022-11-08T11:46:20.997Z"
   },
   {
    "duration": 9,
    "start_time": "2022-11-08T11:46:27.225Z"
   },
   {
    "duration": 7,
    "start_time": "2022-11-08T11:46:27.974Z"
   },
   {
    "duration": 6,
    "start_time": "2022-11-08T11:46:29.305Z"
   },
   {
    "duration": 12,
    "start_time": "2022-11-08T11:46:29.823Z"
   },
   {
    "duration": 10,
    "start_time": "2022-11-08T11:46:31.127Z"
   },
   {
    "duration": 10,
    "start_time": "2022-11-08T11:46:32.112Z"
   },
   {
    "duration": 11,
    "start_time": "2022-11-08T11:46:33.304Z"
   },
   {
    "duration": 10,
    "start_time": "2022-11-08T11:46:36.554Z"
   },
   {
    "duration": 10,
    "start_time": "2022-11-08T11:46:37.125Z"
   },
   {
    "duration": 10,
    "start_time": "2022-11-08T11:46:37.854Z"
   },
   {
    "duration": 9,
    "start_time": "2022-11-08T11:46:38.487Z"
   },
   {
    "duration": 76,
    "start_time": "2022-11-08T11:48:24.785Z"
   },
   {
    "duration": 14,
    "start_time": "2022-11-08T11:48:36.246Z"
   },
   {
    "duration": 4,
    "start_time": "2022-11-08T11:48:40.450Z"
   },
   {
    "duration": 158,
    "start_time": "2022-11-08T11:48:40.457Z"
   },
   {
    "duration": 22,
    "start_time": "2022-11-08T11:48:40.617Z"
   },
   {
    "duration": 10,
    "start_time": "2022-11-08T11:48:40.641Z"
   },
   {
    "duration": 14,
    "start_time": "2022-11-08T11:48:40.653Z"
   },
   {
    "duration": 45,
    "start_time": "2022-11-08T11:48:40.669Z"
   },
   {
    "duration": 3,
    "start_time": "2022-11-08T11:48:40.716Z"
   },
   {
    "duration": 54,
    "start_time": "2022-11-08T11:48:40.721Z"
   },
   {
    "duration": 73,
    "start_time": "2022-11-08T11:48:40.777Z"
   },
   {
    "duration": 61,
    "start_time": "2022-11-08T11:48:40.852Z"
   },
   {
    "duration": 7,
    "start_time": "2022-11-08T11:48:40.915Z"
   },
   {
    "duration": 9,
    "start_time": "2022-11-08T11:48:40.924Z"
   },
   {
    "duration": 18,
    "start_time": "2022-11-08T11:48:40.934Z"
   },
   {
    "duration": 9,
    "start_time": "2022-11-08T11:48:40.954Z"
   },
   {
    "duration": 5,
    "start_time": "2022-11-08T11:48:40.964Z"
   },
   {
    "duration": 8,
    "start_time": "2022-11-08T11:48:40.971Z"
   },
   {
    "duration": 36,
    "start_time": "2022-11-08T11:48:40.981Z"
   },
   {
    "duration": 8,
    "start_time": "2022-11-08T11:48:41.019Z"
   },
   {
    "duration": 684,
    "start_time": "2022-11-08T11:48:41.029Z"
   },
   {
    "duration": 13,
    "start_time": "2022-11-08T11:48:41.714Z"
   },
   {
    "duration": 9,
    "start_time": "2022-11-08T11:48:41.729Z"
   },
   {
    "duration": 8,
    "start_time": "2022-11-08T11:48:41.740Z"
   },
   {
    "duration": 7,
    "start_time": "2022-11-08T11:48:41.750Z"
   },
   {
    "duration": 12,
    "start_time": "2022-11-08T11:48:41.759Z"
   },
   {
    "duration": 44,
    "start_time": "2022-11-08T11:48:41.773Z"
   },
   {
    "duration": 9,
    "start_time": "2022-11-08T11:48:41.819Z"
   },
   {
    "duration": 27,
    "start_time": "2022-11-08T11:48:41.830Z"
   },
   {
    "duration": 81,
    "start_time": "2022-11-08T11:48:41.861Z"
   },
   {
    "duration": 10,
    "start_time": "2022-11-08T11:48:41.944Z"
   },
   {
    "duration": 129,
    "start_time": "2022-11-08T11:48:41.955Z"
   },
   {
    "duration": 9,
    "start_time": "2022-11-08T11:48:42.085Z"
   },
   {
    "duration": 17,
    "start_time": "2022-11-08T11:48:42.096Z"
   },
   {
    "duration": 9,
    "start_time": "2022-11-08T11:48:42.115Z"
   },
   {
    "duration": 12,
    "start_time": "2022-11-08T11:48:42.126Z"
   },
   {
    "duration": 9,
    "start_time": "2022-11-08T11:48:42.139Z"
   },
   {
    "duration": 64,
    "start_time": "2022-11-08T11:48:42.150Z"
   },
   {
    "duration": 16,
    "start_time": "2022-11-08T11:48:42.216Z"
   },
   {
    "duration": 15,
    "start_time": "2022-11-08T11:48:42.234Z"
   },
   {
    "duration": 5,
    "start_time": "2022-11-08T11:48:42.251Z"
   },
   {
    "duration": 103,
    "start_time": "2022-11-08T11:48:42.257Z"
   },
   {
    "duration": 10,
    "start_time": "2022-11-08T11:48:42.361Z"
   },
   {
    "duration": 9,
    "start_time": "2022-11-08T11:48:44.680Z"
   },
   {
    "duration": 8,
    "start_time": "2022-11-08T11:48:48.327Z"
   },
   {
    "duration": 6,
    "start_time": "2022-11-08T11:48:49.698Z"
   },
   {
    "duration": 10,
    "start_time": "2022-11-08T11:48:50.229Z"
   },
   {
    "duration": 11,
    "start_time": "2022-11-08T11:48:51.529Z"
   },
   {
    "duration": 10,
    "start_time": "2022-11-08T11:48:52.426Z"
   },
   {
    "duration": 9,
    "start_time": "2022-11-08T11:48:53.066Z"
   },
   {
    "duration": 9,
    "start_time": "2022-11-08T11:48:57.636Z"
   },
   {
    "duration": 10,
    "start_time": "2022-11-08T11:48:58.518Z"
   },
   {
    "duration": 9,
    "start_time": "2022-11-08T11:48:59.733Z"
   },
   {
    "duration": 75,
    "start_time": "2022-11-08T11:51:37.689Z"
   },
   {
    "duration": 14,
    "start_time": "2022-11-08T11:51:56.394Z"
   },
   {
    "duration": 7,
    "start_time": "2022-11-08T11:51:57.672Z"
   },
   {
    "duration": 3,
    "start_time": "2022-11-08T11:52:09.287Z"
   },
   {
    "duration": 158,
    "start_time": "2022-11-08T11:52:09.768Z"
   },
   {
    "duration": 20,
    "start_time": "2022-11-08T11:52:10.274Z"
   },
   {
    "duration": 10,
    "start_time": "2022-11-08T11:52:10.505Z"
   },
   {
    "duration": 11,
    "start_time": "2022-11-08T11:52:11.609Z"
   },
   {
    "duration": 16,
    "start_time": "2022-11-08T11:52:12.363Z"
   },
   {
    "duration": 5,
    "start_time": "2022-11-08T11:52:12.593Z"
   },
   {
    "duration": 53,
    "start_time": "2022-11-08T11:52:12.831Z"
   },
   {
    "duration": 60,
    "start_time": "2022-11-08T11:52:13.020Z"
   },
   {
    "duration": 52,
    "start_time": "2022-11-08T11:52:13.332Z"
   },
   {
    "duration": 8,
    "start_time": "2022-11-08T11:52:13.853Z"
   },
   {
    "duration": 10,
    "start_time": "2022-11-08T11:52:14.161Z"
   },
   {
    "duration": 16,
    "start_time": "2022-11-08T11:52:14.596Z"
   },
   {
    "duration": 9,
    "start_time": "2022-11-08T11:52:14.802Z"
   },
   {
    "duration": 3,
    "start_time": "2022-11-08T11:52:15.960Z"
   },
   {
    "duration": 6,
    "start_time": "2022-11-08T11:52:16.365Z"
   },
   {
    "duration": 5,
    "start_time": "2022-11-08T11:52:16.803Z"
   },
   {
    "duration": 6,
    "start_time": "2022-11-08T11:52:17.248Z"
   },
   {
    "duration": 861,
    "start_time": "2022-11-08T11:52:17.716Z"
   },
   {
    "duration": 12,
    "start_time": "2022-11-08T11:52:18.579Z"
   },
   {
    "duration": 21,
    "start_time": "2022-11-08T11:52:18.593Z"
   },
   {
    "duration": 6,
    "start_time": "2022-11-08T11:52:18.840Z"
   },
   {
    "duration": 10,
    "start_time": "2022-11-08T11:52:19.232Z"
   },
   {
    "duration": 15,
    "start_time": "2022-11-08T11:52:19.461Z"
   },
   {
    "duration": 14,
    "start_time": "2022-11-08T11:52:19.922Z"
   },
   {
    "duration": 10,
    "start_time": "2022-11-08T11:52:20.580Z"
   },
   {
    "duration": 27,
    "start_time": "2022-11-08T11:52:22.240Z"
   },
   {
    "duration": 60,
    "start_time": "2022-11-08T11:52:23.735Z"
   },
   {
    "duration": 13,
    "start_time": "2022-11-08T11:52:24.485Z"
   },
   {
    "duration": 121,
    "start_time": "2022-11-08T11:52:25.049Z"
   },
   {
    "duration": 9,
    "start_time": "2022-11-08T11:52:26.248Z"
   },
   {
    "duration": 4,
    "start_time": "2022-11-08T11:52:26.703Z"
   },
   {
    "duration": 8,
    "start_time": "2022-11-08T11:52:26.903Z"
   },
   {
    "duration": 12,
    "start_time": "2022-11-08T11:52:27.112Z"
   },
   {
    "duration": 8,
    "start_time": "2022-11-08T11:52:28.232Z"
   },
   {
    "duration": 41,
    "start_time": "2022-11-08T11:52:42.389Z"
   },
   {
    "duration": 16,
    "start_time": "2022-11-08T11:52:43.901Z"
   },
   {
    "duration": 16,
    "start_time": "2022-11-08T11:52:44.795Z"
   },
   {
    "duration": 5,
    "start_time": "2022-11-08T11:52:45.252Z"
   },
   {
    "duration": 91,
    "start_time": "2022-11-08T11:52:49.972Z"
   },
   {
    "duration": 11,
    "start_time": "2022-11-08T11:53:02.015Z"
   },
   {
    "duration": 7,
    "start_time": "2022-11-08T11:53:03.042Z"
   },
   {
    "duration": 8,
    "start_time": "2022-11-08T11:53:29.466Z"
   },
   {
    "duration": 11,
    "start_time": "2022-11-08T11:53:31.252Z"
   },
   {
    "duration": 9,
    "start_time": "2022-11-08T11:53:41.458Z"
   },
   {
    "duration": 74,
    "start_time": "2022-11-08T11:54:01.440Z"
   },
   {
    "duration": 12,
    "start_time": "2022-11-08T11:54:02.649Z"
   },
   {
    "duration": 3,
    "start_time": "2022-11-08T11:54:09.652Z"
   },
   {
    "duration": 156,
    "start_time": "2022-11-08T11:54:09.658Z"
   },
   {
    "duration": 22,
    "start_time": "2022-11-08T11:54:09.816Z"
   },
   {
    "duration": 11,
    "start_time": "2022-11-08T11:54:09.841Z"
   },
   {
    "duration": 12,
    "start_time": "2022-11-08T11:54:09.854Z"
   },
   {
    "duration": 48,
    "start_time": "2022-11-08T11:54:09.868Z"
   },
   {
    "duration": 4,
    "start_time": "2022-11-08T11:54:09.919Z"
   },
   {
    "duration": 53,
    "start_time": "2022-11-08T11:54:09.925Z"
   },
   {
    "duration": 83,
    "start_time": "2022-11-08T11:54:09.980Z"
   },
   {
    "duration": 64,
    "start_time": "2022-11-08T11:54:10.066Z"
   },
   {
    "duration": 8,
    "start_time": "2022-11-08T11:54:10.132Z"
   },
   {
    "duration": 11,
    "start_time": "2022-11-08T11:54:10.142Z"
   },
   {
    "duration": 20,
    "start_time": "2022-11-08T11:54:10.154Z"
   },
   {
    "duration": 9,
    "start_time": "2022-11-08T11:54:10.176Z"
   },
   {
    "duration": 27,
    "start_time": "2022-11-08T11:54:10.186Z"
   },
   {
    "duration": 7,
    "start_time": "2022-11-08T11:54:10.215Z"
   },
   {
    "duration": 5,
    "start_time": "2022-11-08T11:54:10.224Z"
   },
   {
    "duration": 6,
    "start_time": "2022-11-08T11:54:10.231Z"
   },
   {
    "duration": 740,
    "start_time": "2022-11-08T11:54:10.239Z"
   },
   {
    "duration": 11,
    "start_time": "2022-11-08T11:54:10.981Z"
   },
   {
    "duration": 21,
    "start_time": "2022-11-08T11:54:10.994Z"
   },
   {
    "duration": 10,
    "start_time": "2022-11-08T11:54:11.016Z"
   },
   {
    "duration": 8,
    "start_time": "2022-11-08T11:54:11.028Z"
   },
   {
    "duration": 14,
    "start_time": "2022-11-08T11:54:11.038Z"
   },
   {
    "duration": 12,
    "start_time": "2022-11-08T11:54:11.054Z"
   },
   {
    "duration": 8,
    "start_time": "2022-11-08T11:54:11.068Z"
   },
   {
    "duration": 28,
    "start_time": "2022-11-08T11:54:11.114Z"
   },
   {
    "duration": 82,
    "start_time": "2022-11-08T11:54:11.145Z"
   },
   {
    "duration": 12,
    "start_time": "2022-11-08T11:54:11.230Z"
   },
   {
    "duration": 130,
    "start_time": "2022-11-08T11:54:11.245Z"
   },
   {
    "duration": 10,
    "start_time": "2022-11-08T11:54:11.377Z"
   },
   {
    "duration": 24,
    "start_time": "2022-11-08T11:54:11.389Z"
   },
   {
    "duration": 12,
    "start_time": "2022-11-08T11:54:11.415Z"
   },
   {
    "duration": 14,
    "start_time": "2022-11-08T11:54:11.429Z"
   },
   {
    "duration": 25,
    "start_time": "2022-11-08T11:54:11.444Z"
   },
   {
    "duration": 43,
    "start_time": "2022-11-08T11:54:11.471Z"
   },
   {
    "duration": 17,
    "start_time": "2022-11-08T11:54:11.515Z"
   },
   {
    "duration": 16,
    "start_time": "2022-11-08T11:54:11.534Z"
   },
   {
    "duration": 5,
    "start_time": "2022-11-08T11:54:11.551Z"
   },
   {
    "duration": 216,
    "start_time": "2022-11-08T11:54:11.558Z"
   },
   {
    "duration": 10,
    "start_time": "2022-11-08T11:54:11.775Z"
   },
   {
    "duration": 9,
    "start_time": "2022-11-08T11:54:15.721Z"
   },
   {
    "duration": 7,
    "start_time": "2022-11-08T11:54:17.493Z"
   },
   {
    "duration": 9,
    "start_time": "2022-11-08T11:54:24.440Z"
   },
   {
    "duration": 11,
    "start_time": "2022-11-08T11:54:25.170Z"
   },
   {
    "duration": 90,
    "start_time": "2022-11-08T11:54:44.366Z"
   },
   {
    "duration": 12,
    "start_time": "2022-11-08T11:54:46.976Z"
   },
   {
    "duration": 4,
    "start_time": "2022-11-08T11:54:57.120Z"
   },
   {
    "duration": 162,
    "start_time": "2022-11-08T11:54:57.126Z"
   },
   {
    "duration": 25,
    "start_time": "2022-11-08T11:54:57.290Z"
   },
   {
    "duration": 10,
    "start_time": "2022-11-08T11:54:57.317Z"
   },
   {
    "duration": 14,
    "start_time": "2022-11-08T11:54:57.329Z"
   },
   {
    "duration": 16,
    "start_time": "2022-11-08T11:54:57.345Z"
   },
   {
    "duration": 4,
    "start_time": "2022-11-08T11:54:57.362Z"
   },
   {
    "duration": 84,
    "start_time": "2022-11-08T11:54:57.368Z"
   },
   {
    "duration": 68,
    "start_time": "2022-11-08T11:54:57.455Z"
   },
   {
    "duration": 51,
    "start_time": "2022-11-08T11:54:57.525Z"
   },
   {
    "duration": 7,
    "start_time": "2022-11-08T11:54:57.578Z"
   },
   {
    "duration": 27,
    "start_time": "2022-11-08T11:54:57.587Z"
   },
   {
    "duration": 17,
    "start_time": "2022-11-08T11:54:57.616Z"
   },
   {
    "duration": 9,
    "start_time": "2022-11-08T11:54:57.635Z"
   },
   {
    "duration": 5,
    "start_time": "2022-11-08T11:54:57.646Z"
   },
   {
    "duration": 9,
    "start_time": "2022-11-08T11:54:57.652Z"
   },
   {
    "duration": 9,
    "start_time": "2022-11-08T11:54:57.662Z"
   },
   {
    "duration": 40,
    "start_time": "2022-11-08T11:54:57.673Z"
   },
   {
    "duration": 718,
    "start_time": "2022-11-08T11:54:57.715Z"
   },
   {
    "duration": 12,
    "start_time": "2022-11-08T11:54:58.434Z"
   },
   {
    "duration": 9,
    "start_time": "2022-11-08T11:54:58.448Z"
   },
   {
    "duration": 10,
    "start_time": "2022-11-08T11:54:58.458Z"
   },
   {
    "duration": 7,
    "start_time": "2022-11-08T11:54:58.470Z"
   },
   {
    "duration": 38,
    "start_time": "2022-11-08T11:54:58.480Z"
   },
   {
    "duration": 11,
    "start_time": "2022-11-08T11:54:58.520Z"
   },
   {
    "duration": 8,
    "start_time": "2022-11-08T11:54:58.533Z"
   },
   {
    "duration": 30,
    "start_time": "2022-11-08T11:54:58.543Z"
   },
   {
    "duration": 81,
    "start_time": "2022-11-08T11:54:58.575Z"
   },
   {
    "duration": 11,
    "start_time": "2022-11-08T11:54:58.657Z"
   },
   {
    "duration": 136,
    "start_time": "2022-11-08T11:54:58.670Z"
   },
   {
    "duration": 13,
    "start_time": "2022-11-08T11:54:58.808Z"
   },
   {
    "duration": 8,
    "start_time": "2022-11-08T11:54:58.823Z"
   },
   {
    "duration": 15,
    "start_time": "2022-11-08T11:54:58.834Z"
   },
   {
    "duration": 18,
    "start_time": "2022-11-08T11:54:58.851Z"
   },
   {
    "duration": 44,
    "start_time": "2022-11-08T11:54:58.871Z"
   },
   {
    "duration": 48,
    "start_time": "2022-11-08T11:54:58.917Z"
   },
   {
    "duration": 19,
    "start_time": "2022-11-08T11:54:58.967Z"
   },
   {
    "duration": 41,
    "start_time": "2022-11-08T11:54:58.988Z"
   },
   {
    "duration": 7,
    "start_time": "2022-11-08T11:54:59.031Z"
   },
   {
    "duration": 108,
    "start_time": "2022-11-08T11:54:59.040Z"
   },
   {
    "duration": 12,
    "start_time": "2022-11-08T11:54:59.150Z"
   },
   {
    "duration": 4,
    "start_time": "2022-11-08T11:55:06.943Z"
   },
   {
    "duration": 175,
    "start_time": "2022-11-08T11:55:06.949Z"
   },
   {
    "duration": 23,
    "start_time": "2022-11-08T11:55:07.126Z"
   },
   {
    "duration": 12,
    "start_time": "2022-11-08T11:55:07.151Z"
   },
   {
    "duration": 12,
    "start_time": "2022-11-08T11:55:07.165Z"
   },
   {
    "duration": 45,
    "start_time": "2022-11-08T11:55:07.179Z"
   },
   {
    "duration": 5,
    "start_time": "2022-11-08T11:55:07.226Z"
   },
   {
    "duration": 52,
    "start_time": "2022-11-08T11:55:07.233Z"
   },
   {
    "duration": 79,
    "start_time": "2022-11-08T11:55:07.287Z"
   },
   {
    "duration": 67,
    "start_time": "2022-11-08T11:55:07.369Z"
   },
   {
    "duration": 7,
    "start_time": "2022-11-08T11:55:07.438Z"
   },
   {
    "duration": 9,
    "start_time": "2022-11-08T11:55:07.447Z"
   },
   {
    "duration": 19,
    "start_time": "2022-11-08T11:55:07.458Z"
   },
   {
    "duration": 9,
    "start_time": "2022-11-08T11:55:07.479Z"
   },
   {
    "duration": 25,
    "start_time": "2022-11-08T11:55:07.490Z"
   },
   {
    "duration": 9,
    "start_time": "2022-11-08T11:55:07.517Z"
   },
   {
    "duration": 7,
    "start_time": "2022-11-08T11:55:07.528Z"
   },
   {
    "duration": 6,
    "start_time": "2022-11-08T11:55:07.536Z"
   },
   {
    "duration": 701,
    "start_time": "2022-11-08T11:55:07.544Z"
   },
   {
    "duration": 12,
    "start_time": "2022-11-08T11:55:08.247Z"
   },
   {
    "duration": 10,
    "start_time": "2022-11-08T11:55:08.260Z"
   },
   {
    "duration": 8,
    "start_time": "2022-11-08T11:55:08.271Z"
   },
   {
    "duration": 10,
    "start_time": "2022-11-08T11:55:08.280Z"
   },
   {
    "duration": 14,
    "start_time": "2022-11-08T11:55:08.314Z"
   },
   {
    "duration": 12,
    "start_time": "2022-11-08T11:55:08.330Z"
   },
   {
    "duration": 136,
    "start_time": "2022-11-08T11:55:08.344Z"
   },
   {
    "duration": 39,
    "start_time": "2022-11-08T11:55:08.481Z"
   },
   {
    "duration": 58,
    "start_time": "2022-11-08T11:55:08.524Z"
   },
   {
    "duration": 30,
    "start_time": "2022-11-08T11:55:08.585Z"
   },
   {
    "duration": 122,
    "start_time": "2022-11-08T11:55:08.617Z"
   },
   {
    "duration": 9,
    "start_time": "2022-11-08T11:55:08.741Z"
   },
   {
    "duration": 7,
    "start_time": "2022-11-08T11:55:08.751Z"
   },
   {
    "duration": 10,
    "start_time": "2022-11-08T11:55:08.759Z"
   },
   {
    "duration": 17,
    "start_time": "2022-11-08T11:55:08.770Z"
   },
   {
    "duration": 11,
    "start_time": "2022-11-08T11:55:08.813Z"
   },
   {
    "duration": 49,
    "start_time": "2022-11-08T11:55:08.826Z"
   },
   {
    "duration": 37,
    "start_time": "2022-11-08T11:55:08.877Z"
   },
   {
    "duration": 25,
    "start_time": "2022-11-08T11:55:08.917Z"
   },
   {
    "duration": 6,
    "start_time": "2022-11-08T11:55:08.944Z"
   },
   {
    "duration": 119,
    "start_time": "2022-11-08T11:55:08.952Z"
   },
   {
    "duration": 11,
    "start_time": "2022-11-08T11:55:09.073Z"
   },
   {
    "duration": 9,
    "start_time": "2022-11-08T11:55:09.086Z"
   },
   {
    "duration": 6,
    "start_time": "2022-11-08T11:55:09.112Z"
   },
   {
    "duration": 14,
    "start_time": "2022-11-08T11:55:09.120Z"
   },
   {
    "duration": 14,
    "start_time": "2022-11-08T11:55:09.136Z"
   },
   {
    "duration": 10,
    "start_time": "2022-11-08T11:55:09.151Z"
   },
   {
    "duration": 12,
    "start_time": "2022-11-08T11:55:09.163Z"
   },
   {
    "duration": 39,
    "start_time": "2022-11-08T11:55:09.176Z"
   },
   {
    "duration": 9,
    "start_time": "2022-11-08T11:55:09.217Z"
   },
   {
    "duration": 11,
    "start_time": "2022-11-08T11:55:09.228Z"
   },
   {
    "duration": 10,
    "start_time": "2022-11-08T11:55:59.734Z"
   },
   {
    "duration": 10,
    "start_time": "2022-11-08T11:56:13.862Z"
   },
   {
    "duration": 12,
    "start_time": "2022-11-08T11:58:08.857Z"
   },
   {
    "duration": 11,
    "start_time": "2022-11-08T11:58:10.717Z"
   },
   {
    "duration": 10,
    "start_time": "2022-11-08T11:58:14.586Z"
   },
   {
    "duration": 12,
    "start_time": "2022-11-08T11:58:15.865Z"
   },
   {
    "duration": 10,
    "start_time": "2022-11-08T11:58:17.760Z"
   },
   {
    "duration": 6,
    "start_time": "2022-11-08T12:00:05.142Z"
   },
   {
    "duration": 10,
    "start_time": "2022-11-08T12:00:05.571Z"
   },
   {
    "duration": 10,
    "start_time": "2022-11-08T12:00:07.455Z"
   },
   {
    "duration": 13,
    "start_time": "2022-11-08T12:00:08.851Z"
   },
   {
    "duration": 9,
    "start_time": "2022-11-08T12:00:09.913Z"
   },
   {
    "duration": 11,
    "start_time": "2022-11-08T12:00:25.446Z"
   },
   {
    "duration": 10,
    "start_time": "2022-11-08T12:00:26.521Z"
   },
   {
    "duration": 15,
    "start_time": "2022-11-08T12:00:31.501Z"
   },
   {
    "duration": 11,
    "start_time": "2022-11-08T12:00:33.082Z"
   },
   {
    "duration": 13,
    "start_time": "2022-11-08T12:01:47.500Z"
   },
   {
    "duration": 13,
    "start_time": "2022-11-08T12:01:50.758Z"
   },
   {
    "duration": 10,
    "start_time": "2022-11-08T12:03:19.875Z"
   },
   {
    "duration": 14,
    "start_time": "2022-11-08T12:04:29.536Z"
   },
   {
    "duration": 10,
    "start_time": "2022-11-08T12:04:37.498Z"
   },
   {
    "duration": 9,
    "start_time": "2022-11-08T12:05:12.086Z"
   },
   {
    "duration": 75,
    "start_time": "2022-11-08T12:14:05.912Z"
   },
   {
    "duration": 9,
    "start_time": "2022-11-08T12:14:12.331Z"
   },
   {
    "duration": 9,
    "start_time": "2022-11-08T12:14:19.249Z"
   },
   {
    "duration": 12,
    "start_time": "2022-11-08T12:14:28.870Z"
   },
   {
    "duration": 80,
    "start_time": "2022-11-08T12:16:31.976Z"
   },
   {
    "duration": 13,
    "start_time": "2022-11-08T12:16:34.169Z"
   },
   {
    "duration": 80,
    "start_time": "2022-11-08T12:16:40.916Z"
   },
   {
    "duration": 14,
    "start_time": "2022-11-08T12:16:42.317Z"
   },
   {
    "duration": 4,
    "start_time": "2022-11-08T12:16:46.205Z"
   },
   {
    "duration": 180,
    "start_time": "2022-11-08T12:16:46.211Z"
   },
   {
    "duration": 37,
    "start_time": "2022-11-08T12:16:46.393Z"
   },
   {
    "duration": 17,
    "start_time": "2022-11-08T12:16:46.432Z"
   },
   {
    "duration": 15,
    "start_time": "2022-11-08T12:16:46.451Z"
   },
   {
    "duration": 46,
    "start_time": "2022-11-08T12:16:46.467Z"
   },
   {
    "duration": 4,
    "start_time": "2022-11-08T12:16:46.515Z"
   },
   {
    "duration": 65,
    "start_time": "2022-11-08T12:16:46.520Z"
   },
   {
    "duration": 73,
    "start_time": "2022-11-08T12:16:46.587Z"
   },
   {
    "duration": 70,
    "start_time": "2022-11-08T12:16:46.663Z"
   },
   {
    "duration": 7,
    "start_time": "2022-11-08T12:16:46.735Z"
   },
   {
    "duration": 10,
    "start_time": "2022-11-08T12:16:46.744Z"
   },
   {
    "duration": 23,
    "start_time": "2022-11-08T12:16:46.755Z"
   },
   {
    "duration": 9,
    "start_time": "2022-11-08T12:16:46.780Z"
   },
   {
    "duration": 5,
    "start_time": "2022-11-08T12:16:46.812Z"
   },
   {
    "duration": 22,
    "start_time": "2022-11-08T12:16:46.818Z"
   },
   {
    "duration": 7,
    "start_time": "2022-11-08T12:16:46.842Z"
   },
   {
    "duration": 10,
    "start_time": "2022-11-08T12:16:46.851Z"
   },
   {
    "duration": 733,
    "start_time": "2022-11-08T12:16:46.863Z"
   },
   {
    "duration": 17,
    "start_time": "2022-11-08T12:16:47.598Z"
   },
   {
    "duration": 10,
    "start_time": "2022-11-08T12:16:47.618Z"
   },
   {
    "duration": 24,
    "start_time": "2022-11-08T12:16:47.631Z"
   },
   {
    "duration": 28,
    "start_time": "2022-11-08T12:16:47.657Z"
   },
   {
    "duration": 36,
    "start_time": "2022-11-08T12:16:47.688Z"
   },
   {
    "duration": 32,
    "start_time": "2022-11-08T12:16:47.726Z"
   },
   {
    "duration": 14,
    "start_time": "2022-11-08T12:16:47.760Z"
   },
   {
    "duration": 37,
    "start_time": "2022-11-08T12:16:47.776Z"
   },
   {
    "duration": 71,
    "start_time": "2022-11-08T12:16:47.817Z"
   },
   {
    "duration": 24,
    "start_time": "2022-11-08T12:16:47.890Z"
   },
   {
    "duration": 131,
    "start_time": "2022-11-08T12:16:47.916Z"
   },
   {
    "duration": 10,
    "start_time": "2022-11-08T12:16:48.049Z"
   },
   {
    "duration": 20,
    "start_time": "2022-11-08T12:16:48.061Z"
   },
   {
    "duration": 13,
    "start_time": "2022-11-08T12:16:48.083Z"
   },
   {
    "duration": 20,
    "start_time": "2022-11-08T12:16:48.098Z"
   },
   {
    "duration": 29,
    "start_time": "2022-11-08T12:16:48.119Z"
   },
   {
    "duration": 47,
    "start_time": "2022-11-08T12:16:48.150Z"
   },
   {
    "duration": 18,
    "start_time": "2022-11-08T12:16:48.199Z"
   },
   {
    "duration": 18,
    "start_time": "2022-11-08T12:16:48.219Z"
   },
   {
    "duration": 8,
    "start_time": "2022-11-08T12:16:48.239Z"
   },
   {
    "duration": 122,
    "start_time": "2022-11-08T12:16:48.249Z"
   },
   {
    "duration": 11,
    "start_time": "2022-11-08T12:16:48.373Z"
   },
   {
    "duration": 9,
    "start_time": "2022-11-08T12:16:50.583Z"
   },
   {
    "duration": 8,
    "start_time": "2022-11-08T12:16:51.367Z"
   },
   {
    "duration": 79,
    "start_time": "2022-11-08T12:16:56.207Z"
   },
   {
    "duration": 19,
    "start_time": "2022-11-08T12:16:57.306Z"
   },
   {
    "duration": 4,
    "start_time": "2022-11-08T12:17:05.654Z"
   },
   {
    "duration": 174,
    "start_time": "2022-11-08T12:17:05.660Z"
   },
   {
    "duration": 21,
    "start_time": "2022-11-08T12:17:05.836Z"
   },
   {
    "duration": 29,
    "start_time": "2022-11-08T12:17:05.859Z"
   },
   {
    "duration": 25,
    "start_time": "2022-11-08T12:17:05.890Z"
   },
   {
    "duration": 54,
    "start_time": "2022-11-08T12:17:05.916Z"
   },
   {
    "duration": 27,
    "start_time": "2022-11-08T12:17:05.972Z"
   },
   {
    "duration": 66,
    "start_time": "2022-11-08T12:17:06.001Z"
   },
   {
    "duration": 65,
    "start_time": "2022-11-08T12:17:06.068Z"
   },
   {
    "duration": 53,
    "start_time": "2022-11-08T12:17:06.136Z"
   },
   {
    "duration": 27,
    "start_time": "2022-11-08T12:17:06.191Z"
   },
   {
    "duration": 16,
    "start_time": "2022-11-08T12:17:06.221Z"
   },
   {
    "duration": 35,
    "start_time": "2022-11-08T12:17:06.239Z"
   },
   {
    "duration": 13,
    "start_time": "2022-11-08T12:17:06.276Z"
   },
   {
    "duration": 20,
    "start_time": "2022-11-08T12:17:06.291Z"
   },
   {
    "duration": 29,
    "start_time": "2022-11-08T12:17:06.313Z"
   },
   {
    "duration": 20,
    "start_time": "2022-11-08T12:17:06.344Z"
   },
   {
    "duration": 33,
    "start_time": "2022-11-08T12:17:06.366Z"
   },
   {
    "duration": 834,
    "start_time": "2022-11-08T12:17:06.401Z"
   },
   {
    "duration": 13,
    "start_time": "2022-11-08T12:17:07.237Z"
   },
   {
    "duration": 10,
    "start_time": "2022-11-08T12:17:07.252Z"
   },
   {
    "duration": 8,
    "start_time": "2022-11-08T12:17:07.264Z"
   },
   {
    "duration": 9,
    "start_time": "2022-11-08T12:17:07.274Z"
   },
   {
    "duration": 15,
    "start_time": "2022-11-08T12:17:07.314Z"
   },
   {
    "duration": 13,
    "start_time": "2022-11-08T12:17:07.331Z"
   },
   {
    "duration": 10,
    "start_time": "2022-11-08T12:17:07.346Z"
   },
   {
    "duration": 60,
    "start_time": "2022-11-08T12:17:07.358Z"
   },
   {
    "duration": 59,
    "start_time": "2022-11-08T12:17:07.423Z"
   },
   {
    "duration": 32,
    "start_time": "2022-11-08T12:17:07.483Z"
   },
   {
    "duration": 132,
    "start_time": "2022-11-08T12:17:07.516Z"
   },
   {
    "duration": 10,
    "start_time": "2022-11-08T12:17:07.649Z"
   },
   {
    "duration": 7,
    "start_time": "2022-11-08T12:17:07.660Z"
   },
   {
    "duration": 13,
    "start_time": "2022-11-08T12:17:07.669Z"
   },
   {
    "duration": 36,
    "start_time": "2022-11-08T12:17:07.684Z"
   },
   {
    "duration": 11,
    "start_time": "2022-11-08T12:17:07.721Z"
   },
   {
    "duration": 44,
    "start_time": "2022-11-08T12:17:07.734Z"
   },
   {
    "duration": 35,
    "start_time": "2022-11-08T12:17:07.779Z"
   },
   {
    "duration": 17,
    "start_time": "2022-11-08T12:17:07.816Z"
   },
   {
    "duration": 7,
    "start_time": "2022-11-08T12:17:07.835Z"
   },
   {
    "duration": 100,
    "start_time": "2022-11-08T12:17:07.844Z"
   },
   {
    "duration": 12,
    "start_time": "2022-11-08T12:17:07.945Z"
   },
   {
    "duration": 8,
    "start_time": "2022-11-08T12:17:12.359Z"
   },
   {
    "duration": 9,
    "start_time": "2022-11-08T12:17:12.871Z"
   },
   {
    "duration": 106,
    "start_time": "2022-11-08T12:21:25.101Z"
   },
   {
    "duration": 1316,
    "start_time": "2022-11-08T12:21:35.872Z"
   },
   {
    "duration": 1381,
    "start_time": "2022-11-08T12:22:28.337Z"
   },
   {
    "duration": 1122,
    "start_time": "2022-11-08T12:22:56.212Z"
   },
   {
    "duration": 1121,
    "start_time": "2022-11-08T12:23:03.203Z"
   },
   {
    "duration": 1185,
    "start_time": "2022-11-08T12:23:22.570Z"
   },
   {
    "duration": 1313,
    "start_time": "2022-11-08T12:25:12.671Z"
   },
   {
    "duration": 10,
    "start_time": "2022-11-08T12:26:36.709Z"
   },
   {
    "duration": 12,
    "start_time": "2022-11-08T12:26:40.604Z"
   },
   {
    "duration": 3,
    "start_time": "2022-11-08T12:54:16.489Z"
   },
   {
    "duration": 155,
    "start_time": "2022-11-08T12:54:17.159Z"
   },
   {
    "duration": 21,
    "start_time": "2022-11-08T12:54:17.562Z"
   },
   {
    "duration": 13,
    "start_time": "2022-11-08T12:54:17.794Z"
   },
   {
    "duration": 12,
    "start_time": "2022-11-08T12:55:05.015Z"
   },
   {
    "duration": 18,
    "start_time": "2022-11-08T12:55:06.419Z"
   },
   {
    "duration": 4,
    "start_time": "2022-11-08T12:55:06.853Z"
   },
   {
    "duration": 56,
    "start_time": "2022-11-08T12:55:07.310Z"
   },
   {
    "duration": 61,
    "start_time": "2022-11-08T12:55:07.930Z"
   },
   {
    "duration": 58,
    "start_time": "2022-11-08T12:55:08.365Z"
   },
   {
    "duration": 8,
    "start_time": "2022-11-08T12:55:09.553Z"
   },
   {
    "duration": 9,
    "start_time": "2022-11-08T12:55:10.360Z"
   },
   {
    "duration": 16,
    "start_time": "2022-11-08T12:55:11.401Z"
   },
   {
    "duration": 10,
    "start_time": "2022-11-08T12:55:11.745Z"
   },
   {
    "duration": 4,
    "start_time": "2022-11-08T12:55:13.345Z"
   },
   {
    "duration": 6,
    "start_time": "2022-11-08T12:55:13.738Z"
   },
   {
    "duration": 8,
    "start_time": "2022-11-08T12:55:14.520Z"
   },
   {
    "duration": 7,
    "start_time": "2022-11-08T12:55:15.833Z"
   },
   {
    "duration": 719,
    "start_time": "2022-11-08T12:55:16.931Z"
   },
   {
    "duration": 15,
    "start_time": "2022-11-08T12:55:19.152Z"
   },
   {
    "duration": 10,
    "start_time": "2022-11-08T12:55:19.728Z"
   },
   {
    "duration": 8,
    "start_time": "2022-11-08T12:55:20.723Z"
   },
   {
    "duration": 8,
    "start_time": "2022-11-08T12:55:21.616Z"
   },
   {
    "duration": 13,
    "start_time": "2022-11-08T12:55:22.319Z"
   },
   {
    "duration": 13,
    "start_time": "2022-11-08T12:55:23.433Z"
   },
   {
    "duration": 11,
    "start_time": "2022-11-08T12:55:26.386Z"
   },
   {
    "duration": 39,
    "start_time": "2022-11-08T12:55:29.064Z"
   },
   {
    "duration": 85,
    "start_time": "2022-11-08T12:55:31.205Z"
   },
   {
    "duration": 15,
    "start_time": "2022-11-08T12:55:32.393Z"
   },
   {
    "duration": 145,
    "start_time": "2022-11-08T12:55:32.995Z"
   },
   {
    "duration": 10,
    "start_time": "2022-11-08T12:55:35.638Z"
   },
   {
    "duration": 4,
    "start_time": "2022-11-08T12:55:37.061Z"
   },
   {
    "duration": 8,
    "start_time": "2022-11-08T12:55:38.080Z"
   },
   {
    "duration": 12,
    "start_time": "2022-11-08T12:55:38.605Z"
   },
   {
    "duration": 9,
    "start_time": "2022-11-08T12:55:48.866Z"
   },
   {
    "duration": 39,
    "start_time": "2022-11-08T12:55:50.776Z"
   },
   {
    "duration": 17,
    "start_time": "2022-11-08T12:55:52.916Z"
   },
   {
    "duration": 19,
    "start_time": "2022-11-08T12:55:53.578Z"
   },
   {
    "duration": 6,
    "start_time": "2022-11-08T12:55:54.300Z"
   },
   {
    "duration": 8,
    "start_time": "2022-11-08T13:04:12.495Z"
   },
   {
    "duration": 23,
    "start_time": "2022-11-08T13:04:13.276Z"
   },
   {
    "duration": 4,
    "start_time": "2022-11-08T13:05:18.958Z"
   },
   {
    "duration": 205,
    "start_time": "2022-11-08T13:05:18.964Z"
   },
   {
    "duration": 23,
    "start_time": "2022-11-08T13:05:19.173Z"
   },
   {
    "duration": 28,
    "start_time": "2022-11-08T13:05:19.199Z"
   },
   {
    "duration": 19,
    "start_time": "2022-11-08T13:05:19.229Z"
   },
   {
    "duration": 17,
    "start_time": "2022-11-08T13:05:19.250Z"
   },
   {
    "duration": 12,
    "start_time": "2022-11-08T13:05:19.269Z"
   },
   {
    "duration": 71,
    "start_time": "2022-11-08T13:05:19.282Z"
   },
   {
    "duration": 80,
    "start_time": "2022-11-08T13:05:19.355Z"
   },
   {
    "duration": 74,
    "start_time": "2022-11-08T13:05:19.439Z"
   },
   {
    "duration": 10,
    "start_time": "2022-11-08T13:05:19.516Z"
   },
   {
    "duration": 15,
    "start_time": "2022-11-08T13:05:19.528Z"
   },
   {
    "duration": 37,
    "start_time": "2022-11-08T13:05:19.545Z"
   },
   {
    "duration": 13,
    "start_time": "2022-11-08T13:05:19.585Z"
   },
   {
    "duration": 4,
    "start_time": "2022-11-08T13:05:19.614Z"
   },
   {
    "duration": 17,
    "start_time": "2022-11-08T13:05:19.620Z"
   },
   {
    "duration": 9,
    "start_time": "2022-11-08T13:05:19.639Z"
   },
   {
    "duration": 8,
    "start_time": "2022-11-08T13:05:19.650Z"
   },
   {
    "duration": 905,
    "start_time": "2022-11-08T13:05:19.660Z"
   },
   {
    "duration": 13,
    "start_time": "2022-11-08T13:05:20.568Z"
   },
   {
    "duration": 30,
    "start_time": "2022-11-08T13:05:20.583Z"
   },
   {
    "duration": 7,
    "start_time": "2022-11-08T13:05:20.615Z"
   },
   {
    "duration": 16,
    "start_time": "2022-11-08T13:05:20.625Z"
   },
   {
    "duration": 16,
    "start_time": "2022-11-08T13:05:20.643Z"
   },
   {
    "duration": 16,
    "start_time": "2022-11-08T13:05:20.661Z"
   },
   {
    "duration": 39,
    "start_time": "2022-11-08T13:05:20.679Z"
   },
   {
    "duration": 28,
    "start_time": "2022-11-08T13:05:20.719Z"
   },
   {
    "duration": 78,
    "start_time": "2022-11-08T13:05:20.751Z"
   },
   {
    "duration": 12,
    "start_time": "2022-11-08T13:05:20.831Z"
   },
   {
    "duration": 132,
    "start_time": "2022-11-08T13:05:20.845Z"
   },
   {
    "duration": 10,
    "start_time": "2022-11-08T13:05:20.979Z"
   },
   {
    "duration": 22,
    "start_time": "2022-11-08T13:05:20.991Z"
   },
   {
    "duration": 12,
    "start_time": "2022-11-08T13:05:21.016Z"
   },
   {
    "duration": 18,
    "start_time": "2022-11-08T13:05:21.030Z"
   },
   {
    "duration": 24,
    "start_time": "2022-11-08T13:05:21.050Z"
   },
   {
    "duration": 46,
    "start_time": "2022-11-08T13:05:21.077Z"
   },
   {
    "duration": 17,
    "start_time": "2022-11-08T13:05:21.124Z"
   },
   {
    "duration": 19,
    "start_time": "2022-11-08T13:05:21.143Z"
   },
   {
    "duration": 6,
    "start_time": "2022-11-08T13:05:21.164Z"
   },
   {
    "duration": 116,
    "start_time": "2022-11-08T13:05:21.172Z"
   },
   {
    "duration": 11,
    "start_time": "2022-11-08T13:05:21.289Z"
   },
   {
    "duration": 11,
    "start_time": "2022-11-08T13:05:21.314Z"
   },
   {
    "duration": 14,
    "start_time": "2022-11-08T13:05:21.326Z"
   },
   {
    "duration": 23,
    "start_time": "2022-11-08T13:05:21.342Z"
   },
   {
    "duration": 16,
    "start_time": "2022-11-08T13:05:21.367Z"
   },
   {
    "duration": 34,
    "start_time": "2022-11-08T13:05:21.385Z"
   },
   {
    "duration": 13,
    "start_time": "2022-11-08T13:05:21.421Z"
   },
   {
    "duration": 10,
    "start_time": "2022-11-08T13:05:21.435Z"
   },
   {
    "duration": 14,
    "start_time": "2022-11-08T13:05:21.446Z"
   },
   {
    "duration": 14,
    "start_time": "2022-11-08T13:05:21.462Z"
   },
   {
    "duration": 40,
    "start_time": "2022-11-08T13:05:21.478Z"
   },
   {
    "duration": 7,
    "start_time": "2022-11-08T13:05:32.492Z"
   },
   {
    "duration": 14,
    "start_time": "2022-11-08T13:05:32.947Z"
   },
   {
    "duration": 94,
    "start_time": "2022-11-08T13:07:37.438Z"
   },
   {
    "duration": 77,
    "start_time": "2022-11-08T13:07:45.577Z"
   },
   {
    "duration": 7,
    "start_time": "2022-11-08T13:07:55.996Z"
   },
   {
    "duration": 6,
    "start_time": "2022-11-08T13:08:25.235Z"
   },
   {
    "duration": 10,
    "start_time": "2022-11-08T13:08:26.562Z"
   },
   {
    "duration": 6,
    "start_time": "2022-11-08T13:10:05.395Z"
   },
   {
    "duration": 13,
    "start_time": "2022-11-08T13:10:06.162Z"
   },
   {
    "duration": 6,
    "start_time": "2022-11-08T13:10:59.811Z"
   },
   {
    "duration": 10,
    "start_time": "2022-11-08T13:11:00.368Z"
   },
   {
    "duration": 7,
    "start_time": "2022-11-08T13:11:07.499Z"
   },
   {
    "duration": 9,
    "start_time": "2022-11-08T13:11:07.921Z"
   },
   {
    "duration": 9,
    "start_time": "2022-11-08T13:11:18.143Z"
   },
   {
    "duration": 10,
    "start_time": "2022-11-08T13:11:19.470Z"
   },
   {
    "duration": 12,
    "start_time": "2022-11-08T13:11:20.398Z"
   },
   {
    "duration": 12,
    "start_time": "2022-11-08T13:11:24.405Z"
   },
   {
    "duration": 11,
    "start_time": "2022-11-08T13:11:25.599Z"
   },
   {
    "duration": 9,
    "start_time": "2022-11-08T13:11:58.837Z"
   },
   {
    "duration": 10,
    "start_time": "2022-11-08T13:12:04.895Z"
   },
   {
    "duration": 3,
    "start_time": "2022-11-08T13:12:19.166Z"
   },
   {
    "duration": 164,
    "start_time": "2022-11-08T13:12:19.871Z"
   },
   {
    "duration": 20,
    "start_time": "2022-11-08T13:12:20.587Z"
   },
   {
    "duration": 12,
    "start_time": "2022-11-08T13:12:20.932Z"
   },
   {
    "duration": 11,
    "start_time": "2022-11-08T13:12:22.335Z"
   },
   {
    "duration": 19,
    "start_time": "2022-11-08T13:12:23.617Z"
   },
   {
    "duration": 4,
    "start_time": "2022-11-08T13:12:24.030Z"
   },
   {
    "duration": 80,
    "start_time": "2022-11-08T13:12:24.431Z"
   },
   {
    "duration": 67,
    "start_time": "2022-11-08T13:12:24.889Z"
   },
   {
    "duration": 52,
    "start_time": "2022-11-08T13:12:25.251Z"
   },
   {
    "duration": 8,
    "start_time": "2022-11-08T13:12:26.070Z"
   },
   {
    "duration": 9,
    "start_time": "2022-11-08T13:12:26.327Z"
   },
   {
    "duration": 25,
    "start_time": "2022-11-08T13:12:27.139Z"
   },
   {
    "duration": 13,
    "start_time": "2022-11-08T13:12:27.481Z"
   },
   {
    "duration": 4,
    "start_time": "2022-11-08T13:12:29.305Z"
   },
   {
    "duration": 6,
    "start_time": "2022-11-08T13:12:30.202Z"
   },
   {
    "duration": 6,
    "start_time": "2022-11-08T13:12:30.949Z"
   },
   {
    "duration": 6,
    "start_time": "2022-11-08T13:12:31.773Z"
   },
   {
    "duration": 714,
    "start_time": "2022-11-08T13:12:32.729Z"
   },
   {
    "duration": 13,
    "start_time": "2022-11-08T13:12:34.586Z"
   },
   {
    "duration": 12,
    "start_time": "2022-11-08T13:12:34.961Z"
   },
   {
    "duration": 5,
    "start_time": "2022-11-08T13:12:35.774Z"
   },
   {
    "duration": 8,
    "start_time": "2022-11-08T13:12:37.001Z"
   },
   {
    "duration": 20,
    "start_time": "2022-11-08T13:12:37.660Z"
   },
   {
    "duration": 18,
    "start_time": "2022-11-08T13:12:38.980Z"
   },
   {
    "duration": 11,
    "start_time": "2022-11-08T13:12:40.452Z"
   },
   {
    "duration": 29,
    "start_time": "2022-11-08T13:12:42.323Z"
   },
   {
    "duration": 60,
    "start_time": "2022-11-08T13:12:44.041Z"
   },
   {
    "duration": 10,
    "start_time": "2022-11-08T13:12:44.973Z"
   },
   {
    "duration": 134,
    "start_time": "2022-11-08T13:12:45.204Z"
   },
   {
    "duration": 9,
    "start_time": "2022-11-08T13:12:46.184Z"
   },
   {
    "duration": 5,
    "start_time": "2022-11-08T13:12:47.004Z"
   },
   {
    "duration": 8,
    "start_time": "2022-11-08T13:12:47.338Z"
   },
   {
    "duration": 13,
    "start_time": "2022-11-08T13:12:47.567Z"
   },
   {
    "duration": 9,
    "start_time": "2022-11-08T13:12:49.578Z"
   },
   {
    "duration": 41,
    "start_time": "2022-11-08T13:12:50.889Z"
   },
   {
    "duration": 21,
    "start_time": "2022-11-08T13:12:51.785Z"
   },
   {
    "duration": 22,
    "start_time": "2022-11-08T13:12:51.984Z"
   },
   {
    "duration": 8,
    "start_time": "2022-11-08T13:12:52.931Z"
   },
   {
    "duration": 77,
    "start_time": "2022-11-08T13:13:10.301Z"
   },
   {
    "duration": 12,
    "start_time": "2022-11-08T13:13:11.550Z"
   },
   {
    "duration": 7,
    "start_time": "2022-11-08T13:13:12.083Z"
   },
   {
    "duration": 6,
    "start_time": "2022-11-08T13:13:13.485Z"
   },
   {
    "duration": 7,
    "start_time": "2022-11-08T13:14:34.609Z"
   },
   {
    "duration": 6,
    "start_time": "2022-11-08T13:14:42.882Z"
   },
   {
    "duration": 9,
    "start_time": "2022-11-08T13:14:43.591Z"
   },
   {
    "duration": 136,
    "start_time": "2022-11-08T13:14:51.344Z"
   },
   {
    "duration": 9,
    "start_time": "2022-11-08T13:14:51.732Z"
   },
   {
    "duration": 9,
    "start_time": "2022-11-08T13:14:52.569Z"
   },
   {
    "duration": 12,
    "start_time": "2022-11-08T13:14:56.005Z"
   },
   {
    "duration": 11,
    "start_time": "2022-11-08T13:14:56.810Z"
   },
   {
    "duration": 10,
    "start_time": "2022-11-08T13:15:05.474Z"
   },
   {
    "duration": 12,
    "start_time": "2022-11-08T13:15:06.456Z"
   },
   {
    "duration": 4,
    "start_time": "2022-11-08T13:15:29.670Z"
   },
   {
    "duration": 165,
    "start_time": "2022-11-08T13:15:29.676Z"
   },
   {
    "duration": 22,
    "start_time": "2022-11-08T13:15:29.844Z"
   },
   {
    "duration": 11,
    "start_time": "2022-11-08T13:15:29.868Z"
   },
   {
    "duration": 38,
    "start_time": "2022-11-08T13:15:29.881Z"
   },
   {
    "duration": 18,
    "start_time": "2022-11-08T13:15:29.921Z"
   },
   {
    "duration": 5,
    "start_time": "2022-11-08T13:15:29.941Z"
   },
   {
    "duration": 80,
    "start_time": "2022-11-08T13:15:29.949Z"
   },
   {
    "duration": 61,
    "start_time": "2022-11-08T13:15:30.031Z"
   },
   {
    "duration": 67,
    "start_time": "2022-11-08T13:15:30.094Z"
   },
   {
    "duration": 8,
    "start_time": "2022-11-08T13:15:30.163Z"
   },
   {
    "duration": 38,
    "start_time": "2022-11-08T13:15:30.173Z"
   },
   {
    "duration": 34,
    "start_time": "2022-11-08T13:15:30.213Z"
   },
   {
    "duration": 14,
    "start_time": "2022-11-08T13:15:30.249Z"
   },
   {
    "duration": 21,
    "start_time": "2022-11-08T13:15:30.266Z"
   },
   {
    "duration": 26,
    "start_time": "2022-11-08T13:15:30.289Z"
   },
   {
    "duration": 36,
    "start_time": "2022-11-08T13:15:30.318Z"
   },
   {
    "duration": 29,
    "start_time": "2022-11-08T13:15:30.357Z"
   },
   {
    "duration": 761,
    "start_time": "2022-11-08T13:15:30.389Z"
   },
   {
    "duration": 11,
    "start_time": "2022-11-08T13:15:31.152Z"
   },
   {
    "duration": 12,
    "start_time": "2022-11-08T13:15:31.165Z"
   },
   {
    "duration": 18,
    "start_time": "2022-11-08T13:15:31.179Z"
   },
   {
    "duration": 22,
    "start_time": "2022-11-08T13:15:31.198Z"
   },
   {
    "duration": 37,
    "start_time": "2022-11-08T13:15:31.221Z"
   },
   {
    "duration": 13,
    "start_time": "2022-11-08T13:15:31.260Z"
   },
   {
    "duration": 17,
    "start_time": "2022-11-08T13:15:31.275Z"
   },
   {
    "duration": 34,
    "start_time": "2022-11-08T13:15:31.294Z"
   },
   {
    "duration": 64,
    "start_time": "2022-11-08T13:15:31.332Z"
   },
   {
    "duration": 20,
    "start_time": "2022-11-08T13:15:31.398Z"
   },
   {
    "duration": 129,
    "start_time": "2022-11-08T13:15:31.419Z"
   },
   {
    "duration": 11,
    "start_time": "2022-11-08T13:15:31.549Z"
   },
   {
    "duration": 12,
    "start_time": "2022-11-08T13:15:31.561Z"
   },
   {
    "duration": 13,
    "start_time": "2022-11-08T13:15:31.575Z"
   },
   {
    "duration": 25,
    "start_time": "2022-11-08T13:15:31.590Z"
   },
   {
    "duration": 37,
    "start_time": "2022-11-08T13:15:31.617Z"
   },
   {
    "duration": 58,
    "start_time": "2022-11-08T13:15:31.656Z"
   },
   {
    "duration": 16,
    "start_time": "2022-11-08T13:15:31.716Z"
   },
   {
    "duration": 15,
    "start_time": "2022-11-08T13:15:31.734Z"
   },
   {
    "duration": 5,
    "start_time": "2022-11-08T13:15:31.751Z"
   },
   {
    "duration": 107,
    "start_time": "2022-11-08T13:15:31.758Z"
   },
   {
    "duration": 11,
    "start_time": "2022-11-08T13:15:31.866Z"
   },
   {
    "duration": 19,
    "start_time": "2022-11-08T13:15:31.879Z"
   },
   {
    "duration": 15,
    "start_time": "2022-11-08T13:15:31.900Z"
   },
   {
    "duration": 28,
    "start_time": "2022-11-08T13:15:31.917Z"
   },
   {
    "duration": 17,
    "start_time": "2022-11-08T13:15:31.947Z"
   },
   {
    "duration": 11,
    "start_time": "2022-11-08T13:15:31.967Z"
   },
   {
    "duration": 34,
    "start_time": "2022-11-08T13:15:31.980Z"
   },
   {
    "duration": 9,
    "start_time": "2022-11-08T13:15:32.016Z"
   },
   {
    "duration": 13,
    "start_time": "2022-11-08T13:15:32.027Z"
   },
   {
    "duration": 11,
    "start_time": "2022-11-08T13:15:32.041Z"
   },
   {
    "duration": 18,
    "start_time": "2022-11-08T13:15:32.054Z"
   },
   {
    "duration": 4,
    "start_time": "2022-11-08T13:15:50.885Z"
   },
   {
    "duration": 172,
    "start_time": "2022-11-08T13:15:50.891Z"
   },
   {
    "duration": 21,
    "start_time": "2022-11-08T13:15:51.065Z"
   },
   {
    "duration": 27,
    "start_time": "2022-11-08T13:15:51.088Z"
   },
   {
    "duration": 14,
    "start_time": "2022-11-08T13:15:51.117Z"
   },
   {
    "duration": 16,
    "start_time": "2022-11-08T13:15:51.133Z"
   },
   {
    "duration": 4,
    "start_time": "2022-11-08T13:15:51.150Z"
   },
   {
    "duration": 82,
    "start_time": "2022-11-08T13:15:51.156Z"
   },
   {
    "duration": 58,
    "start_time": "2022-11-08T13:15:51.240Z"
   },
   {
    "duration": 61,
    "start_time": "2022-11-08T13:15:51.301Z"
   },
   {
    "duration": 8,
    "start_time": "2022-11-08T13:15:51.364Z"
   },
   {
    "duration": 9,
    "start_time": "2022-11-08T13:15:51.374Z"
   },
   {
    "duration": 16,
    "start_time": "2022-11-08T13:15:51.413Z"
   },
   {
    "duration": 10,
    "start_time": "2022-11-08T13:15:51.431Z"
   },
   {
    "duration": 6,
    "start_time": "2022-11-08T13:15:51.443Z"
   },
   {
    "duration": 7,
    "start_time": "2022-11-08T13:15:51.450Z"
   },
   {
    "duration": 9,
    "start_time": "2022-11-08T13:15:51.459Z"
   },
   {
    "duration": 46,
    "start_time": "2022-11-08T13:15:51.470Z"
   },
   {
    "duration": 791,
    "start_time": "2022-11-08T13:15:51.517Z"
   },
   {
    "duration": 13,
    "start_time": "2022-11-08T13:15:52.312Z"
   },
   {
    "duration": 9,
    "start_time": "2022-11-08T13:15:52.327Z"
   },
   {
    "duration": 7,
    "start_time": "2022-11-08T13:15:52.338Z"
   },
   {
    "duration": 7,
    "start_time": "2022-11-08T13:15:52.347Z"
   },
   {
    "duration": 15,
    "start_time": "2022-11-08T13:15:52.356Z"
   },
   {
    "duration": 57,
    "start_time": "2022-11-08T13:15:52.373Z"
   },
   {
    "duration": 11,
    "start_time": "2022-11-08T13:15:52.433Z"
   },
   {
    "duration": 43,
    "start_time": "2022-11-08T13:15:52.446Z"
   },
   {
    "duration": 60,
    "start_time": "2022-11-08T13:15:52.513Z"
   },
   {
    "duration": 11,
    "start_time": "2022-11-08T13:15:52.575Z"
   },
   {
    "duration": 136,
    "start_time": "2022-11-08T13:15:52.587Z"
   },
   {
    "duration": 10,
    "start_time": "2022-11-08T13:15:52.725Z"
   },
   {
    "duration": 6,
    "start_time": "2022-11-08T13:15:52.738Z"
   },
   {
    "duration": 13,
    "start_time": "2022-11-08T13:15:52.745Z"
   },
   {
    "duration": 11,
    "start_time": "2022-11-08T13:15:52.760Z"
   },
   {
    "duration": 10,
    "start_time": "2022-11-08T13:15:52.773Z"
   },
   {
    "duration": 39,
    "start_time": "2022-11-08T13:15:52.814Z"
   },
   {
    "duration": 16,
    "start_time": "2022-11-08T13:15:52.855Z"
   },
   {
    "duration": 45,
    "start_time": "2022-11-08T13:15:52.873Z"
   },
   {
    "duration": 5,
    "start_time": "2022-11-08T13:15:52.919Z"
   },
   {
    "duration": 92,
    "start_time": "2022-11-08T13:15:52.926Z"
   },
   {
    "duration": 13,
    "start_time": "2022-11-08T13:15:53.020Z"
   },
   {
    "duration": 13,
    "start_time": "2022-11-08T13:15:53.035Z"
   },
   {
    "duration": 7,
    "start_time": "2022-11-08T13:15:53.050Z"
   },
   {
    "duration": 17,
    "start_time": "2022-11-08T13:15:53.059Z"
   },
   {
    "duration": 36,
    "start_time": "2022-11-08T13:15:53.078Z"
   },
   {
    "duration": 10,
    "start_time": "2022-11-08T13:15:53.116Z"
   },
   {
    "duration": 10,
    "start_time": "2022-11-08T13:15:53.128Z"
   },
   {
    "duration": 12,
    "start_time": "2022-11-08T13:15:53.140Z"
   },
   {
    "duration": 12,
    "start_time": "2022-11-08T13:15:53.154Z"
   },
   {
    "duration": 45,
    "start_time": "2022-11-08T13:15:53.168Z"
   },
   {
    "duration": 9,
    "start_time": "2022-11-08T13:15:53.215Z"
   },
   {
    "duration": 6,
    "start_time": "2022-11-08T13:16:57.930Z"
   },
   {
    "duration": 10,
    "start_time": "2022-11-08T13:16:58.476Z"
   },
   {
    "duration": 3,
    "start_time": "2022-11-08T13:18:11.901Z"
   },
   {
    "duration": 170,
    "start_time": "2022-11-08T13:18:11.906Z"
   },
   {
    "duration": 20,
    "start_time": "2022-11-08T13:18:12.078Z"
   },
   {
    "duration": 11,
    "start_time": "2022-11-08T13:18:12.112Z"
   },
   {
    "duration": 12,
    "start_time": "2022-11-08T13:18:12.125Z"
   },
   {
    "duration": 16,
    "start_time": "2022-11-08T13:18:12.139Z"
   },
   {
    "duration": 4,
    "start_time": "2022-11-08T13:18:12.157Z"
   },
   {
    "duration": 91,
    "start_time": "2022-11-08T13:18:12.163Z"
   },
   {
    "duration": 75,
    "start_time": "2022-11-08T13:18:12.257Z"
   },
   {
    "duration": 54,
    "start_time": "2022-11-08T13:18:12.334Z"
   },
   {
    "duration": 25,
    "start_time": "2022-11-08T13:18:12.390Z"
   },
   {
    "duration": 10,
    "start_time": "2022-11-08T13:18:12.417Z"
   },
   {
    "duration": 26,
    "start_time": "2022-11-08T13:18:12.429Z"
   },
   {
    "duration": 10,
    "start_time": "2022-11-08T13:18:12.457Z"
   },
   {
    "duration": 6,
    "start_time": "2022-11-08T13:18:12.469Z"
   },
   {
    "duration": 39,
    "start_time": "2022-11-08T13:18:12.477Z"
   },
   {
    "duration": 6,
    "start_time": "2022-11-08T13:18:12.518Z"
   },
   {
    "duration": 9,
    "start_time": "2022-11-08T13:18:12.526Z"
   },
   {
    "duration": 760,
    "start_time": "2022-11-08T13:18:12.537Z"
   },
   {
    "duration": 22,
    "start_time": "2022-11-08T13:18:13.299Z"
   },
   {
    "duration": 11,
    "start_time": "2022-11-08T13:18:13.323Z"
   },
   {
    "duration": 10,
    "start_time": "2022-11-08T13:18:13.336Z"
   },
   {
    "duration": 11,
    "start_time": "2022-11-08T13:18:13.348Z"
   },
   {
    "duration": 16,
    "start_time": "2022-11-08T13:18:13.364Z"
   },
   {
    "duration": 41,
    "start_time": "2022-11-08T13:18:13.382Z"
   },
   {
    "duration": 9,
    "start_time": "2022-11-08T13:18:13.425Z"
   },
   {
    "duration": 30,
    "start_time": "2022-11-08T13:18:13.436Z"
   },
   {
    "duration": 87,
    "start_time": "2022-11-08T13:18:13.467Z"
   },
   {
    "duration": 11,
    "start_time": "2022-11-08T13:18:13.556Z"
   },
   {
    "duration": 150,
    "start_time": "2022-11-08T13:18:13.569Z"
   },
   {
    "duration": 14,
    "start_time": "2022-11-08T13:18:13.722Z"
   },
   {
    "duration": 10,
    "start_time": "2022-11-08T13:18:13.739Z"
   },
   {
    "duration": 13,
    "start_time": "2022-11-08T13:18:13.751Z"
   },
   {
    "duration": 16,
    "start_time": "2022-11-08T13:18:13.766Z"
   },
   {
    "duration": 36,
    "start_time": "2022-11-08T13:18:13.784Z"
   },
   {
    "duration": 44,
    "start_time": "2022-11-08T13:18:13.823Z"
   },
   {
    "duration": 17,
    "start_time": "2022-11-08T13:18:13.869Z"
   },
   {
    "duration": 36,
    "start_time": "2022-11-08T13:18:13.887Z"
   },
   {
    "duration": 5,
    "start_time": "2022-11-08T13:18:13.925Z"
   },
   {
    "duration": 98,
    "start_time": "2022-11-08T13:18:13.932Z"
   },
   {
    "duration": 11,
    "start_time": "2022-11-08T13:18:14.032Z"
   },
   {
    "duration": 29,
    "start_time": "2022-11-08T13:18:14.045Z"
   },
   {
    "duration": 25,
    "start_time": "2022-11-08T13:18:14.076Z"
   },
   {
    "duration": 35,
    "start_time": "2022-11-08T13:18:14.103Z"
   },
   {
    "duration": 18,
    "start_time": "2022-11-08T13:18:14.140Z"
   },
   {
    "duration": 20,
    "start_time": "2022-11-08T13:18:14.160Z"
   },
   {
    "duration": 31,
    "start_time": "2022-11-08T13:18:14.182Z"
   },
   {
    "duration": 26,
    "start_time": "2022-11-08T13:18:14.215Z"
   },
   {
    "duration": 32,
    "start_time": "2022-11-08T13:18:14.243Z"
   },
   {
    "duration": 32,
    "start_time": "2022-11-08T13:18:14.277Z"
   },
   {
    "duration": 16,
    "start_time": "2022-11-08T13:18:14.310Z"
   },
   {
    "duration": 4,
    "start_time": "2022-11-08T13:18:26.096Z"
   },
   {
    "duration": 155,
    "start_time": "2022-11-08T13:18:27.430Z"
   },
   {
    "duration": 22,
    "start_time": "2022-11-08T13:18:28.251Z"
   },
   {
    "duration": 12,
    "start_time": "2022-11-08T13:18:28.826Z"
   },
   {
    "duration": 13,
    "start_time": "2022-11-08T13:18:30.415Z"
   },
   {
    "duration": 16,
    "start_time": "2022-11-08T13:18:31.676Z"
   },
   {
    "duration": 4,
    "start_time": "2022-11-08T13:18:32.074Z"
   },
   {
    "duration": 56,
    "start_time": "2022-11-08T13:18:32.477Z"
   },
   {
    "duration": 61,
    "start_time": "2022-11-08T13:18:33.034Z"
   },
   {
    "duration": 53,
    "start_time": "2022-11-08T13:18:33.413Z"
   },
   {
    "duration": 9,
    "start_time": "2022-11-08T13:18:34.181Z"
   },
   {
    "duration": 9,
    "start_time": "2022-11-08T13:18:34.584Z"
   },
   {
    "duration": 27,
    "start_time": "2022-11-08T13:18:35.420Z"
   },
   {
    "duration": 10,
    "start_time": "2022-11-08T13:18:35.898Z"
   },
   {
    "duration": 4,
    "start_time": "2022-11-08T13:18:38.062Z"
   },
   {
    "duration": 7,
    "start_time": "2022-11-08T13:18:38.546Z"
   },
   {
    "duration": 6,
    "start_time": "2022-11-08T13:18:39.387Z"
   },
   {
    "duration": 6,
    "start_time": "2022-11-08T13:18:40.204Z"
   },
   {
    "duration": 839,
    "start_time": "2022-11-08T13:18:40.943Z"
   },
   {
    "duration": 13,
    "start_time": "2022-11-08T13:18:41.980Z"
   },
   {
    "duration": 11,
    "start_time": "2022-11-08T13:18:42.879Z"
   },
   {
    "duration": 6,
    "start_time": "2022-11-08T13:18:44.028Z"
   },
   {
    "duration": 9,
    "start_time": "2022-11-08T13:18:44.475Z"
   },
   {
    "duration": 15,
    "start_time": "2022-11-08T13:18:44.679Z"
   },
   {
    "duration": 18,
    "start_time": "2022-11-08T13:18:45.233Z"
   },
   {
    "duration": 12,
    "start_time": "2022-11-08T13:18:45.918Z"
   },
   {
    "duration": 28,
    "start_time": "2022-11-08T13:18:47.532Z"
   },
   {
    "duration": 63,
    "start_time": "2022-11-08T13:18:48.671Z"
   },
   {
    "duration": 12,
    "start_time": "2022-11-08T13:18:49.245Z"
   },
   {
    "duration": 121,
    "start_time": "2022-11-08T13:18:49.517Z"
   },
   {
    "duration": 11,
    "start_time": "2022-11-08T13:18:50.306Z"
   },
   {
    "duration": 5,
    "start_time": "2022-11-08T13:18:50.949Z"
   },
   {
    "duration": 10,
    "start_time": "2022-11-08T13:18:51.303Z"
   },
   {
    "duration": 16,
    "start_time": "2022-11-08T13:18:51.666Z"
   },
   {
    "duration": 11,
    "start_time": "2022-11-08T13:18:53.328Z"
   },
   {
    "duration": 55,
    "start_time": "2022-11-08T13:18:54.674Z"
   },
   {
    "duration": 23,
    "start_time": "2022-11-08T13:18:55.824Z"
   },
   {
    "duration": 22,
    "start_time": "2022-11-08T13:18:56.039Z"
   },
   {
    "duration": 6,
    "start_time": "2022-11-08T13:18:56.505Z"
   },
   {
    "duration": 102,
    "start_time": "2022-11-08T13:18:57.842Z"
   },
   {
    "duration": 11,
    "start_time": "2022-11-08T13:18:58.597Z"
   },
   {
    "duration": 8,
    "start_time": "2022-11-08T13:18:58.827Z"
   },
   {
    "duration": 7,
    "start_time": "2022-11-08T13:18:59.872Z"
   },
   {
    "duration": 6,
    "start_time": "2022-11-08T13:19:38.303Z"
   },
   {
    "duration": 10,
    "start_time": "2022-11-08T13:19:45.158Z"
   },
   {
    "duration": 11,
    "start_time": "2022-11-08T13:19:47.160Z"
   },
   {
    "duration": 10,
    "start_time": "2022-11-08T13:19:48.369Z"
   },
   {
    "duration": 9,
    "start_time": "2022-11-08T13:19:49.539Z"
   },
   {
    "duration": 9,
    "start_time": "2022-11-08T13:19:54.971Z"
   },
   {
    "duration": 9,
    "start_time": "2022-11-08T13:19:55.914Z"
   },
   {
    "duration": 10,
    "start_time": "2022-11-08T13:20:01.714Z"
   },
   {
    "duration": 74,
    "start_time": "2022-11-08T13:25:44.383Z"
   },
   {
    "duration": 73,
    "start_time": "2022-11-08T13:25:54.151Z"
   },
   {
    "duration": 5,
    "start_time": "2022-11-08T13:26:46.516Z"
   },
   {
    "duration": 1187,
    "start_time": "2022-11-08T13:26:52.696Z"
   },
   {
    "duration": 1289,
    "start_time": "2022-11-08T13:27:07.194Z"
   },
   {
    "duration": 1125,
    "start_time": "2022-11-08T13:27:39.111Z"
   },
   {
    "duration": 1194,
    "start_time": "2022-11-08T13:28:31.691Z"
   },
   {
    "duration": 1144,
    "start_time": "2022-11-08T13:28:46.269Z"
   },
   {
    "duration": 1239,
    "start_time": "2022-11-08T13:31:07.987Z"
   },
   {
    "duration": 4,
    "start_time": "2022-11-08T13:31:49.767Z"
   },
   {
    "duration": 5,
    "start_time": "2022-11-08T13:34:17.940Z"
   },
   {
    "duration": 6,
    "start_time": "2022-11-08T13:34:26.544Z"
   },
   {
    "duration": 2033,
    "start_time": "2022-11-08T13:40:24.206Z"
   },
   {
    "duration": 1128,
    "start_time": "2022-11-08T13:41:16.430Z"
   },
   {
    "duration": 1179,
    "start_time": "2022-11-08T13:41:28.611Z"
   },
   {
    "duration": 1150,
    "start_time": "2022-11-08T13:41:37.646Z"
   },
   {
    "duration": 1371,
    "start_time": "2022-11-08T13:41:44.508Z"
   },
   {
    "duration": 10,
    "start_time": "2022-11-08T13:42:42.021Z"
   },
   {
    "duration": 10,
    "start_time": "2022-11-08T13:42:51.493Z"
   },
   {
    "duration": 1087,
    "start_time": "2022-11-08T13:43:05.207Z"
   },
   {
    "duration": 14,
    "start_time": "2022-11-08T13:43:17.236Z"
   },
   {
    "duration": 1132,
    "start_time": "2022-11-08T13:43:50.733Z"
   },
   {
    "duration": 1138,
    "start_time": "2022-11-08T13:44:18.294Z"
   },
   {
    "duration": 5,
    "start_time": "2022-11-08T13:44:26.806Z"
   },
   {
    "duration": 5,
    "start_time": "2022-11-08T13:45:49.258Z"
   },
   {
    "duration": 5,
    "start_time": "2022-11-08T13:47:15.249Z"
   },
   {
    "duration": 7,
    "start_time": "2022-11-08T13:53:05.579Z"
   },
   {
    "duration": 7,
    "start_time": "2022-11-08T13:53:15.941Z"
   },
   {
    "duration": 5,
    "start_time": "2022-11-08T13:53:36.868Z"
   },
   {
    "duration": 5,
    "start_time": "2022-11-08T13:53:51.350Z"
   },
   {
    "duration": 12,
    "start_time": "2022-11-08T13:53:53.614Z"
   },
   {
    "duration": 10,
    "start_time": "2022-11-08T13:53:57.668Z"
   },
   {
    "duration": 3,
    "start_time": "2022-11-08T13:56:06.212Z"
   },
   {
    "duration": 185,
    "start_time": "2022-11-08T13:56:06.923Z"
   },
   {
    "duration": 22,
    "start_time": "2022-11-08T13:56:07.916Z"
   },
   {
    "duration": 12,
    "start_time": "2022-11-08T13:56:08.288Z"
   },
   {
    "duration": 13,
    "start_time": "2022-11-08T13:56:09.871Z"
   },
   {
    "duration": 16,
    "start_time": "2022-11-08T13:56:11.001Z"
   },
   {
    "duration": 3,
    "start_time": "2022-11-08T13:56:11.406Z"
   },
   {
    "duration": 54,
    "start_time": "2022-11-08T13:56:11.889Z"
   },
   {
    "duration": 60,
    "start_time": "2022-11-08T13:56:12.629Z"
   },
   {
    "duration": 55,
    "start_time": "2022-11-08T13:56:13.056Z"
   },
   {
    "duration": 9,
    "start_time": "2022-11-08T13:56:14.034Z"
   },
   {
    "duration": 15,
    "start_time": "2022-11-08T13:56:14.417Z"
   },
   {
    "duration": 16,
    "start_time": "2022-11-08T13:56:15.444Z"
   },
   {
    "duration": 10,
    "start_time": "2022-11-08T13:56:15.807Z"
   },
   {
    "duration": 4,
    "start_time": "2022-11-08T13:56:18.114Z"
   },
   {
    "duration": 6,
    "start_time": "2022-11-08T13:56:18.891Z"
   },
   {
    "duration": 6,
    "start_time": "2022-11-08T13:56:19.645Z"
   },
   {
    "duration": 6,
    "start_time": "2022-11-08T13:56:22.250Z"
   },
   {
    "duration": 703,
    "start_time": "2022-11-08T13:56:27.222Z"
   },
   {
    "duration": 12,
    "start_time": "2022-11-08T13:56:28.737Z"
   },
   {
    "duration": 10,
    "start_time": "2022-11-08T13:56:29.318Z"
   },
   {
    "duration": 6,
    "start_time": "2022-11-08T13:56:30.471Z"
   },
   {
    "duration": 8,
    "start_time": "2022-11-08T13:56:31.432Z"
   },
   {
    "duration": 13,
    "start_time": "2022-11-08T13:56:31.993Z"
   },
   {
    "duration": 13,
    "start_time": "2022-11-08T13:56:33.552Z"
   },
   {
    "duration": 10,
    "start_time": "2022-11-08T13:56:40.269Z"
   },
   {
    "duration": 28,
    "start_time": "2022-11-08T13:56:43.229Z"
   },
   {
    "duration": 61,
    "start_time": "2022-11-08T13:56:45.533Z"
   },
   {
    "duration": 11,
    "start_time": "2022-11-08T13:56:51.206Z"
   },
   {
    "duration": 113,
    "start_time": "2022-11-08T13:56:51.829Z"
   },
   {
    "duration": 10,
    "start_time": "2022-11-08T13:56:53.573Z"
   },
   {
    "duration": 4,
    "start_time": "2022-11-08T13:56:55.580Z"
   },
   {
    "duration": 8,
    "start_time": "2022-11-08T13:56:56.145Z"
   },
   {
    "duration": 12,
    "start_time": "2022-11-08T13:56:57.682Z"
   },
   {
    "duration": 10,
    "start_time": "2022-11-08T13:57:00.425Z"
   },
   {
    "duration": 38,
    "start_time": "2022-11-08T13:57:02.488Z"
   },
   {
    "duration": 19,
    "start_time": "2022-11-08T13:57:04.452Z"
   },
   {
    "duration": 16,
    "start_time": "2022-11-08T13:57:05.184Z"
   },
   {
    "duration": 5,
    "start_time": "2022-11-08T13:57:05.831Z"
   },
   {
    "duration": 101,
    "start_time": "2022-11-08T13:57:12.021Z"
   },
   {
    "duration": 14,
    "start_time": "2022-11-08T13:57:17.518Z"
   },
   {
    "duration": 7,
    "start_time": "2022-11-08T13:57:21.091Z"
   },
   {
    "duration": 6,
    "start_time": "2022-11-08T13:58:11.193Z"
   },
   {
    "duration": 6,
    "start_time": "2022-11-08T13:58:47.754Z"
   },
   {
    "duration": 12,
    "start_time": "2022-11-08T14:00:28.088Z"
   },
   {
    "duration": 11,
    "start_time": "2022-11-08T14:00:44.981Z"
   },
   {
    "duration": 13,
    "start_time": "2022-11-08T14:01:01.638Z"
   },
   {
    "duration": 13,
    "start_time": "2022-11-08T14:01:06.070Z"
   },
   {
    "duration": 11,
    "start_time": "2022-11-08T14:01:21.551Z"
   },
   {
    "duration": 11,
    "start_time": "2022-11-08T14:01:22.646Z"
   },
   {
    "duration": 5,
    "start_time": "2022-11-08T14:01:23.260Z"
   },
   {
    "duration": 6,
    "start_time": "2022-11-08T14:03:39.242Z"
   },
   {
    "duration": 9,
    "start_time": "2022-11-08T14:03:55.751Z"
   },
   {
    "duration": 15,
    "start_time": "2022-11-08T14:04:08.909Z"
   },
   {
    "duration": 11,
    "start_time": "2022-11-08T14:04:15.002Z"
   },
   {
    "duration": 10,
    "start_time": "2022-11-08T14:04:18.292Z"
   },
   {
    "duration": 10,
    "start_time": "2022-11-08T14:05:31.210Z"
   },
   {
    "duration": 1143,
    "start_time": "2022-11-08T14:14:02.608Z"
   },
   {
    "duration": 249,
    "start_time": "2022-11-08T14:14:03.753Z"
   },
   {
    "duration": 28,
    "start_time": "2022-11-08T14:14:04.004Z"
   },
   {
    "duration": 27,
    "start_time": "2022-11-08T14:14:04.035Z"
   },
   {
    "duration": 47,
    "start_time": "2022-11-08T14:14:04.064Z"
   },
   {
    "duration": 25,
    "start_time": "2022-11-08T14:14:04.114Z"
   },
   {
    "duration": 17,
    "start_time": "2022-11-08T14:14:04.141Z"
   },
   {
    "duration": 103,
    "start_time": "2022-11-08T14:14:04.160Z"
   },
   {
    "duration": 108,
    "start_time": "2022-11-08T14:14:04.266Z"
   },
   {
    "duration": 76,
    "start_time": "2022-11-08T14:14:04.377Z"
   },
   {
    "duration": 11,
    "start_time": "2022-11-08T14:14:04.455Z"
   },
   {
    "duration": 12,
    "start_time": "2022-11-08T14:14:04.469Z"
   },
   {
    "duration": 41,
    "start_time": "2022-11-08T14:14:04.483Z"
   },
   {
    "duration": 9,
    "start_time": "2022-11-08T14:14:04.526Z"
   },
   {
    "duration": 36,
    "start_time": "2022-11-08T14:14:04.537Z"
   },
   {
    "duration": 26,
    "start_time": "2022-11-08T14:14:04.575Z"
   },
   {
    "duration": 23,
    "start_time": "2022-11-08T14:14:04.603Z"
   },
   {
    "duration": 14,
    "start_time": "2022-11-08T14:14:04.627Z"
   },
   {
    "duration": 838,
    "start_time": "2022-11-08T14:14:04.643Z"
   },
   {
    "duration": 30,
    "start_time": "2022-11-08T14:14:05.483Z"
   },
   {
    "duration": 10,
    "start_time": "2022-11-08T14:14:05.515Z"
   },
   {
    "duration": 7,
    "start_time": "2022-11-08T14:14:05.528Z"
   },
   {
    "duration": 14,
    "start_time": "2022-11-08T14:14:05.537Z"
   },
   {
    "duration": 14,
    "start_time": "2022-11-08T14:14:05.553Z"
   },
   {
    "duration": 46,
    "start_time": "2022-11-08T14:14:05.569Z"
   },
   {
    "duration": 11,
    "start_time": "2022-11-08T14:14:05.617Z"
   },
   {
    "duration": 35,
    "start_time": "2022-11-08T14:14:05.630Z"
   },
   {
    "duration": 90,
    "start_time": "2022-11-08T14:14:05.669Z"
   },
   {
    "duration": 12,
    "start_time": "2022-11-08T14:14:05.761Z"
   },
   {
    "duration": 143,
    "start_time": "2022-11-08T14:14:05.775Z"
   },
   {
    "duration": 9,
    "start_time": "2022-11-08T14:14:05.920Z"
   },
   {
    "duration": 7,
    "start_time": "2022-11-08T14:14:05.931Z"
   },
   {
    "duration": 11,
    "start_time": "2022-11-08T14:14:05.939Z"
   },
   {
    "duration": 16,
    "start_time": "2022-11-08T14:14:05.952Z"
   },
   {
    "duration": 43,
    "start_time": "2022-11-08T14:14:05.970Z"
   },
   {
    "duration": 43,
    "start_time": "2022-11-08T14:14:06.015Z"
   },
   {
    "duration": 18,
    "start_time": "2022-11-08T14:14:06.060Z"
   },
   {
    "duration": 42,
    "start_time": "2022-11-08T14:14:06.080Z"
   },
   {
    "duration": 5,
    "start_time": "2022-11-08T14:14:06.124Z"
   },
   {
    "duration": 120,
    "start_time": "2022-11-08T14:14:06.131Z"
   },
   {
    "duration": 13,
    "start_time": "2022-11-08T14:14:06.252Z"
   },
   {
    "duration": 9,
    "start_time": "2022-11-08T14:14:06.267Z"
   },
   {
    "duration": 11,
    "start_time": "2022-11-08T14:14:06.278Z"
   },
   {
    "duration": 11,
    "start_time": "2022-11-08T14:14:06.313Z"
   },
   {
    "duration": 11,
    "start_time": "2022-11-08T14:14:06.326Z"
   },
   {
    "duration": 12,
    "start_time": "2022-11-08T14:14:06.339Z"
   },
   {
    "duration": 11,
    "start_time": "2022-11-08T14:14:06.353Z"
   },
   {
    "duration": 9,
    "start_time": "2022-11-08T14:14:06.366Z"
   },
   {
    "duration": 46,
    "start_time": "2022-11-08T14:14:06.377Z"
   },
   {
    "duration": 13,
    "start_time": "2022-11-08T14:14:06.426Z"
   },
   {
    "duration": 14,
    "start_time": "2022-11-08T14:14:06.441Z"
   },
   {
    "duration": 12,
    "start_time": "2022-11-08T14:14:06.457Z"
   },
   {
    "duration": 4,
    "start_time": "2022-11-08T14:14:11.374Z"
   },
   {
    "duration": 182,
    "start_time": "2022-11-08T14:14:11.380Z"
   },
   {
    "duration": 22,
    "start_time": "2022-11-08T14:14:11.564Z"
   },
   {
    "duration": 11,
    "start_time": "2022-11-08T14:14:11.587Z"
   },
   {
    "duration": 12,
    "start_time": "2022-11-08T14:14:11.615Z"
   },
   {
    "duration": 18,
    "start_time": "2022-11-08T14:14:11.628Z"
   },
   {
    "duration": 7,
    "start_time": "2022-11-08T14:14:11.648Z"
   },
   {
    "duration": 86,
    "start_time": "2022-11-08T14:14:11.657Z"
   },
   {
    "duration": 68,
    "start_time": "2022-11-08T14:14:11.745Z"
   },
   {
    "duration": 53,
    "start_time": "2022-11-08T14:14:11.815Z"
   },
   {
    "duration": 10,
    "start_time": "2022-11-08T14:14:11.870Z"
   },
   {
    "duration": 8,
    "start_time": "2022-11-08T14:14:11.881Z"
   },
   {
    "duration": 39,
    "start_time": "2022-11-08T14:14:11.891Z"
   },
   {
    "duration": 9,
    "start_time": "2022-11-08T14:14:11.934Z"
   },
   {
    "duration": 10,
    "start_time": "2022-11-08T14:14:11.945Z"
   },
   {
    "duration": 10,
    "start_time": "2022-11-08T14:14:11.956Z"
   },
   {
    "duration": 7,
    "start_time": "2022-11-08T14:14:11.968Z"
   },
   {
    "duration": 38,
    "start_time": "2022-11-08T14:14:11.977Z"
   },
   {
    "duration": 941,
    "start_time": "2022-11-08T14:14:12.017Z"
   },
   {
    "duration": 16,
    "start_time": "2022-11-08T14:14:12.960Z"
   },
   {
    "duration": 27,
    "start_time": "2022-11-08T14:14:12.978Z"
   },
   {
    "duration": 33,
    "start_time": "2022-11-08T14:14:13.007Z"
   },
   {
    "duration": 23,
    "start_time": "2022-11-08T14:14:13.042Z"
   },
   {
    "duration": 48,
    "start_time": "2022-11-08T14:14:13.067Z"
   },
   {
    "duration": 29,
    "start_time": "2022-11-08T14:14:13.118Z"
   },
   {
    "duration": 23,
    "start_time": "2022-11-08T14:14:13.150Z"
   },
   {
    "duration": 58,
    "start_time": "2022-11-08T14:14:13.174Z"
   },
   {
    "duration": 100,
    "start_time": "2022-11-08T14:14:13.234Z"
   },
   {
    "duration": 16,
    "start_time": "2022-11-08T14:14:13.335Z"
   },
   {
    "duration": 151,
    "start_time": "2022-11-08T14:14:13.353Z"
   },
   {
    "duration": 15,
    "start_time": "2022-11-08T14:14:13.506Z"
   },
   {
    "duration": 14,
    "start_time": "2022-11-08T14:14:13.523Z"
   },
   {
    "duration": 45,
    "start_time": "2022-11-08T14:14:13.538Z"
   },
   {
    "duration": 42,
    "start_time": "2022-11-08T14:14:13.584Z"
   },
   {
    "duration": 27,
    "start_time": "2022-11-08T14:14:13.627Z"
   },
   {
    "duration": 52,
    "start_time": "2022-11-08T14:14:13.656Z"
   },
   {
    "duration": 19,
    "start_time": "2022-11-08T14:14:13.710Z"
   },
   {
    "duration": 20,
    "start_time": "2022-11-08T14:14:13.730Z"
   },
   {
    "duration": 14,
    "start_time": "2022-11-08T14:14:13.751Z"
   },
   {
    "duration": 104,
    "start_time": "2022-11-08T14:14:13.766Z"
   },
   {
    "duration": 14,
    "start_time": "2022-11-08T14:14:13.876Z"
   },
   {
    "duration": 29,
    "start_time": "2022-11-08T14:14:13.892Z"
   },
   {
    "duration": 23,
    "start_time": "2022-11-08T14:14:13.923Z"
   },
   {
    "duration": 57,
    "start_time": "2022-11-08T14:14:13.948Z"
   },
   {
    "duration": 21,
    "start_time": "2022-11-08T14:14:14.007Z"
   },
   {
    "duration": 41,
    "start_time": "2022-11-08T14:14:14.030Z"
   },
   {
    "duration": 23,
    "start_time": "2022-11-08T14:14:14.074Z"
   },
   {
    "duration": 13,
    "start_time": "2022-11-08T14:14:14.100Z"
   },
   {
    "duration": 37,
    "start_time": "2022-11-08T14:14:14.115Z"
   },
   {
    "duration": 34,
    "start_time": "2022-11-08T14:14:14.154Z"
   },
   {
    "duration": 31,
    "start_time": "2022-11-08T14:14:14.190Z"
   },
   {
    "duration": 33,
    "start_time": "2022-11-08T14:14:14.223Z"
   },
   {
    "duration": 4,
    "start_time": "2022-11-08T14:14:27.441Z"
   },
   {
    "duration": 171,
    "start_time": "2022-11-08T14:14:28.282Z"
   },
   {
    "duration": 24,
    "start_time": "2022-11-08T14:14:29.259Z"
   },
   {
    "duration": 14,
    "start_time": "2022-11-08T14:14:29.811Z"
   },
   {
    "duration": 12,
    "start_time": "2022-11-08T14:14:31.650Z"
   },
   {
    "duration": 17,
    "start_time": "2022-11-08T14:14:32.897Z"
   },
   {
    "duration": 4,
    "start_time": "2022-11-08T14:14:33.526Z"
   },
   {
    "duration": 58,
    "start_time": "2022-11-08T14:14:34.080Z"
   },
   {
    "duration": 79,
    "start_time": "2022-11-08T14:14:34.431Z"
   },
   {
    "duration": 55,
    "start_time": "2022-11-08T14:14:34.847Z"
   },
   {
    "duration": 9,
    "start_time": "2022-11-08T14:14:35.679Z"
   },
   {
    "duration": 12,
    "start_time": "2022-11-08T14:14:36.083Z"
   },
   {
    "duration": 25,
    "start_time": "2022-11-08T14:14:36.977Z"
   },
   {
    "duration": 9,
    "start_time": "2022-11-08T14:14:37.370Z"
   },
   {
    "duration": 5,
    "start_time": "2022-11-08T14:14:38.916Z"
   },
   {
    "duration": 8,
    "start_time": "2022-11-08T14:14:39.691Z"
   },
   {
    "duration": 6,
    "start_time": "2022-11-08T14:14:40.526Z"
   },
   {
    "duration": 6,
    "start_time": "2022-11-08T14:14:41.380Z"
   },
   {
    "duration": 749,
    "start_time": "2022-11-08T14:14:42.179Z"
   },
   {
    "duration": 15,
    "start_time": "2022-11-08T14:14:43.487Z"
   },
   {
    "duration": 11,
    "start_time": "2022-11-08T14:14:43.882Z"
   },
   {
    "duration": 7,
    "start_time": "2022-11-08T14:14:45.310Z"
   },
   {
    "duration": 10,
    "start_time": "2022-11-08T14:14:46.509Z"
   },
   {
    "duration": 16,
    "start_time": "2022-11-08T14:14:47.095Z"
   },
   {
    "duration": 13,
    "start_time": "2022-11-08T14:14:48.122Z"
   },
   {
    "duration": 10,
    "start_time": "2022-11-08T14:14:52.805Z"
   },
   {
    "duration": 26,
    "start_time": "2022-11-08T14:14:56.009Z"
   },
   {
    "duration": 63,
    "start_time": "2022-11-08T14:14:57.575Z"
   },
   {
    "duration": 11,
    "start_time": "2022-11-08T14:14:59.684Z"
   },
   {
    "duration": 130,
    "start_time": "2022-11-08T14:15:00.194Z"
   },
   {
    "duration": 10,
    "start_time": "2022-11-08T14:15:01.754Z"
   },
   {
    "duration": 4,
    "start_time": "2022-11-08T14:15:02.707Z"
   },
   {
    "duration": 8,
    "start_time": "2022-11-08T14:15:03.433Z"
   },
   {
    "duration": 12,
    "start_time": "2022-11-08T14:15:06.319Z"
   },
   {
    "duration": 11,
    "start_time": "2022-11-08T14:15:09.821Z"
   },
   {
    "duration": 40,
    "start_time": "2022-11-08T14:15:11.742Z"
   },
   {
    "duration": 19,
    "start_time": "2022-11-08T14:15:13.399Z"
   },
   {
    "duration": 19,
    "start_time": "2022-11-08T14:15:13.830Z"
   },
   {
    "duration": 5,
    "start_time": "2022-11-08T14:15:14.295Z"
   },
   {
    "duration": 86,
    "start_time": "2022-11-08T14:15:19.578Z"
   },
   {
    "duration": 10,
    "start_time": "2022-11-08T14:15:20.927Z"
   },
   {
    "duration": 8,
    "start_time": "2022-11-08T14:15:21.434Z"
   },
   {
    "duration": 7,
    "start_time": "2022-11-08T14:15:22.962Z"
   },
   {
    "duration": 9,
    "start_time": "2022-11-08T14:15:23.743Z"
   },
   {
    "duration": 9,
    "start_time": "2022-11-08T14:15:25.513Z"
   },
   {
    "duration": 9,
    "start_time": "2022-11-08T14:15:26.696Z"
   },
   {
    "duration": 10,
    "start_time": "2022-11-08T14:15:49.223Z"
   },
   {
    "duration": 10,
    "start_time": "2022-11-08T14:15:53.679Z"
   },
   {
    "duration": 10,
    "start_time": "2022-11-08T14:15:54.479Z"
   },
   {
    "duration": 5,
    "start_time": "2022-11-08T14:15:54.876Z"
   },
   {
    "duration": 9,
    "start_time": "2022-11-08T14:15:55.759Z"
   },
   {
    "duration": 10,
    "start_time": "2022-11-08T14:15:56.918Z"
   },
   {
    "duration": 9,
    "start_time": "2022-11-08T14:18:36.957Z"
   },
   {
    "duration": 12,
    "start_time": "2022-11-08T14:21:54.011Z"
   },
   {
    "duration": 11,
    "start_time": "2022-11-08T14:21:55.712Z"
   },
   {
    "duration": 8,
    "start_time": "2022-11-08T14:21:58.537Z"
   },
   {
    "duration": 8,
    "start_time": "2022-11-08T14:21:59.719Z"
   },
   {
    "duration": 10,
    "start_time": "2022-11-08T14:22:04.361Z"
   },
   {
    "duration": 10,
    "start_time": "2022-11-08T14:22:38.355Z"
   },
   {
    "duration": 5,
    "start_time": "2022-11-08T14:22:38.862Z"
   },
   {
    "duration": 11,
    "start_time": "2022-11-08T14:22:55.922Z"
   },
   {
    "duration": 10,
    "start_time": "2022-11-08T14:23:17.642Z"
   },
   {
    "duration": 3,
    "start_time": "2022-11-08T14:23:32.524Z"
   },
   {
    "duration": 178,
    "start_time": "2022-11-08T14:23:32.530Z"
   },
   {
    "duration": 25,
    "start_time": "2022-11-08T14:23:32.710Z"
   },
   {
    "duration": 16,
    "start_time": "2022-11-08T14:23:32.739Z"
   },
   {
    "duration": 18,
    "start_time": "2022-11-08T14:23:32.758Z"
   },
   {
    "duration": 50,
    "start_time": "2022-11-08T14:23:32.778Z"
   },
   {
    "duration": 7,
    "start_time": "2022-11-08T14:23:32.830Z"
   },
   {
    "duration": 86,
    "start_time": "2022-11-08T14:23:32.839Z"
   },
   {
    "duration": 73,
    "start_time": "2022-11-08T14:23:32.927Z"
   },
   {
    "duration": 68,
    "start_time": "2022-11-08T14:23:33.003Z"
   },
   {
    "duration": 9,
    "start_time": "2022-11-08T14:23:33.073Z"
   },
   {
    "duration": 34,
    "start_time": "2022-11-08T14:23:33.084Z"
   },
   {
    "duration": 22,
    "start_time": "2022-11-08T14:23:33.120Z"
   },
   {
    "duration": 9,
    "start_time": "2022-11-08T14:23:33.145Z"
   },
   {
    "duration": 6,
    "start_time": "2022-11-08T14:23:33.156Z"
   },
   {
    "duration": 8,
    "start_time": "2022-11-08T14:23:33.164Z"
   },
   {
    "duration": 6,
    "start_time": "2022-11-08T14:23:33.174Z"
   },
   {
    "duration": 36,
    "start_time": "2022-11-08T14:23:33.182Z"
   },
   {
    "duration": 865,
    "start_time": "2022-11-08T14:23:33.220Z"
   },
   {
    "duration": 26,
    "start_time": "2022-11-08T14:23:34.087Z"
   },
   {
    "duration": 13,
    "start_time": "2022-11-08T14:23:34.116Z"
   },
   {
    "duration": 10,
    "start_time": "2022-11-08T14:23:34.132Z"
   },
   {
    "duration": 10,
    "start_time": "2022-11-08T14:23:34.144Z"
   },
   {
    "duration": 14,
    "start_time": "2022-11-08T14:23:34.155Z"
   },
   {
    "duration": 49,
    "start_time": "2022-11-08T14:23:34.170Z"
   },
   {
    "duration": 13,
    "start_time": "2022-11-08T14:23:34.224Z"
   },
   {
    "duration": 30,
    "start_time": "2022-11-08T14:23:34.239Z"
   },
   {
    "duration": 105,
    "start_time": "2022-11-08T14:23:34.274Z"
   },
   {
    "duration": 14,
    "start_time": "2022-11-08T14:23:34.381Z"
   },
   {
    "duration": 145,
    "start_time": "2022-11-08T14:23:34.413Z"
   },
   {
    "duration": 11,
    "start_time": "2022-11-08T14:23:34.560Z"
   },
   {
    "duration": 7,
    "start_time": "2022-11-08T14:23:34.573Z"
   },
   {
    "duration": 14,
    "start_time": "2022-11-08T14:23:34.582Z"
   },
   {
    "duration": 28,
    "start_time": "2022-11-08T14:23:34.597Z"
   },
   {
    "duration": 16,
    "start_time": "2022-11-08T14:23:34.627Z"
   },
   {
    "duration": 40,
    "start_time": "2022-11-08T14:23:34.645Z"
   },
   {
    "duration": 41,
    "start_time": "2022-11-08T14:23:34.687Z"
   },
   {
    "duration": 18,
    "start_time": "2022-11-08T14:23:34.730Z"
   },
   {
    "duration": 5,
    "start_time": "2022-11-08T14:23:34.750Z"
   },
   {
    "duration": 109,
    "start_time": "2022-11-08T14:23:34.757Z"
   },
   {
    "duration": 12,
    "start_time": "2022-11-08T14:23:34.869Z"
   },
   {
    "duration": 8,
    "start_time": "2022-11-08T14:23:34.883Z"
   },
   {
    "duration": 29,
    "start_time": "2022-11-08T14:23:34.893Z"
   },
   {
    "duration": 17,
    "start_time": "2022-11-08T14:23:34.924Z"
   },
   {
    "duration": 10,
    "start_time": "2022-11-08T14:23:34.943Z"
   },
   {
    "duration": 14,
    "start_time": "2022-11-08T14:23:34.955Z"
   },
   {
    "duration": 14,
    "start_time": "2022-11-08T14:23:34.970Z"
   },
   {
    "duration": 33,
    "start_time": "2022-11-08T14:23:34.986Z"
   },
   {
    "duration": 10,
    "start_time": "2022-11-08T14:23:35.021Z"
   },
   {
    "duration": 10,
    "start_time": "2022-11-08T14:23:35.033Z"
   },
   {
    "duration": 12,
    "start_time": "2022-11-08T14:23:35.045Z"
   },
   {
    "duration": 11,
    "start_time": "2022-11-08T14:23:35.059Z"
   },
   {
    "duration": 10,
    "start_time": "2022-11-08T14:24:36.493Z"
   },
   {
    "duration": 10,
    "start_time": "2022-11-08T14:24:40.540Z"
   },
   {
    "duration": 5,
    "start_time": "2022-11-08T14:24:40.967Z"
   },
   {
    "duration": 11,
    "start_time": "2022-11-08T14:24:43.681Z"
   },
   {
    "duration": 5,
    "start_time": "2022-11-08T14:24:43.928Z"
   },
   {
    "duration": 10,
    "start_time": "2022-11-08T14:24:44.761Z"
   },
   {
    "duration": 11,
    "start_time": "2022-11-08T14:24:45.392Z"
   },
   {
    "duration": 4,
    "start_time": "2022-11-08T14:24:56.736Z"
   },
   {
    "duration": 184,
    "start_time": "2022-11-08T14:24:56.743Z"
   },
   {
    "duration": 22,
    "start_time": "2022-11-08T14:24:56.929Z"
   },
   {
    "duration": 11,
    "start_time": "2022-11-08T14:24:56.954Z"
   },
   {
    "duration": 19,
    "start_time": "2022-11-08T14:24:56.967Z"
   },
   {
    "duration": 34,
    "start_time": "2022-11-08T14:24:56.988Z"
   },
   {
    "duration": 5,
    "start_time": "2022-11-08T14:24:57.025Z"
   },
   {
    "duration": 58,
    "start_time": "2022-11-08T14:24:57.032Z"
   },
   {
    "duration": 59,
    "start_time": "2022-11-08T14:24:57.114Z"
   },
   {
    "duration": 75,
    "start_time": "2022-11-08T14:24:57.176Z"
   },
   {
    "duration": 8,
    "start_time": "2022-11-08T14:24:57.253Z"
   },
   {
    "duration": 12,
    "start_time": "2022-11-08T14:24:57.263Z"
   },
   {
    "duration": 40,
    "start_time": "2022-11-08T14:24:57.276Z"
   },
   {
    "duration": 11,
    "start_time": "2022-11-08T14:24:57.317Z"
   },
   {
    "duration": 12,
    "start_time": "2022-11-08T14:24:57.329Z"
   },
   {
    "duration": 16,
    "start_time": "2022-11-08T14:24:57.342Z"
   },
   {
    "duration": 6,
    "start_time": "2022-11-08T14:24:57.360Z"
   },
   {
    "duration": 7,
    "start_time": "2022-11-08T14:24:57.368Z"
   },
   {
    "duration": 868,
    "start_time": "2022-11-08T14:24:57.377Z"
   },
   {
    "duration": 13,
    "start_time": "2022-11-08T14:24:58.247Z"
   },
   {
    "duration": 9,
    "start_time": "2022-11-08T14:24:58.263Z"
   },
   {
    "duration": 7,
    "start_time": "2022-11-08T14:24:58.274Z"
   },
   {
    "duration": 33,
    "start_time": "2022-11-08T14:24:58.283Z"
   },
   {
    "duration": 14,
    "start_time": "2022-11-08T14:24:58.318Z"
   },
   {
    "duration": 14,
    "start_time": "2022-11-08T14:24:58.334Z"
   },
   {
    "duration": 10,
    "start_time": "2022-11-08T14:24:58.349Z"
   },
   {
    "duration": 60,
    "start_time": "2022-11-08T14:24:58.360Z"
   },
   {
    "duration": 62,
    "start_time": "2022-11-08T14:24:58.425Z"
   },
   {
    "duration": 33,
    "start_time": "2022-11-08T14:24:58.489Z"
   },
   {
    "duration": 129,
    "start_time": "2022-11-08T14:24:58.524Z"
   },
   {
    "duration": 13,
    "start_time": "2022-11-08T14:24:58.655Z"
   },
   {
    "duration": 9,
    "start_time": "2022-11-08T14:24:58.670Z"
   },
   {
    "duration": 9,
    "start_time": "2022-11-08T14:24:58.681Z"
   },
   {
    "duration": 30,
    "start_time": "2022-11-08T14:24:58.692Z"
   },
   {
    "duration": 10,
    "start_time": "2022-11-08T14:24:58.724Z"
   },
   {
    "duration": 39,
    "start_time": "2022-11-08T14:24:58.736Z"
   },
   {
    "duration": 50,
    "start_time": "2022-11-08T14:24:58.777Z"
   },
   {
    "duration": 25,
    "start_time": "2022-11-08T14:24:58.830Z"
   },
   {
    "duration": 7,
    "start_time": "2022-11-08T14:24:58.858Z"
   },
   {
    "duration": 131,
    "start_time": "2022-11-08T14:24:58.868Z"
   },
   {
    "duration": 24,
    "start_time": "2022-11-08T14:24:59.001Z"
   },
   {
    "duration": 21,
    "start_time": "2022-11-08T14:24:59.028Z"
   },
   {
    "duration": 12,
    "start_time": "2022-11-08T14:24:59.052Z"
   },
   {
    "duration": 29,
    "start_time": "2022-11-08T14:24:59.066Z"
   },
   {
    "duration": 22,
    "start_time": "2022-11-08T14:24:59.097Z"
   },
   {
    "duration": 12,
    "start_time": "2022-11-08T14:24:59.122Z"
   },
   {
    "duration": 10,
    "start_time": "2022-11-08T14:24:59.135Z"
   },
   {
    "duration": 10,
    "start_time": "2022-11-08T14:24:59.147Z"
   },
   {
    "duration": 10,
    "start_time": "2022-11-08T14:24:59.158Z"
   },
   {
    "duration": 6,
    "start_time": "2022-11-08T14:24:59.169Z"
   },
   {
    "duration": 10,
    "start_time": "2022-11-08T14:24:59.212Z"
   },
   {
    "duration": 11,
    "start_time": "2022-11-08T14:24:59.224Z"
   },
   {
    "duration": 1280,
    "start_time": "2022-11-08T15:51:47.806Z"
   },
   {
    "duration": 698,
    "start_time": "2022-11-08T15:51:50.194Z"
   },
   {
    "duration": 24,
    "start_time": "2022-11-08T15:51:50.945Z"
   },
   {
    "duration": 15,
    "start_time": "2022-11-08T15:51:51.407Z"
   },
   {
    "duration": 13,
    "start_time": "2022-11-08T15:51:53.073Z"
   },
   {
    "duration": 18,
    "start_time": "2022-11-08T15:51:54.143Z"
   },
   {
    "duration": 4,
    "start_time": "2022-11-08T15:51:54.636Z"
   },
   {
    "duration": 64,
    "start_time": "2022-11-08T15:51:55.073Z"
   },
   {
    "duration": 68,
    "start_time": "2022-11-08T15:51:55.416Z"
   },
   {
    "duration": 54,
    "start_time": "2022-11-08T15:51:55.870Z"
   },
   {
    "duration": 8,
    "start_time": "2022-11-08T15:51:56.692Z"
   },
   {
    "duration": 9,
    "start_time": "2022-11-08T15:51:57.134Z"
   },
   {
    "duration": 16,
    "start_time": "2022-11-08T15:51:58.118Z"
   },
   {
    "duration": 9,
    "start_time": "2022-11-08T15:51:58.309Z"
   },
   {
    "duration": 3,
    "start_time": "2022-11-08T15:52:00.523Z"
   },
   {
    "duration": 7,
    "start_time": "2022-11-08T15:52:01.289Z"
   },
   {
    "duration": 6,
    "start_time": "2022-11-08T15:52:01.958Z"
   },
   {
    "duration": 6,
    "start_time": "2022-11-08T15:52:02.660Z"
   },
   {
    "duration": 811,
    "start_time": "2022-11-08T15:52:03.231Z"
   },
   {
    "duration": 18,
    "start_time": "2022-11-08T15:52:04.045Z"
   },
   {
    "duration": 13,
    "start_time": "2022-11-08T15:52:04.147Z"
   },
   {
    "duration": 7,
    "start_time": "2022-11-08T15:52:05.598Z"
   },
   {
    "duration": 11,
    "start_time": "2022-11-08T15:52:06.893Z"
   },
   {
    "duration": 14,
    "start_time": "2022-11-08T15:52:08.018Z"
   },
   {
    "duration": 11,
    "start_time": "2022-11-08T15:52:14.934Z"
   },
   {
    "duration": 8,
    "start_time": "2022-11-08T15:52:16.545Z"
   },
   {
    "duration": 117,
    "start_time": "2022-11-08T15:52:18.097Z"
   },
   {
    "duration": 1131,
    "start_time": "2022-11-08T16:09:10.071Z"
   },
   {
    "duration": 737,
    "start_time": "2022-11-08T16:09:11.517Z"
   },
   {
    "duration": 25,
    "start_time": "2022-11-08T16:09:12.977Z"
   },
   {
    "duration": 20,
    "start_time": "2022-11-08T16:09:13.753Z"
   },
   {
    "duration": 12,
    "start_time": "2022-11-08T16:09:19.574Z"
   },
   {
    "duration": 12,
    "start_time": "2022-11-08T16:09:21.720Z"
   },
   {
    "duration": 3,
    "start_time": "2022-11-08T16:09:23.450Z"
   },
   {
    "duration": 56,
    "start_time": "2022-11-08T16:09:24.070Z"
   },
   {
    "duration": 79,
    "start_time": "2022-11-08T16:09:24.646Z"
   },
   {
    "duration": 45,
    "start_time": "2022-11-08T16:09:25.396Z"
   },
   {
    "duration": 8,
    "start_time": "2022-11-08T16:09:26.703Z"
   },
   {
    "duration": 7,
    "start_time": "2022-11-08T16:09:27.224Z"
   },
   {
    "duration": 21,
    "start_time": "2022-11-08T16:09:31.752Z"
   },
   {
    "duration": 25,
    "start_time": "2022-11-08T16:09:32.749Z"
   },
   {
    "duration": 3,
    "start_time": "2022-11-08T16:09:43.976Z"
   },
   {
    "duration": 5,
    "start_time": "2022-11-08T16:09:45.344Z"
   },
   {
    "duration": 5,
    "start_time": "2022-11-08T16:09:48.072Z"
   },
   {
    "duration": 9,
    "start_time": "2022-11-08T16:09:52.381Z"
   },
   {
    "duration": 676,
    "start_time": "2022-11-08T16:09:55.616Z"
   },
   {
    "duration": 17,
    "start_time": "2022-11-08T16:10:00.079Z"
   },
   {
    "duration": 10,
    "start_time": "2022-11-08T16:10:00.967Z"
   },
   {
    "duration": 5,
    "start_time": "2022-11-08T16:10:02.320Z"
   },
   {
    "duration": 46,
    "start_time": "2022-11-08T16:10:06.442Z"
   },
   {
    "duration": 16,
    "start_time": "2022-11-08T16:10:07.583Z"
   },
   {
    "duration": 10,
    "start_time": "2022-11-08T16:10:25.807Z"
   },
   {
    "duration": 7,
    "start_time": "2022-11-08T16:10:30.409Z"
   },
   {
    "duration": 22,
    "start_time": "2022-11-08T16:10:43.613Z"
   },
   {
    "duration": 51,
    "start_time": "2022-11-08T16:11:04.611Z"
   },
   {
    "duration": 10,
    "start_time": "2022-11-08T16:11:08.573Z"
   },
   {
    "duration": 96,
    "start_time": "2022-11-08T16:11:09.220Z"
   },
   {
    "duration": 8,
    "start_time": "2022-11-08T16:11:24.442Z"
   },
   {
    "duration": 4,
    "start_time": "2022-11-08T16:11:30.911Z"
   },
   {
    "duration": 6,
    "start_time": "2022-11-08T16:11:31.625Z"
   },
   {
    "duration": 10,
    "start_time": "2022-11-08T16:11:32.372Z"
   },
   {
    "duration": 595,
    "start_time": "2022-11-08T16:35:06.108Z"
   },
   {
    "duration": 144,
    "start_time": "2022-11-08T16:35:22.701Z"
   },
   {
    "duration": 107,
    "start_time": "2022-11-08T16:36:08.445Z"
   },
   {
    "duration": 141,
    "start_time": "2022-11-08T16:36:14.150Z"
   },
   {
    "duration": 103,
    "start_time": "2022-11-08T16:36:33.173Z"
   },
   {
    "duration": 92,
    "start_time": "2022-11-08T16:36:37.440Z"
   },
   {
    "duration": 14,
    "start_time": "2022-11-08T16:36:42.424Z"
   },
   {
    "duration": 7,
    "start_time": "2022-11-08T16:36:56.681Z"
   },
   {
    "duration": 3,
    "start_time": "2022-11-08T16:39:04.894Z"
   },
   {
    "duration": 4,
    "start_time": "2022-11-08T16:39:11.219Z"
   },
   {
    "duration": 8,
    "start_time": "2022-11-08T16:39:58.136Z"
   },
   {
    "duration": 137,
    "start_time": "2022-11-08T16:40:09.012Z"
   },
   {
    "duration": 408,
    "start_time": "2022-11-08T16:40:15.706Z"
   },
   {
    "duration": 221,
    "start_time": "2022-11-08T16:40:38.285Z"
   },
   {
    "duration": 10,
    "start_time": "2022-11-08T16:40:48.669Z"
   },
   {
    "duration": 95,
    "start_time": "2022-11-08T16:40:49.099Z"
   },
   {
    "duration": 114,
    "start_time": "2022-11-08T16:41:06.935Z"
   },
   {
    "duration": 115,
    "start_time": "2022-11-08T16:41:15.216Z"
   },
   {
    "duration": 26,
    "start_time": "2022-11-08T16:41:20.770Z"
   },
   {
    "duration": 3,
    "start_time": "2022-11-08T16:41:45.568Z"
   },
   {
    "duration": 6,
    "start_time": "2022-11-08T16:41:52.908Z"
   },
   {
    "duration": 81,
    "start_time": "2022-11-08T16:44:31.691Z"
   },
   {
    "duration": 4,
    "start_time": "2022-11-08T16:44:40.280Z"
   },
   {
    "duration": 3,
    "start_time": "2022-11-08T16:44:50.335Z"
   },
   {
    "duration": 4,
    "start_time": "2022-11-08T16:45:22.230Z"
   },
   {
    "duration": 4,
    "start_time": "2022-11-08T16:45:27.880Z"
   },
   {
    "duration": 3,
    "start_time": "2022-11-08T16:45:51.473Z"
   },
   {
    "duration": 5,
    "start_time": "2022-11-08T16:48:25.058Z"
   },
   {
    "duration": 38,
    "start_time": "2022-11-08T16:49:12.168Z"
   },
   {
    "duration": 4,
    "start_time": "2022-11-08T16:49:51.021Z"
   },
   {
    "duration": 4,
    "start_time": "2022-11-08T16:50:21.504Z"
   },
   {
    "duration": 101,
    "start_time": "2022-11-08T16:53:34.573Z"
   },
   {
    "duration": 11,
    "start_time": "2022-11-08T16:55:53.914Z"
   },
   {
    "duration": 21,
    "start_time": "2022-11-08T16:56:04.767Z"
   },
   {
    "duration": 9,
    "start_time": "2022-11-08T16:57:28.317Z"
   },
   {
    "duration": 95,
    "start_time": "2022-11-08T17:00:57.927Z"
   },
   {
    "duration": 208,
    "start_time": "2022-11-08T17:01:20.291Z"
   },
   {
    "duration": 8,
    "start_time": "2022-11-08T17:01:44.785Z"
   },
   {
    "duration": 19,
    "start_time": "2022-11-08T17:01:57.470Z"
   },
   {
    "duration": 8,
    "start_time": "2022-11-08T17:02:06.033Z"
   },
   {
    "duration": 12,
    "start_time": "2022-11-08T17:02:30.918Z"
   },
   {
    "duration": 14,
    "start_time": "2022-11-08T17:02:44.275Z"
   },
   {
    "duration": 1399,
    "start_time": "2022-11-08T17:03:15.537Z"
   },
   {
    "duration": 1389,
    "start_time": "2022-11-08T17:03:30.801Z"
   },
   {
    "duration": 12,
    "start_time": "2022-11-08T17:03:56.850Z"
   },
   {
    "duration": 20,
    "start_time": "2022-11-08T17:07:42.377Z"
   },
   {
    "duration": 14,
    "start_time": "2022-11-08T17:08:17.844Z"
   },
   {
    "duration": 13,
    "start_time": "2022-11-08T17:08:45.138Z"
   },
   {
    "duration": 14,
    "start_time": "2022-11-08T17:09:16.518Z"
   },
   {
    "duration": 3,
    "start_time": "2022-11-08T17:22:01.720Z"
   },
   {
    "duration": 15,
    "start_time": "2022-11-08T17:22:09.774Z"
   },
   {
    "duration": 3,
    "start_time": "2022-11-08T17:22:27.011Z"
   },
   {
    "duration": 14,
    "start_time": "2022-11-08T17:22:27.893Z"
   },
   {
    "duration": 18,
    "start_time": "2022-11-08T17:22:31.280Z"
   },
   {
    "duration": 8,
    "start_time": "2022-11-08T17:22:34.703Z"
   },
   {
    "duration": 30,
    "start_time": "2022-11-08T17:22:36.469Z"
   },
   {
    "duration": 62,
    "start_time": "2022-11-08T17:22:37.768Z"
   },
   {
    "duration": 12,
    "start_time": "2022-11-08T17:22:38.483Z"
   },
   {
    "duration": 165,
    "start_time": "2022-11-08T17:22:38.686Z"
   },
   {
    "duration": 8,
    "start_time": "2022-11-08T17:22:39.490Z"
   },
   {
    "duration": 4,
    "start_time": "2022-11-08T17:22:40.231Z"
   },
   {
    "duration": 6,
    "start_time": "2022-11-08T17:22:40.439Z"
   },
   {
    "duration": 9,
    "start_time": "2022-11-08T17:22:40.625Z"
   },
   {
    "duration": 3,
    "start_time": "2022-11-08T17:24:33.315Z"
   },
   {
    "duration": 140,
    "start_time": "2022-11-08T17:24:34.102Z"
   },
   {
    "duration": 22,
    "start_time": "2022-11-08T17:24:35.661Z"
   },
   {
    "duration": 26,
    "start_time": "2022-11-08T17:24:35.685Z"
   },
   {
    "duration": 9,
    "start_time": "2022-11-08T17:24:37.342Z"
   },
   {
    "duration": 18,
    "start_time": "2022-11-08T17:24:37.878Z"
   },
   {
    "duration": 4,
    "start_time": "2022-11-08T17:24:38.118Z"
   },
   {
    "duration": 54,
    "start_time": "2022-11-08T17:24:38.321Z"
   },
   {
    "duration": 60,
    "start_time": "2022-11-08T17:24:38.515Z"
   },
   {
    "duration": 45,
    "start_time": "2022-11-08T17:24:38.782Z"
   },
   {
    "duration": 8,
    "start_time": "2022-11-08T17:24:39.199Z"
   },
   {
    "duration": 8,
    "start_time": "2022-11-08T17:24:39.400Z"
   },
   {
    "duration": 33,
    "start_time": "2022-11-08T17:24:39.751Z"
   },
   {
    "duration": 8,
    "start_time": "2022-11-08T17:24:39.945Z"
   },
   {
    "duration": 3,
    "start_time": "2022-11-08T17:24:40.849Z"
   },
   {
    "duration": 6,
    "start_time": "2022-11-08T17:24:41.214Z"
   },
   {
    "duration": 5,
    "start_time": "2022-11-08T17:24:41.603Z"
   },
   {
    "duration": 9,
    "start_time": "2022-11-08T17:24:41.982Z"
   },
   {
    "duration": 695,
    "start_time": "2022-11-08T17:24:42.354Z"
   },
   {
    "duration": 27,
    "start_time": "2022-11-08T17:24:43.050Z"
   },
   {
    "duration": 7,
    "start_time": "2022-11-08T17:24:43.216Z"
   },
   {
    "duration": 5,
    "start_time": "2022-11-08T17:24:43.625Z"
   },
   {
    "duration": 20,
    "start_time": "2022-11-08T17:24:44.449Z"
   },
   {
    "duration": 4,
    "start_time": "2022-11-08T17:24:44.643Z"
   },
   {
    "duration": 15,
    "start_time": "2022-11-08T17:24:45.054Z"
   },
   {
    "duration": 12,
    "start_time": "2022-11-08T17:25:14.586Z"
   },
   {
    "duration": 12,
    "start_time": "2022-11-08T17:25:15.182Z"
   },
   {
    "duration": 25,
    "start_time": "2022-11-08T17:25:17.788Z"
   },
   {
    "duration": 56,
    "start_time": "2022-11-08T17:29:14.321Z"
   },
   {
    "duration": 9,
    "start_time": "2022-11-08T17:29:15.213Z"
   },
   {
    "duration": 104,
    "start_time": "2022-11-08T17:29:15.442Z"
   },
   {
    "duration": 9,
    "start_time": "2022-11-08T17:29:17.004Z"
   },
   {
    "duration": 4,
    "start_time": "2022-11-08T17:29:18.322Z"
   },
   {
    "duration": 6,
    "start_time": "2022-11-08T17:29:18.633Z"
   },
   {
    "duration": 20,
    "start_time": "2022-11-08T17:29:19.171Z"
   },
   {
    "duration": 7,
    "start_time": "2022-11-08T17:35:06.181Z"
   },
   {
    "duration": 10,
    "start_time": "2022-11-08T18:15:06.804Z"
   },
   {
    "duration": 326,
    "start_time": "2022-11-08T18:50:08.007Z"
   },
   {
    "duration": 1372,
    "start_time": "2022-11-08T18:59:46.936Z"
   },
   {
    "duration": 19,
    "start_time": "2022-11-08T19:00:02.517Z"
   },
   {
    "duration": 11,
    "start_time": "2022-11-08T19:00:10.995Z"
   },
   {
    "duration": 15,
    "start_time": "2022-11-08T19:10:55.938Z"
   },
   {
    "duration": 20,
    "start_time": "2022-11-08T19:19:13.956Z"
   },
   {
    "duration": 52,
    "start_time": "2022-11-08T19:23:32.384Z"
   },
   {
    "duration": 18,
    "start_time": "2022-11-08T19:25:26.465Z"
   },
   {
    "duration": 37,
    "start_time": "2022-11-08T19:25:46.205Z"
   },
   {
    "duration": 4,
    "start_time": "2022-11-08T19:31:41.410Z"
   },
   {
    "duration": 3,
    "start_time": "2022-11-08T19:31:46.583Z"
   },
   {
    "duration": 3,
    "start_time": "2022-11-08T19:32:06.788Z"
   },
   {
    "duration": 140,
    "start_time": "2022-11-08T19:32:06.792Z"
   },
   {
    "duration": 32,
    "start_time": "2022-11-08T19:32:06.933Z"
   },
   {
    "duration": 9,
    "start_time": "2022-11-08T19:32:06.969Z"
   },
   {
    "duration": 13,
    "start_time": "2022-11-08T19:32:06.980Z"
   },
   {
    "duration": 12,
    "start_time": "2022-11-08T19:32:06.995Z"
   },
   {
    "duration": 10,
    "start_time": "2022-11-08T19:32:07.009Z"
   },
   {
    "duration": 56,
    "start_time": "2022-11-08T19:32:07.020Z"
   },
   {
    "duration": 47,
    "start_time": "2022-11-08T19:32:07.077Z"
   },
   {
    "duration": 61,
    "start_time": "2022-11-08T19:32:07.126Z"
   },
   {
    "duration": 7,
    "start_time": "2022-11-08T19:32:07.188Z"
   },
   {
    "duration": 7,
    "start_time": "2022-11-08T19:32:07.196Z"
   },
   {
    "duration": 14,
    "start_time": "2022-11-08T19:32:07.205Z"
   },
   {
    "duration": 7,
    "start_time": "2022-11-08T19:32:07.220Z"
   },
   {
    "duration": 31,
    "start_time": "2022-11-08T19:32:07.229Z"
   },
   {
    "duration": 14,
    "start_time": "2022-11-08T19:32:07.261Z"
   },
   {
    "duration": 5,
    "start_time": "2022-11-08T19:32:07.277Z"
   },
   {
    "duration": 7,
    "start_time": "2022-11-08T19:32:07.283Z"
   },
   {
    "duration": 590,
    "start_time": "2022-11-08T19:32:07.291Z"
   },
   {
    "duration": 11,
    "start_time": "2022-11-08T19:32:07.882Z"
   },
   {
    "duration": 8,
    "start_time": "2022-11-08T19:32:07.894Z"
   },
   {
    "duration": 6,
    "start_time": "2022-11-08T19:32:07.904Z"
   },
   {
    "duration": 7,
    "start_time": "2022-11-08T19:32:07.912Z"
   },
   {
    "duration": 3,
    "start_time": "2022-11-08T19:32:07.920Z"
   },
   {
    "duration": 45,
    "start_time": "2022-11-08T19:32:07.925Z"
   },
   {
    "duration": 16,
    "start_time": "2022-11-08T19:32:07.972Z"
   },
   {
    "duration": 8,
    "start_time": "2022-11-08T19:32:07.989Z"
   },
   {
    "duration": 23,
    "start_time": "2022-11-08T19:32:08.000Z"
   },
   {
    "duration": 72,
    "start_time": "2022-11-08T19:32:08.024Z"
   },
   {
    "duration": 9,
    "start_time": "2022-11-08T19:32:08.097Z"
   },
   {
    "duration": 98,
    "start_time": "2022-11-08T19:32:08.107Z"
   },
   {
    "duration": 8,
    "start_time": "2022-11-08T19:32:08.207Z"
   },
   {
    "duration": 5,
    "start_time": "2022-11-08T19:32:08.216Z"
   },
   {
    "duration": 9,
    "start_time": "2022-11-08T19:32:08.223Z"
   },
   {
    "duration": 35,
    "start_time": "2022-11-08T19:32:08.233Z"
   },
   {
    "duration": 43,
    "start_time": "2022-11-08T19:32:08.270Z"
   },
   {
    "duration": 6,
    "start_time": "2022-11-08T19:32:08.315Z"
   },
   {
    "duration": 42,
    "start_time": "2022-11-08T19:32:08.322Z"
   },
   {
    "duration": 13,
    "start_time": "2022-11-08T19:32:08.367Z"
   },
   {
    "duration": 12,
    "start_time": "2022-11-08T19:32:08.381Z"
   },
   {
    "duration": 4,
    "start_time": "2022-11-08T19:32:08.394Z"
   },
   {
    "duration": 83,
    "start_time": "2022-11-08T19:32:08.399Z"
   },
   {
    "duration": 9,
    "start_time": "2022-11-08T19:32:08.483Z"
   },
   {
    "duration": 9,
    "start_time": "2022-11-08T19:32:08.494Z"
   },
   {
    "duration": 6,
    "start_time": "2022-11-08T19:32:08.505Z"
   },
   {
    "duration": 14,
    "start_time": "2022-11-08T19:32:08.512Z"
   },
   {
    "duration": 10,
    "start_time": "2022-11-08T19:32:08.534Z"
   },
   {
    "duration": 12,
    "start_time": "2022-11-08T19:32:08.558Z"
   },
   {
    "duration": 9,
    "start_time": "2022-11-08T19:32:08.572Z"
   },
   {
    "duration": 10,
    "start_time": "2022-11-08T19:32:08.582Z"
   },
   {
    "duration": 7,
    "start_time": "2022-11-08T19:32:08.593Z"
   },
   {
    "duration": 6,
    "start_time": "2022-11-08T19:32:08.602Z"
   },
   {
    "duration": 10,
    "start_time": "2022-11-08T19:32:08.610Z"
   },
   {
    "duration": 11,
    "start_time": "2022-11-08T19:32:08.621Z"
   },
   {
    "duration": 51,
    "start_time": "2022-11-08T19:34:08.850Z"
   },
   {
    "duration": 39,
    "start_time": "2022-11-08T19:35:05.254Z"
   },
   {
    "duration": 21,
    "start_time": "2022-11-08T19:42:13.713Z"
   },
   {
    "duration": 18,
    "start_time": "2022-11-08T19:42:38.592Z"
   },
   {
    "duration": 48,
    "start_time": "2022-11-08T19:43:15.670Z"
   },
   {
    "duration": 14,
    "start_time": "2022-11-08T19:43:47.268Z"
   },
   {
    "duration": 45,
    "start_time": "2022-11-08T19:45:32.300Z"
   },
   {
    "duration": 58,
    "start_time": "2022-11-08T19:46:24.014Z"
   },
   {
    "duration": 53,
    "start_time": "2022-11-08T19:46:37.723Z"
   },
   {
    "duration": 57,
    "start_time": "2022-11-08T19:46:54.815Z"
   },
   {
    "duration": 52,
    "start_time": "2022-11-08T19:47:06.819Z"
   },
   {
    "duration": 160,
    "start_time": "2022-11-08T19:48:06.027Z"
   },
   {
    "duration": 38,
    "start_time": "2022-11-08T19:50:03.110Z"
   },
   {
    "duration": 45,
    "start_time": "2022-11-08T19:50:41.329Z"
   },
   {
    "duration": 37,
    "start_time": "2022-11-08T19:50:46.370Z"
   },
   {
    "duration": 45,
    "start_time": "2022-11-08T19:52:15.894Z"
   },
   {
    "duration": 50,
    "start_time": "2022-11-08T19:53:42.641Z"
   },
   {
    "duration": 52,
    "start_time": "2022-11-08T19:54:59.246Z"
   },
   {
    "duration": 9,
    "start_time": "2022-11-08T19:56:46.523Z"
   },
   {
    "duration": 13,
    "start_time": "2022-11-08T19:56:51.967Z"
   },
   {
    "duration": 9,
    "start_time": "2022-11-08T19:56:52.323Z"
   },
   {
    "duration": 3,
    "start_time": "2022-11-08T19:57:02.072Z"
   },
   {
    "duration": 204,
    "start_time": "2022-11-08T19:57:02.077Z"
   },
   {
    "duration": 15,
    "start_time": "2022-11-08T19:57:02.282Z"
   },
   {
    "duration": 17,
    "start_time": "2022-11-08T19:57:02.299Z"
   },
   {
    "duration": 35,
    "start_time": "2022-11-08T19:57:02.317Z"
   },
   {
    "duration": 27,
    "start_time": "2022-11-08T19:57:02.353Z"
   },
   {
    "duration": 20,
    "start_time": "2022-11-08T19:57:02.382Z"
   },
   {
    "duration": 77,
    "start_time": "2022-11-08T19:57:02.403Z"
   },
   {
    "duration": 57,
    "start_time": "2022-11-08T19:57:02.482Z"
   },
   {
    "duration": 61,
    "start_time": "2022-11-08T19:57:02.541Z"
   },
   {
    "duration": 9,
    "start_time": "2022-11-08T19:57:02.604Z"
   },
   {
    "duration": 16,
    "start_time": "2022-11-08T19:57:02.615Z"
   },
   {
    "duration": 38,
    "start_time": "2022-11-08T19:57:02.633Z"
   },
   {
    "duration": 8,
    "start_time": "2022-11-08T19:57:02.673Z"
   },
   {
    "duration": 7,
    "start_time": "2022-11-08T19:57:02.683Z"
   },
   {
    "duration": 11,
    "start_time": "2022-11-08T19:57:02.692Z"
   },
   {
    "duration": 12,
    "start_time": "2022-11-08T19:57:02.704Z"
   },
   {
    "duration": 5,
    "start_time": "2022-11-08T19:57:02.717Z"
   },
   {
    "duration": 612,
    "start_time": "2022-11-08T19:57:02.723Z"
   },
   {
    "duration": 21,
    "start_time": "2022-11-08T19:57:03.337Z"
   },
   {
    "duration": 9,
    "start_time": "2022-11-08T19:57:03.360Z"
   },
   {
    "duration": 6,
    "start_time": "2022-11-08T19:57:03.371Z"
   },
   {
    "duration": 9,
    "start_time": "2022-11-08T19:57:03.379Z"
   },
   {
    "duration": 4,
    "start_time": "2022-11-08T19:57:03.390Z"
   },
   {
    "duration": 16,
    "start_time": "2022-11-08T19:57:03.395Z"
   },
   {
    "duration": 10,
    "start_time": "2022-11-08T19:57:03.412Z"
   },
   {
    "duration": 34,
    "start_time": "2022-11-08T19:57:03.424Z"
   },
   {
    "duration": 27,
    "start_time": "2022-11-08T19:57:03.459Z"
   },
   {
    "duration": 49,
    "start_time": "2022-11-08T19:57:03.487Z"
   },
   {
    "duration": 27,
    "start_time": "2022-11-08T19:57:03.537Z"
   },
   {
    "duration": 102,
    "start_time": "2022-11-08T19:57:03.566Z"
   },
   {
    "duration": 8,
    "start_time": "2022-11-08T19:57:03.670Z"
   },
   {
    "duration": 6,
    "start_time": "2022-11-08T19:57:03.679Z"
   },
   {
    "duration": 8,
    "start_time": "2022-11-08T19:57:03.687Z"
   },
   {
    "duration": 38,
    "start_time": "2022-11-08T19:57:03.696Z"
   },
   {
    "duration": 35,
    "start_time": "2022-11-08T19:57:03.735Z"
   },
   {
    "duration": 45,
    "start_time": "2022-11-08T19:57:03.771Z"
   },
   {
    "duration": 6,
    "start_time": "2022-11-08T19:57:03.817Z"
   },
   {
    "duration": 18,
    "start_time": "2022-11-08T19:57:03.825Z"
   },
   {
    "duration": 0,
    "start_time": "2022-11-08T19:57:03.844Z"
   },
   {
    "duration": 0,
    "start_time": "2022-11-08T19:57:03.845Z"
   },
   {
    "duration": 0,
    "start_time": "2022-11-08T19:57:03.846Z"
   },
   {
    "duration": 0,
    "start_time": "2022-11-08T19:57:03.846Z"
   },
   {
    "duration": 0,
    "start_time": "2022-11-08T19:57:03.860Z"
   },
   {
    "duration": 0,
    "start_time": "2022-11-08T19:57:03.861Z"
   },
   {
    "duration": 0,
    "start_time": "2022-11-08T19:57:03.862Z"
   },
   {
    "duration": 0,
    "start_time": "2022-11-08T19:57:03.862Z"
   },
   {
    "duration": 0,
    "start_time": "2022-11-08T19:57:03.863Z"
   },
   {
    "duration": 0,
    "start_time": "2022-11-08T19:57:03.863Z"
   },
   {
    "duration": 0,
    "start_time": "2022-11-08T19:57:03.864Z"
   },
   {
    "duration": 0,
    "start_time": "2022-11-08T19:57:03.864Z"
   },
   {
    "duration": 0,
    "start_time": "2022-11-08T19:57:03.867Z"
   },
   {
    "duration": 0,
    "start_time": "2022-11-08T19:57:03.868Z"
   },
   {
    "duration": 0,
    "start_time": "2022-11-08T19:57:03.869Z"
   },
   {
    "duration": 0,
    "start_time": "2022-11-08T19:57:03.870Z"
   },
   {
    "duration": 3,
    "start_time": "2022-11-08T19:57:24.413Z"
   },
   {
    "duration": 126,
    "start_time": "2022-11-08T19:57:25.164Z"
   },
   {
    "duration": 15,
    "start_time": "2022-11-08T19:57:25.939Z"
   },
   {
    "duration": 9,
    "start_time": "2022-11-08T19:57:26.329Z"
   },
   {
    "duration": 10,
    "start_time": "2022-11-08T19:57:27.903Z"
   },
   {
    "duration": 12,
    "start_time": "2022-11-08T19:57:28.917Z"
   },
   {
    "duration": 4,
    "start_time": "2022-11-08T19:57:29.166Z"
   },
   {
    "duration": 47,
    "start_time": "2022-11-08T19:57:29.471Z"
   },
   {
    "duration": 53,
    "start_time": "2022-11-08T19:57:29.767Z"
   },
   {
    "duration": 44,
    "start_time": "2022-11-08T19:57:30.086Z"
   },
   {
    "duration": 24,
    "start_time": "2022-11-08T19:57:30.646Z"
   },
   {
    "duration": 7,
    "start_time": "2022-11-08T19:57:31.033Z"
   },
   {
    "duration": 13,
    "start_time": "2022-11-08T19:57:31.809Z"
   },
   {
    "duration": 8,
    "start_time": "2022-11-08T19:57:32.209Z"
   },
   {
    "duration": 3,
    "start_time": "2022-11-08T19:57:34.044Z"
   },
   {
    "duration": 6,
    "start_time": "2022-11-08T19:57:34.469Z"
   },
   {
    "duration": 6,
    "start_time": "2022-11-08T19:57:34.993Z"
   },
   {
    "duration": 5,
    "start_time": "2022-11-08T19:57:35.345Z"
   },
   {
    "duration": 649,
    "start_time": "2022-11-08T19:57:35.736Z"
   },
   {
    "duration": 10,
    "start_time": "2022-11-08T19:57:36.895Z"
   },
   {
    "duration": 8,
    "start_time": "2022-11-08T19:57:37.366Z"
   },
   {
    "duration": 5,
    "start_time": "2022-11-08T19:57:38.204Z"
   },
   {
    "duration": 7,
    "start_time": "2022-11-08T19:57:38.668Z"
   },
   {
    "duration": 3,
    "start_time": "2022-11-08T19:57:38.897Z"
   },
   {
    "duration": 12,
    "start_time": "2022-11-08T19:57:39.890Z"
   },
   {
    "duration": 12,
    "start_time": "2022-11-08T19:57:50.766Z"
   },
   {
    "duration": 12,
    "start_time": "2022-11-08T19:57:51.548Z"
   },
   {
    "duration": 32,
    "start_time": "2022-11-08T19:57:53.311Z"
   },
   {
    "duration": 61,
    "start_time": "2022-11-08T19:57:54.262Z"
   },
   {
    "duration": 10,
    "start_time": "2022-11-08T19:57:54.664Z"
   },
   {
    "duration": 112,
    "start_time": "2022-11-08T19:57:55.388Z"
   },
   {
    "duration": 8,
    "start_time": "2022-11-08T19:57:56.736Z"
   },
   {
    "duration": 3,
    "start_time": "2022-11-08T19:57:58.110Z"
   },
   {
    "duration": 7,
    "start_time": "2022-11-08T19:57:58.802Z"
   },
   {
    "duration": 43,
    "start_time": "2022-11-08T19:58:30.599Z"
   },
   {
    "duration": 14,
    "start_time": "2022-11-08T19:58:41.990Z"
   },
   {
    "duration": 64,
    "start_time": "2022-11-08T19:58:51.038Z"
   },
   {
    "duration": 10,
    "start_time": "2022-11-08T20:07:43.782Z"
   },
   {
    "duration": 1213,
    "start_time": "2022-11-08T20:08:08.134Z"
   },
   {
    "duration": 1121,
    "start_time": "2022-11-08T20:11:15.939Z"
   },
   {
    "duration": 10,
    "start_time": "2022-11-08T20:12:26.022Z"
   },
   {
    "duration": 11,
    "start_time": "2022-11-08T20:12:32.597Z"
   },
   {
    "duration": 1095,
    "start_time": "2022-11-08T20:12:52.693Z"
   },
   {
    "duration": 16,
    "start_time": "2022-11-08T20:20:19.536Z"
   },
   {
    "duration": 12,
    "start_time": "2022-11-08T20:20:26.923Z"
   },
   {
    "duration": 3,
    "start_time": "2022-11-08T20:20:43.966Z"
   },
   {
    "duration": 127,
    "start_time": "2022-11-08T20:20:43.971Z"
   },
   {
    "duration": 16,
    "start_time": "2022-11-08T20:20:44.099Z"
   },
   {
    "duration": 8,
    "start_time": "2022-11-08T20:20:44.117Z"
   },
   {
    "duration": 11,
    "start_time": "2022-11-08T20:20:44.126Z"
   },
   {
    "duration": 25,
    "start_time": "2022-11-08T20:20:44.138Z"
   },
   {
    "duration": 4,
    "start_time": "2022-11-08T20:20:44.165Z"
   },
   {
    "duration": 50,
    "start_time": "2022-11-08T20:20:44.170Z"
   },
   {
    "duration": 79,
    "start_time": "2022-11-08T20:20:44.224Z"
   },
   {
    "duration": 54,
    "start_time": "2022-11-08T20:20:44.304Z"
   },
   {
    "duration": 7,
    "start_time": "2022-11-08T20:20:44.360Z"
   },
   {
    "duration": 9,
    "start_time": "2022-11-08T20:20:44.368Z"
   },
   {
    "duration": 15,
    "start_time": "2022-11-08T20:20:44.379Z"
   },
   {
    "duration": 8,
    "start_time": "2022-11-08T20:20:44.395Z"
   },
   {
    "duration": 5,
    "start_time": "2022-11-08T20:20:44.404Z"
   },
   {
    "duration": 7,
    "start_time": "2022-11-08T20:20:44.410Z"
   },
   {
    "duration": 6,
    "start_time": "2022-11-08T20:20:44.418Z"
   },
   {
    "duration": 30,
    "start_time": "2022-11-08T20:20:44.425Z"
   },
   {
    "duration": 563,
    "start_time": "2022-11-08T20:20:44.457Z"
   },
   {
    "duration": 10,
    "start_time": "2022-11-08T20:20:45.022Z"
   },
   {
    "duration": 20,
    "start_time": "2022-11-08T20:20:45.034Z"
   },
   {
    "duration": 6,
    "start_time": "2022-11-08T20:20:45.056Z"
   },
   {
    "duration": 11,
    "start_time": "2022-11-08T20:20:45.063Z"
   },
   {
    "duration": 4,
    "start_time": "2022-11-08T20:20:45.077Z"
   },
   {
    "duration": 13,
    "start_time": "2022-11-08T20:20:45.082Z"
   },
   {
    "duration": 9,
    "start_time": "2022-11-08T20:20:45.096Z"
   },
   {
    "duration": 140,
    "start_time": "2022-11-08T20:20:45.106Z"
   },
   {
    "duration": 27,
    "start_time": "2022-11-08T20:20:45.254Z"
   },
   {
    "duration": 51,
    "start_time": "2022-11-08T20:20:45.283Z"
   },
   {
    "duration": 21,
    "start_time": "2022-11-08T20:20:45.335Z"
   },
   {
    "duration": 81,
    "start_time": "2022-11-08T20:20:45.357Z"
   },
   {
    "duration": 20,
    "start_time": "2022-11-08T20:20:45.439Z"
   },
   {
    "duration": 5,
    "start_time": "2022-11-08T20:20:45.461Z"
   },
   {
    "duration": 9,
    "start_time": "2022-11-08T20:20:45.467Z"
   },
   {
    "duration": 38,
    "start_time": "2022-11-08T20:20:45.478Z"
   },
   {
    "duration": 11,
    "start_time": "2022-11-08T20:20:45.517Z"
   },
   {
    "duration": 10,
    "start_time": "2022-11-08T20:20:45.555Z"
   },
   {
    "duration": 50,
    "start_time": "2022-11-08T20:20:45.566Z"
   },
   {
    "duration": 7,
    "start_time": "2022-11-08T20:20:45.617Z"
   },
   {
    "duration": 15,
    "start_time": "2022-11-08T20:20:45.625Z"
   },
   {
    "duration": 0,
    "start_time": "2022-11-08T20:20:45.655Z"
   },
   {
    "duration": 0,
    "start_time": "2022-11-08T20:20:45.656Z"
   },
   {
    "duration": 0,
    "start_time": "2022-11-08T20:20:45.657Z"
   },
   {
    "duration": 0,
    "start_time": "2022-11-08T20:20:45.659Z"
   },
   {
    "duration": 0,
    "start_time": "2022-11-08T20:20:45.660Z"
   },
   {
    "duration": 0,
    "start_time": "2022-11-08T20:20:45.662Z"
   },
   {
    "duration": 0,
    "start_time": "2022-11-08T20:20:45.669Z"
   },
   {
    "duration": 0,
    "start_time": "2022-11-08T20:20:45.670Z"
   },
   {
    "duration": 0,
    "start_time": "2022-11-08T20:20:45.671Z"
   },
   {
    "duration": 0,
    "start_time": "2022-11-08T20:20:45.680Z"
   },
   {
    "duration": 0,
    "start_time": "2022-11-08T20:20:45.681Z"
   },
   {
    "duration": 0,
    "start_time": "2022-11-08T20:20:45.683Z"
   },
   {
    "duration": 0,
    "start_time": "2022-11-08T20:20:45.684Z"
   },
   {
    "duration": 0,
    "start_time": "2022-11-08T20:20:45.685Z"
   },
   {
    "duration": 0,
    "start_time": "2022-11-08T20:20:45.687Z"
   },
   {
    "duration": 0,
    "start_time": "2022-11-08T20:20:45.688Z"
   },
   {
    "duration": 10,
    "start_time": "2022-11-08T20:20:58.819Z"
   },
   {
    "duration": 16,
    "start_time": "2022-11-08T20:21:01.461Z"
   },
   {
    "duration": 11,
    "start_time": "2022-11-08T20:21:23.051Z"
   },
   {
    "duration": 15,
    "start_time": "2022-11-08T20:21:27.713Z"
   },
   {
    "duration": 4,
    "start_time": "2022-11-08T20:21:44.635Z"
   },
   {
    "duration": 127,
    "start_time": "2022-11-08T20:21:45.304Z"
   },
   {
    "duration": 18,
    "start_time": "2022-11-08T20:21:46.004Z"
   },
   {
    "duration": 10,
    "start_time": "2022-11-08T20:21:46.557Z"
   },
   {
    "duration": 11,
    "start_time": "2022-11-08T20:21:47.880Z"
   },
   {
    "duration": 17,
    "start_time": "2022-11-08T20:21:48.996Z"
   },
   {
    "duration": 4,
    "start_time": "2022-11-08T20:21:49.266Z"
   },
   {
    "duration": 51,
    "start_time": "2022-11-08T20:21:49.678Z"
   },
   {
    "duration": 53,
    "start_time": "2022-11-08T20:21:50.058Z"
   },
   {
    "duration": 43,
    "start_time": "2022-11-08T20:21:50.387Z"
   },
   {
    "duration": 8,
    "start_time": "2022-11-08T20:21:51.033Z"
   },
   {
    "duration": 7,
    "start_time": "2022-11-08T20:21:51.277Z"
   },
   {
    "duration": 13,
    "start_time": "2022-11-08T20:21:52.198Z"
   },
   {
    "duration": 8,
    "start_time": "2022-11-08T20:21:52.589Z"
   },
   {
    "duration": 3,
    "start_time": "2022-11-08T20:21:54.100Z"
   },
   {
    "duration": 5,
    "start_time": "2022-11-08T20:21:54.942Z"
   },
   {
    "duration": 5,
    "start_time": "2022-11-08T20:21:55.752Z"
   },
   {
    "duration": 5,
    "start_time": "2022-11-08T20:21:56.292Z"
   },
   {
    "duration": 538,
    "start_time": "2022-11-08T20:21:56.699Z"
   },
   {
    "duration": 10,
    "start_time": "2022-11-08T20:21:57.788Z"
   },
   {
    "duration": 8,
    "start_time": "2022-11-08T20:21:58.039Z"
   },
   {
    "duration": 6,
    "start_time": "2022-11-08T20:21:58.634Z"
   },
   {
    "duration": 9,
    "start_time": "2022-11-08T20:21:59.089Z"
   },
   {
    "duration": 3,
    "start_time": "2022-11-08T20:21:59.390Z"
   },
   {
    "duration": 11,
    "start_time": "2022-11-08T20:22:00.341Z"
   },
   {
    "duration": 12,
    "start_time": "2022-11-08T20:22:02.741Z"
   },
   {
    "duration": 8,
    "start_time": "2022-11-08T20:22:04.654Z"
   },
   {
    "duration": 31,
    "start_time": "2022-11-08T20:22:07.560Z"
   },
   {
    "duration": 52,
    "start_time": "2022-11-08T20:22:10.909Z"
   },
   {
    "duration": 10,
    "start_time": "2022-11-08T20:22:12.888Z"
   },
   {
    "duration": 129,
    "start_time": "2022-11-08T20:22:14.258Z"
   },
   {
    "duration": 11,
    "start_time": "2022-11-08T20:22:16.999Z"
   },
   {
    "duration": 5,
    "start_time": "2022-11-08T20:22:22.931Z"
   },
   {
    "duration": 8,
    "start_time": "2022-11-08T20:22:23.191Z"
   },
   {
    "duration": 39,
    "start_time": "2022-11-08T20:22:26.405Z"
   },
   {
    "duration": 9,
    "start_time": "2022-11-08T20:22:33.480Z"
   },
   {
    "duration": 24,
    "start_time": "2022-11-08T20:22:38.289Z"
   },
   {
    "duration": 44,
    "start_time": "2022-11-08T20:22:39.217Z"
   },
   {
    "duration": 11,
    "start_time": "2022-11-08T20:22:52.461Z"
   },
   {
    "duration": 16,
    "start_time": "2022-11-08T20:22:55.550Z"
   },
   {
    "duration": 38,
    "start_time": "2022-11-08T20:23:31.485Z"
   },
   {
    "duration": 37,
    "start_time": "2022-11-08T20:23:32.640Z"
   },
   {
    "duration": 13,
    "start_time": "2022-11-08T20:23:53.767Z"
   },
   {
    "duration": 28,
    "start_time": "2022-11-08T20:24:14.777Z"
   },
   {
    "duration": 27,
    "start_time": "2022-11-08T20:24:15.361Z"
   },
   {
    "duration": 5,
    "start_time": "2022-11-08T20:24:15.799Z"
   },
   {
    "duration": 12,
    "start_time": "2022-11-08T20:24:17.508Z"
   },
   {
    "duration": 3,
    "start_time": "2022-11-08T20:24:27.133Z"
   },
   {
    "duration": 143,
    "start_time": "2022-11-08T20:24:27.864Z"
   },
   {
    "duration": 23,
    "start_time": "2022-11-08T20:24:29.106Z"
   },
   {
    "duration": 13,
    "start_time": "2022-11-08T20:24:29.485Z"
   },
   {
    "duration": 12,
    "start_time": "2022-11-08T20:24:30.615Z"
   },
   {
    "duration": 14,
    "start_time": "2022-11-08T20:24:31.224Z"
   },
   {
    "duration": 5,
    "start_time": "2022-11-08T20:24:31.459Z"
   },
   {
    "duration": 67,
    "start_time": "2022-11-08T20:24:31.683Z"
   },
   {
    "duration": 47,
    "start_time": "2022-11-08T20:24:32.187Z"
   },
   {
    "duration": 51,
    "start_time": "2022-11-08T20:24:32.436Z"
   },
   {
    "duration": 8,
    "start_time": "2022-11-08T20:24:32.856Z"
   },
   {
    "duration": 8,
    "start_time": "2022-11-08T20:24:33.076Z"
   },
   {
    "duration": 14,
    "start_time": "2022-11-08T20:24:33.732Z"
   },
   {
    "duration": 9,
    "start_time": "2022-11-08T20:24:33.981Z"
   },
   {
    "duration": 4,
    "start_time": "2022-11-08T20:24:35.858Z"
   },
   {
    "duration": 6,
    "start_time": "2022-11-08T20:24:36.699Z"
   },
   {
    "duration": 5,
    "start_time": "2022-11-08T20:24:37.570Z"
   },
   {
    "duration": 5,
    "start_time": "2022-11-08T20:24:38.324Z"
   },
   {
    "duration": 750,
    "start_time": "2022-11-08T20:24:39.151Z"
   },
   {
    "duration": 14,
    "start_time": "2022-11-08T20:24:41.324Z"
   },
   {
    "duration": 11,
    "start_time": "2022-11-08T20:24:41.615Z"
   },
   {
    "duration": 6,
    "start_time": "2022-11-08T20:24:42.116Z"
   },
   {
    "duration": 11,
    "start_time": "2022-11-08T20:24:42.665Z"
   },
   {
    "duration": 4,
    "start_time": "2022-11-08T20:24:42.973Z"
   },
   {
    "duration": 15,
    "start_time": "2022-11-08T20:24:43.689Z"
   },
   {
    "duration": 14,
    "start_time": "2022-11-08T20:24:45.593Z"
   },
   {
    "duration": 10,
    "start_time": "2022-11-08T20:24:47.001Z"
   },
   {
    "duration": 23,
    "start_time": "2022-11-08T20:24:48.813Z"
   },
   {
    "duration": 62,
    "start_time": "2022-11-08T20:24:54.518Z"
   },
   {
    "duration": 11,
    "start_time": "2022-11-08T20:24:57.073Z"
   },
   {
    "duration": 46,
    "start_time": "2022-11-08T20:25:03.815Z"
   },
   {
    "duration": 10,
    "start_time": "2022-11-08T20:25:04.764Z"
   },
   {
    "duration": 78,
    "start_time": "2022-11-08T20:25:05.025Z"
   },
   {
    "duration": 9,
    "start_time": "2022-11-08T20:25:06.301Z"
   },
   {
    "duration": 3,
    "start_time": "2022-11-08T20:25:07.728Z"
   },
   {
    "duration": 7,
    "start_time": "2022-11-08T20:25:08.393Z"
   },
   {
    "duration": 38,
    "start_time": "2022-11-08T20:25:09.336Z"
   },
   {
    "duration": 10,
    "start_time": "2022-11-08T20:25:11.075Z"
   },
   {
    "duration": 12,
    "start_time": "2022-11-08T20:25:18.133Z"
   },
   {
    "duration": 51,
    "start_time": "2022-11-08T20:25:19.656Z"
   },
   {
    "duration": 8,
    "start_time": "2022-11-08T20:25:27.629Z"
   },
   {
    "duration": 12,
    "start_time": "2022-11-08T20:25:39.382Z"
   },
   {
    "duration": 13,
    "start_time": "2022-11-08T20:25:48.187Z"
   },
   {
    "duration": 12,
    "start_time": "2022-11-08T20:26:02.166Z"
   },
   {
    "duration": 3,
    "start_time": "2022-11-08T20:26:07.398Z"
   },
   {
    "duration": 130,
    "start_time": "2022-11-08T20:26:07.403Z"
   },
   {
    "duration": 22,
    "start_time": "2022-11-08T20:26:07.534Z"
   },
   {
    "duration": 8,
    "start_time": "2022-11-08T20:26:07.557Z"
   },
   {
    "duration": 13,
    "start_time": "2022-11-08T20:26:07.567Z"
   },
   {
    "duration": 11,
    "start_time": "2022-11-08T20:26:07.581Z"
   },
   {
    "duration": 6,
    "start_time": "2022-11-08T20:26:07.593Z"
   },
   {
    "duration": 74,
    "start_time": "2022-11-08T20:26:07.600Z"
   },
   {
    "duration": 46,
    "start_time": "2022-11-08T20:26:07.676Z"
   },
   {
    "duration": 57,
    "start_time": "2022-11-08T20:26:07.725Z"
   },
   {
    "duration": 8,
    "start_time": "2022-11-08T20:26:07.783Z"
   },
   {
    "duration": 7,
    "start_time": "2022-11-08T20:26:07.793Z"
   },
   {
    "duration": 18,
    "start_time": "2022-11-08T20:26:07.801Z"
   },
   {
    "duration": 7,
    "start_time": "2022-11-08T20:26:07.821Z"
   },
   {
    "duration": 3,
    "start_time": "2022-11-08T20:26:07.855Z"
   },
   {
    "duration": 7,
    "start_time": "2022-11-08T20:26:07.859Z"
   },
   {
    "duration": 5,
    "start_time": "2022-11-08T20:26:07.867Z"
   },
   {
    "duration": 5,
    "start_time": "2022-11-08T20:26:07.873Z"
   },
   {
    "duration": 576,
    "start_time": "2022-11-08T20:26:07.879Z"
   },
   {
    "duration": 11,
    "start_time": "2022-11-08T20:26:08.456Z"
   },
   {
    "duration": 7,
    "start_time": "2022-11-08T20:26:08.469Z"
   },
   {
    "duration": 6,
    "start_time": "2022-11-08T20:26:08.478Z"
   },
   {
    "duration": 8,
    "start_time": "2022-11-08T20:26:08.485Z"
   },
   {
    "duration": 3,
    "start_time": "2022-11-08T20:26:08.494Z"
   },
   {
    "duration": 11,
    "start_time": "2022-11-08T20:26:08.498Z"
   },
   {
    "duration": 45,
    "start_time": "2022-11-08T20:26:08.511Z"
   },
   {
    "duration": 7,
    "start_time": "2022-11-08T20:26:08.558Z"
   },
   {
    "duration": 22,
    "start_time": "2022-11-08T20:26:08.568Z"
   },
   {
    "duration": 77,
    "start_time": "2022-11-08T20:26:08.592Z"
   },
   {
    "duration": 10,
    "start_time": "2022-11-08T20:26:08.671Z"
   },
   {
    "duration": 94,
    "start_time": "2022-11-08T20:26:08.683Z"
   },
   {
    "duration": 8,
    "start_time": "2022-11-08T20:26:08.778Z"
   },
   {
    "duration": 5,
    "start_time": "2022-11-08T20:26:08.788Z"
   },
   {
    "duration": 8,
    "start_time": "2022-11-08T20:26:08.795Z"
   },
   {
    "duration": 165,
    "start_time": "2022-11-08T20:26:08.805Z"
   },
   {
    "duration": 8,
    "start_time": "2022-11-08T20:26:08.971Z"
   },
   {
    "duration": 13,
    "start_time": "2022-11-08T20:26:08.980Z"
   },
   {
    "duration": 63,
    "start_time": "2022-11-08T20:26:08.994Z"
   },
   {
    "duration": 7,
    "start_time": "2022-11-08T20:26:09.058Z"
   },
   {
    "duration": 14,
    "start_time": "2022-11-08T20:26:09.066Z"
   },
   {
    "duration": 12,
    "start_time": "2022-11-08T20:26:12.118Z"
   },
   {
    "duration": 12,
    "start_time": "2022-11-08T20:26:16.932Z"
   },
   {
    "duration": 1064,
    "start_time": "2022-11-08T20:26:31.101Z"
   },
   {
    "duration": 139,
    "start_time": "2022-11-08T20:26:32.167Z"
   },
   {
    "duration": 26,
    "start_time": "2022-11-08T20:26:32.308Z"
   },
   {
    "duration": 28,
    "start_time": "2022-11-08T20:26:32.336Z"
   },
   {
    "duration": 13,
    "start_time": "2022-11-08T20:26:32.366Z"
   },
   {
    "duration": 17,
    "start_time": "2022-11-08T20:26:32.381Z"
   },
   {
    "duration": 9,
    "start_time": "2022-11-08T20:26:32.400Z"
   },
   {
    "duration": 92,
    "start_time": "2022-11-08T20:26:32.411Z"
   },
   {
    "duration": 82,
    "start_time": "2022-11-08T20:26:32.505Z"
   },
   {
    "duration": 56,
    "start_time": "2022-11-08T20:26:32.590Z"
   },
   {
    "duration": 9,
    "start_time": "2022-11-08T20:26:32.655Z"
   },
   {
    "duration": 8,
    "start_time": "2022-11-08T20:26:32.665Z"
   },
   {
    "duration": 19,
    "start_time": "2022-11-08T20:26:32.675Z"
   },
   {
    "duration": 7,
    "start_time": "2022-11-08T20:26:32.695Z"
   },
   {
    "duration": 12,
    "start_time": "2022-11-08T20:26:32.703Z"
   },
   {
    "duration": 8,
    "start_time": "2022-11-08T20:26:32.716Z"
   },
   {
    "duration": 9,
    "start_time": "2022-11-08T20:26:32.725Z"
   },
   {
    "duration": 20,
    "start_time": "2022-11-08T20:26:32.736Z"
   },
   {
    "duration": 681,
    "start_time": "2022-11-08T20:26:32.758Z"
   },
   {
    "duration": 21,
    "start_time": "2022-11-08T20:26:33.440Z"
   },
   {
    "duration": 8,
    "start_time": "2022-11-08T20:26:33.463Z"
   },
   {
    "duration": 9,
    "start_time": "2022-11-08T20:26:33.472Z"
   },
   {
    "duration": 11,
    "start_time": "2022-11-08T20:26:33.482Z"
   },
   {
    "duration": 3,
    "start_time": "2022-11-08T20:26:33.494Z"
   },
   {
    "duration": 19,
    "start_time": "2022-11-08T20:26:33.499Z"
   },
   {
    "duration": 13,
    "start_time": "2022-11-08T20:26:33.520Z"
   },
   {
    "duration": 25,
    "start_time": "2022-11-08T20:26:33.534Z"
   },
   {
    "duration": 28,
    "start_time": "2022-11-08T20:26:33.563Z"
   },
   {
    "duration": 51,
    "start_time": "2022-11-08T20:26:33.592Z"
   },
   {
    "duration": 12,
    "start_time": "2022-11-08T20:26:33.655Z"
   },
   {
    "duration": 95,
    "start_time": "2022-11-08T20:26:33.669Z"
   },
   {
    "duration": 8,
    "start_time": "2022-11-08T20:26:33.766Z"
   },
   {
    "duration": 19,
    "start_time": "2022-11-08T20:26:33.776Z"
   },
   {
    "duration": 11,
    "start_time": "2022-11-08T20:26:33.797Z"
   },
   {
    "duration": 387,
    "start_time": "2022-11-08T20:26:33.810Z"
   },
   {
    "duration": 201,
    "start_time": "2022-11-08T20:26:34.199Z"
   },
   {
    "duration": 0,
    "start_time": "2022-11-08T20:26:34.402Z"
   },
   {
    "duration": 0,
    "start_time": "2022-11-08T20:26:34.403Z"
   },
   {
    "duration": 0,
    "start_time": "2022-11-08T20:26:34.404Z"
   },
   {
    "duration": 0,
    "start_time": "2022-11-08T20:26:34.406Z"
   },
   {
    "duration": 0,
    "start_time": "2022-11-08T20:26:34.407Z"
   },
   {
    "duration": 0,
    "start_time": "2022-11-08T20:26:34.408Z"
   },
   {
    "duration": 0,
    "start_time": "2022-11-08T20:26:34.410Z"
   },
   {
    "duration": 0,
    "start_time": "2022-11-08T20:26:34.411Z"
   },
   {
    "duration": 0,
    "start_time": "2022-11-08T20:26:34.412Z"
   },
   {
    "duration": 0,
    "start_time": "2022-11-08T20:26:34.414Z"
   },
   {
    "duration": 0,
    "start_time": "2022-11-08T20:26:34.415Z"
   },
   {
    "duration": 0,
    "start_time": "2022-11-08T20:26:34.416Z"
   },
   {
    "duration": 0,
    "start_time": "2022-11-08T20:26:34.418Z"
   },
   {
    "duration": 0,
    "start_time": "2022-11-08T20:26:34.419Z"
   },
   {
    "duration": 0,
    "start_time": "2022-11-08T20:26:34.420Z"
   },
   {
    "duration": 0,
    "start_time": "2022-11-08T20:26:34.455Z"
   },
   {
    "duration": 0,
    "start_time": "2022-11-08T20:26:34.456Z"
   },
   {
    "duration": 0,
    "start_time": "2022-11-08T20:26:34.458Z"
   },
   {
    "duration": 0,
    "start_time": "2022-11-08T20:26:34.459Z"
   },
   {
    "duration": 0,
    "start_time": "2022-11-08T20:26:34.460Z"
   },
   {
    "duration": 3,
    "start_time": "2022-11-08T20:27:14.677Z"
   },
   {
    "duration": 125,
    "start_time": "2022-11-08T20:27:15.184Z"
   },
   {
    "duration": 16,
    "start_time": "2022-11-08T20:27:22.317Z"
   },
   {
    "duration": 9,
    "start_time": "2022-11-08T20:27:22.739Z"
   },
   {
    "duration": 10,
    "start_time": "2022-11-08T20:27:23.955Z"
   },
   {
    "duration": 12,
    "start_time": "2022-11-08T20:27:24.855Z"
   },
   {
    "duration": 3,
    "start_time": "2022-11-08T20:27:25.035Z"
   },
   {
    "duration": 47,
    "start_time": "2022-11-08T20:27:25.249Z"
   },
   {
    "duration": 59,
    "start_time": "2022-11-08T20:27:25.459Z"
   },
   {
    "duration": 45,
    "start_time": "2022-11-08T20:27:25.661Z"
   },
   {
    "duration": 9,
    "start_time": "2022-11-08T20:27:26.289Z"
   },
   {
    "duration": 7,
    "start_time": "2022-11-08T20:27:26.496Z"
   },
   {
    "duration": 13,
    "start_time": "2022-11-08T20:27:27.563Z"
   },
   {
    "duration": 8,
    "start_time": "2022-11-08T20:27:27.861Z"
   },
   {
    "duration": 3,
    "start_time": "2022-11-08T20:27:29.441Z"
   },
   {
    "duration": 7,
    "start_time": "2022-11-08T20:27:30.042Z"
   },
   {
    "duration": 5,
    "start_time": "2022-11-08T20:27:30.418Z"
   },
   {
    "duration": 6,
    "start_time": "2022-11-08T20:27:31.018Z"
   },
   {
    "duration": 580,
    "start_time": "2022-11-08T20:27:31.413Z"
   },
   {
    "duration": 16,
    "start_time": "2022-11-08T20:27:31.995Z"
   },
   {
    "duration": 7,
    "start_time": "2022-11-08T20:27:32.058Z"
   },
   {
    "duration": 6,
    "start_time": "2022-11-08T20:27:32.963Z"
   },
   {
    "duration": 7,
    "start_time": "2022-11-08T20:27:33.538Z"
   },
   {
    "duration": 4,
    "start_time": "2022-11-08T20:27:33.759Z"
   },
   {
    "duration": 11,
    "start_time": "2022-11-08T20:27:34.212Z"
   },
   {
    "duration": 13,
    "start_time": "2022-11-08T20:27:36.418Z"
   },
   {
    "duration": 9,
    "start_time": "2022-11-08T20:27:37.807Z"
   },
   {
    "duration": 23,
    "start_time": "2022-11-08T20:27:40.434Z"
   },
   {
    "duration": 49,
    "start_time": "2022-11-08T20:27:46.616Z"
   },
   {
    "duration": 11,
    "start_time": "2022-11-08T20:27:47.885Z"
   },
   {
    "duration": 80,
    "start_time": "2022-11-08T20:27:48.431Z"
   },
   {
    "duration": 10,
    "start_time": "2022-11-08T20:27:49.619Z"
   },
   {
    "duration": 4,
    "start_time": "2022-11-08T20:27:50.976Z"
   },
   {
    "duration": 7,
    "start_time": "2022-11-08T20:27:51.541Z"
   },
   {
    "duration": 38,
    "start_time": "2022-11-08T20:27:52.787Z"
   },
   {
    "duration": 10,
    "start_time": "2022-11-08T20:27:53.447Z"
   },
   {
    "duration": 11,
    "start_time": "2022-11-08T20:27:54.993Z"
   },
   {
    "duration": 51,
    "start_time": "2022-11-08T20:27:56.389Z"
   },
   {
    "duration": 8,
    "start_time": "2022-11-08T20:28:02.692Z"
   },
   {
    "duration": 20,
    "start_time": "2022-11-08T20:28:05.933Z"
   },
   {
    "duration": 16,
    "start_time": "2022-11-08T20:29:20.325Z"
   },
   {
    "duration": 1139,
    "start_time": "2022-11-08T20:30:20.780Z"
   },
   {
    "duration": 163,
    "start_time": "2022-11-08T20:30:21.921Z"
   },
   {
    "duration": 20,
    "start_time": "2022-11-08T20:30:22.086Z"
   },
   {
    "duration": 13,
    "start_time": "2022-11-08T20:30:22.108Z"
   },
   {
    "duration": 33,
    "start_time": "2022-11-08T20:30:22.123Z"
   },
   {
    "duration": 14,
    "start_time": "2022-11-08T20:30:22.158Z"
   },
   {
    "duration": 3,
    "start_time": "2022-11-08T20:30:22.174Z"
   },
   {
    "duration": 83,
    "start_time": "2022-11-08T20:30:22.178Z"
   },
   {
    "duration": 74,
    "start_time": "2022-11-08T20:30:22.262Z"
   },
   {
    "duration": 69,
    "start_time": "2022-11-08T20:30:22.339Z"
   },
   {
    "duration": 10,
    "start_time": "2022-11-08T20:30:22.410Z"
   },
   {
    "duration": 29,
    "start_time": "2022-11-08T20:30:22.422Z"
   },
   {
    "duration": 27,
    "start_time": "2022-11-08T20:30:22.453Z"
   },
   {
    "duration": 12,
    "start_time": "2022-11-08T20:30:22.483Z"
   },
   {
    "duration": 10,
    "start_time": "2022-11-08T20:30:22.498Z"
   },
   {
    "duration": 16,
    "start_time": "2022-11-08T20:30:22.510Z"
   },
   {
    "duration": 20,
    "start_time": "2022-11-08T20:30:22.528Z"
   },
   {
    "duration": 6,
    "start_time": "2022-11-08T20:30:22.554Z"
   },
   {
    "duration": 875,
    "start_time": "2022-11-08T20:30:22.562Z"
   },
   {
    "duration": 25,
    "start_time": "2022-11-08T20:30:23.439Z"
   },
   {
    "duration": 10,
    "start_time": "2022-11-08T20:30:23.466Z"
   },
   {
    "duration": 7,
    "start_time": "2022-11-08T20:30:23.478Z"
   },
   {
    "duration": 11,
    "start_time": "2022-11-08T20:30:23.487Z"
   },
   {
    "duration": 4,
    "start_time": "2022-11-08T20:30:23.499Z"
   },
   {
    "duration": 50,
    "start_time": "2022-11-08T20:30:23.505Z"
   },
   {
    "duration": 12,
    "start_time": "2022-11-08T20:30:23.557Z"
   },
   {
    "duration": 8,
    "start_time": "2022-11-08T20:30:23.571Z"
   },
   {
    "duration": 33,
    "start_time": "2022-11-08T20:30:23.583Z"
   },
   {
    "duration": 86,
    "start_time": "2022-11-08T20:30:23.617Z"
   },
   {
    "duration": 12,
    "start_time": "2022-11-08T20:30:23.705Z"
   },
   {
    "duration": 147,
    "start_time": "2022-11-08T20:30:23.719Z"
   },
   {
    "duration": 10,
    "start_time": "2022-11-08T20:30:23.867Z"
   },
   {
    "duration": 12,
    "start_time": "2022-11-08T20:30:23.878Z"
   },
   {
    "duration": 10,
    "start_time": "2022-11-08T20:30:23.891Z"
   },
   {
    "duration": 399,
    "start_time": "2022-11-08T20:30:23.902Z"
   },
   {
    "duration": 190,
    "start_time": "2022-11-08T20:30:24.302Z"
   },
   {
    "duration": 0,
    "start_time": "2022-11-08T20:30:24.493Z"
   },
   {
    "duration": 0,
    "start_time": "2022-11-08T20:30:24.494Z"
   },
   {
    "duration": 0,
    "start_time": "2022-11-08T20:30:24.495Z"
   },
   {
    "duration": 0,
    "start_time": "2022-11-08T20:30:24.496Z"
   },
   {
    "duration": 0,
    "start_time": "2022-11-08T20:30:24.497Z"
   },
   {
    "duration": 0,
    "start_time": "2022-11-08T20:30:24.498Z"
   },
   {
    "duration": 0,
    "start_time": "2022-11-08T20:30:24.499Z"
   },
   {
    "duration": 0,
    "start_time": "2022-11-08T20:30:24.500Z"
   },
   {
    "duration": 0,
    "start_time": "2022-11-08T20:30:24.501Z"
   },
   {
    "duration": 0,
    "start_time": "2022-11-08T20:30:24.502Z"
   },
   {
    "duration": 0,
    "start_time": "2022-11-08T20:30:24.503Z"
   },
   {
    "duration": 0,
    "start_time": "2022-11-08T20:30:24.504Z"
   },
   {
    "duration": 0,
    "start_time": "2022-11-08T20:30:24.505Z"
   },
   {
    "duration": 0,
    "start_time": "2022-11-08T20:30:24.506Z"
   },
   {
    "duration": 0,
    "start_time": "2022-11-08T20:30:24.507Z"
   },
   {
    "duration": 0,
    "start_time": "2022-11-08T20:30:24.508Z"
   },
   {
    "duration": 0,
    "start_time": "2022-11-08T20:30:24.509Z"
   },
   {
    "duration": 0,
    "start_time": "2022-11-08T20:30:24.510Z"
   },
   {
    "duration": 0,
    "start_time": "2022-11-08T20:30:24.511Z"
   },
   {
    "duration": 0,
    "start_time": "2022-11-08T20:30:24.513Z"
   },
   {
    "duration": 11,
    "start_time": "2022-11-08T20:31:01.232Z"
   },
   {
    "duration": 64,
    "start_time": "2022-11-08T20:31:02.156Z"
   },
   {
    "duration": 4,
    "start_time": "2022-11-08T20:31:22.720Z"
   },
   {
    "duration": 132,
    "start_time": "2022-11-08T20:31:23.462Z"
   },
   {
    "duration": 16,
    "start_time": "2022-11-08T20:31:24.117Z"
   },
   {
    "duration": 10,
    "start_time": "2022-11-08T20:31:24.650Z"
   },
   {
    "duration": 13,
    "start_time": "2022-11-08T20:31:26.307Z"
   },
   {
    "duration": 12,
    "start_time": "2022-11-08T20:31:27.635Z"
   },
   {
    "duration": 3,
    "start_time": "2022-11-08T20:31:27.919Z"
   },
   {
    "duration": 47,
    "start_time": "2022-11-08T20:31:28.352Z"
   },
   {
    "duration": 47,
    "start_time": "2022-11-08T20:31:28.731Z"
   },
   {
    "duration": 43,
    "start_time": "2022-11-08T20:31:29.044Z"
   },
   {
    "duration": 9,
    "start_time": "2022-11-08T20:31:29.723Z"
   },
   {
    "duration": 8,
    "start_time": "2022-11-08T20:31:30.004Z"
   },
   {
    "duration": 14,
    "start_time": "2022-11-08T20:31:30.798Z"
   },
   {
    "duration": 9,
    "start_time": "2022-11-08T20:31:31.046Z"
   },
   {
    "duration": 5,
    "start_time": "2022-11-08T20:31:32.490Z"
   },
   {
    "duration": 5,
    "start_time": "2022-11-08T20:31:32.942Z"
   },
   {
    "duration": 5,
    "start_time": "2022-11-08T20:31:33.426Z"
   },
   {
    "duration": 5,
    "start_time": "2022-11-08T20:31:33.896Z"
   },
   {
    "duration": 558,
    "start_time": "2022-11-08T20:31:34.370Z"
   },
   {
    "duration": 12,
    "start_time": "2022-11-08T20:31:35.518Z"
   },
   {
    "duration": 8,
    "start_time": "2022-11-08T20:31:35.768Z"
   },
   {
    "duration": 5,
    "start_time": "2022-11-08T20:31:36.231Z"
   },
   {
    "duration": 9,
    "start_time": "2022-11-08T20:31:36.668Z"
   },
   {
    "duration": 4,
    "start_time": "2022-11-08T20:31:36.827Z"
   },
   {
    "duration": 11,
    "start_time": "2022-11-08T20:31:37.298Z"
   },
   {
    "duration": 10,
    "start_time": "2022-11-08T20:31:38.400Z"
   },
   {
    "duration": 8,
    "start_time": "2022-11-08T20:31:39.670Z"
   },
   {
    "duration": 23,
    "start_time": "2022-11-08T20:31:43.133Z"
   },
   {
    "duration": 53,
    "start_time": "2022-11-08T20:31:47.724Z"
   },
   {
    "duration": 10,
    "start_time": "2022-11-08T20:31:49.052Z"
   },
   {
    "duration": 97,
    "start_time": "2022-11-08T20:31:49.570Z"
   },
   {
    "duration": 9,
    "start_time": "2022-11-08T20:31:51.190Z"
   },
   {
    "duration": 3,
    "start_time": "2022-11-08T20:31:53.091Z"
   },
   {
    "duration": 7,
    "start_time": "2022-11-08T20:31:53.393Z"
   },
   {
    "duration": 124,
    "start_time": "2022-11-08T20:31:53.922Z"
   },
   {
    "duration": 10,
    "start_time": "2022-11-08T20:32:00.104Z"
   },
   {
    "duration": 45,
    "start_time": "2022-11-08T20:32:01.024Z"
   },
   {
    "duration": 8,
    "start_time": "2022-11-08T20:32:10.920Z"
   },
   {
    "duration": 17,
    "start_time": "2022-11-08T20:32:13.750Z"
   },
   {
    "duration": 13,
    "start_time": "2022-11-08T20:32:34.454Z"
   },
   {
    "duration": 38,
    "start_time": "2022-11-08T20:32:36.091Z"
   },
   {
    "duration": 4,
    "start_time": "2022-11-08T20:33:04.241Z"
   },
   {
    "duration": 181,
    "start_time": "2022-11-08T20:33:04.247Z"
   },
   {
    "duration": 33,
    "start_time": "2022-11-08T20:33:04.430Z"
   },
   {
    "duration": 14,
    "start_time": "2022-11-08T20:33:04.466Z"
   },
   {
    "duration": 14,
    "start_time": "2022-11-08T20:33:04.482Z"
   },
   {
    "duration": 14,
    "start_time": "2022-11-08T20:33:04.497Z"
   },
   {
    "duration": 4,
    "start_time": "2022-11-08T20:33:04.513Z"
   },
   {
    "duration": 82,
    "start_time": "2022-11-08T20:33:04.519Z"
   },
   {
    "duration": 75,
    "start_time": "2022-11-08T20:33:04.603Z"
   },
   {
    "duration": 44,
    "start_time": "2022-11-08T20:33:04.681Z"
   },
   {
    "duration": 7,
    "start_time": "2022-11-08T20:33:04.727Z"
   },
   {
    "duration": 24,
    "start_time": "2022-11-08T20:33:04.736Z"
   },
   {
    "duration": 17,
    "start_time": "2022-11-08T20:33:04.761Z"
   },
   {
    "duration": 10,
    "start_time": "2022-11-08T20:33:04.779Z"
   },
   {
    "duration": 9,
    "start_time": "2022-11-08T20:33:04.790Z"
   },
   {
    "duration": 10,
    "start_time": "2022-11-08T20:33:04.800Z"
   },
   {
    "duration": 5,
    "start_time": "2022-11-08T20:33:04.812Z"
   },
   {
    "duration": 6,
    "start_time": "2022-11-08T20:33:04.819Z"
   },
   {
    "duration": 588,
    "start_time": "2022-11-08T20:33:04.855Z"
   },
   {
    "duration": 18,
    "start_time": "2022-11-08T20:33:05.444Z"
   },
   {
    "duration": 8,
    "start_time": "2022-11-08T20:33:05.463Z"
   },
   {
    "duration": 15,
    "start_time": "2022-11-08T20:33:05.473Z"
   },
   {
    "duration": 8,
    "start_time": "2022-11-08T20:33:05.490Z"
   },
   {
    "duration": 4,
    "start_time": "2022-11-08T20:33:05.500Z"
   },
   {
    "duration": 17,
    "start_time": "2022-11-08T20:33:05.505Z"
   },
   {
    "duration": 10,
    "start_time": "2022-11-08T20:33:05.524Z"
   },
   {
    "duration": 9,
    "start_time": "2022-11-08T20:33:05.555Z"
   },
   {
    "duration": 27,
    "start_time": "2022-11-08T20:33:05.567Z"
   },
   {
    "duration": 68,
    "start_time": "2022-11-08T20:33:05.596Z"
   },
   {
    "duration": 10,
    "start_time": "2022-11-08T20:33:05.667Z"
   },
   {
    "duration": 112,
    "start_time": "2022-11-08T20:33:05.679Z"
   },
   {
    "duration": 11,
    "start_time": "2022-11-08T20:33:05.793Z"
   },
   {
    "duration": 22,
    "start_time": "2022-11-08T20:33:05.805Z"
   },
   {
    "duration": 13,
    "start_time": "2022-11-08T20:33:05.828Z"
   },
   {
    "duration": 45,
    "start_time": "2022-11-08T20:33:05.843Z"
   },
   {
    "duration": 10,
    "start_time": "2022-11-08T20:33:05.890Z"
   },
   {
    "duration": 61,
    "start_time": "2022-11-08T20:33:05.901Z"
   },
   {
    "duration": 10,
    "start_time": "2022-11-08T20:33:05.963Z"
   },
   {
    "duration": 14,
    "start_time": "2022-11-08T20:33:05.975Z"
   },
   {
    "duration": 0,
    "start_time": "2022-11-08T20:33:05.990Z"
   },
   {
    "duration": 0,
    "start_time": "2022-11-08T20:33:05.991Z"
   },
   {
    "duration": 0,
    "start_time": "2022-11-08T20:33:05.992Z"
   },
   {
    "duration": 0,
    "start_time": "2022-11-08T20:33:05.993Z"
   },
   {
    "duration": 0,
    "start_time": "2022-11-08T20:33:05.994Z"
   },
   {
    "duration": 0,
    "start_time": "2022-11-08T20:33:05.995Z"
   },
   {
    "duration": 0,
    "start_time": "2022-11-08T20:33:05.996Z"
   },
   {
    "duration": 0,
    "start_time": "2022-11-08T20:33:05.997Z"
   },
   {
    "duration": 0,
    "start_time": "2022-11-08T20:33:05.998Z"
   },
   {
    "duration": 0,
    "start_time": "2022-11-08T20:33:05.999Z"
   },
   {
    "duration": 0,
    "start_time": "2022-11-08T20:33:06.000Z"
   },
   {
    "duration": 0,
    "start_time": "2022-11-08T20:33:06.002Z"
   },
   {
    "duration": 0,
    "start_time": "2022-11-08T20:33:06.003Z"
   },
   {
    "duration": 0,
    "start_time": "2022-11-08T20:33:06.004Z"
   },
   {
    "duration": 0,
    "start_time": "2022-11-08T20:33:06.004Z"
   },
   {
    "duration": 0,
    "start_time": "2022-11-08T20:33:06.006Z"
   },
   {
    "duration": 8,
    "start_time": "2022-11-08T20:33:34.902Z"
   },
   {
    "duration": 13,
    "start_time": "2022-11-08T20:33:37.800Z"
   },
   {
    "duration": 3,
    "start_time": "2022-11-08T20:34:03.996Z"
   },
   {
    "duration": 141,
    "start_time": "2022-11-08T20:34:04.384Z"
   },
   {
    "duration": 21,
    "start_time": "2022-11-08T20:34:05.611Z"
   },
   {
    "duration": 11,
    "start_time": "2022-11-08T20:34:05.813Z"
   },
   {
    "duration": 10,
    "start_time": "2022-11-08T20:34:06.766Z"
   },
   {
    "duration": 12,
    "start_time": "2022-11-08T20:34:07.333Z"
   },
   {
    "duration": 3,
    "start_time": "2022-11-08T20:34:07.721Z"
   },
   {
    "duration": 49,
    "start_time": "2022-11-08T20:34:08.200Z"
   },
   {
    "duration": 55,
    "start_time": "2022-11-08T20:34:08.634Z"
   },
   {
    "duration": 46,
    "start_time": "2022-11-08T20:34:08.964Z"
   },
   {
    "duration": 8,
    "start_time": "2022-11-08T20:34:09.389Z"
   },
   {
    "duration": 8,
    "start_time": "2022-11-08T20:34:09.610Z"
   },
   {
    "duration": 14,
    "start_time": "2022-11-08T20:34:10.002Z"
   },
   {
    "duration": 8,
    "start_time": "2022-11-08T20:34:10.382Z"
   },
   {
    "duration": 3,
    "start_time": "2022-11-08T20:34:11.749Z"
   },
   {
    "duration": 6,
    "start_time": "2022-11-08T20:34:12.217Z"
   },
   {
    "duration": 6,
    "start_time": "2022-11-08T20:34:12.597Z"
   },
   {
    "duration": 5,
    "start_time": "2022-11-08T20:34:13.062Z"
   },
   {
    "duration": 670,
    "start_time": "2022-11-08T20:34:13.620Z"
   },
   {
    "duration": 11,
    "start_time": "2022-11-08T20:34:15.411Z"
   },
   {
    "duration": 9,
    "start_time": "2022-11-08T20:34:15.627Z"
   },
   {
    "duration": 5,
    "start_time": "2022-11-08T20:34:16.057Z"
   },
   {
    "duration": 8,
    "start_time": "2022-11-08T20:34:16.542Z"
   },
   {
    "duration": 4,
    "start_time": "2022-11-08T20:34:16.783Z"
   },
   {
    "duration": 11,
    "start_time": "2022-11-08T20:34:17.274Z"
   },
   {
    "duration": 12,
    "start_time": "2022-11-08T20:34:18.488Z"
   },
   {
    "duration": 9,
    "start_time": "2022-11-08T20:34:19.779Z"
   },
   {
    "duration": 32,
    "start_time": "2022-11-08T20:34:22.393Z"
   },
   {
    "duration": 47,
    "start_time": "2022-11-08T20:34:24.962Z"
   },
   {
    "duration": 10,
    "start_time": "2022-11-08T20:34:32.850Z"
   },
   {
    "duration": 96,
    "start_time": "2022-11-08T20:34:33.325Z"
   },
   {
    "duration": 9,
    "start_time": "2022-11-08T20:34:35.075Z"
   },
   {
    "duration": 3,
    "start_time": "2022-11-08T20:34:36.900Z"
   },
   {
    "duration": 7,
    "start_time": "2022-11-08T20:34:37.434Z"
   },
   {
    "duration": 45,
    "start_time": "2022-11-08T20:34:38.030Z"
   },
   {
    "duration": 11,
    "start_time": "2022-11-08T20:34:38.671Z"
   },
   {
    "duration": 43,
    "start_time": "2022-11-08T20:34:39.142Z"
   },
   {
    "duration": 7,
    "start_time": "2022-11-08T20:34:43.014Z"
   },
   {
    "duration": 12,
    "start_time": "2022-11-08T20:34:45.699Z"
   },
   {
    "duration": 1172,
    "start_time": "2022-11-08T20:35:22.746Z"
   },
   {
    "duration": 142,
    "start_time": "2022-11-08T20:35:23.920Z"
   },
   {
    "duration": 18,
    "start_time": "2022-11-08T20:35:24.064Z"
   },
   {
    "duration": 12,
    "start_time": "2022-11-08T20:35:24.084Z"
   },
   {
    "duration": 14,
    "start_time": "2022-11-08T20:35:24.097Z"
   },
   {
    "duration": 12,
    "start_time": "2022-11-08T20:35:24.113Z"
   },
   {
    "duration": 30,
    "start_time": "2022-11-08T20:35:24.127Z"
   },
   {
    "duration": 60,
    "start_time": "2022-11-08T20:35:24.159Z"
   },
   {
    "duration": 78,
    "start_time": "2022-11-08T20:35:24.220Z"
   },
   {
    "duration": 55,
    "start_time": "2022-11-08T20:35:24.301Z"
   },
   {
    "duration": 9,
    "start_time": "2022-11-08T20:35:24.357Z"
   },
   {
    "duration": 10,
    "start_time": "2022-11-08T20:35:24.367Z"
   },
   {
    "duration": 25,
    "start_time": "2022-11-08T20:35:24.378Z"
   },
   {
    "duration": 10,
    "start_time": "2022-11-08T20:35:24.405Z"
   },
   {
    "duration": 7,
    "start_time": "2022-11-08T20:35:24.417Z"
   },
   {
    "duration": 8,
    "start_time": "2022-11-08T20:35:24.425Z"
   },
   {
    "duration": 5,
    "start_time": "2022-11-08T20:35:24.454Z"
   },
   {
    "duration": 6,
    "start_time": "2022-11-08T20:35:24.461Z"
   },
   {
    "duration": 681,
    "start_time": "2022-11-08T20:35:24.469Z"
   },
   {
    "duration": 14,
    "start_time": "2022-11-08T20:35:25.154Z"
   },
   {
    "duration": 8,
    "start_time": "2022-11-08T20:35:25.169Z"
   },
   {
    "duration": 7,
    "start_time": "2022-11-08T20:35:25.179Z"
   },
   {
    "duration": 10,
    "start_time": "2022-11-08T20:35:25.187Z"
   },
   {
    "duration": 7,
    "start_time": "2022-11-08T20:35:25.198Z"
   },
   {
    "duration": 13,
    "start_time": "2022-11-08T20:35:25.206Z"
   },
   {
    "duration": 40,
    "start_time": "2022-11-08T20:35:25.221Z"
   },
   {
    "duration": 8,
    "start_time": "2022-11-08T20:35:25.263Z"
   },
   {
    "duration": 28,
    "start_time": "2022-11-08T20:35:25.275Z"
   },
   {
    "duration": 73,
    "start_time": "2022-11-08T20:35:25.305Z"
   },
   {
    "duration": 9,
    "start_time": "2022-11-08T20:35:25.379Z"
   },
   {
    "duration": 113,
    "start_time": "2022-11-08T20:35:25.390Z"
   },
   {
    "duration": 8,
    "start_time": "2022-11-08T20:35:25.504Z"
   },
   {
    "duration": 7,
    "start_time": "2022-11-08T20:35:25.513Z"
   },
   {
    "duration": 9,
    "start_time": "2022-11-08T20:35:25.521Z"
   },
   {
    "duration": 412,
    "start_time": "2022-11-08T20:35:25.531Z"
   },
   {
    "duration": 11,
    "start_time": "2022-11-08T20:35:25.944Z"
   },
   {
    "duration": 49,
    "start_time": "2022-11-08T20:35:25.956Z"
   },
   {
    "duration": 54,
    "start_time": "2022-11-08T20:35:26.006Z"
   },
   {
    "duration": 168,
    "start_time": "2022-11-08T20:35:26.062Z"
   },
   {
    "duration": 0,
    "start_time": "2022-11-08T20:35:26.231Z"
   },
   {
    "duration": 0,
    "start_time": "2022-11-08T20:35:26.233Z"
   },
   {
    "duration": 0,
    "start_time": "2022-11-08T20:35:26.234Z"
   },
   {
    "duration": 0,
    "start_time": "2022-11-08T20:35:26.234Z"
   },
   {
    "duration": 0,
    "start_time": "2022-11-08T20:35:26.235Z"
   },
   {
    "duration": 0,
    "start_time": "2022-11-08T20:35:26.236Z"
   },
   {
    "duration": 0,
    "start_time": "2022-11-08T20:35:26.237Z"
   },
   {
    "duration": 0,
    "start_time": "2022-11-08T20:35:26.238Z"
   },
   {
    "duration": 0,
    "start_time": "2022-11-08T20:35:26.239Z"
   },
   {
    "duration": 0,
    "start_time": "2022-11-08T20:35:26.239Z"
   },
   {
    "duration": 1,
    "start_time": "2022-11-08T20:35:26.239Z"
   },
   {
    "duration": 0,
    "start_time": "2022-11-08T20:35:26.254Z"
   },
   {
    "duration": 0,
    "start_time": "2022-11-08T20:35:26.256Z"
   },
   {
    "duration": 0,
    "start_time": "2022-11-08T20:35:26.257Z"
   },
   {
    "duration": 0,
    "start_time": "2022-11-08T20:35:26.258Z"
   },
   {
    "duration": 0,
    "start_time": "2022-11-08T20:35:26.259Z"
   },
   {
    "duration": 12,
    "start_time": "2022-11-08T20:37:20.397Z"
   },
   {
    "duration": 12,
    "start_time": "2022-11-08T20:37:30.019Z"
   },
   {
    "duration": 3,
    "start_time": "2022-11-08T20:37:40.092Z"
   },
   {
    "duration": 140,
    "start_time": "2022-11-08T20:37:41.586Z"
   },
   {
    "duration": 18,
    "start_time": "2022-11-08T20:37:42.574Z"
   },
   {
    "duration": 11,
    "start_time": "2022-11-08T20:37:43.106Z"
   },
   {
    "duration": 12,
    "start_time": "2022-11-08T20:37:44.877Z"
   },
   {
    "duration": 12,
    "start_time": "2022-11-08T20:37:46.340Z"
   },
   {
    "duration": 3,
    "start_time": "2022-11-08T20:37:46.796Z"
   },
   {
    "duration": 48,
    "start_time": "2022-11-08T20:37:47.191Z"
   },
   {
    "duration": 57,
    "start_time": "2022-11-08T20:37:47.387Z"
   },
   {
    "duration": 43,
    "start_time": "2022-11-08T20:37:47.570Z"
   },
   {
    "duration": 11,
    "start_time": "2022-11-08T20:37:48.304Z"
   },
   {
    "duration": 8,
    "start_time": "2022-11-08T20:37:48.835Z"
   },
   {
    "duration": 18,
    "start_time": "2022-11-08T20:37:49.786Z"
   },
   {
    "duration": 11,
    "start_time": "2022-11-08T20:37:50.205Z"
   },
   {
    "duration": 3,
    "start_time": "2022-11-08T20:37:52.741Z"
   },
   {
    "duration": 5,
    "start_time": "2022-11-08T20:37:53.816Z"
   },
   {
    "duration": 5,
    "start_time": "2022-11-08T20:37:54.629Z"
   },
   {
    "duration": 5,
    "start_time": "2022-11-08T20:37:55.363Z"
   },
   {
    "duration": 584,
    "start_time": "2022-11-08T20:37:56.202Z"
   },
   {
    "duration": 13,
    "start_time": "2022-11-08T20:37:59.060Z"
   },
   {
    "duration": 9,
    "start_time": "2022-11-08T20:37:59.302Z"
   },
   {
    "duration": 7,
    "start_time": "2022-11-08T20:38:00.109Z"
   },
   {
    "duration": 10,
    "start_time": "2022-11-08T20:38:01.083Z"
   },
   {
    "duration": 4,
    "start_time": "2022-11-08T20:38:01.530Z"
   },
   {
    "duration": 16,
    "start_time": "2022-11-08T20:38:02.513Z"
   },
   {
    "duration": 16,
    "start_time": "2022-11-08T20:38:05.069Z"
   },
   {
    "duration": 10,
    "start_time": "2022-11-08T20:38:16.818Z"
   },
   {
    "duration": 34,
    "start_time": "2022-11-08T20:38:20.022Z"
   },
   {
    "duration": 49,
    "start_time": "2022-11-08T20:38:28.964Z"
   },
   {
    "duration": 10,
    "start_time": "2022-11-08T20:38:34.972Z"
   },
   {
    "duration": 104,
    "start_time": "2022-11-08T20:39:00.381Z"
   },
   {
    "duration": 8,
    "start_time": "2022-11-08T20:39:02.840Z"
   },
   {
    "duration": 4,
    "start_time": "2022-11-08T20:39:04.601Z"
   },
   {
    "duration": 9,
    "start_time": "2022-11-08T20:39:05.133Z"
   },
   {
    "duration": 138,
    "start_time": "2022-11-08T20:39:05.747Z"
   },
   {
    "duration": 10,
    "start_time": "2022-11-08T20:39:07.470Z"
   },
   {
    "duration": 48,
    "start_time": "2022-11-08T20:39:08.054Z"
   },
   {
    "duration": 8,
    "start_time": "2022-11-08T20:39:14.981Z"
   },
   {
    "duration": 17,
    "start_time": "2022-11-08T20:39:28.576Z"
   },
   {
    "duration": 32,
    "start_time": "2022-11-08T20:39:41.543Z"
   },
   {
    "duration": 29,
    "start_time": "2022-11-08T20:39:42.035Z"
   },
   {
    "duration": 12,
    "start_time": "2022-11-08T20:40:01.298Z"
   },
   {
    "duration": 14,
    "start_time": "2022-11-08T20:40:10.487Z"
   },
   {
    "duration": 60,
    "start_time": "2022-11-08T20:40:46.075Z"
   },
   {
    "duration": 3,
    "start_time": "2022-11-08T20:41:35.909Z"
   },
   {
    "duration": 124,
    "start_time": "2022-11-08T20:41:36.321Z"
   },
   {
    "duration": 17,
    "start_time": "2022-11-08T20:41:37.234Z"
   },
   {
    "duration": 10,
    "start_time": "2022-11-08T20:41:37.709Z"
   },
   {
    "duration": 13,
    "start_time": "2022-11-08T20:41:39.179Z"
   },
   {
    "duration": 20,
    "start_time": "2022-11-08T20:41:40.037Z"
   },
   {
    "duration": 4,
    "start_time": "2022-11-08T20:41:40.424Z"
   },
   {
    "duration": 60,
    "start_time": "2022-11-08T20:41:40.835Z"
   },
   {
    "duration": 47,
    "start_time": "2022-11-08T20:41:41.189Z"
   },
   {
    "duration": 47,
    "start_time": "2022-11-08T20:41:41.612Z"
   },
   {
    "duration": 10,
    "start_time": "2022-11-08T20:41:42.504Z"
   },
   {
    "duration": 7,
    "start_time": "2022-11-08T20:41:42.791Z"
   },
   {
    "duration": 12,
    "start_time": "2022-11-08T20:41:43.220Z"
   },
   {
    "duration": 8,
    "start_time": "2022-11-08T20:41:43.558Z"
   },
   {
    "duration": 3,
    "start_time": "2022-11-08T20:41:44.882Z"
   },
   {
    "duration": 6,
    "start_time": "2022-11-08T20:41:45.346Z"
   },
   {
    "duration": 5,
    "start_time": "2022-11-08T20:41:45.775Z"
   },
   {
    "duration": 5,
    "start_time": "2022-11-08T20:41:46.184Z"
   },
   {
    "duration": 591,
    "start_time": "2022-11-08T20:41:46.750Z"
   },
   {
    "duration": 13,
    "start_time": "2022-11-08T20:41:47.546Z"
   },
   {
    "duration": 8,
    "start_time": "2022-11-08T20:41:48.600Z"
   },
   {
    "duration": 6,
    "start_time": "2022-11-08T20:41:49.407Z"
   },
   {
    "duration": 9,
    "start_time": "2022-11-08T20:41:50.063Z"
   },
   {
    "duration": 4,
    "start_time": "2022-11-08T20:41:50.286Z"
   },
   {
    "duration": 13,
    "start_time": "2022-11-08T20:41:50.902Z"
   },
   {
    "duration": 10,
    "start_time": "2022-11-08T20:41:54.321Z"
   },
   {
    "duration": 10,
    "start_time": "2022-11-08T20:41:55.369Z"
   },
   {
    "duration": 32,
    "start_time": "2022-11-08T20:41:56.915Z"
   },
   {
    "duration": 58,
    "start_time": "2022-11-08T20:41:58.236Z"
   },
   {
    "duration": 9,
    "start_time": "2022-11-08T20:41:59.014Z"
   },
   {
    "duration": 92,
    "start_time": "2022-11-08T20:41:59.338Z"
   },
   {
    "duration": 9,
    "start_time": "2022-11-08T20:42:00.328Z"
   },
   {
    "duration": 5,
    "start_time": "2022-11-08T20:42:01.586Z"
   },
   {
    "duration": 9,
    "start_time": "2022-11-08T20:42:01.872Z"
   },
   {
    "duration": 11,
    "start_time": "2022-11-08T20:42:02.790Z"
   },
   {
    "duration": 7,
    "start_time": "2022-11-08T20:42:06.055Z"
   },
   {
    "duration": 38,
    "start_time": "2022-11-08T20:42:09.279Z"
   },
   {
    "duration": 12,
    "start_time": "2022-11-08T20:42:14.254Z"
   },
   {
    "duration": 13,
    "start_time": "2022-11-08T20:42:15.528Z"
   },
   {
    "duration": 5,
    "start_time": "2022-11-08T20:42:16.475Z"
   },
   {
    "duration": 77,
    "start_time": "2022-11-08T20:42:19.305Z"
   },
   {
    "duration": 11,
    "start_time": "2022-11-08T20:42:20.290Z"
   },
   {
    "duration": 7,
    "start_time": "2022-11-08T20:42:20.712Z"
   },
   {
    "duration": 6,
    "start_time": "2022-11-08T20:42:21.580Z"
   },
   {
    "duration": 9,
    "start_time": "2022-11-08T20:42:21.820Z"
   },
   {
    "duration": 12,
    "start_time": "2022-11-08T20:42:22.992Z"
   },
   {
    "duration": 8,
    "start_time": "2022-11-08T20:42:23.580Z"
   },
   {
    "duration": 12,
    "start_time": "2022-11-08T20:42:24.040Z"
   },
   {
    "duration": 8,
    "start_time": "2022-11-08T20:42:28.660Z"
   },
   {
    "duration": 9,
    "start_time": "2022-11-08T20:42:29.597Z"
   },
   {
    "duration": 5,
    "start_time": "2022-11-08T20:42:29.855Z"
   },
   {
    "duration": 10,
    "start_time": "2022-11-08T20:42:30.872Z"
   },
   {
    "duration": 8,
    "start_time": "2022-11-08T20:42:31.540Z"
   },
   {
    "duration": 71,
    "start_time": "2022-11-08T20:44:53.601Z"
   },
   {
    "duration": 22,
    "start_time": "2022-11-08T20:45:01.443Z"
   },
   {
    "duration": 48,
    "start_time": "2022-11-08T20:45:03.933Z"
   },
   {
    "duration": 10,
    "start_time": "2022-11-08T20:45:07.546Z"
   },
   {
    "duration": 81,
    "start_time": "2022-11-08T20:45:08.204Z"
   },
   {
    "duration": 9,
    "start_time": "2022-11-08T20:45:12.101Z"
   },
   {
    "duration": 4,
    "start_time": "2022-11-08T20:45:14.656Z"
   },
   {
    "duration": 7,
    "start_time": "2022-11-08T20:45:15.090Z"
   },
   {
    "duration": 15,
    "start_time": "2022-11-08T20:45:17.149Z"
   },
   {
    "duration": 10,
    "start_time": "2022-11-08T20:46:04.321Z"
   },
   {
    "duration": 13,
    "start_time": "2022-11-08T20:47:01.007Z"
   },
   {
    "duration": 4,
    "start_time": "2022-11-08T20:47:11.398Z"
   },
   {
    "duration": 8,
    "start_time": "2022-11-08T20:47:11.613Z"
   },
   {
    "duration": 11,
    "start_time": "2022-11-08T20:47:12.718Z"
   },
   {
    "duration": 10,
    "start_time": "2022-11-08T20:47:13.052Z"
   },
   {
    "duration": 8,
    "start_time": "2022-11-08T20:47:16.499Z"
   },
   {
    "duration": 44,
    "start_time": "2022-11-08T20:47:18.128Z"
   },
   {
    "duration": 19,
    "start_time": "2022-11-08T20:47:19.795Z"
   },
   {
    "duration": 16,
    "start_time": "2022-11-08T20:47:20.353Z"
   },
   {
    "duration": 12,
    "start_time": "2022-11-08T20:49:07.880Z"
   },
   {
    "duration": 31,
    "start_time": "2022-11-08T20:50:18.791Z"
   },
   {
    "duration": 5,
    "start_time": "2022-11-08T20:50:19.012Z"
   },
   {
    "duration": 23,
    "start_time": "2022-11-08T20:50:22.066Z"
   },
   {
    "duration": 31,
    "start_time": "2022-11-08T20:50:40.392Z"
   },
   {
    "duration": 13,
    "start_time": "2022-11-08T20:50:43.772Z"
   },
   {
    "duration": 14,
    "start_time": "2022-11-08T20:50:44.193Z"
   },
   {
    "duration": 5,
    "start_time": "2022-11-08T20:50:44.430Z"
   },
   {
    "duration": 72,
    "start_time": "2022-11-08T20:50:45.219Z"
   },
   {
    "duration": 10,
    "start_time": "2022-11-08T20:50:45.837Z"
   },
   {
    "duration": 7,
    "start_time": "2022-11-08T20:50:46.088Z"
   },
   {
    "duration": 5,
    "start_time": "2022-11-08T20:50:46.708Z"
   },
   {
    "duration": 8,
    "start_time": "2022-11-08T20:50:47.263Z"
   },
   {
    "duration": 9,
    "start_time": "2022-11-08T20:50:48.471Z"
   },
   {
    "duration": 8,
    "start_time": "2022-11-08T20:50:49.148Z"
   },
   {
    "duration": 7,
    "start_time": "2022-11-08T20:50:49.903Z"
   },
   {
    "duration": 8,
    "start_time": "2022-11-08T20:50:53.815Z"
   },
   {
    "duration": 9,
    "start_time": "2022-11-08T20:50:54.701Z"
   },
   {
    "duration": 5,
    "start_time": "2022-11-08T20:50:56.319Z"
   },
   {
    "duration": 8,
    "start_time": "2022-11-08T20:50:57.073Z"
   },
   {
    "duration": 8,
    "start_time": "2022-11-08T20:50:58.246Z"
   },
   {
    "duration": 49,
    "start_time": "2022-11-08T20:53:41.320Z"
   },
   {
    "duration": 11,
    "start_time": "2022-11-08T20:53:42.735Z"
   },
   {
    "duration": 83,
    "start_time": "2022-11-08T20:53:43.323Z"
   },
   {
    "duration": 9,
    "start_time": "2022-11-08T20:53:45.546Z"
   },
   {
    "duration": 4,
    "start_time": "2022-11-08T20:53:47.021Z"
   },
   {
    "duration": 9,
    "start_time": "2022-11-08T20:53:47.570Z"
   },
   {
    "duration": 14,
    "start_time": "2022-11-08T20:53:53.371Z"
   },
   {
    "duration": 12,
    "start_time": "2022-11-08T20:53:55.597Z"
   },
   {
    "duration": 65,
    "start_time": "2022-11-08T20:57:29.448Z"
   },
   {
    "duration": 13,
    "start_time": "2022-11-08T20:57:31.079Z"
   },
   {
    "duration": 96,
    "start_time": "2022-11-08T20:57:33.723Z"
   },
   {
    "duration": 9,
    "start_time": "2022-11-08T20:57:35.306Z"
   },
   {
    "duration": 3,
    "start_time": "2022-11-08T20:59:53.623Z"
   },
   {
    "duration": 134,
    "start_time": "2022-11-08T20:59:54.167Z"
   },
   {
    "duration": 26,
    "start_time": "2022-11-08T20:59:54.533Z"
   },
   {
    "duration": 11,
    "start_time": "2022-11-08T20:59:54.701Z"
   },
   {
    "duration": 11,
    "start_time": "2022-11-08T20:59:55.627Z"
   },
   {
    "duration": 13,
    "start_time": "2022-11-08T20:59:56.178Z"
   },
   {
    "duration": 4,
    "start_time": "2022-11-08T20:59:56.367Z"
   },
   {
    "duration": 48,
    "start_time": "2022-11-08T20:59:56.553Z"
   },
   {
    "duration": 49,
    "start_time": "2022-11-08T20:59:56.747Z"
   },
   {
    "duration": 43,
    "start_time": "2022-11-08T20:59:56.947Z"
   },
   {
    "duration": 8,
    "start_time": "2022-11-08T20:59:57.327Z"
   },
   {
    "duration": 8,
    "start_time": "2022-11-08T20:59:57.514Z"
   },
   {
    "duration": 14,
    "start_time": "2022-11-08T20:59:57.885Z"
   },
   {
    "duration": 8,
    "start_time": "2022-11-08T20:59:58.076Z"
   },
   {
    "duration": 3,
    "start_time": "2022-11-08T20:59:59.537Z"
   },
   {
    "duration": 6,
    "start_time": "2022-11-08T20:59:59.961Z"
   },
   {
    "duration": 5,
    "start_time": "2022-11-08T21:00:00.331Z"
   },
   {
    "duration": 5,
    "start_time": "2022-11-08T21:00:00.725Z"
   },
   {
    "duration": 690,
    "start_time": "2022-11-08T21:00:01.354Z"
   },
   {
    "duration": 15,
    "start_time": "2022-11-08T21:00:02.557Z"
   },
   {
    "duration": 8,
    "start_time": "2022-11-08T21:00:02.781Z"
   },
   {
    "duration": 6,
    "start_time": "2022-11-08T21:00:03.165Z"
   },
   {
    "duration": 7,
    "start_time": "2022-11-08T21:00:03.965Z"
   },
   {
    "duration": 4,
    "start_time": "2022-11-08T21:00:04.172Z"
   },
   {
    "duration": 11,
    "start_time": "2022-11-08T21:00:04.564Z"
   },
   {
    "duration": 11,
    "start_time": "2022-11-08T21:00:05.369Z"
   },
   {
    "duration": 8,
    "start_time": "2022-11-08T21:00:05.945Z"
   },
   {
    "duration": 22,
    "start_time": "2022-11-08T21:00:07.079Z"
   },
   {
    "duration": 48,
    "start_time": "2022-11-08T21:00:08.534Z"
   },
   {
    "duration": 9,
    "start_time": "2022-11-08T21:00:09.312Z"
   },
   {
    "duration": 95,
    "start_time": "2022-11-08T21:00:09.544Z"
   },
   {
    "duration": 9,
    "start_time": "2022-11-08T21:00:10.339Z"
   },
   {
    "duration": 4,
    "start_time": "2022-11-08T21:00:11.203Z"
   },
   {
    "duration": 7,
    "start_time": "2022-11-08T21:00:11.451Z"
   },
   {
    "duration": 14,
    "start_time": "2022-11-08T21:00:13.578Z"
   },
   {
    "duration": 1151,
    "start_time": "2022-11-08T21:00:15.201Z"
   },
   {
    "duration": 1104,
    "start_time": "2022-11-08T21:00:42.881Z"
   },
   {
    "duration": 48,
    "start_time": "2022-11-08T21:01:12.095Z"
   },
   {
    "duration": 11,
    "start_time": "2022-11-08T21:01:13.253Z"
   },
   {
    "duration": 81,
    "start_time": "2022-11-08T21:01:13.467Z"
   },
   {
    "duration": 9,
    "start_time": "2022-11-08T21:01:14.316Z"
   },
   {
    "duration": 5,
    "start_time": "2022-11-08T21:01:15.030Z"
   },
   {
    "duration": 9,
    "start_time": "2022-11-08T21:01:15.315Z"
   },
   {
    "duration": 15,
    "start_time": "2022-11-08T21:01:16.150Z"
   },
   {
    "duration": 14,
    "start_time": "2022-11-08T21:01:16.468Z"
   },
   {
    "duration": 8,
    "start_time": "2022-11-08T21:01:21.507Z"
   },
   {
    "duration": 34,
    "start_time": "2022-11-08T21:01:23.336Z"
   },
   {
    "duration": 14,
    "start_time": "2022-11-08T21:01:25.238Z"
   },
   {
    "duration": 17,
    "start_time": "2022-11-08T21:01:25.636Z"
   },
   {
    "duration": 6,
    "start_time": "2022-11-08T21:01:25.851Z"
   },
   {
    "duration": 80,
    "start_time": "2022-11-08T21:01:26.651Z"
   },
   {
    "duration": 13,
    "start_time": "2022-11-08T21:01:27.078Z"
   },
   {
    "duration": 8,
    "start_time": "2022-11-08T21:01:27.332Z"
   },
   {
    "duration": 5,
    "start_time": "2022-11-08T21:01:27.944Z"
   },
   {
    "duration": 9,
    "start_time": "2022-11-08T21:01:28.139Z"
   },
   {
    "duration": 8,
    "start_time": "2022-11-08T21:01:29.263Z"
   },
   {
    "duration": 9,
    "start_time": "2022-11-08T21:01:29.654Z"
   },
   {
    "duration": 8,
    "start_time": "2022-11-08T21:01:30.050Z"
   },
   {
    "duration": 11,
    "start_time": "2022-11-08T21:01:32.942Z"
   },
   {
    "duration": 8,
    "start_time": "2022-11-08T21:01:33.769Z"
   },
   {
    "duration": 6,
    "start_time": "2022-11-08T21:01:33.997Z"
   },
   {
    "duration": 10,
    "start_time": "2022-11-08T21:01:34.688Z"
   },
   {
    "duration": 10,
    "start_time": "2022-11-08T21:01:35.746Z"
   },
   {
    "duration": 10,
    "start_time": "2022-11-08T21:03:07.563Z"
   },
   {
    "duration": 7,
    "start_time": "2022-11-08T21:04:06.211Z"
   },
   {
    "duration": 30,
    "start_time": "2022-11-08T21:04:07.392Z"
   },
   {
    "duration": 13,
    "start_time": "2022-11-08T21:04:08.318Z"
   },
   {
    "duration": 13,
    "start_time": "2022-11-08T21:04:08.555Z"
   },
   {
    "duration": 4,
    "start_time": "2022-11-08T21:04:08.807Z"
   },
   {
    "duration": 78,
    "start_time": "2022-11-08T21:04:12.921Z"
   },
   {
    "duration": 13,
    "start_time": "2022-11-08T21:04:13.291Z"
   },
   {
    "duration": 7,
    "start_time": "2022-11-08T21:04:13.497Z"
   },
   {
    "duration": 5,
    "start_time": "2022-11-08T21:04:14.097Z"
   },
   {
    "duration": 8,
    "start_time": "2022-11-08T21:04:14.280Z"
   },
   {
    "duration": 10,
    "start_time": "2022-11-08T21:04:15.042Z"
   },
   {
    "duration": 10,
    "start_time": "2022-11-08T21:04:15.415Z"
   },
   {
    "duration": 8,
    "start_time": "2022-11-08T21:04:16.003Z"
   },
   {
    "duration": 8,
    "start_time": "2022-11-08T21:04:18.669Z"
   },
   {
    "duration": 9,
    "start_time": "2022-11-08T21:04:19.420Z"
   },
   {
    "duration": 5,
    "start_time": "2022-11-08T21:04:20.026Z"
   },
   {
    "duration": 9,
    "start_time": "2022-11-08T21:04:20.649Z"
   },
   {
    "duration": 11,
    "start_time": "2022-11-08T21:04:21.643Z"
   },
   {
    "duration": 3,
    "start_time": "2022-11-08T21:04:28.775Z"
   },
   {
    "duration": 133,
    "start_time": "2022-11-08T21:04:28.780Z"
   },
   {
    "duration": 15,
    "start_time": "2022-11-08T21:04:28.915Z"
   },
   {
    "duration": 8,
    "start_time": "2022-11-08T21:04:28.932Z"
   },
   {
    "duration": 10,
    "start_time": "2022-11-08T21:04:28.955Z"
   },
   {
    "duration": 14,
    "start_time": "2022-11-08T21:04:28.966Z"
   },
   {
    "duration": 10,
    "start_time": "2022-11-08T21:04:28.981Z"
   },
   {
    "duration": 63,
    "start_time": "2022-11-08T21:04:28.992Z"
   },
   {
    "duration": 46,
    "start_time": "2022-11-08T21:04:29.057Z"
   },
   {
    "duration": 55,
    "start_time": "2022-11-08T21:04:29.106Z"
   },
   {
    "duration": 7,
    "start_time": "2022-11-08T21:04:29.163Z"
   },
   {
    "duration": 6,
    "start_time": "2022-11-08T21:04:29.172Z"
   },
   {
    "duration": 15,
    "start_time": "2022-11-08T21:04:29.179Z"
   },
   {
    "duration": 7,
    "start_time": "2022-11-08T21:04:29.195Z"
   },
   {
    "duration": 4,
    "start_time": "2022-11-08T21:04:29.204Z"
   },
   {
    "duration": 8,
    "start_time": "2022-11-08T21:04:29.209Z"
   },
   {
    "duration": 37,
    "start_time": "2022-11-08T21:04:29.218Z"
   },
   {
    "duration": 5,
    "start_time": "2022-11-08T21:04:29.256Z"
   },
   {
    "duration": 664,
    "start_time": "2022-11-08T21:04:29.262Z"
   },
   {
    "duration": 12,
    "start_time": "2022-11-08T21:04:29.928Z"
   },
   {
    "duration": 14,
    "start_time": "2022-11-08T21:04:29.942Z"
   },
   {
    "duration": 5,
    "start_time": "2022-11-08T21:04:29.957Z"
   },
   {
    "duration": 9,
    "start_time": "2022-11-08T21:04:29.963Z"
   },
   {
    "duration": 4,
    "start_time": "2022-11-08T21:04:29.974Z"
   },
   {
    "duration": 19,
    "start_time": "2022-11-08T21:04:29.979Z"
   },
   {
    "duration": 13,
    "start_time": "2022-11-08T21:04:29.999Z"
   },
   {
    "duration": 46,
    "start_time": "2022-11-08T21:04:30.014Z"
   },
   {
    "duration": 33,
    "start_time": "2022-11-08T21:04:30.065Z"
   },
   {
    "duration": 48,
    "start_time": "2022-11-08T21:04:30.099Z"
   },
   {
    "duration": 13,
    "start_time": "2022-11-08T21:04:30.148Z"
   },
   {
    "duration": 107,
    "start_time": "2022-11-08T21:04:30.163Z"
   },
   {
    "duration": 9,
    "start_time": "2022-11-08T21:04:30.271Z"
   },
   {
    "duration": 32,
    "start_time": "2022-11-08T21:04:30.282Z"
   },
   {
    "duration": 38,
    "start_time": "2022-11-08T21:04:30.316Z"
   },
   {
    "duration": 42,
    "start_time": "2022-11-08T21:04:30.356Z"
   },
   {
    "duration": 36,
    "start_time": "2022-11-08T21:04:30.400Z"
   },
   {
    "duration": 52,
    "start_time": "2022-11-08T21:04:30.438Z"
   },
   {
    "duration": 57,
    "start_time": "2022-11-08T21:04:30.492Z"
   },
   {
    "duration": 15,
    "start_time": "2022-11-08T21:04:30.550Z"
   },
   {
    "duration": 26,
    "start_time": "2022-11-08T21:04:30.567Z"
   },
   {
    "duration": 29,
    "start_time": "2022-11-08T21:04:30.595Z"
   },
   {
    "duration": 91,
    "start_time": "2022-11-08T21:04:30.626Z"
   },
   {
    "duration": 10,
    "start_time": "2022-11-08T21:04:30.718Z"
   },
   {
    "duration": 41,
    "start_time": "2022-11-08T21:04:30.730Z"
   },
   {
    "duration": 14,
    "start_time": "2022-11-08T21:04:30.773Z"
   },
   {
    "duration": 29,
    "start_time": "2022-11-08T21:04:30.789Z"
   },
   {
    "duration": 13,
    "start_time": "2022-11-08T21:04:30.820Z"
   },
   {
    "duration": 23,
    "start_time": "2022-11-08T21:04:30.835Z"
   },
   {
    "duration": 18,
    "start_time": "2022-11-08T21:04:30.860Z"
   },
   {
    "duration": 12,
    "start_time": "2022-11-08T21:04:30.880Z"
   },
   {
    "duration": 13,
    "start_time": "2022-11-08T21:04:30.893Z"
   },
   {
    "duration": 11,
    "start_time": "2022-11-08T21:04:30.907Z"
   },
   {
    "duration": 17,
    "start_time": "2022-11-08T21:04:30.919Z"
   },
   {
    "duration": 10,
    "start_time": "2022-11-08T21:04:30.938Z"
   },
   {
    "duration": 938,
    "start_time": "2022-11-08T21:04:43.293Z"
   },
   {
    "duration": 182,
    "start_time": "2022-11-08T21:04:44.233Z"
   },
   {
    "duration": 17,
    "start_time": "2022-11-08T21:04:44.417Z"
   },
   {
    "duration": 19,
    "start_time": "2022-11-08T21:04:44.436Z"
   },
   {
    "duration": 11,
    "start_time": "2022-11-08T21:04:44.456Z"
   },
   {
    "duration": 12,
    "start_time": "2022-11-08T21:04:44.469Z"
   },
   {
    "duration": 3,
    "start_time": "2022-11-08T21:04:44.482Z"
   },
   {
    "duration": 73,
    "start_time": "2022-11-08T21:04:44.487Z"
   },
   {
    "duration": 63,
    "start_time": "2022-11-08T21:04:44.561Z"
   },
   {
    "duration": 59,
    "start_time": "2022-11-08T21:04:44.626Z"
   },
   {
    "duration": 8,
    "start_time": "2022-11-08T21:04:44.687Z"
   },
   {
    "duration": 8,
    "start_time": "2022-11-08T21:04:44.696Z"
   },
   {
    "duration": 14,
    "start_time": "2022-11-08T21:04:44.705Z"
   },
   {
    "duration": 8,
    "start_time": "2022-11-08T21:04:44.721Z"
   },
   {
    "duration": 26,
    "start_time": "2022-11-08T21:04:44.730Z"
   },
   {
    "duration": 9,
    "start_time": "2022-11-08T21:04:44.758Z"
   },
   {
    "duration": 10,
    "start_time": "2022-11-08T21:04:44.769Z"
   },
   {
    "duration": 5,
    "start_time": "2022-11-08T21:04:44.781Z"
   },
   {
    "duration": 634,
    "start_time": "2022-11-08T21:04:44.788Z"
   },
   {
    "duration": 14,
    "start_time": "2022-11-08T21:04:45.423Z"
   },
   {
    "duration": 19,
    "start_time": "2022-11-08T21:04:45.438Z"
   },
   {
    "duration": 14,
    "start_time": "2022-11-08T21:04:45.458Z"
   },
   {
    "duration": 17,
    "start_time": "2022-11-08T21:04:45.474Z"
   },
   {
    "duration": 18,
    "start_time": "2022-11-08T21:04:45.492Z"
   },
   {
    "duration": 20,
    "start_time": "2022-11-08T21:04:45.512Z"
   },
   {
    "duration": 15,
    "start_time": "2022-11-08T21:04:45.534Z"
   },
   {
    "duration": 14,
    "start_time": "2022-11-08T21:04:45.551Z"
   },
   {
    "duration": 52,
    "start_time": "2022-11-08T21:04:45.568Z"
   },
   {
    "duration": 50,
    "start_time": "2022-11-08T21:04:45.622Z"
   },
   {
    "duration": 12,
    "start_time": "2022-11-08T21:04:45.674Z"
   },
   {
    "duration": 93,
    "start_time": "2022-11-08T21:04:45.687Z"
   },
   {
    "duration": 9,
    "start_time": "2022-11-08T21:04:45.782Z"
   },
   {
    "duration": 5,
    "start_time": "2022-11-08T21:04:45.793Z"
   },
   {
    "duration": 10,
    "start_time": "2022-11-08T21:04:45.800Z"
   },
   {
    "duration": 11,
    "start_time": "2022-11-08T21:04:45.811Z"
   },
   {
    "duration": 159,
    "start_time": "2022-11-08T21:04:45.823Z"
   },
   {
    "duration": 9,
    "start_time": "2022-11-08T21:04:45.983Z"
   },
   {
    "duration": 64,
    "start_time": "2022-11-08T21:04:45.993Z"
   },
   {
    "duration": 15,
    "start_time": "2022-11-08T21:04:46.058Z"
   },
   {
    "duration": 20,
    "start_time": "2022-11-08T21:04:46.074Z"
   },
   {
    "duration": 4,
    "start_time": "2022-11-08T21:04:46.096Z"
   },
   {
    "duration": 110,
    "start_time": "2022-11-08T21:04:46.101Z"
   },
   {
    "duration": 9,
    "start_time": "2022-11-08T21:04:46.212Z"
   },
   {
    "duration": 14,
    "start_time": "2022-11-08T21:04:46.222Z"
   },
   {
    "duration": 19,
    "start_time": "2022-11-08T21:04:46.237Z"
   },
   {
    "duration": 15,
    "start_time": "2022-11-08T21:04:46.258Z"
   },
   {
    "duration": 11,
    "start_time": "2022-11-08T21:04:46.274Z"
   },
   {
    "duration": 13,
    "start_time": "2022-11-08T21:04:46.286Z"
   },
   {
    "duration": 9,
    "start_time": "2022-11-08T21:04:46.300Z"
   },
   {
    "duration": 14,
    "start_time": "2022-11-08T21:04:46.310Z"
   },
   {
    "duration": 9,
    "start_time": "2022-11-08T21:04:46.325Z"
   },
   {
    "duration": 22,
    "start_time": "2022-11-08T21:04:46.336Z"
   },
   {
    "duration": 20,
    "start_time": "2022-11-08T21:04:46.359Z"
   },
   {
    "duration": 12,
    "start_time": "2022-11-08T21:04:46.380Z"
   },
   {
    "duration": 3,
    "start_time": "2022-11-08T21:06:38.895Z"
   },
   {
    "duration": 128,
    "start_time": "2022-11-08T21:06:39.917Z"
   },
   {
    "duration": 16,
    "start_time": "2022-11-08T21:06:40.638Z"
   },
   {
    "duration": 11,
    "start_time": "2022-11-08T21:06:41.075Z"
   },
   {
    "duration": 12,
    "start_time": "2022-11-08T21:06:43.038Z"
   },
   {
    "duration": 13,
    "start_time": "2022-11-08T21:06:43.796Z"
   },
   {
    "duration": 3,
    "start_time": "2022-11-08T21:06:44.081Z"
   },
   {
    "duration": 47,
    "start_time": "2022-11-08T21:06:44.568Z"
   },
   {
    "duration": 49,
    "start_time": "2022-11-08T21:06:44.875Z"
   },
   {
    "duration": 46,
    "start_time": "2022-11-08T21:06:45.175Z"
   },
   {
    "duration": 9,
    "start_time": "2022-11-08T21:06:45.838Z"
   },
   {
    "duration": 7,
    "start_time": "2022-11-08T21:06:46.191Z"
   },
   {
    "duration": 14,
    "start_time": "2022-11-08T21:06:46.760Z"
   },
   {
    "duration": 8,
    "start_time": "2022-11-08T21:06:47.038Z"
   },
   {
    "duration": 3,
    "start_time": "2022-11-08T21:06:48.482Z"
   },
   {
    "duration": 6,
    "start_time": "2022-11-08T21:06:48.918Z"
   },
   {
    "duration": 5,
    "start_time": "2022-11-08T21:06:49.320Z"
   },
   {
    "duration": 5,
    "start_time": "2022-11-08T21:06:49.697Z"
   },
   {
    "duration": 638,
    "start_time": "2022-11-08T21:06:50.672Z"
   },
   {
    "duration": 14,
    "start_time": "2022-11-08T21:06:52.598Z"
   },
   {
    "duration": 8,
    "start_time": "2022-11-08T21:06:52.798Z"
   },
   {
    "duration": 6,
    "start_time": "2022-11-08T21:06:53.190Z"
   },
   {
    "duration": 8,
    "start_time": "2022-11-08T21:06:53.993Z"
   },
   {
    "duration": 4,
    "start_time": "2022-11-08T21:06:54.186Z"
   },
   {
    "duration": 10,
    "start_time": "2022-11-08T21:06:54.595Z"
   },
   {
    "duration": 10,
    "start_time": "2022-11-08T21:06:56.545Z"
   },
   {
    "duration": 8,
    "start_time": "2022-11-08T21:06:57.844Z"
   },
   {
    "duration": 25,
    "start_time": "2022-11-08T21:06:59.965Z"
   },
   {
    "duration": 67,
    "start_time": "2022-11-08T21:07:02.165Z"
   },
   {
    "duration": 13,
    "start_time": "2022-11-08T21:07:03.044Z"
   },
   {
    "duration": 82,
    "start_time": "2022-11-08T21:07:03.656Z"
   },
   {
    "duration": 9,
    "start_time": "2022-11-08T21:07:04.949Z"
   },
   {
    "duration": 4,
    "start_time": "2022-11-08T21:07:06.250Z"
   },
   {
    "duration": 8,
    "start_time": "2022-11-08T21:07:06.553Z"
   },
   {
    "duration": 11,
    "start_time": "2022-11-08T21:07:13.905Z"
   },
   {
    "duration": 9,
    "start_time": "2022-11-08T21:07:15.069Z"
   },
   {
    "duration": 8,
    "start_time": "2022-11-08T21:07:23.318Z"
   },
   {
    "duration": 29,
    "start_time": "2022-11-08T21:07:25.160Z"
   },
   {
    "duration": 14,
    "start_time": "2022-11-08T21:07:26.284Z"
   },
   {
    "duration": 14,
    "start_time": "2022-11-08T21:07:26.560Z"
   },
   {
    "duration": 4,
    "start_time": "2022-11-08T21:07:26.816Z"
   },
   {
    "duration": 74,
    "start_time": "2022-11-08T21:07:27.979Z"
   },
   {
    "duration": 9,
    "start_time": "2022-11-08T21:07:28.649Z"
   },
   {
    "duration": 7,
    "start_time": "2022-11-08T21:07:28.943Z"
   },
   {
    "duration": 6,
    "start_time": "2022-11-08T21:07:30.274Z"
   },
   {
    "duration": 9,
    "start_time": "2022-11-08T21:07:30.823Z"
   },
   {
    "duration": 10,
    "start_time": "2022-11-08T21:07:32.497Z"
   },
   {
    "duration": 8,
    "start_time": "2022-11-08T21:07:33.137Z"
   },
   {
    "duration": 9,
    "start_time": "2022-11-08T21:07:33.635Z"
   },
   {
    "duration": 8,
    "start_time": "2022-11-08T21:07:37.098Z"
   },
   {
    "duration": 9,
    "start_time": "2022-11-08T21:07:38.078Z"
   },
   {
    "duration": 5,
    "start_time": "2022-11-08T21:07:38.313Z"
   },
   {
    "duration": 9,
    "start_time": "2022-11-08T21:07:38.906Z"
   },
   {
    "duration": 9,
    "start_time": "2022-11-08T21:07:39.725Z"
   },
   {
    "duration": 8,
    "start_time": "2022-11-08T21:17:44.361Z"
   },
   {
    "duration": 98,
    "start_time": "2022-11-08T21:18:12.174Z"
   },
   {
    "duration": 9,
    "start_time": "2022-11-08T21:18:23.590Z"
   },
   {
    "duration": 8,
    "start_time": "2022-11-08T21:18:50.487Z"
   },
   {
    "duration": 331,
    "start_time": "2022-11-08T21:20:02.189Z"
   },
   {
    "duration": 8,
    "start_time": "2022-11-08T21:20:08.449Z"
   },
   {
    "duration": 10,
    "start_time": "2022-11-08T21:21:54.850Z"
   },
   {
    "duration": 11,
    "start_time": "2022-11-08T21:22:47.684Z"
   },
   {
    "duration": 9,
    "start_time": "2022-11-08T21:24:28.286Z"
   },
   {
    "duration": 84,
    "start_time": "2022-11-08T21:29:11.182Z"
   },
   {
    "duration": 93,
    "start_time": "2022-11-08T21:29:16.256Z"
   },
   {
    "duration": 124,
    "start_time": "2022-11-08T21:29:20.658Z"
   },
   {
    "duration": 82,
    "start_time": "2022-11-08T21:29:26.880Z"
   },
   {
    "duration": 8,
    "start_time": "2022-11-08T21:29:33.224Z"
   },
   {
    "duration": 77,
    "start_time": "2022-11-08T21:29:39.211Z"
   },
   {
    "duration": 14,
    "start_time": "2022-11-08T21:30:06.876Z"
   },
   {
    "duration": 10,
    "start_time": "2022-11-08T21:30:15.456Z"
   },
   {
    "duration": 4,
    "start_time": "2022-11-08T21:33:29.559Z"
   },
   {
    "duration": 126,
    "start_time": "2022-11-08T21:33:30.128Z"
   },
   {
    "duration": 16,
    "start_time": "2022-11-08T21:33:30.955Z"
   },
   {
    "duration": 11,
    "start_time": "2022-11-08T21:33:31.427Z"
   },
   {
    "duration": 10,
    "start_time": "2022-11-08T21:33:33.578Z"
   },
   {
    "duration": 18,
    "start_time": "2022-11-08T21:33:34.416Z"
   },
   {
    "duration": 4,
    "start_time": "2022-11-08T21:33:34.757Z"
   },
   {
    "duration": 49,
    "start_time": "2022-11-08T21:33:35.059Z"
   },
   {
    "duration": 56,
    "start_time": "2022-11-08T21:33:35.541Z"
   },
   {
    "duration": 45,
    "start_time": "2022-11-08T21:33:35.782Z"
   },
   {
    "duration": 8,
    "start_time": "2022-11-08T21:33:36.334Z"
   },
   {
    "duration": 7,
    "start_time": "2022-11-08T21:33:36.590Z"
   },
   {
    "duration": 14,
    "start_time": "2022-11-08T21:33:37.037Z"
   },
   {
    "duration": 8,
    "start_time": "2022-11-08T21:33:37.266Z"
   },
   {
    "duration": 3,
    "start_time": "2022-11-08T21:33:38.694Z"
   },
   {
    "duration": 5,
    "start_time": "2022-11-08T21:33:39.237Z"
   },
   {
    "duration": 5,
    "start_time": "2022-11-08T21:33:39.852Z"
   },
   {
    "duration": 5,
    "start_time": "2022-11-08T21:33:40.415Z"
   },
   {
    "duration": 538,
    "start_time": "2022-11-08T21:33:40.996Z"
   },
   {
    "duration": 15,
    "start_time": "2022-11-08T21:33:42.077Z"
   },
   {
    "duration": 8,
    "start_time": "2022-11-08T21:33:42.365Z"
   },
   {
    "duration": 5,
    "start_time": "2022-11-08T21:33:42.959Z"
   },
   {
    "duration": 9,
    "start_time": "2022-11-08T21:33:43.632Z"
   },
   {
    "duration": 4,
    "start_time": "2022-11-08T21:33:44.006Z"
   },
   {
    "duration": 11,
    "start_time": "2022-11-08T21:33:44.824Z"
   },
   {
    "duration": 10,
    "start_time": "2022-11-08T21:33:48.122Z"
   },
   {
    "duration": 8,
    "start_time": "2022-11-08T21:33:49.567Z"
   },
   {
    "duration": 23,
    "start_time": "2022-11-08T21:33:53.708Z"
   },
   {
    "duration": 48,
    "start_time": "2022-11-08T21:34:01.734Z"
   },
   {
    "duration": 10,
    "start_time": "2022-11-08T21:34:03.784Z"
   },
   {
    "duration": 175,
    "start_time": "2022-11-08T21:34:05.756Z"
   },
   {
    "duration": 9,
    "start_time": "2022-11-08T21:34:07.840Z"
   },
   {
    "duration": 8,
    "start_time": "2022-11-08T21:37:41.445Z"
   },
   {
    "duration": 9,
    "start_time": "2022-11-08T21:38:24.320Z"
   },
   {
    "duration": 9,
    "start_time": "2022-11-08T21:38:27.659Z"
   },
   {
    "duration": 4,
    "start_time": "2022-11-08T21:38:28.758Z"
   },
   {
    "duration": 9,
    "start_time": "2022-11-08T21:38:28.984Z"
   },
   {
    "duration": 13,
    "start_time": "2022-11-08T21:38:29.177Z"
   },
   {
    "duration": 12,
    "start_time": "2022-11-08T21:38:29.376Z"
   },
   {
    "duration": 11,
    "start_time": "2022-11-08T21:40:12.932Z"
   },
   {
    "duration": 9,
    "start_time": "2022-11-08T21:40:56.733Z"
   },
   {
    "duration": 13,
    "start_time": "2022-11-08T21:41:43.144Z"
   },
   {
    "duration": 10,
    "start_time": "2022-11-08T21:42:00.014Z"
   },
   {
    "duration": 9,
    "start_time": "2022-11-08T21:42:27.640Z"
   },
   {
    "duration": 12,
    "start_time": "2022-11-08T21:42:37.537Z"
   },
   {
    "duration": 12,
    "start_time": "2022-11-08T21:42:58.624Z"
   },
   {
    "duration": 14,
    "start_time": "2022-11-08T21:43:21.586Z"
   },
   {
    "duration": 9,
    "start_time": "2022-11-08T21:43:37.012Z"
   },
   {
    "duration": 9,
    "start_time": "2022-11-08T21:43:59.388Z"
   },
   {
    "duration": 12,
    "start_time": "2022-11-08T21:44:05.568Z"
   },
   {
    "duration": 9,
    "start_time": "2022-11-08T21:44:11.550Z"
   },
   {
    "duration": 9,
    "start_time": "2022-11-08T21:44:37.983Z"
   },
   {
    "duration": 4,
    "start_time": "2022-11-08T21:44:52.984Z"
   },
   {
    "duration": 125,
    "start_time": "2022-11-08T21:44:53.757Z"
   },
   {
    "duration": 16,
    "start_time": "2022-11-08T21:44:54.259Z"
   },
   {
    "duration": 10,
    "start_time": "2022-11-08T21:44:54.588Z"
   },
   {
    "duration": 12,
    "start_time": "2022-11-08T21:44:56.267Z"
   },
   {
    "duration": 12,
    "start_time": "2022-11-08T21:44:57.297Z"
   },
   {
    "duration": 3,
    "start_time": "2022-11-08T21:44:57.673Z"
   },
   {
    "duration": 45,
    "start_time": "2022-11-08T21:44:58.004Z"
   },
   {
    "duration": 46,
    "start_time": "2022-11-08T21:44:58.400Z"
   },
   {
    "duration": 44,
    "start_time": "2022-11-08T21:44:58.737Z"
   },
   {
    "duration": 7,
    "start_time": "2022-11-08T21:44:59.394Z"
   },
   {
    "duration": 9,
    "start_time": "2022-11-08T21:44:59.696Z"
   },
   {
    "duration": 14,
    "start_time": "2022-11-08T21:45:00.541Z"
   },
   {
    "duration": 9,
    "start_time": "2022-11-08T21:45:00.887Z"
   },
   {
    "duration": 4,
    "start_time": "2022-11-08T21:45:02.192Z"
   },
   {
    "duration": 5,
    "start_time": "2022-11-08T21:45:02.689Z"
   },
   {
    "duration": 6,
    "start_time": "2022-11-08T21:45:03.132Z"
   },
   {
    "duration": 6,
    "start_time": "2022-11-08T21:45:03.696Z"
   },
   {
    "duration": 550,
    "start_time": "2022-11-08T21:45:04.185Z"
   },
   {
    "duration": 12,
    "start_time": "2022-11-08T21:45:07.142Z"
   },
   {
    "duration": 8,
    "start_time": "2022-11-08T21:45:07.425Z"
   },
   {
    "duration": 5,
    "start_time": "2022-11-08T21:45:07.935Z"
   },
   {
    "duration": 7,
    "start_time": "2022-11-08T21:45:08.574Z"
   },
   {
    "duration": 4,
    "start_time": "2022-11-08T21:45:08.884Z"
   },
   {
    "duration": 11,
    "start_time": "2022-11-08T21:45:09.375Z"
   },
   {
    "duration": 11,
    "start_time": "2022-11-08T21:45:10.617Z"
   },
   {
    "duration": 9,
    "start_time": "2022-11-08T21:45:11.617Z"
   },
   {
    "duration": 22,
    "start_time": "2022-11-08T21:45:13.779Z"
   },
   {
    "duration": 48,
    "start_time": "2022-11-08T21:45:15.281Z"
   },
   {
    "duration": 10,
    "start_time": "2022-11-08T21:45:15.903Z"
   },
   {
    "duration": 9,
    "start_time": "2022-11-08T21:45:16.123Z"
   },
   {
    "duration": 9,
    "start_time": "2022-11-08T21:45:18.722Z"
   },
   {
    "duration": 3,
    "start_time": "2022-11-08T21:45:19.982Z"
   },
   {
    "duration": 7,
    "start_time": "2022-11-08T21:45:20.282Z"
   },
   {
    "duration": 11,
    "start_time": "2022-11-08T21:45:20.795Z"
   },
   {
    "duration": 9,
    "start_time": "2022-11-08T21:45:21.389Z"
   },
   {
    "duration": 8,
    "start_time": "2022-11-08T21:45:40.000Z"
   },
   {
    "duration": 31,
    "start_time": "2022-11-08T21:45:42.080Z"
   },
   {
    "duration": 14,
    "start_time": "2022-11-08T21:45:43.233Z"
   },
   {
    "duration": 14,
    "start_time": "2022-11-08T21:45:43.579Z"
   },
   {
    "duration": 5,
    "start_time": "2022-11-08T21:45:43.918Z"
   },
   {
    "duration": 69,
    "start_time": "2022-11-08T21:45:45.155Z"
   },
   {
    "duration": 10,
    "start_time": "2022-11-08T21:45:45.804Z"
   },
   {
    "duration": 7,
    "start_time": "2022-11-08T21:45:46.120Z"
   },
   {
    "duration": 6,
    "start_time": "2022-11-08T21:45:47.222Z"
   },
   {
    "duration": 8,
    "start_time": "2022-11-08T21:45:47.541Z"
   },
   {
    "duration": 8,
    "start_time": "2022-11-08T21:45:49.070Z"
   },
   {
    "duration": 8,
    "start_time": "2022-11-08T21:45:49.592Z"
   },
   {
    "duration": 8,
    "start_time": "2022-11-08T21:45:50.100Z"
   },
   {
    "duration": 9,
    "start_time": "2022-11-08T21:45:53.526Z"
   },
   {
    "duration": 8,
    "start_time": "2022-11-08T21:45:54.211Z"
   },
   {
    "duration": 5,
    "start_time": "2022-11-08T21:45:54.514Z"
   },
   {
    "duration": 8,
    "start_time": "2022-11-08T21:45:58.296Z"
   },
   {
    "duration": 8,
    "start_time": "2022-11-08T21:45:59.164Z"
   },
   {
    "duration": 4,
    "start_time": "2022-11-08T21:46:21.011Z"
   },
   {
    "duration": 147,
    "start_time": "2022-11-08T21:46:21.017Z"
   },
   {
    "duration": 17,
    "start_time": "2022-11-08T21:46:21.166Z"
   },
   {
    "duration": 9,
    "start_time": "2022-11-08T21:46:21.185Z"
   },
   {
    "duration": 17,
    "start_time": "2022-11-08T21:46:21.195Z"
   },
   {
    "duration": 12,
    "start_time": "2022-11-08T21:46:21.213Z"
   },
   {
    "duration": 3,
    "start_time": "2022-11-08T21:46:21.227Z"
   },
   {
    "duration": 46,
    "start_time": "2022-11-08T21:46:21.255Z"
   },
   {
    "duration": 68,
    "start_time": "2022-11-08T21:46:21.303Z"
   },
   {
    "duration": 43,
    "start_time": "2022-11-08T21:46:21.374Z"
   },
   {
    "duration": 6,
    "start_time": "2022-11-08T21:46:21.419Z"
   },
   {
    "duration": 15,
    "start_time": "2022-11-08T21:46:21.427Z"
   },
   {
    "duration": 27,
    "start_time": "2022-11-08T21:46:21.443Z"
   },
   {
    "duration": 8,
    "start_time": "2022-11-08T21:46:21.471Z"
   },
   {
    "duration": 5,
    "start_time": "2022-11-08T21:46:21.480Z"
   },
   {
    "duration": 6,
    "start_time": "2022-11-08T21:46:21.487Z"
   },
   {
    "duration": 5,
    "start_time": "2022-11-08T21:46:21.494Z"
   },
   {
    "duration": 8,
    "start_time": "2022-11-08T21:46:21.500Z"
   },
   {
    "duration": 714,
    "start_time": "2022-11-08T21:46:21.510Z"
   },
   {
    "duration": 13,
    "start_time": "2022-11-08T21:46:22.226Z"
   },
   {
    "duration": 19,
    "start_time": "2022-11-08T21:46:22.241Z"
   },
   {
    "duration": 7,
    "start_time": "2022-11-08T21:46:22.262Z"
   },
   {
    "duration": 9,
    "start_time": "2022-11-08T21:46:22.270Z"
   },
   {
    "duration": 3,
    "start_time": "2022-11-08T21:46:22.280Z"
   },
   {
    "duration": 14,
    "start_time": "2022-11-08T21:46:22.285Z"
   },
   {
    "duration": 12,
    "start_time": "2022-11-08T21:46:22.301Z"
   },
   {
    "duration": 8,
    "start_time": "2022-11-08T21:46:22.314Z"
   },
   {
    "duration": 28,
    "start_time": "2022-11-08T21:46:22.357Z"
   },
   {
    "duration": 77,
    "start_time": "2022-11-08T21:46:22.387Z"
   },
   {
    "duration": 11,
    "start_time": "2022-11-08T21:46:22.465Z"
   },
   {
    "duration": 10,
    "start_time": "2022-11-08T21:46:22.479Z"
   },
   {
    "duration": 17,
    "start_time": "2022-11-08T21:46:22.491Z"
   },
   {
    "duration": 11,
    "start_time": "2022-11-08T21:46:22.510Z"
   },
   {
    "duration": 15,
    "start_time": "2022-11-08T21:46:22.522Z"
   },
   {
    "duration": 29,
    "start_time": "2022-11-08T21:46:22.539Z"
   },
   {
    "duration": 12,
    "start_time": "2022-11-08T21:46:22.570Z"
   },
   {
    "duration": 8,
    "start_time": "2022-11-08T21:46:22.583Z"
   },
   {
    "duration": 31,
    "start_time": "2022-11-08T21:46:22.593Z"
   },
   {
    "duration": 36,
    "start_time": "2022-11-08T21:46:22.626Z"
   },
   {
    "duration": 14,
    "start_time": "2022-11-08T21:46:22.663Z"
   },
   {
    "duration": 4,
    "start_time": "2022-11-08T21:46:22.678Z"
   },
   {
    "duration": 88,
    "start_time": "2022-11-08T21:46:22.683Z"
   },
   {
    "duration": 9,
    "start_time": "2022-11-08T21:46:22.772Z"
   },
   {
    "duration": 7,
    "start_time": "2022-11-08T21:46:22.783Z"
   },
   {
    "duration": 6,
    "start_time": "2022-11-08T21:46:22.792Z"
   },
   {
    "duration": 11,
    "start_time": "2022-11-08T21:46:22.800Z"
   },
   {
    "duration": 8,
    "start_time": "2022-11-08T21:46:22.812Z"
   },
   {
    "duration": 35,
    "start_time": "2022-11-08T21:46:22.821Z"
   },
   {
    "duration": 9,
    "start_time": "2022-11-08T21:46:22.857Z"
   },
   {
    "duration": 10,
    "start_time": "2022-11-08T21:46:22.867Z"
   },
   {
    "duration": 12,
    "start_time": "2022-11-08T21:46:22.878Z"
   },
   {
    "duration": 4,
    "start_time": "2022-11-08T21:46:22.892Z"
   },
   {
    "duration": 10,
    "start_time": "2022-11-08T21:46:22.897Z"
   },
   {
    "duration": 9,
    "start_time": "2022-11-08T21:46:22.909Z"
   },
   {
    "duration": 1002,
    "start_time": "2022-11-08T21:46:37.627Z"
   },
   {
    "duration": 181,
    "start_time": "2022-11-08T21:46:38.631Z"
   },
   {
    "duration": 18,
    "start_time": "2022-11-08T21:46:38.813Z"
   },
   {
    "duration": 11,
    "start_time": "2022-11-08T21:46:38.832Z"
   },
   {
    "duration": 19,
    "start_time": "2022-11-08T21:46:38.845Z"
   },
   {
    "duration": 12,
    "start_time": "2022-11-08T21:46:38.865Z"
   },
   {
    "duration": 6,
    "start_time": "2022-11-08T21:46:38.878Z"
   },
   {
    "duration": 74,
    "start_time": "2022-11-08T21:46:38.885Z"
   },
   {
    "duration": 65,
    "start_time": "2022-11-08T21:46:38.960Z"
   },
   {
    "duration": 57,
    "start_time": "2022-11-08T21:46:39.027Z"
   },
   {
    "duration": 9,
    "start_time": "2022-11-08T21:46:39.085Z"
   },
   {
    "duration": 11,
    "start_time": "2022-11-08T21:46:39.095Z"
   },
   {
    "duration": 15,
    "start_time": "2022-11-08T21:46:39.107Z"
   },
   {
    "duration": 7,
    "start_time": "2022-11-08T21:46:39.123Z"
   },
   {
    "duration": 25,
    "start_time": "2022-11-08T21:46:39.131Z"
   },
   {
    "duration": 4,
    "start_time": "2022-11-08T21:46:39.157Z"
   },
   {
    "duration": 5,
    "start_time": "2022-11-08T21:46:39.162Z"
   },
   {
    "duration": 8,
    "start_time": "2022-11-08T21:46:39.168Z"
   },
   {
    "duration": 656,
    "start_time": "2022-11-08T21:46:39.177Z"
   },
   {
    "duration": 21,
    "start_time": "2022-11-08T21:46:39.834Z"
   },
   {
    "duration": 8,
    "start_time": "2022-11-08T21:46:39.856Z"
   },
   {
    "duration": 8,
    "start_time": "2022-11-08T21:46:39.865Z"
   },
   {
    "duration": 9,
    "start_time": "2022-11-08T21:46:39.874Z"
   },
   {
    "duration": 3,
    "start_time": "2022-11-08T21:46:39.884Z"
   },
   {
    "duration": 12,
    "start_time": "2022-11-08T21:46:39.889Z"
   },
   {
    "duration": 12,
    "start_time": "2022-11-08T21:46:39.902Z"
   },
   {
    "duration": 41,
    "start_time": "2022-11-08T21:46:39.915Z"
   },
   {
    "duration": 22,
    "start_time": "2022-11-08T21:46:39.959Z"
   },
   {
    "duration": 48,
    "start_time": "2022-11-08T21:46:39.982Z"
   },
   {
    "duration": 35,
    "start_time": "2022-11-08T21:46:40.032Z"
   },
   {
    "duration": 143,
    "start_time": "2022-11-08T21:46:40.069Z"
   },
   {
    "duration": 11,
    "start_time": "2022-11-08T21:46:40.214Z"
   },
   {
    "duration": 9,
    "start_time": "2022-11-08T21:46:40.227Z"
   },
   {
    "duration": 29,
    "start_time": "2022-11-08T21:46:40.238Z"
   },
   {
    "duration": 16,
    "start_time": "2022-11-08T21:46:40.269Z"
   },
   {
    "duration": 11,
    "start_time": "2022-11-08T21:46:40.287Z"
   },
   {
    "duration": 18,
    "start_time": "2022-11-08T21:46:40.300Z"
   },
   {
    "duration": 58,
    "start_time": "2022-11-08T21:46:40.319Z"
   },
   {
    "duration": 14,
    "start_time": "2022-11-08T21:46:40.379Z"
   },
   {
    "duration": 20,
    "start_time": "2022-11-08T21:46:40.394Z"
   },
   {
    "duration": 4,
    "start_time": "2022-11-08T21:46:40.415Z"
   },
   {
    "duration": 89,
    "start_time": "2022-11-08T21:46:40.420Z"
   },
   {
    "duration": 9,
    "start_time": "2022-11-08T21:46:40.510Z"
   },
   {
    "duration": 12,
    "start_time": "2022-11-08T21:46:40.520Z"
   },
   {
    "duration": 5,
    "start_time": "2022-11-08T21:46:40.533Z"
   },
   {
    "duration": 22,
    "start_time": "2022-11-08T21:46:40.539Z"
   },
   {
    "duration": 11,
    "start_time": "2022-11-08T21:46:40.562Z"
   },
   {
    "duration": 8,
    "start_time": "2022-11-08T21:46:40.574Z"
   },
   {
    "duration": 13,
    "start_time": "2022-11-08T21:46:40.584Z"
   },
   {
    "duration": 8,
    "start_time": "2022-11-08T21:46:40.598Z"
   },
   {
    "duration": 12,
    "start_time": "2022-11-08T21:46:40.608Z"
   },
   {
    "duration": 5,
    "start_time": "2022-11-08T21:46:40.622Z"
   },
   {
    "duration": 34,
    "start_time": "2022-11-08T21:46:40.628Z"
   },
   {
    "duration": 8,
    "start_time": "2022-11-08T21:46:40.664Z"
   },
   {
    "duration": 1208,
    "start_time": "2022-11-10T16:47:18.958Z"
   },
   {
    "duration": 729,
    "start_time": "2022-11-10T16:47:20.168Z"
   },
   {
    "duration": 23,
    "start_time": "2022-11-10T16:47:21.480Z"
   },
   {
    "duration": 15,
    "start_time": "2022-11-10T16:47:22.034Z"
   },
   {
    "duration": 12,
    "start_time": "2022-11-10T16:47:24.557Z"
   },
   {
    "duration": 13,
    "start_time": "2022-11-10T16:47:26.528Z"
   },
   {
    "duration": 4,
    "start_time": "2022-11-10T16:47:26.805Z"
   },
   {
    "duration": 72,
    "start_time": "2022-11-10T16:47:27.098Z"
   },
   {
    "duration": 65,
    "start_time": "2022-11-10T16:47:27.366Z"
   },
   {
    "duration": 49,
    "start_time": "2022-11-10T16:47:27.638Z"
   },
   {
    "duration": 9,
    "start_time": "2022-11-10T16:47:28.226Z"
   },
   {
    "duration": 9,
    "start_time": "2022-11-10T16:47:28.482Z"
   },
   {
    "duration": 16,
    "start_time": "2022-11-10T16:47:29.126Z"
   },
   {
    "duration": 8,
    "start_time": "2022-11-10T16:47:29.413Z"
   },
   {
    "duration": 4,
    "start_time": "2022-11-10T16:47:38.926Z"
   },
   {
    "duration": 5,
    "start_time": "2022-11-10T16:47:39.748Z"
   },
   {
    "duration": 6,
    "start_time": "2022-11-10T16:47:40.676Z"
   },
   {
    "duration": 5,
    "start_time": "2022-11-10T16:47:41.302Z"
   },
   {
    "duration": 765,
    "start_time": "2022-11-10T16:47:41.784Z"
   },
   {
    "duration": 14,
    "start_time": "2022-11-10T16:47:43.376Z"
   },
   {
    "duration": 8,
    "start_time": "2022-11-10T16:47:43.864Z"
   },
   {
    "duration": 6,
    "start_time": "2022-11-10T16:47:44.625Z"
   },
   {
    "duration": 9,
    "start_time": "2022-11-10T16:47:45.377Z"
   },
   {
    "duration": 4,
    "start_time": "2022-11-10T16:47:45.745Z"
   },
   {
    "duration": 11,
    "start_time": "2022-11-10T16:47:46.469Z"
   },
   {
    "duration": 11,
    "start_time": "2022-11-10T16:47:55.251Z"
   },
   {
    "duration": 9,
    "start_time": "2022-11-10T16:47:58.312Z"
   },
   {
    "duration": 24,
    "start_time": "2022-11-10T16:48:03.627Z"
   },
   {
    "duration": 51,
    "start_time": "2022-11-10T16:48:05.093Z"
   },
   {
    "duration": 12,
    "start_time": "2022-11-10T16:48:05.769Z"
   },
   {
    "duration": 144,
    "start_time": "2022-11-10T16:48:06.048Z"
   },
   {
    "duration": 10,
    "start_time": "2022-11-10T16:48:09.882Z"
   },
   {
    "duration": 4,
    "start_time": "2022-11-10T16:48:12.476Z"
   },
   {
    "duration": 7,
    "start_time": "2022-11-10T16:48:13.004Z"
   },
   {
    "duration": 11,
    "start_time": "2022-11-10T16:48:13.563Z"
   },
   {
    "duration": 9,
    "start_time": "2022-11-10T16:48:15.584Z"
   },
   {
    "duration": 7,
    "start_time": "2022-11-10T16:48:44.764Z"
   },
   {
    "duration": 37,
    "start_time": "2022-11-10T16:48:46.254Z"
   },
   {
    "duration": 14,
    "start_time": "2022-11-10T16:48:47.049Z"
   },
   {
    "duration": 14,
    "start_time": "2022-11-10T16:48:47.251Z"
   },
   {
    "duration": 4,
    "start_time": "2022-11-10T16:48:47.469Z"
   },
   {
    "duration": 78,
    "start_time": "2022-11-10T16:48:48.636Z"
   },
   {
    "duration": 10,
    "start_time": "2022-11-10T16:48:49.073Z"
   },
   {
    "duration": 7,
    "start_time": "2022-11-10T16:48:49.276Z"
   },
   {
    "duration": 5,
    "start_time": "2022-11-10T16:48:49.895Z"
   },
   {
    "duration": 9,
    "start_time": "2022-11-10T16:48:50.105Z"
   },
   {
    "duration": 9,
    "start_time": "2022-11-10T16:48:51.156Z"
   },
   {
    "duration": 8,
    "start_time": "2022-11-10T16:48:51.881Z"
   },
   {
    "duration": 7,
    "start_time": "2022-11-10T16:48:52.309Z"
   },
   {
    "duration": 7,
    "start_time": "2022-11-10T16:48:55.281Z"
   },
   {
    "duration": 8,
    "start_time": "2022-11-10T16:48:55.919Z"
   },
   {
    "duration": 5,
    "start_time": "2022-11-10T16:48:56.157Z"
   },
   {
    "duration": 8,
    "start_time": "2022-11-10T16:48:56.704Z"
   },
   {
    "duration": 7,
    "start_time": "2022-11-10T16:48:57.211Z"
   },
   {
    "duration": 1077,
    "start_time": "2022-11-21T12:21:12.882Z"
   },
   {
    "duration": 98,
    "start_time": "2022-11-21T12:24:12.940Z"
   },
   {
    "duration": 62,
    "start_time": "2022-11-21T12:24:19.174Z"
   },
   {
    "duration": 184,
    "start_time": "2022-11-21T12:24:19.847Z"
   },
   {
    "duration": 21,
    "start_time": "2022-11-21T12:24:20.766Z"
   },
   {
    "duration": 16,
    "start_time": "2022-11-21T12:26:55.218Z"
   },
   {
    "duration": 16,
    "start_time": "2022-11-21T15:47:27.694Z"
   },
   {
    "duration": 963,
    "start_time": "2022-11-22T10:24:21.520Z"
   },
   {
    "duration": 561,
    "start_time": "2022-11-22T10:24:22.484Z"
   },
   {
    "duration": 21,
    "start_time": "2022-11-22T10:24:23.047Z"
   },
   {
    "duration": 14,
    "start_time": "2022-11-22T10:24:23.227Z"
   },
   {
    "duration": 11,
    "start_time": "2022-11-22T10:24:24.477Z"
   },
   {
    "duration": 14,
    "start_time": "2022-11-22T10:24:25.240Z"
   },
   {
    "duration": 3,
    "start_time": "2022-11-22T10:24:25.461Z"
   },
   {
    "duration": 62,
    "start_time": "2022-11-22T10:24:25.682Z"
   },
   {
    "duration": 66,
    "start_time": "2022-11-22T10:24:25.883Z"
   },
   {
    "duration": 50,
    "start_time": "2022-11-22T10:24:26.112Z"
   },
   {
    "duration": 9,
    "start_time": "2022-11-22T10:24:26.538Z"
   },
   {
    "duration": 8,
    "start_time": "2022-11-22T10:24:26.766Z"
   },
   {
    "duration": 22,
    "start_time": "2022-11-22T10:24:27.402Z"
   },
   {
    "duration": 11,
    "start_time": "2022-11-22T10:24:27.817Z"
   },
   {
    "duration": 3,
    "start_time": "2022-11-22T10:24:29.070Z"
   },
   {
    "duration": 8,
    "start_time": "2022-11-22T10:24:29.824Z"
   },
   {
    "duration": 5,
    "start_time": "2022-11-22T10:24:30.423Z"
   },
   {
    "duration": 5,
    "start_time": "2022-11-22T10:24:31.050Z"
   },
   {
    "duration": 655,
    "start_time": "2022-11-22T10:24:31.445Z"
   },
   {
    "duration": 14,
    "start_time": "2022-11-22T10:24:32.101Z"
   },
   {
    "duration": 9,
    "start_time": "2022-11-22T10:24:32.269Z"
   },
   {
    "duration": 6,
    "start_time": "2022-11-22T10:24:33.090Z"
   },
   {
    "duration": 9,
    "start_time": "2022-11-22T10:24:33.954Z"
   },
   {
    "duration": 4,
    "start_time": "2022-11-22T10:24:34.164Z"
   },
   {
    "duration": 11,
    "start_time": "2022-11-22T10:24:34.831Z"
   },
   {
    "duration": 11,
    "start_time": "2022-11-22T10:24:35.723Z"
   },
   {
    "duration": 11,
    "start_time": "2022-11-22T10:24:36.583Z"
   },
   {
    "duration": 24,
    "start_time": "2022-11-22T10:24:38.816Z"
   },
   {
    "duration": 55,
    "start_time": "2022-11-22T10:24:41.526Z"
   },
   {
    "duration": 10,
    "start_time": "2022-11-22T10:24:44.347Z"
   },
   {
    "duration": 169,
    "start_time": "2022-11-22T10:24:45.144Z"
   },
   {
    "duration": 1147,
    "start_time": "2022-12-01T17:45:22.115Z"
   },
   {
    "duration": 393,
    "start_time": "2022-12-01T17:45:23.264Z"
   },
   {
    "duration": 22,
    "start_time": "2022-12-01T17:45:23.658Z"
   },
   {
    "duration": 13,
    "start_time": "2022-12-01T17:45:23.681Z"
   },
   {
    "duration": 15,
    "start_time": "2022-12-01T17:45:25.057Z"
   },
   {
    "duration": 28,
    "start_time": "2022-12-01T17:45:25.711Z"
   },
   {
    "duration": 5,
    "start_time": "2022-12-01T17:45:25.930Z"
   },
   {
    "duration": 72,
    "start_time": "2022-12-01T17:45:26.152Z"
   },
   {
    "duration": 80,
    "start_time": "2022-12-01T17:45:26.351Z"
   },
   {
    "duration": 53,
    "start_time": "2022-12-01T17:45:26.560Z"
   },
   {
    "duration": 12,
    "start_time": "2022-12-01T17:45:26.999Z"
   },
   {
    "duration": 11,
    "start_time": "2022-12-01T17:45:27.176Z"
   },
   {
    "duration": 26,
    "start_time": "2022-12-01T17:45:28.057Z"
   },
   {
    "duration": 9,
    "start_time": "2022-12-01T17:45:28.278Z"
   },
   {
    "duration": 4,
    "start_time": "2022-12-01T17:45:29.374Z"
   },
   {
    "duration": 6,
    "start_time": "2022-12-01T17:45:29.796Z"
   },
   {
    "duration": 6,
    "start_time": "2022-12-01T17:45:30.607Z"
   },
   {
    "duration": 7,
    "start_time": "2022-12-01T17:45:31.216Z"
   },
   {
    "duration": 871,
    "start_time": "2022-12-01T17:45:31.630Z"
   },
   {
    "duration": 17,
    "start_time": "2022-12-01T17:45:32.503Z"
   },
   {
    "duration": 26,
    "start_time": "2022-12-01T17:45:32.527Z"
   },
   {
    "duration": 6,
    "start_time": "2022-12-01T17:45:33.066Z"
   },
   {
    "duration": 10,
    "start_time": "2022-12-01T17:45:33.681Z"
   },
   {
    "duration": 4,
    "start_time": "2022-12-01T17:45:33.947Z"
   },
   {
    "duration": 13,
    "start_time": "2022-12-01T17:45:34.393Z"
   },
   {
    "duration": 13,
    "start_time": "2022-12-01T17:45:35.309Z"
   },
   {
    "duration": 10,
    "start_time": "2022-12-01T17:45:35.978Z"
   },
   {
    "duration": 34,
    "start_time": "2022-12-01T17:45:37.757Z"
   },
   {
    "duration": 59,
    "start_time": "2022-12-01T17:45:46.370Z"
   },
   {
    "duration": 13,
    "start_time": "2022-12-01T17:45:47.674Z"
   },
   {
    "duration": 171,
    "start_time": "2022-12-01T17:45:49.813Z"
   },
   {
    "duration": 11,
    "start_time": "2022-12-01T17:46:30.573Z"
   },
   {
    "duration": 7,
    "start_time": "2022-12-01T17:46:31.631Z"
   },
   {
    "duration": 12,
    "start_time": "2022-12-01T17:46:32.051Z"
   },
   {
    "duration": 13,
    "start_time": "2022-12-01T17:46:32.700Z"
   },
   {
    "duration": 10,
    "start_time": "2022-12-01T17:46:33.374Z"
   },
   {
    "duration": 8,
    "start_time": "2022-12-01T17:46:36.856Z"
   },
   {
    "duration": 47,
    "start_time": "2022-12-01T17:46:38.333Z"
   },
   {
    "duration": 18,
    "start_time": "2022-12-01T17:46:39.061Z"
   },
   {
    "duration": 18,
    "start_time": "2022-12-01T17:46:39.291Z"
   },
   {
    "duration": 5,
    "start_time": "2022-12-01T17:46:39.508Z"
   },
   {
    "duration": 87,
    "start_time": "2022-12-01T17:46:40.530Z"
   },
   {
    "duration": 11,
    "start_time": "2022-12-01T17:46:41.247Z"
   },
   {
    "duration": 7,
    "start_time": "2022-12-01T17:46:41.467Z"
   },
   {
    "duration": 6,
    "start_time": "2022-12-01T17:46:42.464Z"
   },
   {
    "duration": 11,
    "start_time": "2022-12-01T17:46:43.159Z"
   },
   {
    "duration": 994,
    "start_time": "2022-12-26T17:24:39.145Z"
   },
   {
    "duration": 788,
    "start_time": "2022-12-26T17:24:40.141Z"
   },
   {
    "duration": 18,
    "start_time": "2022-12-26T17:24:40.930Z"
   },
   {
    "duration": 12,
    "start_time": "2022-12-26T17:24:40.949Z"
   },
   {
    "duration": 13,
    "start_time": "2022-12-26T17:24:41.561Z"
   },
   {
    "duration": 12,
    "start_time": "2022-12-26T17:24:42.137Z"
   },
   {
    "duration": 3,
    "start_time": "2022-12-26T17:24:42.337Z"
   },
   {
    "duration": 62,
    "start_time": "2022-12-26T17:24:42.544Z"
   },
   {
    "duration": 69,
    "start_time": "2022-12-26T17:24:42.752Z"
   },
   {
    "duration": 49,
    "start_time": "2022-12-26T17:24:42.914Z"
   },
   {
    "duration": 9,
    "start_time": "2022-12-26T17:24:43.321Z"
   },
   {
    "duration": 8,
    "start_time": "2022-12-26T17:24:43.509Z"
   },
   {
    "duration": 15,
    "start_time": "2022-12-26T17:24:43.885Z"
   },
   {
    "duration": 9,
    "start_time": "2022-12-26T17:24:44.087Z"
   },
   {
    "duration": 3,
    "start_time": "2022-12-26T17:24:45.119Z"
   },
   {
    "duration": 5,
    "start_time": "2022-12-26T17:24:45.518Z"
   },
   {
    "duration": 5,
    "start_time": "2022-12-26T17:24:45.891Z"
   },
   {
    "duration": 5,
    "start_time": "2022-12-26T17:24:46.314Z"
   },
   {
    "duration": 676,
    "start_time": "2022-12-26T17:24:46.714Z"
   },
   {
    "duration": 16,
    "start_time": "2022-12-26T17:24:47.979Z"
   },
   {
    "duration": 9,
    "start_time": "2022-12-26T17:24:48.318Z"
   },
   {
    "duration": 5,
    "start_time": "2022-12-26T17:24:48.807Z"
   },
   {
    "duration": 10,
    "start_time": "2022-12-26T17:24:49.214Z"
   },
   {
    "duration": 3,
    "start_time": "2022-12-26T17:24:49.418Z"
   },
   {
    "duration": 12,
    "start_time": "2022-12-26T17:24:49.839Z"
   },
   {
    "duration": 11,
    "start_time": "2022-12-26T17:24:50.876Z"
   },
   {
    "duration": 9,
    "start_time": "2022-12-26T17:24:51.526Z"
   },
   {
    "duration": 24,
    "start_time": "2022-12-26T17:24:53.487Z"
   },
   {
    "duration": 49,
    "start_time": "2022-12-26T17:24:54.691Z"
   },
   {
    "duration": 10,
    "start_time": "2022-12-26T17:24:55.605Z"
   },
   {
    "duration": 132,
    "start_time": "2022-12-26T17:24:55.854Z"
   },
   {
    "duration": 10,
    "start_time": "2022-12-26T17:24:58.198Z"
   },
   {
    "duration": 4,
    "start_time": "2022-12-26T17:24:59.567Z"
   },
   {
    "duration": 8,
    "start_time": "2022-12-26T17:24:59.955Z"
   },
   {
    "duration": 11,
    "start_time": "2022-12-26T17:25:00.246Z"
   },
   {
    "duration": 10,
    "start_time": "2022-12-26T17:25:01.040Z"
   },
   {
    "duration": 9,
    "start_time": "2022-12-26T17:25:04.282Z"
   },
   {
    "duration": 38,
    "start_time": "2022-12-26T17:25:05.957Z"
   },
   {
    "duration": 17,
    "start_time": "2022-12-26T17:25:06.991Z"
   },
   {
    "duration": 16,
    "start_time": "2022-12-26T17:25:07.240Z"
   },
   {
    "duration": 6,
    "start_time": "2022-12-26T17:25:07.573Z"
   },
   {
    "duration": 80,
    "start_time": "2022-12-26T17:25:08.673Z"
   },
   {
    "duration": 10,
    "start_time": "2022-12-26T17:25:09.419Z"
   },
   {
    "duration": 6,
    "start_time": "2022-12-26T17:25:09.650Z"
   },
   {
    "duration": 5,
    "start_time": "2022-12-26T17:25:10.967Z"
   },
   {
    "duration": 9,
    "start_time": "2022-12-26T17:25:11.597Z"
   },
   {
    "duration": 8,
    "start_time": "2022-12-26T17:25:13.116Z"
   },
   {
    "duration": 1012,
    "start_time": "2022-12-31T10:02:47.461Z"
   },
   {
    "duration": 531,
    "start_time": "2022-12-31T10:02:48.475Z"
   },
   {
    "duration": 20,
    "start_time": "2022-12-31T10:02:49.009Z"
   },
   {
    "duration": 18,
    "start_time": "2022-12-31T10:02:49.963Z"
   },
   {
    "duration": 16,
    "start_time": "2022-12-31T10:02:51.315Z"
   },
   {
    "duration": 14,
    "start_time": "2022-12-31T10:02:51.894Z"
   },
   {
    "duration": 4,
    "start_time": "2022-12-31T10:02:52.083Z"
   },
   {
    "duration": 62,
    "start_time": "2022-12-31T10:02:52.282Z"
   },
   {
    "duration": 69,
    "start_time": "2022-12-31T10:02:52.478Z"
   },
   {
    "duration": 55,
    "start_time": "2022-12-31T10:02:52.679Z"
   },
   {
    "duration": 9,
    "start_time": "2022-12-31T10:02:53.066Z"
   },
   {
    "duration": 8,
    "start_time": "2022-12-31T10:02:53.255Z"
   },
   {
    "duration": 16,
    "start_time": "2022-12-31T10:02:53.891Z"
   },
   {
    "duration": 10,
    "start_time": "2022-12-31T10:02:54.159Z"
   },
   {
    "duration": 3,
    "start_time": "2022-12-31T10:02:57.065Z"
   },
   {
    "duration": 5,
    "start_time": "2022-12-31T10:02:57.871Z"
   },
   {
    "duration": 5,
    "start_time": "2022-12-31T10:02:59.541Z"
   },
   {
    "duration": 6,
    "start_time": "2022-12-31T10:03:01.139Z"
   },
   {
    "duration": 719,
    "start_time": "2022-12-31T10:03:02.212Z"
   },
   {
    "duration": 15,
    "start_time": "2022-12-31T10:03:03.718Z"
   },
   {
    "duration": 9,
    "start_time": "2022-12-31T10:03:05.623Z"
   },
   {
    "duration": 7,
    "start_time": "2022-12-31T10:03:06.755Z"
   },
   {
    "duration": 12,
    "start_time": "2022-12-31T10:03:15.195Z"
   },
   {
    "duration": 4,
    "start_time": "2022-12-31T10:03:16.353Z"
   },
   {
    "duration": 13,
    "start_time": "2022-12-31T10:03:17.352Z"
   },
   {
    "duration": 16,
    "start_time": "2022-12-31T10:03:29.817Z"
   },
   {
    "duration": 11,
    "start_time": "2022-12-31T10:03:31.522Z"
   },
   {
    "duration": 33,
    "start_time": "2022-12-31T10:03:42.001Z"
   },
   {
    "duration": 91,
    "start_time": "2022-12-31T10:08:20.757Z"
   },
   {
    "duration": 54,
    "start_time": "2022-12-31T10:09:24.195Z"
   },
   {
    "duration": 11,
    "start_time": "2022-12-31T10:09:25.294Z"
   },
   {
    "duration": 146,
    "start_time": "2022-12-31T10:09:27.428Z"
   },
   {
    "duration": 3,
    "start_time": "2022-12-31T13:15:27.891Z"
   },
   {
    "duration": 166,
    "start_time": "2022-12-31T13:15:28.291Z"
   },
   {
    "duration": 18,
    "start_time": "2022-12-31T13:15:29.032Z"
   },
   {
    "duration": 10,
    "start_time": "2022-12-31T13:15:29.535Z"
   },
   {
    "duration": 15,
    "start_time": "2022-12-31T13:15:31.873Z"
   },
   {
    "duration": 21,
    "start_time": "2022-12-31T13:15:33.096Z"
   },
   {
    "duration": 5,
    "start_time": "2022-12-31T13:15:33.731Z"
   },
   {
    "duration": 70,
    "start_time": "2022-12-31T13:15:34.128Z"
   },
   {
    "duration": 63,
    "start_time": "2022-12-31T13:15:34.493Z"
   },
   {
    "duration": 73,
    "start_time": "2022-12-31T13:15:34.802Z"
   },
   {
    "duration": 8,
    "start_time": "2022-12-31T13:15:35.535Z"
   },
   {
    "duration": 8,
    "start_time": "2022-12-31T13:15:35.768Z"
   },
   {
    "duration": 21,
    "start_time": "2022-12-31T13:15:36.328Z"
   },
   {
    "duration": 11,
    "start_time": "2022-12-31T13:15:36.562Z"
   },
   {
    "duration": 3,
    "start_time": "2022-12-31T13:15:37.796Z"
   },
   {
    "duration": 7,
    "start_time": "2022-12-31T13:15:38.603Z"
   },
   {
    "duration": 5,
    "start_time": "2022-12-31T13:15:39.942Z"
   },
   {
    "duration": 6,
    "start_time": "2022-12-31T13:15:40.767Z"
   },
   {
    "duration": 739,
    "start_time": "2022-12-31T13:15:42.291Z"
   },
   {
    "duration": 13,
    "start_time": "2022-12-31T13:17:18.032Z"
   },
   {
    "duration": 9,
    "start_time": "2022-12-31T13:17:20.066Z"
   },
   {
    "duration": 1011,
    "start_time": "2023-01-06T12:55:01.456Z"
   },
   {
    "duration": 791,
    "start_time": "2023-01-06T12:55:02.468Z"
   },
   {
    "duration": 20,
    "start_time": "2023-01-06T12:55:03.544Z"
   },
   {
    "duration": 11,
    "start_time": "2023-01-06T12:55:04.034Z"
   },
   {
    "duration": 12,
    "start_time": "2023-01-06T12:55:06.117Z"
   },
   {
    "duration": 14,
    "start_time": "2023-01-06T12:55:06.941Z"
   },
   {
    "duration": 5,
    "start_time": "2023-01-06T12:55:07.358Z"
   },
   {
    "duration": 74,
    "start_time": "2023-01-06T12:55:07.670Z"
   },
   {
    "duration": 74,
    "start_time": "2023-01-06T12:55:08.158Z"
   },
   {
    "duration": 53,
    "start_time": "2023-01-06T12:55:08.676Z"
   },
   {
    "duration": 9,
    "start_time": "2023-01-06T12:55:10.164Z"
   },
   {
    "duration": 8,
    "start_time": "2023-01-06T12:55:10.519Z"
   },
   {
    "duration": 25,
    "start_time": "2023-01-06T12:55:15.995Z"
   },
   {
    "duration": 9,
    "start_time": "2023-01-06T12:55:16.886Z"
   },
   {
    "duration": 3,
    "start_time": "2023-01-06T12:55:33.165Z"
   },
   {
    "duration": 5,
    "start_time": "2023-01-06T12:55:34.371Z"
   },
   {
    "duration": 5,
    "start_time": "2023-01-06T12:55:35.354Z"
   },
   {
    "duration": 62,
    "start_time": "2023-01-08T13:39:33.208Z"
   },
   {
    "duration": 1065,
    "start_time": "2023-01-08T13:39:40.777Z"
   },
   {
    "duration": 762,
    "start_time": "2023-01-08T13:39:41.844Z"
   },
   {
    "duration": 21,
    "start_time": "2023-01-08T13:39:42.608Z"
   },
   {
    "duration": 15,
    "start_time": "2023-01-08T13:39:42.631Z"
   },
   {
    "duration": 13,
    "start_time": "2023-01-08T13:39:43.983Z"
   },
   {
    "duration": 16,
    "start_time": "2023-01-08T13:39:44.680Z"
   },
   {
    "duration": 3,
    "start_time": "2023-01-08T13:39:44.900Z"
   },
   {
    "duration": 65,
    "start_time": "2023-01-08T13:39:45.107Z"
   },
   {
    "duration": 73,
    "start_time": "2023-01-08T13:39:45.331Z"
   },
   {
    "duration": 55,
    "start_time": "2023-01-08T13:39:45.536Z"
   },
   {
    "duration": 9,
    "start_time": "2023-01-08T13:39:45.936Z"
   },
   {
    "duration": 9,
    "start_time": "2023-01-08T13:39:46.148Z"
   },
   {
    "duration": 16,
    "start_time": "2023-01-08T13:39:46.764Z"
   },
   {
    "duration": 9,
    "start_time": "2023-01-08T13:39:47.021Z"
   },
   {
    "duration": 4,
    "start_time": "2023-01-08T13:39:48.452Z"
   },
   {
    "duration": 6,
    "start_time": "2023-01-08T13:39:48.882Z"
   },
   {
    "duration": 7,
    "start_time": "2023-01-08T13:39:49.287Z"
   },
   {
    "duration": 8,
    "start_time": "2023-01-08T13:39:49.747Z"
   },
   {
    "duration": 810,
    "start_time": "2023-01-08T13:39:50.140Z"
   },
   {
    "duration": 15,
    "start_time": "2023-01-08T13:39:51.622Z"
   },
   {
    "duration": 9,
    "start_time": "2023-01-08T13:39:51.836Z"
   },
   {
    "duration": 7,
    "start_time": "2023-01-08T13:39:52.251Z"
   },
   {
    "duration": 10,
    "start_time": "2023-01-08T13:39:52.707Z"
   },
   {
    "duration": 4,
    "start_time": "2023-01-08T13:39:52.918Z"
   },
   {
    "duration": 16,
    "start_time": "2023-01-08T13:39:53.435Z"
   },
   {
    "duration": 13,
    "start_time": "2023-01-08T13:39:54.810Z"
   },
   {
    "duration": 10,
    "start_time": "2023-01-08T13:39:56.014Z"
   },
   {
    "duration": 41,
    "start_time": "2023-01-08T13:39:59.248Z"
   },
   {
    "duration": 65,
    "start_time": "2023-01-08T13:40:01.615Z"
   },
   {
    "duration": 18,
    "start_time": "2023-01-08T13:40:02.789Z"
   },
   {
    "duration": 418,
    "start_time": "2023-01-08T13:40:04.694Z"
   },
   {
    "duration": 11,
    "start_time": "2023-01-08T13:40:33.213Z"
   },
   {
    "duration": 4,
    "start_time": "2023-01-08T13:40:35.270Z"
   },
   {
    "duration": 9,
    "start_time": "2023-01-08T13:40:36.988Z"
   },
   {
    "duration": 13,
    "start_time": "2023-01-08T13:40:40.513Z"
   },
   {
    "duration": 10,
    "start_time": "2023-01-08T13:40:51.492Z"
   }
  ],
  "kernelspec": {
   "display_name": "Python 3 (ipykernel)",
   "language": "python",
   "name": "python3"
  },
  "language_info": {
   "codemirror_mode": {
    "name": "ipython",
    "version": 3
   },
   "file_extension": ".py",
   "mimetype": "text/x-python",
   "name": "python",
   "nbconvert_exporter": "python",
   "pygments_lexer": "ipython3",
   "version": "3.9.13"
  },
  "toc": {
   "base_numbering": 1,
   "nav_menu": {},
   "number_sections": true,
   "sideBar": true,
   "skip_h1_title": true,
   "title_cell": "Table of Contents",
   "title_sidebar": "Contents",
   "toc_cell": false,
   "toc_position": {},
   "toc_section_display": true,
   "toc_window_display": true
  }
 },
 "nbformat": 4,
 "nbformat_minor": 2
}
